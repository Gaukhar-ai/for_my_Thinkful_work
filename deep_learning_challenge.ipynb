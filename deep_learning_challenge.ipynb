{
  "nbformat": 4,
  "nbformat_minor": 0,
  "metadata": {
    "colab": {
      "name": "deep.learning.challenge.ipynb",
      "provenance": [],
      "authorship_tag": "ABX9TyPP/Yvdvc6YZaxSX8XcQ0vj",
      "include_colab_link": true
    },
    "kernelspec": {
      "name": "python3",
      "display_name": "Python 3"
    }
  },
  "cells": [
    {
      "cell_type": "markdown",
      "metadata": {
        "id": "view-in-github",
        "colab_type": "text"
      },
      "source": [
        "<a href=\"https://colab.research.google.com/github/Gaukhar-ai/for_my_Thinkful_work/blob/master/deep_learning_challenge.ipynb\" target=\"_parent\"><img src=\"https://colab.research.google.com/assets/colab-badge.svg\" alt=\"Open In Colab\"/></a>"
      ]
    },
    {
      "cell_type": "code",
      "metadata": {
        "id": "jcnYMPuvJV58",
        "outputId": "f0171843-4ce5-49e3-d7d8-f974659020b1",
        "colab": {
          "base_uri": "https://localhost:8080/"
        }
      },
      "source": [
        "import warnings\n",
        "warnings.filterwarnings(\"ignore\")\n",
        "from tensorflow.keras.datasets import mnist\n",
        "from tensorflow.keras.utils import to_categorical\n",
        "from tensorflow.keras.models import Sequential \n",
        "from tensorflow.keras.layers import Dense, Activation\n",
        "import os\n",
        "import tensorflow as tf\n",
        "import numpy as np\n",
        "import matplotlib.pyplot as plt\n",
        "from tensorflow.keras import losses\n",
        "print(tf.__version__)"
      ],
      "execution_count": 1,
      "outputs": [
        {
          "output_type": "stream",
          "text": [
            "2.3.0\n"
          ],
          "name": "stdout"
        }
      ]
    },
    {
      "cell_type": "markdown",
      "metadata": {
        "id": "1DCZEUR5J5Ad"
      },
      "source": [
        "can access the Fashion MNIST directly from TensorFlow. Import and load the Fashion MNIST data directly from TensorFlow"
      ]
    },
    {
      "cell_type": "code",
      "metadata": {
        "id": "c3VomXn0JYm-",
        "outputId": "24c3091e-8791-479a-bd5a-a835b23be4a3",
        "colab": {
          "base_uri": "https://localhost:8080/"
        }
      },
      "source": [
        "fashion_mnist = tf.keras.datasets.fashion_mnist\n",
        "\n",
        "(X_train, y_train), (X_test, y_test) = fashion_mnist.load_data()"
      ],
      "execution_count": 4,
      "outputs": [
        {
          "output_type": "stream",
          "text": [
            "Downloading data from https://storage.googleapis.com/tensorflow/tf-keras-datasets/train-labels-idx1-ubyte.gz\n",
            "32768/29515 [=================================] - 0s 0us/step\n",
            "Downloading data from https://storage.googleapis.com/tensorflow/tf-keras-datasets/train-images-idx3-ubyte.gz\n",
            "26427392/26421880 [==============================] - 0s 0us/step\n",
            "Downloading data from https://storage.googleapis.com/tensorflow/tf-keras-datasets/t10k-labels-idx1-ubyte.gz\n",
            "8192/5148 [===============================================] - 0s 0us/step\n",
            "Downloading data from https://storage.googleapis.com/tensorflow/tf-keras-datasets/t10k-images-idx3-ubyte.gz\n",
            "4423680/4422102 [==============================] - 0s 0us/step\n"
          ],
          "name": "stdout"
        }
      ]
    },
    {
      "cell_type": "markdown",
      "metadata": {
        "id": "lI9vIos2KGke"
      },
      "source": [
        "Then, we load the data and do our preprocessing:"
      ]
    },
    {
      "cell_type": "code",
      "metadata": {
        "id": "NkYgaWkyJZHs"
      },
      "source": [
        "input_dim = 784  # 28*28\n",
        "output_dim = nb_classes = 10\n",
        "batch_size = 128\n",
        "nb_epoch = 20\n",
        "\n",
        "X_train = X_train.reshape(60000, input_dim)\n",
        "X_test = X_test.reshape(10000, input_dim)\n",
        "X_train = X_train.astype('float32')\n",
        "X_test = X_test.astype('float32')\n",
        "X_train /= 255\n",
        "X_test /= 255"
      ],
      "execution_count": 5,
      "outputs": []
    },
    {
      "cell_type": "markdown",
      "metadata": {
        "id": "FhvXuOT4KR5U"
      },
      "source": [
        "Next we one hot code our target variable using to_categorical function of Keras' utils module:"
      ]
    },
    {
      "cell_type": "code",
      "metadata": {
        "id": "ww-x-zmtJZKW"
      },
      "source": [
        "from tensorflow.keras.utils import to_categorical\n",
        "\n",
        "Y_train = to_categorical(y_train, nb_classes)\n",
        "Y_test = to_categorical(y_test, nb_classes)"
      ],
      "execution_count": 6,
      "outputs": []
    },
    {
      "cell_type": "markdown",
      "metadata": {
        "id": "Fg8r7T7DKXE1"
      },
      "source": [
        "Now, let's check the size of the data:"
      ]
    },
    {
      "cell_type": "code",
      "metadata": {
        "id": "Mj8ZdzJ5JZNK",
        "outputId": "27ff518d-705a-4bdd-cc3e-90edd3f4285d",
        "colab": {
          "base_uri": "https://localhost:8080/"
        }
      },
      "source": [
        "X_train[0].shape"
      ],
      "execution_count": 7,
      "outputs": [
        {
          "output_type": "execute_result",
          "data": {
            "text/plain": [
              "(784,)"
            ]
          },
          "metadata": {
            "tags": []
          },
          "execution_count": 7
        }
      ]
    },
    {
      "cell_type": "markdown",
      "metadata": {
        "id": "UovRWPUPKdpy"
      },
      "source": [
        "So, the data we have is a flattened version of the images where each row in the 28x28 matrix is concatenated side by side."
      ]
    },
    {
      "cell_type": "code",
      "metadata": {
        "id": "_drQ6QpvJZPz",
        "outputId": "0bc8b0a2-6ebe-442f-9561-3d2dfd97cbb5",
        "colab": {
          "base_uri": "https://localhost:8080/",
          "height": 307
        }
      },
      "source": [
        "import matplotlib.pyplot as plt\n",
        "\n",
        "plt.figure(figsize=(20,5))\n",
        "\n",
        "plt.subplot(141)\n",
        "plt.imshow(X_train[123].reshape(28,28), cmap=\"gray\")\n",
        "plt.title(\"Label of the image: {}\".format(y_train[123]))\n",
        "\n",
        "plt.subplot(142)\n",
        "plt.imshow(X_train[124].reshape(28,28), cmap=\"gray\")\n",
        "plt.title(\"Label of the image: {}\".format(y_train[124]))\n",
        "\n",
        "plt.subplot(143)\n",
        "plt.imshow(X_train[125].reshape(28,28), cmap=\"gray\")\n",
        "plt.title(\"Label of the image: {}\".format(y_train[125]))\n",
        "\n",
        "plt.subplot(144)\n",
        "plt.imshow(X_train[126].reshape(28,28), cmap=\"gray\")\n",
        "plt.title(\"Label of the image: {}\".format(y_train[126]))\n",
        "\n",
        "plt.show()"
      ],
      "execution_count": 8,
      "outputs": [
        {
          "output_type": "display_data",
          "data": {
            "image/png": "[encoded data removed]",
            "text/plain": [
              "<Figure size 1440x360 with 4 Axes>"
            ]
          },
          "metadata": {
            "tags": [],
            "needs_background": "light"
          }
        }
      ]
    },
    {
      "cell_type": "code",
      "metadata": {
        "id": "UkwE0g4fJZSY"
      },
      "source": [
        "from tensorflow.keras.models import Sequential \n",
        "from tensorflow.keras.layers import Dense\n",
        "\n",
        "model = Sequential()\n",
        "# our first dense layer\n",
        "model.add(Dense(1028, input_shape=(784,), activation=\"relu\"))\n",
        "# our second dense layer\n",
        "model.add(Dense(1028, activation=\"relu\"))\n",
        "# last layer is the output layer.\n",
        "model.add(Dense(10, activation=\"softmax\"))"
      ],
      "execution_count": 9,
      "outputs": []
    },
    {
      "cell_type": "code",
      "metadata": {
        "id": "QMr-eaKkJZVR",
        "outputId": "16ffff4e-8173-4a85-a409-61551be25c04",
        "colab": {
          "base_uri": "https://localhost:8080/"
        }
      },
      "source": [
        "model.summary()"
      ],
      "execution_count": 10,
      "outputs": [
        {
          "output_type": "stream",
          "text": [
            "Model: \"sequential\"\n",
            "_________________________________________________________________\n",
            "Layer (type)                 Output Shape              Param #   \n",
            "=================================================================\n",
            "dense (Dense)                (None, 1028)              806980    \n",
            "_________________________________________________________________\n",
            "dense_1 (Dense)              (None, 1028)              1057812   \n",
            "_________________________________________________________________\n",
            "dense_2 (Dense)              (None, 10)                10290     \n",
            "=================================================================\n",
            "Total params: 1,875,082\n",
            "Trainable params: 1,875,082\n",
            "Non-trainable params: 0\n",
            "_________________________________________________________________\n"
          ],
          "name": "stdout"
        }
      ]
    },
    {
      "cell_type": "markdown",
      "metadata": {
        "id": "SbHe6_iTKvT4"
      },
      "source": [
        "Compiling the model"
      ]
    },
    {
      "cell_type": "code",
      "metadata": {
        "id": "uxlPs0BKJZYH"
      },
      "source": [
        "model.compile(optimizer='sgd', loss='categorical_crossentropy',\n",
        "              metrics=['accuracy'])"
      ],
      "execution_count": 13,
      "outputs": []
    },
    {
      "cell_type": "markdown",
      "metadata": {
        "id": "GLtwWq90LHTp"
      },
      "source": [
        "Training the model"
      ]
    },
    {
      "cell_type": "code",
      "metadata": {
        "id": "Rx3vgV6cLJnq",
        "outputId": "171eb97f-660e-4f3b-f7b6-31813cda5f5d",
        "colab": {
          "base_uri": "https://localhost:8080/"
        }
      },
      "source": [
        "model.fit(X_train, Y_train, batch_size=batch_size, epochs=20, verbose=1)"
      ],
      "execution_count": 14,
      "outputs": [
        {
          "output_type": "stream",
          "text": [
            "Epoch 1/20\n",
            "469/469 [==============================] - 15s 33ms/step - loss: 0.9573 - accuracy: 0.7166\n",
            "Epoch 2/20\n",
            "469/469 [==============================] - 15s 33ms/step - loss: 0.5990 - accuracy: 0.8061\n",
            "Epoch 3/20\n",
            "469/469 [==============================] - 15s 33ms/step - loss: 0.5269 - accuracy: 0.8243\n",
            "Epoch 4/20\n",
            "469/469 [==============================] - 16s 34ms/step - loss: 0.4892 - accuracy: 0.8344\n",
            "Epoch 5/20\n",
            "469/469 [==============================] - 16s 33ms/step - loss: 0.4666 - accuracy: 0.8399\n",
            "Epoch 6/20\n",
            "469/469 [==============================] - 15s 33ms/step - loss: 0.4483 - accuracy: 0.8466\n",
            "Epoch 7/20\n",
            "469/469 [==============================] - 15s 33ms/step - loss: 0.4368 - accuracy: 0.8493\n",
            "Epoch 8/20\n",
            "469/469 [==============================] - 15s 33ms/step - loss: 0.4255 - accuracy: 0.8536\n",
            "Epoch 9/20\n",
            "469/469 [==============================] - 15s 33ms/step - loss: 0.4160 - accuracy: 0.8561\n",
            "Epoch 10/20\n",
            "469/469 [==============================] - 15s 33ms/step - loss: 0.4074 - accuracy: 0.8596\n",
            "Epoch 11/20\n",
            "469/469 [==============================] - 15s 33ms/step - loss: 0.4010 - accuracy: 0.8612\n",
            "Epoch 12/20\n",
            "469/469 [==============================] - 15s 33ms/step - loss: 0.3947 - accuracy: 0.8633\n",
            "Epoch 13/20\n",
            "469/469 [==============================] - 15s 33ms/step - loss: 0.3870 - accuracy: 0.8662\n",
            "Epoch 14/20\n",
            "469/469 [==============================] - 15s 33ms/step - loss: 0.3823 - accuracy: 0.8675\n",
            "Epoch 15/20\n",
            "469/469 [==============================] - 15s 33ms/step - loss: 0.3771 - accuracy: 0.8690\n",
            "Epoch 16/20\n",
            "469/469 [==============================] - 15s 33ms/step - loss: 0.3722 - accuracy: 0.8709\n",
            "Epoch 17/20\n",
            "469/469 [==============================] - 15s 33ms/step - loss: 0.3684 - accuracy: 0.8719\n",
            "Epoch 18/20\n",
            "469/469 [==============================] - 15s 33ms/step - loss: 0.3633 - accuracy: 0.8735\n",
            "Epoch 19/20\n",
            "469/469 [==============================] - 15s 32ms/step - loss: 0.3596 - accuracy: 0.8747\n",
            "Epoch 20/20\n",
            "469/469 [==============================] - 15s 32ms/step - loss: 0.3553 - accuracy: 0.8760\n"
          ],
          "name": "stdout"
        },
        {
          "output_type": "execute_result",
          "data": {
            "text/plain": [
              "<tensorflow.python.keras.callbacks.History at 0x7f5abe79c0f0>"
            ]
          },
          "metadata": {
            "tags": []
          },
          "execution_count": 14
        }
      ]
    },
    {
      "cell_type": "markdown",
      "metadata": {
        "id": "ZTmqi-YSKzRK"
      },
      "source": [
        "Evaluating the model"
      ]
    },
    {
      "cell_type": "code",
      "metadata": {
        "id": "lWBRStUAJZa_",
        "outputId": "fe28cfa2-cc46-4bea-8fc1-32be2710e1e3",
        "colab": {
          "base_uri": "https://localhost:8080/"
        }
      },
      "source": [
        "score = model.evaluate(X_test, Y_test, verbose=0)\n",
        "print('Test score:', score[0])\n",
        "print('Test accuracy:', score[1])\n"
      ],
      "execution_count": 15,
      "outputs": [
        {
          "output_type": "stream",
          "text": [
            "Test score: 0.39629846811294556\n",
            "Test accuracy: 0.8590999841690063\n"
          ],
          "name": "stdout"
        }
      ]
    },
    {
      "cell_type": "markdown",
      "metadata": {
        "id": "up39ubeUMfyT"
      },
      "source": [
        "test accuracy is 85% with activation = relu, opimizer = sgd, dense 1028, loss=categorical_crossentropy. When it got to 87% didn't improve futher more, so could be stopped there. "
      ]
    },
    {
      "cell_type": "code",
      "metadata": {
        "id": "4oWbkLA7JZdh"
      },
      "source": [
        "model = Sequential()\n",
        "# our first dense layer\n",
        "model.add(Dense(1028, input_shape=(784,), activation=\"sigmoid\"))\n",
        "# our second dense layer\n",
        "model.add(Dense(1028, activation=\"sigmoid\"))\n",
        "# last layer is the output layer.\n",
        "model.add(Dense(10, activation=\"softmax\"))"
      ],
      "execution_count": 16,
      "outputs": []
    },
    {
      "cell_type": "code",
      "metadata": {
        "id": "mm6tx30kJZjh"
      },
      "source": [
        "model.compile(optimizer='adam', loss='hinge',\n",
        "              metrics=['accuracy'])"
      ],
      "execution_count": 19,
      "outputs": []
    },
    {
      "cell_type": "code",
      "metadata": {
        "id": "6WTCx5gpJZms",
        "outputId": "5ba8cd59-cac6-4646-e930-bef73044140a",
        "colab": {
          "base_uri": "https://localhost:8080/"
        }
      },
      "source": [
        "model.fit(X_train, Y_train, batch_size=batch_size, epochs=20, verbose=1)"
      ],
      "execution_count": 22,
      "outputs": [
        {
          "output_type": "stream",
          "text": [
            "Epoch 1/20\n",
            "469/469 [==============================] - 17s 36ms/step - loss: 1.0800 - accuracy: 0.1000\n",
            "Epoch 2/20\n",
            "469/469 [==============================] - 17s 36ms/step - loss: 1.0800 - accuracy: 0.1000\n",
            "Epoch 3/20\n",
            "469/469 [==============================] - 17s 36ms/step - loss: 1.0800 - accuracy: 0.1000\n",
            "Epoch 4/20\n",
            "469/469 [==============================] - 17s 36ms/step - loss: 1.0800 - accuracy: 0.1000\n",
            "Epoch 5/20\n",
            "469/469 [==============================] - 17s 36ms/step - loss: 1.0800 - accuracy: 0.1000\n",
            "Epoch 6/20\n",
            "469/469 [==============================] - 17s 36ms/step - loss: 1.0800 - accuracy: 0.1000\n",
            "Epoch 7/20\n",
            "469/469 [==============================] - 17s 36ms/step - loss: 1.0800 - accuracy: 0.1000\n",
            "Epoch 8/20\n",
            "469/469 [==============================] - 17s 36ms/step - loss: 1.0800 - accuracy: 0.1000\n",
            "Epoch 9/20\n",
            "469/469 [==============================] - 17s 35ms/step - loss: 1.0800 - accuracy: 0.1000\n",
            "Epoch 10/20\n",
            "469/469 [==============================] - 17s 36ms/step - loss: 1.0800 - accuracy: 0.1000\n",
            "Epoch 11/20\n",
            "469/469 [==============================] - 17s 36ms/step - loss: 1.0800 - accuracy: 0.1000\n",
            "Epoch 12/20\n",
            "469/469 [==============================] - 17s 36ms/step - loss: 1.0800 - accuracy: 0.1000\n",
            "Epoch 13/20\n",
            "469/469 [==============================] - 17s 36ms/step - loss: 1.0800 - accuracy: 0.1000\n",
            "Epoch 14/20\n",
            "469/469 [==============================] - 17s 36ms/step - loss: 1.0800 - accuracy: 0.1000\n",
            "Epoch 15/20\n",
            "469/469 [==============================] - 17s 36ms/step - loss: 1.0800 - accuracy: 0.1000\n",
            "Epoch 16/20\n",
            "469/469 [==============================] - 17s 37ms/step - loss: 1.0800 - accuracy: 0.1000\n",
            "Epoch 17/20\n",
            "469/469 [==============================] - 17s 37ms/step - loss: 1.0800 - accuracy: 0.1000\n",
            "Epoch 18/20\n",
            "469/469 [==============================] - 17s 36ms/step - loss: 1.0800 - accuracy: 0.1000\n",
            "Epoch 19/20\n",
            "469/469 [==============================] - 17s 36ms/step - loss: 1.0800 - accuracy: 0.1000\n",
            "Epoch 20/20\n",
            "469/469 [==============================] - 17s 36ms/step - loss: 1.0800 - accuracy: 0.1000\n"
          ],
          "name": "stdout"
        },
        {
          "output_type": "execute_result",
          "data": {
            "text/plain": [
              "<tensorflow.python.keras.callbacks.History at 0x7f5a80062cf8>"
            ]
          },
          "metadata": {
            "tags": []
          },
          "execution_count": 22
        }
      ]
    },
    {
      "cell_type": "code",
      "metadata": {
        "id": "JUAwQlJQJZpY",
        "outputId": "f7105af6-0934-46db-98c2-257a0b8b9aa1",
        "colab": {
          "base_uri": "https://localhost:8080/"
        }
      },
      "source": [
        "score = model.evaluate(X_test, Y_test, verbose=0)\n",
        "print('Test score:', score[0])\n",
        "print('Test accuracy:', score[1])"
      ],
      "execution_count": 23,
      "outputs": [
        {
          "output_type": "stream",
          "text": [
            "Test score: 1.0799994468688965\n",
            "Test accuracy: 0.10000000149011612\n"
          ],
          "name": "stdout"
        }
      ]
    },
    {
      "cell_type": "markdown",
      "metadata": {
        "id": "dtjXOmpKQQpF"
      },
      "source": [
        "This model acts strange, got to 100% right away and the rest was not necessary. I'm not sure if the model gets to 100% usually, so little skeptic, took longer too, to run. So far it's the best model, needs futher investigation though. "
      ]
    },
    {
      "cell_type": "code",
      "metadata": {
        "id": "27tNlz5JJZtr"
      },
      "source": [
        "model = Sequential()\n",
        "# our first dense layer\n",
        "model.add(Dense(64, input_shape=(784,), activation=\"tanh\"))\n",
        "# our second dense layer\n",
        "model.add(Dense(32, activation=\"tanh\"))\n",
        "# last layer is the output layer.\n",
        "model.add(Dense(10, activation=\"softmax\"))"
      ],
      "execution_count": 24,
      "outputs": []
    },
    {
      "cell_type": "code",
      "metadata": {
        "id": "skj38qAfRUt6"
      },
      "source": [
        "model.compile(optimizer='sgd', loss='hinge',\n",
        "              metrics=['accuracy'])"
      ],
      "execution_count": 25,
      "outputs": []
    },
    {
      "cell_type": "code",
      "metadata": {
        "id": "HZO4aMpmRdhZ",
        "outputId": "9235c0f9-53a2-4a6c-bbfa-7c53e8d6fc12",
        "colab": {
          "base_uri": "https://localhost:8080/"
        }
      },
      "source": [
        "model.fit(X_train, Y_train, batch_size=batch_size, epochs=20, verbose=1)"
      ],
      "execution_count": 26,
      "outputs": [
        {
          "output_type": "stream",
          "text": [
            "Epoch 1/20\n",
            "469/469 [==============================] - 1s 2ms/step - loss: 1.0777 - accuracy: 0.1367\n",
            "Epoch 2/20\n",
            "469/469 [==============================] - 1s 2ms/step - loss: 1.0693 - accuracy: 0.2488\n",
            "Epoch 3/20\n",
            "469/469 [==============================] - 1s 2ms/step - loss: 1.0579 - accuracy: 0.3442\n",
            "Epoch 4/20\n",
            "469/469 [==============================] - 1s 2ms/step - loss: 1.0467 - accuracy: 0.4083\n",
            "Epoch 5/20\n",
            "469/469 [==============================] - 1s 2ms/step - loss: 1.0367 - accuracy: 0.4697\n",
            "Epoch 6/20\n",
            "469/469 [==============================] - 1s 2ms/step - loss: 1.0280 - accuracy: 0.5194\n",
            "Epoch 7/20\n",
            "469/469 [==============================] - 1s 2ms/step - loss: 1.0206 - accuracy: 0.5752\n",
            "Epoch 8/20\n",
            "469/469 [==============================] - 1s 2ms/step - loss: 1.0140 - accuracy: 0.6028\n",
            "Epoch 9/20\n",
            "469/469 [==============================] - 1s 3ms/step - loss: 1.0082 - accuracy: 0.6158\n",
            "Epoch 10/20\n",
            "469/469 [==============================] - 1s 3ms/step - loss: 1.0034 - accuracy: 0.6210\n",
            "Epoch 11/20\n",
            "469/469 [==============================] - 1s 3ms/step - loss: 0.9994 - accuracy: 0.6237\n",
            "Epoch 12/20\n",
            "469/469 [==============================] - 1s 3ms/step - loss: 0.9962 - accuracy: 0.6253\n",
            "Epoch 13/20\n",
            "469/469 [==============================] - 1s 3ms/step - loss: 0.9936 - accuracy: 0.6265\n",
            "Epoch 14/20\n",
            "469/469 [==============================] - 1s 3ms/step - loss: 0.9915 - accuracy: 0.6275\n",
            "Epoch 15/20\n",
            "469/469 [==============================] - 1s 3ms/step - loss: 0.9897 - accuracy: 0.6280\n",
            "Epoch 16/20\n",
            "469/469 [==============================] - 1s 3ms/step - loss: 0.9882 - accuracy: 0.6287\n",
            "Epoch 17/20\n",
            "469/469 [==============================] - 1s 3ms/step - loss: 0.9869 - accuracy: 0.6292\n",
            "Epoch 18/20\n",
            "469/469 [==============================] - 1s 3ms/step - loss: 0.9858 - accuracy: 0.6301\n",
            "Epoch 19/20\n",
            "469/469 [==============================] - 1s 3ms/step - loss: 0.9848 - accuracy: 0.6308\n",
            "Epoch 20/20\n",
            "469/469 [==============================] - 1s 3ms/step - loss: 0.9839 - accuracy: 0.6313\n"
          ],
          "name": "stdout"
        },
        {
          "output_type": "execute_result",
          "data": {
            "text/plain": [
              "<tensorflow.python.keras.callbacks.History at 0x7f5a7c77e828>"
            ]
          },
          "metadata": {
            "tags": []
          },
          "execution_count": 26
        }
      ]
    },
    {
      "cell_type": "code",
      "metadata": {
        "id": "clqg20zDRh-A",
        "outputId": "2f4534f4-ed02-403f-bb32-936aa72e7570",
        "colab": {
          "base_uri": "https://localhost:8080/"
        }
      },
      "source": [
        "score = model.evaluate(X_test, Y_test, verbose=0)\n",
        "print('Test score:', score[0])\n",
        "print('Test accuracy:', score[1])"
      ],
      "execution_count": 27,
      "outputs": [
        {
          "output_type": "stream",
          "text": [
            "Test score: 0.9841978549957275\n",
            "Test accuracy: 0.6269999742507935\n"
          ],
          "name": "stdout"
        }
      ]
    },
    {
      "cell_type": "markdown",
      "metadata": {
        "id": "4m1upkj5RuR9"
      },
      "source": [
        "Accuracy is 63% was much faster since i had less number of dense. Activation = tanh, optimizer='sgd', loss='hinge'. "
      ]
    },
    {
      "cell_type": "markdown",
      "metadata": {
        "id": "1LXCgv96SENI"
      },
      "source": [
        "So far the best performer is the second model with a 100% accuracy. Success!"
      ]
    },
    {
      "cell_type": "code",
      "metadata": {
        "id": "D_fdpGCbRsXH"
      },
      "source": [
        ""
      ],
      "execution_count": null,
      "outputs": []
    }
  ]
}