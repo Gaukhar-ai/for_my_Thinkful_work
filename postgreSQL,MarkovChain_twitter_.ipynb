{
  "nbformat": 4,
  "nbformat_minor": 0,
  "metadata": {
    "colab": {
      "name": "postgreSQL,MarkovChain.twitter..ipynb",
      "provenance": [],
      "collapsed_sections": [],
      "include_colab_link": true
    },
    "kernelspec": {
      "display_name": "Python 3",
      "language": "python",
      "name": "python3"
    },
    "language_info": {
      "codemirror_mode": {
        "name": "ipython",
        "version": 3
      },
      "file_extension": ".py",
      "mimetype": "text/x-python",
      "name": "python",
      "nbconvert_exporter": "python",
      "pygments_lexer": "ipython3",
      "version": "3.7.1"
    },
    "latex_envs": {
      "LaTeX_envs_menu_present": true,
      "autoclose": false,
      "autocomplete": true,
      "bibliofile": "biblio.bib",
      "cite_by": "apalike",
      "current_citInitial": 1,
      "eqLabelWithNumbers": true,
      "eqNumInitial": 1,
      "hotkeys": {
        "equation": "Ctrl-E",
        "itemize": "Ctrl-I"
      },
      "labels_anchors": false,
      "latex_user_defs": false,
      "report_style_numbering": false,
      "user_envs_cfg": false
    },
    "varInspector": {
      "cols": {
        "lenName": 16,
        "lenType": 16,
        "lenVar": 40
      },
      "kernels_config": {
        "python": {
          "delete_cmd_postfix": "",
          "delete_cmd_prefix": "del ",
          "library": "var_list.py",
          "varRefreshCmd": "print(var_dic_list())"
        },
        "r": {
          "delete_cmd_postfix": ") ",
          "delete_cmd_prefix": "rm(",
          "library": "var_list.r",
          "varRefreshCmd": "cat(var_dic_list()) "
        }
      },
      "types_to_exclude": [
        "module",
        "function",
        "builtin_function_or_method",
        "instance",
        "_Feature"
      ],
      "window_display": false
    }
  },
  "cells": [
    {
      "cell_type": "markdown",
      "metadata": {
        "id": "view-in-github",
        "colab_type": "text"
      },
      "source": [
        "<a href=\"https://colab.research.google.com/github/Gaukhar-ai/for_my_Thinkful_work/blob/master/postgreSQL%2CMarkovChain_twitter_.ipynb\" target=\"_parent\"><img src=\"https://colab.research.google.com/assets/colab-badge.svg\" alt=\"Open In Colab\"/></a>"
      ]
    },
    {
      "cell_type": "markdown",
      "metadata": {
        "id": "x4FBYk5Uc1WZ"
      },
      "source": [
        "# Solutions to Checkpoint 8"
      ]
    },
    {
      "cell_type": "markdown",
      "metadata": {
        "id": "_NWgmGEic1Wb"
      },
      "source": [
        "## 1. First, make some data preprocessing to clean up the data if you feel necessary. You can use your solution to the assignment of the data preprocessing checkpoint of this module."
      ]
    },
    {
      "cell_type": "code",
      "metadata": {
        "id": "ZtYZ84I1gf73",
        "outputId": "732ea3c8-7ae6-42a4-f622-6f1beb9ad603",
        "colab": {
          "base_uri": "https://localhost:8080/",
          "height": 156
        }
      },
      "source": [
        "import matplotlib.pyplot as plt\n",
        "import pandas as pd\n",
        "from sqlalchemy import create_engine\n",
        "import spacy\n",
        "import markovify\n",
        "\n",
        "\n",
        "import warnings\n",
        "warnings.filterwarnings(action=\"ignore\")\n",
        "\n",
        "!python -m spacy download en"
      ],
      "execution_count": null,
      "outputs": [
        {
          "output_type": "stream",
          "text": [
            "Requirement already satisfied: en_core_web_sm==2.1.0 from https://github.com/explosion/spacy-models/releases/download/en_core_web_sm-2.1.0/en_core_web_sm-2.1.0.tar.gz#egg=en_core_web_sm==2.1.0 in /usr/local/lib/python3.6/dist-packages (2.1.0)\n",
            "\u001b[38;5;2m✔ Download and installation successful\u001b[0m\n",
            "You can now load the model via spacy.load('en_core_web_sm')\n",
            "\u001b[38;5;2m✔ Linking successful\u001b[0m\n",
            "/usr/local/lib/python3.6/dist-packages/en_core_web_sm -->\n",
            "/usr/local/lib/python3.6/dist-packages/spacy/data/en\n",
            "You can now load the model via spacy.load('en')\n"
          ],
          "name": "stdout"
        }
      ]
    },
    {
      "cell_type": "code",
      "metadata": {
        "id": "9iLS9bRXWKpD"
      },
      "source": [
        "postgres_user = 'dsbc_student'\n",
        "postgres_pw = '7*.8G9QH21'\n",
        "postgres_host = '142.93.121.174'\n",
        "postgres_port = '5432'\n",
        "postgres_db = 'twitter_sentiment'\n",
        "\n",
        "engine = create_engine('postgresql://{}:{}@{}:{}/{}'.format(\n",
        "    postgres_user, postgres_pw, postgres_host, postgres_port, postgres_db))\n",
        "\n",
        "tweets_df = pd.read_sql_query('select * from twitter',con=engine)\n",
        "\n",
        "# no need for an open connection, as we're only doing a single query\n",
        "engine.dispose()"
      ],
      "execution_count": null,
      "outputs": []
    },
    {
      "cell_type": "code",
      "metadata": {
        "id": "kPgxcStugk-n"
      },
      "source": [
        "nlp = spacy.load('en')\n",
        "\n",
        "# below is necessary to avoid memory error of SpaCy\n",
        "nlp.max_length = 20000000\n",
        "\n",
        "# all the processing work is done below, so it may take a while\n",
        "twitter_doc = nlp(\" \".join(tweets_df.text))"
      ],
      "execution_count": null,
      "outputs": []
    },
    {
      "cell_type": "markdown",
      "metadata": {
        "id": "ZGm7zTogc1Wc"
      },
      "source": [
        "## 2. Train a Markov chain model by using only the negative sentiment tweets. Generate some random sentences. Are the generated sentences exhibit the same negative sentiment?"
      ]
    },
    {
      "cell_type": "code",
      "metadata": {
        "id": "jnm5jUjTg5wG",
        "scrolled": true,
        "outputId": "9d5cb647-dc03-4dc3-f51a-04df63fda057",
        "colab": {
          "base_uri": "https://localhost:8080/",
          "height": 717
        }
      },
      "source": [
        "# all the processing work is done below, so it may take a while\n",
        "twitter_negative_doc = nlp(\" \".join(tweets_df[tweets_df[\"airline_sentiment\"]==\"negative\"].text))\n",
        "\n",
        "tweet_negative_sents = \" \".join([sent.text for sent in twitter_negative_doc.sents if len(sent.text) > 1])\n",
        "\n",
        "tweet_negative_generator = markovify.Text(tweet_negative_sents, state_size = 3)\n",
        "\n",
        "# three randomly generated negative sentences\n",
        "for i in range(20):\n",
        "    print(tweet_negative_generator.make_sentence(tries=100))\n",
        "\n",
        "# three randomly-generated negative sentences of no more than 100 characters\n",
        "for i in range(20):\n",
        "    print(tweet_negative_generator.make_short_sentence(100, tries=100))"
      ],
      "execution_count": null,
      "outputs": [
        {
          "output_type": "stream",
          "text": [
            "@united when will I learn @AmericanAir that would be limited to 70oz, correct?\n",
            "Still, I gave up http://t.co/2eDgc6TbLs @USAirways I've been on hold for 2 hours to talk with an agent to reschedule Cancelled Flightled flight.\n",
            "Even if I have to miss a wedding.\n",
            "@AmericanAir we did for the last 30 minutes.\n",
            "I rarely post about a company or service, but I am not the only one who had to look that up?\n",
            "#Cheap #WorstAirline @united why is my flight grounded?\n",
            "Then customer service never us SW again @SouthwestAir stuck in NYC flights Cancelled Flightled in one week?! Customer Service is 💩💩💩💩 @SouthwestAir I have been sitting in #UA4753 on the tarmac for 90+ mins and missing my PHX - BOS connection?\n",
            "#allrepresentativesbusy #nooption @AmericanAir I tried that &amp; they have been disrespectful not professional &amp; my 2nd flight is still on time - HELP!\n",
            "My girlfriend Amy Lloyd is going to go, you fail!\n",
            "@JetBlue no excuse though for 3 gate changes on top of no free tv on the int’l leg, now I’m sitting on the tarmac while they move a plane from Boston.\n",
            "Our flight got Cancelled Flightled and now I got an email from your memphis station hopefully they have my bag.\n",
            "I've been trying to book a flight.\n",
            "@USAirways I would happily do.\n",
            "@USAirways half an inch of snow in Charlotte #overwhelming @USAirways Already filed a report and were treated rather rudely at midway baggage claim.\n",
            "My 5:50 flight just got Cancelled Flightled 6 hrs before takeoff.\n",
            "It's not giving me the time to go there, knowing what the issue was, only for me to stop flying JetBlue.\n",
            "@united crashed trying to check in to a flight from Oakland to SNA at 7:30, and I asked if that was SOP, and they said I didn't report it soon enough.\n",
            "!! @united fair enough, but it stinks to be the passenger on the plane for another hour so only have 24 mins to transit at LAX...\n",
            "@united $7 for wifi just so I can go back to @Delta @united flt.\n",
            "Poor service at Miami @AmericanAir an hour now for a pilot AA3688.\n",
            "My flight is delayed due to operational difficulties-what does that mean?\n",
            "Running out of $ but SWA no help @SouthwestAir that's gotta be a new entertainment fee.\n",
            "1st cls empty &amp; they won't let me send a DM because they don't follow me..\n",
            "@united I am signed up for all options.\n",
            "@united Stop pretending you care about your customers.\n",
            "What can we do that?\n",
            "Hung up on by customer service after AA lost my bag.\n",
            "@AmericanAir @TheNateK I submitted a doctor's note.\n",
            "My bags are in Houston.\n",
            "We don't want to change ticket.\n",
            "Follow me so I can speak to someone about lost luggage.\n",
            "Tk over 8 hrs yest to spk to a live agent before I lose my place.\n",
            "#furious @SouthwestAir been holding for over 2 hrs.\n",
            "@SouthwestAir ridiculous how you want to fly with you.\n",
            "On phone hold for 30+ mins only to have my call.\n",
            "Said I was confirmed on flight out of LAX to CMH on Feb 23.\n",
            "1k and time to find a hotel to stay in.\n",
            "@USAirways and when will one of these on every flight is like this.\n",
            "@AmericanAir I was supposed to be in nyc. schedule more flights tomorrow!\n",
            "Held up for almost 45 minutes and moved two feet in BZE.\n"
          ],
          "name": "stdout"
        }
      ]
    },
    {
      "cell_type": "markdown",
      "metadata": {
        "id": "B-YLABm2WKpL"
      },
      "source": [
        "Clearly the generated tweets show a negative sentiment."
      ]
    },
    {
      "cell_type": "markdown",
      "metadata": {
        "id": "43tB51kkc1Wc"
      },
      "source": [
        "## 3. Do the previous task this time bu using only the positive sentiment tweets. Generate some random sentences and observe whether they exhibit positive sentiment or not."
      ]
    },
    {
      "cell_type": "code",
      "metadata": {
        "id": "7gHrlrXphfFl",
        "scrolled": true,
        "outputId": "ededf22f-49a5-48c6-82f7-035d22236d90",
        "colab": {
          "base_uri": "https://localhost:8080/",
          "height": 717
        }
      },
      "source": [
        "# all the processing work is done below, so it may take a while\n",
        "twitter_positive_doc = nlp(\" \".join(tweets_df[tweets_df[\"airline_sentiment\"]==\"positive\"].text))\n",
        "\n",
        "tweet_positive_sents = \" \".join([sent.text for sent in twitter_positive_doc.sents if len(sent.text) > 1])\n",
        "\n",
        "tweet_positive_generator = markovify.Text(tweet_positive_sents, state_size = 3)\n",
        "\n",
        "# three randomly generated sentences\n",
        "for i in range(20):\n",
        "    print(tweet_positive_generator.make_sentence(tries=100))\n",
        "\n",
        "# three randomly-generated sentences of no more than 100 characters\n",
        "for i in range(20):\n",
        "    print(tweet_positive_generator.make_short_sentence(100, tries=100))"
      ],
      "execution_count": null,
      "outputs": [
        {
          "output_type": "stream",
          "text": [
            "We look forward to those direct flights to California to see my family each year!!!! @JetBlue thanks JB!! This is why I fly @SouthwestAir in a few days.\n",
            "@AmericanAir no space in my seat but thanks to your outstanding NYC-JFK crew who moved mountains to get me back on my Raleigh flight @united Was able to get U.K. agent to help me, thanks.\n",
            "@SouthwestAir What can we do to bring you free digital access onboard! http://t.co/0LiwEcAsOe @JetBlue OOH!\n",
            "I know everyone is working hard to get us out of the snow.\n",
            "@USAirways YOU ARE AMAZING!!! YOU ARE THE EASIEST AIRLINE TO DEAL WITH..\n",
            "#livethelegend @JetBlue on the plane to DFW!\n",
            "@SouthwestAir So far so good.\n",
            "@VirginAmerica thanks for the kind words, Janna!\n",
            "#RaganDisney @SouthwestAir oh my gosh!\n",
            "@AmericanAir Well, you guys are lucky I love you guys!\n",
            "If only it was avail on my next leg to Munich.\n",
            "Let her know she wasappreciated @united - thanks for making my flights comfortable.\n",
            "Had to take a trip!\n",
            "I ❤ your company and your staff is great!\n",
            "@ProfessorpaUL15 : please DM me your confirmation number for assistance.\n",
            "@USAirways Thank you!!! On our way to get me rebooked @USAirways I love you @JetBlue thank you @JetBlue loved the service from the staff at Newark today.\n",
            "Just wanted to see if you have any idea what tail is operating flt 606 2maro?\n",
            "@united and they were able to get U.K. agent to help me, thanks.\n",
            "@VirginAmerica I love this graphic. http://t.co/UT5GrRwAaA @VirginAmerica I love the dancing little richard. cool beans.\n",
            "@JetBlue thank you @JetBlue @L_Burley11 -- the best!!! @JetBlue thanks for the upgrade today great way to start my week!\n",
            "@united thank you for the first time in forever.\n",
            "@SouthwestAir thanks for an awesome flight Dallas 2 NY.\n",
            "@AmericanAir I FOUND MY FOOTAGE!! :D I am so going to miss US Airways.\n",
            "@united Thank you but the person in Houston could only get me a better seat on my next flight.\n",
            "Gladys in San Juan early.\n",
            "@united appreciate the sentiment and you were able to get on their plane to blue skies &amp; sea.\n",
            "@JetBlue of course !!!! @JetBlue thank you will do!! You guy are awesome!\n",
            "How will you be able to leave and get to JFK?\n",
            "I hope you expand to other airports soon so I can have a friend travel next time!\n",
            "I appreciate ya'll working to get my stranded family home.\n",
            "Thank you! http://t.co/vGN2X1ckg0 @united thank you for doing the best u can.\n",
            "1st time flying with you.\n",
            "Kudos to you for replying.\n",
            "Appreciate the response @united thank you for reaching out @USAirways thanks very much!\n",
            "@SouthwestAir big thanks to the gate agent at C14 in Charlotte boarding flight 1791.\n",
            "#patience #luvswa Never got to the airport the rebooked ticket was refunded.\n",
            "Also looks like you opened some up on my flight right now, thanks!! @USAirways We're back at a gate.\n",
            "Now we just need to be outside.\n",
            "@AmericanAir AA2416 on time and arrive early!\n",
            "@JetBlue Thanks for the help.\n"
          ],
          "name": "stdout"
        }
      ]
    },
    {
      "cell_type": "markdown",
      "metadata": {
        "id": "Da9cLzTGWKpP"
      },
      "source": [
        "This time we observe positive sentiments generally."
      ]
    },
    {
      "cell_type": "markdown",
      "metadata": {
        "id": "Xi2_3NgVc1Wd"
      },
      "source": [
        "## 4. This time train your Markov chain model using all the tweets and generate some random sentences. Can you say something systematic about the sentiments of the generated tweets?"
      ]
    },
    {
      "cell_type": "code",
      "metadata": {
        "id": "_qdBaoneigDH",
        "scrolled": true,
        "outputId": "ce02a431-32dd-4d40-c858-f28dcef7da0a",
        "colab": {
          "base_uri": "https://localhost:8080/",
          "height": 717
        }
      },
      "source": [
        "# all the processing work is done below, so it may take a while\n",
        "twitter_doc = nlp(\" \".join(tweets_df.text))\n",
        "\n",
        "tweet_sents = \" \".join([sent.text for sent in twitter_doc.sents if len(sent.text) > 1])\n",
        "\n",
        "tweet_generator = markovify.Text(tweet_sents, state_size = 3)\n",
        "\n",
        "# three randomly generated sentences\n",
        "for i in range(20):\n",
        "    print(tweet_generator.make_sentence(tries=100))\n",
        "\n",
        "# three randomly-generated sentences of no more than 100 characters\n",
        "for i in range(20):\n",
        "    print(tweet_generator.make_short_sentence(100, tries=100))"
      ],
      "execution_count": null,
      "outputs": [
        {
          "output_type": "stream",
          "text": [
            "No clear answer on why we weren't alerted flight had been moved back a day?\n",
            "@JetBlue trying to charge us $550 dollars cash for tickets we paid for due to lack of crew and now delayed flights because the equipment isn't working!\n",
            "@USAirways @AmericanAir Also your on-hold message is trying to get through to reservations!\n",
            "Just spent an extra 7 hrs in 4 days that my flight has been delayed &amp; scheduled to arrive after my connection departs.\n",
            "@JetBlue What's your excuse this time for 1117 delay from LGA to ORD but no power outlets?\n",
            "@USAirways is really good at the apology game!\n",
            "@AmericanAir - Appreciate your system is busy but when I asked what was the problem?\n",
            "@JetBlue @fllairport best way to re-unite me with my DM's?\n",
            "I know it's a busy for you today but it was a software bug.\n",
            "I was told at 7pm my bags would go to MKE today.\n",
            "@AmericanAir Group Cancelled Flights close to a thousand #flights Monday http://t.co/v1RADYKEP2 @AmericanAir it's been almost 2 weeks and still no solution.\n",
            "@JetBlue is there also a way I can get the credit for my troubles but the lack of consideration of an announcement made so Late Flight when I was told my ticket had been refunded because my name had a fraud alert.\n",
            "@united your airline is folding.\n",
            "@AmericanAir is that something the crew on UA1745 were amazing today.\n",
            "@SouthwestAir Thanks for getting me home in time.\n",
            "But customer service has been awful in Boston and I had to sit elsewhere.\n",
            "Unable to check in several hundred and the line is too busy to take my call... guys this is insane .@USAirways Can't book a flight to Vegas on Sunday!\n",
            "I've been stuck in Dallas 2 days will my flight get out in this ice to catch FLT 456 to PHX.\n",
            "#filmcrew #media @WSJ @nytimes @latimes @chicagotribune @AmericanAir tell me you were snowbound in PBI.\n",
            "Great @ delivering empty promises but not luggage #8hrs&amp;waiting @USAirways 1st flight with miles +2nd with UMP Visa?\n",
            "Will be missing my flight and you just hang up on me all day.\n",
            "Would have not been rebooked.\n",
            "Or transport to alternate city we are flying into IAD tomorrow evening.\n",
            "@JetBlue don't just cling on to the travel advisory?? @SouthwestAir Tough I can take.\n",
            "Not to mention there is no definition to space.\n",
            "Don't even respond to your website until I saw the same prices each time I searched.\n",
            "#united @united Aw, thanks for the canned reply.\n",
            "Will I be automatically upgraded?\n",
            "I get staff stressors but come on, this is your job, don't give me the code.\n",
            "@united dmangen@visualclubconcepts.com @united if I was rebooked but sucked big time.\n",
            "Now we have been sitting here for 45 minutes, and can't do it online?\n",
            "It's like N/A for a week for a response to my online complaint/questions.\n",
            "Once safely in the air, of course @united Surprised to go from YVR to SEA and overnight.\n",
            "Any chance of making #561?\n",
            "Family of 4 trying to get a supervisor.\n",
            "Is that all I need to move a reservation due to weather in JFK.\n",
            "No one is answering the phones and the website is having issues today.\n",
            "#gottogetbetter @united Apart from being on hold for over an hour waiting without an answer.\n",
            "That's the best flight I have on my Amex not the 656.xx that I keep getting hung up on. oh my god.\n",
            "Sorry, I thought I was going to jfk.\n"
          ],
          "name": "stdout"
        }
      ]
    },
    {
      "cell_type": "markdown",
      "metadata": {
        "id": "FMyGELWrWKpT"
      },
      "source": [
        "We can see both positive and negative sentiments this time."
      ]
    }
  ]
}