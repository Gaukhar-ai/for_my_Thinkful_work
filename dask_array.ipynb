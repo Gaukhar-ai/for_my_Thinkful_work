{
  "nbformat": 4,
  "nbformat_minor": 0,
  "metadata": {
    "kernelspec": {
      "display_name": "Python 3",
      "language": "python",
      "name": "python3"
    },
    "language_info": {
      "codemirror_mode": {
        "name": "ipython",
        "version": 3
      },
      "file_extension": ".py",
      "mimetype": "text/x-python",
      "name": "python",
      "nbconvert_exporter": "python",
      "pygments_lexer": "ipython3",
      "version": "3.7.1"
    },
    "latex_envs": {
      "LaTeX_envs_menu_present": true,
      "autoclose": false,
      "autocomplete": true,
      "bibliofile": "biblio.bib",
      "cite_by": "apalike",
      "current_citInitial": 1,
      "eqLabelWithNumbers": true,
      "eqNumInitial": 1,
      "hotkeys": {
        "equation": "Ctrl-E",
        "itemize": "Ctrl-I"
      },
      "labels_anchors": false,
      "latex_user_defs": false,
      "report_style_numbering": false,
      "user_envs_cfg": false
    },
    "varInspector": {
      "cols": {
        "lenName": 16,
        "lenType": 16,
        "lenVar": 40
      },
      "kernels_config": {
        "python": {
          "delete_cmd_postfix": "",
          "delete_cmd_prefix": "del ",
          "library": "var_list.py",
          "varRefreshCmd": "print(var_dic_list())"
        },
        "r": {
          "delete_cmd_postfix": ") ",
          "delete_cmd_prefix": "rm(",
          "library": "var_list.r",
          "varRefreshCmd": "cat(var_dic_list()) "
        }
      },
      "types_to_exclude": [
        "module",
        "function",
        "builtin_function_or_method",
        "instance",
        "_Feature"
      ],
      "window_display": false
    },
    "colab": {
      "name": "dask_array.ipynb",
      "provenance": [],
      "include_colab_link": true
    }
  },
  "cells": [
    {
      "cell_type": "markdown",
      "metadata": {
        "id": "view-in-github",
        "colab_type": "text"
      },
      "source": [
        "<a href=\"https://colab.research.google.com/github/Gaukhar-ai/for_my_Thinkful_work/blob/master/dask_array.ipynb\" target=\"_parent\"><img src=\"https://colab.research.google.com/assets/colab-badge.svg\" alt=\"Open In Colab\"/></a>"
      ]
    },
    {
      "cell_type": "markdown",
      "metadata": {
        "id": "tCb7i7LiON4V"
      },
      "source": [
        "# Solutions to checkpoint 4"
      ]
    },
    {
      "cell_type": "markdown",
      "metadata": {
        "id": "y6c1IgfoON4W"
      },
      "source": [
        "In the following exercises, you'll be working with the code snippet below:\n",
        "\n",
        "```python\n",
        "%%timeit\n",
        "x = da.random.random((10000, 10000), chunks=(1000, 1000))\n",
        "y = x + x.T\n",
        "z = y[::2, 5000:].mean(axis=1)\n",
        "z.compute()\n",
        "```\n",
        "\n",
        "Please submit your solutions to the following tasks as a link to your jupyter notebook on Github."
      ]
    },
    {
      "cell_type": "code",
      "metadata": {
        "id": "hKVimAcCON4X"
      },
      "source": [
        "import dask.array as da"
      ],
      "execution_count": 1,
      "outputs": []
    },
    {
      "cell_type": "markdown",
      "metadata": {
        "id": "25wnipQeON4b"
      },
      "source": [
        "## 1. Change the code above by setting `chunks=(250, 250)`. How long does it take to run?"
      ]
    },
    {
      "cell_type": "code",
      "metadata": {
        "id": "pbW6B-gaON4b",
        "outputId": "b2988872-24b4-4205-8b12-4c65c4e7d0fb",
        "colab": {
          "base_uri": "https://localhost:8080/"
        }
      },
      "source": [
        "%%timeit\n",
        "x = da.random.random((10000, 10000), chunks=(250, 250))\n",
        "y = x + x.T\n",
        "z = y[::2, 5000:].mean(axis=1)\n",
        "z.compute()"
      ],
      "execution_count": 2,
      "outputs": [
        {
          "output_type": "stream",
          "text": [
            "1 loop, best of 3: 1.88 s per loop\n"
          ],
          "name": "stdout"
        }
      ]
    },
    {
      "cell_type": "markdown",
      "metadata": {
        "id": "UYiEx2uUON4e"
      },
      "source": [
        "It took around 1.88 seconds or 1230 milliseconds.\n",
        "\n",
        "*   List item\n",
        "*   List item\n",
        "\n"
      ]
    },
    {
      "cell_type": "markdown",
      "metadata": {
        "id": "o2R2SxN1ON4f"
      },
      "source": [
        "## 2. Now, set the parameter to `chunks=(500, 500)`. How long does it take to run? Does this one or the previous one run quickly? Why?"
      ]
    },
    {
      "cell_type": "code",
      "metadata": {
        "id": "dLm3TvwAON4f",
        "outputId": "862d3fe2-c922-4969-d900-d203b2a7a328",
        "colab": {
          "base_uri": "https://localhost:8080/"
        }
      },
      "source": [
        "%%timeit\n",
        "x = da.random.random((10000, 10000), chunks=(500, 500))\n",
        "y = x + x.T\n",
        "z = y[::2, 5000:].mean(axis=1)\n",
        "z.compute()"
      ],
      "execution_count": 3,
      "outputs": [
        {
          "output_type": "stream",
          "text": [
            "1 loop, best of 3: 1.08 s per loop\n"
          ],
          "name": "stdout"
        }
      ]
    },
    {
      "cell_type": "markdown",
      "metadata": {
        "id": "9oKOM2mwON4i"
      },
      "source": [
        "It took around 1.08 milliseconds which is around half of what it takes in the previous task. This is because, when we divide a Dask array into smaller chunks Dask needs to manage a higher number of chunks. This requires more computation. If our dataset can fit into memory as is in our case, then setting the chunk size to a larger number speeds up the computation."
      ]
    }
  ]
}