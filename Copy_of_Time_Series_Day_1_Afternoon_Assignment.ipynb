{
  "nbformat": 4,
  "nbformat_minor": 0,
  "metadata": {
    "kernelspec": {
      "display_name": "Python 3",
      "language": "python",
      "name": "python3"
    },
    "language_info": {
      "codemirror_mode": {
        "name": "ipython",
        "version": 3
      },
      "file_extension": ".py",
      "mimetype": "text/x-python",
      "name": "python",
      "nbconvert_exporter": "python",
      "pygments_lexer": "ipython3",
      "version": "3.7.4"
    },
    "colab": {
      "name": "Copy of Time Series Day 1 Afternoon Assignment.ipynb",
      "provenance": [],
      "collapsed_sections": [],
      "include_colab_link": true
    }
  },
  "cells": [
    {
      "cell_type": "markdown",
      "metadata": {
        "id": "view-in-github",
        "colab_type": "text"
      },
      "source": [
        "<a href=\"https://colab.research.google.com/github/Gaukhar-ai/for_my_Thinkful_work/blob/master/Copy_of_Time_Series_Day_1_Afternoon_Assignment.ipynb\" target=\"_parent\"><img src=\"https://colab.research.google.com/assets/colab-badge.svg\" alt=\"Open In Colab\"/></a>"
      ]
    },
    {
      "cell_type": "markdown",
      "metadata": {
        "id": "rUctXg1FWIhC"
      },
      "source": [
        "## Time Series Afternoon Assignment"
      ]
    },
    {
      "cell_type": "code",
      "metadata": {
        "id": "Y2TchBIuWIhD"
      },
      "source": [
        "import pandas as pd\n",
        "%matplotlib inline"
      ],
      "execution_count": 1,
      "outputs": []
    },
    {
      "cell_type": "markdown",
      "metadata": {
        "id": "UdvS8ZHyWIhG"
      },
      "source": [
        "### Load the [web_events.csv](https://tf-assets-prod.s3.amazonaws.com/tf-curric/data-science/web_events.csv) data set into a Pandas dataframe."
      ]
    },
    {
      "cell_type": "code",
      "metadata": {
        "id": "_4TAeImUWIhH"
      },
      "source": [
        "sales_df = pd.read_csv('https://tf-assets-prod.s3.amazonaws.com/tf-curric/data-science/web_events.csv')"
      ],
      "execution_count": 2,
      "outputs": []
    },
    {
      "cell_type": "code",
      "metadata": {
        "id": "9oveX3YwXjgj",
        "outputId": "83443610-f4da-47cd-fb8e-51c7cedbd0f7",
        "colab": {
          "base_uri": "https://localhost:8080/",
          "height": 195
        }
      },
      "source": [
        "sales_df.head()"
      ],
      "execution_count": 3,
      "outputs": [
        {
          "output_type": "execute_result",
          "data": {
            "text/html": [
              "<div>\n",
              "<style scoped>\n",
              "    .dataframe tbody tr th:only-of-type {\n",
              "        vertical-align: middle;\n",
              "    }\n",
              "\n",
              "    .dataframe tbody tr th {\n",
              "        vertical-align: top;\n",
              "    }\n",
              "\n",
              "    .dataframe thead th {\n",
              "        text-align: right;\n",
              "    }\n",
              "</style>\n",
              "<table border=\"1\" class=\"dataframe\">\n",
              "  <thead>\n",
              "    <tr style=\"text-align: right;\">\n",
              "      <th></th>\n",
              "      <th>timestamp</th>\n",
              "      <th>visitorid</th>\n",
              "      <th>event</th>\n",
              "      <th>itemid</th>\n",
              "      <th>transactionid</th>\n",
              "    </tr>\n",
              "  </thead>\n",
              "  <tbody>\n",
              "    <tr>\n",
              "      <th>0</th>\n",
              "      <td>1433221332117</td>\n",
              "      <td>257597</td>\n",
              "      <td>view</td>\n",
              "      <td>355908</td>\n",
              "      <td>NaN</td>\n",
              "    </tr>\n",
              "    <tr>\n",
              "      <th>1</th>\n",
              "      <td>1433224214164</td>\n",
              "      <td>992329</td>\n",
              "      <td>view</td>\n",
              "      <td>248676</td>\n",
              "      <td>NaN</td>\n",
              "    </tr>\n",
              "    <tr>\n",
              "      <th>2</th>\n",
              "      <td>1433221999827</td>\n",
              "      <td>111016</td>\n",
              "      <td>view</td>\n",
              "      <td>318965</td>\n",
              "      <td>NaN</td>\n",
              "    </tr>\n",
              "    <tr>\n",
              "      <th>3</th>\n",
              "      <td>1433221955914</td>\n",
              "      <td>483717</td>\n",
              "      <td>view</td>\n",
              "      <td>253185</td>\n",
              "      <td>NaN</td>\n",
              "    </tr>\n",
              "    <tr>\n",
              "      <th>4</th>\n",
              "      <td>1433221337106</td>\n",
              "      <td>951259</td>\n",
              "      <td>view</td>\n",
              "      <td>367447</td>\n",
              "      <td>NaN</td>\n",
              "    </tr>\n",
              "  </tbody>\n",
              "</table>\n",
              "</div>"
            ],
            "text/plain": [
              "       timestamp  visitorid event  itemid  transactionid\n",
              "0  1433221332117     257597  view  355908            NaN\n",
              "1  1433224214164     992329  view  248676            NaN\n",
              "2  1433221999827     111016  view  318965            NaN\n",
              "3  1433221955914     483717  view  253185            NaN\n",
              "4  1433221337106     951259  view  367447            NaN"
            ]
          },
          "metadata": {
            "tags": []
          },
          "execution_count": 3
        }
      ]
    },
    {
      "cell_type": "markdown",
      "metadata": {
        "id": "CBkctUq3WIhJ"
      },
      "source": [
        "### Convert the values in the timestamp field to datetimes."
      ]
    },
    {
      "cell_type": "code",
      "metadata": {
        "id": "7QL_8SIbWIhK"
      },
      "source": [
        "sales_df['timestamp'] = pd.to_datetime(sales_df['timestamp'], unit='ms')"
      ],
      "execution_count": 4,
      "outputs": []
    },
    {
      "cell_type": "code",
      "metadata": {
        "id": "6zKO-gcHX94a",
        "outputId": "2cd159bc-57b9-4046-ac7a-9b0df9f289a1",
        "colab": {
          "base_uri": "https://localhost:8080/",
          "height": 195
        }
      },
      "source": [
        "sales_df.head()"
      ],
      "execution_count": 5,
      "outputs": [
        {
          "output_type": "execute_result",
          "data": {
            "text/html": [
              "<div>\n",
              "<style scoped>\n",
              "    .dataframe tbody tr th:only-of-type {\n",
              "        vertical-align: middle;\n",
              "    }\n",
              "\n",
              "    .dataframe tbody tr th {\n",
              "        vertical-align: top;\n",
              "    }\n",
              "\n",
              "    .dataframe thead th {\n",
              "        text-align: right;\n",
              "    }\n",
              "</style>\n",
              "<table border=\"1\" class=\"dataframe\">\n",
              "  <thead>\n",
              "    <tr style=\"text-align: right;\">\n",
              "      <th></th>\n",
              "      <th>timestamp</th>\n",
              "      <th>visitorid</th>\n",
              "      <th>event</th>\n",
              "      <th>itemid</th>\n",
              "      <th>transactionid</th>\n",
              "    </tr>\n",
              "  </thead>\n",
              "  <tbody>\n",
              "    <tr>\n",
              "      <th>0</th>\n",
              "      <td>2015-06-02 05:02:12.117</td>\n",
              "      <td>257597</td>\n",
              "      <td>view</td>\n",
              "      <td>355908</td>\n",
              "      <td>NaN</td>\n",
              "    </tr>\n",
              "    <tr>\n",
              "      <th>1</th>\n",
              "      <td>2015-06-02 05:50:14.164</td>\n",
              "      <td>992329</td>\n",
              "      <td>view</td>\n",
              "      <td>248676</td>\n",
              "      <td>NaN</td>\n",
              "    </tr>\n",
              "    <tr>\n",
              "      <th>2</th>\n",
              "      <td>2015-06-02 05:13:19.827</td>\n",
              "      <td>111016</td>\n",
              "      <td>view</td>\n",
              "      <td>318965</td>\n",
              "      <td>NaN</td>\n",
              "    </tr>\n",
              "    <tr>\n",
              "      <th>3</th>\n",
              "      <td>2015-06-02 05:12:35.914</td>\n",
              "      <td>483717</td>\n",
              "      <td>view</td>\n",
              "      <td>253185</td>\n",
              "      <td>NaN</td>\n",
              "    </tr>\n",
              "    <tr>\n",
              "      <th>4</th>\n",
              "      <td>2015-06-02 05:02:17.106</td>\n",
              "      <td>951259</td>\n",
              "      <td>view</td>\n",
              "      <td>367447</td>\n",
              "      <td>NaN</td>\n",
              "    </tr>\n",
              "  </tbody>\n",
              "</table>\n",
              "</div>"
            ],
            "text/plain": [
              "                timestamp  visitorid event  itemid  transactionid\n",
              "0 2015-06-02 05:02:12.117     257597  view  355908            NaN\n",
              "1 2015-06-02 05:50:14.164     992329  view  248676            NaN\n",
              "2 2015-06-02 05:13:19.827     111016  view  318965            NaN\n",
              "3 2015-06-02 05:12:35.914     483717  view  253185            NaN\n",
              "4 2015-06-02 05:02:17.106     951259  view  367447            NaN"
            ]
          },
          "metadata": {
            "tags": []
          },
          "execution_count": 5
        }
      ]
    },
    {
      "cell_type": "code",
      "metadata": {
        "id": "wVHR0vnxYBxr",
        "outputId": "6c1eb6f4-7326-4a1c-d8c4-fc680e4e6d4c",
        "colab": {
          "base_uri": "https://localhost:8080/",
          "height": 118
        }
      },
      "source": [
        "sales_df.dtypes"
      ],
      "execution_count": 6,
      "outputs": [
        {
          "output_type": "execute_result",
          "data": {
            "text/plain": [
              "timestamp        datetime64[ns]\n",
              "visitorid                 int64\n",
              "event                    object\n",
              "itemid                    int64\n",
              "transactionid           float64\n",
              "dtype: object"
            ]
          },
          "metadata": {
            "tags": []
          },
          "execution_count": 6
        }
      ]
    },
    {
      "cell_type": "markdown",
      "metadata": {
        "id": "565YpjGVWIhN"
      },
      "source": [
        "### Extract different time units from the timestamp field."
      ]
    },
    {
      "cell_type": "code",
      "metadata": {
        "id": "bxOkwy0eWIhN"
      },
      "source": [
        "sales_df['date'] = sales_df['timestamp'].dt.date\n",
        "sales_df['year'] = sales_df['timestamp'].dt.year\n",
        "sales_df['quarter'] = sales_df['timestamp'].dt.quarter\n",
        "sales_df['month'] = sales_df['timestamp'].dt.month\n",
        "sales_df['weekday'] = sales_df['timestamp'].dt.weekday\n",
        "sales_df['day'] = sales_df['timestamp'].dt.day\n",
        "sales_df['hour'] = sales_df['timestamp'].dt.hour"
      ],
      "execution_count": 7,
      "outputs": []
    },
    {
      "cell_type": "code",
      "metadata": {
        "id": "5zeG8WYeYqQA",
        "outputId": "08b5c16d-5ab0-4d0b-e1b0-66aa97e2595e",
        "colab": {
          "base_uri": "https://localhost:8080/",
          "height": 313
        }
      },
      "source": [
        "sales_df.set_index('timestamp').plot()"
      ],
      "execution_count": 8,
      "outputs": [
        {
          "output_type": "execute_result",
          "data": {
            "text/plain": [
              "<matplotlib.axes._subplots.AxesSubplot at 0x7f9961812a90>"
            ]
          },
          "metadata": {
            "tags": []
          },
          "execution_count": 8
        },
        {
          "output_type": "display_data",
          "data": {
            "image/png": "[encoded data removed]",
            "text/plain": [
              "<Figure size 432x288 with 1 Axes>"
            ]
          },
          "metadata": {
            "tags": [],
            "needs_background": "light"
          }
        }
      ]
    },
    {
      "cell_type": "markdown",
      "metadata": {
        "id": "6T7gH7oQWIhP"
      },
      "source": [
        "### Aggregate on each one, counting the number of records, and see what insights you can discover for each type of event.\n"
      ]
    },
    {
      "cell_type": "code",
      "metadata": {
        "id": "Mp09rbthZMmZ",
        "outputId": "2104c59a-a1c9-45ed-97e4-7200a3ed8dca",
        "colab": {
          "base_uri": "https://localhost:8080/",
          "height": 34
        }
      },
      "source": [
        "sales_df['event'].unique()"
      ],
      "execution_count": 9,
      "outputs": [
        {
          "output_type": "execute_result",
          "data": {
            "text/plain": [
              "array(['view', 'addtocart', 'transaction'], dtype=object)"
            ]
          },
          "metadata": {
            "tags": []
          },
          "execution_count": 9
        }
      ]
    },
    {
      "cell_type": "code",
      "metadata": {
        "id": "-KwyBHzUWIhP",
        "outputId": "331eeeb7-3103-4359-bed0-2556fe895b9a",
        "colab": {
          "base_uri": "https://localhost:8080/",
          "height": 299
        }
      },
      "source": [
        "sales_df.groupby('hour').count()['event'].plot(kind='bar')"
      ],
      "execution_count": 10,
      "outputs": [
        {
          "output_type": "execute_result",
          "data": {
            "text/plain": [
              "<matplotlib.axes._subplots.AxesSubplot at 0x7f995a7b4748>"
            ]
          },
          "metadata": {
            "tags": []
          },
          "execution_count": 10
        },
        {
          "output_type": "display_data",
          "data": {
            "image/png": "[encoded data removed]",
            "text/plain": [
              "<Figure size 432x288 with 1 Axes>"
            ]
          },
          "metadata": {
            "tags": [],
            "needs_background": "light"
          }
        }
      ]
    },
    {
      "cell_type": "code",
      "metadata": {
        "id": "Y9Y7hAXsY46g",
        "outputId": "928691d2-f2a3-4d44-9938-28823e9167f9",
        "colab": {
          "base_uri": "https://localhost:8080/",
          "height": 293
        }
      },
      "source": [
        "sales_df.groupby('weekday').count()['event'].plot(kind='bar')"
      ],
      "execution_count": 11,
      "outputs": [
        {
          "output_type": "execute_result",
          "data": {
            "text/plain": [
              "<matplotlib.axes._subplots.AxesSubplot at 0x7f995a640dd8>"
            ]
          },
          "metadata": {
            "tags": []
          },
          "execution_count": 11
        },
        {
          "output_type": "display_data",
          "data": {
            "image/png": "[encoded data removed]",
            "text/plain": [
              "<Figure size 432x288 with 1 Axes>"
            ]
          },
          "metadata": {
            "tags": [],
            "needs_background": "light"
          }
        }
      ]
    },
    {
      "cell_type": "code",
      "metadata": {
        "id": "Q99PRruHY481"
      },
      "source": [
        "import matplotlib.pyplot as plt\n",
        "import seaborn as sns\n"
      ],
      "execution_count": 13,
      "outputs": []
    },
    {
      "cell_type": "code",
      "metadata": {
        "id": "MufPjqUGligZ",
        "outputId": "a7cf12a0-e5c5-4561-8d93-b5803b0eb8c7",
        "colab": {
          "base_uri": "https://localhost:8080/",
          "height": 195
        }
      },
      "source": [
        "agg_df = sales_df.groupby(['hour','weekday']).count()['event'].reset_index()\n",
        "agg_df.head()\n"
      ],
      "execution_count": 14,
      "outputs": [
        {
          "output_type": "execute_result",
          "data": {
            "text/html": [
              "<div>\n",
              "<style scoped>\n",
              "    .dataframe tbody tr th:only-of-type {\n",
              "        vertical-align: middle;\n",
              "    }\n",
              "\n",
              "    .dataframe tbody tr th {\n",
              "        vertical-align: top;\n",
              "    }\n",
              "\n",
              "    .dataframe thead th {\n",
              "        text-align: right;\n",
              "    }\n",
              "</style>\n",
              "<table border=\"1\" class=\"dataframe\">\n",
              "  <thead>\n",
              "    <tr style=\"text-align: right;\">\n",
              "      <th></th>\n",
              "      <th>hour</th>\n",
              "      <th>weekday</th>\n",
              "      <th>event</th>\n",
              "    </tr>\n",
              "  </thead>\n",
              "  <tbody>\n",
              "    <tr>\n",
              "      <th>0</th>\n",
              "      <td>0</td>\n",
              "      <td>0</td>\n",
              "      <td>21768</td>\n",
              "    </tr>\n",
              "    <tr>\n",
              "      <th>1</th>\n",
              "      <td>0</td>\n",
              "      <td>1</td>\n",
              "      <td>23304</td>\n",
              "    </tr>\n",
              "    <tr>\n",
              "      <th>2</th>\n",
              "      <td>0</td>\n",
              "      <td>2</td>\n",
              "      <td>22057</td>\n",
              "    </tr>\n",
              "    <tr>\n",
              "      <th>3</th>\n",
              "      <td>0</td>\n",
              "      <td>3</td>\n",
              "      <td>21908</td>\n",
              "    </tr>\n",
              "    <tr>\n",
              "      <th>4</th>\n",
              "      <td>0</td>\n",
              "      <td>4</td>\n",
              "      <td>21078</td>\n",
              "    </tr>\n",
              "  </tbody>\n",
              "</table>\n",
              "</div>"
            ],
            "text/plain": [
              "   hour  weekday  event\n",
              "0     0        0  21768\n",
              "1     0        1  23304\n",
              "2     0        2  22057\n",
              "3     0        3  21908\n",
              "4     0        4  21078"
            ]
          },
          "metadata": {
            "tags": []
          },
          "execution_count": 14
        }
      ]
    },
    {
      "cell_type": "code",
      "metadata": {
        "id": "LVYmG9FhY4_a",
        "outputId": "28d5a670-972a-4672-e0c1-4ce5da6c29a1",
        "colab": {
          "base_uri": "https://localhost:8080/",
          "height": 514
        }
      },
      "source": [
        "hour_weekday = agg_df.pivot_table(index='hour', columns='weekday', values='event', aggfunc='sum')\n",
        "plt.figure(figsize=(18,8))\n",
        "sns.heatmap(hour_weekday, annot=True, fmt='.1f', cmap='Reds', linewidths=.01)"
      ],
      "execution_count": 15,
      "outputs": [
        {
          "output_type": "execute_result",
          "data": {
            "text/plain": [
              "<matplotlib.axes._subplots.AxesSubplot at 0x7f99505ca438>"
            ]
          },
          "metadata": {
            "tags": []
          },
          "execution_count": 15
        },
        {
          "output_type": "display_data",
          "data": {
            "image/png": "[encoded data removed]",
            "text/plain": [
              "<Figure size 1296x576 with 2 Axes>"
            ]
          },
          "metadata": {
            "tags": [],
            "needs_background": "light"
          }
        }
      ]
    },
    {
      "cell_type": "code",
      "metadata": {
        "id": "lApL0Rl0Y5Ez"
      },
      "source": [
        ""
      ],
      "execution_count": null,
      "outputs": []
    },
    {
      "cell_type": "markdown",
      "metadata": {
        "id": "BZr6i7ZXWIhR"
      },
      "source": [
        "### Round datetimes by hour, aggregate, and see what insights you can discover."
      ]
    },
    {
      "cell_type": "code",
      "metadata": {
        "id": "n8JB_8CMWIhS",
        "outputId": "6bd8683e-aa70-4735-f6d7-9f64db45ace2",
        "colab": {
          "base_uri": "https://localhost:8080/",
          "height": 279
        }
      },
      "source": [
        "sales_df['round_hour'] = sales_df['timestamp'].dt.round('H').dt.hour\n",
        "sales_df.head()"
      ],
      "execution_count": 17,
      "outputs": [
        {
          "output_type": "execute_result",
          "data": {
            "text/html": [
              "<div>\n",
              "<style scoped>\n",
              "    .dataframe tbody tr th:only-of-type {\n",
              "        vertical-align: middle;\n",
              "    }\n",
              "\n",
              "    .dataframe tbody tr th {\n",
              "        vertical-align: top;\n",
              "    }\n",
              "\n",
              "    .dataframe thead th {\n",
              "        text-align: right;\n",
              "    }\n",
              "</style>\n",
              "<table border=\"1\" class=\"dataframe\">\n",
              "  <thead>\n",
              "    <tr style=\"text-align: right;\">\n",
              "      <th></th>\n",
              "      <th>timestamp</th>\n",
              "      <th>visitorid</th>\n",
              "      <th>event</th>\n",
              "      <th>itemid</th>\n",
              "      <th>transactionid</th>\n",
              "      <th>date</th>\n",
              "      <th>year</th>\n",
              "      <th>quarter</th>\n",
              "      <th>month</th>\n",
              "      <th>weekday</th>\n",
              "      <th>day</th>\n",
              "      <th>hour</th>\n",
              "      <th>round_hour</th>\n",
              "    </tr>\n",
              "  </thead>\n",
              "  <tbody>\n",
              "    <tr>\n",
              "      <th>0</th>\n",
              "      <td>2015-06-02 05:02:12.117</td>\n",
              "      <td>257597</td>\n",
              "      <td>view</td>\n",
              "      <td>355908</td>\n",
              "      <td>NaN</td>\n",
              "      <td>2015-06-02</td>\n",
              "      <td>2015</td>\n",
              "      <td>2</td>\n",
              "      <td>6</td>\n",
              "      <td>1</td>\n",
              "      <td>2</td>\n",
              "      <td>5</td>\n",
              "      <td>5</td>\n",
              "    </tr>\n",
              "    <tr>\n",
              "      <th>1</th>\n",
              "      <td>2015-06-02 05:50:14.164</td>\n",
              "      <td>992329</td>\n",
              "      <td>view</td>\n",
              "      <td>248676</td>\n",
              "      <td>NaN</td>\n",
              "      <td>2015-06-02</td>\n",
              "      <td>2015</td>\n",
              "      <td>2</td>\n",
              "      <td>6</td>\n",
              "      <td>1</td>\n",
              "      <td>2</td>\n",
              "      <td>5</td>\n",
              "      <td>6</td>\n",
              "    </tr>\n",
              "    <tr>\n",
              "      <th>2</th>\n",
              "      <td>2015-06-02 05:13:19.827</td>\n",
              "      <td>111016</td>\n",
              "      <td>view</td>\n",
              "      <td>318965</td>\n",
              "      <td>NaN</td>\n",
              "      <td>2015-06-02</td>\n",
              "      <td>2015</td>\n",
              "      <td>2</td>\n",
              "      <td>6</td>\n",
              "      <td>1</td>\n",
              "      <td>2</td>\n",
              "      <td>5</td>\n",
              "      <td>5</td>\n",
              "    </tr>\n",
              "    <tr>\n",
              "      <th>3</th>\n",
              "      <td>2015-06-02 05:12:35.914</td>\n",
              "      <td>483717</td>\n",
              "      <td>view</td>\n",
              "      <td>253185</td>\n",
              "      <td>NaN</td>\n",
              "      <td>2015-06-02</td>\n",
              "      <td>2015</td>\n",
              "      <td>2</td>\n",
              "      <td>6</td>\n",
              "      <td>1</td>\n",
              "      <td>2</td>\n",
              "      <td>5</td>\n",
              "      <td>5</td>\n",
              "    </tr>\n",
              "    <tr>\n",
              "      <th>4</th>\n",
              "      <td>2015-06-02 05:02:17.106</td>\n",
              "      <td>951259</td>\n",
              "      <td>view</td>\n",
              "      <td>367447</td>\n",
              "      <td>NaN</td>\n",
              "      <td>2015-06-02</td>\n",
              "      <td>2015</td>\n",
              "      <td>2</td>\n",
              "      <td>6</td>\n",
              "      <td>1</td>\n",
              "      <td>2</td>\n",
              "      <td>5</td>\n",
              "      <td>5</td>\n",
              "    </tr>\n",
              "  </tbody>\n",
              "</table>\n",
              "</div>"
            ],
            "text/plain": [
              "                timestamp  visitorid event  ...  day  hour round_hour\n",
              "0 2015-06-02 05:02:12.117     257597  view  ...    2     5          5\n",
              "1 2015-06-02 05:50:14.164     992329  view  ...    2     5          6\n",
              "2 2015-06-02 05:13:19.827     111016  view  ...    2     5          5\n",
              "3 2015-06-02 05:12:35.914     483717  view  ...    2     5          5\n",
              "4 2015-06-02 05:02:17.106     951259  view  ...    2     5          5\n",
              "\n",
              "[5 rows x 13 columns]"
            ]
          },
          "metadata": {
            "tags": []
          },
          "execution_count": 17
        }
      ]
    },
    {
      "cell_type": "code",
      "metadata": {
        "id": "vhtA7bmYbXL5",
        "outputId": "ef1f3a19-9304-4090-9ecb-449c667b656d",
        "colab": {
          "base_uri": "https://localhost:8080/",
          "height": 300
        }
      },
      "source": [
        "sales_df.groupby('round_hour').count()['event'].plot(kind='bar')"
      ],
      "execution_count": 18,
      "outputs": [
        {
          "output_type": "execute_result",
          "data": {
            "text/plain": [
              "<matplotlib.axes._subplots.AxesSubplot at 0x7f994c8ecd30>"
            ]
          },
          "metadata": {
            "tags": []
          },
          "execution_count": 18
        },
        {
          "output_type": "display_data",
          "data": {
            "image/png": "[encoded data removed]",
            "text/plain": [
              "<Figure size 432x288 with 1 Axes>"
            ]
          },
          "metadata": {
            "tags": [],
            "needs_background": "light"
          }
        }
      ]
    },
    {
      "cell_type": "markdown",
      "metadata": {
        "id": "XHr8RT1aWIhV"
      },
      "source": [
        "<br>"
      ]
    },
    {
      "cell_type": "markdown",
      "metadata": {
        "id": "cOdiizWMWIhV"
      },
      "source": [
        "### Load the [life_expectancy.csv](https://tf-assets-prod.s3.amazonaws.com/tf-curric/data-science/life_expectancy.csv) data set into a Pandas dataframe.\n"
      ]
    },
    {
      "cell_type": "code",
      "metadata": {
        "id": "dguR9b22WIhW"
      },
      "source": [
        "life_df = pd.read_csv('https://tf-assets-prod.s3.amazonaws.com/tf-curric/data-science/life_expectancy.csv')"
      ],
      "execution_count": 19,
      "outputs": []
    },
    {
      "cell_type": "code",
      "metadata": {
        "id": "gcrGAcg8biAc",
        "outputId": "93f1b015-f4e2-49a9-e5ff-146dfcf0d6ca",
        "colab": {
          "base_uri": "https://localhost:8080/",
          "height": 568
        }
      },
      "source": [
        "life_df.head()"
      ],
      "execution_count": 20,
      "outputs": [
        {
          "output_type": "execute_result",
          "data": {
            "text/html": [
              "<div>\n",
              "<style scoped>\n",
              "    .dataframe tbody tr th:only-of-type {\n",
              "        vertical-align: middle;\n",
              "    }\n",
              "\n",
              "    .dataframe tbody tr th {\n",
              "        vertical-align: top;\n",
              "    }\n",
              "\n",
              "    .dataframe thead th {\n",
              "        text-align: right;\n",
              "    }\n",
              "</style>\n",
              "<table border=\"1\" class=\"dataframe\">\n",
              "  <thead>\n",
              "    <tr style=\"text-align: right;\">\n",
              "      <th></th>\n",
              "      <th>Country Name</th>\n",
              "      <th>Country Code</th>\n",
              "      <th>Indicator Name</th>\n",
              "      <th>Indicator Code</th>\n",
              "      <th>1960</th>\n",
              "      <th>1961</th>\n",
              "      <th>1962</th>\n",
              "      <th>1963</th>\n",
              "      <th>1964</th>\n",
              "      <th>1965</th>\n",
              "      <th>1966</th>\n",
              "      <th>1967</th>\n",
              "      <th>1968</th>\n",
              "      <th>1969</th>\n",
              "      <th>1970</th>\n",
              "      <th>1971</th>\n",
              "      <th>1972</th>\n",
              "      <th>1973</th>\n",
              "      <th>1974</th>\n",
              "      <th>1975</th>\n",
              "      <th>1976</th>\n",
              "      <th>1977</th>\n",
              "      <th>1978</th>\n",
              "      <th>1979</th>\n",
              "      <th>1980</th>\n",
              "      <th>1981</th>\n",
              "      <th>1982</th>\n",
              "      <th>1983</th>\n",
              "      <th>1984</th>\n",
              "      <th>1985</th>\n",
              "      <th>1986</th>\n",
              "      <th>1987</th>\n",
              "      <th>1988</th>\n",
              "      <th>1989</th>\n",
              "      <th>1990</th>\n",
              "      <th>1991</th>\n",
              "      <th>1992</th>\n",
              "      <th>1993</th>\n",
              "      <th>1994</th>\n",
              "      <th>1995</th>\n",
              "      <th>1996</th>\n",
              "      <th>1997</th>\n",
              "      <th>1998</th>\n",
              "      <th>1999</th>\n",
              "      <th>2000</th>\n",
              "      <th>2001</th>\n",
              "      <th>2002</th>\n",
              "      <th>2003</th>\n",
              "      <th>2004</th>\n",
              "      <th>2005</th>\n",
              "      <th>2006</th>\n",
              "      <th>2007</th>\n",
              "      <th>2008</th>\n",
              "      <th>2009</th>\n",
              "      <th>2010</th>\n",
              "      <th>2011</th>\n",
              "      <th>2012</th>\n",
              "      <th>2013</th>\n",
              "      <th>2014</th>\n",
              "      <th>2015</th>\n",
              "      <th>2016</th>\n",
              "    </tr>\n",
              "  </thead>\n",
              "  <tbody>\n",
              "    <tr>\n",
              "      <th>0</th>\n",
              "      <td>Aruba</td>\n",
              "      <td>ABW</td>\n",
              "      <td>Life expectancy at birth, total (years)</td>\n",
              "      <td>SP.DYN.LE00.IN</td>\n",
              "      <td>65.662</td>\n",
              "      <td>66.074</td>\n",
              "      <td>66.444</td>\n",
              "      <td>66.787</td>\n",
              "      <td>67.113</td>\n",
              "      <td>67.435</td>\n",
              "      <td>67.762</td>\n",
              "      <td>68.095</td>\n",
              "      <td>68.436</td>\n",
              "      <td>68.784</td>\n",
              "      <td>69.140</td>\n",
              "      <td>69.498</td>\n",
              "      <td>69.851</td>\n",
              "      <td>70.191</td>\n",
              "      <td>70.519</td>\n",
              "      <td>70.833</td>\n",
              "      <td>71.140</td>\n",
              "      <td>71.441</td>\n",
              "      <td>71.736</td>\n",
              "      <td>72.023</td>\n",
              "      <td>72.293</td>\n",
              "      <td>72.538</td>\n",
              "      <td>72.751</td>\n",
              "      <td>72.929</td>\n",
              "      <td>73.071</td>\n",
              "      <td>73.181</td>\n",
              "      <td>73.262</td>\n",
              "      <td>73.325</td>\n",
              "      <td>73.378</td>\n",
              "      <td>73.425</td>\n",
              "      <td>73.468</td>\n",
              "      <td>73.509</td>\n",
              "      <td>73.544</td>\n",
              "      <td>73.573</td>\n",
              "      <td>73.598</td>\n",
              "      <td>73.622</td>\n",
              "      <td>73.646</td>\n",
              "      <td>73.671</td>\n",
              "      <td>73.700</td>\n",
              "      <td>73.738</td>\n",
              "      <td>73.787</td>\n",
              "      <td>73.853</td>\n",
              "      <td>73.937</td>\n",
              "      <td>74.038</td>\n",
              "      <td>74.156</td>\n",
              "      <td>74.287</td>\n",
              "      <td>74.429</td>\n",
              "      <td>74.576</td>\n",
              "      <td>74.725</td>\n",
              "      <td>74.872</td>\n",
              "      <td>75.016</td>\n",
              "      <td>75.158</td>\n",
              "      <td>75.299</td>\n",
              "      <td>75.440</td>\n",
              "      <td>75.582</td>\n",
              "      <td>75.725</td>\n",
              "      <td>75.867</td>\n",
              "    </tr>\n",
              "    <tr>\n",
              "      <th>1</th>\n",
              "      <td>Afghanistan</td>\n",
              "      <td>AFG</td>\n",
              "      <td>Life expectancy at birth, total (years)</td>\n",
              "      <td>SP.DYN.LE00.IN</td>\n",
              "      <td>32.292</td>\n",
              "      <td>32.742</td>\n",
              "      <td>33.185</td>\n",
              "      <td>33.624</td>\n",
              "      <td>34.060</td>\n",
              "      <td>34.495</td>\n",
              "      <td>34.928</td>\n",
              "      <td>35.361</td>\n",
              "      <td>35.796</td>\n",
              "      <td>36.234</td>\n",
              "      <td>36.678</td>\n",
              "      <td>37.128</td>\n",
              "      <td>37.587</td>\n",
              "      <td>38.056</td>\n",
              "      <td>38.540</td>\n",
              "      <td>39.039</td>\n",
              "      <td>39.556</td>\n",
              "      <td>40.092</td>\n",
              "      <td>40.650</td>\n",
              "      <td>41.234</td>\n",
              "      <td>41.853</td>\n",
              "      <td>42.513</td>\n",
              "      <td>43.217</td>\n",
              "      <td>43.963</td>\n",
              "      <td>44.747</td>\n",
              "      <td>45.566</td>\n",
              "      <td>46.417</td>\n",
              "      <td>47.288</td>\n",
              "      <td>48.164</td>\n",
              "      <td>49.028</td>\n",
              "      <td>49.856</td>\n",
              "      <td>50.627</td>\n",
              "      <td>51.331</td>\n",
              "      <td>51.968</td>\n",
              "      <td>52.539</td>\n",
              "      <td>53.055</td>\n",
              "      <td>53.533</td>\n",
              "      <td>53.997</td>\n",
              "      <td>54.468</td>\n",
              "      <td>54.959</td>\n",
              "      <td>55.482</td>\n",
              "      <td>56.044</td>\n",
              "      <td>56.637</td>\n",
              "      <td>57.250</td>\n",
              "      <td>57.875</td>\n",
              "      <td>58.500</td>\n",
              "      <td>59.110</td>\n",
              "      <td>59.694</td>\n",
              "      <td>60.243</td>\n",
              "      <td>60.754</td>\n",
              "      <td>61.226</td>\n",
              "      <td>61.666</td>\n",
              "      <td>62.086</td>\n",
              "      <td>62.494</td>\n",
              "      <td>62.895</td>\n",
              "      <td>63.288</td>\n",
              "      <td>63.673</td>\n",
              "    </tr>\n",
              "    <tr>\n",
              "      <th>2</th>\n",
              "      <td>Angola</td>\n",
              "      <td>AGO</td>\n",
              "      <td>Life expectancy at birth, total (years)</td>\n",
              "      <td>SP.DYN.LE00.IN</td>\n",
              "      <td>33.251</td>\n",
              "      <td>33.573</td>\n",
              "      <td>33.914</td>\n",
              "      <td>34.272</td>\n",
              "      <td>34.645</td>\n",
              "      <td>35.031</td>\n",
              "      <td>35.426</td>\n",
              "      <td>35.828</td>\n",
              "      <td>36.234</td>\n",
              "      <td>36.640</td>\n",
              "      <td>37.047</td>\n",
              "      <td>37.460</td>\n",
              "      <td>37.878</td>\n",
              "      <td>38.297</td>\n",
              "      <td>38.712</td>\n",
              "      <td>39.110</td>\n",
              "      <td>39.478</td>\n",
              "      <td>39.810</td>\n",
              "      <td>40.099</td>\n",
              "      <td>40.344</td>\n",
              "      <td>40.546</td>\n",
              "      <td>40.710</td>\n",
              "      <td>40.848</td>\n",
              "      <td>40.970</td>\n",
              "      <td>41.085</td>\n",
              "      <td>41.193</td>\n",
              "      <td>41.292</td>\n",
              "      <td>41.382</td>\n",
              "      <td>41.471</td>\n",
              "      <td>41.572</td>\n",
              "      <td>41.696</td>\n",
              "      <td>41.855</td>\n",
              "      <td>42.060</td>\n",
              "      <td>42.329</td>\n",
              "      <td>42.677</td>\n",
              "      <td>43.125</td>\n",
              "      <td>43.695</td>\n",
              "      <td>44.385</td>\n",
              "      <td>45.192</td>\n",
              "      <td>46.105</td>\n",
              "      <td>47.113</td>\n",
              "      <td>48.200</td>\n",
              "      <td>49.341</td>\n",
              "      <td>50.508</td>\n",
              "      <td>51.676</td>\n",
              "      <td>52.833</td>\n",
              "      <td>53.974</td>\n",
              "      <td>55.096</td>\n",
              "      <td>56.189</td>\n",
              "      <td>57.231</td>\n",
              "      <td>58.192</td>\n",
              "      <td>59.042</td>\n",
              "      <td>59.770</td>\n",
              "      <td>60.373</td>\n",
              "      <td>60.858</td>\n",
              "      <td>61.241</td>\n",
              "      <td>61.547</td>\n",
              "    </tr>\n",
              "    <tr>\n",
              "      <th>3</th>\n",
              "      <td>Albania</td>\n",
              "      <td>ALB</td>\n",
              "      <td>Life expectancy at birth, total (years)</td>\n",
              "      <td>SP.DYN.LE00.IN</td>\n",
              "      <td>62.279</td>\n",
              "      <td>63.298</td>\n",
              "      <td>64.187</td>\n",
              "      <td>64.911</td>\n",
              "      <td>65.461</td>\n",
              "      <td>65.848</td>\n",
              "      <td>66.108</td>\n",
              "      <td>66.302</td>\n",
              "      <td>66.485</td>\n",
              "      <td>66.687</td>\n",
              "      <td>66.933</td>\n",
              "      <td>67.235</td>\n",
              "      <td>67.580</td>\n",
              "      <td>67.951</td>\n",
              "      <td>68.341</td>\n",
              "      <td>68.734</td>\n",
              "      <td>69.108</td>\n",
              "      <td>69.447</td>\n",
              "      <td>69.741</td>\n",
              "      <td>69.990</td>\n",
              "      <td>70.207</td>\n",
              "      <td>70.416</td>\n",
              "      <td>70.635</td>\n",
              "      <td>70.876</td>\n",
              "      <td>71.134</td>\n",
              "      <td>71.388</td>\n",
              "      <td>71.605</td>\n",
              "      <td>71.760</td>\n",
              "      <td>71.843</td>\n",
              "      <td>71.860</td>\n",
              "      <td>71.836</td>\n",
              "      <td>71.803</td>\n",
              "      <td>71.802</td>\n",
              "      <td>71.860</td>\n",
              "      <td>71.992</td>\n",
              "      <td>72.205</td>\n",
              "      <td>72.495</td>\n",
              "      <td>72.838</td>\n",
              "      <td>73.208</td>\n",
              "      <td>73.588</td>\n",
              "      <td>73.955</td>\n",
              "      <td>74.286</td>\n",
              "      <td>74.575</td>\n",
              "      <td>74.820</td>\n",
              "      <td>75.028</td>\n",
              "      <td>75.217</td>\n",
              "      <td>75.418</td>\n",
              "      <td>75.656</td>\n",
              "      <td>75.943</td>\n",
              "      <td>76.281</td>\n",
              "      <td>76.652</td>\n",
              "      <td>77.031</td>\n",
              "      <td>77.389</td>\n",
              "      <td>77.702</td>\n",
              "      <td>77.963</td>\n",
              "      <td>78.174</td>\n",
              "      <td>78.345</td>\n",
              "    </tr>\n",
              "    <tr>\n",
              "      <th>4</th>\n",
              "      <td>Andorra</td>\n",
              "      <td>AND</td>\n",
              "      <td>Life expectancy at birth, total (years)</td>\n",
              "      <td>SP.DYN.LE00.IN</td>\n",
              "      <td>NaN</td>\n",
              "      <td>NaN</td>\n",
              "      <td>NaN</td>\n",
              "      <td>NaN</td>\n",
              "      <td>NaN</td>\n",
              "      <td>NaN</td>\n",
              "      <td>NaN</td>\n",
              "      <td>NaN</td>\n",
              "      <td>NaN</td>\n",
              "      <td>NaN</td>\n",
              "      <td>NaN</td>\n",
              "      <td>NaN</td>\n",
              "      <td>NaN</td>\n",
              "      <td>NaN</td>\n",
              "      <td>NaN</td>\n",
              "      <td>NaN</td>\n",
              "      <td>NaN</td>\n",
              "      <td>NaN</td>\n",
              "      <td>NaN</td>\n",
              "      <td>NaN</td>\n",
              "      <td>NaN</td>\n",
              "      <td>NaN</td>\n",
              "      <td>NaN</td>\n",
              "      <td>NaN</td>\n",
              "      <td>NaN</td>\n",
              "      <td>NaN</td>\n",
              "      <td>NaN</td>\n",
              "      <td>NaN</td>\n",
              "      <td>NaN</td>\n",
              "      <td>NaN</td>\n",
              "      <td>NaN</td>\n",
              "      <td>NaN</td>\n",
              "      <td>NaN</td>\n",
              "      <td>NaN</td>\n",
              "      <td>NaN</td>\n",
              "      <td>NaN</td>\n",
              "      <td>NaN</td>\n",
              "      <td>NaN</td>\n",
              "      <td>NaN</td>\n",
              "      <td>NaN</td>\n",
              "      <td>NaN</td>\n",
              "      <td>NaN</td>\n",
              "      <td>NaN</td>\n",
              "      <td>NaN</td>\n",
              "      <td>NaN</td>\n",
              "      <td>NaN</td>\n",
              "      <td>NaN</td>\n",
              "      <td>NaN</td>\n",
              "      <td>NaN</td>\n",
              "      <td>NaN</td>\n",
              "      <td>NaN</td>\n",
              "      <td>NaN</td>\n",
              "      <td>NaN</td>\n",
              "      <td>NaN</td>\n",
              "      <td>NaN</td>\n",
              "      <td>NaN</td>\n",
              "      <td>NaN</td>\n",
              "    </tr>\n",
              "  </tbody>\n",
              "</table>\n",
              "</div>"
            ],
            "text/plain": [
              "  Country Name Country Code  ...    2015    2016\n",
              "0        Aruba          ABW  ...  75.725  75.867\n",
              "1  Afghanistan          AFG  ...  63.288  63.673\n",
              "2       Angola          AGO  ...  61.241  61.547\n",
              "3      Albania          ALB  ...  78.174  78.345\n",
              "4      Andorra          AND  ...     NaN     NaN\n",
              "\n",
              "[5 rows x 61 columns]"
            ]
          },
          "metadata": {
            "tags": []
          },
          "execution_count": 20
        }
      ]
    },
    {
      "cell_type": "markdown",
      "metadata": {
        "id": "JLtUnSG5WIhY"
      },
      "source": [
        "### Transform/melt the data so that the years are listed in a single column instead of separate columns."
      ]
    },
    {
      "cell_type": "code",
      "metadata": {
        "id": "vTAl3x-LWIhY",
        "outputId": "35034214-7189-4de0-d23d-d8c5e43d986b",
        "colab": {
          "base_uri": "https://localhost:8080/",
          "height": 195
        }
      },
      "source": [
        "ids = ['Country Name', 'Country Code', 'Indicator Name', 'Indicator Code']\n",
        "melt_fields = set(life_df.columns) - set(ids)\n",
        "melted_df = pd.melt(life_df, \n",
        "                    id_vars=ids, \n",
        "                    value_vars=melt_fields, \n",
        "                    var_name=\"Year\",\n",
        "                    value_name=\"life_expectancy\")\n",
        "melted_df.head()"
      ],
      "execution_count": 22,
      "outputs": [
        {
          "output_type": "execute_result",
          "data": {
            "text/html": [
              "<div>\n",
              "<style scoped>\n",
              "    .dataframe tbody tr th:only-of-type {\n",
              "        vertical-align: middle;\n",
              "    }\n",
              "\n",
              "    .dataframe tbody tr th {\n",
              "        vertical-align: top;\n",
              "    }\n",
              "\n",
              "    .dataframe thead th {\n",
              "        text-align: right;\n",
              "    }\n",
              "</style>\n",
              "<table border=\"1\" class=\"dataframe\">\n",
              "  <thead>\n",
              "    <tr style=\"text-align: right;\">\n",
              "      <th></th>\n",
              "      <th>Country Name</th>\n",
              "      <th>Country Code</th>\n",
              "      <th>Indicator Name</th>\n",
              "      <th>Indicator Code</th>\n",
              "      <th>Year</th>\n",
              "      <th>life_expectancy</th>\n",
              "    </tr>\n",
              "  </thead>\n",
              "  <tbody>\n",
              "    <tr>\n",
              "      <th>0</th>\n",
              "      <td>Aruba</td>\n",
              "      <td>ABW</td>\n",
              "      <td>Life expectancy at birth, total (years)</td>\n",
              "      <td>SP.DYN.LE00.IN</td>\n",
              "      <td>2005</td>\n",
              "      <td>74.287</td>\n",
              "    </tr>\n",
              "    <tr>\n",
              "      <th>1</th>\n",
              "      <td>Afghanistan</td>\n",
              "      <td>AFG</td>\n",
              "      <td>Life expectancy at birth, total (years)</td>\n",
              "      <td>SP.DYN.LE00.IN</td>\n",
              "      <td>2005</td>\n",
              "      <td>58.500</td>\n",
              "    </tr>\n",
              "    <tr>\n",
              "      <th>2</th>\n",
              "      <td>Angola</td>\n",
              "      <td>AGO</td>\n",
              "      <td>Life expectancy at birth, total (years)</td>\n",
              "      <td>SP.DYN.LE00.IN</td>\n",
              "      <td>2005</td>\n",
              "      <td>52.833</td>\n",
              "    </tr>\n",
              "    <tr>\n",
              "      <th>3</th>\n",
              "      <td>Albania</td>\n",
              "      <td>ALB</td>\n",
              "      <td>Life expectancy at birth, total (years)</td>\n",
              "      <td>SP.DYN.LE00.IN</td>\n",
              "      <td>2005</td>\n",
              "      <td>75.217</td>\n",
              "    </tr>\n",
              "    <tr>\n",
              "      <th>4</th>\n",
              "      <td>Andorra</td>\n",
              "      <td>AND</td>\n",
              "      <td>Life expectancy at birth, total (years)</td>\n",
              "      <td>SP.DYN.LE00.IN</td>\n",
              "      <td>2005</td>\n",
              "      <td>NaN</td>\n",
              "    </tr>\n",
              "  </tbody>\n",
              "</table>\n",
              "</div>"
            ],
            "text/plain": [
              "  Country Name Country Code  ...  Year life_expectancy\n",
              "0        Aruba          ABW  ...  2005          74.287\n",
              "1  Afghanistan          AFG  ...  2005          58.500\n",
              "2       Angola          AGO  ...  2005          52.833\n",
              "3      Albania          ALB  ...  2005          75.217\n",
              "4      Andorra          AND  ...  2005             NaN\n",
              "\n",
              "[5 rows x 6 columns]"
            ]
          },
          "metadata": {
            "tags": []
          },
          "execution_count": 22
        }
      ]
    },
    {
      "cell_type": "code",
      "metadata": {
        "id": "IBuosbcmbtEL"
      },
      "source": [
        ""
      ],
      "execution_count": null,
      "outputs": []
    },
    {
      "cell_type": "code",
      "metadata": {
        "id": "PY3y51NzbtHG"
      },
      "source": [
        ""
      ],
      "execution_count": null,
      "outputs": []
    },
    {
      "cell_type": "markdown",
      "metadata": {
        "id": "K3Uv2AGkWIha"
      },
      "source": [
        "### Practice address missing values for countries using the different approaches (imputation, interpolation, and deletion).\n"
      ]
    },
    {
      "cell_type": "code",
      "metadata": {
        "id": "c6b1EoKPWIha",
        "outputId": "f2c2fae0-857a-45c0-e461-fb3cf8f2ce1a",
        "colab": {
          "base_uri": "https://localhost:8080/",
          "height": 235
        }
      },
      "source": [
        "melted_df.info()"
      ],
      "execution_count": 23,
      "outputs": [
        {
          "output_type": "stream",
          "text": [
            "<class 'pandas.core.frame.DataFrame'>\n",
            "RangeIndex: 15048 entries, 0 to 15047\n",
            "Data columns (total 6 columns):\n",
            " #   Column           Non-Null Count  Dtype  \n",
            "---  ------           --------------  -----  \n",
            " 0   Country Name     15048 non-null  object \n",
            " 1   Country Code     15048 non-null  object \n",
            " 2   Indicator Name   15048 non-null  object \n",
            " 3   Indicator Code   15048 non-null  object \n",
            " 4   Year             15048 non-null  object \n",
            " 5   life_expectancy  13747 non-null  float64\n",
            "dtypes: float64(1), object(5)\n",
            "memory usage: 705.5+ KB\n"
          ],
          "name": "stdout"
        }
      ]
    },
    {
      "cell_type": "code",
      "metadata": {
        "id": "n-cqf_B_c1Rl",
        "outputId": "1bbe5348-1255-4b81-c61e-61e623fe9632",
        "colab": {
          "base_uri": "https://localhost:8080/",
          "height": 195
        }
      },
      "source": [
        "# imputation\n",
        "imputed_df = melted_df.copy()\n",
        "# imputed_df['life_expectancy'] = imputed_df['life_expectancy'].fillna(imputed_df['life_expectancy'].mean())\n",
        "imputed_df['life_expectancy'] = imputed_df.groupby('Country Name')['life_expectancy'].transform(lambda x: x.fillna(x.mean()))\n",
        "imputed_df.head()"
      ],
      "execution_count": 24,
      "outputs": [
        {
          "output_type": "execute_result",
          "data": {
            "text/html": [
              "<div>\n",
              "<style scoped>\n",
              "    .dataframe tbody tr th:only-of-type {\n",
              "        vertical-align: middle;\n",
              "    }\n",
              "\n",
              "    .dataframe tbody tr th {\n",
              "        vertical-align: top;\n",
              "    }\n",
              "\n",
              "    .dataframe thead th {\n",
              "        text-align: right;\n",
              "    }\n",
              "</style>\n",
              "<table border=\"1\" class=\"dataframe\">\n",
              "  <thead>\n",
              "    <tr style=\"text-align: right;\">\n",
              "      <th></th>\n",
              "      <th>Country Name</th>\n",
              "      <th>Country Code</th>\n",
              "      <th>Indicator Name</th>\n",
              "      <th>Indicator Code</th>\n",
              "      <th>Year</th>\n",
              "      <th>life_expectancy</th>\n",
              "    </tr>\n",
              "  </thead>\n",
              "  <tbody>\n",
              "    <tr>\n",
              "      <th>0</th>\n",
              "      <td>Aruba</td>\n",
              "      <td>ABW</td>\n",
              "      <td>Life expectancy at birth, total (years)</td>\n",
              "      <td>SP.DYN.LE00.IN</td>\n",
              "      <td>2005</td>\n",
              "      <td>74.287</td>\n",
              "    </tr>\n",
              "    <tr>\n",
              "      <th>1</th>\n",
              "      <td>Afghanistan</td>\n",
              "      <td>AFG</td>\n",
              "      <td>Life expectancy at birth, total (years)</td>\n",
              "      <td>SP.DYN.LE00.IN</td>\n",
              "      <td>2005</td>\n",
              "      <td>58.500</td>\n",
              "    </tr>\n",
              "    <tr>\n",
              "      <th>2</th>\n",
              "      <td>Angola</td>\n",
              "      <td>AGO</td>\n",
              "      <td>Life expectancy at birth, total (years)</td>\n",
              "      <td>SP.DYN.LE00.IN</td>\n",
              "      <td>2005</td>\n",
              "      <td>52.833</td>\n",
              "    </tr>\n",
              "    <tr>\n",
              "      <th>3</th>\n",
              "      <td>Albania</td>\n",
              "      <td>ALB</td>\n",
              "      <td>Life expectancy at birth, total (years)</td>\n",
              "      <td>SP.DYN.LE00.IN</td>\n",
              "      <td>2005</td>\n",
              "      <td>75.217</td>\n",
              "    </tr>\n",
              "    <tr>\n",
              "      <th>4</th>\n",
              "      <td>Andorra</td>\n",
              "      <td>AND</td>\n",
              "      <td>Life expectancy at birth, total (years)</td>\n",
              "      <td>SP.DYN.LE00.IN</td>\n",
              "      <td>2005</td>\n",
              "      <td>NaN</td>\n",
              "    </tr>\n",
              "  </tbody>\n",
              "</table>\n",
              "</div>"
            ],
            "text/plain": [
              "  Country Name Country Code  ...  Year life_expectancy\n",
              "0        Aruba          ABW  ...  2005          74.287\n",
              "1  Afghanistan          AFG  ...  2005          58.500\n",
              "2       Angola          AGO  ...  2005          52.833\n",
              "3      Albania          ALB  ...  2005          75.217\n",
              "4      Andorra          AND  ...  2005             NaN\n",
              "\n",
              "[5 rows x 6 columns]"
            ]
          },
          "metadata": {
            "tags": []
          },
          "execution_count": 24
        }
      ]
    },
    {
      "cell_type": "code",
      "metadata": {
        "id": "jpDAoKHQc1UF",
        "outputId": "7baef7a8-73a8-4aaa-8136-b8d4b140e6f3",
        "colab": {
          "base_uri": "https://localhost:8080/",
          "height": 235
        }
      },
      "source": [
        "imputed_df.info()"
      ],
      "execution_count": 25,
      "outputs": [
        {
          "output_type": "stream",
          "text": [
            "<class 'pandas.core.frame.DataFrame'>\n",
            "RangeIndex: 15048 entries, 0 to 15047\n",
            "Data columns (total 6 columns):\n",
            " #   Column           Non-Null Count  Dtype  \n",
            "---  ------           --------------  -----  \n",
            " 0   Country Name     15048 non-null  object \n",
            " 1   Country Code     15048 non-null  object \n",
            " 2   Indicator Name   15048 non-null  object \n",
            " 3   Indicator Code   15048 non-null  object \n",
            " 4   Year             15048 non-null  object \n",
            " 5   life_expectancy  14478 non-null  float64\n",
            "dtypes: float64(1), object(5)\n",
            "memory usage: 705.5+ KB\n"
          ],
          "name": "stdout"
        }
      ]
    },
    {
      "cell_type": "code",
      "metadata": {
        "id": "3hwN_PQic1YQ",
        "outputId": "e4ddfbd5-1029-4327-fae5-db684bc4a6eb",
        "colab": {
          "base_uri": "https://localhost:8080/",
          "height": 235
        }
      },
      "source": [
        "melted_df.info()"
      ],
      "execution_count": 26,
      "outputs": [
        {
          "output_type": "stream",
          "text": [
            "<class 'pandas.core.frame.DataFrame'>\n",
            "RangeIndex: 15048 entries, 0 to 15047\n",
            "Data columns (total 6 columns):\n",
            " #   Column           Non-Null Count  Dtype  \n",
            "---  ------           --------------  -----  \n",
            " 0   Country Name     15048 non-null  object \n",
            " 1   Country Code     15048 non-null  object \n",
            " 2   Indicator Name   15048 non-null  object \n",
            " 3   Indicator Code   15048 non-null  object \n",
            " 4   Year             15048 non-null  object \n",
            " 5   life_expectancy  13747 non-null  float64\n",
            "dtypes: float64(1), object(5)\n",
            "memory usage: 705.5+ KB\n"
          ],
          "name": "stdout"
        }
      ]
    },
    {
      "cell_type": "code",
      "metadata": {
        "id": "Vkh9ZHG0c1WN"
      },
      "source": [
        "# interpolation\n",
        "interpolated_df = melted_df.copy()\n",
        "interpolated_df['life_expectancy'] = interpolated_df.groupby('Country Name')['life_expectancy'].transform(lambda x: x.fillna(method='bfill'))\n",
        "\n",
        "# interpolated_df['life_expectancy'] = interpolated_df['life_expectancy'].fillna(method='ffill')"
      ],
      "execution_count": 27,
      "outputs": []
    },
    {
      "cell_type": "code",
      "metadata": {
        "id": "qhAfMZelfW7F",
        "outputId": "c0522c6e-be92-4ce0-b494-cbd9f75ed65f",
        "colab": {
          "base_uri": "https://localhost:8080/",
          "height": 235
        }
      },
      "source": [
        "interpolated_df.info()"
      ],
      "execution_count": 28,
      "outputs": [
        {
          "output_type": "stream",
          "text": [
            "<class 'pandas.core.frame.DataFrame'>\n",
            "RangeIndex: 15048 entries, 0 to 15047\n",
            "Data columns (total 6 columns):\n",
            " #   Column           Non-Null Count  Dtype  \n",
            "---  ------           --------------  -----  \n",
            " 0   Country Name     15048 non-null  object \n",
            " 1   Country Code     15048 non-null  object \n",
            " 2   Indicator Name   15048 non-null  object \n",
            " 3   Indicator Code   15048 non-null  object \n",
            " 4   Year             15048 non-null  object \n",
            " 5   life_expectancy  14367 non-null  float64\n",
            "dtypes: float64(1), object(5)\n",
            "memory usage: 705.5+ KB\n"
          ],
          "name": "stdout"
        }
      ]
    },
    {
      "cell_type": "code",
      "metadata": {
        "id": "pP2iqD3BfZQ0",
        "outputId": "e0437041-d58d-4f3b-b7ae-4933ddb120db",
        "colab": {
          "base_uri": "https://localhost:8080/",
          "height": 235
        }
      },
      "source": [
        "melted_df.info()"
      ],
      "execution_count": 29,
      "outputs": [
        {
          "output_type": "stream",
          "text": [
            "<class 'pandas.core.frame.DataFrame'>\n",
            "RangeIndex: 15048 entries, 0 to 15047\n",
            "Data columns (total 6 columns):\n",
            " #   Column           Non-Null Count  Dtype  \n",
            "---  ------           --------------  -----  \n",
            " 0   Country Name     15048 non-null  object \n",
            " 1   Country Code     15048 non-null  object \n",
            " 2   Indicator Name   15048 non-null  object \n",
            " 3   Indicator Code   15048 non-null  object \n",
            " 4   Year             15048 non-null  object \n",
            " 5   life_expectancy  13747 non-null  float64\n",
            "dtypes: float64(1), object(5)\n",
            "memory usage: 705.5+ KB\n"
          ],
          "name": "stdout"
        }
      ]
    },
    {
      "cell_type": "code",
      "metadata": {
        "id": "9IqXLqfofnJm"
      },
      "source": [
        ""
      ],
      "execution_count": null,
      "outputs": []
    },
    {
      "cell_type": "code",
      "metadata": {
        "id": "_uBt0Avdfxq9",
        "outputId": "d9ecdeec-f65d-44ba-ce15-77ef7f8b784f",
        "colab": {
          "base_uri": "https://localhost:8080/",
          "height": 235
        }
      },
      "source": [
        "delete_df = melted_df.copy()\n",
        "delete_df = delete_df.dropna()\n",
        "delete_df.info()"
      ],
      "execution_count": 30,
      "outputs": [
        {
          "output_type": "stream",
          "text": [
            "<class 'pandas.core.frame.DataFrame'>\n",
            "Int64Index: 13747 entries, 0 to 15047\n",
            "Data columns (total 6 columns):\n",
            " #   Column           Non-Null Count  Dtype  \n",
            "---  ------           --------------  -----  \n",
            " 0   Country Name     13747 non-null  object \n",
            " 1   Country Code     13747 non-null  object \n",
            " 2   Indicator Name   13747 non-null  object \n",
            " 3   Indicator Code   13747 non-null  object \n",
            " 4   Year             13747 non-null  object \n",
            " 5   life_expectancy  13747 non-null  float64\n",
            "dtypes: float64(1), object(5)\n",
            "memory usage: 751.8+ KB\n"
          ],
          "name": "stdout"
        }
      ]
    },
    {
      "cell_type": "code",
      "metadata": {
        "id": "tVTu_Hesf4uJ"
      },
      "source": [
        ""
      ],
      "execution_count": null,
      "outputs": []
    }
  ]
}