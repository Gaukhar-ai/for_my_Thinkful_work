{
 "cells": [
  {
   "cell_type": "code",
   "execution_count": 1,
   "metadata": {},
   "outputs": [
    {
     "ename": "SyntaxError",
     "evalue": "invalid syntax (<ipython-input-1-39222de55248>, line 19)",
     "output_type": "error",
     "traceback": [
      "\u001b[1;36m  File \u001b[1;32m\"<ipython-input-1-39222de55248>\"\u001b[1;36m, line \u001b[1;32m19\u001b[0m\n\u001b[1;33m    Displaying db_csv_load.py.\u001b[0m\n\u001b[1;37m               ^\u001b[0m\n\u001b[1;31mSyntaxError\u001b[0m\u001b[1;31m:\u001b[0m invalid syntax\n"
     ]
    }
   ],
   "source": [
    "\n",
    "import pandas as pd\n",
    "from sqlalchemy import create_engine\n",
    "\n",
    "user = 'postgres'\n",
    "pwd = 'HOUSE1' # Replace with your password\n",
    "host = 'localhost'\n",
    "port = '5432'\n",
    "db = 'Personal_DB'\n",
    "\n",
    "engine = create_engine('postgresql://' + user + ':' + pwd + \n",
    "                       '@' + host + ':' + port + '/' + db)\n",
    "\n",
    "vehicles = pd.read_csv('https://tf-assets-prod.s3.amazonaws.com/tf-curric/data-science/vehicles.csv')\n",
    "vehicles.to_sql('vehicles', engine, index=False)\n",
    "\n",
    "houseprices = pd.read_csv('https://tf-assets-prod.s3.amazonaws.com/tf-curric/data-science/houseprices.csv')\n",
    "houseprices.to_sql('houseprices', engine, index=False)\n",
    "db_csv_load.py\n",
    "Displaying db_csv_load.py."
   ]
  }
 ],
 "metadata": {
  "kernelspec": {
   "display_name": "Python 3",
   "language": "python",
   "name": "python3"
  },
  "language_info": {
   "codemirror_mode": {
    "name": "ipython",
    "version": 3
   },
   "file_extension": ".py",
   "mimetype": "text/x-python",
   "name": "python",
   "nbconvert_exporter": "python",
   "pygments_lexer": "ipython3",
   "version": "3.8.3"
  }
 },
 "nbformat": 4,
 "nbformat_minor": 4
}
