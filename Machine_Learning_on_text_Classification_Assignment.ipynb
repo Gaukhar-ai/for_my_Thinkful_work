{
  "nbformat": 4,
  "nbformat_minor": 0,
  "metadata": {
    "kernelspec": {
      "display_name": "Python 3",
      "language": "python",
      "name": "python3"
    },
    "language_info": {
      "codemirror_mode": {
        "name": "ipython",
        "version": 3
      },
      "file_extension": ".py",
      "mimetype": "text/x-python",
      "name": "python",
      "nbconvert_exporter": "python",
      "pygments_lexer": "ipython3",
      "version": "3.7.2"
    },
    "colab": {
      "name": "Machine_Learning_on_text:Classification.Assignment.ipynb",
      "provenance": [],
      "collapsed_sections": [],
      "include_colab_link": true
    }
  },
  "cells": [
    {
      "cell_type": "markdown",
      "metadata": {
        "id": "view-in-github",
        "colab_type": "text"
      },
      "source": [
        "<a href=\"https://colab.research.google.com/github/Gaukhar-ai/for_my_Thinkful_work/blob/master/Machine_Learning_on_text_Classification_Assignment.ipynb\" target=\"_parent\"><img src=\"https://colab.research.google.com/assets/colab-badge.svg\" alt=\"Open In Colab\"/></a>"
      ]
    },
    {
      "cell_type": "markdown",
      "metadata": {
        "id": "F4I54bZzMImI"
      },
      "source": [
        "# Machine Learning: Text Classification Assignment"
      ]
    },
    {
      "cell_type": "code",
      "metadata": {
        "id": "NBhHdzKtMImK"
      },
      "source": [
        "from nltk import word_tokenize\n",
        "from nltk.corpus import stopwords\n",
        "from sklearn.pipeline import Pipeline\n",
        "from nltk.stem.snowball import SnowballStemmer\n",
        "from nltk.stem.wordnet import WordNetLemmatizer\n",
        "from sklearn.metrics import classification_report\n",
        "from sklearn.model_selection import cross_val_score\n",
        "from sklearn.ensemble import RandomForestClassifier\n",
        "from sklearn.feature_extraction.text import CountVectorizer\n",
        "from sklearn.feature_extraction.text import TfidfTransformer\n",
        "from sklearn.model_selection import train_test_split as tts\n",
        "from nltk.corpus.reader.plaintext import CategorizedPlaintextCorpusReader"
      ],
      "execution_count": 1,
      "outputs": []
    },
    {
      "cell_type": "code",
      "metadata": {
        "id": "W6GbHRXkS7xV",
        "outputId": "ad392d7d-35e9-41c0-c8e7-9fb6c5a3fdb6",
        "colab": {
          "base_uri": "https://localhost:8080/"
        }
      },
      "source": [
        "import nltk\n",
        "nltk.download('punkt')\n",
        "nltk.download('stopwords')\n",
        "nltk.download('wordnet')"
      ],
      "execution_count": 2,
      "outputs": [
        {
          "output_type": "stream",
          "text": [
            "[nltk_data] Downloading package punkt to /root/nltk_data...\n",
            "[nltk_data]   Package punkt is already up-to-date!\n",
            "[nltk_data] Downloading package stopwords to /root/nltk_data...\n",
            "[nltk_data]   Package stopwords is already up-to-date!\n",
            "[nltk_data] Downloading package wordnet to /root/nltk_data...\n",
            "[nltk_data]   Package wordnet is already up-to-date!\n"
          ],
          "name": "stdout"
        },
        {
          "output_type": "execute_result",
          "data": {
            "text/plain": [
              "True"
            ]
          },
          "metadata": {
            "tags": []
          },
          "execution_count": 2
        }
      ]
    },
    {
      "cell_type": "markdown",
      "metadata": {
        "id": "d2tVDJJaMImN"
      },
      "source": [
        "### Use the CategorizedPlaintextCorpusReader to import the AP_News corpus."
      ]
    },
    {
      "cell_type": "code",
      "metadata": {
        "id": "Dox9-g6wThAE"
      },
      "source": [
        "PATH = '/content/drive/My Drive/Data Science/AP_News'"
      ],
      "execution_count": 3,
      "outputs": []
    },
    {
      "cell_type": "code",
      "metadata": {
        "id": "5RzaeO_lTkC_",
        "outputId": "9fd660ce-f512-409f-8c21-fd3c6b8ffdae",
        "colab": {
          "base_uri": "https://localhost:8080/"
        }
      },
      "source": [
        "from google.colab import drive\n",
        "drive.mount('/content/drive')"
      ],
      "execution_count": 4,
      "outputs": [
        {
          "output_type": "stream",
          "text": [
            "Drive already mounted at /content/drive; to attempt to forcibly remount, call drive.mount(\"/content/drive\", force_remount=True).\n"
          ],
          "name": "stdout"
        }
      ]
    },
    {
      "cell_type": "code",
      "metadata": {
        "id": "REtoZb_iMImO"
      },
      "source": [
        "from nltk.corpus.reader.plaintext import CategorizedPlaintextCorpusReader\n",
        "\n",
        "DOC_PATTERN = r'.*\\.txt'\n",
        "CAT_PATTERN = r'([\\w_\\s]+)/.*'\n",
        "\n",
        "corpus = CategorizedPlaintextCorpusReader(PATH, DOC_PATTERN, cat_pattern = CAT_PATTERN)"
      ],
      "execution_count": 5,
      "outputs": []
    },
    {
      "cell_type": "markdown",
      "metadata": {
        "id": "SQMuBvquMImP"
      },
      "source": [
        "### Create two separate lists - one containing the text from each document and another containing the category of each article in the corpus."
      ]
    },
    {
      "cell_type": "code",
      "metadata": {
        "id": "8jU4ZNM-MImQ"
      },
      "source": [
        "docs = [corpus.raw(fileid) for fileid in corpus.fileids()]\n",
        "\n",
        "categories = [corpus.categories(fileid)[0]\n",
        "              for fileid in corpus.fileids()]"
      ],
      "execution_count": 6,
      "outputs": []
    },
    {
      "cell_type": "markdown",
      "metadata": {
        "id": "OGRABGW8MImR"
      },
      "source": [
        "### Preprocess the corpus, ensuring to include the following steps.\n",
        "\n",
        "- Word tokenize the documents.\n",
        "- Lemmatize, stem, and lowercase all tokens.\n",
        "- Remove punctuation and stop words."
      ]
    },
    {
      "cell_type": "code",
      "metadata": {
        "id": "hk-Nlze1MImS"
      },
      "source": [
        "def preprocess(docs):\n",
        "  lemmatizer = WordNetLemmatizer()\n",
        "  stemmer = SnowballStemmer('english')\n",
        "  preprocessed = []\n",
        "\n",
        "  for doc in docs:\n",
        "    tokenized = word_tokenize(doc)\n",
        "    cleaned = [stemmer.stem(lemmatizer.lemmatize(token.lower()))\n",
        "      for token in tokenized\n",
        "      if not token.lower() in stopwords.words('english')\n",
        "      if token.isalpha()]\n",
        "    untokenized = ' '.join(cleaned)\n",
        "    preprocessed.append(untokenized)\n",
        "  return preprocessed\n"
      ],
      "execution_count": 24,
      "outputs": []
    },
    {
      "cell_type": "code",
      "metadata": {
        "id": "MfaqzjPJcuwa"
      },
      "source": [
        "preprocessed = preprocess(docs)\n"
      ],
      "execution_count": 25,
      "outputs": []
    },
    {
      "cell_type": "markdown",
      "metadata": {
        "id": "gZE-q4ziMImT"
      },
      "source": [
        "### Split the data into training and testing sets with the size of the test set being 30% of the records."
      ]
    },
    {
      "cell_type": "code",
      "metadata": {
        "id": "rMwtYnhxZdEM"
      },
      "source": [
        "from sklearn import preprocessing"
      ],
      "execution_count": 14,
      "outputs": []
    },
    {
      "cell_type": "code",
      "metadata": {
        "id": "hKFyBgjBMImU"
      },
      "source": [
        "from sklearn.model_selection import train_test_split as tts \n",
        "X_train, X_test, y_train, y_test = tts(preprocessed, categories, test_size=0.3, random_state=55)"
      ],
      "execution_count": 27,
      "outputs": []
    },
    {
      "cell_type": "markdown",
      "metadata": {
        "id": "reegQu_5MImV"
      },
      "source": [
        "### Construct a pipeline that TF-IDF vectorizes the text and trains a Random Forest classification model."
      ]
    },
    {
      "cell_type": "code",
      "metadata": {
        "id": "_3JJ3hjNMImW"
      },
      "source": [
        "from sklearn.pipeline import Pipeline\n",
        "from sklearn.feature_extraction.text import CountVectorizer\n",
        "from sklearn.feature_extraction.text import TfidfTransformer"
      ],
      "execution_count": 28,
      "outputs": []
    },
    {
      "cell_type": "code",
      "metadata": {
        "id": "rIzzMB0gev9t"
      },
      "source": [
        ""
      ],
      "execution_count": null,
      "outputs": []
    },
    {
      "cell_type": "code",
      "metadata": {
        "id": "D9-37FJ9eXWW"
      },
      "source": [
        "model = Pipeline([\n",
        "                  ('vect', CountVectorizer()),\n",
        "                  ('tfidf', TfidfTransformer()),\n",
        "                  ('rf', RandomForestClassifier()),\n",
        "])"
      ],
      "execution_count": 30,
      "outputs": []
    },
    {
      "cell_type": "code",
      "metadata": {
        "id": "tH_qtGmNe9Kp",
        "outputId": "79c10b16-02d4-45ee-a482-18c15aaaa8fe",
        "colab": {
          "base_uri": "https://localhost:8080/"
        }
      },
      "source": [
        "model.fit(X_train, y_train)"
      ],
      "execution_count": 32,
      "outputs": [
        {
          "output_type": "execute_result",
          "data": {
            "text/plain": [
              "Pipeline(memory=None,\n",
              "         steps=[('vect',\n",
              "                 CountVectorizer(analyzer='word', binary=False,\n",
              "                                 decode_error='strict',\n",
              "                                 dtype=<class 'numpy.int64'>, encoding='utf-8',\n",
              "                                 input='content', lowercase=True, max_df=1.0,\n",
              "                                 max_features=None, min_df=1,\n",
              "                                 ngram_range=(1, 1), preprocessor=None,\n",
              "                                 stop_words=None, strip_accents=None,\n",
              "                                 token_pattern='(?u)\\\\b\\\\w\\\\w+\\\\b',\n",
              "                                 tokenizer=None, vocabulary=Non...\n",
              "                 RandomForestClassifier(bootstrap=True, ccp_alpha=0.0,\n",
              "                                        class_weight=None, criterion='gini',\n",
              "                                        max_depth=None, max_features='auto',\n",
              "                                        max_leaf_nodes=None, max_samples=None,\n",
              "                                        min_impurity_decrease=0.0,\n",
              "                                        min_impurity_split=None,\n",
              "                                        min_samples_leaf=1, min_samples_split=2,\n",
              "                                        min_weight_fraction_leaf=0.0,\n",
              "                                        n_estimators=100, n_jobs=None,\n",
              "                                        oob_score=False, random_state=None,\n",
              "                                        verbose=0, warm_start=False))],\n",
              "         verbose=False)"
            ]
          },
          "metadata": {
            "tags": []
          },
          "execution_count": 32
        }
      ]
    },
    {
      "cell_type": "markdown",
      "metadata": {
        "id": "cFt6djjpMImX"
      },
      "source": [
        "### Generate predictions on the test set and print a classification report to evaluate how well the model performed."
      ]
    },
    {
      "cell_type": "code",
      "metadata": {
        "id": "yWT99tvHMImY",
        "outputId": "7611eb98-a9b5-4173-f474-3529ebb3826a",
        "colab": {
          "base_uri": "https://localhost:8080/"
        }
      },
      "source": [
        "from sklearn.metrics import classification_report\n",
        "\n",
        "predictions = model.predict(X_test)\n",
        "print(classification_report(y_test, predictions))"
      ],
      "execution_count": 33,
      "outputs": [
        {
          "output_type": "stream",
          "text": [
            "              precision    recall  f1-score   support\n",
            "\n",
            "      health       0.47      0.73      0.57        11\n",
            "    politics       0.68      0.79      0.73        19\n",
            "      sports       1.00      0.76      0.87        17\n",
            "        tech       0.86      0.63      0.73        19\n",
            "\n",
            "    accuracy                           0.73        66\n",
            "   macro avg       0.75      0.73      0.72        66\n",
            "weighted avg       0.78      0.73      0.74        66\n",
            "\n"
          ],
          "name": "stdout"
        }
      ]
    },
    {
      "cell_type": "markdown",
      "metadata": {
        "id": "T2BwKeBNMImZ"
      },
      "source": [
        "### Perform 10-fold cross validation and obtain the averge F1 score across all the folds."
      ]
    },
    {
      "cell_type": "code",
      "metadata": {
        "id": "-n9cTvc6MIma",
        "outputId": "ab5c7abe-4796-4252-91e3-8f89d3d52bdd",
        "colab": {
          "base_uri": "https://localhost:8080/"
        }
      },
      "source": [
        "from sklearn.model_selection import cross_val_score\n",
        "\n",
        "scores = cross_val_score(model, preprocessed, categories,\n",
        "                         cv=10, scoring='f1_macro')\n",
        "scores.mean()"
      ],
      "execution_count": 34,
      "outputs": [
        {
          "output_type": "execute_result",
          "data": {
            "text/plain": [
              "0.7877990759240759"
            ]
          },
          "metadata": {
            "tags": []
          },
          "execution_count": 34
        }
      ]
    },
    {
      "cell_type": "markdown",
      "metadata": {
        "id": "1H9ERShiMImb"
      },
      "source": [
        "### Ingest, preprocess, and predict the topic of the article at the following URL."
      ]
    },
    {
      "cell_type": "code",
      "metadata": {
        "id": "_u5kLK5gkxQ4"
      },
      "source": [
        "import requests\n",
        "from bs4 import BeautifulSoup"
      ],
      "execution_count": 35,
      "outputs": []
    },
    {
      "cell_type": "code",
      "metadata": {
        "id": "0d2mfYGSMImc"
      },
      "source": [
        "url = 'https://www.nytimes.com/2019/11/25/business/uber-london.html'"
      ],
      "execution_count": 36,
      "outputs": []
    },
    {
      "cell_type": "code",
      "metadata": {
        "id": "7piaPcKNMImd",
        "outputId": "097b0e8a-8a74-4490-f9a2-cafe473ef2d4",
        "colab": {
          "base_uri": "https://localhost:8080/"
        }
      },
      "source": [
        "def get_url_text(url):\n",
        "  response = requests.get(url)\n",
        "  content = response.text \n",
        "\n",
        "  TAGS = ['h1', 'h2', 'h3', 'h4', 'h5', 'h6', 'h7', 'p', 'li']\n",
        "  soup = BeautifulSoup(content, 'lxml')\n",
        "  text_list = [tag.get_text() for tag in soup.find_all(TAGS)]\n",
        "  text = ' '.join(text_list)\n",
        "  return text_list\n",
        "\n",
        "text = get_url_text(url)\n",
        "text"
      ],
      "execution_count": 38,
      "outputs": [
        {
          "output_type": "execute_result",
          "data": {
            "text/plain": [
              "['',\n",
              " '',\n",
              " '',\n",
              " '',\n",
              " '',\n",
              " '',\n",
              " 'Advertisement',\n",
              " 'Supported by',\n",
              " 'Uber Is Fighting to Survive in London After Losing Its License ',\n",
              " 'The company is at odds with regulators and drivers of traditional cabs in its most lucrative European market.',\n",
              " '',\n",
              " '',\n",
              " '',\n",
              " '',\n",
              " '',\n",
              " '',\n",
              " 'By Adam Satariano and Amie Tsang',\n",
              " 'Nov. 25, 2019',\n",
              " '',\n",
              " '',\n",
              " '',\n",
              " '',\n",
              " '',\n",
              " '',\n",
              " '',\n",
              " 'LONDON — Uber suffered a major blow on Monday after London transportation authorities made a surprise decision to not extend its taxi operating license because of persistent safety problems, throwing into question whether the company can continue operating in its most lucrative European market.',\n",
              " 'The decision will not immediately affect Uber’s presence on London streets. The ride-hailing company said it would appeal the decision, setting off what could be a long legal process. Uber can continue to operate throughout that time. ',\n",
              " 'But the news adds to a difficult year for the company, which staged a disappointing initial public offering in May. Uber has since experienced executive turnover, had several rounds of layoffs and faces continued public scrutiny over the safety of its passengers. ',\n",
              " 'Transport for London, which regulates taxi and private hire services in the city, said Uber did not meet the “fit and proper” standard needed to hold a taxi license. Regulators said Uber had a pattern of failures that placed passenger safety at risk, including vulnerabilities in Uber’s app that allowed unauthorized drivers to carry thousands of riders. ',\n",
              " '“It is clearly concerning that these issues arose, but it is also concerning that we cannot be confident that similar issues won’t happen again,” Helen Chapman, the director of licensing, regulation and charging at Transport for London, said in a statement. ',\n",
              " 'Uber’s experience in London highlights its broader regulatory challenge. In Europe, the company has struggled to get a foothold in countries like Germany, Spain, Italy and Denmark, where tougher regulations have limited its availability.',\n",
              " 'London is one of Uber’s most lucrative markets, but also home to some of its most contentious struggles with government authorities. The company has been in a battle to retain its license in the British capital for years. ',\n",
              " 'In 2017, authorities in London also revoked Uber’s license for, among other reasons, poor oversight of drivers. Uber appealed the decision and was granted a 15-month license after it agreed to more government supervision and several policy changes, including adopting rules on how to report incidents to the police, keeping tired drivers off the road and naming a new independent board to oversee British operations.',\n",
              " 'City authorities acknowledged that Uber “has made a number of positive changes and improvement to its culture, leadership and systems,” but said it had not gone far enough. The company’s license was due to expire at 11:59 p.m. on Monday. ',\n",
              " 'The transport authority said one main issue was a flaw in Uber’s system that let unauthorized drivers sneak onto it. The drivers sidestepped rules by colluding with authorized drivers to pick up riders under their account. At least 14,000 trips were conducted by at least 43 drivers using the workaround.',\n",
              " '“This means all the journeys were uninsured and some passenger journeys took place with unlicensed drivers,” Transport for London said. ',\n",
              " 'This practice, known as “account spoofing,” is a challenge for gig-economy platforms to police. Food delivery companies have also seen people working under the accounts of others to sidestep policies.',\n",
              " 'London officials cited other safety deficiencies at Uber, including instances when dismissed or suspended drivers were able to create another account. Transport for London found several examples in which drivers did not have the correct insurance. The regulators said that because of the volume of problems, they had lost faith in Uber’s ability to improve.',\n",
              " 'Uber said in a statement that it would operate as normal while it appealed the decision, which it called “extraordinary and wrong.” The company said it first notified regulators about the unauthorized drivers in May and had since closed the loophole.',\n",
              " '“We understand we’re held to a high bar, as we should be,” Dara Khosrowshahi, Uber’s chief executive, said on Twitter. “But this TfL decision is just wrong. Over the last 2 years we have fundamentally changed how we operate in London. We have come very far — and we will keep going, for the millions of drivers and riders who rely on us.” ',\n",
              " 'Mr. Khosrowshahi joined Uber in 2017 promising to clean up the company’s culture, which was known for making growth its top priority and flouting government regulation. But Uber has continued to grapple with criticism for safety and not doing enough to protect both riders and drivers. ',\n",
              " 'In the United States, Senator Richard Blumenthal, Democrat of Connecticut, called on Uber and Lyft to adopt fingerprint background checks on drivers, after The Washington Post recently reported on policies that kept some incidents from being reported to the police and a lack of information-sharing about problematic drivers with rival car services. ',\n",
              " 'Revoking Uber’s license in London could ultimately have substantial financial implications for the company, which is struggling to make a profit and this month reported a $1.2 billion quarterly loss. ',\n",
              " 'Uber also announced a series of new security measures this month, including enhanced safety training for drivers, a “discrimination button” that allows drivers and passengers to report abuse and a direct line to emergency services.',\n",
              " 'In London, Uber said it would put new safety checks in place to confirm the identity of drivers before they could use the app. It added a similar process in Australia, after an unauthorized driver who was fraudulently using a friend’s account pleaded guilty to raping a woman. ',\n",
              " 'Uber, which arrived in London in 2012, has around 45,000 drivers in the city.',\n",
              " 'Sadiq Khan, the mayor of London, said Transport for London could not be confident that Uber had enough regulation in place to “prevent another serious safety breach in the future.”',\n",
              " '“I know this decision may be unpopular with Uber users, but their safety is the paramount concern,” he said in a statement.',\n",
              " 'Organizations representing drivers of London’s traditional cabs see Uber as undercutting their business and have lobbied against the company’s license renewal. Some, including Steve McNamara, the general secretary of the Licensed Taxi Drivers’ Association, celebrated Monday’s decision and said Londoners would be “safer as a result.”',\n",
              " '“Unfit operators cannot get away with deliberately shirking their responsibilities,” he said in a statement. “Uber have had 17 months to comply with the conditions of their temporary license, and yet they have continually put Londoners at risk by letting drivers on the road who aren’t properly licensed or insured.”',\n",
              " 'Others said the decision unfairly harmed the thousands of drivers who use the platform. ',\n",
              " '“The mayor’s decision to once again deny Uber a license will come as a hammer blow to its 50,000 drivers working under precarious conditions,” said James Farrar, the chairman of the United Private Hire Drivers branch of the Independent Workers Union of Great Britain. “Many will now face the distress of facing not only unemployment, but also crippling debt as they struggle to meet car lease payments.” ',\n",
              " 'Muhumed Ali, 48, who has been an Uber driver for more than four years, said the decision meant he would be living with constant worry. ',\n",
              " '“It keeps you insecure,” said Mr. Ali, who drives at least 40 hours a week, “unsure for your income.” ',\n",
              " 'Adam Satariano reported from London, and Amie Tsang from Hong Kong. ',\n",
              " 'Advertisement',\n",
              " 'Site Index',\n",
              " 'Site Information Navigation',\n",
              " '©\\xa02020\\xa0The New York Times Company',\n",
              " 'NYTCo',\n",
              " 'Contact Us',\n",
              " 'Work with us',\n",
              " 'Advertise',\n",
              " 'T Brand Studio',\n",
              " 'Your Ad Choices',\n",
              " 'Privacy Policy',\n",
              " 'Terms of Service',\n",
              " 'Terms of Sale',\n",
              " 'Site Map',\n",
              " 'Canada',\n",
              " 'International',\n",
              " 'Help',\n",
              " 'Subscriptions']"
            ]
          },
          "metadata": {
            "tags": []
          },
          "execution_count": 38
        }
      ]
    },
    {
      "cell_type": "code",
      "metadata": {
        "id": "CqQdyBBOmDKo"
      },
      "source": [
        "cleaned = preprocess([text])\n",
        "cleaned\n"
      ],
      "execution_count": null,
      "outputs": []
    },
    {
      "cell_type": "code",
      "metadata": {
        "id": "5kmRlZ-Smjyy",
        "outputId": "b9ea0b20-271c-47fe-b952-5dbcac1784fc",
        "colab": {
          "base_uri": "https://localhost:8080/",
          "height": 35
        }
      },
      "source": [
        "model.predict(cleaned)[0]"
      ],
      "execution_count": 50,
      "outputs": [
        {
          "output_type": "execute_result",
          "data": {
            "application/vnd.google.colaboratory.intrinsic+json": {
              "type": "string"
            },
            "text/plain": [
              "'health'"
            ]
          },
          "metadata": {
            "tags": []
          },
          "execution_count": 50
        }
      ]
    },
    {
      "cell_type": "code",
      "metadata": {
        "id": "pvLd1AHhohcp"
      },
      "source": [
        ""
      ],
      "execution_count": null,
      "outputs": []
    }
  ]
}