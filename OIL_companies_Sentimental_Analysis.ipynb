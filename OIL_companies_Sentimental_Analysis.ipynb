{
  "nbformat": 4,
  "nbformat_minor": 0,
  "metadata": {
    "colab": {
      "name": "OIL_companies.Sentimental.Analysis.ipynb",
      "provenance": [],
      "authorship_tag": "ABX9TyMD9okZaMhoDo0Evfn9ghsV",
      "include_colab_link": true
    },
    "kernelspec": {
      "name": "python3",
      "display_name": "Python 3"
    }
  },
  "cells": [
    {
      "cell_type": "markdown",
      "metadata": {
        "id": "view-in-github",
        "colab_type": "text"
      },
      "source": [
        "<a href=\"https://colab.research.google.com/github/Gaukhar-ai/for_my_Thinkful_work/blob/master/OIL_companies_Sentimental_Analysis.ipynb\" target=\"_parent\"><img src=\"https://colab.research.google.com/assets/colab-badge.svg\" alt=\"Open In Colab\"/></a>"
      ]
    },
    {
      "cell_type": "code",
      "metadata": {
        "id": "0kwT6NV5k8O2",
        "outputId": "17bfb0e2-27d1-4ac7-a33c-b2fac8ac2be6",
        "colab": {
          "base_uri": "https://localhost:8080/"
        }
      },
      "source": [
        "\n",
        "# Import libraries\n",
        "import pandas as pd\n",
        "from bs4 import BeautifulSoup\n",
        "import matplotlib.pyplot as plt\n",
        "from urllib.request import urlopen, Request\n",
        "from nltk.sentiment.vader import SentimentIntensityAnalyzer"
      ],
      "execution_count": 1,
      "outputs": [
        {
          "output_type": "stream",
          "text": [
            "/usr/local/lib/python3.6/dist-packages/nltk/twitter/__init__.py:20: UserWarning: The twython library has not been installed. Some functionality from the twitter package will not be available.\n",
            "  warnings.warn(\"The twython library has not been installed. \"\n"
          ],
          "name": "stderr"
        }
      ]
    },
    {
      "cell_type": "code",
      "metadata": {
        "id": "lg7rVYVJlGAa"
      },
      "source": [
        "# Parameters \n",
        "n = 5 #the # of article headlines displayed per ticker\n",
        "tickers = ['SNP', 'PTR', 'BP', 'XOM', 'TOT', 'CVX', 'MPC']"
      ],
      "execution_count": 5,
      "outputs": []
    },
    {
      "cell_type": "code",
      "metadata": {
        "id": "JkgHUa1LlGDT"
      },
      "source": [
        "# Get Data\n",
        "finwiz_url = 'https://finviz.com/quote.ashx?t='\n",
        "news_tables = {}"
      ],
      "execution_count": 6,
      "outputs": []
    },
    {
      "cell_type": "code",
      "metadata": {
        "id": "vHUczmuYlGGL",
        "outputId": "2af71d9d-5451-48e2-b260-575bde9a37a6",
        "colab": {
          "base_uri": "https://localhost:8080/"
        }
      },
      "source": [
        "for ticker in tickers:\n",
        "    url = finwiz_url + ticker\n",
        "    req = Request(url=url,headers={'user-agent': 'my-app/0.0.1'}) \n",
        "    resp = urlopen(req)    \n",
        "    html = BeautifulSoup(resp, features=\"lxml\")\n",
        "    news_table = html.find(id='news-table')\n",
        "    news_tables[ticker] = news_table\n",
        "\n",
        "try:\n",
        "    for ticker in tickers:\n",
        "        df = news_tables[ticker]\n",
        "        df_tr = df.findAll('tr')\n",
        "    \n",
        "        print ('\\n')\n",
        "        print ('Recent News Headlines for {}: '.format(ticker))\n",
        "        \n",
        "        for i, table_row in enumerate(df_tr):\n",
        "            a_text = table_row.a.text\n",
        "            td_text = table_row.td.text\n",
        "            td_text = td_text.strip()\n",
        "            print(a_text,'(',td_text,')')\n",
        "            if i == n-1:\n",
        "                break\n",
        "except KeyError:\n",
        "    pass"
      ],
      "execution_count": 7,
      "outputs": [
        {
          "output_type": "stream",
          "text": [
            "\n",
            "\n",
            "Recent News Headlines for SNP: \n",
            "Sinopec's Net Profit for 2020 Q3 Reached RMB 23.507 Billion Campaign of Continuously Tiding Over Difficulties and Improving Performances Achieves Favorable Results with Significant Improvement of Operation and Profitability ( Oct-28-20 11:05PM )\n",
            "China's Sinopec flips to quarterly profit on robust refining business ( 06:44AM )\n",
            "China Recruits a South Korean Conglomerate to Advise on ESG ( Oct-18-20 10:25PM )\n",
            "Sinopec Group Overseas Development (2015) Ltd -- Moody's affirms A1 ratings of Sinopec Group and Sinopec Corp; outlook stable ( Oct-16-20 07:20PM )\n",
            "U.S. State Department may add Ant Group to trade blacklist: RPT ( 03:11PM )\n",
            "\n",
            "\n",
            "Recent News Headlines for PTR: \n",
            "PetroChina (PTR) Q3 Earnings Jump on Pipeline Spin-Off Gains ( Nov-09-20 08:32AM )\n",
            "PetroChina Company Limited (PTR) Q3 2020 Earnings Call Transcript ( Oct-30-20 11:01PM )\n",
            "Zero Hour Is Coming for Emissions. Believe It ( Oct-25-20 06:00PM )\n",
            "PetroChina Company (PTR) Enters Oversold Territory ( Oct-21-20 06:36AM )\n",
            "U.S. State Department may add Ant Group to trade blacklist: RPT ( Oct-16-20 03:11PM )\n",
            "\n",
            "\n",
            "Recent News Headlines for BP: \n",
            "Shell upped to buy at HSBC, which also keeps BP and Total at buy ( Nov-09-20 09:42AM )\n",
            "Ghost Rigs Could Become The New Normal In Offshore Oil ( Nov-08-20 03:00PM )\n",
            "Bidens Energy Plan Is Only as Ambitious as BPs ( 11:14AM )\n",
            "BP in Discussions to Sell Its London Headquarters, Report Says ( Nov-05-20 08:06AM )\n",
            "Oil & Gas Stock Roundup: Breaking Down Big Oil Q3 Earnings ( Nov-04-20 02:23PM )\n",
            "\n",
            "\n",
            "Recent News Headlines for XOM: \n",
            "The 2 Most Surprising Stock Market Winners Today ( Nov-09-20 04:24PM )\n",
            "Exxon Mobil Leads Energy Shares Higher On Pfizer Vaccine Boost: U.S. Crude Surges Past $40 A Barrel ( 01:57PM )\n",
            "Shell upped to buy at HSBC, which also keeps BP and Total at buy ( 09:42AM )\n",
            "Oil Stocks Are Booming After Pfizers Covid Vaccine Announcement. What You Need to Know. ( 09:22AM )\n",
            "3 Stocks to Avoid This Week ( 09:05AM )\n",
            "\n",
            "\n",
            "Recent News Headlines for TOT: \n",
            "My Top Oil Stock to Buy Right Now ( Nov-05-20 10:45AM )\n",
            "BP vs. Total: Which Oil Company Is Better Positioned for a Green Energy Transition? ( Oct-31-20 10:35AM )\n",
            "3 Top Energy Stocks to Buy Ahead of the Election ( 07:36AM )\n",
            "TOTAL SA (TOT) Q3 2020 Earnings Call Transcript ( Oct-30-20 08:30PM )\n",
            "Crude Oil Slumps Again as Risk Asset Rout Intensifies ( 07:34AM )\n",
            "\n",
            "\n",
            "Recent News Headlines for CVX: \n",
            "Big Oil Stocks Are Soaring on COVID-19 Vaccine News Today ( Nov-09-20 10:57AM )\n",
            "Shell upped to buy at HSBC, which also keeps BP and Total at buy ( 09:42AM )\n",
            "Forget Exxon, These 3 Energy Stocks Are Better Buys Right Now ( Nov-07-20 08:24AM )\n",
            "No Stimulus? This Expansion Still Looks Self-Sustaining, Says One Economist ( Nov-06-20 08:15PM )\n",
            "Clean Energy Fuels Corp (CLNE) Q3 2020 Earnings Call Transcript ( 03:00PM )\n",
            "\n",
            "\n",
            "Recent News Headlines for MPC: \n",
            "No Stimulus? This Expansion Still Looks Self-Sustaining, Says One Economist ( Nov-06-20 08:15PM )\n",
            "Analyzing Marathon Petroleum's Unusual Options Activity ( Nov-04-20 09:34AM )\n",
            "Marathon Petroleum (MPC) Q3 2020 Earnings Call Transcript ( Nov-02-20 07:31PM )\n",
            "Marathon Petroleum Rises After Narrower-Than-Expected Loss ( 12:20PM )\n",
            "Marathon (MPC) Q3 Loss Narrower Than Expected, Sales Miss ( 09:28AM )\n"
          ],
          "name": "stdout"
        }
      ]
    },
    {
      "cell_type": "code",
      "metadata": {
        "id": "yUEwZIfQlGJE"
      },
      "source": [
        " #Iterate through the news\n",
        "parsed_news = []\n",
        "for file_name, news_table in news_tables.items():\n",
        "    for x in news_table.findAll('tr'):\n",
        "        text = x.a.get_text() \n",
        "        date_scrape = x.td.text.split()\n",
        "\n",
        "        if len(date_scrape) == 1:\n",
        "            time = date_scrape[0]\n",
        "            \n",
        "        else:\n",
        "            date = date_scrape[0]\n",
        "            time = date_scrape[1]\n",
        "\n",
        "        ticker = file_name.split('_')[0]\n",
        "        \n",
        "        parsed_news.append([ticker, date, time, text])"
      ],
      "execution_count": 8,
      "outputs": []
    },
    {
      "cell_type": "code",
      "metadata": {
        "id": "vS57KACols3b",
        "outputId": "13755b5a-72f9-460c-d5ee-e2aeff2ea605",
        "colab": {
          "base_uri": "https://localhost:8080/"
        }
      },
      "source": [
        "import nltk\n",
        "nltk.download('vader_lexicon')"
      ],
      "execution_count": 9,
      "outputs": [
        {
          "output_type": "stream",
          "text": [
            "[nltk_data] Downloading package vader_lexicon to /root/nltk_data...\n",
            "[nltk_data]   Package vader_lexicon is already up-to-date!\n"
          ],
          "name": "stdout"
        },
        {
          "output_type": "execute_result",
          "data": {
            "text/plain": [
              "True"
            ]
          },
          "metadata": {
            "tags": []
          },
          "execution_count": 9
        }
      ]
    },
    {
      "cell_type": "code",
      "metadata": {
        "id": "izcYMgj7lGL8"
      },
      "source": [
        "# Sentiment Analysis\n",
        "analyzer = SentimentIntensityAnalyzer()\n",
        "\n",
        "columns = ['Ticker', 'Date', 'Time', 'Headline']\n",
        "news = pd.DataFrame(parsed_news, columns=columns)\n",
        "scores = news['Headline'].apply(analyzer.polarity_scores).tolist()\n",
        "\n",
        "df_scores = pd.DataFrame(scores)\n",
        "news = news.join(df_scores, rsuffix='_right')"
      ],
      "execution_count": 10,
      "outputs": []
    },
    {
      "cell_type": "code",
      "metadata": {
        "id": "NhpK8m5tlGOk"
      },
      "source": [
        "# View Data \n",
        "news['Date'] = pd.to_datetime(news.Date).dt.date"
      ],
      "execution_count": 11,
      "outputs": []
    },
    {
      "cell_type": "code",
      "metadata": {
        "id": "fBk8keR0lGRd"
      },
      "source": [
        "unique_ticker = news['Ticker'].unique().tolist()\n",
        "news_dict = {name: news.loc[news['Ticker'] == name] for name in unique_ticker}"
      ],
      "execution_count": 12,
      "outputs": []
    },
    {
      "cell_type": "code",
      "metadata": {
        "id": "PKTTsWNjlGUV",
        "outputId": "628cf459-68ba-42ff-e1ff-9b317b66a247",
        "colab": {
          "base_uri": "https://localhost:8080/"
        }
      },
      "source": [
        "\n",
        "values = []\n",
        "for ticker in tickers: \n",
        "    dataframe = news_dict[ticker]\n",
        "    dataframe = dataframe.set_index('Ticker')\n",
        "    dataframe = dataframe.drop(columns = ['Headline'])\n",
        "    print ('\\n')\n",
        "    print (dataframe.head())\n",
        "    \n",
        "    mean = round(dataframe['compound'].mean(), 2)\n",
        "    values.append(mean)"
      ],
      "execution_count": 13,
      "outputs": [
        {
          "output_type": "stream",
          "text": [
            "\n",
            "\n",
            "              Date     Time    neg    neu    pos  compound\n",
            "Ticker                                                    \n",
            "SNP     2020-10-28  11:05PM  0.055  0.521  0.424    0.9169\n",
            "SNP     2020-10-28  06:44AM  0.000  0.602  0.398    0.6486\n",
            "SNP     2020-10-18  10:25PM  0.000  1.000  0.000    0.0000\n",
            "SNP     2020-10-16  07:20PM  0.000  0.891  0.109    0.2960\n",
            "SNP     2020-10-16  03:11PM  0.000  1.000  0.000    0.0000\n",
            "\n",
            "\n",
            "              Date     Time    neg    neu    pos  compound\n",
            "Ticker                                                    \n",
            "PTR     2020-11-09  08:32AM  0.000  0.769  0.231    0.3400\n",
            "PTR     2020-10-30  11:01PM  0.192  0.808  0.000   -0.2263\n",
            "PTR     2020-10-25  06:00PM  0.000  1.000  0.000    0.0000\n",
            "PTR     2020-10-21  06:36AM  0.000  1.000  0.000    0.0000\n",
            "PTR     2020-10-16  03:11PM  0.000  1.000  0.000    0.0000\n",
            "\n",
            "\n",
            "              Date     Time    neg    neu    pos  compound\n",
            "Ticker                                                    \n",
            "BP      2020-11-09  09:42AM  0.000  1.000  0.000    0.0000\n",
            "BP      2020-11-08  03:00PM  0.204  0.796  0.000   -0.3182\n",
            "BP      2020-11-08  11:14AM  0.000  0.574  0.426    0.6369\n",
            "BP      2020-11-05  08:06AM  0.000  1.000  0.000    0.0000\n",
            "BP      2020-11-04  02:23PM  0.000  1.000  0.000    0.0000\n",
            "\n",
            "\n",
            "              Date     Time    neg    neu    pos  compound\n",
            "Ticker                                                    \n",
            "XOM     2020-11-09  04:24PM  0.000  0.477  0.523    0.6697\n",
            "XOM     2020-11-09  01:57PM  0.163  0.529  0.308    0.3182\n",
            "XOM     2020-11-09  09:42AM  0.000  1.000  0.000    0.0000\n",
            "XOM     2020-11-09  09:22AM  0.000  1.000  0.000    0.0000\n",
            "XOM     2020-11-09  09:05AM  0.355  0.645  0.000   -0.2960\n",
            "\n",
            "\n",
            "              Date     Time    neg    neu    pos  compound\n",
            "Ticker                                                    \n",
            "TOT     2020-11-05  10:45AM  0.000  0.795  0.205    0.2023\n",
            "TOT     2020-10-31  10:35AM  0.000  0.688  0.312    0.6124\n",
            "TOT     2020-10-31  07:36AM  0.000  0.642  0.358    0.4404\n",
            "TOT     2020-10-30  08:30PM  0.000  1.000  0.000    0.0000\n",
            "TOT     2020-10-30  07:34AM  0.406  0.420  0.175   -0.5106\n",
            "\n",
            "\n",
            "              Date     Time    neg    neu    pos  compound\n",
            "Ticker                                                    \n",
            "CVX     2020-11-09  10:57AM  0.000  1.000  0.000    0.0000\n",
            "CVX     2020-11-09  09:42AM  0.000  1.000  0.000    0.0000\n",
            "CVX     2020-11-07  08:24AM  0.137  0.504  0.360    0.4767\n",
            "CVX     2020-11-06  08:15PM  0.196  0.804  0.000   -0.2960\n",
            "CVX     2020-11-06  03:00PM  0.000  0.625  0.375    0.5859\n",
            "\n",
            "\n",
            "              Date     Time    neg    neu  pos  compound\n",
            "Ticker                                                  \n",
            "MPC     2020-11-06  08:15PM  0.196  0.804  0.0   -0.2960\n",
            "MPC     2020-11-04  09:34AM  0.000  1.000  0.0    0.0000\n",
            "MPC     2020-11-02  07:31PM  0.000  1.000  0.0    0.0000\n",
            "MPC     2020-11-02  12:20PM  0.315  0.685  0.0   -0.3182\n",
            "MPC     2020-11-02  09:28AM  0.358  0.642  0.0   -0.4404\n"
          ],
          "name": "stdout"
        }
      ]
    },
    {
      "cell_type": "code",
      "metadata": {
        "id": "7O-TFqvhlGW9",
        "outputId": "7bcc1eaa-62be-4602-a9a9-3f91178ab949",
        "colab": {
          "base_uri": "https://localhost:8080/"
        }
      },
      "source": [
        "df = pd.DataFrame(list(zip(tickers, values)), columns =['Ticker', 'Mean Sentiment']) \n",
        "df = df.set_index('Ticker')\n",
        "df = df.sort_values('Mean Sentiment', ascending=False)\n",
        "print ('\\n')\n",
        "print (df)"
      ],
      "execution_count": 14,
      "outputs": [
        {
          "output_type": "stream",
          "text": [
            "\n",
            "\n",
            "        Mean Sentiment\n",
            "Ticker                \n",
            "TOT               0.13\n",
            "CVX               0.03\n",
            "SNP               0.01\n",
            "BP                0.01\n",
            "MPC               0.00\n",
            "PTR              -0.02\n",
            "XOM              -0.07\n"
          ],
          "name": "stdout"
        }
      ]
    },
    {
      "cell_type": "code",
      "metadata": {
        "id": "ldYuBgHilGZ2"
      },
      "source": [
        ""
      ],
      "execution_count": null,
      "outputs": []
    },
    {
      "cell_type": "code",
      "metadata": {
        "id": "p4nLKRL0lGc0"
      },
      "source": [
        ""
      ],
      "execution_count": null,
      "outputs": []
    },
    {
      "cell_type": "code",
      "metadata": {
        "id": "y7ferOQklGfv"
      },
      "source": [
        ""
      ],
      "execution_count": null,
      "outputs": []
    },
    {
      "cell_type": "code",
      "metadata": {
        "id": "QcirW3BdlGim"
      },
      "source": [
        ""
      ],
      "execution_count": null,
      "outputs": []
    },
    {
      "cell_type": "code",
      "metadata": {
        "id": "UO52BLdelGlp"
      },
      "source": [
        ""
      ],
      "execution_count": null,
      "outputs": []
    },
    {
      "cell_type": "code",
      "metadata": {
        "id": "J1ItSp-llGpS"
      },
      "source": [
        ""
      ],
      "execution_count": null,
      "outputs": []
    },
    {
      "cell_type": "code",
      "metadata": {
        "id": "VZs6MDHvlGse"
      },
      "source": [
        ""
      ],
      "execution_count": null,
      "outputs": []
    },
    {
      "cell_type": "code",
      "metadata": {
        "id": "2u8j4SszlGvg"
      },
      "source": [
        ""
      ],
      "execution_count": null,
      "outputs": []
    },
    {
      "cell_type": "code",
      "metadata": {
        "id": "uFqvyJvSlGzO"
      },
      "source": [
        ""
      ],
      "execution_count": null,
      "outputs": []
    }
  ]
}