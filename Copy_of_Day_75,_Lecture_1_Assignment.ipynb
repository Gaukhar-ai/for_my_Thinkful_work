{
  "nbformat": 4,
  "nbformat_minor": 0,
  "metadata": {
    "kernelspec": {
      "display_name": "Python 3",
      "language": "python",
      "name": "python3"
    },
    "language_info": {
      "codemirror_mode": {
        "name": "ipython",
        "version": 3
      },
      "file_extension": ".py",
      "mimetype": "text/x-python",
      "name": "python",
      "nbconvert_exporter": "python",
      "pygments_lexer": "ipython3",
      "version": "3.7.2"
    },
    "colab": {
      "name": "Copy of Day 75, Lecture 1: Assignment.ipynb",
      "provenance": [],
      "collapsed_sections": [],
      "include_colab_link": true
    }
  },
  "cells": [
    {
      "cell_type": "markdown",
      "metadata": {
        "id": "view-in-github",
        "colab_type": "text"
      },
      "source": [
        "<a href=\"https://colab.research.google.com/github/Gaukhar-ai/for_my_Thinkful_work/blob/master/Copy_of_Day_75%2C_Lecture_1_Assignment.ipynb\" target=\"_parent\"><img src=\"https://colab.research.google.com/assets/colab-badge.svg\" alt=\"Open In Colab\"/></a>"
      ]
    },
    {
      "cell_type": "markdown",
      "metadata": {
        "id": "2qtIy1rhPrpb"
      },
      "source": [
        "# Natural Language Processing: Chatbots Assignment"
      ]
    },
    {
      "cell_type": "code",
      "metadata": {
        "id": "O-18zFBdPrpd",
        "outputId": "20a77f49-ce3d-476a-f174-3ddf551dc1cc",
        "colab": {
          "base_uri": "https://localhost:8080/"
        }
      },
      "source": [
        "#!pip install chatterbot --quiet\n",
        "#!pip install chatterbot_corpus --quiet\n",
        "\n",
        "import re\n",
        "import requests\n",
        "from bs4 import BeautifulSoup\n",
        "from chatterbot import ChatBot\n",
        "from chatterbot.trainers import ListTrainer"
      ],
      "execution_count": 1,
      "outputs": [
        {
          "output_type": "stream",
          "text": [
            "\u001b[K     |████████████████████████████████| 71kB 2.1MB/s \n",
            "\u001b[K     |████████████████████████████████| 122kB 2.8MB/s \n",
            "\u001b[?25h"
          ],
          "name": "stdout"
        }
      ]
    },
    {
      "cell_type": "code",
      "metadata": {
        "id": "uKw2auXEOkRX"
      },
      "source": [
        "from chatterbot import ChatBot\n",
        "from chatterbot.trainers import ListTrainer"
      ],
      "execution_count": 3,
      "outputs": []
    },
    {
      "cell_type": "code",
      "metadata": {
        "id": "hAjARgKYPB-T",
        "outputId": "ceea4726-5349-4c3a-e1b4-5335784dc93c",
        "colab": {
          "base_uri": "https://localhost:8080/"
        }
      },
      "source": [
        "chatbot = ChatBot('Jay')\n",
        "trainer = ListTrainer(chatbot)\n",
        "\n",
        "trainer.train([\n",
        "               'Hello, how can i help you?'\n",
        "               'Yes, certainly'\n",
        "               'your flight has been booked'\n",
        "])"
      ],
      "execution_count": 4,
      "outputs": [
        {
          "output_type": "stream",
          "text": [
            "List Trainer: [####################] 100%\n"
          ],
          "name": "stdout"
        }
      ]
    },
    {
      "cell_type": "code",
      "metadata": {
        "id": "QqCViMJJPh1J",
        "outputId": "1cf66f68-4d32-48e0-b6b4-76ee0c8ce792",
        "colab": {
          "base_uri": "https://localhost:8080/"
        }
      },
      "source": [
        "trainer.train([\n",
        "               'How are you?',\n",
        "               'I am good', \n",
        "               'that is good'\n",
        "])"
      ],
      "execution_count": 5,
      "outputs": [
        {
          "output_type": "stream",
          "text": [
            "List Trainer: [####################] 100%\n"
          ],
          "name": "stdout"
        }
      ]
    },
    {
      "cell_type": "code",
      "metadata": {
        "id": "16yTuS37P36d"
      },
      "source": [
        "user_input = input('User:')"
      ],
      "execution_count": null,
      "outputs": []
    },
    {
      "cell_type": "markdown",
      "metadata": {
        "id": "J43HRfFdPrpg"
      },
      "source": [
        "### Scrape the HTML from the URL below which contains questions and answers about databases."
      ]
    },
    {
      "cell_type": "code",
      "metadata": {
        "id": "AHwEBqfuTdsM"
      },
      "source": [
        "bs4 beautiful soup, list of ? and answers"
      ],
      "execution_count": null,
      "outputs": []
    },
    {
      "cell_type": "code",
      "metadata": {
        "id": "OkxH23z3Prph"
      },
      "source": [
        "url = 'https://www.wisdomjobs.com/e-university/database-interview-questions.html'"
      ],
      "execution_count": null,
      "outputs": []
    },
    {
      "cell_type": "code",
      "metadata": {
        "id": "6PoEi6S6Prpj"
      },
      "source": [
        "make a list with ? and answer"
      ],
      "execution_count": null,
      "outputs": []
    },
    {
      "cell_type": "markdown",
      "metadata": {
        "id": "xR9bp45DPrpk"
      },
      "source": [
        "### Clean the acquired HTML, extracting just the text."
      ]
    },
    {
      "cell_type": "code",
      "metadata": {
        "id": "2WDwwPBZPrpl"
      },
      "source": [
        ""
      ],
      "execution_count": null,
      "outputs": []
    },
    {
      "cell_type": "markdown",
      "metadata": {
        "id": "yuxEDAXIPrpn"
      },
      "source": [
        "### Organize the text into a list of questions and answers.\n",
        "\n",
        "The best way to do this is to use a regular expression to split the text wherever a question or an answer appears (they are labeled)."
      ]
    },
    {
      "cell_type": "code",
      "metadata": {
        "id": "t7bBDIVPPrpn"
      },
      "source": [
        ""
      ],
      "execution_count": null,
      "outputs": []
    },
    {
      "cell_type": "markdown",
      "metadata": {
        "id": "1UHdgjt1Prpp"
      },
      "source": [
        "### Train a Chatterbot chatbot on the list of questions and answers."
      ]
    },
    {
      "cell_type": "code",
      "metadata": {
        "id": "q9ELJw67Prpp"
      },
      "source": [
        "on the "
      ],
      "execution_count": null,
      "outputs": []
    },
    {
      "cell_type": "markdown",
      "metadata": {
        "id": "IFwtqnM5Prpr"
      },
      "source": [
        "### Write the user interface logic that allows a user to ask the chatbot questions about databases and have the chatbot return an answer. \n",
        "\n",
        "Include logic that checks to see if the answer returned is going to be a question and if so, return the next element in the list after that question."
      ]
    },
    {
      "cell_type": "code",
      "metadata": {
        "id": "DuujcjQjPrps"
      },
      "source": [
        ""
      ],
      "execution_count": null,
      "outputs": []
    }
  ]
}