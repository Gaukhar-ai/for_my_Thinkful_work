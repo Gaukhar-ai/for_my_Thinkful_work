{
 "cells": [
  {
   "cell_type": "code",
   "execution_count": null,
   "metadata": {},
   "outputs": [],
   "source": [
    "P(A|B) = P(A^B)/P(B)"
   ]
  },
  {
   "cell_type": "code",
   "execution_count": null,
   "metadata": {},
   "outputs": [],
   "source": [
    "P(B|A) = P(A*B)/P(A) \n"
   ]
  },
  {
   "cell_type": "code",
   "execution_count": null,
   "metadata": {},
   "outputs": [],
   "source": [
    "P(A^B) = P(B|A)*P(A)"
   ]
  },
  {
   "cell_type": "code",
   "execution_count": null,
   "metadata": {},
   "outputs": [],
   "source": [
    "P(B|~A) = P(~A^B)/P(~A) \n",
    "P(~A) = 1 - P(A)"
   ]
  },
  {
   "cell_type": "code",
   "execution_count": null,
   "metadata": {},
   "outputs": [],
   "source": [
    "P(~A ^ B) + P(A ^ B) = P(B) "
   ]
  },
  {
   "cell_type": "code",
   "execution_count": null,
   "metadata": {},
   "outputs": [],
   "source": [
    "P(B) = B(~B) + P(A)"
   ]
  },
  {
   "cell_type": "markdown",
   "metadata": {},
   "source": []
  },
  {
   "cell_type": "code",
   "execution_count": 1,
   "metadata": {},
   "outputs": [
    {
     "name": "stdout",
     "output_type": "stream",
     "text": [
      "Requirement already satisfied: nb_black in c:\\users\\gaukharjavarova\\appdata\\local\\programs\\python\\python38-32\\lib\\site-packages (1.0.7)\n",
      "Requirement already satisfied: ipython in c:\\users\\gaukharjavarova\\appdata\\local\\programs\\python\\python38-32\\lib\\site-packages (from nb_black) (7.16.1)\n",
      "Requirement already satisfied: black>='19.3' in c:\\users\\gaukharjavarova\\appdata\\local\\programs\\python\\python38-32\\lib\\site-packages (from nb_black) (19.10b0)\n",
      "Requirement already satisfied: backcall in c:\\users\\gaukharjavarova\\appdata\\local\\programs\\python\\python38-32\\lib\\site-packages (from ipython->nb_black) (0.2.0)\n",
      "Requirement already satisfied: decorator in c:\\users\\gaukharjavarova\\appdata\\local\\programs\\python\\python38-32\\lib\\site-packages (from ipython->nb_black) (4.4.2)\n",
      "Requirement already satisfied: pickleshare in c:\\users\\gaukharjavarova\\appdata\\local\\programs\\python\\python38-32\\lib\\site-packages (from ipython->nb_black) (0.7.5)\n",
      "Requirement already satisfied: pygments in c:\\users\\gaukharjavarova\\appdata\\local\\programs\\python\\python38-32\\lib\\site-packages (from ipython->nb_black) (2.6.1)\n",
      "Requirement already satisfied: traitlets>=4.2 in c:\\users\\gaukharjavarova\\appdata\\local\\programs\\python\\python38-32\\lib\\site-packages (from ipython->nb_black) (4.3.3)\n",
      "Requirement already satisfied: setuptools>=18.5 in c:\\users\\gaukharjavarova\\appdata\\local\\programs\\python\\python38-32\\lib\\site-packages (from ipython->nb_black) (41.2.0)\n",
      "Requirement already satisfied: prompt-toolkit!=3.0.0,!=3.0.1,<3.1.0,>=2.0.0 in c:\\users\\gaukharjavarova\\appdata\\local\\programs\\python\\python38-32\\lib\\site-packages (from ipython->nb_black) (3.0.5)\n",
      "Requirement already satisfied: colorama; sys_platform == \"win32\" in c:\\users\\gaukharjavarova\\appdata\\roaming\\python\\python38\\site-packages (from ipython->nb_black) (0.4.3)\n",
      "Requirement already satisfied: jedi>=0.10 in c:\\users\\gaukharjavarova\\appdata\\local\\programs\\python\\python38-32\\lib\\site-packages (from ipython->nb_black) (0.17.2)\n",
      "Requirement already satisfied: toml>=0.9.4 in c:\\users\\gaukharjavarova\\appdata\\local\\programs\\python\\python38-32\\lib\\site-packages (from black>='19.3'->nb_black) (0.10.1)\n",
      "Requirement already satisfied: attrs>=18.1.0 in c:\\users\\gaukharjavarova\\appdata\\local\\programs\\python\\python38-32\\lib\\site-packages (from black>='19.3'->nb_black) (19.3.0)\n",
      "Requirement already satisfied: appdirs in c:\\users\\gaukharjavarova\\appdata\\local\\programs\\python\\python38-32\\lib\\site-packages (from black>='19.3'->nb_black) (1.4.4)\n",
      "Requirement already satisfied: pathspec<1,>=0.6 in c:\\users\\gaukharjavarova\\appdata\\local\\programs\\python\\python38-32\\lib\\site-packages (from black>='19.3'->nb_black) (0.8.0)\n",
      "Requirement already satisfied: click>=6.5 in c:\\users\\gaukharjavarova\\appdata\\local\\programs\\python\\python38-32\\lib\\site-packages (from black>='19.3'->nb_black) (7.1.2)\n",
      "Requirement already satisfied: typed-ast>=1.4.0 in c:\\users\\gaukharjavarova\\appdata\\local\\programs\\python\\python38-32\\lib\\site-packages (from black>='19.3'->nb_black) (1.4.1)\n",
      "Requirement already satisfied: regex in c:\\users\\gaukharjavarova\\appdata\\local\\programs\\python\\python38-32\\lib\\site-packages (from black>='19.3'->nb_black) (2020.7.14)\n",
      "Requirement already satisfied: ipython-genutils in c:\\users\\gaukharjavarova\\appdata\\local\\programs\\python\\python38-32\\lib\\site-packages (from traitlets>=4.2->ipython->nb_black) (0.2.0)\n",
      "Requirement already satisfied: six in c:\\users\\gaukharjavarova\\appdata\\roaming\\python\\python38\\site-packages (from traitlets>=4.2->ipython->nb_black) (1.13.0)\n",
      "Requirement already satisfied: wcwidth in c:\\users\\gaukharjavarova\\appdata\\local\\programs\\python\\python38-32\\lib\\site-packages (from prompt-toolkit!=3.0.0,!=3.0.1,<3.1.0,>=2.0.0->ipython->nb_black) (0.2.5)\n",
      "Requirement already satisfied: parso<0.8.0,>=0.7.0 in c:\\users\\gaukharjavarova\\appdata\\local\\programs\\python\\python38-32\\lib\\site-packages (from jedi>=0.10->ipython->nb_black) (0.7.0)\n"
     ]
    }
   ],
   "source": [
    "!pip install nb_black"
   ]
  },
  {
   "cell_type": "code",
   "execution_count": null,
   "metadata": {},
   "outputs": [],
   "source": []
  }
 ],
 "metadata": {
  "kernelspec": {
   "display_name": "Python 3",
   "language": "python",
   "name": "python3"
  },
  "language_info": {
   "codemirror_mode": {
    "name": "ipython",
    "version": 3
   },
   "file_extension": ".py",
   "mimetype": "text/x-python",
   "name": "python",
   "nbconvert_exporter": "python",
   "pygments_lexer": "ipython3",
   "version": "3.8.3"
  }
 },
 "nbformat": 4,
 "nbformat_minor": 4
}
