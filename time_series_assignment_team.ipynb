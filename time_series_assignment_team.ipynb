{
  "nbformat": 4,
  "nbformat_minor": 0,
  "metadata": {
    "colab": {
      "name": "time_series_assignment_team.ipynb",
      "provenance": [],
      "authorship_tag": "ABX9TyN5IcO0cH1XeFyhr4Ihq7BW",
      "include_colab_link": true
    },
    "kernelspec": {
      "name": "python3",
      "display_name": "Python 3"
    }
  },
  "cells": [
    {
      "cell_type": "markdown",
      "metadata": {
        "id": "view-in-github",
        "colab_type": "text"
      },
      "source": [
        "<a href=\"https://colab.research.google.com/github/Gaukhar-ai/for_my_Thinkful_work/blob/master/time_series_assignment_team.ipynb\" target=\"_parent\"><img src=\"https://colab.research.google.com/assets/colab-badge.svg\" alt=\"Open In Colab\"/></a>"
      ]
    },
    {
      "cell_type": "code",
      "metadata": {
        "id": "Z4JREYJngx41"
      },
      "source": [
        "from datetime import datetime as dt\n",
        "from datetime import timezone\n",
        "from datetime import timedelta"
      ],
      "execution_count": 14,
      "outputs": []
    },
    {
      "cell_type": "code",
      "metadata": {
        "id": "irc2tXVxg1ji",
        "outputId": "bcc3118d-7f9f-4ce2-f1f9-372a9ecf59ff",
        "colab": {
          "base_uri": "https://localhost:8080/",
          "height": 34
        }
      },
      "source": [
        "#define a var and assign it a date string value of '10/20/2019'\n",
        "october = '10/20/2019'\n",
        "type(october)"
      ],
      "execution_count": 15,
      "outputs": [
        {
          "output_type": "execute_result",
          "data": {
            "text/plain": [
              "str"
            ]
          },
          "metadata": {
            "tags": []
          },
          "execution_count": 15
        }
      ]
    },
    {
      "cell_type": "code",
      "metadata": {
        "id": "IDk83k-chsNu",
        "outputId": "5a29974f-1bca-4d8d-c3de-8c25c5de78c0",
        "colab": {
          "base_uri": "https://localhost:8080/",
          "height": 51
        }
      },
      "source": [
        "#convert the date string to a datetime object\n",
        "converted = dt.strptime(october, '%m/%d/%Y')\n",
        "print(converted)\n",
        "type(converted)"
      ],
      "execution_count": 33,
      "outputs": [
        {
          "output_type": "stream",
          "text": [
            "2019-10-20 00:00:00\n"
          ],
          "name": "stdout"
        },
        {
          "output_type": "execute_result",
          "data": {
            "text/plain": [
              "datetime.datetime"
            ]
          },
          "metadata": {
            "tags": []
          },
          "execution_count": 33
        }
      ]
    },
    {
      "cell_type": "code",
      "metadata": {
        "id": "qt0Z3CNSjHiZ",
        "outputId": "424a79ea-ed54-4e6c-d643-69c9606398c9",
        "colab": {
          "base_uri": "https://localhost:8080/",
          "height": 34
        }
      },
      "source": [
        "#extract the month, day, year from the datetime object\n",
        "random_date = dt(2020, 10, 26)\n",
        "print(random_date)"
      ],
      "execution_count": 19,
      "outputs": [
        {
          "output_type": "stream",
          "text": [
            "2020-10-26 00:00:00\n"
          ],
          "name": "stdout"
        }
      ]
    },
    {
      "cell_type": "code",
      "metadata": {
        "id": "QD99W2DSkrJg",
        "outputId": "42813bf6-42f1-418b-b4f9-7f072ec29837",
        "colab": {
          "base_uri": "https://localhost:8080/",
          "height": 34
        }
      },
      "source": [
        "#month = random_date - timedelta(days = 31)\n",
        "#month\n",
        "\n",
        "converted.month\n"
      ],
      "execution_count": 56,
      "outputs": [
        {
          "output_type": "execute_result",
          "data": {
            "text/plain": [
              "10"
            ]
          },
          "metadata": {
            "tags": []
          },
          "execution_count": 56
        }
      ]
    },
    {
      "cell_type": "code",
      "metadata": {
        "id": "U6g4lo0J1DQT",
        "outputId": "ea8b50c2-2329-4137-a163-de1082bf0f05",
        "colab": {
          "base_uri": "https://localhost:8080/",
          "height": 34
        }
      },
      "source": [
        "converted.day"
      ],
      "execution_count": 58,
      "outputs": [
        {
          "output_type": "execute_result",
          "data": {
            "text/plain": [
              "20"
            ]
          },
          "metadata": {
            "tags": []
          },
          "execution_count": 58
        }
      ]
    },
    {
      "cell_type": "code",
      "metadata": {
        "id": "Ai9g99qh1DTq",
        "outputId": "79a6b0a9-36a6-40c2-e4c0-6792c80d1f9f",
        "colab": {
          "base_uri": "https://localhost:8080/",
          "height": 34
        }
      },
      "source": [
        "converted.year\n"
      ],
      "execution_count": 57,
      "outputs": [
        {
          "output_type": "execute_result",
          "data": {
            "text/plain": [
              "2019"
            ]
          },
          "metadata": {
            "tags": []
          },
          "execution_count": 57
        }
      ]
    },
    {
      "cell_type": "code",
      "metadata": {
        "id": "KPisTZVmljJH",
        "outputId": "6889c985-6096-463a-8fee-49fc5240e49e",
        "colab": {
          "base_uri": "https://localhost:8080/",
          "height": 34
        }
      },
      "source": [
        "day = random_date - timedelta(days=1)\n",
        "day"
      ],
      "execution_count": 22,
      "outputs": [
        {
          "output_type": "execute_result",
          "data": {
            "text/plain": [
              "datetime.datetime(2020, 10, 25, 0, 0)"
            ]
          },
          "metadata": {
            "tags": []
          },
          "execution_count": 22
        }
      ]
    },
    {
      "cell_type": "code",
      "metadata": {
        "id": "gReIsD5ElwrA",
        "outputId": "fb171790-c7a6-479d-eb01-c27d993b7693",
        "colab": {
          "base_uri": "https://localhost:8080/",
          "height": 34
        }
      },
      "source": [
        "year = random_date - timedelta(days = 361)\n",
        "year"
      ],
      "execution_count": 23,
      "outputs": [
        {
          "output_type": "execute_result",
          "data": {
            "text/plain": [
              "datetime.datetime(2019, 10, 31, 0, 0)"
            ]
          },
          "metadata": {
            "tags": []
          },
          "execution_count": 23
        }
      ]
    },
    {
      "cell_type": "code",
      "metadata": {
        "id": "-lpbUKWAmAdK",
        "outputId": "02030dea-14af-456b-fcbc-778a110f78e4",
        "colab": {
          "base_uri": "https://localhost:8080/",
          "height": 35
        }
      },
      "source": [
        "#reformat the date string to YYYY - MM-DD\n",
        "reformat = dt.strftime(converted, '%Y - %m - %d')\n",
        "reformat\n"
      ],
      "execution_count": 26,
      "outputs": [
        {
          "output_type": "execute_result",
          "data": {
            "application/vnd.google.colaboratory.intrinsic+json": {
              "type": "string"
            },
            "text/plain": [
              "'2019 - 10 - 20'"
            ]
          },
          "metadata": {
            "tags": []
          },
          "execution_count": 26
        }
      ]
    },
    {
      "cell_type": "code",
      "metadata": {
        "id": "2udRBIgXmk3g",
        "outputId": "77e9f620-4efd-4020-94f3-219bf9c2ef77",
        "colab": {
          "base_uri": "https://localhost:8080/",
          "height": 34
        }
      },
      "source": [
        "#extract the weekday number for the datetime object.\n",
        "weekday = random_date - timedelta(days=7)\n",
        "weekday"
      ],
      "execution_count": 28,
      "outputs": [
        {
          "output_type": "execute_result",
          "data": {
            "text/plain": [
              "datetime.datetime(2020, 10, 19, 0, 0)"
            ]
          },
          "metadata": {
            "tags": []
          },
          "execution_count": 28
        }
      ]
    },
    {
      "cell_type": "code",
      "metadata": {
        "id": "45uYBG-Jn72Z",
        "outputId": "d10871cb-e669-42ef-817b-824a22d70502",
        "colab": {
          "base_uri": "https://localhost:8080/",
          "height": 34
        }
      },
      "source": [
        "#get the datetime of the same weekday number 6 weeks into the future.\n",
        "converted + timedelta(weeks=6)\n",
        "#converted + timedelta(days=6*7)"
      ],
      "execution_count": 43,
      "outputs": [
        {
          "output_type": "execute_result",
          "data": {
            "text/plain": [
              "datetime.datetime(2019, 12, 1, 0, 0)"
            ]
          },
          "metadata": {
            "tags": []
          },
          "execution_count": 43
        }
      ]
    },
    {
      "cell_type": "code",
      "metadata": {
        "id": "Lt3hlYa4FHhl",
        "outputId": "f462df3d-4b2e-42d7-9122-d23d93a1f53b",
        "colab": {
          "base_uri": "https://localhost:8080/",
          "height": 35
        }
      },
      "source": [
        "converted.strftime('%A')"
      ],
      "execution_count": 64,
      "outputs": [
        {
          "output_type": "execute_result",
          "data": {
            "application/vnd.google.colaboratory.intrinsic+json": {
              "type": "string"
            },
            "text/plain": [
              "'Sunday'"
            ]
          },
          "metadata": {
            "tags": []
          },
          "execution_count": 64
        }
      ]
    },
    {
      "cell_type": "code",
      "metadata": {
        "id": "k7v7KUcJFHoA",
        "outputId": "b028b514-5676-4793-b0a2-0d1e23e53b0d",
        "colab": {
          "base_uri": "https://localhost:8080/",
          "height": 35
        }
      },
      "source": [
        "converted.strftime('%W') #week number of the year"
      ],
      "execution_count": 65,
      "outputs": [
        {
          "output_type": "execute_result",
          "data": {
            "application/vnd.google.colaboratory.intrinsic+json": {
              "type": "string"
            },
            "text/plain": [
              "'41'"
            ]
          },
          "metadata": {
            "tags": []
          },
          "execution_count": 65
        }
      ]
    },
    {
      "cell_type": "code",
      "metadata": {
        "id": "lF-gN6efFHlI",
        "outputId": "021c7013-35b4-452c-edb5-c5786478cf86",
        "colab": {
          "base_uri": "https://localhost:8080/",
          "height": 35
        }
      },
      "source": [
        "converted.strftime('%w') #starts sunday at 0"
      ],
      "execution_count": 66,
      "outputs": [
        {
          "output_type": "execute_result",
          "data": {
            "application/vnd.google.colaboratory.intrinsic+json": {
              "type": "string"
            },
            "text/plain": [
              "'0'"
            ]
          },
          "metadata": {
            "tags": []
          },
          "execution_count": 66
        }
      ]
    },
    {
      "cell_type": "code",
      "metadata": {
        "id": "-tWQt3tpuu_F",
        "outputId": "63dc6854-e1d8-452e-8531-80e0a18fc958",
        "colab": {
          "base_uri": "https://localhost:8080/",
          "height": 34
        }
      },
      "source": [
        "converted.weekday() #sunday"
      ],
      "execution_count": 67,
      "outputs": [
        {
          "output_type": "execute_result",
          "data": {
            "text/plain": [
              "6"
            ]
          },
          "metadata": {
            "tags": []
          },
          "execution_count": 67
        }
      ]
    },
    {
      "cell_type": "code",
      "metadata": {
        "id": "p58xZlQ_1SO9",
        "outputId": "328e9072-0904-405a-b5dc-d80565e5832b",
        "colab": {
          "base_uri": "https://localhost:8080/",
          "height": 35
        }
      },
      "source": [
        "converted.strftime('%A')"
      ],
      "execution_count": 40,
      "outputs": [
        {
          "output_type": "execute_result",
          "data": {
            "application/vnd.google.colaboratory.intrinsic+json": {
              "type": "string"
            },
            "text/plain": [
              "'Sunday'"
            ]
          },
          "metadata": {
            "tags": []
          },
          "execution_count": 40
        }
      ]
    },
    {
      "cell_type": "code",
      "metadata": {
        "id": "AWSpuR5wGF2y"
      },
      "source": [
        "#six weeks into the future:\n",
        "future = converted + timedelta(weeks=6)"
      ],
      "execution_count": 71,
      "outputs": []
    },
    {
      "cell_type": "code",
      "metadata": {
        "id": "-yiITkLkGXY0",
        "outputId": "453deb77-aa4c-4613-d653-ed3823cf40c1",
        "colab": {
          "base_uri": "https://localhost:8080/",
          "height": 34
        }
      },
      "source": [
        "converted + timedelta(days=6*7) #7 days a week and I want 6 weeks. Same as the code above"
      ],
      "execution_count": 70,
      "outputs": [
        {
          "output_type": "execute_result",
          "data": {
            "text/plain": [
              "datetime.datetime(2019, 12, 1, 0, 0)"
            ]
          },
          "metadata": {
            "tags": []
          },
          "execution_count": 70
        }
      ]
    },
    {
      "cell_type": "code",
      "metadata": {
        "id": "L5pbxoLlGsaC",
        "outputId": "bfbd9056-f1ad-47a7-fc17-3d5356fdf702",
        "colab": {
          "base_uri": "https://localhost:8080/",
          "height": 34
        }
      },
      "source": [
        "(future-converted).total_seconds() / 60"
      ],
      "execution_count": 84,
      "outputs": [
        {
          "output_type": "execute_result",
          "data": {
            "text/plain": [
              "60480.0"
            ]
          },
          "metadata": {
            "tags": []
          },
          "execution_count": 84
        }
      ]
    },
    {
      "cell_type": "code",
      "metadata": {
        "id": "-Q9wVzivIHjd",
        "outputId": "a948cab2-b704-43f4-aa9b-a66a3f43fc1b",
        "colab": {
          "base_uri": "https://localhost:8080/",
          "height": 34
        }
      },
      "source": [
        "future"
      ],
      "execution_count": 73,
      "outputs": [
        {
          "output_type": "execute_result",
          "data": {
            "text/plain": [
              "datetime.datetime(2019, 12, 1, 0, 0)"
            ]
          },
          "metadata": {
            "tags": []
          },
          "execution_count": 73
        }
      ]
    },
    {
      "cell_type": "code",
      "metadata": {
        "id": "Zn3xHCZRIerh",
        "outputId": "de4d7d99-4b30-4f58-db0b-97f8decba1e2",
        "colab": {
          "base_uri": "https://localhost:8080/",
          "height": 34
        }
      },
      "source": [
        "(future-converted).days * 24 * 60"
      ],
      "execution_count": 79,
      "outputs": [
        {
          "output_type": "execute_result",
          "data": {
            "text/plain": [
              "60480"
            ]
          },
          "metadata": {
            "tags": []
          },
          "execution_count": 79
        }
      ]
    },
    {
      "cell_type": "code",
      "metadata": {
        "id": "NekFhdC61oMc"
      },
      "source": [
        "#retrive the number of minutes between the original datetime  and the datetime for the same weekday 5 weeks in the future"
      ],
      "execution_count": 44,
      "outputs": []
    },
    {
      "cell_type": "code",
      "metadata": {
        "id": "ZzJbGZZs2gWN",
        "outputId": "0644575b-69c4-49e1-d4bd-c4adcf577549",
        "colab": {
          "base_uri": "https://localhost:8080/",
          "height": 323
        }
      },
      "source": [
        "#leap years\n",
        "for year in range(2015, 2021):\n",
        "  print(year)\n",
        "  start = dt(year, 1, 1) #jan 1\n",
        "  #end = dt(year+1, 1, 1)\n",
        "  end = dt(year, 12, 31) #dec 31\n",
        "\n",
        "  weeks = (end - start).days/7\n",
        "\n",
        "  print('for the year: ', year)\n",
        "  print('number of weeks', weeks)"
      ],
      "execution_count": 55,
      "outputs": [
        {
          "output_type": "stream",
          "text": [
            "2015\n",
            "for the year:  2015\n",
            "number of weeks 52.0\n",
            "2016\n",
            "for the year:  2016\n",
            "number of weeks 52.142857142857146\n",
            "2017\n",
            "for the year:  2017\n",
            "number of weeks 52.0\n",
            "2018\n",
            "for the year:  2018\n",
            "number of weeks 52.0\n",
            "2019\n",
            "for the year:  2019\n",
            "number of weeks 52.0\n",
            "2020\n",
            "for the year:  2020\n",
            "number of weeks 52.142857142857146\n"
          ],
          "name": "stdout"
        }
      ]
    },
    {
      "cell_type": "code",
      "metadata": {
        "id": "tP18osD2239f"
      },
      "source": [
        ""
      ],
      "execution_count": null,
      "outputs": []
    }
  ]
}