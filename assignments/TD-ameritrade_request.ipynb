{
 "cells": [
  {
   "cell_type": "code",
   "execution_count": 16,
   "metadata": {
    "scrolled": true
   },
   "outputs": [],
   "source": [
    "import requests\n",
    "#from config import client_id"
   ]
  },
  {
   "cell_type": "code",
   "execution_count": 17,
   "metadata": {},
   "outputs": [
    {
     "data": {
      "text/plain": [
       "{'candles': [], 'symbol': 'GE', 'empty': True}"
      ]
     },
     "execution_count": 17,
     "metadata": {},
     "output_type": "execute_result"
    }
   ],
   "source": [
    "endpoint = r'https://api.tdameritrade.com/v1/marketdata/{}/pricehistory'.format('GE')\n",
    "\n",
    "payload = {'apikey':'RSUKIVQMNTGRKG60M0TVVKAVMXC4JAQP', \n",
    "           'periodType':'day',\n",
    "          'frequencyType':'minute',\n",
    "          'prequency':'1',\n",
    "          'period':2,\n",
    "          'endDate':'1556158524000',\n",
    "          'startDate': '1554535854000',\n",
    "           'needExtendedHoursData':'true'\n",
    "          }\n",
    "\n",
    "#request\n",
    "\n",
    "content = requests.get(url=endpoint, params=payload)\n",
    "\n",
    "#convert to a dictionary\n",
    "\n",
    "data = content.json()\n",
    "data"
   ]
  },
  {
   "cell_type": "code",
   "execution_count": null,
   "metadata": {},
   "outputs": [],
   "source": []
  },
  {
   "cell_type": "code",
   "execution_count": null,
   "metadata": {},
   "outputs": [],
   "source": []
  }
 ],
 "metadata": {
  "kernelspec": {
   "display_name": "Python 3",
   "language": "python",
   "name": "python3"
  },
  "language_info": {
   "codemirror_mode": {
    "name": "ipython",
    "version": 3
   },
   "file_extension": ".py",
   "mimetype": "text/x-python",
   "name": "python",
   "nbconvert_exporter": "python",
   "pygments_lexer": "ipython3",
   "version": "3.8.3"
  }
 },
 "nbformat": 4,
 "nbformat_minor": 4
}
