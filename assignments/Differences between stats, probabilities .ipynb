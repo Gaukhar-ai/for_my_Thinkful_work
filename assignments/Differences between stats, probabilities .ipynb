{
 "cells": [
  {
   "cell_type": "markdown",
   "metadata": {},
   "source": [
    "Explain the difference between an experiment and a trial.\n",
    "Explain the difference between an outcome and an event.\n",
    "Come up with a real world example of each perspective of probability (classical, empirical, and subjective) that was not mentioned in class.\n",
    "Explain the difference between descriptive and inferential statistics.\n",
    "Explain the difference between frequentist and Bayesian statistics.\n",
    "difference between an experiment and trial. \n",
    "\n",
    "Descriptive stats\n",
    "\n",
    "Descriptive statistics are brief descriptive coefficients that summarize a given data set, which can be either a representation of the entire or a sample of a population. Descriptive statistics are broken down into measures of central tendency and measures of variability (spread).\n",
    "\n",
    "Inferential stats \n",
    "Inferential statistics is one of the two main branches of statistics. Inferential statistics use a random sample of data taken from a population to describe and make inferences about the population.\n",
    "\n",
    "\n",
    "frequentist vs. Bayesian\n",
    "\n",
    "The frequentist defines probability as describing how often a particular outcome would occur in an experiment if that experiment were repeated over and over. \n",
    "The Bayesian defines probability as describing how likely an observer expects a particular outcome to be in the future, based on previous experience and expert knowledge. Each time the experiment is run, the probability is updated if the new data changes the belief about the likelihood of the outcome\n",
    "\n",
    "Outcome vs Event.\n",
    "Randomness can be defined as the apparent lack of pattern or predictability in events. A random sequence of events, symbols or steps often has no order and does not follow an intelligible pattern or combination. Individual random events are by definition unpredictable, but since they often follow a probability distribution, the frequency of different outcomes over numerous events (or \"trials\") is predictable.\n",
    "\n",
    "Experiment and a trial.\n",
    "The experiment is repeated many times. Trial is done once. But over the frequency of different outcomes over numerous events (or \"trials\") is predictable. So the experiment is made of numerous trials. \n",
    "\n",
    "Classical: Classical probability is the statistical concept that measures the likelihood (probability) of something happening. In a classic sense, it means that every statistical experiment will contain elements that are equally likely to happen (equal chances of occurrence of something).\n",
    "My example would be: If the girl is unpredictable, she might come to a date or might not. \n",
    "\n",
    "\n",
    "Empirical: Empirical probabilities are based upon how likely an event has proven in the past. Thus, they are always estimates. A great and common example of an empirical probability is a player’s batting average in baseball. \n",
    "So my example on World Chess Championships, based on the past wins, can find the probability of who's going to be a winner in the tournament. \n",
    "\n",
    "\n",
    "Subjective: Subjective probability is a type of probability derived from an individual's personal judgment about whether a specific outcome is likely to occur. A probability distribution is a statistical function that describes possible values and likelihoods that a random variable can take within a given range. \n",
    "My ex. would be if I should buy the particular stock based on my predictions and it's past movements or not. "
   ]
  }
 ],
 "metadata": {
  "kernelspec": {
   "display_name": "Python 3",
   "language": "python",
   "name": "python3"
  },
  "language_info": {
   "codemirror_mode": {
    "name": "ipython",
    "version": 3
   },
   "file_extension": ".py",
   "mimetype": "text/x-python",
   "name": "python",
   "nbconvert_exporter": "python",
   "pygments_lexer": "ipython3",
   "version": "3.8.3"
  }
 },
 "nbformat": 4,
 "nbformat_minor": 4
}
