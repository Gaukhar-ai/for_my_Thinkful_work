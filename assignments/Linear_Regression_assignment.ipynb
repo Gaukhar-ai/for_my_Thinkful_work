{
 "cells": [
  {
   "cell_type": "markdown",
   "metadata": {},
   "source": [
    "Assignment\n",
    "To close out this checkpoint, answer the following questions.\n",
    "\n",
    "1. Let's assume that you have World Bank data on financial, economic and social indicators for several countries. You want to measure the factors that affect the level of development in these countries. To this end, you decide to use per capita income as a proxy for the development level, which is defined as the national income divided by the population. You want to use some features in your dataset to predict per capita income. Is this task a classification or a regression task? Why?\n",
    "Which of the following arguments are false and why?\n",
    "2. OLS is a special type of linear regression models\n",
    "3. Regression models become useless if they don’t meet the assumptions of linear regression.\n",
    "4. Estimation and prediction are the same thing in the context of linear regression models.\n",
    "5. Linear regression is only one kind of regression model. Regression problems can also be solved with other kind of models like Support Vector Machines or Random Forests.\n",
    "Assume that your project manager wants you to discover which free services your company offers make your customers buy more of your paid services. Formulate this task as a regression problem and write down the potential outcome and features that you’d like to work on.\n",
    "Submit a link to your answers at the end of this assessment."
   ]
  },
  {
   "cell_type": "markdown",
   "metadata": {},
   "source": [
    "1. regression - per capita income is continuous, can go to infinity. "
   ]
  },
  {
   "cell_type": "markdown",
   "metadata": {},
   "source": [
    "2. OLS - ordinary least squared is an optimization algorithm which is chosen as the best line among infinite number of other alternatives. yes."
   ]
  },
  {
   "cell_type": "markdown",
   "metadata": {},
   "source": [
    "3. false, can change and fix. "
   ]
  },
  {
   "cell_type": "markdown",
   "metadata": {},
   "source": [
    "4. false. By prediction, we mean to come up with outcome values for the observations that have not been previously observed.To measure how well a model explains the information in the outcome variable, we look at the performance of the model on training data. The training data is comprised of the records that we use to estimate the model. if we think that our model doesn’t explain the target variable very well, we need to change something in our model like adding some extra features and go back to step 2 (estimation phase).\n",
    "\n",
    "Estimation refers to the process of determining the coefficients of the features in the training phase. Prediction is to determine the value of the outcome variable using a previously unseen feature value."
   ]
  },
  {
   "cell_type": "markdown",
   "metadata": {},
   "source": [
    "yes, true"
   ]
  },
  {
   "cell_type": "markdown",
   "metadata": {},
   "source": [
    "5. 𝑡𝑜𝑡𝑎𝑙𝑒𝑥𝑝𝑒𝑛𝑑𝑖𝑡𝑢𝑟𝑒=𝛼+𝛽1𝑋𝑑𝑢𝑚𝑚𝑦𝑜𝑓𝑢𝑠𝑖𝑛𝑔𝑓𝑟𝑒𝑒𝑠𝑒𝑟𝑣𝑖𝑐𝑒1+𝛽2𝑋𝑑𝑢𝑚𝑚𝑦𝑜𝑓𝑢𝑠𝑖𝑛𝑔𝑓𝑟𝑒𝑒𝑠𝑒𝑟𝑣𝑖𝑐𝑒2"
   ]
  },
  {
   "cell_type": "code",
   "execution_count": null,
   "metadata": {},
   "outputs": [],
   "source": []
  }
 ],
 "metadata": {
  "kernelspec": {
   "display_name": "Python 3",
   "language": "python",
   "name": "python3"
  },
  "language_info": {
   "codemirror_mode": {
    "name": "ipython",
    "version": 3
   },
   "file_extension": ".py",
   "mimetype": "text/x-python",
   "name": "python",
   "nbconvert_exporter": "python",
   "pygments_lexer": "ipython3",
   "version": "3.8.3"
  }
 },
 "nbformat": 4,
 "nbformat_minor": 4
}
