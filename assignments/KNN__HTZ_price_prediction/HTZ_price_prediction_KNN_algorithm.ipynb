{
 "cells": [
  {
   "cell_type": "code",
   "execution_count": 1,
   "metadata": {},
   "outputs": [],
   "source": [
    "import numpy as np\n",
    "import pandas as pd\n",
    "import matplotlib.pyplot as plt\n",
    "import scipy\n",
    "%matplotlib inline\n",
    "\n",
    "import pandas as pd\n",
    "import numpy as np\n",
    "\n",
    "from sklearn.model_selection import train_test_split\n",
    "from sklearn.preprocessing import StandardScaler\n",
    "from sklearn.neighbors import KNeighborsClassifier\n",
    "\n",
    "import seaborn as sns\n",
    "import matplotlib.pyplot as plt\n",
    "  \n",
    "import csv\n",
    "import random\n",
    "import math\n",
    "import operator\n",
    "\n",
    "\n",
    "import datetime\n",
    "import pandas as pd\n",
    "\n",
    "import matplotlib.pyplot as plt   # Import matplotlib\n",
    "import json\n",
    "\n",
    "%matplotlib inline"
   ]
  },
  {
   "cell_type": "code",
   "execution_count": 2,
   "metadata": {},
   "outputs": [],
   "source": [
    "\n",
    "htz = pd.read_csv('https://raw.githubusercontent.com/Gaukhar-ai/for_my_Thinkful_work/master/assignments/KNN__HTZ_price_prediction/HTZ%20(1).csv')"
   ]
  },
  {
   "cell_type": "code",
   "execution_count": 3,
   "metadata": {
    "scrolled": true
   },
   "outputs": [
    {
     "data": {
      "text/html": [
       "<div>\n",
       "<style scoped>\n",
       "    .dataframe tbody tr th:only-of-type {\n",
       "        vertical-align: middle;\n",
       "    }\n",
       "\n",
       "    .dataframe tbody tr th {\n",
       "        vertical-align: top;\n",
       "    }\n",
       "\n",
       "    .dataframe thead th {\n",
       "        text-align: right;\n",
       "    }\n",
       "</style>\n",
       "<table border=\"1\" class=\"dataframe\">\n",
       "  <thead>\n",
       "    <tr style=\"text-align: right;\">\n",
       "      <th></th>\n",
       "      <th>Date</th>\n",
       "      <th>Open</th>\n",
       "      <th>High</th>\n",
       "      <th>Low</th>\n",
       "      <th>Close</th>\n",
       "      <th>Adj Close</th>\n",
       "      <th>Volume</th>\n",
       "    </tr>\n",
       "  </thead>\n",
       "  <tbody>\n",
       "    <tr>\n",
       "      <th>0</th>\n",
       "      <td>2019-09-09</td>\n",
       "      <td>12.55</td>\n",
       "      <td>13.92</td>\n",
       "      <td>12.510</td>\n",
       "      <td>13.90</td>\n",
       "      <td>13.90</td>\n",
       "      <td>5392500</td>\n",
       "    </tr>\n",
       "    <tr>\n",
       "      <th>1</th>\n",
       "      <td>2019-09-10</td>\n",
       "      <td>13.83</td>\n",
       "      <td>14.52</td>\n",
       "      <td>13.710</td>\n",
       "      <td>14.25</td>\n",
       "      <td>14.25</td>\n",
       "      <td>4122000</td>\n",
       "    </tr>\n",
       "    <tr>\n",
       "      <th>2</th>\n",
       "      <td>2019-09-11</td>\n",
       "      <td>14.35</td>\n",
       "      <td>14.54</td>\n",
       "      <td>14.131</td>\n",
       "      <td>14.39</td>\n",
       "      <td>14.39</td>\n",
       "      <td>2575800</td>\n",
       "    </tr>\n",
       "    <tr>\n",
       "      <th>3</th>\n",
       "      <td>2019-09-12</td>\n",
       "      <td>14.55</td>\n",
       "      <td>15.00</td>\n",
       "      <td>14.330</td>\n",
       "      <td>14.91</td>\n",
       "      <td>14.91</td>\n",
       "      <td>4172900</td>\n",
       "    </tr>\n",
       "    <tr>\n",
       "      <th>4</th>\n",
       "      <td>2019-09-13</td>\n",
       "      <td>14.93</td>\n",
       "      <td>15.21</td>\n",
       "      <td>14.855</td>\n",
       "      <td>15.00</td>\n",
       "      <td>15.00</td>\n",
       "      <td>4853500</td>\n",
       "    </tr>\n",
       "  </tbody>\n",
       "</table>\n",
       "</div>"
      ],
      "text/plain": [
       "         Date   Open   High     Low  Close  Adj Close   Volume\n",
       "0  2019-09-09  12.55  13.92  12.510  13.90      13.90  5392500\n",
       "1  2019-09-10  13.83  14.52  13.710  14.25      14.25  4122000\n",
       "2  2019-09-11  14.35  14.54  14.131  14.39      14.39  2575800\n",
       "3  2019-09-12  14.55  15.00  14.330  14.91      14.91  4172900\n",
       "4  2019-09-13  14.93  15.21  14.855  15.00      15.00  4853500"
      ]
     },
     "execution_count": 3,
     "metadata": {},
     "output_type": "execute_result"
    }
   ],
   "source": [
    "htz.head()"
   ]
  },
  {
   "cell_type": "code",
   "execution_count": 4,
   "metadata": {},
   "outputs": [
    {
     "data": {
      "text/plain": [
       "(254, 7)"
      ]
     },
     "execution_count": 4,
     "metadata": {},
     "output_type": "execute_result"
    }
   ],
   "source": [
    "htz.shape"
   ]
  },
  {
   "cell_type": "code",
   "execution_count": 5,
   "metadata": {
    "scrolled": false
   },
   "outputs": [
    {
     "name": "stdout",
     "output_type": "stream",
     "text": [
      "<class 'pandas.core.frame.DataFrame'>\n",
      "RangeIndex: 254 entries, 0 to 253\n",
      "Data columns (total 7 columns):\n",
      " #   Column     Non-Null Count  Dtype  \n",
      "---  ------     --------------  -----  \n",
      " 0   Date       254 non-null    object \n",
      " 1   Open       254 non-null    float64\n",
      " 2   High       254 non-null    float64\n",
      " 3   Low        254 non-null    float64\n",
      " 4   Close      254 non-null    float64\n",
      " 5   Adj Close  254 non-null    float64\n",
      " 6   Volume     254 non-null    int64  \n",
      "dtypes: float64(5), int64(1), object(1)\n",
      "memory usage: 13.0+ KB\n"
     ]
    }
   ],
   "source": [
    "htz.info()"
   ]
  },
  {
   "cell_type": "code",
   "execution_count": 6,
   "metadata": {
    "scrolled": false
   },
   "outputs": [
    {
     "data": {
      "text/plain": [
       "<bound method Series.drop of 0      13.90\n",
       "1      14.25\n",
       "2      14.39\n",
       "3      14.91\n",
       "4      15.00\n",
       "       ...  \n",
       "249     1.46\n",
       "250     1.41\n",
       "251     1.44\n",
       "252     1.44\n",
       "253     1.41\n",
       "Name: Adj Close, Length: 254, dtype: float64>"
      ]
     },
     "execution_count": 6,
     "metadata": {},
     "output_type": "execute_result"
    }
   ],
   "source": [
    "htz['Adj Close'].drop"
   ]
  },
  {
   "cell_type": "code",
   "execution_count": 7,
   "metadata": {},
   "outputs": [
    {
     "data": {
      "text/plain": [
       "Date         0\n",
       "Open         0\n",
       "High         0\n",
       "Low          0\n",
       "Close        0\n",
       "Adj Close    0\n",
       "Volume       0\n",
       "dtype: int64"
      ]
     },
     "execution_count": 7,
     "metadata": {},
     "output_type": "execute_result"
    }
   ],
   "source": [
    "htz.isnull().sum()"
   ]
  },
  {
   "cell_type": "code",
   "execution_count": 8,
   "metadata": {},
   "outputs": [
    {
     "data": {
      "text/html": [
       "<div>\n",
       "<style scoped>\n",
       "    .dataframe tbody tr th:only-of-type {\n",
       "        vertical-align: middle;\n",
       "    }\n",
       "\n",
       "    .dataframe tbody tr th {\n",
       "        vertical-align: top;\n",
       "    }\n",
       "\n",
       "    .dataframe thead th {\n",
       "        text-align: right;\n",
       "    }\n",
       "</style>\n",
       "<table border=\"1\" class=\"dataframe\">\n",
       "  <thead>\n",
       "    <tr style=\"text-align: right;\">\n",
       "      <th></th>\n",
       "      <th>Date</th>\n",
       "      <th>Open</th>\n",
       "      <th>High</th>\n",
       "      <th>Low</th>\n",
       "      <th>Close</th>\n",
       "      <th>Volume</th>\n",
       "    </tr>\n",
       "  </thead>\n",
       "  <tbody>\n",
       "    <tr>\n",
       "      <th>0</th>\n",
       "      <td>2019-09-09</td>\n",
       "      <td>12.55</td>\n",
       "      <td>13.92</td>\n",
       "      <td>12.510</td>\n",
       "      <td>13.90</td>\n",
       "      <td>5392500</td>\n",
       "    </tr>\n",
       "    <tr>\n",
       "      <th>1</th>\n",
       "      <td>2019-09-10</td>\n",
       "      <td>13.83</td>\n",
       "      <td>14.52</td>\n",
       "      <td>13.710</td>\n",
       "      <td>14.25</td>\n",
       "      <td>4122000</td>\n",
       "    </tr>\n",
       "    <tr>\n",
       "      <th>2</th>\n",
       "      <td>2019-09-11</td>\n",
       "      <td>14.35</td>\n",
       "      <td>14.54</td>\n",
       "      <td>14.131</td>\n",
       "      <td>14.39</td>\n",
       "      <td>2575800</td>\n",
       "    </tr>\n",
       "    <tr>\n",
       "      <th>3</th>\n",
       "      <td>2019-09-12</td>\n",
       "      <td>14.55</td>\n",
       "      <td>15.00</td>\n",
       "      <td>14.330</td>\n",
       "      <td>14.91</td>\n",
       "      <td>4172900</td>\n",
       "    </tr>\n",
       "    <tr>\n",
       "      <th>4</th>\n",
       "      <td>2019-09-13</td>\n",
       "      <td>14.93</td>\n",
       "      <td>15.21</td>\n",
       "      <td>14.855</td>\n",
       "      <td>15.00</td>\n",
       "      <td>4853500</td>\n",
       "    </tr>\n",
       "  </tbody>\n",
       "</table>\n",
       "</div>"
      ],
      "text/plain": [
       "         Date   Open   High     Low  Close   Volume\n",
       "0  2019-09-09  12.55  13.92  12.510  13.90  5392500\n",
       "1  2019-09-10  13.83  14.52  13.710  14.25  4122000\n",
       "2  2019-09-11  14.35  14.54  14.131  14.39  2575800\n",
       "3  2019-09-12  14.55  15.00  14.330  14.91  4172900\n",
       "4  2019-09-13  14.93  15.21  14.855  15.00  4853500"
      ]
     },
     "execution_count": 8,
     "metadata": {},
     "output_type": "execute_result"
    }
   ],
   "source": [
    "htz = htz.drop(columns='Adj Close')\n",
    "htz.head()"
   ]
  },
  {
   "cell_type": "code",
   "execution_count": 9,
   "metadata": {
    "scrolled": false
   },
   "outputs": [
    {
     "data": {
      "text/html": [
       "<div>\n",
       "<style scoped>\n",
       "    .dataframe tbody tr th:only-of-type {\n",
       "        vertical-align: middle;\n",
       "    }\n",
       "\n",
       "    .dataframe tbody tr th {\n",
       "        vertical-align: top;\n",
       "    }\n",
       "\n",
       "    .dataframe thead th {\n",
       "        text-align: right;\n",
       "    }\n",
       "</style>\n",
       "<table border=\"1\" class=\"dataframe\">\n",
       "  <thead>\n",
       "    <tr style=\"text-align: right;\">\n",
       "      <th></th>\n",
       "      <th>Date</th>\n",
       "      <th>Open</th>\n",
       "      <th>High</th>\n",
       "      <th>Low</th>\n",
       "      <th>Close</th>\n",
       "      <th>Volume</th>\n",
       "      <th>new_date</th>\n",
       "    </tr>\n",
       "  </thead>\n",
       "  <tbody>\n",
       "    <tr>\n",
       "      <th>0</th>\n",
       "      <td>2019-09-09</td>\n",
       "      <td>12.55</td>\n",
       "      <td>13.92</td>\n",
       "      <td>12.510</td>\n",
       "      <td>13.90</td>\n",
       "      <td>5392500</td>\n",
       "      <td>20190909</td>\n",
       "    </tr>\n",
       "    <tr>\n",
       "      <th>1</th>\n",
       "      <td>2019-09-10</td>\n",
       "      <td>13.83</td>\n",
       "      <td>14.52</td>\n",
       "      <td>13.710</td>\n",
       "      <td>14.25</td>\n",
       "      <td>4122000</td>\n",
       "      <td>20190910</td>\n",
       "    </tr>\n",
       "    <tr>\n",
       "      <th>2</th>\n",
       "      <td>2019-09-11</td>\n",
       "      <td>14.35</td>\n",
       "      <td>14.54</td>\n",
       "      <td>14.131</td>\n",
       "      <td>14.39</td>\n",
       "      <td>2575800</td>\n",
       "      <td>20190911</td>\n",
       "    </tr>\n",
       "    <tr>\n",
       "      <th>3</th>\n",
       "      <td>2019-09-12</td>\n",
       "      <td>14.55</td>\n",
       "      <td>15.00</td>\n",
       "      <td>14.330</td>\n",
       "      <td>14.91</td>\n",
       "      <td>4172900</td>\n",
       "      <td>20190912</td>\n",
       "    </tr>\n",
       "    <tr>\n",
       "      <th>4</th>\n",
       "      <td>2019-09-13</td>\n",
       "      <td>14.93</td>\n",
       "      <td>15.21</td>\n",
       "      <td>14.855</td>\n",
       "      <td>15.00</td>\n",
       "      <td>4853500</td>\n",
       "      <td>20190913</td>\n",
       "    </tr>\n",
       "  </tbody>\n",
       "</table>\n",
       "</div>"
      ],
      "text/plain": [
       "         Date   Open   High     Low  Close   Volume  new_date\n",
       "0  2019-09-09  12.55  13.92  12.510  13.90  5392500  20190909\n",
       "1  2019-09-10  13.83  14.52  13.710  14.25  4122000  20190910\n",
       "2  2019-09-11  14.35  14.54  14.131  14.39  2575800  20190911\n",
       "3  2019-09-12  14.55  15.00  14.330  14.91  4172900  20190912\n",
       "4  2019-09-13  14.93  15.21  14.855  15.00  4853500  20190913"
      ]
     },
     "execution_count": 9,
     "metadata": {},
     "output_type": "execute_result"
    }
   ],
   "source": [
    "htz['Date'] = htz['Date'].astype(str)\n",
    "htz['new_date'] = htz['Date'].str.replace('\\D', '').astype(int)\n",
    "htz.head()"
   ]
  },
  {
   "cell_type": "code",
   "execution_count": 10,
   "metadata": {},
   "outputs": [
    {
     "data": {
      "text/plain": [
       "Date         object\n",
       "Open        float64\n",
       "High        float64\n",
       "Low         float64\n",
       "Close       float64\n",
       "Volume        int64\n",
       "new_date      int32\n",
       "dtype: object"
      ]
     },
     "execution_count": 10,
     "metadata": {},
     "output_type": "execute_result"
    }
   ],
   "source": [
    "htz.dtypes"
   ]
  },
  {
   "cell_type": "markdown",
   "metadata": {},
   "source": [
    "plt.scatter(\n",
    "    htz[htz['High'] == 1].Open,\n",
    "    htz[htz['High'] == 1].Close,\n",
    "    color='red'\n",
    ")\n",
    "plt.scatter(\n",
    "    htz[htz['High'] == 0].Open,\n",
    "    htz[htz['High'] == 0].Close,\n",
    "    color='blue'\n",
    ")\n",
    "plt.legend(['High', 'Low'])\n",
    "plt.title('High and Low Characteristics')\n",
    "plt.xlabel('Open')\n",
    "plt.ylabel('Close')\n"
   ]
  },
  {
   "cell_type": "code",
   "execution_count": 11,
   "metadata": {
    "scrolled": true
   },
   "outputs": [
    {
     "data": {
      "image/png": "[encoded data removed]",
      "text/plain": [
       "<Figure size 360x216 with 2 Axes>"
      ]
     },
     "metadata": {
      "needs_background": "light"
     },
     "output_type": "display_data"
    }
   ],
   "source": [
    "\n",
    "plt.figure(figsize=(5, 3))\n",
    "sns.heatmap(htz.corr(), vmin=-1, vmax=1, annot=False)\n",
    "plt.show()"
   ]
  },
  {
   "cell_type": "markdown",
   "metadata": {},
   "source": [
    "if data is not None:\n",
    "    x = data.get(x, x)\n",
    "    y = data.get(y, y)\n",
    "    hue = data.get(htz)\n",
    "sns.scatterplot(\"High\", \"Low\", hue=\"htz\", data=float)\n",
    "plt.show()"
   ]
  },
  {
   "cell_type": "markdown",
   "metadata": {},
   "source": [
    "sns.boxplot(\"High\", \"Open\", data=int)\n",
    "plt.show()"
   ]
  },
  {
   "cell_type": "markdown",
   "metadata": {},
   "source": [
    "print(htz[pd.to_numeric(htz.col, errors='coerce').isnull()])"
   ]
  },
  {
   "cell_type": "markdown",
   "metadata": {},
   "source": [
    "htz['Date'] = pd.to_numeric(htz['Date'])"
   ]
  },
  {
   "cell_type": "markdown",
   "metadata": {},
   "source": [
    "sns.scatterplot('Open', 'High', 'Low', 'Close', hue = 'Date')"
   ]
  },
  {
   "cell_type": "code",
   "execution_count": 12,
   "metadata": {
    "scrolled": false
   },
   "outputs": [],
   "source": [
    "X = htz.drop(columns=\"High\")\n",
    "y = htz[\"Low\"]\n",
    "X_train, X_test, y_train, y_test = train_test_split(X, y, \n",
    "test_size=0.20, random_state=42)\n"
   ]
  },
  {
   "cell_type": "code",
   "execution_count": 13,
   "metadata": {},
   "outputs": [],
   "source": [
    "\n",
    "a = (1, 1)\n",
    "b = (4, 4)"
   ]
  },
  {
   "cell_type": "code",
   "execution_count": 14,
   "metadata": {},
   "outputs": [
    {
     "data": {
      "text/plain": [
       "4.242640687119285"
      ]
     },
     "execution_count": 14,
     "metadata": {},
     "output_type": "execute_result"
    }
   ],
   "source": [
    "a = np.array(a)\n",
    "b = np.array(b)\n",
    "\n",
    "sum_of_sq_dists = np.sum((a - b) ** 2)\n",
    "np.sqrt(sum_of_sq_dists)"
   ]
  },
  {
   "cell_type": "code",
   "execution_count": 15,
   "metadata": {},
   "outputs": [],
   "source": [
    "\n",
    "def euclid_dist(a, b):\n",
    "    a = np.array(a)\n",
    "    b = np.array(b)\n",
    "\n",
    "    sum_of_sq_dists = np.sum((a - b) ** 2)\n",
    "    dist = np.sqrt(sum_of_sq_dists)\n",
    "\n",
    "    return dist"
   ]
  },
  {
   "cell_type": "code",
   "execution_count": 16,
   "metadata": {},
   "outputs": [
    {
     "data": {
      "text/plain": [
       "4.242640687119285"
      ]
     },
     "execution_count": 16,
     "metadata": {},
     "output_type": "execute_result"
    }
   ],
   "source": [
    "euclid_dist((1, 1), (4, 4))\n"
   ]
  },
  {
   "cell_type": "code",
   "execution_count": 17,
   "metadata": {},
   "outputs": [
    {
     "data": {
      "text/plain": [
       "Date        2019-10-31\n",
       "Open             13.49\n",
       "Low              13.19\n",
       "Close            13.51\n",
       "Volume         2631900\n",
       "new_date      20191031\n",
       "Name: 38, dtype: object"
      ]
     },
     "execution_count": 17,
     "metadata": {},
     "output_type": "execute_result"
    }
   ],
   "source": [
    "X_train.iloc[0, :]\n"
   ]
  },
  {
   "cell_type": "code",
   "execution_count": 18,
   "metadata": {},
   "outputs": [
    {
     "data": {
      "text/plain": [
       "Date        2020-04-02\n",
       "Open              5.35\n",
       "Low               4.69\n",
       "Close             5.02\n",
       "Volume        12763000\n",
       "new_date      20200402\n",
       "Name: 143, dtype: object"
      ]
     },
     "execution_count": 18,
     "metadata": {},
     "output_type": "execute_result"
    }
   ],
   "source": [
    "X_train.iloc[1, :]\n"
   ]
  },
  {
   "cell_type": "code",
   "execution_count": 19,
   "metadata": {},
   "outputs": [
    {
     "ename": "TypeError",
     "evalue": "unsupported operand type(s) for -: 'str' and 'str'",
     "output_type": "error",
     "traceback": [
      "\u001b[1;31m---------------------------------------------------------------------------\u001b[0m",
      "\u001b[1;31mTypeError\u001b[0m                                 Traceback (most recent call last)",
      "\u001b[1;32m<ipython-input-19-646419cff603>\u001b[0m in \u001b[0;36m<module>\u001b[1;34m\u001b[0m\n\u001b[0;32m      2\u001b[0m \u001b[0mrow2\u001b[0m \u001b[1;33m=\u001b[0m \u001b[0mX_train\u001b[0m\u001b[1;33m.\u001b[0m\u001b[0miloc\u001b[0m\u001b[1;33m[\u001b[0m\u001b[1;36m1\u001b[0m\u001b[1;33m,\u001b[0m \u001b[1;33m:\u001b[0m\u001b[1;33m]\u001b[0m\u001b[1;33m\u001b[0m\u001b[1;33m\u001b[0m\u001b[0m\n\u001b[0;32m      3\u001b[0m \u001b[1;33m\u001b[0m\u001b[0m\n\u001b[1;32m----> 4\u001b[1;33m \u001b[0meuclid_dist\u001b[0m\u001b[1;33m(\u001b[0m\u001b[0mrow1\u001b[0m\u001b[1;33m,\u001b[0m \u001b[0mrow2\u001b[0m\u001b[1;33m)\u001b[0m\u001b[1;33m\u001b[0m\u001b[1;33m\u001b[0m\u001b[0m\n\u001b[0m",
      "\u001b[1;32m<ipython-input-15-b62fa5db0f00>\u001b[0m in \u001b[0;36meuclid_dist\u001b[1;34m(a, b)\u001b[0m\n\u001b[0;32m      3\u001b[0m     \u001b[0mb\u001b[0m \u001b[1;33m=\u001b[0m \u001b[0mnp\u001b[0m\u001b[1;33m.\u001b[0m\u001b[0marray\u001b[0m\u001b[1;33m(\u001b[0m\u001b[0mb\u001b[0m\u001b[1;33m)\u001b[0m\u001b[1;33m\u001b[0m\u001b[1;33m\u001b[0m\u001b[0m\n\u001b[0;32m      4\u001b[0m \u001b[1;33m\u001b[0m\u001b[0m\n\u001b[1;32m----> 5\u001b[1;33m     \u001b[0msum_of_sq_dists\u001b[0m \u001b[1;33m=\u001b[0m \u001b[0mnp\u001b[0m\u001b[1;33m.\u001b[0m\u001b[0msum\u001b[0m\u001b[1;33m(\u001b[0m\u001b[1;33m(\u001b[0m\u001b[0ma\u001b[0m \u001b[1;33m-\u001b[0m \u001b[0mb\u001b[0m\u001b[1;33m)\u001b[0m \u001b[1;33m**\u001b[0m \u001b[1;36m2\u001b[0m\u001b[1;33m)\u001b[0m\u001b[1;33m\u001b[0m\u001b[1;33m\u001b[0m\u001b[0m\n\u001b[0m\u001b[0;32m      6\u001b[0m     \u001b[0mdist\u001b[0m \u001b[1;33m=\u001b[0m \u001b[0mnp\u001b[0m\u001b[1;33m.\u001b[0m\u001b[0msqrt\u001b[0m\u001b[1;33m(\u001b[0m\u001b[0msum_of_sq_dists\u001b[0m\u001b[1;33m)\u001b[0m\u001b[1;33m\u001b[0m\u001b[1;33m\u001b[0m\u001b[0m\n\u001b[0;32m      7\u001b[0m \u001b[1;33m\u001b[0m\u001b[0m\n",
      "\u001b[1;31mTypeError\u001b[0m: unsupported operand type(s) for -: 'str' and 'str'"
     ]
    }
   ],
   "source": [
    "row1 = X_train.iloc[0, :]\n",
    "row2 = X_train.iloc[1, :]\n",
    "\n",
    "euclid_dist(row1, row2)"
   ]
  },
  {
   "cell_type": "code",
   "execution_count": null,
   "metadata": {},
   "outputs": [],
   "source": []
  },
  {
   "cell_type": "code",
   "execution_count": null,
   "metadata": {},
   "outputs": [],
   "source": []
  },
  {
   "cell_type": "code",
   "execution_count": null,
   "metadata": {},
   "outputs": [],
   "source": []
  },
  {
   "cell_type": "code",
   "execution_count": null,
   "metadata": {},
   "outputs": [],
   "source": []
  },
  {
   "cell_type": "code",
   "execution_count": null,
   "metadata": {},
   "outputs": [],
   "source": []
  },
  {
   "cell_type": "code",
   "execution_count": null,
   "metadata": {},
   "outputs": [],
   "source": []
  },
  {
   "cell_type": "code",
   "execution_count": null,
   "metadata": {},
   "outputs": [],
   "source": []
  },
  {
   "cell_type": "code",
   "execution_count": null,
   "metadata": {},
   "outputs": [],
   "source": []
  },
  {
   "cell_type": "code",
   "execution_count": null,
   "metadata": {},
   "outputs": [],
   "source": []
  },
  {
   "cell_type": "code",
   "execution_count": null,
   "metadata": {},
   "outputs": [],
   "source": []
  },
  {
   "cell_type": "code",
   "execution_count": null,
   "metadata": {},
   "outputs": [],
   "source": []
  },
  {
   "cell_type": "code",
   "execution_count": null,
   "metadata": {},
   "outputs": [],
   "source": []
  }
 ],
 "metadata": {
  "kernelspec": {
   "display_name": "Python 3",
   "language": "python",
   "name": "python3"
  },
  "language_info": {
   "codemirror_mode": {
    "name": "ipython",
    "version": 3
   },
   "file_extension": ".py",
   "mimetype": "text/x-python",
   "name": "python",
   "nbconvert_exporter": "python",
   "pygments_lexer": "ipython3",
   "version": "3.8.3"
  }
 },
 "nbformat": 4,
 "nbformat_minor": 4
}
