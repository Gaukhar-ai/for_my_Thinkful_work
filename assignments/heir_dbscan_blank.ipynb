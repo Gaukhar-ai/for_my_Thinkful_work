{
 "cells": [
  {
   "cell_type": "code",
   "execution_count": null,
   "metadata": {},
   "outputs": [],
   "source": [
    "%reload_ext nb_black"
   ]
  },
  {
   "cell_type": "markdown",
   "metadata": {
    "colab_type": "text",
    "id": "onblHDz_LiO4"
   },
   "source": [
    "# Zillow\n",
    "\n",
    "Data provided by Zillow * Kaggle (see [here](https://www.kaggle.com/pratyushakar/zillow-zestimate#properties_2017.csv))"
   ]
  },
  {
   "cell_type": "code",
   "execution_count": null,
   "metadata": {
    "colab": {},
    "colab_type": "code",
    "id": "mM4--G_zipCj"
   },
   "outputs": [],
   "source": [
    "data_url = \"https://docs.google.com/spreadsheets/d/198EG3tckqzD1uOKSYxAY62i5v_0LIZQMgzaIae6u1vo/export?format=csv\""
   ]
  },
  {
   "cell_type": "markdown",
   "metadata": {
    "colab_type": "text",
    "id": "97m5nEXWir7a"
   },
   "source": [
    "Load all the usual suspects and some new ones including: `AgglomerativeClustering`, `DBSCAN`, `dendrogram`."
   ]
  },
  {
   "cell_type": "code",
   "execution_count": null,
   "metadata": {
    "colab": {},
    "colab_type": "code",
    "id": "W8FU94m0Jx83"
   },
   "outputs": [],
   "source": [
    "import numpy as np\n",
    "import pandas as pd\n",
    "\n",
    "from sklearn.preprocessing import StandardScaler\n",
    "from sklearn.cluster import AgglomerativeClustering, DBSCAN\n",
    "\n",
    "from scipy.cluster.hierarchy import dendrogram\n",
    "from scipy.spatial.distance import pdist, squareform\n",
    "\n",
    "import matplotlib.pyplot as plt\n",
    "\n",
    "%matplotlib inline"
   ]
  },
  {
   "cell_type": "markdown",
   "metadata": {
    "colab_type": "text",
    "id": "58b310hxikJF"
   },
   "source": [
    "Function that will also be used in your exercise to produce a dendrogram from our `AgglomerativeClustering` object."
   ]
  },
  {
   "cell_type": "code",
   "execution_count": null,
   "metadata": {
    "colab": {},
    "colab_type": "code",
    "id": "Ky5AfTm0ijeN"
   },
   "outputs": [],
   "source": [
    "def plot_dendrogram(model, **kwargs):\n",
    "    \"\"\"\n",
    "    A function for plotting a dendrogram. Sourced from the following link:\n",
    "    https://github.com/scikit-learn/scikit-learn/blob/70cf4a676caa2d2dad2e3f6e4478d64bcb0506f7/examples/cluster/plot_hierarchical_clustering_dendrogram.py\n",
    "    \n",
    "    Parameters:\n",
    "        model (object of class sklearn.cluster.hierarchical.AgglomerativeClustering): a fitted scikit-learn hierarchical clustering model.\n",
    "    \n",
    "    Output: a dendrogram based on the model based in the parameters.\n",
    "    \n",
    "    Returns: None   \n",
    "    \"\"\"\n",
    "    # Children of hierarchical clustering\n",
    "    children = model.children_\n",
    "\n",
    "    # Distances between each pair of children\n",
    "    # Since we don't have this information, we can use a uniform one for plotting\n",
    "    distance = np.arange(children.shape[0])\n",
    "\n",
    "    # The number of observations contained in each cluster level\n",
    "    no_of_observations = np.arange(2, children.shape[0] + 2)\n",
    "\n",
    "    # Create linkage matrix and then plot the dendrogram\n",
    "    linkage_matrix = np.column_stack([children, distance, no_of_observations]).astype(\n",
    "        float\n",
    "    )\n",
    "\n",
    "    # Plot the corresponding dendrogram\n",
    "    dendrogram(linkage_matrix, **kwargs)"
   ]
  },
  {
   "cell_type": "markdown",
   "metadata": {
    "colab_type": "text",
    "id": "bphdy-BGjAwi"
   },
   "source": [
    "Read data and do some inspection & cleaning."
   ]
  },
  {
   "cell_type": "code",
   "execution_count": null,
   "metadata": {
    "colab": {
     "base_uri": "https://localhost:8080/",
     "height": 224
    },
    "colab_type": "code",
    "id": "kxGpm68dLxuX",
    "outputId": "d4a04517-b481-44ca-906e-c415bfa48845"
   },
   "outputs": [],
   "source": [
    "zillow = pd.read_csv(data_url)\n",
    "zillow.head()"
   ]
  },
  {
   "cell_type": "markdown",
   "metadata": {
    "colab_type": "text",
    "id": "ibTTfwWEjGPW"
   },
   "source": [
    "Drop columns that have more than 20% of their values missing.  How many columns does this remove?"
   ]
  },
  {
   "cell_type": "code",
   "execution_count": null,
   "metadata": {},
   "outputs": [],
   "source": []
  },
  {
   "cell_type": "markdown",
   "metadata": {},
   "source": [
    "Drop all NAs from the dataframe.  How many rows does this remove?"
   ]
  },
  {
   "cell_type": "code",
   "execution_count": null,
   "metadata": {
    "colab": {
     "base_uri": "https://localhost:8080/",
     "height": 241
    },
    "colab_type": "code",
    "id": "MrbxUB9jL1_t",
    "outputId": "f7f482d6-be64-478b-ca61-4c8e471ff9f1"
   },
   "outputs": [],
   "source": []
  },
  {
   "cell_type": "markdown",
   "metadata": {
    "colab_type": "text",
    "id": "YYPhn06mjhR6"
   },
   "source": [
    "For the sake of time & plotting, downsample to 100 random records in the `zillow` dataframe.  Use a random seed of `42` to obtain consistent results."
   ]
  },
  {
   "cell_type": "code",
   "execution_count": null,
   "metadata": {
    "colab": {},
    "colab_type": "code",
    "id": "tZLSy9UkL7nB"
   },
   "outputs": [],
   "source": [
    "# If we calc a distance matrix it will be 12425 * 12425 (154,380,625) elements large\n",
    "# Let's down sample to have a quicker demo and a prettier dendrogram to look at\n",
    "zillow = "
   ]
  },
  {
   "cell_type": "markdown",
   "metadata": {
    "colab_type": "text",
    "id": "siio9UX5j7Z-"
   },
   "source": [
    "Dropping a lot of columns based on being ID, having 0 variance, or being collinear (based on my understanding... rather than analysis... might be wrong)."
   ]
  },
  {
   "cell_type": "code",
   "execution_count": null,
   "metadata": {
    "colab": {
     "base_uri": "https://localhost:8080/",
     "height": 224
    },
    "colab_type": "code",
    "id": "tNnwfPxSj5ih",
    "outputId": "22d9b902-d7f7-46be-ccab-87775b4e820f"
   },
   "outputs": [],
   "source": [
    "# Id columns aren't too useful for clustering but we might want them later\n",
    "# fmt: off\n",
    "id_cols = [\"parcelid\", \"pooltypeid7\", \"propertycountylandusecode\", \n",
    "           \"propertylandusetypeid\", \"regionidcity\", \"regionidcounty\", \"regionidzip\",\n",
    "           \"latitude\", \"longitude\", \"fips\",\n",
    "           \"rawcensustractandblock\", \"censustractandblock\"]\n",
    "zillow_sub = zillow.drop(columns=id_cols)\n",
    "\n",
    "# Some columns that duplicate info\n",
    "# Idk much about real estate so some of these might be bad assumptions\n",
    "dup_cols = [\"calculatedbathnbr\", \"finishedsquarefeet50\", \"finishedsquarefeet12\",\n",
    "            \"finishedfloor1squarefeet\", \"structuretaxvaluedollarcnt\", \n",
    "            \"taxvaluedollarcnt\", \"landtaxvaluedollarcnt\"]\n",
    "# fmt: on\n",
    "zillow_sub = zillow_sub.drop(columns=dup_cols)\n",
    "\n",
    "# My random sample (using 42 as seed) had 0 variance in these 2 columns\n",
    "no_var_cols = [\"poolcnt\", \"assessmentyear\"]\n",
    "zillow_sub = zillow_sub.drop(columns=no_var_cols)\n",
    "\n",
    "zillow_sub.head()"
   ]
  },
  {
   "cell_type": "markdown",
   "metadata": {
    "colab_type": "text",
    "id": "UqLa0chVfimW"
   },
   "source": [
    "## Heirarchical Clustering\n",
    "\n",
    "Links:\n",
    "* [Greate resource here explaining an example in depth](http://www.econ.upf.edu/~michael/stanford/maeb7.pdf)\n",
    "* [StatQuest video](https://www.youtube.com/watch?v=7xHsRkOdVwo): admittedly not his best work and not his best \"bams\""
   ]
  },
  {
   "cell_type": "markdown",
   "metadata": {
    "colab_type": "text",
    "id": "bveQM2RjlPsY"
   },
   "source": [
    "Prep data for clustering"
   ]
  },
  {
   "cell_type": "code",
   "execution_count": null,
   "metadata": {
    "colab": {},
    "colab_type": "code",
    "id": "qnJHCNWYNskO"
   },
   "outputs": [],
   "source": []
  },
  {
   "cell_type": "markdown",
   "metadata": {
    "colab_type": "text",
    "id": "GfFgoSBulT_W"
   },
   "source": [
    "Calculate distance matrix using euclidean distance"
   ]
  },
  {
   "cell_type": "code",
   "execution_count": null,
   "metadata": {
    "colab": {},
    "colab_type": "code",
    "id": "FW6IRyyeN7LG"
   },
   "outputs": [],
   "source": []
  },
  {
   "cell_type": "markdown",
   "metadata": {
    "colab_type": "text",
    "id": "F4lK-6P3labM"
   },
   "source": [
    "Perform heirarchical clustering with the distance matrix and [`sklearn.cluster.AgglomerativeClustering`](https://scikit-learn.org/stable/modules/generated/sklearn.cluster.AgglomerativeClustering.html)."
   ]
  },
  {
   "cell_type": "code",
   "execution_count": null,
   "metadata": {
    "colab": {
     "base_uri": "https://localhost:8080/",
     "height": 68
    },
    "colab_type": "code",
    "id": "XfGryvX-PF2V",
    "outputId": "e1aa028a-e636-40da-90e8-b95602de7ef4"
   },
   "outputs": [],
   "source": []
  },
  {
   "cell_type": "markdown",
   "metadata": {
    "colab_type": "text",
    "id": "yHEGxCXrlpkL"
   },
   "source": [
    "Use the `plot_dendrogram()` helper function to plot the heirarchical clusters."
   ]
  },
  {
   "cell_type": "code",
   "execution_count": null,
   "metadata": {
    "colab": {
     "base_uri": "https://localhost:8080/",
     "height": 585
    },
    "colab_type": "code",
    "id": "r_A8wFeLPU62",
    "outputId": "93e0ec6b-6918-4712-8634-9d7267bf3794"
   },
   "outputs": [],
   "source": [
    "plt.figure(figsize=(20, 10))\n"
   ]
  },
  {
   "cell_type": "markdown",
   "metadata": {
    "colab_type": "text",
    "id": "iM7eMeD5lzp4"
   },
   "source": [
    "Assign the cluster labels to a column in our original dataframe."
   ]
  },
  {
   "cell_type": "code",
   "execution_count": null,
   "metadata": {
    "colab": {},
    "colab_type": "code",
    "id": "IP9cOceDP6Xw"
   },
   "outputs": [],
   "source": []
  },
  {
   "cell_type": "markdown",
   "metadata": {
    "colab_type": "text",
    "id": "tdHy6u_8l5y3"
   },
   "source": [
    "Interpret the clusters"
   ]
  },
  {
   "cell_type": "code",
   "execution_count": null,
   "metadata": {
    "colab": {
     "base_uri": "https://localhost:8080/",
     "height": 255
    },
    "colab_type": "code",
    "id": "tJwjQsjbQKRr",
    "outputId": "34461db4-c1c7-464a-bbcc-a8d51fcf8658"
   },
   "outputs": [],
   "source": []
  },
  {
   "cell_type": "markdown",
   "metadata": {
    "colab_type": "text",
    "id": "31YU3r06fp9i"
   },
   "source": [
    "## DBSCAN Clustering\n",
    "\n",
    "Links:\n",
    "* [A cool demo animation](https://www.youtube.com/watch?v=h53WMIImUuc&feature=youtu.be&t=2)\n",
    "* [Video to try and slow down and discuss the process shown in the animation animation](https://drive.google.com/file/d/1qXsccjEWXYUi1SNJQWRCNrySegjWjnPN/view?usp=sharing)"
   ]
  },
  {
   "cell_type": "markdown",
   "metadata": {
    "colab_type": "text",
    "id": "Y0rnvLQvmEOI"
   },
   "source": [
    "Perform clustering with [`sklearn.cluster.DBSCAN`](https://scikit-learn.org/stable/modules/generated/sklearn.cluster.DBSCAN.html)."
   ]
  },
  {
   "cell_type": "code",
   "execution_count": null,
   "metadata": {
    "colab": {
     "base_uri": "https://localhost:8080/",
     "height": 51
    },
    "colab_type": "code",
    "id": "Uq8aembmd2MC",
    "outputId": "54160fed-d335-47ca-b4d6-717ba45db663"
   },
   "outputs": [],
   "source": []
  },
  {
   "cell_type": "markdown",
   "metadata": {
    "colab_type": "text",
    "id": "EEPF55HamK2m"
   },
   "source": [
    "Assign the labels to the dataframe"
   ]
  },
  {
   "cell_type": "code",
   "execution_count": null,
   "metadata": {
    "colab": {},
    "colab_type": "code",
    "id": "GaKLFy69gXMy"
   },
   "outputs": [],
   "source": []
  },
  {
   "cell_type": "markdown",
   "metadata": {
    "colab_type": "text",
    "id": "-3XraG3UmVEA"
   },
   "source": [
    "Perform clustering with DBSCAN using the distance matrix (with the same `eps` and `min_samples`."
   ]
  },
  {
   "cell_type": "code",
   "execution_count": null,
   "metadata": {
    "colab": {
     "base_uri": "https://localhost:8080/",
     "height": 51
    },
    "colab_type": "code",
    "id": "-yLUZrp8mZeh",
    "outputId": "a6068aba-79d8-442c-b362-8949d89d7b26"
   },
   "outputs": [],
   "source": []
  },
  {
   "cell_type": "markdown",
   "metadata": {
    "colab_type": "text",
    "id": "7xeAZn6pmaTR"
   },
   "source": [
    "Confirm you get the same results"
   ]
  },
  {
   "cell_type": "code",
   "execution_count": null,
   "metadata": {
    "colab": {},
    "colab_type": "code",
    "id": "jcejCrMymhFu"
   },
   "outputs": [],
   "source": []
  },
  {
   "cell_type": "markdown",
   "metadata": {
    "colab_type": "text",
    "id": "plzprhoPmhZP"
   },
   "source": [
    "Interpret the clusters"
   ]
  },
  {
   "cell_type": "code",
   "execution_count": null,
   "metadata": {
    "colab": {
     "base_uri": "https://localhost:8080/",
     "height": 204
    },
    "colab_type": "code",
    "id": "AbWifg-1gflL",
    "outputId": "c96feb38-5490-4b41-a723-9c892f9bf602"
   },
   "outputs": [],
   "source": []
  },
  {
   "cell_type": "markdown",
   "metadata": {},
   "source": [
    "Change the values of `eps` and `min_samples` and repeat the analysis."
   ]
  }
 ],
 "metadata": {
  "colab": {
   "collapsed_sections": [],
   "name": "Copy of zillow_clustering.ipynb",
   "provenance": []
  },
  "kernelspec": {
   "display_name": "Python 3",
   "language": "python",
   "name": "python3"
  },
  "language_info": {
   "codemirror_mode": {
    "name": "ipython",
    "version": 3
   },
   "file_extension": ".py",
   "mimetype": "text/x-python",
   "name": "python",
   "nbconvert_exporter": "python",
   "pygments_lexer": "ipython3",
   "version": "3.7.7"
  }
 },
 "nbformat": 4,
 "nbformat_minor": 1
}
