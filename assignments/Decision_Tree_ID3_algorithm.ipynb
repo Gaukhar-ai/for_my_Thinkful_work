{
 "cells": [
  {
   "cell_type": "code",
   "execution_count": 1,
   "metadata": {},
   "outputs": [],
   "source": [
    "import math\n",
    "\n",
    "#find item in a list\n",
    "def find(item, list):\n",
    "    for i in list:\n",
    "        if item(i): \n",
    "            return True\n",
    "        else:\n",
    "            return False"
   ]
  },
  {
   "cell_type": "code",
   "execution_count": 2,
   "metadata": {},
   "outputs": [],
   "source": [
    "\n",
    "#find most common value for an attribute\n",
    "def majority(attributes, data, target):\n",
    "    #find target attribute\n",
    "    valFreq = {}\n",
    "    #find target in data\n",
    "    index = attributes.index(target)\n",
    "    #calculate frequency of values in target attr\n",
    "    for tuple in data:\n",
    "        if (valFreq.has_key(tuple[index])):\n",
    "            valFreq[tuple[index]] += 1 \n",
    "        else:\n",
    "            valFreq[tuple[index]] = 1\n",
    "    max = 0\n",
    "    major = \"\"\n",
    "    for key in valFreq.keys():\n",
    "        if valFreq[key]>max:\n",
    "            max = valFreq[key]\n",
    "            major = key\n",
    "    return major"
   ]
  },
  {
   "cell_type": "code",
   "execution_count": 3,
   "metadata": {},
   "outputs": [],
   "source": [
    "#Calculates the entropy of the given data set for the target attr\n",
    "def entropy(attributes, data, targetAttr):\n",
    "\n",
    "    valFreq = {}\n",
    "    dataEntropy = 0.0\n",
    "    \n",
    "    #find index of the target attribute\n",
    "    i = 0\n",
    "    for entry in attributes:\n",
    "        if (targetAttr == entry):\n",
    "            break\n",
    "        ++i\n",
    "    "
   ]
  },
  {
   "cell_type": "code",
   "execution_count": 5,
   "metadata": {},
   "outputs": [
    {
     "ename": "IndentationError",
     "evalue": "unexpected indent (<ipython-input-5-ce19f4bbdbf6>, line 2)",
     "output_type": "error",
     "traceback": [
      "\u001b[1;36m  File \u001b[1;32m\"<ipython-input-5-ce19f4bbdbf6>\"\u001b[1;36m, line \u001b[1;32m2\u001b[0m\n\u001b[1;33m    for entry in data:\u001b[0m\n\u001b[1;37m    ^\u001b[0m\n\u001b[1;31mIndentationError\u001b[0m\u001b[1;31m:\u001b[0m unexpected indent\n"
     ]
    }
   ],
   "source": [
    " # Calculate the frequency of each of the values in the target attr\n",
    "    for entry in data:\n",
    "        if (valFreq.has_key(entry[i])):\n",
    "            valFreq[entry[i]] += 1.0\n",
    "        else:\n",
    "            valFreq[entry[i]]  = 1.0\n",
    "\n",
    "  "
   ]
  },
  {
   "cell_type": "code",
   "execution_count": null,
   "metadata": {},
   "outputs": [],
   "source": [
    "  # Calculate the entropy of the data for the target attr\n",
    "    for freq in valFreq.values():\n",
    "        dataEntropy += (-freq/len(data)) * math.log(freq/len(data), 2) \n",
    "        \n",
    "    return dataEntropy"
   ]
  },
  {
   "cell_type": "code",
   "execution_count": null,
   "metadata": {},
   "outputs": [],
   "source": [
    "def gain(attributes, data, attr, targetAttr):\n",
    "    \"\"\"\n",
    "    Calculates the information gain (reduction in entropy) that would\n",
    "    result by splitting the data on the chosen attribute (attr).\n",
    "    \"\"\"\n",
    "    valFreq = {}\n",
    "    subsetEntropy = 0.0\n",
    "    \n",
    "    #find index of the attribute\n",
    "    i = attributes.index(attr)\n",
    "\n",
    "    "
   ]
  },
  {
   "cell_type": "code",
   "execution_count": null,
   "metadata": {},
   "outputs": [],
   "source": [
    "  # Calculate the frequency of each of the values in the target attribute\n",
    "    for entry in data:\n",
    "        if (valFreq.has_key(entry[i])):\n",
    "            valFreq[entry[i]] += 1.0\n",
    "        else:\n",
    "            valFreq[entry[i]]  = 1.0\n",
    "   "
   ]
  },
  {
   "cell_type": "code",
   "execution_count": null,
   "metadata": {},
   "outputs": [],
   "source": [
    " # Calculate the sum of the entropy for each subset of records weighted\n",
    "    # by their probability of occuring in the training set.\n",
    "    for val in valFreq.keys():\n",
    "        valProb        = valFreq[val] / sum(valFreq.values())\n",
    "        dataSubset     = [entry for entry in data if entry[i] == val]\n",
    "        subsetEntropy += valProb * entropy(attributes, dataSubset, targetAttr)"
   ]
  },
  {
   "cell_type": "code",
   "execution_count": null,
   "metadata": {},
   "outputs": [],
   "source": [
    "  # Subtract the entropy of the chosen attribute from the entropy of the\n",
    "    # whole data set with respect to the target attribute (and return it)\n",
    "    return (entropy(attributes, data, targetAttr) - subsetEntropy)"
   ]
  },
  {
   "cell_type": "code",
   "execution_count": null,
   "metadata": {},
   "outputs": [],
   "source": []
  },
  {
   "cell_type": "code",
   "execution_count": null,
   "metadata": {},
   "outputs": [],
   "source": []
  }
 ],
 "metadata": {
  "kernelspec": {
   "display_name": "Python 3",
   "language": "python",
   "name": "python3"
  },
  "language_info": {
   "codemirror_mode": {
    "name": "ipython",
    "version": 3
   },
   "file_extension": ".py",
   "mimetype": "text/x-python",
   "name": "python",
   "nbconvert_exporter": "python",
   "pygments_lexer": "ipython3",
   "version": "3.8.3"
  }
 },
 "nbformat": 4,
 "nbformat_minor": 4
}
