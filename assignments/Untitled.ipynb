{
 "cells": [
  {
   "cell_type": "code",
   "execution_count": 1,
   "metadata": {},
   "outputs": [
    {
     "name": "stdout",
     "output_type": "stream",
     "text": [
      "Requirement already satisfied: mlxtend==0.13.0 in c:\\users\\gaukharjavarova\\appdata\\local\\programs\\python\\python38-32\\lib\\site-packages (0.13.0)\n",
      "Requirement already satisfied: scipy>=0.17 in c:\\users\\gaukharjavarova\\appdata\\local\\programs\\python\\python38-32\\lib\\site-packages (from mlxtend==0.13.0) (1.5.2)\n",
      "Requirement already satisfied: matplotlib>=1.5.1 in c:\\users\\gaukharjavarova\\appdata\\local\\programs\\python\\python38-32\\lib\\site-packages (from mlxtend==0.13.0) (3.3.1)\n",
      "Requirement already satisfied: setuptools in c:\\users\\gaukharjavarova\\appdata\\local\\programs\\python\\python38-32\\lib\\site-packages (from mlxtend==0.13.0) (41.2.0)\n",
      "Requirement already satisfied: numpy>=1.10.4 in c:\\users\\gaukharjavarova\\appdata\\local\\programs\\python\\python38-32\\lib\\site-packages (from mlxtend==0.13.0) (1.19.0)\n",
      "Requirement already satisfied: scikit-learn>=0.18 in c:\\users\\gaukharjavarova\\appdata\\local\\programs\\python\\python38-32\\lib\\site-packages (from mlxtend==0.13.0) (0.23.2)\n",
      "Requirement already satisfied: pandas>=0.17.1 in c:\\users\\gaukharjavarova\\appdata\\local\\programs\\python\\python38-32\\lib\\site-packages (from mlxtend==0.13.0) (1.0.5)\n",
      "Requirement already satisfied: kiwisolver>=1.0.1 in c:\\users\\gaukharjavarova\\appdata\\local\\programs\\python\\python38-32\\lib\\site-packages (from matplotlib>=1.5.1->mlxtend==0.13.0) (1.2.0)\n",
      "Requirement already satisfied: cycler>=0.10 in c:\\users\\gaukharjavarova\\appdata\\local\\programs\\python\\python38-32\\lib\\site-packages (from matplotlib>=1.5.1->mlxtend==0.13.0) (0.10.0)\n",
      "Requirement already satisfied: pillow>=6.2.0 in c:\\users\\gaukharjavarova\\appdata\\local\\programs\\python\\python38-32\\lib\\site-packages (from matplotlib>=1.5.1->mlxtend==0.13.0) (7.1.2)\n",
      "Requirement already satisfied: python-dateutil>=2.1 in c:\\users\\gaukharjavarova\\appdata\\local\\programs\\python\\python38-32\\lib\\site-packages (from matplotlib>=1.5.1->mlxtend==0.13.0) (2.8.1)\n",
      "Requirement already satisfied: certifi>=2020.06.20 in c:\\users\\gaukharjavarova\\appdata\\local\\programs\\python\\python38-32\\lib\\site-packages (from matplotlib>=1.5.1->mlxtend==0.13.0) (2020.6.20)\n",
      "Requirement already satisfied: pyparsing!=2.0.4,!=2.1.2,!=2.1.6,>=2.0.3 in c:\\users\\gaukharjavarova\\appdata\\local\\programs\\python\\python38-32\\lib\\site-packages (from matplotlib>=1.5.1->mlxtend==0.13.0) (2.4.7)\n",
      "Requirement already satisfied: joblib>=0.11 in c:\\users\\gaukharjavarova\\appdata\\local\\programs\\python\\python38-32\\lib\\site-packages (from scikit-learn>=0.18->mlxtend==0.13.0) (0.16.0)\n",
      "Requirement already satisfied: threadpoolctl>=2.0.0 in c:\\users\\gaukharjavarova\\appdata\\local\\programs\\python\\python38-32\\lib\\site-packages (from scikit-learn>=0.18->mlxtend==0.13.0) (2.1.0)\n",
      "Requirement already satisfied: pytz>=2017.2 in c:\\users\\gaukharjavarova\\appdata\\local\\programs\\python\\python38-32\\lib\\site-packages (from pandas>=0.17.1->mlxtend==0.13.0) (2020.1)\n",
      "Requirement already satisfied: six in c:\\users\\gaukharjavarova\\appdata\\roaming\\python\\python38\\site-packages (from cycler>=0.10->matplotlib>=1.5.1->mlxtend==0.13.0) (1.13.0)\n"
     ]
    },
    {
     "name": "stderr",
     "output_type": "stream",
     "text": [
      "WARNING: You are using pip version 20.2; however, version 20.2.2 is available.\n",
      "You should consider upgrading via the 'c:\\users\\gaukharjavarova\\appdata\\local\\programs\\python\\python38-32\\python.exe -m pip install --upgrade pip' command.\n"
     ]
    }
   ],
   "source": [
    "#! pip install mlxtend==0.13.0"
   ]
  },
  {
   "cell_type": "code",
   "execution_count": 2,
   "metadata": {},
   "outputs": [],
   "source": [
    "import matplotlib.pyplot as plt\n",
    "from sklearn.datasets import make_blobs\n",
    "from matplotlib import pyplot\n",
    "from pandas import DataFrame\n",
    "from mlxtend.plotting import plot_decision_regions\n",
    "from sklearn.linear_model import LogisticRegression\n",
    "from sklearn.datasets import load_breast_cancer\n",
    "from sklearn.model_selection import train_test_split\n",
    "import pandas as pd\n",
    "import numpy as np\n",
    "import math\n",
    "from sklearn.preprocessing import StandardScaler\n",
    "from scipy import stats"
   ]
  },
  {
   "cell_type": "markdown",
   "metadata": {},
   "source": [
    "First, we use the datasets package to generate 200 samples with two classes. Then we fit a Linear regression model with the data. Next, we use the mlxtend library to automatically plot the data points and the classification regions."
   ]
  },
  {
   "cell_type": "code",
   "execution_count": 4,
   "metadata": {},
   "outputs": [
    {
     "ename": "TypeError",
     "evalue": "axis() got an unexpected keyword argument 'y_min'",
     "output_type": "error",
     "traceback": [
      "\u001b[1;31m---------------------------------------------------------------------------\u001b[0m",
      "\u001b[1;31mTypeError\u001b[0m                                 Traceback (most recent call last)",
      "\u001b[1;32m<ipython-input-4-1332695b81ec>\u001b[0m in \u001b[0;36m<module>\u001b[1;34m\u001b[0m\n\u001b[0;32m      4\u001b[0m \u001b[0mlr\u001b[0m\u001b[1;33m.\u001b[0m\u001b[0mfit\u001b[0m\u001b[1;33m(\u001b[0m\u001b[0mX\u001b[0m\u001b[1;33m,\u001b[0m \u001b[0my\u001b[0m\u001b[1;33m)\u001b[0m\u001b[1;33m\u001b[0m\u001b[1;33m\u001b[0m\u001b[0m\n\u001b[0;32m      5\u001b[0m \u001b[1;33m\u001b[0m\u001b[0m\n\u001b[1;32m----> 6\u001b[1;33m \u001b[0mplot_decision_regions\u001b[0m\u001b[1;33m(\u001b[0m\u001b[0mX\u001b[0m\u001b[1;33m,\u001b[0m \u001b[0my\u001b[0m\u001b[1;33m,\u001b[0m \u001b[0mclf\u001b[0m\u001b[1;33m=\u001b[0m\u001b[0mlr\u001b[0m\u001b[1;33m,\u001b[0m \u001b[0mlegend\u001b[0m\u001b[1;33m=\u001b[0m\u001b[1;36m2\u001b[0m\u001b[1;33m)\u001b[0m\u001b[1;33m\u001b[0m\u001b[1;33m\u001b[0m\u001b[0m\n\u001b[0m\u001b[0;32m      7\u001b[0m \u001b[0mplt\u001b[0m\u001b[1;33m.\u001b[0m\u001b[0mshow\u001b[0m\u001b[1;33m(\u001b[0m\u001b[1;33m)\u001b[0m\u001b[1;33m\u001b[0m\u001b[1;33m\u001b[0m\u001b[0m\n",
      "\u001b[1;32mc:\\users\\gaukharjavarova\\appdata\\local\\programs\\python\\python38-32\\lib\\site-packages\\mlxtend\\plotting\\decision_regions.py\u001b[0m in \u001b[0;36mplot_decision_regions\u001b[1;34m(X, y, clf, feature_index, filler_feature_values, filler_feature_ranges, ax, X_highlight, res, legend, hide_spines, markers, colors, scatter_kwargs, contourf_kwargs, scatter_highlight_kwargs)\u001b[0m\n\u001b[0;32m    242\u001b[0m                antialiased=True)\n\u001b[0;32m    243\u001b[0m \u001b[1;33m\u001b[0m\u001b[0m\n\u001b[1;32m--> 244\u001b[1;33m     \u001b[0max\u001b[0m\u001b[1;33m.\u001b[0m\u001b[0maxis\u001b[0m\u001b[1;33m(\u001b[0m\u001b[0mxmin\u001b[0m\u001b[1;33m=\u001b[0m\u001b[0mxx\u001b[0m\u001b[1;33m.\u001b[0m\u001b[0mmin\u001b[0m\u001b[1;33m(\u001b[0m\u001b[1;33m)\u001b[0m\u001b[1;33m,\u001b[0m \u001b[0mxmax\u001b[0m\u001b[1;33m=\u001b[0m\u001b[0mxx\u001b[0m\u001b[1;33m.\u001b[0m\u001b[0mmax\u001b[0m\u001b[1;33m(\u001b[0m\u001b[1;33m)\u001b[0m\u001b[1;33m,\u001b[0m \u001b[0my_min\u001b[0m\u001b[1;33m=\u001b[0m\u001b[0myy\u001b[0m\u001b[1;33m.\u001b[0m\u001b[0mmin\u001b[0m\u001b[1;33m(\u001b[0m\u001b[1;33m)\u001b[0m\u001b[1;33m,\u001b[0m \u001b[0my_max\u001b[0m\u001b[1;33m=\u001b[0m\u001b[0myy\u001b[0m\u001b[1;33m.\u001b[0m\u001b[0mmax\u001b[0m\u001b[1;33m(\u001b[0m\u001b[1;33m)\u001b[0m\u001b[1;33m)\u001b[0m\u001b[1;33m\u001b[0m\u001b[1;33m\u001b[0m\u001b[0m\n\u001b[0m\u001b[0;32m    245\u001b[0m \u001b[1;33m\u001b[0m\u001b[0m\n\u001b[0;32m    246\u001b[0m     \u001b[1;31m# Scatter training data samples\u001b[0m\u001b[1;33m\u001b[0m\u001b[1;33m\u001b[0m\u001b[1;33m\u001b[0m\u001b[0m\n",
      "\u001b[1;32mc:\\users\\gaukharjavarova\\appdata\\local\\programs\\python\\python38-32\\lib\\site-packages\\matplotlib\\axes\\_base.py\u001b[0m in \u001b[0;36maxis\u001b[1;34m(self, emit, *args, **kwargs)\u001b[0m\n\u001b[0;32m   1816\u001b[0m             \u001b[0mself\u001b[0m\u001b[1;33m.\u001b[0m\u001b[0mset_ylim\u001b[0m\u001b[1;33m(\u001b[0m\u001b[0mymin\u001b[0m\u001b[1;33m,\u001b[0m \u001b[0mymax\u001b[0m\u001b[1;33m,\u001b[0m \u001b[0memit\u001b[0m\u001b[1;33m=\u001b[0m\u001b[0memit\u001b[0m\u001b[1;33m,\u001b[0m \u001b[0mauto\u001b[0m\u001b[1;33m=\u001b[0m\u001b[0myauto\u001b[0m\u001b[1;33m)\u001b[0m\u001b[1;33m\u001b[0m\u001b[1;33m\u001b[0m\u001b[0m\n\u001b[0;32m   1817\u001b[0m         \u001b[1;32mif\u001b[0m \u001b[0mkwargs\u001b[0m\u001b[1;33m:\u001b[0m\u001b[1;33m\u001b[0m\u001b[1;33m\u001b[0m\u001b[0m\n\u001b[1;32m-> 1818\u001b[1;33m             raise TypeError(f\"axis() got an unexpected keyword argument \"\n\u001b[0m\u001b[0;32m   1819\u001b[0m                             f\"'{next(iter(kwargs))}'\")\n\u001b[0;32m   1820\u001b[0m         \u001b[1;32mreturn\u001b[0m \u001b[1;33m(\u001b[0m\u001b[1;33m*\u001b[0m\u001b[0mself\u001b[0m\u001b[1;33m.\u001b[0m\u001b[0mget_xlim\u001b[0m\u001b[1;33m(\u001b[0m\u001b[1;33m)\u001b[0m\u001b[1;33m,\u001b[0m \u001b[1;33m*\u001b[0m\u001b[0mself\u001b[0m\u001b[1;33m.\u001b[0m\u001b[0mget_ylim\u001b[0m\u001b[1;33m(\u001b[0m\u001b[1;33m)\u001b[0m\u001b[1;33m)\u001b[0m\u001b[1;33m\u001b[0m\u001b[1;33m\u001b[0m\u001b[0m\n",
      "\u001b[1;31mTypeError\u001b[0m: axis() got an unexpected keyword argument 'y_min'"
     ]
    },
    {
     "data": {
      "image/png": "[encoded data removed]",
      "text/plain": [
       "<Figure size 432x288 with 1 Axes>"
      ]
     },
     "metadata": {
      "needs_background": "light"
     },
     "output_type": "display_data"
    }
   ],
   "source": [
    "X, y = make_blobs(n_samples=200, centers=2, n_features=2, cluster_std=1.0, random_state=2)\n",
    "\n",
    "lr = LogisticRegression(solver='lbfgs', random_state=2)\n",
    "lr.fit(X, y)\n",
    "\n",
    "plot_decision_regions(X, y, clf=lr, legend=2)\n",
    "plt.show()"
   ]
  },
  {
   "cell_type": "code",
   "execution_count": null,
   "metadata": {},
   "outputs": [],
   "source": []
  },
  {
   "cell_type": "code",
   "execution_count": null,
   "metadata": {},
   "outputs": [],
   "source": []
  },
  {
   "cell_type": "code",
   "execution_count": null,
   "metadata": {},
   "outputs": [],
   "source": []
  },
  {
   "cell_type": "code",
   "execution_count": null,
   "metadata": {},
   "outputs": [],
   "source": []
  },
  {
   "cell_type": "code",
   "execution_count": null,
   "metadata": {},
   "outputs": [],
   "source": []
  },
  {
   "cell_type": "code",
   "execution_count": null,
   "metadata": {},
   "outputs": [],
   "source": []
  },
  {
   "cell_type": "code",
   "execution_count": null,
   "metadata": {},
   "outputs": [],
   "source": []
  },
  {
   "cell_type": "code",
   "execution_count": null,
   "metadata": {},
   "outputs": [],
   "source": []
  },
  {
   "cell_type": "code",
   "execution_count": null,
   "metadata": {},
   "outputs": [],
   "source": []
  },
  {
   "cell_type": "code",
   "execution_count": null,
   "metadata": {},
   "outputs": [],
   "source": []
  },
  {
   "cell_type": "code",
   "execution_count": null,
   "metadata": {},
   "outputs": [],
   "source": []
  },
  {
   "cell_type": "code",
   "execution_count": null,
   "metadata": {},
   "outputs": [],
   "source": []
  },
  {
   "cell_type": "code",
   "execution_count": null,
   "metadata": {},
   "outputs": [],
   "source": []
  },
  {
   "cell_type": "code",
   "execution_count": null,
   "metadata": {},
   "outputs": [],
   "source": []
  },
  {
   "cell_type": "code",
   "execution_count": null,
   "metadata": {},
   "outputs": [],
   "source": []
  },
  {
   "cell_type": "code",
   "execution_count": null,
   "metadata": {},
   "outputs": [],
   "source": []
  },
  {
   "cell_type": "code",
   "execution_count": null,
   "metadata": {},
   "outputs": [],
   "source": []
  },
  {
   "cell_type": "code",
   "execution_count": null,
   "metadata": {},
   "outputs": [],
   "source": []
  },
  {
   "cell_type": "code",
   "execution_count": null,
   "metadata": {},
   "outputs": [],
   "source": []
  },
  {
   "cell_type": "code",
   "execution_count": null,
   "metadata": {},
   "outputs": [],
   "source": []
  }
 ],
 "metadata": {
  "kernelspec": {
   "display_name": "Python 3",
   "language": "python",
   "name": "python3"
  },
  "language_info": {
   "codemirror_mode": {
    "name": "ipython",
    "version": 3
   },
   "file_extension": ".py",
   "mimetype": "text/x-python",
   "name": "python",
   "nbconvert_exporter": "python",
   "pygments_lexer": "ipython3",
   "version": "3.8.3"
  }
 },
 "nbformat": 4,
 "nbformat_minor": 4
}
