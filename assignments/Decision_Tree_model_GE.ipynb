{
 "cells": [
  {
   "cell_type": "code",
   "execution_count": 21,
   "metadata": {},
   "outputs": [],
   "source": [
    "import pandas as pd\n",
    "import matplotlib.pyplot as plt\n",
    "import quandl\n",
    "from sklearn.tree import DecisionTreeRegressor\n",
    "import numpy as np"
   ]
  },
  {
   "cell_type": "markdown",
   "metadata": {},
   "source": [
    "quandl.ApiConfig.api_key = '5V93_8BtXNZ6zw_Vnmyy'\n",
    "stock_data = quandl.get('NYSE/GE', start_date = '2016-12-28', end_date = '2017-12-28')\n",
    "print(stock_data)"
   ]
  },
  {
   "cell_type": "code",
   "execution_count": null,
   "metadata": {},
   "outputs": [],
   "source": []
  },
  {
   "cell_type": "code",
   "execution_count": 22,
   "metadata": {
    "scrolled": false
   },
   "outputs": [
    {
     "name": "stdout",
     "output_type": "stream",
     "text": [
      "              Open   High      Low  Close      Volume  Dividend  Split  \\\n",
      "Date                                                                     \n",
      "2016-12-01  30.640  31.46  30.6200  31.39  44697407.0      0.00    1.0   \n",
      "2016-12-02  31.360  31.49  31.2600  31.34  21395019.0      0.00    1.0   \n",
      "2016-12-05  31.430  31.45  31.0600  31.11  22138326.0      0.00    1.0   \n",
      "2016-12-06  31.190  31.24  31.0100  31.17  17573265.0      0.00    1.0   \n",
      "2016-12-07  31.010  31.60  30.9300  31.60  32896981.0      0.00    1.0   \n",
      "...            ...    ...      ...    ...         ...       ...    ...   \n",
      "2017-12-21  17.455  17.69  17.4375  17.47  67864071.0      0.00    1.0   \n",
      "2017-12-22  17.480  17.56  17.4000  17.50  46357220.0      0.00    1.0   \n",
      "2017-12-26  17.450  17.66  17.4000  17.43  55337926.0      0.12    1.0   \n",
      "2017-12-27  17.460  17.63  17.3100  17.38  60126681.0      0.00    1.0   \n",
      "2017-12-28  17.350  17.40  17.2500  17.36  60916439.0      0.00    1.0   \n",
      "\n",
      "             Adj_Open   Adj_High    Adj_Low  Adj_Close  Adj_Volume  \n",
      "Date                                                                \n",
      "2016-12-01  27.410744  28.144321  27.392852  28.081699  44697407.0  \n",
      "2016-12-02  28.054861  28.171160  27.965400  28.036969  21395019.0  \n",
      "2016-12-05  28.117483  28.135375  27.786479  27.831209  22138326.0  \n",
      "2016-12-06  27.902778  27.947508  27.741748  27.884885  17573265.0  \n",
      "2016-12-07  27.741748  28.269566  27.670180  28.269566  32896981.0  \n",
      "...               ...        ...        ...        ...         ...  \n",
      "2017-12-21  16.150806  16.368248  16.134614  16.164685  67864071.0  \n",
      "2017-12-22  16.173938  16.247961  16.099916  16.192444  46357220.0  \n",
      "2017-12-26  16.257341  16.452988  16.210758  16.238708  55337926.0  \n",
      "2017-12-27  16.266658  16.425039  16.126910  16.192125  60126681.0  \n",
      "2017-12-28  16.164176  16.210758  16.071011  16.173492  60916439.0  \n",
      "\n",
      "[271 rows x 12 columns]\n"
     ]
    }
   ],
   "source": [
    "quandl.ApiConfig.api_key = '5V93_8BtXNZ6zw_Vnmyy'## enter your key \n",
    "stock_data = quandl.get('EOD/GE', start_date='2016-12-01', end_date='2017-12-31')\n",
    "#Let's see the data\n",
    "print(stock_data)"
   ]
  },
  {
   "cell_type": "code",
   "execution_count": null,
   "metadata": {},
   "outputs": [],
   "source": []
  },
  {
   "cell_type": "code",
   "execution_count": 23,
   "metadata": {},
   "outputs": [],
   "source": [
    "data = pd.DataFrame(stock_data)\n"
   ]
  },
  {
   "cell_type": "code",
   "execution_count": 24,
   "metadata": {},
   "outputs": [
    {
     "data": {
      "text/html": [
       "<div>\n",
       "<style scoped>\n",
       "    .dataframe tbody tr th:only-of-type {\n",
       "        vertical-align: middle;\n",
       "    }\n",
       "\n",
       "    .dataframe tbody tr th {\n",
       "        vertical-align: top;\n",
       "    }\n",
       "\n",
       "    .dataframe thead th {\n",
       "        text-align: right;\n",
       "    }\n",
       "</style>\n",
       "<table border=\"1\" class=\"dataframe\">\n",
       "  <thead>\n",
       "    <tr style=\"text-align: right;\">\n",
       "      <th></th>\n",
       "      <th>Open</th>\n",
       "      <th>High</th>\n",
       "      <th>Low</th>\n",
       "      <th>Close</th>\n",
       "      <th>Volume</th>\n",
       "      <th>Dividend</th>\n",
       "      <th>Split</th>\n",
       "      <th>Adj_Open</th>\n",
       "      <th>Adj_High</th>\n",
       "      <th>Adj_Low</th>\n",
       "      <th>Adj_Close</th>\n",
       "      <th>Adj_Volume</th>\n",
       "    </tr>\n",
       "    <tr>\n",
       "      <th>Date</th>\n",
       "      <th></th>\n",
       "      <th></th>\n",
       "      <th></th>\n",
       "      <th></th>\n",
       "      <th></th>\n",
       "      <th></th>\n",
       "      <th></th>\n",
       "      <th></th>\n",
       "      <th></th>\n",
       "      <th></th>\n",
       "      <th></th>\n",
       "      <th></th>\n",
       "    </tr>\n",
       "  </thead>\n",
       "  <tbody>\n",
       "    <tr>\n",
       "      <th>2016-12-01</th>\n",
       "      <td>30.64</td>\n",
       "      <td>31.46</td>\n",
       "      <td>30.62</td>\n",
       "      <td>31.39</td>\n",
       "      <td>44697407.0</td>\n",
       "      <td>0.0</td>\n",
       "      <td>1.0</td>\n",
       "      <td>27.410744</td>\n",
       "      <td>28.144321</td>\n",
       "      <td>27.392852</td>\n",
       "      <td>28.081699</td>\n",
       "      <td>44697407.0</td>\n",
       "    </tr>\n",
       "    <tr>\n",
       "      <th>2016-12-02</th>\n",
       "      <td>31.36</td>\n",
       "      <td>31.49</td>\n",
       "      <td>31.26</td>\n",
       "      <td>31.34</td>\n",
       "      <td>21395019.0</td>\n",
       "      <td>0.0</td>\n",
       "      <td>1.0</td>\n",
       "      <td>28.054861</td>\n",
       "      <td>28.171160</td>\n",
       "      <td>27.965400</td>\n",
       "      <td>28.036969</td>\n",
       "      <td>21395019.0</td>\n",
       "    </tr>\n",
       "    <tr>\n",
       "      <th>2016-12-05</th>\n",
       "      <td>31.43</td>\n",
       "      <td>31.45</td>\n",
       "      <td>31.06</td>\n",
       "      <td>31.11</td>\n",
       "      <td>22138326.0</td>\n",
       "      <td>0.0</td>\n",
       "      <td>1.0</td>\n",
       "      <td>28.117483</td>\n",
       "      <td>28.135375</td>\n",
       "      <td>27.786479</td>\n",
       "      <td>27.831209</td>\n",
       "      <td>22138326.0</td>\n",
       "    </tr>\n",
       "    <tr>\n",
       "      <th>2016-12-06</th>\n",
       "      <td>31.19</td>\n",
       "      <td>31.24</td>\n",
       "      <td>31.01</td>\n",
       "      <td>31.17</td>\n",
       "      <td>17573265.0</td>\n",
       "      <td>0.0</td>\n",
       "      <td>1.0</td>\n",
       "      <td>27.902778</td>\n",
       "      <td>27.947508</td>\n",
       "      <td>27.741748</td>\n",
       "      <td>27.884885</td>\n",
       "      <td>17573265.0</td>\n",
       "    </tr>\n",
       "    <tr>\n",
       "      <th>2016-12-07</th>\n",
       "      <td>31.01</td>\n",
       "      <td>31.60</td>\n",
       "      <td>30.93</td>\n",
       "      <td>31.60</td>\n",
       "      <td>32896981.0</td>\n",
       "      <td>0.0</td>\n",
       "      <td>1.0</td>\n",
       "      <td>27.741748</td>\n",
       "      <td>28.269566</td>\n",
       "      <td>27.670180</td>\n",
       "      <td>28.269566</td>\n",
       "      <td>32896981.0</td>\n",
       "    </tr>\n",
       "  </tbody>\n",
       "</table>\n",
       "</div>"
      ],
      "text/plain": [
       "             Open   High    Low  Close      Volume  Dividend  Split  \\\n",
       "Date                                                                  \n",
       "2016-12-01  30.64  31.46  30.62  31.39  44697407.0       0.0    1.0   \n",
       "2016-12-02  31.36  31.49  31.26  31.34  21395019.0       0.0    1.0   \n",
       "2016-12-05  31.43  31.45  31.06  31.11  22138326.0       0.0    1.0   \n",
       "2016-12-06  31.19  31.24  31.01  31.17  17573265.0       0.0    1.0   \n",
       "2016-12-07  31.01  31.60  30.93  31.60  32896981.0       0.0    1.0   \n",
       "\n",
       "             Adj_Open   Adj_High    Adj_Low  Adj_Close  Adj_Volume  \n",
       "Date                                                                \n",
       "2016-12-01  27.410744  28.144321  27.392852  28.081699  44697407.0  \n",
       "2016-12-02  28.054861  28.171160  27.965400  28.036969  21395019.0  \n",
       "2016-12-05  28.117483  28.135375  27.786479  27.831209  22138326.0  \n",
       "2016-12-06  27.902778  27.947508  27.741748  27.884885  17573265.0  \n",
       "2016-12-07  27.741748  28.269566  27.670180  28.269566  32896981.0  "
      ]
     },
     "execution_count": 24,
     "metadata": {},
     "output_type": "execute_result"
    }
   ],
   "source": [
    "data.head()\n",
    "#Share turnover is a measure of stock liquidity calculated by dividing the total \n",
    "#number of shares traded over a period by the average number of shares outstanding\n",
    "#for the period. The higher the share turnover,\n",
    "#the more liquid company shares are. "
   ]
  },
  {
   "cell_type": "code",
   "execution_count": 25,
   "metadata": {},
   "outputs": [],
   "source": [
    "data.to_csv('GE.csv') #to save for myself with csv"
   ]
  },
  {
   "cell_type": "code",
   "execution_count": 26,
   "metadata": {},
   "outputs": [],
   "source": [
    "data = pd.read_csv('GE.csv')"
   ]
  },
  {
   "cell_type": "code",
   "execution_count": 27,
   "metadata": {
    "scrolled": true
   },
   "outputs": [
    {
     "data": {
      "text/html": [
       "<div>\n",
       "<style scoped>\n",
       "    .dataframe tbody tr th:only-of-type {\n",
       "        vertical-align: middle;\n",
       "    }\n",
       "\n",
       "    .dataframe tbody tr th {\n",
       "        vertical-align: top;\n",
       "    }\n",
       "\n",
       "    .dataframe thead th {\n",
       "        text-align: right;\n",
       "    }\n",
       "</style>\n",
       "<table border=\"1\" class=\"dataframe\">\n",
       "  <thead>\n",
       "    <tr style=\"text-align: right;\">\n",
       "      <th></th>\n",
       "      <th>Date</th>\n",
       "      <th>Open</th>\n",
       "      <th>High</th>\n",
       "      <th>Low</th>\n",
       "      <th>Close</th>\n",
       "      <th>Volume</th>\n",
       "      <th>Dividend</th>\n",
       "      <th>Split</th>\n",
       "      <th>Adj_Open</th>\n",
       "      <th>Adj_High</th>\n",
       "      <th>Adj_Low</th>\n",
       "      <th>Adj_Close</th>\n",
       "      <th>Adj_Volume</th>\n",
       "    </tr>\n",
       "  </thead>\n",
       "  <tbody>\n",
       "    <tr>\n",
       "      <th>0</th>\n",
       "      <td>2016-12-01</td>\n",
       "      <td>30.64</td>\n",
       "      <td>31.46</td>\n",
       "      <td>30.62</td>\n",
       "      <td>31.39</td>\n",
       "      <td>44697407.0</td>\n",
       "      <td>0.0</td>\n",
       "      <td>1.0</td>\n",
       "      <td>27.410744</td>\n",
       "      <td>28.144321</td>\n",
       "      <td>27.392852</td>\n",
       "      <td>28.081699</td>\n",
       "      <td>44697407.0</td>\n",
       "    </tr>\n",
       "    <tr>\n",
       "      <th>1</th>\n",
       "      <td>2016-12-02</td>\n",
       "      <td>31.36</td>\n",
       "      <td>31.49</td>\n",
       "      <td>31.26</td>\n",
       "      <td>31.34</td>\n",
       "      <td>21395019.0</td>\n",
       "      <td>0.0</td>\n",
       "      <td>1.0</td>\n",
       "      <td>28.054861</td>\n",
       "      <td>28.171160</td>\n",
       "      <td>27.965400</td>\n",
       "      <td>28.036969</td>\n",
       "      <td>21395019.0</td>\n",
       "    </tr>\n",
       "    <tr>\n",
       "      <th>2</th>\n",
       "      <td>2016-12-05</td>\n",
       "      <td>31.43</td>\n",
       "      <td>31.45</td>\n",
       "      <td>31.06</td>\n",
       "      <td>31.11</td>\n",
       "      <td>22138326.0</td>\n",
       "      <td>0.0</td>\n",
       "      <td>1.0</td>\n",
       "      <td>28.117483</td>\n",
       "      <td>28.135375</td>\n",
       "      <td>27.786479</td>\n",
       "      <td>27.831209</td>\n",
       "      <td>22138326.0</td>\n",
       "    </tr>\n",
       "    <tr>\n",
       "      <th>3</th>\n",
       "      <td>2016-12-06</td>\n",
       "      <td>31.19</td>\n",
       "      <td>31.24</td>\n",
       "      <td>31.01</td>\n",
       "      <td>31.17</td>\n",
       "      <td>17573265.0</td>\n",
       "      <td>0.0</td>\n",
       "      <td>1.0</td>\n",
       "      <td>27.902778</td>\n",
       "      <td>27.947508</td>\n",
       "      <td>27.741748</td>\n",
       "      <td>27.884885</td>\n",
       "      <td>17573265.0</td>\n",
       "    </tr>\n",
       "    <tr>\n",
       "      <th>4</th>\n",
       "      <td>2016-12-07</td>\n",
       "      <td>31.01</td>\n",
       "      <td>31.60</td>\n",
       "      <td>30.93</td>\n",
       "      <td>31.60</td>\n",
       "      <td>32896981.0</td>\n",
       "      <td>0.0</td>\n",
       "      <td>1.0</td>\n",
       "      <td>27.741748</td>\n",
       "      <td>28.269566</td>\n",
       "      <td>27.670180</td>\n",
       "      <td>28.269566</td>\n",
       "      <td>32896981.0</td>\n",
       "    </tr>\n",
       "  </tbody>\n",
       "</table>\n",
       "</div>"
      ],
      "text/plain": [
       "         Date   Open   High    Low  Close      Volume  Dividend  Split  \\\n",
       "0  2016-12-01  30.64  31.46  30.62  31.39  44697407.0       0.0    1.0   \n",
       "1  2016-12-02  31.36  31.49  31.26  31.34  21395019.0       0.0    1.0   \n",
       "2  2016-12-05  31.43  31.45  31.06  31.11  22138326.0       0.0    1.0   \n",
       "3  2016-12-06  31.19  31.24  31.01  31.17  17573265.0       0.0    1.0   \n",
       "4  2016-12-07  31.01  31.60  30.93  31.60  32896981.0       0.0    1.0   \n",
       "\n",
       "    Adj_Open   Adj_High    Adj_Low  Adj_Close  Adj_Volume  \n",
       "0  27.410744  28.144321  27.392852  28.081699  44697407.0  \n",
       "1  28.054861  28.171160  27.965400  28.036969  21395019.0  \n",
       "2  28.117483  28.135375  27.786479  27.831209  22138326.0  \n",
       "3  27.902778  27.947508  27.741748  27.884885  17573265.0  \n",
       "4  27.741748  28.269566  27.670180  28.269566  32896981.0  "
      ]
     },
     "execution_count": 27,
     "metadata": {},
     "output_type": "execute_result"
    }
   ],
   "source": [
    "data.head()"
   ]
  },
  {
   "cell_type": "code",
   "execution_count": 28,
   "metadata": {
    "scrolled": true
   },
   "outputs": [],
   "source": [
    "data['yesterday_open'] = data['Open'].shift(1) #nan cuz can't get the yesterday's date, first one is always NaN\n",
    "data['two_days_ago_open'] = data['Open'].shift(2) #shift is to predict yesterdays price if its (1) by one day, just reformatting\n",
    "#the data, not doing the price prediction yet.\n",
    "\n",
    "data['yesterday_close'] = data['Close'].shift(1)\n",
    "data['two_days_ago_close'] = data['Close'].shift(2)\n",
    "\n",
    "data['yesterday_High'] = data['High'].shift(1)\n",
    "data['two_days_ago_High'] = data['High'].shift(2)\n",
    "\n",
    "data['yesterday_Low'] = data['Low'].shift(1)\n",
    "data['two_days_ago_Low'] = data['Low'].shift(2)\n",
    "\n",
    "data['yesterday_Volume'] = data['Volume'].shift(1)\n",
    "data['two_days_ago_Volume'] = data['Volume'].shift(2)"
   ]
  },
  {
   "cell_type": "code",
   "execution_count": 29,
   "metadata": {
    "scrolled": true
   },
   "outputs": [
    {
     "data": {
      "text/html": [
       "<div>\n",
       "<style scoped>\n",
       "    .dataframe tbody tr th:only-of-type {\n",
       "        vertical-align: middle;\n",
       "    }\n",
       "\n",
       "    .dataframe tbody tr th {\n",
       "        vertical-align: top;\n",
       "    }\n",
       "\n",
       "    .dataframe thead th {\n",
       "        text-align: right;\n",
       "    }\n",
       "</style>\n",
       "<table border=\"1\" class=\"dataframe\">\n",
       "  <thead>\n",
       "    <tr style=\"text-align: right;\">\n",
       "      <th></th>\n",
       "      <th>Date</th>\n",
       "      <th>Open</th>\n",
       "      <th>High</th>\n",
       "      <th>Low</th>\n",
       "      <th>Close</th>\n",
       "      <th>Volume</th>\n",
       "      <th>Dividend</th>\n",
       "      <th>Split</th>\n",
       "      <th>Adj_Open</th>\n",
       "      <th>Adj_High</th>\n",
       "      <th>...</th>\n",
       "      <th>yesterday_open</th>\n",
       "      <th>two_days_ago_open</th>\n",
       "      <th>yesterday_close</th>\n",
       "      <th>two_days_ago_close</th>\n",
       "      <th>yesterday_High</th>\n",
       "      <th>two_days_ago_High</th>\n",
       "      <th>yesterday_Low</th>\n",
       "      <th>two_days_ago_Low</th>\n",
       "      <th>yesterday_Volume</th>\n",
       "      <th>two_days_ago_Volume</th>\n",
       "    </tr>\n",
       "  </thead>\n",
       "  <tbody>\n",
       "    <tr>\n",
       "      <th>0</th>\n",
       "      <td>2016-12-01</td>\n",
       "      <td>30.64</td>\n",
       "      <td>31.46</td>\n",
       "      <td>30.62</td>\n",
       "      <td>31.39</td>\n",
       "      <td>44697407.0</td>\n",
       "      <td>0.0</td>\n",
       "      <td>1.0</td>\n",
       "      <td>27.410744</td>\n",
       "      <td>28.144321</td>\n",
       "      <td>...</td>\n",
       "      <td>NaN</td>\n",
       "      <td>NaN</td>\n",
       "      <td>NaN</td>\n",
       "      <td>NaN</td>\n",
       "      <td>NaN</td>\n",
       "      <td>NaN</td>\n",
       "      <td>NaN</td>\n",
       "      <td>NaN</td>\n",
       "      <td>NaN</td>\n",
       "      <td>NaN</td>\n",
       "    </tr>\n",
       "    <tr>\n",
       "      <th>1</th>\n",
       "      <td>2016-12-02</td>\n",
       "      <td>31.36</td>\n",
       "      <td>31.49</td>\n",
       "      <td>31.26</td>\n",
       "      <td>31.34</td>\n",
       "      <td>21395019.0</td>\n",
       "      <td>0.0</td>\n",
       "      <td>1.0</td>\n",
       "      <td>28.054861</td>\n",
       "      <td>28.171160</td>\n",
       "      <td>...</td>\n",
       "      <td>30.64</td>\n",
       "      <td>NaN</td>\n",
       "      <td>31.39</td>\n",
       "      <td>NaN</td>\n",
       "      <td>31.46</td>\n",
       "      <td>NaN</td>\n",
       "      <td>30.62</td>\n",
       "      <td>NaN</td>\n",
       "      <td>44697407.0</td>\n",
       "      <td>NaN</td>\n",
       "    </tr>\n",
       "    <tr>\n",
       "      <th>2</th>\n",
       "      <td>2016-12-05</td>\n",
       "      <td>31.43</td>\n",
       "      <td>31.45</td>\n",
       "      <td>31.06</td>\n",
       "      <td>31.11</td>\n",
       "      <td>22138326.0</td>\n",
       "      <td>0.0</td>\n",
       "      <td>1.0</td>\n",
       "      <td>28.117483</td>\n",
       "      <td>28.135375</td>\n",
       "      <td>...</td>\n",
       "      <td>31.36</td>\n",
       "      <td>30.64</td>\n",
       "      <td>31.34</td>\n",
       "      <td>31.39</td>\n",
       "      <td>31.49</td>\n",
       "      <td>31.46</td>\n",
       "      <td>31.26</td>\n",
       "      <td>30.62</td>\n",
       "      <td>21395019.0</td>\n",
       "      <td>44697407.0</td>\n",
       "    </tr>\n",
       "    <tr>\n",
       "      <th>3</th>\n",
       "      <td>2016-12-06</td>\n",
       "      <td>31.19</td>\n",
       "      <td>31.24</td>\n",
       "      <td>31.01</td>\n",
       "      <td>31.17</td>\n",
       "      <td>17573265.0</td>\n",
       "      <td>0.0</td>\n",
       "      <td>1.0</td>\n",
       "      <td>27.902778</td>\n",
       "      <td>27.947508</td>\n",
       "      <td>...</td>\n",
       "      <td>31.43</td>\n",
       "      <td>31.36</td>\n",
       "      <td>31.11</td>\n",
       "      <td>31.34</td>\n",
       "      <td>31.45</td>\n",
       "      <td>31.49</td>\n",
       "      <td>31.06</td>\n",
       "      <td>31.26</td>\n",
       "      <td>22138326.0</td>\n",
       "      <td>21395019.0</td>\n",
       "    </tr>\n",
       "    <tr>\n",
       "      <th>4</th>\n",
       "      <td>2016-12-07</td>\n",
       "      <td>31.01</td>\n",
       "      <td>31.60</td>\n",
       "      <td>30.93</td>\n",
       "      <td>31.60</td>\n",
       "      <td>32896981.0</td>\n",
       "      <td>0.0</td>\n",
       "      <td>1.0</td>\n",
       "      <td>27.741748</td>\n",
       "      <td>28.269566</td>\n",
       "      <td>...</td>\n",
       "      <td>31.19</td>\n",
       "      <td>31.43</td>\n",
       "      <td>31.17</td>\n",
       "      <td>31.11</td>\n",
       "      <td>31.24</td>\n",
       "      <td>31.45</td>\n",
       "      <td>31.01</td>\n",
       "      <td>31.06</td>\n",
       "      <td>17573265.0</td>\n",
       "      <td>22138326.0</td>\n",
       "    </tr>\n",
       "  </tbody>\n",
       "</table>\n",
       "<p>5 rows × 23 columns</p>\n",
       "</div>"
      ],
      "text/plain": [
       "         Date   Open   High    Low  Close      Volume  Dividend  Split  \\\n",
       "0  2016-12-01  30.64  31.46  30.62  31.39  44697407.0       0.0    1.0   \n",
       "1  2016-12-02  31.36  31.49  31.26  31.34  21395019.0       0.0    1.0   \n",
       "2  2016-12-05  31.43  31.45  31.06  31.11  22138326.0       0.0    1.0   \n",
       "3  2016-12-06  31.19  31.24  31.01  31.17  17573265.0       0.0    1.0   \n",
       "4  2016-12-07  31.01  31.60  30.93  31.60  32896981.0       0.0    1.0   \n",
       "\n",
       "    Adj_Open   Adj_High  ...  yesterday_open  two_days_ago_open  \\\n",
       "0  27.410744  28.144321  ...             NaN                NaN   \n",
       "1  28.054861  28.171160  ...           30.64                NaN   \n",
       "2  28.117483  28.135375  ...           31.36              30.64   \n",
       "3  27.902778  27.947508  ...           31.43              31.36   \n",
       "4  27.741748  28.269566  ...           31.19              31.43   \n",
       "\n",
       "   yesterday_close  two_days_ago_close  yesterday_High  two_days_ago_High  \\\n",
       "0              NaN                 NaN             NaN                NaN   \n",
       "1            31.39                 NaN           31.46                NaN   \n",
       "2            31.34               31.39           31.49              31.46   \n",
       "3            31.11               31.34           31.45              31.49   \n",
       "4            31.17               31.11           31.24              31.45   \n",
       "\n",
       "   yesterday_Low  two_days_ago_Low  yesterday_Volume  two_days_ago_Volume  \n",
       "0            NaN               NaN               NaN                  NaN  \n",
       "1          30.62               NaN        44697407.0                  NaN  \n",
       "2          31.26             30.62        21395019.0           44697407.0  \n",
       "3          31.06             31.26        22138326.0           21395019.0  \n",
       "4          31.01             31.06        17573265.0           22138326.0  \n",
       "\n",
       "[5 rows x 23 columns]"
      ]
     },
     "execution_count": 29,
     "metadata": {},
     "output_type": "execute_result"
    }
   ],
   "source": [
    "data.head()"
   ]
  },
  {
   "cell_type": "code",
   "execution_count": null,
   "metadata": {},
   "outputs": [],
   "source": []
  },
  {
   "cell_type": "code",
   "execution_count": 30,
   "metadata": {},
   "outputs": [
    {
     "data": {
      "text/plain": [
       "Date                   0\n",
       "Open                   0\n",
       "High                   0\n",
       "Low                    0\n",
       "Close                  0\n",
       "Volume                 0\n",
       "Dividend               0\n",
       "Split                  0\n",
       "Adj_Open               0\n",
       "Adj_High               0\n",
       "Adj_Low                0\n",
       "Adj_Close              0\n",
       "Adj_Volume             0\n",
       "yesterday_open         1\n",
       "two_days_ago_open      2\n",
       "yesterday_close        1\n",
       "two_days_ago_close     2\n",
       "yesterday_High         1\n",
       "two_days_ago_High      2\n",
       "yesterday_Low          1\n",
       "two_days_ago_Low       2\n",
       "yesterday_Volume       1\n",
       "two_days_ago_Volume    2\n",
       "dtype: int64"
      ]
     },
     "execution_count": 30,
     "metadata": {},
     "output_type": "execute_result"
    }
   ],
   "source": [
    "data.isnull().sum()"
   ]
  },
  {
   "cell_type": "code",
   "execution_count": 31,
   "metadata": {},
   "outputs": [
    {
     "data": {
      "image/png": "[encoded data removed]",
      "text/plain": [
       "<Figure size 1224x576 with 2 Axes>"
      ]
     },
     "metadata": {
      "needs_background": "light"
     },
     "output_type": "display_data"
    }
   ],
   "source": [
    "import seaborn as sns\n",
    "plt.figure(1, figsize = (17, 8))\n",
    "cor = sns.heatmap(data.corr(), annot = True)"
   ]
  },
  {
   "cell_type": "code",
   "execution_count": 32,
   "metadata": {},
   "outputs": [
    {
     "data": {
      "text/plain": [
       "Index(['Date', 'Open', 'High', 'Low', 'Close', 'Volume', 'Dividend', 'Split',\n",
       "       'Adj_Open', 'Adj_High', 'Adj_Low', 'Adj_Close', 'Adj_Volume',\n",
       "       'yesterday_open', 'two_days_ago_open', 'yesterday_close',\n",
       "       'two_days_ago_close', 'yesterday_High', 'two_days_ago_High',\n",
       "       'yesterday_Low', 'two_days_ago_Low', 'yesterday_Volume',\n",
       "       'two_days_ago_Volume'],\n",
       "      dtype='object')"
      ]
     },
     "execution_count": 32,
     "metadata": {},
     "output_type": "execute_result"
    }
   ],
   "source": [
    "data.columns"
   ]
  },
  {
   "cell_type": "code",
   "execution_count": 33,
   "metadata": {},
   "outputs": [],
   "source": [
    "data.dropna(inplace = True)"
   ]
  },
  {
   "cell_type": "code",
   "execution_count": 34,
   "metadata": {
    "scrolled": true
   },
   "outputs": [],
   "source": [
    "x = data[['yesterday_open', 'two_days_ago_open', 'yesterday_close',\n",
    "       'two_days_ago_close', 'yesterday_High', 'two_days_ago_High',\n",
    "       'yesterday_Low', 'two_days_ago_Low', 'yesterday_Volume',\n",
    "       'two_days_ago_Volume']]\n",
    "y = data['Open']"
   ]
  },
  {
   "cell_type": "code",
   "execution_count": 35,
   "metadata": {},
   "outputs": [
    {
     "data": {
      "text/html": [
       "<div>\n",
       "<style scoped>\n",
       "    .dataframe tbody tr th:only-of-type {\n",
       "        vertical-align: middle;\n",
       "    }\n",
       "\n",
       "    .dataframe tbody tr th {\n",
       "        vertical-align: top;\n",
       "    }\n",
       "\n",
       "    .dataframe thead th {\n",
       "        text-align: right;\n",
       "    }\n",
       "</style>\n",
       "<table border=\"1\" class=\"dataframe\">\n",
       "  <thead>\n",
       "    <tr style=\"text-align: right;\">\n",
       "      <th></th>\n",
       "      <th>yesterday_open</th>\n",
       "      <th>two_days_ago_open</th>\n",
       "      <th>yesterday_close</th>\n",
       "      <th>two_days_ago_close</th>\n",
       "      <th>yesterday_High</th>\n",
       "      <th>two_days_ago_High</th>\n",
       "      <th>yesterday_Low</th>\n",
       "      <th>two_days_ago_Low</th>\n",
       "      <th>yesterday_Volume</th>\n",
       "      <th>two_days_ago_Volume</th>\n",
       "    </tr>\n",
       "  </thead>\n",
       "  <tbody>\n",
       "    <tr>\n",
       "      <th>266</th>\n",
       "      <td>17.600</td>\n",
       "      <td>17.760</td>\n",
       "      <td>17.45</td>\n",
       "      <td>17.59</td>\n",
       "      <td>17.65</td>\n",
       "      <td>17.80</td>\n",
       "      <td>17.3600</td>\n",
       "      <td>17.5500</td>\n",
       "      <td>75356125.0</td>\n",
       "      <td>65467298.0</td>\n",
       "    </tr>\n",
       "    <tr>\n",
       "      <th>267</th>\n",
       "      <td>17.455</td>\n",
       "      <td>17.600</td>\n",
       "      <td>17.47</td>\n",
       "      <td>17.45</td>\n",
       "      <td>17.69</td>\n",
       "      <td>17.65</td>\n",
       "      <td>17.4375</td>\n",
       "      <td>17.3600</td>\n",
       "      <td>67864071.0</td>\n",
       "      <td>75356125.0</td>\n",
       "    </tr>\n",
       "    <tr>\n",
       "      <th>268</th>\n",
       "      <td>17.480</td>\n",
       "      <td>17.455</td>\n",
       "      <td>17.50</td>\n",
       "      <td>17.47</td>\n",
       "      <td>17.56</td>\n",
       "      <td>17.69</td>\n",
       "      <td>17.4000</td>\n",
       "      <td>17.4375</td>\n",
       "      <td>46357220.0</td>\n",
       "      <td>67864071.0</td>\n",
       "    </tr>\n",
       "    <tr>\n",
       "      <th>269</th>\n",
       "      <td>17.450</td>\n",
       "      <td>17.480</td>\n",
       "      <td>17.43</td>\n",
       "      <td>17.50</td>\n",
       "      <td>17.66</td>\n",
       "      <td>17.56</td>\n",
       "      <td>17.4000</td>\n",
       "      <td>17.4000</td>\n",
       "      <td>55337926.0</td>\n",
       "      <td>46357220.0</td>\n",
       "    </tr>\n",
       "    <tr>\n",
       "      <th>270</th>\n",
       "      <td>17.460</td>\n",
       "      <td>17.450</td>\n",
       "      <td>17.38</td>\n",
       "      <td>17.43</td>\n",
       "      <td>17.63</td>\n",
       "      <td>17.66</td>\n",
       "      <td>17.3100</td>\n",
       "      <td>17.4000</td>\n",
       "      <td>60126681.0</td>\n",
       "      <td>55337926.0</td>\n",
       "    </tr>\n",
       "  </tbody>\n",
       "</table>\n",
       "</div>"
      ],
      "text/plain": [
       "     yesterday_open  two_days_ago_open  yesterday_close  two_days_ago_close  \\\n",
       "266          17.600             17.760            17.45               17.59   \n",
       "267          17.455             17.600            17.47               17.45   \n",
       "268          17.480             17.455            17.50               17.47   \n",
       "269          17.450             17.480            17.43               17.50   \n",
       "270          17.460             17.450            17.38               17.43   \n",
       "\n",
       "     yesterday_High  two_days_ago_High  yesterday_Low  two_days_ago_Low  \\\n",
       "266           17.65              17.80        17.3600           17.5500   \n",
       "267           17.69              17.65        17.4375           17.3600   \n",
       "268           17.56              17.69        17.4000           17.4375   \n",
       "269           17.66              17.56        17.4000           17.4000   \n",
       "270           17.63              17.66        17.3100           17.4000   \n",
       "\n",
       "     yesterday_Volume  two_days_ago_Volume  \n",
       "266        75356125.0           65467298.0  \n",
       "267        67864071.0           75356125.0  \n",
       "268        46357220.0           67864071.0  \n",
       "269        55337926.0           46357220.0  \n",
       "270        60126681.0           55337926.0  "
      ]
     },
     "execution_count": 35,
     "metadata": {},
     "output_type": "execute_result"
    }
   ],
   "source": [
    "x.tail()"
   ]
  },
  {
   "cell_type": "code",
   "execution_count": 36,
   "metadata": {},
   "outputs": [],
   "source": [
    "from sklearn.model_selection import train_test_split\n",
    "x_train, x_test, y_train, y_test = train_test_split(x, y, test_size = 0.1, random_state = 0)"
   ]
  },
  {
   "cell_type": "code",
   "execution_count": 37,
   "metadata": {},
   "outputs": [],
   "source": [
    "Regressor = DecisionTreeRegressor()"
   ]
  },
  {
   "cell_type": "code",
   "execution_count": 38,
   "metadata": {},
   "outputs": [
    {
     "data": {
      "text/plain": [
       "DecisionTreeRegressor()"
      ]
     },
     "execution_count": 38,
     "metadata": {},
     "output_type": "execute_result"
    }
   ],
   "source": [
    "Regressor.fit(x_train, y_train)"
   ]
  },
  {
   "cell_type": "code",
   "execution_count": 39,
   "metadata": {},
   "outputs": [],
   "source": [
    "test = [31.19, 31.60, 17.455, 15, 18, 12.99, 22, 19, 33.30, 10]"
   ]
  },
  {
   "cell_type": "code",
   "execution_count": 40,
   "metadata": {},
   "outputs": [],
   "source": [
    "test = np.asarray(test, dtype=np.float32)"
   ]
  },
  {
   "cell_type": "code",
   "execution_count": 41,
   "metadata": {},
   "outputs": [],
   "source": [
    "prediction = Regressor.predict(test.reshape(1, -1))"
   ]
  },
  {
   "cell_type": "code",
   "execution_count": 42,
   "metadata": {},
   "outputs": [
    {
     "data": {
      "text/plain": [
       "DecisionTreeRegressor()"
      ]
     },
     "execution_count": 42,
     "metadata": {},
     "output_type": "execute_result"
    }
   ],
   "source": [
    "model=DecisionTreeRegressor() \n",
    "model.fit(x, y)"
   ]
  },
  {
   "cell_type": "code",
   "execution_count": 43,
   "metadata": {},
   "outputs": [
    {
     "data": {
      "text/plain": [
       "1.0"
      ]
     },
     "execution_count": 43,
     "metadata": {},
     "output_type": "execute_result"
    }
   ],
   "source": [
    "model.score(x, \n",
    "            y)"
   ]
  },
  {
   "cell_type": "code",
   "execution_count": 44,
   "metadata": {},
   "outputs": [
    {
     "data": {
      "text/plain": [
       "array([22.14])"
      ]
     },
     "execution_count": 44,
     "metadata": {},
     "output_type": "execute_result"
    }
   ],
   "source": [
    "prediction"
   ]
  },
  {
   "cell_type": "code",
   "execution_count": null,
   "metadata": {},
   "outputs": [],
   "source": []
  },
  {
   "cell_type": "code",
   "execution_count": null,
   "metadata": {},
   "outputs": [],
   "source": []
  }
 ],
 "metadata": {
  "kernelspec": {
   "display_name": "Python 3",
   "language": "python",
   "name": "python3"
  },
  "language_info": {
   "codemirror_mode": {
    "name": "ipython",
    "version": 3
   },
   "file_extension": ".py",
   "mimetype": "text/x-python",
   "name": "python",
   "nbconvert_exporter": "python",
   "pygments_lexer": "ipython3",
   "version": "3.8.3"
  }
 },
 "nbformat": 4,
 "nbformat_minor": 4
}
