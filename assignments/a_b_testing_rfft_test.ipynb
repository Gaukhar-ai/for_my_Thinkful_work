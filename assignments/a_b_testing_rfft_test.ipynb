{
 "cells": [
  {
   "cell_type": "code",
   "execution_count": 1,
   "metadata": {},
   "outputs": [
    {
     "data": {
      "application/javascript": [
       "\n",
       "            setTimeout(function() {\n",
       "                var nbb_cell_id = 1;\n",
       "                var nbb_unformatted_code = \"%matplotlib inline\\nimport pandas as pd\\nimport numpy as np\\nimport seaborn as sns\\nfrom matplotlib import pyplot as plt\\nfrom scipy import stats\\nfrom scipy import stats\\nimport statsmodels.api as sm\\n\\n%matplotlib inline\\n%reload_ext nb_black\";\n",
       "                var nbb_formatted_code = \"%matplotlib inline\\nimport pandas as pd\\nimport numpy as np\\nimport seaborn as sns\\nfrom matplotlib import pyplot as plt\\nfrom scipy import stats\\nfrom scipy import stats\\nimport statsmodels.api as sm\\n\\n%matplotlib inline\\n%reload_ext nb_black\";\n",
       "                var nbb_cells = Jupyter.notebook.get_cells();\n",
       "                for (var i = 0; i < nbb_cells.length; ++i) {\n",
       "                    if (nbb_cells[i].input_prompt_number == nbb_cell_id) {\n",
       "                        if (nbb_cells[i].get_text() == nbb_unformatted_code) {\n",
       "                             nbb_cells[i].set_text(nbb_formatted_code);\n",
       "                        }\n",
       "                        break;\n",
       "                    }\n",
       "                }\n",
       "            }, 500);\n",
       "            "
      ],
      "text/plain": [
       "<IPython.core.display.Javascript object>"
      ]
     },
     "metadata": {},
     "output_type": "display_data"
    }
   ],
   "source": [
    "%matplotlib inline\n",
    "import pandas as pd\n",
    "import numpy as np\n",
    "import seaborn as sns\n",
    "from matplotlib import pyplot as plt\n",
    "from scipy import stats\n",
    "from scipy import stats\n",
    "import statsmodels.api as sm\n",
    "\n",
    "%matplotlib inline\n",
    "%reload_ext nb_black"
   ]
  },
  {
   "cell_type": "code",
   "execution_count": 2,
   "metadata": {},
   "outputs": [
    {
     "data": {
      "application/javascript": [
       "\n",
       "            setTimeout(function() {\n",
       "                var nbb_cell_id = 2;\n",
       "                var nbb_unformatted_code = \"path = r\\\"C:\\\\Users\\\\GaukharJavarova\\\\Downloads\\\\rfft.csv\\\"\\nrfft = pd.read_csv(path)\";\n",
       "                var nbb_formatted_code = \"path = r\\\"C:\\\\Users\\\\GaukharJavarova\\\\Downloads\\\\rfft.csv\\\"\\nrfft = pd.read_csv(path)\";\n",
       "                var nbb_cells = Jupyter.notebook.get_cells();\n",
       "                for (var i = 0; i < nbb_cells.length; ++i) {\n",
       "                    if (nbb_cells[i].input_prompt_number == nbb_cell_id) {\n",
       "                        if (nbb_cells[i].get_text() == nbb_unformatted_code) {\n",
       "                             nbb_cells[i].set_text(nbb_formatted_code);\n",
       "                        }\n",
       "                        break;\n",
       "                    }\n",
       "                }\n",
       "            }, 500);\n",
       "            "
      ],
      "text/plain": [
       "<IPython.core.display.Javascript object>"
      ]
     },
     "metadata": {},
     "output_type": "display_data"
    }
   ],
   "source": [
    "path = r\"C:\\Users\\GaukharJavarova\\Downloads\\rfft.csv\"\n",
    "rfft = pd.read_csv(path)"
   ]
  },
  {
   "cell_type": "code",
   "execution_count": 3,
   "metadata": {},
   "outputs": [
    {
     "data": {
      "text/html": [
       "<div>\n",
       "<style scoped>\n",
       "    .dataframe tbody tr th:only-of-type {\n",
       "        vertical-align: middle;\n",
       "    }\n",
       "\n",
       "    .dataframe tbody tr th {\n",
       "        vertical-align: top;\n",
       "    }\n",
       "\n",
       "    .dataframe thead th {\n",
       "        text-align: right;\n",
       "    }\n",
       "</style>\n",
       "<table border=\"1\" class=\"dataframe\">\n",
       "  <thead>\n",
       "    <tr style=\"text-align: right;\">\n",
       "      <th></th>\n",
       "      <th>Casenr</th>\n",
       "      <th>Age</th>\n",
       "      <th>Gender</th>\n",
       "      <th>Education</th>\n",
       "      <th>Measurement</th>\n",
       "      <th>Unique</th>\n",
       "      <th>Perseverative</th>\n",
       "      <th>Interval</th>\n",
       "    </tr>\n",
       "  </thead>\n",
       "  <tbody>\n",
       "    <tr>\n",
       "      <th>0</th>\n",
       "      <td>1</td>\n",
       "      <td>74</td>\n",
       "      <td>Male</td>\n",
       "      <td>Lower secondary school (ISCED 2)</td>\n",
       "      <td>Measurement 1 (2003-2006)</td>\n",
       "      <td>32.0</td>\n",
       "      <td>1.0</td>\n",
       "      <td>Not applicable</td>\n",
       "    </tr>\n",
       "    <tr>\n",
       "      <th>1</th>\n",
       "      <td>1</td>\n",
       "      <td>74</td>\n",
       "      <td>Male</td>\n",
       "      <td>Lower secondary school (ISCED 2)</td>\n",
       "      <td>Measurement 2 (2006-2008)</td>\n",
       "      <td>35.0</td>\n",
       "      <td>0.0</td>\n",
       "      <td>2.842122556</td>\n",
       "    </tr>\n",
       "    <tr>\n",
       "      <th>2</th>\n",
       "      <td>1</td>\n",
       "      <td>74</td>\n",
       "      <td>Male</td>\n",
       "      <td>Lower secondary school (ISCED 2)</td>\n",
       "      <td>Measurement 3 (2008-2012)</td>\n",
       "      <td>50.5</td>\n",
       "      <td>14.5</td>\n",
       "      <td>2.201232033</td>\n",
       "    </tr>\n",
       "    <tr>\n",
       "      <th>3</th>\n",
       "      <td>2</td>\n",
       "      <td>48</td>\n",
       "      <td>Male</td>\n",
       "      <td>Higher secondary school (ISCED 3-4)</td>\n",
       "      <td>Measurement 1 (2003-2006)</td>\n",
       "      <td>26.0</td>\n",
       "      <td>3.0</td>\n",
       "      <td>Not applicable</td>\n",
       "    </tr>\n",
       "    <tr>\n",
       "      <th>4</th>\n",
       "      <td>2</td>\n",
       "      <td>48</td>\n",
       "      <td>Male</td>\n",
       "      <td>Higher secondary school (ISCED 3-4)</td>\n",
       "      <td>Measurement 2 (2006-2008)</td>\n",
       "      <td>47.0</td>\n",
       "      <td>3.0</td>\n",
       "      <td>2.762718362</td>\n",
       "    </tr>\n",
       "  </tbody>\n",
       "</table>\n",
       "</div>"
      ],
      "text/plain": [
       "   Casenr  Age Gender                            Education  \\\n",
       "0       1   74   Male     Lower secondary school (ISCED 2)   \n",
       "1       1   74   Male     Lower secondary school (ISCED 2)   \n",
       "2       1   74   Male     Lower secondary school (ISCED 2)   \n",
       "3       2   48   Male  Higher secondary school (ISCED 3-4)   \n",
       "4       2   48   Male  Higher secondary school (ISCED 3-4)   \n",
       "\n",
       "                 Measurement  Unique  Perseverative        Interval  \n",
       "0  Measurement 1 (2003-2006)    32.0            1.0  Not applicable  \n",
       "1  Measurement 2 (2006-2008)    35.0            0.0     2.842122556  \n",
       "2  Measurement 3 (2008-2012)    50.5           14.5     2.201232033  \n",
       "3  Measurement 1 (2003-2006)    26.0            3.0  Not applicable  \n",
       "4  Measurement 2 (2006-2008)    47.0            3.0     2.762718362  "
      ]
     },
     "execution_count": 3,
     "metadata": {},
     "output_type": "execute_result"
    },
    {
     "data": {
      "application/javascript": [
       "\n",
       "            setTimeout(function() {\n",
       "                var nbb_cell_id = 3;\n",
       "                var nbb_unformatted_code = \"rfft.head()\";\n",
       "                var nbb_formatted_code = \"rfft.head()\";\n",
       "                var nbb_cells = Jupyter.notebook.get_cells();\n",
       "                for (var i = 0; i < nbb_cells.length; ++i) {\n",
       "                    if (nbb_cells[i].input_prompt_number == nbb_cell_id) {\n",
       "                        if (nbb_cells[i].get_text() == nbb_unformatted_code) {\n",
       "                             nbb_cells[i].set_text(nbb_formatted_code);\n",
       "                        }\n",
       "                        break;\n",
       "                    }\n",
       "                }\n",
       "            }, 500);\n",
       "            "
      ],
      "text/plain": [
       "<IPython.core.display.Javascript object>"
      ]
     },
     "metadata": {},
     "output_type": "display_data"
    }
   ],
   "source": [
    "rfft.head()\n"
   ]
  },
  {
   "cell_type": "code",
   "execution_count": 4,
   "metadata": {},
   "outputs": [
    {
     "data": {
      "text/plain": [
       "(7545, 8)"
      ]
     },
     "execution_count": 4,
     "metadata": {},
     "output_type": "execute_result"
    },
    {
     "data": {
      "application/javascript": [
       "\n",
       "            setTimeout(function() {\n",
       "                var nbb_cell_id = 4;\n",
       "                var nbb_unformatted_code = \"rfft.shape\";\n",
       "                var nbb_formatted_code = \"rfft.shape\";\n",
       "                var nbb_cells = Jupyter.notebook.get_cells();\n",
       "                for (var i = 0; i < nbb_cells.length; ++i) {\n",
       "                    if (nbb_cells[i].input_prompt_number == nbb_cell_id) {\n",
       "                        if (nbb_cells[i].get_text() == nbb_unformatted_code) {\n",
       "                             nbb_cells[i].set_text(nbb_formatted_code);\n",
       "                        }\n",
       "                        break;\n",
       "                    }\n",
       "                }\n",
       "            }, 500);\n",
       "            "
      ],
      "text/plain": [
       "<IPython.core.display.Javascript object>"
      ]
     },
     "metadata": {},
     "output_type": "display_data"
    }
   ],
   "source": [
    "rfft.shape"
   ]
  },
  {
   "cell_type": "code",
   "execution_count": 5,
   "metadata": {},
   "outputs": [
    {
     "data": {
      "text/html": [
       "<div>\n",
       "<style scoped>\n",
       "    .dataframe tbody tr th:only-of-type {\n",
       "        vertical-align: middle;\n",
       "    }\n",
       "\n",
       "    .dataframe tbody tr th {\n",
       "        vertical-align: top;\n",
       "    }\n",
       "\n",
       "    .dataframe thead th {\n",
       "        text-align: right;\n",
       "    }\n",
       "</style>\n",
       "<table border=\"1\" class=\"dataframe\">\n",
       "  <thead>\n",
       "    <tr style=\"text-align: right;\">\n",
       "      <th>Measurement</th>\n",
       "      <th>Measurement 1 (2003-2006)</th>\n",
       "      <th>Measurement 2 (2006-2008)</th>\n",
       "      <th>Measurement 3 (2008-2012)</th>\n",
       "    </tr>\n",
       "    <tr>\n",
       "      <th>Casenr</th>\n",
       "      <th></th>\n",
       "      <th></th>\n",
       "      <th></th>\n",
       "    </tr>\n",
       "  </thead>\n",
       "  <tbody>\n",
       "    <tr>\n",
       "      <th>1</th>\n",
       "      <td>32.0</td>\n",
       "      <td>35.0</td>\n",
       "      <td>50.5</td>\n",
       "    </tr>\n",
       "    <tr>\n",
       "      <th>2</th>\n",
       "      <td>26.0</td>\n",
       "      <td>47.0</td>\n",
       "      <td>71.0</td>\n",
       "    </tr>\n",
       "    <tr>\n",
       "      <th>3</th>\n",
       "      <td>91.0</td>\n",
       "      <td>83.5</td>\n",
       "      <td>77.0</td>\n",
       "    </tr>\n",
       "    <tr>\n",
       "      <th>4</th>\n",
       "      <td>59.0</td>\n",
       "      <td>54.0</td>\n",
       "      <td>64.0</td>\n",
       "    </tr>\n",
       "    <tr>\n",
       "      <th>5</th>\n",
       "      <td>60.0</td>\n",
       "      <td>68.0</td>\n",
       "      <td>21.0</td>\n",
       "    </tr>\n",
       "  </tbody>\n",
       "</table>\n",
       "</div>"
      ],
      "text/plain": [
       "Measurement  Measurement 1 (2003-2006)  Measurement 2 (2006-2008)  \\\n",
       "Casenr                                                              \n",
       "1                                 32.0                       35.0   \n",
       "2                                 26.0                       47.0   \n",
       "3                                 91.0                       83.5   \n",
       "4                                 59.0                       54.0   \n",
       "5                                 60.0                       68.0   \n",
       "\n",
       "Measurement  Measurement 3 (2008-2012)  \n",
       "Casenr                                  \n",
       "1                                 50.5  \n",
       "2                                 71.0  \n",
       "3                                 77.0  \n",
       "4                                 64.0  \n",
       "5                                 21.0  "
      ]
     },
     "execution_count": 5,
     "metadata": {},
     "output_type": "execute_result"
    },
    {
     "data": {
      "application/javascript": [
       "\n",
       "            setTimeout(function() {\n",
       "                var nbb_cell_id = 5;\n",
       "                var nbb_unformatted_code = \"# to ease the analysis should pivot the data. #pivot is made for taking the values i need from the dataset\\n\\nrfft_unique = rfft.pivot(index=\\\"Casenr\\\", columns=\\\"Measurement\\\", values=\\\"Unique\\\")\\nrfft_unique.head()\";\n",
       "                var nbb_formatted_code = \"# to ease the analysis should pivot the data. #pivot is made for taking the values i need from the dataset\\n\\nrfft_unique = rfft.pivot(index=\\\"Casenr\\\", columns=\\\"Measurement\\\", values=\\\"Unique\\\")\\nrfft_unique.head()\";\n",
       "                var nbb_cells = Jupyter.notebook.get_cells();\n",
       "                for (var i = 0; i < nbb_cells.length; ++i) {\n",
       "                    if (nbb_cells[i].input_prompt_number == nbb_cell_id) {\n",
       "                        if (nbb_cells[i].get_text() == nbb_unformatted_code) {\n",
       "                             nbb_cells[i].set_text(nbb_formatted_code);\n",
       "                        }\n",
       "                        break;\n",
       "                    }\n",
       "                }\n",
       "            }, 500);\n",
       "            "
      ],
      "text/plain": [
       "<IPython.core.display.Javascript object>"
      ]
     },
     "metadata": {},
     "output_type": "display_data"
    }
   ],
   "source": [
    "# to ease the analysis should pivot the data. #pivot is made for taking the values i need from the dataset\n",
    "\n",
    "rfft_unique = rfft.pivot(index=\"Casenr\", columns=\"Measurement\", values=\"Unique\")\n",
    "rfft_unique.head()"
   ]
  },
  {
   "cell_type": "markdown",
   "metadata": {},
   "source": [
    "Is there a significant difference in the number of unique designs drawn by the same participants from measurement 2 to measurement 3?"
   ]
  },
  {
   "cell_type": "markdown",
   "metadata": {},
   "source": [
    "check the difference. looks normal, use a ttest."
   ]
  },
  {
   "cell_type": "code",
   "execution_count": 6,
   "metadata": {},
   "outputs": [
    {
     "name": "stdout",
     "output_type": "stream",
     "text": [
      "DescribeResult(nobs=2515, minmax=(-75.5, 68.5), mean=4.015506958250497, variance=342.2368318331855, skewness=-0.15837265462838976, kurtosis=0.7823714353134701)\n"
     ]
    },
    {
     "data": {
      "image/png": "[encoded data removed]",
      "text/plain": [
       "<Figure size 432x288 with 1 Axes>"
      ]
     },
     "metadata": {
      "needs_background": "light"
     },
     "output_type": "display_data"
    },
    {
     "data": {
      "application/javascript": [
       "\n",
       "            setTimeout(function() {\n",
       "                var nbb_cell_id = 6;\n",
       "                var nbb_unformatted_code = \"plt.hist(\\n    rfft_unique[\\\"Measurement 3 (2008-2012)\\\"] - rfft_unique[\\\"Measurement 2 (2006-2008)\\\"]\\n)\\nprint(\\n    stats.describe(\\n        rfft_unique[\\\"Measurement 3 (2008-2012)\\\"]\\n        - rfft_unique[\\\"Measurement 2 (2006-2008)\\\"]\\n    )\\n)\";\n",
       "                var nbb_formatted_code = \"plt.hist(\\n    rfft_unique[\\\"Measurement 3 (2008-2012)\\\"] - rfft_unique[\\\"Measurement 2 (2006-2008)\\\"]\\n)\\nprint(\\n    stats.describe(\\n        rfft_unique[\\\"Measurement 3 (2008-2012)\\\"]\\n        - rfft_unique[\\\"Measurement 2 (2006-2008)\\\"]\\n    )\\n)\";\n",
       "                var nbb_cells = Jupyter.notebook.get_cells();\n",
       "                for (var i = 0; i < nbb_cells.length; ++i) {\n",
       "                    if (nbb_cells[i].input_prompt_number == nbb_cell_id) {\n",
       "                        if (nbb_cells[i].get_text() == nbb_unformatted_code) {\n",
       "                             nbb_cells[i].set_text(nbb_formatted_code);\n",
       "                        }\n",
       "                        break;\n",
       "                    }\n",
       "                }\n",
       "            }, 500);\n",
       "            "
      ],
      "text/plain": [
       "<IPython.core.display.Javascript object>"
      ]
     },
     "metadata": {},
     "output_type": "display_data"
    }
   ],
   "source": [
    "plt.hist(\n",
    "    rfft_unique[\"Measurement 3 (2008-2012)\"] - rfft_unique[\"Measurement 2 (2006-2008)\"]\n",
    ")\n",
    "print(\n",
    "    stats.describe(\n",
    "        rfft_unique[\"Measurement 3 (2008-2012)\"]\n",
    "        - rfft_unique[\"Measurement 2 (2006-2008)\"]\n",
    "    )\n",
    ")"
   ]
  },
  {
   "cell_type": "code",
   "execution_count": 7,
   "metadata": {},
   "outputs": [
    {
     "data": {
      "text/plain": [
       "Ttest_relResult(statistic=10.88544039426271, pvalue=5.3585747477799544e-27)"
      ]
     },
     "execution_count": 7,
     "metadata": {},
     "output_type": "execute_result"
    },
    {
     "data": {
      "application/javascript": [
       "\n",
       "            setTimeout(function() {\n",
       "                var nbb_cell_id = 7;\n",
       "                var nbb_unformatted_code = \"stats.ttest_rel(\\n    rfft_unique[\\\"Measurement 3 (2008-2012)\\\"], rfft_unique[\\\"Measurement 2 (2006-2008)\\\"]\\n)\";\n",
       "                var nbb_formatted_code = \"stats.ttest_rel(\\n    rfft_unique[\\\"Measurement 3 (2008-2012)\\\"], rfft_unique[\\\"Measurement 2 (2006-2008)\\\"]\\n)\";\n",
       "                var nbb_cells = Jupyter.notebook.get_cells();\n",
       "                for (var i = 0; i < nbb_cells.length; ++i) {\n",
       "                    if (nbb_cells[i].input_prompt_number == nbb_cell_id) {\n",
       "                        if (nbb_cells[i].get_text() == nbb_unformatted_code) {\n",
       "                             nbb_cells[i].set_text(nbb_formatted_code);\n",
       "                        }\n",
       "                        break;\n",
       "                    }\n",
       "                }\n",
       "            }, 500);\n",
       "            "
      ],
      "text/plain": [
       "<IPython.core.display.Javascript object>"
      ]
     },
     "metadata": {},
     "output_type": "display_data"
    }
   ],
   "source": [
    "stats.ttest_rel(\n",
    "    rfft_unique[\"Measurement 3 (2008-2012)\"], rfft_unique[\"Measurement 2 (2006-2008)\"]\n",
    ")"
   ]
  },
  {
   "cell_type": "code",
   "execution_count": 20,
   "metadata": {},
   "outputs": [
    {
     "name": "stdout",
     "output_type": "stream",
     "text": [
      "DescribeResult(nobs=2515, minmax=(-75.5, 68.5), mean=4.015506958250497, variance=342.2368318331855, skewness=-0.15837265462838976, kurtosis=0.7823714353134701)\n"
     ]
    },
    {
     "data": {
      "image/png": "[encoded data removed]",
      "text/plain": [
       "<Figure size 432x288 with 1 Axes>"
      ]
     },
     "metadata": {
      "needs_background": "light"
     },
     "output_type": "display_data"
    },
    {
     "data": {
      "application/javascript": [
       "\n",
       "            setTimeout(function() {\n",
       "                var nbb_cell_id = 20;\n",
       "                var nbb_unformatted_code = \"plt.hist(\\n    rfft_unique[\\\"Measurement 3 (2008-2012)\\\"] - rfft_unique[\\\"Measurement 2 (2006-2008)\\\"]\\n)\\nprint(\\n    stats.describe(\\n        rfft_unique[\\\"Measurement 3 (2008-2012)\\\"] -\\n        rfft_unique[\\\"Measurement 2 (2006-2008)\\\"],\\n    )\\n)\";\n",
       "                var nbb_formatted_code = \"plt.hist(\\n    rfft_unique[\\\"Measurement 3 (2008-2012)\\\"] - rfft_unique[\\\"Measurement 2 (2006-2008)\\\"]\\n)\\nprint(\\n    stats.describe(\\n        rfft_unique[\\\"Measurement 3 (2008-2012)\\\"]\\n        - rfft_unique[\\\"Measurement 2 (2006-2008)\\\"],\\n    )\\n)\";\n",
       "                var nbb_cells = Jupyter.notebook.get_cells();\n",
       "                for (var i = 0; i < nbb_cells.length; ++i) {\n",
       "                    if (nbb_cells[i].input_prompt_number == nbb_cell_id) {\n",
       "                        if (nbb_cells[i].get_text() == nbb_unformatted_code) {\n",
       "                             nbb_cells[i].set_text(nbb_formatted_code);\n",
       "                        }\n",
       "                        break;\n",
       "                    }\n",
       "                }\n",
       "            }, 500);\n",
       "            "
      ],
      "text/plain": [
       "<IPython.core.display.Javascript object>"
      ]
     },
     "metadata": {},
     "output_type": "display_data"
    }
   ],
   "source": [
    "plt.hist(\n",
    "    rfft_unique[\"Measurement 3 (2008-2012)\"] - rfft_unique[\"Measurement 2 (2006-2008)\"]\n",
    ")\n",
    "print(\n",
    "    stats.describe(\n",
    "        rfft_unique[\"Measurement 3 (2008-2012)\"]\n",
    "        - rfft_unique[\"Measurement 2 (2006-2008)\"],\n",
    "    )\n",
    ")"
   ]
  },
  {
   "cell_type": "markdown",
   "metadata": {},
   "source": [
    "Is there a significant difference in the number of perseverative errors drawn by the same participants from measurement 2 to measurement 3?"
   ]
  },
  {
   "cell_type": "code",
   "execution_count": 9,
   "metadata": {},
   "outputs": [
    {
     "data": {
      "text/html": [
       "<div>\n",
       "<style scoped>\n",
       "    .dataframe tbody tr th:only-of-type {\n",
       "        vertical-align: middle;\n",
       "    }\n",
       "\n",
       "    .dataframe tbody tr th {\n",
       "        vertical-align: top;\n",
       "    }\n",
       "\n",
       "    .dataframe thead th {\n",
       "        text-align: right;\n",
       "    }\n",
       "</style>\n",
       "<table border=\"1\" class=\"dataframe\">\n",
       "  <thead>\n",
       "    <tr style=\"text-align: right;\">\n",
       "      <th>Measurement</th>\n",
       "      <th>Measurement 1 (2003-2006)</th>\n",
       "      <th>Measurement 2 (2006-2008)</th>\n",
       "      <th>Measurement 3 (2008-2012)</th>\n",
       "    </tr>\n",
       "    <tr>\n",
       "      <th>Casenr</th>\n",
       "      <th></th>\n",
       "      <th></th>\n",
       "      <th></th>\n",
       "    </tr>\n",
       "  </thead>\n",
       "  <tbody>\n",
       "    <tr>\n",
       "      <th>1</th>\n",
       "      <td>1.0</td>\n",
       "      <td>0.0</td>\n",
       "      <td>14.5</td>\n",
       "    </tr>\n",
       "    <tr>\n",
       "      <th>2</th>\n",
       "      <td>3.0</td>\n",
       "      <td>3.0</td>\n",
       "      <td>0.5</td>\n",
       "    </tr>\n",
       "    <tr>\n",
       "      <th>3</th>\n",
       "      <td>11.0</td>\n",
       "      <td>21.0</td>\n",
       "      <td>17.0</td>\n",
       "    </tr>\n",
       "    <tr>\n",
       "      <th>4</th>\n",
       "      <td>49.0</td>\n",
       "      <td>39.0</td>\n",
       "      <td>11.0</td>\n",
       "    </tr>\n",
       "    <tr>\n",
       "      <th>5</th>\n",
       "      <td>14.0</td>\n",
       "      <td>16.0</td>\n",
       "      <td>0.0</td>\n",
       "    </tr>\n",
       "  </tbody>\n",
       "</table>\n",
       "</div>"
      ],
      "text/plain": [
       "Measurement  Measurement 1 (2003-2006)  Measurement 2 (2006-2008)  \\\n",
       "Casenr                                                              \n",
       "1                                  1.0                        0.0   \n",
       "2                                  3.0                        3.0   \n",
       "3                                 11.0                       21.0   \n",
       "4                                 49.0                       39.0   \n",
       "5                                 14.0                       16.0   \n",
       "\n",
       "Measurement  Measurement 3 (2008-2012)  \n",
       "Casenr                                  \n",
       "1                                 14.5  \n",
       "2                                  0.5  \n",
       "3                                 17.0  \n",
       "4                                 11.0  \n",
       "5                                  0.0  "
      ]
     },
     "execution_count": 9,
     "metadata": {},
     "output_type": "execute_result"
    },
    {
     "data": {
      "application/javascript": [
       "\n",
       "            setTimeout(function() {\n",
       "                var nbb_cell_id = 9;\n",
       "                var nbb_unformatted_code = \"rfft_pers = rfft.pivot(index = 'Casenr', columns = 'Measurement', values = 'Perseverative')\\nrfft_pers.head()\";\n",
       "                var nbb_formatted_code = \"rfft_pers = rfft.pivot(index=\\\"Casenr\\\", columns=\\\"Measurement\\\", values=\\\"Perseverative\\\")\\nrfft_pers.head()\";\n",
       "                var nbb_cells = Jupyter.notebook.get_cells();\n",
       "                for (var i = 0; i < nbb_cells.length; ++i) {\n",
       "                    if (nbb_cells[i].input_prompt_number == nbb_cell_id) {\n",
       "                        if (nbb_cells[i].get_text() == nbb_unformatted_code) {\n",
       "                             nbb_cells[i].set_text(nbb_formatted_code);\n",
       "                        }\n",
       "                        break;\n",
       "                    }\n",
       "                }\n",
       "            }, 500);\n",
       "            "
      ],
      "text/plain": [
       "<IPython.core.display.Javascript object>"
      ]
     },
     "metadata": {},
     "output_type": "display_data"
    }
   ],
   "source": [
    "rfft_pers = rfft.pivot(index=\"Casenr\", columns=\"Measurement\", values=\"Perseverative\")\n",
    "rfft_pers.head()"
   ]
  },
  {
   "cell_type": "code",
   "execution_count": 14,
   "metadata": {},
   "outputs": [
    {
     "data": {
      "text/plain": [
       "(array([1.821e+03, 4.560e+02, 1.210e+02, 5.200e+01, 2.800e+01, 1.600e+01,\n",
       "        1.300e+01, 3.000e+00, 4.000e+00, 1.000e+00]),\n",
       " array([  0.  ,  13.35,  26.7 ,  40.05,  53.4 ,  66.75,  80.1 ,  93.45,\n",
       "        106.8 , 120.15, 133.5 ]),\n",
       " <BarContainer object of 10 artists>)"
      ]
     },
     "execution_count": 14,
     "metadata": {},
     "output_type": "execute_result"
    },
    {
     "data": {
      "image/png": "[encoded data removed]",
      "text/plain": [
       "<Figure size 432x288 with 1 Axes>"
      ]
     },
     "metadata": {
      "needs_background": "light"
     },
     "output_type": "display_data"
    },
    {
     "data": {
      "application/javascript": [
       "\n",
       "            setTimeout(function() {\n",
       "                var nbb_cell_id = 14;\n",
       "                var nbb_unformatted_code = \"plt.hist(rfft_pers[\\\"Measurement 3 (2008-2012)\\\"], alpha=0.5)\\nplt.hist(rfft_pers[\\\"Measurement 2 (2006-2008)\\\"], alpha=0.5)\";\n",
       "                var nbb_formatted_code = \"plt.hist(rfft_pers[\\\"Measurement 3 (2008-2012)\\\"], alpha=0.5)\\nplt.hist(rfft_pers[\\\"Measurement 2 (2006-2008)\\\"], alpha=0.5)\";\n",
       "                var nbb_cells = Jupyter.notebook.get_cells();\n",
       "                for (var i = 0; i < nbb_cells.length; ++i) {\n",
       "                    if (nbb_cells[i].input_prompt_number == nbb_cell_id) {\n",
       "                        if (nbb_cells[i].get_text() == nbb_unformatted_code) {\n",
       "                             nbb_cells[i].set_text(nbb_formatted_code);\n",
       "                        }\n",
       "                        break;\n",
       "                    }\n",
       "                }\n",
       "            }, 500);\n",
       "            "
      ],
      "text/plain": [
       "<IPython.core.display.Javascript object>"
      ]
     },
     "metadata": {},
     "output_type": "display_data"
    }
   ],
   "source": [
    "plt.hist(rfft_pers[\"Measurement 3 (2008-2012)\"], alpha=0.5)\n",
    "plt.hist(rfft_pers[\"Measurement 2 (2006-2008)\"], alpha=0.5)"
   ]
  },
  {
   "cell_type": "code",
   "execution_count": 17,
   "metadata": {},
   "outputs": [
    {
     "data": {
      "text/plain": [
       "WilcoxonResult(statistic=1358373.0, pvalue=0.0006927535563546565)"
      ]
     },
     "execution_count": 17,
     "metadata": {},
     "output_type": "execute_result"
    },
    {
     "data": {
      "application/javascript": [
       "\n",
       "            setTimeout(function() {\n",
       "                var nbb_cell_id = 17;\n",
       "                var nbb_unformatted_code = \"# non-noraml distribution = Wilcoxon\\nstats.wilcoxon(\\n    rfft_pers[\\\"Measurement 3 (2008-2012)\\\"], rfft_pers[\\\"Measurement 2 (2006-2008)\\\"]\\n)\";\n",
       "                var nbb_formatted_code = \"# non-noraml distribution = Wilcoxon\\nstats.wilcoxon(\\n    rfft_pers[\\\"Measurement 3 (2008-2012)\\\"], rfft_pers[\\\"Measurement 2 (2006-2008)\\\"]\\n)\";\n",
       "                var nbb_cells = Jupyter.notebook.get_cells();\n",
       "                for (var i = 0; i < nbb_cells.length; ++i) {\n",
       "                    if (nbb_cells[i].input_prompt_number == nbb_cell_id) {\n",
       "                        if (nbb_cells[i].get_text() == nbb_unformatted_code) {\n",
       "                             nbb_cells[i].set_text(nbb_formatted_code);\n",
       "                        }\n",
       "                        break;\n",
       "                    }\n",
       "                }\n",
       "            }, 500);\n",
       "            "
      ],
      "text/plain": [
       "<IPython.core.display.Javascript object>"
      ]
     },
     "metadata": {},
     "output_type": "display_data"
    }
   ],
   "source": [
    "# non-noraml distribution = Wilcoxon\n",
    "stats.wilcoxon(\n",
    "    rfft_pers[\"Measurement 3 (2008-2012)\"], rfft_pers[\"Measurement 2 (2006-2008)\"]\n",
    ")"
   ]
  },
  {
   "cell_type": "code",
   "execution_count": null,
   "metadata": {},
   "outputs": [],
   "source": [
    "p<.05 - reject the null, sig difference between two groups. "
   ]
  }
 ],
 "metadata": {
  "kernelspec": {
   "display_name": "Python 3",
   "language": "python",
   "name": "python3"
  },
  "language_info": {
   "codemirror_mode": {
    "name": "ipython",
    "version": 3
   },
   "file_extension": ".py",
   "mimetype": "text/x-python",
   "name": "python",
   "nbconvert_exporter": "python",
   "pygments_lexer": "ipython3",
   "version": "3.8.3"
  }
 },
 "nbformat": 4,
 "nbformat_minor": 4
}
