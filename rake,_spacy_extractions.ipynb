{
  "nbformat": 4,
  "nbformat_minor": 0,
  "metadata": {
    "colab": {
      "name": "rake, spacy extractions.ipynb",
      "provenance": [],
      "mount_file_id": "1DKCN9v_BsSafLRnu6cdaorI2kADtpUUp",
      "authorship_tag": "ABX9TyMKGJndtQz0ENbYY3o5KnFf",
      "include_colab_link": true
    },
    "kernelspec": {
      "name": "python3",
      "display_name": "Python 3"
    }
  },
  "cells": [
    {
      "cell_type": "markdown",
      "metadata": {
        "id": "view-in-github",
        "colab_type": "text"
      },
      "source": [
        "<a href=\"https://colab.research.google.com/github/Gaukhar-ai/for_my_Thinkful_work/blob/master/rake%2C_spacy_extractions.ipynb\" target=\"_parent\"><img src=\"https://colab.research.google.com/assets/colab-badge.svg\" alt=\"Open In Colab\"/></a>"
      ]
    },
    {
      "cell_type": "code",
      "metadata": {
        "id": "eAwjN8vWzMJy"
      },
      "source": [
        "#!pip install textacy --quiet\n",
        "#!pip install rake_nltk --quiet"
      ],
      "execution_count": 1,
      "outputs": []
    },
    {
      "cell_type": "code",
      "metadata": {
        "id": "vyN6sI_yzMH_"
      },
      "source": [
        "import spacy\n",
        "import string\n",
        "import textacy\n",
        "import itertools\n",
        "from nltk import pos_tag\n",
        "from rake_nltk import Rake\n",
        "from nltk import sent_tokenize\n",
        "from nltk import word_tokenize\n",
        "from nltk import tree2conlltags\n",
        "from gensim.summarization import keywords\n",
        "from nltk.chunk.regexp import RegexpParser\n",
        "from nltk.corpus.reader.plaintext import PlaintextCorpusReader"
      ],
      "execution_count": 2,
      "outputs": []
    },
    {
      "cell_type": "code",
      "metadata": {
        "id": "OHnJuSqyzMFT"
      },
      "source": [
        "PATH = '/content/drive/My Drive/cnn_lite'\n",
        "DOC_PATTERN = r'.*\\.txt'\n",
        "corpus = PlaintextCorpusReader(PATH, DOC_PATTERN)"
      ],
      "execution_count": 3,
      "outputs": []
    },
    {
      "cell_type": "code",
      "metadata": {
        "id": "-ZgqEqkpzMC9"
      },
      "source": [
        "docs = [corpus.raw(fileid) for fileid in corpus.fileids()]"
      ],
      "execution_count": 4,
      "outputs": []
    },
    {
      "cell_type": "code",
      "metadata": {
        "id": "0159tqbFzMAV"
      },
      "source": [
        "doc = docs[0]"
      ],
      "execution_count": 5,
      "outputs": []
    },
    {
      "cell_type": "code",
      "metadata": {
        "id": "1jXNKnP-zL9t",
        "outputId": "c0a7c194-9cb1-4584-f249-850c618eeee1",
        "colab": {
          "base_uri": "https://localhost:8080/",
          "height": 137
        }
      },
      "source": [
        "doc"
      ],
      "execution_count": 6,
      "outputs": [
        {
          "output_type": "execute_result",
          "data": {
            "application/vnd.google.colaboratory.intrinsic+json": {
              "type": "string"
            },
            "text/plain": [
              "'Des Moines, Iowa (CNN) - Rep. Alexandria Ocasio-Cortez capped her debut on the Iowa hustings in support of Bernie Sanders last week with a blunt call to action. \"This is not about something that we allow to happen to us. We don\\'t let this race happen to us,\" she said at a rally for the Vermont senator in Council Bluffs. \"We don\\'t watch the presidential race. This is not a movie, this a movement.\" And yet, there has been a certain cinematic quality to the last six weeks of Sanders\\' second Democratic presidential campaign. Nearly sidelined, or worse, by a heart attack in Las Vegas on the first night of October, Sanders has charted a remarkable revival. It\\'s been powered by a run of invigorating endorsements, new poll results that showed him gaining steam in New Hampshire and Iowa, and the sense, fueled in part by the massive crowds that welcomed him during recent rallies in New York and Minnesota, that his \"political revolution\" was, after a trying summer, back on the march. There are also, as Sanders joked following his Saturday climate summit in Des Moines, the stents to thank. \"I\\'ve got three arteries that are working right now, that\\'s pretty good,\" he deadpanned, while practicing mid-range jumpers on a basketball court at Drake University. \"Better than one blocked artery, so I\\'m feeling really good.\" His supporters and staff are saying much of the same. The backing of Ocasio-Cortez, along with fellow \"squad\" members Rep. Ilhan Omar and Rep. Rashida Tlaib, news of which broke before and during the most recent debate last month in Ohio, bolstered an argument that Sanders has been making for months, that his campaign is steadily attracting a racially diverse, young and working class coalition ready to make an unapologetic case for his democratic socialist vision. Democratic voters, too, have made it clear that Sanders remains front of mind as the primary season approaches. About two weeks after the debate, a CNN poll of Democrats in New Hampshire showed Sanders with a narrow lead over the emerging top tier of candidates, with 21% to Sen. Elizabeth Warren\\'s 18%. Former Vice President Joe Biden came in at 15%, and South Bend, Indiana, Mayor Pete Buttigieg, placed fourth with 10%. No one else touched double digits. Recent surveys of Democrats in Iowa show the same group jockeying, mostly within the margin of statistical error, for the top position. A durable candidate. For an elected leader famously disinclined to discuss his own inner life, and whose campaign slogan, \"Not me, us\", is both a comment on his view of politics and a criticism of how its practice is covered by the press, Sanders wry assessment of his arterial functions felt like a revolution in its own right. \"Bernie\\'s back,\" as his campaign puts it, but the person at the center of it all seems just a little bit different. As if he\\'s been freed, finally, to return the embrace of an increasingly influential leftist movement, the largest the country has seen in nearly a century, that has vaulted him to within a relative whisper of the White House. Sanders entered the current Democratic primary in February with the same message he has championed for the better party of four decades. It\\'s one that he pushed in 2016, when he challenged Hillary Clinton for the Democratic nomination and lost. This time, the world around him had changed, and so too had the expectations surrounding his campaign. No longer an underdog, Sanders began his 2020 bid amid a new round of harrowing questions. What if his supporters in 2016 fled for a fresh face, like former Texas Rep. Beto O\\'Rourke? How would he fair in a more crowded field, with fellow progressive icon Elizabeth Warren now another option for Democrats? Would his appeal wane without Clinton around to play his moderate foil? Could he expand his base beyond the diehards and ideologues, and actually turn out the tuned-out voters, so many young and working class, that so often go underrepresented on Election Day. The answers, to date, are either mixed or inconclusive. There are still nearly three months to go before the Iowa caucuses kick off a primary that is shaping up to be among the messiest in a generation. O\\'Rourke faded and dropped out of the race. But Warren is firmly entrenched among the frontrunners. Clinton\\'s shadow still lingers, for better or worse, and Biden offers a similar contrast, while South Bend, Indiana, Mayor Pete Buttigieg has emerged a formidable centrist foe. The Bernie base remains firmly in place. Whether he can grow it, and if he can, by how much, is open for debate. In the meantime, Sanders is taking on the most recent source of doubt, his health, with the kind of alternately droll and punchy sense of humor he is traditionally loathe to display in public. \"This is not a beauty contest,\" Sanders said of the primary during his first trip to Iowa after the heart attack, back in October. \"Which obviously I would win, I know that.\" A change of tone. During his brief convalescence at home in Burlington, Vermont, Sanders invited television cameras and reporters inside to answer more detailed questions about his health. But since the most recent primary debate in Ohio, and a rousing rally in New York with Ocasio-Cortez and other young progressive leaders, he\\'s taken a lighter tone. \"Brothers and sisters, I thank you so much for your support, but this is what I want to say. This comes from the bottom of my heart,\" Sanders said at a festive gathering in Detroit, where he was officially endorsed by Tlaib, before pausing for effect. As his smile widened, Sanders delivered the punchline: \"And by the way, my heart is doing just fine.\" Sanders has also injected some of those waggish asides into the sharper stretches of his stump speech. \"Today we tell Donald Trump,\" Sanders said, before stopping himself. \"What can we tell Donald Trump?,\" he asked, in mocking exasperation. \"See, if I use a profane word, I\\'ll get in trouble. All right, all right, he\\'s an idiot. You made me say it. But in this case, I\\'m going to tell the media you made me say it. It\\'s their fault.\" Some things do not change. Sanders\\' leadership team, as it did in 2016, operates in a near-constant state of vigilance when it comes to mainstream press coverage of his campaign. \"As we have said from the beginning, this is a campaign built to win and planning to win,\" campaign manager Faiz Shakir told CNN last month, as Sanders returned to the trail. \"We\\'ve been steadily and consistently executing our strategy, even while the media analysis of our campaign has been in disarray.\" But all is not status quo inside the Sanders campaign. During a recent visit to his campaign office in Washington, DC, Sanders sat and chatted with a group of lower-level staffers. When others began to migrate from across the room for a closer listen, a top aide recalled, Sanders decided to stick around a little longer and give a similar pep talk to those who missed out on the first round. The aide, who has been with the senator since 2016, acknowledged that a candidate. Sanders included, talking to his the staff was not out of the ordinary. But in the aftermath of Sanders\\' heart attack, the tone of those conversations has changed. \"There was a moment of time where his voice, his vision, his fight was taken away. And that was something that jarred people into realizing that there\\'s this amazing opportunity that we have to fight for the progressive future that we all want,\" the aide told CNN. That newfound ability to pull his devoted team closer should not be confused with a softening of the edges. Sanders the progressive pugilist welcomed news of billionaire former New York City Mayor Michael Bloomberg\\'s prospective run as one might expect: acidly. \"Oh, my goodness. How important, how monumental that he\\'s running for president,\" Sanders said, mimicking a credulous broadcaster, at Drake University. If a candidate with fewer resources entered the race, Sanders added, his voice turned down, \"nobody would give a damn.\" © 2019 Cable News Network. Turner Broadcasting System, Inc. All Rights Reserved. Listen to CNN (low-bandwidth usage). Go to the full CNN experience.'"
            ]
          },
          "metadata": {
            "tags": []
          },
          "execution_count": 6
        }
      ]
    },
    {
      "cell_type": "code",
      "metadata": {
        "id": "dXkwfJdqyt-W",
        "outputId": "58e15f39-ef09-4d59-a342-72db55dc7960",
        "colab": {
          "base_uri": "https://localhost:8080/"
        }
      },
      "source": [
        "#KEYWORD EXTRACTION\n",
        "from gensim.summarization import keywords\n",
        "key_words = keywords(doc, words=5, lemmatize=True, split=True) #SPLIT method to convert them into a list\n",
        "key_words"
      ],
      "execution_count": 7,
      "outputs": [
        {
          "output_type": "execute_result",
          "data": {
            "text/plain": [
              "['sanders', 'campaign', 'news', 'democrats', 'recent']"
            ]
          },
          "metadata": {
            "tags": []
          },
          "execution_count": 7
        }
      ]
    },
    {
      "cell_type": "code",
      "metadata": {
        "id": "Ek0uymjz4TK2"
      },
      "source": [
        "#keyphrase extraction:"
      ],
      "execution_count": 8,
      "outputs": []
    },
    {
      "cell_type": "code",
      "metadata": {
        "id": "I0SxC1XH7dq4"
      },
      "source": [
        "from rake_nltk import Rake\n",
        "r = Rake()\n",
        "r.extract_keywords_from_text(doc)\n",
        "key_phrases = r.get_ranked_phrases_with_scores()"
      ],
      "execution_count": 9,
      "outputs": []
    },
    {
      "cell_type": "code",
      "metadata": {
        "id": "ikyy2GgD7dtq",
        "outputId": "4a13e0d0-0cb8-40b3-8200-cc39b2803dba",
        "colab": {
          "base_uri": "https://localhost:8080/"
        }
      },
      "source": [
        "key_phrases"
      ],
      "execution_count": 10,
      "outputs": [
        {
          "output_type": "execute_result",
          "data": {
            "text/plain": [
              "[(64.35555555555555,\n",
              "  'win ,\" campaign manager faiz shakir told cnn last month'),\n",
              " (52.0, 'billionaire former new york city mayor michael bloomberg'),\n",
              " (33.0, 'former vice president joe biden came'),\n",
              " (24.83888888888889, 'tell donald trump ,\" sanders said'),\n",
              " (23.333333333333332, '© 2019 cable news network'),\n",
              " (23.0, 'one else touched double digits'),\n",
              " (21.17222222222222, 'beauty contest ,\" sanders said'),\n",
              " (21.0, 'appeal wane without clinton around'),\n",
              " (17.666666666666668, 'fellow progressive icon elizabeth warren'),\n",
              " (17.666666666666664, 'tell donald trump ?,\"'),\n",
              " (17.416666666666664, 'recent debate last month'),\n",
              " (16.333333333333332, 'like former texas rep'),\n",
              " (16.17222222222222, 'president ,\" sanders said'),\n",
              " (16.0, 'elected leader famously disinclined'),\n",
              " (16.0, 'arterial functions felt like'),\n",
              " (15.2, 'bernie sanders last week'),\n",
              " (15.0, 'increasingly influential leftist movement'),\n",
              " (14.95, 'sanders invited television cameras'),\n",
              " (13.666666666666666, 'working class coalition ready'),\n",
              " (13.642857142857142, 'feeling really good .\"'),\n",
              " (13.505555555555556, 'heart ,\" sanders said'),\n",
              " (13.333333333333334, 'progressive pugilist welcomed news'),\n",
              " (13.05, 'second democratic presidential campaign'),\n",
              " (13.0, 'bernie base remains firmly'),\n",
              " (12.633333333333333, 'aide told cnn'),\n",
              " (11.95, 'new hampshire showed sanders'),\n",
              " (11.833333333333334, 'still nearly three months'),\n",
              " (11.5, 'mayor pete buttigieg'),\n",
              " (10.75, 'last six weeks'),\n",
              " (10.722222222222221, 'pretty good ,\"'),\n",
              " (9.8, 'full cnn experience'),\n",
              " (9.5, 'shadow still lingers'),\n",
              " (9.5, 'got three arteries'),\n",
              " (9.45, 'sanders remains front'),\n",
              " (9.25, 'whose campaign slogan'),\n",
              " (9.0, 'turner broadcasting system'),\n",
              " (9.0, 'saturday climate summit'),\n",
              " (9.0, 'one might expect'),\n",
              " (9.0, 'one blocked artery'),\n",
              " (9.0, 'new poll results'),\n",
              " (9.0, 'formidable centrist foe'),\n",
              " (9.0, 'challenged hillary clinton'),\n",
              " (9.0, 'certain cinematic quality'),\n",
              " (9.0, 'bandwidth usage ).'),\n",
              " (9.0, '2020 bid amid'),\n",
              " (8.95, 'sanders wry assessment'),\n",
              " (8.95, 'sanders joked following'),\n",
              " (8.666666666666666, 'emerging top tier'),\n",
              " (8.5, 'young progressive leaders'),\n",
              " (8.5, 'status quo inside'),\n",
              " (8.5, 'similar pep talk'),\n",
              " (8.5, 'primary season approaches'),\n",
              " (8.5, 'new york'),\n",
              " (8.5, 'little bit different'),\n",
              " (8.5, 'firmly entrenched among'),\n",
              " (8.5, 'fewer resources entered'),\n",
              " (8.3, 'current democratic primary'),\n",
              " (8.0, 'top aide recalled'),\n",
              " (8.0, 'often go underrepresented'),\n",
              " (8.0, 'mainstream press coverage'),\n",
              " (8.0, 'iowa caucuses kick'),\n",
              " (8.0, 'devoted team closer'),\n",
              " (7.8, 'democratic socialist vision'),\n",
              " (7.666666666666666, 'recent primary debate'),\n",
              " (7.0, 'nobody would give'),\n",
              " (6.5, 'senator since 2016'),\n",
              " (6.5, 'new hampshire'),\n",
              " (6.333333333333333, 'would win'),\n",
              " (6.3, 'cnn poll'),\n",
              " (6.2, 'sanders campaign'),\n",
              " (6.166666666666666, 'elizabeth warren'),\n",
              " (6.0, 'biden offers'),\n",
              " (5.888888888888889, 'us ,\"'),\n",
              " (5.722222222222222, 'want ,\"'),\n",
              " (5.722222222222222, 'back ,\"'),\n",
              " (5.666666666666666, 'working class'),\n",
              " (5.5, 'progressive future'),\n",
              " (5.5, 'new round'),\n",
              " (5.45, 'sanders entered'),\n",
              " (5.25, 'campaign puts'),\n",
              " (5.25, 'campaign office'),\n",
              " (5.25, 'campaign built'),\n",
              " (5.142857142857142, 'movement .\"'),\n",
              " (5.0, 'world around'),\n",
              " (5.0, 'stick around'),\n",
              " (5.0, 'base beyond'),\n",
              " (4.95, 'sanders sat'),\n",
              " (4.95, 'sanders returned'),\n",
              " (4.95, 'sanders included'),\n",
              " (4.95, 'sanders delivered'),\n",
              " (4.95, 'sanders decided'),\n",
              " (4.95, 'sanders began'),\n",
              " (4.95, 'sanders added'),\n",
              " (4.8, 'democratic nomination'),\n",
              " (4.666666666666667, 'presidential race'),\n",
              " (4.666666666666666, 'top position'),\n",
              " (4.5, 'two weeks'),\n",
              " (4.5, 'similar contrast'),\n",
              " (4.5, 'reporters inside'),\n",
              " (4.5, 'recent visit'),\n",
              " (4.5, 'recent surveys'),\n",
              " (4.5, 'recent source'),\n",
              " (4.5, 'recent rallies'),\n",
              " (4.5, 'leadership team'),\n",
              " (4.333333333333334, 'nearly sidelined'),\n",
              " (4.333333333333334, 'members rep'),\n",
              " (4.333333333333334, 'heart attack'),\n",
              " (4.333333333333333, 'win'),\n",
              " (4.3, 'democratic voters'),\n",
              " (4.166666666666666, 'working right'),\n",
              " (4.142857142857142, 'fine .\"'),\n",
              " (4.142857142857142, 'fault .\"'),\n",
              " (4.142857142857142, 'disarray .\"'),\n",
              " (4.142857142857142, 'damn .\"'),\n",
              " (4.0, 'white house'),\n",
              " (4.0, 'waggish asides'),\n",
              " (4.0, 'vermont senator'),\n",
              " (4.0, 'trying summer'),\n",
              " (4.0, 'traditionally loathe'),\n",
              " (4.0, 'stump speech'),\n",
              " (4.0, 'statistical error'),\n",
              " (4.0, 'south bend'),\n",
              " (4.0, 'smile widened'),\n",
              " (4.0, 'sharper stretches'),\n",
              " (4.0, 'said'),\n",
              " (4.0, 'rights reserved'),\n",
              " (4.0, 'remarkable revival'),\n",
              " (4.0, 'relative whisper'),\n",
              " (4.0, 'range jumpers'),\n",
              " (4.0, 'racially diverse'),\n",
              " (4.0, 'profane word'),\n",
              " (4.0, 'practicing mid'),\n",
              " (4.0, 'placed fourth'),\n",
              " (4.0, 'others began'),\n",
              " (4.0, 'officially endorsed'),\n",
              " (4.0, 'newfound ability'),\n",
              " (4.0, 'narrow lead'),\n",
              " (4.0, 'moderate foil'),\n",
              " (4.0, 'mocking exasperation'),\n",
              " (4.0, 'massive crowds'),\n",
              " (4.0, 'many young'),\n",
              " (4.0, 'little longer'),\n",
              " (4.0, 'level staffers'),\n",
              " (4.0, 'las vegas'),\n",
              " (4.0, 'jarred people'),\n",
              " (4.0, 'iowa show'),\n",
              " (4.0, 'iowa hustings'),\n",
              " (4.0, 'invigorating endorsements'),\n",
              " (4.0, 'inner life'),\n",
              " (4.0, 'ilhan omar'),\n",
              " (4.0, 'harrowing questions'),\n",
              " (4.0, 'gaining steam'),\n",
              " (4.0, 'fresh face'),\n",
              " (4.0, 'four decades'),\n",
              " (4.0, 'first trip'),\n",
              " (4.0, 'first round'),\n",
              " (4.0, 'first night'),\n",
              " (4.0, 'festive gathering'),\n",
              " (4.0, 'expectations surrounding'),\n",
              " (4.0, 'election day'),\n",
              " (4.0, 'either mixed'),\n",
              " (4.0, 'drake university'),\n",
              " (4.0, 'detailed questions'),\n",
              " (4.0, 'des moines'),\n",
              " (4.0, 'crowded field'),\n",
              " (4.0, 'credulous broadcaster'),\n",
              " (4.0, 'council bluffs'),\n",
              " (4.0, 'constant state'),\n",
              " (4.0, 'consistently executing'),\n",
              " (4.0, 'closer listen'),\n",
              " (4.0, 'brief convalescence'),\n",
              " (4.0, 'blunt call'),\n",
              " (4.0, 'basketball court'),\n",
              " (4.0, 'another option'),\n",
              " (4.0, 'amazing opportunity'),\n",
              " (4.0, 'alternately droll'),\n",
              " (4.0, 'actually turn'),\n",
              " (4.0, '2016 fled'),\n",
              " (4.0, '18 %.'),\n",
              " (4.0, '15 %,'),\n",
              " (4.0, '10 %.'),\n",
              " (3.8, 'cnn'),\n",
              " (3.666666666666667, 'us \",'),\n",
              " (3.6666666666666665, 'tell'),\n",
              " (3.5, 'voice turned'),\n",
              " (3.5, 'unapologetic case'),\n",
              " (3.5, 'taken away'),\n",
              " (3.5, 'steadily attracting'),\n",
              " (3.5, 'saying much'),\n",
              " (3.5, 'rousing rally'),\n",
              " (3.5, 'rourke faded'),\n",
              " (3.5, 'rashida tlaib'),\n",
              " (3.5, 'punchy sense'),\n",
              " (3.5, 'prospective run'),\n",
              " (3.5, 'political revolution'),\n",
              " (3.5, 'mostly within'),\n",
              " (3.5, 'media analysis'),\n",
              " (3.5, 'lighter tone'),\n",
              " (3.5, 'group jockeying'),\n",
              " (3.5, 'durable candidate'),\n",
              " (3.5, 'cortez capped'),\n",
              " (3.5, 'better party'),\n",
              " (3.5, 'also injected'),\n",
              " (3.5, 'alexandria ocasio'),\n",
              " (3.3333333333333335, 'news'),\n",
              " (3.25, 'campaign'),\n",
              " (3.166666666666667, 'race happen'),\n",
              " (3.0, 'one'),\n",
              " (3.0, 'fellow'),\n",
              " (3.0, 'clinton'),\n",
              " (3.0, 'bernie'),\n",
              " (2.95, 'sanders'),\n",
              " (2.6666666666666665, 'warren'),\n",
              " (2.6666666666666665, 'debate'),\n",
              " (2.5, 'welcomed'),\n",
              " (2.5, 'showed'),\n",
              " (2.5, 'primary'),\n",
              " (2.5, 'months'),\n",
              " (2.3333333333333335, 'rep'),\n",
              " (2.3333333333333335, 'nearly'),\n",
              " (2.3333333333333335, 'heart'),\n",
              " (2.3333333333333335, 'aide'),\n",
              " (2.142857142857143, '.\"'),\n",
              " (2.0, 'young'),\n",
              " (2.0, 'would'),\n",
              " (2.0, 'vision'),\n",
              " (2.0, 'since'),\n",
              " (2.0, 'press'),\n",
              " (2.0, 'iowa'),\n",
              " (2.0, 'go'),\n",
              " (2.0, 'give'),\n",
              " (2.0, 'among'),\n",
              " (2.0, '2016'),\n",
              " (1.6666666666666667, 'us'),\n",
              " (1.6666666666666667, 'race'),\n",
              " (1.5, 'within'),\n",
              " (1.5, 'want'),\n",
              " (1.5, 'voters'),\n",
              " (1.5, 'voice'),\n",
              " (1.5, 'vermont'),\n",
              " (1.5, 'tone'),\n",
              " (1.5, 'tlaib'),\n",
              " (1.5, 'taken'),\n",
              " (1.5, 'steadily'),\n",
              " (1.5, 'sense'),\n",
              " (1.5, 'run'),\n",
              " (1.5, 'rourke'),\n",
              " (1.5, 'right'),\n",
              " (1.5, 'revolution'),\n",
              " (1.5, 'rally'),\n",
              " (1.5, 'ocasio'),\n",
              " (1.5, 'much'),\n",
              " (1.5, 'media'),\n",
              " (1.5, 'longer'),\n",
              " (1.5, 'listen'),\n",
              " (1.5, 'happen'),\n",
              " (1.5, 'group'),\n",
              " (1.5, 'cortez'),\n",
              " (1.5, 'case'),\n",
              " (1.5, 'candidate'),\n",
              " (1.5, 'better'),\n",
              " (1.5, 'back'),\n",
              " (1.5, 'also'),\n",
              " (1.0, 'yet'),\n",
              " (1.0, 'worse'),\n",
              " (1.0, 'whether'),\n",
              " (1.0, 'way'),\n",
              " (1.0, 'watch'),\n",
              " (1.0, 'washington'),\n",
              " (1.0, 'vigilance'),\n",
              " (1.0, 'view'),\n",
              " (1.0, 'vaulted'),\n",
              " (1.0, 'use'),\n",
              " (1.0, 'underdog'),\n",
              " (1.0, 'tuned'),\n",
              " (1.0, 'trouble'),\n",
              " (1.0, 'trail'),\n",
              " (1.0, 'today'),\n",
              " (1.0, 'time'),\n",
              " (1.0, 'things'),\n",
              " (1.0, 'thank'),\n",
              " (1.0, 'talking'),\n",
              " (1.0, 'taking'),\n",
              " (1.0, 'supporters'),\n",
              " (1.0, 'support'),\n",
              " (1.0, 'strategy'),\n",
              " (1.0, 'stopping'),\n",
              " (1.0, 'stents'),\n",
              " (1.0, 'staff'),\n",
              " (1.0, 'squad'),\n",
              " (1.0, 'something'),\n",
              " (1.0, 'softening'),\n",
              " (1.0, 'sisters'),\n",
              " (1.0, 'shaping'),\n",
              " (1.0, 'sen'),\n",
              " (1.0, 'seen'),\n",
              " (1.0, 'seems'),\n",
              " (1.0, 'see'),\n",
              " (1.0, 'say'),\n",
              " (1.0, 'running'),\n",
              " (1.0, 'room'),\n",
              " (1.0, 'return'),\n",
              " (1.0, 'realizing'),\n",
              " (1.0, 'pushed'),\n",
              " (1.0, 'punchline'),\n",
              " (1.0, 'pull'),\n",
              " (1.0, 'public'),\n",
              " (1.0, 'practice'),\n",
              " (1.0, 'powered'),\n",
              " (1.0, 'politics'),\n",
              " (1.0, 'play'),\n",
              " (1.0, 'planning'),\n",
              " (1.0, 'place'),\n",
              " (1.0, 'person'),\n",
              " (1.0, 'pausing'),\n",
              " (1.0, 'part'),\n",
              " (1.0, 'ordinary'),\n",
              " (1.0, 'operates'),\n",
              " (1.0, 'open'),\n",
              " (1.0, 'ohio'),\n",
              " (1.0, 'oh'),\n",
              " (1.0, 'october'),\n",
              " (1.0, 'obviously'),\n",
              " (1.0, 'near'),\n",
              " (1.0, 'movie'),\n",
              " (1.0, 'monumental'),\n",
              " (1.0, 'moment'),\n",
              " (1.0, 'missed'),\n",
              " (1.0, 'minnesota'),\n",
              " (1.0, 'mind'),\n",
              " (1.0, 'mimicking'),\n",
              " (1.0, 'migrate'),\n",
              " (1.0, 'messiest'),\n",
              " (1.0, 'message'),\n",
              " (1.0, 'meantime'),\n",
              " (1.0, 'margin'),\n",
              " (1.0, 'march'),\n",
              " (1.0, 'making'),\n",
              " (1.0, 'make'),\n",
              " (1.0, 'made'),\n",
              " (1.0, 'lower'),\n",
              " (1.0, 'low'),\n",
              " (1.0, 'lost'),\n",
              " (1.0, 'let'),\n",
              " (1.0, 'largest'),\n",
              " (1.0, 'know'),\n",
              " (1.0, 'kind'),\n",
              " (1.0, 'indiana'),\n",
              " (1.0, 'inconclusive'),\n",
              " (1.0, 'inc'),\n",
              " (1.0, 'important'),\n",
              " (1.0, 'idiot'),\n",
              " (1.0, 'ideologues'),\n",
              " (1.0, 'humor'),\n",
              " (1.0, 'home'),\n",
              " (1.0, 'health'),\n",
              " (1.0, 'grow'),\n",
              " (1.0, 'goodness'),\n",
              " (1.0, 'going'),\n",
              " (1.0, 'get'),\n",
              " (1.0, 'generation'),\n",
              " (1.0, 'fueled'),\n",
              " (1.0, 'frontrunners'),\n",
              " (1.0, 'freed'),\n",
              " (1.0, 'finally'),\n",
              " (1.0, 'fight'),\n",
              " (1.0, 'february'),\n",
              " (1.0, 'fair'),\n",
              " (1.0, 'expand'),\n",
              " (1.0, 'even'),\n",
              " (1.0, 'emerged'),\n",
              " (1.0, 'embrace'),\n",
              " (1.0, 'effect'),\n",
              " (1.0, 'edges'),\n",
              " (1.0, 'dropped'),\n",
              " (1.0, 'doubt'),\n",
              " (1.0, 'display'),\n",
              " (1.0, 'discuss'),\n",
              " (1.0, 'diehards'),\n",
              " (1.0, 'detroit'),\n",
              " (1.0, 'democrats'),\n",
              " (1.0, 'debut'),\n",
              " (1.0, 'deadpanned'),\n",
              " (1.0, 'dc'),\n",
              " (1.0, 'date'),\n",
              " (1.0, 'criticism'),\n",
              " (1.0, 'covered'),\n",
              " (1.0, 'country'),\n",
              " (1.0, 'could'),\n",
              " (1.0, 'conversations'),\n",
              " (1.0, 'confused'),\n",
              " (1.0, 'comment'),\n",
              " (1.0, 'comes'),\n",
              " (1.0, 'clear'),\n",
              " (1.0, 'chatted'),\n",
              " (1.0, 'charted'),\n",
              " (1.0, 'changed'),\n",
              " (1.0, 'change'),\n",
              " (1.0, 'championed'),\n",
              " (1.0, 'century'),\n",
              " (1.0, 'center'),\n",
              " (1.0, 'candidates'),\n",
              " (1.0, 'burlington'),\n",
              " (1.0, 'brothers'),\n",
              " (1.0, 'broke'),\n",
              " (1.0, 'bottom'),\n",
              " (1.0, 'bolstered'),\n",
              " (1.0, 'beto'),\n",
              " (1.0, 'beginning'),\n",
              " (1.0, 'backing'),\n",
              " (1.0, 'asked'),\n",
              " (1.0, 'argument'),\n",
              " (1.0, 'answers'),\n",
              " (1.0, 'answer'),\n",
              " (1.0, 'along'),\n",
              " (1.0, 'allow'),\n",
              " (1.0, 'aftermath'),\n",
              " (1.0, 'action'),\n",
              " (1.0, 'across'),\n",
              " (1.0, 'acknowledged'),\n",
              " (1.0, 'acidly'),\n",
              " (1.0, '21')]"
            ]
          },
          "metadata": {
            "tags": []
          },
          "execution_count": 10
        }
      ]
    },
    {
      "cell_type": "code",
      "metadata": {
        "id": "5gT2NQvw7dwV"
      },
      "source": [
        "# NAMED ENTITY RECOGNITION"
      ],
      "execution_count": 11,
      "outputs": []
    },
    {
      "cell_type": "code",
      "metadata": {
        "id": "NwOCIxeWEV3s"
      },
      "source": [
        "#!python -m spacy download en_core_web_sm"
      ],
      "execution_count": 12,
      "outputs": []
    },
    {
      "cell_type": "code",
      "metadata": {
        "id": "_i5MsEbF7d1o",
        "outputId": "aa45b2bf-5a4c-43da-f199-dc727f6124a5",
        "colab": {
          "base_uri": "https://localhost:8080/"
        }
      },
      "source": [
        "import spacy\n",
        "nlp = spacy.load('en_core_web_sm')\n",
        "spacy_doc = nlp(doc)\n",
        "type(spacy_doc)"
      ],
      "execution_count": 13,
      "outputs": [
        {
          "output_type": "execute_result",
          "data": {
            "text/plain": [
              "spacy.tokens.doc.Doc"
            ]
          },
          "metadata": {
            "tags": []
          },
          "execution_count": 13
        }
      ]
    },
    {
      "cell_type": "code",
      "metadata": {
        "id": "tUbLiUkE7d4e"
      },
      "source": [
        "#entitles = [[entity.text, entity.label_] for entity in spacy_doc.ents]\n",
        "#entitles\n",
        "\n",
        "#same thing as below but shorter"
      ],
      "execution_count": 14,
      "outputs": []
    },
    {
      "cell_type": "code",
      "metadata": {
        "id": "4AIgOY4d7d7e",
        "outputId": "de5d736f-6977-4199-b061-0e00bfce626e",
        "colab": {
          "base_uri": "https://localhost:8080/"
        }
      },
      "source": [
        "for sent in spacy_doc.sents:\n",
        "  print(sent)\n",
        "  print('---------------------------')"
      ],
      "execution_count": 15,
      "outputs": [
        {
          "output_type": "stream",
          "text": [
            "Des Moines, Iowa (CNN) -\n",
            "---------------------------\n",
            "Rep. Alexandria Ocasio-Cortez capped her debut on the Iowa hustings in support of Bernie Sanders last week with a blunt call to action.\n",
            "---------------------------\n",
            "\"This is not about something that we allow to happen to us.\n",
            "---------------------------\n",
            "We don't let this race happen to us,\" she said at a rally for the Vermont senator in Council Bluffs.\n",
            "---------------------------\n",
            "\"We don't watch the presidential race.\n",
            "---------------------------\n",
            "This is not a movie, this a movement.\"\n",
            "---------------------------\n",
            "And yet, there has been a certain cinematic quality to the last six weeks of Sanders' second Democratic presidential campaign.\n",
            "---------------------------\n",
            "Nearly sidelined, or worse, by a heart attack in Las Vegas on the first night of October, Sanders has charted a remarkable revival.\n",
            "---------------------------\n",
            "It's been powered by a run of invigorating endorsements, new poll results that showed him gaining steam in New Hampshire and Iowa, and the sense, fueled in part by the massive crowds that welcomed him during recent rallies in New York and Minnesota, that his \"political revolution\" was, after a trying summer, back on the march.\n",
            "---------------------------\n",
            "There are also, as Sanders joked following his Saturday climate summit in Des Moines, the stents to thank.\n",
            "---------------------------\n",
            "\"I've got three arteries that are working right now, that's pretty good,\" he deadpanned, while practicing mid-range jumpers on a basketball court at Drake University.\n",
            "---------------------------\n",
            "\"Better than one blocked artery, so I'm feeling really good.\"\n",
            "---------------------------\n",
            "His supporters and staff are saying much of the same.\n",
            "---------------------------\n",
            "The backing of Ocasio-Cortez, along with fellow \"squad\" members Rep. Ilhan Omar and Rep. Rashida Tlaib, news of which broke before and during the most recent debate last month in Ohio, bolstered an argument that Sanders has been making for months, that his campaign is steadily attracting a racially diverse, young and working class coalition ready to make an unapologetic case for his democratic socialist vision.\n",
            "---------------------------\n",
            "Democratic voters, too, have made it clear that Sanders remains front of mind as the primary season approaches.\n",
            "---------------------------\n",
            "About two weeks after the debate, a CNN poll of Democrats in New Hampshire showed Sanders with a narrow lead over the emerging top tier of candidates, with 21% to Sen. Elizabeth Warren's 18%.\n",
            "---------------------------\n",
            "Former Vice President Joe Biden came in at 15%, and South Bend, Indiana, Mayor Pete Buttigieg, placed fourth with 10%.\n",
            "---------------------------\n",
            "No one else touched double digits.\n",
            "---------------------------\n",
            "Recent surveys of Democrats in Iowa show the same group jockeying, mostly within the margin of statistical error, for the top position.\n",
            "---------------------------\n",
            "A durable candidate.\n",
            "---------------------------\n",
            "For an elected leader famously disinclined to discuss his own inner life, and whose campaign slogan, \"Not me, us\", is both a comment on his view of politics and a criticism of how its practice is covered by the press, Sanders wry assessment of his arterial functions felt like a revolution in its own right.\n",
            "---------------------------\n",
            "\"\n",
            "---------------------------\n",
            "Bernie's back,\" as his campaign puts it, but the person at the center of it all seems just a little bit different.\n",
            "---------------------------\n",
            "As if he's been freed, finally, to return the embrace of an increasingly influential leftist movement, the largest the country has seen in nearly a century, that has vaulted him to within a relative whisper of the White House.\n",
            "---------------------------\n",
            "Sanders entered the current Democratic primary in February with the same message he has championed for the better party of four decades.\n",
            "---------------------------\n",
            "It's one that he pushed in 2016, when he challenged Hillary Clinton for the Democratic nomination and lost.\n",
            "---------------------------\n",
            "This time, the world around him had changed, and so too had the expectations surrounding his campaign.\n",
            "---------------------------\n",
            "No longer an underdog, Sanders began his 2020 bid amid a new round of harrowing questions.\n",
            "---------------------------\n",
            "What if his supporters in 2016 fled for a fresh face, like former Texas Rep. Beto O'Rourke?\n",
            "---------------------------\n",
            "How would he fair in a more crowded field, with fellow progressive icon Elizabeth Warren now another option for Democrats?\n",
            "---------------------------\n",
            "Would his appeal wane without Clinton around to play his moderate foil?\n",
            "---------------------------\n",
            "Could he expand his base beyond the diehards and ideologues, and actually turn out the tuned-out voters, so many young and working class, that so often go underrepresented on Election Day.\n",
            "---------------------------\n",
            "The answers, to date, are either mixed or inconclusive.\n",
            "---------------------------\n",
            "There are still nearly three months to go before the Iowa caucuses kick off a primary that is shaping up to be among the messiest in a generation.\n",
            "---------------------------\n",
            "O'Rourke faded and dropped out of the race.\n",
            "---------------------------\n",
            "But Warren is firmly entrenched among the frontrunners.\n",
            "---------------------------\n",
            "Clinton's shadow still lingers, for better or worse, and Biden offers a similar contrast, while South Bend, Indiana, Mayor Pete Buttigieg has emerged a formidable centrist foe.\n",
            "---------------------------\n",
            "The Bernie base remains firmly in place.\n",
            "---------------------------\n",
            "Whether he can grow it, and if he can, by how much, is open for debate.\n",
            "---------------------------\n",
            "In the meantime, Sanders is taking on the most recent source of doubt, his health, with the kind of alternately droll and punchy sense of humor he is traditionally loathe to display in public.\n",
            "---------------------------\n",
            "\"This is not a beauty contest,\" Sanders said of the primary during his first trip to Iowa after the heart attack, back in October.\n",
            "---------------------------\n",
            "\"Which obviously I would win, I know that.\"\n",
            "---------------------------\n",
            "A change of tone.\n",
            "---------------------------\n",
            "During his brief convalescence at home in Burlington, Vermont, Sanders invited television cameras and reporters inside to answer more detailed questions about his health.\n",
            "---------------------------\n",
            "But since the most recent primary debate in Ohio, and a rousing rally in New York with Ocasio-Cortez and other young progressive leaders, he's taken a lighter tone.\n",
            "---------------------------\n",
            "\"\n",
            "---------------------------\n",
            "Brothers and sisters, I thank you so much for your support, but this is what I want to say.\n",
            "---------------------------\n",
            "This comes from the bottom of my heart,\" Sanders said at a festive gathering in Detroit, where he was officially endorsed by Tlaib, before pausing for effect.\n",
            "---------------------------\n",
            "As his smile widened, Sanders delivered the punchline: \"And by the way, my heart is doing just fine.\n",
            "---------------------------\n",
            "\" Sanders has also injected some of those waggish asides into the sharper stretches of his stump speech. \"\n",
            "---------------------------\n",
            "Today we tell Donald Trump,\" Sanders said, before stopping himself.\n",
            "---------------------------\n",
            "\"What can we tell Donald Trump?,\" he asked, in mocking exasperation.\n",
            "---------------------------\n",
            "\"See, if I use a profane word, I'll get in trouble.\n",
            "---------------------------\n",
            "All right, all right, he's an idiot.\n",
            "---------------------------\n",
            "You made me say it.\n",
            "---------------------------\n",
            "But in this case, I'm going to tell the media you made me say it.\n",
            "---------------------------\n",
            "It's their fault.\n",
            "---------------------------\n",
            "\" Some things do not change.\n",
            "---------------------------\n",
            "Sanders' leadership team, as it did in 2016, operates in a near-constant state of vigilance when it comes to mainstream press coverage of his campaign.\n",
            "---------------------------\n",
            "\"As we have said from the beginning, this is a campaign built to win and planning to win,\" campaign manager Faiz Shakir told CNN last month, as Sanders returned to the trail.\n",
            "---------------------------\n",
            "\"We've been steadily and consistently executing our strategy, even while the media analysis of our campaign has been in disarray.\"\n",
            "---------------------------\n",
            "But all is not status quo inside the Sanders campaign.\n",
            "---------------------------\n",
            "During a recent visit to his campaign office in Washington, DC, Sanders sat and chatted with a group of lower-level staffers.\n",
            "---------------------------\n",
            "When others began to migrate from across the room for a closer listen, a top aide recalled, Sanders decided to stick around a little longer and give a similar pep talk to those who missed out on the first round.\n",
            "---------------------------\n",
            "The aide, who has been with the senator since 2016, acknowledged that a candidate.\n",
            "---------------------------\n",
            "Sanders included, talking to his the staff was not out of the ordinary.\n",
            "---------------------------\n",
            "But in the aftermath of Sanders' heart attack, the tone of those conversations has changed.\n",
            "---------------------------\n",
            "\"There was a moment of time where his voice, his vision, his fight was taken away.\n",
            "---------------------------\n",
            "And that was something that jarred people into realizing that there's this amazing opportunity that we have to fight for the progressive future that we all want,\" the aide told CNN.\n",
            "---------------------------\n",
            "That newfound ability to pull his devoted team closer should not be confused with a softening of the edges.\n",
            "---------------------------\n",
            "Sanders the progressive pugilist welcomed news of billionaire former New York City Mayor Michael Bloomberg's prospective run as one might expect: acidly.\n",
            "---------------------------\n",
            "\"Oh, my goodness.\n",
            "---------------------------\n",
            "How important, how monumental that he's running for president,\" Sanders said, mimicking a credulous broadcaster, at Drake University.\n",
            "---------------------------\n",
            "If a candidate with fewer resources entered the race, Sanders added, his voice turned down, \"nobody would give a damn.\"\n",
            "---------------------------\n",
            "© 2019 Cable News Network.\n",
            "---------------------------\n",
            "Turner Broadcasting System,\n",
            "---------------------------\n",
            "Inc. All Rights Reserved.\n",
            "---------------------------\n",
            "Listen to CNN (low-bandwidth usage).\n",
            "---------------------------\n",
            "Go to the full CNN experience.\n",
            "---------------------------\n"
          ],
          "name": "stdout"
        }
      ]
    },
    {
      "cell_type": "code",
      "metadata": {
        "id": "TiP0aOCK7d-e",
        "outputId": "9e8dd93a-35d3-4599-e7bc-149e973f8acd",
        "colab": {
          "base_uri": "https://localhost:8080/"
        }
      },
      "source": [
        "for entity in spacy_doc.ents:\n",
        "  print(entity)\n",
        "\n",
        "#extracting only the entity"
      ],
      "execution_count": 16,
      "outputs": [
        {
          "output_type": "stream",
          "text": [
            "Des Moines\n",
            "Iowa\n",
            "CNN\n",
            "Alexandria Ocasio-Cortez\n",
            "Iowa\n",
            "Bernie Sanders\n",
            "last week\n",
            "Vermont\n",
            "Council Bluffs\n",
            "the last six weeks\n",
            "Sanders\n",
            "second\n",
            "Democratic\n",
            "Las Vegas\n",
            "the first night of October\n",
            "Sanders\n",
            "New Hampshire\n",
            "Iowa\n",
            "New York\n",
            "Minnesota\n",
            "a trying summer\n",
            "march\n",
            "Sanders\n",
            "Saturday\n",
            "Des Moines\n",
            "three\n",
            "Drake University\n",
            "one\n",
            "Ocasio-Cortez\n",
            "Ilhan Omar\n",
            "Rashida Tlaib\n",
            "last month\n",
            "Ohio\n",
            "Sanders\n",
            "months\n",
            "Democratic\n",
            "Sanders\n",
            "About two weeks\n",
            "CNN\n",
            "Democrats\n",
            "New Hampshire\n",
            "21%\n",
            "Elizabeth Warren's\n",
            "18%\n",
            "Joe Biden\n",
            "15%\n",
            "South Bend\n",
            "Indiana\n",
            "Pete Buttigieg\n",
            "fourth\n",
            "10%\n",
            "Democrats\n",
            "Iowa\n",
            "Bernie\n",
            "nearly a century\n",
            "the White House\n",
            "Democratic\n",
            "February\n",
            "the better party of\n",
            "four decades\n",
            "2016\n",
            "Hillary Clinton\n",
            "Democratic\n",
            "Sanders\n",
            "2020\n",
            "2016\n",
            "Texas\n",
            "Beto O'Rourke\n",
            "Elizabeth Warren\n",
            "Democrats\n",
            "Clinton\n",
            "Election Day\n",
            "nearly three months\n",
            "Iowa\n",
            "O'Rourke\n",
            "Warren\n",
            "Clinton\n",
            "Biden\n",
            "South Bend\n",
            "Indiana\n",
            "Pete Buttigieg\n",
            "Bernie\n",
            "Sanders\n",
            "first\n",
            "Iowa\n",
            "October\n",
            "Burlington\n",
            "Vermont\n",
            "Sanders\n",
            "Ohio\n",
            "New York\n",
            "Ocasio-Cortez\n",
            "Sanders\n",
            "Detroit\n",
            "Tlaib\n",
            "Sanders\n",
            "Donald Trump\n",
            "Sanders\n",
            "Donald Trump\n",
            "2016\n",
            "Faiz Shakir\n",
            "CNN\n",
            "last month\n",
            "Sanders\n",
            "Sanders\n",
            "Washington, DC\n",
            "Sanders\n",
            "first\n",
            "2016\n",
            "Sanders\n",
            "CNN\n",
            "New York City\n",
            "Michael Bloomberg\n",
            "Sanders\n",
            "Drake University\n",
            "Sanders\n",
            "2019\n",
            "Cable News Network\n",
            "Turner Broadcasting System,\n",
            "CNN\n",
            "CNN\n"
          ],
          "name": "stdout"
        }
      ]
    },
    {
      "cell_type": "code",
      "metadata": {
        "id": "XODB2vId7eBX"
      },
      "source": [
        "#VISUALIZING NAME ENTITIES"
      ],
      "execution_count": 17,
      "outputs": []
    },
    {
      "cell_type": "code",
      "metadata": {
        "id": "f0DbLE7z7eEh",
        "outputId": "dff00812-72dc-4ad6-ae3f-767abd68ebcd",
        "colab": {
          "base_uri": "https://localhost:8080/"
        }
      },
      "source": [
        "from spacy import displacy\n",
        "displacy.serve(spacy_doc, style='ent')"
      ],
      "execution_count": null,
      "outputs": [
        {
          "output_type": "stream",
          "text": [
            "\n",
            "Using the 'ent' visualizer\n",
            "Serving on http://0.0.0.0:5000 ...\n",
            "\n"
          ],
          "name": "stdout"
        }
      ]
    },
    {
      "cell_type": "code",
      "metadata": {
        "id": "NdtMzeem7eH_"
      },
      "source": [
        "#NAMES ENTITY RECOGNITION CHALLENGES"
      ],
      "execution_count": null,
      "outputs": []
    },
    {
      "cell_type": "code",
      "metadata": {
        "id": "jhKvX9uj7eK-"
      },
      "source": [
        "#America, USA, United States of America, United States. "
      ],
      "execution_count": null,
      "outputs": []
    },
    {
      "cell_type": "code",
      "metadata": {
        "id": "Gi4w6Zy47eOC"
      },
      "source": [
        ""
      ],
      "execution_count": null,
      "outputs": []
    },
    {
      "cell_type": "code",
      "metadata": {
        "id": "FOwDWOh17eRe"
      },
      "source": [
        "#RELATIONSHIP EXTRACTION"
      ],
      "execution_count": null,
      "outputs": []
    },
    {
      "cell_type": "code",
      "metadata": {
        "id": "X4uOS2AS7eU7"
      },
      "source": [
        "#SVO = subject - verb - object: baseball player hit the ball = player hit ball."
      ],
      "execution_count": null,
      "outputs": []
    },
    {
      "cell_type": "code",
      "metadata": {
        "id": "d_8pKQiTMly8"
      },
      "source": [
        "#[1, 2, 3] + [4, 5, 6]"
      ],
      "execution_count": null,
      "outputs": []
    },
    {
      "cell_type": "code",
      "metadata": {
        "id": "6IpRCE1b7eax"
      },
      "source": [
        "import textacy\n",
        "results = []\n",
        "\n",
        "for sent in spacy_doc.sents:\n",
        "  svo = textacy.extract.subject_verb_object_triples(sent)\n",
        "  results +=svo\n",
        "  results"
      ],
      "execution_count": null,
      "outputs": []
    }
  ]
}