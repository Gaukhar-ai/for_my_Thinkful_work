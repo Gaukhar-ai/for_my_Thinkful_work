{
  "nbformat": 4,
  "nbformat_minor": 0,
  "metadata": {
    "colab": {
      "name": "bs4,webscraping.price.title.books.df.api.key.path.ipynb",
      "provenance": [],
      "authorship_tag": "ABX9TyPObrzUGnvME6qJ99EKjevx",
      "include_colab_link": true
    },
    "kernelspec": {
      "name": "python3",
      "display_name": "Python 3"
    }
  },
  "cells": [
    {
      "cell_type": "markdown",
      "metadata": {
        "id": "view-in-github",
        "colab_type": "text"
      },
      "source": [
        "<a href=\"https://colab.research.google.com/github/Gaukhar-ai/for_my_Thinkful_work/blob/master/bs4%2Cwebscraping_price_title_books_df_api_key_path.ipynb\" target=\"_parent\"><img src=\"https://colab.research.google.com/assets/colab-badge.svg\" alt=\"Open In Colab\"/></a>"
      ]
    },
    {
      "cell_type": "code",
      "metadata": {
        "id": "l9y4FxqVe2s7"
      },
      "source": [
        "import requests\n",
        "\n",
        "url = 'http://quotes.toscrape.com/'\n",
        "response = requests.get(url)\n",
        "content = response.text #response.html"
      ],
      "execution_count": 52,
      "outputs": []
    },
    {
      "cell_type": "code",
      "metadata": {
        "id": "z0np1RPxe8as",
        "outputId": "2fe6966c-e4ee-425c-f460-ec4815a984e9",
        "colab": {
          "base_uri": "https://localhost:8080/"
        }
      },
      "source": [
        "from bs4 import BeautifulSoup\n",
        "\n",
        "soup = BeautifulSoup(content, 'lxml') #html.parser or lxml\n",
        "type(soup)\n",
        "#or just soup"
      ],
      "execution_count": 53,
      "outputs": [
        {
          "output_type": "execute_result",
          "data": {
            "text/plain": [
              "bs4.BeautifulSoup"
            ]
          },
          "metadata": {
            "tags": []
          },
          "execution_count": 53
        }
      ]
    },
    {
      "cell_type": "code",
      "metadata": {
        "id": "K9eK6tDGfBHY",
        "outputId": "3c7859b3-a4ba-475e-d443-2df10347fc44",
        "colab": {
          "base_uri": "https://localhost:8080/",
          "height": 35
        }
      },
      "source": [
        "#obtains the first instance of span element with class='text'\n",
        "soup.find('span', {'class':'text'}).text #get_text()"
      ],
      "execution_count": 54,
      "outputs": [
        {
          "output_type": "execute_result",
          "data": {
            "application/vnd.google.colaboratory.intrinsic+json": {
              "type": "string"
            },
            "text/plain": [
              "'“The world as we have created it is a process of our thinking. It cannot be changed without changing our thinking.”'"
            ]
          },
          "metadata": {
            "tags": []
          },
          "execution_count": 54
        }
      ]
    },
    {
      "cell_type": "code",
      "metadata": {
        "id": "zCK4JzBrfEuP",
        "outputId": "14ce8672-f0b5-4b26-985b-023de56f1818",
        "colab": {
          "base_uri": "https://localhost:8080/"
        }
      },
      "source": [
        "# a list of all instances that match\n",
        "#for quote in soup.find_all('span', {'class':'text'}):\n",
        " # print(quote.text)\n",
        "#looping through the soup.find_all and taking only the quotes without html components, \n",
        "#to pull out just a text file, use text\n",
        "\n",
        "\n",
        "#to get one long string of all the quotes!\n",
        "quotes = [quote.text for quote in soup.find_all('span', {'class': 'text'})]\n",
        "big_quote = ' '.join(quotes)\n",
        "print(big_quote)"
      ],
      "execution_count": 57,
      "outputs": [
        {
          "output_type": "stream",
          "text": [
            "“The world as we have created it is a process of our thinking. It cannot be changed without changing our thinking.” “It is our choices, Harry, that show what we truly are, far more than our abilities.” “There are only two ways to live your life. One is as though nothing is a miracle. The other is as though everything is a miracle.” “The person, be it gentleman or lady, who has not pleasure in a good novel, must be intolerably stupid.” “Imperfection is beauty, madness is genius and it's better to be absolutely ridiculous than absolutely boring.” “Try not to become a man of success. Rather become a man of value.” “It is better to be hated for what you are than to be loved for what you are not.” “I have not failed. I've just found 10,000 ways that won't work.” “A woman is like a tea bag; you never know how strong it is until it's in hot water.” “A day without sunshine is like, you know, night.”\n"
          ],
          "name": "stdout"
        }
      ]
    },
    {
      "cell_type": "code",
      "metadata": {
        "id": "Uv7z6JaZjTFx"
      },
      "source": [
        "url = 'http://books.toscrape.com/'\n",
        "response = requests.get(url)\n",
        "content = response.text"
      ],
      "execution_count": 18,
      "outputs": []
    },
    {
      "cell_type": "code",
      "metadata": {
        "id": "2b14pakhjTIm"
      },
      "source": [
        "soup = BeautifulSoup(content, 'lxml')\n",
        "soup"
      ],
      "execution_count": null,
      "outputs": []
    },
    {
      "cell_type": "code",
      "metadata": {
        "id": "ZiYky11SjTLM",
        "outputId": "c070cbcc-a6f4-4bf9-845e-8320f13fb583",
        "colab": {
          "base_uri": "https://localhost:8080/"
        }
      },
      "source": [
        "for article in soup.find_all('article', class_='product_pod'):#[0].h3.a['title']:\n",
        "  print(article.h3.a['title'])\n",
        "#title is in h3, which is is a then title in a\n",
        "  #print(soup.find_all('article', class_='product_pod')[0].find('p', class_='price_color').text) same thing as below print\n",
        "  print(article.find('p', class_='price_color').text)"
      ],
      "execution_count": 37,
      "outputs": [
        {
          "output_type": "stream",
          "text": [
            "A Light in the Attic\n",
            "Â£51.77\n",
            "Tipping the Velvet\n",
            "Â£53.74\n",
            "Soumission\n",
            "Â£50.10\n",
            "Sharp Objects\n",
            "Â£47.82\n",
            "Sapiens: A Brief History of Humankind\n",
            "Â£54.23\n",
            "The Requiem Red\n",
            "Â£22.65\n",
            "The Dirty Little Secrets of Getting Your Dream Job\n",
            "Â£33.34\n",
            "The Coming Woman: A Novel Based on the Life of the Infamous Feminist, Victoria Woodhull\n",
            "Â£17.93\n",
            "The Boys in the Boat: Nine Americans and Their Epic Quest for Gold at the 1936 Berlin Olympics\n",
            "Â£22.60\n",
            "The Black Maria\n",
            "Â£52.15\n",
            "Starving Hearts (Triangular Trade Trilogy, #1)\n",
            "Â£13.99\n",
            "Shakespeare's Sonnets\n",
            "Â£20.66\n",
            "Set Me Free\n",
            "Â£17.46\n",
            "Scott Pilgrim's Precious Little Life (Scott Pilgrim #1)\n",
            "Â£52.29\n",
            "Rip it Up and Start Again\n",
            "Â£35.02\n",
            "Our Band Could Be Your Life: Scenes from the American Indie Underground, 1981-1991\n",
            "Â£57.25\n",
            "Olio\n",
            "Â£23.88\n",
            "Mesaerion: The Best Science Fiction Stories 1800-1849\n",
            "Â£37.59\n",
            "Libertarianism for Beginners\n",
            "Â£51.33\n",
            "It's Only the Himalayas\n",
            "Â£45.17\n"
          ],
          "name": "stdout"
        }
      ]
    },
    {
      "cell_type": "code",
      "metadata": {
        "id": "e7Q28ZicjTN1",
        "outputId": "4e686460-958e-4072-b646-551dc758a8cf",
        "colab": {
          "base_uri": "https://localhost:8080/",
          "height": 35
        }
      },
      "source": [
        "soup.find_all('article', class_='product_pod')[0].find('p', class_='price_color').text"
      ],
      "execution_count": 34,
      "outputs": [
        {
          "output_type": "execute_result",
          "data": {
            "application/vnd.google.colaboratory.intrinsic+json": {
              "type": "string"
            },
            "text/plain": [
              "'Â£51.77'"
            ]
          },
          "metadata": {
            "tags": []
          },
          "execution_count": 34
        }
      ]
    },
    {
      "cell_type": "code",
      "metadata": {
        "id": "AQwPjoJujTQl"
      },
      "source": [
        "#creating a data frame!!! with lists:\n",
        "\n",
        "book_titles = []\n",
        "book_prices = []\n",
        "\n",
        "for article in soup.find_all('article', class_='product_pod'):\n",
        "  book_titles.append(article.h3.a['title'])\n",
        "  book_prices.append(article.find('p', class_='price_color').text)"
      ],
      "execution_count": 46,
      "outputs": []
    },
    {
      "cell_type": "code",
      "metadata": {
        "id": "2Ehwy1VbjTTW"
      },
      "source": [
        "import pandas as pd\n",
        "\n",
        "df = pd.DataFrame({'title': book_titles, 'prices': book_prices})"
      ],
      "execution_count": 49,
      "outputs": []
    },
    {
      "cell_type": "code",
      "metadata": {
        "id": "rwu1xeAqjTZC",
        "outputId": "283a2ddc-42d5-48c8-fcb0-55c711591e4c",
        "colab": {
          "base_uri": "https://localhost:8080/",
          "height": 204
        }
      },
      "source": [
        "df.head()"
      ],
      "execution_count": 50,
      "outputs": [
        {
          "output_type": "execute_result",
          "data": {
            "text/html": [
              "<div>\n",
              "<style scoped>\n",
              "    .dataframe tbody tr th:only-of-type {\n",
              "        vertical-align: middle;\n",
              "    }\n",
              "\n",
              "    .dataframe tbody tr th {\n",
              "        vertical-align: top;\n",
              "    }\n",
              "\n",
              "    .dataframe thead th {\n",
              "        text-align: right;\n",
              "    }\n",
              "</style>\n",
              "<table border=\"1\" class=\"dataframe\">\n",
              "  <thead>\n",
              "    <tr style=\"text-align: right;\">\n",
              "      <th></th>\n",
              "      <th>title</th>\n",
              "      <th>prices</th>\n",
              "    </tr>\n",
              "  </thead>\n",
              "  <tbody>\n",
              "    <tr>\n",
              "      <th>0</th>\n",
              "      <td>A Light in the Attic</td>\n",
              "      <td>Â£51.77</td>\n",
              "    </tr>\n",
              "    <tr>\n",
              "      <th>1</th>\n",
              "      <td>Tipping the Velvet</td>\n",
              "      <td>Â£53.74</td>\n",
              "    </tr>\n",
              "    <tr>\n",
              "      <th>2</th>\n",
              "      <td>Soumission</td>\n",
              "      <td>Â£50.10</td>\n",
              "    </tr>\n",
              "    <tr>\n",
              "      <th>3</th>\n",
              "      <td>Sharp Objects</td>\n",
              "      <td>Â£47.82</td>\n",
              "    </tr>\n",
              "    <tr>\n",
              "      <th>4</th>\n",
              "      <td>Sapiens: A Brief History of Humankind</td>\n",
              "      <td>Â£54.23</td>\n",
              "    </tr>\n",
              "  </tbody>\n",
              "</table>\n",
              "</div>"
            ],
            "text/plain": [
              "                                   title   prices\n",
              "0                   A Light in the Attic  Â£51.77\n",
              "1                     Tipping the Velvet  Â£53.74\n",
              "2                             Soumission  Â£50.10\n",
              "3                          Sharp Objects  Â£47.82\n",
              "4  Sapiens: A Brief History of Humankind  Â£54.23"
            ]
          },
          "metadata": {
            "tags": []
          },
          "execution_count": 50
        }
      ]
    },
    {
      "cell_type": "code",
      "metadata": {
        "id": "ju5dtKZ-mj5K"
      },
      "source": [
        ""
      ],
      "execution_count": null,
      "outputs": []
    },
    {
      "cell_type": "code",
      "metadata": {
        "id": "Nt4Pqm6Bmj7z"
      },
      "source": [
        "#RSS \n",
        "\n",
        "#!pip install feedparser --quiet\n",
        "\n",
        "import feedparser\n",
        "\n",
        "feed = 'http://feeds.feedburner.com/oreilly/radar/atom'\n",
        "parsed = feedparser.parse(feed)\n",
        "posts = parsed.entries"
      ],
      "execution_count": 61,
      "outputs": []
    },
    {
      "cell_type": "code",
      "metadata": {
        "id": "oy_IC3Trmj-t",
        "outputId": "14dd2265-d56e-40b1-f912-7636019722f8",
        "colab": {
          "base_uri": "https://localhost:8080/"
        }
      },
      "source": [
        "len(posts)"
      ],
      "execution_count": 62,
      "outputs": [
        {
          "output_type": "execute_result",
          "data": {
            "text/plain": [
              "60"
            ]
          },
          "metadata": {
            "tags": []
          },
          "execution_count": 62
        }
      ]
    },
    {
      "cell_type": "markdown",
      "metadata": {
        "id": "d_4jouiM8Uuo"
      },
      "source": [
        ""
      ]
    },
    {
      "cell_type": "code",
      "metadata": {
        "id": "iGQkSbrVmkBt",
        "outputId": "860a43ee-b524-4ce4-ed0d-40e639beace3",
        "colab": {
          "base_uri": "https://localhost:8080/"
        }
      },
      "source": [
        "len(parsed)"
      ],
      "execution_count": 63,
      "outputs": [
        {
          "output_type": "execute_result",
          "data": {
            "text/plain": [
              "12"
            ]
          },
          "metadata": {
            "tags": []
          },
          "execution_count": 63
        }
      ]
    },
    {
      "cell_type": "code",
      "metadata": {
        "id": "HPW6QEikmkEz",
        "outputId": "7670776f-2fb0-4ab8-d225-ccc731959136",
        "colab": {
          "base_uri": "https://localhost:8080/"
        }
      },
      "source": [
        "for post in posts:\n",
        "  print(post['summary'])\n",
        "  print(('-------------------------'))"
      ],
      "execution_count": 70,
      "outputs": [
        {
          "output_type": "stream",
          "text": [
            "Perhaps the most important event this month isn’t technical, but the start of the US Justice Dept.’s lawsuit against Google. That will certainly play out over years rather than months, but it’s significance is less about this particular case than the idea that legal and regulatory systems will play a large role in the evolution [&#8230;]\n",
            "-------------------------\n",
            "Mutation Testing &#8212; in this paper, we semi-automatically learn error-inducing patterns from a corpus of common Java coding errors and from changes that caused operational anomalies at Facebook specifically. We combine the mutations with instrumentation that measures which tests exactly visited the mutated piece of code. Results on more than 15,000 generated mutants show that [&#8230;]\n",
            "-------------------------\n",
            "Phantom of the ADAS &#8212; In this paper, we investigate &#8220;split-second phantom attacks,&#8221; a scientific gap that causes two commercial advanced driver-assistance systems (ADASs), Telsa Model X (HW 2.5 and HW 3) and Mobileye 630, to treat a depthless object that appears for a few milliseconds as a real obstacle/object. Turns out neural networks can [&#8230;]\n",
            "-------------------------\n",
            "&#8220;On peut interroger n&#8217;importe qui, dans n&#8217;importe quel état; ce sont rarement les réponses qui apportent la vérité, mais l&#8217;enchaînement des questions.&#8220; &#8220;You can interrogate anyone, no matter what their state of being.&#160; It&#8217;s rarely their answers that unveil the truth, but the sequence of questions that you have to ask.&#8220;–&#160; Inspector Pastor in La [&#8230;]\n",
            "-------------------------\n",
            "Justice Department Antitrust Filing Against Google &#8212; Claims advertising was an artificially limited market because of their exclusivity deals, including the Android anti-forking arrangements and Browser paid-default-search deals. New York Times has a write-up. This may be more important, historically, than the election results. Differential Dataflow &#8212; Differential dataflow programs look like many standard &#8220;big [&#8230;]\n",
            "-------------------------\n",
            "Automerge &#8212; (Github) Data structure library for Javascript (and Rust) providing Conflict-Free Replicated Data Types (CRDTs). Automerge is designed for creating local-first software, i.e. software that treats a user&#8217;s local copy of their data (on their own device) as primary, rather than centralising data in a cloud service. Alan Turing &#8212; (BBC) An excellent episode [&#8230;]\n",
            "-------------------------\n",
            "Data Organization in Spreadsheets &#8212; Focusing on the data entry and storage aspects, this article offers practical recommendations for organizing spreadsheet data to reduce errors and ease later analyses. The basic principles are: be consistent, write dates like YYYY-MM-DD, do not leave any cells empty, put just one thing in a cell, organize the data [&#8230;]\n",
            "-------------------------\n",
            "The field of AI product management continues to gain momentum. As the AI product management role advances in maturity, more and more information and advice has become available. Our previous articles in this series introduce our own take on AI product management, discuss the skills that AI product managers need, and detail how to bring [&#8230;]\n",
            "-------------------------\n",
            "T-SQL in SQLite &#8212; CG/SQL is a code generation system for the popular SQLite library that allows developers to write stored procedures in a variant of Transact-SQL (T-SQL) and compile them into C code that uses SQLite’s C API to do the coded operations. CG/SQL enables engineers to create highly complex stored procedures with very [&#8230;]\n",
            "-------------------------\n",
            "The release of GPT-3 has reinvigorated a discussion of creativity and artificial intelligence. That&#8217;s a good discussion to have, primarily because it forces us to think carefully about what we mean when we use words like &#8220;creativity&#8221; and &#8220;art.&#8221; As I&#8217;ve argued in the past, each time we have this discussion, we end up raising [&#8230;]\n",
            "-------------------------\n",
            "Algorithms Can Collude &#8212; To analyze the possible consequences, we study experimentally the behavior of algorithms powered by Artificial Intelligence (Q-learning) in a workhorse oligopoly model of repeated price competition. We find that the algorithms consistently learn to charge supracompetitive prices, without communicating with one another. The high prices are sustained by collusive strategies with [&#8230;]\n",
            "-------------------------\n",
            "Single Device Behaves Like a Neuron &#8212; On its own, using a simple DC voltage as the input, the device outputs not just simple spikes, as some other devices can manage, but the whole array of neural activity—bursts of spikes, self-sustained oscillations, and other stuff that goes on in your brain. (Paper) USB-C Is a [&#8230;]\n",
            "-------------------------\n",
            "This month, the big surprise is that there’s no significant technology news about COVID. And there is more news than ever about legislation and regulation. I suspect that the legal system will be a big driver for technology over the next year. Another trend that doesn’t quite count as technology news but that definitely bears [&#8230;]\n",
            "-------------------------\n",
            "When Coffeemakers Demand Ransom &#8212; So he then examined the mechanism the coffee maker used to receive firmware updates. It turned out they were received from the phone with—you guessed it—no encryption, no authentication, and no code signing. Nothing remarkable here other than it&#8217;s 2020 and companies still put crappy software into their hardware. Returns [&#8230;]\n",
            "-------------------------\n",
            "Adapton &#8212; A program P is incremental if repeating P with a changed input is faster than from-scratch computation. Adapton offers programming language abstractions for incremental computation. Migration Lessons Learned &#8212; Keep your migration scripts away from your production code; Keep it low-tech, don’t deserialize; Write tests to exercise each migration script individually; Consider running [&#8230;]\n",
            "-------------------------\n",
            "CS349 &#8211; Contemporary Issues in Computer Science &#8212; This class examines ethical frameworks, modern ethical concerns related to computer science and technology, and clear oral and written communication. Topics we will explore include policy vacuums created by new technology, copyright and patent, software bugs and liability, freedom of speech, privacy, security, employment and job markets, [&#8230;]\n",
            "-------------------------\n",
            "A Concurrency Cost Hierarchy &#8212; a higher level taxonomy that I use to think about concurrent performance. We’ll group the performance of concurrent operations into six broad levels running from fast to slow, with each level differing from its neighbors by roughly an order of magnitude in performance. They are: Contended Atomics, System Calls, Implied [&#8230;]\n",
            "-------------------------\n",
            "AI Benefits and Stakeholders AI is a field where value, in the form of outcomes and their resulting benefits, is created by machines exhibiting the ability to learn and “understand,” and to use the knowledge learned to carry out tasks or achieve goals. AI-generated benefits can be realized by defining and achieving appropriate goals. These [&#8230;]\n",
            "-------------------------\n",
            "Accurately Lipsync Video to Any Speech &#8212; In our paper, A Lip Sync Expert Is All You Need for Speech to Lip Generation In the Wild, ACM Multimedia 2020, we aim to lip-sync unconstrained videos in the wild to any desired target speech. (Paper) Impressive. Temporal &#8212; Open source &#8220;workflow-as-code&#8221; engine. I can&#8217;t decide if [&#8230;]\n",
            "-------------------------\n",
            "Things I Learned to Become a Senior Software Engineer &#8212; Full of relatable growth moments, such as changing your code to make the test pass vs understanding why the test failed. The Future is Software Engineers Who Can&#8217;t Code &#8212; “There are lot of definitions of what a developer is [&#8230;] It’s not just people [&#8230;]\n",
            "-------------------------\n",
            "In a conversation with Kevlin Henney, we started talking about the kinds of user interfaces that might work for AI-assisted programming. This is a significant problem: neither of us were aware of any significant work on user interfaces that support collaboration. However, as software developers, many of us have been practicing effective collaboration for years. [&#8230;]\n",
            "-------------------------\n",
            "Inside the Digital Pregnancy Test &#8212; &#8230; is a paper pregnancy test and watch-battery-powered microcontroller connected to three LEDs, a photo-cell, and an LCD display. That (8-bit) microcontroller runs at 4MHz, almost as fast as an IBM PC did. The Incredible Proof Machine &#8212; Fun game (modelled on The Incredible Machine from the 90s) that [&#8230;]\n",
            "-------------------------\n",
            "VSCode Debug Visualizer &#8212; A VS Code extension for visualizing data structures while debugging. Like the VS Code&#8217;s watch view, but with rich visualizations of the watched value. The screencast is wow. Userland &#8212; an integrated dataflow environment for end-users. It allows users to interact with modules that implement functionality for different domains from a [&#8230;]\n",
            "-------------------------\n",
            "Compared to the last few months, there are relatively few items about COVID. And almost no items about Blockchains, though the one item I’ve listed, about China’s Blockchain Services Network, may be the most important item here. I’m seeing a steady stream of articles about various forms of no-code/low-code programming. While many programmers scoff at [&#8230;]\n",
            "-------------------------\n",
            "Activity Watch &#8212; Open source, privacy-first, cross-platform app that automatically tracks how you spend time on your devices. Natural Language Database Queries &#8212; An interesting comment thread on Hacker News. Sample comments: I&#8217;ve done some previous digging into natural language SQL queries &#8212; there&#8217;s a good amount of research around this. But the error rate [&#8230;]\n",
            "-------------------------\n",
            "The Covid-19 pandemic has changed how people and businesses spend and operate.&#160; Over the coming pages we&#8217;ll explore ways in which our current world is already very different from the one we knew just a few months ago, as well as predictions of our &#8220;new normal&#8221; once the proverbial boat stops rocking.&#160; Specifically, we&#8217;ll see [&#8230;]\n",
            "-------------------------\n",
            "Wooden Turing Machine &#8212; (YouTube) Description of how it works. It implements three data elements and two states, sufficient for any calculation (discussed here)&#62; Not an infinite tape, because &#8230; wood. Emotional Resiliency in Leadership Report 2020 &#8212; Very interesting report, based on survey and science of burnout. It is primarily written for the survey [&#8230;]\n",
            "-------------------------\n",
            "The 212 Story Tower That Isn&#8217;t in Suburban Melbourne &#8212; A typo in a Open Street Map submission becomes a surprising monolith in Microsoft Flight Simulator. Fairness in Machine Learning &#8212; Draft text for a book on the subject. The Social Architecture of Impactful Communities &#8212; A really good set of models for communities. Individuals [&#8230;]\n",
            "-------------------------\n",
            "The Design Space of Computational Notebooks &#8212; Looked at 60 notebook systems and grouped 10 design space dimensions into four major stages of a data science workflow: importing data into notebooks (data sources), editing code and prose (editor style, supported programming languages, versioning, collaboration), running code to generate outputs (cell execution order, liveness [6], execution [&#8230;]\n",
            "-------------------------\n",
            "So you need to redesign your company’s data infrastructure. Do you buy a solution from a big integration company like IBM, Cloudera, or Amazon?&#160; Do you engage many small startups, each focused on one part of the problem?&#160; A little of both?&#160; We see trends shifting towards focused best-of-breed platforms. That is, products that are [&#8230;]\n",
            "-------------------------\n",
            "Sinter &#8212; Sinter uses the user-mode EndpointSecurity API to subscribe to and receive authorization callbacks from the macOS kernel, for a set of security-relevant event types. The current version of Sinter supports allowing/denying process executions; in future versions we intend to support other types of events such as file, socket, and kernel events. Inspired by [&#8230;]\n",
            "-------------------------\n",
            "StackOverflow&#8217;s 2020 developer survey included a table showing the&#160; &#8220;most loved, dreaded, and wanted languages.&#8221; Loved and wanted languages are, well, sort of boring. The programming languages we dread are a lot more interesting. As Tolstoy said, “All happy families are alike; each unhappy family is unhappy in its own way.” So what are these [&#8230;]\n",
            "-------------------------\n",
            "ImmuDB &#8212; lightweight, high-speed immutable database for systems and applications. Open Source and easy to integrate into any existing application. Latest version provides multitenancy. Smart Mask &#8212; (CNN) Japanese startup Donut Robotics [&#8230;] created a smart mask — a high-tech upgrade to standard face coverings, designed to make communication and social distancing easier. In conjunction [&#8230;]\n",
            "-------------------------\n",
            "Surprising Economics of Load-Balanced Systems &#8212; I have a system with c servers, each of which can only handle a single concurrent request, and has no internal queuing. The servers sit behind a load balancer, which contains an infinite queue. An unlimited number of clients offer c * 0.8 requests per second to the load [&#8230;]\n",
            "-------------------------\n",
            "Tales of the Autistic Developer &#8211; Senior Developer &#8212; Interesting article from a senior developer with Autism Spectrum Disorder. They talk about the problems it causes, how they solved each problem, and how those problems even became strengths. You can&#8217;t read this and not have more empathy for neurodiverse programmers. NyanSat: The Open Source LEO [&#8230;]\n",
            "-------------------------\n",
            "I thought July was going to be a dull month, but I’m wrong again. COVID-specific technology seems to be drying up, though there’s a fascinating report about a DIY vaccine. (Developed by serious scientists, so don’t try this at home.) There’s a lot of news about AI, and specifically, about the GPT-2 and GPT-3 language [&#8230;]\n",
            "-------------------------\n",
            "Migrating a 40TB SQL Server Database &#8212; A horror story to tell around the campfire. I was struck by the observation in this Hacker News comment that It&#8217;s typical that a log will be accessed zero times. Collecting, aggregating, and indexing logs is usually a mistake made by people who aren&#8217;t clear on the use [&#8230;]\n",
            "-------------------------\n",
            "Turning the IDE Inside Out with Datalog &#8212; tl;dr: I made a prototype IDE in which language semantics are specified in datalog, powered by a datalog interpreter written in TypeScript, running the browser. Demo here. Luckysheet &#8212; Open source web spreadsheet. Introducing the Model Card Toolkit for Easier Model Transparency Reporting &#8212; Model Cards [&#8230;] [&#8230;]\n",
            "-------------------------\n",
            "The Golden Rule of Software Quality &#8212; Prefer to push fixes upstream instead of working around problems downstream. That is to say: if you find a shortcoming in a package you use, then you should fix it and contribute your fix to that package. Don&#8217;t simply workaround it in your code. The Coining of the [&#8230;]\n",
            "-------------------------\n",
            "The Core Responsibilities of the AI Product Manager Product Managers are responsible for the successful development, testing, release, and adoption of a product, and for leading the team that implements those milestones. Product managers for AI must satisfy these same responsibilities, tuned for the AI lifecycle. In the first two articles in this series, we [&#8230;]\n",
            "-------------------------\n",
            "A recent article in The Verge discussed PULSE, an algorithm for “upsampling” digital images. PULSE, when applied to a low-resolution image of Barack Obama, recreated a White man&#8217;s face; applied to Alexandria Ocasio-Cortez, it built a White woman&#8217;s face.  It had similar problems with other images of Black and Hispanic people, frequently giving them White [&#8230;]\n",
            "-------------------------\n",
            "Tech Regulation &#8212; ‘Tech’, of course, has all of this complexity, but we’re having to work this out a lot more quickly. It took 75 years for seatbelts to become compulsory, but tech has gone from interesting to crucial only in the last five to ten years. That speed means we have to form opinions [&#8230;]\n",
            "-------------------------\n",
            "How Taiwan&#8217;s Unlikely Digital Minister Hacked the Pandemic &#8212; Taiwan and Audrey Tang occupy a unique spot in a world, where the ascendance of the internet and digital technology is marked by the twin dystopias of “post-truth” information chaos in the United States and China’s totalitarian, technologically mediated surveillance-and-censorship regime. With Audrey Tang as the [&#8230;]\n",
            "-------------------------\n",
            "As We May Code &#8212; why aren’t we — ostensibly the people writing software — doing more with AI in our day-to-day? Why are things like TabNine and Kite so often seen as curiosities instead of game-changers? If you take seriously the idea that ai will fundamentally change the nature of many occupations in the [&#8230;]\n",
            "-------------------------\n",
            "wiki.js &#8212; Portable open-source Javascript featureful wiki. Neural Embedding + Locality Sensitive Hashing for Logs &#8212; Our diff solution involves embedding each line into a low dimensional vector and (optionally “fine-tuning” or updating the embedding model at the same time), assigning it to a cluster, and identifying lines in different clusters as “different”. Locality sensitive [&#8230;]\n",
            "-------------------------\n",
            "Largely on the impetus of the Black Lives Matter movement, the public&#8217;s response to the murder of George Floyd, and the subsequent demonstrations, we&#8217;ve seen increased concern about the use of facial identification in policing. First, in a highly publicized wave of announcements, IBM, Microsoft, and Amazon have announced that they will not sell face [&#8230;]\n",
            "-------------------------\n",
            "22 Principles for Great Product Managers &#8212; This list—pieced together over the past few years—reflects what I believe are some of the most important principles for product managers. Tempering Expectations of GPT-3 and AGI &#8212; When I was curating my generated tweets, I estimated 30-40% of the tweets were usable comedically, a massive improvement over [&#8230;]\n",
            "-------------------------\n",
            "A Bug-Sized Camera for Bug-Sized Robots and Bug-Sized Bugs &#8212; With a focus on small size and efficiency, they started with an off-the-shelf ultra low-power image sensor that’s 2.3 mm wide and weighs 6.7 mg. They stuck on a Bluetooth 5.0 chip (3 mm wide, 6.8 mg), and had a fun time connecting those two [&#8230;]\n",
            "-------------------------\n",
            "Matters Computational: Ideas, Algorithms, Source Code &#8212; Interesting book about how to do things at the low level. This is a book for the computationalist, whether a working programmer or anyone interested in methods of computation. The focus is on material that does not usually appear in textbooks on algorithms. It&#8217;s the kind of book [&#8230;]\n",
            "-------------------------\n",
            "Pseudogen &#8212; [open source] tool to automatically generate pseudo-code from source code. Implements Learning to Generate Pseudo-code from Source Code using Statistical Machine Translation and is written up in Pseudogen: A Tool to Automatically Generate Pseudo-code from Source Code. Exciting work for people inheriting codebases, and perhaps the first step in automated reasoning about code [&#8230;]\n",
            "-------------------------\n",
            "Microservices&#160;seem to be everywhere. Scratch that:&#160;talk&#160;about microservices seems to be everywhere. And that’s the problem. Thinkers as dissimilar as&#160;Plato,&#160;Robert Boyle, and&#160;Keith Richards&#160;tend to agree about one thing: Talk is cheap. So we wanted to determine to what extent, and how, O’Reilly subscribers are empirically&#160;using&#160;microservices. In other words, how long have people been using them? What [&#8230;]\n",
            "-------------------------\n",
            "Fixing Bugs Properly &#8212; Why did a fix that seems so simple when looking at the changes made take two days to complete? Good programmers leave things better than they found them. Data Structures and Algorithms I Actually Use &#8212; This article is a set of real-world examples where data structures like trees, graphs, and [&#8230;]\n",
            "-------------------------\n",
            "A World of Individuals Our world is on fire. For too long we have been complicit, maintaining the status quo. This must change. I’m writing this as we’re living through three pandemics. Covid-19, structurally enabled racism, and the climate crisis. Each of these pandemics make visible the ways that individuals fit into and contribute to [&#8230;]\n",
            "-------------------------\n",
            "Neutralizing Misinformation through Inoculation &#8212; We found that false-balance media coverage (giving contrarian views equal voice with climate scientists) lowered perceived consensus overall[..]. Likewise, misinformation that confuses people about the level of scientific agreement [&#8230;] had a polarizing effect [&#8230;]. However, we found that inoculating messages that (1) explain the flawed argumentation technique used in [&#8230;]\n",
            "-------------------------\n",
            "Too Efficiency &#8212; (Tim Bray) Think of efficiency as optimising for one variable. As anyone who has seen a greyhound or a dalmation up close knows, optimising for one aspect of a complex system can weaken other aspects. Tim cites software security, food, work hours, and others. The best optimisation advice I received was &#8220;never [&#8230;]\n",
            "-------------------------\n",
            "Notes on Splicing CRDTs for Structured Hypertext &#8212; It’s a great feeling, seeing everyone around you create beautiful 3D graphical masterpieces or fully complete web applications while you spend twelve hours a day struggling to read technical papers that you don’t even understand. This is what happens when you attempt to do things with CRDTs. [&#8230;]\n",
            "-------------------------\n",
            "At Microsoft&#8217;s Build conference, Microsoft CTO Kevin Scott talked about an experimental project in which an AI, trained on code in GitHub, actually creates programs: it generates function bodies based on a descriptive comment and a message signature. (Skip to 29:00 of the video.)&#160; Along similar lines, an unrelated research paper reports on unsupervised translation [&#8230;]\n",
            "-------------------------\n",
            "Avoiding Fallback in Distributed Systems &#8212; In this article, the focus will be on how fallback strategies can cause more problems than they fix. We’ll include examples of where fallback strategies have caused problems at Amazon. Finally, we’ll discuss alternatives to fallback that we use at Amazon. So You Want to Build an Observability Tool [&#8230;]\n",
            "-------------------------\n",
            "When Data is Messy &#8212; I love stories that illustrate the ways machine learning can draw the wrong conclusions. Researchers at the University of Tuebingen trained a neural net to recognize images, and then had it point out which parts of the images were the most important for its decision. When they asked it to [&#8230;]\n",
            "-------------------------\n",
            "eDEX-ui &#8212; a fullscreen, cross-platform terminal emulator and system monitor that looks and feels like a sci-fi computer interface. Announcing Microsoft Freta &#8212; Microsoft have a service for detecting evidence of OS and sensor sabotage, such as rootkits and advanced malware, in memory snapshots of live Linux systems. Placeholdifier &#8212; Turn any website into a [&#8230;]\n",
            "-------------------------\n"
          ],
          "name": "stdout"
        }
      ]
    },
    {
      "cell_type": "code",
      "metadata": {
        "id": "cmZ50LibIOke"
      },
      "source": [
        ""
      ],
      "execution_count": null,
      "outputs": []
    },
    {
      "cell_type": "code",
      "metadata": {
        "id": "LWkDzu6dmkHs"
      },
      "source": [
        ""
      ],
      "execution_count": null,
      "outputs": []
    },
    {
      "cell_type": "code",
      "metadata": {
        "id": "lHezOFsYmkKT"
      },
      "source": [
        "#API"
      ],
      "execution_count": null,
      "outputs": []
    },
    {
      "cell_type": "code",
      "metadata": {
        "id": "1YIqnOM3mkNk",
        "outputId": "37936c54-8948-435f-c10d-e93a85e524d4",
        "colab": {
          "base_uri": "https://localhost:8080/"
        }
      },
      "source": [
        "url = 'https://api.kanye.rest/'\n",
        "\n",
        "for i in range(15):\n",
        "  response = requests.get(url).json()\n",
        "  print(response['quote'])"
      ],
      "execution_count": 81,
      "outputs": [
        {
          "output_type": "stream",
          "text": [
            "Tweeting is legal and also therapeutic\n",
            "People always say that you can't please everybody. I think that's a cop-out. Why not attempt it? Cause think of all the people that you will please if you try.\n",
            "I hate when I'm on a flight and I wake up with a water bottle next to me like oh great now I gotta be responsible for this water bottle\n",
            "I wish I had a friend like me\n",
            "Perhaps I should have been more like water today\n",
            "Tweeting is legal and also therapeutic\n",
            "For me giving up is way harder than trying.\n",
            "My greatest pain in life is that I will never be able to see myself perform live.\n",
            "People always tell you 'Be humble. Be humble.' When was the last time someone told you to be amazing? Be great! Be awesome! Be awesome!\n",
            "I feel like me and Taylor might still have sex\n",
            "I hate when I'm on a flight and I wake up with a water bottle next to me like oh great now I gotta be responsible for this water bottle\n",
            "Shut the fuck up I will fucking laser you with alien fucking eyes and explode your fucking head\n",
            "The thought police want to suppress freedom of thought\n",
            "People always say that you can't please everybody. I think that's a cop-out. Why not attempt it? Cause think of all the people that you will please if you try.\n",
            "Just stop lying about shit. Just stop lying.\n"
          ],
          "name": "stdout"
        }
      ]
    },
    {
      "cell_type": "code",
      "metadata": {
        "id": "54enEQ3L9Ljm"
      },
      "source": [
        "API_KEY = 'b1319ac7d1dca23ce181685077a4b77b'\n",
        "\n",
        "#url = f'https://www.oilpriceapi.com/={API_KEY}'\n",
        "url = f'https://www.oilpriceapi.com/v2/everything?q=oil&from=2020-10-01&sortBy=publishedAt&apiKey={API_KEY}' #NOT SURE HOW TO GET THIS URL\n",
        "response = requests.get(url).json()\n",
        "print(response)"
      ],
      "execution_count": null,
      "outputs": []
    },
    {
      "cell_type": "code",
      "metadata": {
        "id": "a4gkUrgr9LmT"
      },
      "source": [
        "len(response['articles'])"
      ],
      "execution_count": null,
      "outputs": []
    },
    {
      "cell_type": "code",
      "metadata": {
        "id": "KZV2_IM79Lpf"
      },
      "source": [
        "response['articles'][0]"
      ],
      "execution_count": null,
      "outputs": []
    },
    {
      "cell_type": "code",
      "metadata": {
        "id": "38xU7-fn9LsH"
      },
      "source": [
        ""
      ],
      "execution_count": null,
      "outputs": []
    },
    {
      "cell_type": "code",
      "metadata": {
        "id": "xY00irNJ9Lu_"
      },
      "source": [
        "#TEXT DATA"
      ],
      "execution_count": null,
      "outputs": []
    },
    {
      "cell_type": "code",
      "metadata": {
        "id": "ziVNu9XNUo-f",
        "outputId": "7af07746-f117-4bb2-8fab-1d747aec6e85",
        "colab": {
          "base_uri": "https://localhost:8080/"
        }
      },
      "source": [
        "import nltk\n",
        "from nltk.corpus.reader.plaintext import PlaintextCorpusReader\n",
        "nltk.download('punkt')"
      ],
      "execution_count": 96,
      "outputs": [
        {
          "output_type": "stream",
          "text": [
            "[nltk_data] Downloading package punkt to /root/nltk_data...\n",
            "[nltk_data]   Unzipping tokenizers/punkt.zip.\n"
          ],
          "name": "stdout"
        },
        {
          "output_type": "execute_result",
          "data": {
            "text/plain": [
              "True"
            ]
          },
          "metadata": {
            "tags": []
          },
          "execution_count": 96
        }
      ]
    },
    {
      "cell_type": "code",
      "metadata": {
        "id": "A3Xx8JrgTVZD"
      },
      "source": [
        "PATH = 'http-lite-cnn-io-en-article-h-0dae61b859944d5555d604a06d95d306.txt'\n",
        "DOC_PATTERN = r'.*\\.txt'\n",
        "cnn_corpus = PlaintextCorpusReader(PATH, DOC_PATTERN)"
      ],
      "execution_count": null,
      "outputs": []
    },
    {
      "cell_type": "code",
      "metadata": {
        "id": "aYcf7j6mTVfG"
      },
      "source": [
        "def corpus_stats(corpus):\n",
        "  print('Corpus Statistics')\n",
        "  print('Number of documents: \" + str(len(corpus.fileids())))    \n",
        "  print(\"Number of paragraphs: \" + str(len(corpus.paras())))    \n",
        "  print(\"Number of sentences: \" + str(len(corpus.sents())))    \n",
        "  print(\"Number of words: \" + str(len(corpus.words())))    \n",
        "  print(\"Vocabulary: \" + str(len(set(w.lower() for w in corpus.words()))))    \n",
        "  print(\"Avg chars per word: \" + str(round(len(corpus.raw())/len(corpus.words()),1)))    \n",
        "  print(\"Avg words per sentence: \" + str(round(len(corpus.words())/len(corpus.sents()),1)))')"
      ],
      "execution_count": null,
      "outputs": []
    },
    {
      "cell_type": "code",
      "metadata": {
        "id": "kFcQm6EGTVb6"
      },
      "source": [
        "cnn_corpus.fileids() #paras(), sents(), words()"
      ],
      "execution_count": null,
      "outputs": []
    },
    {
      "cell_type": "code",
      "metadata": {
        "id": "tvsLLCyBXvJX"
      },
      "source": [
        "cnn_corpus.raw()"
      ],
      "execution_count": null,
      "outputs": []
    },
    {
      "cell_type": "code",
      "metadata": {
        "id": "DSNRUrsMTViM"
      },
      "source": [
        "corpus_stats(cnn_corpus)"
      ],
      "execution_count": null,
      "outputs": []
    },
    {
      "cell_type": "code",
      "metadata": {
        "id": "O3eeOpuu9Lx3"
      },
      "source": [
        ""
      ],
      "execution_count": null,
      "outputs": []
    },
    {
      "cell_type": "code",
      "metadata": {
        "id": "uFiS7ji99L1K"
      },
      "source": [
        ""
      ],
      "execution_count": null,
      "outputs": []
    }
  ]
}