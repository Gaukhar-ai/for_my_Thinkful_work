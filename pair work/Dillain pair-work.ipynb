{
 "cells": [
  {
   "cell_type": "markdown",
   "metadata": {},
   "source": [
    "In your pair, create a markdown file answering the following:\n",
    "Identify 3 scenarios in your everyday life where you use probability.\n",
    "Using the formula you learned to calculate probabilities, approximate the probabilities of the events in each of those 3 scenarios.\n",
    "Think about what potential dependencies the events in each of your 3 scenarios have. Calculate the joint probabilities for the events and their dependencies.\n",
    "Calculate the conditional probabilities for the events given their dependencies."
   ]
  },
  {
   "cell_type": "markdown",
   "metadata": {
    "scrolled": true
   },
   "source": [
    "stock trading: tech analysis, news, market crash. mix of empirical and subjective probability"
   ]
  },
  {
   "cell_type": "markdown",
   "metadata": {},
   "source": [
    "bad taste food, smells bad = probably it expired"
   ]
  },
  {
   "cell_type": "code",
   "execution_count": null,
   "metadata": {},
   "outputs": [],
   "source": [
    "Dillain gets pulled over often, because he's speeding while going back home. "
   ]
  },
  {
   "cell_type": "code",
   "execution_count": null,
   "metadata": {},
   "outputs": [],
   "source": [
    "P(E) = Event Frequency/Total Observation\n"
   ]
  },
  {
   "cell_type": "code",
   "execution_count": null,
   "metadata": {},
   "outputs": [],
   "source": []
  },
  {
   "cell_type": "markdown",
   "metadata": {},
   "source": [
    "Stock trading. P(E) = EF / Pf\n",
    "#gains / # of trades\n",
    "\n",
    "\n",
    "Driving:p(pulled_over) = #_pulled / times_driven\n",
    "    #he's been pulled over once, and a comparatively infite more number of times, so p(pulled_over) = 0\n",
    "    #*p(pulled_over | speeding) can be used fo ra Bayes analysis\n",
    "Food expiration: \n",
    "    *p(spoiled | smells) = P(smells |spoiled) * P(spoiled) / P(smells)\n",
    "    *p(smells | spoils) = .95\n",
    "    *p(smells) = 0.25\n",
    "    "
   ]
  },
  {
   "cell_type": "markdown",
   "metadata": {},
   "source": [
    "#Bayes for p(spoiled | smells)\n",
    "smells_g_spoiled = 0.80\n",
    "spoiled = 0.02\n",
    "smells = 0.05\n",
    "\n",
    "prob_sp_g_sm = spoiled_g_smells * spoiled / smells\n",
    "print(prob_sp_g_sm)\n",
    " "
   ]
  },
  {
   "cell_type": "markdown",
   "metadata": {},
   "source": [
    "Think about what potential dependencies the events in each of your 3 scenarios have. Calculate the joint probabilities for the events and their dependencies.\n",
    "Calculate the conditional probabilities for the events given their dependencies.\n"
   ]
  },
  {
   "cell_type": "markdown",
   "metadata": {},
   "source": [
    "In stock trading its a direct dependancy. If I overtrade - I loose, If I trade less and careful I make more. Also depends on \n",
    "the traders.\n",
    "\n",
    "If Dillain liked his work, he's probably won't speed to get home. \n",
    "\n",
    "If food we buy is always our favorite and whatever we want that day it probably won't go bad. "
   ]
  }
 ],
 "metadata": {
  "kernelspec": {
   "display_name": "Python 3",
   "language": "python",
   "name": "python3"
  },
  "language_info": {
   "codemirror_mode": {
    "name": "ipython",
    "version": 3
   },
   "file_extension": ".py",
   "mimetype": "text/x-python",
   "name": "python",
   "nbconvert_exporter": "python",
   "pygments_lexer": "ipython3",
   "version": "3.8.3"
  }
 },
 "nbformat": 4,
 "nbformat_minor": 4
}
