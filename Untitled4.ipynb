{
 "cells": [
  {
   "cell_type": "code",
   "execution_count": null,
   "metadata": {},
   "outputs": [],
   "source": [
    "import pandas as pd\n",
    "from sqlalchemy import create_engine\n",
    "\n",
    "user = 'postgres'\n",
    "pwd = 'PASSWORD' # Replace with your password\n",
    "host = 'localhost'\n",
    "port = '5432'\n",
    "db = 'Personal_DB'\n",
    "\n",
    "engine = create_engine('postgresql://' + user + ':' + pwd + \n",
    "                       '@' + host + ':' + port + '/' + db)\n",
    "\n",
    "vehicles = pd.read_csv('https://tf-assets-prod.s3.amazonaws.com/tf-curric/data-science/vehicles.csv')\n",
    "vehicles.to_sql('vehicles', engine, index=False)\n",
    "\n",
    "houseprices = pd.read_csv('https://tf-assets-prod.s3.amazonaws.com/tf-curric/data-science/houseprices.csv')\n",
    "houseprices.to_sql('houseprices', engine, index=False)"
   ]
  }
 ],
 "metadata": {
  "kernelspec": {
   "display_name": "Python 3",
   "language": "python",
   "name": "python3"
  },
  "language_info": {
   "codemirror_mode": {
    "name": "ipython",
    "version": 3
   },
   "file_extension": ".py",
   "mimetype": "text/x-python",
   "name": "python",
   "nbconvert_exporter": "python",
   "pygments_lexer": "ipython3",
   "version": "3.8.3"
  }
 },
 "nbformat": 4,
 "nbformat_minor": 4
}
