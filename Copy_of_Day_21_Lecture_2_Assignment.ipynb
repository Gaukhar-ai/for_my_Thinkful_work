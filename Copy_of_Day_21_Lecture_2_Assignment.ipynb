{
  "nbformat": 4,
  "nbformat_minor": 0,
  "metadata": {
    "colab": {
      "name": "Copy of Day 21 Lecture 2 Assignment.ipynb",
      "provenance": [],
      "collapsed_sections": [],
      "include_colab_link": true
    },
    "kernelspec": {
      "display_name": "Python 3",
      "language": "python",
      "name": "python3"
    },
    "language_info": {
      "codemirror_mode": {
        "name": "ipython",
        "version": 3
      },
      "file_extension": ".py",
      "mimetype": "text/x-python",
      "name": "python",
      "nbconvert_exporter": "python",
      "pygments_lexer": "ipython3",
      "version": "3.7.3"
    }
  },
  "cells": [
    {
      "cell_type": "markdown",
      "metadata": {
        "id": "view-in-github",
        "colab_type": "text"
      },
      "source": [
        "<a href=\"https://colab.research.google.com/github/Gaukhar-ai/for_my_Thinkful_work/blob/master/Copy_of_Day_21_Lecture_2_Assignment.ipynb\" target=\"_parent\"><img src=\"https://colab.research.google.com/assets/colab-badge.svg\" alt=\"Open In Colab\"/></a>"
      ]
    },
    {
      "cell_type": "markdown",
      "metadata": {
        "colab_type": "text",
        "id": "R76jIygVnkFi"
      },
      "source": [
        "## Day 21 Lecture 2 Assignment\n",
        "\n",
        "In this assignment, we will apply techniques for identifying and dealing with outliers to a dataset containing information about Uber rides."
      ]
    },
    {
      "cell_type": "code",
      "metadata": {
        "colab_type": "code",
        "id": "QEtvln--nkFj",
        "colab": {}
      },
      "source": [
        "%matplotlib inline\n",
        "\n",
        "import matplotlib.pyplot as plt\n",
        "import numpy as np\n",
        "import pandas as pd"
      ],
      "execution_count": null,
      "outputs": []
    },
    {
      "cell_type": "code",
      "metadata": {
        "colab_type": "code",
        "id": "4pEWovz1nkFl",
        "colab": {}
      },
      "source": [
        "uber_data = pd.read_csv('https://tf-assets-prod.s3.amazonaws.com/tf-curric/data-science/uber_rides.csv')"
      ],
      "execution_count": null,
      "outputs": []
    },
    {
      "cell_type": "code",
      "metadata": {
        "id": "pkrBu-8kRS6s",
        "colab_type": "code",
        "colab": {
          "base_uri": "https://localhost:8080/",
          "height": 195
        },
        "outputId": "135e0c45-f437-412d-d14a-bcb054a17481"
      },
      "source": [
        "uber_data.head()"
      ],
      "execution_count": null,
      "outputs": [
        {
          "output_type": "execute_result",
          "data": {
            "text/html": [
              "<div>\n",
              "<style scoped>\n",
              "    .dataframe tbody tr th:only-of-type {\n",
              "        vertical-align: middle;\n",
              "    }\n",
              "\n",
              "    .dataframe tbody tr th {\n",
              "        vertical-align: top;\n",
              "    }\n",
              "\n",
              "    .dataframe thead th {\n",
              "        text-align: right;\n",
              "    }\n",
              "</style>\n",
              "<table border=\"1\" class=\"dataframe\">\n",
              "  <thead>\n",
              "    <tr style=\"text-align: right;\">\n",
              "      <th></th>\n",
              "      <th>trip_uid</th>\n",
              "      <th>trip_time</th>\n",
              "      <th>total_time</th>\n",
              "      <th>wait_time</th>\n",
              "      <th>price_rub</th>\n",
              "      <th>price_usd</th>\n",
              "      <th>distance_kms</th>\n",
              "      <th>temperature_value</th>\n",
              "      <th>feels_like</th>\n",
              "      <th>humidity</th>\n",
              "      <th>wind_speed</th>\n",
              "      <th>cloudness</th>\n",
              "    </tr>\n",
              "  </thead>\n",
              "  <tbody>\n",
              "    <tr>\n",
              "      <th>0</th>\n",
              "      <td>ee89076fd9da9bddf5f096b0ca42f8d5</td>\n",
              "      <td>0:21:33</td>\n",
              "      <td>0:29:00</td>\n",
              "      <td>0:07:27</td>\n",
              "      <td>265</td>\n",
              "      <td>5.17</td>\n",
              "      <td>9.29</td>\n",
              "      <td>12</td>\n",
              "      <td>12</td>\n",
              "      <td>0.69</td>\n",
              "      <td>4.81</td>\n",
              "      <td>0.78</td>\n",
              "    </tr>\n",
              "    <tr>\n",
              "      <th>1</th>\n",
              "      <td>518be51d403944a03c47e8d1f2c87311</td>\n",
              "      <td>0:19:27</td>\n",
              "      <td>0:26:00</td>\n",
              "      <td>0:06:33</td>\n",
              "      <td>255</td>\n",
              "      <td>4.97</td>\n",
              "      <td>9.93</td>\n",
              "      <td>10</td>\n",
              "      <td>10</td>\n",
              "      <td>0.70</td>\n",
              "      <td>6.53</td>\n",
              "      <td>0.66</td>\n",
              "    </tr>\n",
              "    <tr>\n",
              "      <th>2</th>\n",
              "      <td>6e460cc8a12c3c6568d0d4a67ac58393</td>\n",
              "      <td>1:06:53</td>\n",
              "      <td>1:23:00</td>\n",
              "      <td>0:16:07</td>\n",
              "      <td>644</td>\n",
              "      <td>13.01</td>\n",
              "      <td>18.01</td>\n",
              "      <td>14</td>\n",
              "      <td>14</td>\n",
              "      <td>0.61</td>\n",
              "      <td>5.25</td>\n",
              "      <td>0.86</td>\n",
              "    </tr>\n",
              "    <tr>\n",
              "      <th>3</th>\n",
              "      <td>49613a86a04e6c15d72b51d1a2935d81</td>\n",
              "      <td>0:13:37</td>\n",
              "      <td>0:20:00</td>\n",
              "      <td>0:06:23</td>\n",
              "      <td>1287</td>\n",
              "      <td>25.99</td>\n",
              "      <td>5.10</td>\n",
              "      <td>3</td>\n",
              "      <td>3</td>\n",
              "      <td>0.84</td>\n",
              "      <td>0.87</td>\n",
              "      <td>0.56</td>\n",
              "    </tr>\n",
              "    <tr>\n",
              "      <th>4</th>\n",
              "      <td>9896148fdecdb4c5d977a8691510bdb6</td>\n",
              "      <td>0:38:54</td>\n",
              "      <td>0:49:00</td>\n",
              "      <td>0:10:06</td>\n",
              "      <td>665</td>\n",
              "      <td>13.43</td>\n",
              "      <td>21.92</td>\n",
              "      <td>3</td>\n",
              "      <td>1</td>\n",
              "      <td>0.90</td>\n",
              "      <td>1.61</td>\n",
              "      <td>0.31</td>\n",
              "    </tr>\n",
              "  </tbody>\n",
              "</table>\n",
              "</div>"
            ],
            "text/plain": [
              "                           trip_uid trip_time  ... wind_speed cloudness\n",
              "0  ee89076fd9da9bddf5f096b0ca42f8d5   0:21:33  ...       4.81      0.78\n",
              "1  518be51d403944a03c47e8d1f2c87311   0:19:27  ...       6.53      0.66\n",
              "2  6e460cc8a12c3c6568d0d4a67ac58393   1:06:53  ...       5.25      0.86\n",
              "3  49613a86a04e6c15d72b51d1a2935d81   0:13:37  ...       0.87      0.56\n",
              "4  9896148fdecdb4c5d977a8691510bdb6   0:38:54  ...       1.61      0.31\n",
              "\n",
              "[5 rows x 12 columns]"
            ]
          },
          "metadata": {
            "tags": []
          },
          "execution_count": 12
        }
      ]
    },
    {
      "cell_type": "markdown",
      "metadata": {
        "id": "5NS7puiURS6v",
        "colab_type": "text"
      },
      "source": [
        "Before we identify outliers in the given columns, we need to address three time columns (trip_time, total_time, and wait_time), which are provided as formatted strings (HH:MM:SS) instead of numeric values. Convert the values in these three columns into their numeric equivalents in minutes - \"2:15\" should be converted to \"2.25\", \"1:22:30\" should be converted to \"82.5\", and so on. You may find it helpful to write a function that does this and use the .apply() function to apply it to all of the necessary columns."
      ]
    },
    {
      "cell_type": "code",
      "metadata": {
        "colab_type": "code",
        "id": "caYPANrJnkFn",
        "colab": {
          "base_uri": "https://localhost:8080/",
          "height": 336
        },
        "outputId": "373f6780-7e57-4ec7-e810-8fe652c0fa65"
      },
      "source": [
        "# answer goes here\n",
        "uber_data.info()\n",
        "\n",
        "\n"
      ],
      "execution_count": null,
      "outputs": [
        {
          "output_type": "stream",
          "text": [
            "<class 'pandas.core.frame.DataFrame'>\n",
            "RangeIndex: 678 entries, 0 to 677\n",
            "Data columns (total 12 columns):\n",
            " #   Column             Non-Null Count  Dtype  \n",
            "---  ------             --------------  -----  \n",
            " 0   trip_uid           678 non-null    object \n",
            " 1   trip_time          678 non-null    object \n",
            " 2   total_time         678 non-null    object \n",
            " 3   wait_time          678 non-null    object \n",
            " 4   price_rub          678 non-null    object \n",
            " 5   price_usd          678 non-null    float64\n",
            " 6   distance_kms       678 non-null    float64\n",
            " 7   temperature_value  678 non-null    int64  \n",
            " 8   feels_like         678 non-null    int64  \n",
            " 9   humidity           678 non-null    float64\n",
            " 10  wind_speed         678 non-null    float64\n",
            " 11  cloudness          678 non-null    object \n",
            "dtypes: float64(4), int64(2), object(6)\n",
            "memory usage: 63.7+ KB\n"
          ],
          "name": "stdout"
        }
      ]
    },
    {
      "cell_type": "code",
      "metadata": {
        "id": "4fp2P3UJfeqq",
        "colab_type": "code",
        "colab": {}
      },
      "source": [
        "for time in uber_data.filter(like='_time').columns:\n",
        "  hour = uber_data[time].apply(lambda s: int(s.split(':')[0]))\n",
        "  minute = uber_data[time].apply(lambda s: int(s.split(':')[1]))\n",
        "  second = uber_data[time].apply(lambda s: int(s.split(':')[2]))\n",
        "  uber_data[time] = (hour * 60) + minute + (second / 60)               #didn't get lambda"
      ],
      "execution_count": null,
      "outputs": []
    },
    {
      "cell_type": "code",
      "metadata": {
        "id": "gNUOjNHAfdvU",
        "colab_type": "code",
        "colab": {
          "base_uri": "https://localhost:8080/",
          "height": 215
        },
        "outputId": "f68fff42-7309-4d95-a94b-71a9e98bcfc0"
      },
      "source": [
        "uber_data.head()"
      ],
      "execution_count": null,
      "outputs": [
        {
          "output_type": "execute_result",
          "data": {
            "text/html": [
              "<div>\n",
              "<style scoped>\n",
              "    .dataframe tbody tr th:only-of-type {\n",
              "        vertical-align: middle;\n",
              "    }\n",
              "\n",
              "    .dataframe tbody tr th {\n",
              "        vertical-align: top;\n",
              "    }\n",
              "\n",
              "    .dataframe thead th {\n",
              "        text-align: right;\n",
              "    }\n",
              "</style>\n",
              "<table border=\"1\" class=\"dataframe\">\n",
              "  <thead>\n",
              "    <tr style=\"text-align: right;\">\n",
              "      <th></th>\n",
              "      <th>trip_uid</th>\n",
              "      <th>trip_time</th>\n",
              "      <th>total_time</th>\n",
              "      <th>wait_time</th>\n",
              "      <th>price_rub</th>\n",
              "      <th>price_usd</th>\n",
              "      <th>distance_kms</th>\n",
              "      <th>temperature_value</th>\n",
              "      <th>feels_like</th>\n",
              "      <th>humidity</th>\n",
              "      <th>wind_speed</th>\n",
              "      <th>cloudness</th>\n",
              "    </tr>\n",
              "  </thead>\n",
              "  <tbody>\n",
              "    <tr>\n",
              "      <th>0</th>\n",
              "      <td>ee89076fd9da9bddf5f096b0ca42f8d5</td>\n",
              "      <td>21.550000</td>\n",
              "      <td>29.0</td>\n",
              "      <td>7.450000</td>\n",
              "      <td>265</td>\n",
              "      <td>5.17</td>\n",
              "      <td>9.29</td>\n",
              "      <td>12</td>\n",
              "      <td>12</td>\n",
              "      <td>0.69</td>\n",
              "      <td>4.81</td>\n",
              "      <td>0.78</td>\n",
              "    </tr>\n",
              "    <tr>\n",
              "      <th>1</th>\n",
              "      <td>518be51d403944a03c47e8d1f2c87311</td>\n",
              "      <td>19.450000</td>\n",
              "      <td>26.0</td>\n",
              "      <td>6.550000</td>\n",
              "      <td>255</td>\n",
              "      <td>4.97</td>\n",
              "      <td>9.93</td>\n",
              "      <td>10</td>\n",
              "      <td>10</td>\n",
              "      <td>0.70</td>\n",
              "      <td>6.53</td>\n",
              "      <td>0.66</td>\n",
              "    </tr>\n",
              "    <tr>\n",
              "      <th>2</th>\n",
              "      <td>6e460cc8a12c3c6568d0d4a67ac58393</td>\n",
              "      <td>66.883333</td>\n",
              "      <td>83.0</td>\n",
              "      <td>16.116667</td>\n",
              "      <td>644</td>\n",
              "      <td>13.01</td>\n",
              "      <td>18.01</td>\n",
              "      <td>14</td>\n",
              "      <td>14</td>\n",
              "      <td>0.61</td>\n",
              "      <td>5.25</td>\n",
              "      <td>0.86</td>\n",
              "    </tr>\n",
              "    <tr>\n",
              "      <th>3</th>\n",
              "      <td>49613a86a04e6c15d72b51d1a2935d81</td>\n",
              "      <td>13.616667</td>\n",
              "      <td>20.0</td>\n",
              "      <td>6.383333</td>\n",
              "      <td>1287</td>\n",
              "      <td>25.99</td>\n",
              "      <td>5.10</td>\n",
              "      <td>3</td>\n",
              "      <td>3</td>\n",
              "      <td>0.84</td>\n",
              "      <td>0.87</td>\n",
              "      <td>0.56</td>\n",
              "    </tr>\n",
              "    <tr>\n",
              "      <th>4</th>\n",
              "      <td>9896148fdecdb4c5d977a8691510bdb6</td>\n",
              "      <td>38.900000</td>\n",
              "      <td>49.0</td>\n",
              "      <td>10.100000</td>\n",
              "      <td>665</td>\n",
              "      <td>13.43</td>\n",
              "      <td>21.92</td>\n",
              "      <td>3</td>\n",
              "      <td>1</td>\n",
              "      <td>0.90</td>\n",
              "      <td>1.61</td>\n",
              "      <td>0.31</td>\n",
              "    </tr>\n",
              "  </tbody>\n",
              "</table>\n",
              "</div>"
            ],
            "text/plain": [
              "                           trip_uid  trip_time  ...  wind_speed  cloudness\n",
              "0  ee89076fd9da9bddf5f096b0ca42f8d5  21.550000  ...        4.81       0.78\n",
              "1  518be51d403944a03c47e8d1f2c87311  19.450000  ...        6.53       0.66\n",
              "2  6e460cc8a12c3c6568d0d4a67ac58393  66.883333  ...        5.25       0.86\n",
              "3  49613a86a04e6c15d72b51d1a2935d81  13.616667  ...        0.87       0.56\n",
              "4  9896148fdecdb4c5d977a8691510bdb6  38.900000  ...        1.61       0.31\n",
              "\n",
              "[5 rows x 12 columns]"
            ]
          },
          "metadata": {
            "tags": []
          },
          "execution_count": 15
        }
      ]
    },
    {
      "cell_type": "markdown",
      "metadata": {
        "colab_type": "text",
        "id": "xA9ellO5nkFn"
      },
      "source": [
        "Plot histograms for each of the column, excluding the trip ID. Which features appear to have outliers? What do you suspect the nature of these outliers is (i.e. do you think these are most likely data errors, or correct values that are simply unusually large or small?)"
      ]
    },
    {
      "cell_type": "code",
      "metadata": {
        "colab_type": "code",
        "id": "NiYLMnxGnkFp",
        "colab": {}
      },
      "source": [
        "# answer goes here\n",
        "uber_hists = uber_data.drop('trip_uid', axis = 1)\n",
        "\n",
        "\n",
        "\n"
      ],
      "execution_count": null,
      "outputs": []
    },
    {
      "cell_type": "code",
      "metadata": {
        "id": "vTZJMXwBhTZT",
        "colab_type": "code",
        "colab": {
          "base_uri": "https://localhost:8080/",
          "height": 319
        },
        "outputId": "636342ad-5376-449d-878a-5e5e4c7e2f66"
      },
      "source": [
        "uber_hists.info()"
      ],
      "execution_count": null,
      "outputs": [
        {
          "output_type": "stream",
          "text": [
            "<class 'pandas.core.frame.DataFrame'>\n",
            "RangeIndex: 678 entries, 0 to 677\n",
            "Data columns (total 11 columns):\n",
            " #   Column             Non-Null Count  Dtype  \n",
            "---  ------             --------------  -----  \n",
            " 0   trip_time          678 non-null    float64\n",
            " 1   total_time         678 non-null    float64\n",
            " 2   wait_time          678 non-null    float64\n",
            " 3   price_rub          678 non-null    object \n",
            " 4   price_usd          678 non-null    float64\n",
            " 5   distance_kms       678 non-null    float64\n",
            " 6   temperature_value  678 non-null    int64  \n",
            " 7   feels_like         678 non-null    int64  \n",
            " 8   humidity           678 non-null    float64\n",
            " 9   wind_speed         678 non-null    float64\n",
            " 10  cloudness          678 non-null    object \n",
            "dtypes: float64(7), int64(2), object(2)\n",
            "memory usage: 58.4+ KB\n"
          ],
          "name": "stdout"
        }
      ]
    },
    {
      "cell_type": "code",
      "metadata": {
        "colab_type": "code",
        "id": "gC5y9EkFnkFr",
        "colab": {
          "base_uri": "https://localhost:8080/",
          "height": 34
        },
        "outputId": "17b727f2-b95b-4f82-9cd9-b9cbb8bc7808"
      },
      "source": [
        "# answer goes here\n",
        "uber_hists[uber_hists['price_rub'].isna()]\n",
        "uber_hists = uber_hists[uber_hists['price_rub'].notnull()]\n",
        "# uber_hists['price_rub'].isna().mean()\n",
        "# uber_hists['price_rub'] = uber_hists.dropna()\n",
        "uber_hists.price_rub.isna().sum()\n",
        "\n",
        "\n"
      ],
      "execution_count": null,
      "outputs": [
        {
          "output_type": "execute_result",
          "data": {
            "text/plain": [
              "0"
            ]
          },
          "metadata": {
            "tags": []
          },
          "execution_count": 18
        }
      ]
    },
    {
      "cell_type": "code",
      "metadata": {
        "id": "2GHuhYk-icSF",
        "colab_type": "code",
        "colab": {
          "base_uri": "https://localhost:8080/",
          "height": 34
        },
        "outputId": "4f7d87e7-a5db-4dbe-f320-de452cb10007"
      },
      "source": [
        "uber_hists['price_rub'].isna().sum()"
      ],
      "execution_count": null,
      "outputs": [
        {
          "output_type": "execute_result",
          "data": {
            "text/plain": [
              "0"
            ]
          },
          "metadata": {
            "tags": []
          },
          "execution_count": 19
        }
      ]
    },
    {
      "cell_type": "code",
      "metadata": {
        "id": "2oSI84aaiwBr",
        "colab_type": "code",
        "colab": {
          "base_uri": "https://localhost:8080/",
          "height": 34
        },
        "outputId": "632ee731-e4dd-4be4-bd6b-bff84f40f5c7"
      },
      "source": [
        "uber_hists['cloudness'] = pd.to_numeric(uber_hists['cloudness'], errors = 'coerce')\n",
        "uber_hists[uber_hists['cloudness'].isna()]\n",
        "uber_hists = uber_hists[uber_hists['cloudness'].notnull()]\n",
        "\n",
        "uber_hists.cloudness.isna().sum()"
      ],
      "execution_count": null,
      "outputs": [
        {
          "output_type": "execute_result",
          "data": {
            "text/plain": [
              "0"
            ]
          },
          "metadata": {
            "tags": []
          },
          "execution_count": 20
        }
      ]
    },
    {
      "cell_type": "code",
      "metadata": {
        "id": "K8TetNoniwJO",
        "colab_type": "code",
        "colab": {
          "base_uri": "https://localhost:8080/",
          "height": 319
        },
        "outputId": "a9cc8d51-9963-4cab-88fa-b206ae0fd780"
      },
      "source": [
        "uber_hists.info()"
      ],
      "execution_count": null,
      "outputs": [
        {
          "output_type": "stream",
          "text": [
            "<class 'pandas.core.frame.DataFrame'>\n",
            "Int64Index: 677 entries, 0 to 677\n",
            "Data columns (total 11 columns):\n",
            " #   Column             Non-Null Count  Dtype  \n",
            "---  ------             --------------  -----  \n",
            " 0   trip_time          677 non-null    float64\n",
            " 1   total_time         677 non-null    float64\n",
            " 2   wait_time          677 non-null    float64\n",
            " 3   price_rub          677 non-null    object \n",
            " 4   price_usd          677 non-null    float64\n",
            " 5   distance_kms       677 non-null    float64\n",
            " 6   temperature_value  677 non-null    int64  \n",
            " 7   feels_like         677 non-null    int64  \n",
            " 8   humidity           677 non-null    float64\n",
            " 9   wind_speed         677 non-null    float64\n",
            " 10  cloudness          677 non-null    float64\n",
            "dtypes: float64(8), int64(2), object(1)\n",
            "memory usage: 63.5+ KB\n"
          ],
          "name": "stdout"
        }
      ]
    },
    {
      "cell_type": "code",
      "metadata": {
        "id": "cZQ7wFJtiwPr",
        "colab_type": "code",
        "colab": {
          "base_uri": "https://localhost:8080/",
          "height": 1000
        },
        "outputId": "058efeb2-90aa-4713-a862-906e9a66823e"
      },
      "source": [
        "for col in uber_hists:\n",
        "  uber_hists[col].hist()\n",
        "  plt.show()"
      ],
      "execution_count": null,
      "outputs": [
        {
          "output_type": "display_data",
          "data": {
            "image/png": "[encoded data removed]",
            "text/plain": [
              "<Figure size 432x288 with 1 Axes>"
            ]
          },
          "metadata": {
            "tags": [],
            "needs_background": "light"
          }
        },
        {
          "output_type": "display_data",
          "data": {
            "image/png": "[encoded data removed]",
            "text/plain": [
              "<Figure size 432x288 with 1 Axes>"
            ]
          },
          "metadata": {
            "tags": [],
            "needs_background": "light"
          }
        },
        {
          "output_type": "display_data",
          "data": {
            "image/png": "[encoded data removed]",
            "text/plain": [
              "<Figure size 432x288 with 1 Axes>"
            ]
          },
          "metadata": {
            "tags": [],
            "needs_background": "light"
          }
        },
        {
          "output_type": "display_data",
          "data": {
            "image/png": "[encoded data removed]",
            "text/plain": [
              "<Figure size 432x288 with 1 Axes>"
            ]
          },
          "metadata": {
            "tags": [],
            "needs_background": "light"
          }
        },
        {
          "output_type": "display_data",
          "data": {
            "image/png": "[encoded data removed]",
            "text/plain": [
              "<Figure size 432x288 with 1 Axes>"
            ]
          },
          "metadata": {
            "tags": [],
            "needs_background": "light"
          }
        },
        {
          "output_type": "display_data",
          "data": {
            "image/png": "[encoded data removed]",
            "text/plain": [
              "<Figure size 432x288 with 1 Axes>"
            ]
          },
          "metadata": {
            "tags": [],
            "needs_background": "light"
          }
        },
        {
          "output_type": "display_data",
          "data": {
            "image/png": "[encoded data removed]",
            "text/plain": [
              "<Figure size 432x288 with 1 Axes>"
            ]
          },
          "metadata": {
            "tags": [],
            "needs_background": "light"
          }
        },
        {
          "output_type": "display_data",
          "data": {
            "image/png": "[encoded data removed]",
            "text/plain": [
              "<Figure size 432x288 with 1 Axes>"
            ]
          },
          "metadata": {
            "tags": [],
            "needs_background": "light"
          }
        },
        {
          "output_type": "display_data",
          "data": {
            "image/png": "[encoded data removed]",
            "text/plain": [
              "<Figure size 432x288 with 1 Axes>"
            ]
          },
          "metadata": {
            "tags": [],
            "needs_background": "light"
          }
        },
        {
          "output_type": "display_data",
          "data": {
            "image/png": "[encoded data removed]",
            "text/plain": [
              "<Figure size 432x288 with 1 Axes>"
            ]
          },
          "metadata": {
            "tags": [],
            "needs_background": "light"
          }
        },
        {
          "output_type": "display_data",
          "data": {
            "image/png": "[encoded data removed]",
            "text/plain": [
              "<Figure size 432x288 with 1 Axes>"
            ]
          },
          "metadata": {
            "tags": [],
            "needs_background": "light"
          }
        }
      ]
    },
    {
      "cell_type": "markdown",
      "metadata": {
        "colab_type": "text",
        "id": "ZkttxvvlnkFq"
      },
      "source": [
        "Using Tukey's IQR method and a threshold value of 1.5, how many trips have trip_time values that are identified as outliers? Print these trips out."
      ]
    },
    {
      "cell_type": "code",
      "metadata": {
        "id": "R0k7I_3MiwYQ",
        "colab_type": "code",
        "colab": {}
      },
      "source": [
        "p75, p25 = np.percentile(uber_hists['trip_time'], [75, 25])\n",
        "iqr = p75-p25\n",
        "min = p25-(iqr*1.5)\n",
        "max = p75+(iqr*1.5)\n",
        "# out_count = 0\n",
        "outliers_df = uber_hists\n",
        "for time in uber_hists['trip_time']:\n",
        "  if min < time < max:\n",
        "    outliers_df = outliers_df.drop(outliers_df.loc[outliers_df['trip_time'] == time].index)\n"
      ],
      "execution_count": null,
      "outputs": []
    },
    {
      "cell_type": "code",
      "metadata": {
        "id": "NbOZsXenk-LA",
        "colab_type": "code",
        "colab": {
          "base_uri": "https://localhost:8080/",
          "height": 955
        },
        "outputId": "0a6be3a0-be5c-4158-ab8f-09164042223e"
      },
      "source": [
        "outliers_df"
      ],
      "execution_count": null,
      "outputs": [
        {
          "output_type": "execute_result",
          "data": {
            "text/html": [
              "<div>\n",
              "<style scoped>\n",
              "    .dataframe tbody tr th:only-of-type {\n",
              "        vertical-align: middle;\n",
              "    }\n",
              "\n",
              "    .dataframe tbody tr th {\n",
              "        vertical-align: top;\n",
              "    }\n",
              "\n",
              "    .dataframe thead th {\n",
              "        text-align: right;\n",
              "    }\n",
              "</style>\n",
              "<table border=\"1\" class=\"dataframe\">\n",
              "  <thead>\n",
              "    <tr style=\"text-align: right;\">\n",
              "      <th></th>\n",
              "      <th>trip_time</th>\n",
              "      <th>total_time</th>\n",
              "      <th>wait_time</th>\n",
              "      <th>price_rub</th>\n",
              "      <th>price_usd</th>\n",
              "      <th>distance_kms</th>\n",
              "      <th>temperature_value</th>\n",
              "      <th>feels_like</th>\n",
              "      <th>humidity</th>\n",
              "      <th>wind_speed</th>\n",
              "      <th>cloudness</th>\n",
              "    </tr>\n",
              "  </thead>\n",
              "  <tbody>\n",
              "    <tr>\n",
              "      <th>2</th>\n",
              "      <td>66.883333</td>\n",
              "      <td>83.0</td>\n",
              "      <td>16.116667</td>\n",
              "      <td>644</td>\n",
              "      <td>13.01</td>\n",
              "      <td>18.01</td>\n",
              "      <td>14</td>\n",
              "      <td>14</td>\n",
              "      <td>0.61</td>\n",
              "      <td>5.25</td>\n",
              "      <td>0.86</td>\n",
              "    </tr>\n",
              "    <tr>\n",
              "      <th>13</th>\n",
              "      <td>50.216667</td>\n",
              "      <td>64.0</td>\n",
              "      <td>13.783333</td>\n",
              "      <td>228</td>\n",
              "      <td>4.20</td>\n",
              "      <td>9.41</td>\n",
              "      <td>29</td>\n",
              "      <td>31</td>\n",
              "      <td>0.63</td>\n",
              "      <td>5.11</td>\n",
              "      <td>0.75</td>\n",
              "    </tr>\n",
              "    <tr>\n",
              "      <th>29</th>\n",
              "      <td>68.066667</td>\n",
              "      <td>88.0</td>\n",
              "      <td>19.933333</td>\n",
              "      <td>1500</td>\n",
              "      <td>27.29</td>\n",
              "      <td>21.22</td>\n",
              "      <td>16</td>\n",
              "      <td>16</td>\n",
              "      <td>0.66</td>\n",
              "      <td>5.75</td>\n",
              "      <td>0.62</td>\n",
              "    </tr>\n",
              "    <tr>\n",
              "      <th>45</th>\n",
              "      <td>48.216667</td>\n",
              "      <td>57.0</td>\n",
              "      <td>8.783333</td>\n",
              "      <td>1800</td>\n",
              "      <td>33.55</td>\n",
              "      <td>19.14</td>\n",
              "      <td>15</td>\n",
              "      <td>15</td>\n",
              "      <td>0.41</td>\n",
              "      <td>5.95</td>\n",
              "      <td>0.46</td>\n",
              "    </tr>\n",
              "    <tr>\n",
              "      <th>47</th>\n",
              "      <td>62.016667</td>\n",
              "      <td>77.0</td>\n",
              "      <td>14.983333</td>\n",
              "      <td>593</td>\n",
              "      <td>10.46</td>\n",
              "      <td>15.63</td>\n",
              "      <td>14</td>\n",
              "      <td>14</td>\n",
              "      <td>0.91</td>\n",
              "      <td>4.70</td>\n",
              "      <td>0.79</td>\n",
              "    </tr>\n",
              "    <tr>\n",
              "      <th>79</th>\n",
              "      <td>53.216667</td>\n",
              "      <td>60.0</td>\n",
              "      <td>6.783333</td>\n",
              "      <td>518</td>\n",
              "      <td>7.84</td>\n",
              "      <td>13.78</td>\n",
              "      <td>16</td>\n",
              "      <td>16</td>\n",
              "      <td>0.67</td>\n",
              "      <td>4.67</td>\n",
              "      <td>0.75</td>\n",
              "    </tr>\n",
              "    <tr>\n",
              "      <th>106</th>\n",
              "      <td>51.050000</td>\n",
              "      <td>57.0</td>\n",
              "      <td>5.950000</td>\n",
              "      <td>1000</td>\n",
              "      <td>15.43</td>\n",
              "      <td>36.50</td>\n",
              "      <td>9</td>\n",
              "      <td>6</td>\n",
              "      <td>0.65</td>\n",
              "      <td>4.82</td>\n",
              "      <td>0.31</td>\n",
              "    </tr>\n",
              "    <tr>\n",
              "      <th>108</th>\n",
              "      <td>85.316667</td>\n",
              "      <td>103.0</td>\n",
              "      <td>17.683333</td>\n",
              "      <td>1000</td>\n",
              "      <td>16.00</td>\n",
              "      <td>46.04</td>\n",
              "      <td>-3</td>\n",
              "      <td>-3</td>\n",
              "      <td>0.97</td>\n",
              "      <td>0.95</td>\n",
              "      <td>0.18</td>\n",
              "    </tr>\n",
              "    <tr>\n",
              "      <th>117</th>\n",
              "      <td>71.200000</td>\n",
              "      <td>81.0</td>\n",
              "      <td>9.800000</td>\n",
              "      <td>669</td>\n",
              "      <td>10.17</td>\n",
              "      <td>17.32</td>\n",
              "      <td>-2</td>\n",
              "      <td>-7</td>\n",
              "      <td>0.75</td>\n",
              "      <td>4.86</td>\n",
              "      <td>0.84</td>\n",
              "    </tr>\n",
              "    <tr>\n",
              "      <th>201</th>\n",
              "      <td>47.966667</td>\n",
              "      <td>57.0</td>\n",
              "      <td>9.033333</td>\n",
              "      <td>349</td>\n",
              "      <td>5.28</td>\n",
              "      <td>9.54</td>\n",
              "      <td>21</td>\n",
              "      <td>21</td>\n",
              "      <td>0.82</td>\n",
              "      <td>2.64</td>\n",
              "      <td>0.80</td>\n",
              "    </tr>\n",
              "    <tr>\n",
              "      <th>253</th>\n",
              "      <td>84.800000</td>\n",
              "      <td>95.0</td>\n",
              "      <td>10.200000</td>\n",
              "      <td>570</td>\n",
              "      <td>9.00</td>\n",
              "      <td>22.63</td>\n",
              "      <td>0</td>\n",
              "      <td>-2</td>\n",
              "      <td>0.87</td>\n",
              "      <td>1.78</td>\n",
              "      <td>0.88</td>\n",
              "    </tr>\n",
              "    <tr>\n",
              "      <th>277</th>\n",
              "      <td>61.283333</td>\n",
              "      <td>70.0</td>\n",
              "      <td>8.716667</td>\n",
              "      <td>1468.05</td>\n",
              "      <td>22.65</td>\n",
              "      <td>20.41</td>\n",
              "      <td>-6</td>\n",
              "      <td>-13</td>\n",
              "      <td>0.82</td>\n",
              "      <td>6.08</td>\n",
              "      <td>0.99</td>\n",
              "    </tr>\n",
              "    <tr>\n",
              "      <th>291</th>\n",
              "      <td>64.983333</td>\n",
              "      <td>72.0</td>\n",
              "      <td>7.016667</td>\n",
              "      <td>574</td>\n",
              "      <td>9.38</td>\n",
              "      <td>9.88</td>\n",
              "      <td>2</td>\n",
              "      <td>-2</td>\n",
              "      <td>0.86</td>\n",
              "      <td>5.50</td>\n",
              "      <td>0.83</td>\n",
              "    </tr>\n",
              "    <tr>\n",
              "      <th>339</th>\n",
              "      <td>77.766667</td>\n",
              "      <td>86.0</td>\n",
              "      <td>8.233333</td>\n",
              "      <td>560</td>\n",
              "      <td>9.93</td>\n",
              "      <td>44.90</td>\n",
              "      <td>13</td>\n",
              "      <td>13</td>\n",
              "      <td>0.62</td>\n",
              "      <td>3.13</td>\n",
              "      <td>0.53</td>\n",
              "    </tr>\n",
              "    <tr>\n",
              "      <th>367</th>\n",
              "      <td>47.566667</td>\n",
              "      <td>59.0</td>\n",
              "      <td>11.433333</td>\n",
              "      <td>450.18</td>\n",
              "      <td>7.55</td>\n",
              "      <td>11.65</td>\n",
              "      <td>12</td>\n",
              "      <td>12</td>\n",
              "      <td>0.79</td>\n",
              "      <td>2.41</td>\n",
              "      <td>0.99</td>\n",
              "    </tr>\n",
              "    <tr>\n",
              "      <th>411</th>\n",
              "      <td>49.933333</td>\n",
              "      <td>62.0</td>\n",
              "      <td>12.066667</td>\n",
              "      <td>1588</td>\n",
              "      <td>26.88</td>\n",
              "      <td>31.64</td>\n",
              "      <td>20</td>\n",
              "      <td>20</td>\n",
              "      <td>0.72</td>\n",
              "      <td>3.92</td>\n",
              "      <td>0.42</td>\n",
              "    </tr>\n",
              "    <tr>\n",
              "      <th>413</th>\n",
              "      <td>57.650000</td>\n",
              "      <td>69.0</td>\n",
              "      <td>11.350000</td>\n",
              "      <td>610</td>\n",
              "      <td>10.32</td>\n",
              "      <td>34.01</td>\n",
              "      <td>16</td>\n",
              "      <td>17</td>\n",
              "      <td>0.90</td>\n",
              "      <td>1.10</td>\n",
              "      <td>0.92</td>\n",
              "    </tr>\n",
              "    <tr>\n",
              "      <th>414</th>\n",
              "      <td>58.350000</td>\n",
              "      <td>66.0</td>\n",
              "      <td>7.650000</td>\n",
              "      <td>632</td>\n",
              "      <td>11.00</td>\n",
              "      <td>38.42</td>\n",
              "      <td>19</td>\n",
              "      <td>19</td>\n",
              "      <td>0.78</td>\n",
              "      <td>7.38</td>\n",
              "      <td>0.78</td>\n",
              "    </tr>\n",
              "    <tr>\n",
              "      <th>432</th>\n",
              "      <td>50.066667</td>\n",
              "      <td>56.0</td>\n",
              "      <td>5.933333</td>\n",
              "      <td>857</td>\n",
              "      <td>14.20</td>\n",
              "      <td>42.71</td>\n",
              "      <td>1</td>\n",
              "      <td>-3</td>\n",
              "      <td>0.92</td>\n",
              "      <td>4.05</td>\n",
              "      <td>0.83</td>\n",
              "    </tr>\n",
              "    <tr>\n",
              "      <th>472</th>\n",
              "      <td>52.833333</td>\n",
              "      <td>58.0</td>\n",
              "      <td>5.166667</td>\n",
              "      <td>368</td>\n",
              "      <td>6.30</td>\n",
              "      <td>14.66</td>\n",
              "      <td>1</td>\n",
              "      <td>-3</td>\n",
              "      <td>0.81</td>\n",
              "      <td>4.63</td>\n",
              "      <td>0.90</td>\n",
              "    </tr>\n",
              "    <tr>\n",
              "      <th>473</th>\n",
              "      <td>56.933333</td>\n",
              "      <td>66.0</td>\n",
              "      <td>9.066667</td>\n",
              "      <td>525</td>\n",
              "      <td>8.99</td>\n",
              "      <td>16.63</td>\n",
              "      <td>0</td>\n",
              "      <td>-5</td>\n",
              "      <td>0.88</td>\n",
              "      <td>3.93</td>\n",
              "      <td>0.88</td>\n",
              "    </tr>\n",
              "    <tr>\n",
              "      <th>474</th>\n",
              "      <td>62.333333</td>\n",
              "      <td>73.0</td>\n",
              "      <td>10.666667</td>\n",
              "      <td>469</td>\n",
              "      <td>8.03</td>\n",
              "      <td>18.20</td>\n",
              "      <td>0</td>\n",
              "      <td>-5</td>\n",
              "      <td>0.88</td>\n",
              "      <td>3.88</td>\n",
              "      <td>0.88</td>\n",
              "    </tr>\n",
              "    <tr>\n",
              "      <th>519</th>\n",
              "      <td>53.116667</td>\n",
              "      <td>83.0</td>\n",
              "      <td>29.883333</td>\n",
              "      <td>1370</td>\n",
              "      <td>23.44</td>\n",
              "      <td>30.98</td>\n",
              "      <td>-2</td>\n",
              "      <td>-5</td>\n",
              "      <td>0.98</td>\n",
              "      <td>2.76</td>\n",
              "      <td>1.00</td>\n",
              "    </tr>\n",
              "    <tr>\n",
              "      <th>520</th>\n",
              "      <td>61.016667</td>\n",
              "      <td>77.0</td>\n",
              "      <td>15.983333</td>\n",
              "      <td>657.23</td>\n",
              "      <td>11.27</td>\n",
              "      <td>32.51</td>\n",
              "      <td>0</td>\n",
              "      <td>-3</td>\n",
              "      <td>0.95</td>\n",
              "      <td>2.62</td>\n",
              "      <td>0.99</td>\n",
              "    </tr>\n",
              "    <tr>\n",
              "      <th>590</th>\n",
              "      <td>74.100000</td>\n",
              "      <td>84.0</td>\n",
              "      <td>9.900000</td>\n",
              "      <td>555.5</td>\n",
              "      <td>9.60</td>\n",
              "      <td>24.51</td>\n",
              "      <td>-6</td>\n",
              "      <td>-10</td>\n",
              "      <td>0.82</td>\n",
              "      <td>3.02</td>\n",
              "      <td>0.53</td>\n",
              "    </tr>\n",
              "    <tr>\n",
              "      <th>591</th>\n",
              "      <td>53.016667</td>\n",
              "      <td>61.0</td>\n",
              "      <td>7.983333</td>\n",
              "      <td>479</td>\n",
              "      <td>8.20</td>\n",
              "      <td>13.84</td>\n",
              "      <td>-7</td>\n",
              "      <td>-11</td>\n",
              "      <td>0.85</td>\n",
              "      <td>2.27</td>\n",
              "      <td>0.43</td>\n",
              "    </tr>\n",
              "    <tr>\n",
              "      <th>600</th>\n",
              "      <td>62.533333</td>\n",
              "      <td>66.0</td>\n",
              "      <td>3.466667</td>\n",
              "      <td>850</td>\n",
              "      <td>14.71</td>\n",
              "      <td>35.79</td>\n",
              "      <td>-4</td>\n",
              "      <td>-8</td>\n",
              "      <td>0.61</td>\n",
              "      <td>3.40</td>\n",
              "      <td>0.61</td>\n",
              "    </tr>\n",
              "    <tr>\n",
              "      <th>601</th>\n",
              "      <td>67.966667</td>\n",
              "      <td>74.0</td>\n",
              "      <td>6.033333</td>\n",
              "      <td>1190</td>\n",
              "      <td>20.59</td>\n",
              "      <td>43.15</td>\n",
              "      <td>-11</td>\n",
              "      <td>-15</td>\n",
              "      <td>0.81</td>\n",
              "      <td>1.93</td>\n",
              "      <td>0.25</td>\n",
              "    </tr>\n",
              "    <tr>\n",
              "      <th>646</th>\n",
              "      <td>89.783333</td>\n",
              "      <td>104.0</td>\n",
              "      <td>14.216667</td>\n",
              "      <td>634.92</td>\n",
              "      <td>11.03</td>\n",
              "      <td>27.21</td>\n",
              "      <td>-7</td>\n",
              "      <td>-14</td>\n",
              "      <td>0.49</td>\n",
              "      <td>5.56</td>\n",
              "      <td>0.26</td>\n",
              "    </tr>\n",
              "    <tr>\n",
              "      <th>647</th>\n",
              "      <td>49.650000</td>\n",
              "      <td>63.0</td>\n",
              "      <td>13.350000</td>\n",
              "      <td>750</td>\n",
              "      <td>13.03</td>\n",
              "      <td>19.59</td>\n",
              "      <td>-7</td>\n",
              "      <td>-13</td>\n",
              "      <td>0.49</td>\n",
              "      <td>4.36</td>\n",
              "      <td>0.47</td>\n",
              "    </tr>\n",
              "  </tbody>\n",
              "</table>\n",
              "</div>"
            ],
            "text/plain": [
              "     trip_time  total_time  wait_time  ... humidity  wind_speed  cloudness\n",
              "2    66.883333        83.0  16.116667  ...     0.61        5.25       0.86\n",
              "13   50.216667        64.0  13.783333  ...     0.63        5.11       0.75\n",
              "29   68.066667        88.0  19.933333  ...     0.66        5.75       0.62\n",
              "45   48.216667        57.0   8.783333  ...     0.41        5.95       0.46\n",
              "47   62.016667        77.0  14.983333  ...     0.91        4.70       0.79\n",
              "79   53.216667        60.0   6.783333  ...     0.67        4.67       0.75\n",
              "106  51.050000        57.0   5.950000  ...     0.65        4.82       0.31\n",
              "108  85.316667       103.0  17.683333  ...     0.97        0.95       0.18\n",
              "117  71.200000        81.0   9.800000  ...     0.75        4.86       0.84\n",
              "201  47.966667        57.0   9.033333  ...     0.82        2.64       0.80\n",
              "253  84.800000        95.0  10.200000  ...     0.87        1.78       0.88\n",
              "277  61.283333        70.0   8.716667  ...     0.82        6.08       0.99\n",
              "291  64.983333        72.0   7.016667  ...     0.86        5.50       0.83\n",
              "339  77.766667        86.0   8.233333  ...     0.62        3.13       0.53\n",
              "367  47.566667        59.0  11.433333  ...     0.79        2.41       0.99\n",
              "411  49.933333        62.0  12.066667  ...     0.72        3.92       0.42\n",
              "413  57.650000        69.0  11.350000  ...     0.90        1.10       0.92\n",
              "414  58.350000        66.0   7.650000  ...     0.78        7.38       0.78\n",
              "432  50.066667        56.0   5.933333  ...     0.92        4.05       0.83\n",
              "472  52.833333        58.0   5.166667  ...     0.81        4.63       0.90\n",
              "473  56.933333        66.0   9.066667  ...     0.88        3.93       0.88\n",
              "474  62.333333        73.0  10.666667  ...     0.88        3.88       0.88\n",
              "519  53.116667        83.0  29.883333  ...     0.98        2.76       1.00\n",
              "520  61.016667        77.0  15.983333  ...     0.95        2.62       0.99\n",
              "590  74.100000        84.0   9.900000  ...     0.82        3.02       0.53\n",
              "591  53.016667        61.0   7.983333  ...     0.85        2.27       0.43\n",
              "600  62.533333        66.0   3.466667  ...     0.61        3.40       0.61\n",
              "601  67.966667        74.0   6.033333  ...     0.81        1.93       0.25\n",
              "646  89.783333       104.0  14.216667  ...     0.49        5.56       0.26\n",
              "647  49.650000        63.0  13.350000  ...     0.49        4.36       0.47\n",
              "\n",
              "[30 rows x 11 columns]"
            ]
          },
          "metadata": {
            "tags": []
          },
          "execution_count": 27
        }
      ]
    },
    {
      "cell_type": "markdown",
      "metadata": {
        "id": "4_btClOuRS61",
        "colab_type": "text"
      },
      "source": [
        "There are various ways of handling outliers, including \"clipping\" (also called \"winsorizing\"). Clip the outliers to the appropriate upper/lower threshold calculated as part of Tukey's method. Plot the histogram for trip_time after clipping; how does it look different?"
      ]
    },
    {
      "cell_type": "code",
      "metadata": {
        "colab_type": "code",
        "id": "siXVYqAfnkFt",
        "colab": {
          "base_uri": "https://localhost:8080/",
          "height": 34
        },
        "outputId": "c4262c00-6f1f-4e12-d6b7-56ec5b9ba0a2"
      },
      "source": [
        "# answer goes here\n",
        "from scipy.stats.mstats import winsorize\n",
        "\n",
        "\n",
        "# 68.3 + 13.6\n",
        "# 100-81.999\n",
        "\n",
        "winsorized_trip_time = winsorize(uber_hists['trip_time'], (0, 0.09))\n",
        "\n",
        "type(winsorized_trip_time)"
      ],
      "execution_count": null,
      "outputs": [
        {
          "output_type": "execute_result",
          "data": {
            "text/plain": [
              "numpy.ma.core.MaskedArray"
            ]
          },
          "metadata": {
            "tags": []
          },
          "execution_count": 30
        }
      ]
    },
    {
      "cell_type": "code",
      "metadata": {
        "id": "XkIeKuhrnTRy",
        "colab_type": "code",
        "colab": {
          "base_uri": "https://localhost:8080/",
          "height": 332
        },
        "outputId": "e3ee80e3-b6fc-4c51-d85c-bc02e7ffac1d"
      },
      "source": [
        "plt.hist(winsorized_trip_time)"
      ],
      "execution_count": null,
      "outputs": [
        {
          "output_type": "execute_result",
          "data": {
            "text/plain": [
              "(array([ 15.,  42.,  93.,  94., 126.,  65.,  81.,  41.,  35.,  85.]),\n",
              " array([ 0.15 ,  3.955,  7.76 , 11.565, 15.37 , 19.175, 22.98 , 26.785,\n",
              "        30.59 , 34.395, 38.2  ]),\n",
              " <a list of 10 Patch objects>)"
            ]
          },
          "metadata": {
            "tags": []
          },
          "execution_count": 31
        },
        {
          "output_type": "display_data",
          "data": {
            "image/png": "[encoded data removed]",
            "text/plain": [
              "<Figure size 432x288 with 1 Axes>"
            ]
          },
          "metadata": {
            "tags": [],
            "needs_background": "light"
          }
        }
      ]
    },
    {
      "cell_type": "code",
      "metadata": {
        "id": "42XsR9IznmtJ",
        "colab_type": "code",
        "colab": {
          "base_uri": "https://localhost:8080/",
          "height": 34
        },
        "outputId": "52c21e65-5a1e-4f6d-db69-2a6f35e392ea"
      },
      "source": [
        "100-81.999"
      ],
      "execution_count": null,
      "outputs": [
        {
          "output_type": "execute_result",
          "data": {
            "text/plain": [
              "18.001000000000005"
            ]
          },
          "metadata": {
            "tags": []
          },
          "execution_count": 32
        }
      ]
    },
    {
      "cell_type": "code",
      "metadata": {
        "id": "I_8zvuZOnsNr",
        "colab_type": "code",
        "colab": {}
      },
      "source": [
        ""
      ],
      "execution_count": null,
      "outputs": []
    }
  ]
}