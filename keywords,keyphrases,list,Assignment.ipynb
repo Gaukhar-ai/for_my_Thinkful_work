{
  "nbformat": 4,
  "nbformat_minor": 0,
  "metadata": {
    "kernelspec": {
      "display_name": "Python 3",
      "language": "python",
      "name": "python3"
    },
    "language_info": {
      "codemirror_mode": {
        "name": "ipython",
        "version": 3
      },
      "file_extension": ".py",
      "mimetype": "text/x-python",
      "name": "python",
      "nbconvert_exporter": "python",
      "pygments_lexer": "ipython3",
      "version": "3.7.2"
    },
    "colab": {
      "name": "keywords,keyphrases,list,Assignment.ipynb",
      "provenance": [],
      "collapsed_sections": [],
      "include_colab_link": true
    }
  },
  "cells": [
    {
      "cell_type": "markdown",
      "metadata": {
        "id": "view-in-github",
        "colab_type": "text"
      },
      "source": [
        "<a href=\"https://colab.research.google.com/github/Gaukhar-ai/for_my_Thinkful_work/blob/master/keywords%2Ckeyphrases%2Clist%2CAssignment.ipynb\" target=\"_parent\"><img src=\"https://colab.research.google.com/assets/colab-badge.svg\" alt=\"Open In Colab\"/></a>"
      ]
    },
    {
      "cell_type": "markdown",
      "metadata": {
        "id": "E0voemCtIvus"
      },
      "source": [
        "# Extracting Information from Text Data Assignment"
      ]
    },
    {
      "cell_type": "code",
      "metadata": {
        "id": "EbB__zIWzob1",
        "outputId": "01edeaa8-e8b5-46e7-bf74-92fcc562b9a1",
        "colab": {
          "base_uri": "https://localhost:8080/"
        }
      },
      "source": [
        "!pip install textacy --quiet\n",
        "!pip install rake_nltk --quiet"
      ],
      "execution_count": 2,
      "outputs": [
        {
          "output_type": "stream",
          "text": [
            "\u001b[?25l\r\u001b[K     |█▉                              | 10kB 23.3MB/s eta 0:00:01\r\u001b[K     |███▋                            | 20kB 2.2MB/s eta 0:00:01\r\u001b[K     |█████▍                          | 30kB 2.7MB/s eta 0:00:01\r\u001b[K     |███████▏                        | 40kB 3.0MB/s eta 0:00:01\r\u001b[K     |█████████                       | 51kB 2.6MB/s eta 0:00:01\r\u001b[K     |██████████▊                     | 61kB 2.8MB/s eta 0:00:01\r\u001b[K     |████████████▌                   | 71kB 3.0MB/s eta 0:00:01\r\u001b[K     |██████████████▎                 | 81kB 3.4MB/s eta 0:00:01\r\u001b[K     |████████████████                | 92kB 3.6MB/s eta 0:00:01\r\u001b[K     |██████████████████              | 102kB 3.4MB/s eta 0:00:01\r\u001b[K     |███████████████████▊            | 112kB 3.4MB/s eta 0:00:01\r\u001b[K     |█████████████████████▌          | 122kB 3.4MB/s eta 0:00:01\r\u001b[K     |███████████████████████▎        | 133kB 3.4MB/s eta 0:00:01\r\u001b[K     |█████████████████████████       | 143kB 3.4MB/s eta 0:00:01\r\u001b[K     |██████████████████████████▉     | 153kB 3.4MB/s eta 0:00:01\r\u001b[K     |████████████████████████████▋   | 163kB 3.4MB/s eta 0:00:01\r\u001b[K     |██████████████████████████████▍ | 174kB 3.4MB/s eta 0:00:01\r\u001b[K     |████████████████████████████████| 184kB 3.4MB/s \n",
            "\u001b[K     |████████████████████████████████| 481kB 10.8MB/s \n",
            "\u001b[K     |████████████████████████████████| 102kB 8.8MB/s \n",
            "\u001b[K     |████████████████████████████████| 1.9MB 16.5MB/s \n",
            "\u001b[?25h  Building wheel for cytoolz (setup.py) ... \u001b[?25l\u001b[?25hdone\n",
            "  Building wheel for rake-nltk (setup.py) ... \u001b[?25l\u001b[?25hdone\n"
          ],
          "name": "stdout"
        }
      ]
    },
    {
      "cell_type": "code",
      "metadata": {
        "id": "QNIoK-wzIvuv"
      },
      "source": [
        "import spacy\n",
        "import string\n",
        "import textacy\n",
        "import itertools\n",
        "from nltk import pos_tag\n",
        "from rake_nltk import Rake\n",
        "from nltk import sent_tokenize\n",
        "from nltk import word_tokenize\n",
        "from nltk import tree2conlltags\n",
        "from gensim.summarization import keywords\n",
        "from nltk.chunk.regexp import RegexpParser\n",
        "from nltk.corpus.reader.plaintext import PlaintextCorpusReader"
      ],
      "execution_count": 3,
      "outputs": []
    },
    {
      "cell_type": "markdown",
      "metadata": {
        "id": "4M7RrWRKIvuy"
      },
      "source": [
        "### Read the CNN Lite plain text file articles into a corpus using the NLTK's PlaintextCorpusReader."
      ]
    },
    {
      "cell_type": "code",
      "metadata": {
        "id": "ghMBn7GfNkhe"
      },
      "source": [
        "from nltk.corpus.reader.plaintext import PlaintextCorpusReader\n",
        "\n",
        "\n",
        "PATH = '/content/drive/My Drive/cnn_lite'\n",
        "DOC_PATTERN = r'.*\\.txt'\n",
        "corpus = PlaintextCorpusReader(PATH, DOC_PATTERN)"
      ],
      "execution_count": 7,
      "outputs": []
    },
    {
      "cell_type": "markdown",
      "metadata": {
        "id": "y6Zp26sVIvu1"
      },
      "source": [
        "### Iterate through the fileids in the corpus, extract the raw text of each document, and store them in a list."
      ]
    },
    {
      "cell_type": "code",
      "metadata": {
        "id": "yl15hykfIvu2"
      },
      "source": [
        "docs = [corpus.raw(fileid) for fileid in corpus.fileids()]"
      ],
      "execution_count": 8,
      "outputs": []
    },
    {
      "cell_type": "code",
      "metadata": {
        "id": "utauCcwP73Rr"
      },
      "source": [
        "doc = docs[0]"
      ],
      "execution_count": 9,
      "outputs": []
    },
    {
      "cell_type": "code",
      "metadata": {
        "id": "K2OSuRNc8AOX",
        "outputId": "d766d8b7-eeb1-43af-8e23-ff31355e523f",
        "colab": {
          "base_uri": "https://localhost:8080/",
          "height": 137
        }
      },
      "source": [
        "doc"
      ],
      "execution_count": 10,
      "outputs": [
        {
          "output_type": "execute_result",
          "data": {
            "application/vnd.google.colaboratory.intrinsic+json": {
              "type": "string"
            },
            "text/plain": [
              "'Des Moines, Iowa (CNN) - Rep. Alexandria Ocasio-Cortez capped her debut on the Iowa hustings in support of Bernie Sanders last week with a blunt call to action. \"This is not about something that we allow to happen to us. We don\\'t let this race happen to us,\" she said at a rally for the Vermont senator in Council Bluffs. \"We don\\'t watch the presidential race. This is not a movie, this a movement.\" And yet, there has been a certain cinematic quality to the last six weeks of Sanders\\' second Democratic presidential campaign. Nearly sidelined, or worse, by a heart attack in Las Vegas on the first night of October, Sanders has charted a remarkable revival. It\\'s been powered by a run of invigorating endorsements, new poll results that showed him gaining steam in New Hampshire and Iowa, and the sense, fueled in part by the massive crowds that welcomed him during recent rallies in New York and Minnesota, that his \"political revolution\" was, after a trying summer, back on the march. There are also, as Sanders joked following his Saturday climate summit in Des Moines, the stents to thank. \"I\\'ve got three arteries that are working right now, that\\'s pretty good,\" he deadpanned, while practicing mid-range jumpers on a basketball court at Drake University. \"Better than one blocked artery, so I\\'m feeling really good.\" His supporters and staff are saying much of the same. The backing of Ocasio-Cortez, along with fellow \"squad\" members Rep. Ilhan Omar and Rep. Rashida Tlaib, news of which broke before and during the most recent debate last month in Ohio, bolstered an argument that Sanders has been making for months, that his campaign is steadily attracting a racially diverse, young and working class coalition ready to make an unapologetic case for his democratic socialist vision. Democratic voters, too, have made it clear that Sanders remains front of mind as the primary season approaches. About two weeks after the debate, a CNN poll of Democrats in New Hampshire showed Sanders with a narrow lead over the emerging top tier of candidates, with 21% to Sen. Elizabeth Warren\\'s 18%. Former Vice President Joe Biden came in at 15%, and South Bend, Indiana, Mayor Pete Buttigieg, placed fourth with 10%. No one else touched double digits. Recent surveys of Democrats in Iowa show the same group jockeying, mostly within the margin of statistical error, for the top position. A durable candidate. For an elected leader famously disinclined to discuss his own inner life, and whose campaign slogan, \"Not me, us\", is both a comment on his view of politics and a criticism of how its practice is covered by the press, Sanders wry assessment of his arterial functions felt like a revolution in its own right. \"Bernie\\'s back,\" as his campaign puts it, but the person at the center of it all seems just a little bit different. As if he\\'s been freed, finally, to return the embrace of an increasingly influential leftist movement, the largest the country has seen in nearly a century, that has vaulted him to within a relative whisper of the White House. Sanders entered the current Democratic primary in February with the same message he has championed for the better party of four decades. It\\'s one that he pushed in 2016, when he challenged Hillary Clinton for the Democratic nomination and lost. This time, the world around him had changed, and so too had the expectations surrounding his campaign. No longer an underdog, Sanders began his 2020 bid amid a new round of harrowing questions. What if his supporters in 2016 fled for a fresh face, like former Texas Rep. Beto O\\'Rourke? How would he fair in a more crowded field, with fellow progressive icon Elizabeth Warren now another option for Democrats? Would his appeal wane without Clinton around to play his moderate foil? Could he expand his base beyond the diehards and ideologues, and actually turn out the tuned-out voters, so many young and working class, that so often go underrepresented on Election Day. The answers, to date, are either mixed or inconclusive. There are still nearly three months to go before the Iowa caucuses kick off a primary that is shaping up to be among the messiest in a generation. O\\'Rourke faded and dropped out of the race. But Warren is firmly entrenched among the frontrunners. Clinton\\'s shadow still lingers, for better or worse, and Biden offers a similar contrast, while South Bend, Indiana, Mayor Pete Buttigieg has emerged a formidable centrist foe. The Bernie base remains firmly in place. Whether he can grow it, and if he can, by how much, is open for debate. In the meantime, Sanders is taking on the most recent source of doubt, his health, with the kind of alternately droll and punchy sense of humor he is traditionally loathe to display in public. \"This is not a beauty contest,\" Sanders said of the primary during his first trip to Iowa after the heart attack, back in October. \"Which obviously I would win, I know that.\" A change of tone. During his brief convalescence at home in Burlington, Vermont, Sanders invited television cameras and reporters inside to answer more detailed questions about his health. But since the most recent primary debate in Ohio, and a rousing rally in New York with Ocasio-Cortez and other young progressive leaders, he\\'s taken a lighter tone. \"Brothers and sisters, I thank you so much for your support, but this is what I want to say. This comes from the bottom of my heart,\" Sanders said at a festive gathering in Detroit, where he was officially endorsed by Tlaib, before pausing for effect. As his smile widened, Sanders delivered the punchline: \"And by the way, my heart is doing just fine.\" Sanders has also injected some of those waggish asides into the sharper stretches of his stump speech. \"Today we tell Donald Trump,\" Sanders said, before stopping himself. \"What can we tell Donald Trump?,\" he asked, in mocking exasperation. \"See, if I use a profane word, I\\'ll get in trouble. All right, all right, he\\'s an idiot. You made me say it. But in this case, I\\'m going to tell the media you made me say it. It\\'s their fault.\" Some things do not change. Sanders\\' leadership team, as it did in 2016, operates in a near-constant state of vigilance when it comes to mainstream press coverage of his campaign. \"As we have said from the beginning, this is a campaign built to win and planning to win,\" campaign manager Faiz Shakir told CNN last month, as Sanders returned to the trail. \"We\\'ve been steadily and consistently executing our strategy, even while the media analysis of our campaign has been in disarray.\" But all is not status quo inside the Sanders campaign. During a recent visit to his campaign office in Washington, DC, Sanders sat and chatted with a group of lower-level staffers. When others began to migrate from across the room for a closer listen, a top aide recalled, Sanders decided to stick around a little longer and give a similar pep talk to those who missed out on the first round. The aide, who has been with the senator since 2016, acknowledged that a candidate. Sanders included, talking to his the staff was not out of the ordinary. But in the aftermath of Sanders\\' heart attack, the tone of those conversations has changed. \"There was a moment of time where his voice, his vision, his fight was taken away. And that was something that jarred people into realizing that there\\'s this amazing opportunity that we have to fight for the progressive future that we all want,\" the aide told CNN. That newfound ability to pull his devoted team closer should not be confused with a softening of the edges. Sanders the progressive pugilist welcomed news of billionaire former New York City Mayor Michael Bloomberg\\'s prospective run as one might expect: acidly. \"Oh, my goodness. How important, how monumental that he\\'s running for president,\" Sanders said, mimicking a credulous broadcaster, at Drake University. If a candidate with fewer resources entered the race, Sanders added, his voice turned down, \"nobody would give a damn.\" © 2019 Cable News Network. Turner Broadcasting System, Inc. All Rights Reserved. Listen to CNN (low-bandwidth usage). Go to the full CNN experience.'"
            ]
          },
          "metadata": {
            "tags": []
          },
          "execution_count": 10
        }
      ]
    },
    {
      "cell_type": "code",
      "metadata": {
        "id": "Bi6DAp4T04U0",
        "outputId": "6af62093-8c64-4abc-8e9d-d40a284358dd",
        "colab": {
          "base_uri": "https://localhost:8080/"
        }
      },
      "source": [
        "from google.colab import drive\n",
        "drive.mount('/content/drive')"
      ],
      "execution_count": 6,
      "outputs": [
        {
          "output_type": "stream",
          "text": [
            "Mounted at /content/drive\n"
          ],
          "name": "stdout"
        }
      ]
    },
    {
      "cell_type": "markdown",
      "metadata": {
        "id": "c5LLM0YPIvu4"
      },
      "source": [
        "### Extract the top 5 keywords from every document in the corpus. Print them and compare the differences in keywords among the documents."
      ]
    },
    {
      "cell_type": "code",
      "metadata": {
        "scrolled": true,
        "id": "wcXEjv6FIvu4",
        "outputId": "6b93ed43-1f02-49e8-8c66-1b5c5e15b6c3",
        "colab": {
          "base_uri": "https://localhost:8080/"
        }
      },
      "source": [
        "from gensim.summarization import keywords\n",
        "\n",
        "key_words = keywords(doc, words = 5, lemmatize=True).split('\\n')\n",
        "key_words"
      ],
      "execution_count": 13,
      "outputs": [
        {
          "output_type": "execute_result",
          "data": {
            "text/plain": [
              "['sanders', 'campaign', 'news', 'democrats', 'recent']"
            ]
          },
          "metadata": {
            "tags": []
          },
          "execution_count": 13
        }
      ]
    },
    {
      "cell_type": "markdown",
      "metadata": {
        "id": "6w50BcwMIvu6"
      },
      "source": [
        "\n",
        "\n",
        "```\n",
        "# This is formatted as code\n",
        "```\n",
        "\n",
        "### Extract the top 3 keyphrases from each document, print them, and compare the differences."
      ]
    },
    {
      "cell_type": "code",
      "metadata": {
        "id": "7M0PDiFwIvu7"
      },
      "source": [
        "from rake_nltk import Rake\n",
        "\n",
        "r = Rake()\n",
        "r.extract_keywords_from_text(doc)\n",
        "key_phrases = r.get_ranked_phrases_with_scores()[0:3]"
      ],
      "execution_count": 44,
      "outputs": []
    },
    {
      "cell_type": "code",
      "metadata": {
        "id": "Ex3_ZPTj-VoZ",
        "outputId": "5d21d047-f5f3-40ea-bc3b-c36f9d6e9ac9",
        "colab": {
          "base_uri": "https://localhost:8080/"
        }
      },
      "source": [
        "key_phrases"
      ],
      "execution_count": 45,
      "outputs": [
        {
          "output_type": "execute_result",
          "data": {
            "text/plain": [
              "[(64.35555555555555,\n",
              "  'win ,\" campaign manager faiz shakir told cnn last month'),\n",
              " (52.0, 'billionaire former new york city mayor michael bloomberg'),\n",
              " (33.0, 'former vice president joe biden came')]"
            ]
          },
          "metadata": {
            "tags": []
          },
          "execution_count": 45
        }
      ]
    },
    {
      "cell_type": "markdown",
      "metadata": {
        "id": "Rev-FI9HIvu9"
      },
      "source": [
        "### Identify and extract the named entities in each document, filtering out the numeric types. Print them and compare the differences between documents."
      ]
    },
    {
      "cell_type": "code",
      "metadata": {
        "id": "TLs9TLMHIvu9",
        "outputId": "b0eddda6-b147-4c06-b3cb-f9efb87903cd",
        "colab": {
          "base_uri": "https://localhost:8080/"
        }
      },
      "source": [
        "import spacy\n",
        "\n",
        "nlp = spacy.load('en_core_web_sm')\n",
        "spacy_doc = nlp(doc)\n",
        "type(spacy_doc)"
      ],
      "execution_count": 46,
      "outputs": [
        {
          "output_type": "execute_result",
          "data": {
            "text/plain": [
              "spacy.tokens.doc.Doc"
            ]
          },
          "metadata": {
            "tags": []
          },
          "execution_count": 46
        }
      ]
    },
    {
      "cell_type": "code",
      "metadata": {
        "id": "ntUBiDybCtby"
      },
      "source": [
        "entities = [[entity.text, entity.label_] for entity in spacy_doc.ents]"
      ],
      "execution_count": 47,
      "outputs": []
    },
    {
      "cell_type": "code",
      "metadata": {
        "id": "0OdZWiQEFUop",
        "outputId": "38d1e143-c51b-4db9-b0cf-71c05059417a",
        "colab": {
          "base_uri": "https://localhost:8080/"
        }
      },
      "source": [
        "NUM_ENT = [\"DATE\", \"TIME\", \"PERCENT\", \"MONEY\", \"QUANTITY\", \"ORDINAL\", \"CARDINAL\"]\n",
        "\n",
        "entities = [[entity.text, entity.label_] for entity in spacy_doc.ents if entity.label_ not in NUM_ENT]\n",
        "entities"
      ],
      "execution_count": 48,
      "outputs": [
        {
          "output_type": "execute_result",
          "data": {
            "text/plain": [
              "[['Des Moines', 'GPE'],\n",
              " ['Iowa', 'GPE'],\n",
              " ['CNN', 'ORG'],\n",
              " ['Alexandria Ocasio-Cortez', 'PERSON'],\n",
              " ['Iowa', 'GPE'],\n",
              " ['Bernie Sanders', 'PERSON'],\n",
              " ['Vermont', 'GPE'],\n",
              " ['Council Bluffs', 'ORG'],\n",
              " ['Sanders', 'ORG'],\n",
              " ['Democratic', 'NORP'],\n",
              " ['Las Vegas', 'GPE'],\n",
              " ['Sanders', 'ORG'],\n",
              " ['New Hampshire', 'GPE'],\n",
              " ['Iowa', 'GPE'],\n",
              " ['New York', 'GPE'],\n",
              " ['Minnesota', 'GPE'],\n",
              " ['Sanders', 'ORG'],\n",
              " ['Des Moines', 'GPE'],\n",
              " ['Drake University', 'ORG'],\n",
              " ['Ocasio-Cortez', 'ORG'],\n",
              " ['Ilhan Omar', 'PERSON'],\n",
              " ['Rashida Tlaib', 'PERSON'],\n",
              " ['Ohio', 'GPE'],\n",
              " ['Sanders', 'ORG'],\n",
              " ['Democratic', 'NORP'],\n",
              " ['Sanders', 'ORG'],\n",
              " ['CNN', 'ORG'],\n",
              " ['Democrats', 'NORP'],\n",
              " ['New Hampshire', 'GPE'],\n",
              " [\"Elizabeth Warren's\", 'PERSON'],\n",
              " ['Joe Biden', 'PERSON'],\n",
              " ['South Bend', 'GPE'],\n",
              " ['Indiana', 'GPE'],\n",
              " ['Pete Buttigieg', 'PERSON'],\n",
              " ['Democrats', 'NORP'],\n",
              " ['Iowa', 'GPE'],\n",
              " ['Bernie', 'PERSON'],\n",
              " ['the White House', 'ORG'],\n",
              " ['Democratic', 'NORP'],\n",
              " ['the better party of', 'ORG'],\n",
              " ['Hillary Clinton', 'PERSON'],\n",
              " ['Democratic', 'NORP'],\n",
              " ['Sanders', 'NORP'],\n",
              " ['Texas', 'GPE'],\n",
              " [\"Beto O'Rourke\", 'PERSON'],\n",
              " ['Elizabeth Warren', 'PERSON'],\n",
              " ['Democrats', 'NORP'],\n",
              " ['Clinton', 'PERSON'],\n",
              " ['Iowa', 'GPE'],\n",
              " [\"O'Rourke\", 'ORG'],\n",
              " ['Warren', 'PERSON'],\n",
              " ['Clinton', 'PERSON'],\n",
              " ['Biden', 'PERSON'],\n",
              " ['South Bend', 'GPE'],\n",
              " ['Indiana', 'GPE'],\n",
              " ['Pete Buttigieg', 'PERSON'],\n",
              " ['Bernie', 'ORG'],\n",
              " ['Sanders', 'ORG'],\n",
              " ['Iowa', 'GPE'],\n",
              " ['Burlington', 'GPE'],\n",
              " ['Vermont', 'GPE'],\n",
              " ['Sanders', 'ORG'],\n",
              " ['Ohio', 'GPE'],\n",
              " ['New York', 'GPE'],\n",
              " ['Ocasio-Cortez', 'ORG'],\n",
              " ['Sanders', 'ORG'],\n",
              " ['Detroit', 'GPE'],\n",
              " ['Tlaib', 'NORP'],\n",
              " ['Sanders', 'NORP'],\n",
              " ['Donald Trump', 'PERSON'],\n",
              " ['Sanders', 'ORG'],\n",
              " ['Donald Trump', 'PERSON'],\n",
              " ['Faiz Shakir', 'PERSON'],\n",
              " ['CNN', 'ORG'],\n",
              " ['Sanders', 'ORG'],\n",
              " ['Sanders', 'NORP'],\n",
              " ['Washington, DC', 'GPE'],\n",
              " ['Sanders', 'ORG'],\n",
              " ['Sanders', 'ORG'],\n",
              " ['CNN', 'ORG'],\n",
              " ['New York City', 'GPE'],\n",
              " ['Michael Bloomberg', 'PERSON'],\n",
              " ['Sanders', 'ORG'],\n",
              " ['Drake University', 'ORG'],\n",
              " ['Sanders', 'ORG'],\n",
              " ['Cable News Network', 'ORG'],\n",
              " ['Turner Broadcasting System,', 'ORG'],\n",
              " ['CNN', 'ORG'],\n",
              " ['CNN', 'ORG']]"
            ]
          },
          "metadata": {
            "tags": []
          },
          "execution_count": 48
        }
      ]
    },
    {
      "cell_type": "markdown",
      "metadata": {
        "id": "UwhH404sIvvB"
      },
      "source": [
        "### For every document in the corpus, iterate over every sentence, extract any SVO triples, print them, and compare."
      ]
    },
    {
      "cell_type": "code",
      "metadata": {
        "id": "03XLMyk1IvvC",
        "outputId": "8053ef8f-1786-49d3-b1c8-0f509105b617",
        "colab": {
          "base_uri": "https://localhost:8080/"
        }
      },
      "source": [
        "import textacy\n",
        "\n",
        "results = []\n",
        "\n",
        "for sent in spacy_doc.sents:\n",
        "  svos = textacy.extract.subject_verb_object_triples(sent)\n",
        "  results += svos\n",
        "\n",
        "results"
      ],
      "execution_count": 50,
      "outputs": [
        {
          "output_type": "execute_result",
          "data": {
            "text/plain": [
              "[(Cortez, capped, debut),\n",
              " (we, allow, to happen),\n",
              " (We, don't watch, race),\n",
              " (Sanders, has charted, revival),\n",
              " (that, showed, him),\n",
              " (that, welcomed, him),\n",
              " (I, 've got, arteries),\n",
              " (supporters, are saying, much),\n",
              " (staff, are saying, much),\n",
              " (backing, bolstered, argument),\n",
              " (campaign, attracting, class coalition),\n",
              " (Sanders, remains, front),\n",
              " (CNN poll, showed, Sanders),\n",
              " (one, touched, digits),\n",
              " (surveys, show, group jockeying),\n",
              " (campaign, puts, it),\n",
              " (person, seems, different),\n",
              " (that, has vaulted, him),\n",
              " (Sanders, entered, primary),\n",
              " (he, challenged, Clinton),\n",
              " (Sanders, began, bid),\n",
              " (he, fair, option),\n",
              " (appeal wane, to play, foil),\n",
              " (he, expand, base),\n",
              " (Iowa caucuses, kick, primary),\n",
              " (Biden, offers, contrast),\n",
              " (South Bend, has emerged, foe),\n",
              " (Mayor Pete Buttigieg, has emerged, foe),\n",
              " (he, can grow, it),\n",
              " (Sanders, is taking, source),\n",
              " (I, know, that),\n",
              " (Sanders, invited, television cameras),\n",
              " (Sanders, invited, reporters),\n",
              " (he, 's taken, tone),\n",
              " (I, thank, you),\n",
              " (I, want, to say),\n",
              " (Sanders, delivered, punchline),\n",
              " (Sanders, injected, some),\n",
              " (we, tell, Trump),\n",
              " (we, tell, Trump),\n",
              " (I, use, profane word),\n",
              " (me, say, it),\n",
              " (I, 'm going, to tell),\n",
              " (me, say, it),\n",
              " (manager Faiz Shakir, told, CNN),\n",
              " (others, began, to migrate),\n",
              " (Sanders, decided, to stick),\n",
              " (Sanders, decided, give),\n",
              " (that, jarred, people),\n",
              " (aide, told, CNN),\n",
              " (Sanders, welcomed, news),\n",
              " (Sanders, welcomed, run),\n",
              " (pugilist, welcomed, news),\n",
              " (pugilist, welcomed, run),\n",
              " (candidate, entered, race),\n",
              " (nobody, would give, damn)]"
            ]
          },
          "metadata": {
            "tags": []
          },
          "execution_count": 50
        }
      ]
    }
  ]
}