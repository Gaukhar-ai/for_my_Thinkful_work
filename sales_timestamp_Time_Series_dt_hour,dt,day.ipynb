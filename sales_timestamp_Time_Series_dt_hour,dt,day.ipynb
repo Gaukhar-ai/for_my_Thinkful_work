{
  "nbformat": 4,
  "nbformat_minor": 0,
  "metadata": {
    "colab": {
      "name": "sales_timestamp_Time_Series_dt.hour,dt,day.ipynb",
      "provenance": [],
      "authorship_tag": "ABX9TyNOkGNvO0REvPote4d/Wx5B",
      "include_colab_link": true
    },
    "kernelspec": {
      "name": "python3",
      "display_name": "Python 3"
    }
  },
  "cells": [
    {
      "cell_type": "markdown",
      "metadata": {
        "id": "view-in-github",
        "colab_type": "text"
      },
      "source": [
        "<a href=\"https://colab.research.google.com/github/Gaukhar-ai/for_my_Thinkful_work/blob/master/sales_timestamp_Time_Series_dt_hour%2Cdt%2Cday.ipynb\" target=\"_parent\"><img src=\"https://colab.research.google.com/assets/colab-badge.svg\" alt=\"Open In Colab\"/></a>"
      ]
    },
    {
      "cell_type": "code",
      "metadata": {
        "id": "Oyj0PVMEjRFO"
      },
      "source": [
        "import pandas as pd\n",
        "import numpy as np\n",
        "%matplotlib inline"
      ],
      "execution_count": 9,
      "outputs": []
    },
    {
      "cell_type": "code",
      "metadata": {
        "id": "0xSEp2dyjWf2",
        "outputId": "b6aaeadf-ccb6-48a7-def6-c586754bb4f4",
        "colab": {
          "base_uri": "https://localhost:8080/",
          "height": 204
        }
      },
      "source": [
        "sales = pd.read_csv('https://tf-assets-prod.s3.amazonaws.com/tf-curric/data-science/web_events.csv')\n",
        "sales.head()\n",
        "\n",
        "#unix epoch time = timestamp with milliseconds"
      ],
      "execution_count": 10,
      "outputs": [
        {
          "output_type": "execute_result",
          "data": {
            "text/html": [
              "<div>\n",
              "<style scoped>\n",
              "    .dataframe tbody tr th:only-of-type {\n",
              "        vertical-align: middle;\n",
              "    }\n",
              "\n",
              "    .dataframe tbody tr th {\n",
              "        vertical-align: top;\n",
              "    }\n",
              "\n",
              "    .dataframe thead th {\n",
              "        text-align: right;\n",
              "    }\n",
              "</style>\n",
              "<table border=\"1\" class=\"dataframe\">\n",
              "  <thead>\n",
              "    <tr style=\"text-align: right;\">\n",
              "      <th></th>\n",
              "      <th>timestamp</th>\n",
              "      <th>visitorid</th>\n",
              "      <th>event</th>\n",
              "      <th>itemid</th>\n",
              "      <th>transactionid</th>\n",
              "    </tr>\n",
              "  </thead>\n",
              "  <tbody>\n",
              "    <tr>\n",
              "      <th>0</th>\n",
              "      <td>1433221332117</td>\n",
              "      <td>257597</td>\n",
              "      <td>view</td>\n",
              "      <td>355908</td>\n",
              "      <td>NaN</td>\n",
              "    </tr>\n",
              "    <tr>\n",
              "      <th>1</th>\n",
              "      <td>1433224214164</td>\n",
              "      <td>992329</td>\n",
              "      <td>view</td>\n",
              "      <td>248676</td>\n",
              "      <td>NaN</td>\n",
              "    </tr>\n",
              "    <tr>\n",
              "      <th>2</th>\n",
              "      <td>1433221999827</td>\n",
              "      <td>111016</td>\n",
              "      <td>view</td>\n",
              "      <td>318965</td>\n",
              "      <td>NaN</td>\n",
              "    </tr>\n",
              "    <tr>\n",
              "      <th>3</th>\n",
              "      <td>1433221955914</td>\n",
              "      <td>483717</td>\n",
              "      <td>view</td>\n",
              "      <td>253185</td>\n",
              "      <td>NaN</td>\n",
              "    </tr>\n",
              "    <tr>\n",
              "      <th>4</th>\n",
              "      <td>1433221337106</td>\n",
              "      <td>951259</td>\n",
              "      <td>view</td>\n",
              "      <td>367447</td>\n",
              "      <td>NaN</td>\n",
              "    </tr>\n",
              "  </tbody>\n",
              "</table>\n",
              "</div>"
            ],
            "text/plain": [
              "       timestamp  visitorid event  itemid  transactionid\n",
              "0  1433221332117     257597  view  355908            NaN\n",
              "1  1433224214164     992329  view  248676            NaN\n",
              "2  1433221999827     111016  view  318965            NaN\n",
              "3  1433221955914     483717  view  253185            NaN\n",
              "4  1433221337106     951259  view  367447            NaN"
            ]
          },
          "metadata": {
            "tags": []
          },
          "execution_count": 10
        }
      ]
    },
    {
      "cell_type": "code",
      "metadata": {
        "id": "YI6vwD8XjvfL",
        "outputId": "d4894d8c-c9a3-4af6-dea9-8d57d8b7aa99",
        "colab": {
          "base_uri": "https://localhost:8080/"
        }
      },
      "source": [
        "sales.info()"
      ],
      "execution_count": 11,
      "outputs": [
        {
          "output_type": "stream",
          "text": [
            "<class 'pandas.core.frame.DataFrame'>\n",
            "RangeIndex: 2756101 entries, 0 to 2756100\n",
            "Data columns (total 5 columns):\n",
            " #   Column         Dtype  \n",
            "---  ------         -----  \n",
            " 0   timestamp      int64  \n",
            " 1   visitorid      int64  \n",
            " 2   event          object \n",
            " 3   itemid         int64  \n",
            " 4   transactionid  float64\n",
            "dtypes: float64(1), int64(3), object(1)\n",
            "memory usage: 105.1+ MB\n"
          ],
          "name": "stdout"
        }
      ]
    },
    {
      "cell_type": "code",
      "metadata": {
        "id": "Wte6RZeSjggl"
      },
      "source": [
        "# convert the values in the timestamp field to datetimes\n",
        "sales['timestamp'] = pd.to_datetime(sales['timestamp'], unit='ms')\n"
      ],
      "execution_count": 14,
      "outputs": []
    },
    {
      "cell_type": "code",
      "metadata": {
        "id": "YtFcKtx0j_y_",
        "outputId": "f601f56d-db66-4dd9-9cb6-2a04e738ad81",
        "colab": {
          "base_uri": "https://localhost:8080/"
        }
      },
      "source": [
        "sales.info()"
      ],
      "execution_count": 15,
      "outputs": [
        {
          "output_type": "stream",
          "text": [
            "<class 'pandas.core.frame.DataFrame'>\n",
            "RangeIndex: 2756101 entries, 0 to 2756100\n",
            "Data columns (total 6 columns):\n",
            " #   Column         Dtype         \n",
            "---  ------         -----         \n",
            " 0   timestamp      datetime64[ns]\n",
            " 1   visitorid      int64         \n",
            " 2   event          object        \n",
            " 3   itemid         int64         \n",
            " 4   transactionid  float64       \n",
            " 5   timestapm      datetime64[ns]\n",
            "dtypes: datetime64[ns](2), float64(1), int64(2), object(1)\n",
            "memory usage: 126.2+ MB\n"
          ],
          "name": "stdout"
        }
      ]
    },
    {
      "cell_type": "code",
      "metadata": {
        "id": "AqnMYQNDj5Re",
        "outputId": "647ab9de-8a54-430e-9bba-da69725b2a5d",
        "colab": {
          "base_uri": "https://localhost:8080/"
        }
      },
      "source": [
        "#extract different time units from the timestamp field. (quarter, month, day, hour, minutes)\n",
        "sales['timestamp'].dt.date"
      ],
      "execution_count": 17,
      "outputs": [
        {
          "output_type": "execute_result",
          "data": {
            "text/plain": [
              "0          2015-06-02\n",
              "1          2015-06-02\n",
              "2          2015-06-02\n",
              "3          2015-06-02\n",
              "4          2015-06-02\n",
              "              ...    \n",
              "2756096    2015-08-01\n",
              "2756097    2015-08-01\n",
              "2756098    2015-08-01\n",
              "2756099    2015-08-01\n",
              "2756100    2015-08-01\n",
              "Name: timestamp, Length: 2756101, dtype: object"
            ]
          },
          "metadata": {
            "tags": []
          },
          "execution_count": 17
        }
      ]
    },
    {
      "cell_type": "code",
      "metadata": {
        "id": "e2XpuOtKlCZ4"
      },
      "source": [
        "sales['date'] = sales['timestamp'].dt.date\n",
        "sales['year'] = sales['timestamp'].dt.year\n",
        "sales['month'] = sales['timestamp'].dt.month\n",
        "sales['quarter'] = sales['timestamp'].dt.quarter\n",
        "sales['weekday'] = sales['timestamp'].dt.weekday\n",
        "sales['hour'] = sales['timestamp'].dt.hour\n",
        "sales['day'] = sales['timestamp'].dt.day"
      ],
      "execution_count": 20,
      "outputs": []
    },
    {
      "cell_type": "code",
      "metadata": {
        "id": "PcrwSKF5p4sS",
        "outputId": "6d979f5a-2cbb-45ad-c504-2d6a13f09201",
        "colab": {
          "base_uri": "https://localhost:8080/",
          "height": 204
        }
      },
      "source": [
        "sales.head()"
      ],
      "execution_count": 21,
      "outputs": [
        {
          "output_type": "execute_result",
          "data": {
            "text/html": [
              "<div>\n",
              "<style scoped>\n",
              "    .dataframe tbody tr th:only-of-type {\n",
              "        vertical-align: middle;\n",
              "    }\n",
              "\n",
              "    .dataframe tbody tr th {\n",
              "        vertical-align: top;\n",
              "    }\n",
              "\n",
              "    .dataframe thead th {\n",
              "        text-align: right;\n",
              "    }\n",
              "</style>\n",
              "<table border=\"1\" class=\"dataframe\">\n",
              "  <thead>\n",
              "    <tr style=\"text-align: right;\">\n",
              "      <th></th>\n",
              "      <th>timestamp</th>\n",
              "      <th>visitorid</th>\n",
              "      <th>event</th>\n",
              "      <th>itemid</th>\n",
              "      <th>transactionid</th>\n",
              "      <th>timestapm</th>\n",
              "      <th>date</th>\n",
              "      <th>year</th>\n",
              "      <th>month</th>\n",
              "      <th>quarter</th>\n",
              "      <th>weekday</th>\n",
              "      <th>hour</th>\n",
              "      <th>day</th>\n",
              "    </tr>\n",
              "  </thead>\n",
              "  <tbody>\n",
              "    <tr>\n",
              "      <th>0</th>\n",
              "      <td>2015-06-02 05:02:12.117</td>\n",
              "      <td>257597</td>\n",
              "      <td>view</td>\n",
              "      <td>355908</td>\n",
              "      <td>NaN</td>\n",
              "      <td>2015-06-02 05:02:12.117</td>\n",
              "      <td>2015-06-02</td>\n",
              "      <td>2015</td>\n",
              "      <td>6</td>\n",
              "      <td>2</td>\n",
              "      <td>1</td>\n",
              "      <td>5</td>\n",
              "      <td>2</td>\n",
              "    </tr>\n",
              "    <tr>\n",
              "      <th>1</th>\n",
              "      <td>2015-06-02 05:50:14.164</td>\n",
              "      <td>992329</td>\n",
              "      <td>view</td>\n",
              "      <td>248676</td>\n",
              "      <td>NaN</td>\n",
              "      <td>2015-06-02 05:50:14.164</td>\n",
              "      <td>2015-06-02</td>\n",
              "      <td>2015</td>\n",
              "      <td>6</td>\n",
              "      <td>2</td>\n",
              "      <td>1</td>\n",
              "      <td>5</td>\n",
              "      <td>2</td>\n",
              "    </tr>\n",
              "    <tr>\n",
              "      <th>2</th>\n",
              "      <td>2015-06-02 05:13:19.827</td>\n",
              "      <td>111016</td>\n",
              "      <td>view</td>\n",
              "      <td>318965</td>\n",
              "      <td>NaN</td>\n",
              "      <td>2015-06-02 05:13:19.827</td>\n",
              "      <td>2015-06-02</td>\n",
              "      <td>2015</td>\n",
              "      <td>6</td>\n",
              "      <td>2</td>\n",
              "      <td>1</td>\n",
              "      <td>5</td>\n",
              "      <td>2</td>\n",
              "    </tr>\n",
              "    <tr>\n",
              "      <th>3</th>\n",
              "      <td>2015-06-02 05:12:35.914</td>\n",
              "      <td>483717</td>\n",
              "      <td>view</td>\n",
              "      <td>253185</td>\n",
              "      <td>NaN</td>\n",
              "      <td>2015-06-02 05:12:35.914</td>\n",
              "      <td>2015-06-02</td>\n",
              "      <td>2015</td>\n",
              "      <td>6</td>\n",
              "      <td>2</td>\n",
              "      <td>1</td>\n",
              "      <td>5</td>\n",
              "      <td>2</td>\n",
              "    </tr>\n",
              "    <tr>\n",
              "      <th>4</th>\n",
              "      <td>2015-06-02 05:02:17.106</td>\n",
              "      <td>951259</td>\n",
              "      <td>view</td>\n",
              "      <td>367447</td>\n",
              "      <td>NaN</td>\n",
              "      <td>2015-06-02 05:02:17.106</td>\n",
              "      <td>2015-06-02</td>\n",
              "      <td>2015</td>\n",
              "      <td>6</td>\n",
              "      <td>2</td>\n",
              "      <td>1</td>\n",
              "      <td>5</td>\n",
              "      <td>2</td>\n",
              "    </tr>\n",
              "  </tbody>\n",
              "</table>\n",
              "</div>"
            ],
            "text/plain": [
              "                timestamp  visitorid event  itemid  ...  quarter weekday hour  day\n",
              "0 2015-06-02 05:02:12.117     257597  view  355908  ...        2       1    5    2\n",
              "1 2015-06-02 05:50:14.164     992329  view  248676  ...        2       1    5    2\n",
              "2 2015-06-02 05:13:19.827     111016  view  318965  ...        2       1    5    2\n",
              "3 2015-06-02 05:12:35.914     483717  view  253185  ...        2       1    5    2\n",
              "4 2015-06-02 05:02:17.106     951259  view  367447  ...        2       1    5    2\n",
              "\n",
              "[5 rows x 13 columns]"
            ]
          },
          "metadata": {
            "tags": []
          },
          "execution_count": 21
        }
      ]
    },
    {
      "cell_type": "code",
      "metadata": {
        "id": "132CgFbPqbE3"
      },
      "source": [
        "#aggregate on each one, counting the number of records, and see what insights you can discover for each type of event.\n",
        "#aggregate = groupby\n"
      ],
      "execution_count": 23,
      "outputs": []
    },
    {
      "cell_type": "code",
      "metadata": {
        "id": "uTSMVQMRx7L_",
        "outputId": "ac358e06-7a89-495d-eae0-93fd8903189f",
        "colab": {
          "base_uri": "https://localhost:8080/"
        }
      },
      "source": [
        "sales['event'].unique()"
      ],
      "execution_count": 25,
      "outputs": [
        {
          "output_type": "execute_result",
          "data": {
            "text/plain": [
              "array(['view', 'addtocart', 'transaction'], dtype=object)"
            ]
          },
          "metadata": {
            "tags": []
          },
          "execution_count": 25
        }
      ]
    },
    {
      "cell_type": "code",
      "metadata": {
        "id": "m6sKvjKrqwVl",
        "outputId": "35420ee0-a7d3-43b3-ef9d-36ba6a8084a2",
        "colab": {
          "base_uri": "https://localhost:8080/"
        }
      },
      "source": [
        "sales.groupby('hour').count()['event']"
      ],
      "execution_count": 26,
      "outputs": [
        {
          "output_type": "execute_result",
          "data": {
            "text/plain": [
              "hour\n",
              "0     144303\n",
              "1     140702\n",
              "2     145879\n",
              "3     150860\n",
              "4     147184\n",
              "5     119572\n",
              "6      76972\n",
              "7      43944\n",
              "8      25309\n",
              "9      17909\n",
              "10     16408\n",
              "11     20330\n",
              "12     31486\n",
              "13     51089\n",
              "14     81823\n",
              "15    129092\n",
              "16    161784\n",
              "17    179651\n",
              "18    181200\n",
              "19    183348\n",
              "20    187919\n",
              "21    184297\n",
              "22    175956\n",
              "23    159084\n",
              "Name: event, dtype: int64"
            ]
          },
          "metadata": {
            "tags": []
          },
          "execution_count": 26
        }
      ]
    },
    {
      "cell_type": "code",
      "metadata": {
        "id": "o3hJfgQyxjIv",
        "outputId": "adb52242-a4b5-4b07-9892-dabf067b9061",
        "colab": {
          "base_uri": "https://localhost:8080/",
          "height": 299
        }
      },
      "source": [
        "sales.groupby('hour').count()['event'].plot(kind='bar')"
      ],
      "execution_count": 28,
      "outputs": [
        {
          "output_type": "execute_result",
          "data": {
            "text/plain": [
              "<matplotlib.axes._subplots.AxesSubplot at 0x7f6e627180b8>"
            ]
          },
          "metadata": {
            "tags": []
          },
          "execution_count": 28
        },
        {
          "output_type": "display_data",
          "data": {
            "image/png": "[encoded data removed]",
            "text/plain": [
              "<Figure size 432x288 with 1 Axes>"
            ]
          },
          "metadata": {
            "tags": [],
            "needs_background": "light"
          }
        }
      ]
    },
    {
      "cell_type": "code",
      "metadata": {
        "id": "_bEujMd68iBS",
        "outputId": "4cf377b8-b114-4370-e244-c13371015063",
        "colab": {
          "base_uri": "https://localhost:8080/",
          "height": 293
        }
      },
      "source": [
        "sales.groupby('weekday').count()['event'].plot(kind='bar')"
      ],
      "execution_count": 29,
      "outputs": [
        {
          "output_type": "execute_result",
          "data": {
            "text/plain": [
              "<matplotlib.axes._subplots.AxesSubplot at 0x7f6e62270828>"
            ]
          },
          "metadata": {
            "tags": []
          },
          "execution_count": 29
        },
        {
          "output_type": "display_data",
          "data": {
            "image/png": "[encoded data removed]",
            "text/plain": [
              "<Figure size 432x288 with 1 Axes>"
            ]
          },
          "metadata": {
            "tags": [],
            "needs_background": "light"
          }
        }
      ]
    },
    {
      "cell_type": "code",
      "metadata": {
        "id": "S7Mo2UwT9dBM",
        "outputId": "8d5edc30-5359-4236-8a88-9251ea0df86e",
        "colab": {
          "base_uri": "https://localhost:8080/",
          "height": 296
        }
      },
      "source": [
        "sales.groupby('month').count()['event'].plot(kind='line') \n",
        "#same plot as above but kind = line as opposed to bar"
      ],
      "execution_count": 31,
      "outputs": [
        {
          "output_type": "execute_result",
          "data": {
            "text/plain": [
              "<matplotlib.axes._subplots.AxesSubplot at 0x7f6e62116978>"
            ]
          },
          "metadata": {
            "tags": []
          },
          "execution_count": 31
        },
        {
          "output_type": "display_data",
          "data": {
            "image/png": "[encoded data removed]",
            "text/plain": [
              "<Figure size 432x288 with 1 Axes>"
            ]
          },
          "metadata": {
            "tags": [],
            "needs_background": "light"
          }
        }
      ]
    },
    {
      "cell_type": "code",
      "metadata": {
        "id": "Kb2ozCp6-4Rv",
        "outputId": "a926a155-139b-409e-8b8a-717508e46381",
        "colab": {
          "base_uri": "https://localhost:8080/",
          "height": 293
        }
      },
      "source": [
        "sales.groupby('month').count()['event'].plot(kind='bar')\n",
        "#may, june, july, aug, sep"
      ],
      "execution_count": 32,
      "outputs": [
        {
          "output_type": "execute_result",
          "data": {
            "text/plain": [
              "<matplotlib.axes._subplots.AxesSubplot at 0x7f6e62080208>"
            ]
          },
          "metadata": {
            "tags": []
          },
          "execution_count": 32
        },
        {
          "output_type": "display_data",
          "data": {
            "image/png": "[encoded data removed]",
            "text/plain": [
              "<Figure size 432x288 with 1 Axes>"
            ]
          },
          "metadata": {
            "tags": [],
            "needs_background": "light"
          }
        }
      ]
    },
    {
      "cell_type": "code",
      "metadata": {
        "id": "ZhPDeQUO_XaE"
      },
      "source": [
        "#round datetimes by hour, aggregate, see what insights i can discover"
      ],
      "execution_count": 33,
      "outputs": []
    },
    {
      "cell_type": "code",
      "metadata": {
        "id": "jtbfxhaa_myw",
        "outputId": "f10c6f6f-988c-4911-c88c-a5bed4492ec9",
        "colab": {
          "base_uri": "https://localhost:8080/"
        }
      },
      "source": [
        "sales['timestamp'].dt.round('H')"
      ],
      "execution_count": 34,
      "outputs": [
        {
          "output_type": "execute_result",
          "data": {
            "text/plain": [
              "0         2015-06-02 05:00:00\n",
              "1         2015-06-02 06:00:00\n",
              "2         2015-06-02 05:00:00\n",
              "3         2015-06-02 05:00:00\n",
              "4         2015-06-02 05:00:00\n",
              "                  ...        \n",
              "2756096   2015-08-01 03:00:00\n",
              "2756097   2015-08-01 04:00:00\n",
              "2756098   2015-08-01 03:00:00\n",
              "2756099   2015-08-01 03:00:00\n",
              "2756100   2015-08-01 04:00:00\n",
              "Name: timestamp, Length: 2756101, dtype: datetime64[ns]"
            ]
          },
          "metadata": {
            "tags": []
          },
          "execution_count": 34
        }
      ]
    },
    {
      "cell_type": "code",
      "metadata": {
        "id": "c2dh-sJyAm-_",
        "outputId": "7e5b60ca-41cb-4a52-9212-993efc2969cb",
        "colab": {
          "base_uri": "https://localhost:8080/",
          "height": 204
        }
      },
      "source": [
        "#same as above but to just pull out the hour\n",
        "sales['round_hour'] = sales['timestamp'].dt.round('H').dt.hour\n",
        "sales.head()"
      ],
      "execution_count": 39,
      "outputs": [
        {
          "output_type": "execute_result",
          "data": {
            "text/html": [
              "<div>\n",
              "<style scoped>\n",
              "    .dataframe tbody tr th:only-of-type {\n",
              "        vertical-align: middle;\n",
              "    }\n",
              "\n",
              "    .dataframe tbody tr th {\n",
              "        vertical-align: top;\n",
              "    }\n",
              "\n",
              "    .dataframe thead th {\n",
              "        text-align: right;\n",
              "    }\n",
              "</style>\n",
              "<table border=\"1\" class=\"dataframe\">\n",
              "  <thead>\n",
              "    <tr style=\"text-align: right;\">\n",
              "      <th></th>\n",
              "      <th>timestamp</th>\n",
              "      <th>visitorid</th>\n",
              "      <th>event</th>\n",
              "      <th>itemid</th>\n",
              "      <th>transactionid</th>\n",
              "      <th>timestapm</th>\n",
              "      <th>date</th>\n",
              "      <th>year</th>\n",
              "      <th>month</th>\n",
              "      <th>quarter</th>\n",
              "      <th>weekday</th>\n",
              "      <th>hour</th>\n",
              "      <th>day</th>\n",
              "      <th>round_hour</th>\n",
              "    </tr>\n",
              "  </thead>\n",
              "  <tbody>\n",
              "    <tr>\n",
              "      <th>0</th>\n",
              "      <td>2015-06-02 05:02:12.117</td>\n",
              "      <td>257597</td>\n",
              "      <td>view</td>\n",
              "      <td>355908</td>\n",
              "      <td>NaN</td>\n",
              "      <td>2015-06-02 05:02:12.117</td>\n",
              "      <td>2015-06-02</td>\n",
              "      <td>2015</td>\n",
              "      <td>6</td>\n",
              "      <td>2</td>\n",
              "      <td>1</td>\n",
              "      <td>5</td>\n",
              "      <td>2</td>\n",
              "      <td>5</td>\n",
              "    </tr>\n",
              "    <tr>\n",
              "      <th>1</th>\n",
              "      <td>2015-06-02 05:50:14.164</td>\n",
              "      <td>992329</td>\n",
              "      <td>view</td>\n",
              "      <td>248676</td>\n",
              "      <td>NaN</td>\n",
              "      <td>2015-06-02 05:50:14.164</td>\n",
              "      <td>2015-06-02</td>\n",
              "      <td>2015</td>\n",
              "      <td>6</td>\n",
              "      <td>2</td>\n",
              "      <td>1</td>\n",
              "      <td>5</td>\n",
              "      <td>2</td>\n",
              "      <td>6</td>\n",
              "    </tr>\n",
              "    <tr>\n",
              "      <th>2</th>\n",
              "      <td>2015-06-02 05:13:19.827</td>\n",
              "      <td>111016</td>\n",
              "      <td>view</td>\n",
              "      <td>318965</td>\n",
              "      <td>NaN</td>\n",
              "      <td>2015-06-02 05:13:19.827</td>\n",
              "      <td>2015-06-02</td>\n",
              "      <td>2015</td>\n",
              "      <td>6</td>\n",
              "      <td>2</td>\n",
              "      <td>1</td>\n",
              "      <td>5</td>\n",
              "      <td>2</td>\n",
              "      <td>5</td>\n",
              "    </tr>\n",
              "    <tr>\n",
              "      <th>3</th>\n",
              "      <td>2015-06-02 05:12:35.914</td>\n",
              "      <td>483717</td>\n",
              "      <td>view</td>\n",
              "      <td>253185</td>\n",
              "      <td>NaN</td>\n",
              "      <td>2015-06-02 05:12:35.914</td>\n",
              "      <td>2015-06-02</td>\n",
              "      <td>2015</td>\n",
              "      <td>6</td>\n",
              "      <td>2</td>\n",
              "      <td>1</td>\n",
              "      <td>5</td>\n",
              "      <td>2</td>\n",
              "      <td>5</td>\n",
              "    </tr>\n",
              "    <tr>\n",
              "      <th>4</th>\n",
              "      <td>2015-06-02 05:02:17.106</td>\n",
              "      <td>951259</td>\n",
              "      <td>view</td>\n",
              "      <td>367447</td>\n",
              "      <td>NaN</td>\n",
              "      <td>2015-06-02 05:02:17.106</td>\n",
              "      <td>2015-06-02</td>\n",
              "      <td>2015</td>\n",
              "      <td>6</td>\n",
              "      <td>2</td>\n",
              "      <td>1</td>\n",
              "      <td>5</td>\n",
              "      <td>2</td>\n",
              "      <td>5</td>\n",
              "    </tr>\n",
              "  </tbody>\n",
              "</table>\n",
              "</div>"
            ],
            "text/plain": [
              "                timestamp  visitorid event  ...  hour  day round_hour\n",
              "0 2015-06-02 05:02:12.117     257597  view  ...     5    2          5\n",
              "1 2015-06-02 05:50:14.164     992329  view  ...     5    2          6\n",
              "2 2015-06-02 05:13:19.827     111016  view  ...     5    2          5\n",
              "3 2015-06-02 05:12:35.914     483717  view  ...     5    2          5\n",
              "4 2015-06-02 05:02:17.106     951259  view  ...     5    2          5\n",
              "\n",
              "[5 rows x 14 columns]"
            ]
          },
          "metadata": {
            "tags": []
          },
          "execution_count": 39
        }
      ]
    },
    {
      "cell_type": "code",
      "metadata": {
        "id": "_jiZC7VNA1Rx",
        "outputId": "7e6852c5-9d78-49fb-9738-bbe6ddff6252",
        "colab": {
          "base_uri": "https://localhost:8080/",
          "height": 300
        }
      },
      "source": [
        "sales.groupby('round_hour').count()['event'].plot(kind='bar')\n",
        "#same as an hour before but rounded numbers, no difference though"
      ],
      "execution_count": 41,
      "outputs": [
        {
          "output_type": "execute_result",
          "data": {
            "text/plain": [
              "<matplotlib.axes._subplots.AxesSubplot at 0x7f6e62045c88>"
            ]
          },
          "metadata": {
            "tags": []
          },
          "execution_count": 41
        },
        {
          "output_type": "display_data",
          "data": {
            "image/png": "[encoded data removed]",
            "text/plain": [
              "<Figure size 432x288 with 1 Axes>"
            ]
          },
          "metadata": {
            "tags": [],
            "needs_background": "light"
          }
        }
      ]
    },
    {
      "cell_type": "code",
      "metadata": {
        "id": "kEEi799HCam0"
      },
      "source": [
        ""
      ],
      "execution_count": null,
      "outputs": []
    }
  ]
}