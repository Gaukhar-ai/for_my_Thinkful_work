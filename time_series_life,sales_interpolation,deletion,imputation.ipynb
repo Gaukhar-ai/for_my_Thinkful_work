{
  "nbformat": 4,
  "nbformat_minor": 0,
  "metadata": {
    "colab": {
      "name": "time_series.life,sales_interpolation,deletion,imputation.ipynb",
      "provenance": [],
      "authorship_tag": "ABX9TyOLxElFtJScR9Xbw6BtdrZB",
      "include_colab_link": true
    },
    "kernelspec": {
      "name": "python3",
      "display_name": "Python 3"
    }
  },
  "cells": [
    {
      "cell_type": "markdown",
      "metadata": {
        "id": "view-in-github",
        "colab_type": "text"
      },
      "source": [
        "<a href=\"https://colab.research.google.com/github/Gaukhar-ai/for_my_Thinkful_work/blob/master/time_series_life%2Csales_interpolation%2Cdeletion%2Cimputation.ipynb\" target=\"_parent\"><img src=\"https://colab.research.google.com/assets/colab-badge.svg\" alt=\"Open In Colab\"/></a>"
      ]
    },
    {
      "cell_type": "code",
      "metadata": {
        "id": "HDnAz25l9c85"
      },
      "source": [
        "import numpy as np\n",
        "import pandas as pd\n",
        "from datetime import datetime as dt"
      ],
      "execution_count": 1,
      "outputs": []
    },
    {
      "cell_type": "code",
      "metadata": {
        "id": "axVZKzMR7cED",
        "outputId": "930496d0-f38a-4c23-eb90-ac0fe8351654",
        "colab": {
          "base_uri": "https://localhost:8080/",
          "height": 204
        }
      },
      "source": [
        "sales = pd.read_csv('https://tf-assets-prod.s3.amazonaws.com/tf-curric/data-science/web_events.csv')\n",
        "sales.head()"
      ],
      "execution_count": 2,
      "outputs": [
        {
          "output_type": "execute_result",
          "data": {
            "text/html": [
              "<div>\n",
              "<style scoped>\n",
              "    .dataframe tbody tr th:only-of-type {\n",
              "        vertical-align: middle;\n",
              "    }\n",
              "\n",
              "    .dataframe tbody tr th {\n",
              "        vertical-align: top;\n",
              "    }\n",
              "\n",
              "    .dataframe thead th {\n",
              "        text-align: right;\n",
              "    }\n",
              "</style>\n",
              "<table border=\"1\" class=\"dataframe\">\n",
              "  <thead>\n",
              "    <tr style=\"text-align: right;\">\n",
              "      <th></th>\n",
              "      <th>timestamp</th>\n",
              "      <th>visitorid</th>\n",
              "      <th>event</th>\n",
              "      <th>itemid</th>\n",
              "      <th>transactionid</th>\n",
              "    </tr>\n",
              "  </thead>\n",
              "  <tbody>\n",
              "    <tr>\n",
              "      <th>0</th>\n",
              "      <td>1433221332117</td>\n",
              "      <td>257597</td>\n",
              "      <td>view</td>\n",
              "      <td>355908</td>\n",
              "      <td>NaN</td>\n",
              "    </tr>\n",
              "    <tr>\n",
              "      <th>1</th>\n",
              "      <td>1433224214164</td>\n",
              "      <td>992329</td>\n",
              "      <td>view</td>\n",
              "      <td>248676</td>\n",
              "      <td>NaN</td>\n",
              "    </tr>\n",
              "    <tr>\n",
              "      <th>2</th>\n",
              "      <td>1433221999827</td>\n",
              "      <td>111016</td>\n",
              "      <td>view</td>\n",
              "      <td>318965</td>\n",
              "      <td>NaN</td>\n",
              "    </tr>\n",
              "    <tr>\n",
              "      <th>3</th>\n",
              "      <td>1433221955914</td>\n",
              "      <td>483717</td>\n",
              "      <td>view</td>\n",
              "      <td>253185</td>\n",
              "      <td>NaN</td>\n",
              "    </tr>\n",
              "    <tr>\n",
              "      <th>4</th>\n",
              "      <td>1433221337106</td>\n",
              "      <td>951259</td>\n",
              "      <td>view</td>\n",
              "      <td>367447</td>\n",
              "      <td>NaN</td>\n",
              "    </tr>\n",
              "  </tbody>\n",
              "</table>\n",
              "</div>"
            ],
            "text/plain": [
              "       timestamp  visitorid event  itemid  transactionid\n",
              "0  1433221332117     257597  view  355908            NaN\n",
              "1  1433224214164     992329  view  248676            NaN\n",
              "2  1433221999827     111016  view  318965            NaN\n",
              "3  1433221955914     483717  view  253185            NaN\n",
              "4  1433221337106     951259  view  367447            NaN"
            ]
          },
          "metadata": {
            "tags": []
          },
          "execution_count": 2
        }
      ]
    },
    {
      "cell_type": "code",
      "metadata": {
        "id": "cFbTR-HHZ78d",
        "outputId": "363c0fad-34d3-4da1-bbc5-344bd5be0acb",
        "colab": {
          "base_uri": "https://localhost:8080/",
          "height": 119
        }
      },
      "source": [
        "sales.dtypes"
      ],
      "execution_count": 3,
      "outputs": [
        {
          "output_type": "execute_result",
          "data": {
            "text/plain": [
              "timestamp          int64\n",
              "visitorid          int64\n",
              "event             object\n",
              "itemid             int64\n",
              "transactionid    float64\n",
              "dtype: object"
            ]
          },
          "metadata": {
            "tags": []
          },
          "execution_count": 3
        }
      ]
    },
    {
      "cell_type": "code",
      "metadata": {
        "id": "D_PnzeStWvLj",
        "outputId": "9ff900e7-a687-44aa-fba2-7dc31a3209d1",
        "colab": {
          "base_uri": "https://localhost:8080/",
          "height": 204
        }
      },
      "source": [
        "sales['timestamp'] = pd.to_datetime(sales['timestamp'], unit = 'ms')\n",
        "sales.head()"
      ],
      "execution_count": 4,
      "outputs": [
        {
          "output_type": "execute_result",
          "data": {
            "text/html": [
              "<div>\n",
              "<style scoped>\n",
              "    .dataframe tbody tr th:only-of-type {\n",
              "        vertical-align: middle;\n",
              "    }\n",
              "\n",
              "    .dataframe tbody tr th {\n",
              "        vertical-align: top;\n",
              "    }\n",
              "\n",
              "    .dataframe thead th {\n",
              "        text-align: right;\n",
              "    }\n",
              "</style>\n",
              "<table border=\"1\" class=\"dataframe\">\n",
              "  <thead>\n",
              "    <tr style=\"text-align: right;\">\n",
              "      <th></th>\n",
              "      <th>timestamp</th>\n",
              "      <th>visitorid</th>\n",
              "      <th>event</th>\n",
              "      <th>itemid</th>\n",
              "      <th>transactionid</th>\n",
              "    </tr>\n",
              "  </thead>\n",
              "  <tbody>\n",
              "    <tr>\n",
              "      <th>0</th>\n",
              "      <td>2015-06-02 05:02:12.117</td>\n",
              "      <td>257597</td>\n",
              "      <td>view</td>\n",
              "      <td>355908</td>\n",
              "      <td>NaN</td>\n",
              "    </tr>\n",
              "    <tr>\n",
              "      <th>1</th>\n",
              "      <td>2015-06-02 05:50:14.164</td>\n",
              "      <td>992329</td>\n",
              "      <td>view</td>\n",
              "      <td>248676</td>\n",
              "      <td>NaN</td>\n",
              "    </tr>\n",
              "    <tr>\n",
              "      <th>2</th>\n",
              "      <td>2015-06-02 05:13:19.827</td>\n",
              "      <td>111016</td>\n",
              "      <td>view</td>\n",
              "      <td>318965</td>\n",
              "      <td>NaN</td>\n",
              "    </tr>\n",
              "    <tr>\n",
              "      <th>3</th>\n",
              "      <td>2015-06-02 05:12:35.914</td>\n",
              "      <td>483717</td>\n",
              "      <td>view</td>\n",
              "      <td>253185</td>\n",
              "      <td>NaN</td>\n",
              "    </tr>\n",
              "    <tr>\n",
              "      <th>4</th>\n",
              "      <td>2015-06-02 05:02:17.106</td>\n",
              "      <td>951259</td>\n",
              "      <td>view</td>\n",
              "      <td>367447</td>\n",
              "      <td>NaN</td>\n",
              "    </tr>\n",
              "  </tbody>\n",
              "</table>\n",
              "</div>"
            ],
            "text/plain": [
              "                timestamp  visitorid event  itemid  transactionid\n",
              "0 2015-06-02 05:02:12.117     257597  view  355908            NaN\n",
              "1 2015-06-02 05:50:14.164     992329  view  248676            NaN\n",
              "2 2015-06-02 05:13:19.827     111016  view  318965            NaN\n",
              "3 2015-06-02 05:12:35.914     483717  view  253185            NaN\n",
              "4 2015-06-02 05:02:17.106     951259  view  367447            NaN"
            ]
          },
          "metadata": {
            "tags": []
          },
          "execution_count": 4
        }
      ]
    },
    {
      "cell_type": "code",
      "metadata": {
        "id": "uAcdWdnwihQe",
        "outputId": "deefdfe0-333b-4238-b6de-6d988d30369a",
        "colab": {
          "base_uri": "https://localhost:8080/",
          "height": 34
        }
      },
      "source": [
        "sales['timestamp'].max()"
      ],
      "execution_count": 5,
      "outputs": [
        {
          "output_type": "execute_result",
          "data": {
            "text/plain": [
              "Timestamp('2015-09-18 02:59:47.788000')"
            ]
          },
          "metadata": {
            "tags": []
          },
          "execution_count": 5
        }
      ]
    },
    {
      "cell_type": "code",
      "metadata": {
        "id": "8ah7Zb-3jicm",
        "outputId": "ba6a72b6-3751-40b8-9d01-c2ecb953b434",
        "colab": {
          "base_uri": "https://localhost:8080/",
          "height": 221
        }
      },
      "source": [
        "sales['timestamp']"
      ],
      "execution_count": 6,
      "outputs": [
        {
          "output_type": "execute_result",
          "data": {
            "text/plain": [
              "0         2015-06-02 05:02:12.117\n",
              "1         2015-06-02 05:50:14.164\n",
              "2         2015-06-02 05:13:19.827\n",
              "3         2015-06-02 05:12:35.914\n",
              "4         2015-06-02 05:02:17.106\n",
              "                    ...          \n",
              "2756096   2015-08-01 03:13:05.939\n",
              "2756097   2015-08-01 03:30:13.142\n",
              "2756098   2015-08-01 02:57:00.527\n",
              "2756099   2015-08-01 03:08:50.703\n",
              "2756100   2015-08-01 03:36:03.914\n",
              "Name: timestamp, Length: 2756101, dtype: datetime64[ns]"
            ]
          },
          "metadata": {
            "tags": []
          },
          "execution_count": 6
        }
      ]
    },
    {
      "cell_type": "code",
      "metadata": {
        "id": "oEzG8okZhv9n",
        "outputId": "0ac34e01-2c52-40f6-ff32-ff9b0e541265",
        "colab": {
          "base_uri": "https://localhost:8080/",
          "height": 34
        }
      },
      "source": [
        "sales['timestamp'].min()"
      ],
      "execution_count": 7,
      "outputs": [
        {
          "output_type": "execute_result",
          "data": {
            "text/plain": [
              "Timestamp('2015-05-03 03:00:04.384000')"
            ]
          },
          "metadata": {
            "tags": []
          },
          "execution_count": 7
        }
      ]
    },
    {
      "cell_type": "code",
      "metadata": {
        "id": "mgSbGZ3V5dXA",
        "outputId": "4bddabcc-d41a-40a4-f47b-61c13f577e1c",
        "colab": {
          "base_uri": "https://localhost:8080/",
          "height": 119
        }
      },
      "source": [
        "sales['timestamp'] = pd.to_datetime(sales['timestamp'])\n",
        "sales.dtypes"
      ],
      "execution_count": 8,
      "outputs": [
        {
          "output_type": "execute_result",
          "data": {
            "text/plain": [
              "timestamp        datetime64[ns]\n",
              "visitorid                 int64\n",
              "event                    object\n",
              "itemid                    int64\n",
              "transactionid           float64\n",
              "dtype: object"
            ]
          },
          "metadata": {
            "tags": []
          },
          "execution_count": 8
        }
      ]
    },
    {
      "cell_type": "code",
      "metadata": {
        "id": "THePm06ph_1I",
        "outputId": "c0065b31-773b-417a-be26-afdb2c084ab8",
        "colab": {
          "base_uri": "https://localhost:8080/",
          "height": 51
        }
      },
      "source": [
        "hz = sales[(sales['timestamp']> '1970-01-01 00:23:58.398785939')\n",
        "          & (sales['timestamp']< '1970-01-01 00:23:53.221332117')]\n",
        "print(hz['timestamp'].min())\n",
        "print(hz['timestamp'].max())"
      ],
      "execution_count": 9,
      "outputs": [
        {
          "output_type": "stream",
          "text": [
            "NaT\n",
            "NaT\n"
          ],
          "name": "stdout"
        }
      ]
    },
    {
      "cell_type": "code",
      "metadata": {
        "id": "icXqztZBxKs7"
      },
      "source": [
        "from datetime import timedelta"
      ],
      "execution_count": 10,
      "outputs": []
    },
    {
      "cell_type": "code",
      "metadata": {
        "id": "Ncp-dV6CXaLf",
        "outputId": "15d03d53-e991-4f0f-c5ae-b97d709923ad",
        "colab": {
          "base_uri": "https://localhost:8080/",
          "height": 221
        }
      },
      "source": [
        "future = sales['timestamp'] - timedelta(days=7)\n",
        "future"
      ],
      "execution_count": 11,
      "outputs": [
        {
          "output_type": "execute_result",
          "data": {
            "text/plain": [
              "0         2015-05-26 05:02:12.117\n",
              "1         2015-05-26 05:50:14.164\n",
              "2         2015-05-26 05:13:19.827\n",
              "3         2015-05-26 05:12:35.914\n",
              "4         2015-05-26 05:02:17.106\n",
              "                    ...          \n",
              "2756096   2015-07-25 03:13:05.939\n",
              "2756097   2015-07-25 03:30:13.142\n",
              "2756098   2015-07-25 02:57:00.527\n",
              "2756099   2015-07-25 03:08:50.703\n",
              "2756100   2015-07-25 03:36:03.914\n",
              "Name: timestamp, Length: 2756101, dtype: datetime64[ns]"
            ]
          },
          "metadata": {
            "tags": []
          },
          "execution_count": 11
        }
      ]
    },
    {
      "cell_type": "code",
      "metadata": {
        "id": "lYCX7GJAYFeC",
        "outputId": "2a625dba-b1a4-442a-c0f0-ccfcc2707e21",
        "colab": {
          "base_uri": "https://localhost:8080/",
          "height": 221
        }
      },
      "source": [
        "past = sales['timestamp'] - timedelta(days = 360)\n",
        "past"
      ],
      "execution_count": 12,
      "outputs": [
        {
          "output_type": "execute_result",
          "data": {
            "text/plain": [
              "0         2014-06-07 05:02:12.117\n",
              "1         2014-06-07 05:50:14.164\n",
              "2         2014-06-07 05:13:19.827\n",
              "3         2014-06-07 05:12:35.914\n",
              "4         2014-06-07 05:02:17.106\n",
              "                    ...          \n",
              "2756096   2014-08-06 03:13:05.939\n",
              "2756097   2014-08-06 03:30:13.142\n",
              "2756098   2014-08-06 02:57:00.527\n",
              "2756099   2014-08-06 03:08:50.703\n",
              "2756100   2014-08-06 03:36:03.914\n",
              "Name: timestamp, Length: 2756101, dtype: datetime64[ns]"
            ]
          },
          "metadata": {
            "tags": []
          },
          "execution_count": 12
        }
      ]
    },
    {
      "cell_type": "code",
      "metadata": {
        "id": "n5sU5XYDYWxy",
        "outputId": "29526011-8cf2-4902-ae60-442ae09fab3f",
        "colab": {
          "base_uri": "https://localhost:8080/",
          "height": 221
        }
      },
      "source": [
        "half_day = sales['timestamp'] + timedelta(hours=12)\n",
        "print(half_day)"
      ],
      "execution_count": 13,
      "outputs": [
        {
          "output_type": "stream",
          "text": [
            "0         2015-06-02 17:02:12.117\n",
            "1         2015-06-02 17:50:14.164\n",
            "2         2015-06-02 17:13:19.827\n",
            "3         2015-06-02 17:12:35.914\n",
            "4         2015-06-02 17:02:17.106\n",
            "                    ...          \n",
            "2756096   2015-08-01 15:13:05.939\n",
            "2756097   2015-08-01 15:30:13.142\n",
            "2756098   2015-08-01 14:57:00.527\n",
            "2756099   2015-08-01 15:08:50.703\n",
            "2756100   2015-08-01 15:36:03.914\n",
            "Name: timestamp, Length: 2756101, dtype: datetime64[ns]\n"
          ],
          "name": "stdout"
        }
      ]
    },
    {
      "cell_type": "code",
      "metadata": {
        "id": "5trVVJexY3vk",
        "outputId": "ed1a16a9-8854-472a-ede1-cc45ade1eb0c",
        "colab": {
          "base_uri": "https://localhost:8080/",
          "height": 419
        }
      },
      "source": [
        "sales['hour'] = sales['timestamp'].dt.hour\n",
        "sales"
      ],
      "execution_count": 14,
      "outputs": [
        {
          "output_type": "execute_result",
          "data": {
            "text/html": [
              "<div>\n",
              "<style scoped>\n",
              "    .dataframe tbody tr th:only-of-type {\n",
              "        vertical-align: middle;\n",
              "    }\n",
              "\n",
              "    .dataframe tbody tr th {\n",
              "        vertical-align: top;\n",
              "    }\n",
              "\n",
              "    .dataframe thead th {\n",
              "        text-align: right;\n",
              "    }\n",
              "</style>\n",
              "<table border=\"1\" class=\"dataframe\">\n",
              "  <thead>\n",
              "    <tr style=\"text-align: right;\">\n",
              "      <th></th>\n",
              "      <th>timestamp</th>\n",
              "      <th>visitorid</th>\n",
              "      <th>event</th>\n",
              "      <th>itemid</th>\n",
              "      <th>transactionid</th>\n",
              "      <th>hour</th>\n",
              "    </tr>\n",
              "  </thead>\n",
              "  <tbody>\n",
              "    <tr>\n",
              "      <th>0</th>\n",
              "      <td>2015-06-02 05:02:12.117</td>\n",
              "      <td>257597</td>\n",
              "      <td>view</td>\n",
              "      <td>355908</td>\n",
              "      <td>NaN</td>\n",
              "      <td>5</td>\n",
              "    </tr>\n",
              "    <tr>\n",
              "      <th>1</th>\n",
              "      <td>2015-06-02 05:50:14.164</td>\n",
              "      <td>992329</td>\n",
              "      <td>view</td>\n",
              "      <td>248676</td>\n",
              "      <td>NaN</td>\n",
              "      <td>5</td>\n",
              "    </tr>\n",
              "    <tr>\n",
              "      <th>2</th>\n",
              "      <td>2015-06-02 05:13:19.827</td>\n",
              "      <td>111016</td>\n",
              "      <td>view</td>\n",
              "      <td>318965</td>\n",
              "      <td>NaN</td>\n",
              "      <td>5</td>\n",
              "    </tr>\n",
              "    <tr>\n",
              "      <th>3</th>\n",
              "      <td>2015-06-02 05:12:35.914</td>\n",
              "      <td>483717</td>\n",
              "      <td>view</td>\n",
              "      <td>253185</td>\n",
              "      <td>NaN</td>\n",
              "      <td>5</td>\n",
              "    </tr>\n",
              "    <tr>\n",
              "      <th>4</th>\n",
              "      <td>2015-06-02 05:02:17.106</td>\n",
              "      <td>951259</td>\n",
              "      <td>view</td>\n",
              "      <td>367447</td>\n",
              "      <td>NaN</td>\n",
              "      <td>5</td>\n",
              "    </tr>\n",
              "    <tr>\n",
              "      <th>...</th>\n",
              "      <td>...</td>\n",
              "      <td>...</td>\n",
              "      <td>...</td>\n",
              "      <td>...</td>\n",
              "      <td>...</td>\n",
              "      <td>...</td>\n",
              "    </tr>\n",
              "    <tr>\n",
              "      <th>2756096</th>\n",
              "      <td>2015-08-01 03:13:05.939</td>\n",
              "      <td>591435</td>\n",
              "      <td>view</td>\n",
              "      <td>261427</td>\n",
              "      <td>NaN</td>\n",
              "      <td>3</td>\n",
              "    </tr>\n",
              "    <tr>\n",
              "      <th>2756097</th>\n",
              "      <td>2015-08-01 03:30:13.142</td>\n",
              "      <td>762376</td>\n",
              "      <td>view</td>\n",
              "      <td>115946</td>\n",
              "      <td>NaN</td>\n",
              "      <td>3</td>\n",
              "    </tr>\n",
              "    <tr>\n",
              "      <th>2756098</th>\n",
              "      <td>2015-08-01 02:57:00.527</td>\n",
              "      <td>1251746</td>\n",
              "      <td>view</td>\n",
              "      <td>78144</td>\n",
              "      <td>NaN</td>\n",
              "      <td>2</td>\n",
              "    </tr>\n",
              "    <tr>\n",
              "      <th>2756099</th>\n",
              "      <td>2015-08-01 03:08:50.703</td>\n",
              "      <td>1184451</td>\n",
              "      <td>view</td>\n",
              "      <td>283392</td>\n",
              "      <td>NaN</td>\n",
              "      <td>3</td>\n",
              "    </tr>\n",
              "    <tr>\n",
              "      <th>2756100</th>\n",
              "      <td>2015-08-01 03:36:03.914</td>\n",
              "      <td>199536</td>\n",
              "      <td>view</td>\n",
              "      <td>152913</td>\n",
              "      <td>NaN</td>\n",
              "      <td>3</td>\n",
              "    </tr>\n",
              "  </tbody>\n",
              "</table>\n",
              "<p>2756101 rows × 6 columns</p>\n",
              "</div>"
            ],
            "text/plain": [
              "                      timestamp  visitorid event  itemid  transactionid  hour\n",
              "0       2015-06-02 05:02:12.117     257597  view  355908            NaN     5\n",
              "1       2015-06-02 05:50:14.164     992329  view  248676            NaN     5\n",
              "2       2015-06-02 05:13:19.827     111016  view  318965            NaN     5\n",
              "3       2015-06-02 05:12:35.914     483717  view  253185            NaN     5\n",
              "4       2015-06-02 05:02:17.106     951259  view  367447            NaN     5\n",
              "...                         ...        ...   ...     ...            ...   ...\n",
              "2756096 2015-08-01 03:13:05.939     591435  view  261427            NaN     3\n",
              "2756097 2015-08-01 03:30:13.142     762376  view  115946            NaN     3\n",
              "2756098 2015-08-01 02:57:00.527    1251746  view   78144            NaN     2\n",
              "2756099 2015-08-01 03:08:50.703    1184451  view  283392            NaN     3\n",
              "2756100 2015-08-01 03:36:03.914     199536  view  152913            NaN     3\n",
              "\n",
              "[2756101 rows x 6 columns]"
            ]
          },
          "metadata": {
            "tags": []
          },
          "execution_count": 14
        }
      ]
    },
    {
      "cell_type": "code",
      "metadata": {
        "id": "z5DQuKV2ZzOS",
        "outputId": "b45e9359-9667-4c1f-80ee-40cceaea3bf6",
        "colab": {
          "base_uri": "https://localhost:8080/",
          "height": 419
        }
      },
      "source": [
        "sales['timestamp'].dt.round('H')\n",
        "sales"
      ],
      "execution_count": 15,
      "outputs": [
        {
          "output_type": "execute_result",
          "data": {
            "text/html": [
              "<div>\n",
              "<style scoped>\n",
              "    .dataframe tbody tr th:only-of-type {\n",
              "        vertical-align: middle;\n",
              "    }\n",
              "\n",
              "    .dataframe tbody tr th {\n",
              "        vertical-align: top;\n",
              "    }\n",
              "\n",
              "    .dataframe thead th {\n",
              "        text-align: right;\n",
              "    }\n",
              "</style>\n",
              "<table border=\"1\" class=\"dataframe\">\n",
              "  <thead>\n",
              "    <tr style=\"text-align: right;\">\n",
              "      <th></th>\n",
              "      <th>timestamp</th>\n",
              "      <th>visitorid</th>\n",
              "      <th>event</th>\n",
              "      <th>itemid</th>\n",
              "      <th>transactionid</th>\n",
              "      <th>hour</th>\n",
              "    </tr>\n",
              "  </thead>\n",
              "  <tbody>\n",
              "    <tr>\n",
              "      <th>0</th>\n",
              "      <td>2015-06-02 05:02:12.117</td>\n",
              "      <td>257597</td>\n",
              "      <td>view</td>\n",
              "      <td>355908</td>\n",
              "      <td>NaN</td>\n",
              "      <td>5</td>\n",
              "    </tr>\n",
              "    <tr>\n",
              "      <th>1</th>\n",
              "      <td>2015-06-02 05:50:14.164</td>\n",
              "      <td>992329</td>\n",
              "      <td>view</td>\n",
              "      <td>248676</td>\n",
              "      <td>NaN</td>\n",
              "      <td>5</td>\n",
              "    </tr>\n",
              "    <tr>\n",
              "      <th>2</th>\n",
              "      <td>2015-06-02 05:13:19.827</td>\n",
              "      <td>111016</td>\n",
              "      <td>view</td>\n",
              "      <td>318965</td>\n",
              "      <td>NaN</td>\n",
              "      <td>5</td>\n",
              "    </tr>\n",
              "    <tr>\n",
              "      <th>3</th>\n",
              "      <td>2015-06-02 05:12:35.914</td>\n",
              "      <td>483717</td>\n",
              "      <td>view</td>\n",
              "      <td>253185</td>\n",
              "      <td>NaN</td>\n",
              "      <td>5</td>\n",
              "    </tr>\n",
              "    <tr>\n",
              "      <th>4</th>\n",
              "      <td>2015-06-02 05:02:17.106</td>\n",
              "      <td>951259</td>\n",
              "      <td>view</td>\n",
              "      <td>367447</td>\n",
              "      <td>NaN</td>\n",
              "      <td>5</td>\n",
              "    </tr>\n",
              "    <tr>\n",
              "      <th>...</th>\n",
              "      <td>...</td>\n",
              "      <td>...</td>\n",
              "      <td>...</td>\n",
              "      <td>...</td>\n",
              "      <td>...</td>\n",
              "      <td>...</td>\n",
              "    </tr>\n",
              "    <tr>\n",
              "      <th>2756096</th>\n",
              "      <td>2015-08-01 03:13:05.939</td>\n",
              "      <td>591435</td>\n",
              "      <td>view</td>\n",
              "      <td>261427</td>\n",
              "      <td>NaN</td>\n",
              "      <td>3</td>\n",
              "    </tr>\n",
              "    <tr>\n",
              "      <th>2756097</th>\n",
              "      <td>2015-08-01 03:30:13.142</td>\n",
              "      <td>762376</td>\n",
              "      <td>view</td>\n",
              "      <td>115946</td>\n",
              "      <td>NaN</td>\n",
              "      <td>3</td>\n",
              "    </tr>\n",
              "    <tr>\n",
              "      <th>2756098</th>\n",
              "      <td>2015-08-01 02:57:00.527</td>\n",
              "      <td>1251746</td>\n",
              "      <td>view</td>\n",
              "      <td>78144</td>\n",
              "      <td>NaN</td>\n",
              "      <td>2</td>\n",
              "    </tr>\n",
              "    <tr>\n",
              "      <th>2756099</th>\n",
              "      <td>2015-08-01 03:08:50.703</td>\n",
              "      <td>1184451</td>\n",
              "      <td>view</td>\n",
              "      <td>283392</td>\n",
              "      <td>NaN</td>\n",
              "      <td>3</td>\n",
              "    </tr>\n",
              "    <tr>\n",
              "      <th>2756100</th>\n",
              "      <td>2015-08-01 03:36:03.914</td>\n",
              "      <td>199536</td>\n",
              "      <td>view</td>\n",
              "      <td>152913</td>\n",
              "      <td>NaN</td>\n",
              "      <td>3</td>\n",
              "    </tr>\n",
              "  </tbody>\n",
              "</table>\n",
              "<p>2756101 rows × 6 columns</p>\n",
              "</div>"
            ],
            "text/plain": [
              "                      timestamp  visitorid event  itemid  transactionid  hour\n",
              "0       2015-06-02 05:02:12.117     257597  view  355908            NaN     5\n",
              "1       2015-06-02 05:50:14.164     992329  view  248676            NaN     5\n",
              "2       2015-06-02 05:13:19.827     111016  view  318965            NaN     5\n",
              "3       2015-06-02 05:12:35.914     483717  view  253185            NaN     5\n",
              "4       2015-06-02 05:02:17.106     951259  view  367447            NaN     5\n",
              "...                         ...        ...   ...     ...            ...   ...\n",
              "2756096 2015-08-01 03:13:05.939     591435  view  261427            NaN     3\n",
              "2756097 2015-08-01 03:30:13.142     762376  view  115946            NaN     3\n",
              "2756098 2015-08-01 02:57:00.527    1251746  view   78144            NaN     2\n",
              "2756099 2015-08-01 03:08:50.703    1184451  view  283392            NaN     3\n",
              "2756100 2015-08-01 03:36:03.914     199536  view  152913            NaN     3\n",
              "\n",
              "[2756101 rows x 6 columns]"
            ]
          },
          "metadata": {
            "tags": []
          },
          "execution_count": 15
        }
      ]
    },
    {
      "cell_type": "code",
      "metadata": {
        "id": "Dv0-lIxGaL0P",
        "outputId": "c50f567f-3373-4ab1-9948-01fdd092ba1f",
        "colab": {
          "base_uri": "https://localhost:8080/",
          "height": 419
        }
      },
      "source": [
        "sales['min'] = sales['timestamp'].dt.round('Min')\n",
        "sales"
      ],
      "execution_count": 16,
      "outputs": [
        {
          "output_type": "execute_result",
          "data": {
            "text/html": [
              "<div>\n",
              "<style scoped>\n",
              "    .dataframe tbody tr th:only-of-type {\n",
              "        vertical-align: middle;\n",
              "    }\n",
              "\n",
              "    .dataframe tbody tr th {\n",
              "        vertical-align: top;\n",
              "    }\n",
              "\n",
              "    .dataframe thead th {\n",
              "        text-align: right;\n",
              "    }\n",
              "</style>\n",
              "<table border=\"1\" class=\"dataframe\">\n",
              "  <thead>\n",
              "    <tr style=\"text-align: right;\">\n",
              "      <th></th>\n",
              "      <th>timestamp</th>\n",
              "      <th>visitorid</th>\n",
              "      <th>event</th>\n",
              "      <th>itemid</th>\n",
              "      <th>transactionid</th>\n",
              "      <th>hour</th>\n",
              "      <th>min</th>\n",
              "    </tr>\n",
              "  </thead>\n",
              "  <tbody>\n",
              "    <tr>\n",
              "      <th>0</th>\n",
              "      <td>2015-06-02 05:02:12.117</td>\n",
              "      <td>257597</td>\n",
              "      <td>view</td>\n",
              "      <td>355908</td>\n",
              "      <td>NaN</td>\n",
              "      <td>5</td>\n",
              "      <td>2015-06-02 05:02:00</td>\n",
              "    </tr>\n",
              "    <tr>\n",
              "      <th>1</th>\n",
              "      <td>2015-06-02 05:50:14.164</td>\n",
              "      <td>992329</td>\n",
              "      <td>view</td>\n",
              "      <td>248676</td>\n",
              "      <td>NaN</td>\n",
              "      <td>5</td>\n",
              "      <td>2015-06-02 05:50:00</td>\n",
              "    </tr>\n",
              "    <tr>\n",
              "      <th>2</th>\n",
              "      <td>2015-06-02 05:13:19.827</td>\n",
              "      <td>111016</td>\n",
              "      <td>view</td>\n",
              "      <td>318965</td>\n",
              "      <td>NaN</td>\n",
              "      <td>5</td>\n",
              "      <td>2015-06-02 05:13:00</td>\n",
              "    </tr>\n",
              "    <tr>\n",
              "      <th>3</th>\n",
              "      <td>2015-06-02 05:12:35.914</td>\n",
              "      <td>483717</td>\n",
              "      <td>view</td>\n",
              "      <td>253185</td>\n",
              "      <td>NaN</td>\n",
              "      <td>5</td>\n",
              "      <td>2015-06-02 05:13:00</td>\n",
              "    </tr>\n",
              "    <tr>\n",
              "      <th>4</th>\n",
              "      <td>2015-06-02 05:02:17.106</td>\n",
              "      <td>951259</td>\n",
              "      <td>view</td>\n",
              "      <td>367447</td>\n",
              "      <td>NaN</td>\n",
              "      <td>5</td>\n",
              "      <td>2015-06-02 05:02:00</td>\n",
              "    </tr>\n",
              "    <tr>\n",
              "      <th>...</th>\n",
              "      <td>...</td>\n",
              "      <td>...</td>\n",
              "      <td>...</td>\n",
              "      <td>...</td>\n",
              "      <td>...</td>\n",
              "      <td>...</td>\n",
              "      <td>...</td>\n",
              "    </tr>\n",
              "    <tr>\n",
              "      <th>2756096</th>\n",
              "      <td>2015-08-01 03:13:05.939</td>\n",
              "      <td>591435</td>\n",
              "      <td>view</td>\n",
              "      <td>261427</td>\n",
              "      <td>NaN</td>\n",
              "      <td>3</td>\n",
              "      <td>2015-08-01 03:13:00</td>\n",
              "    </tr>\n",
              "    <tr>\n",
              "      <th>2756097</th>\n",
              "      <td>2015-08-01 03:30:13.142</td>\n",
              "      <td>762376</td>\n",
              "      <td>view</td>\n",
              "      <td>115946</td>\n",
              "      <td>NaN</td>\n",
              "      <td>3</td>\n",
              "      <td>2015-08-01 03:30:00</td>\n",
              "    </tr>\n",
              "    <tr>\n",
              "      <th>2756098</th>\n",
              "      <td>2015-08-01 02:57:00.527</td>\n",
              "      <td>1251746</td>\n",
              "      <td>view</td>\n",
              "      <td>78144</td>\n",
              "      <td>NaN</td>\n",
              "      <td>2</td>\n",
              "      <td>2015-08-01 02:57:00</td>\n",
              "    </tr>\n",
              "    <tr>\n",
              "      <th>2756099</th>\n",
              "      <td>2015-08-01 03:08:50.703</td>\n",
              "      <td>1184451</td>\n",
              "      <td>view</td>\n",
              "      <td>283392</td>\n",
              "      <td>NaN</td>\n",
              "      <td>3</td>\n",
              "      <td>2015-08-01 03:09:00</td>\n",
              "    </tr>\n",
              "    <tr>\n",
              "      <th>2756100</th>\n",
              "      <td>2015-08-01 03:36:03.914</td>\n",
              "      <td>199536</td>\n",
              "      <td>view</td>\n",
              "      <td>152913</td>\n",
              "      <td>NaN</td>\n",
              "      <td>3</td>\n",
              "      <td>2015-08-01 03:36:00</td>\n",
              "    </tr>\n",
              "  </tbody>\n",
              "</table>\n",
              "<p>2756101 rows × 7 columns</p>\n",
              "</div>"
            ],
            "text/plain": [
              "                      timestamp  visitorid  ... hour                 min\n",
              "0       2015-06-02 05:02:12.117     257597  ...    5 2015-06-02 05:02:00\n",
              "1       2015-06-02 05:50:14.164     992329  ...    5 2015-06-02 05:50:00\n",
              "2       2015-06-02 05:13:19.827     111016  ...    5 2015-06-02 05:13:00\n",
              "3       2015-06-02 05:12:35.914     483717  ...    5 2015-06-02 05:13:00\n",
              "4       2015-06-02 05:02:17.106     951259  ...    5 2015-06-02 05:02:00\n",
              "...                         ...        ...  ...  ...                 ...\n",
              "2756096 2015-08-01 03:13:05.939     591435  ...    3 2015-08-01 03:13:00\n",
              "2756097 2015-08-01 03:30:13.142     762376  ...    3 2015-08-01 03:30:00\n",
              "2756098 2015-08-01 02:57:00.527    1251746  ...    2 2015-08-01 02:57:00\n",
              "2756099 2015-08-01 03:08:50.703    1184451  ...    3 2015-08-01 03:09:00\n",
              "2756100 2015-08-01 03:36:03.914     199536  ...    3 2015-08-01 03:36:00\n",
              "\n",
              "[2756101 rows x 7 columns]"
            ]
          },
          "metadata": {
            "tags": []
          },
          "execution_count": 16
        }
      ]
    },
    {
      "cell_type": "code",
      "metadata": {
        "id": "ZgcdJ7MAaW02"
      },
      "source": [
        ""
      ],
      "execution_count": 16,
      "outputs": []
    },
    {
      "cell_type": "code",
      "metadata": {
        "id": "ABX7Ys92w3R6",
        "outputId": "34b223cf-d927-4504-cfe1-be6390dd8b20",
        "colab": {
          "base_uri": "https://localhost:8080/",
          "height": 581
        }
      },
      "source": [
        "life = pd.read_csv('https://tf-assets-prod.s3.amazonaws.com/tf-curric/data-science/life_expectancy.csv')\n",
        "life.head()"
      ],
      "execution_count": 17,
      "outputs": [
        {
          "output_type": "execute_result",
          "data": {
            "text/html": [
              "<div>\n",
              "<style scoped>\n",
              "    .dataframe tbody tr th:only-of-type {\n",
              "        vertical-align: middle;\n",
              "    }\n",
              "\n",
              "    .dataframe tbody tr th {\n",
              "        vertical-align: top;\n",
              "    }\n",
              "\n",
              "    .dataframe thead th {\n",
              "        text-align: right;\n",
              "    }\n",
              "</style>\n",
              "<table border=\"1\" class=\"dataframe\">\n",
              "  <thead>\n",
              "    <tr style=\"text-align: right;\">\n",
              "      <th></th>\n",
              "      <th>Country Name</th>\n",
              "      <th>Country Code</th>\n",
              "      <th>Indicator Name</th>\n",
              "      <th>Indicator Code</th>\n",
              "      <th>1960</th>\n",
              "      <th>1961</th>\n",
              "      <th>1962</th>\n",
              "      <th>1963</th>\n",
              "      <th>1964</th>\n",
              "      <th>1965</th>\n",
              "      <th>1966</th>\n",
              "      <th>1967</th>\n",
              "      <th>1968</th>\n",
              "      <th>1969</th>\n",
              "      <th>1970</th>\n",
              "      <th>1971</th>\n",
              "      <th>1972</th>\n",
              "      <th>1973</th>\n",
              "      <th>1974</th>\n",
              "      <th>1975</th>\n",
              "      <th>1976</th>\n",
              "      <th>1977</th>\n",
              "      <th>1978</th>\n",
              "      <th>1979</th>\n",
              "      <th>1980</th>\n",
              "      <th>1981</th>\n",
              "      <th>1982</th>\n",
              "      <th>1983</th>\n",
              "      <th>1984</th>\n",
              "      <th>1985</th>\n",
              "      <th>1986</th>\n",
              "      <th>1987</th>\n",
              "      <th>1988</th>\n",
              "      <th>1989</th>\n",
              "      <th>1990</th>\n",
              "      <th>1991</th>\n",
              "      <th>1992</th>\n",
              "      <th>1993</th>\n",
              "      <th>1994</th>\n",
              "      <th>1995</th>\n",
              "      <th>1996</th>\n",
              "      <th>1997</th>\n",
              "      <th>1998</th>\n",
              "      <th>1999</th>\n",
              "      <th>2000</th>\n",
              "      <th>2001</th>\n",
              "      <th>2002</th>\n",
              "      <th>2003</th>\n",
              "      <th>2004</th>\n",
              "      <th>2005</th>\n",
              "      <th>2006</th>\n",
              "      <th>2007</th>\n",
              "      <th>2008</th>\n",
              "      <th>2009</th>\n",
              "      <th>2010</th>\n",
              "      <th>2011</th>\n",
              "      <th>2012</th>\n",
              "      <th>2013</th>\n",
              "      <th>2014</th>\n",
              "      <th>2015</th>\n",
              "      <th>2016</th>\n",
              "    </tr>\n",
              "  </thead>\n",
              "  <tbody>\n",
              "    <tr>\n",
              "      <th>0</th>\n",
              "      <td>Aruba</td>\n",
              "      <td>ABW</td>\n",
              "      <td>Life expectancy at birth, total (years)</td>\n",
              "      <td>SP.DYN.LE00.IN</td>\n",
              "      <td>65.662</td>\n",
              "      <td>66.074</td>\n",
              "      <td>66.444</td>\n",
              "      <td>66.787</td>\n",
              "      <td>67.113</td>\n",
              "      <td>67.435</td>\n",
              "      <td>67.762</td>\n",
              "      <td>68.095</td>\n",
              "      <td>68.436</td>\n",
              "      <td>68.784</td>\n",
              "      <td>69.140</td>\n",
              "      <td>69.498</td>\n",
              "      <td>69.851</td>\n",
              "      <td>70.191</td>\n",
              "      <td>70.519</td>\n",
              "      <td>70.833</td>\n",
              "      <td>71.140</td>\n",
              "      <td>71.441</td>\n",
              "      <td>71.736</td>\n",
              "      <td>72.023</td>\n",
              "      <td>72.293</td>\n",
              "      <td>72.538</td>\n",
              "      <td>72.751</td>\n",
              "      <td>72.929</td>\n",
              "      <td>73.071</td>\n",
              "      <td>73.181</td>\n",
              "      <td>73.262</td>\n",
              "      <td>73.325</td>\n",
              "      <td>73.378</td>\n",
              "      <td>73.425</td>\n",
              "      <td>73.468</td>\n",
              "      <td>73.509</td>\n",
              "      <td>73.544</td>\n",
              "      <td>73.573</td>\n",
              "      <td>73.598</td>\n",
              "      <td>73.622</td>\n",
              "      <td>73.646</td>\n",
              "      <td>73.671</td>\n",
              "      <td>73.700</td>\n",
              "      <td>73.738</td>\n",
              "      <td>73.787</td>\n",
              "      <td>73.853</td>\n",
              "      <td>73.937</td>\n",
              "      <td>74.038</td>\n",
              "      <td>74.156</td>\n",
              "      <td>74.287</td>\n",
              "      <td>74.429</td>\n",
              "      <td>74.576</td>\n",
              "      <td>74.725</td>\n",
              "      <td>74.872</td>\n",
              "      <td>75.016</td>\n",
              "      <td>75.158</td>\n",
              "      <td>75.299</td>\n",
              "      <td>75.440</td>\n",
              "      <td>75.582</td>\n",
              "      <td>75.725</td>\n",
              "      <td>75.867</td>\n",
              "    </tr>\n",
              "    <tr>\n",
              "      <th>1</th>\n",
              "      <td>Afghanistan</td>\n",
              "      <td>AFG</td>\n",
              "      <td>Life expectancy at birth, total (years)</td>\n",
              "      <td>SP.DYN.LE00.IN</td>\n",
              "      <td>32.292</td>\n",
              "      <td>32.742</td>\n",
              "      <td>33.185</td>\n",
              "      <td>33.624</td>\n",
              "      <td>34.060</td>\n",
              "      <td>34.495</td>\n",
              "      <td>34.928</td>\n",
              "      <td>35.361</td>\n",
              "      <td>35.796</td>\n",
              "      <td>36.234</td>\n",
              "      <td>36.678</td>\n",
              "      <td>37.128</td>\n",
              "      <td>37.587</td>\n",
              "      <td>38.056</td>\n",
              "      <td>38.540</td>\n",
              "      <td>39.039</td>\n",
              "      <td>39.556</td>\n",
              "      <td>40.092</td>\n",
              "      <td>40.650</td>\n",
              "      <td>41.234</td>\n",
              "      <td>41.853</td>\n",
              "      <td>42.513</td>\n",
              "      <td>43.217</td>\n",
              "      <td>43.963</td>\n",
              "      <td>44.747</td>\n",
              "      <td>45.566</td>\n",
              "      <td>46.417</td>\n",
              "      <td>47.288</td>\n",
              "      <td>48.164</td>\n",
              "      <td>49.028</td>\n",
              "      <td>49.856</td>\n",
              "      <td>50.627</td>\n",
              "      <td>51.331</td>\n",
              "      <td>51.968</td>\n",
              "      <td>52.539</td>\n",
              "      <td>53.055</td>\n",
              "      <td>53.533</td>\n",
              "      <td>53.997</td>\n",
              "      <td>54.468</td>\n",
              "      <td>54.959</td>\n",
              "      <td>55.482</td>\n",
              "      <td>56.044</td>\n",
              "      <td>56.637</td>\n",
              "      <td>57.250</td>\n",
              "      <td>57.875</td>\n",
              "      <td>58.500</td>\n",
              "      <td>59.110</td>\n",
              "      <td>59.694</td>\n",
              "      <td>60.243</td>\n",
              "      <td>60.754</td>\n",
              "      <td>61.226</td>\n",
              "      <td>61.666</td>\n",
              "      <td>62.086</td>\n",
              "      <td>62.494</td>\n",
              "      <td>62.895</td>\n",
              "      <td>63.288</td>\n",
              "      <td>63.673</td>\n",
              "    </tr>\n",
              "    <tr>\n",
              "      <th>2</th>\n",
              "      <td>Angola</td>\n",
              "      <td>AGO</td>\n",
              "      <td>Life expectancy at birth, total (years)</td>\n",
              "      <td>SP.DYN.LE00.IN</td>\n",
              "      <td>33.251</td>\n",
              "      <td>33.573</td>\n",
              "      <td>33.914</td>\n",
              "      <td>34.272</td>\n",
              "      <td>34.645</td>\n",
              "      <td>35.031</td>\n",
              "      <td>35.426</td>\n",
              "      <td>35.828</td>\n",
              "      <td>36.234</td>\n",
              "      <td>36.640</td>\n",
              "      <td>37.047</td>\n",
              "      <td>37.460</td>\n",
              "      <td>37.878</td>\n",
              "      <td>38.297</td>\n",
              "      <td>38.712</td>\n",
              "      <td>39.110</td>\n",
              "      <td>39.478</td>\n",
              "      <td>39.810</td>\n",
              "      <td>40.099</td>\n",
              "      <td>40.344</td>\n",
              "      <td>40.546</td>\n",
              "      <td>40.710</td>\n",
              "      <td>40.848</td>\n",
              "      <td>40.970</td>\n",
              "      <td>41.085</td>\n",
              "      <td>41.193</td>\n",
              "      <td>41.292</td>\n",
              "      <td>41.382</td>\n",
              "      <td>41.471</td>\n",
              "      <td>41.572</td>\n",
              "      <td>41.696</td>\n",
              "      <td>41.855</td>\n",
              "      <td>42.060</td>\n",
              "      <td>42.329</td>\n",
              "      <td>42.677</td>\n",
              "      <td>43.125</td>\n",
              "      <td>43.695</td>\n",
              "      <td>44.385</td>\n",
              "      <td>45.192</td>\n",
              "      <td>46.105</td>\n",
              "      <td>47.113</td>\n",
              "      <td>48.200</td>\n",
              "      <td>49.341</td>\n",
              "      <td>50.508</td>\n",
              "      <td>51.676</td>\n",
              "      <td>52.833</td>\n",
              "      <td>53.974</td>\n",
              "      <td>55.096</td>\n",
              "      <td>56.189</td>\n",
              "      <td>57.231</td>\n",
              "      <td>58.192</td>\n",
              "      <td>59.042</td>\n",
              "      <td>59.770</td>\n",
              "      <td>60.373</td>\n",
              "      <td>60.858</td>\n",
              "      <td>61.241</td>\n",
              "      <td>61.547</td>\n",
              "    </tr>\n",
              "    <tr>\n",
              "      <th>3</th>\n",
              "      <td>Albania</td>\n",
              "      <td>ALB</td>\n",
              "      <td>Life expectancy at birth, total (years)</td>\n",
              "      <td>SP.DYN.LE00.IN</td>\n",
              "      <td>62.279</td>\n",
              "      <td>63.298</td>\n",
              "      <td>64.187</td>\n",
              "      <td>64.911</td>\n",
              "      <td>65.461</td>\n",
              "      <td>65.848</td>\n",
              "      <td>66.108</td>\n",
              "      <td>66.302</td>\n",
              "      <td>66.485</td>\n",
              "      <td>66.687</td>\n",
              "      <td>66.933</td>\n",
              "      <td>67.235</td>\n",
              "      <td>67.580</td>\n",
              "      <td>67.951</td>\n",
              "      <td>68.341</td>\n",
              "      <td>68.734</td>\n",
              "      <td>69.108</td>\n",
              "      <td>69.447</td>\n",
              "      <td>69.741</td>\n",
              "      <td>69.990</td>\n",
              "      <td>70.207</td>\n",
              "      <td>70.416</td>\n",
              "      <td>70.635</td>\n",
              "      <td>70.876</td>\n",
              "      <td>71.134</td>\n",
              "      <td>71.388</td>\n",
              "      <td>71.605</td>\n",
              "      <td>71.760</td>\n",
              "      <td>71.843</td>\n",
              "      <td>71.860</td>\n",
              "      <td>71.836</td>\n",
              "      <td>71.803</td>\n",
              "      <td>71.802</td>\n",
              "      <td>71.860</td>\n",
              "      <td>71.992</td>\n",
              "      <td>72.205</td>\n",
              "      <td>72.495</td>\n",
              "      <td>72.838</td>\n",
              "      <td>73.208</td>\n",
              "      <td>73.588</td>\n",
              "      <td>73.955</td>\n",
              "      <td>74.286</td>\n",
              "      <td>74.575</td>\n",
              "      <td>74.820</td>\n",
              "      <td>75.028</td>\n",
              "      <td>75.217</td>\n",
              "      <td>75.418</td>\n",
              "      <td>75.656</td>\n",
              "      <td>75.943</td>\n",
              "      <td>76.281</td>\n",
              "      <td>76.652</td>\n",
              "      <td>77.031</td>\n",
              "      <td>77.389</td>\n",
              "      <td>77.702</td>\n",
              "      <td>77.963</td>\n",
              "      <td>78.174</td>\n",
              "      <td>78.345</td>\n",
              "    </tr>\n",
              "    <tr>\n",
              "      <th>4</th>\n",
              "      <td>Andorra</td>\n",
              "      <td>AND</td>\n",
              "      <td>Life expectancy at birth, total (years)</td>\n",
              "      <td>SP.DYN.LE00.IN</td>\n",
              "      <td>NaN</td>\n",
              "      <td>NaN</td>\n",
              "      <td>NaN</td>\n",
              "      <td>NaN</td>\n",
              "      <td>NaN</td>\n",
              "      <td>NaN</td>\n",
              "      <td>NaN</td>\n",
              "      <td>NaN</td>\n",
              "      <td>NaN</td>\n",
              "      <td>NaN</td>\n",
              "      <td>NaN</td>\n",
              "      <td>NaN</td>\n",
              "      <td>NaN</td>\n",
              "      <td>NaN</td>\n",
              "      <td>NaN</td>\n",
              "      <td>NaN</td>\n",
              "      <td>NaN</td>\n",
              "      <td>NaN</td>\n",
              "      <td>NaN</td>\n",
              "      <td>NaN</td>\n",
              "      <td>NaN</td>\n",
              "      <td>NaN</td>\n",
              "      <td>NaN</td>\n",
              "      <td>NaN</td>\n",
              "      <td>NaN</td>\n",
              "      <td>NaN</td>\n",
              "      <td>NaN</td>\n",
              "      <td>NaN</td>\n",
              "      <td>NaN</td>\n",
              "      <td>NaN</td>\n",
              "      <td>NaN</td>\n",
              "      <td>NaN</td>\n",
              "      <td>NaN</td>\n",
              "      <td>NaN</td>\n",
              "      <td>NaN</td>\n",
              "      <td>NaN</td>\n",
              "      <td>NaN</td>\n",
              "      <td>NaN</td>\n",
              "      <td>NaN</td>\n",
              "      <td>NaN</td>\n",
              "      <td>NaN</td>\n",
              "      <td>NaN</td>\n",
              "      <td>NaN</td>\n",
              "      <td>NaN</td>\n",
              "      <td>NaN</td>\n",
              "      <td>NaN</td>\n",
              "      <td>NaN</td>\n",
              "      <td>NaN</td>\n",
              "      <td>NaN</td>\n",
              "      <td>NaN</td>\n",
              "      <td>NaN</td>\n",
              "      <td>NaN</td>\n",
              "      <td>NaN</td>\n",
              "      <td>NaN</td>\n",
              "      <td>NaN</td>\n",
              "      <td>NaN</td>\n",
              "      <td>NaN</td>\n",
              "    </tr>\n",
              "  </tbody>\n",
              "</table>\n",
              "</div>"
            ],
            "text/plain": [
              "  Country Name Country Code  ...    2015    2016\n",
              "0        Aruba          ABW  ...  75.725  75.867\n",
              "1  Afghanistan          AFG  ...  63.288  63.673\n",
              "2       Angola          AGO  ...  61.241  61.547\n",
              "3      Albania          ALB  ...  78.174  78.345\n",
              "4      Andorra          AND  ...     NaN     NaN\n",
              "\n",
              "[5 rows x 61 columns]"
            ]
          },
          "metadata": {
            "tags": []
          },
          "execution_count": 17
        }
      ]
    },
    {
      "cell_type": "code",
      "metadata": {
        "id": "hziAXrXo3lb2"
      },
      "source": [
        "#Transform/melt the data so that the years are listed in a single column instead of separate columns."
      ],
      "execution_count": 18,
      "outputs": []
    },
    {
      "cell_type": "code",
      "metadata": {
        "id": "nQs75iyCx9Ai",
        "outputId": "832fbbff-6ae5-41df-9d82-ff5dbd7f1d4d",
        "colab": {
          "base_uri": "https://localhost:8080/",
          "height": 204
        }
      },
      "source": [
        "ids = ['Country Name', 'Country Code', 'Indicator Name', 'Indicator Code']\n",
        "melt = set(life.columns) - set(ids)\n",
        "\n",
        "melted = pd.melt(life, id_vars=ids,\n",
        "                 value_vars=melt,\n",
        "                 var_name = 'Year', value_name='Value')\n",
        "melted.head()"
      ],
      "execution_count": 19,
      "outputs": [
        {
          "output_type": "execute_result",
          "data": {
            "text/html": [
              "<div>\n",
              "<style scoped>\n",
              "    .dataframe tbody tr th:only-of-type {\n",
              "        vertical-align: middle;\n",
              "    }\n",
              "\n",
              "    .dataframe tbody tr th {\n",
              "        vertical-align: top;\n",
              "    }\n",
              "\n",
              "    .dataframe thead th {\n",
              "        text-align: right;\n",
              "    }\n",
              "</style>\n",
              "<table border=\"1\" class=\"dataframe\">\n",
              "  <thead>\n",
              "    <tr style=\"text-align: right;\">\n",
              "      <th></th>\n",
              "      <th>Country Name</th>\n",
              "      <th>Country Code</th>\n",
              "      <th>Indicator Name</th>\n",
              "      <th>Indicator Code</th>\n",
              "      <th>Year</th>\n",
              "      <th>Value</th>\n",
              "    </tr>\n",
              "  </thead>\n",
              "  <tbody>\n",
              "    <tr>\n",
              "      <th>0</th>\n",
              "      <td>Aruba</td>\n",
              "      <td>ABW</td>\n",
              "      <td>Life expectancy at birth, total (years)</td>\n",
              "      <td>SP.DYN.LE00.IN</td>\n",
              "      <td>2001</td>\n",
              "      <td>73.853</td>\n",
              "    </tr>\n",
              "    <tr>\n",
              "      <th>1</th>\n",
              "      <td>Afghanistan</td>\n",
              "      <td>AFG</td>\n",
              "      <td>Life expectancy at birth, total (years)</td>\n",
              "      <td>SP.DYN.LE00.IN</td>\n",
              "      <td>2001</td>\n",
              "      <td>56.044</td>\n",
              "    </tr>\n",
              "    <tr>\n",
              "      <th>2</th>\n",
              "      <td>Angola</td>\n",
              "      <td>AGO</td>\n",
              "      <td>Life expectancy at birth, total (years)</td>\n",
              "      <td>SP.DYN.LE00.IN</td>\n",
              "      <td>2001</td>\n",
              "      <td>48.200</td>\n",
              "    </tr>\n",
              "    <tr>\n",
              "      <th>3</th>\n",
              "      <td>Albania</td>\n",
              "      <td>ALB</td>\n",
              "      <td>Life expectancy at birth, total (years)</td>\n",
              "      <td>SP.DYN.LE00.IN</td>\n",
              "      <td>2001</td>\n",
              "      <td>74.286</td>\n",
              "    </tr>\n",
              "    <tr>\n",
              "      <th>4</th>\n",
              "      <td>Andorra</td>\n",
              "      <td>AND</td>\n",
              "      <td>Life expectancy at birth, total (years)</td>\n",
              "      <td>SP.DYN.LE00.IN</td>\n",
              "      <td>2001</td>\n",
              "      <td>NaN</td>\n",
              "    </tr>\n",
              "  </tbody>\n",
              "</table>\n",
              "</div>"
            ],
            "text/plain": [
              "  Country Name Country Code  ...  Year   Value\n",
              "0        Aruba          ABW  ...  2001  73.853\n",
              "1  Afghanistan          AFG  ...  2001  56.044\n",
              "2       Angola          AGO  ...  2001  48.200\n",
              "3      Albania          ALB  ...  2001  74.286\n",
              "4      Andorra          AND  ...  2001     NaN\n",
              "\n",
              "[5 rows x 6 columns]"
            ]
          },
          "metadata": {
            "tags": []
          },
          "execution_count": 19
        }
      ]
    },
    {
      "cell_type": "code",
      "metadata": {
        "id": "2j8iDhV43WFX"
      },
      "source": [
        "#Practice address missing values for countries using the different approaches (imputation, interpolation, and deletion)."
      ],
      "execution_count": 20,
      "outputs": []
    },
    {
      "cell_type": "code",
      "metadata": {
        "id": "3TJWxgNi37tz",
        "outputId": "c3532068-4ab5-4d3b-c8e3-b14fc64cb750",
        "colab": {
          "base_uri": "https://localhost:8080/",
          "height": 221
        }
      },
      "source": [
        "life.isna().sum()"
      ],
      "execution_count": 21,
      "outputs": [
        {
          "output_type": "execute_result",
          "data": {
            "text/plain": [
              "Country Name       0\n",
              "Country Code       0\n",
              "Indicator Name     0\n",
              "Indicator Code     0\n",
              "1960              29\n",
              "                  ..\n",
              "2012              17\n",
              "2013              19\n",
              "2014              19\n",
              "2015              20\n",
              "2016              19\n",
              "Length: 61, dtype: int64"
            ]
          },
          "metadata": {
            "tags": []
          },
          "execution_count": 21
        }
      ]
    },
    {
      "cell_type": "code",
      "metadata": {
        "id": "o9cFTm5564Yb",
        "outputId": "978cecae-023d-4c9c-e45b-c01bc8df7975",
        "colab": {
          "base_uri": "https://localhost:8080/",
          "height": 221
        }
      },
      "source": [
        "melted['Value'].fillna(melted['Value'].mean())"
      ],
      "execution_count": 22,
      "outputs": [
        {
          "output_type": "execute_result",
          "data": {
            "text/plain": [
              "0        73.853000\n",
              "1        56.044000\n",
              "2        48.200000\n",
              "3        74.286000\n",
              "4        63.544406\n",
              "           ...    \n",
              "15043    63.544406\n",
              "15044    49.630000\n",
              "15045    57.526000\n",
              "15046    51.442000\n",
              "15047    58.828000\n",
              "Name: Value, Length: 15048, dtype: float64"
            ]
          },
          "metadata": {
            "tags": []
          },
          "execution_count": 22
        }
      ]
    },
    {
      "cell_type": "code",
      "metadata": {
        "id": "FgvwYaBZ7DeW",
        "outputId": "15bd5ae1-9a1e-4f64-a8eb-6631e425e622",
        "colab": {
          "base_uri": "https://localhost:8080/",
          "height": 204
        }
      },
      "source": [
        "melted['Year'].fillna(melted['Year'].median())\n",
        "melted.head()"
      ],
      "execution_count": 23,
      "outputs": [
        {
          "output_type": "execute_result",
          "data": {
            "text/html": [
              "<div>\n",
              "<style scoped>\n",
              "    .dataframe tbody tr th:only-of-type {\n",
              "        vertical-align: middle;\n",
              "    }\n",
              "\n",
              "    .dataframe tbody tr th {\n",
              "        vertical-align: top;\n",
              "    }\n",
              "\n",
              "    .dataframe thead th {\n",
              "        text-align: right;\n",
              "    }\n",
              "</style>\n",
              "<table border=\"1\" class=\"dataframe\">\n",
              "  <thead>\n",
              "    <tr style=\"text-align: right;\">\n",
              "      <th></th>\n",
              "      <th>Country Name</th>\n",
              "      <th>Country Code</th>\n",
              "      <th>Indicator Name</th>\n",
              "      <th>Indicator Code</th>\n",
              "      <th>Year</th>\n",
              "      <th>Value</th>\n",
              "    </tr>\n",
              "  </thead>\n",
              "  <tbody>\n",
              "    <tr>\n",
              "      <th>0</th>\n",
              "      <td>Aruba</td>\n",
              "      <td>ABW</td>\n",
              "      <td>Life expectancy at birth, total (years)</td>\n",
              "      <td>SP.DYN.LE00.IN</td>\n",
              "      <td>2001</td>\n",
              "      <td>73.853</td>\n",
              "    </tr>\n",
              "    <tr>\n",
              "      <th>1</th>\n",
              "      <td>Afghanistan</td>\n",
              "      <td>AFG</td>\n",
              "      <td>Life expectancy at birth, total (years)</td>\n",
              "      <td>SP.DYN.LE00.IN</td>\n",
              "      <td>2001</td>\n",
              "      <td>56.044</td>\n",
              "    </tr>\n",
              "    <tr>\n",
              "      <th>2</th>\n",
              "      <td>Angola</td>\n",
              "      <td>AGO</td>\n",
              "      <td>Life expectancy at birth, total (years)</td>\n",
              "      <td>SP.DYN.LE00.IN</td>\n",
              "      <td>2001</td>\n",
              "      <td>48.200</td>\n",
              "    </tr>\n",
              "    <tr>\n",
              "      <th>3</th>\n",
              "      <td>Albania</td>\n",
              "      <td>ALB</td>\n",
              "      <td>Life expectancy at birth, total (years)</td>\n",
              "      <td>SP.DYN.LE00.IN</td>\n",
              "      <td>2001</td>\n",
              "      <td>74.286</td>\n",
              "    </tr>\n",
              "    <tr>\n",
              "      <th>4</th>\n",
              "      <td>Andorra</td>\n",
              "      <td>AND</td>\n",
              "      <td>Life expectancy at birth, total (years)</td>\n",
              "      <td>SP.DYN.LE00.IN</td>\n",
              "      <td>2001</td>\n",
              "      <td>NaN</td>\n",
              "    </tr>\n",
              "  </tbody>\n",
              "</table>\n",
              "</div>"
            ],
            "text/plain": [
              "  Country Name Country Code  ...  Year   Value\n",
              "0        Aruba          ABW  ...  2001  73.853\n",
              "1  Afghanistan          AFG  ...  2001  56.044\n",
              "2       Angola          AGO  ...  2001  48.200\n",
              "3      Albania          ALB  ...  2001  74.286\n",
              "4      Andorra          AND  ...  2001     NaN\n",
              "\n",
              "[5 rows x 6 columns]"
            ]
          },
          "metadata": {
            "tags": []
          },
          "execution_count": 23
        }
      ]
    },
    {
      "cell_type": "code",
      "metadata": {
        "id": "q52t6JuA8PKB",
        "outputId": "44d63eeb-e823-4242-a4bb-dd7bab9e1a8d",
        "colab": {
          "base_uri": "https://localhost:8080/",
          "height": 221
        }
      },
      "source": [
        "melted['Year'].fillna(melted['Year'].mode())"
      ],
      "execution_count": 24,
      "outputs": [
        {
          "output_type": "execute_result",
          "data": {
            "text/plain": [
              "0        2001\n",
              "1        2001\n",
              "2        2001\n",
              "3        2001\n",
              "4        2001\n",
              "         ... \n",
              "15043    1979\n",
              "15044    1979\n",
              "15045    1979\n",
              "15046    1979\n",
              "15047    1979\n",
              "Name: Year, Length: 15048, dtype: object"
            ]
          },
          "metadata": {
            "tags": []
          },
          "execution_count": 24
        }
      ]
    },
    {
      "cell_type": "code",
      "metadata": {
        "id": "H3_jnd0u8dfv",
        "outputId": "d56bcba9-a2e5-45b9-f21e-24998b0f6ea7",
        "colab": {
          "base_uri": "https://localhost:8080/",
          "height": 221
        }
      },
      "source": [
        "melted['Year'].fillna(0)"
      ],
      "execution_count": 25,
      "outputs": [
        {
          "output_type": "execute_result",
          "data": {
            "text/plain": [
              "0        2001\n",
              "1        2001\n",
              "2        2001\n",
              "3        2001\n",
              "4        2001\n",
              "         ... \n",
              "15043    1979\n",
              "15044    1979\n",
              "15045    1979\n",
              "15046    1979\n",
              "15047    1979\n",
              "Name: Year, Length: 15048, dtype: object"
            ]
          },
          "metadata": {
            "tags": []
          },
          "execution_count": 25
        }
      ]
    },
    {
      "cell_type": "code",
      "metadata": {
        "id": "IP9XzWmK8o0-",
        "outputId": "a17785cd-f166-4f97-d03c-33d8d5850650",
        "colab": {
          "base_uri": "https://localhost:8080/",
          "height": 136
        }
      },
      "source": [
        "melted.isna().sum()"
      ],
      "execution_count": 26,
      "outputs": [
        {
          "output_type": "execute_result",
          "data": {
            "text/plain": [
              "Country Name         0\n",
              "Country Code         0\n",
              "Indicator Name       0\n",
              "Indicator Code       0\n",
              "Year                 0\n",
              "Value             1301\n",
              "dtype: int64"
            ]
          },
          "metadata": {
            "tags": []
          },
          "execution_count": 26
        }
      ]
    },
    {
      "cell_type": "code",
      "metadata": {
        "id": "C9qeMIqh8rpr"
      },
      "source": [
        "melted = melted['Value'].fillna(melted['Value'].median())"
      ],
      "execution_count": 27,
      "outputs": []
    },
    {
      "cell_type": "code",
      "metadata": {
        "id": "TkK8eQBo82zS",
        "outputId": "8cd358fe-c353-4d6c-eb64-be3a8bc8ebbb",
        "colab": {
          "base_uri": "https://localhost:8080/",
          "height": 34
        }
      },
      "source": [
        "melted.isna().sum()"
      ],
      "execution_count": 30,
      "outputs": [
        {
          "output_type": "execute_result",
          "data": {
            "text/plain": [
              "0"
            ]
          },
          "metadata": {
            "tags": []
          },
          "execution_count": 30
        }
      ]
    },
    {
      "cell_type": "code",
      "metadata": {
        "id": "RPDRNNHr8-tU"
      },
      "source": [
        ""
      ],
      "execution_count": 28,
      "outputs": []
    }
  ]
}