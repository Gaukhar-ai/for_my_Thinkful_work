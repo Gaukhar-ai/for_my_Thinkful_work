{
 "cells": [
  {
   "cell_type": "code",
   "execution_count": 1,
   "metadata": {},
   "outputs": [
    {
     "data": {
      "application/javascript": [
       "\n",
       "            setTimeout(function() {\n",
       "                var nbb_cell_id = 1;\n",
       "                var nbb_unformatted_code = \"%reload_ext nb_black\";\n",
       "                var nbb_formatted_code = \"%reload_ext nb_black\";\n",
       "                var nbb_cells = Jupyter.notebook.get_cells();\n",
       "                for (var i = 0; i < nbb_cells.length; ++i) {\n",
       "                    if (nbb_cells[i].input_prompt_number == nbb_cell_id) {\n",
       "                        if (nbb_cells[i].get_text() == nbb_unformatted_code) {\n",
       "                             nbb_cells[i].set_text(nbb_formatted_code);\n",
       "                        }\n",
       "                        break;\n",
       "                    }\n",
       "                }\n",
       "            }, 500);\n",
       "            "
      ],
      "text/plain": [
       "<IPython.core.display.Javascript object>"
      ]
     },
     "metadata": {},
     "output_type": "display_data"
    }
   ],
   "source": [
    "%reload_ext nb_black\n"
   ]
  },
  {
   "cell_type": "code",
   "execution_count": 2,
   "metadata": {},
   "outputs": [
    {
     "data": {
      "application/javascript": [
       "\n",
       "            setTimeout(function() {\n",
       "                var nbb_cell_id = 2;\n",
       "                var nbb_unformatted_code = \"import pandas as pd\\nimport numpy as np\\nfrom scipy import stats\\nimport matplotlib.pyplot as plt\\nimport math\\nimport seaborn as sns\\nimport statsmodels.api as sm\\nfrom statsmodels.formula.api import ols\\nfrom statsmodels.stats.anova import AnovaRM\\nfrom statsmodels.stats.multicomp import pairwise_tukeyhsd\\nfrom statsmodels.graphics.gofplots import qqplot\\n\\n\\n%matplotlib inline\\nplt.style.use(\\\"fivethirtyeight\\\")\";\n",
       "                var nbb_formatted_code = \"import pandas as pd\\nimport numpy as np\\nfrom scipy import stats\\nimport matplotlib.pyplot as plt\\nimport math\\nimport seaborn as sns\\nimport statsmodels.api as sm\\nfrom statsmodels.formula.api import ols\\nfrom statsmodels.stats.anova import AnovaRM\\nfrom statsmodels.stats.multicomp import pairwise_tukeyhsd\\nfrom statsmodels.graphics.gofplots import qqplot\\n\\n\\n%matplotlib inline\\nplt.style.use(\\\"fivethirtyeight\\\")\";\n",
       "                var nbb_cells = Jupyter.notebook.get_cells();\n",
       "                for (var i = 0; i < nbb_cells.length; ++i) {\n",
       "                    if (nbb_cells[i].input_prompt_number == nbb_cell_id) {\n",
       "                        if (nbb_cells[i].get_text() == nbb_unformatted_code) {\n",
       "                             nbb_cells[i].set_text(nbb_formatted_code);\n",
       "                        }\n",
       "                        break;\n",
       "                    }\n",
       "                }\n",
       "            }, 500);\n",
       "            "
      ],
      "text/plain": [
       "<IPython.core.display.Javascript object>"
      ]
     },
     "metadata": {},
     "output_type": "display_data"
    }
   ],
   "source": [
    "import pandas as pd\n",
    "import numpy as np\n",
    "from scipy import stats\n",
    "import matplotlib.pyplot as plt\n",
    "import math\n",
    "import seaborn as sns\n",
    "import statsmodels.api as sm\n",
    "from statsmodels.formula.api import ols\n",
    "from statsmodels.stats.anova import AnovaRM\n",
    "from statsmodels.stats.multicomp import pairwise_tukeyhsd\n",
    "from statsmodels.graphics.gofplots import qqplot\n",
    "\n",
    "\n",
    "%matplotlib inline\n",
    "plt.style.use(\"fivethirtyeight\")"
   ]
  },
  {
   "cell_type": "code",
   "execution_count": 3,
   "metadata": {},
   "outputs": [
    {
     "data": {
      "application/javascript": [
       "\n",
       "            setTimeout(function() {\n",
       "                var nbb_cell_id = 3;\n",
       "                var nbb_unformatted_code = \"def get_95_ci(x1, x2):\\n    \\\"\\\"\\\"Calculate a 95% CI for 2 1d numpy arrays\\\"\\\"\\\"\\n    signal = x1.mean() - x2.mean()\\n    noise = np.sqrt(x1.var() / x1.size + x2.var() / x2.size)\\n\\n    ci_lo = signal - 1.96 * noise\\n    ci_hi = signal + 1.96 * noise\\n\\n    return ci_lo, ci_hi\\n\\n\\n%matplotlib inline\";\n",
       "                var nbb_formatted_code = \"def get_95_ci(x1, x2):\\n    \\\"\\\"\\\"Calculate a 95% CI for 2 1d numpy arrays\\\"\\\"\\\"\\n    signal = x1.mean() - x2.mean()\\n    noise = np.sqrt(x1.var() / x1.size + x2.var() / x2.size)\\n\\n    ci_lo = signal - 1.96 * noise\\n    ci_hi = signal + 1.96 * noise\\n\\n    return ci_lo, ci_hi\\n\\n\\n%matplotlib inline\";\n",
       "                var nbb_cells = Jupyter.notebook.get_cells();\n",
       "                for (var i = 0; i < nbb_cells.length; ++i) {\n",
       "                    if (nbb_cells[i].input_prompt_number == nbb_cell_id) {\n",
       "                        if (nbb_cells[i].get_text() == nbb_unformatted_code) {\n",
       "                             nbb_cells[i].set_text(nbb_formatted_code);\n",
       "                        }\n",
       "                        break;\n",
       "                    }\n",
       "                }\n",
       "            }, 500);\n",
       "            "
      ],
      "text/plain": [
       "<IPython.core.display.Javascript object>"
      ]
     },
     "metadata": {},
     "output_type": "display_data"
    }
   ],
   "source": [
    "def get_95_ci(x1, x2):\n",
    "    \"\"\"Calculate a 95% CI for 2 1d numpy arrays\"\"\"\n",
    "    signal = x1.mean() - x2.mean()\n",
    "    noise = np.sqrt(x1.var() / x1.size + x2.var() / x2.size)\n",
    "\n",
    "    ci_lo = signal - 1.96 * noise\n",
    "    ci_hi = signal + 1.96 * noise\n",
    "\n",
    "    return ci_lo, ci_hi\n",
    "\n",
    "\n",
    "%matplotlib inline"
   ]
  },
  {
   "cell_type": "code",
   "execution_count": 4,
   "metadata": {},
   "outputs": [
    {
     "data": {
      "text/html": [
       "<div>\n",
       "<style scoped>\n",
       "    .dataframe tbody tr th:only-of-type {\n",
       "        vertical-align: middle;\n",
       "    }\n",
       "\n",
       "    .dataframe tbody tr th {\n",
       "        vertical-align: top;\n",
       "    }\n",
       "\n",
       "    .dataframe thead th {\n",
       "        text-align: right;\n",
       "    }\n",
       "</style>\n",
       "<table border=\"1\" class=\"dataframe\">\n",
       "  <thead>\n",
       "    <tr style=\"text-align: right;\">\n",
       "      <th></th>\n",
       "      <th>ticker</th>\n",
       "      <th>revenue</th>\n",
       "      <th>pb</th>\n",
       "      <th>debt</th>\n",
       "      <th>assets</th>\n",
       "      <th>netmargin</th>\n",
       "      <th>ncfo</th>\n",
       "      <th>shareswa</th>\n",
       "      <th>sps</th>\n",
       "      <th>opinc</th>\n",
       "      <th>...</th>\n",
       "      <th>netinccmn</th>\n",
       "      <th>fcfps</th>\n",
       "      <th>PX_TO_BOOK_RATIO</th>\n",
       "      <th>RETURN_ON_ASSET</th>\n",
       "      <th>OPER_MARGIN</th>\n",
       "      <th>CASH_FLOW_PER_SHARE</th>\n",
       "      <th>REVENUE_PER_SHARE</th>\n",
       "      <th>PX_FREE_CASH_FLOW</th>\n",
       "      <th>quick_ratio</th>\n",
       "      <th>TOT_DEBT_TO_TOTAL_ASSET</th>\n",
       "    </tr>\n",
       "  </thead>\n",
       "  <tbody>\n",
       "    <tr>\n",
       "      <th>0</th>\n",
       "      <td>ZYME</td>\n",
       "      <td>8269000.0</td>\n",
       "      <td>3.091</td>\n",
       "      <td>9007000.0</td>\n",
       "      <td>636578000.0</td>\n",
       "      <td>-3.765</td>\n",
       "      <td>-37487000.0</td>\n",
       "      <td>48686718.0</td>\n",
       "      <td>0.170</td>\n",
       "      <td>-35880000.0</td>\n",
       "      <td>...</td>\n",
       "      <td>-162932000.0</td>\n",
       "      <td>-2.154</td>\n",
       "      <td>3.091</td>\n",
       "      <td>-0.358217</td>\n",
       "      <td>-4.339098</td>\n",
       "      <td>-0.823549</td>\n",
       "      <td>0.181661</td>\n",
       "      <td>-16.467038</td>\n",
       "      <td>6.807722</td>\n",
       "      <td>0.014149</td>\n",
       "    </tr>\n",
       "    <tr>\n",
       "      <th>1</th>\n",
       "      <td>ZYME</td>\n",
       "      <td>1877000.0</td>\n",
       "      <td>7.288</td>\n",
       "      <td>6881000.0</td>\n",
       "      <td>368205000.0</td>\n",
       "      <td>-38.489</td>\n",
       "      <td>-36354000.0</td>\n",
       "      <td>43658717.0</td>\n",
       "      <td>0.043</td>\n",
       "      <td>-73752000.0</td>\n",
       "      <td>...</td>\n",
       "      <td>-145437000.0</td>\n",
       "      <td>-2.319</td>\n",
       "      <td>7.288</td>\n",
       "      <td>-0.409374</td>\n",
       "      <td>-39.292488</td>\n",
       "      <td>-0.922987</td>\n",
       "      <td>0.047655</td>\n",
       "      <td>-19.603277</td>\n",
       "      <td>3.647265</td>\n",
       "      <td>0.018688</td>\n",
       "    </tr>\n",
       "    <tr>\n",
       "      <th>2</th>\n",
       "      <td>ZYME</td>\n",
       "      <td>7860000.0</td>\n",
       "      <td>3.146</td>\n",
       "      <td>6755000.0</td>\n",
       "      <td>400037000.0</td>\n",
       "      <td>-3.877</td>\n",
       "      <td>-10880000.0</td>\n",
       "      <td>43445379.0</td>\n",
       "      <td>0.181</td>\n",
       "      <td>-33564000.0</td>\n",
       "      <td>...</td>\n",
       "      <td>-63920000.0</td>\n",
       "      <td>0.004</td>\n",
       "      <td>3.146</td>\n",
       "      <td>-0.197080</td>\n",
       "      <td>-4.270229</td>\n",
       "      <td>-0.277127</td>\n",
       "      <td>0.200204</td>\n",
       "      <td>6200.000000</td>\n",
       "      <td>6.678431</td>\n",
       "      <td>0.016886</td>\n",
       "    </tr>\n",
       "    <tr>\n",
       "      <th>3</th>\n",
       "      <td>ZYME</td>\n",
       "      <td>7882000.0</td>\n",
       "      <td>2.112</td>\n",
       "      <td>7829000.0</td>\n",
       "      <td>414547000.0</td>\n",
       "      <td>-3.689</td>\n",
       "      <td>-13317000.0</td>\n",
       "      <td>32837975.0</td>\n",
       "      <td>0.240</td>\n",
       "      <td>-29432000.0</td>\n",
       "      <td>...</td>\n",
       "      <td>-52196000.0</td>\n",
       "      <td>0.028</td>\n",
       "      <td>2.112</td>\n",
       "      <td>-0.191239</td>\n",
       "      <td>-3.734078</td>\n",
       "      <td>-0.415356</td>\n",
       "      <td>0.245839</td>\n",
       "      <td>785.714286</td>\n",
       "      <td>8.874183</td>\n",
       "      <td>0.018886</td>\n",
       "    </tr>\n",
       "    <tr>\n",
       "      <th>4</th>\n",
       "      <td>ZYME</td>\n",
       "      <td>11925000.0</td>\n",
       "      <td>3.048</td>\n",
       "      <td>8065000.0</td>\n",
       "      <td>238279000.0</td>\n",
       "      <td>-1.144</td>\n",
       "      <td>-21302000.0</td>\n",
       "      <td>32020437.0</td>\n",
       "      <td>0.372</td>\n",
       "      <td>-14553000.0</td>\n",
       "      <td>...</td>\n",
       "      <td>-28993000.0</td>\n",
       "      <td>0.616</td>\n",
       "      <td>3.048</td>\n",
       "      <td>-0.130571</td>\n",
       "      <td>-1.220377</td>\n",
       "      <td>-0.665162</td>\n",
       "      <td>0.372362</td>\n",
       "      <td>26.266234</td>\n",
       "      <td>6.440652</td>\n",
       "      <td>0.033847</td>\n",
       "    </tr>\n",
       "  </tbody>\n",
       "</table>\n",
       "<p>5 rows × 31 columns</p>\n",
       "</div>"
      ],
      "text/plain": [
       "  ticker     revenue     pb       debt       assets  netmargin        ncfo  \\\n",
       "0   ZYME   8269000.0  3.091  9007000.0  636578000.0     -3.765 -37487000.0   \n",
       "1   ZYME   1877000.0  7.288  6881000.0  368205000.0    -38.489 -36354000.0   \n",
       "2   ZYME   7860000.0  3.146  6755000.0  400037000.0     -3.877 -10880000.0   \n",
       "3   ZYME   7882000.0  2.112  7829000.0  414547000.0     -3.689 -13317000.0   \n",
       "4   ZYME  11925000.0  3.048  8065000.0  238279000.0     -1.144 -21302000.0   \n",
       "\n",
       "     shareswa    sps       opinc  ...    netinccmn  fcfps  PX_TO_BOOK_RATIO  \\\n",
       "0  48686718.0  0.170 -35880000.0  ... -162932000.0 -2.154             3.091   \n",
       "1  43658717.0  0.043 -73752000.0  ... -145437000.0 -2.319             7.288   \n",
       "2  43445379.0  0.181 -33564000.0  ...  -63920000.0  0.004             3.146   \n",
       "3  32837975.0  0.240 -29432000.0  ...  -52196000.0  0.028             2.112   \n",
       "4  32020437.0  0.372 -14553000.0  ...  -28993000.0  0.616             3.048   \n",
       "\n",
       "  RETURN_ON_ASSET OPER_MARGIN  CASH_FLOW_PER_SHARE  REVENUE_PER_SHARE  \\\n",
       "0       -0.358217   -4.339098            -0.823549           0.181661   \n",
       "1       -0.409374  -39.292488            -0.922987           0.047655   \n",
       "2       -0.197080   -4.270229            -0.277127           0.200204   \n",
       "3       -0.191239   -3.734078            -0.415356           0.245839   \n",
       "4       -0.130571   -1.220377            -0.665162           0.372362   \n",
       "\n",
       "   PX_FREE_CASH_FLOW  quick_ratio  TOT_DEBT_TO_TOTAL_ASSET  \n",
       "0         -16.467038     6.807722                 0.014149  \n",
       "1         -19.603277     3.647265                 0.018688  \n",
       "2        6200.000000     6.678431                 0.016886  \n",
       "3         785.714286     8.874183                 0.018886  \n",
       "4          26.266234     6.440652                 0.033847  \n",
       "\n",
       "[5 rows x 31 columns]"
      ]
     },
     "execution_count": 4,
     "metadata": {},
     "output_type": "execute_result"
    },
    {
     "data": {
      "application/javascript": [
       "\n",
       "            setTimeout(function() {\n",
       "                var nbb_cell_id = 4;\n",
       "                var nbb_unformatted_code = \"stocks = pd.read_csv(r\\\"C:\\\\Users\\\\GaukharJavarova\\\\Downloads\\\\aggdata.csv\\\")\\nstocks.head()\";\n",
       "                var nbb_formatted_code = \"stocks = pd.read_csv(r\\\"C:\\\\Users\\\\GaukharJavarova\\\\Downloads\\\\aggdata.csv\\\")\\nstocks.head()\";\n",
       "                var nbb_cells = Jupyter.notebook.get_cells();\n",
       "                for (var i = 0; i < nbb_cells.length; ++i) {\n",
       "                    if (nbb_cells[i].input_prompt_number == nbb_cell_id) {\n",
       "                        if (nbb_cells[i].get_text() == nbb_unformatted_code) {\n",
       "                             nbb_cells[i].set_text(nbb_formatted_code);\n",
       "                        }\n",
       "                        break;\n",
       "                    }\n",
       "                }\n",
       "            }, 500);\n",
       "            "
      ],
      "text/plain": [
       "<IPython.core.display.Javascript object>"
      ]
     },
     "metadata": {},
     "output_type": "display_data"
    }
   ],
   "source": [
    "stocks = pd.read_csv(r\"C:\\Users\\GaukharJavarova\\Downloads\\aggdata.csv\")\n",
    "stocks.head()"
   ]
  },
  {
   "cell_type": "code",
   "execution_count": 5,
   "metadata": {},
   "outputs": [
    {
     "name": "stdout",
     "output_type": "stream",
     "text": [
      "<class 'pandas.core.frame.DataFrame'>\n",
      "RangeIndex: 40277 entries, 0 to 40276\n",
      "Data columns (total 31 columns):\n",
      " #   Column                   Non-Null Count  Dtype  \n",
      "---  ------                   --------------  -----  \n",
      " 0   ticker                   40277 non-null  object \n",
      " 1   revenue                  39949 non-null  float64\n",
      " 2   pb                       38433 non-null  float64\n",
      " 3   debt                     39416 non-null  float64\n",
      " 4   assets                   39416 non-null  float64\n",
      " 5   netmargin                38980 non-null  float64\n",
      " 6   ncfo                     39683 non-null  float64\n",
      " 7   shareswa                 40072 non-null  float64\n",
      " 8   sps                      39800 non-null  float64\n",
      " 9   opinc                    39949 non-null  float64\n",
      " 10  assetsc                  30302 non-null  float64\n",
      " 11  liabilitiesc             30265 non-null  float64\n",
      " 12  price                    38513 non-null  float64\n",
      " 13  calendardate             40277 non-null  object \n",
      " 14  datekey                  40277 non-null  object \n",
      " 15  sharesbas                39366 non-null  float64\n",
      " 16  equity                   39416 non-null  float64\n",
      " 17  receivables              39416 non-null  float64\n",
      " 18  investmentsc             30302 non-null  float64\n",
      " 19  cashneq                  39416 non-null  float64\n",
      " 20  assetsavg                38295 non-null  float64\n",
      " 21  netinccmn                39296 non-null  float64\n",
      " 22  fcfps                    39010 non-null  float64\n",
      " 23  PX_TO_BOOK_RATIO         38433 non-null  float64\n",
      " 24  RETURN_ON_ASSET          38240 non-null  float64\n",
      " 25  OPER_MARGIN              39941 non-null  float64\n",
      " 26  CASH_FLOW_PER_SHARE      39086 non-null  float64\n",
      " 27  REVENUE_PER_SHARE        39263 non-null  float64\n",
      " 28  PX_FREE_CASH_FLOW        38194 non-null  float64\n",
      " 29  quick_ratio              30261 non-null  float64\n",
      " 30  TOT_DEBT_TO_TOTAL_ASSET  39412 non-null  float64\n",
      "dtypes: float64(28), object(3)\n",
      "memory usage: 9.1+ MB\n"
     ]
    },
    {
     "data": {
      "application/javascript": [
       "\n",
       "            setTimeout(function() {\n",
       "                var nbb_cell_id = 5;\n",
       "                var nbb_unformatted_code = \"stocks.info()\";\n",
       "                var nbb_formatted_code = \"stocks.info()\";\n",
       "                var nbb_cells = Jupyter.notebook.get_cells();\n",
       "                for (var i = 0; i < nbb_cells.length; ++i) {\n",
       "                    if (nbb_cells[i].input_prompt_number == nbb_cell_id) {\n",
       "                        if (nbb_cells[i].get_text() == nbb_unformatted_code) {\n",
       "                             nbb_cells[i].set_text(nbb_formatted_code);\n",
       "                        }\n",
       "                        break;\n",
       "                    }\n",
       "                }\n",
       "            }, 500);\n",
       "            "
      ],
      "text/plain": [
       "<IPython.core.display.Javascript object>"
      ]
     },
     "metadata": {},
     "output_type": "display_data"
    }
   ],
   "source": [
    "stocks.info()"
   ]
  },
  {
   "cell_type": "code",
   "execution_count": 6,
   "metadata": {},
   "outputs": [
    {
     "data": {
      "text/plain": [
       "(40277, 31)"
      ]
     },
     "execution_count": 6,
     "metadata": {},
     "output_type": "execute_result"
    },
    {
     "data": {
      "application/javascript": [
       "\n",
       "            setTimeout(function() {\n",
       "                var nbb_cell_id = 6;\n",
       "                var nbb_unformatted_code = \"stocks.shape\";\n",
       "                var nbb_formatted_code = \"stocks.shape\";\n",
       "                var nbb_cells = Jupyter.notebook.get_cells();\n",
       "                for (var i = 0; i < nbb_cells.length; ++i) {\n",
       "                    if (nbb_cells[i].input_prompt_number == nbb_cell_id) {\n",
       "                        if (nbb_cells[i].get_text() == nbb_unformatted_code) {\n",
       "                             nbb_cells[i].set_text(nbb_formatted_code);\n",
       "                        }\n",
       "                        break;\n",
       "                    }\n",
       "                }\n",
       "            }, 500);\n",
       "            "
      ],
      "text/plain": [
       "<IPython.core.display.Javascript object>"
      ]
     },
     "metadata": {},
     "output_type": "display_data"
    }
   ],
   "source": [
    "stocks.shape"
   ]
  },
  {
   "cell_type": "code",
   "execution_count": 7,
   "metadata": {},
   "outputs": [
    {
     "data": {
      "text/plain": [
       "count    3.941600e+04\n",
       "mean     5.317810e+09\n",
       "std      1.080713e+11\n",
       "min      0.000000e+00\n",
       "25%      7.426350e+07\n",
       "50%      2.117000e+08\n",
       "75%      6.499245e+08\n",
       "max      5.314380e+12\n",
       "Name: cashneq, dtype: float64"
      ]
     },
     "execution_count": 7,
     "metadata": {},
     "output_type": "execute_result"
    },
    {
     "data": {
      "application/javascript": [
       "\n",
       "            setTimeout(function() {\n",
       "                var nbb_cell_id = 7;\n",
       "                var nbb_unformatted_code = \"stocks[\\\"cashneq\\\"].describe()\";\n",
       "                var nbb_formatted_code = \"stocks[\\\"cashneq\\\"].describe()\";\n",
       "                var nbb_cells = Jupyter.notebook.get_cells();\n",
       "                for (var i = 0; i < nbb_cells.length; ++i) {\n",
       "                    if (nbb_cells[i].input_prompt_number == nbb_cell_id) {\n",
       "                        if (nbb_cells[i].get_text() == nbb_unformatted_code) {\n",
       "                             nbb_cells[i].set_text(nbb_formatted_code);\n",
       "                        }\n",
       "                        break;\n",
       "                    }\n",
       "                }\n",
       "            }, 500);\n",
       "            "
      ],
      "text/plain": [
       "<IPython.core.display.Javascript object>"
      ]
     },
     "metadata": {},
     "output_type": "display_data"
    }
   ],
   "source": [
    "stocks[\"cashneq\"].describe()"
   ]
  },
  {
   "cell_type": "code",
   "execution_count": 9,
   "metadata": {},
   "outputs": [
    {
     "data": {
      "image/png": "[encoded data removed]",
      "text/plain": [
       "<Figure size 432x288 with 1 Axes>"
      ]
     },
     "metadata": {
      "needs_background": "light"
     },
     "output_type": "display_data"
    },
    {
     "data": {
      "application/javascript": [
       "\n",
       "            setTimeout(function() {\n",
       "                var nbb_cell_id = 9;\n",
       "                var nbb_unformatted_code = \"a = stocks[\\\"cashneq\\\"].dropna()\\nb = a.apply(np.log10)\\nb[np.isfinite(b)].hist(bins=20)\\nplt.show()\";\n",
       "                var nbb_formatted_code = \"a = stocks[\\\"cashneq\\\"].dropna()\\nb = a.apply(np.log10)\\nb[np.isfinite(b)].hist(bins=20)\\nplt.show()\";\n",
       "                var nbb_cells = Jupyter.notebook.get_cells();\n",
       "                for (var i = 0; i < nbb_cells.length; ++i) {\n",
       "                    if (nbb_cells[i].input_prompt_number == nbb_cell_id) {\n",
       "                        if (nbb_cells[i].get_text() == nbb_unformatted_code) {\n",
       "                             nbb_cells[i].set_text(nbb_formatted_code);\n",
       "                        }\n",
       "                        break;\n",
       "                    }\n",
       "                }\n",
       "            }, 500);\n",
       "            "
      ],
      "text/plain": [
       "<IPython.core.display.Javascript object>"
      ]
     },
     "metadata": {},
     "output_type": "display_data"
    }
   ],
   "source": [
    "a = stocks[\"cashneq\"].dropna()\n",
    "b = a.apply(np.log10)\n",
    "b[np.isfinite(b)].hist(bins=20)\n",
    "plt.show()"
   ]
  },
  {
   "cell_type": "code",
   "execution_count": 10,
   "metadata": {},
   "outputs": [
    {
     "data": {
      "application/javascript": [
       "\n",
       "            setTimeout(function() {\n",
       "                var nbb_cell_id = 10;\n",
       "                var nbb_unformatted_code = \"stocks[\\\"enough_cash\\\"] = np.where(stocks[\\\"cashneq\\\"] > 1000000000, 1, 0)\";\n",
       "                var nbb_formatted_code = \"stocks[\\\"enough_cash\\\"] = np.where(stocks[\\\"cashneq\\\"] > 1000000000, 1, 0)\";\n",
       "                var nbb_cells = Jupyter.notebook.get_cells();\n",
       "                for (var i = 0; i < nbb_cells.length; ++i) {\n",
       "                    if (nbb_cells[i].input_prompt_number == nbb_cell_id) {\n",
       "                        if (nbb_cells[i].get_text() == nbb_unformatted_code) {\n",
       "                             nbb_cells[i].set_text(nbb_formatted_code);\n",
       "                        }\n",
       "                        break;\n",
       "                    }\n",
       "                }\n",
       "            }, 500);\n",
       "            "
      ],
      "text/plain": [
       "<IPython.core.display.Javascript object>"
      ]
     },
     "metadata": {},
     "output_type": "display_data"
    }
   ],
   "source": [
    "stocks[\"enough_cash\"] = np.where(stocks[\"cashneq\"] > 1000000000, 1, 0)"
   ]
  },
  {
   "cell_type": "code",
   "execution_count": 12,
   "metadata": {},
   "outputs": [
    {
     "data": {
      "application/javascript": [
       "\n",
       "            setTimeout(function() {\n",
       "                var nbb_cell_id = 12;\n",
       "                var nbb_unformatted_code = \"df2018 = stocks[stocks[\\\"calendardate\\\"] == \\\"2018-03-31\\\"]\";\n",
       "                var nbb_formatted_code = \"df2018 = stocks[stocks[\\\"calendardate\\\"] == \\\"2018-03-31\\\"]\";\n",
       "                var nbb_cells = Jupyter.notebook.get_cells();\n",
       "                for (var i = 0; i < nbb_cells.length; ++i) {\n",
       "                    if (nbb_cells[i].input_prompt_number == nbb_cell_id) {\n",
       "                        if (nbb_cells[i].get_text() == nbb_unformatted_code) {\n",
       "                             nbb_cells[i].set_text(nbb_formatted_code);\n",
       "                        }\n",
       "                        break;\n",
       "                    }\n",
       "                }\n",
       "            }, 500);\n",
       "            "
      ],
      "text/plain": [
       "<IPython.core.display.Javascript object>"
      ]
     },
     "metadata": {},
     "output_type": "display_data"
    }
   ],
   "source": [
    "df2018 = stocks[stocks[\"calendardate\"] == \"2018-03-31\"]\n"
   ]
  },
  {
   "cell_type": "code",
   "execution_count": 13,
   "metadata": {},
   "outputs": [
    {
     "data": {
      "text/html": [
       "<div>\n",
       "<style scoped>\n",
       "    .dataframe tbody tr th:only-of-type {\n",
       "        vertical-align: middle;\n",
       "    }\n",
       "\n",
       "    .dataframe tbody tr th {\n",
       "        vertical-align: top;\n",
       "    }\n",
       "\n",
       "    .dataframe thead th {\n",
       "        text-align: right;\n",
       "    }\n",
       "</style>\n",
       "<table border=\"1\" class=\"dataframe\">\n",
       "  <thead>\n",
       "    <tr style=\"text-align: right;\">\n",
       "      <th></th>\n",
       "      <th>ticker</th>\n",
       "      <th>calendardate</th>\n",
       "      <th>enough_cash</th>\n",
       "      <th>cashneq</th>\n",
       "    </tr>\n",
       "  </thead>\n",
       "  <tbody>\n",
       "    <tr>\n",
       "      <th>8</th>\n",
       "      <td>ZYME</td>\n",
       "      <td>2018-03-31</td>\n",
       "      <td>0</td>\n",
       "      <td>3.098100e+07</td>\n",
       "    </tr>\n",
       "    <tr>\n",
       "      <th>23</th>\n",
       "      <td>ZUO</td>\n",
       "      <td>2018-03-31</td>\n",
       "      <td>0</td>\n",
       "      <td>2.027340e+08</td>\n",
       "    </tr>\n",
       "    <tr>\n",
       "      <th>37</th>\n",
       "      <td>ZTS</td>\n",
       "      <td>2018-03-31</td>\n",
       "      <td>1</td>\n",
       "      <td>1.654000e+09</td>\n",
       "    </tr>\n",
       "    <tr>\n",
       "      <th>58</th>\n",
       "      <td>ZS</td>\n",
       "      <td>2018-03-31</td>\n",
       "      <td>0</td>\n",
       "      <td>2.874430e+08</td>\n",
       "    </tr>\n",
       "    <tr>\n",
       "      <th>72</th>\n",
       "      <td>ZNGA</td>\n",
       "      <td>2018-03-31</td>\n",
       "      <td>0</td>\n",
       "      <td>3.715880e+08</td>\n",
       "    </tr>\n",
       "  </tbody>\n",
       "</table>\n",
       "</div>"
      ],
      "text/plain": [
       "   ticker calendardate  enough_cash       cashneq\n",
       "8    ZYME   2018-03-31            0  3.098100e+07\n",
       "23    ZUO   2018-03-31            0  2.027340e+08\n",
       "37    ZTS   2018-03-31            1  1.654000e+09\n",
       "58     ZS   2018-03-31            0  2.874430e+08\n",
       "72   ZNGA   2018-03-31            0  3.715880e+08"
      ]
     },
     "execution_count": 13,
     "metadata": {},
     "output_type": "execute_result"
    },
    {
     "data": {
      "application/javascript": [
       "\n",
       "            setTimeout(function() {\n",
       "                var nbb_cell_id = 13;\n",
       "                var nbb_unformatted_code = \"df2018[[\\\"ticker\\\", \\\"calendardate\\\", \\\"enough_cash\\\", \\\"cashneq\\\"]].head()\";\n",
       "                var nbb_formatted_code = \"df2018[[\\\"ticker\\\", \\\"calendardate\\\", \\\"enough_cash\\\", \\\"cashneq\\\"]].head()\";\n",
       "                var nbb_cells = Jupyter.notebook.get_cells();\n",
       "                for (var i = 0; i < nbb_cells.length; ++i) {\n",
       "                    if (nbb_cells[i].input_prompt_number == nbb_cell_id) {\n",
       "                        if (nbb_cells[i].get_text() == nbb_unformatted_code) {\n",
       "                             nbb_cells[i].set_text(nbb_formatted_code);\n",
       "                        }\n",
       "                        break;\n",
       "                    }\n",
       "                }\n",
       "            }, 500);\n",
       "            "
      ],
      "text/plain": [
       "<IPython.core.display.Javascript object>"
      ]
     },
     "metadata": {},
     "output_type": "display_data"
    }
   ],
   "source": [
    "df2018[[\"ticker\", \"calendardate\", \"enough_cash\", \"cashneq\"]].head()"
   ]
  },
  {
   "cell_type": "code",
   "execution_count": 14,
   "metadata": {},
   "outputs": [
    {
     "data": {
      "text/plain": [
       "(1985, 32)"
      ]
     },
     "execution_count": 14,
     "metadata": {},
     "output_type": "execute_result"
    },
    {
     "data": {
      "application/javascript": [
       "\n",
       "            setTimeout(function() {\n",
       "                var nbb_cell_id = 14;\n",
       "                var nbb_unformatted_code = \"df2018.shape\";\n",
       "                var nbb_formatted_code = \"df2018.shape\";\n",
       "                var nbb_cells = Jupyter.notebook.get_cells();\n",
       "                for (var i = 0; i < nbb_cells.length; ++i) {\n",
       "                    if (nbb_cells[i].input_prompt_number == nbb_cell_id) {\n",
       "                        if (nbb_cells[i].get_text() == nbb_unformatted_code) {\n",
       "                             nbb_cells[i].set_text(nbb_formatted_code);\n",
       "                        }\n",
       "                        break;\n",
       "                    }\n",
       "                }\n",
       "            }, 500);\n",
       "            "
      ],
      "text/plain": [
       "<IPython.core.display.Javascript object>"
      ]
     },
     "metadata": {},
     "output_type": "display_data"
    }
   ],
   "source": [
    "df2018.shape"
   ]
  },
  {
   "cell_type": "code",
   "execution_count": 15,
   "metadata": {},
   "outputs": [
    {
     "data": {
      "application/javascript": [
       "\n",
       "            setTimeout(function() {\n",
       "                var nbb_cell_id = 15;\n",
       "                var nbb_unformatted_code = \"df2018 = stocks[stocks[\\\"calendardate\\\"] == \\\"2018-03-31\\\"]\\n\\ndf2019 = stocks[stocks[\\\"calendardate\\\"] == \\\"2019-03-31\\\"]\\ndf2019 = df2019.rename(\\n    columns={\\\"price\\\": \\\"price2019\\\", \\\"calendardate\\\": \\\"calendardate2019\\\"}\\n)\";\n",
       "                var nbb_formatted_code = \"df2018 = stocks[stocks[\\\"calendardate\\\"] == \\\"2018-03-31\\\"]\\n\\ndf2019 = stocks[stocks[\\\"calendardate\\\"] == \\\"2019-03-31\\\"]\\ndf2019 = df2019.rename(\\n    columns={\\\"price\\\": \\\"price2019\\\", \\\"calendardate\\\": \\\"calendardate2019\\\"}\\n)\";\n",
       "                var nbb_cells = Jupyter.notebook.get_cells();\n",
       "                for (var i = 0; i < nbb_cells.length; ++i) {\n",
       "                    if (nbb_cells[i].input_prompt_number == nbb_cell_id) {\n",
       "                        if (nbb_cells[i].get_text() == nbb_unformatted_code) {\n",
       "                             nbb_cells[i].set_text(nbb_formatted_code);\n",
       "                        }\n",
       "                        break;\n",
       "                    }\n",
       "                }\n",
       "            }, 500);\n",
       "            "
      ],
      "text/plain": [
       "<IPython.core.display.Javascript object>"
      ]
     },
     "metadata": {},
     "output_type": "display_data"
    }
   ],
   "source": [
    "df2018 = stocks[stocks[\"calendardate\"] == \"2018-03-31\"]\n",
    "\n",
    "df2019 = stocks[stocks[\"calendardate\"] == \"2019-03-31\"]\n",
    "df2019 = df2019.rename(\n",
    "    columns={\"price\": \"price2019\", \"calendardate\": \"calendardate2019\"}\n",
    ")"
   ]
  },
  {
   "cell_type": "code",
   "execution_count": 16,
   "metadata": {},
   "outputs": [
    {
     "name": "stdout",
     "output_type": "stream",
     "text": [
      "<class 'pandas.core.frame.DataFrame'>\n",
      "Int64Index: 2022 entries, 4 to 40260\n",
      "Data columns (total 32 columns):\n",
      " #   Column                   Non-Null Count  Dtype  \n",
      "---  ------                   --------------  -----  \n",
      " 0   ticker                   2022 non-null   object \n",
      " 1   revenue                  2021 non-null   float64\n",
      " 2   pb                       1947 non-null   float64\n",
      " 3   debt                     1987 non-null   float64\n",
      " 4   assets                   1987 non-null   float64\n",
      " 5   netmargin                1960 non-null   float64\n",
      " 6   ncfo                     2011 non-null   float64\n",
      " 7   shareswa                 2020 non-null   float64\n",
      " 8   sps                      2019 non-null   float64\n",
      " 9   opinc                    2021 non-null   float64\n",
      " 10  assetsc                  1541 non-null   float64\n",
      " 11  liabilitiesc             1540 non-null   float64\n",
      " 12  price2019                1950 non-null   float64\n",
      " 13  calendardate2019         2022 non-null   object \n",
      " 14  datekey                  2022 non-null   object \n",
      " 15  sharesbas                2006 non-null   float64\n",
      " 16  equity                   1987 non-null   float64\n",
      " 17  receivables              1987 non-null   float64\n",
      " 18  investmentsc             1541 non-null   float64\n",
      " 19  cashneq                  1987 non-null   float64\n",
      " 20  assetsavg                1924 non-null   float64\n",
      " 21  netinccmn                1981 non-null   float64\n",
      " 22  fcfps                    1969 non-null   float64\n",
      " 23  PX_TO_BOOK_RATIO         1947 non-null   float64\n",
      " 24  RETURN_ON_ASSET          1920 non-null   float64\n",
      " 25  OPER_MARGIN              2021 non-null   float64\n",
      " 26  CASH_FLOW_PER_SHARE      1995 non-null   float64\n",
      " 27  REVENUE_PER_SHARE        2005 non-null   float64\n",
      " 28  PX_FREE_CASH_FLOW        1933 non-null   float64\n",
      " 29  quick_ratio              1540 non-null   float64\n",
      " 30  TOT_DEBT_TO_TOTAL_ASSET  1987 non-null   float64\n",
      " 31  enough_cash              2022 non-null   int32  \n",
      "dtypes: float64(28), int32(1), object(3)\n",
      "memory usage: 489.7+ KB\n"
     ]
    },
    {
     "data": {
      "application/javascript": [
       "\n",
       "            setTimeout(function() {\n",
       "                var nbb_cell_id = 16;\n",
       "                var nbb_unformatted_code = \"df2019.info()\";\n",
       "                var nbb_formatted_code = \"df2019.info()\";\n",
       "                var nbb_cells = Jupyter.notebook.get_cells();\n",
       "                for (var i = 0; i < nbb_cells.length; ++i) {\n",
       "                    if (nbb_cells[i].input_prompt_number == nbb_cell_id) {\n",
       "                        if (nbb_cells[i].get_text() == nbb_unformatted_code) {\n",
       "                             nbb_cells[i].set_text(nbb_formatted_code);\n",
       "                        }\n",
       "                        break;\n",
       "                    }\n",
       "                }\n",
       "            }, 500);\n",
       "            "
      ],
      "text/plain": [
       "<IPython.core.display.Javascript object>"
      ]
     },
     "metadata": {},
     "output_type": "display_data"
    }
   ],
   "source": [
    "df2019.info()"
   ]
  },
  {
   "cell_type": "code",
   "execution_count": 18,
   "metadata": {},
   "outputs": [
    {
     "name": "stdout",
     "output_type": "stream",
     "text": [
      "<class 'pandas.core.frame.DataFrame'>\n",
      "Int64Index: 1985 entries, 0 to 1984\n",
      "Data columns (total 34 columns):\n",
      " #   Column                   Non-Null Count  Dtype  \n",
      "---  ------                   --------------  -----  \n",
      " 0   ticker                   1985 non-null   object \n",
      " 1   revenue                  1982 non-null   float64\n",
      " 2   pb                       1858 non-null   float64\n",
      " 3   debt                     1897 non-null   float64\n",
      " 4   assets                   1897 non-null   float64\n",
      " 5   netmargin                1922 non-null   float64\n",
      " 6   ncfo                     1973 non-null   float64\n",
      " 7   shareswa                 1977 non-null   float64\n",
      " 8   sps                      1974 non-null   float64\n",
      " 9   opinc                    1982 non-null   float64\n",
      " 10  assetsc                  1455 non-null   float64\n",
      " 11  liabilitiesc             1454 non-null   float64\n",
      " 12  price                    1865 non-null   float64\n",
      " 13  calendardate             1985 non-null   object \n",
      " 14  datekey                  1985 non-null   object \n",
      " 15  sharesbas                1928 non-null   float64\n",
      " 16  equity                   1897 non-null   float64\n",
      " 17  receivables              1897 non-null   float64\n",
      " 18  investmentsc             1455 non-null   float64\n",
      " 19  cashneq                  1897 non-null   float64\n",
      " 20  assetsavg                1829 non-null   float64\n",
      " 21  netinccmn                1899 non-null   float64\n",
      " 22  fcfps                    1883 non-null   float64\n",
      " 23  PX_TO_BOOK_RATIO         1858 non-null   float64\n",
      " 24  RETURN_ON_ASSET          1826 non-null   float64\n",
      " 25  OPER_MARGIN              1982 non-null   float64\n",
      " 26  CASH_FLOW_PER_SHARE      1919 non-null   float64\n",
      " 27  REVENUE_PER_SHARE        1927 non-null   float64\n",
      " 28  PX_FREE_CASH_FLOW        1848 non-null   float64\n",
      " 29  quick_ratio              1453 non-null   float64\n",
      " 30  TOT_DEBT_TO_TOTAL_ASSET  1897 non-null   float64\n",
      " 31  enough_cash              1985 non-null   int32  \n",
      " 32  price2019                1947 non-null   float64\n",
      " 33  calendardate2019         1985 non-null   object \n",
      "dtypes: float64(29), int32(1), object(4)\n",
      "memory usage: 504.0+ KB\n"
     ]
    },
    {
     "data": {
      "application/javascript": [
       "\n",
       "            setTimeout(function() {\n",
       "                var nbb_cell_id = 18;\n",
       "                var nbb_unformatted_code = \"df2018 = pd.merge(\\n    df2018,\\n    df2019[[\\\"ticker\\\", \\\"price2019\\\", \\\"calendardate2019\\\"]],\\n    how=\\\"inner\\\",\\n    on=\\\"ticker\\\",\\n)\\ndf2018.info()\";\n",
       "                var nbb_formatted_code = \"df2018 = pd.merge(\\n    df2018,\\n    df2019[[\\\"ticker\\\", \\\"price2019\\\", \\\"calendardate2019\\\"]],\\n    how=\\\"inner\\\",\\n    on=\\\"ticker\\\",\\n)\\ndf2018.info()\";\n",
       "                var nbb_cells = Jupyter.notebook.get_cells();\n",
       "                for (var i = 0; i < nbb_cells.length; ++i) {\n",
       "                    if (nbb_cells[i].input_prompt_number == nbb_cell_id) {\n",
       "                        if (nbb_cells[i].get_text() == nbb_unformatted_code) {\n",
       "                             nbb_cells[i].set_text(nbb_formatted_code);\n",
       "                        }\n",
       "                        break;\n",
       "                    }\n",
       "                }\n",
       "            }, 500);\n",
       "            "
      ],
      "text/plain": [
       "<IPython.core.display.Javascript object>"
      ]
     },
     "metadata": {},
     "output_type": "display_data"
    }
   ],
   "source": [
    "df2018 = pd.merge(\n",
    "    df2018,\n",
    "    df2019[[\"ticker\", \"price2019\", \"calendardate2019\"]],\n",
    "    how=\"inner\",\n",
    "    on=\"ticker\",\n",
    ")\n",
    "df2018.info()"
   ]
  },
  {
   "cell_type": "code",
   "execution_count": 26,
   "metadata": {},
   "outputs": [
    {
     "data": {
      "image/png": "[encoded data removed]",
      "text/plain": [
       "<Figure size 432x288 with 1 Axes>"
      ]
     },
     "metadata": {
      "needs_background": "light"
     },
     "output_type": "display_data"
    },
    {
     "data": {
      "application/javascript": [
       "\n",
       "            setTimeout(function() {\n",
       "                var nbb_cell_id = 26;\n",
       "                var nbb_unformatted_code = \"df2018[\\\"return\\\"] = (df2018[\\\"price2019\\\"] - df2018[\\\"price\\\"]) / df2018[\\\"price\\\"]\\n(100 * df2018[\\\"return\\\"]).hist(bins=50)\\nplt.show()\";\n",
       "                var nbb_formatted_code = \"df2018[\\\"return\\\"] = (df2018[\\\"price2019\\\"] - df2018[\\\"price\\\"]) / df2018[\\\"price\\\"]\\n(100 * df2018[\\\"return\\\"]).hist(bins=50)\\nplt.show()\";\n",
       "                var nbb_cells = Jupyter.notebook.get_cells();\n",
       "                for (var i = 0; i < nbb_cells.length; ++i) {\n",
       "                    if (nbb_cells[i].input_prompt_number == nbb_cell_id) {\n",
       "                        if (nbb_cells[i].get_text() == nbb_unformatted_code) {\n",
       "                             nbb_cells[i].set_text(nbb_formatted_code);\n",
       "                        }\n",
       "                        break;\n",
       "                    }\n",
       "                }\n",
       "            }, 500);\n",
       "            "
      ],
      "text/plain": [
       "<IPython.core.display.Javascript object>"
      ]
     },
     "metadata": {},
     "output_type": "display_data"
    }
   ],
   "source": [
    "df2018[\"return\"] = (df2018[\"price2019\"] - df2018[\"price\"]) / df2018[\"price\"]\n",
    "(100 * df2018[\"return\"]).hist(bins=50)\n",
    "plt.show()"
   ]
  },
  {
   "cell_type": "code",
   "execution_count": 27,
   "metadata": {},
   "outputs": [
    {
     "data": {
      "image/png": "[encoded data removed]",
      "text/plain": [
       "<Figure size 432x288 with 1 Axes>"
      ]
     },
     "metadata": {
      "needs_background": "light"
     },
     "output_type": "display_data"
    },
    {
     "data": {
      "application/javascript": [
       "\n",
       "            setTimeout(function() {\n",
       "                var nbb_cell_id = 27;\n",
       "                var nbb_unformatted_code = \"plt.plot(df2018[\\\"cashneq\\\"], df2018[\\\"return\\\"], 'o')\\nplt.show()\";\n",
       "                var nbb_formatted_code = \"plt.plot(df2018[\\\"cashneq\\\"], df2018[\\\"return\\\"], \\\"o\\\")\\nplt.show()\";\n",
       "                var nbb_cells = Jupyter.notebook.get_cells();\n",
       "                for (var i = 0; i < nbb_cells.length; ++i) {\n",
       "                    if (nbb_cells[i].input_prompt_number == nbb_cell_id) {\n",
       "                        if (nbb_cells[i].get_text() == nbb_unformatted_code) {\n",
       "                             nbb_cells[i].set_text(nbb_formatted_code);\n",
       "                        }\n",
       "                        break;\n",
       "                    }\n",
       "                }\n",
       "            }, 500);\n",
       "            "
      ],
      "text/plain": [
       "<IPython.core.display.Javascript object>"
      ]
     },
     "metadata": {},
     "output_type": "display_data"
    }
   ],
   "source": [
    "plt.plot(df2018[\"cashneq\"], df2018[\"return\"], \"o\")\n",
    "plt.show()"
   ]
  },
  {
   "cell_type": "code",
   "execution_count": 31,
   "metadata": {},
   "outputs": [
    {
     "data": {
      "text/html": [
       "<div>\n",
       "<style scoped>\n",
       "    .dataframe tbody tr th:only-of-type {\n",
       "        vertical-align: middle;\n",
       "    }\n",
       "\n",
       "    .dataframe tbody tr th {\n",
       "        vertical-align: top;\n",
       "    }\n",
       "\n",
       "    .dataframe thead th {\n",
       "        text-align: right;\n",
       "    }\n",
       "</style>\n",
       "<table border=\"1\" class=\"dataframe\">\n",
       "  <thead>\n",
       "    <tr style=\"text-align: right;\">\n",
       "      <th></th>\n",
       "      <th>ticker</th>\n",
       "      <th>revenue</th>\n",
       "      <th>pb</th>\n",
       "      <th>debt</th>\n",
       "      <th>assets</th>\n",
       "      <th>netmargin</th>\n",
       "      <th>ncfo</th>\n",
       "      <th>shareswa</th>\n",
       "      <th>sps</th>\n",
       "      <th>opinc</th>\n",
       "      <th>...</th>\n",
       "      <th>OPER_MARGIN</th>\n",
       "      <th>CASH_FLOW_PER_SHARE</th>\n",
       "      <th>REVENUE_PER_SHARE</th>\n",
       "      <th>PX_FREE_CASH_FLOW</th>\n",
       "      <th>quick_ratio</th>\n",
       "      <th>TOT_DEBT_TO_TOTAL_ASSET</th>\n",
       "      <th>enough_cash</th>\n",
       "      <th>price2019</th>\n",
       "      <th>calendardate2019</th>\n",
       "      <th>return</th>\n",
       "    </tr>\n",
       "  </thead>\n",
       "  <tbody>\n",
       "    <tr>\n",
       "      <th>234</th>\n",
       "      <td>TNDM</td>\n",
       "      <td>27277000.0</td>\n",
       "      <td>18.713</td>\n",
       "      <td>76405000.0</td>\n",
       "      <td>144699000.0</td>\n",
       "      <td>-1.199</td>\n",
       "      <td>-12272000.0</td>\n",
       "      <td>17993000.0</td>\n",
       "      <td>1.516</td>\n",
       "      <td>-15485000.0</td>\n",
       "      <td>...</td>\n",
       "      <td>-0.567694</td>\n",
       "      <td>-0.274545</td>\n",
       "      <td>0.610232</td>\n",
       "      <td>-1.458824</td>\n",
       "      <td>1.942783</td>\n",
       "      <td>0.528027</td>\n",
       "      <td>0</td>\n",
       "      <td>63.50</td>\n",
       "      <td>2019-03-31</td>\n",
       "      <td>11.802419</td>\n",
       "    </tr>\n",
       "    <tr>\n",
       "      <th>1792</th>\n",
       "      <td>AXSM</td>\n",
       "      <td>0.0</td>\n",
       "      <td>4.962</td>\n",
       "      <td>9207499.0</td>\n",
       "      <td>27939296.0</td>\n",
       "      <td>NaN</td>\n",
       "      <td>-6680439.0</td>\n",
       "      <td>25501188.0</td>\n",
       "      <td>0.000</td>\n",
       "      <td>-7163210.0</td>\n",
       "      <td>...</td>\n",
       "      <td>-inf</td>\n",
       "      <td>-0.262050</td>\n",
       "      <td>0.000000</td>\n",
       "      <td>-2.353506</td>\n",
       "      <td>2.826965</td>\n",
       "      <td>0.329554</td>\n",
       "      <td>0</td>\n",
       "      <td>14.23</td>\n",
       "      <td>2019-03-31</td>\n",
       "      <td>4.808163</td>\n",
       "    </tr>\n",
       "    <tr>\n",
       "      <th>1872</th>\n",
       "      <td>AMRN</td>\n",
       "      <td>43919000.0</td>\n",
       "      <td>-52.823</td>\n",
       "      <td>119116000.0</td>\n",
       "      <td>215709000.0</td>\n",
       "      <td>-0.549</td>\n",
       "      <td>-9805000.0</td>\n",
       "      <td>285207000.0</td>\n",
       "      <td>0.154</td>\n",
       "      <td>-21898000.0</td>\n",
       "      <td>...</td>\n",
       "      <td>-0.498600</td>\n",
       "      <td>-0.033542</td>\n",
       "      <td>0.150244</td>\n",
       "      <td>-29.801980</td>\n",
       "      <td>1.415994</td>\n",
       "      <td>0.552207</td>\n",
       "      <td>0</td>\n",
       "      <td>20.76</td>\n",
       "      <td>2019-03-31</td>\n",
       "      <td>5.897010</td>\n",
       "    </tr>\n",
       "  </tbody>\n",
       "</table>\n",
       "<p>3 rows × 35 columns</p>\n",
       "</div>"
      ],
      "text/plain": [
       "     ticker     revenue      pb         debt       assets  netmargin  \\\n",
       "234    TNDM  27277000.0  18.713   76405000.0  144699000.0     -1.199   \n",
       "1792   AXSM         0.0   4.962    9207499.0   27939296.0        NaN   \n",
       "1872   AMRN  43919000.0 -52.823  119116000.0  215709000.0     -0.549   \n",
       "\n",
       "            ncfo     shareswa    sps       opinc  ...  OPER_MARGIN  \\\n",
       "234  -12272000.0   17993000.0  1.516 -15485000.0  ...    -0.567694   \n",
       "1792  -6680439.0   25501188.0  0.000  -7163210.0  ...         -inf   \n",
       "1872  -9805000.0  285207000.0  0.154 -21898000.0  ...    -0.498600   \n",
       "\n",
       "      CASH_FLOW_PER_SHARE  REVENUE_PER_SHARE PX_FREE_CASH_FLOW quick_ratio  \\\n",
       "234             -0.274545           0.610232         -1.458824    1.942783   \n",
       "1792            -0.262050           0.000000         -2.353506    2.826965   \n",
       "1872            -0.033542           0.150244        -29.801980    1.415994   \n",
       "\n",
       "      TOT_DEBT_TO_TOTAL_ASSET  enough_cash  price2019  calendardate2019  \\\n",
       "234                  0.528027            0      63.50        2019-03-31   \n",
       "1792                 0.329554            0      14.23        2019-03-31   \n",
       "1872                 0.552207            0      20.76        2019-03-31   \n",
       "\n",
       "         return  \n",
       "234   11.802419  \n",
       "1792   4.808163  \n",
       "1872   5.897010  \n",
       "\n",
       "[3 rows x 35 columns]"
      ]
     },
     "execution_count": 31,
     "metadata": {},
     "output_type": "execute_result"
    },
    {
     "data": {
      "application/javascript": [
       "\n",
       "            setTimeout(function() {\n",
       "                var nbb_cell_id = 31;\n",
       "                var nbb_unformatted_code = \"df2018[df2018[\\\"return\\\"] > 4]\";\n",
       "                var nbb_formatted_code = \"df2018[df2018[\\\"return\\\"] > 4]\";\n",
       "                var nbb_cells = Jupyter.notebook.get_cells();\n",
       "                for (var i = 0; i < nbb_cells.length; ++i) {\n",
       "                    if (nbb_cells[i].input_prompt_number == nbb_cell_id) {\n",
       "                        if (nbb_cells[i].get_text() == nbb_unformatted_code) {\n",
       "                             nbb_cells[i].set_text(nbb_formatted_code);\n",
       "                        }\n",
       "                        break;\n",
       "                    }\n",
       "                }\n",
       "            }, 500);\n",
       "            "
      ],
      "text/plain": [
       "<IPython.core.display.Javascript object>"
      ]
     },
     "metadata": {},
     "output_type": "display_data"
    }
   ],
   "source": [
    "df2018[df2018[\"return\"] > 4]"
   ]
  },
  {
   "cell_type": "code",
   "execution_count": 32,
   "metadata": {},
   "outputs": [
    {
     "data": {
      "text/html": [
       "<div>\n",
       "<style scoped>\n",
       "    .dataframe tbody tr th:only-of-type {\n",
       "        vertical-align: middle;\n",
       "    }\n",
       "\n",
       "    .dataframe tbody tr th {\n",
       "        vertical-align: top;\n",
       "    }\n",
       "\n",
       "    .dataframe thead th {\n",
       "        text-align: right;\n",
       "    }\n",
       "</style>\n",
       "<table border=\"1\" class=\"dataframe\">\n",
       "  <thead>\n",
       "    <tr style=\"text-align: right;\">\n",
       "      <th></th>\n",
       "      <th>ticker</th>\n",
       "      <th>revenue</th>\n",
       "      <th>pb</th>\n",
       "      <th>debt</th>\n",
       "      <th>assets</th>\n",
       "      <th>netmargin</th>\n",
       "      <th>ncfo</th>\n",
       "      <th>shareswa</th>\n",
       "      <th>sps</th>\n",
       "      <th>opinc</th>\n",
       "      <th>...</th>\n",
       "      <th>OPER_MARGIN</th>\n",
       "      <th>CASH_FLOW_PER_SHARE</th>\n",
       "      <th>REVENUE_PER_SHARE</th>\n",
       "      <th>PX_FREE_CASH_FLOW</th>\n",
       "      <th>quick_ratio</th>\n",
       "      <th>TOT_DEBT_TO_TOTAL_ASSET</th>\n",
       "      <th>enough_cash</th>\n",
       "      <th>price2019</th>\n",
       "      <th>calendardate2019</th>\n",
       "      <th>return</th>\n",
       "    </tr>\n",
       "  </thead>\n",
       "  <tbody>\n",
       "    <tr>\n",
       "      <th>2</th>\n",
       "      <td>ZTS</td>\n",
       "      <td>1.366000e+09</td>\n",
       "      <td>20.675</td>\n",
       "      <td>4.954000e+09</td>\n",
       "      <td>8.690000e+09</td>\n",
       "      <td>0.258</td>\n",
       "      <td>3.890000e+08</td>\n",
       "      <td>4.859000e+08</td>\n",
       "      <td>2.811</td>\n",
       "      <td>4.640000e+08</td>\n",
       "      <td>...</td>\n",
       "      <td>0.339678</td>\n",
       "      <td>0.801643</td>\n",
       "      <td>2.815022</td>\n",
       "      <td>29.384236</td>\n",
       "      <td>2.597000</td>\n",
       "      <td>0.570081</td>\n",
       "      <td>1</td>\n",
       "      <td>100.67</td>\n",
       "      <td>2019-03-31</td>\n",
       "      <td>0.205484</td>\n",
       "    </tr>\n",
       "    <tr>\n",
       "      <th>7</th>\n",
       "      <td>ZION</td>\n",
       "      <td>7.270000e+08</td>\n",
       "      <td>1.356</td>\n",
       "      <td>5.250000e+09</td>\n",
       "      <td>6.648100e+10</td>\n",
       "      <td>0.318</td>\n",
       "      <td>2.750000e+08</td>\n",
       "      <td>1.967220e+08</td>\n",
       "      <td>3.696</td>\n",
       "      <td>3.080000e+08</td>\n",
       "      <td>...</td>\n",
       "      <td>0.423659</td>\n",
       "      <td>1.399389</td>\n",
       "      <td>3.699476</td>\n",
       "      <td>15.368697</td>\n",
       "      <td>NaN</td>\n",
       "      <td>0.078970</td>\n",
       "      <td>1</td>\n",
       "      <td>45.41</td>\n",
       "      <td>2019-03-31</td>\n",
       "      <td>-0.138820</td>\n",
       "    </tr>\n",
       "    <tr>\n",
       "      <th>11</th>\n",
       "      <td>ZBH</td>\n",
       "      <td>2.017600e+09</td>\n",
       "      <td>1.846</td>\n",
       "      <td>1.111190e+10</td>\n",
       "      <td>2.718120e+10</td>\n",
       "      <td>0.087</td>\n",
       "      <td>4.905000e+08</td>\n",
       "      <td>2.030000e+08</td>\n",
       "      <td>9.939</td>\n",
       "      <td>3.050000e+08</td>\n",
       "      <td>...</td>\n",
       "      <td>0.151170</td>\n",
       "      <td>2.414509</td>\n",
       "      <td>9.931728</td>\n",
       "      <td>16.436539</td>\n",
       "      <td>0.929742</td>\n",
       "      <td>0.408808</td>\n",
       "      <td>1</td>\n",
       "      <td>127.70</td>\n",
       "      <td>2019-03-31</td>\n",
       "      <td>0.171130</td>\n",
       "    </tr>\n",
       "    <tr>\n",
       "      <th>14</th>\n",
       "      <td>YUMC</td>\n",
       "      <td>2.221000e+09</td>\n",
       "      <td>5.152</td>\n",
       "      <td>2.900000e+07</td>\n",
       "      <td>4.894000e+09</td>\n",
       "      <td>0.130</td>\n",
       "      <td>5.510000e+08</td>\n",
       "      <td>3.860000e+08</td>\n",
       "      <td>5.754</td>\n",
       "      <td>3.950000e+08</td>\n",
       "      <td>...</td>\n",
       "      <td>0.177848</td>\n",
       "      <td>1.428397</td>\n",
       "      <td>5.757658</td>\n",
       "      <td>23.380282</td>\n",
       "      <td>1.358197</td>\n",
       "      <td>0.005926</td>\n",
       "      <td>1</td>\n",
       "      <td>44.91</td>\n",
       "      <td>2019-03-31</td>\n",
       "      <td>0.082169</td>\n",
       "    </tr>\n",
       "    <tr>\n",
       "      <th>16</th>\n",
       "      <td>YNDX</td>\n",
       "      <td>2.657300e+10</td>\n",
       "      <td>5.193</td>\n",
       "      <td>1.790300e+10</td>\n",
       "      <td>2.129050e+11</td>\n",
       "      <td>0.090</td>\n",
       "      <td>5.187000e+09</td>\n",
       "      <td>3.270667e+08</td>\n",
       "      <td>1.422</td>\n",
       "      <td>3.159000e+09</td>\n",
       "      <td>...</td>\n",
       "      <td>0.118880</td>\n",
       "      <td>15.896178</td>\n",
       "      <td>81.436119</td>\n",
       "      <td>0.947406</td>\n",
       "      <td>2.533172</td>\n",
       "      <td>0.084089</td>\n",
       "      <td>1</td>\n",
       "      <td>34.34</td>\n",
       "      <td>2019-03-31</td>\n",
       "      <td>-0.129531</td>\n",
       "    </tr>\n",
       "    <tr>\n",
       "      <th>...</th>\n",
       "      <td>...</td>\n",
       "      <td>...</td>\n",
       "      <td>...</td>\n",
       "      <td>...</td>\n",
       "      <td>...</td>\n",
       "      <td>...</td>\n",
       "      <td>...</td>\n",
       "      <td>...</td>\n",
       "      <td>...</td>\n",
       "      <td>...</td>\n",
       "      <td>...</td>\n",
       "      <td>...</td>\n",
       "      <td>...</td>\n",
       "      <td>...</td>\n",
       "      <td>...</td>\n",
       "      <td>...</td>\n",
       "      <td>...</td>\n",
       "      <td>...</td>\n",
       "      <td>...</td>\n",
       "      <td>...</td>\n",
       "      <td>...</td>\n",
       "    </tr>\n",
       "    <tr>\n",
       "      <th>1973</th>\n",
       "      <td>ABBV</td>\n",
       "      <td>7.934000e+09</td>\n",
       "      <td>42.303</td>\n",
       "      <td>3.728700e+10</td>\n",
       "      <td>6.934200e+10</td>\n",
       "      <td>0.351</td>\n",
       "      <td>2.645000e+09</td>\n",
       "      <td>1.591000e+09</td>\n",
       "      <td>4.987</td>\n",
       "      <td>2.903000e+09</td>\n",
       "      <td>...</td>\n",
       "      <td>0.365894</td>\n",
       "      <td>1.665646</td>\n",
       "      <td>4.996308</td>\n",
       "      <td>15.134314</td>\n",
       "      <td>0.897819</td>\n",
       "      <td>0.537726</td>\n",
       "      <td>1</td>\n",
       "      <td>80.59</td>\n",
       "      <td>2019-03-31</td>\n",
       "      <td>-0.148547</td>\n",
       "    </tr>\n",
       "    <tr>\n",
       "      <th>1974</th>\n",
       "      <td>ABB</td>\n",
       "      <td>6.441000e+09</td>\n",
       "      <td>3.790</td>\n",
       "      <td>7.761000e+09</td>\n",
       "      <td>4.356900e+10</td>\n",
       "      <td>0.089</td>\n",
       "      <td>-5.180000e+08</td>\n",
       "      <td>2.134000e+09</td>\n",
       "      <td>3.018</td>\n",
       "      <td>6.090000e+08</td>\n",
       "      <td>...</td>\n",
       "      <td>0.094551</td>\n",
       "      <td>-0.242214</td>\n",
       "      <td>3.011774</td>\n",
       "      <td>24.274029</td>\n",
       "      <td>0.691978</td>\n",
       "      <td>0.178131</td>\n",
       "      <td>1</td>\n",
       "      <td>18.87</td>\n",
       "      <td>2019-03-31</td>\n",
       "      <td>-0.205139</td>\n",
       "    </tr>\n",
       "    <tr>\n",
       "      <th>1978</th>\n",
       "      <td>AAPL</td>\n",
       "      <td>6.113700e+10</td>\n",
       "      <td>6.710</td>\n",
       "      <td>1.218400e+11</td>\n",
       "      <td>3.675020e+11</td>\n",
       "      <td>0.226</td>\n",
       "      <td>1.513000e+10</td>\n",
       "      <td>5.024877e+09</td>\n",
       "      <td>12.167</td>\n",
       "      <td>1.589400e+10</td>\n",
       "      <td>...</td>\n",
       "      <td>0.259974</td>\n",
       "      <td>2.981861</td>\n",
       "      <td>12.049043</td>\n",
       "      <td>15.413872</td>\n",
       "      <td>1.235423</td>\n",
       "      <td>0.331536</td>\n",
       "      <td>1</td>\n",
       "      <td>189.95</td>\n",
       "      <td>2019-03-31</td>\n",
       "      <td>0.132137</td>\n",
       "    </tr>\n",
       "    <tr>\n",
       "      <th>1983</th>\n",
       "      <td>AA</td>\n",
       "      <td>3.090000e+09</td>\n",
       "      <td>1.559</td>\n",
       "      <td>1.460000e+09</td>\n",
       "      <td>1.709600e+10</td>\n",
       "      <td>0.063</td>\n",
       "      <td>5.500000e+07</td>\n",
       "      <td>1.861756e+08</td>\n",
       "      <td>16.597</td>\n",
       "      <td>5.170000e+08</td>\n",
       "      <td>...</td>\n",
       "      <td>0.167314</td>\n",
       "      <td>0.295420</td>\n",
       "      <td>16.597233</td>\n",
       "      <td>10.502219</td>\n",
       "      <td>0.738239</td>\n",
       "      <td>0.085400</td>\n",
       "      <td>1</td>\n",
       "      <td>28.16</td>\n",
       "      <td>2019-03-31</td>\n",
       "      <td>-0.373665</td>\n",
       "    </tr>\n",
       "    <tr>\n",
       "      <th>1984</th>\n",
       "      <td>A</td>\n",
       "      <td>1.206000e+09</td>\n",
       "      <td>4.596</td>\n",
       "      <td>2.115000e+09</td>\n",
       "      <td>8.784000e+09</td>\n",
       "      <td>0.170</td>\n",
       "      <td>3.030000e+08</td>\n",
       "      <td>3.220000e+08</td>\n",
       "      <td>3.745</td>\n",
       "      <td>2.100000e+08</td>\n",
       "      <td>...</td>\n",
       "      <td>0.174129</td>\n",
       "      <td>0.939603</td>\n",
       "      <td>3.739806</td>\n",
       "      <td>25.659641</td>\n",
       "      <td>2.758242</td>\n",
       "      <td>0.240779</td>\n",
       "      <td>1</td>\n",
       "      <td>78.50</td>\n",
       "      <td>2019-03-31</td>\n",
       "      <td>0.194098</td>\n",
       "    </tr>\n",
       "  </tbody>\n",
       "</table>\n",
       "<p>335 rows × 35 columns</p>\n",
       "</div>"
      ],
      "text/plain": [
       "     ticker       revenue      pb          debt        assets  netmargin  \\\n",
       "2       ZTS  1.366000e+09  20.675  4.954000e+09  8.690000e+09      0.258   \n",
       "7      ZION  7.270000e+08   1.356  5.250000e+09  6.648100e+10      0.318   \n",
       "11      ZBH  2.017600e+09   1.846  1.111190e+10  2.718120e+10      0.087   \n",
       "14     YUMC  2.221000e+09   5.152  2.900000e+07  4.894000e+09      0.130   \n",
       "16     YNDX  2.657300e+10   5.193  1.790300e+10  2.129050e+11      0.090   \n",
       "...     ...           ...     ...           ...           ...        ...   \n",
       "1973   ABBV  7.934000e+09  42.303  3.728700e+10  6.934200e+10      0.351   \n",
       "1974    ABB  6.441000e+09   3.790  7.761000e+09  4.356900e+10      0.089   \n",
       "1978   AAPL  6.113700e+10   6.710  1.218400e+11  3.675020e+11      0.226   \n",
       "1983     AA  3.090000e+09   1.559  1.460000e+09  1.709600e+10      0.063   \n",
       "1984      A  1.206000e+09   4.596  2.115000e+09  8.784000e+09      0.170   \n",
       "\n",
       "              ncfo      shareswa     sps         opinc  ...  OPER_MARGIN  \\\n",
       "2     3.890000e+08  4.859000e+08   2.811  4.640000e+08  ...     0.339678   \n",
       "7     2.750000e+08  1.967220e+08   3.696  3.080000e+08  ...     0.423659   \n",
       "11    4.905000e+08  2.030000e+08   9.939  3.050000e+08  ...     0.151170   \n",
       "14    5.510000e+08  3.860000e+08   5.754  3.950000e+08  ...     0.177848   \n",
       "16    5.187000e+09  3.270667e+08   1.422  3.159000e+09  ...     0.118880   \n",
       "...            ...           ...     ...           ...  ...          ...   \n",
       "1973  2.645000e+09  1.591000e+09   4.987  2.903000e+09  ...     0.365894   \n",
       "1974 -5.180000e+08  2.134000e+09   3.018  6.090000e+08  ...     0.094551   \n",
       "1978  1.513000e+10  5.024877e+09  12.167  1.589400e+10  ...     0.259974   \n",
       "1983  5.500000e+07  1.861756e+08  16.597  5.170000e+08  ...     0.167314   \n",
       "1984  3.030000e+08  3.220000e+08   3.745  2.100000e+08  ...     0.174129   \n",
       "\n",
       "      CASH_FLOW_PER_SHARE  REVENUE_PER_SHARE PX_FREE_CASH_FLOW quick_ratio  \\\n",
       "2                0.801643           2.815022         29.384236    2.597000   \n",
       "7                1.399389           3.699476         15.368697         NaN   \n",
       "11               2.414509           9.931728         16.436539    0.929742   \n",
       "14               1.428397           5.757658         23.380282    1.358197   \n",
       "16              15.896178          81.436119          0.947406    2.533172   \n",
       "...                   ...                ...               ...         ...   \n",
       "1973             1.665646           4.996308         15.134314    0.897819   \n",
       "1974            -0.242214           3.011774         24.274029    0.691978   \n",
       "1978             2.981861          12.049043         15.413872    1.235423   \n",
       "1983             0.295420          16.597233         10.502219    0.738239   \n",
       "1984             0.939603           3.739806         25.659641    2.758242   \n",
       "\n",
       "      TOT_DEBT_TO_TOTAL_ASSET  enough_cash  price2019  calendardate2019  \\\n",
       "2                    0.570081            1     100.67        2019-03-31   \n",
       "7                    0.078970            1      45.41        2019-03-31   \n",
       "11                   0.408808            1     127.70        2019-03-31   \n",
       "14                   0.005926            1      44.91        2019-03-31   \n",
       "16                   0.084089            1      34.34        2019-03-31   \n",
       "...                       ...          ...        ...               ...   \n",
       "1973                 0.537726            1      80.59        2019-03-31   \n",
       "1974                 0.178131            1      18.87        2019-03-31   \n",
       "1978                 0.331536            1     189.95        2019-03-31   \n",
       "1983                 0.085400            1      28.16        2019-03-31   \n",
       "1984                 0.240779            1      78.50        2019-03-31   \n",
       "\n",
       "        return  \n",
       "2     0.205484  \n",
       "7    -0.138820  \n",
       "11    0.171130  \n",
       "14    0.082169  \n",
       "16   -0.129531  \n",
       "...        ...  \n",
       "1973 -0.148547  \n",
       "1974 -0.205139  \n",
       "1978  0.132137  \n",
       "1983 -0.373665  \n",
       "1984  0.194098  \n",
       "\n",
       "[335 rows x 35 columns]"
      ]
     },
     "execution_count": 32,
     "metadata": {},
     "output_type": "execute_result"
    },
    {
     "data": {
      "application/javascript": [
       "\n",
       "            setTimeout(function() {\n",
       "                var nbb_cell_id = 32;\n",
       "                var nbb_unformatted_code = \"df2018[df2018[\\\"enough_cash\\\"] == 1]\";\n",
       "                var nbb_formatted_code = \"df2018[df2018[\\\"enough_cash\\\"] == 1]\";\n",
       "                var nbb_cells = Jupyter.notebook.get_cells();\n",
       "                for (var i = 0; i < nbb_cells.length; ++i) {\n",
       "                    if (nbb_cells[i].input_prompt_number == nbb_cell_id) {\n",
       "                        if (nbb_cells[i].get_text() == nbb_unformatted_code) {\n",
       "                             nbb_cells[i].set_text(nbb_formatted_code);\n",
       "                        }\n",
       "                        break;\n",
       "                    }\n",
       "                }\n",
       "            }, 500);\n",
       "            "
      ],
      "text/plain": [
       "<IPython.core.display.Javascript object>"
      ]
     },
     "metadata": {},
     "output_type": "display_data"
    }
   ],
   "source": [
    "df2018[df2018[\"enough_cash\"] == 1]"
   ]
  },
  {
   "cell_type": "code",
   "execution_count": 33,
   "metadata": {},
   "outputs": [
    {
     "data": {
      "image/png": "[encoded data removed]",
      "text/plain": [
       "<Figure size 432x288 with 1 Axes>"
      ]
     },
     "metadata": {
      "needs_background": "light"
     },
     "output_type": "display_data"
    },
    {
     "data": {
      "application/javascript": [
       "\n",
       "            setTimeout(function() {\n",
       "                var nbb_cell_id = 33;\n",
       "                var nbb_unformatted_code = \"cash_rich = df2018[df2018[\\\"enough_cash\\\"] == 1]\\nplt.plot(cash_rich[\\\"cashneq\\\"], cash_rich[\\\"return\\\"], \\\"o\\\")\\nplt.show()\";\n",
       "                var nbb_formatted_code = \"cash_rich = df2018[df2018[\\\"enough_cash\\\"] == 1]\\nplt.plot(cash_rich[\\\"cashneq\\\"], cash_rich[\\\"return\\\"], \\\"o\\\")\\nplt.show()\";\n",
       "                var nbb_cells = Jupyter.notebook.get_cells();\n",
       "                for (var i = 0; i < nbb_cells.length; ++i) {\n",
       "                    if (nbb_cells[i].input_prompt_number == nbb_cell_id) {\n",
       "                        if (nbb_cells[i].get_text() == nbb_unformatted_code) {\n",
       "                             nbb_cells[i].set_text(nbb_formatted_code);\n",
       "                        }\n",
       "                        break;\n",
       "                    }\n",
       "                }\n",
       "            }, 500);\n",
       "            "
      ],
      "text/plain": [
       "<IPython.core.display.Javascript object>"
      ]
     },
     "metadata": {},
     "output_type": "display_data"
    }
   ],
   "source": [
    "cash_rich = df2018[df2018[\"enough_cash\"] == 1]\n",
    "plt.plot(cash_rich[\"cashneq\"], cash_rich[\"return\"], \"o\")\n",
    "plt.show()"
   ]
  },
  {
   "cell_type": "code",
   "execution_count": 34,
   "metadata": {},
   "outputs": [
    {
     "data": {
      "image/png": "[encoded data removed]",
      "text/plain": [
       "<Figure size 432x288 with 1 Axes>"
      ]
     },
     "metadata": {
      "needs_background": "light"
     },
     "output_type": "display_data"
    },
    {
     "data": {
      "application/javascript": [
       "\n",
       "            setTimeout(function() {\n",
       "                var nbb_cell_id = 34;\n",
       "                var nbb_unformatted_code = \"cash_weak = df2018[df2018[\\\"enough_cash\\\"] == 0]\\nplt.plot(cash_weak[\\\"cashneq\\\"], cash_weak[\\\"return\\\"], \\\"o\\\")\\nplt.show()\";\n",
       "                var nbb_formatted_code = \"cash_weak = df2018[df2018[\\\"enough_cash\\\"] == 0]\\nplt.plot(cash_weak[\\\"cashneq\\\"], cash_weak[\\\"return\\\"], \\\"o\\\")\\nplt.show()\";\n",
       "                var nbb_cells = Jupyter.notebook.get_cells();\n",
       "                for (var i = 0; i < nbb_cells.length; ++i) {\n",
       "                    if (nbb_cells[i].input_prompt_number == nbb_cell_id) {\n",
       "                        if (nbb_cells[i].get_text() == nbb_unformatted_code) {\n",
       "                             nbb_cells[i].set_text(nbb_formatted_code);\n",
       "                        }\n",
       "                        break;\n",
       "                    }\n",
       "                }\n",
       "            }, 500);\n",
       "            "
      ],
      "text/plain": [
       "<IPython.core.display.Javascript object>"
      ]
     },
     "metadata": {},
     "output_type": "display_data"
    }
   ],
   "source": [
    "cash_weak = df2018[df2018[\"enough_cash\"] == 0]\n",
    "plt.plot(cash_weak[\"cashneq\"], cash_weak[\"return\"], \"o\")\n",
    "plt.show()"
   ]
  },
  {
   "cell_type": "code",
   "execution_count": 35,
   "metadata": {},
   "outputs": [
    {
     "data": {
      "text/plain": [
       "Ttest_indResult(statistic=-3.373213935097205, pvalue=0.0007581766185725844)"
      ]
     },
     "execution_count": 35,
     "metadata": {},
     "output_type": "execute_result"
    },
    {
     "data": {
      "application/javascript": [
       "\n",
       "            setTimeout(function() {\n",
       "                var nbb_cell_id = 35;\n",
       "                var nbb_unformatted_code = \"stats.ttest_ind(cash_rich[\\\"return\\\"].dropna(), cash_weak[\\\"return\\\"].dropna())\";\n",
       "                var nbb_formatted_code = \"stats.ttest_ind(cash_rich[\\\"return\\\"].dropna(), cash_weak[\\\"return\\\"].dropna())\";\n",
       "                var nbb_cells = Jupyter.notebook.get_cells();\n",
       "                for (var i = 0; i < nbb_cells.length; ++i) {\n",
       "                    if (nbb_cells[i].input_prompt_number == nbb_cell_id) {\n",
       "                        if (nbb_cells[i].get_text() == nbb_unformatted_code) {\n",
       "                             nbb_cells[i].set_text(nbb_formatted_code);\n",
       "                        }\n",
       "                        break;\n",
       "                    }\n",
       "                }\n",
       "            }, 500);\n",
       "            "
      ],
      "text/plain": [
       "<IPython.core.display.Javascript object>"
      ]
     },
     "metadata": {},
     "output_type": "display_data"
    }
   ],
   "source": [
    "stats.ttest_ind(cash_rich[\"return\"].dropna(), cash_weak[\"return\"].dropna())"
   ]
  },
  {
   "cell_type": "code",
   "execution_count": 36,
   "metadata": {},
   "outputs": [
    {
     "data": {
      "application/javascript": [
       "\n",
       "            setTimeout(function() {\n",
       "                var nbb_cell_id = 36;\n",
       "                var nbb_unformatted_code = \"diff_df = pd.merge(df2018, df2019, how=\\\"inner\\\", indicator=\\\"Exist\\\")\\n\\ndiff_df = diff_df.loc[diff_df[\\\"Exist\\\"] != \\\"both\\\"]\";\n",
       "                var nbb_formatted_code = \"diff_df = pd.merge(df2018, df2019, how=\\\"inner\\\", indicator=\\\"Exist\\\")\\n\\ndiff_df = diff_df.loc[diff_df[\\\"Exist\\\"] != \\\"both\\\"]\";\n",
       "                var nbb_cells = Jupyter.notebook.get_cells();\n",
       "                for (var i = 0; i < nbb_cells.length; ++i) {\n",
       "                    if (nbb_cells[i].input_prompt_number == nbb_cell_id) {\n",
       "                        if (nbb_cells[i].get_text() == nbb_unformatted_code) {\n",
       "                             nbb_cells[i].set_text(nbb_formatted_code);\n",
       "                        }\n",
       "                        break;\n",
       "                    }\n",
       "                }\n",
       "            }, 500);\n",
       "            "
      ],
      "text/plain": [
       "<IPython.core.display.Javascript object>"
      ]
     },
     "metadata": {},
     "output_type": "display_data"
    }
   ],
   "source": [
    "diff_df = pd.merge(df2018, df2019, how=\"inner\", indicator=\"Exist\")\n",
    "\n",
    "diff_df = diff_df.loc[diff_df[\"Exist\"] != \"both\"]\n"
   ]
  },
  {
   "cell_type": "code",
   "execution_count": null,
   "metadata": {},
   "outputs": [],
   "source": []
  }
 ],
 "metadata": {
  "kernelspec": {
   "display_name": "Python 3",
   "language": "python",
   "name": "python3"
  },
  "language_info": {
   "codemirror_mode": {
    "name": "ipython",
    "version": 3
   },
   "file_extension": ".py",
   "mimetype": "text/x-python",
   "name": "python",
   "nbconvert_exporter": "python",
   "pygments_lexer": "ipython3",
   "version": "3.8.3"
  }
 },
 "nbformat": 4,
 "nbformat_minor": 4
}
