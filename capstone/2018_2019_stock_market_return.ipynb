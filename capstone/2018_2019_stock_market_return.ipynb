{
 "cells": [
  {
   "cell_type": "code",
   "execution_count": 1,
   "metadata": {},
   "outputs": [
    {
     "ename": "SyntaxError",
     "evalue": "invalid syntax (<ipython-input-1-5bd988313932>, line 1)",
     "output_type": "error",
     "traceback": [
      "\u001b[1;36m  File \u001b[1;32m\"<ipython-input-1-5bd988313932>\"\u001b[1;36m, line \u001b[1;32m1\u001b[0m\n\u001b[1;33m    Hypothesis:\u001b[0m\n\u001b[1;37m                ^\u001b[0m\n\u001b[1;31mSyntaxError\u001b[0m\u001b[1;31m:\u001b[0m invalid syntax\n"
     ]
    }
   ],
   "source": [
    "Hypothesis: "
   ]
  },
  {
   "cell_type": "code",
   "execution_count": 2,
   "metadata": {},
   "outputs": [
    {
     "data": {
      "application/javascript": [
       "\n",
       "            setTimeout(function() {\n",
       "                var nbb_cell_id = 2;\n",
       "                var nbb_unformatted_code = \"%reload_ext nb_black\";\n",
       "                var nbb_formatted_code = \"%reload_ext nb_black\";\n",
       "                var nbb_cells = Jupyter.notebook.get_cells();\n",
       "                for (var i = 0; i < nbb_cells.length; ++i) {\n",
       "                    if (nbb_cells[i].input_prompt_number == nbb_cell_id) {\n",
       "                        if (nbb_cells[i].get_text() == nbb_unformatted_code) {\n",
       "                             nbb_cells[i].set_text(nbb_formatted_code);\n",
       "                        }\n",
       "                        break;\n",
       "                    }\n",
       "                }\n",
       "            }, 500);\n",
       "            "
      ],
      "text/plain": [
       "<IPython.core.display.Javascript object>"
      ]
     },
     "metadata": {},
     "output_type": "display_data"
    }
   ],
   "source": [
    "%reload_ext nb_black\n"
   ]
  },
  {
   "cell_type": "code",
   "execution_count": 3,
   "metadata": {},
   "outputs": [
    {
     "data": {
      "application/javascript": [
       "\n",
       "            setTimeout(function() {\n",
       "                var nbb_cell_id = 3;\n",
       "                var nbb_unformatted_code = \"import pandas as pd\\nimport numpy as np\\nfrom scipy import stats\\nimport matplotlib.pyplot as plt\\nimport math\\nimport seaborn as sns\\nimport statsmodels.api as sm\\nfrom statsmodels.formula.api import ols\\nfrom statsmodels.stats.anova import AnovaRM\\nfrom statsmodels.stats.multicomp import pairwise_tukeyhsd\\nfrom statsmodels.graphics.gofplots import qqplot\\n\\n\\n%matplotlib inline\\nplt.style.use(\\\"fivethirtyeight\\\")\";\n",
       "                var nbb_formatted_code = \"import pandas as pd\\nimport numpy as np\\nfrom scipy import stats\\nimport matplotlib.pyplot as plt\\nimport math\\nimport seaborn as sns\\nimport statsmodels.api as sm\\nfrom statsmodels.formula.api import ols\\nfrom statsmodels.stats.anova import AnovaRM\\nfrom statsmodels.stats.multicomp import pairwise_tukeyhsd\\nfrom statsmodels.graphics.gofplots import qqplot\\n\\n\\n%matplotlib inline\\nplt.style.use(\\\"fivethirtyeight\\\")\";\n",
       "                var nbb_cells = Jupyter.notebook.get_cells();\n",
       "                for (var i = 0; i < nbb_cells.length; ++i) {\n",
       "                    if (nbb_cells[i].input_prompt_number == nbb_cell_id) {\n",
       "                        if (nbb_cells[i].get_text() == nbb_unformatted_code) {\n",
       "                             nbb_cells[i].set_text(nbb_formatted_code);\n",
       "                        }\n",
       "                        break;\n",
       "                    }\n",
       "                }\n",
       "            }, 500);\n",
       "            "
      ],
      "text/plain": [
       "<IPython.core.display.Javascript object>"
      ]
     },
     "metadata": {},
     "output_type": "display_data"
    }
   ],
   "source": [
    "import pandas as pd\n",
    "import numpy as np\n",
    "from scipy import stats\n",
    "import matplotlib.pyplot as plt\n",
    "import math\n",
    "import seaborn as sns\n",
    "import statsmodels.api as sm\n",
    "from statsmodels.formula.api import ols\n",
    "from statsmodels.stats.anova import AnovaRM\n",
    "from statsmodels.stats.multicomp import pairwise_tukeyhsd\n",
    "from statsmodels.graphics.gofplots import qqplot\n",
    "\n",
    "\n",
    "%matplotlib inline\n",
    "plt.style.use(\"fivethirtyeight\")"
   ]
  },
  {
   "cell_type": "code",
   "execution_count": 4,
   "metadata": {},
   "outputs": [
    {
     "data": {
      "application/javascript": [
       "\n",
       "            setTimeout(function() {\n",
       "                var nbb_cell_id = 4;\n",
       "                var nbb_unformatted_code = \"def get_95_ci(x1, x2):\\n    \\\"\\\"\\\"Calculate a 95% CI for 2 1d numpy arrays\\\"\\\"\\\"\\n    signal = x1.mean() - x2.mean()\\n    noise = np.sqrt(x1.var() / x1.size + x2.var() / x2.size)\\n\\n    ci_lo = signal - 1.96 * noise\\n    ci_hi = signal + 1.96 * noise\\n\\n    return ci_lo, ci_hi\\n\\n\\n%matplotlib inline\\n\\n# what are we achieving from here? defining the function of 95%? giving the formula\\n# whats matplotlib inline?\";\n",
       "                var nbb_formatted_code = \"def get_95_ci(x1, x2):\\n    \\\"\\\"\\\"Calculate a 95% CI for 2 1d numpy arrays\\\"\\\"\\\"\\n    signal = x1.mean() - x2.mean()\\n    noise = np.sqrt(x1.var() / x1.size + x2.var() / x2.size)\\n\\n    ci_lo = signal - 1.96 * noise\\n    ci_hi = signal + 1.96 * noise\\n\\n    return ci_lo, ci_hi\\n\\n\\n%matplotlib inline\\n\\n# what are we achieving from here? defining the function of 95%? giving the formula\\n# whats matplotlib inline?\";\n",
       "                var nbb_cells = Jupyter.notebook.get_cells();\n",
       "                for (var i = 0; i < nbb_cells.length; ++i) {\n",
       "                    if (nbb_cells[i].input_prompt_number == nbb_cell_id) {\n",
       "                        if (nbb_cells[i].get_text() == nbb_unformatted_code) {\n",
       "                             nbb_cells[i].set_text(nbb_formatted_code);\n",
       "                        }\n",
       "                        break;\n",
       "                    }\n",
       "                }\n",
       "            }, 500);\n",
       "            "
      ],
      "text/plain": [
       "<IPython.core.display.Javascript object>"
      ]
     },
     "metadata": {},
     "output_type": "display_data"
    }
   ],
   "source": [
    "def get_95_ci(x1, x2):\n",
    "    \"\"\"Calculate a 95% CI for 2 1d numpy arrays\"\"\"\n",
    "    signal = x1.mean() - x2.mean()\n",
    "    noise = np.sqrt(x1.var() / x1.size + x2.var() / x2.size)\n",
    "\n",
    "    ci_lo = signal - 1.96 * noise\n",
    "    ci_hi = signal + 1.96 * noise\n",
    "\n",
    "    return ci_lo, ci_hi\n",
    "\n",
    "\n",
    "%matplotlib inline\n",
    "\n",
    "# what are we achieving from here? defining the function of 95%? giving the formula\n",
    "# whats matplotlib inline?"
   ]
  },
  {
   "cell_type": "code",
   "execution_count": 5,
   "metadata": {
    "scrolled": true
   },
   "outputs": [
    {
     "data": {
      "text/html": [
       "<div>\n",
       "<style scoped>\n",
       "    .dataframe tbody tr th:only-of-type {\n",
       "        vertical-align: middle;\n",
       "    }\n",
       "\n",
       "    .dataframe tbody tr th {\n",
       "        vertical-align: top;\n",
       "    }\n",
       "\n",
       "    .dataframe thead th {\n",
       "        text-align: right;\n",
       "    }\n",
       "</style>\n",
       "<table border=\"1\" class=\"dataframe\">\n",
       "  <thead>\n",
       "    <tr style=\"text-align: right;\">\n",
       "      <th></th>\n",
       "      <th>ticker</th>\n",
       "      <th>revenue</th>\n",
       "      <th>pb</th>\n",
       "      <th>debt</th>\n",
       "      <th>assets</th>\n",
       "      <th>netmargin</th>\n",
       "      <th>ncfo</th>\n",
       "      <th>shareswa</th>\n",
       "      <th>sps</th>\n",
       "      <th>opinc</th>\n",
       "      <th>...</th>\n",
       "      <th>netinccmn</th>\n",
       "      <th>fcfps</th>\n",
       "      <th>PX_TO_BOOK_RATIO</th>\n",
       "      <th>RETURN_ON_ASSET</th>\n",
       "      <th>OPER_MARGIN</th>\n",
       "      <th>CASH_FLOW_PER_SHARE</th>\n",
       "      <th>REVENUE_PER_SHARE</th>\n",
       "      <th>PX_FREE_CASH_FLOW</th>\n",
       "      <th>quick_ratio</th>\n",
       "      <th>TOT_DEBT_TO_TOTAL_ASSET</th>\n",
       "    </tr>\n",
       "  </thead>\n",
       "  <tbody>\n",
       "    <tr>\n",
       "      <th>0</th>\n",
       "      <td>ZYME</td>\n",
       "      <td>8269000.0</td>\n",
       "      <td>3.091</td>\n",
       "      <td>9007000.0</td>\n",
       "      <td>636578000.0</td>\n",
       "      <td>-3.765</td>\n",
       "      <td>-37487000.0</td>\n",
       "      <td>48686718.0</td>\n",
       "      <td>0.170</td>\n",
       "      <td>-35880000.0</td>\n",
       "      <td>...</td>\n",
       "      <td>-162932000.0</td>\n",
       "      <td>-2.154</td>\n",
       "      <td>3.091</td>\n",
       "      <td>-0.358217</td>\n",
       "      <td>-4.339098</td>\n",
       "      <td>-0.823549</td>\n",
       "      <td>0.181661</td>\n",
       "      <td>-16.467038</td>\n",
       "      <td>6.807722</td>\n",
       "      <td>0.014149</td>\n",
       "    </tr>\n",
       "    <tr>\n",
       "      <th>1</th>\n",
       "      <td>ZYME</td>\n",
       "      <td>1877000.0</td>\n",
       "      <td>7.288</td>\n",
       "      <td>6881000.0</td>\n",
       "      <td>368205000.0</td>\n",
       "      <td>-38.489</td>\n",
       "      <td>-36354000.0</td>\n",
       "      <td>43658717.0</td>\n",
       "      <td>0.043</td>\n",
       "      <td>-73752000.0</td>\n",
       "      <td>...</td>\n",
       "      <td>-145437000.0</td>\n",
       "      <td>-2.319</td>\n",
       "      <td>7.288</td>\n",
       "      <td>-0.409374</td>\n",
       "      <td>-39.292488</td>\n",
       "      <td>-0.922987</td>\n",
       "      <td>0.047655</td>\n",
       "      <td>-19.603277</td>\n",
       "      <td>3.647265</td>\n",
       "      <td>0.018688</td>\n",
       "    </tr>\n",
       "    <tr>\n",
       "      <th>2</th>\n",
       "      <td>ZYME</td>\n",
       "      <td>7860000.0</td>\n",
       "      <td>3.146</td>\n",
       "      <td>6755000.0</td>\n",
       "      <td>400037000.0</td>\n",
       "      <td>-3.877</td>\n",
       "      <td>-10880000.0</td>\n",
       "      <td>43445379.0</td>\n",
       "      <td>0.181</td>\n",
       "      <td>-33564000.0</td>\n",
       "      <td>...</td>\n",
       "      <td>-63920000.0</td>\n",
       "      <td>0.004</td>\n",
       "      <td>3.146</td>\n",
       "      <td>-0.197080</td>\n",
       "      <td>-4.270229</td>\n",
       "      <td>-0.277127</td>\n",
       "      <td>0.200204</td>\n",
       "      <td>6200.000000</td>\n",
       "      <td>6.678431</td>\n",
       "      <td>0.016886</td>\n",
       "    </tr>\n",
       "    <tr>\n",
       "      <th>3</th>\n",
       "      <td>ZYME</td>\n",
       "      <td>7882000.0</td>\n",
       "      <td>2.112</td>\n",
       "      <td>7829000.0</td>\n",
       "      <td>414547000.0</td>\n",
       "      <td>-3.689</td>\n",
       "      <td>-13317000.0</td>\n",
       "      <td>32837975.0</td>\n",
       "      <td>0.240</td>\n",
       "      <td>-29432000.0</td>\n",
       "      <td>...</td>\n",
       "      <td>-52196000.0</td>\n",
       "      <td>0.028</td>\n",
       "      <td>2.112</td>\n",
       "      <td>-0.191239</td>\n",
       "      <td>-3.734078</td>\n",
       "      <td>-0.415356</td>\n",
       "      <td>0.245839</td>\n",
       "      <td>785.714286</td>\n",
       "      <td>8.874183</td>\n",
       "      <td>0.018886</td>\n",
       "    </tr>\n",
       "    <tr>\n",
       "      <th>4</th>\n",
       "      <td>ZYME</td>\n",
       "      <td>11925000.0</td>\n",
       "      <td>3.048</td>\n",
       "      <td>8065000.0</td>\n",
       "      <td>238279000.0</td>\n",
       "      <td>-1.144</td>\n",
       "      <td>-21302000.0</td>\n",
       "      <td>32020437.0</td>\n",
       "      <td>0.372</td>\n",
       "      <td>-14553000.0</td>\n",
       "      <td>...</td>\n",
       "      <td>-28993000.0</td>\n",
       "      <td>0.616</td>\n",
       "      <td>3.048</td>\n",
       "      <td>-0.130571</td>\n",
       "      <td>-1.220377</td>\n",
       "      <td>-0.665162</td>\n",
       "      <td>0.372362</td>\n",
       "      <td>26.266234</td>\n",
       "      <td>6.440652</td>\n",
       "      <td>0.033847</td>\n",
       "    </tr>\n",
       "  </tbody>\n",
       "</table>\n",
       "<p>5 rows × 31 columns</p>\n",
       "</div>"
      ],
      "text/plain": [
       "  ticker     revenue     pb       debt       assets  netmargin        ncfo  \\\n",
       "0   ZYME   8269000.0  3.091  9007000.0  636578000.0     -3.765 -37487000.0   \n",
       "1   ZYME   1877000.0  7.288  6881000.0  368205000.0    -38.489 -36354000.0   \n",
       "2   ZYME   7860000.0  3.146  6755000.0  400037000.0     -3.877 -10880000.0   \n",
       "3   ZYME   7882000.0  2.112  7829000.0  414547000.0     -3.689 -13317000.0   \n",
       "4   ZYME  11925000.0  3.048  8065000.0  238279000.0     -1.144 -21302000.0   \n",
       "\n",
       "     shareswa    sps       opinc  ...    netinccmn  fcfps  PX_TO_BOOK_RATIO  \\\n",
       "0  48686718.0  0.170 -35880000.0  ... -162932000.0 -2.154             3.091   \n",
       "1  43658717.0  0.043 -73752000.0  ... -145437000.0 -2.319             7.288   \n",
       "2  43445379.0  0.181 -33564000.0  ...  -63920000.0  0.004             3.146   \n",
       "3  32837975.0  0.240 -29432000.0  ...  -52196000.0  0.028             2.112   \n",
       "4  32020437.0  0.372 -14553000.0  ...  -28993000.0  0.616             3.048   \n",
       "\n",
       "  RETURN_ON_ASSET OPER_MARGIN  CASH_FLOW_PER_SHARE  REVENUE_PER_SHARE  \\\n",
       "0       -0.358217   -4.339098            -0.823549           0.181661   \n",
       "1       -0.409374  -39.292488            -0.922987           0.047655   \n",
       "2       -0.197080   -4.270229            -0.277127           0.200204   \n",
       "3       -0.191239   -3.734078            -0.415356           0.245839   \n",
       "4       -0.130571   -1.220377            -0.665162           0.372362   \n",
       "\n",
       "   PX_FREE_CASH_FLOW  quick_ratio  TOT_DEBT_TO_TOTAL_ASSET  \n",
       "0         -16.467038     6.807722                 0.014149  \n",
       "1         -19.603277     3.647265                 0.018688  \n",
       "2        6200.000000     6.678431                 0.016886  \n",
       "3         785.714286     8.874183                 0.018886  \n",
       "4          26.266234     6.440652                 0.033847  \n",
       "\n",
       "[5 rows x 31 columns]"
      ]
     },
     "execution_count": 5,
     "metadata": {},
     "output_type": "execute_result"
    },
    {
     "data": {
      "application/javascript": [
       "\n",
       "            setTimeout(function() {\n",
       "                var nbb_cell_id = 5;\n",
       "                var nbb_unformatted_code = \"stocks = pd.read_csv(r\\\"C:\\\\Users\\\\GaukharJavarova\\\\Downloads\\\\aggdata.csv\\\")\\nstocks.head()\";\n",
       "                var nbb_formatted_code = \"stocks = pd.read_csv(r\\\"C:\\\\Users\\\\GaukharJavarova\\\\Downloads\\\\aggdata.csv\\\")\\nstocks.head()\";\n",
       "                var nbb_cells = Jupyter.notebook.get_cells();\n",
       "                for (var i = 0; i < nbb_cells.length; ++i) {\n",
       "                    if (nbb_cells[i].input_prompt_number == nbb_cell_id) {\n",
       "                        if (nbb_cells[i].get_text() == nbb_unformatted_code) {\n",
       "                             nbb_cells[i].set_text(nbb_formatted_code);\n",
       "                        }\n",
       "                        break;\n",
       "                    }\n",
       "                }\n",
       "            }, 500);\n",
       "            "
      ],
      "text/plain": [
       "<IPython.core.display.Javascript object>"
      ]
     },
     "metadata": {},
     "output_type": "display_data"
    }
   ],
   "source": [
    "stocks = pd.read_csv(r\"C:\\Users\\GaukharJavarova\\Downloads\\aggdata.csv\")\n",
    "stocks.head()"
   ]
  },
  {
   "cell_type": "code",
   "execution_count": 6,
   "metadata": {},
   "outputs": [
    {
     "data": {
      "application/javascript": [
       "\n",
       "            setTimeout(function() {\n",
       "                var nbb_cell_id = 6;\n",
       "                var nbb_unformatted_code = \"# hyperlink_format = <a href=\\\"{C:\\\\Users\\\\GaukharJavarova\\\\Downloads\\\\indicators}\\\">{indicators}</a>\\n# how to put a hyperlink here\";\n",
       "                var nbb_formatted_code = \"# hyperlink_format = <a href=\\\"{C:\\\\Users\\\\GaukharJavarova\\\\Downloads\\\\indicators}\\\">{indicators}</a>\\n# how to put a hyperlink here\";\n",
       "                var nbb_cells = Jupyter.notebook.get_cells();\n",
       "                for (var i = 0; i < nbb_cells.length; ++i) {\n",
       "                    if (nbb_cells[i].input_prompt_number == nbb_cell_id) {\n",
       "                        if (nbb_cells[i].get_text() == nbb_unformatted_code) {\n",
       "                             nbb_cells[i].set_text(nbb_formatted_code);\n",
       "                        }\n",
       "                        break;\n",
       "                    }\n",
       "                }\n",
       "            }, 500);\n",
       "            "
      ],
      "text/plain": [
       "<IPython.core.display.Javascript object>"
      ]
     },
     "metadata": {},
     "output_type": "display_data"
    }
   ],
   "source": [
    "# hyperlink_format = <a href=\"{C:\\Users\\GaukharJavarova\\Downloads\\indicators}\">{indicators}</a>\n",
    "# how to put a hyperlink here"
   ]
  },
  {
   "cell_type": "code",
   "execution_count": 7,
   "metadata": {},
   "outputs": [
    {
     "name": "stdout",
     "output_type": "stream",
     "text": [
      "<class 'pandas.core.frame.DataFrame'>\n",
      "RangeIndex: 40277 entries, 0 to 40276\n",
      "Data columns (total 31 columns):\n",
      " #   Column                   Non-Null Count  Dtype  \n",
      "---  ------                   --------------  -----  \n",
      " 0   ticker                   40277 non-null  object \n",
      " 1   revenue                  39949 non-null  float64\n",
      " 2   pb                       38433 non-null  float64\n",
      " 3   debt                     39416 non-null  float64\n",
      " 4   assets                   39416 non-null  float64\n",
      " 5   netmargin                38980 non-null  float64\n",
      " 6   ncfo                     39683 non-null  float64\n",
      " 7   shareswa                 40072 non-null  float64\n",
      " 8   sps                      39800 non-null  float64\n",
      " 9   opinc                    39949 non-null  float64\n",
      " 10  assetsc                  30302 non-null  float64\n",
      " 11  liabilitiesc             30265 non-null  float64\n",
      " 12  price                    38513 non-null  float64\n",
      " 13  calendardate             40277 non-null  object \n",
      " 14  datekey                  40277 non-null  object \n",
      " 15  sharesbas                39366 non-null  float64\n",
      " 16  equity                   39416 non-null  float64\n",
      " 17  receivables              39416 non-null  float64\n",
      " 18  investmentsc             30302 non-null  float64\n",
      " 19  cashneq                  39416 non-null  float64\n",
      " 20  assetsavg                38295 non-null  float64\n",
      " 21  netinccmn                39296 non-null  float64\n",
      " 22  fcfps                    39010 non-null  float64\n",
      " 23  PX_TO_BOOK_RATIO         38433 non-null  float64\n",
      " 24  RETURN_ON_ASSET          38240 non-null  float64\n",
      " 25  OPER_MARGIN              39941 non-null  float64\n",
      " 26  CASH_FLOW_PER_SHARE      39086 non-null  float64\n",
      " 27  REVENUE_PER_SHARE        39263 non-null  float64\n",
      " 28  PX_FREE_CASH_FLOW        38194 non-null  float64\n",
      " 29  quick_ratio              30261 non-null  float64\n",
      " 30  TOT_DEBT_TO_TOTAL_ASSET  39412 non-null  float64\n",
      "dtypes: float64(28), object(3)\n",
      "memory usage: 9.1+ MB\n"
     ]
    },
    {
     "data": {
      "application/javascript": [
       "\n",
       "            setTimeout(function() {\n",
       "                var nbb_cell_id = 7;\n",
       "                var nbb_unformatted_code = \"stocks.info()\";\n",
       "                var nbb_formatted_code = \"stocks.info()\";\n",
       "                var nbb_cells = Jupyter.notebook.get_cells();\n",
       "                for (var i = 0; i < nbb_cells.length; ++i) {\n",
       "                    if (nbb_cells[i].input_prompt_number == nbb_cell_id) {\n",
       "                        if (nbb_cells[i].get_text() == nbb_unformatted_code) {\n",
       "                             nbb_cells[i].set_text(nbb_formatted_code);\n",
       "                        }\n",
       "                        break;\n",
       "                    }\n",
       "                }\n",
       "            }, 500);\n",
       "            "
      ],
      "text/plain": [
       "<IPython.core.display.Javascript object>"
      ]
     },
     "metadata": {},
     "output_type": "display_data"
    }
   ],
   "source": [
    "stocks.info()"
   ]
  },
  {
   "cell_type": "code",
   "execution_count": 8,
   "metadata": {},
   "outputs": [
    {
     "data": {
      "text/plain": [
       "(40277, 31)"
      ]
     },
     "execution_count": 8,
     "metadata": {},
     "output_type": "execute_result"
    },
    {
     "data": {
      "application/javascript": [
       "\n",
       "            setTimeout(function() {\n",
       "                var nbb_cell_id = 8;\n",
       "                var nbb_unformatted_code = \"stocks.shape\";\n",
       "                var nbb_formatted_code = \"stocks.shape\";\n",
       "                var nbb_cells = Jupyter.notebook.get_cells();\n",
       "                for (var i = 0; i < nbb_cells.length; ++i) {\n",
       "                    if (nbb_cells[i].input_prompt_number == nbb_cell_id) {\n",
       "                        if (nbb_cells[i].get_text() == nbb_unformatted_code) {\n",
       "                             nbb_cells[i].set_text(nbb_formatted_code);\n",
       "                        }\n",
       "                        break;\n",
       "                    }\n",
       "                }\n",
       "            }, 500);\n",
       "            "
      ],
      "text/plain": [
       "<IPython.core.display.Javascript object>"
      ]
     },
     "metadata": {},
     "output_type": "display_data"
    }
   ],
   "source": [
    "stocks.shape"
   ]
  },
  {
   "cell_type": "code",
   "execution_count": 9,
   "metadata": {},
   "outputs": [
    {
     "data": {
      "text/plain": [
       "count    3.941600e+04\n",
       "mean     5.317810e+09\n",
       "std      1.080713e+11\n",
       "min      0.000000e+00\n",
       "25%      7.426350e+07\n",
       "50%      2.117000e+08\n",
       "75%      6.499245e+08\n",
       "max      5.314380e+12\n",
       "Name: cashneq, dtype: float64"
      ]
     },
     "execution_count": 9,
     "metadata": {},
     "output_type": "execute_result"
    },
    {
     "data": {
      "application/javascript": [
       "\n",
       "            setTimeout(function() {\n",
       "                var nbb_cell_id = 9;\n",
       "                var nbb_unformatted_code = \"stocks[\\\"cashneq\\\"].describe()  # here, numbers are given in Millions? go over numbers\";\n",
       "                var nbb_formatted_code = \"stocks[\\\"cashneq\\\"].describe()  # here, numbers are given in Millions? go over numbers\";\n",
       "                var nbb_cells = Jupyter.notebook.get_cells();\n",
       "                for (var i = 0; i < nbb_cells.length; ++i) {\n",
       "                    if (nbb_cells[i].input_prompt_number == nbb_cell_id) {\n",
       "                        if (nbb_cells[i].get_text() == nbb_unformatted_code) {\n",
       "                             nbb_cells[i].set_text(nbb_formatted_code);\n",
       "                        }\n",
       "                        break;\n",
       "                    }\n",
       "                }\n",
       "            }, 500);\n",
       "            "
      ],
      "text/plain": [
       "<IPython.core.display.Javascript object>"
      ]
     },
     "metadata": {},
     "output_type": "display_data"
    }
   ],
   "source": [
    "stocks[\"cashneq\"].describe()  # here, numbers are given in Millions? go over numbers"
   ]
  },
  {
   "cell_type": "code",
   "execution_count": 10,
   "metadata": {},
   "outputs": [
    {
     "data": {
      "image/png": "[encoded data removed]",
      "text/plain": [
       "<Figure size 432x288 with 1 Axes>"
      ]
     },
     "metadata": {
      "needs_background": "light"
     },
     "output_type": "display_data"
    },
    {
     "data": {
      "application/javascript": [
       "\n",
       "            setTimeout(function() {\n",
       "                var nbb_cell_id = 10;\n",
       "                var nbb_unformatted_code = \"a = stocks[\\\"cashneq\\\"].dropna()\\nb = a.apply(np.log10)\\nb[np.isfinite(b)].hist(bins=20)\\nplt.show()\\n\\n# add description on x, y; why does it have NA values? what could it be?\\n# didn't get this well.\\n# log, what does it give?\\n# b[np.isfinite(b)]\";\n",
       "                var nbb_formatted_code = \"a = stocks[\\\"cashneq\\\"].dropna()\\nb = a.apply(np.log10)\\nb[np.isfinite(b)].hist(bins=20)\\nplt.show()\\n\\n# add description on x, y; why does it have NA values? what could it be?\\n# didn't get this well.\\n# log, what does it give?\\n# b[np.isfinite(b)]\";\n",
       "                var nbb_cells = Jupyter.notebook.get_cells();\n",
       "                for (var i = 0; i < nbb_cells.length; ++i) {\n",
       "                    if (nbb_cells[i].input_prompt_number == nbb_cell_id) {\n",
       "                        if (nbb_cells[i].get_text() == nbb_unformatted_code) {\n",
       "                             nbb_cells[i].set_text(nbb_formatted_code);\n",
       "                        }\n",
       "                        break;\n",
       "                    }\n",
       "                }\n",
       "            }, 500);\n",
       "            "
      ],
      "text/plain": [
       "<IPython.core.display.Javascript object>"
      ]
     },
     "metadata": {},
     "output_type": "display_data"
    }
   ],
   "source": [
    "a = stocks[\"cashneq\"].dropna()\n",
    "b = a.apply(np.log10)\n",
    "b[np.isfinite(b)].hist(bins=20)\n",
    "plt.show()\n",
    "\n",
    "# add description on x, y; why does it have NA values? what could it be?\n",
    "# didn't get this well.\n",
    "# log, what does it give?\n",
    "# b[np.isfinite(b)]"
   ]
  },
  {
   "cell_type": "code",
   "execution_count": 11,
   "metadata": {},
   "outputs": [
    {
     "data": {
      "application/javascript": [
       "\n",
       "            setTimeout(function() {\n",
       "                var nbb_cell_id = 11;\n",
       "                var nbb_unformatted_code = \"stocks[\\\"enough_cash\\\"] = np.where(stocks[\\\"cashneq\\\"] > 1000000000, 1, 0) #if more than 1 B yes = 1, if no - 0. instead put \\\"yes\\\", 'no'\\n#  i'm asking more than 1B but why is 0 here, #can delete np.where and 1, 0, will give True or False. \\n# 1 could be for stocks having enough cash, but why 0??\";\n",
       "                var nbb_formatted_code = \"stocks[\\\"enough_cash\\\"] = np.where(\\n    stocks[\\\"cashneq\\\"] > 1000000000, 1, 0\\n)  # if more than 1 B yes = 1, if no - 0. instead put \\\"yes\\\", 'no'\\n#  i'm asking more than 1B but why is 0 here, #can delete np.where and 1, 0, will give True or False.\\n# 1 could be for stocks having enough cash, but why 0??\";\n",
       "                var nbb_cells = Jupyter.notebook.get_cells();\n",
       "                for (var i = 0; i < nbb_cells.length; ++i) {\n",
       "                    if (nbb_cells[i].input_prompt_number == nbb_cell_id) {\n",
       "                        if (nbb_cells[i].get_text() == nbb_unformatted_code) {\n",
       "                             nbb_cells[i].set_text(nbb_formatted_code);\n",
       "                        }\n",
       "                        break;\n",
       "                    }\n",
       "                }\n",
       "            }, 500);\n",
       "            "
      ],
      "text/plain": [
       "<IPython.core.display.Javascript object>"
      ]
     },
     "metadata": {},
     "output_type": "display_data"
    }
   ],
   "source": [
    "stocks[\"enough_cash\"] = np.where(\n",
    "    stocks[\"cashneq\"] > 1000000000, 1, 0\n",
    ")  # if more than 1 B yes = 1, if no - 0. instead put \"yes\", 'no'\n",
    "#  i'm asking more than 1B but why is 0 here, #can delete np.where and 1, 0, will give True or False.\n",
    "# 1 could be for stocks having enough cash, but why 0??"
   ]
  },
  {
   "cell_type": "code",
   "execution_count": 12,
   "metadata": {},
   "outputs": [
    {
     "data": {
      "application/javascript": [
       "\n",
       "            setTimeout(function() {\n",
       "                var nbb_cell_id = 12;\n",
       "                var nbb_unformatted_code = \"df2018 = stocks[stocks[\\\"calendardate\\\"] == \\\"2018-03-31\\\"] #finding every record thats on that date. end of the first quarter. \";\n",
       "                var nbb_formatted_code = \"df2018 = stocks[\\n    stocks[\\\"calendardate\\\"] == \\\"2018-03-31\\\"\\n]  # finding every record thats on that date. end of the first quarter.\";\n",
       "                var nbb_cells = Jupyter.notebook.get_cells();\n",
       "                for (var i = 0; i < nbb_cells.length; ++i) {\n",
       "                    if (nbb_cells[i].input_prompt_number == nbb_cell_id) {\n",
       "                        if (nbb_cells[i].get_text() == nbb_unformatted_code) {\n",
       "                             nbb_cells[i].set_text(nbb_formatted_code);\n",
       "                        }\n",
       "                        break;\n",
       "                    }\n",
       "                }\n",
       "            }, 500);\n",
       "            "
      ],
      "text/plain": [
       "<IPython.core.display.Javascript object>"
      ]
     },
     "metadata": {},
     "output_type": "display_data"
    }
   ],
   "source": [
    "df2018 = stocks[stocks[\"calendardate\"] == \"2018-03-31\"] #finding every record thats on that date. end of the first quarter. \n"
   ]
  },
  {
   "cell_type": "code",
   "execution_count": 13,
   "metadata": {},
   "outputs": [
    {
     "data": {
      "text/html": [
       "<div>\n",
       "<style scoped>\n",
       "    .dataframe tbody tr th:only-of-type {\n",
       "        vertical-align: middle;\n",
       "    }\n",
       "\n",
       "    .dataframe tbody tr th {\n",
       "        vertical-align: top;\n",
       "    }\n",
       "\n",
       "    .dataframe thead th {\n",
       "        text-align: right;\n",
       "    }\n",
       "</style>\n",
       "<table border=\"1\" class=\"dataframe\">\n",
       "  <thead>\n",
       "    <tr style=\"text-align: right;\">\n",
       "      <th></th>\n",
       "      <th>ticker</th>\n",
       "      <th>calendardate</th>\n",
       "      <th>enough_cash</th>\n",
       "      <th>cashneq</th>\n",
       "    </tr>\n",
       "  </thead>\n",
       "  <tbody>\n",
       "    <tr>\n",
       "      <th>8</th>\n",
       "      <td>ZYME</td>\n",
       "      <td>2018-03-31</td>\n",
       "      <td>0</td>\n",
       "      <td>3.098100e+07</td>\n",
       "    </tr>\n",
       "    <tr>\n",
       "      <th>23</th>\n",
       "      <td>ZUO</td>\n",
       "      <td>2018-03-31</td>\n",
       "      <td>0</td>\n",
       "      <td>2.027340e+08</td>\n",
       "    </tr>\n",
       "    <tr>\n",
       "      <th>37</th>\n",
       "      <td>ZTS</td>\n",
       "      <td>2018-03-31</td>\n",
       "      <td>1</td>\n",
       "      <td>1.654000e+09</td>\n",
       "    </tr>\n",
       "    <tr>\n",
       "      <th>58</th>\n",
       "      <td>ZS</td>\n",
       "      <td>2018-03-31</td>\n",
       "      <td>0</td>\n",
       "      <td>2.874430e+08</td>\n",
       "    </tr>\n",
       "    <tr>\n",
       "      <th>72</th>\n",
       "      <td>ZNGA</td>\n",
       "      <td>2018-03-31</td>\n",
       "      <td>0</td>\n",
       "      <td>3.715880e+08</td>\n",
       "    </tr>\n",
       "  </tbody>\n",
       "</table>\n",
       "</div>"
      ],
      "text/plain": [
       "   ticker calendardate  enough_cash       cashneq\n",
       "8    ZYME   2018-03-31            0  3.098100e+07\n",
       "23    ZUO   2018-03-31            0  2.027340e+08\n",
       "37    ZTS   2018-03-31            1  1.654000e+09\n",
       "58     ZS   2018-03-31            0  2.874430e+08\n",
       "72   ZNGA   2018-03-31            0  3.715880e+08"
      ]
     },
     "execution_count": 13,
     "metadata": {},
     "output_type": "execute_result"
    },
    {
     "data": {
      "application/javascript": [
       "\n",
       "            setTimeout(function() {\n",
       "                var nbb_cell_id = 13;\n",
       "                var nbb_unformatted_code = \"df2018[[\\\"ticker\\\", \\\"calendardate\\\", \\\"enough_cash\\\", \\\"cashneq\\\"]].head()\";\n",
       "                var nbb_formatted_code = \"df2018[[\\\"ticker\\\", \\\"calendardate\\\", \\\"enough_cash\\\", \\\"cashneq\\\"]].head()\";\n",
       "                var nbb_cells = Jupyter.notebook.get_cells();\n",
       "                for (var i = 0; i < nbb_cells.length; ++i) {\n",
       "                    if (nbb_cells[i].input_prompt_number == nbb_cell_id) {\n",
       "                        if (nbb_cells[i].get_text() == nbb_unformatted_code) {\n",
       "                             nbb_cells[i].set_text(nbb_formatted_code);\n",
       "                        }\n",
       "                        break;\n",
       "                    }\n",
       "                }\n",
       "            }, 500);\n",
       "            "
      ],
      "text/plain": [
       "<IPython.core.display.Javascript object>"
      ]
     },
     "metadata": {},
     "output_type": "display_data"
    }
   ],
   "source": [
    "df2018[[\"ticker\", \"calendardate\", \"enough_cash\", \"cashneq\"]].head()"
   ]
  },
  {
   "cell_type": "code",
   "execution_count": 14,
   "metadata": {},
   "outputs": [
    {
     "data": {
      "text/plain": [
       "(1985, 32)"
      ]
     },
     "execution_count": 14,
     "metadata": {},
     "output_type": "execute_result"
    },
    {
     "data": {
      "application/javascript": [
       "\n",
       "            setTimeout(function() {\n",
       "                var nbb_cell_id = 14;\n",
       "                var nbb_unformatted_code = \"df2018.shape\";\n",
       "                var nbb_formatted_code = \"df2018.shape\";\n",
       "                var nbb_cells = Jupyter.notebook.get_cells();\n",
       "                for (var i = 0; i < nbb_cells.length; ++i) {\n",
       "                    if (nbb_cells[i].input_prompt_number == nbb_cell_id) {\n",
       "                        if (nbb_cells[i].get_text() == nbb_unformatted_code) {\n",
       "                             nbb_cells[i].set_text(nbb_formatted_code);\n",
       "                        }\n",
       "                        break;\n",
       "                    }\n",
       "                }\n",
       "            }, 500);\n",
       "            "
      ],
      "text/plain": [
       "<IPython.core.display.Javascript object>"
      ]
     },
     "metadata": {},
     "output_type": "display_data"
    }
   ],
   "source": [
    "df2018.shape"
   ]
  },
  {
   "cell_type": "code",
   "execution_count": 15,
   "metadata": {},
   "outputs": [
    {
     "data": {
      "application/javascript": [
       "\n",
       "            setTimeout(function() {\n",
       "                var nbb_cell_id = 15;\n",
       "                var nbb_unformatted_code = \"df2018 = stocks[stocks[\\\"calendardate\\\"] == \\\"2018-03-31\\\"]\\n\\ndf2019 = stocks[stocks[\\\"calendardate\\\"] == \\\"2019-03-31\\\"]\\ndf2019 = df2019.rename(\\n    columns={\\\"price\\\": \\\"price2019\\\", \\\"calendardate\\\": \\\"calendardate2019\\\"}\\n)\\n# from dataframe 2018 took everything, since it's a main one, left all columns in it.\\n# from 2019 chose only:price, calendardate\\n# renamed them into +2019. the column calendardate made equal to the dates i need.\";\n",
       "                var nbb_formatted_code = \"df2018 = stocks[stocks[\\\"calendardate\\\"] == \\\"2018-03-31\\\"]\\n\\ndf2019 = stocks[stocks[\\\"calendardate\\\"] == \\\"2019-03-31\\\"]\\ndf2019 = df2019.rename(\\n    columns={\\\"price\\\": \\\"price2019\\\", \\\"calendardate\\\": \\\"calendardate2019\\\"}\\n)\\n# from dataframe 2018 took everything, since it's a main one, left all columns in it.\\n# from 2019 chose only:price, calendardate\\n# renamed them into +2019. the column calendardate made equal to the dates i need.\";\n",
       "                var nbb_cells = Jupyter.notebook.get_cells();\n",
       "                for (var i = 0; i < nbb_cells.length; ++i) {\n",
       "                    if (nbb_cells[i].input_prompt_number == nbb_cell_id) {\n",
       "                        if (nbb_cells[i].get_text() == nbb_unformatted_code) {\n",
       "                             nbb_cells[i].set_text(nbb_formatted_code);\n",
       "                        }\n",
       "                        break;\n",
       "                    }\n",
       "                }\n",
       "            }, 500);\n",
       "            "
      ],
      "text/plain": [
       "<IPython.core.display.Javascript object>"
      ]
     },
     "metadata": {},
     "output_type": "display_data"
    }
   ],
   "source": [
    "df2018 = stocks[stocks[\"calendardate\"] == \"2018-03-31\"]\n",
    "\n",
    "df2019 = stocks[stocks[\"calendardate\"] == \"2019-03-31\"]\n",
    "df2019 = df2019.rename(\n",
    "    columns={\"price\": \"price2019\", \"calendardate\": \"calendardate2019\"}\n",
    ")\n",
    "# from dataframe 2018 took everything, since it's a main one, left all columns in it.\n",
    "# from 2019 chose only:price, calendardate\n",
    "# renamed them into +2019. the column calendardate made equal to the dates i need."
   ]
  },
  {
   "cell_type": "code",
   "execution_count": 16,
   "metadata": {},
   "outputs": [
    {
     "data": {
      "application/javascript": [
       "\n",
       "            setTimeout(function() {\n",
       "                var nbb_cell_id = 16;\n",
       "                var nbb_unformatted_code = \"# df2019.info()\";\n",
       "                var nbb_formatted_code = \"# df2019.info()\";\n",
       "                var nbb_cells = Jupyter.notebook.get_cells();\n",
       "                for (var i = 0; i < nbb_cells.length; ++i) {\n",
       "                    if (nbb_cells[i].input_prompt_number == nbb_cell_id) {\n",
       "                        if (nbb_cells[i].get_text() == nbb_unformatted_code) {\n",
       "                             nbb_cells[i].set_text(nbb_formatted_code);\n",
       "                        }\n",
       "                        break;\n",
       "                    }\n",
       "                }\n",
       "            }, 500);\n",
       "            "
      ],
      "text/plain": [
       "<IPython.core.display.Javascript object>"
      ]
     },
     "metadata": {},
     "output_type": "display_data"
    }
   ],
   "source": [
    "# df2019.info()"
   ]
  },
  {
   "cell_type": "code",
   "execution_count": 17,
   "metadata": {},
   "outputs": [
    {
     "name": "stdout",
     "output_type": "stream",
     "text": [
      "<class 'pandas.core.frame.DataFrame'>\n",
      "Int64Index: 1985 entries, 0 to 1984\n",
      "Data columns (total 34 columns):\n",
      " #   Column                   Non-Null Count  Dtype  \n",
      "---  ------                   --------------  -----  \n",
      " 0   ticker                   1985 non-null   object \n",
      " 1   revenue                  1982 non-null   float64\n",
      " 2   pb                       1858 non-null   float64\n",
      " 3   debt                     1897 non-null   float64\n",
      " 4   assets                   1897 non-null   float64\n",
      " 5   netmargin                1922 non-null   float64\n",
      " 6   ncfo                     1973 non-null   float64\n",
      " 7   shareswa                 1977 non-null   float64\n",
      " 8   sps                      1974 non-null   float64\n",
      " 9   opinc                    1982 non-null   float64\n",
      " 10  assetsc                  1455 non-null   float64\n",
      " 11  liabilitiesc             1454 non-null   float64\n",
      " 12  price                    1865 non-null   float64\n",
      " 13  calendardate             1985 non-null   object \n",
      " 14  datekey                  1985 non-null   object \n",
      " 15  sharesbas                1928 non-null   float64\n",
      " 16  equity                   1897 non-null   float64\n",
      " 17  receivables              1897 non-null   float64\n",
      " 18  investmentsc             1455 non-null   float64\n",
      " 19  cashneq                  1897 non-null   float64\n",
      " 20  assetsavg                1829 non-null   float64\n",
      " 21  netinccmn                1899 non-null   float64\n",
      " 22  fcfps                    1883 non-null   float64\n",
      " 23  PX_TO_BOOK_RATIO         1858 non-null   float64\n",
      " 24  RETURN_ON_ASSET          1826 non-null   float64\n",
      " 25  OPER_MARGIN              1982 non-null   float64\n",
      " 26  CASH_FLOW_PER_SHARE      1919 non-null   float64\n",
      " 27  REVENUE_PER_SHARE        1927 non-null   float64\n",
      " 28  PX_FREE_CASH_FLOW        1848 non-null   float64\n",
      " 29  quick_ratio              1453 non-null   float64\n",
      " 30  TOT_DEBT_TO_TOTAL_ASSET  1897 non-null   float64\n",
      " 31  enough_cash              1985 non-null   int32  \n",
      " 32  price2019                1947 non-null   float64\n",
      " 33  calendardate2019         1985 non-null   object \n",
      "dtypes: float64(29), int32(1), object(4)\n",
      "memory usage: 504.0+ KB\n"
     ]
    },
    {
     "data": {
      "application/javascript": [
       "\n",
       "            setTimeout(function() {\n",
       "                var nbb_cell_id = 17;\n",
       "                var nbb_unformatted_code = \"df2018 = pd.merge(\\n    df2018,\\n    df2019[[\\\"ticker\\\", \\\"price2019\\\", \\\"calendardate2019\\\"]],\\n    how=\\\"inner\\\",\\n    on=\\\"ticker\\\",\\n)\\ndf2018.info()\\n# merging here df2019 and df2018 two dataframes\";\n",
       "                var nbb_formatted_code = \"df2018 = pd.merge(\\n    df2018,\\n    df2019[[\\\"ticker\\\", \\\"price2019\\\", \\\"calendardate2019\\\"]],\\n    how=\\\"inner\\\",\\n    on=\\\"ticker\\\",\\n)\\ndf2018.info()\\n# merging here df2019 and df2018 two dataframes\";\n",
       "                var nbb_cells = Jupyter.notebook.get_cells();\n",
       "                for (var i = 0; i < nbb_cells.length; ++i) {\n",
       "                    if (nbb_cells[i].input_prompt_number == nbb_cell_id) {\n",
       "                        if (nbb_cells[i].get_text() == nbb_unformatted_code) {\n",
       "                             nbb_cells[i].set_text(nbb_formatted_code);\n",
       "                        }\n",
       "                        break;\n",
       "                    }\n",
       "                }\n",
       "            }, 500);\n",
       "            "
      ],
      "text/plain": [
       "<IPython.core.display.Javascript object>"
      ]
     },
     "metadata": {},
     "output_type": "display_data"
    }
   ],
   "source": [
    "df2018 = pd.merge(\n",
    "    df2018,\n",
    "    df2019[[\"ticker\", \"price2019\", \"calendardate2019\"]],\n",
    "    how=\"inner\",\n",
    "    on=\"ticker\",\n",
    ")\n",
    "df2018.info()\n",
    "# merging here df2019 and df2018 two dataframes"
   ]
  },
  {
   "cell_type": "code",
   "execution_count": 25,
   "metadata": {},
   "outputs": [
    {
     "data": {
      "application/javascript": [
       "\n",
       "            setTimeout(function() {\n",
       "                var nbb_cell_id = 25;\n",
       "                var nbb_unformatted_code = \"df2018 = df2018.dropna()\";\n",
       "                var nbb_formatted_code = \"df2018 = df2018.dropna()\";\n",
       "                var nbb_cells = Jupyter.notebook.get_cells();\n",
       "                for (var i = 0; i < nbb_cells.length; ++i) {\n",
       "                    if (nbb_cells[i].input_prompt_number == nbb_cell_id) {\n",
       "                        if (nbb_cells[i].get_text() == nbb_unformatted_code) {\n",
       "                             nbb_cells[i].set_text(nbb_formatted_code);\n",
       "                        }\n",
       "                        break;\n",
       "                    }\n",
       "                }\n",
       "            }, 500);\n",
       "            "
      ],
      "text/plain": [
       "<IPython.core.display.Javascript object>"
      ]
     },
     "metadata": {},
     "output_type": "display_data"
    }
   ],
   "source": [
    "df2018 = df2018.dropna()\n"
   ]
  },
  {
   "cell_type": "code",
   "execution_count": 28,
   "metadata": {},
   "outputs": [
    {
     "data": {
      "application/javascript": [
       "\n",
       "            setTimeout(function() {\n",
       "                var nbb_cell_id = 28;\n",
       "                var nbb_unformatted_code = \"df2018 = df2018[df2018[\\\"return\\\"] <= 2]\";\n",
       "                var nbb_formatted_code = \"df2018 = df2018[df2018[\\\"return\\\"] <= 2]\";\n",
       "                var nbb_cells = Jupyter.notebook.get_cells();\n",
       "                for (var i = 0; i < nbb_cells.length; ++i) {\n",
       "                    if (nbb_cells[i].input_prompt_number == nbb_cell_id) {\n",
       "                        if (nbb_cells[i].get_text() == nbb_unformatted_code) {\n",
       "                             nbb_cells[i].set_text(nbb_formatted_code);\n",
       "                        }\n",
       "                        break;\n",
       "                    }\n",
       "                }\n",
       "            }, 500);\n",
       "            "
      ],
      "text/plain": [
       "<IPython.core.display.Javascript object>"
      ]
     },
     "metadata": {},
     "output_type": "display_data"
    }
   ],
   "source": [
    "df2018 = df2018[df2018[\"return\"] <= 2]\n"
   ]
  },
  {
   "cell_type": "code",
   "execution_count": 29,
   "metadata": {},
   "outputs": [
    {
     "data": {
      "image/png": "[encoded data removed]",
      "text/plain": [
       "<Figure size 432x288 with 1 Axes>"
      ]
     },
     "metadata": {
      "needs_background": "light"
     },
     "output_type": "display_data"
    },
    {
     "name": "stdout",
     "output_type": "stream",
     "text": [
      "DescribeResult(nobs=1340, minmax=(-0.8544848484848484, 1.9018567639257293), mean=0.09442153640200235, variance=0.11888521649064611, skewness=1.144651524691345, kurtosis=3.1507116856549793)\n"
     ]
    },
    {
     "data": {
      "application/javascript": [
       "\n",
       "            setTimeout(function() {\n",
       "                var nbb_cell_id = 29;\n",
       "                var nbb_unformatted_code = \"df2018[\\\"return\\\"] = (df2018[\\\"price2019\\\"] - df2018[\\\"price\\\"]) / df2018[\\n    \\\"price\\\"\\n]  # looking at the percent difference\\n(100 * df2018[\\\"return\\\"]).hist(bins=30)\\nplt.show()\\nprint(stats.describe(df2018[\\\"return\\\"]))\";\n",
       "                var nbb_formatted_code = \"df2018[\\\"return\\\"] = (df2018[\\\"price2019\\\"] - df2018[\\\"price\\\"]) / df2018[\\n    \\\"price\\\"\\n]  # looking at the percent difference\\n(100 * df2018[\\\"return\\\"]).hist(bins=30)\\nplt.show()\\nprint(stats.describe(df2018[\\\"return\\\"]))\";\n",
       "                var nbb_cells = Jupyter.notebook.get_cells();\n",
       "                for (var i = 0; i < nbb_cells.length; ++i) {\n",
       "                    if (nbb_cells[i].input_prompt_number == nbb_cell_id) {\n",
       "                        if (nbb_cells[i].get_text() == nbb_unformatted_code) {\n",
       "                             nbb_cells[i].set_text(nbb_formatted_code);\n",
       "                        }\n",
       "                        break;\n",
       "                    }\n",
       "                }\n",
       "            }, 500);\n",
       "            "
      ],
      "text/plain": [
       "<IPython.core.display.Javascript object>"
      ]
     },
     "metadata": {},
     "output_type": "display_data"
    }
   ],
   "source": [
    "df2018[\"return\"] = (df2018[\"price2019\"] - df2018[\"price\"]) / df2018[\n",
    "    \"price\"\n",
    "]  # looking at the percent difference\n",
    "(100 * df2018[\"return\"]).hist(bins=30)\n",
    "plt.show()\n",
    "print(stats.describe(df2018[\"return\"]))"
   ]
  },
  {
   "cell_type": "code",
   "execution_count": 23,
   "metadata": {},
   "outputs": [
    {
     "data": {
      "text/html": [
       "<div>\n",
       "<style scoped>\n",
       "    .dataframe tbody tr th:only-of-type {\n",
       "        vertical-align: middle;\n",
       "    }\n",
       "\n",
       "    .dataframe tbody tr th {\n",
       "        vertical-align: top;\n",
       "    }\n",
       "\n",
       "    .dataframe thead th {\n",
       "        text-align: right;\n",
       "    }\n",
       "</style>\n",
       "<table border=\"1\" class=\"dataframe\">\n",
       "  <thead>\n",
       "    <tr style=\"text-align: right;\">\n",
       "      <th></th>\n",
       "      <th>ticker</th>\n",
       "      <th>revenue</th>\n",
       "      <th>pb</th>\n",
       "      <th>debt</th>\n",
       "      <th>assets</th>\n",
       "      <th>netmargin</th>\n",
       "      <th>ncfo</th>\n",
       "      <th>shareswa</th>\n",
       "      <th>sps</th>\n",
       "      <th>opinc</th>\n",
       "      <th>...</th>\n",
       "      <th>OPER_MARGIN</th>\n",
       "      <th>CASH_FLOW_PER_SHARE</th>\n",
       "      <th>REVENUE_PER_SHARE</th>\n",
       "      <th>PX_FREE_CASH_FLOW</th>\n",
       "      <th>quick_ratio</th>\n",
       "      <th>TOT_DEBT_TO_TOTAL_ASSET</th>\n",
       "      <th>enough_cash</th>\n",
       "      <th>price2019</th>\n",
       "      <th>calendardate2019</th>\n",
       "      <th>return</th>\n",
       "    </tr>\n",
       "  </thead>\n",
       "  <tbody>\n",
       "    <tr>\n",
       "      <th>0</th>\n",
       "      <td>ZYME</td>\n",
       "      <td>4.000000e+04</td>\n",
       "      <td>3.238</td>\n",
       "      <td>0.000000e+00</td>\n",
       "      <td>1.135380e+08</td>\n",
       "      <td>-530.100</td>\n",
       "      <td>-1.757100e+07</td>\n",
       "      <td>25459150.0</td>\n",
       "      <td>0.002</td>\n",
       "      <td>-20111000.0</td>\n",
       "      <td>...</td>\n",
       "      <td>-502.775000</td>\n",
       "      <td>-0.690102</td>\n",
       "      <td>0.001571</td>\n",
       "      <td>-52.260870</td>\n",
       "      <td>3.959637</td>\n",
       "      <td>0.000000</td>\n",
       "      <td>0</td>\n",
       "      <td>16.18</td>\n",
       "      <td>2019-03-31</td>\n",
       "      <td>0.346090</td>\n",
       "    </tr>\n",
       "    <tr>\n",
       "      <th>1</th>\n",
       "      <td>ZUO</td>\n",
       "      <td>5.244800e+07</td>\n",
       "      <td>11.461</td>\n",
       "      <td>1.612400e+07</td>\n",
       "      <td>3.068060e+08</td>\n",
       "      <td>-0.339</td>\n",
       "      <td>-7.826000e+06</td>\n",
       "      <td>44886000.0</td>\n",
       "      <td>1.168</td>\n",
       "      <td>-16823000.0</td>\n",
       "      <td>...</td>\n",
       "      <td>-0.320756</td>\n",
       "      <td>-0.076345</td>\n",
       "      <td>0.511647</td>\n",
       "      <td>-25.442536</td>\n",
       "      <td>1.997340</td>\n",
       "      <td>0.052554</td>\n",
       "      <td>0</td>\n",
       "      <td>22.10</td>\n",
       "      <td>2019-03-31</td>\n",
       "      <td>0.147456</td>\n",
       "    </tr>\n",
       "    <tr>\n",
       "      <th>2</th>\n",
       "      <td>ZTS</td>\n",
       "      <td>1.366000e+09</td>\n",
       "      <td>20.675</td>\n",
       "      <td>4.954000e+09</td>\n",
       "      <td>8.690000e+09</td>\n",
       "      <td>0.258</td>\n",
       "      <td>3.890000e+08</td>\n",
       "      <td>485900000.0</td>\n",
       "      <td>2.811</td>\n",
       "      <td>464000000.0</td>\n",
       "      <td>...</td>\n",
       "      <td>0.339678</td>\n",
       "      <td>0.801643</td>\n",
       "      <td>2.815022</td>\n",
       "      <td>29.384236</td>\n",
       "      <td>2.597000</td>\n",
       "      <td>0.570081</td>\n",
       "      <td>1</td>\n",
       "      <td>100.67</td>\n",
       "      <td>2019-03-31</td>\n",
       "      <td>0.205484</td>\n",
       "    </tr>\n",
       "    <tr>\n",
       "      <th>3</th>\n",
       "      <td>ZS</td>\n",
       "      <td>4.916300e+07</td>\n",
       "      <td>14.421</td>\n",
       "      <td>0.000000e+00</td>\n",
       "      <td>4.055380e+08</td>\n",
       "      <td>-0.203</td>\n",
       "      <td>8.117000e+06</td>\n",
       "      <td>73818000.0</td>\n",
       "      <td>0.666</td>\n",
       "      <td>-9024000.0</td>\n",
       "      <td>...</td>\n",
       "      <td>-0.183553</td>\n",
       "      <td>0.069180</td>\n",
       "      <td>0.419009</td>\n",
       "      <td>-145.097087</td>\n",
       "      <td>2.226074</td>\n",
       "      <td>0.000000</td>\n",
       "      <td>0</td>\n",
       "      <td>68.31</td>\n",
       "      <td>2019-03-31</td>\n",
       "      <td>1.285380</td>\n",
       "    </tr>\n",
       "    <tr>\n",
       "      <th>4</th>\n",
       "      <td>ZNGA</td>\n",
       "      <td>2.082320e+08</td>\n",
       "      <td>1.940</td>\n",
       "      <td>0.000000e+00</td>\n",
       "      <td>1.919011e+09</td>\n",
       "      <td>0.027</td>\n",
       "      <td>-3.947000e+06</td>\n",
       "      <td>869627000.0</td>\n",
       "      <td>0.239</td>\n",
       "      <td>4257000.0</td>\n",
       "      <td>...</td>\n",
       "      <td>0.020444</td>\n",
       "      <td>-0.004530</td>\n",
       "      <td>0.238964</td>\n",
       "      <td>36.969697</td>\n",
       "      <td>3.170025</td>\n",
       "      <td>0.000000</td>\n",
       "      <td>0</td>\n",
       "      <td>5.33</td>\n",
       "      <td>2019-03-31</td>\n",
       "      <td>0.456284</td>\n",
       "    </tr>\n",
       "    <tr>\n",
       "      <th>...</th>\n",
       "      <td>...</td>\n",
       "      <td>...</td>\n",
       "      <td>...</td>\n",
       "      <td>...</td>\n",
       "      <td>...</td>\n",
       "      <td>...</td>\n",
       "      <td>...</td>\n",
       "      <td>...</td>\n",
       "      <td>...</td>\n",
       "      <td>...</td>\n",
       "      <td>...</td>\n",
       "      <td>...</td>\n",
       "      <td>...</td>\n",
       "      <td>...</td>\n",
       "      <td>...</td>\n",
       "      <td>...</td>\n",
       "      <td>...</td>\n",
       "      <td>...</td>\n",
       "      <td>...</td>\n",
       "      <td>...</td>\n",
       "      <td>...</td>\n",
       "    </tr>\n",
       "    <tr>\n",
       "      <th>1980</th>\n",
       "      <td>AAON</td>\n",
       "      <td>9.908200e+07</td>\n",
       "      <td>8.534</td>\n",
       "      <td>0.000000e+00</td>\n",
       "      <td>3.069450e+08</td>\n",
       "      <td>0.043</td>\n",
       "      <td>1.074400e+07</td>\n",
       "      <td>52433902.0</td>\n",
       "      <td>1.890</td>\n",
       "      <td>5178000.0</td>\n",
       "      <td>...</td>\n",
       "      <td>0.052260</td>\n",
       "      <td>0.204908</td>\n",
       "      <td>1.889680</td>\n",
       "      <td>141.304348</td>\n",
       "      <td>1.352039</td>\n",
       "      <td>0.000000</td>\n",
       "      <td>0</td>\n",
       "      <td>46.18</td>\n",
       "      <td>2019-03-31</td>\n",
       "      <td>0.184103</td>\n",
       "    </tr>\n",
       "    <tr>\n",
       "      <th>1981</th>\n",
       "      <td>AAN</td>\n",
       "      <td>9.548090e+08</td>\n",
       "      <td>1.859</td>\n",
       "      <td>3.585190e+08</td>\n",
       "      <td>2.719009e+09</td>\n",
       "      <td>0.055</td>\n",
       "      <td>1.965760e+08</td>\n",
       "      <td>70105000.0</td>\n",
       "      <td>13.620</td>\n",
       "      <td>70064000.0</td>\n",
       "      <td>...</td>\n",
       "      <td>0.073380</td>\n",
       "      <td>2.805121</td>\n",
       "      <td>13.625032</td>\n",
       "      <td>16.322242</td>\n",
       "      <td>NaN</td>\n",
       "      <td>0.131856</td>\n",
       "      <td>0</td>\n",
       "      <td>52.60</td>\n",
       "      <td>2019-03-31</td>\n",
       "      <td>0.128755</td>\n",
       "    </tr>\n",
       "    <tr>\n",
       "      <th>1982</th>\n",
       "      <td>AAL</td>\n",
       "      <td>1.040100e+10</td>\n",
       "      <td>-24.150</td>\n",
       "      <td>2.473900e+10</td>\n",
       "      <td>5.328000e+10</td>\n",
       "      <td>0.015</td>\n",
       "      <td>1.800000e+09</td>\n",
       "      <td>473138683.0</td>\n",
       "      <td>21.983</td>\n",
       "      <td>396000000.0</td>\n",
       "      <td>...</td>\n",
       "      <td>0.038073</td>\n",
       "      <td>3.804381</td>\n",
       "      <td>21.982984</td>\n",
       "      <td>-37.354421</td>\n",
       "      <td>0.434737</td>\n",
       "      <td>0.464321</td>\n",
       "      <td>0</td>\n",
       "      <td>31.76</td>\n",
       "      <td>2019-03-31</td>\n",
       "      <td>-0.388761</td>\n",
       "    </tr>\n",
       "    <tr>\n",
       "      <th>1983</th>\n",
       "      <td>AA</td>\n",
       "      <td>3.090000e+09</td>\n",
       "      <td>1.559</td>\n",
       "      <td>1.460000e+09</td>\n",
       "      <td>1.709600e+10</td>\n",
       "      <td>0.063</td>\n",
       "      <td>5.500000e+07</td>\n",
       "      <td>186175616.0</td>\n",
       "      <td>16.597</td>\n",
       "      <td>517000000.0</td>\n",
       "      <td>...</td>\n",
       "      <td>0.167314</td>\n",
       "      <td>0.295420</td>\n",
       "      <td>16.597233</td>\n",
       "      <td>10.502219</td>\n",
       "      <td>0.738239</td>\n",
       "      <td>0.085400</td>\n",
       "      <td>1</td>\n",
       "      <td>28.16</td>\n",
       "      <td>2019-03-31</td>\n",
       "      <td>-0.373665</td>\n",
       "    </tr>\n",
       "    <tr>\n",
       "      <th>1984</th>\n",
       "      <td>A</td>\n",
       "      <td>1.206000e+09</td>\n",
       "      <td>4.596</td>\n",
       "      <td>2.115000e+09</td>\n",
       "      <td>8.784000e+09</td>\n",
       "      <td>0.170</td>\n",
       "      <td>3.030000e+08</td>\n",
       "      <td>322000000.0</td>\n",
       "      <td>3.745</td>\n",
       "      <td>210000000.0</td>\n",
       "      <td>...</td>\n",
       "      <td>0.174129</td>\n",
       "      <td>0.939603</td>\n",
       "      <td>3.739806</td>\n",
       "      <td>25.659641</td>\n",
       "      <td>2.758242</td>\n",
       "      <td>0.240779</td>\n",
       "      <td>1</td>\n",
       "      <td>78.50</td>\n",
       "      <td>2019-03-31</td>\n",
       "      <td>0.194098</td>\n",
       "    </tr>\n",
       "  </tbody>\n",
       "</table>\n",
       "<p>1850 rows × 35 columns</p>\n",
       "</div>"
      ],
      "text/plain": [
       "     ticker       revenue      pb          debt        assets  netmargin  \\\n",
       "0      ZYME  4.000000e+04   3.238  0.000000e+00  1.135380e+08   -530.100   \n",
       "1       ZUO  5.244800e+07  11.461  1.612400e+07  3.068060e+08     -0.339   \n",
       "2       ZTS  1.366000e+09  20.675  4.954000e+09  8.690000e+09      0.258   \n",
       "3        ZS  4.916300e+07  14.421  0.000000e+00  4.055380e+08     -0.203   \n",
       "4      ZNGA  2.082320e+08   1.940  0.000000e+00  1.919011e+09      0.027   \n",
       "...     ...           ...     ...           ...           ...        ...   \n",
       "1980   AAON  9.908200e+07   8.534  0.000000e+00  3.069450e+08      0.043   \n",
       "1981    AAN  9.548090e+08   1.859  3.585190e+08  2.719009e+09      0.055   \n",
       "1982    AAL  1.040100e+10 -24.150  2.473900e+10  5.328000e+10      0.015   \n",
       "1983     AA  3.090000e+09   1.559  1.460000e+09  1.709600e+10      0.063   \n",
       "1984      A  1.206000e+09   4.596  2.115000e+09  8.784000e+09      0.170   \n",
       "\n",
       "              ncfo     shareswa     sps        opinc  ...  OPER_MARGIN  \\\n",
       "0    -1.757100e+07   25459150.0   0.002  -20111000.0  ...  -502.775000   \n",
       "1    -7.826000e+06   44886000.0   1.168  -16823000.0  ...    -0.320756   \n",
       "2     3.890000e+08  485900000.0   2.811  464000000.0  ...     0.339678   \n",
       "3     8.117000e+06   73818000.0   0.666   -9024000.0  ...    -0.183553   \n",
       "4    -3.947000e+06  869627000.0   0.239    4257000.0  ...     0.020444   \n",
       "...            ...          ...     ...          ...  ...          ...   \n",
       "1980  1.074400e+07   52433902.0   1.890    5178000.0  ...     0.052260   \n",
       "1981  1.965760e+08   70105000.0  13.620   70064000.0  ...     0.073380   \n",
       "1982  1.800000e+09  473138683.0  21.983  396000000.0  ...     0.038073   \n",
       "1983  5.500000e+07  186175616.0  16.597  517000000.0  ...     0.167314   \n",
       "1984  3.030000e+08  322000000.0   3.745  210000000.0  ...     0.174129   \n",
       "\n",
       "      CASH_FLOW_PER_SHARE  REVENUE_PER_SHARE PX_FREE_CASH_FLOW quick_ratio  \\\n",
       "0               -0.690102           0.001571        -52.260870    3.959637   \n",
       "1               -0.076345           0.511647        -25.442536    1.997340   \n",
       "2                0.801643           2.815022         29.384236    2.597000   \n",
       "3                0.069180           0.419009       -145.097087    2.226074   \n",
       "4               -0.004530           0.238964         36.969697    3.170025   \n",
       "...                   ...                ...               ...         ...   \n",
       "1980             0.204908           1.889680        141.304348    1.352039   \n",
       "1981             2.805121          13.625032         16.322242         NaN   \n",
       "1982             3.804381          21.982984        -37.354421    0.434737   \n",
       "1983             0.295420          16.597233         10.502219    0.738239   \n",
       "1984             0.939603           3.739806         25.659641    2.758242   \n",
       "\n",
       "      TOT_DEBT_TO_TOTAL_ASSET  enough_cash  price2019  calendardate2019  \\\n",
       "0                    0.000000            0      16.18        2019-03-31   \n",
       "1                    0.052554            0      22.10        2019-03-31   \n",
       "2                    0.570081            1     100.67        2019-03-31   \n",
       "3                    0.000000            0      68.31        2019-03-31   \n",
       "4                    0.000000            0       5.33        2019-03-31   \n",
       "...                       ...          ...        ...               ...   \n",
       "1980                 0.000000            0      46.18        2019-03-31   \n",
       "1981                 0.131856            0      52.60        2019-03-31   \n",
       "1982                 0.464321            0      31.76        2019-03-31   \n",
       "1983                 0.085400            1      28.16        2019-03-31   \n",
       "1984                 0.240779            1      78.50        2019-03-31   \n",
       "\n",
       "        return  \n",
       "0     0.346090  \n",
       "1     0.147456  \n",
       "2     0.205484  \n",
       "3     1.285380  \n",
       "4     0.456284  \n",
       "...        ...  \n",
       "1980  0.184103  \n",
       "1981  0.128755  \n",
       "1982 -0.388761  \n",
       "1983 -0.373665  \n",
       "1984  0.194098  \n",
       "\n",
       "[1850 rows x 35 columns]"
      ]
     },
     "execution_count": 23,
     "metadata": {},
     "output_type": "execute_result"
    },
    {
     "data": {
      "application/javascript": [
       "\n",
       "            setTimeout(function() {\n",
       "                var nbb_cell_id = 23;\n",
       "                var nbb_unformatted_code = \"df2018\";\n",
       "                var nbb_formatted_code = \"df2018\";\n",
       "                var nbb_cells = Jupyter.notebook.get_cells();\n",
       "                for (var i = 0; i < nbb_cells.length; ++i) {\n",
       "                    if (nbb_cells[i].input_prompt_number == nbb_cell_id) {\n",
       "                        if (nbb_cells[i].get_text() == nbb_unformatted_code) {\n",
       "                             nbb_cells[i].set_text(nbb_formatted_code);\n",
       "                        }\n",
       "                        break;\n",
       "                    }\n",
       "                }\n",
       "            }, 500);\n",
       "            "
      ],
      "text/plain": [
       "<IPython.core.display.Javascript object>"
      ]
     },
     "metadata": {},
     "output_type": "display_data"
    }
   ],
   "source": [
    "df2018"
   ]
  },
  {
   "cell_type": "code",
   "execution_count": null,
   "metadata": {},
   "outputs": [],
   "source": [
    "(100 * df2018[\"return\"]).plot.box()\n",
    "# do the drop() of more than\n",
    "# drop the high percent change observations\n",
    "\n",
    "# and re-look at the distribution\n",
    "\n",
    "# (skew/kurtosis)"
   ]
  },
  {
   "cell_type": "code",
   "execution_count": null,
   "metadata": {
    "scrolled": true
   },
   "outputs": [],
   "source": [
    "\n"
   ]
  },
  {
   "cell_type": "code",
   "execution_count": null,
   "metadata": {
    "scrolled": false
   },
   "outputs": [],
   "source": [
    "plt.plot(df2018[\"cashneq\"], df2018[\"return\"], \"o\")\n",
    "plt.show()\n",
    "print(stats.describe(df2018[\"cashneq\"]))\n"
   ]
  },
  {
   "cell_type": "code",
   "execution_count": null,
   "metadata": {},
   "outputs": [],
   "source": [
    "df2018[df2018[\"return\"] > 4]"
   ]
  },
  {
   "cell_type": "code",
   "execution_count": null,
   "metadata": {},
   "outputs": [],
   "source": [
    "df2018[df2018[\"enough_cash\"] == 1] #for dropping the high % of those above"
   ]
  },
  {
   "cell_type": "code",
   "execution_count": null,
   "metadata": {},
   "outputs": [],
   "source": [
    "cash_rich = df2018[df2018[\"enough_cash\"] == 1]\n",
    "plt.plot(cash_rich[\"cashneq\"], cash_rich[\"return\"], \"o\")\n",
    "plt.show()\n",
    "print(stats.describe(df2018[\"enough_cash\"]))"
   ]
  },
  {
   "cell_type": "code",
   "execution_count": null,
   "metadata": {},
   "outputs": [],
   "source": [
    "# df2018 = df2018.dropna()\n",
    "# print(df2018)"
   ]
  },
  {
   "cell_type": "code",
   "execution_count": null,
   "metadata": {
    "scrolled": false
   },
   "outputs": [],
   "source": [
    "cash_weak = df2018[df2018[\"enough_cash\"] == 0]\n",
    "plt.plot(cash_weak[\"cashneq\"], cash_weak[\"return\"], \"o\")\n",
    "plt.show()\n",
    "print(stats.describe(cash_weak[\"return\"]))"
   ]
  },
  {
   "cell_type": "code",
   "execution_count": null,
   "metadata": {},
   "outputs": [],
   "source": [
    "\n",
    "#paired_pain = pain[[\"audio_book\", \"control\"]]\n",
    "#paired_pain[\"diff\"] = pain[\"audio_book\"] - pain[\"control\"]"
   ]
  },
  {
   "cell_type": "code",
   "execution_count": null,
   "metadata": {},
   "outputs": [],
   "source": [
    "paired_pain[\"diff\"].hist()\n",
    "plt.show()"
   ]
  },
  {
   "cell_type": "code",
   "execution_count": null,
   "metadata": {},
   "outputs": [],
   "source": [
    "# plt.hist(cash_rich[\"cashneq\"], alpha=0.5)\n",
    "# plt.hist(cash_weak[\"cashneq\"], alpha=0.5)\n",
    "# plt.show()"
   ]
  },
  {
   "cell_type": "code",
   "execution_count": null,
   "metadata": {},
   "outputs": [],
   "source": [
    "stats.ttest_ind(cash_rich[\"return\"].dropna(), cash_weak[\"return\"].dropna())"
   ]
  },
  {
   "cell_type": "markdown",
   "metadata": {},
   "source": [
    "ttest shows the significant difference between values, therefore rejecting the null hypotheses. \n",
    "    We see that companies, which have cash and equivalents on hands tend to perform better than those which don't have. We can see the differences in returns in both groups, while companies with no cash loose money when cash_rich companies ACTUALLY DIDN'T GET THE INTERPRETATION OF THIS CHART. \n",
    "    what's the confidence interval here??"
   ]
  },
  {
   "cell_type": "markdown",
   "metadata": {},
   "source": [
    "Non-normal: Mann-Whitney U (independent)"
   ]
  },
  {
   "cell_type": "code",
   "execution_count": null,
   "metadata": {},
   "outputs": [],
   "source": [
    "stats.wilcoxon((cash_rich[\"return\"] - cash_weak[\"return\"]))"
   ]
  },
  {
   "cell_type": "code",
   "execution_count": null,
   "metadata": {},
   "outputs": [],
   "source": [
    "#pvalue less than 0.5 so it's still not normal, what am i gonna do?? conduct a new hypothesis. "
   ]
  }
 ],
 "metadata": {
  "kernelspec": {
   "display_name": "Python 3",
   "language": "python",
   "name": "python3"
  },
  "language_info": {
   "codemirror_mode": {
    "name": "ipython",
    "version": 3
   },
   "file_extension": ".py",
   "mimetype": "text/x-python",
   "name": "python",
   "nbconvert_exporter": "python",
   "pygments_lexer": "ipython3",
   "version": "3.8.3"
  }
 },
 "nbformat": 4,
 "nbformat_minor": 4
}
