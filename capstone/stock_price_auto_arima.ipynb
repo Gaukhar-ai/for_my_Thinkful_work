{
 "cells": [
  {
   "cell_type": "code",
   "execution_count": 1,
   "metadata": {},
   "outputs": [
    {
     "data": {
      "application/javascript": [
       "\n",
       "            setTimeout(function() {\n",
       "                var nbb_cell_id = 1;\n",
       "                var nbb_unformatted_code = \"%reload_ext nb_black\";\n",
       "                var nbb_formatted_code = \"%reload_ext nb_black\";\n",
       "                var nbb_cells = Jupyter.notebook.get_cells();\n",
       "                for (var i = 0; i < nbb_cells.length; ++i) {\n",
       "                    if (nbb_cells[i].input_prompt_number == nbb_cell_id) {\n",
       "                        if (nbb_cells[i].get_text() == nbb_unformatted_code) {\n",
       "                             nbb_cells[i].set_text(nbb_formatted_code);\n",
       "                        }\n",
       "                        break;\n",
       "                    }\n",
       "                }\n",
       "            }, 500);\n",
       "            "
      ],
      "text/plain": [
       "<IPython.core.display.Javascript object>"
      ]
     },
     "metadata": {},
     "output_type": "display_data"
    }
   ],
   "source": [
    "%reload_ext nb_black"
   ]
  },
  {
   "cell_type": "code",
   "execution_count": 2,
   "metadata": {},
   "outputs": [
    {
     "data": {
      "application/javascript": [
       "\n",
       "            setTimeout(function() {\n",
       "                var nbb_cell_id = 2;\n",
       "                var nbb_unformatted_code = \"# !pip3 install pmdarima\";\n",
       "                var nbb_formatted_code = \"# !pip3 install pmdarima\";\n",
       "                var nbb_cells = Jupyter.notebook.get_cells();\n",
       "                for (var i = 0; i < nbb_cells.length; ++i) {\n",
       "                    if (nbb_cells[i].input_prompt_number == nbb_cell_id) {\n",
       "                        if (nbb_cells[i].get_text() == nbb_unformatted_code) {\n",
       "                             nbb_cells[i].set_text(nbb_formatted_code);\n",
       "                        }\n",
       "                        break;\n",
       "                    }\n",
       "                }\n",
       "            }, 500);\n",
       "            "
      ],
      "text/plain": [
       "<IPython.core.display.Javascript object>"
      ]
     },
     "metadata": {},
     "output_type": "display_data"
    }
   ],
   "source": [
    "# !pip3 install pmdarima"
   ]
  },
  {
   "cell_type": "code",
   "execution_count": 3,
   "metadata": {},
   "outputs": [
    {
     "data": {
      "application/javascript": [
       "\n",
       "            setTimeout(function() {\n",
       "                var nbb_cell_id = 3;\n",
       "                var nbb_unformatted_code = \"import pandas as pd\\n\\nimport pmdarima as pm\\nfrom pmdarima.model_selection import train_test_split\\n\\nimport matplotlib.pyplot as plt\\n\\n%matplotlib inline\";\n",
       "                var nbb_formatted_code = \"import pandas as pd\\n\\nimport pmdarima as pm\\nfrom pmdarima.model_selection import train_test_split\\n\\nimport matplotlib.pyplot as plt\\n\\n%matplotlib inline\";\n",
       "                var nbb_cells = Jupyter.notebook.get_cells();\n",
       "                for (var i = 0; i < nbb_cells.length; ++i) {\n",
       "                    if (nbb_cells[i].input_prompt_number == nbb_cell_id) {\n",
       "                        if (nbb_cells[i].get_text() == nbb_unformatted_code) {\n",
       "                             nbb_cells[i].set_text(nbb_formatted_code);\n",
       "                        }\n",
       "                        break;\n",
       "                    }\n",
       "                }\n",
       "            }, 500);\n",
       "            "
      ],
      "text/plain": [
       "<IPython.core.display.Javascript object>"
      ]
     },
     "metadata": {},
     "output_type": "display_data"
    }
   ],
   "source": [
    "import pandas as pd\n",
    "\n",
    "import pmdarima as pm\n",
    "from pmdarima.model_selection import train_test_split\n",
    "\n",
    "import matplotlib.pyplot as plt\n",
    "\n",
    "%matplotlib inline"
   ]
  },
  {
   "cell_type": "code",
   "execution_count": 4,
   "metadata": {},
   "outputs": [
    {
     "data": {
      "application/javascript": [
       "\n",
       "            setTimeout(function() {\n",
       "                var nbb_cell_id = 4;\n",
       "                var nbb_unformatted_code = \"data_url = \\\"https://raw.githubusercontent.com/Gaukhar-ai/for_my_Thinkful_work/master/capstone/stock_market_data.csv\\\"\\ndf = pd.read_csv(data_url)\\ndf[\\\"datekey\\\"] = pd.to_datetime(df[\\\"datekey\\\"])\\ndf = df.sort_values(\\\"datekey\\\")\";\n",
       "                var nbb_formatted_code = \"data_url = \\\"https://raw.githubusercontent.com/Gaukhar-ai/for_my_Thinkful_work/master/capstone/stock_market_data.csv\\\"\\ndf = pd.read_csv(data_url)\\ndf[\\\"datekey\\\"] = pd.to_datetime(df[\\\"datekey\\\"])\\ndf = df.sort_values(\\\"datekey\\\")\";\n",
       "                var nbb_cells = Jupyter.notebook.get_cells();\n",
       "                for (var i = 0; i < nbb_cells.length; ++i) {\n",
       "                    if (nbb_cells[i].input_prompt_number == nbb_cell_id) {\n",
       "                        if (nbb_cells[i].get_text() == nbb_unformatted_code) {\n",
       "                             nbb_cells[i].set_text(nbb_formatted_code);\n",
       "                        }\n",
       "                        break;\n",
       "                    }\n",
       "                }\n",
       "            }, 500);\n",
       "            "
      ],
      "text/plain": [
       "<IPython.core.display.Javascript object>"
      ]
     },
     "metadata": {},
     "output_type": "display_data"
    }
   ],
   "source": [
    "data_url = \"https://raw.githubusercontent.com/Gaukhar-ai/for_my_Thinkful_work/master/capstone/stock_market_data.csv\"\n",
    "df = pd.read_csv(data_url)\n",
    "df[\"datekey\"] = pd.to_datetime(df[\"datekey\"])\n",
    "df = df.sort_values(\"datekey\")"
   ]
  },
  {
   "cell_type": "code",
   "execution_count": 5,
   "metadata": {},
   "outputs": [
    {
     "data": {
      "text/plain": [
       "(21, 31)"
      ]
     },
     "execution_count": 5,
     "metadata": {},
     "output_type": "execute_result"
    },
    {
     "data": {
      "application/javascript": [
       "\n",
       "            setTimeout(function() {\n",
       "                var nbb_cell_id = 5;\n",
       "                var nbb_unformatted_code = \"ticker = \\\"AAPL\\\"\\n\\nticker_data = df[df[\\\"ticker\\\"] == ticker]\\nticker_data.shape\";\n",
       "                var nbb_formatted_code = \"ticker = \\\"AAPL\\\"\\n\\nticker_data = df[df[\\\"ticker\\\"] == ticker]\\nticker_data.shape\";\n",
       "                var nbb_cells = Jupyter.notebook.get_cells();\n",
       "                for (var i = 0; i < nbb_cells.length; ++i) {\n",
       "                    if (nbb_cells[i].input_prompt_number == nbb_cell_id) {\n",
       "                        if (nbb_cells[i].get_text() == nbb_unformatted_code) {\n",
       "                             nbb_cells[i].set_text(nbb_formatted_code);\n",
       "                        }\n",
       "                        break;\n",
       "                    }\n",
       "                }\n",
       "            }, 500);\n",
       "            "
      ],
      "text/plain": [
       "<IPython.core.display.Javascript object>"
      ]
     },
     "metadata": {},
     "output_type": "display_data"
    }
   ],
   "source": [
    "ticker = \"AAPL\"\n",
    "\n",
    "ticker_data = df[df[\"ticker\"] == ticker]\n",
    "ticker_data.shape"
   ]
  },
  {
   "cell_type": "code",
   "execution_count": 6,
   "metadata": {},
   "outputs": [
    {
     "data": {
      "application/javascript": [
       "\n",
       "            setTimeout(function() {\n",
       "                var nbb_cell_id = 6;\n",
       "                var nbb_unformatted_code = \"y = ticker_data[[\\\"price\\\"]]\\ny_train, y_test = train_test_split(y)\\n\\nn_train = len(y_train)\\nn_test = len(y_test)\\n\\ntrain_dates = ticker_data[\\\"datekey\\\"][:n_train]\\ntest_dates = ticker_data[\\\"datekey\\\"][n_train:]\";\n",
       "                var nbb_formatted_code = \"y = ticker_data[[\\\"price\\\"]]\\ny_train, y_test = train_test_split(y)\\n\\nn_train = len(y_train)\\nn_test = len(y_test)\\n\\ntrain_dates = ticker_data[\\\"datekey\\\"][:n_train]\\ntest_dates = ticker_data[\\\"datekey\\\"][n_train:]\";\n",
       "                var nbb_cells = Jupyter.notebook.get_cells();\n",
       "                for (var i = 0; i < nbb_cells.length; ++i) {\n",
       "                    if (nbb_cells[i].input_prompt_number == nbb_cell_id) {\n",
       "                        if (nbb_cells[i].get_text() == nbb_unformatted_code) {\n",
       "                             nbb_cells[i].set_text(nbb_formatted_code);\n",
       "                        }\n",
       "                        break;\n",
       "                    }\n",
       "                }\n",
       "            }, 500);\n",
       "            "
      ],
      "text/plain": [
       "<IPython.core.display.Javascript object>"
      ]
     },
     "metadata": {},
     "output_type": "display_data"
    }
   ],
   "source": [
    "y = ticker_data[[\"price\"]]\n",
    "y_train, y_test = train_test_split(y)\n",
    "\n",
    "n_train = len(y_train)\n",
    "n_test = len(y_test)\n",
    "\n",
    "train_dates = ticker_data[\"datekey\"][:n_train]\n",
    "test_dates = ticker_data[\"datekey\"][n_train:]"
   ]
  },
  {
   "cell_type": "code",
   "execution_count": 7,
   "metadata": {},
   "outputs": [
    {
     "name": "stdout",
     "output_type": "stream",
     "text": [
      "Performing stepwise search to minimize aic\n",
      " ARIMA(2,1,2)(1,0,1)[4] intercept   : AIC=inf, Time=0.21 sec\n",
      " ARIMA(0,1,0)(0,0,0)[4] intercept   : AIC=119.099, Time=0.01 sec\n",
      " ARIMA(1,1,0)(1,0,0)[4] intercept   : AIC=122.629, Time=0.04 sec\n",
      " ARIMA(0,1,1)(0,0,1)[4] intercept   : AIC=122.741, Time=0.05 sec\n",
      " ARIMA(0,1,0)(0,0,0)[4]             : AIC=120.179, Time=0.01 sec\n",
      " ARIMA(0,1,0)(1,0,0)[4] intercept   : AIC=120.852, Time=0.03 sec\n",
      " ARIMA(0,1,0)(0,0,1)[4] intercept   : AIC=120.869, Time=0.03 sec\n",
      " ARIMA(0,1,0)(1,0,1)[4] intercept   : AIC=inf, Time=0.15 sec\n",
      " ARIMA(1,1,0)(0,0,0)[4] intercept   : AIC=120.849, Time=0.02 sec\n",
      " ARIMA(0,1,1)(0,0,0)[4] intercept   : AIC=120.932, Time=0.03 sec\n",
      " ARIMA(1,1,1)(0,0,0)[4] intercept   : AIC=122.492, Time=0.05 sec\n",
      "\n",
      "Best model:  ARIMA(0,1,0)(0,0,0)[4] intercept\n",
      "Total fit time: 0.638 seconds\n"
     ]
    },
    {
     "data": {
      "application/javascript": [
       "\n",
       "            setTimeout(function() {\n",
       "                var nbb_cell_id = 7;\n",
       "                var nbb_unformatted_code = \"model = pm.auto_arima(y_train, m=4, suppress_warnings=True, trace=True)\\nforecast = model.predict(n_test)\";\n",
       "                var nbb_formatted_code = \"model = pm.auto_arima(y_train, m=4, suppress_warnings=True, trace=True)\\nforecast = model.predict(n_test)\";\n",
       "                var nbb_cells = Jupyter.notebook.get_cells();\n",
       "                for (var i = 0; i < nbb_cells.length; ++i) {\n",
       "                    if (nbb_cells[i].input_prompt_number == nbb_cell_id) {\n",
       "                        if (nbb_cells[i].get_text() == nbb_unformatted_code) {\n",
       "                             nbb_cells[i].set_text(nbb_formatted_code);\n",
       "                        }\n",
       "                        break;\n",
       "                    }\n",
       "                }\n",
       "            }, 500);\n",
       "            "
      ],
      "text/plain": [
       "<IPython.core.display.Javascript object>"
      ]
     },
     "metadata": {},
     "output_type": "display_data"
    }
   ],
   "source": [
    "model = pm.auto_arima(y_train, m=4, suppress_warnings=True, trace=True)\n",
    "forecast = model.predict(n_test)"
   ]
  },
  {
   "cell_type": "code",
   "execution_count": 8,
   "metadata": {
    "scrolled": true
   },
   "outputs": [
    {
     "data": {
      "image/png": "[encoded data removed]",
      "text/plain": [
       "<Figure size 432x288 with 1 Axes>"
      ]
     },
     "metadata": {
      "needs_background": "light"
     },
     "output_type": "display_data"
    },
    {
     "data": {
      "application/javascript": [
       "\n",
       "            setTimeout(function() {\n",
       "                var nbb_cell_id = 8;\n",
       "                var nbb_unformatted_code = \"plt.plot(train_dates, y_train, label=\\\"Train\\\")\\nplt.plot(test_dates, y_test, label=\\\"Test\\\")\\nplt.plot(test_dates, forecast, label=\\\"Predicted\\\")\\nplt.xticks(rotation=45)\\nplt.title(ticker)\\nplt.legend()\\nplt.show()\";\n",
       "                var nbb_formatted_code = \"plt.plot(train_dates, y_train, label=\\\"Train\\\")\\nplt.plot(test_dates, y_test, label=\\\"Test\\\")\\nplt.plot(test_dates, forecast, label=\\\"Predicted\\\")\\nplt.xticks(rotation=45)\\nplt.title(ticker)\\nplt.legend()\\nplt.show()\";\n",
       "                var nbb_cells = Jupyter.notebook.get_cells();\n",
       "                for (var i = 0; i < nbb_cells.length; ++i) {\n",
       "                    if (nbb_cells[i].input_prompt_number == nbb_cell_id) {\n",
       "                        if (nbb_cells[i].get_text() == nbb_unformatted_code) {\n",
       "                             nbb_cells[i].set_text(nbb_formatted_code);\n",
       "                        }\n",
       "                        break;\n",
       "                    }\n",
       "                }\n",
       "            }, 500);\n",
       "            "
      ],
      "text/plain": [
       "<IPython.core.display.Javascript object>"
      ]
     },
     "metadata": {},
     "output_type": "display_data"
    }
   ],
   "source": [
    "plt.plot(train_dates, y_train, label=\"Train\")\n",
    "plt.plot(test_dates, y_test, label=\"Test\")\n",
    "plt.plot(test_dates, forecast, label=\"Predicted\")\n",
    "plt.xticks(rotation=45)\n",
    "plt.title(ticker)\n",
    "plt.legend()\n",
    "plt.show()"
   ]
  }
 ],
 "metadata": {
  "kernelspec": {
   "display_name": "Python 3",
   "language": "python",
   "name": "python3"
  },
  "language_info": {
   "codemirror_mode": {
    "name": "ipython",
    "version": 3
   },
   "file_extension": ".py",
   "mimetype": "text/x-python",
   "name": "python",
   "nbconvert_exporter": "python",
   "pygments_lexer": "ipython3",
   "version": "3.8.3"
  }
 },
 "nbformat": 4,
 "nbformat_minor": 2
}
