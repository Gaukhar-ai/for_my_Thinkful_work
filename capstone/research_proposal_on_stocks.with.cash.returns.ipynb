{
 "cells": [
  {
   "cell_type": "markdown",
   "metadata": {},
   "source": [
    "Introduction.\n",
    "The data we are working with operates globally, with its original and largest presence in the US.\n",
    "We would like to focus on comparing the difference in average return per year for the companies which have more than 5 B in Cash and Equivalents (A component of Assets representing the amount of currency on hand as well as demand deposits with banks or financial institutions).\n",
    "We are focused on these stocks, as we feel these would be the easiest to observe across the market. \n",
    "Here's the link to the dataset: https://1drv.ms/x/s!AmAo3I0iJ19pdfChlSU7tFao6jA?e=deYah8\n",
    "\n",
    "Hypotheses. Given our general research questions that are based on some interesting observation or outside trend, our next step is to formally state which hypotheses we want to test.\n",
    "\n",
    "Ho – there’s no significant difference between the average price of stocks having the cash of more than 5B by the end of the year versus stocks, which are don't have it. \n",
    "\n",
    "Ha – There is a significant difference between the average price per stocks having more than 5B by the end of the year versus those which don’t have it. \n"
   ]
  },
  {
   "cell_type": "code",
   "execution_count": null,
   "metadata": {},
   "outputs": [],
   "source": []
  }
 ],
 "metadata": {
  "kernelspec": {
   "display_name": "Python 3",
   "language": "python",
   "name": "python3"
  },
  "language_info": {
   "codemirror_mode": {
    "name": "ipython",
    "version": 3
   },
   "file_extension": ".py",
   "mimetype": "text/x-python",
   "name": "python",
   "nbconvert_exporter": "python",
   "pygments_lexer": "ipython3",
   "version": "3.8.3"
  }
 },
 "nbformat": 4,
 "nbformat_minor": 4
}
