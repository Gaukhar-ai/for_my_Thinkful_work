{
 "cells": [
  {
   "cell_type": "code",
   "execution_count": 1,
   "metadata": {},
   "outputs": [
    {
     "data": {
      "application/javascript": [
       "\n",
       "            setTimeout(function() {\n",
       "                var nbb_cell_id = 1;\n",
       "                var nbb_unformatted_code = \"%reload_ext nb_black\";\n",
       "                var nbb_formatted_code = \"%reload_ext nb_black\";\n",
       "                var nbb_cells = Jupyter.notebook.get_cells();\n",
       "                for (var i = 0; i < nbb_cells.length; ++i) {\n",
       "                    if (nbb_cells[i].input_prompt_number == nbb_cell_id) {\n",
       "                        if (nbb_cells[i].get_text() == nbb_unformatted_code) {\n",
       "                             nbb_cells[i].set_text(nbb_formatted_code);\n",
       "                        }\n",
       "                        break;\n",
       "                    }\n",
       "                }\n",
       "            }, 500);\n",
       "            "
      ],
      "text/plain": [
       "<IPython.core.display.Javascript object>"
      ]
     },
     "metadata": {},
     "output_type": "display_data"
    }
   ],
   "source": [
    "%reload_ext nb_black\n"
   ]
  },
  {
   "cell_type": "code",
   "execution_count": 2,
   "metadata": {},
   "outputs": [
    {
     "data": {
      "application/javascript": [
       "\n",
       "            setTimeout(function() {\n",
       "                var nbb_cell_id = 2;\n",
       "                var nbb_unformatted_code = \"import pandas as pd\\nimport numpy as np\\nfrom scipy import stats\\nimport matplotlib.pyplot as plt\\nimport math\\nimport seaborn as sns\\nimport statsmodels.api as sm\\nfrom statsmodels.formula.api import ols\\nfrom statsmodels.stats.anova import AnovaRM\\nfrom statsmodels.stats.multicomp import pairwise_tukeyhsd\\nfrom statsmodels.graphics.gofplots import qqplot\\n\\n\\n%matplotlib inline\\nplt.style.use(\\\"fivethirtyeight\\\")\";\n",
       "                var nbb_formatted_code = \"import pandas as pd\\nimport numpy as np\\nfrom scipy import stats\\nimport matplotlib.pyplot as plt\\nimport math\\nimport seaborn as sns\\nimport statsmodels.api as sm\\nfrom statsmodels.formula.api import ols\\nfrom statsmodels.stats.anova import AnovaRM\\nfrom statsmodels.stats.multicomp import pairwise_tukeyhsd\\nfrom statsmodels.graphics.gofplots import qqplot\\n\\n\\n%matplotlib inline\\nplt.style.use(\\\"fivethirtyeight\\\")\";\n",
       "                var nbb_cells = Jupyter.notebook.get_cells();\n",
       "                for (var i = 0; i < nbb_cells.length; ++i) {\n",
       "                    if (nbb_cells[i].input_prompt_number == nbb_cell_id) {\n",
       "                        if (nbb_cells[i].get_text() == nbb_unformatted_code) {\n",
       "                             nbb_cells[i].set_text(nbb_formatted_code);\n",
       "                        }\n",
       "                        break;\n",
       "                    }\n",
       "                }\n",
       "            }, 500);\n",
       "            "
      ],
      "text/plain": [
       "<IPython.core.display.Javascript object>"
      ]
     },
     "metadata": {},
     "output_type": "display_data"
    }
   ],
   "source": [
    "import pandas as pd\n",
    "import numpy as np\n",
    "from scipy import stats\n",
    "import matplotlib.pyplot as plt\n",
    "import math\n",
    "import seaborn as sns\n",
    "import statsmodels.api as sm\n",
    "from statsmodels.formula.api import ols\n",
    "from statsmodels.stats.anova import AnovaRM\n",
    "from statsmodels.stats.multicomp import pairwise_tukeyhsd\n",
    "from statsmodels.graphics.gofplots import qqplot\n",
    "\n",
    "\n",
    "%matplotlib inline\n",
    "plt.style.use(\"fivethirtyeight\")"
   ]
  },
  {
   "cell_type": "code",
   "execution_count": 3,
   "metadata": {},
   "outputs": [
    {
     "data": {
      "application/javascript": [
       "\n",
       "            setTimeout(function() {\n",
       "                var nbb_cell_id = 3;\n",
       "                var nbb_unformatted_code = \"def get_95_ci(x1, x2):\\n    \\\"\\\"\\\"Calculate a 95% CI for 2 1d numpy arrays\\\"\\\"\\\"\\n    signal = x1.mean() - x2.mean()\\n    noise = np.sqrt(x1.var() / x1.size + x2.var() / x2.size)\\n\\n    ci_lo = signal - 1.96 * noise\\n    ci_hi = signal + 1.96 * noise\\n\\n    return ci_lo, ci_hi\\n\\n\\n%matplotlib inline\";\n",
       "                var nbb_formatted_code = \"def get_95_ci(x1, x2):\\n    \\\"\\\"\\\"Calculate a 95% CI for 2 1d numpy arrays\\\"\\\"\\\"\\n    signal = x1.mean() - x2.mean()\\n    noise = np.sqrt(x1.var() / x1.size + x2.var() / x2.size)\\n\\n    ci_lo = signal - 1.96 * noise\\n    ci_hi = signal + 1.96 * noise\\n\\n    return ci_lo, ci_hi\\n\\n\\n%matplotlib inline\";\n",
       "                var nbb_cells = Jupyter.notebook.get_cells();\n",
       "                for (var i = 0; i < nbb_cells.length; ++i) {\n",
       "                    if (nbb_cells[i].input_prompt_number == nbb_cell_id) {\n",
       "                        if (nbb_cells[i].get_text() == nbb_unformatted_code) {\n",
       "                             nbb_cells[i].set_text(nbb_formatted_code);\n",
       "                        }\n",
       "                        break;\n",
       "                    }\n",
       "                }\n",
       "            }, 500);\n",
       "            "
      ],
      "text/plain": [
       "<IPython.core.display.Javascript object>"
      ]
     },
     "metadata": {},
     "output_type": "display_data"
    }
   ],
   "source": [
    "def get_95_ci(x1, x2):\n",
    "    \"\"\"Calculate a 95% CI for 2 1d numpy arrays\"\"\"\n",
    "    signal = x1.mean() - x2.mean()\n",
    "    noise = np.sqrt(x1.var() / x1.size + x2.var() / x2.size)\n",
    "\n",
    "    ci_lo = signal - 1.96 * noise\n",
    "    ci_hi = signal + 1.96 * noise\n",
    "\n",
    "    return ci_lo, ci_hi\n",
    "\n",
    "\n",
    "%matplotlib inline"
   ]
  },
  {
   "cell_type": "code",
   "execution_count": 4,
   "metadata": {},
   "outputs": [
    {
     "data": {
      "text/html": [
       "<div>\n",
       "<style scoped>\n",
       "    .dataframe tbody tr th:only-of-type {\n",
       "        vertical-align: middle;\n",
       "    }\n",
       "\n",
       "    .dataframe tbody tr th {\n",
       "        vertical-align: top;\n",
       "    }\n",
       "\n",
       "    .dataframe thead th {\n",
       "        text-align: right;\n",
       "    }\n",
       "</style>\n",
       "<table border=\"1\" class=\"dataframe\">\n",
       "  <thead>\n",
       "    <tr style=\"text-align: right;\">\n",
       "      <th></th>\n",
       "      <th>ticker</th>\n",
       "      <th>revenue</th>\n",
       "      <th>pb</th>\n",
       "      <th>debt</th>\n",
       "      <th>assets</th>\n",
       "      <th>netmargin</th>\n",
       "      <th>ncfo</th>\n",
       "      <th>shareswa</th>\n",
       "      <th>sps</th>\n",
       "      <th>opinc</th>\n",
       "      <th>...</th>\n",
       "      <th>netinccmn</th>\n",
       "      <th>fcfps</th>\n",
       "      <th>PX_TO_BOOK_RATIO</th>\n",
       "      <th>RETURN_ON_ASSET</th>\n",
       "      <th>OPER_MARGIN</th>\n",
       "      <th>CASH_FLOW_PER_SHARE</th>\n",
       "      <th>REVENUE_PER_SHARE</th>\n",
       "      <th>PX_FREE_CASH_FLOW</th>\n",
       "      <th>quick_ratio</th>\n",
       "      <th>TOT_DEBT_TO_TOTAL_ASSET</th>\n",
       "    </tr>\n",
       "  </thead>\n",
       "  <tbody>\n",
       "    <tr>\n",
       "      <th>0</th>\n",
       "      <td>ZYME</td>\n",
       "      <td>8269000.0</td>\n",
       "      <td>3.091</td>\n",
       "      <td>9007000.0</td>\n",
       "      <td>636578000.0</td>\n",
       "      <td>-3.765</td>\n",
       "      <td>-37487000.0</td>\n",
       "      <td>48686718.0</td>\n",
       "      <td>0.170</td>\n",
       "      <td>-35880000.0</td>\n",
       "      <td>...</td>\n",
       "      <td>-162932000.0</td>\n",
       "      <td>-2.154</td>\n",
       "      <td>3.091</td>\n",
       "      <td>-0.358217</td>\n",
       "      <td>-4.339098</td>\n",
       "      <td>-0.823549</td>\n",
       "      <td>0.181661</td>\n",
       "      <td>-16.467038</td>\n",
       "      <td>6.807722</td>\n",
       "      <td>0.014149</td>\n",
       "    </tr>\n",
       "    <tr>\n",
       "      <th>1</th>\n",
       "      <td>ZYME</td>\n",
       "      <td>1877000.0</td>\n",
       "      <td>7.288</td>\n",
       "      <td>6881000.0</td>\n",
       "      <td>368205000.0</td>\n",
       "      <td>-38.489</td>\n",
       "      <td>-36354000.0</td>\n",
       "      <td>43658717.0</td>\n",
       "      <td>0.043</td>\n",
       "      <td>-73752000.0</td>\n",
       "      <td>...</td>\n",
       "      <td>-145437000.0</td>\n",
       "      <td>-2.319</td>\n",
       "      <td>7.288</td>\n",
       "      <td>-0.409374</td>\n",
       "      <td>-39.292488</td>\n",
       "      <td>-0.922987</td>\n",
       "      <td>0.047655</td>\n",
       "      <td>-19.603277</td>\n",
       "      <td>3.647265</td>\n",
       "      <td>0.018688</td>\n",
       "    </tr>\n",
       "    <tr>\n",
       "      <th>2</th>\n",
       "      <td>ZYME</td>\n",
       "      <td>7860000.0</td>\n",
       "      <td>3.146</td>\n",
       "      <td>6755000.0</td>\n",
       "      <td>400037000.0</td>\n",
       "      <td>-3.877</td>\n",
       "      <td>-10880000.0</td>\n",
       "      <td>43445379.0</td>\n",
       "      <td>0.181</td>\n",
       "      <td>-33564000.0</td>\n",
       "      <td>...</td>\n",
       "      <td>-63920000.0</td>\n",
       "      <td>0.004</td>\n",
       "      <td>3.146</td>\n",
       "      <td>-0.197080</td>\n",
       "      <td>-4.270229</td>\n",
       "      <td>-0.277127</td>\n",
       "      <td>0.200204</td>\n",
       "      <td>6200.000000</td>\n",
       "      <td>6.678431</td>\n",
       "      <td>0.016886</td>\n",
       "    </tr>\n",
       "    <tr>\n",
       "      <th>3</th>\n",
       "      <td>ZYME</td>\n",
       "      <td>7882000.0</td>\n",
       "      <td>2.112</td>\n",
       "      <td>7829000.0</td>\n",
       "      <td>414547000.0</td>\n",
       "      <td>-3.689</td>\n",
       "      <td>-13317000.0</td>\n",
       "      <td>32837975.0</td>\n",
       "      <td>0.240</td>\n",
       "      <td>-29432000.0</td>\n",
       "      <td>...</td>\n",
       "      <td>-52196000.0</td>\n",
       "      <td>0.028</td>\n",
       "      <td>2.112</td>\n",
       "      <td>-0.191239</td>\n",
       "      <td>-3.734078</td>\n",
       "      <td>-0.415356</td>\n",
       "      <td>0.245839</td>\n",
       "      <td>785.714286</td>\n",
       "      <td>8.874183</td>\n",
       "      <td>0.018886</td>\n",
       "    </tr>\n",
       "    <tr>\n",
       "      <th>4</th>\n",
       "      <td>ZYME</td>\n",
       "      <td>11925000.0</td>\n",
       "      <td>3.048</td>\n",
       "      <td>8065000.0</td>\n",
       "      <td>238279000.0</td>\n",
       "      <td>-1.144</td>\n",
       "      <td>-21302000.0</td>\n",
       "      <td>32020437.0</td>\n",
       "      <td>0.372</td>\n",
       "      <td>-14553000.0</td>\n",
       "      <td>...</td>\n",
       "      <td>-28993000.0</td>\n",
       "      <td>0.616</td>\n",
       "      <td>3.048</td>\n",
       "      <td>-0.130571</td>\n",
       "      <td>-1.220377</td>\n",
       "      <td>-0.665162</td>\n",
       "      <td>0.372362</td>\n",
       "      <td>26.266234</td>\n",
       "      <td>6.440652</td>\n",
       "      <td>0.033847</td>\n",
       "    </tr>\n",
       "  </tbody>\n",
       "</table>\n",
       "<p>5 rows × 31 columns</p>\n",
       "</div>"
      ],
      "text/plain": [
       "  ticker     revenue     pb       debt       assets  netmargin        ncfo  \\\n",
       "0   ZYME   8269000.0  3.091  9007000.0  636578000.0     -3.765 -37487000.0   \n",
       "1   ZYME   1877000.0  7.288  6881000.0  368205000.0    -38.489 -36354000.0   \n",
       "2   ZYME   7860000.0  3.146  6755000.0  400037000.0     -3.877 -10880000.0   \n",
       "3   ZYME   7882000.0  2.112  7829000.0  414547000.0     -3.689 -13317000.0   \n",
       "4   ZYME  11925000.0  3.048  8065000.0  238279000.0     -1.144 -21302000.0   \n",
       "\n",
       "     shareswa    sps       opinc  ...    netinccmn  fcfps  PX_TO_BOOK_RATIO  \\\n",
       "0  48686718.0  0.170 -35880000.0  ... -162932000.0 -2.154             3.091   \n",
       "1  43658717.0  0.043 -73752000.0  ... -145437000.0 -2.319             7.288   \n",
       "2  43445379.0  0.181 -33564000.0  ...  -63920000.0  0.004             3.146   \n",
       "3  32837975.0  0.240 -29432000.0  ...  -52196000.0  0.028             2.112   \n",
       "4  32020437.0  0.372 -14553000.0  ...  -28993000.0  0.616             3.048   \n",
       "\n",
       "  RETURN_ON_ASSET OPER_MARGIN  CASH_FLOW_PER_SHARE  REVENUE_PER_SHARE  \\\n",
       "0       -0.358217   -4.339098            -0.823549           0.181661   \n",
       "1       -0.409374  -39.292488            -0.922987           0.047655   \n",
       "2       -0.197080   -4.270229            -0.277127           0.200204   \n",
       "3       -0.191239   -3.734078            -0.415356           0.245839   \n",
       "4       -0.130571   -1.220377            -0.665162           0.372362   \n",
       "\n",
       "   PX_FREE_CASH_FLOW  quick_ratio  TOT_DEBT_TO_TOTAL_ASSET  \n",
       "0         -16.467038     6.807722                 0.014149  \n",
       "1         -19.603277     3.647265                 0.018688  \n",
       "2        6200.000000     6.678431                 0.016886  \n",
       "3         785.714286     8.874183                 0.018886  \n",
       "4          26.266234     6.440652                 0.033847  \n",
       "\n",
       "[5 rows x 31 columns]"
      ]
     },
     "execution_count": 4,
     "metadata": {},
     "output_type": "execute_result"
    },
    {
     "data": {
      "application/javascript": [
       "\n",
       "            setTimeout(function() {\n",
       "                var nbb_cell_id = 4;\n",
       "                var nbb_unformatted_code = \"stocks = pd.read_csv(r\\\"C:\\\\Users\\\\GaukharJavarova\\\\Downloads\\\\aggdata.csv\\\")\\nstocks.head()\";\n",
       "                var nbb_formatted_code = \"stocks = pd.read_csv(r\\\"C:\\\\Users\\\\GaukharJavarova\\\\Downloads\\\\aggdata.csv\\\")\\nstocks.head()\";\n",
       "                var nbb_cells = Jupyter.notebook.get_cells();\n",
       "                for (var i = 0; i < nbb_cells.length; ++i) {\n",
       "                    if (nbb_cells[i].input_prompt_number == nbb_cell_id) {\n",
       "                        if (nbb_cells[i].get_text() == nbb_unformatted_code) {\n",
       "                             nbb_cells[i].set_text(nbb_formatted_code);\n",
       "                        }\n",
       "                        break;\n",
       "                    }\n",
       "                }\n",
       "            }, 500);\n",
       "            "
      ],
      "text/plain": [
       "<IPython.core.display.Javascript object>"
      ]
     },
     "metadata": {},
     "output_type": "display_data"
    }
   ],
   "source": [
    "stocks = pd.read_csv(r\"C:\\Users\\GaukharJavarova\\Downloads\\aggdata.csv\")\n",
    "stocks.head()"
   ]
  },
  {
   "cell_type": "code",
   "execution_count": 5,
   "metadata": {},
   "outputs": [
    {
     "name": "stdout",
     "output_type": "stream",
     "text": [
      "<class 'pandas.core.frame.DataFrame'>\n",
      "RangeIndex: 40277 entries, 0 to 40276\n",
      "Data columns (total 31 columns):\n",
      " #   Column                   Non-Null Count  Dtype  \n",
      "---  ------                   --------------  -----  \n",
      " 0   ticker                   40277 non-null  object \n",
      " 1   revenue                  39949 non-null  float64\n",
      " 2   pb                       38433 non-null  float64\n",
      " 3   debt                     39416 non-null  float64\n",
      " 4   assets                   39416 non-null  float64\n",
      " 5   netmargin                38980 non-null  float64\n",
      " 6   ncfo                     39683 non-null  float64\n",
      " 7   shareswa                 40072 non-null  float64\n",
      " 8   sps                      39800 non-null  float64\n",
      " 9   opinc                    39949 non-null  float64\n",
      " 10  assetsc                  30302 non-null  float64\n",
      " 11  liabilitiesc             30265 non-null  float64\n",
      " 12  price                    38513 non-null  float64\n",
      " 13  calendardate             40277 non-null  object \n",
      " 14  datekey                  40277 non-null  object \n",
      " 15  sharesbas                39366 non-null  float64\n",
      " 16  equity                   39416 non-null  float64\n",
      " 17  receivables              39416 non-null  float64\n",
      " 18  investmentsc             30302 non-null  float64\n",
      " 19  cashneq                  39416 non-null  float64\n",
      " 20  assetsavg                38295 non-null  float64\n",
      " 21  netinccmn                39296 non-null  float64\n",
      " 22  fcfps                    39010 non-null  float64\n",
      " 23  PX_TO_BOOK_RATIO         38433 non-null  float64\n",
      " 24  RETURN_ON_ASSET          38240 non-null  float64\n",
      " 25  OPER_MARGIN              39941 non-null  float64\n",
      " 26  CASH_FLOW_PER_SHARE      39086 non-null  float64\n",
      " 27  REVENUE_PER_SHARE        39263 non-null  float64\n",
      " 28  PX_FREE_CASH_FLOW        38194 non-null  float64\n",
      " 29  quick_ratio              30261 non-null  float64\n",
      " 30  TOT_DEBT_TO_TOTAL_ASSET  39412 non-null  float64\n",
      "dtypes: float64(28), object(3)\n",
      "memory usage: 9.1+ MB\n"
     ]
    },
    {
     "data": {
      "application/javascript": [
       "\n",
       "            setTimeout(function() {\n",
       "                var nbb_cell_id = 5;\n",
       "                var nbb_unformatted_code = \"stocks.info()\";\n",
       "                var nbb_formatted_code = \"stocks.info()\";\n",
       "                var nbb_cells = Jupyter.notebook.get_cells();\n",
       "                for (var i = 0; i < nbb_cells.length; ++i) {\n",
       "                    if (nbb_cells[i].input_prompt_number == nbb_cell_id) {\n",
       "                        if (nbb_cells[i].get_text() == nbb_unformatted_code) {\n",
       "                             nbb_cells[i].set_text(nbb_formatted_code);\n",
       "                        }\n",
       "                        break;\n",
       "                    }\n",
       "                }\n",
       "            }, 500);\n",
       "            "
      ],
      "text/plain": [
       "<IPython.core.display.Javascript object>"
      ]
     },
     "metadata": {},
     "output_type": "display_data"
    }
   ],
   "source": [
    "stocks.info()\n"
   ]
  },
  {
   "cell_type": "code",
   "execution_count": 6,
   "metadata": {},
   "outputs": [
    {
     "data": {
      "text/plain": [
       "count    3.941600e+04\n",
       "mean     2.017409e+10\n",
       "std      4.820675e+11\n",
       "min      0.000000e+00\n",
       "25%      2.277842e+08\n",
       "50%      1.087250e+09\n",
       "75%      3.610550e+09\n",
       "max      2.090531e+13\n",
       "Name: debt, dtype: float64"
      ]
     },
     "execution_count": 6,
     "metadata": {},
     "output_type": "execute_result"
    },
    {
     "data": {
      "application/javascript": [
       "\n",
       "            setTimeout(function() {\n",
       "                var nbb_cell_id = 6;\n",
       "                var nbb_unformatted_code = \"stocks[\\\"debt\\\"].describe() #how debt is distributed among all the companies. \\n#count = 3.941600e+04 = 39.416,000,000\\n#mean = 2.017409e+10 = 20,174,090,000,000,000\\n#50% = 1.087250e+09 = 1.087,250,000,000,000    ???????????????????????????????????? check to make sure\";\n",
       "                var nbb_formatted_code = \"stocks[\\\"debt\\\"].describe()  # how debt is distributed among all the companies.\\n# count = 3.941600e+04 = 39.416,000,000\\n# mean = 2.017409e+10 = 20,174,090,000,000,000\\n# 50% = 1.087250e+09 = 1.087,250,000,000,000    ???????????????????????????????????? check to make sure\";\n",
       "                var nbb_cells = Jupyter.notebook.get_cells();\n",
       "                for (var i = 0; i < nbb_cells.length; ++i) {\n",
       "                    if (nbb_cells[i].input_prompt_number == nbb_cell_id) {\n",
       "                        if (nbb_cells[i].get_text() == nbb_unformatted_code) {\n",
       "                             nbb_cells[i].set_text(nbb_formatted_code);\n",
       "                        }\n",
       "                        break;\n",
       "                    }\n",
       "                }\n",
       "            }, 500);\n",
       "            "
      ],
      "text/plain": [
       "<IPython.core.display.Javascript object>"
      ]
     },
     "metadata": {},
     "output_type": "display_data"
    }
   ],
   "source": [
    "stocks[\"debt\"].describe() #how debt is distributed among all the companies. \n",
    "#count = 3.941600e+04 = 39.416,000,000\n",
    "#mean = 2.017409e+10 = 20,174,090,000,000,000\n",
    "#50% = 1.087250e+09 = 1.087,250,000,000,000    ???????????????????????????????????? check to make sure\n"
   ]
  },
  {
   "cell_type": "code",
   "execution_count": 7,
   "metadata": {},
   "outputs": [
    {
     "data": {
      "image/png": "[encoded data removed]",
      "text/plain": [
       "<Figure size 432x288 with 1 Axes>"
      ]
     },
     "metadata": {
      "needs_background": "light"
     },
     "output_type": "display_data"
    },
    {
     "data": {
      "application/javascript": [
       "\n",
       "            setTimeout(function() {\n",
       "                var nbb_cell_id = 7;\n",
       "                var nbb_unformatted_code = \"a = stocks[\\\"debt\\\"].dropna()\\nb = a.apply(np.log10)\\nb[np.isfinite(b)].hist(bins=40)\\nplt.xlabel(\\\"log 10 of debt\\\")\\nplt.ylabel(\\\"number of quarters\\\")\\nplt.show()\";\n",
       "                var nbb_formatted_code = \"a = stocks[\\\"debt\\\"].dropna()\\nb = a.apply(np.log10)\\nb[np.isfinite(b)].hist(bins=40)\\nplt.xlabel(\\\"log 10 of debt\\\")\\nplt.ylabel(\\\"number of quarters\\\")\\nplt.show()\";\n",
       "                var nbb_cells = Jupyter.notebook.get_cells();\n",
       "                for (var i = 0; i < nbb_cells.length; ++i) {\n",
       "                    if (nbb_cells[i].input_prompt_number == nbb_cell_id) {\n",
       "                        if (nbb_cells[i].get_text() == nbb_unformatted_code) {\n",
       "                             nbb_cells[i].set_text(nbb_formatted_code);\n",
       "                        }\n",
       "                        break;\n",
       "                    }\n",
       "                }\n",
       "            }, 500);\n",
       "            "
      ],
      "text/plain": [
       "<IPython.core.display.Javascript object>"
      ]
     },
     "metadata": {},
     "output_type": "display_data"
    }
   ],
   "source": [
    "a = stocks[\"debt\"].dropna()\n",
    "b = a.apply(np.log10)\n",
    "b[np.isfinite(b)].hist(bins=40)\n",
    "plt.xlabel(\"log 10 of debt\")\n",
    "plt.ylabel(\"number of quarters\")\n",
    "plt.show()"
   ]
  },
  {
   "cell_type": "code",
   "execution_count": 8,
   "metadata": {},
   "outputs": [
    {
     "data": {
      "application/javascript": [
       "\n",
       "            setTimeout(function() {\n",
       "                var nbb_cell_id = 8;\n",
       "                var nbb_unformatted_code = \"stocks[\\\"debt_heavy\\\"] = np.where(stocks[\\\"debt\\\"] > 100000000, 1, 0)\";\n",
       "                var nbb_formatted_code = \"stocks[\\\"debt_heavy\\\"] = np.where(stocks[\\\"debt\\\"] > 100000000, 1, 0)\";\n",
       "                var nbb_cells = Jupyter.notebook.get_cells();\n",
       "                for (var i = 0; i < nbb_cells.length; ++i) {\n",
       "                    if (nbb_cells[i].input_prompt_number == nbb_cell_id) {\n",
       "                        if (nbb_cells[i].get_text() == nbb_unformatted_code) {\n",
       "                             nbb_cells[i].set_text(nbb_formatted_code);\n",
       "                        }\n",
       "                        break;\n",
       "                    }\n",
       "                }\n",
       "            }, 500);\n",
       "            "
      ],
      "text/plain": [
       "<IPython.core.display.Javascript object>"
      ]
     },
     "metadata": {},
     "output_type": "display_data"
    }
   ],
   "source": [
    "stocks[\"debt_heavy\"] = np.where(stocks[\"debt\"] > 100000000, 1, 0)\n",
    "\n"
   ]
  },
  {
   "cell_type": "code",
   "execution_count": 9,
   "metadata": {},
   "outputs": [
    {
     "data": {
      "application/javascript": [
       "\n",
       "            setTimeout(function() {\n",
       "                var nbb_cell_id = 9;\n",
       "                var nbb_unformatted_code = \"stocks[\\\"assets_heavy\\\"] = np.where(stocks[\\\"assets\\\"] > 100000000, 1, 0)\";\n",
       "                var nbb_formatted_code = \"stocks[\\\"assets_heavy\\\"] = np.where(stocks[\\\"assets\\\"] > 100000000, 1, 0)\";\n",
       "                var nbb_cells = Jupyter.notebook.get_cells();\n",
       "                for (var i = 0; i < nbb_cells.length; ++i) {\n",
       "                    if (nbb_cells[i].input_prompt_number == nbb_cell_id) {\n",
       "                        if (nbb_cells[i].get_text() == nbb_unformatted_code) {\n",
       "                             nbb_cells[i].set_text(nbb_formatted_code);\n",
       "                        }\n",
       "                        break;\n",
       "                    }\n",
       "                }\n",
       "            }, 500);\n",
       "            "
      ],
      "text/plain": [
       "<IPython.core.display.Javascript object>"
      ]
     },
     "metadata": {},
     "output_type": "display_data"
    }
   ],
   "source": [
    "stocks[\"assets_heavy\"] = np.where(stocks[\"assets\"] > 100000000, 1, 0)"
   ]
  },
  {
   "cell_type": "code",
   "execution_count": 10,
   "metadata": {},
   "outputs": [
    {
     "data": {
      "application/javascript": [
       "\n",
       "            setTimeout(function() {\n",
       "                var nbb_cell_id = 10;\n",
       "                var nbb_unformatted_code = \"df2018 = stocks[stocks[\\\"calendardate\\\"] == \\\"2018-03-31\\\"]\";\n",
       "                var nbb_formatted_code = \"df2018 = stocks[stocks[\\\"calendardate\\\"] == \\\"2018-03-31\\\"]\";\n",
       "                var nbb_cells = Jupyter.notebook.get_cells();\n",
       "                for (var i = 0; i < nbb_cells.length; ++i) {\n",
       "                    if (nbb_cells[i].input_prompt_number == nbb_cell_id) {\n",
       "                        if (nbb_cells[i].get_text() == nbb_unformatted_code) {\n",
       "                             nbb_cells[i].set_text(nbb_formatted_code);\n",
       "                        }\n",
       "                        break;\n",
       "                    }\n",
       "                }\n",
       "            }, 500);\n",
       "            "
      ],
      "text/plain": [
       "<IPython.core.display.Javascript object>"
      ]
     },
     "metadata": {},
     "output_type": "display_data"
    }
   ],
   "source": [
    "df2018 = stocks[stocks[\"calendardate\"] == \"2018-03-31\"]"
   ]
  },
  {
   "cell_type": "code",
   "execution_count": 11,
   "metadata": {},
   "outputs": [
    {
     "data": {
      "text/html": [
       "<div>\n",
       "<style scoped>\n",
       "    .dataframe tbody tr th:only-of-type {\n",
       "        vertical-align: middle;\n",
       "    }\n",
       "\n",
       "    .dataframe tbody tr th {\n",
       "        vertical-align: top;\n",
       "    }\n",
       "\n",
       "    .dataframe thead th {\n",
       "        text-align: right;\n",
       "    }\n",
       "</style>\n",
       "<table border=\"1\" class=\"dataframe\">\n",
       "  <thead>\n",
       "    <tr style=\"text-align: right;\">\n",
       "      <th></th>\n",
       "      <th>debt_heavy</th>\n",
       "      <th>debt</th>\n",
       "      <th>ticker</th>\n",
       "      <th>calendardate</th>\n",
       "      <th>assets</th>\n",
       "    </tr>\n",
       "  </thead>\n",
       "  <tbody>\n",
       "    <tr>\n",
       "      <th>8</th>\n",
       "      <td>0</td>\n",
       "      <td>0.000000e+00</td>\n",
       "      <td>ZYME</td>\n",
       "      <td>2018-03-31</td>\n",
       "      <td>1.135380e+08</td>\n",
       "    </tr>\n",
       "    <tr>\n",
       "      <th>23</th>\n",
       "      <td>0</td>\n",
       "      <td>1.612400e+07</td>\n",
       "      <td>ZUO</td>\n",
       "      <td>2018-03-31</td>\n",
       "      <td>3.068060e+08</td>\n",
       "    </tr>\n",
       "    <tr>\n",
       "      <th>37</th>\n",
       "      <td>1</td>\n",
       "      <td>4.954000e+09</td>\n",
       "      <td>ZTS</td>\n",
       "      <td>2018-03-31</td>\n",
       "      <td>8.690000e+09</td>\n",
       "    </tr>\n",
       "    <tr>\n",
       "      <th>58</th>\n",
       "      <td>0</td>\n",
       "      <td>0.000000e+00</td>\n",
       "      <td>ZS</td>\n",
       "      <td>2018-03-31</td>\n",
       "      <td>4.055380e+08</td>\n",
       "    </tr>\n",
       "    <tr>\n",
       "      <th>72</th>\n",
       "      <td>0</td>\n",
       "      <td>0.000000e+00</td>\n",
       "      <td>ZNGA</td>\n",
       "      <td>2018-03-31</td>\n",
       "      <td>1.919011e+09</td>\n",
       "    </tr>\n",
       "  </tbody>\n",
       "</table>\n",
       "</div>"
      ],
      "text/plain": [
       "    debt_heavy          debt ticker calendardate        assets\n",
       "8            0  0.000000e+00   ZYME   2018-03-31  1.135380e+08\n",
       "23           0  1.612400e+07    ZUO   2018-03-31  3.068060e+08\n",
       "37           1  4.954000e+09    ZTS   2018-03-31  8.690000e+09\n",
       "58           0  0.000000e+00     ZS   2018-03-31  4.055380e+08\n",
       "72           0  0.000000e+00   ZNGA   2018-03-31  1.919011e+09"
      ]
     },
     "execution_count": 11,
     "metadata": {},
     "output_type": "execute_result"
    },
    {
     "data": {
      "application/javascript": [
       "\n",
       "            setTimeout(function() {\n",
       "                var nbb_cell_id = 11;\n",
       "                var nbb_unformatted_code = \"df2018[[\\\"debt_heavy\\\", \\\"debt\\\", \\\"ticker\\\", \\\"calendardate\\\", \\\"assets\\\"]].head()\";\n",
       "                var nbb_formatted_code = \"df2018[[\\\"debt_heavy\\\", \\\"debt\\\", \\\"ticker\\\", \\\"calendardate\\\", \\\"assets\\\"]].head()\";\n",
       "                var nbb_cells = Jupyter.notebook.get_cells();\n",
       "                for (var i = 0; i < nbb_cells.length; ++i) {\n",
       "                    if (nbb_cells[i].input_prompt_number == nbb_cell_id) {\n",
       "                        if (nbb_cells[i].get_text() == nbb_unformatted_code) {\n",
       "                             nbb_cells[i].set_text(nbb_formatted_code);\n",
       "                        }\n",
       "                        break;\n",
       "                    }\n",
       "                }\n",
       "            }, 500);\n",
       "            "
      ],
      "text/plain": [
       "<IPython.core.display.Javascript object>"
      ]
     },
     "metadata": {},
     "output_type": "display_data"
    }
   ],
   "source": [
    "df2018[[\"debt_heavy\", \"debt\", \"ticker\", \"calendardate\", \"assets\"]].head()"
   ]
  },
  {
   "cell_type": "code",
   "execution_count": 12,
   "metadata": {},
   "outputs": [
    {
     "data": {
      "text/plain": [
       "1873"
      ]
     },
     "execution_count": 12,
     "metadata": {},
     "output_type": "execute_result"
    },
    {
     "data": {
      "application/javascript": [
       "\n",
       "            setTimeout(function() {\n",
       "                var nbb_cell_id = 12;\n",
       "                var nbb_unformatted_code = \"df2018[\\\"assets_heavy\\\"].sum()  # total # of assets for df2018\";\n",
       "                var nbb_formatted_code = \"df2018[\\\"assets_heavy\\\"].sum()  # total # of assets for df2018\";\n",
       "                var nbb_cells = Jupyter.notebook.get_cells();\n",
       "                for (var i = 0; i < nbb_cells.length; ++i) {\n",
       "                    if (nbb_cells[i].input_prompt_number == nbb_cell_id) {\n",
       "                        if (nbb_cells[i].get_text() == nbb_unformatted_code) {\n",
       "                             nbb_cells[i].set_text(nbb_formatted_code);\n",
       "                        }\n",
       "                        break;\n",
       "                    }\n",
       "                }\n",
       "            }, 500);\n",
       "            "
      ],
      "text/plain": [
       "<IPython.core.display.Javascript object>"
      ]
     },
     "metadata": {},
     "output_type": "display_data"
    }
   ],
   "source": [
    "df2018[\"assets_heavy\"].sum()  # total # of assets for df2018"
   ]
  },
  {
   "cell_type": "code",
   "execution_count": 13,
   "metadata": {},
   "outputs": [
    {
     "data": {
      "text/plain": [
       "1523"
      ]
     },
     "execution_count": 13,
     "metadata": {},
     "output_type": "execute_result"
    },
    {
     "data": {
      "application/javascript": [
       "\n",
       "            setTimeout(function() {\n",
       "                var nbb_cell_id = 13;\n",
       "                var nbb_unformatted_code = \"df2018[\\\"debt_heavy\\\"].sum()  # total # of debt for df2018\";\n",
       "                var nbb_formatted_code = \"df2018[\\\"debt_heavy\\\"].sum()  # total # of debt for df2018\";\n",
       "                var nbb_cells = Jupyter.notebook.get_cells();\n",
       "                for (var i = 0; i < nbb_cells.length; ++i) {\n",
       "                    if (nbb_cells[i].input_prompt_number == nbb_cell_id) {\n",
       "                        if (nbb_cells[i].get_text() == nbb_unformatted_code) {\n",
       "                             nbb_cells[i].set_text(nbb_formatted_code);\n",
       "                        }\n",
       "                        break;\n",
       "                    }\n",
       "                }\n",
       "            }, 500);\n",
       "            "
      ],
      "text/plain": [
       "<IPython.core.display.Javascript object>"
      ]
     },
     "metadata": {},
     "output_type": "display_data"
    }
   ],
   "source": [
    "df2018[\"debt_heavy\"].sum()  # total # of debt for df2018"
   ]
  },
  {
   "cell_type": "code",
   "execution_count": 14,
   "metadata": {},
   "outputs": [
    {
     "data": {
      "text/plain": [
       "(1985, 33)"
      ]
     },
     "execution_count": 14,
     "metadata": {},
     "output_type": "execute_result"
    },
    {
     "data": {
      "application/javascript": [
       "\n",
       "            setTimeout(function() {\n",
       "                var nbb_cell_id = 14;\n",
       "                var nbb_unformatted_code = \"df2018.shape\";\n",
       "                var nbb_formatted_code = \"df2018.shape\";\n",
       "                var nbb_cells = Jupyter.notebook.get_cells();\n",
       "                for (var i = 0; i < nbb_cells.length; ++i) {\n",
       "                    if (nbb_cells[i].input_prompt_number == nbb_cell_id) {\n",
       "                        if (nbb_cells[i].get_text() == nbb_unformatted_code) {\n",
       "                             nbb_cells[i].set_text(nbb_formatted_code);\n",
       "                        }\n",
       "                        break;\n",
       "                    }\n",
       "                }\n",
       "            }, 500);\n",
       "            "
      ],
      "text/plain": [
       "<IPython.core.display.Javascript object>"
      ]
     },
     "metadata": {},
     "output_type": "display_data"
    }
   ],
   "source": [
    "df2018.shape"
   ]
  },
  {
   "cell_type": "code",
   "execution_count": 25,
   "metadata": {},
   "outputs": [
    {
     "data": {
      "application/javascript": [
       "\n",
       "            setTimeout(function() {\n",
       "                var nbb_cell_id = 25;\n",
       "                var nbb_unformatted_code = \"df2018 = stocks[stocks[\\\"calendardate\\\"] == \\\"2018-03-31\\\"]\\ndf2019 = stocks[stocks[\\\"calendardate\\\"] == \\\"2019-03-31\\\"]\\ndf2019 = df2019.rename(\\n    columns={\\\"debt\\\": \\\"debt2019\\\", \\\"calendardate\\\": \\\"calendardate2019\\\", 'assets': 'assets2019', 'price': \\n            'price2019'}\\n)\";\n",
       "                var nbb_formatted_code = \"df2018 = stocks[stocks[\\\"calendardate\\\"] == \\\"2018-03-31\\\"]\\ndf2019 = stocks[stocks[\\\"calendardate\\\"] == \\\"2019-03-31\\\"]\\ndf2019 = df2019.rename(\\n    columns={\\n        \\\"debt\\\": \\\"debt2019\\\",\\n        \\\"calendardate\\\": \\\"calendardate2019\\\",\\n        \\\"assets\\\": \\\"assets2019\\\",\\n        \\\"price\\\": \\\"price2019\\\",\\n    }\\n)\";\n",
       "                var nbb_cells = Jupyter.notebook.get_cells();\n",
       "                for (var i = 0; i < nbb_cells.length; ++i) {\n",
       "                    if (nbb_cells[i].input_prompt_number == nbb_cell_id) {\n",
       "                        if (nbb_cells[i].get_text() == nbb_unformatted_code) {\n",
       "                             nbb_cells[i].set_text(nbb_formatted_code);\n",
       "                        }\n",
       "                        break;\n",
       "                    }\n",
       "                }\n",
       "            }, 500);\n",
       "            "
      ],
      "text/plain": [
       "<IPython.core.display.Javascript object>"
      ]
     },
     "metadata": {},
     "output_type": "display_data"
    }
   ],
   "source": [
    "df2018 = stocks[stocks[\"calendardate\"] == \"2018-03-31\"]\n",
    "df2019 = stocks[stocks[\"calendardate\"] == \"2019-03-31\"]\n",
    "df2019 = df2019.rename(\n",
    "    columns={\"debt\": \"debt2019\", \"calendardate\": \"calendardate2019\", 'assets': 'assets2019', 'price': \n",
    "            'price2019'}\n",
    ")\n"
   ]
  },
  {
   "cell_type": "code",
   "execution_count": 26,
   "metadata": {},
   "outputs": [
    {
     "name": "stdout",
     "output_type": "stream",
     "text": [
      "<class 'pandas.core.frame.DataFrame'>\n",
      "Int64Index: 1985 entries, 0 to 1984\n",
      "Data columns (total 37 columns):\n",
      " #   Column                   Non-Null Count  Dtype  \n",
      "---  ------                   --------------  -----  \n",
      " 0   ticker                   1985 non-null   object \n",
      " 1   revenue                  1982 non-null   float64\n",
      " 2   pb                       1858 non-null   float64\n",
      " 3   debt                     1897 non-null   float64\n",
      " 4   assets                   1897 non-null   float64\n",
      " 5   netmargin                1922 non-null   float64\n",
      " 6   ncfo                     1973 non-null   float64\n",
      " 7   shareswa                 1977 non-null   float64\n",
      " 8   sps                      1974 non-null   float64\n",
      " 9   opinc                    1982 non-null   float64\n",
      " 10  assetsc                  1455 non-null   float64\n",
      " 11  liabilitiesc             1454 non-null   float64\n",
      " 12  price                    1865 non-null   float64\n",
      " 13  calendardate             1985 non-null   object \n",
      " 14  datekey                  1985 non-null   object \n",
      " 15  sharesbas                1928 non-null   float64\n",
      " 16  equity                   1897 non-null   float64\n",
      " 17  receivables              1897 non-null   float64\n",
      " 18  investmentsc             1455 non-null   float64\n",
      " 19  cashneq                  1897 non-null   float64\n",
      " 20  assetsavg                1829 non-null   float64\n",
      " 21  netinccmn                1899 non-null   float64\n",
      " 22  fcfps                    1883 non-null   float64\n",
      " 23  PX_TO_BOOK_RATIO         1858 non-null   float64\n",
      " 24  RETURN_ON_ASSET          1826 non-null   float64\n",
      " 25  OPER_MARGIN              1982 non-null   float64\n",
      " 26  CASH_FLOW_PER_SHARE      1919 non-null   float64\n",
      " 27  REVENUE_PER_SHARE        1927 non-null   float64\n",
      " 28  PX_FREE_CASH_FLOW        1848 non-null   float64\n",
      " 29  quick_ratio              1453 non-null   float64\n",
      " 30  TOT_DEBT_TO_TOTAL_ASSET  1897 non-null   float64\n",
      " 31  debt_heavy               1985 non-null   int32  \n",
      " 32  assets_heavy             1985 non-null   int32  \n",
      " 33  debt2019                 1985 non-null   float64\n",
      " 34  calendardate2019         1985 non-null   object \n",
      " 35  assets2019               1985 non-null   float64\n",
      " 36  price2019                1947 non-null   float64\n",
      "dtypes: float64(31), int32(2), object(4)\n",
      "memory usage: 542.8+ KB\n"
     ]
    },
    {
     "data": {
      "application/javascript": [
       "\n",
       "            setTimeout(function() {\n",
       "                var nbb_cell_id = 26;\n",
       "                var nbb_unformatted_code = \"df2018 = pd.merge(\\n    df2018,\\n    df2019[[\\\"ticker\\\", \\\"debt2019\\\", \\\"calendardate2019\\\", \\\"assets2019\\\", 'price2019']],\\n    how=\\\"inner\\\",\\n    on=\\\"ticker\\\",\\n)\\ndf2018.info()\";\n",
       "                var nbb_formatted_code = \"df2018 = pd.merge(\\n    df2018,\\n    df2019[[\\\"ticker\\\", \\\"debt2019\\\", \\\"calendardate2019\\\", \\\"assets2019\\\", \\\"price2019\\\"]],\\n    how=\\\"inner\\\",\\n    on=\\\"ticker\\\",\\n)\\ndf2018.info()\";\n",
       "                var nbb_cells = Jupyter.notebook.get_cells();\n",
       "                for (var i = 0; i < nbb_cells.length; ++i) {\n",
       "                    if (nbb_cells[i].input_prompt_number == nbb_cell_id) {\n",
       "                        if (nbb_cells[i].get_text() == nbb_unformatted_code) {\n",
       "                             nbb_cells[i].set_text(nbb_formatted_code);\n",
       "                        }\n",
       "                        break;\n",
       "                    }\n",
       "                }\n",
       "            }, 500);\n",
       "            "
      ],
      "text/plain": [
       "<IPython.core.display.Javascript object>"
      ]
     },
     "metadata": {},
     "output_type": "display_data"
    }
   ],
   "source": [
    "df2018 = pd.merge(\n",
    "    df2018,\n",
    "    df2019[[\"ticker\", \"debt2019\", \"calendardate2019\", \"assets2019\", \"price2019\"]],\n",
    "    how=\"inner\",\n",
    "    on=\"ticker\",\n",
    ")\n",
    "df2018.info()"
   ]
  },
  {
   "cell_type": "code",
   "execution_count": 27,
   "metadata": {},
   "outputs": [
    {
     "data": {
      "application/javascript": [
       "\n",
       "            setTimeout(function() {\n",
       "                var nbb_cell_id = 27;\n",
       "                var nbb_unformatted_code = \"df2018 = df2018.dropna()\";\n",
       "                var nbb_formatted_code = \"df2018 = df2018.dropna()\";\n",
       "                var nbb_cells = Jupyter.notebook.get_cells();\n",
       "                for (var i = 0; i < nbb_cells.length; ++i) {\n",
       "                    if (nbb_cells[i].input_prompt_number == nbb_cell_id) {\n",
       "                        if (nbb_cells[i].get_text() == nbb_unformatted_code) {\n",
       "                             nbb_cells[i].set_text(nbb_formatted_code);\n",
       "                        }\n",
       "                        break;\n",
       "                    }\n",
       "                }\n",
       "            }, 500);\n",
       "            "
      ],
      "text/plain": [
       "<IPython.core.display.Javascript object>"
      ]
     },
     "metadata": {},
     "output_type": "display_data"
    }
   ],
   "source": [
    "df2018 = df2018.dropna()\n"
   ]
  },
  {
   "cell_type": "markdown",
   "metadata": {},
   "source": [
    "df2018[\"return_dif\"] = (df2018[\"debt2019\"] - df2018[\"debt\"]) / df2018[\"debt\"]\n",
    "df2018 = df2018[df2018[\"return\"] <= 2]\n",
    "(100 * df2018[\"return\"]).hist(bins=30)\n",
    "plt.xlabel(\"return difference\")\n",
    "plt.ylabel(\"the number of observations\")\n",
    "plt.show()\n",
    "print(stats.describe(df2018[\"return_dif\"]))\n",
    "\n",
    "# so i see it's close to 0, normal data, no differences in returns"
   ]
  },
  {
   "cell_type": "code",
   "execution_count": 28,
   "metadata": {},
   "outputs": [
    {
     "data": {
      "text/html": [
       "<div>\n",
       "<style scoped>\n",
       "    .dataframe tbody tr th:only-of-type {\n",
       "        vertical-align: middle;\n",
       "    }\n",
       "\n",
       "    .dataframe tbody tr th {\n",
       "        vertical-align: top;\n",
       "    }\n",
       "\n",
       "    .dataframe thead th {\n",
       "        text-align: right;\n",
       "    }\n",
       "</style>\n",
       "<table border=\"1\" class=\"dataframe\">\n",
       "  <thead>\n",
       "    <tr style=\"text-align: right;\">\n",
       "      <th></th>\n",
       "      <th>ticker</th>\n",
       "      <th>revenue</th>\n",
       "      <th>pb</th>\n",
       "      <th>debt</th>\n",
       "      <th>assets</th>\n",
       "      <th>netmargin</th>\n",
       "      <th>ncfo</th>\n",
       "      <th>shareswa</th>\n",
       "      <th>sps</th>\n",
       "      <th>opinc</th>\n",
       "      <th>...</th>\n",
       "      <th>REVENUE_PER_SHARE</th>\n",
       "      <th>PX_FREE_CASH_FLOW</th>\n",
       "      <th>quick_ratio</th>\n",
       "      <th>TOT_DEBT_TO_TOTAL_ASSET</th>\n",
       "      <th>debt_heavy</th>\n",
       "      <th>assets_heavy</th>\n",
       "      <th>debt2019</th>\n",
       "      <th>calendardate2019</th>\n",
       "      <th>assets2019</th>\n",
       "      <th>price2019</th>\n",
       "    </tr>\n",
       "  </thead>\n",
       "  <tbody>\n",
       "    <tr>\n",
       "      <th>2</th>\n",
       "      <td>ZTS</td>\n",
       "      <td>1.366000e+09</td>\n",
       "      <td>20.675</td>\n",
       "      <td>4.954000e+09</td>\n",
       "      <td>8.690000e+09</td>\n",
       "      <td>0.258</td>\n",
       "      <td>3.890000e+08</td>\n",
       "      <td>4.859000e+08</td>\n",
       "      <td>2.811</td>\n",
       "      <td>4.640000e+08</td>\n",
       "      <td>...</td>\n",
       "      <td>2.815022</td>\n",
       "      <td>29.384236</td>\n",
       "      <td>2.597000</td>\n",
       "      <td>0.570081</td>\n",
       "      <td>1</td>\n",
       "      <td>1</td>\n",
       "      <td>6.578000e+09</td>\n",
       "      <td>2019-03-31</td>\n",
       "      <td>1.088300e+10</td>\n",
       "      <td>100.67</td>\n",
       "    </tr>\n",
       "    <tr>\n",
       "      <th>9</th>\n",
       "      <td>ZEN</td>\n",
       "      <td>1.297910e+08</td>\n",
       "      <td>12.352</td>\n",
       "      <td>4.399530e+08</td>\n",
       "      <td>1.112523e+09</td>\n",
       "      <td>-0.226</td>\n",
       "      <td>1.624200e+07</td>\n",
       "      <td>1.036920e+08</td>\n",
       "      <td>1.252</td>\n",
       "      <td>-3.361500e+07</td>\n",
       "      <td>...</td>\n",
       "      <td>1.255458</td>\n",
       "      <td>200.292887</td>\n",
       "      <td>3.026127</td>\n",
       "      <td>0.395455</td>\n",
       "      <td>1</td>\n",
       "      <td>1</td>\n",
       "      <td>5.787090e+08</td>\n",
       "      <td>2019-03-31</td>\n",
       "      <td>1.372678e+09</td>\n",
       "      <td>85.00</td>\n",
       "    </tr>\n",
       "    <tr>\n",
       "      <th>10</th>\n",
       "      <td>ZBRA</td>\n",
       "      <td>9.770000e+08</td>\n",
       "      <td>7.555</td>\n",
       "      <td>2.133000e+09</td>\n",
       "      <td>4.249000e+09</td>\n",
       "      <td>0.112</td>\n",
       "      <td>1.160000e+08</td>\n",
       "      <td>5.328625e+07</td>\n",
       "      <td>18.335</td>\n",
       "      <td>1.440000e+08</td>\n",
       "      <td>...</td>\n",
       "      <td>18.347406</td>\n",
       "      <td>17.576714</td>\n",
       "      <td>0.574034</td>\n",
       "      <td>0.502000</td>\n",
       "      <td>1</td>\n",
       "      <td>1</td>\n",
       "      <td>1.838000e+09</td>\n",
       "      <td>2019-03-31</td>\n",
       "      <td>4.576000e+09</td>\n",
       "      <td>209.53</td>\n",
       "    </tr>\n",
       "    <tr>\n",
       "      <th>11</th>\n",
       "      <td>ZBH</td>\n",
       "      <td>2.017600e+09</td>\n",
       "      <td>1.846</td>\n",
       "      <td>1.111190e+10</td>\n",
       "      <td>2.718120e+10</td>\n",
       "      <td>0.087</td>\n",
       "      <td>4.905000e+08</td>\n",
       "      <td>2.030000e+08</td>\n",
       "      <td>9.939</td>\n",
       "      <td>3.050000e+08</td>\n",
       "      <td>...</td>\n",
       "      <td>9.931728</td>\n",
       "      <td>16.436539</td>\n",
       "      <td>0.929742</td>\n",
       "      <td>0.408808</td>\n",
       "      <td>1</td>\n",
       "      <td>1</td>\n",
       "      <td>8.810600e+09</td>\n",
       "      <td>2019-03-31</td>\n",
       "      <td>2.428900e+10</td>\n",
       "      <td>127.70</td>\n",
       "    </tr>\n",
       "    <tr>\n",
       "      <th>12</th>\n",
       "      <td>ZAYO</td>\n",
       "      <td>6.490000e+08</td>\n",
       "      <td>5.501</td>\n",
       "      <td>5.828900e+09</td>\n",
       "      <td>9.241500e+09</td>\n",
       "      <td>0.036</td>\n",
       "      <td>2.628000e+08</td>\n",
       "      <td>2.481000e+08</td>\n",
       "      <td>2.616</td>\n",
       "      <td>1.059000e+08</td>\n",
       "      <td>...</td>\n",
       "      <td>2.616259</td>\n",
       "      <td>47.843137</td>\n",
       "      <td>0.881021</td>\n",
       "      <td>0.630731</td>\n",
       "      <td>1</td>\n",
       "      <td>1</td>\n",
       "      <td>6.049800e+09</td>\n",
       "      <td>2019-03-31</td>\n",
       "      <td>9.263800e+09</td>\n",
       "      <td>28.42</td>\n",
       "    </tr>\n",
       "    <tr>\n",
       "      <th>...</th>\n",
       "      <td>...</td>\n",
       "      <td>...</td>\n",
       "      <td>...</td>\n",
       "      <td>...</td>\n",
       "      <td>...</td>\n",
       "      <td>...</td>\n",
       "      <td>...</td>\n",
       "      <td>...</td>\n",
       "      <td>...</td>\n",
       "      <td>...</td>\n",
       "      <td>...</td>\n",
       "      <td>...</td>\n",
       "      <td>...</td>\n",
       "      <td>...</td>\n",
       "      <td>...</td>\n",
       "      <td>...</td>\n",
       "      <td>...</td>\n",
       "      <td>...</td>\n",
       "      <td>...</td>\n",
       "      <td>...</td>\n",
       "      <td>...</td>\n",
       "    </tr>\n",
       "    <tr>\n",
       "      <th>1978</th>\n",
       "      <td>AAPL</td>\n",
       "      <td>6.113700e+10</td>\n",
       "      <td>6.710</td>\n",
       "      <td>1.218400e+11</td>\n",
       "      <td>3.675020e+11</td>\n",
       "      <td>0.226</td>\n",
       "      <td>1.513000e+10</td>\n",
       "      <td>5.024877e+09</td>\n",
       "      <td>12.167</td>\n",
       "      <td>1.589400e+10</td>\n",
       "      <td>...</td>\n",
       "      <td>12.049043</td>\n",
       "      <td>15.413872</td>\n",
       "      <td>1.235423</td>\n",
       "      <td>0.331536</td>\n",
       "      <td>1</td>\n",
       "      <td>1</td>\n",
       "      <td>1.126300e+11</td>\n",
       "      <td>2019-03-31</td>\n",
       "      <td>3.419980e+11</td>\n",
       "      <td>189.95</td>\n",
       "    </tr>\n",
       "    <tr>\n",
       "      <th>1979</th>\n",
       "      <td>AAP</td>\n",
       "      <td>2.873848e+09</td>\n",
       "      <td>2.164</td>\n",
       "      <td>1.044755e+09</td>\n",
       "      <td>8.614953e+09</td>\n",
       "      <td>0.048</td>\n",
       "      <td>1.539700e+08</td>\n",
       "      <td>7.397900e+07</td>\n",
       "      <td>38.847</td>\n",
       "      <td>1.982410e+08</td>\n",
       "      <td>...</td>\n",
       "      <td>38.847270</td>\n",
       "      <td>13.433454</td>\n",
       "      <td>0.361917</td>\n",
       "      <td>0.121272</td>\n",
       "      <td>1</td>\n",
       "      <td>1</td>\n",
       "      <td>2.800940e+09</td>\n",
       "      <td>2019-03-31</td>\n",
       "      <td>1.108151e+10</td>\n",
       "      <td>175.40</td>\n",
       "    </tr>\n",
       "    <tr>\n",
       "      <th>1982</th>\n",
       "      <td>AAL</td>\n",
       "      <td>1.040100e+10</td>\n",
       "      <td>-24.150</td>\n",
       "      <td>2.473900e+10</td>\n",
       "      <td>5.328000e+10</td>\n",
       "      <td>0.015</td>\n",
       "      <td>1.800000e+09</td>\n",
       "      <td>4.731387e+08</td>\n",
       "      <td>21.983</td>\n",
       "      <td>3.960000e+08</td>\n",
       "      <td>...</td>\n",
       "      <td>21.982984</td>\n",
       "      <td>-37.354421</td>\n",
       "      <td>0.434737</td>\n",
       "      <td>0.464321</td>\n",
       "      <td>1</td>\n",
       "      <td>1</td>\n",
       "      <td>3.344400e+10</td>\n",
       "      <td>2019-03-31</td>\n",
       "      <td>6.078700e+10</td>\n",
       "      <td>31.76</td>\n",
       "    </tr>\n",
       "    <tr>\n",
       "      <th>1983</th>\n",
       "      <td>AA</td>\n",
       "      <td>3.090000e+09</td>\n",
       "      <td>1.559</td>\n",
       "      <td>1.460000e+09</td>\n",
       "      <td>1.709600e+10</td>\n",
       "      <td>0.063</td>\n",
       "      <td>5.500000e+07</td>\n",
       "      <td>1.861756e+08</td>\n",
       "      <td>16.597</td>\n",
       "      <td>5.170000e+08</td>\n",
       "      <td>...</td>\n",
       "      <td>16.597233</td>\n",
       "      <td>10.502219</td>\n",
       "      <td>0.738239</td>\n",
       "      <td>0.085400</td>\n",
       "      <td>1</td>\n",
       "      <td>1</td>\n",
       "      <td>1.803000e+09</td>\n",
       "      <td>2019-03-31</td>\n",
       "      <td>1.595600e+10</td>\n",
       "      <td>28.16</td>\n",
       "    </tr>\n",
       "    <tr>\n",
       "      <th>1984</th>\n",
       "      <td>A</td>\n",
       "      <td>1.206000e+09</td>\n",
       "      <td>4.596</td>\n",
       "      <td>2.115000e+09</td>\n",
       "      <td>8.784000e+09</td>\n",
       "      <td>0.170</td>\n",
       "      <td>3.030000e+08</td>\n",
       "      <td>3.220000e+08</td>\n",
       "      <td>3.745</td>\n",
       "      <td>2.100000e+08</td>\n",
       "      <td>...</td>\n",
       "      <td>3.739806</td>\n",
       "      <td>25.659641</td>\n",
       "      <td>2.758242</td>\n",
       "      <td>0.240779</td>\n",
       "      <td>1</td>\n",
       "      <td>1</td>\n",
       "      <td>1.798000e+09</td>\n",
       "      <td>2019-03-31</td>\n",
       "      <td>9.022000e+09</td>\n",
       "      <td>78.50</td>\n",
       "    </tr>\n",
       "  </tbody>\n",
       "</table>\n",
       "<p>1073 rows × 37 columns</p>\n",
       "</div>"
      ],
      "text/plain": [
       "     ticker       revenue      pb          debt        assets  netmargin  \\\n",
       "2       ZTS  1.366000e+09  20.675  4.954000e+09  8.690000e+09      0.258   \n",
       "9       ZEN  1.297910e+08  12.352  4.399530e+08  1.112523e+09     -0.226   \n",
       "10     ZBRA  9.770000e+08   7.555  2.133000e+09  4.249000e+09      0.112   \n",
       "11      ZBH  2.017600e+09   1.846  1.111190e+10  2.718120e+10      0.087   \n",
       "12     ZAYO  6.490000e+08   5.501  5.828900e+09  9.241500e+09      0.036   \n",
       "...     ...           ...     ...           ...           ...        ...   \n",
       "1978   AAPL  6.113700e+10   6.710  1.218400e+11  3.675020e+11      0.226   \n",
       "1979    AAP  2.873848e+09   2.164  1.044755e+09  8.614953e+09      0.048   \n",
       "1982    AAL  1.040100e+10 -24.150  2.473900e+10  5.328000e+10      0.015   \n",
       "1983     AA  3.090000e+09   1.559  1.460000e+09  1.709600e+10      0.063   \n",
       "1984      A  1.206000e+09   4.596  2.115000e+09  8.784000e+09      0.170   \n",
       "\n",
       "              ncfo      shareswa     sps         opinc  ...  \\\n",
       "2     3.890000e+08  4.859000e+08   2.811  4.640000e+08  ...   \n",
       "9     1.624200e+07  1.036920e+08   1.252 -3.361500e+07  ...   \n",
       "10    1.160000e+08  5.328625e+07  18.335  1.440000e+08  ...   \n",
       "11    4.905000e+08  2.030000e+08   9.939  3.050000e+08  ...   \n",
       "12    2.628000e+08  2.481000e+08   2.616  1.059000e+08  ...   \n",
       "...            ...           ...     ...           ...  ...   \n",
       "1978  1.513000e+10  5.024877e+09  12.167  1.589400e+10  ...   \n",
       "1979  1.539700e+08  7.397900e+07  38.847  1.982410e+08  ...   \n",
       "1982  1.800000e+09  4.731387e+08  21.983  3.960000e+08  ...   \n",
       "1983  5.500000e+07  1.861756e+08  16.597  5.170000e+08  ...   \n",
       "1984  3.030000e+08  3.220000e+08   3.745  2.100000e+08  ...   \n",
       "\n",
       "      REVENUE_PER_SHARE  PX_FREE_CASH_FLOW  quick_ratio  \\\n",
       "2              2.815022          29.384236     2.597000   \n",
       "9              1.255458         200.292887     3.026127   \n",
       "10            18.347406          17.576714     0.574034   \n",
       "11             9.931728          16.436539     0.929742   \n",
       "12             2.616259          47.843137     0.881021   \n",
       "...                 ...                ...          ...   \n",
       "1978          12.049043          15.413872     1.235423   \n",
       "1979          38.847270          13.433454     0.361917   \n",
       "1982          21.982984         -37.354421     0.434737   \n",
       "1983          16.597233          10.502219     0.738239   \n",
       "1984           3.739806          25.659641     2.758242   \n",
       "\n",
       "     TOT_DEBT_TO_TOTAL_ASSET debt_heavy  assets_heavy      debt2019  \\\n",
       "2                   0.570081          1             1  6.578000e+09   \n",
       "9                   0.395455          1             1  5.787090e+08   \n",
       "10                  0.502000          1             1  1.838000e+09   \n",
       "11                  0.408808          1             1  8.810600e+09   \n",
       "12                  0.630731          1             1  6.049800e+09   \n",
       "...                      ...        ...           ...           ...   \n",
       "1978                0.331536          1             1  1.126300e+11   \n",
       "1979                0.121272          1             1  2.800940e+09   \n",
       "1982                0.464321          1             1  3.344400e+10   \n",
       "1983                0.085400          1             1  1.803000e+09   \n",
       "1984                0.240779          1             1  1.798000e+09   \n",
       "\n",
       "      calendardate2019    assets2019  price2019  \n",
       "2           2019-03-31  1.088300e+10     100.67  \n",
       "9           2019-03-31  1.372678e+09      85.00  \n",
       "10          2019-03-31  4.576000e+09     209.53  \n",
       "11          2019-03-31  2.428900e+10     127.70  \n",
       "12          2019-03-31  9.263800e+09      28.42  \n",
       "...                ...           ...        ...  \n",
       "1978        2019-03-31  3.419980e+11     189.95  \n",
       "1979        2019-03-31  1.108151e+10     175.40  \n",
       "1982        2019-03-31  6.078700e+10      31.76  \n",
       "1983        2019-03-31  1.595600e+10      28.16  \n",
       "1984        2019-03-31  9.022000e+09      78.50  \n",
       "\n",
       "[1073 rows x 37 columns]"
      ]
     },
     "execution_count": 28,
     "metadata": {},
     "output_type": "execute_result"
    },
    {
     "data": {
      "application/javascript": [
       "\n",
       "            setTimeout(function() {\n",
       "                var nbb_cell_id = 28;\n",
       "                var nbb_unformatted_code = \"df2018[df2018[\\\"debt_heavy\\\"] == 1]\";\n",
       "                var nbb_formatted_code = \"df2018[df2018[\\\"debt_heavy\\\"] == 1]\";\n",
       "                var nbb_cells = Jupyter.notebook.get_cells();\n",
       "                for (var i = 0; i < nbb_cells.length; ++i) {\n",
       "                    if (nbb_cells[i].input_prompt_number == nbb_cell_id) {\n",
       "                        if (nbb_cells[i].get_text() == nbb_unformatted_code) {\n",
       "                             nbb_cells[i].set_text(nbb_formatted_code);\n",
       "                        }\n",
       "                        break;\n",
       "                    }\n",
       "                }\n",
       "            }, 500);\n",
       "            "
      ],
      "text/plain": [
       "<IPython.core.display.Javascript object>"
      ]
     },
     "metadata": {},
     "output_type": "display_data"
    }
   ],
   "source": [
    "df2018[df2018[\"debt_heavy\"] == 1]"
   ]
  },
  {
   "cell_type": "code",
   "execution_count": 29,
   "metadata": {
    "scrolled": true
   },
   "outputs": [
    {
     "data": {
      "text/html": [
       "<div>\n",
       "<style scoped>\n",
       "    .dataframe tbody tr th:only-of-type {\n",
       "        vertical-align: middle;\n",
       "    }\n",
       "\n",
       "    .dataframe tbody tr th {\n",
       "        vertical-align: top;\n",
       "    }\n",
       "\n",
       "    .dataframe thead th {\n",
       "        text-align: right;\n",
       "    }\n",
       "</style>\n",
       "<table border=\"1\" class=\"dataframe\">\n",
       "  <thead>\n",
       "    <tr style=\"text-align: right;\">\n",
       "      <th></th>\n",
       "      <th>ticker</th>\n",
       "      <th>revenue</th>\n",
       "      <th>pb</th>\n",
       "      <th>debt</th>\n",
       "      <th>assets</th>\n",
       "      <th>netmargin</th>\n",
       "      <th>ncfo</th>\n",
       "      <th>shareswa</th>\n",
       "      <th>sps</th>\n",
       "      <th>opinc</th>\n",
       "      <th>...</th>\n",
       "      <th>REVENUE_PER_SHARE</th>\n",
       "      <th>PX_FREE_CASH_FLOW</th>\n",
       "      <th>quick_ratio</th>\n",
       "      <th>TOT_DEBT_TO_TOTAL_ASSET</th>\n",
       "      <th>debt_heavy</th>\n",
       "      <th>assets_heavy</th>\n",
       "      <th>debt2019</th>\n",
       "      <th>calendardate2019</th>\n",
       "      <th>assets2019</th>\n",
       "      <th>price2019</th>\n",
       "    </tr>\n",
       "  </thead>\n",
       "  <tbody>\n",
       "    <tr>\n",
       "      <th>2</th>\n",
       "      <td>ZTS</td>\n",
       "      <td>1.366000e+09</td>\n",
       "      <td>20.675</td>\n",
       "      <td>4.954000e+09</td>\n",
       "      <td>8.690000e+09</td>\n",
       "      <td>0.258</td>\n",
       "      <td>3.890000e+08</td>\n",
       "      <td>485900000.0</td>\n",
       "      <td>2.811</td>\n",
       "      <td>464000000.0</td>\n",
       "      <td>...</td>\n",
       "      <td>2.815022</td>\n",
       "      <td>29.384236</td>\n",
       "      <td>2.597000</td>\n",
       "      <td>0.570081</td>\n",
       "      <td>1</td>\n",
       "      <td>1</td>\n",
       "      <td>6.578000e+09</td>\n",
       "      <td>2019-03-31</td>\n",
       "      <td>1.088300e+10</td>\n",
       "      <td>100.67</td>\n",
       "    </tr>\n",
       "    <tr>\n",
       "      <th>4</th>\n",
       "      <td>ZNGA</td>\n",
       "      <td>2.082320e+08</td>\n",
       "      <td>1.940</td>\n",
       "      <td>0.000000e+00</td>\n",
       "      <td>1.919011e+09</td>\n",
       "      <td>0.027</td>\n",
       "      <td>-3.947000e+06</td>\n",
       "      <td>869627000.0</td>\n",
       "      <td>0.239</td>\n",
       "      <td>4257000.0</td>\n",
       "      <td>...</td>\n",
       "      <td>0.238964</td>\n",
       "      <td>36.969697</td>\n",
       "      <td>3.170025</td>\n",
       "      <td>0.000000</td>\n",
       "      <td>0</td>\n",
       "      <td>1</td>\n",
       "      <td>1.291540e+08</td>\n",
       "      <td>2019-03-31</td>\n",
       "      <td>2.652126e+09</td>\n",
       "      <td>5.33</td>\n",
       "    </tr>\n",
       "    <tr>\n",
       "      <th>9</th>\n",
       "      <td>ZEN</td>\n",
       "      <td>1.297910e+08</td>\n",
       "      <td>12.352</td>\n",
       "      <td>4.399530e+08</td>\n",
       "      <td>1.112523e+09</td>\n",
       "      <td>-0.226</td>\n",
       "      <td>1.624200e+07</td>\n",
       "      <td>103692000.0</td>\n",
       "      <td>1.252</td>\n",
       "      <td>-33615000.0</td>\n",
       "      <td>...</td>\n",
       "      <td>1.255458</td>\n",
       "      <td>200.292887</td>\n",
       "      <td>3.026127</td>\n",
       "      <td>0.395455</td>\n",
       "      <td>1</td>\n",
       "      <td>1</td>\n",
       "      <td>5.787090e+08</td>\n",
       "      <td>2019-03-31</td>\n",
       "      <td>1.372678e+09</td>\n",
       "      <td>85.00</td>\n",
       "    </tr>\n",
       "    <tr>\n",
       "      <th>10</th>\n",
       "      <td>ZBRA</td>\n",
       "      <td>9.770000e+08</td>\n",
       "      <td>7.555</td>\n",
       "      <td>2.133000e+09</td>\n",
       "      <td>4.249000e+09</td>\n",
       "      <td>0.112</td>\n",
       "      <td>1.160000e+08</td>\n",
       "      <td>53286249.0</td>\n",
       "      <td>18.335</td>\n",
       "      <td>144000000.0</td>\n",
       "      <td>...</td>\n",
       "      <td>18.347406</td>\n",
       "      <td>17.576714</td>\n",
       "      <td>0.574034</td>\n",
       "      <td>0.502000</td>\n",
       "      <td>1</td>\n",
       "      <td>1</td>\n",
       "      <td>1.838000e+09</td>\n",
       "      <td>2019-03-31</td>\n",
       "      <td>4.576000e+09</td>\n",
       "      <td>209.53</td>\n",
       "    </tr>\n",
       "    <tr>\n",
       "      <th>11</th>\n",
       "      <td>ZBH</td>\n",
       "      <td>2.017600e+09</td>\n",
       "      <td>1.846</td>\n",
       "      <td>1.111190e+10</td>\n",
       "      <td>2.718120e+10</td>\n",
       "      <td>0.087</td>\n",
       "      <td>4.905000e+08</td>\n",
       "      <td>203000000.0</td>\n",
       "      <td>9.939</td>\n",
       "      <td>305000000.0</td>\n",
       "      <td>...</td>\n",
       "      <td>9.931728</td>\n",
       "      <td>16.436539</td>\n",
       "      <td>0.929742</td>\n",
       "      <td>0.408808</td>\n",
       "      <td>1</td>\n",
       "      <td>1</td>\n",
       "      <td>8.810600e+09</td>\n",
       "      <td>2019-03-31</td>\n",
       "      <td>2.428900e+10</td>\n",
       "      <td>127.70</td>\n",
       "    </tr>\n",
       "    <tr>\n",
       "      <th>...</th>\n",
       "      <td>...</td>\n",
       "      <td>...</td>\n",
       "      <td>...</td>\n",
       "      <td>...</td>\n",
       "      <td>...</td>\n",
       "      <td>...</td>\n",
       "      <td>...</td>\n",
       "      <td>...</td>\n",
       "      <td>...</td>\n",
       "      <td>...</td>\n",
       "      <td>...</td>\n",
       "      <td>...</td>\n",
       "      <td>...</td>\n",
       "      <td>...</td>\n",
       "      <td>...</td>\n",
       "      <td>...</td>\n",
       "      <td>...</td>\n",
       "      <td>...</td>\n",
       "      <td>...</td>\n",
       "      <td>...</td>\n",
       "      <td>...</td>\n",
       "    </tr>\n",
       "    <tr>\n",
       "      <th>1979</th>\n",
       "      <td>AAP</td>\n",
       "      <td>2.873848e+09</td>\n",
       "      <td>2.164</td>\n",
       "      <td>1.044755e+09</td>\n",
       "      <td>8.614953e+09</td>\n",
       "      <td>0.048</td>\n",
       "      <td>1.539700e+08</td>\n",
       "      <td>73979000.0</td>\n",
       "      <td>38.847</td>\n",
       "      <td>198241000.0</td>\n",
       "      <td>...</td>\n",
       "      <td>38.847270</td>\n",
       "      <td>13.433454</td>\n",
       "      <td>0.361917</td>\n",
       "      <td>0.121272</td>\n",
       "      <td>1</td>\n",
       "      <td>1</td>\n",
       "      <td>2.800940e+09</td>\n",
       "      <td>2019-03-31</td>\n",
       "      <td>1.108151e+10</td>\n",
       "      <td>175.40</td>\n",
       "    </tr>\n",
       "    <tr>\n",
       "      <th>1980</th>\n",
       "      <td>AAON</td>\n",
       "      <td>9.908200e+07</td>\n",
       "      <td>8.534</td>\n",
       "      <td>0.000000e+00</td>\n",
       "      <td>3.069450e+08</td>\n",
       "      <td>0.043</td>\n",
       "      <td>1.074400e+07</td>\n",
       "      <td>52433902.0</td>\n",
       "      <td>1.890</td>\n",
       "      <td>5178000.0</td>\n",
       "      <td>...</td>\n",
       "      <td>1.889680</td>\n",
       "      <td>141.304348</td>\n",
       "      <td>1.352039</td>\n",
       "      <td>0.000000</td>\n",
       "      <td>0</td>\n",
       "      <td>1</td>\n",
       "      <td>0.000000e+00</td>\n",
       "      <td>2019-03-31</td>\n",
       "      <td>3.195250e+08</td>\n",
       "      <td>46.18</td>\n",
       "    </tr>\n",
       "    <tr>\n",
       "      <th>1982</th>\n",
       "      <td>AAL</td>\n",
       "      <td>1.040100e+10</td>\n",
       "      <td>-24.150</td>\n",
       "      <td>2.473900e+10</td>\n",
       "      <td>5.328000e+10</td>\n",
       "      <td>0.015</td>\n",
       "      <td>1.800000e+09</td>\n",
       "      <td>473138683.0</td>\n",
       "      <td>21.983</td>\n",
       "      <td>396000000.0</td>\n",
       "      <td>...</td>\n",
       "      <td>21.982984</td>\n",
       "      <td>-37.354421</td>\n",
       "      <td>0.434737</td>\n",
       "      <td>0.464321</td>\n",
       "      <td>1</td>\n",
       "      <td>1</td>\n",
       "      <td>3.344400e+10</td>\n",
       "      <td>2019-03-31</td>\n",
       "      <td>6.078700e+10</td>\n",
       "      <td>31.76</td>\n",
       "    </tr>\n",
       "    <tr>\n",
       "      <th>1983</th>\n",
       "      <td>AA</td>\n",
       "      <td>3.090000e+09</td>\n",
       "      <td>1.559</td>\n",
       "      <td>1.460000e+09</td>\n",
       "      <td>1.709600e+10</td>\n",
       "      <td>0.063</td>\n",
       "      <td>5.500000e+07</td>\n",
       "      <td>186175616.0</td>\n",
       "      <td>16.597</td>\n",
       "      <td>517000000.0</td>\n",
       "      <td>...</td>\n",
       "      <td>16.597233</td>\n",
       "      <td>10.502219</td>\n",
       "      <td>0.738239</td>\n",
       "      <td>0.085400</td>\n",
       "      <td>1</td>\n",
       "      <td>1</td>\n",
       "      <td>1.803000e+09</td>\n",
       "      <td>2019-03-31</td>\n",
       "      <td>1.595600e+10</td>\n",
       "      <td>28.16</td>\n",
       "    </tr>\n",
       "    <tr>\n",
       "      <th>1984</th>\n",
       "      <td>A</td>\n",
       "      <td>1.206000e+09</td>\n",
       "      <td>4.596</td>\n",
       "      <td>2.115000e+09</td>\n",
       "      <td>8.784000e+09</td>\n",
       "      <td>0.170</td>\n",
       "      <td>3.030000e+08</td>\n",
       "      <td>322000000.0</td>\n",
       "      <td>3.745</td>\n",
       "      <td>210000000.0</td>\n",
       "      <td>...</td>\n",
       "      <td>3.739806</td>\n",
       "      <td>25.659641</td>\n",
       "      <td>2.758242</td>\n",
       "      <td>0.240779</td>\n",
       "      <td>1</td>\n",
       "      <td>1</td>\n",
       "      <td>1.798000e+09</td>\n",
       "      <td>2019-03-31</td>\n",
       "      <td>9.022000e+09</td>\n",
       "      <td>78.50</td>\n",
       "    </tr>\n",
       "  </tbody>\n",
       "</table>\n",
       "<p>1343 rows × 37 columns</p>\n",
       "</div>"
      ],
      "text/plain": [
       "     ticker       revenue      pb          debt        assets  netmargin  \\\n",
       "2       ZTS  1.366000e+09  20.675  4.954000e+09  8.690000e+09      0.258   \n",
       "4      ZNGA  2.082320e+08   1.940  0.000000e+00  1.919011e+09      0.027   \n",
       "9       ZEN  1.297910e+08  12.352  4.399530e+08  1.112523e+09     -0.226   \n",
       "10     ZBRA  9.770000e+08   7.555  2.133000e+09  4.249000e+09      0.112   \n",
       "11      ZBH  2.017600e+09   1.846  1.111190e+10  2.718120e+10      0.087   \n",
       "...     ...           ...     ...           ...           ...        ...   \n",
       "1979    AAP  2.873848e+09   2.164  1.044755e+09  8.614953e+09      0.048   \n",
       "1980   AAON  9.908200e+07   8.534  0.000000e+00  3.069450e+08      0.043   \n",
       "1982    AAL  1.040100e+10 -24.150  2.473900e+10  5.328000e+10      0.015   \n",
       "1983     AA  3.090000e+09   1.559  1.460000e+09  1.709600e+10      0.063   \n",
       "1984      A  1.206000e+09   4.596  2.115000e+09  8.784000e+09      0.170   \n",
       "\n",
       "              ncfo     shareswa     sps        opinc  ...  REVENUE_PER_SHARE  \\\n",
       "2     3.890000e+08  485900000.0   2.811  464000000.0  ...           2.815022   \n",
       "4    -3.947000e+06  869627000.0   0.239    4257000.0  ...           0.238964   \n",
       "9     1.624200e+07  103692000.0   1.252  -33615000.0  ...           1.255458   \n",
       "10    1.160000e+08   53286249.0  18.335  144000000.0  ...          18.347406   \n",
       "11    4.905000e+08  203000000.0   9.939  305000000.0  ...           9.931728   \n",
       "...            ...          ...     ...          ...  ...                ...   \n",
       "1979  1.539700e+08   73979000.0  38.847  198241000.0  ...          38.847270   \n",
       "1980  1.074400e+07   52433902.0   1.890    5178000.0  ...           1.889680   \n",
       "1982  1.800000e+09  473138683.0  21.983  396000000.0  ...          21.982984   \n",
       "1983  5.500000e+07  186175616.0  16.597  517000000.0  ...          16.597233   \n",
       "1984  3.030000e+08  322000000.0   3.745  210000000.0  ...           3.739806   \n",
       "\n",
       "      PX_FREE_CASH_FLOW  quick_ratio TOT_DEBT_TO_TOTAL_ASSET debt_heavy  \\\n",
       "2             29.384236     2.597000                0.570081          1   \n",
       "4             36.969697     3.170025                0.000000          0   \n",
       "9            200.292887     3.026127                0.395455          1   \n",
       "10            17.576714     0.574034                0.502000          1   \n",
       "11            16.436539     0.929742                0.408808          1   \n",
       "...                 ...          ...                     ...        ...   \n",
       "1979          13.433454     0.361917                0.121272          1   \n",
       "1980         141.304348     1.352039                0.000000          0   \n",
       "1982         -37.354421     0.434737                0.464321          1   \n",
       "1983          10.502219     0.738239                0.085400          1   \n",
       "1984          25.659641     2.758242                0.240779          1   \n",
       "\n",
       "      assets_heavy      debt2019  calendardate2019    assets2019  price2019  \n",
       "2                1  6.578000e+09        2019-03-31  1.088300e+10     100.67  \n",
       "4                1  1.291540e+08        2019-03-31  2.652126e+09       5.33  \n",
       "9                1  5.787090e+08        2019-03-31  1.372678e+09      85.00  \n",
       "10               1  1.838000e+09        2019-03-31  4.576000e+09     209.53  \n",
       "11               1  8.810600e+09        2019-03-31  2.428900e+10     127.70  \n",
       "...            ...           ...               ...           ...        ...  \n",
       "1979             1  2.800940e+09        2019-03-31  1.108151e+10     175.40  \n",
       "1980             1  0.000000e+00        2019-03-31  3.195250e+08      46.18  \n",
       "1982             1  3.344400e+10        2019-03-31  6.078700e+10      31.76  \n",
       "1983             1  1.803000e+09        2019-03-31  1.595600e+10      28.16  \n",
       "1984             1  1.798000e+09        2019-03-31  9.022000e+09      78.50  \n",
       "\n",
       "[1343 rows x 37 columns]"
      ]
     },
     "execution_count": 29,
     "metadata": {},
     "output_type": "execute_result"
    },
    {
     "data": {
      "application/javascript": [
       "\n",
       "            setTimeout(function() {\n",
       "                var nbb_cell_id = 29;\n",
       "                var nbb_unformatted_code = \"df2018[df2018[\\\"assets_heavy\\\"] == 1]\";\n",
       "                var nbb_formatted_code = \"df2018[df2018[\\\"assets_heavy\\\"] == 1]\";\n",
       "                var nbb_cells = Jupyter.notebook.get_cells();\n",
       "                for (var i = 0; i < nbb_cells.length; ++i) {\n",
       "                    if (nbb_cells[i].input_prompt_number == nbb_cell_id) {\n",
       "                        if (nbb_cells[i].get_text() == nbb_unformatted_code) {\n",
       "                             nbb_cells[i].set_text(nbb_formatted_code);\n",
       "                        }\n",
       "                        break;\n",
       "                    }\n",
       "                }\n",
       "            }, 500);\n",
       "            "
      ],
      "text/plain": [
       "<IPython.core.display.Javascript object>"
      ]
     },
     "metadata": {},
     "output_type": "display_data"
    }
   ],
   "source": [
    "df2018[df2018[\"assets_heavy\"] == 1]"
   ]
  },
  {
   "cell_type": "code",
   "execution_count": 30,
   "metadata": {},
   "outputs": [
    {
     "data": {
      "image/png": "[encoded data removed]",
      "text/plain": [
       "<Figure size 432x288 with 1 Axes>"
      ]
     },
     "metadata": {
      "needs_background": "light"
     },
     "output_type": "display_data"
    },
    {
     "name": "stdout",
     "output_type": "stream",
     "text": [
      "DescribeResult(nobs=1340, minmax=(-0.8544848484848484, 1.9018567639257293), mean=0.09442153640200235, variance=0.11888521649064611, skewness=1.144651524691345, kurtosis=3.1507116856549793)\n"
     ]
    },
    {
     "data": {
      "application/javascript": [
       "\n",
       "            setTimeout(function() {\n",
       "                var nbb_cell_id = 30;\n",
       "                var nbb_unformatted_code = \"df2018[\\\"return\\\"] = (df2018[\\\"price2019\\\"] - df2018[\\\"price\\\"]) / df2018[\\\"price\\\"]\\ndf2018 = df2018[df2018[\\\"return\\\"] <= 2]\\n(100 * df2018[\\\"return\\\"]).hist(bins=50)\\nplt.show()\\nprint(stats.describe(df2018[\\\"return\\\"]))\";\n",
       "                var nbb_formatted_code = \"df2018[\\\"return\\\"] = (df2018[\\\"price2019\\\"] - df2018[\\\"price\\\"]) / df2018[\\\"price\\\"]\\ndf2018 = df2018[df2018[\\\"return\\\"] <= 2]\\n(100 * df2018[\\\"return\\\"]).hist(bins=50)\\nplt.show()\\nprint(stats.describe(df2018[\\\"return\\\"]))\";\n",
       "                var nbb_cells = Jupyter.notebook.get_cells();\n",
       "                for (var i = 0; i < nbb_cells.length; ++i) {\n",
       "                    if (nbb_cells[i].input_prompt_number == nbb_cell_id) {\n",
       "                        if (nbb_cells[i].get_text() == nbb_unformatted_code) {\n",
       "                             nbb_cells[i].set_text(nbb_formatted_code);\n",
       "                        }\n",
       "                        break;\n",
       "                    }\n",
       "                }\n",
       "            }, 500);\n",
       "            "
      ],
      "text/plain": [
       "<IPython.core.display.Javascript object>"
      ]
     },
     "metadata": {},
     "output_type": "display_data"
    }
   ],
   "source": [
    "df2018[\"return\"] = (df2018[\"price2019\"] - df2018[\"price\"]) / df2018[\"price\"]\n",
    "df2018 = df2018[df2018[\"return\"] <= 2]\n",
    "(100 * df2018[\"return\"]).hist(bins=50)\n",
    "plt.show()\n",
    "print(stats.describe(df2018[\"return\"]))"
   ]
  },
  {
   "cell_type": "code",
   "execution_count": 32,
   "metadata": {},
   "outputs": [
    {
     "data": {
      "image/png": "[encoded data removed]",
      "text/plain": [
       "<Figure size 432x288 with 1 Axes>"
      ]
     },
     "metadata": {
      "needs_background": "light"
     },
     "output_type": "display_data"
    },
    {
     "name": "stdout",
     "output_type": "stream",
     "text": [
      "DescribeResult(nobs=1072, minmax=(-0.7831325301204819, 1.5393034825870644), mean=0.06910783854780926, variance=0.09460521545638996, skewness=1.058789238418703, kurtosis=3.1734354026521316)\n"
     ]
    },
    {
     "data": {
      "application/javascript": [
       "\n",
       "            setTimeout(function() {\n",
       "                var nbb_cell_id = 32;\n",
       "                var nbb_unformatted_code = \"debt_heavy = df2018[df2018[\\\"debt_heavy\\\"] == 1]\\nplt.hist(debt_heavy[\\\"return\\\"])  # what I'm plotting\\nplt.xlabel(\\\"return\\\")  # what i chose to plot\\nplt.ylabel(\\\"number of companies\\\")  # y is always count and numbers.\\nplt.show()\\nprint(stats.describe(debt_heavy[\\\"return\\\"]))\";\n",
       "                var nbb_formatted_code = \"debt_heavy = df2018[df2018[\\\"debt_heavy\\\"] == 1]\\nplt.hist(debt_heavy[\\\"return\\\"])  # what I'm plotting\\nplt.xlabel(\\\"return\\\")  # what i chose to plot\\nplt.ylabel(\\\"number of companies\\\")  # y is always count and numbers.\\nplt.show()\\nprint(stats.describe(debt_heavy[\\\"return\\\"]))\";\n",
       "                var nbb_cells = Jupyter.notebook.get_cells();\n",
       "                for (var i = 0; i < nbb_cells.length; ++i) {\n",
       "                    if (nbb_cells[i].input_prompt_number == nbb_cell_id) {\n",
       "                        if (nbb_cells[i].get_text() == nbb_unformatted_code) {\n",
       "                             nbb_cells[i].set_text(nbb_formatted_code);\n",
       "                        }\n",
       "                        break;\n",
       "                    }\n",
       "                }\n",
       "            }, 500);\n",
       "            "
      ],
      "text/plain": [
       "<IPython.core.display.Javascript object>"
      ]
     },
     "metadata": {},
     "output_type": "display_data"
    }
   ],
   "source": [
    "debt_heavy = df2018[df2018[\"debt_heavy\"] == 1]\n",
    "plt.hist(debt_heavy[\"return\"])  # what I'm plotting\n",
    "plt.xlabel(\"return\")  # what i chose to plot\n",
    "plt.ylabel(\"number of companies\")  # y is always count and numbers.\n",
    "plt.show()\n",
    "print(stats.describe(debt_heavy[\"return\"]))"
   ]
  },
  {
   "cell_type": "code",
   "execution_count": 33,
   "metadata": {},
   "outputs": [
    {
     "data": {
      "image/png": "[encoded data removed]",
      "text/plain": [
       "<Figure size 432x288 with 1 Axes>"
      ]
     },
     "metadata": {
      "needs_background": "light"
     },
     "output_type": "display_data"
    },
    {
     "name": "stdout",
     "output_type": "stream",
     "text": [
      "DescribeResult(nobs=6, minmax=(-0.8544848484848484, 1.310135135135135), mean=0.19644213341572211, variance=0.7605751619741887, skewness=-0.07714194180666062, kurtosis=-1.4917653460139138)\n"
     ]
    },
    {
     "data": {
      "application/javascript": [
       "\n",
       "            setTimeout(function() {\n",
       "                var nbb_cell_id = 33;\n",
       "                var nbb_unformatted_code = \"assets_heavy = df2018[df2018[\\\"assets_heavy\\\"] == 0]\\nplt.hist(assets_heavy[\\\"return\\\"])\\nplt.xlabel(\\\"how much companies made\\\")\\nplt.ylabel(\\\"number of companies\\\")\\n\\nplt.show()\\nprint(stats.describe(assets_heavy[\\\"return\\\"]))\";\n",
       "                var nbb_formatted_code = \"assets_heavy = df2018[df2018[\\\"assets_heavy\\\"] == 0]\\nplt.hist(assets_heavy[\\\"return\\\"])\\nplt.xlabel(\\\"how much companies made\\\")\\nplt.ylabel(\\\"number of companies\\\")\\n\\nplt.show()\\nprint(stats.describe(assets_heavy[\\\"return\\\"]))\";\n",
       "                var nbb_cells = Jupyter.notebook.get_cells();\n",
       "                for (var i = 0; i < nbb_cells.length; ++i) {\n",
       "                    if (nbb_cells[i].input_prompt_number == nbb_cell_id) {\n",
       "                        if (nbb_cells[i].get_text() == nbb_unformatted_code) {\n",
       "                             nbb_cells[i].set_text(nbb_formatted_code);\n",
       "                        }\n",
       "                        break;\n",
       "                    }\n",
       "                }\n",
       "            }, 500);\n",
       "            "
      ],
      "text/plain": [
       "<IPython.core.display.Javascript object>"
      ]
     },
     "metadata": {},
     "output_type": "display_data"
    }
   ],
   "source": [
    "assets_heavy = df2018[df2018[\"assets_heavy\"] == 0]\n",
    "plt.hist(assets_heavy[\"return\"])\n",
    "plt.xlabel(\"how much companies made\")\n",
    "plt.ylabel(\"number of companies\")\n",
    "\n",
    "plt.show()\n",
    "print(stats.describe(assets_heavy[\"return\"]))"
   ]
  },
  {
   "cell_type": "markdown",
   "metadata": {},
   "source": [
    "data is not normal and not normally distributed, so I use Wilcoxon test here. "
   ]
  },
  {
   "cell_type": "code",
   "execution_count": 34,
   "metadata": {},
   "outputs": [
    {
     "data": {
      "text/plain": [
       "WilcoxonResult(statistic=225669.0, pvalue=1.0312111365069994e-09)"
      ]
     },
     "execution_count": 34,
     "metadata": {},
     "output_type": "execute_result"
    },
    {
     "data": {
      "application/javascript": [
       "\n",
       "            setTimeout(function() {\n",
       "                var nbb_cell_id = 34;\n",
       "                var nbb_unformatted_code = \"stats.wilcoxon((debt_heavy[\\\"price2019\\\"] - debt_heavy[\\\"price\\\"]))\";\n",
       "                var nbb_formatted_code = \"stats.wilcoxon((debt_heavy[\\\"price2019\\\"] - debt_heavy[\\\"price\\\"]))\";\n",
       "                var nbb_cells = Jupyter.notebook.get_cells();\n",
       "                for (var i = 0; i < nbb_cells.length; ++i) {\n",
       "                    if (nbb_cells[i].input_prompt_number == nbb_cell_id) {\n",
       "                        if (nbb_cells[i].get_text() == nbb_unformatted_code) {\n",
       "                             nbb_cells[i].set_text(nbb_formatted_code);\n",
       "                        }\n",
       "                        break;\n",
       "                    }\n",
       "                }\n",
       "            }, 500);\n",
       "            "
      ],
      "text/plain": [
       "<IPython.core.display.Javascript object>"
      ]
     },
     "metadata": {},
     "output_type": "display_data"
    }
   ],
   "source": [
    "stats.wilcoxon((debt_heavy[\"price2019\"] - debt_heavy[\"price\"]))"
   ]
  },
  {
   "cell_type": "code",
   "execution_count": 35,
   "metadata": {},
   "outputs": [
    {
     "data": {
      "text/plain": [
       "WilcoxonResult(statistic=10.0, pvalue=1.0)"
      ]
     },
     "execution_count": 35,
     "metadata": {},
     "output_type": "execute_result"
    },
    {
     "data": {
      "application/javascript": [
       "\n",
       "            setTimeout(function() {\n",
       "                var nbb_cell_id = 35;\n",
       "                var nbb_unformatted_code = \"stats.wilcoxon((assets_heavy[\\\"price2019\\\"] - assets_heavy[\\\"price\\\"]))\";\n",
       "                var nbb_formatted_code = \"stats.wilcoxon((assets_heavy[\\\"price2019\\\"] - assets_heavy[\\\"price\\\"]))\";\n",
       "                var nbb_cells = Jupyter.notebook.get_cells();\n",
       "                for (var i = 0; i < nbb_cells.length; ++i) {\n",
       "                    if (nbb_cells[i].input_prompt_number == nbb_cell_id) {\n",
       "                        if (nbb_cells[i].get_text() == nbb_unformatted_code) {\n",
       "                             nbb_cells[i].set_text(nbb_formatted_code);\n",
       "                        }\n",
       "                        break;\n",
       "                    }\n",
       "                }\n",
       "            }, 500);\n",
       "            "
      ],
      "text/plain": [
       "<IPython.core.display.Javascript object>"
      ]
     },
     "metadata": {},
     "output_type": "display_data"
    }
   ],
   "source": [
    "stats.wilcoxon((assets_heavy[\"price2019\"] - assets_heavy[\"price\"]))"
   ]
  },
  {
   "cell_type": "markdown",
   "metadata": {},
   "source": [
    "significantly different."
   ]
  },
  {
   "cell_type": "code",
   "execution_count": null,
   "metadata": {},
   "outputs": [],
   "source": []
  },
  {
   "cell_type": "code",
   "execution_count": null,
   "metadata": {},
   "outputs": [],
   "source": []
  },
  {
   "cell_type": "code",
   "execution_count": null,
   "metadata": {},
   "outputs": [],
   "source": []
  },
  {
   "cell_type": "code",
   "execution_count": null,
   "metadata": {},
   "outputs": [],
   "source": []
  }
 ],
 "metadata": {
  "kernelspec": {
   "display_name": "Python 3",
   "language": "python",
   "name": "python3"
  },
  "language_info": {
   "codemirror_mode": {
    "name": "ipython",
    "version": 3
   },
   "file_extension": ".py",
   "mimetype": "text/x-python",
   "name": "python",
   "nbconvert_exporter": "python",
   "pygments_lexer": "ipython3",
   "version": "3.8.3"
  }
 },
 "nbformat": 4,
 "nbformat_minor": 4
}
