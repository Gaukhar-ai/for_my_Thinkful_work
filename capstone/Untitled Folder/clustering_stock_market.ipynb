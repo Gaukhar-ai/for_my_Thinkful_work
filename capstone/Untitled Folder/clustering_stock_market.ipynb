{
 "cells": [
  {
   "cell_type": "code",
   "execution_count": 75,
   "metadata": {},
   "outputs": [],
   "source": [
    "import pandas as pd\n",
    "import numpy as np\n",
    "from sklearn.preprocessing import scale\n",
    "from scipy.spatial.distance import pdist, squareform\n",
    "\n",
    "import matplotlib.pyplot as plt\n",
    "\n",
    "%matplotlib inline\n",
    "from sklearn.mixture import GaussianMixture\n",
    "#run kmeans and gaussian and interpret, keep how many clusters i need and change\n",
    "import scipy\n",
    "import matplotlib.pyplot as plt\n",
    "import seaborn as sns\n",
    "from sklearn.cluster import KMeans\n",
    "from sklearn.preprocessing import StandardScaler, MinMaxScaler\n",
    "from sklearn.decomposition import PCA\n",
    "from scipy.special import entr\n"
   ]
  },
  {
   "cell_type": "code",
   "execution_count": 2,
   "metadata": {
    "scrolled": true
   },
   "outputs": [
    {
     "data": {
      "text/html": [
       "<div>\n",
       "<style scoped>\n",
       "    .dataframe tbody tr th:only-of-type {\n",
       "        vertical-align: middle;\n",
       "    }\n",
       "\n",
       "    .dataframe tbody tr th {\n",
       "        vertical-align: top;\n",
       "    }\n",
       "\n",
       "    .dataframe thead th {\n",
       "        text-align: right;\n",
       "    }\n",
       "</style>\n",
       "<table border=\"1\" class=\"dataframe\">\n",
       "  <thead>\n",
       "    <tr style=\"text-align: right;\">\n",
       "      <th></th>\n",
       "      <th>ticker</th>\n",
       "      <th>revenue</th>\n",
       "      <th>pb</th>\n",
       "      <th>debt</th>\n",
       "      <th>assets</th>\n",
       "      <th>netmargin</th>\n",
       "      <th>ncfo</th>\n",
       "      <th>shareswa</th>\n",
       "      <th>sps</th>\n",
       "      <th>opinc</th>\n",
       "      <th>...</th>\n",
       "      <th>netinccmn</th>\n",
       "      <th>fcfps</th>\n",
       "      <th>PX_TO_BOOK_RATIO</th>\n",
       "      <th>RETURN_ON_ASSET</th>\n",
       "      <th>OPER_MARGIN</th>\n",
       "      <th>CASH_FLOW_PER_SHARE</th>\n",
       "      <th>REVENUE_PER_SHARE</th>\n",
       "      <th>PX_FREE_CASH_FLOW</th>\n",
       "      <th>quick_ratio</th>\n",
       "      <th>TOT_DEBT_TO_TOTAL_ASSET</th>\n",
       "    </tr>\n",
       "  </thead>\n",
       "  <tbody>\n",
       "    <tr>\n",
       "      <th>0</th>\n",
       "      <td>ZYME</td>\n",
       "      <td>8269000.0</td>\n",
       "      <td>3.091</td>\n",
       "      <td>9007000.0</td>\n",
       "      <td>636578000.0</td>\n",
       "      <td>-3.765</td>\n",
       "      <td>-37487000.0</td>\n",
       "      <td>48686718.0</td>\n",
       "      <td>0.170</td>\n",
       "      <td>-35880000.0</td>\n",
       "      <td>...</td>\n",
       "      <td>-162932000.0</td>\n",
       "      <td>-2.154</td>\n",
       "      <td>3.091</td>\n",
       "      <td>-0.358217</td>\n",
       "      <td>-4.339097835</td>\n",
       "      <td>-0.823549</td>\n",
       "      <td>0.181661</td>\n",
       "      <td>-16.467038</td>\n",
       "      <td>6.807722</td>\n",
       "      <td>0.014149</td>\n",
       "    </tr>\n",
       "    <tr>\n",
       "      <th>1</th>\n",
       "      <td>ZYME</td>\n",
       "      <td>1877000.0</td>\n",
       "      <td>7.288</td>\n",
       "      <td>6881000.0</td>\n",
       "      <td>368205000.0</td>\n",
       "      <td>-38.489</td>\n",
       "      <td>-36354000.0</td>\n",
       "      <td>43658717.0</td>\n",
       "      <td>0.043</td>\n",
       "      <td>-73752000.0</td>\n",
       "      <td>...</td>\n",
       "      <td>-145437000.0</td>\n",
       "      <td>-2.319</td>\n",
       "      <td>7.288</td>\n",
       "      <td>-0.409374</td>\n",
       "      <td>-39.29248801</td>\n",
       "      <td>-0.922987</td>\n",
       "      <td>0.047655</td>\n",
       "      <td>-19.603277</td>\n",
       "      <td>3.647265</td>\n",
       "      <td>0.018688</td>\n",
       "    </tr>\n",
       "    <tr>\n",
       "      <th>2</th>\n",
       "      <td>ZYME</td>\n",
       "      <td>7860000.0</td>\n",
       "      <td>3.146</td>\n",
       "      <td>6755000.0</td>\n",
       "      <td>400037000.0</td>\n",
       "      <td>-3.877</td>\n",
       "      <td>-10880000.0</td>\n",
       "      <td>43445379.0</td>\n",
       "      <td>0.181</td>\n",
       "      <td>-33564000.0</td>\n",
       "      <td>...</td>\n",
       "      <td>-63920000.0</td>\n",
       "      <td>0.004</td>\n",
       "      <td>3.146</td>\n",
       "      <td>-0.197080</td>\n",
       "      <td>-4.270229008</td>\n",
       "      <td>-0.277127</td>\n",
       "      <td>0.200204</td>\n",
       "      <td>6200.000000</td>\n",
       "      <td>6.678431</td>\n",
       "      <td>0.016886</td>\n",
       "    </tr>\n",
       "    <tr>\n",
       "      <th>3</th>\n",
       "      <td>ZYME</td>\n",
       "      <td>7882000.0</td>\n",
       "      <td>2.112</td>\n",
       "      <td>7829000.0</td>\n",
       "      <td>414547000.0</td>\n",
       "      <td>-3.689</td>\n",
       "      <td>-13317000.0</td>\n",
       "      <td>32837975.0</td>\n",
       "      <td>0.240</td>\n",
       "      <td>-29432000.0</td>\n",
       "      <td>...</td>\n",
       "      <td>-52196000.0</td>\n",
       "      <td>0.028</td>\n",
       "      <td>2.112</td>\n",
       "      <td>-0.191239</td>\n",
       "      <td>-3.734077645</td>\n",
       "      <td>-0.415356</td>\n",
       "      <td>0.245839</td>\n",
       "      <td>785.714286</td>\n",
       "      <td>8.874183</td>\n",
       "      <td>0.018886</td>\n",
       "    </tr>\n",
       "    <tr>\n",
       "      <th>4</th>\n",
       "      <td>ZYME</td>\n",
       "      <td>11925000.0</td>\n",
       "      <td>3.048</td>\n",
       "      <td>8065000.0</td>\n",
       "      <td>238279000.0</td>\n",
       "      <td>-1.144</td>\n",
       "      <td>-21302000.0</td>\n",
       "      <td>32020437.0</td>\n",
       "      <td>0.372</td>\n",
       "      <td>-14553000.0</td>\n",
       "      <td>...</td>\n",
       "      <td>-28993000.0</td>\n",
       "      <td>0.616</td>\n",
       "      <td>3.048</td>\n",
       "      <td>-0.130571</td>\n",
       "      <td>-1.220377358</td>\n",
       "      <td>-0.665162</td>\n",
       "      <td>0.372362</td>\n",
       "      <td>26.266234</td>\n",
       "      <td>6.440652</td>\n",
       "      <td>0.033847</td>\n",
       "    </tr>\n",
       "  </tbody>\n",
       "</table>\n",
       "<p>5 rows × 31 columns</p>\n",
       "</div>"
      ],
      "text/plain": [
       "  ticker     revenue     pb       debt       assets  netmargin        ncfo  \\\n",
       "0   ZYME   8269000.0  3.091  9007000.0  636578000.0     -3.765 -37487000.0   \n",
       "1   ZYME   1877000.0  7.288  6881000.0  368205000.0    -38.489 -36354000.0   \n",
       "2   ZYME   7860000.0  3.146  6755000.0  400037000.0     -3.877 -10880000.0   \n",
       "3   ZYME   7882000.0  2.112  7829000.0  414547000.0     -3.689 -13317000.0   \n",
       "4   ZYME  11925000.0  3.048  8065000.0  238279000.0     -1.144 -21302000.0   \n",
       "\n",
       "     shareswa    sps       opinc  ...    netinccmn  fcfps  PX_TO_BOOK_RATIO  \\\n",
       "0  48686718.0  0.170 -35880000.0  ... -162932000.0 -2.154             3.091   \n",
       "1  43658717.0  0.043 -73752000.0  ... -145437000.0 -2.319             7.288   \n",
       "2  43445379.0  0.181 -33564000.0  ...  -63920000.0  0.004             3.146   \n",
       "3  32837975.0  0.240 -29432000.0  ...  -52196000.0  0.028             2.112   \n",
       "4  32020437.0  0.372 -14553000.0  ...  -28993000.0  0.616             3.048   \n",
       "\n",
       "  RETURN_ON_ASSET   OPER_MARGIN  CASH_FLOW_PER_SHARE  REVENUE_PER_SHARE  \\\n",
       "0       -0.358217  -4.339097835            -0.823549           0.181661   \n",
       "1       -0.409374  -39.29248801            -0.922987           0.047655   \n",
       "2       -0.197080  -4.270229008            -0.277127           0.200204   \n",
       "3       -0.191239  -3.734077645            -0.415356           0.245839   \n",
       "4       -0.130571  -1.220377358            -0.665162           0.372362   \n",
       "\n",
       "   PX_FREE_CASH_FLOW  quick_ratio  TOT_DEBT_TO_TOTAL_ASSET  \n",
       "0         -16.467038     6.807722                 0.014149  \n",
       "1         -19.603277     3.647265                 0.018688  \n",
       "2        6200.000000     6.678431                 0.016886  \n",
       "3         785.714286     8.874183                 0.018886  \n",
       "4          26.266234     6.440652                 0.033847  \n",
       "\n",
       "[5 rows x 31 columns]"
      ]
     },
     "execution_count": 2,
     "metadata": {},
     "output_type": "execute_result"
    }
   ],
   "source": [
    "df = pd.read_csv('https://raw.githubusercontent.com/Gaukhar-ai/for_my_Thinkful_work/master/capstone/Stock%20Market_1B_predictions/stock_market_data.csv')\n",
    "df.head()"
   ]
  },
  {
   "cell_type": "code",
   "execution_count": 50,
   "metadata": {},
   "outputs": [],
   "source": [
    "df_original = df.copy()"
   ]
  },
  {
   "cell_type": "code",
   "execution_count": 3,
   "metadata": {
    "scrolled": true
   },
   "outputs": [
    {
     "data": {
      "text/plain": [
       "(40277, 31)"
      ]
     },
     "execution_count": 3,
     "metadata": {},
     "output_type": "execute_result"
    }
   ],
   "source": [
    "df.shape"
   ]
  },
  {
   "cell_type": "code",
   "execution_count": 4,
   "metadata": {},
   "outputs": [
    {
     "name": "stdout",
     "output_type": "stream",
     "text": [
      "<class 'pandas.core.frame.DataFrame'>\n",
      "RangeIndex: 40277 entries, 0 to 40276\n",
      "Data columns (total 31 columns):\n",
      " #   Column                   Non-Null Count  Dtype  \n",
      "---  ------                   --------------  -----  \n",
      " 0   ticker                   40277 non-null  object \n",
      " 1   revenue                  39949 non-null  float64\n",
      " 2   pb                       38433 non-null  float64\n",
      " 3   debt                     39416 non-null  float64\n",
      " 4   assets                   39416 non-null  float64\n",
      " 5   netmargin                38980 non-null  float64\n",
      " 6   ncfo                     39683 non-null  float64\n",
      " 7   shareswa                 40072 non-null  float64\n",
      " 8   sps                      39800 non-null  float64\n",
      " 9   opinc                    39949 non-null  float64\n",
      " 10  assetsc                  30302 non-null  float64\n",
      " 11  liabilitiesc             30265 non-null  float64\n",
      " 12  price                    38513 non-null  float64\n",
      " 13  calendardate             40277 non-null  object \n",
      " 14  datekey                  40277 non-null  object \n",
      " 15  sharesbas                39366 non-null  float64\n",
      " 16  equity                   39416 non-null  float64\n",
      " 17  receivables              39416 non-null  float64\n",
      " 18  investmentsc             30302 non-null  float64\n",
      " 19  cashneq                  39416 non-null  float64\n",
      " 20  assetsavg                38295 non-null  float64\n",
      " 21  netinccmn                39296 non-null  float64\n",
      " 22  fcfps                    39010 non-null  float64\n",
      " 23  PX_TO_BOOK_RATIO         38433 non-null  float64\n",
      " 24  RETURN_ON_ASSET          38240 non-null  float64\n",
      " 25  OPER_MARGIN              39941 non-null  object \n",
      " 26  CASH_FLOW_PER_SHARE      39086 non-null  float64\n",
      " 27  REVENUE_PER_SHARE        39263 non-null  float64\n",
      " 28  PX_FREE_CASH_FLOW        38194 non-null  float64\n",
      " 29  quick_ratio              30261 non-null  float64\n",
      " 30  TOT_DEBT_TO_TOTAL_ASSET  39412 non-null  float64\n",
      "dtypes: float64(27), object(4)\n",
      "memory usage: 8.9+ MB\n"
     ]
    }
   ],
   "source": [
    "df.info()"
   ]
  },
  {
   "cell_type": "code",
   "execution_count": 5,
   "metadata": {
    "scrolled": false
   },
   "outputs": [
    {
     "data": {
      "text/plain": [
       "584"
      ]
     },
     "execution_count": 5,
     "metadata": {},
     "output_type": "execute_result"
    }
   ],
   "source": [
    "df['datekey'].nunique()"
   ]
  },
  {
   "cell_type": "code",
   "execution_count": 6,
   "metadata": {
    "scrolled": false
   },
   "outputs": [
    {
     "data": {
      "text/plain": [
       "0.8301015467884897"
      ]
     },
     "execution_count": 6,
     "metadata": {},
     "output_type": "execute_result"
    }
   ],
   "source": [
    "(df['datekey'] == df['calendardate']).mean() # 83% they match. \n"
   ]
  },
  {
   "cell_type": "code",
   "execution_count": 7,
   "metadata": {},
   "outputs": [
    {
     "data": {
      "text/plain": [
       "array(['3/31/2020', '12/31/2019', '9/30/2019', '6/30/2019', '3/31/2019',\n",
       "       '12/31/2018', '9/30/2018', '6/30/2018', '3/31/2018', '12/31/2017',\n",
       "       '9/30/2017', '6/30/2017', '3/31/2017', '12/31/2016', '12/31/2015',\n",
       "       '9/30/2016', '6/30/2016', '3/31/2016', '9/30/2015', '6/30/2015',\n",
       "       '3/31/2015', '6/30/2020'], dtype=object)"
      ]
     },
     "execution_count": 7,
     "metadata": {},
     "output_type": "execute_result"
    }
   ],
   "source": [
    "df['calendardate'].unique() #'12/31/2019', '9/30/2019' pick this quarter, merge by Ticker\n",
    "#add next quarters price. compute the return "
   ]
  },
  {
   "cell_type": "code",
   "execution_count": 8,
   "metadata": {},
   "outputs": [],
   "source": [
    "#df['calendardate'].unique()"
   ]
  },
  {
   "cell_type": "code",
   "execution_count": 9,
   "metadata": {
    "scrolled": true
   },
   "outputs": [
    {
     "data": {
      "text/html": [
       "<div>\n",
       "<style scoped>\n",
       "    .dataframe tbody tr th:only-of-type {\n",
       "        vertical-align: middle;\n",
       "    }\n",
       "\n",
       "    .dataframe tbody tr th {\n",
       "        vertical-align: top;\n",
       "    }\n",
       "\n",
       "    .dataframe thead th {\n",
       "        text-align: right;\n",
       "    }\n",
       "</style>\n",
       "<table border=\"1\" class=\"dataframe\">\n",
       "  <thead>\n",
       "    <tr style=\"text-align: right;\">\n",
       "      <th></th>\n",
       "      <th>ticker</th>\n",
       "      <th>revenue</th>\n",
       "      <th>pb</th>\n",
       "      <th>debt</th>\n",
       "      <th>assets</th>\n",
       "      <th>netmargin</th>\n",
       "      <th>ncfo</th>\n",
       "      <th>shareswa</th>\n",
       "      <th>sps</th>\n",
       "      <th>opinc</th>\n",
       "      <th>...</th>\n",
       "      <th>netinccmn</th>\n",
       "      <th>fcfps</th>\n",
       "      <th>PX_TO_BOOK_RATIO</th>\n",
       "      <th>RETURN_ON_ASSET</th>\n",
       "      <th>OPER_MARGIN</th>\n",
       "      <th>CASH_FLOW_PER_SHARE</th>\n",
       "      <th>REVENUE_PER_SHARE</th>\n",
       "      <th>PX_FREE_CASH_FLOW</th>\n",
       "      <th>quick_ratio</th>\n",
       "      <th>TOT_DEBT_TO_TOTAL_ASSET</th>\n",
       "    </tr>\n",
       "  </thead>\n",
       "  <tbody>\n",
       "    <tr>\n",
       "      <th>0</th>\n",
       "      <td>ZYME</td>\n",
       "      <td>8269000.0</td>\n",
       "      <td>3.091</td>\n",
       "      <td>9007000.0</td>\n",
       "      <td>636578000.0</td>\n",
       "      <td>-3.765</td>\n",
       "      <td>-37487000.0</td>\n",
       "      <td>48686718.0</td>\n",
       "      <td>0.170</td>\n",
       "      <td>-35880000.0</td>\n",
       "      <td>...</td>\n",
       "      <td>-162932000.0</td>\n",
       "      <td>-2.154</td>\n",
       "      <td>3.091</td>\n",
       "      <td>-0.358217</td>\n",
       "      <td>-4.339097835</td>\n",
       "      <td>-0.823549</td>\n",
       "      <td>0.181661</td>\n",
       "      <td>-16.467038</td>\n",
       "      <td>6.807722</td>\n",
       "      <td>0.014149</td>\n",
       "    </tr>\n",
       "    <tr>\n",
       "      <th>1</th>\n",
       "      <td>ZYME</td>\n",
       "      <td>1877000.0</td>\n",
       "      <td>7.288</td>\n",
       "      <td>6881000.0</td>\n",
       "      <td>368205000.0</td>\n",
       "      <td>-38.489</td>\n",
       "      <td>-36354000.0</td>\n",
       "      <td>43658717.0</td>\n",
       "      <td>0.043</td>\n",
       "      <td>-73752000.0</td>\n",
       "      <td>...</td>\n",
       "      <td>-145437000.0</td>\n",
       "      <td>-2.319</td>\n",
       "      <td>7.288</td>\n",
       "      <td>-0.409374</td>\n",
       "      <td>-39.29248801</td>\n",
       "      <td>-0.922987</td>\n",
       "      <td>0.047655</td>\n",
       "      <td>-19.603277</td>\n",
       "      <td>3.647265</td>\n",
       "      <td>0.018688</td>\n",
       "    </tr>\n",
       "    <tr>\n",
       "      <th>2</th>\n",
       "      <td>ZYME</td>\n",
       "      <td>7860000.0</td>\n",
       "      <td>3.146</td>\n",
       "      <td>6755000.0</td>\n",
       "      <td>400037000.0</td>\n",
       "      <td>-3.877</td>\n",
       "      <td>-10880000.0</td>\n",
       "      <td>43445379.0</td>\n",
       "      <td>0.181</td>\n",
       "      <td>-33564000.0</td>\n",
       "      <td>...</td>\n",
       "      <td>-63920000.0</td>\n",
       "      <td>0.004</td>\n",
       "      <td>3.146</td>\n",
       "      <td>-0.197080</td>\n",
       "      <td>-4.270229008</td>\n",
       "      <td>-0.277127</td>\n",
       "      <td>0.200204</td>\n",
       "      <td>6200.000000</td>\n",
       "      <td>6.678431</td>\n",
       "      <td>0.016886</td>\n",
       "    </tr>\n",
       "    <tr>\n",
       "      <th>3</th>\n",
       "      <td>ZYME</td>\n",
       "      <td>7882000.0</td>\n",
       "      <td>2.112</td>\n",
       "      <td>7829000.0</td>\n",
       "      <td>414547000.0</td>\n",
       "      <td>-3.689</td>\n",
       "      <td>-13317000.0</td>\n",
       "      <td>32837975.0</td>\n",
       "      <td>0.240</td>\n",
       "      <td>-29432000.0</td>\n",
       "      <td>...</td>\n",
       "      <td>-52196000.0</td>\n",
       "      <td>0.028</td>\n",
       "      <td>2.112</td>\n",
       "      <td>-0.191239</td>\n",
       "      <td>-3.734077645</td>\n",
       "      <td>-0.415356</td>\n",
       "      <td>0.245839</td>\n",
       "      <td>785.714286</td>\n",
       "      <td>8.874183</td>\n",
       "      <td>0.018886</td>\n",
       "    </tr>\n",
       "    <tr>\n",
       "      <th>4</th>\n",
       "      <td>ZYME</td>\n",
       "      <td>11925000.0</td>\n",
       "      <td>3.048</td>\n",
       "      <td>8065000.0</td>\n",
       "      <td>238279000.0</td>\n",
       "      <td>-1.144</td>\n",
       "      <td>-21302000.0</td>\n",
       "      <td>32020437.0</td>\n",
       "      <td>0.372</td>\n",
       "      <td>-14553000.0</td>\n",
       "      <td>...</td>\n",
       "      <td>-28993000.0</td>\n",
       "      <td>0.616</td>\n",
       "      <td>3.048</td>\n",
       "      <td>-0.130571</td>\n",
       "      <td>-1.220377358</td>\n",
       "      <td>-0.665162</td>\n",
       "      <td>0.372362</td>\n",
       "      <td>26.266234</td>\n",
       "      <td>6.440652</td>\n",
       "      <td>0.033847</td>\n",
       "    </tr>\n",
       "  </tbody>\n",
       "</table>\n",
       "<p>5 rows × 31 columns</p>\n",
       "</div>"
      ],
      "text/plain": [
       "  ticker     revenue     pb       debt       assets  netmargin        ncfo  \\\n",
       "0   ZYME   8269000.0  3.091  9007000.0  636578000.0     -3.765 -37487000.0   \n",
       "1   ZYME   1877000.0  7.288  6881000.0  368205000.0    -38.489 -36354000.0   \n",
       "2   ZYME   7860000.0  3.146  6755000.0  400037000.0     -3.877 -10880000.0   \n",
       "3   ZYME   7882000.0  2.112  7829000.0  414547000.0     -3.689 -13317000.0   \n",
       "4   ZYME  11925000.0  3.048  8065000.0  238279000.0     -1.144 -21302000.0   \n",
       "\n",
       "     shareswa    sps       opinc  ...    netinccmn  fcfps  PX_TO_BOOK_RATIO  \\\n",
       "0  48686718.0  0.170 -35880000.0  ... -162932000.0 -2.154             3.091   \n",
       "1  43658717.0  0.043 -73752000.0  ... -145437000.0 -2.319             7.288   \n",
       "2  43445379.0  0.181 -33564000.0  ...  -63920000.0  0.004             3.146   \n",
       "3  32837975.0  0.240 -29432000.0  ...  -52196000.0  0.028             2.112   \n",
       "4  32020437.0  0.372 -14553000.0  ...  -28993000.0  0.616             3.048   \n",
       "\n",
       "  RETURN_ON_ASSET   OPER_MARGIN  CASH_FLOW_PER_SHARE  REVENUE_PER_SHARE  \\\n",
       "0       -0.358217  -4.339097835            -0.823549           0.181661   \n",
       "1       -0.409374  -39.29248801            -0.922987           0.047655   \n",
       "2       -0.197080  -4.270229008            -0.277127           0.200204   \n",
       "3       -0.191239  -3.734077645            -0.415356           0.245839   \n",
       "4       -0.130571  -1.220377358            -0.665162           0.372362   \n",
       "\n",
       "   PX_FREE_CASH_FLOW  quick_ratio  TOT_DEBT_TO_TOTAL_ASSET  \n",
       "0         -16.467038     6.807722                 0.014149  \n",
       "1         -19.603277     3.647265                 0.018688  \n",
       "2        6200.000000     6.678431                 0.016886  \n",
       "3         785.714286     8.874183                 0.018886  \n",
       "4          26.266234     6.440652                 0.033847  \n",
       "\n",
       "[5 rows x 31 columns]"
      ]
     },
     "execution_count": 9,
     "metadata": {},
     "output_type": "execute_result"
    }
   ],
   "source": [
    "df['calendardate'] = pd.to_datetime(df['calendardate'])\n",
    "df.head()"
   ]
  },
  {
   "cell_type": "code",
   "execution_count": 10,
   "metadata": {},
   "outputs": [
    {
     "data": {
      "text/plain": [
       "0       2020-03-31\n",
       "1       2019-12-31\n",
       "2       2019-09-30\n",
       "3       2019-06-30\n",
       "4       2019-03-31\n",
       "           ...    \n",
       "40272   2016-03-31\n",
       "40273   2015-12-31\n",
       "40274   2015-09-30\n",
       "40275   2015-06-30\n",
       "40276   2015-03-31\n",
       "Name: calendardate, Length: 40277, dtype: datetime64[ns]"
      ]
     },
     "execution_count": 10,
     "metadata": {},
     "output_type": "execute_result"
    }
   ],
   "source": [
    "df['calendardate']"
   ]
  },
  {
   "cell_type": "code",
   "execution_count": 11,
   "metadata": {
    "scrolled": true
   },
   "outputs": [
    {
     "data": {
      "text/html": [
       "<div>\n",
       "<style scoped>\n",
       "    .dataframe tbody tr th:only-of-type {\n",
       "        vertical-align: middle;\n",
       "    }\n",
       "\n",
       "    .dataframe tbody tr th {\n",
       "        vertical-align: top;\n",
       "    }\n",
       "\n",
       "    .dataframe thead th {\n",
       "        text-align: right;\n",
       "    }\n",
       "</style>\n",
       "<table border=\"1\" class=\"dataframe\">\n",
       "  <thead>\n",
       "    <tr style=\"text-align: right;\">\n",
       "      <th></th>\n",
       "      <th>ticker</th>\n",
       "      <th>revenue</th>\n",
       "      <th>pb</th>\n",
       "      <th>debt</th>\n",
       "      <th>assets</th>\n",
       "      <th>netmargin</th>\n",
       "      <th>ncfo</th>\n",
       "      <th>shareswa</th>\n",
       "      <th>sps</th>\n",
       "      <th>opinc</th>\n",
       "      <th>...</th>\n",
       "      <th>netinccmn</th>\n",
       "      <th>fcfps</th>\n",
       "      <th>PX_TO_BOOK_RATIO</th>\n",
       "      <th>RETURN_ON_ASSET</th>\n",
       "      <th>OPER_MARGIN</th>\n",
       "      <th>CASH_FLOW_PER_SHARE</th>\n",
       "      <th>REVENUE_PER_SHARE</th>\n",
       "      <th>PX_FREE_CASH_FLOW</th>\n",
       "      <th>quick_ratio</th>\n",
       "      <th>TOT_DEBT_TO_TOTAL_ASSET</th>\n",
       "    </tr>\n",
       "  </thead>\n",
       "  <tbody>\n",
       "    <tr>\n",
       "      <th>1</th>\n",
       "      <td>ZYME</td>\n",
       "      <td>1.877000e+06</td>\n",
       "      <td>7.288</td>\n",
       "      <td>6.881000e+06</td>\n",
       "      <td>3.682050e+08</td>\n",
       "      <td>-38.489</td>\n",
       "      <td>-36354000.0</td>\n",
       "      <td>43658717.0</td>\n",
       "      <td>0.043</td>\n",
       "      <td>-73752000.0</td>\n",
       "      <td>...</td>\n",
       "      <td>-1.454370e+08</td>\n",
       "      <td>-2.319</td>\n",
       "      <td>7.288</td>\n",
       "      <td>-0.409374</td>\n",
       "      <td>-39.29248801</td>\n",
       "      <td>-0.922987</td>\n",
       "      <td>0.047655</td>\n",
       "      <td>-19.603277</td>\n",
       "      <td>3.647265</td>\n",
       "      <td>0.018688</td>\n",
       "    </tr>\n",
       "    <tr>\n",
       "      <th>16</th>\n",
       "      <td>ZUO</td>\n",
       "      <td>7.039300e+07</td>\n",
       "      <td>10.140</td>\n",
       "      <td>7.858800e+07</td>\n",
       "      <td>4.022270e+08</td>\n",
       "      <td>-0.337</td>\n",
       "      <td>4009000.0</td>\n",
       "      <td>113180000.0</td>\n",
       "      <td>0.622</td>\n",
       "      <td>-24449000.0</td>\n",
       "      <td>...</td>\n",
       "      <td>-8.339400e+07</td>\n",
       "      <td>-0.225</td>\n",
       "      <td>10.140</td>\n",
       "      <td>-0.243414</td>\n",
       "      <td>-0.347321467</td>\n",
       "      <td>0.035415</td>\n",
       "      <td>0.621846</td>\n",
       "      <td>-65.555556</td>\n",
       "      <td>1.454003</td>\n",
       "      <td>0.195382</td>\n",
       "    </tr>\n",
       "    <tr>\n",
       "      <th>30</th>\n",
       "      <td>ZTS</td>\n",
       "      <td>1.674000e+09</td>\n",
       "      <td>23.279</td>\n",
       "      <td>6.611000e+09</td>\n",
       "      <td>1.154500e+10</td>\n",
       "      <td>0.229</td>\n",
       "      <td>582000000.0</td>\n",
       "      <td>476412000.0</td>\n",
       "      <td>3.514</td>\n",
       "      <td>493000000.0</td>\n",
       "      <td>...</td>\n",
       "      <td>1.500000e+09</td>\n",
       "      <td>2.792</td>\n",
       "      <td>23.279</td>\n",
       "      <td>0.134270</td>\n",
       "      <td>0.294504182</td>\n",
       "      <td>1.221921</td>\n",
       "      <td>3.514597</td>\n",
       "      <td>47.403295</td>\n",
       "      <td>1.672204</td>\n",
       "      <td>0.572629</td>\n",
       "    </tr>\n",
       "    <tr>\n",
       "      <th>51</th>\n",
       "      <td>ZS</td>\n",
       "      <td>1.012680e+08</td>\n",
       "      <td>22.487</td>\n",
       "      <td>3.444200e+07</td>\n",
       "      <td>6.764250e+08</td>\n",
       "      <td>-0.288</td>\n",
       "      <td>5431000.0</td>\n",
       "      <td>128408000.0</td>\n",
       "      <td>0.789</td>\n",
       "      <td>-30280000.0</td>\n",
       "      <td>...</td>\n",
       "      <td>-6.374200e+07</td>\n",
       "      <td>0.153</td>\n",
       "      <td>22.487</td>\n",
       "      <td>-0.103884</td>\n",
       "      <td>-0.299008571</td>\n",
       "      <td>0.042444</td>\n",
       "      <td>0.791419</td>\n",
       "      <td>366.601307</td>\n",
       "      <td>1.579705</td>\n",
       "      <td>0.050918</td>\n",
       "    </tr>\n",
       "    <tr>\n",
       "      <th>65</th>\n",
       "      <td>ZNGA</td>\n",
       "      <td>4.044630e+08</td>\n",
       "      <td>2.931</td>\n",
       "      <td>7.165100e+08</td>\n",
       "      <td>3.660614e+09</td>\n",
       "      <td>-0.009</td>\n",
       "      <td>94049000.0</td>\n",
       "      <td>947733000.0</td>\n",
       "      <td>0.427</td>\n",
       "      <td>4332000.0</td>\n",
       "      <td>...</td>\n",
       "      <td>4.192500e+07</td>\n",
       "      <td>0.873</td>\n",
       "      <td>2.931</td>\n",
       "      <td>0.012826</td>\n",
       "      <td>0.010710498</td>\n",
       "      <td>0.099426</td>\n",
       "      <td>0.427586</td>\n",
       "      <td>7.010309</td>\n",
       "      <td>1.933891</td>\n",
       "      <td>0.195735</td>\n",
       "    </tr>\n",
       "  </tbody>\n",
       "</table>\n",
       "<p>5 rows × 31 columns</p>\n",
       "</div>"
      ],
      "text/plain": [
       "   ticker       revenue      pb          debt        assets  netmargin  \\\n",
       "1    ZYME  1.877000e+06   7.288  6.881000e+06  3.682050e+08    -38.489   \n",
       "16    ZUO  7.039300e+07  10.140  7.858800e+07  4.022270e+08     -0.337   \n",
       "30    ZTS  1.674000e+09  23.279  6.611000e+09  1.154500e+10      0.229   \n",
       "51     ZS  1.012680e+08  22.487  3.444200e+07  6.764250e+08     -0.288   \n",
       "65   ZNGA  4.044630e+08   2.931  7.165100e+08  3.660614e+09     -0.009   \n",
       "\n",
       "           ncfo     shareswa    sps        opinc  ...     netinccmn  fcfps  \\\n",
       "1   -36354000.0   43658717.0  0.043  -73752000.0  ... -1.454370e+08 -2.319   \n",
       "16    4009000.0  113180000.0  0.622  -24449000.0  ... -8.339400e+07 -0.225   \n",
       "30  582000000.0  476412000.0  3.514  493000000.0  ...  1.500000e+09  2.792   \n",
       "51    5431000.0  128408000.0  0.789  -30280000.0  ... -6.374200e+07  0.153   \n",
       "65   94049000.0  947733000.0  0.427    4332000.0  ...  4.192500e+07  0.873   \n",
       "\n",
       "    PX_TO_BOOK_RATIO RETURN_ON_ASSET   OPER_MARGIN  CASH_FLOW_PER_SHARE  \\\n",
       "1              7.288       -0.409374  -39.29248801            -0.922987   \n",
       "16            10.140       -0.243414  -0.347321467             0.035415   \n",
       "30            23.279        0.134270   0.294504182             1.221921   \n",
       "51            22.487       -0.103884  -0.299008571             0.042444   \n",
       "65             2.931        0.012826   0.010710498             0.099426   \n",
       "\n",
       "    REVENUE_PER_SHARE  PX_FREE_CASH_FLOW  quick_ratio  TOT_DEBT_TO_TOTAL_ASSET  \n",
       "1            0.047655         -19.603277     3.647265                 0.018688  \n",
       "16           0.621846         -65.555556     1.454003                 0.195382  \n",
       "30           3.514597          47.403295     1.672204                 0.572629  \n",
       "51           0.791419         366.601307     1.579705                 0.050918  \n",
       "65           0.427586           7.010309     1.933891                 0.195735  \n",
       "\n",
       "[5 rows x 31 columns]"
      ]
     },
     "execution_count": 11,
     "metadata": {},
     "output_type": "execute_result"
    }
   ],
   "source": [
    "df = df[df['calendardate'].between('2019-10-01', '2020-01-01')]\n",
    "df.head()"
   ]
  },
  {
   "cell_type": "code",
   "execution_count": 12,
   "metadata": {
    "scrolled": false
   },
   "outputs": [],
   "source": [
    "df['OPER_MARGIN'] = pd.to_numeric(df['OPER_MARGIN'],errors='coerce') #errors = 'coerse' - converts to NA\n"
   ]
  },
  {
   "cell_type": "code",
   "execution_count": 13,
   "metadata": {},
   "outputs": [
    {
     "data": {
      "text/html": [
       "<div>\n",
       "<style scoped>\n",
       "    .dataframe tbody tr th:only-of-type {\n",
       "        vertical-align: middle;\n",
       "    }\n",
       "\n",
       "    .dataframe tbody tr th {\n",
       "        vertical-align: top;\n",
       "    }\n",
       "\n",
       "    .dataframe thead th {\n",
       "        text-align: right;\n",
       "    }\n",
       "</style>\n",
       "<table border=\"1\" class=\"dataframe\">\n",
       "  <thead>\n",
       "    <tr style=\"text-align: right;\">\n",
       "      <th></th>\n",
       "      <th>ticker</th>\n",
       "      <th>revenue</th>\n",
       "      <th>pb</th>\n",
       "      <th>debt</th>\n",
       "      <th>assets</th>\n",
       "      <th>netmargin</th>\n",
       "      <th>ncfo</th>\n",
       "      <th>shareswa</th>\n",
       "      <th>sps</th>\n",
       "      <th>opinc</th>\n",
       "      <th>...</th>\n",
       "      <th>netinccmn</th>\n",
       "      <th>fcfps</th>\n",
       "      <th>PX_TO_BOOK_RATIO</th>\n",
       "      <th>RETURN_ON_ASSET</th>\n",
       "      <th>OPER_MARGIN</th>\n",
       "      <th>CASH_FLOW_PER_SHARE</th>\n",
       "      <th>REVENUE_PER_SHARE</th>\n",
       "      <th>PX_FREE_CASH_FLOW</th>\n",
       "      <th>quick_ratio</th>\n",
       "      <th>TOT_DEBT_TO_TOTAL_ASSET</th>\n",
       "    </tr>\n",
       "  </thead>\n",
       "  <tbody>\n",
       "    <tr>\n",
       "      <th>15741</th>\n",
       "      <td>NCLH</td>\n",
       "      <td>1.480618e+09</td>\n",
       "      <td>1.907</td>\n",
       "      <td>6.801693e+09</td>\n",
       "      <td>1.668460e+10</td>\n",
       "      <td>0.082</td>\n",
       "      <td>3.418510e+08</td>\n",
       "      <td>2.128776e+08</td>\n",
       "      <td>6.955</td>\n",
       "      <td>1.993760e+08</td>\n",
       "      <td>...</td>\n",
       "      <td>9.302280e+08</td>\n",
       "      <td>0.863</td>\n",
       "      <td>1.907</td>\n",
       "      <td>0.057823</td>\n",
       "      <td>0.134657</td>\n",
       "      <td>1.606763</td>\n",
       "      <td>6.959180</td>\n",
       "      <td>67.682503</td>\n",
       "      <td>0.091504</td>\n",
       "      <td>0.407663</td>\n",
       "    </tr>\n",
       "    <tr>\n",
       "      <th>22792</th>\n",
       "      <td>HTZ</td>\n",
       "      <td>2.325000e+09</td>\n",
       "      <td>1.265</td>\n",
       "      <td>1.893700e+10</td>\n",
       "      <td>2.462700e+10</td>\n",
       "      <td>-0.051</td>\n",
       "      <td>6.670000e+08</td>\n",
       "      <td>1.170000e+08</td>\n",
       "      <td>19.872</td>\n",
       "      <td>8.900000e+07</td>\n",
       "      <td>...</td>\n",
       "      <td>-5.800000e+07</td>\n",
       "      <td>-13.034</td>\n",
       "      <td>1.265</td>\n",
       "      <td>-0.002307</td>\n",
       "      <td>0.038280</td>\n",
       "      <td>4.693162</td>\n",
       "      <td>16.359223</td>\n",
       "      <td>-1.208378</td>\n",
       "      <td>NaN</td>\n",
       "      <td>0.768953</td>\n",
       "    </tr>\n",
       "    <tr>\n",
       "      <th>25128</th>\n",
       "      <td>GE</td>\n",
       "      <td>1.573700e+10</td>\n",
       "      <td>3.442</td>\n",
       "      <td>9.088200e+10</td>\n",
       "      <td>2.660480e+11</td>\n",
       "      <td>0.034</td>\n",
       "      <td>6.739000e+09</td>\n",
       "      <td>8.733549e+09</td>\n",
       "      <td>1.802</td>\n",
       "      <td>2.186000e+09</td>\n",
       "      <td>...</td>\n",
       "      <td>-5.439000e+09</td>\n",
       "      <td>0.732</td>\n",
       "      <td>3.442</td>\n",
       "      <td>-0.018816</td>\n",
       "      <td>0.138908</td>\n",
       "      <td>0.771622</td>\n",
       "      <td>1.801902</td>\n",
       "      <td>15.245902</td>\n",
       "      <td>NaN</td>\n",
       "      <td>0.341600</td>\n",
       "    </tr>\n",
       "    <tr>\n",
       "      <th>36147</th>\n",
       "      <td>BA</td>\n",
       "      <td>1.791100e+10</td>\n",
       "      <td>-21.276</td>\n",
       "      <td>2.730200e+10</td>\n",
       "      <td>1.336250e+11</td>\n",
       "      <td>-0.056</td>\n",
       "      <td>-2.220000e+09</td>\n",
       "      <td>5.627912e+08</td>\n",
       "      <td>31.825</td>\n",
       "      <td>-2.599000e+09</td>\n",
       "      <td>...</td>\n",
       "      <td>-6.360000e+08</td>\n",
       "      <td>-7.011</td>\n",
       "      <td>-21.276</td>\n",
       "      <td>-0.004962</td>\n",
       "      <td>-0.145106</td>\n",
       "      <td>-3.944624</td>\n",
       "      <td>31.825300</td>\n",
       "      <td>-46.464128</td>\n",
       "      <td>0.253175</td>\n",
       "      <td>0.204318</td>\n",
       "    </tr>\n",
       "    <tr>\n",
       "      <th>38187</th>\n",
       "      <td>AMD</td>\n",
       "      <td>2.127000e+09</td>\n",
       "      <td>18.191</td>\n",
       "      <td>6.850000e+08</td>\n",
       "      <td>6.028000e+09</td>\n",
       "      <td>0.080</td>\n",
       "      <td>4.420000e+08</td>\n",
       "      <td>1.139000e+09</td>\n",
       "      <td>1.867</td>\n",
       "      <td>3.480000e+08</td>\n",
       "      <td>...</td>\n",
       "      <td>3.410000e+08</td>\n",
       "      <td>0.253</td>\n",
       "      <td>18.191</td>\n",
       "      <td>0.063995</td>\n",
       "      <td>0.163611</td>\n",
       "      <td>0.396901</td>\n",
       "      <td>1.909974</td>\n",
       "      <td>182.529644</td>\n",
       "      <td>1.425180</td>\n",
       "      <td>0.113636</td>\n",
       "    </tr>\n",
       "    <tr>\n",
       "      <th>40217</th>\n",
       "      <td>AAL</td>\n",
       "      <td>1.131300e+10</td>\n",
       "      <td>-106.470</td>\n",
       "      <td>3.344400e+10</td>\n",
       "      <td>5.999500e+10</td>\n",
       "      <td>0.037</td>\n",
       "      <td>6.000000e+08</td>\n",
       "      <td>4.380580e+08</td>\n",
       "      <td>25.825</td>\n",
       "      <td>7.290000e+08</td>\n",
       "      <td>...</td>\n",
       "      <td>1.686000e+09</td>\n",
       "      <td>-0.911</td>\n",
       "      <td>-106.470</td>\n",
       "      <td>0.027648</td>\n",
       "      <td>0.064439</td>\n",
       "      <td>1.369682</td>\n",
       "      <td>25.825349</td>\n",
       "      <td>-31.481888</td>\n",
       "      <td>0.313145</td>\n",
       "      <td>0.557446</td>\n",
       "    </tr>\n",
       "  </tbody>\n",
       "</table>\n",
       "<p>6 rows × 31 columns</p>\n",
       "</div>"
      ],
      "text/plain": [
       "      ticker       revenue       pb          debt        assets  netmargin  \\\n",
       "15741   NCLH  1.480618e+09    1.907  6.801693e+09  1.668460e+10      0.082   \n",
       "22792    HTZ  2.325000e+09    1.265  1.893700e+10  2.462700e+10     -0.051   \n",
       "25128     GE  1.573700e+10    3.442  9.088200e+10  2.660480e+11      0.034   \n",
       "36147     BA  1.791100e+10  -21.276  2.730200e+10  1.336250e+11     -0.056   \n",
       "38187    AMD  2.127000e+09   18.191  6.850000e+08  6.028000e+09      0.080   \n",
       "40217    AAL  1.131300e+10 -106.470  3.344400e+10  5.999500e+10      0.037   \n",
       "\n",
       "               ncfo      shareswa     sps         opinc  ...     netinccmn  \\\n",
       "15741  3.418510e+08  2.128776e+08   6.955  1.993760e+08  ...  9.302280e+08   \n",
       "22792  6.670000e+08  1.170000e+08  19.872  8.900000e+07  ... -5.800000e+07   \n",
       "25128  6.739000e+09  8.733549e+09   1.802  2.186000e+09  ... -5.439000e+09   \n",
       "36147 -2.220000e+09  5.627912e+08  31.825 -2.599000e+09  ... -6.360000e+08   \n",
       "38187  4.420000e+08  1.139000e+09   1.867  3.480000e+08  ...  3.410000e+08   \n",
       "40217  6.000000e+08  4.380580e+08  25.825  7.290000e+08  ...  1.686000e+09   \n",
       "\n",
       "        fcfps  PX_TO_BOOK_RATIO RETURN_ON_ASSET OPER_MARGIN  \\\n",
       "15741   0.863             1.907        0.057823    0.134657   \n",
       "22792 -13.034             1.265       -0.002307    0.038280   \n",
       "25128   0.732             3.442       -0.018816    0.138908   \n",
       "36147  -7.011           -21.276       -0.004962   -0.145106   \n",
       "38187   0.253            18.191        0.063995    0.163611   \n",
       "40217  -0.911          -106.470        0.027648    0.064439   \n",
       "\n",
       "       CASH_FLOW_PER_SHARE  REVENUE_PER_SHARE  PX_FREE_CASH_FLOW  quick_ratio  \\\n",
       "15741             1.606763           6.959180          67.682503     0.091504   \n",
       "22792             4.693162          16.359223          -1.208378          NaN   \n",
       "25128             0.771622           1.801902          15.245902          NaN   \n",
       "36147            -3.944624          31.825300         -46.464128     0.253175   \n",
       "38187             0.396901           1.909974         182.529644     1.425180   \n",
       "40217             1.369682          25.825349         -31.481888     0.313145   \n",
       "\n",
       "       TOT_DEBT_TO_TOTAL_ASSET  \n",
       "15741                 0.407663  \n",
       "22792                 0.768953  \n",
       "25128                 0.341600  \n",
       "36147                 0.204318  \n",
       "38187                 0.113636  \n",
       "40217                 0.557446  \n",
       "\n",
       "[6 rows x 31 columns]"
      ]
     },
     "execution_count": 13,
     "metadata": {},
     "output_type": "execute_result"
    }
   ],
   "source": [
    "df[df['ticker'].isin(['AMD', 'BA', 'GE', 'HTZ', 'AAL', 'NCLH', 'JILL', 'INTEQ'])] #can drop quick_ratio or drop HTZ, GE"
   ]
  },
  {
   "cell_type": "code",
   "execution_count": 14,
   "metadata": {},
   "outputs": [],
   "source": [
    "df = df.replace([np.inf, -np.inf], np.nan)\n"
   ]
  },
  {
   "cell_type": "code",
   "execution_count": 15,
   "metadata": {
    "scrolled": false
   },
   "outputs": [],
   "source": [
    "\n",
    "df = df.dropna()"
   ]
  },
  {
   "cell_type": "code",
   "execution_count": 16,
   "metadata": {},
   "outputs": [
    {
     "name": "stdout",
     "output_type": "stream",
     "text": [
      "<class 'pandas.core.frame.DataFrame'>\n",
      "Int64Index: 1493 entries, 1 to 40257\n",
      "Data columns (total 31 columns):\n",
      " #   Column                   Non-Null Count  Dtype         \n",
      "---  ------                   --------------  -----         \n",
      " 0   ticker                   1493 non-null   object        \n",
      " 1   revenue                  1493 non-null   float64       \n",
      " 2   pb                       1493 non-null   float64       \n",
      " 3   debt                     1493 non-null   float64       \n",
      " 4   assets                   1493 non-null   float64       \n",
      " 5   netmargin                1493 non-null   float64       \n",
      " 6   ncfo                     1493 non-null   float64       \n",
      " 7   shareswa                 1493 non-null   float64       \n",
      " 8   sps                      1493 non-null   float64       \n",
      " 9   opinc                    1493 non-null   float64       \n",
      " 10  assetsc                  1493 non-null   float64       \n",
      " 11  liabilitiesc             1493 non-null   float64       \n",
      " 12  price                    1493 non-null   float64       \n",
      " 13  calendardate             1493 non-null   datetime64[ns]\n",
      " 14  datekey                  1493 non-null   object        \n",
      " 15  sharesbas                1493 non-null   float64       \n",
      " 16  equity                   1493 non-null   float64       \n",
      " 17  receivables              1493 non-null   float64       \n",
      " 18  investmentsc             1493 non-null   float64       \n",
      " 19  cashneq                  1493 non-null   float64       \n",
      " 20  assetsavg                1493 non-null   float64       \n",
      " 21  netinccmn                1493 non-null   float64       \n",
      " 22  fcfps                    1493 non-null   float64       \n",
      " 23  PX_TO_BOOK_RATIO         1493 non-null   float64       \n",
      " 24  RETURN_ON_ASSET          1493 non-null   float64       \n",
      " 25  OPER_MARGIN              1493 non-null   float64       \n",
      " 26  CASH_FLOW_PER_SHARE      1493 non-null   float64       \n",
      " 27  REVENUE_PER_SHARE        1493 non-null   float64       \n",
      " 28  PX_FREE_CASH_FLOW        1493 non-null   float64       \n",
      " 29  quick_ratio              1493 non-null   float64       \n",
      " 30  TOT_DEBT_TO_TOTAL_ASSET  1493 non-null   float64       \n",
      "dtypes: datetime64[ns](1), float64(28), object(2)\n",
      "memory usage: 361.6+ KB\n"
     ]
    }
   ],
   "source": [
    "df.info() #check for infinity how many rows where dropped"
   ]
  },
  {
   "cell_type": "code",
   "execution_count": 17,
   "metadata": {},
   "outputs": [
    {
     "data": {
      "text/html": [
       "<div>\n",
       "<style scoped>\n",
       "    .dataframe tbody tr th:only-of-type {\n",
       "        vertical-align: middle;\n",
       "    }\n",
       "\n",
       "    .dataframe tbody tr th {\n",
       "        vertical-align: top;\n",
       "    }\n",
       "\n",
       "    .dataframe thead th {\n",
       "        text-align: right;\n",
       "    }\n",
       "</style>\n",
       "<table border=\"1\" class=\"dataframe\">\n",
       "  <thead>\n",
       "    <tr style=\"text-align: right;\">\n",
       "      <th></th>\n",
       "      <th>ticker</th>\n",
       "      <th>revenue</th>\n",
       "      <th>pb</th>\n",
       "      <th>debt</th>\n",
       "      <th>assets</th>\n",
       "      <th>netmargin</th>\n",
       "      <th>ncfo</th>\n",
       "      <th>shareswa</th>\n",
       "      <th>sps</th>\n",
       "      <th>opinc</th>\n",
       "      <th>...</th>\n",
       "      <th>netinccmn</th>\n",
       "      <th>fcfps</th>\n",
       "      <th>PX_TO_BOOK_RATIO</th>\n",
       "      <th>RETURN_ON_ASSET</th>\n",
       "      <th>OPER_MARGIN</th>\n",
       "      <th>CASH_FLOW_PER_SHARE</th>\n",
       "      <th>REVENUE_PER_SHARE</th>\n",
       "      <th>PX_FREE_CASH_FLOW</th>\n",
       "      <th>quick_ratio</th>\n",
       "      <th>TOT_DEBT_TO_TOTAL_ASSET</th>\n",
       "    </tr>\n",
       "  </thead>\n",
       "  <tbody>\n",
       "    <tr>\n",
       "      <th>15741</th>\n",
       "      <td>NCLH</td>\n",
       "      <td>1.480618e+09</td>\n",
       "      <td>1.907</td>\n",
       "      <td>6.801693e+09</td>\n",
       "      <td>1.668460e+10</td>\n",
       "      <td>0.082</td>\n",
       "      <td>3.418510e+08</td>\n",
       "      <td>2.128776e+08</td>\n",
       "      <td>6.955</td>\n",
       "      <td>1.993760e+08</td>\n",
       "      <td>...</td>\n",
       "      <td>9.302280e+08</td>\n",
       "      <td>0.863</td>\n",
       "      <td>1.907</td>\n",
       "      <td>0.057823</td>\n",
       "      <td>0.134657</td>\n",
       "      <td>1.606763</td>\n",
       "      <td>6.959180</td>\n",
       "      <td>67.682503</td>\n",
       "      <td>0.091504</td>\n",
       "      <td>0.407663</td>\n",
       "    </tr>\n",
       "    <tr>\n",
       "      <th>36147</th>\n",
       "      <td>BA</td>\n",
       "      <td>1.791100e+10</td>\n",
       "      <td>-21.276</td>\n",
       "      <td>2.730200e+10</td>\n",
       "      <td>1.336250e+11</td>\n",
       "      <td>-0.056</td>\n",
       "      <td>-2.220000e+09</td>\n",
       "      <td>5.627912e+08</td>\n",
       "      <td>31.825</td>\n",
       "      <td>-2.599000e+09</td>\n",
       "      <td>...</td>\n",
       "      <td>-6.360000e+08</td>\n",
       "      <td>-7.011</td>\n",
       "      <td>-21.276</td>\n",
       "      <td>-0.004962</td>\n",
       "      <td>-0.145106</td>\n",
       "      <td>-3.944624</td>\n",
       "      <td>31.825300</td>\n",
       "      <td>-46.464128</td>\n",
       "      <td>0.253175</td>\n",
       "      <td>0.204318</td>\n",
       "    </tr>\n",
       "    <tr>\n",
       "      <th>38187</th>\n",
       "      <td>AMD</td>\n",
       "      <td>2.127000e+09</td>\n",
       "      <td>18.191</td>\n",
       "      <td>6.850000e+08</td>\n",
       "      <td>6.028000e+09</td>\n",
       "      <td>0.080</td>\n",
       "      <td>4.420000e+08</td>\n",
       "      <td>1.139000e+09</td>\n",
       "      <td>1.867</td>\n",
       "      <td>3.480000e+08</td>\n",
       "      <td>...</td>\n",
       "      <td>3.410000e+08</td>\n",
       "      <td>0.253</td>\n",
       "      <td>18.191</td>\n",
       "      <td>0.063995</td>\n",
       "      <td>0.163611</td>\n",
       "      <td>0.396901</td>\n",
       "      <td>1.909974</td>\n",
       "      <td>182.529644</td>\n",
       "      <td>1.425180</td>\n",
       "      <td>0.113636</td>\n",
       "    </tr>\n",
       "    <tr>\n",
       "      <th>40217</th>\n",
       "      <td>AAL</td>\n",
       "      <td>1.131300e+10</td>\n",
       "      <td>-106.470</td>\n",
       "      <td>3.344400e+10</td>\n",
       "      <td>5.999500e+10</td>\n",
       "      <td>0.037</td>\n",
       "      <td>6.000000e+08</td>\n",
       "      <td>4.380580e+08</td>\n",
       "      <td>25.825</td>\n",
       "      <td>7.290000e+08</td>\n",
       "      <td>...</td>\n",
       "      <td>1.686000e+09</td>\n",
       "      <td>-0.911</td>\n",
       "      <td>-106.470</td>\n",
       "      <td>0.027648</td>\n",
       "      <td>0.064439</td>\n",
       "      <td>1.369682</td>\n",
       "      <td>25.825349</td>\n",
       "      <td>-31.481888</td>\n",
       "      <td>0.313145</td>\n",
       "      <td>0.557446</td>\n",
       "    </tr>\n",
       "  </tbody>\n",
       "</table>\n",
       "<p>4 rows × 31 columns</p>\n",
       "</div>"
      ],
      "text/plain": [
       "      ticker       revenue       pb          debt        assets  netmargin  \\\n",
       "15741   NCLH  1.480618e+09    1.907  6.801693e+09  1.668460e+10      0.082   \n",
       "36147     BA  1.791100e+10  -21.276  2.730200e+10  1.336250e+11     -0.056   \n",
       "38187    AMD  2.127000e+09   18.191  6.850000e+08  6.028000e+09      0.080   \n",
       "40217    AAL  1.131300e+10 -106.470  3.344400e+10  5.999500e+10      0.037   \n",
       "\n",
       "               ncfo      shareswa     sps         opinc  ...     netinccmn  \\\n",
       "15741  3.418510e+08  2.128776e+08   6.955  1.993760e+08  ...  9.302280e+08   \n",
       "36147 -2.220000e+09  5.627912e+08  31.825 -2.599000e+09  ... -6.360000e+08   \n",
       "38187  4.420000e+08  1.139000e+09   1.867  3.480000e+08  ...  3.410000e+08   \n",
       "40217  6.000000e+08  4.380580e+08  25.825  7.290000e+08  ...  1.686000e+09   \n",
       "\n",
       "       fcfps  PX_TO_BOOK_RATIO RETURN_ON_ASSET OPER_MARGIN  \\\n",
       "15741  0.863             1.907        0.057823    0.134657   \n",
       "36147 -7.011           -21.276       -0.004962   -0.145106   \n",
       "38187  0.253            18.191        0.063995    0.163611   \n",
       "40217 -0.911          -106.470        0.027648    0.064439   \n",
       "\n",
       "       CASH_FLOW_PER_SHARE  REVENUE_PER_SHARE  PX_FREE_CASH_FLOW  quick_ratio  \\\n",
       "15741             1.606763           6.959180          67.682503     0.091504   \n",
       "36147            -3.944624          31.825300         -46.464128     0.253175   \n",
       "38187             0.396901           1.909974         182.529644     1.425180   \n",
       "40217             1.369682          25.825349         -31.481888     0.313145   \n",
       "\n",
       "       TOT_DEBT_TO_TOTAL_ASSET  \n",
       "15741                 0.407663  \n",
       "36147                 0.204318  \n",
       "38187                 0.113636  \n",
       "40217                 0.557446  \n",
       "\n",
       "[4 rows x 31 columns]"
      ]
     },
     "execution_count": 17,
     "metadata": {},
     "output_type": "execute_result"
    }
   ],
   "source": [
    "df[df['ticker'].isin(['AMD', 'BA', 'GE', 'HTZ', 'AAL', 'NCLH', 'JILL', 'INTEQ'])]"
   ]
  },
  {
   "cell_type": "code",
   "execution_count": 18,
   "metadata": {},
   "outputs": [
    {
     "data": {
      "text/html": [
       "<div>\n",
       "<style scoped>\n",
       "    .dataframe tbody tr th:only-of-type {\n",
       "        vertical-align: middle;\n",
       "    }\n",
       "\n",
       "    .dataframe tbody tr th {\n",
       "        vertical-align: top;\n",
       "    }\n",
       "\n",
       "    .dataframe thead th {\n",
       "        text-align: right;\n",
       "    }\n",
       "</style>\n",
       "<table border=\"1\" class=\"dataframe\">\n",
       "  <thead>\n",
       "    <tr style=\"text-align: right;\">\n",
       "      <th></th>\n",
       "      <th>ticker</th>\n",
       "      <th>revenue</th>\n",
       "      <th>pb</th>\n",
       "      <th>debt</th>\n",
       "      <th>assets</th>\n",
       "      <th>netmargin</th>\n",
       "      <th>ncfo</th>\n",
       "      <th>shareswa</th>\n",
       "      <th>sps</th>\n",
       "      <th>opinc</th>\n",
       "      <th>...</th>\n",
       "      <th>netinccmn</th>\n",
       "      <th>fcfps</th>\n",
       "      <th>PX_TO_BOOK_RATIO</th>\n",
       "      <th>RETURN_ON_ASSET</th>\n",
       "      <th>OPER_MARGIN</th>\n",
       "      <th>CASH_FLOW_PER_SHARE</th>\n",
       "      <th>REVENUE_PER_SHARE</th>\n",
       "      <th>PX_FREE_CASH_FLOW</th>\n",
       "      <th>quick_ratio</th>\n",
       "      <th>TOT_DEBT_TO_TOTAL_ASSET</th>\n",
       "    </tr>\n",
       "  </thead>\n",
       "  <tbody>\n",
       "    <tr>\n",
       "      <th>1</th>\n",
       "      <td>ZYME</td>\n",
       "      <td>1.877000e+06</td>\n",
       "      <td>7.288</td>\n",
       "      <td>6.881000e+06</td>\n",
       "      <td>3.682050e+08</td>\n",
       "      <td>-38.489</td>\n",
       "      <td>-36354000.0</td>\n",
       "      <td>43658717.0</td>\n",
       "      <td>0.043</td>\n",
       "      <td>-73752000.0</td>\n",
       "      <td>...</td>\n",
       "      <td>-1.454370e+08</td>\n",
       "      <td>-2.319</td>\n",
       "      <td>7.288</td>\n",
       "      <td>-0.409374</td>\n",
       "      <td>-39.292488</td>\n",
       "      <td>-0.922987</td>\n",
       "      <td>0.047655</td>\n",
       "      <td>-19.603277</td>\n",
       "      <td>3.647265</td>\n",
       "      <td>0.018688</td>\n",
       "    </tr>\n",
       "    <tr>\n",
       "      <th>16</th>\n",
       "      <td>ZUO</td>\n",
       "      <td>7.039300e+07</td>\n",
       "      <td>10.140</td>\n",
       "      <td>7.858800e+07</td>\n",
       "      <td>4.022270e+08</td>\n",
       "      <td>-0.337</td>\n",
       "      <td>4009000.0</td>\n",
       "      <td>113180000.0</td>\n",
       "      <td>0.622</td>\n",
       "      <td>-24449000.0</td>\n",
       "      <td>...</td>\n",
       "      <td>-8.339400e+07</td>\n",
       "      <td>-0.225</td>\n",
       "      <td>10.140</td>\n",
       "      <td>-0.243414</td>\n",
       "      <td>-0.347321</td>\n",
       "      <td>0.035415</td>\n",
       "      <td>0.621846</td>\n",
       "      <td>-65.555556</td>\n",
       "      <td>1.454003</td>\n",
       "      <td>0.195382</td>\n",
       "    </tr>\n",
       "    <tr>\n",
       "      <th>30</th>\n",
       "      <td>ZTS</td>\n",
       "      <td>1.674000e+09</td>\n",
       "      <td>23.279</td>\n",
       "      <td>6.611000e+09</td>\n",
       "      <td>1.154500e+10</td>\n",
       "      <td>0.229</td>\n",
       "      <td>582000000.0</td>\n",
       "      <td>476412000.0</td>\n",
       "      <td>3.514</td>\n",
       "      <td>493000000.0</td>\n",
       "      <td>...</td>\n",
       "      <td>1.500000e+09</td>\n",
       "      <td>2.792</td>\n",
       "      <td>23.279</td>\n",
       "      <td>0.134270</td>\n",
       "      <td>0.294504</td>\n",
       "      <td>1.221921</td>\n",
       "      <td>3.514597</td>\n",
       "      <td>47.403295</td>\n",
       "      <td>1.672204</td>\n",
       "      <td>0.572629</td>\n",
       "    </tr>\n",
       "    <tr>\n",
       "      <th>51</th>\n",
       "      <td>ZS</td>\n",
       "      <td>1.012680e+08</td>\n",
       "      <td>22.487</td>\n",
       "      <td>3.444200e+07</td>\n",
       "      <td>6.764250e+08</td>\n",
       "      <td>-0.288</td>\n",
       "      <td>5431000.0</td>\n",
       "      <td>128408000.0</td>\n",
       "      <td>0.789</td>\n",
       "      <td>-30280000.0</td>\n",
       "      <td>...</td>\n",
       "      <td>-6.374200e+07</td>\n",
       "      <td>0.153</td>\n",
       "      <td>22.487</td>\n",
       "      <td>-0.103884</td>\n",
       "      <td>-0.299009</td>\n",
       "      <td>0.042444</td>\n",
       "      <td>0.791419</td>\n",
       "      <td>366.601307</td>\n",
       "      <td>1.579705</td>\n",
       "      <td>0.050918</td>\n",
       "    </tr>\n",
       "    <tr>\n",
       "      <th>65</th>\n",
       "      <td>ZNGA</td>\n",
       "      <td>4.044630e+08</td>\n",
       "      <td>2.931</td>\n",
       "      <td>7.165100e+08</td>\n",
       "      <td>3.660614e+09</td>\n",
       "      <td>-0.009</td>\n",
       "      <td>94049000.0</td>\n",
       "      <td>947733000.0</td>\n",
       "      <td>0.427</td>\n",
       "      <td>4332000.0</td>\n",
       "      <td>...</td>\n",
       "      <td>4.192500e+07</td>\n",
       "      <td>0.873</td>\n",
       "      <td>2.931</td>\n",
       "      <td>0.012826</td>\n",
       "      <td>0.010710</td>\n",
       "      <td>0.099426</td>\n",
       "      <td>0.427586</td>\n",
       "      <td>7.010309</td>\n",
       "      <td>1.933891</td>\n",
       "      <td>0.195735</td>\n",
       "    </tr>\n",
       "  </tbody>\n",
       "</table>\n",
       "<p>5 rows × 31 columns</p>\n",
       "</div>"
      ],
      "text/plain": [
       "   ticker       revenue      pb          debt        assets  netmargin  \\\n",
       "1    ZYME  1.877000e+06   7.288  6.881000e+06  3.682050e+08    -38.489   \n",
       "16    ZUO  7.039300e+07  10.140  7.858800e+07  4.022270e+08     -0.337   \n",
       "30    ZTS  1.674000e+09  23.279  6.611000e+09  1.154500e+10      0.229   \n",
       "51     ZS  1.012680e+08  22.487  3.444200e+07  6.764250e+08     -0.288   \n",
       "65   ZNGA  4.044630e+08   2.931  7.165100e+08  3.660614e+09     -0.009   \n",
       "\n",
       "           ncfo     shareswa    sps        opinc  ...     netinccmn  fcfps  \\\n",
       "1   -36354000.0   43658717.0  0.043  -73752000.0  ... -1.454370e+08 -2.319   \n",
       "16    4009000.0  113180000.0  0.622  -24449000.0  ... -8.339400e+07 -0.225   \n",
       "30  582000000.0  476412000.0  3.514  493000000.0  ...  1.500000e+09  2.792   \n",
       "51    5431000.0  128408000.0  0.789  -30280000.0  ... -6.374200e+07  0.153   \n",
       "65   94049000.0  947733000.0  0.427    4332000.0  ...  4.192500e+07  0.873   \n",
       "\n",
       "    PX_TO_BOOK_RATIO RETURN_ON_ASSET OPER_MARGIN  CASH_FLOW_PER_SHARE  \\\n",
       "1              7.288       -0.409374  -39.292488            -0.922987   \n",
       "16            10.140       -0.243414   -0.347321             0.035415   \n",
       "30            23.279        0.134270    0.294504             1.221921   \n",
       "51            22.487       -0.103884   -0.299009             0.042444   \n",
       "65             2.931        0.012826    0.010710             0.099426   \n",
       "\n",
       "    REVENUE_PER_SHARE  PX_FREE_CASH_FLOW  quick_ratio  TOT_DEBT_TO_TOTAL_ASSET  \n",
       "1            0.047655         -19.603277     3.647265                 0.018688  \n",
       "16           0.621846         -65.555556     1.454003                 0.195382  \n",
       "30           3.514597          47.403295     1.672204                 0.572629  \n",
       "51           0.791419         366.601307     1.579705                 0.050918  \n",
       "65           0.427586           7.010309     1.933891                 0.195735  \n",
       "\n",
       "[5 rows x 31 columns]"
      ]
     },
     "execution_count": 18,
     "metadata": {},
     "output_type": "execute_result"
    }
   ],
   "source": [
    "#df['calendardate']\n",
    "df.head()"
   ]
  },
  {
   "cell_type": "code",
   "execution_count": 19,
   "metadata": {},
   "outputs": [],
   "source": [
    "df_copy = df.copy() #can cluster labels in df copy for cluster analyses."
   ]
  },
  {
   "cell_type": "markdown",
   "metadata": {},
   "source": [
    "drop_cols = ['datekey', 'calendardate', 'TOT_DEBT_TO_TOTAL_ASSET', 'PX_FREE_CASH_FLOW', 'REVENUE_PER_SHARE', 'CASH_FLOW_PER_SHARE',\n",
    "            'OPER_MARGIN', 'RETURN_ON_ASSET', 'PX_TO_BOOK_RATIO', 'ticker']\n",
    "df.drop(columns = drop_cols, inplace=True)\n"
   ]
  },
  {
   "cell_type": "code",
   "execution_count": 20,
   "metadata": {},
   "outputs": [
    {
     "data": {
      "text/plain": [
       "ticker                     0\n",
       "revenue                    0\n",
       "pb                         0\n",
       "debt                       0\n",
       "assets                     0\n",
       "netmargin                  0\n",
       "ncfo                       0\n",
       "shareswa                   0\n",
       "sps                        0\n",
       "opinc                      0\n",
       "assetsc                    0\n",
       "liabilitiesc               0\n",
       "price                      0\n",
       "calendardate               0\n",
       "datekey                    0\n",
       "sharesbas                  0\n",
       "equity                     0\n",
       "receivables                0\n",
       "investmentsc               0\n",
       "cashneq                    0\n",
       "assetsavg                  0\n",
       "netinccmn                  0\n",
       "fcfps                      0\n",
       "PX_TO_BOOK_RATIO           0\n",
       "RETURN_ON_ASSET            0\n",
       "OPER_MARGIN                0\n",
       "CASH_FLOW_PER_SHARE        0\n",
       "REVENUE_PER_SHARE          0\n",
       "PX_FREE_CASH_FLOW          0\n",
       "quick_ratio                0\n",
       "TOT_DEBT_TO_TOTAL_ASSET    0\n",
       "dtype: int64"
      ]
     },
     "execution_count": 20,
     "metadata": {},
     "output_type": "execute_result"
    }
   ],
   "source": [
    "df.isna().sum()"
   ]
  },
  {
   "cell_type": "code",
   "execution_count": 21,
   "metadata": {
    "scrolled": false
   },
   "outputs": [
    {
     "data": {
      "text/html": [
       "<div>\n",
       "<style scoped>\n",
       "    .dataframe tbody tr th:only-of-type {\n",
       "        vertical-align: middle;\n",
       "    }\n",
       "\n",
       "    .dataframe tbody tr th {\n",
       "        vertical-align: top;\n",
       "    }\n",
       "\n",
       "    .dataframe thead th {\n",
       "        text-align: right;\n",
       "    }\n",
       "</style>\n",
       "<table border=\"1\" class=\"dataframe\">\n",
       "  <thead>\n",
       "    <tr style=\"text-align: right;\">\n",
       "      <th></th>\n",
       "      <th>TOT_DEBT_TO_TOTAL_ASSET</th>\n",
       "      <th>PX_FREE_CASH_FLOW</th>\n",
       "      <th>REVENUE_PER_SHARE</th>\n",
       "      <th>CASH_FLOW_PER_SHARE</th>\n",
       "      <th>OPER_MARGIN</th>\n",
       "      <th>RETURN_ON_ASSET</th>\n",
       "      <th>PX_TO_BOOK_RATIO</th>\n",
       "      <th>quick_ratio</th>\n",
       "      <th>equity</th>\n",
       "      <th>netmargin</th>\n",
       "    </tr>\n",
       "  </thead>\n",
       "  <tbody>\n",
       "    <tr>\n",
       "      <th>1</th>\n",
       "      <td>0.018688</td>\n",
       "      <td>-19.603277</td>\n",
       "      <td>0.047655</td>\n",
       "      <td>-0.922987</td>\n",
       "      <td>-39.292488</td>\n",
       "      <td>-0.409374</td>\n",
       "      <td>7.288</td>\n",
       "      <td>3.647265</td>\n",
       "      <td>2.456810e+08</td>\n",
       "      <td>-38.489</td>\n",
       "    </tr>\n",
       "    <tr>\n",
       "      <th>16</th>\n",
       "      <td>0.195382</td>\n",
       "      <td>-65.555556</td>\n",
       "      <td>0.621846</td>\n",
       "      <td>0.035415</td>\n",
       "      <td>-0.347321</td>\n",
       "      <td>-0.243414</td>\n",
       "      <td>10.140</td>\n",
       "      <td>1.454003</td>\n",
       "      <td>1.646590e+08</td>\n",
       "      <td>-0.337</td>\n",
       "    </tr>\n",
       "    <tr>\n",
       "      <th>30</th>\n",
       "      <td>0.572629</td>\n",
       "      <td>47.403295</td>\n",
       "      <td>3.514597</td>\n",
       "      <td>1.221921</td>\n",
       "      <td>0.294504</td>\n",
       "      <td>0.134270</td>\n",
       "      <td>23.279</td>\n",
       "      <td>1.672204</td>\n",
       "      <td>2.708000e+09</td>\n",
       "      <td>0.229</td>\n",
       "    </tr>\n",
       "    <tr>\n",
       "      <th>51</th>\n",
       "      <td>0.050918</td>\n",
       "      <td>366.601307</td>\n",
       "      <td>0.791419</td>\n",
       "      <td>0.042444</td>\n",
       "      <td>-0.299009</td>\n",
       "      <td>-0.103884</td>\n",
       "      <td>22.487</td>\n",
       "      <td>1.579705</td>\n",
       "      <td>3.191640e+08</td>\n",
       "      <td>-0.288</td>\n",
       "    </tr>\n",
       "    <tr>\n",
       "      <th>65</th>\n",
       "      <td>0.195735</td>\n",
       "      <td>7.010309</td>\n",
       "      <td>0.427586</td>\n",
       "      <td>0.099426</td>\n",
       "      <td>0.010710</td>\n",
       "      <td>0.012826</td>\n",
       "      <td>2.931</td>\n",
       "      <td>1.933891</td>\n",
       "      <td>1.975430e+09</td>\n",
       "      <td>-0.009</td>\n",
       "    </tr>\n",
       "  </tbody>\n",
       "</table>\n",
       "</div>"
      ],
      "text/plain": [
       "    TOT_DEBT_TO_TOTAL_ASSET  PX_FREE_CASH_FLOW  REVENUE_PER_SHARE  \\\n",
       "1                  0.018688         -19.603277           0.047655   \n",
       "16                 0.195382         -65.555556           0.621846   \n",
       "30                 0.572629          47.403295           3.514597   \n",
       "51                 0.050918         366.601307           0.791419   \n",
       "65                 0.195735           7.010309           0.427586   \n",
       "\n",
       "    CASH_FLOW_PER_SHARE  OPER_MARGIN  RETURN_ON_ASSET  PX_TO_BOOK_RATIO  \\\n",
       "1             -0.922987   -39.292488        -0.409374             7.288   \n",
       "16             0.035415    -0.347321        -0.243414            10.140   \n",
       "30             1.221921     0.294504         0.134270            23.279   \n",
       "51             0.042444    -0.299009        -0.103884            22.487   \n",
       "65             0.099426     0.010710         0.012826             2.931   \n",
       "\n",
       "    quick_ratio        equity  netmargin  \n",
       "1      3.647265  2.456810e+08    -38.489  \n",
       "16     1.454003  1.646590e+08     -0.337  \n",
       "30     1.672204  2.708000e+09      0.229  \n",
       "51     1.579705  3.191640e+08     -0.288  \n",
       "65     1.933891  1.975430e+09     -0.009  "
      ]
     },
     "execution_count": 21,
     "metadata": {},
     "output_type": "execute_result"
    }
   ],
   "source": [
    "keep_cols = ['TOT_DEBT_TO_TOTAL_ASSET', 'PX_FREE_CASH_FLOW', 'REVENUE_PER_SHARE', 'CASH_FLOW_PER_SHARE',\n",
    "            'OPER_MARGIN', 'RETURN_ON_ASSET', 'PX_TO_BOOK_RATIO', 'quick_ratio', 'equity', 'netmargin']\n",
    "df=df[keep_cols]\n",
    "df.head()"
   ]
  },
  {
   "cell_type": "code",
   "execution_count": null,
   "metadata": {},
   "outputs": [],
   "source": []
  },
  {
   "cell_type": "code",
   "execution_count": 22,
   "metadata": {},
   "outputs": [
    {
     "data": {
      "text/html": [
       "<div>\n",
       "<style scoped>\n",
       "    .dataframe tbody tr th:only-of-type {\n",
       "        vertical-align: middle;\n",
       "    }\n",
       "\n",
       "    .dataframe tbody tr th {\n",
       "        vertical-align: top;\n",
       "    }\n",
       "\n",
       "    .dataframe thead th {\n",
       "        text-align: right;\n",
       "    }\n",
       "</style>\n",
       "<table border=\"1\" class=\"dataframe\">\n",
       "  <thead>\n",
       "    <tr style=\"text-align: right;\">\n",
       "      <th></th>\n",
       "      <th>TOT_DEBT_TO_TOTAL_ASSET</th>\n",
       "      <th>PX_FREE_CASH_FLOW</th>\n",
       "      <th>REVENUE_PER_SHARE</th>\n",
       "      <th>CASH_FLOW_PER_SHARE</th>\n",
       "      <th>OPER_MARGIN</th>\n",
       "      <th>RETURN_ON_ASSET</th>\n",
       "      <th>PX_TO_BOOK_RATIO</th>\n",
       "      <th>quick_ratio</th>\n",
       "      <th>equity</th>\n",
       "      <th>netmargin</th>\n",
       "    </tr>\n",
       "  </thead>\n",
       "  <tbody>\n",
       "    <tr>\n",
       "      <th>1</th>\n",
       "      <td>0.018688</td>\n",
       "      <td>-19.603277</td>\n",
       "      <td>0.047655</td>\n",
       "      <td>-0.922987</td>\n",
       "      <td>-39.292488</td>\n",
       "      <td>-0.409374</td>\n",
       "      <td>7.288</td>\n",
       "      <td>3.647265</td>\n",
       "      <td>2.456810e+08</td>\n",
       "      <td>-38.489</td>\n",
       "    </tr>\n",
       "    <tr>\n",
       "      <th>16</th>\n",
       "      <td>0.195382</td>\n",
       "      <td>-65.555556</td>\n",
       "      <td>0.621846</td>\n",
       "      <td>0.035415</td>\n",
       "      <td>-0.347321</td>\n",
       "      <td>-0.243414</td>\n",
       "      <td>10.140</td>\n",
       "      <td>1.454003</td>\n",
       "      <td>1.646590e+08</td>\n",
       "      <td>-0.337</td>\n",
       "    </tr>\n",
       "    <tr>\n",
       "      <th>30</th>\n",
       "      <td>0.572629</td>\n",
       "      <td>47.403295</td>\n",
       "      <td>3.514597</td>\n",
       "      <td>1.221921</td>\n",
       "      <td>0.294504</td>\n",
       "      <td>0.134270</td>\n",
       "      <td>23.279</td>\n",
       "      <td>1.672204</td>\n",
       "      <td>2.708000e+09</td>\n",
       "      <td>0.229</td>\n",
       "    </tr>\n",
       "    <tr>\n",
       "      <th>51</th>\n",
       "      <td>0.050918</td>\n",
       "      <td>366.601307</td>\n",
       "      <td>0.791419</td>\n",
       "      <td>0.042444</td>\n",
       "      <td>-0.299009</td>\n",
       "      <td>-0.103884</td>\n",
       "      <td>22.487</td>\n",
       "      <td>1.579705</td>\n",
       "      <td>3.191640e+08</td>\n",
       "      <td>-0.288</td>\n",
       "    </tr>\n",
       "    <tr>\n",
       "      <th>65</th>\n",
       "      <td>0.195735</td>\n",
       "      <td>7.010309</td>\n",
       "      <td>0.427586</td>\n",
       "      <td>0.099426</td>\n",
       "      <td>0.010710</td>\n",
       "      <td>0.012826</td>\n",
       "      <td>2.931</td>\n",
       "      <td>1.933891</td>\n",
       "      <td>1.975430e+09</td>\n",
       "      <td>-0.009</td>\n",
       "    </tr>\n",
       "  </tbody>\n",
       "</table>\n",
       "</div>"
      ],
      "text/plain": [
       "    TOT_DEBT_TO_TOTAL_ASSET  PX_FREE_CASH_FLOW  REVENUE_PER_SHARE  \\\n",
       "1                  0.018688         -19.603277           0.047655   \n",
       "16                 0.195382         -65.555556           0.621846   \n",
       "30                 0.572629          47.403295           3.514597   \n",
       "51                 0.050918         366.601307           0.791419   \n",
       "65                 0.195735           7.010309           0.427586   \n",
       "\n",
       "    CASH_FLOW_PER_SHARE  OPER_MARGIN  RETURN_ON_ASSET  PX_TO_BOOK_RATIO  \\\n",
       "1             -0.922987   -39.292488        -0.409374             7.288   \n",
       "16             0.035415    -0.347321        -0.243414            10.140   \n",
       "30             1.221921     0.294504         0.134270            23.279   \n",
       "51             0.042444    -0.299009        -0.103884            22.487   \n",
       "65             0.099426     0.010710         0.012826             2.931   \n",
       "\n",
       "    quick_ratio        equity  netmargin  \n",
       "1      3.647265  2.456810e+08    -38.489  \n",
       "16     1.454003  1.646590e+08     -0.337  \n",
       "30     1.672204  2.708000e+09      0.229  \n",
       "51     1.579705  3.191640e+08     -0.288  \n",
       "65     1.933891  1.975430e+09     -0.009  "
      ]
     },
     "execution_count": 22,
     "metadata": {},
     "output_type": "execute_result"
    }
   ],
   "source": [
    "df.head()\n"
   ]
  },
  {
   "cell_type": "code",
   "execution_count": 23,
   "metadata": {},
   "outputs": [],
   "source": [
    "#find out what's the fastest way to find upper case and drop them."
   ]
  },
  {
   "cell_type": "code",
   "execution_count": 25,
   "metadata": {},
   "outputs": [
    {
     "data": {
      "text/html": [
       "<div>\n",
       "<style scoped>\n",
       "    .dataframe tbody tr th:only-of-type {\n",
       "        vertical-align: middle;\n",
       "    }\n",
       "\n",
       "    .dataframe tbody tr th {\n",
       "        vertical-align: top;\n",
       "    }\n",
       "\n",
       "    .dataframe thead th {\n",
       "        text-align: right;\n",
       "    }\n",
       "</style>\n",
       "<table border=\"1\" class=\"dataframe\">\n",
       "  <thead>\n",
       "    <tr style=\"text-align: right;\">\n",
       "      <th></th>\n",
       "      <th>TOT_DEBT_TO_TOTAL_ASSET</th>\n",
       "      <th>PX_FREE_CASH_FLOW</th>\n",
       "      <th>REVENUE_PER_SHARE</th>\n",
       "      <th>CASH_FLOW_PER_SHARE</th>\n",
       "      <th>OPER_MARGIN</th>\n",
       "      <th>RETURN_ON_ASSET</th>\n",
       "      <th>PX_TO_BOOK_RATIO</th>\n",
       "      <th>quick_ratio</th>\n",
       "      <th>equity</th>\n",
       "      <th>netmargin</th>\n",
       "    </tr>\n",
       "  </thead>\n",
       "  <tbody>\n",
       "    <tr>\n",
       "      <th>TOT_DEBT_TO_TOTAL_ASSET</th>\n",
       "      <td>1.000000</td>\n",
       "      <td>-0.009748</td>\n",
       "      <td>0.005964</td>\n",
       "      <td>0.021061</td>\n",
       "      <td>0.069597</td>\n",
       "      <td>0.094259</td>\n",
       "      <td>-0.045669</td>\n",
       "      <td>-0.169095</td>\n",
       "      <td>0.004443</td>\n",
       "      <td>0.066201</td>\n",
       "    </tr>\n",
       "    <tr>\n",
       "      <th>PX_FREE_CASH_FLOW</th>\n",
       "      <td>-0.009748</td>\n",
       "      <td>1.000000</td>\n",
       "      <td>-0.004659</td>\n",
       "      <td>-0.004172</td>\n",
       "      <td>0.006953</td>\n",
       "      <td>0.051876</td>\n",
       "      <td>0.011290</td>\n",
       "      <td>0.024979</td>\n",
       "      <td>-0.002127</td>\n",
       "      <td>0.006396</td>\n",
       "    </tr>\n",
       "    <tr>\n",
       "      <th>REVENUE_PER_SHARE</th>\n",
       "      <td>0.005964</td>\n",
       "      <td>-0.004659</td>\n",
       "      <td>1.000000</td>\n",
       "      <td>0.892506</td>\n",
       "      <td>0.011968</td>\n",
       "      <td>0.035092</td>\n",
       "      <td>-0.003294</td>\n",
       "      <td>-0.037426</td>\n",
       "      <td>0.815309</td>\n",
       "      <td>0.010660</td>\n",
       "    </tr>\n",
       "    <tr>\n",
       "      <th>CASH_FLOW_PER_SHARE</th>\n",
       "      <td>0.021061</td>\n",
       "      <td>-0.004172</td>\n",
       "      <td>0.892506</td>\n",
       "      <td>1.000000</td>\n",
       "      <td>0.021760</td>\n",
       "      <td>0.094722</td>\n",
       "      <td>-0.006566</td>\n",
       "      <td>-0.053225</td>\n",
       "      <td>0.889748</td>\n",
       "      <td>0.019044</td>\n",
       "    </tr>\n",
       "    <tr>\n",
       "      <th>OPER_MARGIN</th>\n",
       "      <td>0.069597</td>\n",
       "      <td>0.006953</td>\n",
       "      <td>0.011968</td>\n",
       "      <td>0.021760</td>\n",
       "      <td>1.000000</td>\n",
       "      <td>0.285012</td>\n",
       "      <td>-0.006289</td>\n",
       "      <td>-0.129486</td>\n",
       "      <td>0.002986</td>\n",
       "      <td>0.900705</td>\n",
       "    </tr>\n",
       "    <tr>\n",
       "      <th>RETURN_ON_ASSET</th>\n",
       "      <td>0.094259</td>\n",
       "      <td>0.051876</td>\n",
       "      <td>0.035092</td>\n",
       "      <td>0.094722</td>\n",
       "      <td>0.285012</td>\n",
       "      <td>1.000000</td>\n",
       "      <td>-0.017569</td>\n",
       "      <td>-0.133204</td>\n",
       "      <td>0.007883</td>\n",
       "      <td>0.258953</td>\n",
       "    </tr>\n",
       "    <tr>\n",
       "      <th>PX_TO_BOOK_RATIO</th>\n",
       "      <td>-0.045669</td>\n",
       "      <td>0.011290</td>\n",
       "      <td>-0.003294</td>\n",
       "      <td>-0.006566</td>\n",
       "      <td>-0.006289</td>\n",
       "      <td>-0.017569</td>\n",
       "      <td>1.000000</td>\n",
       "      <td>0.005273</td>\n",
       "      <td>-0.001863</td>\n",
       "      <td>-0.005069</td>\n",
       "    </tr>\n",
       "    <tr>\n",
       "      <th>quick_ratio</th>\n",
       "      <td>-0.169095</td>\n",
       "      <td>0.024979</td>\n",
       "      <td>-0.037426</td>\n",
       "      <td>-0.053225</td>\n",
       "      <td>-0.129486</td>\n",
       "      <td>-0.133204</td>\n",
       "      <td>0.005273</td>\n",
       "      <td>1.000000</td>\n",
       "      <td>-0.007829</td>\n",
       "      <td>-0.182241</td>\n",
       "    </tr>\n",
       "    <tr>\n",
       "      <th>equity</th>\n",
       "      <td>0.004443</td>\n",
       "      <td>-0.002127</td>\n",
       "      <td>0.815309</td>\n",
       "      <td>0.889748</td>\n",
       "      <td>0.002986</td>\n",
       "      <td>0.007883</td>\n",
       "      <td>-0.001863</td>\n",
       "      <td>-0.007829</td>\n",
       "      <td>1.000000</td>\n",
       "      <td>0.002667</td>\n",
       "    </tr>\n",
       "    <tr>\n",
       "      <th>netmargin</th>\n",
       "      <td>0.066201</td>\n",
       "      <td>0.006396</td>\n",
       "      <td>0.010660</td>\n",
       "      <td>0.019044</td>\n",
       "      <td>0.900705</td>\n",
       "      <td>0.258953</td>\n",
       "      <td>-0.005069</td>\n",
       "      <td>-0.182241</td>\n",
       "      <td>0.002667</td>\n",
       "      <td>1.000000</td>\n",
       "    </tr>\n",
       "  </tbody>\n",
       "</table>\n",
       "</div>"
      ],
      "text/plain": [
       "                         TOT_DEBT_TO_TOTAL_ASSET  PX_FREE_CASH_FLOW  \\\n",
       "TOT_DEBT_TO_TOTAL_ASSET                 1.000000          -0.009748   \n",
       "PX_FREE_CASH_FLOW                      -0.009748           1.000000   \n",
       "REVENUE_PER_SHARE                       0.005964          -0.004659   \n",
       "CASH_FLOW_PER_SHARE                     0.021061          -0.004172   \n",
       "OPER_MARGIN                             0.069597           0.006953   \n",
       "RETURN_ON_ASSET                         0.094259           0.051876   \n",
       "PX_TO_BOOK_RATIO                       -0.045669           0.011290   \n",
       "quick_ratio                            -0.169095           0.024979   \n",
       "equity                                  0.004443          -0.002127   \n",
       "netmargin                               0.066201           0.006396   \n",
       "\n",
       "                         REVENUE_PER_SHARE  CASH_FLOW_PER_SHARE  OPER_MARGIN  \\\n",
       "TOT_DEBT_TO_TOTAL_ASSET           0.005964             0.021061     0.069597   \n",
       "PX_FREE_CASH_FLOW                -0.004659            -0.004172     0.006953   \n",
       "REVENUE_PER_SHARE                 1.000000             0.892506     0.011968   \n",
       "CASH_FLOW_PER_SHARE               0.892506             1.000000     0.021760   \n",
       "OPER_MARGIN                       0.011968             0.021760     1.000000   \n",
       "RETURN_ON_ASSET                   0.035092             0.094722     0.285012   \n",
       "PX_TO_BOOK_RATIO                 -0.003294            -0.006566    -0.006289   \n",
       "quick_ratio                      -0.037426            -0.053225    -0.129486   \n",
       "equity                            0.815309             0.889748     0.002986   \n",
       "netmargin                         0.010660             0.019044     0.900705   \n",
       "\n",
       "                         RETURN_ON_ASSET  PX_TO_BOOK_RATIO  quick_ratio  \\\n",
       "TOT_DEBT_TO_TOTAL_ASSET         0.094259         -0.045669    -0.169095   \n",
       "PX_FREE_CASH_FLOW               0.051876          0.011290     0.024979   \n",
       "REVENUE_PER_SHARE               0.035092         -0.003294    -0.037426   \n",
       "CASH_FLOW_PER_SHARE             0.094722         -0.006566    -0.053225   \n",
       "OPER_MARGIN                     0.285012         -0.006289    -0.129486   \n",
       "RETURN_ON_ASSET                 1.000000         -0.017569    -0.133204   \n",
       "PX_TO_BOOK_RATIO               -0.017569          1.000000     0.005273   \n",
       "quick_ratio                    -0.133204          0.005273     1.000000   \n",
       "equity                          0.007883         -0.001863    -0.007829   \n",
       "netmargin                       0.258953         -0.005069    -0.182241   \n",
       "\n",
       "                           equity  netmargin  \n",
       "TOT_DEBT_TO_TOTAL_ASSET  0.004443   0.066201  \n",
       "PX_FREE_CASH_FLOW       -0.002127   0.006396  \n",
       "REVENUE_PER_SHARE        0.815309   0.010660  \n",
       "CASH_FLOW_PER_SHARE      0.889748   0.019044  \n",
       "OPER_MARGIN              0.002986   0.900705  \n",
       "RETURN_ON_ASSET          0.007883   0.258953  \n",
       "PX_TO_BOOK_RATIO        -0.001863  -0.005069  \n",
       "quick_ratio             -0.007829  -0.182241  \n",
       "equity                   1.000000   0.002667  \n",
       "netmargin                0.002667   1.000000  "
      ]
     },
     "execution_count": 25,
     "metadata": {},
     "output_type": "execute_result"
    }
   ],
   "source": [
    "df.corr()"
   ]
  },
  {
   "cell_type": "code",
   "execution_count": 26,
   "metadata": {
    "scrolled": false
   },
   "outputs": [
    {
     "data": {
      "image/png": "[encoded data removed]",
      "text/plain": [
       "<Figure size 1080x864 with 2 Axes>"
      ]
     },
     "metadata": {
      "needs_background": "light"
     },
     "output_type": "display_data"
    }
   ],
   "source": [
    "plt.figure(figsize=(15, 12))\n",
    "sns.heatmap(df.corr(), vmin=-1, vmax=1, annot=True)\n",
    "plt.show()"
   ]
  },
  {
   "cell_type": "code",
   "execution_count": 27,
   "metadata": {},
   "outputs": [],
   "source": [
    "#>0.5 - higly corr\n",
    "#< - 0.5 - highly reversely corr"
   ]
  },
  {
   "cell_type": "code",
   "execution_count": 28,
   "metadata": {},
   "outputs": [],
   "source": [
    " #new = df.drop(['A', 'B'], axis = 1) other way of saving it to a new var"
   ]
  },
  {
   "cell_type": "code",
   "execution_count": 29,
   "metadata": {
    "scrolled": true
   },
   "outputs": [
    {
     "data": {
      "text/html": [
       "<div>\n",
       "<style scoped>\n",
       "    .dataframe tbody tr th:only-of-type {\n",
       "        vertical-align: middle;\n",
       "    }\n",
       "\n",
       "    .dataframe tbody tr th {\n",
       "        vertical-align: top;\n",
       "    }\n",
       "\n",
       "    .dataframe thead th {\n",
       "        text-align: right;\n",
       "    }\n",
       "</style>\n",
       "<table border=\"1\" class=\"dataframe\">\n",
       "  <thead>\n",
       "    <tr style=\"text-align: right;\">\n",
       "      <th></th>\n",
       "      <th>TOT_DEBT_TO_TOTAL_ASSET</th>\n",
       "      <th>PX_FREE_CASH_FLOW</th>\n",
       "      <th>CASH_FLOW_PER_SHARE</th>\n",
       "      <th>OPER_MARGIN</th>\n",
       "      <th>RETURN_ON_ASSET</th>\n",
       "      <th>PX_TO_BOOK_RATIO</th>\n",
       "      <th>quick_ratio</th>\n",
       "      <th>netmargin</th>\n",
       "    </tr>\n",
       "  </thead>\n",
       "  <tbody>\n",
       "    <tr>\n",
       "      <th>1</th>\n",
       "      <td>0.018688</td>\n",
       "      <td>-19.603277</td>\n",
       "      <td>-0.922987</td>\n",
       "      <td>-39.292488</td>\n",
       "      <td>-0.409374</td>\n",
       "      <td>7.288</td>\n",
       "      <td>3.647265</td>\n",
       "      <td>-38.489</td>\n",
       "    </tr>\n",
       "    <tr>\n",
       "      <th>16</th>\n",
       "      <td>0.195382</td>\n",
       "      <td>-65.555556</td>\n",
       "      <td>0.035415</td>\n",
       "      <td>-0.347321</td>\n",
       "      <td>-0.243414</td>\n",
       "      <td>10.140</td>\n",
       "      <td>1.454003</td>\n",
       "      <td>-0.337</td>\n",
       "    </tr>\n",
       "    <tr>\n",
       "      <th>30</th>\n",
       "      <td>0.572629</td>\n",
       "      <td>47.403295</td>\n",
       "      <td>1.221921</td>\n",
       "      <td>0.294504</td>\n",
       "      <td>0.134270</td>\n",
       "      <td>23.279</td>\n",
       "      <td>1.672204</td>\n",
       "      <td>0.229</td>\n",
       "    </tr>\n",
       "    <tr>\n",
       "      <th>51</th>\n",
       "      <td>0.050918</td>\n",
       "      <td>366.601307</td>\n",
       "      <td>0.042444</td>\n",
       "      <td>-0.299009</td>\n",
       "      <td>-0.103884</td>\n",
       "      <td>22.487</td>\n",
       "      <td>1.579705</td>\n",
       "      <td>-0.288</td>\n",
       "    </tr>\n",
       "    <tr>\n",
       "      <th>65</th>\n",
       "      <td>0.195735</td>\n",
       "      <td>7.010309</td>\n",
       "      <td>0.099426</td>\n",
       "      <td>0.010710</td>\n",
       "      <td>0.012826</td>\n",
       "      <td>2.931</td>\n",
       "      <td>1.933891</td>\n",
       "      <td>-0.009</td>\n",
       "    </tr>\n",
       "  </tbody>\n",
       "</table>\n",
       "</div>"
      ],
      "text/plain": [
       "    TOT_DEBT_TO_TOTAL_ASSET  PX_FREE_CASH_FLOW  CASH_FLOW_PER_SHARE  \\\n",
       "1                  0.018688         -19.603277            -0.922987   \n",
       "16                 0.195382         -65.555556             0.035415   \n",
       "30                 0.572629          47.403295             1.221921   \n",
       "51                 0.050918         366.601307             0.042444   \n",
       "65                 0.195735           7.010309             0.099426   \n",
       "\n",
       "    OPER_MARGIN  RETURN_ON_ASSET  PX_TO_BOOK_RATIO  quick_ratio  netmargin  \n",
       "1    -39.292488        -0.409374             7.288     3.647265    -38.489  \n",
       "16    -0.347321        -0.243414            10.140     1.454003     -0.337  \n",
       "30     0.294504         0.134270            23.279     1.672204      0.229  \n",
       "51    -0.299009        -0.103884            22.487     1.579705     -0.288  \n",
       "65     0.010710         0.012826             2.931     1.933891     -0.009  "
      ]
     },
     "execution_count": 29,
     "metadata": {},
     "output_type": "execute_result"
    }
   ],
   "source": [
    "drop_cols = ['equity', 'REVENUE_PER_SHARE']\n",
    "df.drop(drop_cols, axis = 1, inplace=True)\n",
    "df.head()"
   ]
  },
  {
   "cell_type": "code",
   "execution_count": 30,
   "metadata": {
    "scrolled": false
   },
   "outputs": [
    {
     "data": {
      "image/png": "[encoded data removed]",
      "text/plain": [
       "<Figure size 1080x864 with 2 Axes>"
      ]
     },
     "metadata": {
      "needs_background": "light"
     },
     "output_type": "display_data"
    }
   ],
   "source": [
    "plt.figure(figsize=(15, 12))\n",
    "sns.heatmap(df.corr(), vmin=-1, vmax=1, annot=True)\n",
    "plt.show()"
   ]
  },
  {
   "cell_type": "code",
   "execution_count": 31,
   "metadata": {
    "scrolled": false
   },
   "outputs": [
    {
     "data": {
      "text/plain": [
       "<bound method DataFrame.isin of        TOT_DEBT_TO_TOTAL_ASSET  PX_FREE_CASH_FLOW  CASH_FLOW_PER_SHARE  \\\n",
       "1                     0.018688         -19.603277            -0.922987   \n",
       "16                    0.195382         -65.555556             0.035415   \n",
       "30                    0.572629          47.403295             1.221921   \n",
       "51                    0.050918         366.601307             0.042444   \n",
       "65                    0.195735           7.010309             0.099426   \n",
       "...                        ...                ...                  ...   \n",
       "40154                 0.245764          18.533474             2.286520   \n",
       "40175                 0.000000          42.303082             0.524823   \n",
       "40217                 0.557446         -31.481888             1.369682   \n",
       "40238                 0.123026          13.004837             1.411844   \n",
       "40257                 0.259131          42.732919            -0.190210   \n",
       "\n",
       "       OPER_MARGIN  RETURN_ON_ASSET  PX_TO_BOOK_RATIO  quick_ratio  netmargin  \n",
       "1       -39.292488        -0.409374             7.288     3.647265    -38.489  \n",
       "16       -0.347321        -0.243414            10.140     1.454003     -0.337  \n",
       "30        0.294504         0.134270            23.279     1.672204      0.229  \n",
       "51       -0.299009        -0.103884            22.487     1.579705     -0.288  \n",
       "65        0.010710         0.012826             2.931     1.933891     -0.009  \n",
       "...            ...              ...               ...          ...        ...  \n",
       "40154     0.059708         0.043565             3.090     0.247478      0.045  \n",
       "40175     0.174833         0.155083             8.872     1.995449      0.131  \n",
       "40217     0.064439         0.027648          -106.470     0.313145      0.037  \n",
       "40238    -0.044335        -0.074250             0.971     0.600468     -0.124  \n",
       "40257     0.158438         0.083497             5.282     1.158562      0.145  \n",
       "\n",
       "[1493 rows x 8 columns]>"
      ]
     },
     "execution_count": 31,
     "metadata": {},
     "output_type": "execute_result"
    }
   ],
   "source": [
    "df.isin"
   ]
  },
  {
   "cell_type": "code",
   "execution_count": 51,
   "metadata": {},
   "outputs": [],
   "source": [
    "X = df.copy()\n",
    "y = df_original[\"TOT_DEBT_TO_TOTAL_ASSET\"]"
   ]
  },
  {
   "cell_type": "code",
   "execution_count": 52,
   "metadata": {
    "scrolled": true
   },
   "outputs": [],
   "source": [
    "\n",
    "scaler = StandardScaler()\n",
    "X = scaler.fit_transform(df)"
   ]
  },
  {
   "cell_type": "code",
   "execution_count": 53,
   "metadata": {},
   "outputs": [
    {
     "data": {
      "text/plain": [
       "PCA(n_components=2)"
      ]
     },
     "execution_count": 53,
     "metadata": {},
     "output_type": "execute_result"
    }
   ],
   "source": [
    "pca = PCA(2)\n",
    "pca.fit(X)"
   ]
  },
  {
   "cell_type": "code",
   "execution_count": 54,
   "metadata": {
    "scrolled": true
   },
   "outputs": [
    {
     "name": "stdout",
     "output_type": "stream",
     "text": [
      "Total variance explained: 40.96%\n"
     ]
    }
   ],
   "source": [
    "pca.explained_variance_ratio_\n",
    "print(f\"Total variance explained: {sum(pca.explained_variance_ratio_)*100:.2f}%\")"
   ]
  },
  {
   "cell_type": "code",
   "execution_count": 55,
   "metadata": {
    "scrolled": true
   },
   "outputs": [
    {
     "data": {
      "image/png": "[encoded data removed]",
      "text/plain": [
       "<Figure size 432x288 with 1 Axes>"
      ]
     },
     "metadata": {
      "needs_background": "light"
     },
     "output_type": "display_data"
    }
   ],
   "source": [
    "pc_df = pca.transform(X)\n",
    "pc_df = pd.DataFrame(pc_df, columns=[\"pc1\", \"pc2\"], index=df.index)\n",
    "\n",
    "sns.scatterplot(x=\"pc1\", y=\"pc2\", data=pc_df)\n",
    "plt.show()"
   ]
  },
  {
   "cell_type": "code",
   "execution_count": 58,
   "metadata": {},
   "outputs": [
    {
     "data": {
      "image/png": "[encoded data removed]",
      "text/plain": [
       "<Figure size 432x288 with 1 Axes>"
      ]
     },
     "metadata": {
      "needs_background": "light"
     },
     "output_type": "display_data"
    },
    {
     "data": {
      "image/png": "[encoded data removed]",
      "text/plain": [
       "<Figure size 1008x360 with 2 Axes>"
      ]
     },
     "metadata": {
      "needs_background": "light"
     },
     "output_type": "display_data"
    }
   ],
   "source": [
    "plot_df = pc_df.copy()\n",
    "plot_df[\"TOT_DEBT_TO_TOTAL_ASSET\"] = y\n",
    "\n",
    "sns.scatterplot(x=\"pc1\", y=\"pc2\", hue=\"TOT_DEBT_TO_TOTAL_ASSET\", alpha=0.3, data=plot_df)\n",
    "plt.show()\n",
    "\n",
    "fix, axes = plt.subplots(1, 2, figsize=(14, 5))\n",
    "sns.boxplot(x=\"TOT_DEBT_TO_TOTAL_ASSET\", y=\"pc1\", data=plot_df, ax=axes[0])\n",
    "sns.boxplot(x=\"TOT_DEBT_TO_TOTAL_ASSET\", y=\"pc2\", data=plot_df, ax=axes[1])\n",
    "plt.show()"
   ]
  },
  {
   "cell_type": "code",
   "execution_count": 66,
   "metadata": {},
   "outputs": [
    {
     "name": "stdout",
     "output_type": "stream",
     "text": [
      "[3 3 0 ... 0 4 4]\n"
     ]
    }
   ],
   "source": [
    "kmeans = KMeans(n_clusters = 5, random_state=55)\n",
    "kmeans.fit(X)\n",
    "y_pred = kmeans.predict(X)\n",
    "print(y_pred)"
   ]
  },
  {
   "cell_type": "code",
   "execution_count": 72,
   "metadata": {},
   "outputs": [
    {
     "data": {
      "text/plain": [
       "4    792\n",
       "0    559\n",
       "3    136\n",
       "2      3\n",
       "1      3\n",
       "dtype: int64"
      ]
     },
     "execution_count": 72,
     "metadata": {},
     "output_type": "execute_result"
    }
   ],
   "source": [
    "kmeans = KMeans(n_clusters=5, random_state=55)\n",
    "kmeans.fit(X)\n",
    "pd.Series(kmeans.labels_).value_counts()\n"
   ]
  },
  {
   "cell_type": "code",
   "execution_count": 73,
   "metadata": {},
   "outputs": [
    {
     "data": {
      "image/png": "[encoded data removed]",
      "text/plain": [
       "<Figure size 864x288 with 2 Axes>"
      ]
     },
     "metadata": {
      "needs_background": "light"
     },
     "output_type": "display_data"
    }
   ],
   "source": [
    "# creating more than 2 points for the plot\n",
    "pca_8 = PCA(8).fit(X_std)\n",
    "\n",
    "expl_var = pca_8.explained_variance_ratio_\n",
    "cumulative_var = np.cumsum(expl_var)\n",
    "\n",
    "fig, axes = plt.subplots(1, 2, figsize=(12, 4))\n",
    "\n",
    "axes[0].plot(np.arange(1, 9), expl_var, \"-*\")\n",
    "axes[0].set_title(\"Explained Variance Ratio\")\n",
    "axes[0].set_xlabel(\"Component\")\n",
    "axes[0].set_ylabel(\"Variance\")\n",
    "\n",
    "axes[1].plot(np.arange(1, 9), cumulative_var, \"-*\")\n",
    "axes[1].set_title(\"Cumulative Explained Variance Ratio\")\n",
    "axes[1].set_xlabel(\"Component\")\n",
    "axes[1].set_ylabel(\"Cumulative Variance\")\n",
    "\n",
    "plt.tight_layout()\n",
    "plt.show()"
   ]
  },
  {
   "cell_type": "code",
   "execution_count": 76,
   "metadata": {
    "scrolled": true
   },
   "outputs": [
    {
     "ename": "NameError",
     "evalue": "name 'kmeans_cluster_centers_' is not defined",
     "output_type": "error",
     "traceback": [
      "\u001b[1;31m---------------------------------------------------------------------------\u001b[0m",
      "\u001b[1;31mNameError\u001b[0m                                 Traceback (most recent call last)",
      "\u001b[1;32m<ipython-input-76-9fe97840f078>\u001b[0m in \u001b[0;36m<module>\u001b[1;34m\u001b[0m\n\u001b[1;32m----> 1\u001b[1;33m \u001b[0mcentroids\u001b[0m \u001b[1;33m=\u001b[0m \u001b[0mkmeans_cluster_centers_\u001b[0m\u001b[1;33m\u001b[0m\u001b[1;33m\u001b[0m\u001b[0m\n\u001b[0m\u001b[0;32m      2\u001b[0m \u001b[0mcentroids\u001b[0m \u001b[1;33m=\u001b[0m \u001b[0mscaler\u001b[0m\u001b[1;33m.\u001b[0m\u001b[0minverse_transform\u001b[0m\u001b[1;33m(\u001b[0m\u001b[0mcentroids\u001b[0m\u001b[1;33m)\u001b[0m\u001b[1;33m\u001b[0m\u001b[1;33m\u001b[0m\u001b[0m\n\u001b[0;32m      3\u001b[0m \u001b[0mcentroids_df\u001b[0m \u001b[1;33m=\u001b[0m \u001b[0mpd\u001b[0m\u001b[1;33m.\u001b[0m\u001b[0mDataFrame\u001b[0m\u001b[1;33m(\u001b[0m\u001b[0mcentroids\u001b[0m\u001b[1;33m,\u001b[0m \u001b[0mcolumns\u001b[0m\u001b[1;33m=\u001b[0m\u001b[0mdf\u001b[0m\u001b[1;33m.\u001b[0m\u001b[0mcolumns\u001b[0m\u001b[1;33m)\u001b[0m\u001b[1;33m\u001b[0m\u001b[1;33m\u001b[0m\u001b[0m\n\u001b[0;32m      4\u001b[0m \u001b[0mcentroids_df\u001b[0m\u001b[1;33m.\u001b[0m\u001b[0mstyle\u001b[0m\u001b[1;33m.\u001b[0m\u001b[0mbackground_gradient\u001b[0m\u001b[1;33m(\u001b[0m\u001b[1;33m)\u001b[0m\u001b[1;33m\u001b[0m\u001b[1;33m\u001b[0m\u001b[0m\n",
      "\u001b[1;31mNameError\u001b[0m: name 'kmeans_cluster_centers_' is not defined"
     ]
    }
   ],
   "source": [
    "\n",
    "centroids = kmeans_cluster_centers_\n",
    "centroids = scaler.inverse_transform(centroids)\n",
    "centroids_df = pd.DataFrame(centroids, columns=df.columns)\n",
    "centroids_df.style.background_gradient()"
   ]
  },
  {
   "cell_type": "code",
   "execution_count": 79,
   "metadata": {},
   "outputs": [
    {
     "data": {
      "text/plain": [
       "GaussianMixture(n_components=3, random_state=55)"
      ]
     },
     "execution_count": 79,
     "metadata": {},
     "output_type": "execute_result"
    }
   ],
   "source": [
    "gauss = GaussianMixture(n_components=3, random_state=55)\n",
    "gauss.fit(X)"
   ]
  },
  {
   "cell_type": "code",
   "execution_count": 80,
   "metadata": {
    "scrolled": true
   },
   "outputs": [
    {
     "data": {
      "text/plain": [
       "array([[-0.69087476,  0.01485564, -0.3166851 , -1.23231495, -2.14563588,\n",
       "         0.09505253,  1.68065231, -1.09611919],\n",
       "       [ 0.090902  , -0.00262567, -0.03386229,  0.06959519,  0.24936237,\n",
       "        -0.0158466 , -0.2238322 ,  0.06165899],\n",
       "       [-0.0863217 ,  0.00346024,  0.14098547,  0.06725982, -0.18932077,\n",
       "         0.01986071,  0.21644431,  0.06041077]])"
      ]
     },
     "execution_count": 80,
     "metadata": {},
     "output_type": "execute_result"
    }
   ],
   "source": [
    "gauss.means_"
   ]
  },
  {
   "cell_type": "code",
   "execution_count": 81,
   "metadata": {},
   "outputs": [
    {
     "data": {
      "text/plain": [
       "(1493, 3)"
      ]
     },
     "execution_count": 81,
     "metadata": {},
     "output_type": "execute_result"
    }
   ],
   "source": [
    "prob_df = pd.DataFrame(gauss.predict_proba(X))\n",
    "prob_df.shape"
   ]
  },
  {
   "cell_type": "code",
   "execution_count": 82,
   "metadata": {},
   "outputs": [],
   "source": [
    "import scipy "
   ]
  },
  {
   "cell_type": "code",
   "execution_count": 83,
   "metadata": {
    "scrolled": true
   },
   "outputs": [
    {
     "data": {
      "text/plain": [
       "0.5855042262910504"
      ]
     },
     "execution_count": 83,
     "metadata": {},
     "output_type": "execute_result"
    }
   ],
   "source": [
    "scipy.stats.entropy([0.731826, 0.267606, 5.687710e-04])\n"
   ]
  },
  {
   "cell_type": "code",
   "execution_count": 85,
   "metadata": {},
   "outputs": [],
   "source": [
    "prob_df['entropy'] = prob_df.apply(scipy.stats.entropy, axis=1)"
   ]
  },
  {
   "cell_type": "code",
   "execution_count": 86,
   "metadata": {},
   "outputs": [
    {
     "data": {
      "text/html": [
       "<div>\n",
       "<style scoped>\n",
       "    .dataframe tbody tr th:only-of-type {\n",
       "        vertical-align: middle;\n",
       "    }\n",
       "\n",
       "    .dataframe tbody tr th {\n",
       "        vertical-align: top;\n",
       "    }\n",
       "\n",
       "    .dataframe thead th {\n",
       "        text-align: right;\n",
       "    }\n",
       "</style>\n",
       "<table border=\"1\" class=\"dataframe\">\n",
       "  <thead>\n",
       "    <tr style=\"text-align: right;\">\n",
       "      <th></th>\n",
       "      <th>0</th>\n",
       "      <th>1</th>\n",
       "      <th>2</th>\n",
       "      <th>entropy</th>\n",
       "    </tr>\n",
       "  </thead>\n",
       "  <tbody>\n",
       "    <tr>\n",
       "      <th>0</th>\n",
       "      <td>1.000000e+00</td>\n",
       "      <td>0.000000</td>\n",
       "      <td>0.000000</td>\n",
       "      <td>0.000000</td>\n",
       "    </tr>\n",
       "    <tr>\n",
       "      <th>824</th>\n",
       "      <td>1.000000e+00</td>\n",
       "      <td>0.000000</td>\n",
       "      <td>0.000000</td>\n",
       "      <td>0.000000</td>\n",
       "    </tr>\n",
       "    <tr>\n",
       "      <th>1476</th>\n",
       "      <td>1.000000e+00</td>\n",
       "      <td>0.000000</td>\n",
       "      <td>0.000000</td>\n",
       "      <td>0.000000</td>\n",
       "    </tr>\n",
       "    <tr>\n",
       "      <th>374</th>\n",
       "      <td>1.000000e+00</td>\n",
       "      <td>0.000000</td>\n",
       "      <td>0.000000</td>\n",
       "      <td>0.000000</td>\n",
       "    </tr>\n",
       "    <tr>\n",
       "      <th>1035</th>\n",
       "      <td>1.000000e+00</td>\n",
       "      <td>0.000000</td>\n",
       "      <td>0.000000</td>\n",
       "      <td>0.000000</td>\n",
       "    </tr>\n",
       "    <tr>\n",
       "      <th>...</th>\n",
       "      <td>...</td>\n",
       "      <td>...</td>\n",
       "      <td>...</td>\n",
       "      <td>...</td>\n",
       "    </tr>\n",
       "    <tr>\n",
       "      <th>554</th>\n",
       "      <td>4.957119e-08</td>\n",
       "      <td>0.448133</td>\n",
       "      <td>0.551867</td>\n",
       "      <td>1.083433</td>\n",
       "    </tr>\n",
       "    <tr>\n",
       "      <th>854</th>\n",
       "      <td>6.899238e-09</td>\n",
       "      <td>0.526349</td>\n",
       "      <td>0.473651</td>\n",
       "      <td>1.085354</td>\n",
       "    </tr>\n",
       "    <tr>\n",
       "      <th>432</th>\n",
       "      <td>4.093335e-09</td>\n",
       "      <td>0.473711</td>\n",
       "      <td>0.526289</td>\n",
       "      <td>1.085357</td>\n",
       "    </tr>\n",
       "    <tr>\n",
       "      <th>927</th>\n",
       "      <td>2.517188e-10</td>\n",
       "      <td>0.478014</td>\n",
       "      <td>0.521986</td>\n",
       "      <td>1.085556</td>\n",
       "    </tr>\n",
       "    <tr>\n",
       "      <th>917</th>\n",
       "      <td>3.066053e-08</td>\n",
       "      <td>0.513532</td>\n",
       "      <td>0.486468</td>\n",
       "      <td>1.085843</td>\n",
       "    </tr>\n",
       "  </tbody>\n",
       "</table>\n",
       "<p>1493 rows × 4 columns</p>\n",
       "</div>"
      ],
      "text/plain": [
       "                 0         1         2   entropy\n",
       "0     1.000000e+00  0.000000  0.000000  0.000000\n",
       "824   1.000000e+00  0.000000  0.000000  0.000000\n",
       "1476  1.000000e+00  0.000000  0.000000  0.000000\n",
       "374   1.000000e+00  0.000000  0.000000  0.000000\n",
       "1035  1.000000e+00  0.000000  0.000000  0.000000\n",
       "...            ...       ...       ...       ...\n",
       "554   4.957119e-08  0.448133  0.551867  1.083433\n",
       "854   6.899238e-09  0.526349  0.473651  1.085354\n",
       "432   4.093335e-09  0.473711  0.526289  1.085357\n",
       "927   2.517188e-10  0.478014  0.521986  1.085556\n",
       "917   3.066053e-08  0.513532  0.486468  1.085843\n",
       "\n",
       "[1493 rows x 4 columns]"
      ]
     },
     "execution_count": 86,
     "metadata": {},
     "output_type": "execute_result"
    }
   ],
   "source": [
    "prob_df.sort_values('entropy')"
   ]
  },
  {
   "cell_type": "code",
   "execution_count": null,
   "metadata": {},
   "outputs": [],
   "source": [
    "set(y_pred) #no repeated list = set"
   ]
  },
  {
   "cell_type": "code",
   "execution_count": null,
   "metadata": {},
   "outputs": [],
   "source": []
  },
  {
   "cell_type": "code",
   "execution_count": null,
   "metadata": {
    "scrolled": false
   },
   "outputs": [],
   "source": [
    "pca = PCA(n_components=2).fit_transform(X_std) #2 dimensions\n",
    "\n",
    "plt.figure(figsize=(13, 12))\n",
    "colours = 'rbg' #red, blue, green\n",
    "#for i in range(pca.shape[0]): #number of rows = 0, 1 = number of cols\n",
    "for i in range(200): #500 samples only, cuz of the lack of memory\n",
    "    plt.text(pca[i, 0], pca[i, 1], str(y_pred[i]),\n",
    "            color=colours[y_pred[i]], #i - for loop, number of samples\n",
    "            fontdict={'weight': 'bold', 'size': 30})\n",
    "    \n",
    "plt.xticks([]) #no need, cuz don't have x and y coordinates\n",
    "plt.xticks([])\n",
    "plt.axis('off') #axis = plot, no need it\n",
    "plt.show()"
   ]
  },
  {
   "cell_type": "code",
   "execution_count": null,
   "metadata": {
    "scrolled": true
   },
   "outputs": [],
   "source": [
    "print(pca) #only have 2 features"
   ]
  },
  {
   "cell_type": "code",
   "execution_count": null,
   "metadata": {},
   "outputs": [],
   "source": []
  },
  {
   "cell_type": "code",
   "execution_count": null,
   "metadata": {
    "scrolled": false
   },
   "outputs": [],
   "source": [
    "df.info()"
   ]
  },
  {
   "cell_type": "code",
   "execution_count": null,
   "metadata": {
    "scrolled": true
   },
   "outputs": [],
   "source": [
    "df['OPER_MARGIN'].unique()"
   ]
  },
  {
   "cell_type": "code",
   "execution_count": null,
   "metadata": {
    "scrolled": true
   },
   "outputs": [],
   "source": [
    "#df['OPER_MARGIN'] = df['OPER_MARGIN'].str.replace('\\', '').astype(int)"
   ]
  },
  {
   "cell_type": "code",
   "execution_count": null,
   "metadata": {
    "scrolled": true
   },
   "outputs": [],
   "source": [
    "#df['OPER_MARGIN'] = float('OPER_MARGIN')"
   ]
  },
  {
   "cell_type": "code",
   "execution_count": null,
   "metadata": {},
   "outputs": [],
   "source": [
    "#float(\"OPER_MARGIN\")"
   ]
  },
  {
   "cell_type": "code",
   "execution_count": null,
   "metadata": {},
   "outputs": [],
   "source": [
    "df.['OPER_MARGIN']['6']"
   ]
  },
  {
   "cell_type": "code",
   "execution_count": null,
   "metadata": {},
   "outputs": [],
   "source": []
  },
  {
   "cell_type": "code",
   "execution_count": null,
   "metadata": {
    "scrolled": true
   },
   "outputs": [],
   "source": [
    "scaler = StandardScaler()\n",
    "scaled = scaler.fit_transform(df)\n",
    "\n",
    "df_scaled = pd.DataFrame(scaled, columns=df.columns, index = df.index)\n",
    "df_scaled.head()"
   ]
  },
  {
   "cell_type": "code",
   "execution_count": null,
   "metadata": {},
   "outputs": [],
   "source": [
    "#opinc = operating income\n"
   ]
  },
  {
   "cell_type": "code",
   "execution_count": null,
   "metadata": {},
   "outputs": [],
   "source": [
    "#scaler = StandardScaler() #to make the mean 0 and std = 1\n",
    "scaler = MinMaxScaler() #max - 1 min = 0\n",
    "scaled = scaler.fit_transform(df)\n",
    "\n"
   ]
  },
  {
   "cell_type": "code",
   "execution_count": null,
   "metadata": {},
   "outputs": [],
   "source": [
    "scaled_df = pd.DataFrame(scaled, columns=df.columns)\n",
    "scaled_df.head()"
   ]
  },
  {
   "cell_type": "code",
   "execution_count": null,
   "metadata": {},
   "outputs": [],
   "source": [
    "#standardscale"
   ]
  },
  {
   "cell_type": "code",
   "execution_count": null,
   "metadata": {},
   "outputs": [],
   "source": [
    "#look at sigma and check, whaterver has the highest = keep it. std()\n",
    "#sector to keep. binary doesnt need corr. "
   ]
  },
  {
   "cell_type": "code",
   "execution_count": null,
   "metadata": {},
   "outputs": [],
   "source": [
    "scaled_df.std()\n"
   ]
  },
  {
   "cell_type": "code",
   "execution_count": null,
   "metadata": {},
   "outputs": [],
   "source": [
    "df['revenue'].std()"
   ]
  },
  {
   "cell_type": "markdown",
   "metadata": {},
   "source": [
    "how to convert tickers to numbers?"
   ]
  },
  {
   "cell_type": "markdown",
   "metadata": {},
   "source": [
    "# Standarizing the features\n",
    "from sklearn.preprocessing import StandardScaler\n",
    "\n",
    "scaler = StandardScaler()\n",
    "X_std = scaler.fit_transform(X)"
   ]
  },
  {
   "cell_type": "code",
   "execution_count": null,
   "metadata": {},
   "outputs": [],
   "source": [
    "#scaled_df = scale(df)"
   ]
  },
  {
   "cell_type": "code",
   "execution_count": null,
   "metadata": {},
   "outputs": [],
   "source": [
    "#take one quarter of the data = 2000 samples, ticker can drop when doing cluster, \n",
    "clean, no corr\n",
    "standard scaler\n",
    "cluster"
   ]
  },
  {
   "cell_type": "code",
   "execution_count": null,
   "metadata": {},
   "outputs": [],
   "source": [
    "Oper_MARGIN check is it has nAS, upper case cols\n",
    "work with row numbers, drop the upper case. \n"
   ]
  },
  {
   "cell_type": "code",
   "execution_count": null,
   "metadata": {},
   "outputs": [],
   "source": [
    "#try 100 samples first then all"
   ]
  },
  {
   "cell_type": "code",
   "execution_count": null,
   "metadata": {},
   "outputs": [],
   "source": [
    "scaler = StandardScaler()\n",
    "df = scaler.fit_transform(all_data)"
   ]
  },
  {
   "cell_type": "code",
   "execution_count": null,
   "metadata": {},
   "outputs": [],
   "source": [
    "pred_2 = KMeans(n_clusters=2, random_state=123).fit_predict(X_std)\n"
   ]
  }
 ],
 "metadata": {
  "kernelspec": {
   "display_name": "Python 3",
   "language": "python",
   "name": "python3"
  },
  "language_info": {
   "codemirror_mode": {
    "name": "ipython",
    "version": 3
   },
   "file_extension": ".py",
   "mimetype": "text/x-python",
   "name": "python",
   "nbconvert_exporter": "python",
   "pygments_lexer": "ipython3",
   "version": "3.8.3"
  }
 },
 "nbformat": 4,
 "nbformat_minor": 4
}
