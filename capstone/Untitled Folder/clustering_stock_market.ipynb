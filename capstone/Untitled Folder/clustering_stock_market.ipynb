{
 "cells": [
  {
   "cell_type": "code",
   "execution_count": 53,
   "metadata": {},
   "outputs": [],
   "source": [
    "import pandas as pd\n",
    "import numpy as np\n",
    "from sklearn.preprocessing import scale\n",
    "from scipy.spatial.distance import pdist, squareform\n",
    "\n",
    "import matplotlib.pyplot as plt\n",
    "\n",
    "%matplotlib inline\n",
    "from sklearn.mixture import GaussianMixture\n",
    "#run kmeans and gaussian and interpret, keep how many clusters i need and change\n",
    "import scipy\n",
    "import matplotlib.pyplot as plt\n",
    "import seaborn as sns\n",
    "from sklearn.cluster import KMeans\n",
    "from sklearn.preprocessing import StandardScaler, MinMaxScaler\n",
    "from sklearn.decomposition import PCA\n",
    "from scipy.special import entr\n",
    "import plotly.express as px\n"
   ]
  },
  {
   "cell_type": "code",
   "execution_count": 2,
   "metadata": {
    "scrolled": true
   },
   "outputs": [
    {
     "data": {
      "text/html": [
       "<div>\n",
       "<style scoped>\n",
       "    .dataframe tbody tr th:only-of-type {\n",
       "        vertical-align: middle;\n",
       "    }\n",
       "\n",
       "    .dataframe tbody tr th {\n",
       "        vertical-align: top;\n",
       "    }\n",
       "\n",
       "    .dataframe thead th {\n",
       "        text-align: right;\n",
       "    }\n",
       "</style>\n",
       "<table border=\"1\" class=\"dataframe\">\n",
       "  <thead>\n",
       "    <tr style=\"text-align: right;\">\n",
       "      <th></th>\n",
       "      <th>ticker</th>\n",
       "      <th>revenue</th>\n",
       "      <th>pb</th>\n",
       "      <th>debt</th>\n",
       "      <th>assets</th>\n",
       "      <th>netmargin</th>\n",
       "      <th>ncfo</th>\n",
       "      <th>shareswa</th>\n",
       "      <th>sps</th>\n",
       "      <th>opinc</th>\n",
       "      <th>...</th>\n",
       "      <th>netinccmn</th>\n",
       "      <th>fcfps</th>\n",
       "      <th>PX_TO_BOOK_RATIO</th>\n",
       "      <th>RETURN_ON_ASSET</th>\n",
       "      <th>OPER_MARGIN</th>\n",
       "      <th>CASH_FLOW_PER_SHARE</th>\n",
       "      <th>REVENUE_PER_SHARE</th>\n",
       "      <th>PX_FREE_CASH_FLOW</th>\n",
       "      <th>quick_ratio</th>\n",
       "      <th>TOT_DEBT_TO_TOTAL_ASSET</th>\n",
       "    </tr>\n",
       "  </thead>\n",
       "  <tbody>\n",
       "    <tr>\n",
       "      <th>0</th>\n",
       "      <td>ZYME</td>\n",
       "      <td>8269000.0</td>\n",
       "      <td>3.091</td>\n",
       "      <td>9007000.0</td>\n",
       "      <td>636578000.0</td>\n",
       "      <td>-3.765</td>\n",
       "      <td>-37487000.0</td>\n",
       "      <td>48686718.0</td>\n",
       "      <td>0.170</td>\n",
       "      <td>-35880000.0</td>\n",
       "      <td>...</td>\n",
       "      <td>-162932000.0</td>\n",
       "      <td>-2.154</td>\n",
       "      <td>3.091</td>\n",
       "      <td>-0.358217</td>\n",
       "      <td>-4.339097835</td>\n",
       "      <td>-0.823549</td>\n",
       "      <td>0.181661</td>\n",
       "      <td>-16.467038</td>\n",
       "      <td>6.807722</td>\n",
       "      <td>0.014149</td>\n",
       "    </tr>\n",
       "    <tr>\n",
       "      <th>1</th>\n",
       "      <td>ZYME</td>\n",
       "      <td>1877000.0</td>\n",
       "      <td>7.288</td>\n",
       "      <td>6881000.0</td>\n",
       "      <td>368205000.0</td>\n",
       "      <td>-38.489</td>\n",
       "      <td>-36354000.0</td>\n",
       "      <td>43658717.0</td>\n",
       "      <td>0.043</td>\n",
       "      <td>-73752000.0</td>\n",
       "      <td>...</td>\n",
       "      <td>-145437000.0</td>\n",
       "      <td>-2.319</td>\n",
       "      <td>7.288</td>\n",
       "      <td>-0.409374</td>\n",
       "      <td>-39.29248801</td>\n",
       "      <td>-0.922987</td>\n",
       "      <td>0.047655</td>\n",
       "      <td>-19.603277</td>\n",
       "      <td>3.647265</td>\n",
       "      <td>0.018688</td>\n",
       "    </tr>\n",
       "    <tr>\n",
       "      <th>2</th>\n",
       "      <td>ZYME</td>\n",
       "      <td>7860000.0</td>\n",
       "      <td>3.146</td>\n",
       "      <td>6755000.0</td>\n",
       "      <td>400037000.0</td>\n",
       "      <td>-3.877</td>\n",
       "      <td>-10880000.0</td>\n",
       "      <td>43445379.0</td>\n",
       "      <td>0.181</td>\n",
       "      <td>-33564000.0</td>\n",
       "      <td>...</td>\n",
       "      <td>-63920000.0</td>\n",
       "      <td>0.004</td>\n",
       "      <td>3.146</td>\n",
       "      <td>-0.197080</td>\n",
       "      <td>-4.270229008</td>\n",
       "      <td>-0.277127</td>\n",
       "      <td>0.200204</td>\n",
       "      <td>6200.000000</td>\n",
       "      <td>6.678431</td>\n",
       "      <td>0.016886</td>\n",
       "    </tr>\n",
       "    <tr>\n",
       "      <th>3</th>\n",
       "      <td>ZYME</td>\n",
       "      <td>7882000.0</td>\n",
       "      <td>2.112</td>\n",
       "      <td>7829000.0</td>\n",
       "      <td>414547000.0</td>\n",
       "      <td>-3.689</td>\n",
       "      <td>-13317000.0</td>\n",
       "      <td>32837975.0</td>\n",
       "      <td>0.240</td>\n",
       "      <td>-29432000.0</td>\n",
       "      <td>...</td>\n",
       "      <td>-52196000.0</td>\n",
       "      <td>0.028</td>\n",
       "      <td>2.112</td>\n",
       "      <td>-0.191239</td>\n",
       "      <td>-3.734077645</td>\n",
       "      <td>-0.415356</td>\n",
       "      <td>0.245839</td>\n",
       "      <td>785.714286</td>\n",
       "      <td>8.874183</td>\n",
       "      <td>0.018886</td>\n",
       "    </tr>\n",
       "    <tr>\n",
       "      <th>4</th>\n",
       "      <td>ZYME</td>\n",
       "      <td>11925000.0</td>\n",
       "      <td>3.048</td>\n",
       "      <td>8065000.0</td>\n",
       "      <td>238279000.0</td>\n",
       "      <td>-1.144</td>\n",
       "      <td>-21302000.0</td>\n",
       "      <td>32020437.0</td>\n",
       "      <td>0.372</td>\n",
       "      <td>-14553000.0</td>\n",
       "      <td>...</td>\n",
       "      <td>-28993000.0</td>\n",
       "      <td>0.616</td>\n",
       "      <td>3.048</td>\n",
       "      <td>-0.130571</td>\n",
       "      <td>-1.220377358</td>\n",
       "      <td>-0.665162</td>\n",
       "      <td>0.372362</td>\n",
       "      <td>26.266234</td>\n",
       "      <td>6.440652</td>\n",
       "      <td>0.033847</td>\n",
       "    </tr>\n",
       "  </tbody>\n",
       "</table>\n",
       "<p>5 rows × 31 columns</p>\n",
       "</div>"
      ],
      "text/plain": [
       "  ticker     revenue     pb       debt       assets  netmargin        ncfo  \\\n",
       "0   ZYME   8269000.0  3.091  9007000.0  636578000.0     -3.765 -37487000.0   \n",
       "1   ZYME   1877000.0  7.288  6881000.0  368205000.0    -38.489 -36354000.0   \n",
       "2   ZYME   7860000.0  3.146  6755000.0  400037000.0     -3.877 -10880000.0   \n",
       "3   ZYME   7882000.0  2.112  7829000.0  414547000.0     -3.689 -13317000.0   \n",
       "4   ZYME  11925000.0  3.048  8065000.0  238279000.0     -1.144 -21302000.0   \n",
       "\n",
       "     shareswa    sps       opinc  ...    netinccmn  fcfps  PX_TO_BOOK_RATIO  \\\n",
       "0  48686718.0  0.170 -35880000.0  ... -162932000.0 -2.154             3.091   \n",
       "1  43658717.0  0.043 -73752000.0  ... -145437000.0 -2.319             7.288   \n",
       "2  43445379.0  0.181 -33564000.0  ...  -63920000.0  0.004             3.146   \n",
       "3  32837975.0  0.240 -29432000.0  ...  -52196000.0  0.028             2.112   \n",
       "4  32020437.0  0.372 -14553000.0  ...  -28993000.0  0.616             3.048   \n",
       "\n",
       "  RETURN_ON_ASSET   OPER_MARGIN  CASH_FLOW_PER_SHARE  REVENUE_PER_SHARE  \\\n",
       "0       -0.358217  -4.339097835            -0.823549           0.181661   \n",
       "1       -0.409374  -39.29248801            -0.922987           0.047655   \n",
       "2       -0.197080  -4.270229008            -0.277127           0.200204   \n",
       "3       -0.191239  -3.734077645            -0.415356           0.245839   \n",
       "4       -0.130571  -1.220377358            -0.665162           0.372362   \n",
       "\n",
       "   PX_FREE_CASH_FLOW  quick_ratio  TOT_DEBT_TO_TOTAL_ASSET  \n",
       "0         -16.467038     6.807722                 0.014149  \n",
       "1         -19.603277     3.647265                 0.018688  \n",
       "2        6200.000000     6.678431                 0.016886  \n",
       "3         785.714286     8.874183                 0.018886  \n",
       "4          26.266234     6.440652                 0.033847  \n",
       "\n",
       "[5 rows x 31 columns]"
      ]
     },
     "execution_count": 2,
     "metadata": {},
     "output_type": "execute_result"
    }
   ],
   "source": [
    "df = pd.read_csv('https://raw.githubusercontent.com/Gaukhar-ai/for_my_Thinkful_work/master/capstone/Stock%20Market_1B_predictions/stock_market_data.csv')\n",
    "df.head()"
   ]
  },
  {
   "cell_type": "code",
   "execution_count": 3,
   "metadata": {},
   "outputs": [],
   "source": [
    "df_original = df.copy()"
   ]
  },
  {
   "cell_type": "code",
   "execution_count": 4,
   "metadata": {
    "scrolled": true
   },
   "outputs": [
    {
     "data": {
      "text/plain": [
       "(40277, 31)"
      ]
     },
     "execution_count": 4,
     "metadata": {},
     "output_type": "execute_result"
    }
   ],
   "source": [
    "df.shape"
   ]
  },
  {
   "cell_type": "code",
   "execution_count": 5,
   "metadata": {},
   "outputs": [
    {
     "name": "stdout",
     "output_type": "stream",
     "text": [
      "<class 'pandas.core.frame.DataFrame'>\n",
      "RangeIndex: 40277 entries, 0 to 40276\n",
      "Data columns (total 31 columns):\n",
      " #   Column                   Non-Null Count  Dtype  \n",
      "---  ------                   --------------  -----  \n",
      " 0   ticker                   40277 non-null  object \n",
      " 1   revenue                  39949 non-null  float64\n",
      " 2   pb                       38433 non-null  float64\n",
      " 3   debt                     39416 non-null  float64\n",
      " 4   assets                   39416 non-null  float64\n",
      " 5   netmargin                38980 non-null  float64\n",
      " 6   ncfo                     39683 non-null  float64\n",
      " 7   shareswa                 40072 non-null  float64\n",
      " 8   sps                      39800 non-null  float64\n",
      " 9   opinc                    39949 non-null  float64\n",
      " 10  assetsc                  30302 non-null  float64\n",
      " 11  liabilitiesc             30265 non-null  float64\n",
      " 12  price                    38513 non-null  float64\n",
      " 13  calendardate             40277 non-null  object \n",
      " 14  datekey                  40277 non-null  object \n",
      " 15  sharesbas                39366 non-null  float64\n",
      " 16  equity                   39416 non-null  float64\n",
      " 17  receivables              39416 non-null  float64\n",
      " 18  investmentsc             30302 non-null  float64\n",
      " 19  cashneq                  39416 non-null  float64\n",
      " 20  assetsavg                38295 non-null  float64\n",
      " 21  netinccmn                39296 non-null  float64\n",
      " 22  fcfps                    39010 non-null  float64\n",
      " 23  PX_TO_BOOK_RATIO         38433 non-null  float64\n",
      " 24  RETURN_ON_ASSET          38240 non-null  float64\n",
      " 25  OPER_MARGIN              39941 non-null  object \n",
      " 26  CASH_FLOW_PER_SHARE      39086 non-null  float64\n",
      " 27  REVENUE_PER_SHARE        39263 non-null  float64\n",
      " 28  PX_FREE_CASH_FLOW        38194 non-null  float64\n",
      " 29  quick_ratio              30261 non-null  float64\n",
      " 30  TOT_DEBT_TO_TOTAL_ASSET  39412 non-null  float64\n",
      "dtypes: float64(27), object(4)\n",
      "memory usage: 8.9+ MB\n"
     ]
    }
   ],
   "source": [
    "df.info()"
   ]
  },
  {
   "cell_type": "code",
   "execution_count": 6,
   "metadata": {
    "scrolled": false
   },
   "outputs": [
    {
     "data": {
      "text/plain": [
       "584"
      ]
     },
     "execution_count": 6,
     "metadata": {},
     "output_type": "execute_result"
    }
   ],
   "source": [
    "df['datekey'].nunique()"
   ]
  },
  {
   "cell_type": "code",
   "execution_count": 7,
   "metadata": {
    "scrolled": false
   },
   "outputs": [
    {
     "data": {
      "text/plain": [
       "0.8301015467884897"
      ]
     },
     "execution_count": 7,
     "metadata": {},
     "output_type": "execute_result"
    }
   ],
   "source": [
    "(df['datekey'] == df['calendardate']).mean() # 83% they match. \n"
   ]
  },
  {
   "cell_type": "code",
   "execution_count": 8,
   "metadata": {},
   "outputs": [
    {
     "data": {
      "text/plain": [
       "array(['3/31/2020', '12/31/2019', '9/30/2019', '6/30/2019', '3/31/2019',\n",
       "       '12/31/2018', '9/30/2018', '6/30/2018', '3/31/2018', '12/31/2017',\n",
       "       '9/30/2017', '6/30/2017', '3/31/2017', '12/31/2016', '12/31/2015',\n",
       "       '9/30/2016', '6/30/2016', '3/31/2016', '9/30/2015', '6/30/2015',\n",
       "       '3/31/2015', '6/30/2020'], dtype=object)"
      ]
     },
     "execution_count": 8,
     "metadata": {},
     "output_type": "execute_result"
    }
   ],
   "source": [
    "df['calendardate'].unique() #'12/31/2019', '9/30/2019' pick this quarter, merge by Ticker\n",
    "#add next quarters price. compute the return "
   ]
  },
  {
   "cell_type": "code",
   "execution_count": 9,
   "metadata": {},
   "outputs": [],
   "source": [
    "#df['calendardate'].unique()"
   ]
  },
  {
   "cell_type": "code",
   "execution_count": 10,
   "metadata": {
    "scrolled": true
   },
   "outputs": [
    {
     "data": {
      "text/html": [
       "<div>\n",
       "<style scoped>\n",
       "    .dataframe tbody tr th:only-of-type {\n",
       "        vertical-align: middle;\n",
       "    }\n",
       "\n",
       "    .dataframe tbody tr th {\n",
       "        vertical-align: top;\n",
       "    }\n",
       "\n",
       "    .dataframe thead th {\n",
       "        text-align: right;\n",
       "    }\n",
       "</style>\n",
       "<table border=\"1\" class=\"dataframe\">\n",
       "  <thead>\n",
       "    <tr style=\"text-align: right;\">\n",
       "      <th></th>\n",
       "      <th>ticker</th>\n",
       "      <th>revenue</th>\n",
       "      <th>pb</th>\n",
       "      <th>debt</th>\n",
       "      <th>assets</th>\n",
       "      <th>netmargin</th>\n",
       "      <th>ncfo</th>\n",
       "      <th>shareswa</th>\n",
       "      <th>sps</th>\n",
       "      <th>opinc</th>\n",
       "      <th>...</th>\n",
       "      <th>netinccmn</th>\n",
       "      <th>fcfps</th>\n",
       "      <th>PX_TO_BOOK_RATIO</th>\n",
       "      <th>RETURN_ON_ASSET</th>\n",
       "      <th>OPER_MARGIN</th>\n",
       "      <th>CASH_FLOW_PER_SHARE</th>\n",
       "      <th>REVENUE_PER_SHARE</th>\n",
       "      <th>PX_FREE_CASH_FLOW</th>\n",
       "      <th>quick_ratio</th>\n",
       "      <th>TOT_DEBT_TO_TOTAL_ASSET</th>\n",
       "    </tr>\n",
       "  </thead>\n",
       "  <tbody>\n",
       "    <tr>\n",
       "      <th>0</th>\n",
       "      <td>ZYME</td>\n",
       "      <td>8269000.0</td>\n",
       "      <td>3.091</td>\n",
       "      <td>9007000.0</td>\n",
       "      <td>636578000.0</td>\n",
       "      <td>-3.765</td>\n",
       "      <td>-37487000.0</td>\n",
       "      <td>48686718.0</td>\n",
       "      <td>0.170</td>\n",
       "      <td>-35880000.0</td>\n",
       "      <td>...</td>\n",
       "      <td>-162932000.0</td>\n",
       "      <td>-2.154</td>\n",
       "      <td>3.091</td>\n",
       "      <td>-0.358217</td>\n",
       "      <td>-4.339097835</td>\n",
       "      <td>-0.823549</td>\n",
       "      <td>0.181661</td>\n",
       "      <td>-16.467038</td>\n",
       "      <td>6.807722</td>\n",
       "      <td>0.014149</td>\n",
       "    </tr>\n",
       "    <tr>\n",
       "      <th>1</th>\n",
       "      <td>ZYME</td>\n",
       "      <td>1877000.0</td>\n",
       "      <td>7.288</td>\n",
       "      <td>6881000.0</td>\n",
       "      <td>368205000.0</td>\n",
       "      <td>-38.489</td>\n",
       "      <td>-36354000.0</td>\n",
       "      <td>43658717.0</td>\n",
       "      <td>0.043</td>\n",
       "      <td>-73752000.0</td>\n",
       "      <td>...</td>\n",
       "      <td>-145437000.0</td>\n",
       "      <td>-2.319</td>\n",
       "      <td>7.288</td>\n",
       "      <td>-0.409374</td>\n",
       "      <td>-39.29248801</td>\n",
       "      <td>-0.922987</td>\n",
       "      <td>0.047655</td>\n",
       "      <td>-19.603277</td>\n",
       "      <td>3.647265</td>\n",
       "      <td>0.018688</td>\n",
       "    </tr>\n",
       "    <tr>\n",
       "      <th>2</th>\n",
       "      <td>ZYME</td>\n",
       "      <td>7860000.0</td>\n",
       "      <td>3.146</td>\n",
       "      <td>6755000.0</td>\n",
       "      <td>400037000.0</td>\n",
       "      <td>-3.877</td>\n",
       "      <td>-10880000.0</td>\n",
       "      <td>43445379.0</td>\n",
       "      <td>0.181</td>\n",
       "      <td>-33564000.0</td>\n",
       "      <td>...</td>\n",
       "      <td>-63920000.0</td>\n",
       "      <td>0.004</td>\n",
       "      <td>3.146</td>\n",
       "      <td>-0.197080</td>\n",
       "      <td>-4.270229008</td>\n",
       "      <td>-0.277127</td>\n",
       "      <td>0.200204</td>\n",
       "      <td>6200.000000</td>\n",
       "      <td>6.678431</td>\n",
       "      <td>0.016886</td>\n",
       "    </tr>\n",
       "    <tr>\n",
       "      <th>3</th>\n",
       "      <td>ZYME</td>\n",
       "      <td>7882000.0</td>\n",
       "      <td>2.112</td>\n",
       "      <td>7829000.0</td>\n",
       "      <td>414547000.0</td>\n",
       "      <td>-3.689</td>\n",
       "      <td>-13317000.0</td>\n",
       "      <td>32837975.0</td>\n",
       "      <td>0.240</td>\n",
       "      <td>-29432000.0</td>\n",
       "      <td>...</td>\n",
       "      <td>-52196000.0</td>\n",
       "      <td>0.028</td>\n",
       "      <td>2.112</td>\n",
       "      <td>-0.191239</td>\n",
       "      <td>-3.734077645</td>\n",
       "      <td>-0.415356</td>\n",
       "      <td>0.245839</td>\n",
       "      <td>785.714286</td>\n",
       "      <td>8.874183</td>\n",
       "      <td>0.018886</td>\n",
       "    </tr>\n",
       "    <tr>\n",
       "      <th>4</th>\n",
       "      <td>ZYME</td>\n",
       "      <td>11925000.0</td>\n",
       "      <td>3.048</td>\n",
       "      <td>8065000.0</td>\n",
       "      <td>238279000.0</td>\n",
       "      <td>-1.144</td>\n",
       "      <td>-21302000.0</td>\n",
       "      <td>32020437.0</td>\n",
       "      <td>0.372</td>\n",
       "      <td>-14553000.0</td>\n",
       "      <td>...</td>\n",
       "      <td>-28993000.0</td>\n",
       "      <td>0.616</td>\n",
       "      <td>3.048</td>\n",
       "      <td>-0.130571</td>\n",
       "      <td>-1.220377358</td>\n",
       "      <td>-0.665162</td>\n",
       "      <td>0.372362</td>\n",
       "      <td>26.266234</td>\n",
       "      <td>6.440652</td>\n",
       "      <td>0.033847</td>\n",
       "    </tr>\n",
       "  </tbody>\n",
       "</table>\n",
       "<p>5 rows × 31 columns</p>\n",
       "</div>"
      ],
      "text/plain": [
       "  ticker     revenue     pb       debt       assets  netmargin        ncfo  \\\n",
       "0   ZYME   8269000.0  3.091  9007000.0  636578000.0     -3.765 -37487000.0   \n",
       "1   ZYME   1877000.0  7.288  6881000.0  368205000.0    -38.489 -36354000.0   \n",
       "2   ZYME   7860000.0  3.146  6755000.0  400037000.0     -3.877 -10880000.0   \n",
       "3   ZYME   7882000.0  2.112  7829000.0  414547000.0     -3.689 -13317000.0   \n",
       "4   ZYME  11925000.0  3.048  8065000.0  238279000.0     -1.144 -21302000.0   \n",
       "\n",
       "     shareswa    sps       opinc  ...    netinccmn  fcfps  PX_TO_BOOK_RATIO  \\\n",
       "0  48686718.0  0.170 -35880000.0  ... -162932000.0 -2.154             3.091   \n",
       "1  43658717.0  0.043 -73752000.0  ... -145437000.0 -2.319             7.288   \n",
       "2  43445379.0  0.181 -33564000.0  ...  -63920000.0  0.004             3.146   \n",
       "3  32837975.0  0.240 -29432000.0  ...  -52196000.0  0.028             2.112   \n",
       "4  32020437.0  0.372 -14553000.0  ...  -28993000.0  0.616             3.048   \n",
       "\n",
       "  RETURN_ON_ASSET   OPER_MARGIN  CASH_FLOW_PER_SHARE  REVENUE_PER_SHARE  \\\n",
       "0       -0.358217  -4.339097835            -0.823549           0.181661   \n",
       "1       -0.409374  -39.29248801            -0.922987           0.047655   \n",
       "2       -0.197080  -4.270229008            -0.277127           0.200204   \n",
       "3       -0.191239  -3.734077645            -0.415356           0.245839   \n",
       "4       -0.130571  -1.220377358            -0.665162           0.372362   \n",
       "\n",
       "   PX_FREE_CASH_FLOW  quick_ratio  TOT_DEBT_TO_TOTAL_ASSET  \n",
       "0         -16.467038     6.807722                 0.014149  \n",
       "1         -19.603277     3.647265                 0.018688  \n",
       "2        6200.000000     6.678431                 0.016886  \n",
       "3         785.714286     8.874183                 0.018886  \n",
       "4          26.266234     6.440652                 0.033847  \n",
       "\n",
       "[5 rows x 31 columns]"
      ]
     },
     "execution_count": 10,
     "metadata": {},
     "output_type": "execute_result"
    }
   ],
   "source": [
    "df['calendardate'] = pd.to_datetime(df['calendardate'])\n",
    "df.head()"
   ]
  },
  {
   "cell_type": "code",
   "execution_count": 11,
   "metadata": {},
   "outputs": [
    {
     "data": {
      "text/plain": [
       "0       2020-03-31\n",
       "1       2019-12-31\n",
       "2       2019-09-30\n",
       "3       2019-06-30\n",
       "4       2019-03-31\n",
       "           ...    \n",
       "40272   2016-03-31\n",
       "40273   2015-12-31\n",
       "40274   2015-09-30\n",
       "40275   2015-06-30\n",
       "40276   2015-03-31\n",
       "Name: calendardate, Length: 40277, dtype: datetime64[ns]"
      ]
     },
     "execution_count": 11,
     "metadata": {},
     "output_type": "execute_result"
    }
   ],
   "source": [
    "df['calendardate']"
   ]
  },
  {
   "cell_type": "code",
   "execution_count": 12,
   "metadata": {
    "scrolled": true
   },
   "outputs": [
    {
     "data": {
      "text/html": [
       "<div>\n",
       "<style scoped>\n",
       "    .dataframe tbody tr th:only-of-type {\n",
       "        vertical-align: middle;\n",
       "    }\n",
       "\n",
       "    .dataframe tbody tr th {\n",
       "        vertical-align: top;\n",
       "    }\n",
       "\n",
       "    .dataframe thead th {\n",
       "        text-align: right;\n",
       "    }\n",
       "</style>\n",
       "<table border=\"1\" class=\"dataframe\">\n",
       "  <thead>\n",
       "    <tr style=\"text-align: right;\">\n",
       "      <th></th>\n",
       "      <th>ticker</th>\n",
       "      <th>revenue</th>\n",
       "      <th>pb</th>\n",
       "      <th>debt</th>\n",
       "      <th>assets</th>\n",
       "      <th>netmargin</th>\n",
       "      <th>ncfo</th>\n",
       "      <th>shareswa</th>\n",
       "      <th>sps</th>\n",
       "      <th>opinc</th>\n",
       "      <th>...</th>\n",
       "      <th>netinccmn</th>\n",
       "      <th>fcfps</th>\n",
       "      <th>PX_TO_BOOK_RATIO</th>\n",
       "      <th>RETURN_ON_ASSET</th>\n",
       "      <th>OPER_MARGIN</th>\n",
       "      <th>CASH_FLOW_PER_SHARE</th>\n",
       "      <th>REVENUE_PER_SHARE</th>\n",
       "      <th>PX_FREE_CASH_FLOW</th>\n",
       "      <th>quick_ratio</th>\n",
       "      <th>TOT_DEBT_TO_TOTAL_ASSET</th>\n",
       "    </tr>\n",
       "  </thead>\n",
       "  <tbody>\n",
       "    <tr>\n",
       "      <th>1</th>\n",
       "      <td>ZYME</td>\n",
       "      <td>1.877000e+06</td>\n",
       "      <td>7.288</td>\n",
       "      <td>6.881000e+06</td>\n",
       "      <td>3.682050e+08</td>\n",
       "      <td>-38.489</td>\n",
       "      <td>-36354000.0</td>\n",
       "      <td>43658717.0</td>\n",
       "      <td>0.043</td>\n",
       "      <td>-73752000.0</td>\n",
       "      <td>...</td>\n",
       "      <td>-1.454370e+08</td>\n",
       "      <td>-2.319</td>\n",
       "      <td>7.288</td>\n",
       "      <td>-0.409374</td>\n",
       "      <td>-39.29248801</td>\n",
       "      <td>-0.922987</td>\n",
       "      <td>0.047655</td>\n",
       "      <td>-19.603277</td>\n",
       "      <td>3.647265</td>\n",
       "      <td>0.018688</td>\n",
       "    </tr>\n",
       "    <tr>\n",
       "      <th>16</th>\n",
       "      <td>ZUO</td>\n",
       "      <td>7.039300e+07</td>\n",
       "      <td>10.140</td>\n",
       "      <td>7.858800e+07</td>\n",
       "      <td>4.022270e+08</td>\n",
       "      <td>-0.337</td>\n",
       "      <td>4009000.0</td>\n",
       "      <td>113180000.0</td>\n",
       "      <td>0.622</td>\n",
       "      <td>-24449000.0</td>\n",
       "      <td>...</td>\n",
       "      <td>-8.339400e+07</td>\n",
       "      <td>-0.225</td>\n",
       "      <td>10.140</td>\n",
       "      <td>-0.243414</td>\n",
       "      <td>-0.347321467</td>\n",
       "      <td>0.035415</td>\n",
       "      <td>0.621846</td>\n",
       "      <td>-65.555556</td>\n",
       "      <td>1.454003</td>\n",
       "      <td>0.195382</td>\n",
       "    </tr>\n",
       "    <tr>\n",
       "      <th>30</th>\n",
       "      <td>ZTS</td>\n",
       "      <td>1.674000e+09</td>\n",
       "      <td>23.279</td>\n",
       "      <td>6.611000e+09</td>\n",
       "      <td>1.154500e+10</td>\n",
       "      <td>0.229</td>\n",
       "      <td>582000000.0</td>\n",
       "      <td>476412000.0</td>\n",
       "      <td>3.514</td>\n",
       "      <td>493000000.0</td>\n",
       "      <td>...</td>\n",
       "      <td>1.500000e+09</td>\n",
       "      <td>2.792</td>\n",
       "      <td>23.279</td>\n",
       "      <td>0.134270</td>\n",
       "      <td>0.294504182</td>\n",
       "      <td>1.221921</td>\n",
       "      <td>3.514597</td>\n",
       "      <td>47.403295</td>\n",
       "      <td>1.672204</td>\n",
       "      <td>0.572629</td>\n",
       "    </tr>\n",
       "    <tr>\n",
       "      <th>51</th>\n",
       "      <td>ZS</td>\n",
       "      <td>1.012680e+08</td>\n",
       "      <td>22.487</td>\n",
       "      <td>3.444200e+07</td>\n",
       "      <td>6.764250e+08</td>\n",
       "      <td>-0.288</td>\n",
       "      <td>5431000.0</td>\n",
       "      <td>128408000.0</td>\n",
       "      <td>0.789</td>\n",
       "      <td>-30280000.0</td>\n",
       "      <td>...</td>\n",
       "      <td>-6.374200e+07</td>\n",
       "      <td>0.153</td>\n",
       "      <td>22.487</td>\n",
       "      <td>-0.103884</td>\n",
       "      <td>-0.299008571</td>\n",
       "      <td>0.042444</td>\n",
       "      <td>0.791419</td>\n",
       "      <td>366.601307</td>\n",
       "      <td>1.579705</td>\n",
       "      <td>0.050918</td>\n",
       "    </tr>\n",
       "    <tr>\n",
       "      <th>65</th>\n",
       "      <td>ZNGA</td>\n",
       "      <td>4.044630e+08</td>\n",
       "      <td>2.931</td>\n",
       "      <td>7.165100e+08</td>\n",
       "      <td>3.660614e+09</td>\n",
       "      <td>-0.009</td>\n",
       "      <td>94049000.0</td>\n",
       "      <td>947733000.0</td>\n",
       "      <td>0.427</td>\n",
       "      <td>4332000.0</td>\n",
       "      <td>...</td>\n",
       "      <td>4.192500e+07</td>\n",
       "      <td>0.873</td>\n",
       "      <td>2.931</td>\n",
       "      <td>0.012826</td>\n",
       "      <td>0.010710498</td>\n",
       "      <td>0.099426</td>\n",
       "      <td>0.427586</td>\n",
       "      <td>7.010309</td>\n",
       "      <td>1.933891</td>\n",
       "      <td>0.195735</td>\n",
       "    </tr>\n",
       "  </tbody>\n",
       "</table>\n",
       "<p>5 rows × 31 columns</p>\n",
       "</div>"
      ],
      "text/plain": [
       "   ticker       revenue      pb          debt        assets  netmargin  \\\n",
       "1    ZYME  1.877000e+06   7.288  6.881000e+06  3.682050e+08    -38.489   \n",
       "16    ZUO  7.039300e+07  10.140  7.858800e+07  4.022270e+08     -0.337   \n",
       "30    ZTS  1.674000e+09  23.279  6.611000e+09  1.154500e+10      0.229   \n",
       "51     ZS  1.012680e+08  22.487  3.444200e+07  6.764250e+08     -0.288   \n",
       "65   ZNGA  4.044630e+08   2.931  7.165100e+08  3.660614e+09     -0.009   \n",
       "\n",
       "           ncfo     shareswa    sps        opinc  ...     netinccmn  fcfps  \\\n",
       "1   -36354000.0   43658717.0  0.043  -73752000.0  ... -1.454370e+08 -2.319   \n",
       "16    4009000.0  113180000.0  0.622  -24449000.0  ... -8.339400e+07 -0.225   \n",
       "30  582000000.0  476412000.0  3.514  493000000.0  ...  1.500000e+09  2.792   \n",
       "51    5431000.0  128408000.0  0.789  -30280000.0  ... -6.374200e+07  0.153   \n",
       "65   94049000.0  947733000.0  0.427    4332000.0  ...  4.192500e+07  0.873   \n",
       "\n",
       "    PX_TO_BOOK_RATIO RETURN_ON_ASSET   OPER_MARGIN  CASH_FLOW_PER_SHARE  \\\n",
       "1              7.288       -0.409374  -39.29248801            -0.922987   \n",
       "16            10.140       -0.243414  -0.347321467             0.035415   \n",
       "30            23.279        0.134270   0.294504182             1.221921   \n",
       "51            22.487       -0.103884  -0.299008571             0.042444   \n",
       "65             2.931        0.012826   0.010710498             0.099426   \n",
       "\n",
       "    REVENUE_PER_SHARE  PX_FREE_CASH_FLOW  quick_ratio  TOT_DEBT_TO_TOTAL_ASSET  \n",
       "1            0.047655         -19.603277     3.647265                 0.018688  \n",
       "16           0.621846         -65.555556     1.454003                 0.195382  \n",
       "30           3.514597          47.403295     1.672204                 0.572629  \n",
       "51           0.791419         366.601307     1.579705                 0.050918  \n",
       "65           0.427586           7.010309     1.933891                 0.195735  \n",
       "\n",
       "[5 rows x 31 columns]"
      ]
     },
     "execution_count": 12,
     "metadata": {},
     "output_type": "execute_result"
    }
   ],
   "source": [
    "df = df[df['calendardate'].between('2019-10-01', '2020-01-01')]\n",
    "df.head()"
   ]
  },
  {
   "cell_type": "code",
   "execution_count": 13,
   "metadata": {
    "scrolled": false
   },
   "outputs": [],
   "source": [
    "df['OPER_MARGIN'] = pd.to_numeric(df['OPER_MARGIN'],errors='coerce') #errors = 'coerse' - converts to NA\n"
   ]
  },
  {
   "cell_type": "code",
   "execution_count": 14,
   "metadata": {},
   "outputs": [
    {
     "data": {
      "text/html": [
       "<div>\n",
       "<style scoped>\n",
       "    .dataframe tbody tr th:only-of-type {\n",
       "        vertical-align: middle;\n",
       "    }\n",
       "\n",
       "    .dataframe tbody tr th {\n",
       "        vertical-align: top;\n",
       "    }\n",
       "\n",
       "    .dataframe thead th {\n",
       "        text-align: right;\n",
       "    }\n",
       "</style>\n",
       "<table border=\"1\" class=\"dataframe\">\n",
       "  <thead>\n",
       "    <tr style=\"text-align: right;\">\n",
       "      <th></th>\n",
       "      <th>ticker</th>\n",
       "      <th>revenue</th>\n",
       "      <th>pb</th>\n",
       "      <th>debt</th>\n",
       "      <th>assets</th>\n",
       "      <th>netmargin</th>\n",
       "      <th>ncfo</th>\n",
       "      <th>shareswa</th>\n",
       "      <th>sps</th>\n",
       "      <th>opinc</th>\n",
       "      <th>...</th>\n",
       "      <th>netinccmn</th>\n",
       "      <th>fcfps</th>\n",
       "      <th>PX_TO_BOOK_RATIO</th>\n",
       "      <th>RETURN_ON_ASSET</th>\n",
       "      <th>OPER_MARGIN</th>\n",
       "      <th>CASH_FLOW_PER_SHARE</th>\n",
       "      <th>REVENUE_PER_SHARE</th>\n",
       "      <th>PX_FREE_CASH_FLOW</th>\n",
       "      <th>quick_ratio</th>\n",
       "      <th>TOT_DEBT_TO_TOTAL_ASSET</th>\n",
       "    </tr>\n",
       "  </thead>\n",
       "  <tbody>\n",
       "    <tr>\n",
       "      <th>15741</th>\n",
       "      <td>NCLH</td>\n",
       "      <td>1.480618e+09</td>\n",
       "      <td>1.907</td>\n",
       "      <td>6.801693e+09</td>\n",
       "      <td>1.668460e+10</td>\n",
       "      <td>0.082</td>\n",
       "      <td>3.418510e+08</td>\n",
       "      <td>2.128776e+08</td>\n",
       "      <td>6.955</td>\n",
       "      <td>1.993760e+08</td>\n",
       "      <td>...</td>\n",
       "      <td>9.302280e+08</td>\n",
       "      <td>0.863</td>\n",
       "      <td>1.907</td>\n",
       "      <td>0.057823</td>\n",
       "      <td>0.134657</td>\n",
       "      <td>1.606763</td>\n",
       "      <td>6.959180</td>\n",
       "      <td>67.682503</td>\n",
       "      <td>0.091504</td>\n",
       "      <td>0.407663</td>\n",
       "    </tr>\n",
       "    <tr>\n",
       "      <th>22792</th>\n",
       "      <td>HTZ</td>\n",
       "      <td>2.325000e+09</td>\n",
       "      <td>1.265</td>\n",
       "      <td>1.893700e+10</td>\n",
       "      <td>2.462700e+10</td>\n",
       "      <td>-0.051</td>\n",
       "      <td>6.670000e+08</td>\n",
       "      <td>1.170000e+08</td>\n",
       "      <td>19.872</td>\n",
       "      <td>8.900000e+07</td>\n",
       "      <td>...</td>\n",
       "      <td>-5.800000e+07</td>\n",
       "      <td>-13.034</td>\n",
       "      <td>1.265</td>\n",
       "      <td>-0.002307</td>\n",
       "      <td>0.038280</td>\n",
       "      <td>4.693162</td>\n",
       "      <td>16.359223</td>\n",
       "      <td>-1.208378</td>\n",
       "      <td>NaN</td>\n",
       "      <td>0.768953</td>\n",
       "    </tr>\n",
       "    <tr>\n",
       "      <th>25128</th>\n",
       "      <td>GE</td>\n",
       "      <td>1.573700e+10</td>\n",
       "      <td>3.442</td>\n",
       "      <td>9.088200e+10</td>\n",
       "      <td>2.660480e+11</td>\n",
       "      <td>0.034</td>\n",
       "      <td>6.739000e+09</td>\n",
       "      <td>8.733549e+09</td>\n",
       "      <td>1.802</td>\n",
       "      <td>2.186000e+09</td>\n",
       "      <td>...</td>\n",
       "      <td>-5.439000e+09</td>\n",
       "      <td>0.732</td>\n",
       "      <td>3.442</td>\n",
       "      <td>-0.018816</td>\n",
       "      <td>0.138908</td>\n",
       "      <td>0.771622</td>\n",
       "      <td>1.801902</td>\n",
       "      <td>15.245902</td>\n",
       "      <td>NaN</td>\n",
       "      <td>0.341600</td>\n",
       "    </tr>\n",
       "    <tr>\n",
       "      <th>36147</th>\n",
       "      <td>BA</td>\n",
       "      <td>1.791100e+10</td>\n",
       "      <td>-21.276</td>\n",
       "      <td>2.730200e+10</td>\n",
       "      <td>1.336250e+11</td>\n",
       "      <td>-0.056</td>\n",
       "      <td>-2.220000e+09</td>\n",
       "      <td>5.627912e+08</td>\n",
       "      <td>31.825</td>\n",
       "      <td>-2.599000e+09</td>\n",
       "      <td>...</td>\n",
       "      <td>-6.360000e+08</td>\n",
       "      <td>-7.011</td>\n",
       "      <td>-21.276</td>\n",
       "      <td>-0.004962</td>\n",
       "      <td>-0.145106</td>\n",
       "      <td>-3.944624</td>\n",
       "      <td>31.825300</td>\n",
       "      <td>-46.464128</td>\n",
       "      <td>0.253175</td>\n",
       "      <td>0.204318</td>\n",
       "    </tr>\n",
       "    <tr>\n",
       "      <th>38187</th>\n",
       "      <td>AMD</td>\n",
       "      <td>2.127000e+09</td>\n",
       "      <td>18.191</td>\n",
       "      <td>6.850000e+08</td>\n",
       "      <td>6.028000e+09</td>\n",
       "      <td>0.080</td>\n",
       "      <td>4.420000e+08</td>\n",
       "      <td>1.139000e+09</td>\n",
       "      <td>1.867</td>\n",
       "      <td>3.480000e+08</td>\n",
       "      <td>...</td>\n",
       "      <td>3.410000e+08</td>\n",
       "      <td>0.253</td>\n",
       "      <td>18.191</td>\n",
       "      <td>0.063995</td>\n",
       "      <td>0.163611</td>\n",
       "      <td>0.396901</td>\n",
       "      <td>1.909974</td>\n",
       "      <td>182.529644</td>\n",
       "      <td>1.425180</td>\n",
       "      <td>0.113636</td>\n",
       "    </tr>\n",
       "    <tr>\n",
       "      <th>40217</th>\n",
       "      <td>AAL</td>\n",
       "      <td>1.131300e+10</td>\n",
       "      <td>-106.470</td>\n",
       "      <td>3.344400e+10</td>\n",
       "      <td>5.999500e+10</td>\n",
       "      <td>0.037</td>\n",
       "      <td>6.000000e+08</td>\n",
       "      <td>4.380580e+08</td>\n",
       "      <td>25.825</td>\n",
       "      <td>7.290000e+08</td>\n",
       "      <td>...</td>\n",
       "      <td>1.686000e+09</td>\n",
       "      <td>-0.911</td>\n",
       "      <td>-106.470</td>\n",
       "      <td>0.027648</td>\n",
       "      <td>0.064439</td>\n",
       "      <td>1.369682</td>\n",
       "      <td>25.825349</td>\n",
       "      <td>-31.481888</td>\n",
       "      <td>0.313145</td>\n",
       "      <td>0.557446</td>\n",
       "    </tr>\n",
       "  </tbody>\n",
       "</table>\n",
       "<p>6 rows × 31 columns</p>\n",
       "</div>"
      ],
      "text/plain": [
       "      ticker       revenue       pb          debt        assets  netmargin  \\\n",
       "15741   NCLH  1.480618e+09    1.907  6.801693e+09  1.668460e+10      0.082   \n",
       "22792    HTZ  2.325000e+09    1.265  1.893700e+10  2.462700e+10     -0.051   \n",
       "25128     GE  1.573700e+10    3.442  9.088200e+10  2.660480e+11      0.034   \n",
       "36147     BA  1.791100e+10  -21.276  2.730200e+10  1.336250e+11     -0.056   \n",
       "38187    AMD  2.127000e+09   18.191  6.850000e+08  6.028000e+09      0.080   \n",
       "40217    AAL  1.131300e+10 -106.470  3.344400e+10  5.999500e+10      0.037   \n",
       "\n",
       "               ncfo      shareswa     sps         opinc  ...     netinccmn  \\\n",
       "15741  3.418510e+08  2.128776e+08   6.955  1.993760e+08  ...  9.302280e+08   \n",
       "22792  6.670000e+08  1.170000e+08  19.872  8.900000e+07  ... -5.800000e+07   \n",
       "25128  6.739000e+09  8.733549e+09   1.802  2.186000e+09  ... -5.439000e+09   \n",
       "36147 -2.220000e+09  5.627912e+08  31.825 -2.599000e+09  ... -6.360000e+08   \n",
       "38187  4.420000e+08  1.139000e+09   1.867  3.480000e+08  ...  3.410000e+08   \n",
       "40217  6.000000e+08  4.380580e+08  25.825  7.290000e+08  ...  1.686000e+09   \n",
       "\n",
       "        fcfps  PX_TO_BOOK_RATIO RETURN_ON_ASSET OPER_MARGIN  \\\n",
       "15741   0.863             1.907        0.057823    0.134657   \n",
       "22792 -13.034             1.265       -0.002307    0.038280   \n",
       "25128   0.732             3.442       -0.018816    0.138908   \n",
       "36147  -7.011           -21.276       -0.004962   -0.145106   \n",
       "38187   0.253            18.191        0.063995    0.163611   \n",
       "40217  -0.911          -106.470        0.027648    0.064439   \n",
       "\n",
       "       CASH_FLOW_PER_SHARE  REVENUE_PER_SHARE  PX_FREE_CASH_FLOW  quick_ratio  \\\n",
       "15741             1.606763           6.959180          67.682503     0.091504   \n",
       "22792             4.693162          16.359223          -1.208378          NaN   \n",
       "25128             0.771622           1.801902          15.245902          NaN   \n",
       "36147            -3.944624          31.825300         -46.464128     0.253175   \n",
       "38187             0.396901           1.909974         182.529644     1.425180   \n",
       "40217             1.369682          25.825349         -31.481888     0.313145   \n",
       "\n",
       "       TOT_DEBT_TO_TOTAL_ASSET  \n",
       "15741                 0.407663  \n",
       "22792                 0.768953  \n",
       "25128                 0.341600  \n",
       "36147                 0.204318  \n",
       "38187                 0.113636  \n",
       "40217                 0.557446  \n",
       "\n",
       "[6 rows x 31 columns]"
      ]
     },
     "execution_count": 14,
     "metadata": {},
     "output_type": "execute_result"
    }
   ],
   "source": [
    "df[df['ticker'].isin(['AMD', 'BA', 'GE', 'HTZ', 'AAL', 'NCLH', 'JILL', 'INTEQ'])] #can drop quick_ratio or drop HTZ, GE"
   ]
  },
  {
   "cell_type": "code",
   "execution_count": 15,
   "metadata": {},
   "outputs": [],
   "source": [
    "df = df.replace([np.inf, -np.inf], np.nan)\n"
   ]
  },
  {
   "cell_type": "code",
   "execution_count": 16,
   "metadata": {
    "scrolled": false
   },
   "outputs": [],
   "source": [
    "\n",
    "df = df.dropna()"
   ]
  },
  {
   "cell_type": "code",
   "execution_count": 17,
   "metadata": {},
   "outputs": [
    {
     "name": "stdout",
     "output_type": "stream",
     "text": [
      "<class 'pandas.core.frame.DataFrame'>\n",
      "Int64Index: 1493 entries, 1 to 40257\n",
      "Data columns (total 31 columns):\n",
      " #   Column                   Non-Null Count  Dtype         \n",
      "---  ------                   --------------  -----         \n",
      " 0   ticker                   1493 non-null   object        \n",
      " 1   revenue                  1493 non-null   float64       \n",
      " 2   pb                       1493 non-null   float64       \n",
      " 3   debt                     1493 non-null   float64       \n",
      " 4   assets                   1493 non-null   float64       \n",
      " 5   netmargin                1493 non-null   float64       \n",
      " 6   ncfo                     1493 non-null   float64       \n",
      " 7   shareswa                 1493 non-null   float64       \n",
      " 8   sps                      1493 non-null   float64       \n",
      " 9   opinc                    1493 non-null   float64       \n",
      " 10  assetsc                  1493 non-null   float64       \n",
      " 11  liabilitiesc             1493 non-null   float64       \n",
      " 12  price                    1493 non-null   float64       \n",
      " 13  calendardate             1493 non-null   datetime64[ns]\n",
      " 14  datekey                  1493 non-null   object        \n",
      " 15  sharesbas                1493 non-null   float64       \n",
      " 16  equity                   1493 non-null   float64       \n",
      " 17  receivables              1493 non-null   float64       \n",
      " 18  investmentsc             1493 non-null   float64       \n",
      " 19  cashneq                  1493 non-null   float64       \n",
      " 20  assetsavg                1493 non-null   float64       \n",
      " 21  netinccmn                1493 non-null   float64       \n",
      " 22  fcfps                    1493 non-null   float64       \n",
      " 23  PX_TO_BOOK_RATIO         1493 non-null   float64       \n",
      " 24  RETURN_ON_ASSET          1493 non-null   float64       \n",
      " 25  OPER_MARGIN              1493 non-null   float64       \n",
      " 26  CASH_FLOW_PER_SHARE      1493 non-null   float64       \n",
      " 27  REVENUE_PER_SHARE        1493 non-null   float64       \n",
      " 28  PX_FREE_CASH_FLOW        1493 non-null   float64       \n",
      " 29  quick_ratio              1493 non-null   float64       \n",
      " 30  TOT_DEBT_TO_TOTAL_ASSET  1493 non-null   float64       \n",
      "dtypes: datetime64[ns](1), float64(28), object(2)\n",
      "memory usage: 361.6+ KB\n"
     ]
    }
   ],
   "source": [
    "df.info() #check for infinity how many rows where dropped"
   ]
  },
  {
   "cell_type": "code",
   "execution_count": 18,
   "metadata": {},
   "outputs": [
    {
     "data": {
      "text/html": [
       "<div>\n",
       "<style scoped>\n",
       "    .dataframe tbody tr th:only-of-type {\n",
       "        vertical-align: middle;\n",
       "    }\n",
       "\n",
       "    .dataframe tbody tr th {\n",
       "        vertical-align: top;\n",
       "    }\n",
       "\n",
       "    .dataframe thead th {\n",
       "        text-align: right;\n",
       "    }\n",
       "</style>\n",
       "<table border=\"1\" class=\"dataframe\">\n",
       "  <thead>\n",
       "    <tr style=\"text-align: right;\">\n",
       "      <th></th>\n",
       "      <th>ticker</th>\n",
       "      <th>revenue</th>\n",
       "      <th>pb</th>\n",
       "      <th>debt</th>\n",
       "      <th>assets</th>\n",
       "      <th>netmargin</th>\n",
       "      <th>ncfo</th>\n",
       "      <th>shareswa</th>\n",
       "      <th>sps</th>\n",
       "      <th>opinc</th>\n",
       "      <th>...</th>\n",
       "      <th>netinccmn</th>\n",
       "      <th>fcfps</th>\n",
       "      <th>PX_TO_BOOK_RATIO</th>\n",
       "      <th>RETURN_ON_ASSET</th>\n",
       "      <th>OPER_MARGIN</th>\n",
       "      <th>CASH_FLOW_PER_SHARE</th>\n",
       "      <th>REVENUE_PER_SHARE</th>\n",
       "      <th>PX_FREE_CASH_FLOW</th>\n",
       "      <th>quick_ratio</th>\n",
       "      <th>TOT_DEBT_TO_TOTAL_ASSET</th>\n",
       "    </tr>\n",
       "  </thead>\n",
       "  <tbody>\n",
       "    <tr>\n",
       "      <th>15741</th>\n",
       "      <td>NCLH</td>\n",
       "      <td>1.480618e+09</td>\n",
       "      <td>1.907</td>\n",
       "      <td>6.801693e+09</td>\n",
       "      <td>1.668460e+10</td>\n",
       "      <td>0.082</td>\n",
       "      <td>3.418510e+08</td>\n",
       "      <td>2.128776e+08</td>\n",
       "      <td>6.955</td>\n",
       "      <td>1.993760e+08</td>\n",
       "      <td>...</td>\n",
       "      <td>9.302280e+08</td>\n",
       "      <td>0.863</td>\n",
       "      <td>1.907</td>\n",
       "      <td>0.057823</td>\n",
       "      <td>0.134657</td>\n",
       "      <td>1.606763</td>\n",
       "      <td>6.959180</td>\n",
       "      <td>67.682503</td>\n",
       "      <td>0.091504</td>\n",
       "      <td>0.407663</td>\n",
       "    </tr>\n",
       "    <tr>\n",
       "      <th>36147</th>\n",
       "      <td>BA</td>\n",
       "      <td>1.791100e+10</td>\n",
       "      <td>-21.276</td>\n",
       "      <td>2.730200e+10</td>\n",
       "      <td>1.336250e+11</td>\n",
       "      <td>-0.056</td>\n",
       "      <td>-2.220000e+09</td>\n",
       "      <td>5.627912e+08</td>\n",
       "      <td>31.825</td>\n",
       "      <td>-2.599000e+09</td>\n",
       "      <td>...</td>\n",
       "      <td>-6.360000e+08</td>\n",
       "      <td>-7.011</td>\n",
       "      <td>-21.276</td>\n",
       "      <td>-0.004962</td>\n",
       "      <td>-0.145106</td>\n",
       "      <td>-3.944624</td>\n",
       "      <td>31.825300</td>\n",
       "      <td>-46.464128</td>\n",
       "      <td>0.253175</td>\n",
       "      <td>0.204318</td>\n",
       "    </tr>\n",
       "    <tr>\n",
       "      <th>38187</th>\n",
       "      <td>AMD</td>\n",
       "      <td>2.127000e+09</td>\n",
       "      <td>18.191</td>\n",
       "      <td>6.850000e+08</td>\n",
       "      <td>6.028000e+09</td>\n",
       "      <td>0.080</td>\n",
       "      <td>4.420000e+08</td>\n",
       "      <td>1.139000e+09</td>\n",
       "      <td>1.867</td>\n",
       "      <td>3.480000e+08</td>\n",
       "      <td>...</td>\n",
       "      <td>3.410000e+08</td>\n",
       "      <td>0.253</td>\n",
       "      <td>18.191</td>\n",
       "      <td>0.063995</td>\n",
       "      <td>0.163611</td>\n",
       "      <td>0.396901</td>\n",
       "      <td>1.909974</td>\n",
       "      <td>182.529644</td>\n",
       "      <td>1.425180</td>\n",
       "      <td>0.113636</td>\n",
       "    </tr>\n",
       "    <tr>\n",
       "      <th>40217</th>\n",
       "      <td>AAL</td>\n",
       "      <td>1.131300e+10</td>\n",
       "      <td>-106.470</td>\n",
       "      <td>3.344400e+10</td>\n",
       "      <td>5.999500e+10</td>\n",
       "      <td>0.037</td>\n",
       "      <td>6.000000e+08</td>\n",
       "      <td>4.380580e+08</td>\n",
       "      <td>25.825</td>\n",
       "      <td>7.290000e+08</td>\n",
       "      <td>...</td>\n",
       "      <td>1.686000e+09</td>\n",
       "      <td>-0.911</td>\n",
       "      <td>-106.470</td>\n",
       "      <td>0.027648</td>\n",
       "      <td>0.064439</td>\n",
       "      <td>1.369682</td>\n",
       "      <td>25.825349</td>\n",
       "      <td>-31.481888</td>\n",
       "      <td>0.313145</td>\n",
       "      <td>0.557446</td>\n",
       "    </tr>\n",
       "  </tbody>\n",
       "</table>\n",
       "<p>4 rows × 31 columns</p>\n",
       "</div>"
      ],
      "text/plain": [
       "      ticker       revenue       pb          debt        assets  netmargin  \\\n",
       "15741   NCLH  1.480618e+09    1.907  6.801693e+09  1.668460e+10      0.082   \n",
       "36147     BA  1.791100e+10  -21.276  2.730200e+10  1.336250e+11     -0.056   \n",
       "38187    AMD  2.127000e+09   18.191  6.850000e+08  6.028000e+09      0.080   \n",
       "40217    AAL  1.131300e+10 -106.470  3.344400e+10  5.999500e+10      0.037   \n",
       "\n",
       "               ncfo      shareswa     sps         opinc  ...     netinccmn  \\\n",
       "15741  3.418510e+08  2.128776e+08   6.955  1.993760e+08  ...  9.302280e+08   \n",
       "36147 -2.220000e+09  5.627912e+08  31.825 -2.599000e+09  ... -6.360000e+08   \n",
       "38187  4.420000e+08  1.139000e+09   1.867  3.480000e+08  ...  3.410000e+08   \n",
       "40217  6.000000e+08  4.380580e+08  25.825  7.290000e+08  ...  1.686000e+09   \n",
       "\n",
       "       fcfps  PX_TO_BOOK_RATIO RETURN_ON_ASSET OPER_MARGIN  \\\n",
       "15741  0.863             1.907        0.057823    0.134657   \n",
       "36147 -7.011           -21.276       -0.004962   -0.145106   \n",
       "38187  0.253            18.191        0.063995    0.163611   \n",
       "40217 -0.911          -106.470        0.027648    0.064439   \n",
       "\n",
       "       CASH_FLOW_PER_SHARE  REVENUE_PER_SHARE  PX_FREE_CASH_FLOW  quick_ratio  \\\n",
       "15741             1.606763           6.959180          67.682503     0.091504   \n",
       "36147            -3.944624          31.825300         -46.464128     0.253175   \n",
       "38187             0.396901           1.909974         182.529644     1.425180   \n",
       "40217             1.369682          25.825349         -31.481888     0.313145   \n",
       "\n",
       "       TOT_DEBT_TO_TOTAL_ASSET  \n",
       "15741                 0.407663  \n",
       "36147                 0.204318  \n",
       "38187                 0.113636  \n",
       "40217                 0.557446  \n",
       "\n",
       "[4 rows x 31 columns]"
      ]
     },
     "execution_count": 18,
     "metadata": {},
     "output_type": "execute_result"
    }
   ],
   "source": [
    "df[df['ticker'].isin(['AMD', 'BA', 'GE', 'HTZ', 'AAL', 'NCLH', 'JILL', 'INTEQ'])]"
   ]
  },
  {
   "cell_type": "code",
   "execution_count": 19,
   "metadata": {},
   "outputs": [
    {
     "data": {
      "text/html": [
       "<div>\n",
       "<style scoped>\n",
       "    .dataframe tbody tr th:only-of-type {\n",
       "        vertical-align: middle;\n",
       "    }\n",
       "\n",
       "    .dataframe tbody tr th {\n",
       "        vertical-align: top;\n",
       "    }\n",
       "\n",
       "    .dataframe thead th {\n",
       "        text-align: right;\n",
       "    }\n",
       "</style>\n",
       "<table border=\"1\" class=\"dataframe\">\n",
       "  <thead>\n",
       "    <tr style=\"text-align: right;\">\n",
       "      <th></th>\n",
       "      <th>ticker</th>\n",
       "      <th>revenue</th>\n",
       "      <th>pb</th>\n",
       "      <th>debt</th>\n",
       "      <th>assets</th>\n",
       "      <th>netmargin</th>\n",
       "      <th>ncfo</th>\n",
       "      <th>shareswa</th>\n",
       "      <th>sps</th>\n",
       "      <th>opinc</th>\n",
       "      <th>...</th>\n",
       "      <th>netinccmn</th>\n",
       "      <th>fcfps</th>\n",
       "      <th>PX_TO_BOOK_RATIO</th>\n",
       "      <th>RETURN_ON_ASSET</th>\n",
       "      <th>OPER_MARGIN</th>\n",
       "      <th>CASH_FLOW_PER_SHARE</th>\n",
       "      <th>REVENUE_PER_SHARE</th>\n",
       "      <th>PX_FREE_CASH_FLOW</th>\n",
       "      <th>quick_ratio</th>\n",
       "      <th>TOT_DEBT_TO_TOTAL_ASSET</th>\n",
       "    </tr>\n",
       "  </thead>\n",
       "  <tbody>\n",
       "    <tr>\n",
       "      <th>1</th>\n",
       "      <td>ZYME</td>\n",
       "      <td>1.877000e+06</td>\n",
       "      <td>7.288</td>\n",
       "      <td>6.881000e+06</td>\n",
       "      <td>3.682050e+08</td>\n",
       "      <td>-38.489</td>\n",
       "      <td>-36354000.0</td>\n",
       "      <td>43658717.0</td>\n",
       "      <td>0.043</td>\n",
       "      <td>-73752000.0</td>\n",
       "      <td>...</td>\n",
       "      <td>-1.454370e+08</td>\n",
       "      <td>-2.319</td>\n",
       "      <td>7.288</td>\n",
       "      <td>-0.409374</td>\n",
       "      <td>-39.292488</td>\n",
       "      <td>-0.922987</td>\n",
       "      <td>0.047655</td>\n",
       "      <td>-19.603277</td>\n",
       "      <td>3.647265</td>\n",
       "      <td>0.018688</td>\n",
       "    </tr>\n",
       "    <tr>\n",
       "      <th>16</th>\n",
       "      <td>ZUO</td>\n",
       "      <td>7.039300e+07</td>\n",
       "      <td>10.140</td>\n",
       "      <td>7.858800e+07</td>\n",
       "      <td>4.022270e+08</td>\n",
       "      <td>-0.337</td>\n",
       "      <td>4009000.0</td>\n",
       "      <td>113180000.0</td>\n",
       "      <td>0.622</td>\n",
       "      <td>-24449000.0</td>\n",
       "      <td>...</td>\n",
       "      <td>-8.339400e+07</td>\n",
       "      <td>-0.225</td>\n",
       "      <td>10.140</td>\n",
       "      <td>-0.243414</td>\n",
       "      <td>-0.347321</td>\n",
       "      <td>0.035415</td>\n",
       "      <td>0.621846</td>\n",
       "      <td>-65.555556</td>\n",
       "      <td>1.454003</td>\n",
       "      <td>0.195382</td>\n",
       "    </tr>\n",
       "    <tr>\n",
       "      <th>30</th>\n",
       "      <td>ZTS</td>\n",
       "      <td>1.674000e+09</td>\n",
       "      <td>23.279</td>\n",
       "      <td>6.611000e+09</td>\n",
       "      <td>1.154500e+10</td>\n",
       "      <td>0.229</td>\n",
       "      <td>582000000.0</td>\n",
       "      <td>476412000.0</td>\n",
       "      <td>3.514</td>\n",
       "      <td>493000000.0</td>\n",
       "      <td>...</td>\n",
       "      <td>1.500000e+09</td>\n",
       "      <td>2.792</td>\n",
       "      <td>23.279</td>\n",
       "      <td>0.134270</td>\n",
       "      <td>0.294504</td>\n",
       "      <td>1.221921</td>\n",
       "      <td>3.514597</td>\n",
       "      <td>47.403295</td>\n",
       "      <td>1.672204</td>\n",
       "      <td>0.572629</td>\n",
       "    </tr>\n",
       "    <tr>\n",
       "      <th>51</th>\n",
       "      <td>ZS</td>\n",
       "      <td>1.012680e+08</td>\n",
       "      <td>22.487</td>\n",
       "      <td>3.444200e+07</td>\n",
       "      <td>6.764250e+08</td>\n",
       "      <td>-0.288</td>\n",
       "      <td>5431000.0</td>\n",
       "      <td>128408000.0</td>\n",
       "      <td>0.789</td>\n",
       "      <td>-30280000.0</td>\n",
       "      <td>...</td>\n",
       "      <td>-6.374200e+07</td>\n",
       "      <td>0.153</td>\n",
       "      <td>22.487</td>\n",
       "      <td>-0.103884</td>\n",
       "      <td>-0.299009</td>\n",
       "      <td>0.042444</td>\n",
       "      <td>0.791419</td>\n",
       "      <td>366.601307</td>\n",
       "      <td>1.579705</td>\n",
       "      <td>0.050918</td>\n",
       "    </tr>\n",
       "    <tr>\n",
       "      <th>65</th>\n",
       "      <td>ZNGA</td>\n",
       "      <td>4.044630e+08</td>\n",
       "      <td>2.931</td>\n",
       "      <td>7.165100e+08</td>\n",
       "      <td>3.660614e+09</td>\n",
       "      <td>-0.009</td>\n",
       "      <td>94049000.0</td>\n",
       "      <td>947733000.0</td>\n",
       "      <td>0.427</td>\n",
       "      <td>4332000.0</td>\n",
       "      <td>...</td>\n",
       "      <td>4.192500e+07</td>\n",
       "      <td>0.873</td>\n",
       "      <td>2.931</td>\n",
       "      <td>0.012826</td>\n",
       "      <td>0.010710</td>\n",
       "      <td>0.099426</td>\n",
       "      <td>0.427586</td>\n",
       "      <td>7.010309</td>\n",
       "      <td>1.933891</td>\n",
       "      <td>0.195735</td>\n",
       "    </tr>\n",
       "  </tbody>\n",
       "</table>\n",
       "<p>5 rows × 31 columns</p>\n",
       "</div>"
      ],
      "text/plain": [
       "   ticker       revenue      pb          debt        assets  netmargin  \\\n",
       "1    ZYME  1.877000e+06   7.288  6.881000e+06  3.682050e+08    -38.489   \n",
       "16    ZUO  7.039300e+07  10.140  7.858800e+07  4.022270e+08     -0.337   \n",
       "30    ZTS  1.674000e+09  23.279  6.611000e+09  1.154500e+10      0.229   \n",
       "51     ZS  1.012680e+08  22.487  3.444200e+07  6.764250e+08     -0.288   \n",
       "65   ZNGA  4.044630e+08   2.931  7.165100e+08  3.660614e+09     -0.009   \n",
       "\n",
       "           ncfo     shareswa    sps        opinc  ...     netinccmn  fcfps  \\\n",
       "1   -36354000.0   43658717.0  0.043  -73752000.0  ... -1.454370e+08 -2.319   \n",
       "16    4009000.0  113180000.0  0.622  -24449000.0  ... -8.339400e+07 -0.225   \n",
       "30  582000000.0  476412000.0  3.514  493000000.0  ...  1.500000e+09  2.792   \n",
       "51    5431000.0  128408000.0  0.789  -30280000.0  ... -6.374200e+07  0.153   \n",
       "65   94049000.0  947733000.0  0.427    4332000.0  ...  4.192500e+07  0.873   \n",
       "\n",
       "    PX_TO_BOOK_RATIO RETURN_ON_ASSET OPER_MARGIN  CASH_FLOW_PER_SHARE  \\\n",
       "1              7.288       -0.409374  -39.292488            -0.922987   \n",
       "16            10.140       -0.243414   -0.347321             0.035415   \n",
       "30            23.279        0.134270    0.294504             1.221921   \n",
       "51            22.487       -0.103884   -0.299009             0.042444   \n",
       "65             2.931        0.012826    0.010710             0.099426   \n",
       "\n",
       "    REVENUE_PER_SHARE  PX_FREE_CASH_FLOW  quick_ratio  TOT_DEBT_TO_TOTAL_ASSET  \n",
       "1            0.047655         -19.603277     3.647265                 0.018688  \n",
       "16           0.621846         -65.555556     1.454003                 0.195382  \n",
       "30           3.514597          47.403295     1.672204                 0.572629  \n",
       "51           0.791419         366.601307     1.579705                 0.050918  \n",
       "65           0.427586           7.010309     1.933891                 0.195735  \n",
       "\n",
       "[5 rows x 31 columns]"
      ]
     },
     "execution_count": 19,
     "metadata": {},
     "output_type": "execute_result"
    }
   ],
   "source": [
    "#df['calendardate']\n",
    "df.head()"
   ]
  },
  {
   "cell_type": "code",
   "execution_count": 20,
   "metadata": {},
   "outputs": [],
   "source": [
    "df_copy = df.copy() #can cluster labels in df copy for cluster analyses."
   ]
  },
  {
   "cell_type": "markdown",
   "metadata": {},
   "source": [
    "drop_cols = ['datekey', 'calendardate', 'TOT_DEBT_TO_TOTAL_ASSET', 'PX_FREE_CASH_FLOW', 'REVENUE_PER_SHARE', 'CASH_FLOW_PER_SHARE',\n",
    "            'OPER_MARGIN', 'RETURN_ON_ASSET', 'PX_TO_BOOK_RATIO', 'ticker']\n",
    "df.drop(columns = drop_cols, inplace=True)\n"
   ]
  },
  {
   "cell_type": "code",
   "execution_count": 21,
   "metadata": {},
   "outputs": [
    {
     "data": {
      "text/plain": [
       "ticker                     0\n",
       "revenue                    0\n",
       "pb                         0\n",
       "debt                       0\n",
       "assets                     0\n",
       "netmargin                  0\n",
       "ncfo                       0\n",
       "shareswa                   0\n",
       "sps                        0\n",
       "opinc                      0\n",
       "assetsc                    0\n",
       "liabilitiesc               0\n",
       "price                      0\n",
       "calendardate               0\n",
       "datekey                    0\n",
       "sharesbas                  0\n",
       "equity                     0\n",
       "receivables                0\n",
       "investmentsc               0\n",
       "cashneq                    0\n",
       "assetsavg                  0\n",
       "netinccmn                  0\n",
       "fcfps                      0\n",
       "PX_TO_BOOK_RATIO           0\n",
       "RETURN_ON_ASSET            0\n",
       "OPER_MARGIN                0\n",
       "CASH_FLOW_PER_SHARE        0\n",
       "REVENUE_PER_SHARE          0\n",
       "PX_FREE_CASH_FLOW          0\n",
       "quick_ratio                0\n",
       "TOT_DEBT_TO_TOTAL_ASSET    0\n",
       "dtype: int64"
      ]
     },
     "execution_count": 21,
     "metadata": {},
     "output_type": "execute_result"
    }
   ],
   "source": [
    "df.isna().sum()"
   ]
  },
  {
   "cell_type": "code",
   "execution_count": 22,
   "metadata": {
    "scrolled": false
   },
   "outputs": [
    {
     "data": {
      "text/html": [
       "<div>\n",
       "<style scoped>\n",
       "    .dataframe tbody tr th:only-of-type {\n",
       "        vertical-align: middle;\n",
       "    }\n",
       "\n",
       "    .dataframe tbody tr th {\n",
       "        vertical-align: top;\n",
       "    }\n",
       "\n",
       "    .dataframe thead th {\n",
       "        text-align: right;\n",
       "    }\n",
       "</style>\n",
       "<table border=\"1\" class=\"dataframe\">\n",
       "  <thead>\n",
       "    <tr style=\"text-align: right;\">\n",
       "      <th></th>\n",
       "      <th>TOT_DEBT_TO_TOTAL_ASSET</th>\n",
       "      <th>PX_FREE_CASH_FLOW</th>\n",
       "      <th>REVENUE_PER_SHARE</th>\n",
       "      <th>CASH_FLOW_PER_SHARE</th>\n",
       "      <th>OPER_MARGIN</th>\n",
       "      <th>RETURN_ON_ASSET</th>\n",
       "      <th>PX_TO_BOOK_RATIO</th>\n",
       "      <th>quick_ratio</th>\n",
       "      <th>equity</th>\n",
       "      <th>netmargin</th>\n",
       "    </tr>\n",
       "  </thead>\n",
       "  <tbody>\n",
       "    <tr>\n",
       "      <th>1</th>\n",
       "      <td>0.018688</td>\n",
       "      <td>-19.603277</td>\n",
       "      <td>0.047655</td>\n",
       "      <td>-0.922987</td>\n",
       "      <td>-39.292488</td>\n",
       "      <td>-0.409374</td>\n",
       "      <td>7.288</td>\n",
       "      <td>3.647265</td>\n",
       "      <td>2.456810e+08</td>\n",
       "      <td>-38.489</td>\n",
       "    </tr>\n",
       "    <tr>\n",
       "      <th>16</th>\n",
       "      <td>0.195382</td>\n",
       "      <td>-65.555556</td>\n",
       "      <td>0.621846</td>\n",
       "      <td>0.035415</td>\n",
       "      <td>-0.347321</td>\n",
       "      <td>-0.243414</td>\n",
       "      <td>10.140</td>\n",
       "      <td>1.454003</td>\n",
       "      <td>1.646590e+08</td>\n",
       "      <td>-0.337</td>\n",
       "    </tr>\n",
       "    <tr>\n",
       "      <th>30</th>\n",
       "      <td>0.572629</td>\n",
       "      <td>47.403295</td>\n",
       "      <td>3.514597</td>\n",
       "      <td>1.221921</td>\n",
       "      <td>0.294504</td>\n",
       "      <td>0.134270</td>\n",
       "      <td>23.279</td>\n",
       "      <td>1.672204</td>\n",
       "      <td>2.708000e+09</td>\n",
       "      <td>0.229</td>\n",
       "    </tr>\n",
       "    <tr>\n",
       "      <th>51</th>\n",
       "      <td>0.050918</td>\n",
       "      <td>366.601307</td>\n",
       "      <td>0.791419</td>\n",
       "      <td>0.042444</td>\n",
       "      <td>-0.299009</td>\n",
       "      <td>-0.103884</td>\n",
       "      <td>22.487</td>\n",
       "      <td>1.579705</td>\n",
       "      <td>3.191640e+08</td>\n",
       "      <td>-0.288</td>\n",
       "    </tr>\n",
       "    <tr>\n",
       "      <th>65</th>\n",
       "      <td>0.195735</td>\n",
       "      <td>7.010309</td>\n",
       "      <td>0.427586</td>\n",
       "      <td>0.099426</td>\n",
       "      <td>0.010710</td>\n",
       "      <td>0.012826</td>\n",
       "      <td>2.931</td>\n",
       "      <td>1.933891</td>\n",
       "      <td>1.975430e+09</td>\n",
       "      <td>-0.009</td>\n",
       "    </tr>\n",
       "  </tbody>\n",
       "</table>\n",
       "</div>"
      ],
      "text/plain": [
       "    TOT_DEBT_TO_TOTAL_ASSET  PX_FREE_CASH_FLOW  REVENUE_PER_SHARE  \\\n",
       "1                  0.018688         -19.603277           0.047655   \n",
       "16                 0.195382         -65.555556           0.621846   \n",
       "30                 0.572629          47.403295           3.514597   \n",
       "51                 0.050918         366.601307           0.791419   \n",
       "65                 0.195735           7.010309           0.427586   \n",
       "\n",
       "    CASH_FLOW_PER_SHARE  OPER_MARGIN  RETURN_ON_ASSET  PX_TO_BOOK_RATIO  \\\n",
       "1             -0.922987   -39.292488        -0.409374             7.288   \n",
       "16             0.035415    -0.347321        -0.243414            10.140   \n",
       "30             1.221921     0.294504         0.134270            23.279   \n",
       "51             0.042444    -0.299009        -0.103884            22.487   \n",
       "65             0.099426     0.010710         0.012826             2.931   \n",
       "\n",
       "    quick_ratio        equity  netmargin  \n",
       "1      3.647265  2.456810e+08    -38.489  \n",
       "16     1.454003  1.646590e+08     -0.337  \n",
       "30     1.672204  2.708000e+09      0.229  \n",
       "51     1.579705  3.191640e+08     -0.288  \n",
       "65     1.933891  1.975430e+09     -0.009  "
      ]
     },
     "execution_count": 22,
     "metadata": {},
     "output_type": "execute_result"
    }
   ],
   "source": [
    "keep_cols = ['TOT_DEBT_TO_TOTAL_ASSET', 'PX_FREE_CASH_FLOW', 'REVENUE_PER_SHARE', 'CASH_FLOW_PER_SHARE',\n",
    "            'OPER_MARGIN', 'RETURN_ON_ASSET', 'PX_TO_BOOK_RATIO', 'quick_ratio', 'equity', 'netmargin']\n",
    "df=df[keep_cols]\n",
    "df.head()"
   ]
  },
  {
   "cell_type": "code",
   "execution_count": null,
   "metadata": {},
   "outputs": [],
   "source": []
  },
  {
   "cell_type": "code",
   "execution_count": 23,
   "metadata": {},
   "outputs": [
    {
     "data": {
      "text/html": [
       "<div>\n",
       "<style scoped>\n",
       "    .dataframe tbody tr th:only-of-type {\n",
       "        vertical-align: middle;\n",
       "    }\n",
       "\n",
       "    .dataframe tbody tr th {\n",
       "        vertical-align: top;\n",
       "    }\n",
       "\n",
       "    .dataframe thead th {\n",
       "        text-align: right;\n",
       "    }\n",
       "</style>\n",
       "<table border=\"1\" class=\"dataframe\">\n",
       "  <thead>\n",
       "    <tr style=\"text-align: right;\">\n",
       "      <th></th>\n",
       "      <th>TOT_DEBT_TO_TOTAL_ASSET</th>\n",
       "      <th>PX_FREE_CASH_FLOW</th>\n",
       "      <th>REVENUE_PER_SHARE</th>\n",
       "      <th>CASH_FLOW_PER_SHARE</th>\n",
       "      <th>OPER_MARGIN</th>\n",
       "      <th>RETURN_ON_ASSET</th>\n",
       "      <th>PX_TO_BOOK_RATIO</th>\n",
       "      <th>quick_ratio</th>\n",
       "      <th>equity</th>\n",
       "      <th>netmargin</th>\n",
       "    </tr>\n",
       "  </thead>\n",
       "  <tbody>\n",
       "    <tr>\n",
       "      <th>1</th>\n",
       "      <td>0.018688</td>\n",
       "      <td>-19.603277</td>\n",
       "      <td>0.047655</td>\n",
       "      <td>-0.922987</td>\n",
       "      <td>-39.292488</td>\n",
       "      <td>-0.409374</td>\n",
       "      <td>7.288</td>\n",
       "      <td>3.647265</td>\n",
       "      <td>2.456810e+08</td>\n",
       "      <td>-38.489</td>\n",
       "    </tr>\n",
       "    <tr>\n",
       "      <th>16</th>\n",
       "      <td>0.195382</td>\n",
       "      <td>-65.555556</td>\n",
       "      <td>0.621846</td>\n",
       "      <td>0.035415</td>\n",
       "      <td>-0.347321</td>\n",
       "      <td>-0.243414</td>\n",
       "      <td>10.140</td>\n",
       "      <td>1.454003</td>\n",
       "      <td>1.646590e+08</td>\n",
       "      <td>-0.337</td>\n",
       "    </tr>\n",
       "    <tr>\n",
       "      <th>30</th>\n",
       "      <td>0.572629</td>\n",
       "      <td>47.403295</td>\n",
       "      <td>3.514597</td>\n",
       "      <td>1.221921</td>\n",
       "      <td>0.294504</td>\n",
       "      <td>0.134270</td>\n",
       "      <td>23.279</td>\n",
       "      <td>1.672204</td>\n",
       "      <td>2.708000e+09</td>\n",
       "      <td>0.229</td>\n",
       "    </tr>\n",
       "    <tr>\n",
       "      <th>51</th>\n",
       "      <td>0.050918</td>\n",
       "      <td>366.601307</td>\n",
       "      <td>0.791419</td>\n",
       "      <td>0.042444</td>\n",
       "      <td>-0.299009</td>\n",
       "      <td>-0.103884</td>\n",
       "      <td>22.487</td>\n",
       "      <td>1.579705</td>\n",
       "      <td>3.191640e+08</td>\n",
       "      <td>-0.288</td>\n",
       "    </tr>\n",
       "    <tr>\n",
       "      <th>65</th>\n",
       "      <td>0.195735</td>\n",
       "      <td>7.010309</td>\n",
       "      <td>0.427586</td>\n",
       "      <td>0.099426</td>\n",
       "      <td>0.010710</td>\n",
       "      <td>0.012826</td>\n",
       "      <td>2.931</td>\n",
       "      <td>1.933891</td>\n",
       "      <td>1.975430e+09</td>\n",
       "      <td>-0.009</td>\n",
       "    </tr>\n",
       "  </tbody>\n",
       "</table>\n",
       "</div>"
      ],
      "text/plain": [
       "    TOT_DEBT_TO_TOTAL_ASSET  PX_FREE_CASH_FLOW  REVENUE_PER_SHARE  \\\n",
       "1                  0.018688         -19.603277           0.047655   \n",
       "16                 0.195382         -65.555556           0.621846   \n",
       "30                 0.572629          47.403295           3.514597   \n",
       "51                 0.050918         366.601307           0.791419   \n",
       "65                 0.195735           7.010309           0.427586   \n",
       "\n",
       "    CASH_FLOW_PER_SHARE  OPER_MARGIN  RETURN_ON_ASSET  PX_TO_BOOK_RATIO  \\\n",
       "1             -0.922987   -39.292488        -0.409374             7.288   \n",
       "16             0.035415    -0.347321        -0.243414            10.140   \n",
       "30             1.221921     0.294504         0.134270            23.279   \n",
       "51             0.042444    -0.299009        -0.103884            22.487   \n",
       "65             0.099426     0.010710         0.012826             2.931   \n",
       "\n",
       "    quick_ratio        equity  netmargin  \n",
       "1      3.647265  2.456810e+08    -38.489  \n",
       "16     1.454003  1.646590e+08     -0.337  \n",
       "30     1.672204  2.708000e+09      0.229  \n",
       "51     1.579705  3.191640e+08     -0.288  \n",
       "65     1.933891  1.975430e+09     -0.009  "
      ]
     },
     "execution_count": 23,
     "metadata": {},
     "output_type": "execute_result"
    }
   ],
   "source": [
    "df.head()\n"
   ]
  },
  {
   "cell_type": "code",
   "execution_count": 24,
   "metadata": {},
   "outputs": [],
   "source": [
    "#find out what's the fastest way to find upper case and drop them."
   ]
  },
  {
   "cell_type": "code",
   "execution_count": 25,
   "metadata": {},
   "outputs": [
    {
     "data": {
      "text/html": [
       "<div>\n",
       "<style scoped>\n",
       "    .dataframe tbody tr th:only-of-type {\n",
       "        vertical-align: middle;\n",
       "    }\n",
       "\n",
       "    .dataframe tbody tr th {\n",
       "        vertical-align: top;\n",
       "    }\n",
       "\n",
       "    .dataframe thead th {\n",
       "        text-align: right;\n",
       "    }\n",
       "</style>\n",
       "<table border=\"1\" class=\"dataframe\">\n",
       "  <thead>\n",
       "    <tr style=\"text-align: right;\">\n",
       "      <th></th>\n",
       "      <th>TOT_DEBT_TO_TOTAL_ASSET</th>\n",
       "      <th>PX_FREE_CASH_FLOW</th>\n",
       "      <th>REVENUE_PER_SHARE</th>\n",
       "      <th>CASH_FLOW_PER_SHARE</th>\n",
       "      <th>OPER_MARGIN</th>\n",
       "      <th>RETURN_ON_ASSET</th>\n",
       "      <th>PX_TO_BOOK_RATIO</th>\n",
       "      <th>quick_ratio</th>\n",
       "      <th>equity</th>\n",
       "      <th>netmargin</th>\n",
       "    </tr>\n",
       "  </thead>\n",
       "  <tbody>\n",
       "    <tr>\n",
       "      <th>TOT_DEBT_TO_TOTAL_ASSET</th>\n",
       "      <td>1.000000</td>\n",
       "      <td>-0.009748</td>\n",
       "      <td>0.005964</td>\n",
       "      <td>0.021061</td>\n",
       "      <td>0.069597</td>\n",
       "      <td>0.094259</td>\n",
       "      <td>-0.045669</td>\n",
       "      <td>-0.169095</td>\n",
       "      <td>0.004443</td>\n",
       "      <td>0.066201</td>\n",
       "    </tr>\n",
       "    <tr>\n",
       "      <th>PX_FREE_CASH_FLOW</th>\n",
       "      <td>-0.009748</td>\n",
       "      <td>1.000000</td>\n",
       "      <td>-0.004659</td>\n",
       "      <td>-0.004172</td>\n",
       "      <td>0.006953</td>\n",
       "      <td>0.051876</td>\n",
       "      <td>0.011290</td>\n",
       "      <td>0.024979</td>\n",
       "      <td>-0.002127</td>\n",
       "      <td>0.006396</td>\n",
       "    </tr>\n",
       "    <tr>\n",
       "      <th>REVENUE_PER_SHARE</th>\n",
       "      <td>0.005964</td>\n",
       "      <td>-0.004659</td>\n",
       "      <td>1.000000</td>\n",
       "      <td>0.892506</td>\n",
       "      <td>0.011968</td>\n",
       "      <td>0.035092</td>\n",
       "      <td>-0.003294</td>\n",
       "      <td>-0.037426</td>\n",
       "      <td>0.815309</td>\n",
       "      <td>0.010660</td>\n",
       "    </tr>\n",
       "    <tr>\n",
       "      <th>CASH_FLOW_PER_SHARE</th>\n",
       "      <td>0.021061</td>\n",
       "      <td>-0.004172</td>\n",
       "      <td>0.892506</td>\n",
       "      <td>1.000000</td>\n",
       "      <td>0.021760</td>\n",
       "      <td>0.094722</td>\n",
       "      <td>-0.006566</td>\n",
       "      <td>-0.053225</td>\n",
       "      <td>0.889748</td>\n",
       "      <td>0.019044</td>\n",
       "    </tr>\n",
       "    <tr>\n",
       "      <th>OPER_MARGIN</th>\n",
       "      <td>0.069597</td>\n",
       "      <td>0.006953</td>\n",
       "      <td>0.011968</td>\n",
       "      <td>0.021760</td>\n",
       "      <td>1.000000</td>\n",
       "      <td>0.285012</td>\n",
       "      <td>-0.006289</td>\n",
       "      <td>-0.129486</td>\n",
       "      <td>0.002986</td>\n",
       "      <td>0.900705</td>\n",
       "    </tr>\n",
       "    <tr>\n",
       "      <th>RETURN_ON_ASSET</th>\n",
       "      <td>0.094259</td>\n",
       "      <td>0.051876</td>\n",
       "      <td>0.035092</td>\n",
       "      <td>0.094722</td>\n",
       "      <td>0.285012</td>\n",
       "      <td>1.000000</td>\n",
       "      <td>-0.017569</td>\n",
       "      <td>-0.133204</td>\n",
       "      <td>0.007883</td>\n",
       "      <td>0.258953</td>\n",
       "    </tr>\n",
       "    <tr>\n",
       "      <th>PX_TO_BOOK_RATIO</th>\n",
       "      <td>-0.045669</td>\n",
       "      <td>0.011290</td>\n",
       "      <td>-0.003294</td>\n",
       "      <td>-0.006566</td>\n",
       "      <td>-0.006289</td>\n",
       "      <td>-0.017569</td>\n",
       "      <td>1.000000</td>\n",
       "      <td>0.005273</td>\n",
       "      <td>-0.001863</td>\n",
       "      <td>-0.005069</td>\n",
       "    </tr>\n",
       "    <tr>\n",
       "      <th>quick_ratio</th>\n",
       "      <td>-0.169095</td>\n",
       "      <td>0.024979</td>\n",
       "      <td>-0.037426</td>\n",
       "      <td>-0.053225</td>\n",
       "      <td>-0.129486</td>\n",
       "      <td>-0.133204</td>\n",
       "      <td>0.005273</td>\n",
       "      <td>1.000000</td>\n",
       "      <td>-0.007829</td>\n",
       "      <td>-0.182241</td>\n",
       "    </tr>\n",
       "    <tr>\n",
       "      <th>equity</th>\n",
       "      <td>0.004443</td>\n",
       "      <td>-0.002127</td>\n",
       "      <td>0.815309</td>\n",
       "      <td>0.889748</td>\n",
       "      <td>0.002986</td>\n",
       "      <td>0.007883</td>\n",
       "      <td>-0.001863</td>\n",
       "      <td>-0.007829</td>\n",
       "      <td>1.000000</td>\n",
       "      <td>0.002667</td>\n",
       "    </tr>\n",
       "    <tr>\n",
       "      <th>netmargin</th>\n",
       "      <td>0.066201</td>\n",
       "      <td>0.006396</td>\n",
       "      <td>0.010660</td>\n",
       "      <td>0.019044</td>\n",
       "      <td>0.900705</td>\n",
       "      <td>0.258953</td>\n",
       "      <td>-0.005069</td>\n",
       "      <td>-0.182241</td>\n",
       "      <td>0.002667</td>\n",
       "      <td>1.000000</td>\n",
       "    </tr>\n",
       "  </tbody>\n",
       "</table>\n",
       "</div>"
      ],
      "text/plain": [
       "                         TOT_DEBT_TO_TOTAL_ASSET  PX_FREE_CASH_FLOW  \\\n",
       "TOT_DEBT_TO_TOTAL_ASSET                 1.000000          -0.009748   \n",
       "PX_FREE_CASH_FLOW                      -0.009748           1.000000   \n",
       "REVENUE_PER_SHARE                       0.005964          -0.004659   \n",
       "CASH_FLOW_PER_SHARE                     0.021061          -0.004172   \n",
       "OPER_MARGIN                             0.069597           0.006953   \n",
       "RETURN_ON_ASSET                         0.094259           0.051876   \n",
       "PX_TO_BOOK_RATIO                       -0.045669           0.011290   \n",
       "quick_ratio                            -0.169095           0.024979   \n",
       "equity                                  0.004443          -0.002127   \n",
       "netmargin                               0.066201           0.006396   \n",
       "\n",
       "                         REVENUE_PER_SHARE  CASH_FLOW_PER_SHARE  OPER_MARGIN  \\\n",
       "TOT_DEBT_TO_TOTAL_ASSET           0.005964             0.021061     0.069597   \n",
       "PX_FREE_CASH_FLOW                -0.004659            -0.004172     0.006953   \n",
       "REVENUE_PER_SHARE                 1.000000             0.892506     0.011968   \n",
       "CASH_FLOW_PER_SHARE               0.892506             1.000000     0.021760   \n",
       "OPER_MARGIN                       0.011968             0.021760     1.000000   \n",
       "RETURN_ON_ASSET                   0.035092             0.094722     0.285012   \n",
       "PX_TO_BOOK_RATIO                 -0.003294            -0.006566    -0.006289   \n",
       "quick_ratio                      -0.037426            -0.053225    -0.129486   \n",
       "equity                            0.815309             0.889748     0.002986   \n",
       "netmargin                         0.010660             0.019044     0.900705   \n",
       "\n",
       "                         RETURN_ON_ASSET  PX_TO_BOOK_RATIO  quick_ratio  \\\n",
       "TOT_DEBT_TO_TOTAL_ASSET         0.094259         -0.045669    -0.169095   \n",
       "PX_FREE_CASH_FLOW               0.051876          0.011290     0.024979   \n",
       "REVENUE_PER_SHARE               0.035092         -0.003294    -0.037426   \n",
       "CASH_FLOW_PER_SHARE             0.094722         -0.006566    -0.053225   \n",
       "OPER_MARGIN                     0.285012         -0.006289    -0.129486   \n",
       "RETURN_ON_ASSET                 1.000000         -0.017569    -0.133204   \n",
       "PX_TO_BOOK_RATIO               -0.017569          1.000000     0.005273   \n",
       "quick_ratio                    -0.133204          0.005273     1.000000   \n",
       "equity                          0.007883         -0.001863    -0.007829   \n",
       "netmargin                       0.258953         -0.005069    -0.182241   \n",
       "\n",
       "                           equity  netmargin  \n",
       "TOT_DEBT_TO_TOTAL_ASSET  0.004443   0.066201  \n",
       "PX_FREE_CASH_FLOW       -0.002127   0.006396  \n",
       "REVENUE_PER_SHARE        0.815309   0.010660  \n",
       "CASH_FLOW_PER_SHARE      0.889748   0.019044  \n",
       "OPER_MARGIN              0.002986   0.900705  \n",
       "RETURN_ON_ASSET          0.007883   0.258953  \n",
       "PX_TO_BOOK_RATIO        -0.001863  -0.005069  \n",
       "quick_ratio             -0.007829  -0.182241  \n",
       "equity                   1.000000   0.002667  \n",
       "netmargin                0.002667   1.000000  "
      ]
     },
     "execution_count": 25,
     "metadata": {},
     "output_type": "execute_result"
    }
   ],
   "source": [
    "df.corr()"
   ]
  },
  {
   "cell_type": "code",
   "execution_count": 26,
   "metadata": {
    "scrolled": false
   },
   "outputs": [
    {
     "data": {
      "image/png": "[encoded data removed]",
      "text/plain": [
       "<Figure size 1080x864 with 2 Axes>"
      ]
     },
     "metadata": {
      "needs_background": "light"
     },
     "output_type": "display_data"
    }
   ],
   "source": [
    "plt.figure(figsize=(15, 12))\n",
    "sns.heatmap(df.corr(), vmin=-1, vmax=1, annot=True)\n",
    "plt.show()"
   ]
  },
  {
   "cell_type": "code",
   "execution_count": 29,
   "metadata": {
    "scrolled": true
   },
   "outputs": [
    {
     "data": {
      "text/html": [
       "<div>\n",
       "<style scoped>\n",
       "    .dataframe tbody tr th:only-of-type {\n",
       "        vertical-align: middle;\n",
       "    }\n",
       "\n",
       "    .dataframe tbody tr th {\n",
       "        vertical-align: top;\n",
       "    }\n",
       "\n",
       "    .dataframe thead th {\n",
       "        text-align: right;\n",
       "    }\n",
       "</style>\n",
       "<table border=\"1\" class=\"dataframe\">\n",
       "  <thead>\n",
       "    <tr style=\"text-align: right;\">\n",
       "      <th></th>\n",
       "      <th>TOT_DEBT_TO_TOTAL_ASSET</th>\n",
       "      <th>PX_FREE_CASH_FLOW</th>\n",
       "      <th>CASH_FLOW_PER_SHARE</th>\n",
       "      <th>OPER_MARGIN</th>\n",
       "      <th>RETURN_ON_ASSET</th>\n",
       "      <th>PX_TO_BOOK_RATIO</th>\n",
       "      <th>quick_ratio</th>\n",
       "      <th>netmargin</th>\n",
       "    </tr>\n",
       "  </thead>\n",
       "  <tbody>\n",
       "    <tr>\n",
       "      <th>1</th>\n",
       "      <td>0.018688</td>\n",
       "      <td>-19.603277</td>\n",
       "      <td>-0.922987</td>\n",
       "      <td>-39.292488</td>\n",
       "      <td>-0.409374</td>\n",
       "      <td>7.288</td>\n",
       "      <td>3.647265</td>\n",
       "      <td>-38.489</td>\n",
       "    </tr>\n",
       "    <tr>\n",
       "      <th>16</th>\n",
       "      <td>0.195382</td>\n",
       "      <td>-65.555556</td>\n",
       "      <td>0.035415</td>\n",
       "      <td>-0.347321</td>\n",
       "      <td>-0.243414</td>\n",
       "      <td>10.140</td>\n",
       "      <td>1.454003</td>\n",
       "      <td>-0.337</td>\n",
       "    </tr>\n",
       "    <tr>\n",
       "      <th>30</th>\n",
       "      <td>0.572629</td>\n",
       "      <td>47.403295</td>\n",
       "      <td>1.221921</td>\n",
       "      <td>0.294504</td>\n",
       "      <td>0.134270</td>\n",
       "      <td>23.279</td>\n",
       "      <td>1.672204</td>\n",
       "      <td>0.229</td>\n",
       "    </tr>\n",
       "    <tr>\n",
       "      <th>51</th>\n",
       "      <td>0.050918</td>\n",
       "      <td>366.601307</td>\n",
       "      <td>0.042444</td>\n",
       "      <td>-0.299009</td>\n",
       "      <td>-0.103884</td>\n",
       "      <td>22.487</td>\n",
       "      <td>1.579705</td>\n",
       "      <td>-0.288</td>\n",
       "    </tr>\n",
       "    <tr>\n",
       "      <th>65</th>\n",
       "      <td>0.195735</td>\n",
       "      <td>7.010309</td>\n",
       "      <td>0.099426</td>\n",
       "      <td>0.010710</td>\n",
       "      <td>0.012826</td>\n",
       "      <td>2.931</td>\n",
       "      <td>1.933891</td>\n",
       "      <td>-0.009</td>\n",
       "    </tr>\n",
       "  </tbody>\n",
       "</table>\n",
       "</div>"
      ],
      "text/plain": [
       "    TOT_DEBT_TO_TOTAL_ASSET  PX_FREE_CASH_FLOW  CASH_FLOW_PER_SHARE  \\\n",
       "1                  0.018688         -19.603277            -0.922987   \n",
       "16                 0.195382         -65.555556             0.035415   \n",
       "30                 0.572629          47.403295             1.221921   \n",
       "51                 0.050918         366.601307             0.042444   \n",
       "65                 0.195735           7.010309             0.099426   \n",
       "\n",
       "    OPER_MARGIN  RETURN_ON_ASSET  PX_TO_BOOK_RATIO  quick_ratio  netmargin  \n",
       "1    -39.292488        -0.409374             7.288     3.647265    -38.489  \n",
       "16    -0.347321        -0.243414            10.140     1.454003     -0.337  \n",
       "30     0.294504         0.134270            23.279     1.672204      0.229  \n",
       "51    -0.299009        -0.103884            22.487     1.579705     -0.288  \n",
       "65     0.010710         0.012826             2.931     1.933891     -0.009  "
      ]
     },
     "execution_count": 29,
     "metadata": {},
     "output_type": "execute_result"
    }
   ],
   "source": [
    "drop_cols = ['equity', 'REVENUE_PER_SHARE']\n",
    "df.drop(drop_cols, axis = 1, inplace=True)\n",
    "df.head()"
   ]
  },
  {
   "cell_type": "code",
   "execution_count": 30,
   "metadata": {
    "scrolled": false
   },
   "outputs": [
    {
     "data": {
      "image/png": "[encoded data removed]",
      "text/plain": [
       "<Figure size 1080x864 with 2 Axes>"
      ]
     },
     "metadata": {
      "needs_background": "light"
     },
     "output_type": "display_data"
    }
   ],
   "source": [
    "plt.figure(figsize=(15, 12))\n",
    "sns.heatmap(df.corr(), vmin=-1, vmax=1, annot=True)\n",
    "plt.show()"
   ]
  },
  {
   "cell_type": "code",
   "execution_count": 31,
   "metadata": {
    "scrolled": false
   },
   "outputs": [
    {
     "data": {
      "text/plain": [
       "<bound method DataFrame.isin of        TOT_DEBT_TO_TOTAL_ASSET  PX_FREE_CASH_FLOW  CASH_FLOW_PER_SHARE  \\\n",
       "1                     0.018688         -19.603277            -0.922987   \n",
       "16                    0.195382         -65.555556             0.035415   \n",
       "30                    0.572629          47.403295             1.221921   \n",
       "51                    0.050918         366.601307             0.042444   \n",
       "65                    0.195735           7.010309             0.099426   \n",
       "...                        ...                ...                  ...   \n",
       "40154                 0.245764          18.533474             2.286520   \n",
       "40175                 0.000000          42.303082             0.524823   \n",
       "40217                 0.557446         -31.481888             1.369682   \n",
       "40238                 0.123026          13.004837             1.411844   \n",
       "40257                 0.259131          42.732919            -0.190210   \n",
       "\n",
       "       OPER_MARGIN  RETURN_ON_ASSET  PX_TO_BOOK_RATIO  quick_ratio  netmargin  \n",
       "1       -39.292488        -0.409374             7.288     3.647265    -38.489  \n",
       "16       -0.347321        -0.243414            10.140     1.454003     -0.337  \n",
       "30        0.294504         0.134270            23.279     1.672204      0.229  \n",
       "51       -0.299009        -0.103884            22.487     1.579705     -0.288  \n",
       "65        0.010710         0.012826             2.931     1.933891     -0.009  \n",
       "...            ...              ...               ...          ...        ...  \n",
       "40154     0.059708         0.043565             3.090     0.247478      0.045  \n",
       "40175     0.174833         0.155083             8.872     1.995449      0.131  \n",
       "40217     0.064439         0.027648          -106.470     0.313145      0.037  \n",
       "40238    -0.044335        -0.074250             0.971     0.600468     -0.124  \n",
       "40257     0.158438         0.083497             5.282     1.158562      0.145  \n",
       "\n",
       "[1493 rows x 8 columns]>"
      ]
     },
     "execution_count": 31,
     "metadata": {},
     "output_type": "execute_result"
    }
   ],
   "source": [
    "df.isin"
   ]
  },
  {
   "cell_type": "markdown",
   "metadata": {},
   "source": [
    "X = df.copy()\n",
    "y = df_original"
   ]
  },
  {
   "cell_type": "code",
   "execution_count": 32,
   "metadata": {
    "scrolled": true
   },
   "outputs": [],
   "source": [
    "\n",
    "scaler = StandardScaler()\n",
    "X = scaler.fit_transform(df)"
   ]
  },
  {
   "cell_type": "code",
   "execution_count": 33,
   "metadata": {},
   "outputs": [],
   "source": [
    "from sklearn.cluster import KMeans\n",
    "from sklearn import metrics \n",
    "from scipy.spatial.distance import cdist\n"
   ]
  },
  {
   "cell_type": "code",
   "execution_count": 34,
   "metadata": {
    "scrolled": true
   },
   "outputs": [],
   "source": [
    "distortions = [] \n",
    "inertias = [] \n",
    "mapping1 = {} \n",
    "mapping2 = {} \n",
    "K = range(1,20)\n",
    "\n",
    "for k in K: #Building and fitting the model kmeanModel = KMeans(n_clusters=k).fit(X) kmeanModel.fit(X)\n",
    "    kmeanModel = KMeans(n_clusters=k).fit(X) \n",
    "    kmeanModel.fit(X)\n",
    "\n",
    "    distortions.append(sum(np.min(cdist(X, kmeanModel.cluster_centers_, \n",
    "                  'euclidean'),axis=1)) / X.shape[0]) \n",
    "    inertias.append(kmeanModel.inertia_) \n",
    "\n",
    "    mapping1[k] = sum(np.min(cdist(X, kmeanModel.cluster_centers_, \n",
    "             'euclidean'),axis=1)) / X.shape[0] \n",
    "    mapping2[k] = kmeanModel.inertia_"
   ]
  },
  {
   "cell_type": "code",
   "execution_count": 35,
   "metadata": {},
   "outputs": [
    {
     "data": {
      "image/png": "[encoded data removed]",
      "text/plain": [
       "<Figure size 432x288 with 1 Axes>"
      ]
     },
     "metadata": {
      "needs_background": "light"
     },
     "output_type": "display_data"
    }
   ],
   "source": [
    "plt.plot(K, distortions, 'bx-') \n",
    "plt.xlabel('Values of K') \n",
    "plt.ylabel('Distortion') \n",
    "plt.title('The Elbow Method using Distortion') \n",
    "plt.show()"
   ]
  },
  {
   "cell_type": "code",
   "execution_count": 36,
   "metadata": {},
   "outputs": [
    {
     "name": "stdout",
     "output_type": "stream",
     "text": [
      "[0 0 7 ... 1 2 2]\n"
     ]
    }
   ],
   "source": [
    "kmeans = KMeans(n_clusters = 11, random_state=55)\n",
    "kmeans.fit(X)\n",
    "y_pred = kmeans.predict(X)\n",
    "print(y_pred)"
   ]
  },
  {
   "cell_type": "code",
   "execution_count": 37,
   "metadata": {},
   "outputs": [
    {
     "data": {
      "text/plain": [
       "7     735\n",
       "2     457\n",
       "1     154\n",
       "0     128\n",
       "5       4\n",
       "10      3\n",
       "8       3\n",
       "4       3\n",
       "9       2\n",
       "6       2\n",
       "3       2\n",
       "dtype: int64"
      ]
     },
     "execution_count": 37,
     "metadata": {},
     "output_type": "execute_result"
    }
   ],
   "source": [
    "pd.Series(kmeans.labels_).value_counts() #number of stocks in clusters"
   ]
  },
  {
   "cell_type": "code",
   "execution_count": 62,
   "metadata": {
    "scrolled": false
   },
   "outputs": [],
   "source": [
    "df_copy['label'] = kmeans.labels_ #0-4(changable) above clusters\n",
    "df_copy['label'] = df_copy['label'].astype(str)"
   ]
  },
  {
   "cell_type": "code",
   "execution_count": 63,
   "metadata": {},
   "outputs": [],
   "source": [
    "centroids = df_copy.groupby(['label']).mean() #grouping by label, shows avg \n",
    "    #shows the highest "
   ]
  },
  {
   "cell_type": "code",
   "execution_count": 64,
   "metadata": {
    "scrolled": true
   },
   "outputs": [
    {
     "data": {
      "text/html": [
       "<style  type=\"text/css\" >\n",
       "    #T_86f926d8_0a41_11eb_8c21_0050b6bf42a3row0_col0 {\n",
       "            background-color:  #fff7fb;\n",
       "            color:  #000000;\n",
       "        }    #T_86f926d8_0a41_11eb_8c21_0050b6bf42a3row0_col1 {\n",
       "            background-color:  #358fc0;\n",
       "            color:  #000000;\n",
       "        }    #T_86f926d8_0a41_11eb_8c21_0050b6bf42a3row0_col2 {\n",
       "            background-color:  #fff7fb;\n",
       "            color:  #000000;\n",
       "        }    #T_86f926d8_0a41_11eb_8c21_0050b6bf42a3row0_col3 {\n",
       "            background-color:  #fff7fb;\n",
       "            color:  #000000;\n",
       "        }    #T_86f926d8_0a41_11eb_8c21_0050b6bf42a3row0_col4 {\n",
       "            background-color:  #02395a;\n",
       "            color:  #f1f1f1;\n",
       "        }    #T_86f926d8_0a41_11eb_8c21_0050b6bf42a3row0_col5 {\n",
       "            background-color:  #fff7fb;\n",
       "            color:  #000000;\n",
       "        }    #T_86f926d8_0a41_11eb_8c21_0050b6bf42a3row0_col6 {\n",
       "            background-color:  #f9f2f8;\n",
       "            color:  #000000;\n",
       "        }    #T_86f926d8_0a41_11eb_8c21_0050b6bf42a3row0_col7 {\n",
       "            background-color:  #fff7fb;\n",
       "            color:  #000000;\n",
       "        }    #T_86f926d8_0a41_11eb_8c21_0050b6bf42a3row0_col8 {\n",
       "            background-color:  #fff7fb;\n",
       "            color:  #000000;\n",
       "        }    #T_86f926d8_0a41_11eb_8c21_0050b6bf42a3row0_col9 {\n",
       "            background-color:  #fff7fb;\n",
       "            color:  #000000;\n",
       "        }    #T_86f926d8_0a41_11eb_8c21_0050b6bf42a3row0_col10 {\n",
       "            background-color:  #fff7fb;\n",
       "            color:  #000000;\n",
       "        }    #T_86f926d8_0a41_11eb_8c21_0050b6bf42a3row0_col11 {\n",
       "            background-color:  #fdf5fa;\n",
       "            color:  #000000;\n",
       "        }    #T_86f926d8_0a41_11eb_8c21_0050b6bf42a3row0_col12 {\n",
       "            background-color:  #f8f1f8;\n",
       "            color:  #000000;\n",
       "        }    #T_86f926d8_0a41_11eb_8c21_0050b6bf42a3row0_col13 {\n",
       "            background-color:  #fff7fb;\n",
       "            color:  #000000;\n",
       "        }    #T_86f926d8_0a41_11eb_8c21_0050b6bf42a3row0_col14 {\n",
       "            background-color:  #fff7fb;\n",
       "            color:  #000000;\n",
       "        }    #T_86f926d8_0a41_11eb_8c21_0050b6bf42a3row0_col15 {\n",
       "            background-color:  #fff7fb;\n",
       "            color:  #000000;\n",
       "        }    #T_86f926d8_0a41_11eb_8c21_0050b6bf42a3row0_col16 {\n",
       "            background-color:  #fff7fb;\n",
       "            color:  #000000;\n",
       "        }    #T_86f926d8_0a41_11eb_8c21_0050b6bf42a3row0_col17 {\n",
       "            background-color:  #fff7fb;\n",
       "            color:  #000000;\n",
       "        }    #T_86f926d8_0a41_11eb_8c21_0050b6bf42a3row0_col18 {\n",
       "            background-color:  #fff7fb;\n",
       "            color:  #000000;\n",
       "        }    #T_86f926d8_0a41_11eb_8c21_0050b6bf42a3row0_col19 {\n",
       "            background-color:  #fff7fb;\n",
       "            color:  #000000;\n",
       "        }    #T_86f926d8_0a41_11eb_8c21_0050b6bf42a3row0_col20 {\n",
       "            background-color:  #358fc0;\n",
       "            color:  #000000;\n",
       "        }    #T_86f926d8_0a41_11eb_8c21_0050b6bf42a3row0_col21 {\n",
       "            background-color:  #91b5d6;\n",
       "            color:  #000000;\n",
       "        }    #T_86f926d8_0a41_11eb_8c21_0050b6bf42a3row0_col22 {\n",
       "            background-color:  #023a5b;\n",
       "            color:  #f1f1f1;\n",
       "        }    #T_86f926d8_0a41_11eb_8c21_0050b6bf42a3row0_col23 {\n",
       "            background-color:  #fff7fb;\n",
       "            color:  #000000;\n",
       "        }    #T_86f926d8_0a41_11eb_8c21_0050b6bf42a3row0_col24 {\n",
       "            background-color:  #fff7fb;\n",
       "            color:  #000000;\n",
       "        }    #T_86f926d8_0a41_11eb_8c21_0050b6bf42a3row0_col25 {\n",
       "            background-color:  #fff7fb;\n",
       "            color:  #000000;\n",
       "        }    #T_86f926d8_0a41_11eb_8c21_0050b6bf42a3row0_col26 {\n",
       "            background-color:  #f6eff7;\n",
       "            color:  #000000;\n",
       "        }    #T_86f926d8_0a41_11eb_8c21_0050b6bf42a3row0_col27 {\n",
       "            background-color:  #dddbec;\n",
       "            color:  #000000;\n",
       "        }    #T_86f926d8_0a41_11eb_8c21_0050b6bf42a3row1_col0 {\n",
       "            background-color:  #fff7fb;\n",
       "            color:  #000000;\n",
       "        }    #T_86f926d8_0a41_11eb_8c21_0050b6bf42a3row1_col1 {\n",
       "            background-color:  #3991c1;\n",
       "            color:  #000000;\n",
       "        }    #T_86f926d8_0a41_11eb_8c21_0050b6bf42a3row1_col2 {\n",
       "            background-color:  #fff7fb;\n",
       "            color:  #000000;\n",
       "        }    #T_86f926d8_0a41_11eb_8c21_0050b6bf42a3row1_col3 {\n",
       "            background-color:  #fff7fb;\n",
       "            color:  #000000;\n",
       "        }    #T_86f926d8_0a41_11eb_8c21_0050b6bf42a3row1_col4 {\n",
       "            background-color:  #023858;\n",
       "            color:  #f1f1f1;\n",
       "        }    #T_86f926d8_0a41_11eb_8c21_0050b6bf42a3row1_col5 {\n",
       "            background-color:  #fff7fb;\n",
       "            color:  #000000;\n",
       "        }    #T_86f926d8_0a41_11eb_8c21_0050b6bf42a3row1_col6 {\n",
       "            background-color:  #eee9f3;\n",
       "            color:  #000000;\n",
       "        }    #T_86f926d8_0a41_11eb_8c21_0050b6bf42a3row1_col7 {\n",
       "            background-color:  #fbf4f9;\n",
       "            color:  #000000;\n",
       "        }    #T_86f926d8_0a41_11eb_8c21_0050b6bf42a3row1_col8 {\n",
       "            background-color:  #fff7fb;\n",
       "            color:  #000000;\n",
       "        }    #T_86f926d8_0a41_11eb_8c21_0050b6bf42a3row1_col9 {\n",
       "            background-color:  #fff7fb;\n",
       "            color:  #000000;\n",
       "        }    #T_86f926d8_0a41_11eb_8c21_0050b6bf42a3row1_col10 {\n",
       "            background-color:  #fff7fb;\n",
       "            color:  #000000;\n",
       "        }    #T_86f926d8_0a41_11eb_8c21_0050b6bf42a3row1_col11 {\n",
       "            background-color:  #f9f2f8;\n",
       "            color:  #000000;\n",
       "        }    #T_86f926d8_0a41_11eb_8c21_0050b6bf42a3row1_col12 {\n",
       "            background-color:  #eee9f3;\n",
       "            color:  #000000;\n",
       "        }    #T_86f926d8_0a41_11eb_8c21_0050b6bf42a3row1_col13 {\n",
       "            background-color:  #fff7fb;\n",
       "            color:  #000000;\n",
       "        }    #T_86f926d8_0a41_11eb_8c21_0050b6bf42a3row1_col14 {\n",
       "            background-color:  #fff7fb;\n",
       "            color:  #000000;\n",
       "        }    #T_86f926d8_0a41_11eb_8c21_0050b6bf42a3row1_col15 {\n",
       "            background-color:  #fff7fb;\n",
       "            color:  #000000;\n",
       "        }    #T_86f926d8_0a41_11eb_8c21_0050b6bf42a3row1_col16 {\n",
       "            background-color:  #fff7fb;\n",
       "            color:  #000000;\n",
       "        }    #T_86f926d8_0a41_11eb_8c21_0050b6bf42a3row1_col17 {\n",
       "            background-color:  #fff7fb;\n",
       "            color:  #000000;\n",
       "        }    #T_86f926d8_0a41_11eb_8c21_0050b6bf42a3row1_col18 {\n",
       "            background-color:  #fff7fb;\n",
       "            color:  #000000;\n",
       "        }    #T_86f926d8_0a41_11eb_8c21_0050b6bf42a3row1_col19 {\n",
       "            background-color:  #fdf5fa;\n",
       "            color:  #000000;\n",
       "        }    #T_86f926d8_0a41_11eb_8c21_0050b6bf42a3row1_col20 {\n",
       "            background-color:  #3991c1;\n",
       "            color:  #000000;\n",
       "        }    #T_86f926d8_0a41_11eb_8c21_0050b6bf42a3row1_col21 {\n",
       "            background-color:  #056caa;\n",
       "            color:  #f1f1f1;\n",
       "        }    #T_86f926d8_0a41_11eb_8c21_0050b6bf42a3row1_col22 {\n",
       "            background-color:  #023858;\n",
       "            color:  #f1f1f1;\n",
       "        }    #T_86f926d8_0a41_11eb_8c21_0050b6bf42a3row1_col23 {\n",
       "            background-color:  #fdf5fa;\n",
       "            color:  #000000;\n",
       "        }    #T_86f926d8_0a41_11eb_8c21_0050b6bf42a3row1_col24 {\n",
       "            background-color:  #fef6fb;\n",
       "            color:  #000000;\n",
       "        }    #T_86f926d8_0a41_11eb_8c21_0050b6bf42a3row1_col25 {\n",
       "            background-color:  #fbf3f9;\n",
       "            color:  #000000;\n",
       "        }    #T_86f926d8_0a41_11eb_8c21_0050b6bf42a3row1_col26 {\n",
       "            background-color:  #fef6fa;\n",
       "            color:  #000000;\n",
       "        }    #T_86f926d8_0a41_11eb_8c21_0050b6bf42a3row1_col27 {\n",
       "            background-color:  #023858;\n",
       "            color:  #f1f1f1;\n",
       "        }    #T_86f926d8_0a41_11eb_8c21_0050b6bf42a3row2_col0 {\n",
       "            background-color:  #fff7fb;\n",
       "            color:  #000000;\n",
       "        }    #T_86f926d8_0a41_11eb_8c21_0050b6bf42a3row2_col1 {\n",
       "            background-color:  #348ebf;\n",
       "            color:  #000000;\n",
       "        }    #T_86f926d8_0a41_11eb_8c21_0050b6bf42a3row2_col2 {\n",
       "            background-color:  #fff7fb;\n",
       "            color:  #000000;\n",
       "        }    #T_86f926d8_0a41_11eb_8c21_0050b6bf42a3row2_col3 {\n",
       "            background-color:  #fff7fb;\n",
       "            color:  #000000;\n",
       "        }    #T_86f926d8_0a41_11eb_8c21_0050b6bf42a3row2_col4 {\n",
       "            background-color:  #2786bb;\n",
       "            color:  #000000;\n",
       "        }    #T_86f926d8_0a41_11eb_8c21_0050b6bf42a3row2_col5 {\n",
       "            background-color:  #fff7fb;\n",
       "            color:  #000000;\n",
       "        }    #T_86f926d8_0a41_11eb_8c21_0050b6bf42a3row2_col6 {\n",
       "            background-color:  #fff7fb;\n",
       "            color:  #000000;\n",
       "        }    #T_86f926d8_0a41_11eb_8c21_0050b6bf42a3row2_col7 {\n",
       "            background-color:  #fff7fb;\n",
       "            color:  #000000;\n",
       "        }    #T_86f926d8_0a41_11eb_8c21_0050b6bf42a3row2_col8 {\n",
       "            background-color:  #fff7fb;\n",
       "            color:  #000000;\n",
       "        }    #T_86f926d8_0a41_11eb_8c21_0050b6bf42a3row2_col9 {\n",
       "            background-color:  #fff7fb;\n",
       "            color:  #000000;\n",
       "        }    #T_86f926d8_0a41_11eb_8c21_0050b6bf42a3row2_col10 {\n",
       "            background-color:  #fff7fb;\n",
       "            color:  #000000;\n",
       "        }    #T_86f926d8_0a41_11eb_8c21_0050b6bf42a3row2_col11 {\n",
       "            background-color:  #fef6fb;\n",
       "            color:  #000000;\n",
       "        }    #T_86f926d8_0a41_11eb_8c21_0050b6bf42a3row2_col12 {\n",
       "            background-color:  #fef6fb;\n",
       "            color:  #000000;\n",
       "        }    #T_86f926d8_0a41_11eb_8c21_0050b6bf42a3row2_col13 {\n",
       "            background-color:  #fff7fb;\n",
       "            color:  #000000;\n",
       "        }    #T_86f926d8_0a41_11eb_8c21_0050b6bf42a3row2_col14 {\n",
       "            background-color:  #fff7fb;\n",
       "            color:  #000000;\n",
       "        }    #T_86f926d8_0a41_11eb_8c21_0050b6bf42a3row2_col15 {\n",
       "            background-color:  #fff7fb;\n",
       "            color:  #000000;\n",
       "        }    #T_86f926d8_0a41_11eb_8c21_0050b6bf42a3row2_col16 {\n",
       "            background-color:  #fff7fb;\n",
       "            color:  #000000;\n",
       "        }    #T_86f926d8_0a41_11eb_8c21_0050b6bf42a3row2_col17 {\n",
       "            background-color:  #fff7fb;\n",
       "            color:  #000000;\n",
       "        }    #T_86f926d8_0a41_11eb_8c21_0050b6bf42a3row2_col18 {\n",
       "            background-color:  #fff7fb;\n",
       "            color:  #000000;\n",
       "        }    #T_86f926d8_0a41_11eb_8c21_0050b6bf42a3row2_col19 {\n",
       "            background-color:  #fff7fb;\n",
       "            color:  #000000;\n",
       "        }    #T_86f926d8_0a41_11eb_8c21_0050b6bf42a3row2_col20 {\n",
       "            background-color:  #348ebf;\n",
       "            color:  #000000;\n",
       "        }    #T_86f926d8_0a41_11eb_8c21_0050b6bf42a3row2_col21 {\n",
       "            background-color:  #fff7fb;\n",
       "            color:  #000000;\n",
       "        }    #T_86f926d8_0a41_11eb_8c21_0050b6bf42a3row2_col22 {\n",
       "            background-color:  #7eadd1;\n",
       "            color:  #000000;\n",
       "        }    #T_86f926d8_0a41_11eb_8c21_0050b6bf42a3row2_col23 {\n",
       "            background-color:  #fff7fb;\n",
       "            color:  #000000;\n",
       "        }    #T_86f926d8_0a41_11eb_8c21_0050b6bf42a3row2_col24 {\n",
       "            background-color:  #fff7fb;\n",
       "            color:  #000000;\n",
       "        }    #T_86f926d8_0a41_11eb_8c21_0050b6bf42a3row2_col25 {\n",
       "            background-color:  #fbf4f9;\n",
       "            color:  #000000;\n",
       "        }    #T_86f926d8_0a41_11eb_8c21_0050b6bf42a3row2_col26 {\n",
       "            background-color:  #f6eff7;\n",
       "            color:  #000000;\n",
       "        }    #T_86f926d8_0a41_11eb_8c21_0050b6bf42a3row2_col27 {\n",
       "            background-color:  #e9e5f1;\n",
       "            color:  #000000;\n",
       "        }    #T_86f926d8_0a41_11eb_8c21_0050b6bf42a3row3_col0 {\n",
       "            background-color:  #fff7fb;\n",
       "            color:  #000000;\n",
       "        }    #T_86f926d8_0a41_11eb_8c21_0050b6bf42a3row3_col1 {\n",
       "            background-color:  #3790c0;\n",
       "            color:  #000000;\n",
       "        }    #T_86f926d8_0a41_11eb_8c21_0050b6bf42a3row3_col2 {\n",
       "            background-color:  #fff7fb;\n",
       "            color:  #000000;\n",
       "        }    #T_86f926d8_0a41_11eb_8c21_0050b6bf42a3row3_col3 {\n",
       "            background-color:  #fff7fb;\n",
       "            color:  #000000;\n",
       "        }    #T_86f926d8_0a41_11eb_8c21_0050b6bf42a3row3_col4 {\n",
       "            background-color:  #023858;\n",
       "            color:  #f1f1f1;\n",
       "        }    #T_86f926d8_0a41_11eb_8c21_0050b6bf42a3row3_col5 {\n",
       "            background-color:  #fff7fb;\n",
       "            color:  #000000;\n",
       "        }    #T_86f926d8_0a41_11eb_8c21_0050b6bf42a3row3_col6 {\n",
       "            background-color:  #e6e2ef;\n",
       "            color:  #000000;\n",
       "        }    #T_86f926d8_0a41_11eb_8c21_0050b6bf42a3row3_col7 {\n",
       "            background-color:  #fbf4f9;\n",
       "            color:  #000000;\n",
       "        }    #T_86f926d8_0a41_11eb_8c21_0050b6bf42a3row3_col8 {\n",
       "            background-color:  #fff7fb;\n",
       "            color:  #000000;\n",
       "        }    #T_86f926d8_0a41_11eb_8c21_0050b6bf42a3row3_col9 {\n",
       "            background-color:  #fff7fb;\n",
       "            color:  #000000;\n",
       "        }    #T_86f926d8_0a41_11eb_8c21_0050b6bf42a3row3_col10 {\n",
       "            background-color:  #fff7fb;\n",
       "            color:  #000000;\n",
       "        }    #T_86f926d8_0a41_11eb_8c21_0050b6bf42a3row3_col11 {\n",
       "            background-color:  #f7f0f7;\n",
       "            color:  #000000;\n",
       "        }    #T_86f926d8_0a41_11eb_8c21_0050b6bf42a3row3_col12 {\n",
       "            background-color:  #e6e2ef;\n",
       "            color:  #000000;\n",
       "        }    #T_86f926d8_0a41_11eb_8c21_0050b6bf42a3row3_col13 {\n",
       "            background-color:  #fff7fb;\n",
       "            color:  #000000;\n",
       "        }    #T_86f926d8_0a41_11eb_8c21_0050b6bf42a3row3_col14 {\n",
       "            background-color:  #fff7fb;\n",
       "            color:  #000000;\n",
       "        }    #T_86f926d8_0a41_11eb_8c21_0050b6bf42a3row3_col15 {\n",
       "            background-color:  #fff7fb;\n",
       "            color:  #000000;\n",
       "        }    #T_86f926d8_0a41_11eb_8c21_0050b6bf42a3row3_col16 {\n",
       "            background-color:  #fff7fb;\n",
       "            color:  #000000;\n",
       "        }    #T_86f926d8_0a41_11eb_8c21_0050b6bf42a3row3_col17 {\n",
       "            background-color:  #fff7fb;\n",
       "            color:  #000000;\n",
       "        }    #T_86f926d8_0a41_11eb_8c21_0050b6bf42a3row3_col18 {\n",
       "            background-color:  #fff7fb;\n",
       "            color:  #000000;\n",
       "        }    #T_86f926d8_0a41_11eb_8c21_0050b6bf42a3row3_col19 {\n",
       "            background-color:  #fdf5fa;\n",
       "            color:  #000000;\n",
       "        }    #T_86f926d8_0a41_11eb_8c21_0050b6bf42a3row3_col20 {\n",
       "            background-color:  #3790c0;\n",
       "            color:  #000000;\n",
       "        }    #T_86f926d8_0a41_11eb_8c21_0050b6bf42a3row3_col21 {\n",
       "            background-color:  #0567a2;\n",
       "            color:  #f1f1f1;\n",
       "        }    #T_86f926d8_0a41_11eb_8c21_0050b6bf42a3row3_col22 {\n",
       "            background-color:  #023858;\n",
       "            color:  #f1f1f1;\n",
       "        }    #T_86f926d8_0a41_11eb_8c21_0050b6bf42a3row3_col23 {\n",
       "            background-color:  #fdf5fa;\n",
       "            color:  #000000;\n",
       "        }    #T_86f926d8_0a41_11eb_8c21_0050b6bf42a3row3_col24 {\n",
       "            background-color:  #fef6fb;\n",
       "            color:  #000000;\n",
       "        }    #T_86f926d8_0a41_11eb_8c21_0050b6bf42a3row3_col25 {\n",
       "            background-color:  #fbf3f9;\n",
       "            color:  #000000;\n",
       "        }    #T_86f926d8_0a41_11eb_8c21_0050b6bf42a3row3_col26 {\n",
       "            background-color:  #fcf4fa;\n",
       "            color:  #000000;\n",
       "        }    #T_86f926d8_0a41_11eb_8c21_0050b6bf42a3row3_col27 {\n",
       "            background-color:  #ede7f2;\n",
       "            color:  #000000;\n",
       "        }    #T_86f926d8_0a41_11eb_8c21_0050b6bf42a3row4_col0 {\n",
       "            background-color:  #fff7fb;\n",
       "            color:  #000000;\n",
       "        }    #T_86f926d8_0a41_11eb_8c21_0050b6bf42a3row4_col1 {\n",
       "            background-color:  #3790c0;\n",
       "            color:  #000000;\n",
       "        }    #T_86f926d8_0a41_11eb_8c21_0050b6bf42a3row4_col2 {\n",
       "            background-color:  #fff7fb;\n",
       "            color:  #000000;\n",
       "        }    #T_86f926d8_0a41_11eb_8c21_0050b6bf42a3row4_col3 {\n",
       "            background-color:  #fff7fb;\n",
       "            color:  #000000;\n",
       "        }    #T_86f926d8_0a41_11eb_8c21_0050b6bf42a3row4_col4 {\n",
       "            background-color:  #fff7fb;\n",
       "            color:  #000000;\n",
       "        }    #T_86f926d8_0a41_11eb_8c21_0050b6bf42a3row4_col5 {\n",
       "            background-color:  #fff7fb;\n",
       "            color:  #000000;\n",
       "        }    #T_86f926d8_0a41_11eb_8c21_0050b6bf42a3row4_col6 {\n",
       "            background-color:  #fcf4fa;\n",
       "            color:  #000000;\n",
       "        }    #T_86f926d8_0a41_11eb_8c21_0050b6bf42a3row4_col7 {\n",
       "            background-color:  #fff7fb;\n",
       "            color:  #000000;\n",
       "        }    #T_86f926d8_0a41_11eb_8c21_0050b6bf42a3row4_col8 {\n",
       "            background-color:  #fff7fb;\n",
       "            color:  #000000;\n",
       "        }    #T_86f926d8_0a41_11eb_8c21_0050b6bf42a3row4_col9 {\n",
       "            background-color:  #fff7fb;\n",
       "            color:  #000000;\n",
       "        }    #T_86f926d8_0a41_11eb_8c21_0050b6bf42a3row4_col10 {\n",
       "            background-color:  #fff7fb;\n",
       "            color:  #000000;\n",
       "        }    #T_86f926d8_0a41_11eb_8c21_0050b6bf42a3row4_col11 {\n",
       "            background-color:  #fff7fb;\n",
       "            color:  #000000;\n",
       "        }    #T_86f926d8_0a41_11eb_8c21_0050b6bf42a3row4_col12 {\n",
       "            background-color:  #fcf4fa;\n",
       "            color:  #000000;\n",
       "        }    #T_86f926d8_0a41_11eb_8c21_0050b6bf42a3row4_col13 {\n",
       "            background-color:  #fff7fb;\n",
       "            color:  #000000;\n",
       "        }    #T_86f926d8_0a41_11eb_8c21_0050b6bf42a3row4_col14 {\n",
       "            background-color:  #fff7fb;\n",
       "            color:  #000000;\n",
       "        }    #T_86f926d8_0a41_11eb_8c21_0050b6bf42a3row4_col15 {\n",
       "            background-color:  #fff7fb;\n",
       "            color:  #000000;\n",
       "        }    #T_86f926d8_0a41_11eb_8c21_0050b6bf42a3row4_col16 {\n",
       "            background-color:  #fff7fb;\n",
       "            color:  #000000;\n",
       "        }    #T_86f926d8_0a41_11eb_8c21_0050b6bf42a3row4_col17 {\n",
       "            background-color:  #fff7fb;\n",
       "            color:  #000000;\n",
       "        }    #T_86f926d8_0a41_11eb_8c21_0050b6bf42a3row4_col18 {\n",
       "            background-color:  #fff7fb;\n",
       "            color:  #000000;\n",
       "        }    #T_86f926d8_0a41_11eb_8c21_0050b6bf42a3row4_col19 {\n",
       "            background-color:  #fff7fb;\n",
       "            color:  #000000;\n",
       "        }    #T_86f926d8_0a41_11eb_8c21_0050b6bf42a3row4_col20 {\n",
       "            background-color:  #3790c0;\n",
       "            color:  #000000;\n",
       "        }    #T_86f926d8_0a41_11eb_8c21_0050b6bf42a3row4_col21 {\n",
       "            background-color:  #c6cce3;\n",
       "            color:  #000000;\n",
       "        }    #T_86f926d8_0a41_11eb_8c21_0050b6bf42a3row4_col22 {\n",
       "            background-color:  #fff7fb;\n",
       "            color:  #000000;\n",
       "        }    #T_86f926d8_0a41_11eb_8c21_0050b6bf42a3row4_col23 {\n",
       "            background-color:  #fff7fb;\n",
       "            color:  #000000;\n",
       "        }    #T_86f926d8_0a41_11eb_8c21_0050b6bf42a3row4_col24 {\n",
       "            background-color:  #fff7fb;\n",
       "            color:  #000000;\n",
       "        }    #T_86f926d8_0a41_11eb_8c21_0050b6bf42a3row4_col25 {\n",
       "            background-color:  #fcf4fa;\n",
       "            color:  #000000;\n",
       "        }    #T_86f926d8_0a41_11eb_8c21_0050b6bf42a3row4_col26 {\n",
       "            background-color:  #d9d8ea;\n",
       "            color:  #000000;\n",
       "        }    #T_86f926d8_0a41_11eb_8c21_0050b6bf42a3row4_col27 {\n",
       "            background-color:  #fff7fb;\n",
       "            color:  #000000;\n",
       "        }    #T_86f926d8_0a41_11eb_8c21_0050b6bf42a3row5_col0 {\n",
       "            background-color:  #023858;\n",
       "            color:  #f1f1f1;\n",
       "        }    #T_86f926d8_0a41_11eb_8c21_0050b6bf42a3row5_col1 {\n",
       "            background-color:  #3790c0;\n",
       "            color:  #000000;\n",
       "        }    #T_86f926d8_0a41_11eb_8c21_0050b6bf42a3row5_col2 {\n",
       "            background-color:  #023858;\n",
       "            color:  #f1f1f1;\n",
       "        }    #T_86f926d8_0a41_11eb_8c21_0050b6bf42a3row5_col3 {\n",
       "            background-color:  #023858;\n",
       "            color:  #f1f1f1;\n",
       "        }    #T_86f926d8_0a41_11eb_8c21_0050b6bf42a3row5_col4 {\n",
       "            background-color:  #023858;\n",
       "            color:  #f1f1f1;\n",
       "        }    #T_86f926d8_0a41_11eb_8c21_0050b6bf42a3row5_col5 {\n",
       "            background-color:  #023858;\n",
       "            color:  #f1f1f1;\n",
       "        }    #T_86f926d8_0a41_11eb_8c21_0050b6bf42a3row5_col6 {\n",
       "            background-color:  #023858;\n",
       "            color:  #f1f1f1;\n",
       "        }    #T_86f926d8_0a41_11eb_8c21_0050b6bf42a3row5_col7 {\n",
       "            background-color:  #023858;\n",
       "            color:  #f1f1f1;\n",
       "        }    #T_86f926d8_0a41_11eb_8c21_0050b6bf42a3row5_col8 {\n",
       "            background-color:  #023858;\n",
       "            color:  #f1f1f1;\n",
       "        }    #T_86f926d8_0a41_11eb_8c21_0050b6bf42a3row5_col9 {\n",
       "            background-color:  #023858;\n",
       "            color:  #f1f1f1;\n",
       "        }    #T_86f926d8_0a41_11eb_8c21_0050b6bf42a3row5_col10 {\n",
       "            background-color:  #023858;\n",
       "            color:  #f1f1f1;\n",
       "        }    #T_86f926d8_0a41_11eb_8c21_0050b6bf42a3row5_col11 {\n",
       "            background-color:  #023858;\n",
       "            color:  #f1f1f1;\n",
       "        }    #T_86f926d8_0a41_11eb_8c21_0050b6bf42a3row5_col12 {\n",
       "            background-color:  #023858;\n",
       "            color:  #f1f1f1;\n",
       "        }    #T_86f926d8_0a41_11eb_8c21_0050b6bf42a3row5_col13 {\n",
       "            background-color:  #023858;\n",
       "            color:  #f1f1f1;\n",
       "        }    #T_86f926d8_0a41_11eb_8c21_0050b6bf42a3row5_col14 {\n",
       "            background-color:  #023858;\n",
       "            color:  #f1f1f1;\n",
       "        }    #T_86f926d8_0a41_11eb_8c21_0050b6bf42a3row5_col15 {\n",
       "            background-color:  #023858;\n",
       "            color:  #f1f1f1;\n",
       "        }    #T_86f926d8_0a41_11eb_8c21_0050b6bf42a3row5_col16 {\n",
       "            background-color:  #023858;\n",
       "            color:  #f1f1f1;\n",
       "        }    #T_86f926d8_0a41_11eb_8c21_0050b6bf42a3row5_col17 {\n",
       "            background-color:  #023858;\n",
       "            color:  #f1f1f1;\n",
       "        }    #T_86f926d8_0a41_11eb_8c21_0050b6bf42a3row5_col18 {\n",
       "            background-color:  #023858;\n",
       "            color:  #f1f1f1;\n",
       "        }    #T_86f926d8_0a41_11eb_8c21_0050b6bf42a3row5_col19 {\n",
       "            background-color:  #023858;\n",
       "            color:  #f1f1f1;\n",
       "        }    #T_86f926d8_0a41_11eb_8c21_0050b6bf42a3row5_col20 {\n",
       "            background-color:  #3790c0;\n",
       "            color:  #000000;\n",
       "        }    #T_86f926d8_0a41_11eb_8c21_0050b6bf42a3row5_col21 {\n",
       "            background-color:  #056dac;\n",
       "            color:  #f1f1f1;\n",
       "        }    #T_86f926d8_0a41_11eb_8c21_0050b6bf42a3row5_col22 {\n",
       "            background-color:  #023858;\n",
       "            color:  #f1f1f1;\n",
       "        }    #T_86f926d8_0a41_11eb_8c21_0050b6bf42a3row5_col23 {\n",
       "            background-color:  #023858;\n",
       "            color:  #f1f1f1;\n",
       "        }    #T_86f926d8_0a41_11eb_8c21_0050b6bf42a3row5_col24 {\n",
       "            background-color:  #023858;\n",
       "            color:  #f1f1f1;\n",
       "        }    #T_86f926d8_0a41_11eb_8c21_0050b6bf42a3row5_col25 {\n",
       "            background-color:  #fbf4f9;\n",
       "            color:  #000000;\n",
       "        }    #T_86f926d8_0a41_11eb_8c21_0050b6bf42a3row5_col26 {\n",
       "            background-color:  #fef6fa;\n",
       "            color:  #000000;\n",
       "        }    #T_86f926d8_0a41_11eb_8c21_0050b6bf42a3row5_col27 {\n",
       "            background-color:  #9ab8d8;\n",
       "            color:  #000000;\n",
       "        }    #T_86f926d8_0a41_11eb_8c21_0050b6bf42a3row6_col0 {\n",
       "            background-color:  #fff7fb;\n",
       "            color:  #000000;\n",
       "        }    #T_86f926d8_0a41_11eb_8c21_0050b6bf42a3row6_col1 {\n",
       "            background-color:  #358fc0;\n",
       "            color:  #000000;\n",
       "        }    #T_86f926d8_0a41_11eb_8c21_0050b6bf42a3row6_col2 {\n",
       "            background-color:  #fff7fb;\n",
       "            color:  #000000;\n",
       "        }    #T_86f926d8_0a41_11eb_8c21_0050b6bf42a3row6_col3 {\n",
       "            background-color:  #fff7fb;\n",
       "            color:  #000000;\n",
       "        }    #T_86f926d8_0a41_11eb_8c21_0050b6bf42a3row6_col4 {\n",
       "            background-color:  #023858;\n",
       "            color:  #f1f1f1;\n",
       "        }    #T_86f926d8_0a41_11eb_8c21_0050b6bf42a3row6_col5 {\n",
       "            background-color:  #fff7fb;\n",
       "            color:  #000000;\n",
       "        }    #T_86f926d8_0a41_11eb_8c21_0050b6bf42a3row6_col6 {\n",
       "            background-color:  #fdf5fa;\n",
       "            color:  #000000;\n",
       "        }    #T_86f926d8_0a41_11eb_8c21_0050b6bf42a3row6_col7 {\n",
       "            background-color:  #fef6fb;\n",
       "            color:  #000000;\n",
       "        }    #T_86f926d8_0a41_11eb_8c21_0050b6bf42a3row6_col8 {\n",
       "            background-color:  #fff7fb;\n",
       "            color:  #000000;\n",
       "        }    #T_86f926d8_0a41_11eb_8c21_0050b6bf42a3row6_col9 {\n",
       "            background-color:  #fff7fb;\n",
       "            color:  #000000;\n",
       "        }    #T_86f926d8_0a41_11eb_8c21_0050b6bf42a3row6_col10 {\n",
       "            background-color:  #fff7fb;\n",
       "            color:  #000000;\n",
       "        }    #T_86f926d8_0a41_11eb_8c21_0050b6bf42a3row6_col11 {\n",
       "            background-color:  #f2ecf5;\n",
       "            color:  #000000;\n",
       "        }    #T_86f926d8_0a41_11eb_8c21_0050b6bf42a3row6_col12 {\n",
       "            background-color:  #faf2f8;\n",
       "            color:  #000000;\n",
       "        }    #T_86f926d8_0a41_11eb_8c21_0050b6bf42a3row6_col13 {\n",
       "            background-color:  #fff7fb;\n",
       "            color:  #000000;\n",
       "        }    #T_86f926d8_0a41_11eb_8c21_0050b6bf42a3row6_col14 {\n",
       "            background-color:  #fff7fb;\n",
       "            color:  #000000;\n",
       "        }    #T_86f926d8_0a41_11eb_8c21_0050b6bf42a3row6_col15 {\n",
       "            background-color:  #fff7fb;\n",
       "            color:  #000000;\n",
       "        }    #T_86f926d8_0a41_11eb_8c21_0050b6bf42a3row6_col16 {\n",
       "            background-color:  #fff7fb;\n",
       "            color:  #000000;\n",
       "        }    #T_86f926d8_0a41_11eb_8c21_0050b6bf42a3row6_col17 {\n",
       "            background-color:  #fff7fb;\n",
       "            color:  #000000;\n",
       "        }    #T_86f926d8_0a41_11eb_8c21_0050b6bf42a3row6_col18 {\n",
       "            background-color:  #fff7fb;\n",
       "            color:  #000000;\n",
       "        }    #T_86f926d8_0a41_11eb_8c21_0050b6bf42a3row6_col19 {\n",
       "            background-color:  #fef6fb;\n",
       "            color:  #000000;\n",
       "        }    #T_86f926d8_0a41_11eb_8c21_0050b6bf42a3row6_col20 {\n",
       "            background-color:  #358fc0;\n",
       "            color:  #000000;\n",
       "        }    #T_86f926d8_0a41_11eb_8c21_0050b6bf42a3row6_col21 {\n",
       "            background-color:  #1b7eb7;\n",
       "            color:  #000000;\n",
       "        }    #T_86f926d8_0a41_11eb_8c21_0050b6bf42a3row6_col22 {\n",
       "            background-color:  #023858;\n",
       "            color:  #f1f1f1;\n",
       "        }    #T_86f926d8_0a41_11eb_8c21_0050b6bf42a3row6_col23 {\n",
       "            background-color:  #fef6fb;\n",
       "            color:  #000000;\n",
       "        }    #T_86f926d8_0a41_11eb_8c21_0050b6bf42a3row6_col24 {\n",
       "            background-color:  #fff7fb;\n",
       "            color:  #000000;\n",
       "        }    #T_86f926d8_0a41_11eb_8c21_0050b6bf42a3row6_col25 {\n",
       "            background-color:  #023858;\n",
       "            color:  #f1f1f1;\n",
       "        }    #T_86f926d8_0a41_11eb_8c21_0050b6bf42a3row6_col26 {\n",
       "            background-color:  #f8f1f8;\n",
       "            color:  #000000;\n",
       "        }    #T_86f926d8_0a41_11eb_8c21_0050b6bf42a3row6_col27 {\n",
       "            background-color:  #f2ecf5;\n",
       "            color:  #000000;\n",
       "        }    #T_86f926d8_0a41_11eb_8c21_0050b6bf42a3row7_col0 {\n",
       "            background-color:  #fff7fb;\n",
       "            color:  #000000;\n",
       "        }    #T_86f926d8_0a41_11eb_8c21_0050b6bf42a3row7_col1 {\n",
       "            background-color:  #fff7fb;\n",
       "            color:  #000000;\n",
       "        }    #T_86f926d8_0a41_11eb_8c21_0050b6bf42a3row7_col2 {\n",
       "            background-color:  #fff7fb;\n",
       "            color:  #000000;\n",
       "        }    #T_86f926d8_0a41_11eb_8c21_0050b6bf42a3row7_col3 {\n",
       "            background-color:  #fff7fb;\n",
       "            color:  #000000;\n",
       "        }    #T_86f926d8_0a41_11eb_8c21_0050b6bf42a3row7_col4 {\n",
       "            background-color:  #023858;\n",
       "            color:  #f1f1f1;\n",
       "        }    #T_86f926d8_0a41_11eb_8c21_0050b6bf42a3row7_col5 {\n",
       "            background-color:  #fff7fb;\n",
       "            color:  #000000;\n",
       "        }    #T_86f926d8_0a41_11eb_8c21_0050b6bf42a3row7_col6 {\n",
       "            background-color:  #e7e3f0;\n",
       "            color:  #000000;\n",
       "        }    #T_86f926d8_0a41_11eb_8c21_0050b6bf42a3row7_col7 {\n",
       "            background-color:  #fcf4fa;\n",
       "            color:  #000000;\n",
       "        }    #T_86f926d8_0a41_11eb_8c21_0050b6bf42a3row7_col8 {\n",
       "            background-color:  #fff7fb;\n",
       "            color:  #000000;\n",
       "        }    #T_86f926d8_0a41_11eb_8c21_0050b6bf42a3row7_col9 {\n",
       "            background-color:  #fff7fb;\n",
       "            color:  #000000;\n",
       "        }    #T_86f926d8_0a41_11eb_8c21_0050b6bf42a3row7_col10 {\n",
       "            background-color:  #fff7fb;\n",
       "            color:  #000000;\n",
       "        }    #T_86f926d8_0a41_11eb_8c21_0050b6bf42a3row7_col11 {\n",
       "            background-color:  #f6eff7;\n",
       "            color:  #000000;\n",
       "        }    #T_86f926d8_0a41_11eb_8c21_0050b6bf42a3row7_col12 {\n",
       "            background-color:  #e7e3f0;\n",
       "            color:  #000000;\n",
       "        }    #T_86f926d8_0a41_11eb_8c21_0050b6bf42a3row7_col13 {\n",
       "            background-color:  #fff7fb;\n",
       "            color:  #000000;\n",
       "        }    #T_86f926d8_0a41_11eb_8c21_0050b6bf42a3row7_col14 {\n",
       "            background-color:  #fff7fb;\n",
       "            color:  #000000;\n",
       "        }    #T_86f926d8_0a41_11eb_8c21_0050b6bf42a3row7_col15 {\n",
       "            background-color:  #fff7fb;\n",
       "            color:  #000000;\n",
       "        }    #T_86f926d8_0a41_11eb_8c21_0050b6bf42a3row7_col16 {\n",
       "            background-color:  #fff7fb;\n",
       "            color:  #000000;\n",
       "        }    #T_86f926d8_0a41_11eb_8c21_0050b6bf42a3row7_col17 {\n",
       "            background-color:  #fff7fb;\n",
       "            color:  #000000;\n",
       "        }    #T_86f926d8_0a41_11eb_8c21_0050b6bf42a3row7_col18 {\n",
       "            background-color:  #fff7fb;\n",
       "            color:  #000000;\n",
       "        }    #T_86f926d8_0a41_11eb_8c21_0050b6bf42a3row7_col19 {\n",
       "            background-color:  #fef6fb;\n",
       "            color:  #000000;\n",
       "        }    #T_86f926d8_0a41_11eb_8c21_0050b6bf42a3row7_col20 {\n",
       "            background-color:  #fff7fb;\n",
       "            color:  #000000;\n",
       "        }    #T_86f926d8_0a41_11eb_8c21_0050b6bf42a3row7_col21 {\n",
       "            background-color:  #0567a2;\n",
       "            color:  #f1f1f1;\n",
       "        }    #T_86f926d8_0a41_11eb_8c21_0050b6bf42a3row7_col22 {\n",
       "            background-color:  #023858;\n",
       "            color:  #f1f1f1;\n",
       "        }    #T_86f926d8_0a41_11eb_8c21_0050b6bf42a3row7_col23 {\n",
       "            background-color:  #fcf4fa;\n",
       "            color:  #000000;\n",
       "        }    #T_86f926d8_0a41_11eb_8c21_0050b6bf42a3row7_col24 {\n",
       "            background-color:  #fef6fb;\n",
       "            color:  #000000;\n",
       "        }    #T_86f926d8_0a41_11eb_8c21_0050b6bf42a3row7_col25 {\n",
       "            background-color:  #fbf4f9;\n",
       "            color:  #000000;\n",
       "        }    #T_86f926d8_0a41_11eb_8c21_0050b6bf42a3row7_col26 {\n",
       "            background-color:  #fef6fa;\n",
       "            color:  #000000;\n",
       "        }    #T_86f926d8_0a41_11eb_8c21_0050b6bf42a3row7_col27 {\n",
       "            background-color:  #045788;\n",
       "            color:  #f1f1f1;\n",
       "        }    #T_86f926d8_0a41_11eb_8c21_0050b6bf42a3row8_col0 {\n",
       "            background-color:  #fff7fb;\n",
       "            color:  #000000;\n",
       "        }    #T_86f926d8_0a41_11eb_8c21_0050b6bf42a3row8_col1 {\n",
       "            background-color:  #358fc0;\n",
       "            color:  #000000;\n",
       "        }    #T_86f926d8_0a41_11eb_8c21_0050b6bf42a3row8_col2 {\n",
       "            background-color:  #fff7fb;\n",
       "            color:  #000000;\n",
       "        }    #T_86f926d8_0a41_11eb_8c21_0050b6bf42a3row8_col3 {\n",
       "            background-color:  #fff7fb;\n",
       "            color:  #000000;\n",
       "        }    #T_86f926d8_0a41_11eb_8c21_0050b6bf42a3row8_col4 {\n",
       "            background-color:  #023858;\n",
       "            color:  #f1f1f1;\n",
       "        }    #T_86f926d8_0a41_11eb_8c21_0050b6bf42a3row8_col5 {\n",
       "            background-color:  #fff7fb;\n",
       "            color:  #000000;\n",
       "        }    #T_86f926d8_0a41_11eb_8c21_0050b6bf42a3row8_col6 {\n",
       "            background-color:  #e8e4f0;\n",
       "            color:  #000000;\n",
       "        }    #T_86f926d8_0a41_11eb_8c21_0050b6bf42a3row8_col7 {\n",
       "            background-color:  #fbf4f9;\n",
       "            color:  #000000;\n",
       "        }    #T_86f926d8_0a41_11eb_8c21_0050b6bf42a3row8_col8 {\n",
       "            background-color:  #fff7fb;\n",
       "            color:  #000000;\n",
       "        }    #T_86f926d8_0a41_11eb_8c21_0050b6bf42a3row8_col9 {\n",
       "            background-color:  #fff7fb;\n",
       "            color:  #000000;\n",
       "        }    #T_86f926d8_0a41_11eb_8c21_0050b6bf42a3row8_col10 {\n",
       "            background-color:  #fff7fb;\n",
       "            color:  #000000;\n",
       "        }    #T_86f926d8_0a41_11eb_8c21_0050b6bf42a3row8_col11 {\n",
       "            background-color:  #f7f0f7;\n",
       "            color:  #000000;\n",
       "        }    #T_86f926d8_0a41_11eb_8c21_0050b6bf42a3row8_col12 {\n",
       "            background-color:  #e8e4f0;\n",
       "            color:  #000000;\n",
       "        }    #T_86f926d8_0a41_11eb_8c21_0050b6bf42a3row8_col13 {\n",
       "            background-color:  #fff7fb;\n",
       "            color:  #000000;\n",
       "        }    #T_86f926d8_0a41_11eb_8c21_0050b6bf42a3row8_col14 {\n",
       "            background-color:  #fff7fb;\n",
       "            color:  #000000;\n",
       "        }    #T_86f926d8_0a41_11eb_8c21_0050b6bf42a3row8_col15 {\n",
       "            background-color:  #fff7fb;\n",
       "            color:  #000000;\n",
       "        }    #T_86f926d8_0a41_11eb_8c21_0050b6bf42a3row8_col16 {\n",
       "            background-color:  #fff7fb;\n",
       "            color:  #000000;\n",
       "        }    #T_86f926d8_0a41_11eb_8c21_0050b6bf42a3row8_col17 {\n",
       "            background-color:  #fff7fb;\n",
       "            color:  #000000;\n",
       "        }    #T_86f926d8_0a41_11eb_8c21_0050b6bf42a3row8_col18 {\n",
       "            background-color:  #fff7fb;\n",
       "            color:  #000000;\n",
       "        }    #T_86f926d8_0a41_11eb_8c21_0050b6bf42a3row8_col19 {\n",
       "            background-color:  #fdf5fa;\n",
       "            color:  #000000;\n",
       "        }    #T_86f926d8_0a41_11eb_8c21_0050b6bf42a3row8_col20 {\n",
       "            background-color:  #358fc0;\n",
       "            color:  #000000;\n",
       "        }    #T_86f926d8_0a41_11eb_8c21_0050b6bf42a3row8_col21 {\n",
       "            background-color:  #056ead;\n",
       "            color:  #f1f1f1;\n",
       "        }    #T_86f926d8_0a41_11eb_8c21_0050b6bf42a3row8_col22 {\n",
       "            background-color:  #023858;\n",
       "            color:  #f1f1f1;\n",
       "        }    #T_86f926d8_0a41_11eb_8c21_0050b6bf42a3row8_col23 {\n",
       "            background-color:  #fdf5fa;\n",
       "            color:  #000000;\n",
       "        }    #T_86f926d8_0a41_11eb_8c21_0050b6bf42a3row8_col24 {\n",
       "            background-color:  #fef6fb;\n",
       "            color:  #000000;\n",
       "        }    #T_86f926d8_0a41_11eb_8c21_0050b6bf42a3row8_col25 {\n",
       "            background-color:  #fbf3f9;\n",
       "            color:  #000000;\n",
       "        }    #T_86f926d8_0a41_11eb_8c21_0050b6bf42a3row8_col26 {\n",
       "            background-color:  #fef6fb;\n",
       "            color:  #000000;\n",
       "        }    #T_86f926d8_0a41_11eb_8c21_0050b6bf42a3row8_col27 {\n",
       "            background-color:  #7dacd1;\n",
       "            color:  #000000;\n",
       "        }    #T_86f926d8_0a41_11eb_8c21_0050b6bf42a3row9_col0 {\n",
       "            background-color:  #fff7fb;\n",
       "            color:  #000000;\n",
       "        }    #T_86f926d8_0a41_11eb_8c21_0050b6bf42a3row9_col1 {\n",
       "            background-color:  #023858;\n",
       "            color:  #f1f1f1;\n",
       "        }    #T_86f926d8_0a41_11eb_8c21_0050b6bf42a3row9_col2 {\n",
       "            background-color:  #fff7fb;\n",
       "            color:  #000000;\n",
       "        }    #T_86f926d8_0a41_11eb_8c21_0050b6bf42a3row9_col3 {\n",
       "            background-color:  #fff7fb;\n",
       "            color:  #000000;\n",
       "        }    #T_86f926d8_0a41_11eb_8c21_0050b6bf42a3row9_col4 {\n",
       "            background-color:  #023858;\n",
       "            color:  #f1f1f1;\n",
       "        }    #T_86f926d8_0a41_11eb_8c21_0050b6bf42a3row9_col5 {\n",
       "            background-color:  #fff7fb;\n",
       "            color:  #000000;\n",
       "        }    #T_86f926d8_0a41_11eb_8c21_0050b6bf42a3row9_col6 {\n",
       "            background-color:  #e2dfee;\n",
       "            color:  #000000;\n",
       "        }    #T_86f926d8_0a41_11eb_8c21_0050b6bf42a3row9_col7 {\n",
       "            background-color:  #fbf4f9;\n",
       "            color:  #000000;\n",
       "        }    #T_86f926d8_0a41_11eb_8c21_0050b6bf42a3row9_col8 {\n",
       "            background-color:  #fff7fb;\n",
       "            color:  #000000;\n",
       "        }    #T_86f926d8_0a41_11eb_8c21_0050b6bf42a3row9_col9 {\n",
       "            background-color:  #fff7fb;\n",
       "            color:  #000000;\n",
       "        }    #T_86f926d8_0a41_11eb_8c21_0050b6bf42a3row9_col10 {\n",
       "            background-color:  #fff7fb;\n",
       "            color:  #000000;\n",
       "        }    #T_86f926d8_0a41_11eb_8c21_0050b6bf42a3row9_col11 {\n",
       "            background-color:  #faf3f9;\n",
       "            color:  #000000;\n",
       "        }    #T_86f926d8_0a41_11eb_8c21_0050b6bf42a3row9_col12 {\n",
       "            background-color:  #e2dfee;\n",
       "            color:  #000000;\n",
       "        }    #T_86f926d8_0a41_11eb_8c21_0050b6bf42a3row9_col13 {\n",
       "            background-color:  #fff7fb;\n",
       "            color:  #000000;\n",
       "        }    #T_86f926d8_0a41_11eb_8c21_0050b6bf42a3row9_col14 {\n",
       "            background-color:  #fff7fb;\n",
       "            color:  #000000;\n",
       "        }    #T_86f926d8_0a41_11eb_8c21_0050b6bf42a3row9_col15 {\n",
       "            background-color:  #fff7fb;\n",
       "            color:  #000000;\n",
       "        }    #T_86f926d8_0a41_11eb_8c21_0050b6bf42a3row9_col16 {\n",
       "            background-color:  #fff7fb;\n",
       "            color:  #000000;\n",
       "        }    #T_86f926d8_0a41_11eb_8c21_0050b6bf42a3row9_col17 {\n",
       "            background-color:  #fff7fb;\n",
       "            color:  #000000;\n",
       "        }    #T_86f926d8_0a41_11eb_8c21_0050b6bf42a3row9_col18 {\n",
       "            background-color:  #fff7fb;\n",
       "            color:  #000000;\n",
       "        }    #T_86f926d8_0a41_11eb_8c21_0050b6bf42a3row9_col19 {\n",
       "            background-color:  #fdf5fa;\n",
       "            color:  #000000;\n",
       "        }    #T_86f926d8_0a41_11eb_8c21_0050b6bf42a3row9_col20 {\n",
       "            background-color:  #023858;\n",
       "            color:  #f1f1f1;\n",
       "        }    #T_86f926d8_0a41_11eb_8c21_0050b6bf42a3row9_col21 {\n",
       "            background-color:  #045f95;\n",
       "            color:  #f1f1f1;\n",
       "        }    #T_86f926d8_0a41_11eb_8c21_0050b6bf42a3row9_col22 {\n",
       "            background-color:  #023858;\n",
       "            color:  #f1f1f1;\n",
       "        }    #T_86f926d8_0a41_11eb_8c21_0050b6bf42a3row9_col23 {\n",
       "            background-color:  #fdf5fa;\n",
       "            color:  #000000;\n",
       "        }    #T_86f926d8_0a41_11eb_8c21_0050b6bf42a3row9_col24 {\n",
       "            background-color:  #fef6fb;\n",
       "            color:  #000000;\n",
       "        }    #T_86f926d8_0a41_11eb_8c21_0050b6bf42a3row9_col25 {\n",
       "            background-color:  #fbf3f9;\n",
       "            color:  #000000;\n",
       "        }    #T_86f926d8_0a41_11eb_8c21_0050b6bf42a3row9_col26 {\n",
       "            background-color:  #fff7fb;\n",
       "            color:  #000000;\n",
       "        }    #T_86f926d8_0a41_11eb_8c21_0050b6bf42a3row9_col27 {\n",
       "            background-color:  #2c89bd;\n",
       "            color:  #000000;\n",
       "        }    #T_86f926d8_0a41_11eb_8c21_0050b6bf42a3row10_col0 {\n",
       "            background-color:  #fff7fb;\n",
       "            color:  #000000;\n",
       "        }    #T_86f926d8_0a41_11eb_8c21_0050b6bf42a3row10_col1 {\n",
       "            background-color:  #3790c0;\n",
       "            color:  #000000;\n",
       "        }    #T_86f926d8_0a41_11eb_8c21_0050b6bf42a3row10_col2 {\n",
       "            background-color:  #fff7fb;\n",
       "            color:  #000000;\n",
       "        }    #T_86f926d8_0a41_11eb_8c21_0050b6bf42a3row10_col3 {\n",
       "            background-color:  #fff7fb;\n",
       "            color:  #000000;\n",
       "        }    #T_86f926d8_0a41_11eb_8c21_0050b6bf42a3row10_col4 {\n",
       "            background-color:  #023858;\n",
       "            color:  #f1f1f1;\n",
       "        }    #T_86f926d8_0a41_11eb_8c21_0050b6bf42a3row10_col5 {\n",
       "            background-color:  #fff7fb;\n",
       "            color:  #000000;\n",
       "        }    #T_86f926d8_0a41_11eb_8c21_0050b6bf42a3row10_col6 {\n",
       "            background-color:  #fff7fb;\n",
       "            color:  #000000;\n",
       "        }    #T_86f926d8_0a41_11eb_8c21_0050b6bf42a3row10_col7 {\n",
       "            background-color:  #fff7fb;\n",
       "            color:  #000000;\n",
       "        }    #T_86f926d8_0a41_11eb_8c21_0050b6bf42a3row10_col8 {\n",
       "            background-color:  #fff7fb;\n",
       "            color:  #000000;\n",
       "        }    #T_86f926d8_0a41_11eb_8c21_0050b6bf42a3row10_col9 {\n",
       "            background-color:  #fff7fb;\n",
       "            color:  #000000;\n",
       "        }    #T_86f926d8_0a41_11eb_8c21_0050b6bf42a3row10_col10 {\n",
       "            background-color:  #fff7fb;\n",
       "            color:  #000000;\n",
       "        }    #T_86f926d8_0a41_11eb_8c21_0050b6bf42a3row10_col11 {\n",
       "            background-color:  #faf3f9;\n",
       "            color:  #000000;\n",
       "        }    #T_86f926d8_0a41_11eb_8c21_0050b6bf42a3row10_col12 {\n",
       "            background-color:  #fff7fb;\n",
       "            color:  #000000;\n",
       "        }    #T_86f926d8_0a41_11eb_8c21_0050b6bf42a3row10_col13 {\n",
       "            background-color:  #fff7fb;\n",
       "            color:  #000000;\n",
       "        }    #T_86f926d8_0a41_11eb_8c21_0050b6bf42a3row10_col14 {\n",
       "            background-color:  #fff7fb;\n",
       "            color:  #000000;\n",
       "        }    #T_86f926d8_0a41_11eb_8c21_0050b6bf42a3row10_col15 {\n",
       "            background-color:  #fff7fb;\n",
       "            color:  #000000;\n",
       "        }    #T_86f926d8_0a41_11eb_8c21_0050b6bf42a3row10_col16 {\n",
       "            background-color:  #fff7fb;\n",
       "            color:  #000000;\n",
       "        }    #T_86f926d8_0a41_11eb_8c21_0050b6bf42a3row10_col17 {\n",
       "            background-color:  #fff7fb;\n",
       "            color:  #000000;\n",
       "        }    #T_86f926d8_0a41_11eb_8c21_0050b6bf42a3row10_col18 {\n",
       "            background-color:  #fff7fb;\n",
       "            color:  #000000;\n",
       "        }    #T_86f926d8_0a41_11eb_8c21_0050b6bf42a3row10_col19 {\n",
       "            background-color:  #fef6fb;\n",
       "            color:  #000000;\n",
       "        }    #T_86f926d8_0a41_11eb_8c21_0050b6bf42a3row10_col20 {\n",
       "            background-color:  #3790c0;\n",
       "            color:  #000000;\n",
       "        }    #T_86f926d8_0a41_11eb_8c21_0050b6bf42a3row10_col21 {\n",
       "            background-color:  #023858;\n",
       "            color:  #f1f1f1;\n",
       "        }    #T_86f926d8_0a41_11eb_8c21_0050b6bf42a3row10_col22 {\n",
       "            background-color:  #023858;\n",
       "            color:  #f1f1f1;\n",
       "        }    #T_86f926d8_0a41_11eb_8c21_0050b6bf42a3row10_col23 {\n",
       "            background-color:  #fef6fb;\n",
       "            color:  #000000;\n",
       "        }    #T_86f926d8_0a41_11eb_8c21_0050b6bf42a3row10_col24 {\n",
       "            background-color:  #fff7fb;\n",
       "            color:  #000000;\n",
       "        }    #T_86f926d8_0a41_11eb_8c21_0050b6bf42a3row10_col25 {\n",
       "            background-color:  #fcf4fa;\n",
       "            color:  #000000;\n",
       "        }    #T_86f926d8_0a41_11eb_8c21_0050b6bf42a3row10_col26 {\n",
       "            background-color:  #023858;\n",
       "            color:  #f1f1f1;\n",
       "        }    #T_86f926d8_0a41_11eb_8c21_0050b6bf42a3row10_col27 {\n",
       "            background-color:  #4697c4;\n",
       "            color:  #000000;\n",
       "        }</style><table id=\"T_86f926d8_0a41_11eb_8c21_0050b6bf42a3\" ><thead>    <tr>        <th class=\"blank level0\" ></th>        <th class=\"col_heading level0 col0\" >revenue</th>        <th class=\"col_heading level0 col1\" >pb</th>        <th class=\"col_heading level0 col2\" >debt</th>        <th class=\"col_heading level0 col3\" >assets</th>        <th class=\"col_heading level0 col4\" >netmargin</th>        <th class=\"col_heading level0 col5\" >ncfo</th>        <th class=\"col_heading level0 col6\" >shareswa</th>        <th class=\"col_heading level0 col7\" >sps</th>        <th class=\"col_heading level0 col8\" >opinc</th>        <th class=\"col_heading level0 col9\" >assetsc</th>        <th class=\"col_heading level0 col10\" >liabilitiesc</th>        <th class=\"col_heading level0 col11\" >price</th>        <th class=\"col_heading level0 col12\" >sharesbas</th>        <th class=\"col_heading level0 col13\" >equity</th>        <th class=\"col_heading level0 col14\" >receivables</th>        <th class=\"col_heading level0 col15\" >investmentsc</th>        <th class=\"col_heading level0 col16\" >cashneq</th>        <th class=\"col_heading level0 col17\" >assetsavg</th>        <th class=\"col_heading level0 col18\" >netinccmn</th>        <th class=\"col_heading level0 col19\" >fcfps</th>        <th class=\"col_heading level0 col20\" >PX_TO_BOOK_RATIO</th>        <th class=\"col_heading level0 col21\" >RETURN_ON_ASSET</th>        <th class=\"col_heading level0 col22\" >OPER_MARGIN</th>        <th class=\"col_heading level0 col23\" >CASH_FLOW_PER_SHARE</th>        <th class=\"col_heading level0 col24\" >REVENUE_PER_SHARE</th>        <th class=\"col_heading level0 col25\" >PX_FREE_CASH_FLOW</th>        <th class=\"col_heading level0 col26\" >quick_ratio</th>        <th class=\"col_heading level0 col27\" >TOT_DEBT_TO_TOTAL_ASSET</th>    </tr>    <tr>        <th class=\"index_name level0\" >label</th>        <th class=\"blank\" ></th>        <th class=\"blank\" ></th>        <th class=\"blank\" ></th>        <th class=\"blank\" ></th>        <th class=\"blank\" ></th>        <th class=\"blank\" ></th>        <th class=\"blank\" ></th>        <th class=\"blank\" ></th>        <th class=\"blank\" ></th>        <th class=\"blank\" ></th>        <th class=\"blank\" ></th>        <th class=\"blank\" ></th>        <th class=\"blank\" ></th>        <th class=\"blank\" ></th>        <th class=\"blank\" ></th>        <th class=\"blank\" ></th>        <th class=\"blank\" ></th>        <th class=\"blank\" ></th>        <th class=\"blank\" ></th>        <th class=\"blank\" ></th>        <th class=\"blank\" ></th>        <th class=\"blank\" ></th>        <th class=\"blank\" ></th>        <th class=\"blank\" ></th>        <th class=\"blank\" ></th>        <th class=\"blank\" ></th>        <th class=\"blank\" ></th>        <th class=\"blank\" ></th>    </tr></thead><tbody>\n",
       "                <tr>\n",
       "                        <th id=\"T_86f926d8_0a41_11eb_8c21_0050b6bf42a3level0_row0\" class=\"row_heading level0 row0\" >0</th>\n",
       "                        <td id=\"T_86f926d8_0a41_11eb_8c21_0050b6bf42a3row0_col0\" class=\"data row0 col0\" >168243290.289062</td>\n",
       "                        <td id=\"T_86f926d8_0a41_11eb_8c21_0050b6bf42a3row0_col1\" class=\"data row0 col1\" >8.268469</td>\n",
       "                        <td id=\"T_86f926d8_0a41_11eb_8c21_0050b6bf42a3row0_col2\" class=\"data row0 col2\" >276931015.695312</td>\n",
       "                        <td id=\"T_86f926d8_0a41_11eb_8c21_0050b6bf42a3row0_col3\" class=\"data row0 col3\" >1375836673.937500</td>\n",
       "                        <td id=\"T_86f926d8_0a41_11eb_8c21_0050b6bf42a3row0_col4\" class=\"data row0 col4\" >-12.812664</td>\n",
       "                        <td id=\"T_86f926d8_0a41_11eb_8c21_0050b6bf42a3row0_col5\" class=\"data row0 col5\" >-37447410.351562</td>\n",
       "                        <td id=\"T_86f926d8_0a41_11eb_8c21_0050b6bf42a3row0_col6\" class=\"data row0 col6\" >127704721.804688</td>\n",
       "                        <td id=\"T_86f926d8_0a41_11eb_8c21_0050b6bf42a3row0_col7\" class=\"data row0 col7\" >1.129648</td>\n",
       "                        <td id=\"T_86f926d8_0a41_11eb_8c21_0050b6bf42a3row0_col8\" class=\"data row0 col8\" >-76241488.171875</td>\n",
       "                        <td id=\"T_86f926d8_0a41_11eb_8c21_0050b6bf42a3row0_col9\" class=\"data row0 col9\" >753129996.375000</td>\n",
       "                        <td id=\"T_86f926d8_0a41_11eb_8c21_0050b6bf42a3row0_col10\" class=\"data row0 col10\" >262541081.804688</td>\n",
       "                        <td id=\"T_86f926d8_0a41_11eb_8c21_0050b6bf42a3row0_col11\" class=\"data row0 col11\" >36.355664</td>\n",
       "                        <td id=\"T_86f926d8_0a41_11eb_8c21_0050b6bf42a3row0_col12\" class=\"data row0 col12\" >138877147.289062</td>\n",
       "                        <td id=\"T_86f926d8_0a41_11eb_8c21_0050b6bf42a3row0_col13\" class=\"data row0 col13\" >727031524.421875</td>\n",
       "                        <td id=\"T_86f926d8_0a41_11eb_8c21_0050b6bf42a3row0_col14\" class=\"data row0 col14\" >94793335.203125</td>\n",
       "                        <td id=\"T_86f926d8_0a41_11eb_8c21_0050b6bf42a3row0_col15\" class=\"data row0 col15\" >224045614.062500</td>\n",
       "                        <td id=\"T_86f926d8_0a41_11eb_8c21_0050b6bf42a3row0_col16\" class=\"data row0 col16\" >345693609.359375</td>\n",
       "                        <td id=\"T_86f926d8_0a41_11eb_8c21_0050b6bf42a3row0_col17\" class=\"data row0 col17\" >1348608262.328125</td>\n",
       "                        <td id=\"T_86f926d8_0a41_11eb_8c21_0050b6bf42a3row0_col18\" class=\"data row0 col18\" >-417072659.734375</td>\n",
       "                        <td id=\"T_86f926d8_0a41_11eb_8c21_0050b6bf42a3row0_col19\" class=\"data row0 col19\" >-1.940750</td>\n",
       "                        <td id=\"T_86f926d8_0a41_11eb_8c21_0050b6bf42a3row0_col20\" class=\"data row0 col20\" >8.268469</td>\n",
       "                        <td id=\"T_86f926d8_0a41_11eb_8c21_0050b6bf42a3row0_col21\" class=\"data row0 col21\" >-0.336152</td>\n",
       "                        <td id=\"T_86f926d8_0a41_11eb_8c21_0050b6bf42a3row0_col22\" class=\"data row0 col22\" >-12.543143</td>\n",
       "                        <td id=\"T_86f926d8_0a41_11eb_8c21_0050b6bf42a3row0_col23\" class=\"data row0 col23\" >-0.408690</td>\n",
       "                        <td id=\"T_86f926d8_0a41_11eb_8c21_0050b6bf42a3row0_col24\" class=\"data row0 col24\" >1.036654</td>\n",
       "                        <td id=\"T_86f926d8_0a41_11eb_8c21_0050b6bf42a3row0_col25\" class=\"data row0 col25\" >-121.343902</td>\n",
       "                        <td id=\"T_86f926d8_0a41_11eb_8c21_0050b6bf42a3row0_col26\" class=\"data row0 col26\" >4.891588</td>\n",
       "                        <td id=\"T_86f926d8_0a41_11eb_8c21_0050b6bf42a3row0_col27\" class=\"data row0 col27\" >0.182376</td>\n",
       "            </tr>\n",
       "            <tr>\n",
       "                        <th id=\"T_86f926d8_0a41_11eb_8c21_0050b6bf42a3level0_row1\" class=\"row_heading level0 row1\" >1</th>\n",
       "                        <td id=\"T_86f926d8_0a41_11eb_8c21_0050b6bf42a3row1_col0\" class=\"data row1 col0\" >1981948060.045455</td>\n",
       "                        <td id=\"T_86f926d8_0a41_11eb_8c21_0050b6bf42a3row1_col1\" class=\"data row1 col1\" >-4.953558</td>\n",
       "                        <td id=\"T_86f926d8_0a41_11eb_8c21_0050b6bf42a3row1_col2\" class=\"data row1 col2\" >7973072795.772727</td>\n",
       "                        <td id=\"T_86f926d8_0a41_11eb_8c21_0050b6bf42a3row1_col3\" class=\"data row1 col3\" >11453846069.435064</td>\n",
       "                        <td id=\"T_86f926d8_0a41_11eb_8c21_0050b6bf42a3row1_col4\" class=\"data row1 col4\" >0.044221</td>\n",
       "                        <td id=\"T_86f926d8_0a41_11eb_8c21_0050b6bf42a3row1_col5\" class=\"data row1 col5\" >283383143.766234</td>\n",
       "                        <td id=\"T_86f926d8_0a41_11eb_8c21_0050b6bf42a3row1_col6\" class=\"data row1 col6\" >239182674.590909</td>\n",
       "                        <td id=\"T_86f926d8_0a41_11eb_8c21_0050b6bf42a3row1_col7\" class=\"data row1 col7\" >13.663435</td>\n",
       "                        <td id=\"T_86f926d8_0a41_11eb_8c21_0050b6bf42a3row1_col8\" class=\"data row1 col8\" >176016157.649351</td>\n",
       "                        <td id=\"T_86f926d8_0a41_11eb_8c21_0050b6bf42a3row1_col9\" class=\"data row1 col9\" >2923296894.961039</td>\n",
       "                        <td id=\"T_86f926d8_0a41_11eb_8c21_0050b6bf42a3row1_col10\" class=\"data row1 col10\" >2428582189.519481</td>\n",
       "                        <td id=\"T_86f926d8_0a41_11eb_8c21_0050b6bf42a3row1_col11\" class=\"data row1 col11\" >72.711429</td>\n",
       "                        <td id=\"T_86f926d8_0a41_11eb_8c21_0050b6bf42a3row1_col12\" class=\"data row1 col12\" >242760432.000000</td>\n",
       "                        <td id=\"T_86f926d8_0a41_11eb_8c21_0050b6bf42a3row1_col13\" class=\"data row1 col13\" >421903680.551948</td>\n",
       "                        <td id=\"T_86f926d8_0a41_11eb_8c21_0050b6bf42a3row1_col14\" class=\"data row1 col14\" >1417899118.376623</td>\n",
       "                        <td id=\"T_86f926d8_0a41_11eb_8c21_0050b6bf42a3row1_col15\" class=\"data row1 col15\" >185042077.922078</td>\n",
       "                        <td id=\"T_86f926d8_0a41_11eb_8c21_0050b6bf42a3row1_col16\" class=\"data row1 col16\" >889067442.428571</td>\n",
       "                        <td id=\"T_86f926d8_0a41_11eb_8c21_0050b6bf42a3row1_col17\" class=\"data row1 col17\" >11078663517.233767</td>\n",
       "                        <td id=\"T_86f926d8_0a41_11eb_8c21_0050b6bf42a3row1_col18\" class=\"data row1 col18\" >504306766.915584</td>\n",
       "                        <td id=\"T_86f926d8_0a41_11eb_8c21_0050b6bf42a3row1_col19\" class=\"data row1 col19\" >3.490221</td>\n",
       "                        <td id=\"T_86f926d8_0a41_11eb_8c21_0050b6bf42a3row1_col20\" class=\"data row1 col20\" >-4.953558</td>\n",
       "                        <td id=\"T_86f926d8_0a41_11eb_8c21_0050b6bf42a3row1_col21\" class=\"data row1 col21\" >0.049987</td>\n",
       "                        <td id=\"T_86f926d8_0a41_11eb_8c21_0050b6bf42a3row1_col22\" class=\"data row1 col22\" >0.109239</td>\n",
       "                        <td id=\"T_86f926d8_0a41_11eb_8c21_0050b6bf42a3row1_col23\" class=\"data row1 col23\" >1.515893</td>\n",
       "                        <td id=\"T_86f926d8_0a41_11eb_8c21_0050b6bf42a3row1_col24\" class=\"data row1 col24\" >13.474921</td>\n",
       "                        <td id=\"T_86f926d8_0a41_11eb_8c21_0050b6bf42a3row1_col25\" class=\"data row1 col25\" >21.306911</td>\n",
       "                        <td id=\"T_86f926d8_0a41_11eb_8c21_0050b6bf42a3row1_col26\" class=\"data row1 col26\" >1.308990</td>\n",
       "                        <td id=\"T_86f926d8_0a41_11eb_8c21_0050b6bf42a3row1_col27\" class=\"data row1 col27\" >0.778309</td>\n",
       "            </tr>\n",
       "            <tr>\n",
       "                        <th id=\"T_86f926d8_0a41_11eb_8c21_0050b6bf42a3level0_row2\" class=\"row_heading level0 row2\" >10</th>\n",
       "                        <td id=\"T_86f926d8_0a41_11eb_8c21_0050b6bf42a3row2_col0\" class=\"data row2 col0\" >62537.666667</td>\n",
       "                        <td id=\"T_86f926d8_0a41_11eb_8c21_0050b6bf42a3row2_col1\" class=\"data row2 col1\" >13.863000</td>\n",
       "                        <td id=\"T_86f926d8_0a41_11eb_8c21_0050b6bf42a3row2_col2\" class=\"data row2 col2\" >30556873.666667</td>\n",
       "                        <td id=\"T_86f926d8_0a41_11eb_8c21_0050b6bf42a3row2_col3\" class=\"data row2 col3\" >251495825.333333</td>\n",
       "                        <td id=\"T_86f926d8_0a41_11eb_8c21_0050b6bf42a3row2_col4\" class=\"data row2 col4\" >-740.063000</td>\n",
       "                        <td id=\"T_86f926d8_0a41_11eb_8c21_0050b6bf42a3row2_col5\" class=\"data row2 col5\" >-32985638.666667</td>\n",
       "                        <td id=\"T_86f926d8_0a41_11eb_8c21_0050b6bf42a3row2_col6\" class=\"data row2 col6\" >65555757.000000</td>\n",
       "                        <td id=\"T_86f926d8_0a41_11eb_8c21_0050b6bf42a3row2_col7\" class=\"data row2 col7\" >0.001000</td>\n",
       "                        <td id=\"T_86f926d8_0a41_11eb_8c21_0050b6bf42a3row2_col8\" class=\"data row2 col8\" >-41966553.000000</td>\n",
       "                        <td id=\"T_86f926d8_0a41_11eb_8c21_0050b6bf42a3row2_col9\" class=\"data row2 col9\" >225358989.666667</td>\n",
       "                        <td id=\"T_86f926d8_0a41_11eb_8c21_0050b6bf42a3row2_col10\" class=\"data row2 col10\" >53884006.333333</td>\n",
       "                        <td id=\"T_86f926d8_0a41_11eb_8c21_0050b6bf42a3row2_col11\" class=\"data row2 col11\" >20.546667</td>\n",
       "                        <td id=\"T_86f926d8_0a41_11eb_8c21_0050b6bf42a3row2_col12\" class=\"data row2 col12\" >66643607.000000</td>\n",
       "                        <td id=\"T_86f926d8_0a41_11eb_8c21_0050b6bf42a3row2_col13\" class=\"data row2 col13\" >153037423.666667</td>\n",
       "                        <td id=\"T_86f926d8_0a41_11eb_8c21_0050b6bf42a3row2_col14\" class=\"data row2 col14\" >0.000000</td>\n",
       "                        <td id=\"T_86f926d8_0a41_11eb_8c21_0050b6bf42a3row2_col15\" class=\"data row2 col15\" >87708778.333333</td>\n",
       "                        <td id=\"T_86f926d8_0a41_11eb_8c21_0050b6bf42a3row2_col16\" class=\"data row2 col16\" >131138283.000000</td>\n",
       "                        <td id=\"T_86f926d8_0a41_11eb_8c21_0050b6bf42a3row2_col17\" class=\"data row2 col17\" >240956244.666667</td>\n",
       "                        <td id=\"T_86f926d8_0a41_11eb_8c21_0050b6bf42a3row2_col18\" class=\"data row2 col18\" >-160007392.666667</td>\n",
       "                        <td id=\"T_86f926d8_0a41_11eb_8c21_0050b6bf42a3row2_col19\" class=\"data row2 col19\" >-2.117667</td>\n",
       "                        <td id=\"T_86f926d8_0a41_11eb_8c21_0050b6bf42a3row2_col20\" class=\"data row2 col20\" >13.863000</td>\n",
       "                        <td id=\"T_86f926d8_0a41_11eb_8c21_0050b6bf42a3row2_col21\" class=\"data row2 col21\" >-0.819331</td>\n",
       "                        <td id=\"T_86f926d8_0a41_11eb_8c21_0050b6bf42a3row2_col22\" class=\"data row2 col22\" >-735.613900</td>\n",
       "                        <td id=\"T_86f926d8_0a41_11eb_8c21_0050b6bf42a3row2_col23\" class=\"data row2 col23\" >-0.560824</td>\n",
       "                        <td id=\"T_86f926d8_0a41_11eb_8c21_0050b6bf42a3row2_col24\" class=\"data row2 col24\" >0.001151</td>\n",
       "                        <td id=\"T_86f926d8_0a41_11eb_8c21_0050b6bf42a3row2_col25\" class=\"data row2 col25\" >-9.513722</td>\n",
       "                        <td id=\"T_86f926d8_0a41_11eb_8c21_0050b6bf42a3row2_col26\" class=\"data row2 col26\" >4.986403</td>\n",
       "                        <td id=\"T_86f926d8_0a41_11eb_8c21_0050b6bf42a3row2_col27\" class=\"data row2 col27\" >0.139584</td>\n",
       "            </tr>\n",
       "            <tr>\n",
       "                        <th id=\"T_86f926d8_0a41_11eb_8c21_0050b6bf42a3level0_row3\" class=\"row_heading level0 row3\" >2</th>\n",
       "                        <td id=\"T_86f926d8_0a41_11eb_8c21_0050b6bf42a3row3_col0\" class=\"data row3 col0\" >3364558375.956236</td>\n",
       "                        <td id=\"T_86f926d8_0a41_11eb_8c21_0050b6bf42a3row3_col1\" class=\"data row3 col1\" >5.183481</td>\n",
       "                        <td id=\"T_86f926d8_0a41_11eb_8c21_0050b6bf42a3row3_col2\" class=\"data row3 col2\" >2215459599.345733</td>\n",
       "                        <td id=\"T_86f926d8_0a41_11eb_8c21_0050b6bf42a3row3_col3\" class=\"data row3 col3\" >16213267779.702408</td>\n",
       "                        <td id=\"T_86f926d8_0a41_11eb_8c21_0050b6bf42a3row3_col4\" class=\"data row3 col4\" >0.074495</td>\n",
       "                        <td id=\"T_86f926d8_0a41_11eb_8c21_0050b6bf42a3row3_col5\" class=\"data row3 col5\" >669053533.708972</td>\n",
       "                        <td id=\"T_86f926d8_0a41_11eb_8c21_0050b6bf42a3row3_col6\" class=\"data row3 col6\" >308653734.969365</td>\n",
       "                        <td id=\"T_86f926d8_0a41_11eb_8c21_0050b6bf42a3row3_col7\" class=\"data row3 col7\" >13.234993</td>\n",
       "                        <td id=\"T_86f926d8_0a41_11eb_8c21_0050b6bf42a3row3_col8\" class=\"data row3 col8\" >375471829.752735</td>\n",
       "                        <td id=\"T_86f926d8_0a41_11eb_8c21_0050b6bf42a3row3_col9\" class=\"data row3 col9\" >6540864456.590810</td>\n",
       "                        <td id=\"T_86f926d8_0a41_11eb_8c21_0050b6bf42a3row3_col10\" class=\"data row3 col10\" >4230217259.866521</td>\n",
       "                        <td id=\"T_86f926d8_0a41_11eb_8c21_0050b6bf42a3row3_col11\" class=\"data row3 col11\" >95.297805</td>\n",
       "                        <td id=\"T_86f926d8_0a41_11eb_8c21_0050b6bf42a3row3_col12\" class=\"data row3 col12\" >309895904.350109</td>\n",
       "                        <td id=\"T_86f926d8_0a41_11eb_8c21_0050b6bf42a3row3_col13\" class=\"data row3 col13\" >7976218827.665208</td>\n",
       "                        <td id=\"T_86f926d8_0a41_11eb_8c21_0050b6bf42a3row3_col14\" class=\"data row3 col14\" >1350846689.409190</td>\n",
       "                        <td id=\"T_86f926d8_0a41_11eb_8c21_0050b6bf42a3row3_col15\" class=\"data row3 col15\" >1026987348.323851</td>\n",
       "                        <td id=\"T_86f926d8_0a41_11eb_8c21_0050b6bf42a3row3_col16\" class=\"data row3 col16\" >2350398816.991247</td>\n",
       "                        <td id=\"T_86f926d8_0a41_11eb_8c21_0050b6bf42a3row3_col17\" class=\"data row3 col17\" >15277623356.466084</td>\n",
       "                        <td id=\"T_86f926d8_0a41_11eb_8c21_0050b6bf42a3row3_col18\" class=\"data row3 col18\" >1446553491.365427</td>\n",
       "                        <td id=\"T_86f926d8_0a41_11eb_8c21_0050b6bf42a3row3_col19\" class=\"data row3 col19\" >3.996652</td>\n",
       "                        <td id=\"T_86f926d8_0a41_11eb_8c21_0050b6bf42a3row3_col20\" class=\"data row3 col20\" >5.183481</td>\n",
       "                        <td id=\"T_86f926d8_0a41_11eb_8c21_0050b6bf42a3row3_col21\" class=\"data row3 col21\" >0.080462</td>\n",
       "                        <td id=\"T_86f926d8_0a41_11eb_8c21_0050b6bf42a3row3_col22\" class=\"data row3 col22\" >-0.050721</td>\n",
       "                        <td id=\"T_86f926d8_0a41_11eb_8c21_0050b6bf42a3row3_col23\" class=\"data row3 col23\" >1.711933</td>\n",
       "                        <td id=\"T_86f926d8_0a41_11eb_8c21_0050b6bf42a3row3_col24\" class=\"data row3 col24\" >13.619430</td>\n",
       "                        <td id=\"T_86f926d8_0a41_11eb_8c21_0050b6bf42a3row3_col25\" class=\"data row3 col25\" >15.858796</td>\n",
       "                        <td id=\"T_86f926d8_0a41_11eb_8c21_0050b6bf42a3row3_col26\" class=\"data row3 col26\" >2.245269</td>\n",
       "                        <td id=\"T_86f926d8_0a41_11eb_8c21_0050b6bf42a3row3_col27\" class=\"data row3 col27\" >0.128991</td>\n",
       "            </tr>\n",
       "            <tr>\n",
       "                        <th id=\"T_86f926d8_0a41_11eb_8c21_0050b6bf42a3level0_row4\" class=\"row_heading level0 row4\" >3</th>\n",
       "                        <td id=\"T_86f926d8_0a41_11eb_8c21_0050b6bf42a3row4_col0\" class=\"data row4 col0\" >19000.000000</td>\n",
       "                        <td id=\"T_86f926d8_0a41_11eb_8c21_0050b6bf42a3row4_col1\" class=\"data row4 col1\" >4.711000</td>\n",
       "                        <td id=\"T_86f926d8_0a41_11eb_8c21_0050b6bf42a3row4_col2\" class=\"data row4 col2\" >5442500.000000</td>\n",
       "                        <td id=\"T_86f926d8_0a41_11eb_8c21_0050b6bf42a3row4_col3\" class=\"data row4 col3\" >234903000.000000</td>\n",
       "                        <td id=\"T_86f926d8_0a41_11eb_8c21_0050b6bf42a3row4_col4\" class=\"data row4 col4\" >-2187.565000</td>\n",
       "                        <td id=\"T_86f926d8_0a41_11eb_8c21_0050b6bf42a3row4_col5\" class=\"data row4 col5\" >-20082000.000000</td>\n",
       "                        <td id=\"T_86f926d8_0a41_11eb_8c21_0050b6bf42a3row4_col6\" class=\"data row4 col6\" >91982822.000000</td>\n",
       "                        <td id=\"T_86f926d8_0a41_11eb_8c21_0050b6bf42a3row4_col7\" class=\"data row4 col7\" >0.000000</td>\n",
       "                        <td id=\"T_86f926d8_0a41_11eb_8c21_0050b6bf42a3row4_col8\" class=\"data row4 col8\" >-22641000.000000</td>\n",
       "                        <td id=\"T_86f926d8_0a41_11eb_8c21_0050b6bf42a3row4_col9\" class=\"data row4 col9\" >185447000.000000</td>\n",
       "                        <td id=\"T_86f926d8_0a41_11eb_8c21_0050b6bf42a3row4_col10\" class=\"data row4 col10\" >11427000.000000</td>\n",
       "                        <td id=\"T_86f926d8_0a41_11eb_8c21_0050b6bf42a3row4_col11\" class=\"data row4 col11\" >12.025000</td>\n",
       "                        <td id=\"T_86f926d8_0a41_11eb_8c21_0050b6bf42a3row4_col12\" class=\"data row4 col12\" >91933706.000000</td>\n",
       "                        <td id=\"T_86f926d8_0a41_11eb_8c21_0050b6bf42a3row4_col13\" class=\"data row4 col13\" >197097500.000000</td>\n",
       "                        <td id=\"T_86f926d8_0a41_11eb_8c21_0050b6bf42a3row4_col14\" class=\"data row4 col14\" >184000.000000</td>\n",
       "                        <td id=\"T_86f926d8_0a41_11eb_8c21_0050b6bf42a3row4_col15\" class=\"data row4 col15\" >18072000.000000</td>\n",
       "                        <td id=\"T_86f926d8_0a41_11eb_8c21_0050b6bf42a3row4_col16\" class=\"data row4 col16\" >160763500.000000</td>\n",
       "                        <td id=\"T_86f926d8_0a41_11eb_8c21_0050b6bf42a3row4_col17\" class=\"data row4 col17\" >185069000.000000</td>\n",
       "                        <td id=\"T_86f926d8_0a41_11eb_8c21_0050b6bf42a3row4_col18\" class=\"data row4 col18\" >-94817500.000000</td>\n",
       "                        <td id=\"T_86f926d8_0a41_11eb_8c21_0050b6bf42a3row4_col19\" class=\"data row4 col19\" >-0.719500</td>\n",
       "                        <td id=\"T_86f926d8_0a41_11eb_8c21_0050b6bf42a3row4_col20\" class=\"data row4 col20\" >4.711000</td>\n",
       "                        <td id=\"T_86f926d8_0a41_11eb_8c21_0050b6bf42a3row4_col21\" class=\"data row4 col21\" >-0.503689</td>\n",
       "                        <td id=\"T_86f926d8_0a41_11eb_8c21_0050b6bf42a3row4_col22\" class=\"data row4 col22\" >-1398.003831</td>\n",
       "                        <td id=\"T_86f926d8_0a41_11eb_8c21_0050b6bf42a3row4_col23\" class=\"data row4 col23\" >-0.223490</td>\n",
       "                        <td id=\"T_86f926d8_0a41_11eb_8c21_0050b6bf42a3row4_col24\" class=\"data row4 col24\" >0.000215</td>\n",
       "                        <td id=\"T_86f926d8_0a41_11eb_8c21_0050b6bf42a3row4_col25\" class=\"data row4 col25\" >-16.356618</td>\n",
       "                        <td id=\"T_86f926d8_0a41_11eb_8c21_0050b6bf42a3row4_col26\" class=\"data row4 col26\" >15.797225</td>\n",
       "                        <td id=\"T_86f926d8_0a41_11eb_8c21_0050b6bf42a3row4_col27\" class=\"data row4 col27\" >0.038027</td>\n",
       "            </tr>\n",
       "            <tr>\n",
       "                        <th id=\"T_86f926d8_0a41_11eb_8c21_0050b6bf42a3level0_row5\" class=\"row_heading level0 row5\" >4</th>\n",
       "                        <td id=\"T_86f926d8_0a41_11eb_8c21_0050b6bf42a3row5_col0\" class=\"data row5 col0\" >3764657333333.333496</td>\n",
       "                        <td id=\"T_86f926d8_0a41_11eb_8c21_0050b6bf42a3row5_col1\" class=\"data row5 col1\" >1.095000</td>\n",
       "                        <td id=\"T_86f926d8_0a41_11eb_8c21_0050b6bf42a3row5_col2\" class=\"data row5 col2\" >9567710333333.333984</td>\n",
       "                        <td id=\"T_86f926d8_0a41_11eb_8c21_0050b6bf42a3row5_col3\" class=\"data row5 col3\" >24765361666666.667969</td>\n",
       "                        <td id=\"T_86f926d8_0a41_11eb_8c21_0050b6bf42a3row5_col4\" class=\"data row5 col4\" >0.075333</td>\n",
       "                        <td id=\"T_86f926d8_0a41_11eb_8c21_0050b6bf42a3row5_col5\" class=\"data row5 col5\" >338955000000.000000</td>\n",
       "                        <td id=\"T_86f926d8_0a41_11eb_8c21_0050b6bf42a3row5_col6\" class=\"data row5 col6\" >1690274563.333333</td>\n",
       "                        <td id=\"T_86f926d8_0a41_11eb_8c21_0050b6bf42a3row5_col7\" class=\"data row5 col7\" >539.011000</td>\n",
       "                        <td id=\"T_86f926d8_0a41_11eb_8c21_0050b6bf42a3row5_col8\" class=\"data row5 col8\" >273729000000.000000</td>\n",
       "                        <td id=\"T_86f926d8_0a41_11eb_8c21_0050b6bf42a3row5_col9\" class=\"data row5 col9\" >8801303333333.333984</td>\n",
       "                        <td id=\"T_86f926d8_0a41_11eb_8c21_0050b6bf42a3row5_col10\" class=\"data row5 col10\" >7881993000000.000000</td>\n",
       "                        <td id=\"T_86f926d8_0a41_11eb_8c21_0050b6bf42a3row5_col11\" class=\"data row5 col11\" >1473.133333</td>\n",
       "                        <td id=\"T_86f926d8_0a41_11eb_8c21_0050b6bf42a3row5_col12\" class=\"data row5 col12\" >1690274575.000000</td>\n",
       "                        <td id=\"T_86f926d8_0a41_11eb_8c21_0050b6bf42a3row5_col13\" class=\"data row5 col13\" >9590091333333.333984</td>\n",
       "                        <td id=\"T_86f926d8_0a41_11eb_8c21_0050b6bf42a3row5_col14\" class=\"data row5 col14\" >7010239666666.666992</td>\n",
       "                        <td id=\"T_86f926d8_0a41_11eb_8c21_0050b6bf42a3row5_col15\" class=\"data row5 col15\" >979362666666.666626</td>\n",
       "                        <td id=\"T_86f926d8_0a41_11eb_8c21_0050b6bf42a3row5_col16\" class=\"data row5 col16\" >2563238333333.333496</td>\n",
       "                        <td id=\"T_86f926d8_0a41_11eb_8c21_0050b6bf42a3row5_col17\" class=\"data row5 col17\" >24304609000000.000000</td>\n",
       "                        <td id=\"T_86f926d8_0a41_11eb_8c21_0050b6bf42a3row5_col18\" class=\"data row5 col18\" >981709333333.333374</td>\n",
       "                        <td id=\"T_86f926d8_0a41_11eb_8c21_0050b6bf42a3row5_col19\" class=\"data row5 col19\" >368.098667</td>\n",
       "                        <td id=\"T_86f926d8_0a41_11eb_8c21_0050b6bf42a3row5_col20\" class=\"data row5 col20\" >1.095000</td>\n",
       "                        <td id=\"T_86f926d8_0a41_11eb_8c21_0050b6bf42a3row5_col21\" class=\"data row5 col21\" >0.039066</td>\n",
       "                        <td id=\"T_86f926d8_0a41_11eb_8c21_0050b6bf42a3row5_col22\" class=\"data row5 col22\" >0.060478</td>\n",
       "                        <td id=\"T_86f926d8_0a41_11eb_8c21_0050b6bf42a3row5_col23\" class=\"data row5 col23\" >148.636229</td>\n",
       "                        <td id=\"T_86f926d8_0a41_11eb_8c21_0050b6bf42a3row5_col24\" class=\"data row5 col24\" >1988.223868</td>\n",
       "                        <td id=\"T_86f926d8_0a41_11eb_8c21_0050b6bf42a3row5_col25\" class=\"data row5 col25\" >-9.199263</td>\n",
       "                        <td id=\"T_86f926d8_0a41_11eb_8c21_0050b6bf42a3row5_col26\" class=\"data row5 col26\" >1.419745</td>\n",
       "                        <td id=\"T_86f926d8_0a41_11eb_8c21_0050b6bf42a3row5_col27\" class=\"data row5 col27\" >0.337029</td>\n",
       "            </tr>\n",
       "            <tr>\n",
       "                        <th id=\"T_86f926d8_0a41_11eb_8c21_0050b6bf42a3level0_row6\" class=\"row_heading level0 row6\" >5</th>\n",
       "                        <td id=\"T_86f926d8_0a41_11eb_8c21_0050b6bf42a3row6_col0\" class=\"data row6 col0\" >236504750.000000</td>\n",
       "                        <td id=\"T_86f926d8_0a41_11eb_8c21_0050b6bf42a3row6_col1\" class=\"data row6 col1\" >10.646750</td>\n",
       "                        <td id=\"T_86f926d8_0a41_11eb_8c21_0050b6bf42a3row6_col2\" class=\"data row6 col2\" >183979500.000000</td>\n",
       "                        <td id=\"T_86f926d8_0a41_11eb_8c21_0050b6bf42a3row6_col3\" class=\"data row6 col3\" >1627288500.000000</td>\n",
       "                        <td id=\"T_86f926d8_0a41_11eb_8c21_0050b6bf42a3row6_col4\" class=\"data row6 col4\" >0.010750</td>\n",
       "                        <td id=\"T_86f926d8_0a41_11eb_8c21_0050b6bf42a3row6_col5\" class=\"data row6 col5\" >25331750.000000</td>\n",
       "                        <td id=\"T_86f926d8_0a41_11eb_8c21_0050b6bf42a3row6_col6\" class=\"data row6 col6\" >84330554.000000</td>\n",
       "                        <td id=\"T_86f926d8_0a41_11eb_8c21_0050b6bf42a3row6_col7\" class=\"data row6 col7\" >3.120750</td>\n",
       "                        <td id=\"T_86f926d8_0a41_11eb_8c21_0050b6bf42a3row6_col8\" class=\"data row6 col8\" >-8624750.000000</td>\n",
       "                        <td id=\"T_86f926d8_0a41_11eb_8c21_0050b6bf42a3row6_col9\" class=\"data row6 col9\" >1074734500.000000</td>\n",
       "                        <td id=\"T_86f926d8_0a41_11eb_8c21_0050b6bf42a3row6_col10\" class=\"data row6 col10\" >194169500.000000</td>\n",
       "                        <td id=\"T_86f926d8_0a41_11eb_8c21_0050b6bf42a3row6_col11\" class=\"data row6 col11\" >132.360000</td>\n",
       "                        <td id=\"T_86f926d8_0a41_11eb_8c21_0050b6bf42a3row6_col12\" class=\"data row6 col12\" >123023564.000000</td>\n",
       "                        <td id=\"T_86f926d8_0a41_11eb_8c21_0050b6bf42a3row6_col13\" class=\"data row6 col13\" >1222821500.000000</td>\n",
       "                        <td id=\"T_86f926d8_0a41_11eb_8c21_0050b6bf42a3row6_col14\" class=\"data row6 col14\" >110916000.000000</td>\n",
       "                        <td id=\"T_86f926d8_0a41_11eb_8c21_0050b6bf42a3row6_col15\" class=\"data row6 col15\" >495488000.000000</td>\n",
       "                        <td id=\"T_86f926d8_0a41_11eb_8c21_0050b6bf42a3row6_col16\" class=\"data row6 col16\" >349894000.000000</td>\n",
       "                        <td id=\"T_86f926d8_0a41_11eb_8c21_0050b6bf42a3row6_col17\" class=\"data row6 col17\" >1352294750.000000</td>\n",
       "                        <td id=\"T_86f926d8_0a41_11eb_8c21_0050b6bf42a3row6_col18\" class=\"data row6 col18\" >-38311250.000000</td>\n",
       "                        <td id=\"T_86f926d8_0a41_11eb_8c21_0050b6bf42a3row6_col19\" class=\"data row6 col19\" >0.026750</td>\n",
       "                        <td id=\"T_86f926d8_0a41_11eb_8c21_0050b6bf42a3row6_col20\" class=\"data row6 col20\" >10.646750</td>\n",
       "                        <td id=\"T_86f926d8_0a41_11eb_8c21_0050b6bf42a3row6_col21\" class=\"data row6 col21\" >-0.041115</td>\n",
       "                        <td id=\"T_86f926d8_0a41_11eb_8c21_0050b6bf42a3row6_col22\" class=\"data row6 col22\" >-0.018645</td>\n",
       "                        <td id=\"T_86f926d8_0a41_11eb_8c21_0050b6bf42a3row6_col23\" class=\"data row6 col23\" >0.291077</td>\n",
       "                        <td id=\"T_86f926d8_0a41_11eb_8c21_0050b6bf42a3row6_col24\" class=\"data row6 col24\" >3.032631</td>\n",
       "                        <td id=\"T_86f926d8_0a41_11eb_8c21_0050b6bf42a3row6_col25\" class=\"data row6 col25\" >4589.297565</td>\n",
       "                        <td id=\"T_86f926d8_0a41_11eb_8c21_0050b6bf42a3row6_col26\" class=\"data row6 col26\" >4.004340</td>\n",
       "                        <td id=\"T_86f926d8_0a41_11eb_8c21_0050b6bf42a3row6_col27\" class=\"data row6 col27\" >0.099972</td>\n",
       "            </tr>\n",
       "            <tr>\n",
       "                        <th id=\"T_86f926d8_0a41_11eb_8c21_0050b6bf42a3level0_row7\" class=\"row_heading level0 row7\" >6</th>\n",
       "                        <td id=\"T_86f926d8_0a41_11eb_8c21_0050b6bf42a3row7_col0\" class=\"data row7 col0\" >3795000000.000000</td>\n",
       "                        <td id=\"T_86f926d8_0a41_11eb_8c21_0050b6bf42a3row7_col1\" class=\"data row7 col1\" >-1270.068000</td>\n",
       "                        <td id=\"T_86f926d8_0a41_11eb_8c21_0050b6bf42a3row7_col2\" class=\"data row7 col2\" >19502000000.000000</td>\n",
       "                        <td id=\"T_86f926d8_0a41_11eb_8c21_0050b6bf42a3row7_col3\" class=\"data row7 col3\" >25387500000.000000</td>\n",
       "                        <td id=\"T_86f926d8_0a41_11eb_8c21_0050b6bf42a3row7_col4\" class=\"data row7 col4\" >0.215500</td>\n",
       "                        <td id=\"T_86f926d8_0a41_11eb_8c21_0050b6bf42a3row7_col5\" class=\"data row7 col5\" >832500000.000000</td>\n",
       "                        <td id=\"T_86f926d8_0a41_11eb_8c21_0050b6bf42a3row7_col6\" class=\"data row7 col6\" >298602799.500000</td>\n",
       "                        <td id=\"T_86f926d8_0a41_11eb_8c21_0050b6bf42a3row7_col7\" class=\"data row7 col7\" >12.594500</td>\n",
       "                        <td id=\"T_86f926d8_0a41_11eb_8c21_0050b6bf42a3row7_col8\" class=\"data row7 col8\" >883500000.000000</td>\n",
       "                        <td id=\"T_86f926d8_0a41_11eb_8c21_0050b6bf42a3row7_col9\" class=\"data row7 col9\" >4634500000.000000</td>\n",
       "                        <td id=\"T_86f926d8_0a41_11eb_8c21_0050b6bf42a3row7_col10\" class=\"data row7 col10\" >4396500000.000000</td>\n",
       "                        <td id=\"T_86f926d8_0a41_11eb_8c21_0050b6bf42a3row7_col11\" class=\"data row7 col11\" >99.310000</td>\n",
       "                        <td id=\"T_86f926d8_0a41_11eb_8c21_0050b6bf42a3row7_col12\" class=\"data row7 col12\" >298778297.500000</td>\n",
       "                        <td id=\"T_86f926d8_0a41_11eb_8c21_0050b6bf42a3row7_col13\" class=\"data row7 col13\" >-23500000.000000</td>\n",
       "                        <td id=\"T_86f926d8_0a41_11eb_8c21_0050b6bf42a3row7_col14\" class=\"data row7 col14\" >1377000000.000000</td>\n",
       "                        <td id=\"T_86f926d8_0a41_11eb_8c21_0050b6bf42a3row7_col15\" class=\"data row7 col15\" >161500000.000000</td>\n",
       "                        <td id=\"T_86f926d8_0a41_11eb_8c21_0050b6bf42a3row7_col16\" class=\"data row7 col16\" >1718000000.000000</td>\n",
       "                        <td id=\"T_86f926d8_0a41_11eb_8c21_0050b6bf42a3row7_col17\" class=\"data row7 col17\" >24815125000.000000</td>\n",
       "                        <td id=\"T_86f926d8_0a41_11eb_8c21_0050b6bf42a3row7_col18\" class=\"data row7 col18\" >1402500000.000000</td>\n",
       "                        <td id=\"T_86f926d8_0a41_11eb_8c21_0050b6bf42a3row7_col19\" class=\"data row7 col19\" >0.193000</td>\n",
       "                        <td id=\"T_86f926d8_0a41_11eb_8c21_0050b6bf42a3row7_col20\" class=\"data row7 col20\" >-1270.068000</td>\n",
       "                        <td id=\"T_86f926d8_0a41_11eb_8c21_0050b6bf42a3row7_col21\" class=\"data row7 col21\" >0.080291</td>\n",
       "                        <td id=\"T_86f926d8_0a41_11eb_8c21_0050b6bf42a3row7_col22\" class=\"data row7 col22\" >0.250872</td>\n",
       "                        <td id=\"T_86f926d8_0a41_11eb_8c21_0050b6bf42a3row7_col23\" class=\"data row7 col23\" >2.802064</td>\n",
       "                        <td id=\"T_86f926d8_0a41_11eb_8c21_0050b6bf42a3row7_col24\" class=\"data row7 col24\" >12.586388</td>\n",
       "                        <td id=\"T_86f926d8_0a41_11eb_8c21_0050b6bf42a3row7_col25\" class=\"data row7 col25\" >6.932384</td>\n",
       "                        <td id=\"T_86f926d8_0a41_11eb_8c21_0050b6bf42a3row7_col26\" class=\"data row7 col26\" >1.211485</td>\n",
       "                        <td id=\"T_86f926d8_0a41_11eb_8c21_0050b6bf42a3row7_col27\" class=\"data row7 col27\" >0.693790</td>\n",
       "            </tr>\n",
       "            <tr>\n",
       "                        <th id=\"T_86f926d8_0a41_11eb_8c21_0050b6bf42a3level0_row8\" class=\"row_heading level0 row8\" >7</th>\n",
       "                        <td id=\"T_86f926d8_0a41_11eb_8c21_0050b6bf42a3row8_col0\" class=\"data row8 col0\" >3065098792.887075</td>\n",
       "                        <td id=\"T_86f926d8_0a41_11eb_8c21_0050b6bf42a3row8_col1\" class=\"data row8 col1\" >5.709865</td>\n",
       "                        <td id=\"T_86f926d8_0a41_11eb_8c21_0050b6bf42a3row8_col2\" class=\"data row8 col2\" >7230855007.359183</td>\n",
       "                        <td id=\"T_86f926d8_0a41_11eb_8c21_0050b6bf42a3row8_col3\" class=\"data row8 col3\" >19021909102.839455</td>\n",
       "                        <td id=\"T_86f926d8_0a41_11eb_8c21_0050b6bf42a3row8_col4\" class=\"data row8 col4\" >0.047159</td>\n",
       "                        <td id=\"T_86f926d8_0a41_11eb_8c21_0050b6bf42a3row8_col5\" class=\"data row8 col5\" >533784665.055782</td>\n",
       "                        <td id=\"T_86f926d8_0a41_11eb_8c21_0050b6bf42a3row8_col6\" class=\"data row8 col6\" >291351637.533333</td>\n",
       "                        <td id=\"T_86f926d8_0a41_11eb_8c21_0050b6bf42a3row8_col7\" class=\"data row8 col7\" >12.694686</td>\n",
       "                        <td id=\"T_86f926d8_0a41_11eb_8c21_0050b6bf42a3row8_col8\" class=\"data row8 col8\" >287740448.364626</td>\n",
       "                        <td id=\"T_86f926d8_0a41_11eb_8c21_0050b6bf42a3row8_col9\" class=\"data row8 col9\" >4105696792.880272</td>\n",
       "                        <td id=\"T_86f926d8_0a41_11eb_8c21_0050b6bf42a3row8_col10\" class=\"data row8 col10\" >3677069984.646258</td>\n",
       "                        <td id=\"T_86f926d8_0a41_11eb_8c21_0050b6bf42a3row8_col11\" class=\"data row8 col11\" >86.739886</td>\n",
       "                        <td id=\"T_86f926d8_0a41_11eb_8c21_0050b6bf42a3row8_col12\" class=\"data row8 col12\" >292758366.175510</td>\n",
       "                        <td id=\"T_86f926d8_0a41_11eb_8c21_0050b6bf42a3row8_col13\" class=\"data row8 col13\" >5949264374.858503</td>\n",
       "                        <td id=\"T_86f926d8_0a41_11eb_8c21_0050b6bf42a3row8_col14\" class=\"data row8 col14\" >1479170466.448980</td>\n",
       "                        <td id=\"T_86f926d8_0a41_11eb_8c21_0050b6bf42a3row8_col15\" class=\"data row8 col15\" >370630364.625850</td>\n",
       "                        <td id=\"T_86f926d8_0a41_11eb_8c21_0050b6bf42a3row8_col16\" class=\"data row8 col16\" >991439149.219048</td>\n",
       "                        <td id=\"T_86f926d8_0a41_11eb_8c21_0050b6bf42a3row8_col17\" class=\"data row8 col17\" >18513944412.821770</td>\n",
       "                        <td id=\"T_86f926d8_0a41_11eb_8c21_0050b6bf42a3row8_col18\" class=\"data row8 col18\" >795137195.019048</td>\n",
       "                        <td id=\"T_86f926d8_0a41_11eb_8c21_0050b6bf42a3row8_col19\" class=\"data row8 col19\" >3.299195</td>\n",
       "                        <td id=\"T_86f926d8_0a41_11eb_8c21_0050b6bf42a3row8_col20\" class=\"data row8 col20\" >5.709865</td>\n",
       "                        <td id=\"T_86f926d8_0a41_11eb_8c21_0050b6bf42a3row8_col21\" class=\"data row8 col21\" >0.036533</td>\n",
       "                        <td id=\"T_86f926d8_0a41_11eb_8c21_0050b6bf42a3row8_col22\" class=\"data row8 col22\" >0.082008</td>\n",
       "                        <td id=\"T_86f926d8_0a41_11eb_8c21_0050b6bf42a3row8_col23\" class=\"data row8 col23\" >2.044087</td>\n",
       "                        <td id=\"T_86f926d8_0a41_11eb_8c21_0050b6bf42a3row8_col24\" class=\"data row8 col24\" >12.765777</td>\n",
       "                        <td id=\"T_86f926d8_0a41_11eb_8c21_0050b6bf42a3row8_col25\" class=\"data row8 col25\" >23.013458</td>\n",
       "                        <td id=\"T_86f926d8_0a41_11eb_8c21_0050b6bf42a3row8_col26\" class=\"data row8 col26\" >1.060433</td>\n",
       "                        <td id=\"T_86f926d8_0a41_11eb_8c21_0050b6bf42a3row8_col27\" class=\"data row8 col27\" >0.393133</td>\n",
       "            </tr>\n",
       "            <tr>\n",
       "                        <th id=\"T_86f926d8_0a41_11eb_8c21_0050b6bf42a3level0_row9\" class=\"row_heading level0 row9\" >8</th>\n",
       "                        <td id=\"T_86f926d8_0a41_11eb_8c21_0050b6bf42a3row9_col0\" class=\"data row9 col0\" >2023432666.666667</td>\n",
       "                        <td id=\"T_86f926d8_0a41_11eb_8c21_0050b6bf42a3row9_col1\" class=\"data row9 col1\" >771.125000</td>\n",
       "                        <td id=\"T_86f926d8_0a41_11eb_8c21_0050b6bf42a3row9_col2\" class=\"data row9 col2\" >3438412333.333333</td>\n",
       "                        <td id=\"T_86f926d8_0a41_11eb_8c21_0050b6bf42a3row9_col3\" class=\"data row9 col3\" >6368018333.333333</td>\n",
       "                        <td id=\"T_86f926d8_0a41_11eb_8c21_0050b6bf42a3row9_col4\" class=\"data row9 col4\" >0.077667</td>\n",
       "                        <td id=\"T_86f926d8_0a41_11eb_8c21_0050b6bf42a3row9_col5\" class=\"data row9 col5\" >396800666.666667</td>\n",
       "                        <td id=\"T_86f926d8_0a41_11eb_8c21_0050b6bf42a3row9_col6\" class=\"data row9 col6\" >337722367.333333</td>\n",
       "                        <td id=\"T_86f926d8_0a41_11eb_8c21_0050b6bf42a3row9_col7\" class=\"data row9 col7\" >13.335000</td>\n",
       "                        <td id=\"T_86f926d8_0a41_11eb_8c21_0050b6bf42a3row9_col8\" class=\"data row9 col8\" >351035333.333333</td>\n",
       "                        <td id=\"T_86f926d8_0a41_11eb_8c21_0050b6bf42a3row9_col9\" class=\"data row9 col9\" >2114262333.333333</td>\n",
       "                        <td id=\"T_86f926d8_0a41_11eb_8c21_0050b6bf42a3row9_col10\" class=\"data row9 col10\" >1833883333.333333</td>\n",
       "                        <td id=\"T_86f926d8_0a41_11eb_8c21_0050b6bf42a3row9_col11\" class=\"data row9 col11\" >57.710000</td>\n",
       "                        <td id=\"T_86f926d8_0a41_11eb_8c21_0050b6bf42a3row9_col12\" class=\"data row9 col12\" >337789491.333333</td>\n",
       "                        <td id=\"T_86f926d8_0a41_11eb_8c21_0050b6bf42a3row9_col13\" class=\"data row9 col13\" >41092666.666667</td>\n",
       "                        <td id=\"T_86f926d8_0a41_11eb_8c21_0050b6bf42a3row9_col14\" class=\"data row9 col14\" >666812000.000000</td>\n",
       "                        <td id=\"T_86f926d8_0a41_11eb_8c21_0050b6bf42a3row9_col15\" class=\"data row9 col15\" >11576000.000000</td>\n",
       "                        <td id=\"T_86f926d8_0a41_11eb_8c21_0050b6bf42a3row9_col16\" class=\"data row9 col16\" >455633000.000000</td>\n",
       "                        <td id=\"T_86f926d8_0a41_11eb_8c21_0050b6bf42a3row9_col17\" class=\"data row9 col17\" >5865623416.666667</td>\n",
       "                        <td id=\"T_86f926d8_0a41_11eb_8c21_0050b6bf42a3row9_col18\" class=\"data row9 col18\" >925150333.333333</td>\n",
       "                        <td id=\"T_86f926d8_0a41_11eb_8c21_0050b6bf42a3row9_col19\" class=\"data row9 col19\" >2.968667</td>\n",
       "                        <td id=\"T_86f926d8_0a41_11eb_8c21_0050b6bf42a3row9_col20\" class=\"data row9 col20\" >771.125000</td>\n",
       "                        <td id=\"T_86f926d8_0a41_11eb_8c21_0050b6bf42a3row9_col21\" class=\"data row9 col21\" >0.132097</td>\n",
       "                        <td id=\"T_86f926d8_0a41_11eb_8c21_0050b6bf42a3row9_col22\" class=\"data row9 col22\" >0.117985</td>\n",
       "                        <td id=\"T_86f926d8_0a41_11eb_8c21_0050b6bf42a3row9_col23\" class=\"data row9 col23\" >1.873236</td>\n",
       "                        <td id=\"T_86f926d8_0a41_11eb_8c21_0050b6bf42a3row9_col24\" class=\"data row9 col24\" >13.329913</td>\n",
       "                        <td id=\"T_86f926d8_0a41_11eb_8c21_0050b6bf42a3row9_col25\" class=\"data row9 col25\" >17.903664</td>\n",
       "                        <td id=\"T_86f926d8_0a41_11eb_8c21_0050b6bf42a3row9_col26\" class=\"data row9 col26\" >0.634315</td>\n",
       "                        <td id=\"T_86f926d8_0a41_11eb_8c21_0050b6bf42a3row9_col27\" class=\"data row9 col27\" >0.519079</td>\n",
       "            </tr>\n",
       "            <tr>\n",
       "                        <th id=\"T_86f926d8_0a41_11eb_8c21_0050b6bf42a3level0_row10\" class=\"row_heading level0 row10\" >9</th>\n",
       "                        <td id=\"T_86f926d8_0a41_11eb_8c21_0050b6bf42a3row10_col0\" class=\"data row10 col0\" >51487000.000000</td>\n",
       "                        <td id=\"T_86f926d8_0a41_11eb_8c21_0050b6bf42a3row10_col1\" class=\"data row10 col1\" >3.481000</td>\n",
       "                        <td id=\"T_86f926d8_0a41_11eb_8c21_0050b6bf42a3row10_col2\" class=\"data row10 col2\" >513024500.000000</td>\n",
       "                        <td id=\"T_86f926d8_0a41_11eb_8c21_0050b6bf42a3row10_col3\" class=\"data row10 col3\" >1109870500.000000</td>\n",
       "                        <td id=\"T_86f926d8_0a41_11eb_8c21_0050b6bf42a3row10_col4\" class=\"data row10 col4\" >0.166000</td>\n",
       "                        <td id=\"T_86f926d8_0a41_11eb_8c21_0050b6bf42a3row10_col5\" class=\"data row10 col5\" >29783000.000000</td>\n",
       "                        <td id=\"T_86f926d8_0a41_11eb_8c21_0050b6bf42a3row10_col6\" class=\"data row10 col6\" >59210000.000000</td>\n",
       "                        <td id=\"T_86f926d8_0a41_11eb_8c21_0050b6bf42a3row10_col7\" class=\"data row10 col7\" >1.159500</td>\n",
       "                        <td id=\"T_86f926d8_0a41_11eb_8c21_0050b6bf42a3row10_col8\" class=\"data row10 col8\" >31730000.000000</td>\n",
       "                        <td id=\"T_86f926d8_0a41_11eb_8c21_0050b6bf42a3row10_col9\" class=\"data row10 col9\" >777439500.000000</td>\n",
       "                        <td id=\"T_86f926d8_0a41_11eb_8c21_0050b6bf42a3row10_col10\" class=\"data row10 col10\" >11186500.000000</td>\n",
       "                        <td id=\"T_86f926d8_0a41_11eb_8c21_0050b6bf42a3row10_col11\" class=\"data row10 col11\" >59.225000</td>\n",
       "                        <td id=\"T_86f926d8_0a41_11eb_8c21_0050b6bf42a3row10_col12\" class=\"data row10 col12\" >59421229.000000</td>\n",
       "                        <td id=\"T_86f926d8_0a41_11eb_8c21_0050b6bf42a3row10_col13\" class=\"data row10 col13\" >540363500.000000</td>\n",
       "                        <td id=\"T_86f926d8_0a41_11eb_8c21_0050b6bf42a3row10_col14\" class=\"data row10 col14\" >54907000.000000</td>\n",
       "                        <td id=\"T_86f926d8_0a41_11eb_8c21_0050b6bf42a3row10_col15\" class=\"data row10 col15\" >535536500.000000</td>\n",
       "                        <td id=\"T_86f926d8_0a41_11eb_8c21_0050b6bf42a3row10_col16\" class=\"data row10 col16\" >174819500.000000</td>\n",
       "                        <td id=\"T_86f926d8_0a41_11eb_8c21_0050b6bf42a3row10_col17\" class=\"data row10 col17\" >1173926875.000000</td>\n",
       "                        <td id=\"T_86f926d8_0a41_11eb_8c21_0050b6bf42a3row10_col18\" class=\"data row10 col18\" >393295000.000000</td>\n",
       "                        <td id=\"T_86f926d8_0a41_11eb_8c21_0050b6bf42a3row10_col19\" class=\"data row10 col19\" >0.433000</td>\n",
       "                        <td id=\"T_86f926d8_0a41_11eb_8c21_0050b6bf42a3row10_col20\" class=\"data row10 col20\" >3.481000</td>\n",
       "                        <td id=\"T_86f926d8_0a41_11eb_8c21_0050b6bf42a3row10_col21\" class=\"data row10 col21\" >0.305698</td>\n",
       "                        <td id=\"T_86f926d8_0a41_11eb_8c21_0050b6bf42a3row10_col22\" class=\"data row10 col22\" >0.296173</td>\n",
       "                        <td id=\"T_86f926d8_0a41_11eb_8c21_0050b6bf42a3row10_col23\" class=\"data row10 col23\" >0.121371</td>\n",
       "                        <td id=\"T_86f926d8_0a41_11eb_8c21_0050b6bf42a3row10_col24\" class=\"data row10 col24\" >1.143788</td>\n",
       "                        <td id=\"T_86f926d8_0a41_11eb_8c21_0050b6bf42a3row10_col25\" class=\"data row10 col25\" >-28.275252</td>\n",
       "                        <td id=\"T_86f926d8_0a41_11eb_8c21_0050b6bf42a3row10_col26\" class=\"data row10 col26\" >72.411716</td>\n",
       "                        <td id=\"T_86f926d8_0a41_11eb_8c21_0050b6bf42a3row10_col27\" class=\"data row10 col27\" >0.477191</td>\n",
       "            </tr>\n",
       "    </tbody></table>"
      ],
      "text/plain": [
       "<pandas.io.formats.style.Styler at 0x17e26478>"
      ]
     },
     "execution_count": 64,
     "metadata": {},
     "output_type": "execute_result"
    }
   ],
   "source": [
    "centroids.style.background_gradient() #TM - toyota motorolla check the revenue and stuff on yahoofinance \n",
    "\n",
    "#on this table we see the average value for each cluster"
   ]
  },
  {
   "cell_type": "code",
   "execution_count": 65,
   "metadata": {
    "scrolled": false
   },
   "outputs": [
    {
     "data": {
      "text/html": [
       "<div>\n",
       "<style scoped>\n",
       "    .dataframe tbody tr th:only-of-type {\n",
       "        vertical-align: middle;\n",
       "    }\n",
       "\n",
       "    .dataframe tbody tr th {\n",
       "        vertical-align: top;\n",
       "    }\n",
       "\n",
       "    .dataframe thead th {\n",
       "        text-align: right;\n",
       "    }\n",
       "</style>\n",
       "<table border=\"1\" class=\"dataframe\">\n",
       "  <thead>\n",
       "    <tr style=\"text-align: right;\">\n",
       "      <th></th>\n",
       "      <th>ticker</th>\n",
       "      <th>revenue</th>\n",
       "      <th>pb</th>\n",
       "      <th>debt</th>\n",
       "      <th>assets</th>\n",
       "      <th>netmargin</th>\n",
       "      <th>ncfo</th>\n",
       "      <th>shareswa</th>\n",
       "      <th>sps</th>\n",
       "      <th>opinc</th>\n",
       "      <th>...</th>\n",
       "      <th>fcfps</th>\n",
       "      <th>PX_TO_BOOK_RATIO</th>\n",
       "      <th>RETURN_ON_ASSET</th>\n",
       "      <th>OPER_MARGIN</th>\n",
       "      <th>CASH_FLOW_PER_SHARE</th>\n",
       "      <th>REVENUE_PER_SHARE</th>\n",
       "      <th>PX_FREE_CASH_FLOW</th>\n",
       "      <th>quick_ratio</th>\n",
       "      <th>TOT_DEBT_TO_TOTAL_ASSET</th>\n",
       "      <th>label</th>\n",
       "    </tr>\n",
       "  </thead>\n",
       "  <tbody>\n",
       "  </tbody>\n",
       "</table>\n",
       "<p>0 rows × 32 columns</p>\n",
       "</div>"
      ],
      "text/plain": [
       "Empty DataFrame\n",
       "Columns: [ticker, revenue, pb, debt, assets, netmargin, ncfo, shareswa, sps, opinc, assetsc, liabilitiesc, price, calendardate, datekey, sharesbas, equity, receivables, investmentsc, cashneq, assetsavg, netinccmn, fcfps, PX_TO_BOOK_RATIO, RETURN_ON_ASSET, OPER_MARGIN, CASH_FLOW_PER_SHARE, REVENUE_PER_SHARE, PX_FREE_CASH_FLOW, quick_ratio, TOT_DEBT_TO_TOTAL_ASSET, label]\n",
       "Index: []\n",
       "\n",
       "[0 rows x 32 columns]"
      ]
     },
     "execution_count": 65,
     "metadata": {},
     "output_type": "execute_result"
    }
   ],
   "source": [
    "df_copy[df_copy['label'] == 1] #filtered to row number 1 (cluster)"
   ]
  },
  {
   "cell_type": "code",
   "execution_count": 66,
   "metadata": {
    "scrolled": false
   },
   "outputs": [
    {
     "data": {
      "text/html": [
       "<div>\n",
       "<style scoped>\n",
       "    .dataframe tbody tr th:only-of-type {\n",
       "        vertical-align: middle;\n",
       "    }\n",
       "\n",
       "    .dataframe tbody tr th {\n",
       "        vertical-align: top;\n",
       "    }\n",
       "\n",
       "    .dataframe thead th {\n",
       "        text-align: right;\n",
       "    }\n",
       "</style>\n",
       "<table border=\"1\" class=\"dataframe\">\n",
       "  <thead>\n",
       "    <tr style=\"text-align: right;\">\n",
       "      <th></th>\n",
       "      <th>ticker</th>\n",
       "      <th>revenue</th>\n",
       "      <th>pb</th>\n",
       "      <th>debt</th>\n",
       "      <th>assets</th>\n",
       "      <th>netmargin</th>\n",
       "      <th>ncfo</th>\n",
       "      <th>shareswa</th>\n",
       "      <th>sps</th>\n",
       "      <th>opinc</th>\n",
       "      <th>...</th>\n",
       "      <th>fcfps</th>\n",
       "      <th>PX_TO_BOOK_RATIO</th>\n",
       "      <th>RETURN_ON_ASSET</th>\n",
       "      <th>OPER_MARGIN</th>\n",
       "      <th>CASH_FLOW_PER_SHARE</th>\n",
       "      <th>REVENUE_PER_SHARE</th>\n",
       "      <th>PX_FREE_CASH_FLOW</th>\n",
       "      <th>quick_ratio</th>\n",
       "      <th>TOT_DEBT_TO_TOTAL_ASSET</th>\n",
       "      <th>label</th>\n",
       "    </tr>\n",
       "  </thead>\n",
       "  <tbody>\n",
       "  </tbody>\n",
       "</table>\n",
       "<p>0 rows × 32 columns</p>\n",
       "</div>"
      ],
      "text/plain": [
       "Empty DataFrame\n",
       "Columns: [ticker, revenue, pb, debt, assets, netmargin, ncfo, shareswa, sps, opinc, assetsc, liabilitiesc, price, calendardate, datekey, sharesbas, equity, receivables, investmentsc, cashneq, assetsavg, netinccmn, fcfps, PX_TO_BOOK_RATIO, RETURN_ON_ASSET, OPER_MARGIN, CASH_FLOW_PER_SHARE, REVENUE_PER_SHARE, PX_FREE_CASH_FLOW, quick_ratio, TOT_DEBT_TO_TOTAL_ASSET, label]\n",
       "Index: []\n",
       "\n",
       "[0 rows x 32 columns]"
      ]
     },
     "execution_count": 66,
     "metadata": {},
     "output_type": "execute_result"
    }
   ],
   "source": [
    "df_copy[df_copy['label'] == 3]"
   ]
  },
  {
   "cell_type": "code",
   "execution_count": 67,
   "metadata": {},
   "outputs": [
    {
     "data": {
      "text/plain": [
       "GaussianMixture(n_components=5, random_state=55)"
      ]
     },
     "execution_count": 67,
     "metadata": {},
     "output_type": "execute_result"
    }
   ],
   "source": [
    "gauss = GaussianMixture(n_components=5, random_state=55)\n",
    "gauss.fit(X)"
   ]
  },
  {
   "cell_type": "code",
   "execution_count": 68,
   "metadata": {
    "scrolled": true
   },
   "outputs": [
    {
     "data": {
      "text/plain": [
       "array([[-7.42052739e-02, -2.40988366e-02, -2.78031411e-01,\n",
       "        -3.45029091e-01, -1.50101967e+00,  6.90794670e-02,\n",
       "         1.29839979e+00, -2.30225768e-01],\n",
       "       [ 1.09653542e-01, -6.37307297e-04, -3.36924857e-02,\n",
       "         6.96232540e-02,  2.53567538e-01, -5.64788414e-02,\n",
       "        -2.34993493e-01,  6.16777597e-02],\n",
       "       [-2.11845889e-01,  7.88692181e-03,  1.39910973e-01,\n",
       "         6.77638786e-02, -1.40692083e-01,  1.89337067e-02,\n",
       "         1.66350575e-01,  6.05202521e-02],\n",
       "       [-9.64284890e-01, -1.02285182e-01, -2.81252286e-01,\n",
       "        -1.95068790e+01, -5.42516002e+00,  1.30130640e-01,\n",
       "         2.68882738e+00, -2.00449376e+01],\n",
       "       [ 7.89994102e-01, -7.05941019e-03, -1.07121373e-02,\n",
       "         6.97433483e-02,  7.47212625e-01,  1.22147680e+01,\n",
       "        -3.73074414e-01,  6.17172500e-02]])"
      ]
     },
     "execution_count": 68,
     "metadata": {},
     "output_type": "execute_result"
    }
   ],
   "source": [
    "gauss.means_"
   ]
  },
  {
   "cell_type": "code",
   "execution_count": 69,
   "metadata": {},
   "outputs": [
    {
     "data": {
      "text/plain": [
       "(1493, 5)"
      ]
     },
     "execution_count": 69,
     "metadata": {},
     "output_type": "execute_result"
    }
   ],
   "source": [
    "prob_df = pd.DataFrame(gauss.predict_proba(X))\n",
    "prob_df.shape"
   ]
  },
  {
   "cell_type": "code",
   "execution_count": 70,
   "metadata": {},
   "outputs": [],
   "source": [
    "centroids = df_copy.groupby(['label']).mean()"
   ]
  },
  {
   "cell_type": "code",
   "execution_count": 71,
   "metadata": {},
   "outputs": [
    {
     "data": {
      "text/html": [
       "<style  type=\"text/css\" >\n",
       "    #T_94313201_0a41_11eb_b7ee_0050b6bf42a3row0_col0 {\n",
       "            background-color:  #fff7fb;\n",
       "            color:  #000000;\n",
       "        }    #T_94313201_0a41_11eb_b7ee_0050b6bf42a3row0_col1 {\n",
       "            background-color:  #358fc0;\n",
       "            color:  #000000;\n",
       "        }    #T_94313201_0a41_11eb_b7ee_0050b6bf42a3row0_col2 {\n",
       "            background-color:  #fff7fb;\n",
       "            color:  #000000;\n",
       "        }    #T_94313201_0a41_11eb_b7ee_0050b6bf42a3row0_col3 {\n",
       "            background-color:  #fff7fb;\n",
       "            color:  #000000;\n",
       "        }    #T_94313201_0a41_11eb_b7ee_0050b6bf42a3row0_col4 {\n",
       "            background-color:  #02395a;\n",
       "            color:  #f1f1f1;\n",
       "        }    #T_94313201_0a41_11eb_b7ee_0050b6bf42a3row0_col5 {\n",
       "            background-color:  #fff7fb;\n",
       "            color:  #000000;\n",
       "        }    #T_94313201_0a41_11eb_b7ee_0050b6bf42a3row0_col6 {\n",
       "            background-color:  #f9f2f8;\n",
       "            color:  #000000;\n",
       "        }    #T_94313201_0a41_11eb_b7ee_0050b6bf42a3row0_col7 {\n",
       "            background-color:  #fff7fb;\n",
       "            color:  #000000;\n",
       "        }    #T_94313201_0a41_11eb_b7ee_0050b6bf42a3row0_col8 {\n",
       "            background-color:  #fff7fb;\n",
       "            color:  #000000;\n",
       "        }    #T_94313201_0a41_11eb_b7ee_0050b6bf42a3row0_col9 {\n",
       "            background-color:  #fff7fb;\n",
       "            color:  #000000;\n",
       "        }    #T_94313201_0a41_11eb_b7ee_0050b6bf42a3row0_col10 {\n",
       "            background-color:  #fff7fb;\n",
       "            color:  #000000;\n",
       "        }    #T_94313201_0a41_11eb_b7ee_0050b6bf42a3row0_col11 {\n",
       "            background-color:  #fdf5fa;\n",
       "            color:  #000000;\n",
       "        }    #T_94313201_0a41_11eb_b7ee_0050b6bf42a3row0_col12 {\n",
       "            background-color:  #f8f1f8;\n",
       "            color:  #000000;\n",
       "        }    #T_94313201_0a41_11eb_b7ee_0050b6bf42a3row0_col13 {\n",
       "            background-color:  #fff7fb;\n",
       "            color:  #000000;\n",
       "        }    #T_94313201_0a41_11eb_b7ee_0050b6bf42a3row0_col14 {\n",
       "            background-color:  #fff7fb;\n",
       "            color:  #000000;\n",
       "        }    #T_94313201_0a41_11eb_b7ee_0050b6bf42a3row0_col15 {\n",
       "            background-color:  #fff7fb;\n",
       "            color:  #000000;\n",
       "        }    #T_94313201_0a41_11eb_b7ee_0050b6bf42a3row0_col16 {\n",
       "            background-color:  #fff7fb;\n",
       "            color:  #000000;\n",
       "        }    #T_94313201_0a41_11eb_b7ee_0050b6bf42a3row0_col17 {\n",
       "            background-color:  #fff7fb;\n",
       "            color:  #000000;\n",
       "        }    #T_94313201_0a41_11eb_b7ee_0050b6bf42a3row0_col18 {\n",
       "            background-color:  #fff7fb;\n",
       "            color:  #000000;\n",
       "        }    #T_94313201_0a41_11eb_b7ee_0050b6bf42a3row0_col19 {\n",
       "            background-color:  #fff7fb;\n",
       "            color:  #000000;\n",
       "        }    #T_94313201_0a41_11eb_b7ee_0050b6bf42a3row0_col20 {\n",
       "            background-color:  #358fc0;\n",
       "            color:  #000000;\n",
       "        }    #T_94313201_0a41_11eb_b7ee_0050b6bf42a3row0_col21 {\n",
       "            background-color:  #91b5d6;\n",
       "            color:  #000000;\n",
       "        }    #T_94313201_0a41_11eb_b7ee_0050b6bf42a3row0_col22 {\n",
       "            background-color:  #023a5b;\n",
       "            color:  #f1f1f1;\n",
       "        }    #T_94313201_0a41_11eb_b7ee_0050b6bf42a3row0_col23 {\n",
       "            background-color:  #fff7fb;\n",
       "            color:  #000000;\n",
       "        }    #T_94313201_0a41_11eb_b7ee_0050b6bf42a3row0_col24 {\n",
       "            background-color:  #fff7fb;\n",
       "            color:  #000000;\n",
       "        }    #T_94313201_0a41_11eb_b7ee_0050b6bf42a3row0_col25 {\n",
       "            background-color:  #fff7fb;\n",
       "            color:  #000000;\n",
       "        }    #T_94313201_0a41_11eb_b7ee_0050b6bf42a3row0_col26 {\n",
       "            background-color:  #f6eff7;\n",
       "            color:  #000000;\n",
       "        }    #T_94313201_0a41_11eb_b7ee_0050b6bf42a3row0_col27 {\n",
       "            background-color:  #dddbec;\n",
       "            color:  #000000;\n",
       "        }    #T_94313201_0a41_11eb_b7ee_0050b6bf42a3row1_col0 {\n",
       "            background-color:  #fff7fb;\n",
       "            color:  #000000;\n",
       "        }    #T_94313201_0a41_11eb_b7ee_0050b6bf42a3row1_col1 {\n",
       "            background-color:  #3991c1;\n",
       "            color:  #000000;\n",
       "        }    #T_94313201_0a41_11eb_b7ee_0050b6bf42a3row1_col2 {\n",
       "            background-color:  #fff7fb;\n",
       "            color:  #000000;\n",
       "        }    #T_94313201_0a41_11eb_b7ee_0050b6bf42a3row1_col3 {\n",
       "            background-color:  #fff7fb;\n",
       "            color:  #000000;\n",
       "        }    #T_94313201_0a41_11eb_b7ee_0050b6bf42a3row1_col4 {\n",
       "            background-color:  #023858;\n",
       "            color:  #f1f1f1;\n",
       "        }    #T_94313201_0a41_11eb_b7ee_0050b6bf42a3row1_col5 {\n",
       "            background-color:  #fff7fb;\n",
       "            color:  #000000;\n",
       "        }    #T_94313201_0a41_11eb_b7ee_0050b6bf42a3row1_col6 {\n",
       "            background-color:  #eee9f3;\n",
       "            color:  #000000;\n",
       "        }    #T_94313201_0a41_11eb_b7ee_0050b6bf42a3row1_col7 {\n",
       "            background-color:  #fbf4f9;\n",
       "            color:  #000000;\n",
       "        }    #T_94313201_0a41_11eb_b7ee_0050b6bf42a3row1_col8 {\n",
       "            background-color:  #fff7fb;\n",
       "            color:  #000000;\n",
       "        }    #T_94313201_0a41_11eb_b7ee_0050b6bf42a3row1_col9 {\n",
       "            background-color:  #fff7fb;\n",
       "            color:  #000000;\n",
       "        }    #T_94313201_0a41_11eb_b7ee_0050b6bf42a3row1_col10 {\n",
       "            background-color:  #fff7fb;\n",
       "            color:  #000000;\n",
       "        }    #T_94313201_0a41_11eb_b7ee_0050b6bf42a3row1_col11 {\n",
       "            background-color:  #f9f2f8;\n",
       "            color:  #000000;\n",
       "        }    #T_94313201_0a41_11eb_b7ee_0050b6bf42a3row1_col12 {\n",
       "            background-color:  #eee9f3;\n",
       "            color:  #000000;\n",
       "        }    #T_94313201_0a41_11eb_b7ee_0050b6bf42a3row1_col13 {\n",
       "            background-color:  #fff7fb;\n",
       "            color:  #000000;\n",
       "        }    #T_94313201_0a41_11eb_b7ee_0050b6bf42a3row1_col14 {\n",
       "            background-color:  #fff7fb;\n",
       "            color:  #000000;\n",
       "        }    #T_94313201_0a41_11eb_b7ee_0050b6bf42a3row1_col15 {\n",
       "            background-color:  #fff7fb;\n",
       "            color:  #000000;\n",
       "        }    #T_94313201_0a41_11eb_b7ee_0050b6bf42a3row1_col16 {\n",
       "            background-color:  #fff7fb;\n",
       "            color:  #000000;\n",
       "        }    #T_94313201_0a41_11eb_b7ee_0050b6bf42a3row1_col17 {\n",
       "            background-color:  #fff7fb;\n",
       "            color:  #000000;\n",
       "        }    #T_94313201_0a41_11eb_b7ee_0050b6bf42a3row1_col18 {\n",
       "            background-color:  #fff7fb;\n",
       "            color:  #000000;\n",
       "        }    #T_94313201_0a41_11eb_b7ee_0050b6bf42a3row1_col19 {\n",
       "            background-color:  #fdf5fa;\n",
       "            color:  #000000;\n",
       "        }    #T_94313201_0a41_11eb_b7ee_0050b6bf42a3row1_col20 {\n",
       "            background-color:  #3991c1;\n",
       "            color:  #000000;\n",
       "        }    #T_94313201_0a41_11eb_b7ee_0050b6bf42a3row1_col21 {\n",
       "            background-color:  #056caa;\n",
       "            color:  #f1f1f1;\n",
       "        }    #T_94313201_0a41_11eb_b7ee_0050b6bf42a3row1_col22 {\n",
       "            background-color:  #023858;\n",
       "            color:  #f1f1f1;\n",
       "        }    #T_94313201_0a41_11eb_b7ee_0050b6bf42a3row1_col23 {\n",
       "            background-color:  #fdf5fa;\n",
       "            color:  #000000;\n",
       "        }    #T_94313201_0a41_11eb_b7ee_0050b6bf42a3row1_col24 {\n",
       "            background-color:  #fef6fb;\n",
       "            color:  #000000;\n",
       "        }    #T_94313201_0a41_11eb_b7ee_0050b6bf42a3row1_col25 {\n",
       "            background-color:  #fbf3f9;\n",
       "            color:  #000000;\n",
       "        }    #T_94313201_0a41_11eb_b7ee_0050b6bf42a3row1_col26 {\n",
       "            background-color:  #fef6fa;\n",
       "            color:  #000000;\n",
       "        }    #T_94313201_0a41_11eb_b7ee_0050b6bf42a3row1_col27 {\n",
       "            background-color:  #023858;\n",
       "            color:  #f1f1f1;\n",
       "        }    #T_94313201_0a41_11eb_b7ee_0050b6bf42a3row2_col0 {\n",
       "            background-color:  #fff7fb;\n",
       "            color:  #000000;\n",
       "        }    #T_94313201_0a41_11eb_b7ee_0050b6bf42a3row2_col1 {\n",
       "            background-color:  #348ebf;\n",
       "            color:  #000000;\n",
       "        }    #T_94313201_0a41_11eb_b7ee_0050b6bf42a3row2_col2 {\n",
       "            background-color:  #fff7fb;\n",
       "            color:  #000000;\n",
       "        }    #T_94313201_0a41_11eb_b7ee_0050b6bf42a3row2_col3 {\n",
       "            background-color:  #fff7fb;\n",
       "            color:  #000000;\n",
       "        }    #T_94313201_0a41_11eb_b7ee_0050b6bf42a3row2_col4 {\n",
       "            background-color:  #2786bb;\n",
       "            color:  #000000;\n",
       "        }    #T_94313201_0a41_11eb_b7ee_0050b6bf42a3row2_col5 {\n",
       "            background-color:  #fff7fb;\n",
       "            color:  #000000;\n",
       "        }    #T_94313201_0a41_11eb_b7ee_0050b6bf42a3row2_col6 {\n",
       "            background-color:  #fff7fb;\n",
       "            color:  #000000;\n",
       "        }    #T_94313201_0a41_11eb_b7ee_0050b6bf42a3row2_col7 {\n",
       "            background-color:  #fff7fb;\n",
       "            color:  #000000;\n",
       "        }    #T_94313201_0a41_11eb_b7ee_0050b6bf42a3row2_col8 {\n",
       "            background-color:  #fff7fb;\n",
       "            color:  #000000;\n",
       "        }    #T_94313201_0a41_11eb_b7ee_0050b6bf42a3row2_col9 {\n",
       "            background-color:  #fff7fb;\n",
       "            color:  #000000;\n",
       "        }    #T_94313201_0a41_11eb_b7ee_0050b6bf42a3row2_col10 {\n",
       "            background-color:  #fff7fb;\n",
       "            color:  #000000;\n",
       "        }    #T_94313201_0a41_11eb_b7ee_0050b6bf42a3row2_col11 {\n",
       "            background-color:  #fef6fb;\n",
       "            color:  #000000;\n",
       "        }    #T_94313201_0a41_11eb_b7ee_0050b6bf42a3row2_col12 {\n",
       "            background-color:  #fef6fb;\n",
       "            color:  #000000;\n",
       "        }    #T_94313201_0a41_11eb_b7ee_0050b6bf42a3row2_col13 {\n",
       "            background-color:  #fff7fb;\n",
       "            color:  #000000;\n",
       "        }    #T_94313201_0a41_11eb_b7ee_0050b6bf42a3row2_col14 {\n",
       "            background-color:  #fff7fb;\n",
       "            color:  #000000;\n",
       "        }    #T_94313201_0a41_11eb_b7ee_0050b6bf42a3row2_col15 {\n",
       "            background-color:  #fff7fb;\n",
       "            color:  #000000;\n",
       "        }    #T_94313201_0a41_11eb_b7ee_0050b6bf42a3row2_col16 {\n",
       "            background-color:  #fff7fb;\n",
       "            color:  #000000;\n",
       "        }    #T_94313201_0a41_11eb_b7ee_0050b6bf42a3row2_col17 {\n",
       "            background-color:  #fff7fb;\n",
       "            color:  #000000;\n",
       "        }    #T_94313201_0a41_11eb_b7ee_0050b6bf42a3row2_col18 {\n",
       "            background-color:  #fff7fb;\n",
       "            color:  #000000;\n",
       "        }    #T_94313201_0a41_11eb_b7ee_0050b6bf42a3row2_col19 {\n",
       "            background-color:  #fff7fb;\n",
       "            color:  #000000;\n",
       "        }    #T_94313201_0a41_11eb_b7ee_0050b6bf42a3row2_col20 {\n",
       "            background-color:  #348ebf;\n",
       "            color:  #000000;\n",
       "        }    #T_94313201_0a41_11eb_b7ee_0050b6bf42a3row2_col21 {\n",
       "            background-color:  #fff7fb;\n",
       "            color:  #000000;\n",
       "        }    #T_94313201_0a41_11eb_b7ee_0050b6bf42a3row2_col22 {\n",
       "            background-color:  #7eadd1;\n",
       "            color:  #000000;\n",
       "        }    #T_94313201_0a41_11eb_b7ee_0050b6bf42a3row2_col23 {\n",
       "            background-color:  #fff7fb;\n",
       "            color:  #000000;\n",
       "        }    #T_94313201_0a41_11eb_b7ee_0050b6bf42a3row2_col24 {\n",
       "            background-color:  #fff7fb;\n",
       "            color:  #000000;\n",
       "        }    #T_94313201_0a41_11eb_b7ee_0050b6bf42a3row2_col25 {\n",
       "            background-color:  #fbf4f9;\n",
       "            color:  #000000;\n",
       "        }    #T_94313201_0a41_11eb_b7ee_0050b6bf42a3row2_col26 {\n",
       "            background-color:  #f6eff7;\n",
       "            color:  #000000;\n",
       "        }    #T_94313201_0a41_11eb_b7ee_0050b6bf42a3row2_col27 {\n",
       "            background-color:  #e9e5f1;\n",
       "            color:  #000000;\n",
       "        }    #T_94313201_0a41_11eb_b7ee_0050b6bf42a3row3_col0 {\n",
       "            background-color:  #fff7fb;\n",
       "            color:  #000000;\n",
       "        }    #T_94313201_0a41_11eb_b7ee_0050b6bf42a3row3_col1 {\n",
       "            background-color:  #3790c0;\n",
       "            color:  #000000;\n",
       "        }    #T_94313201_0a41_11eb_b7ee_0050b6bf42a3row3_col2 {\n",
       "            background-color:  #fff7fb;\n",
       "            color:  #000000;\n",
       "        }    #T_94313201_0a41_11eb_b7ee_0050b6bf42a3row3_col3 {\n",
       "            background-color:  #fff7fb;\n",
       "            color:  #000000;\n",
       "        }    #T_94313201_0a41_11eb_b7ee_0050b6bf42a3row3_col4 {\n",
       "            background-color:  #023858;\n",
       "            color:  #f1f1f1;\n",
       "        }    #T_94313201_0a41_11eb_b7ee_0050b6bf42a3row3_col5 {\n",
       "            background-color:  #fff7fb;\n",
       "            color:  #000000;\n",
       "        }    #T_94313201_0a41_11eb_b7ee_0050b6bf42a3row3_col6 {\n",
       "            background-color:  #e6e2ef;\n",
       "            color:  #000000;\n",
       "        }    #T_94313201_0a41_11eb_b7ee_0050b6bf42a3row3_col7 {\n",
       "            background-color:  #fbf4f9;\n",
       "            color:  #000000;\n",
       "        }    #T_94313201_0a41_11eb_b7ee_0050b6bf42a3row3_col8 {\n",
       "            background-color:  #fff7fb;\n",
       "            color:  #000000;\n",
       "        }    #T_94313201_0a41_11eb_b7ee_0050b6bf42a3row3_col9 {\n",
       "            background-color:  #fff7fb;\n",
       "            color:  #000000;\n",
       "        }    #T_94313201_0a41_11eb_b7ee_0050b6bf42a3row3_col10 {\n",
       "            background-color:  #fff7fb;\n",
       "            color:  #000000;\n",
       "        }    #T_94313201_0a41_11eb_b7ee_0050b6bf42a3row3_col11 {\n",
       "            background-color:  #f7f0f7;\n",
       "            color:  #000000;\n",
       "        }    #T_94313201_0a41_11eb_b7ee_0050b6bf42a3row3_col12 {\n",
       "            background-color:  #e6e2ef;\n",
       "            color:  #000000;\n",
       "        }    #T_94313201_0a41_11eb_b7ee_0050b6bf42a3row3_col13 {\n",
       "            background-color:  #fff7fb;\n",
       "            color:  #000000;\n",
       "        }    #T_94313201_0a41_11eb_b7ee_0050b6bf42a3row3_col14 {\n",
       "            background-color:  #fff7fb;\n",
       "            color:  #000000;\n",
       "        }    #T_94313201_0a41_11eb_b7ee_0050b6bf42a3row3_col15 {\n",
       "            background-color:  #fff7fb;\n",
       "            color:  #000000;\n",
       "        }    #T_94313201_0a41_11eb_b7ee_0050b6bf42a3row3_col16 {\n",
       "            background-color:  #fff7fb;\n",
       "            color:  #000000;\n",
       "        }    #T_94313201_0a41_11eb_b7ee_0050b6bf42a3row3_col17 {\n",
       "            background-color:  #fff7fb;\n",
       "            color:  #000000;\n",
       "        }    #T_94313201_0a41_11eb_b7ee_0050b6bf42a3row3_col18 {\n",
       "            background-color:  #fff7fb;\n",
       "            color:  #000000;\n",
       "        }    #T_94313201_0a41_11eb_b7ee_0050b6bf42a3row3_col19 {\n",
       "            background-color:  #fdf5fa;\n",
       "            color:  #000000;\n",
       "        }    #T_94313201_0a41_11eb_b7ee_0050b6bf42a3row3_col20 {\n",
       "            background-color:  #3790c0;\n",
       "            color:  #000000;\n",
       "        }    #T_94313201_0a41_11eb_b7ee_0050b6bf42a3row3_col21 {\n",
       "            background-color:  #0567a2;\n",
       "            color:  #f1f1f1;\n",
       "        }    #T_94313201_0a41_11eb_b7ee_0050b6bf42a3row3_col22 {\n",
       "            background-color:  #023858;\n",
       "            color:  #f1f1f1;\n",
       "        }    #T_94313201_0a41_11eb_b7ee_0050b6bf42a3row3_col23 {\n",
       "            background-color:  #fdf5fa;\n",
       "            color:  #000000;\n",
       "        }    #T_94313201_0a41_11eb_b7ee_0050b6bf42a3row3_col24 {\n",
       "            background-color:  #fef6fb;\n",
       "            color:  #000000;\n",
       "        }    #T_94313201_0a41_11eb_b7ee_0050b6bf42a3row3_col25 {\n",
       "            background-color:  #fbf3f9;\n",
       "            color:  #000000;\n",
       "        }    #T_94313201_0a41_11eb_b7ee_0050b6bf42a3row3_col26 {\n",
       "            background-color:  #fcf4fa;\n",
       "            color:  #000000;\n",
       "        }    #T_94313201_0a41_11eb_b7ee_0050b6bf42a3row3_col27 {\n",
       "            background-color:  #ede7f2;\n",
       "            color:  #000000;\n",
       "        }    #T_94313201_0a41_11eb_b7ee_0050b6bf42a3row4_col0 {\n",
       "            background-color:  #fff7fb;\n",
       "            color:  #000000;\n",
       "        }    #T_94313201_0a41_11eb_b7ee_0050b6bf42a3row4_col1 {\n",
       "            background-color:  #3790c0;\n",
       "            color:  #000000;\n",
       "        }    #T_94313201_0a41_11eb_b7ee_0050b6bf42a3row4_col2 {\n",
       "            background-color:  #fff7fb;\n",
       "            color:  #000000;\n",
       "        }    #T_94313201_0a41_11eb_b7ee_0050b6bf42a3row4_col3 {\n",
       "            background-color:  #fff7fb;\n",
       "            color:  #000000;\n",
       "        }    #T_94313201_0a41_11eb_b7ee_0050b6bf42a3row4_col4 {\n",
       "            background-color:  #fff7fb;\n",
       "            color:  #000000;\n",
       "        }    #T_94313201_0a41_11eb_b7ee_0050b6bf42a3row4_col5 {\n",
       "            background-color:  #fff7fb;\n",
       "            color:  #000000;\n",
       "        }    #T_94313201_0a41_11eb_b7ee_0050b6bf42a3row4_col6 {\n",
       "            background-color:  #fcf4fa;\n",
       "            color:  #000000;\n",
       "        }    #T_94313201_0a41_11eb_b7ee_0050b6bf42a3row4_col7 {\n",
       "            background-color:  #fff7fb;\n",
       "            color:  #000000;\n",
       "        }    #T_94313201_0a41_11eb_b7ee_0050b6bf42a3row4_col8 {\n",
       "            background-color:  #fff7fb;\n",
       "            color:  #000000;\n",
       "        }    #T_94313201_0a41_11eb_b7ee_0050b6bf42a3row4_col9 {\n",
       "            background-color:  #fff7fb;\n",
       "            color:  #000000;\n",
       "        }    #T_94313201_0a41_11eb_b7ee_0050b6bf42a3row4_col10 {\n",
       "            background-color:  #fff7fb;\n",
       "            color:  #000000;\n",
       "        }    #T_94313201_0a41_11eb_b7ee_0050b6bf42a3row4_col11 {\n",
       "            background-color:  #fff7fb;\n",
       "            color:  #000000;\n",
       "        }    #T_94313201_0a41_11eb_b7ee_0050b6bf42a3row4_col12 {\n",
       "            background-color:  #fcf4fa;\n",
       "            color:  #000000;\n",
       "        }    #T_94313201_0a41_11eb_b7ee_0050b6bf42a3row4_col13 {\n",
       "            background-color:  #fff7fb;\n",
       "            color:  #000000;\n",
       "        }    #T_94313201_0a41_11eb_b7ee_0050b6bf42a3row4_col14 {\n",
       "            background-color:  #fff7fb;\n",
       "            color:  #000000;\n",
       "        }    #T_94313201_0a41_11eb_b7ee_0050b6bf42a3row4_col15 {\n",
       "            background-color:  #fff7fb;\n",
       "            color:  #000000;\n",
       "        }    #T_94313201_0a41_11eb_b7ee_0050b6bf42a3row4_col16 {\n",
       "            background-color:  #fff7fb;\n",
       "            color:  #000000;\n",
       "        }    #T_94313201_0a41_11eb_b7ee_0050b6bf42a3row4_col17 {\n",
       "            background-color:  #fff7fb;\n",
       "            color:  #000000;\n",
       "        }    #T_94313201_0a41_11eb_b7ee_0050b6bf42a3row4_col18 {\n",
       "            background-color:  #fff7fb;\n",
       "            color:  #000000;\n",
       "        }    #T_94313201_0a41_11eb_b7ee_0050b6bf42a3row4_col19 {\n",
       "            background-color:  #fff7fb;\n",
       "            color:  #000000;\n",
       "        }    #T_94313201_0a41_11eb_b7ee_0050b6bf42a3row4_col20 {\n",
       "            background-color:  #3790c0;\n",
       "            color:  #000000;\n",
       "        }    #T_94313201_0a41_11eb_b7ee_0050b6bf42a3row4_col21 {\n",
       "            background-color:  #c6cce3;\n",
       "            color:  #000000;\n",
       "        }    #T_94313201_0a41_11eb_b7ee_0050b6bf42a3row4_col22 {\n",
       "            background-color:  #fff7fb;\n",
       "            color:  #000000;\n",
       "        }    #T_94313201_0a41_11eb_b7ee_0050b6bf42a3row4_col23 {\n",
       "            background-color:  #fff7fb;\n",
       "            color:  #000000;\n",
       "        }    #T_94313201_0a41_11eb_b7ee_0050b6bf42a3row4_col24 {\n",
       "            background-color:  #fff7fb;\n",
       "            color:  #000000;\n",
       "        }    #T_94313201_0a41_11eb_b7ee_0050b6bf42a3row4_col25 {\n",
       "            background-color:  #fcf4fa;\n",
       "            color:  #000000;\n",
       "        }    #T_94313201_0a41_11eb_b7ee_0050b6bf42a3row4_col26 {\n",
       "            background-color:  #d9d8ea;\n",
       "            color:  #000000;\n",
       "        }    #T_94313201_0a41_11eb_b7ee_0050b6bf42a3row4_col27 {\n",
       "            background-color:  #fff7fb;\n",
       "            color:  #000000;\n",
       "        }    #T_94313201_0a41_11eb_b7ee_0050b6bf42a3row5_col0 {\n",
       "            background-color:  #023858;\n",
       "            color:  #f1f1f1;\n",
       "        }    #T_94313201_0a41_11eb_b7ee_0050b6bf42a3row5_col1 {\n",
       "            background-color:  #3790c0;\n",
       "            color:  #000000;\n",
       "        }    #T_94313201_0a41_11eb_b7ee_0050b6bf42a3row5_col2 {\n",
       "            background-color:  #023858;\n",
       "            color:  #f1f1f1;\n",
       "        }    #T_94313201_0a41_11eb_b7ee_0050b6bf42a3row5_col3 {\n",
       "            background-color:  #023858;\n",
       "            color:  #f1f1f1;\n",
       "        }    #T_94313201_0a41_11eb_b7ee_0050b6bf42a3row5_col4 {\n",
       "            background-color:  #023858;\n",
       "            color:  #f1f1f1;\n",
       "        }    #T_94313201_0a41_11eb_b7ee_0050b6bf42a3row5_col5 {\n",
       "            background-color:  #023858;\n",
       "            color:  #f1f1f1;\n",
       "        }    #T_94313201_0a41_11eb_b7ee_0050b6bf42a3row5_col6 {\n",
       "            background-color:  #023858;\n",
       "            color:  #f1f1f1;\n",
       "        }    #T_94313201_0a41_11eb_b7ee_0050b6bf42a3row5_col7 {\n",
       "            background-color:  #023858;\n",
       "            color:  #f1f1f1;\n",
       "        }    #T_94313201_0a41_11eb_b7ee_0050b6bf42a3row5_col8 {\n",
       "            background-color:  #023858;\n",
       "            color:  #f1f1f1;\n",
       "        }    #T_94313201_0a41_11eb_b7ee_0050b6bf42a3row5_col9 {\n",
       "            background-color:  #023858;\n",
       "            color:  #f1f1f1;\n",
       "        }    #T_94313201_0a41_11eb_b7ee_0050b6bf42a3row5_col10 {\n",
       "            background-color:  #023858;\n",
       "            color:  #f1f1f1;\n",
       "        }    #T_94313201_0a41_11eb_b7ee_0050b6bf42a3row5_col11 {\n",
       "            background-color:  #023858;\n",
       "            color:  #f1f1f1;\n",
       "        }    #T_94313201_0a41_11eb_b7ee_0050b6bf42a3row5_col12 {\n",
       "            background-color:  #023858;\n",
       "            color:  #f1f1f1;\n",
       "        }    #T_94313201_0a41_11eb_b7ee_0050b6bf42a3row5_col13 {\n",
       "            background-color:  #023858;\n",
       "            color:  #f1f1f1;\n",
       "        }    #T_94313201_0a41_11eb_b7ee_0050b6bf42a3row5_col14 {\n",
       "            background-color:  #023858;\n",
       "            color:  #f1f1f1;\n",
       "        }    #T_94313201_0a41_11eb_b7ee_0050b6bf42a3row5_col15 {\n",
       "            background-color:  #023858;\n",
       "            color:  #f1f1f1;\n",
       "        }    #T_94313201_0a41_11eb_b7ee_0050b6bf42a3row5_col16 {\n",
       "            background-color:  #023858;\n",
       "            color:  #f1f1f1;\n",
       "        }    #T_94313201_0a41_11eb_b7ee_0050b6bf42a3row5_col17 {\n",
       "            background-color:  #023858;\n",
       "            color:  #f1f1f1;\n",
       "        }    #T_94313201_0a41_11eb_b7ee_0050b6bf42a3row5_col18 {\n",
       "            background-color:  #023858;\n",
       "            color:  #f1f1f1;\n",
       "        }    #T_94313201_0a41_11eb_b7ee_0050b6bf42a3row5_col19 {\n",
       "            background-color:  #023858;\n",
       "            color:  #f1f1f1;\n",
       "        }    #T_94313201_0a41_11eb_b7ee_0050b6bf42a3row5_col20 {\n",
       "            background-color:  #3790c0;\n",
       "            color:  #000000;\n",
       "        }    #T_94313201_0a41_11eb_b7ee_0050b6bf42a3row5_col21 {\n",
       "            background-color:  #056dac;\n",
       "            color:  #f1f1f1;\n",
       "        }    #T_94313201_0a41_11eb_b7ee_0050b6bf42a3row5_col22 {\n",
       "            background-color:  #023858;\n",
       "            color:  #f1f1f1;\n",
       "        }    #T_94313201_0a41_11eb_b7ee_0050b6bf42a3row5_col23 {\n",
       "            background-color:  #023858;\n",
       "            color:  #f1f1f1;\n",
       "        }    #T_94313201_0a41_11eb_b7ee_0050b6bf42a3row5_col24 {\n",
       "            background-color:  #023858;\n",
       "            color:  #f1f1f1;\n",
       "        }    #T_94313201_0a41_11eb_b7ee_0050b6bf42a3row5_col25 {\n",
       "            background-color:  #fbf4f9;\n",
       "            color:  #000000;\n",
       "        }    #T_94313201_0a41_11eb_b7ee_0050b6bf42a3row5_col26 {\n",
       "            background-color:  #fef6fa;\n",
       "            color:  #000000;\n",
       "        }    #T_94313201_0a41_11eb_b7ee_0050b6bf42a3row5_col27 {\n",
       "            background-color:  #9ab8d8;\n",
       "            color:  #000000;\n",
       "        }    #T_94313201_0a41_11eb_b7ee_0050b6bf42a3row6_col0 {\n",
       "            background-color:  #fff7fb;\n",
       "            color:  #000000;\n",
       "        }    #T_94313201_0a41_11eb_b7ee_0050b6bf42a3row6_col1 {\n",
       "            background-color:  #358fc0;\n",
       "            color:  #000000;\n",
       "        }    #T_94313201_0a41_11eb_b7ee_0050b6bf42a3row6_col2 {\n",
       "            background-color:  #fff7fb;\n",
       "            color:  #000000;\n",
       "        }    #T_94313201_0a41_11eb_b7ee_0050b6bf42a3row6_col3 {\n",
       "            background-color:  #fff7fb;\n",
       "            color:  #000000;\n",
       "        }    #T_94313201_0a41_11eb_b7ee_0050b6bf42a3row6_col4 {\n",
       "            background-color:  #023858;\n",
       "            color:  #f1f1f1;\n",
       "        }    #T_94313201_0a41_11eb_b7ee_0050b6bf42a3row6_col5 {\n",
       "            background-color:  #fff7fb;\n",
       "            color:  #000000;\n",
       "        }    #T_94313201_0a41_11eb_b7ee_0050b6bf42a3row6_col6 {\n",
       "            background-color:  #fdf5fa;\n",
       "            color:  #000000;\n",
       "        }    #T_94313201_0a41_11eb_b7ee_0050b6bf42a3row6_col7 {\n",
       "            background-color:  #fef6fb;\n",
       "            color:  #000000;\n",
       "        }    #T_94313201_0a41_11eb_b7ee_0050b6bf42a3row6_col8 {\n",
       "            background-color:  #fff7fb;\n",
       "            color:  #000000;\n",
       "        }    #T_94313201_0a41_11eb_b7ee_0050b6bf42a3row6_col9 {\n",
       "            background-color:  #fff7fb;\n",
       "            color:  #000000;\n",
       "        }    #T_94313201_0a41_11eb_b7ee_0050b6bf42a3row6_col10 {\n",
       "            background-color:  #fff7fb;\n",
       "            color:  #000000;\n",
       "        }    #T_94313201_0a41_11eb_b7ee_0050b6bf42a3row6_col11 {\n",
       "            background-color:  #f2ecf5;\n",
       "            color:  #000000;\n",
       "        }    #T_94313201_0a41_11eb_b7ee_0050b6bf42a3row6_col12 {\n",
       "            background-color:  #faf2f8;\n",
       "            color:  #000000;\n",
       "        }    #T_94313201_0a41_11eb_b7ee_0050b6bf42a3row6_col13 {\n",
       "            background-color:  #fff7fb;\n",
       "            color:  #000000;\n",
       "        }    #T_94313201_0a41_11eb_b7ee_0050b6bf42a3row6_col14 {\n",
       "            background-color:  #fff7fb;\n",
       "            color:  #000000;\n",
       "        }    #T_94313201_0a41_11eb_b7ee_0050b6bf42a3row6_col15 {\n",
       "            background-color:  #fff7fb;\n",
       "            color:  #000000;\n",
       "        }    #T_94313201_0a41_11eb_b7ee_0050b6bf42a3row6_col16 {\n",
       "            background-color:  #fff7fb;\n",
       "            color:  #000000;\n",
       "        }    #T_94313201_0a41_11eb_b7ee_0050b6bf42a3row6_col17 {\n",
       "            background-color:  #fff7fb;\n",
       "            color:  #000000;\n",
       "        }    #T_94313201_0a41_11eb_b7ee_0050b6bf42a3row6_col18 {\n",
       "            background-color:  #fff7fb;\n",
       "            color:  #000000;\n",
       "        }    #T_94313201_0a41_11eb_b7ee_0050b6bf42a3row6_col19 {\n",
       "            background-color:  #fef6fb;\n",
       "            color:  #000000;\n",
       "        }    #T_94313201_0a41_11eb_b7ee_0050b6bf42a3row6_col20 {\n",
       "            background-color:  #358fc0;\n",
       "            color:  #000000;\n",
       "        }    #T_94313201_0a41_11eb_b7ee_0050b6bf42a3row6_col21 {\n",
       "            background-color:  #1b7eb7;\n",
       "            color:  #000000;\n",
       "        }    #T_94313201_0a41_11eb_b7ee_0050b6bf42a3row6_col22 {\n",
       "            background-color:  #023858;\n",
       "            color:  #f1f1f1;\n",
       "        }    #T_94313201_0a41_11eb_b7ee_0050b6bf42a3row6_col23 {\n",
       "            background-color:  #fef6fb;\n",
       "            color:  #000000;\n",
       "        }    #T_94313201_0a41_11eb_b7ee_0050b6bf42a3row6_col24 {\n",
       "            background-color:  #fff7fb;\n",
       "            color:  #000000;\n",
       "        }    #T_94313201_0a41_11eb_b7ee_0050b6bf42a3row6_col25 {\n",
       "            background-color:  #023858;\n",
       "            color:  #f1f1f1;\n",
       "        }    #T_94313201_0a41_11eb_b7ee_0050b6bf42a3row6_col26 {\n",
       "            background-color:  #f8f1f8;\n",
       "            color:  #000000;\n",
       "        }    #T_94313201_0a41_11eb_b7ee_0050b6bf42a3row6_col27 {\n",
       "            background-color:  #f2ecf5;\n",
       "            color:  #000000;\n",
       "        }    #T_94313201_0a41_11eb_b7ee_0050b6bf42a3row7_col0 {\n",
       "            background-color:  #fff7fb;\n",
       "            color:  #000000;\n",
       "        }    #T_94313201_0a41_11eb_b7ee_0050b6bf42a3row7_col1 {\n",
       "            background-color:  #fff7fb;\n",
       "            color:  #000000;\n",
       "        }    #T_94313201_0a41_11eb_b7ee_0050b6bf42a3row7_col2 {\n",
       "            background-color:  #fff7fb;\n",
       "            color:  #000000;\n",
       "        }    #T_94313201_0a41_11eb_b7ee_0050b6bf42a3row7_col3 {\n",
       "            background-color:  #fff7fb;\n",
       "            color:  #000000;\n",
       "        }    #T_94313201_0a41_11eb_b7ee_0050b6bf42a3row7_col4 {\n",
       "            background-color:  #023858;\n",
       "            color:  #f1f1f1;\n",
       "        }    #T_94313201_0a41_11eb_b7ee_0050b6bf42a3row7_col5 {\n",
       "            background-color:  #fff7fb;\n",
       "            color:  #000000;\n",
       "        }    #T_94313201_0a41_11eb_b7ee_0050b6bf42a3row7_col6 {\n",
       "            background-color:  #e7e3f0;\n",
       "            color:  #000000;\n",
       "        }    #T_94313201_0a41_11eb_b7ee_0050b6bf42a3row7_col7 {\n",
       "            background-color:  #fcf4fa;\n",
       "            color:  #000000;\n",
       "        }    #T_94313201_0a41_11eb_b7ee_0050b6bf42a3row7_col8 {\n",
       "            background-color:  #fff7fb;\n",
       "            color:  #000000;\n",
       "        }    #T_94313201_0a41_11eb_b7ee_0050b6bf42a3row7_col9 {\n",
       "            background-color:  #fff7fb;\n",
       "            color:  #000000;\n",
       "        }    #T_94313201_0a41_11eb_b7ee_0050b6bf42a3row7_col10 {\n",
       "            background-color:  #fff7fb;\n",
       "            color:  #000000;\n",
       "        }    #T_94313201_0a41_11eb_b7ee_0050b6bf42a3row7_col11 {\n",
       "            background-color:  #f6eff7;\n",
       "            color:  #000000;\n",
       "        }    #T_94313201_0a41_11eb_b7ee_0050b6bf42a3row7_col12 {\n",
       "            background-color:  #e7e3f0;\n",
       "            color:  #000000;\n",
       "        }    #T_94313201_0a41_11eb_b7ee_0050b6bf42a3row7_col13 {\n",
       "            background-color:  #fff7fb;\n",
       "            color:  #000000;\n",
       "        }    #T_94313201_0a41_11eb_b7ee_0050b6bf42a3row7_col14 {\n",
       "            background-color:  #fff7fb;\n",
       "            color:  #000000;\n",
       "        }    #T_94313201_0a41_11eb_b7ee_0050b6bf42a3row7_col15 {\n",
       "            background-color:  #fff7fb;\n",
       "            color:  #000000;\n",
       "        }    #T_94313201_0a41_11eb_b7ee_0050b6bf42a3row7_col16 {\n",
       "            background-color:  #fff7fb;\n",
       "            color:  #000000;\n",
       "        }    #T_94313201_0a41_11eb_b7ee_0050b6bf42a3row7_col17 {\n",
       "            background-color:  #fff7fb;\n",
       "            color:  #000000;\n",
       "        }    #T_94313201_0a41_11eb_b7ee_0050b6bf42a3row7_col18 {\n",
       "            background-color:  #fff7fb;\n",
       "            color:  #000000;\n",
       "        }    #T_94313201_0a41_11eb_b7ee_0050b6bf42a3row7_col19 {\n",
       "            background-color:  #fef6fb;\n",
       "            color:  #000000;\n",
       "        }    #T_94313201_0a41_11eb_b7ee_0050b6bf42a3row7_col20 {\n",
       "            background-color:  #fff7fb;\n",
       "            color:  #000000;\n",
       "        }    #T_94313201_0a41_11eb_b7ee_0050b6bf42a3row7_col21 {\n",
       "            background-color:  #0567a2;\n",
       "            color:  #f1f1f1;\n",
       "        }    #T_94313201_0a41_11eb_b7ee_0050b6bf42a3row7_col22 {\n",
       "            background-color:  #023858;\n",
       "            color:  #f1f1f1;\n",
       "        }    #T_94313201_0a41_11eb_b7ee_0050b6bf42a3row7_col23 {\n",
       "            background-color:  #fcf4fa;\n",
       "            color:  #000000;\n",
       "        }    #T_94313201_0a41_11eb_b7ee_0050b6bf42a3row7_col24 {\n",
       "            background-color:  #fef6fb;\n",
       "            color:  #000000;\n",
       "        }    #T_94313201_0a41_11eb_b7ee_0050b6bf42a3row7_col25 {\n",
       "            background-color:  #fbf4f9;\n",
       "            color:  #000000;\n",
       "        }    #T_94313201_0a41_11eb_b7ee_0050b6bf42a3row7_col26 {\n",
       "            background-color:  #fef6fa;\n",
       "            color:  #000000;\n",
       "        }    #T_94313201_0a41_11eb_b7ee_0050b6bf42a3row7_col27 {\n",
       "            background-color:  #045788;\n",
       "            color:  #f1f1f1;\n",
       "        }    #T_94313201_0a41_11eb_b7ee_0050b6bf42a3row8_col0 {\n",
       "            background-color:  #fff7fb;\n",
       "            color:  #000000;\n",
       "        }    #T_94313201_0a41_11eb_b7ee_0050b6bf42a3row8_col1 {\n",
       "            background-color:  #358fc0;\n",
       "            color:  #000000;\n",
       "        }    #T_94313201_0a41_11eb_b7ee_0050b6bf42a3row8_col2 {\n",
       "            background-color:  #fff7fb;\n",
       "            color:  #000000;\n",
       "        }    #T_94313201_0a41_11eb_b7ee_0050b6bf42a3row8_col3 {\n",
       "            background-color:  #fff7fb;\n",
       "            color:  #000000;\n",
       "        }    #T_94313201_0a41_11eb_b7ee_0050b6bf42a3row8_col4 {\n",
       "            background-color:  #023858;\n",
       "            color:  #f1f1f1;\n",
       "        }    #T_94313201_0a41_11eb_b7ee_0050b6bf42a3row8_col5 {\n",
       "            background-color:  #fff7fb;\n",
       "            color:  #000000;\n",
       "        }    #T_94313201_0a41_11eb_b7ee_0050b6bf42a3row8_col6 {\n",
       "            background-color:  #e8e4f0;\n",
       "            color:  #000000;\n",
       "        }    #T_94313201_0a41_11eb_b7ee_0050b6bf42a3row8_col7 {\n",
       "            background-color:  #fbf4f9;\n",
       "            color:  #000000;\n",
       "        }    #T_94313201_0a41_11eb_b7ee_0050b6bf42a3row8_col8 {\n",
       "            background-color:  #fff7fb;\n",
       "            color:  #000000;\n",
       "        }    #T_94313201_0a41_11eb_b7ee_0050b6bf42a3row8_col9 {\n",
       "            background-color:  #fff7fb;\n",
       "            color:  #000000;\n",
       "        }    #T_94313201_0a41_11eb_b7ee_0050b6bf42a3row8_col10 {\n",
       "            background-color:  #fff7fb;\n",
       "            color:  #000000;\n",
       "        }    #T_94313201_0a41_11eb_b7ee_0050b6bf42a3row8_col11 {\n",
       "            background-color:  #f7f0f7;\n",
       "            color:  #000000;\n",
       "        }    #T_94313201_0a41_11eb_b7ee_0050b6bf42a3row8_col12 {\n",
       "            background-color:  #e8e4f0;\n",
       "            color:  #000000;\n",
       "        }    #T_94313201_0a41_11eb_b7ee_0050b6bf42a3row8_col13 {\n",
       "            background-color:  #fff7fb;\n",
       "            color:  #000000;\n",
       "        }    #T_94313201_0a41_11eb_b7ee_0050b6bf42a3row8_col14 {\n",
       "            background-color:  #fff7fb;\n",
       "            color:  #000000;\n",
       "        }    #T_94313201_0a41_11eb_b7ee_0050b6bf42a3row8_col15 {\n",
       "            background-color:  #fff7fb;\n",
       "            color:  #000000;\n",
       "        }    #T_94313201_0a41_11eb_b7ee_0050b6bf42a3row8_col16 {\n",
       "            background-color:  #fff7fb;\n",
       "            color:  #000000;\n",
       "        }    #T_94313201_0a41_11eb_b7ee_0050b6bf42a3row8_col17 {\n",
       "            background-color:  #fff7fb;\n",
       "            color:  #000000;\n",
       "        }    #T_94313201_0a41_11eb_b7ee_0050b6bf42a3row8_col18 {\n",
       "            background-color:  #fff7fb;\n",
       "            color:  #000000;\n",
       "        }    #T_94313201_0a41_11eb_b7ee_0050b6bf42a3row8_col19 {\n",
       "            background-color:  #fdf5fa;\n",
       "            color:  #000000;\n",
       "        }    #T_94313201_0a41_11eb_b7ee_0050b6bf42a3row8_col20 {\n",
       "            background-color:  #358fc0;\n",
       "            color:  #000000;\n",
       "        }    #T_94313201_0a41_11eb_b7ee_0050b6bf42a3row8_col21 {\n",
       "            background-color:  #056ead;\n",
       "            color:  #f1f1f1;\n",
       "        }    #T_94313201_0a41_11eb_b7ee_0050b6bf42a3row8_col22 {\n",
       "            background-color:  #023858;\n",
       "            color:  #f1f1f1;\n",
       "        }    #T_94313201_0a41_11eb_b7ee_0050b6bf42a3row8_col23 {\n",
       "            background-color:  #fdf5fa;\n",
       "            color:  #000000;\n",
       "        }    #T_94313201_0a41_11eb_b7ee_0050b6bf42a3row8_col24 {\n",
       "            background-color:  #fef6fb;\n",
       "            color:  #000000;\n",
       "        }    #T_94313201_0a41_11eb_b7ee_0050b6bf42a3row8_col25 {\n",
       "            background-color:  #fbf3f9;\n",
       "            color:  #000000;\n",
       "        }    #T_94313201_0a41_11eb_b7ee_0050b6bf42a3row8_col26 {\n",
       "            background-color:  #fef6fb;\n",
       "            color:  #000000;\n",
       "        }    #T_94313201_0a41_11eb_b7ee_0050b6bf42a3row8_col27 {\n",
       "            background-color:  #7dacd1;\n",
       "            color:  #000000;\n",
       "        }    #T_94313201_0a41_11eb_b7ee_0050b6bf42a3row9_col0 {\n",
       "            background-color:  #fff7fb;\n",
       "            color:  #000000;\n",
       "        }    #T_94313201_0a41_11eb_b7ee_0050b6bf42a3row9_col1 {\n",
       "            background-color:  #023858;\n",
       "            color:  #f1f1f1;\n",
       "        }    #T_94313201_0a41_11eb_b7ee_0050b6bf42a3row9_col2 {\n",
       "            background-color:  #fff7fb;\n",
       "            color:  #000000;\n",
       "        }    #T_94313201_0a41_11eb_b7ee_0050b6bf42a3row9_col3 {\n",
       "            background-color:  #fff7fb;\n",
       "            color:  #000000;\n",
       "        }    #T_94313201_0a41_11eb_b7ee_0050b6bf42a3row9_col4 {\n",
       "            background-color:  #023858;\n",
       "            color:  #f1f1f1;\n",
       "        }    #T_94313201_0a41_11eb_b7ee_0050b6bf42a3row9_col5 {\n",
       "            background-color:  #fff7fb;\n",
       "            color:  #000000;\n",
       "        }    #T_94313201_0a41_11eb_b7ee_0050b6bf42a3row9_col6 {\n",
       "            background-color:  #e2dfee;\n",
       "            color:  #000000;\n",
       "        }    #T_94313201_0a41_11eb_b7ee_0050b6bf42a3row9_col7 {\n",
       "            background-color:  #fbf4f9;\n",
       "            color:  #000000;\n",
       "        }    #T_94313201_0a41_11eb_b7ee_0050b6bf42a3row9_col8 {\n",
       "            background-color:  #fff7fb;\n",
       "            color:  #000000;\n",
       "        }    #T_94313201_0a41_11eb_b7ee_0050b6bf42a3row9_col9 {\n",
       "            background-color:  #fff7fb;\n",
       "            color:  #000000;\n",
       "        }    #T_94313201_0a41_11eb_b7ee_0050b6bf42a3row9_col10 {\n",
       "            background-color:  #fff7fb;\n",
       "            color:  #000000;\n",
       "        }    #T_94313201_0a41_11eb_b7ee_0050b6bf42a3row9_col11 {\n",
       "            background-color:  #faf3f9;\n",
       "            color:  #000000;\n",
       "        }    #T_94313201_0a41_11eb_b7ee_0050b6bf42a3row9_col12 {\n",
       "            background-color:  #e2dfee;\n",
       "            color:  #000000;\n",
       "        }    #T_94313201_0a41_11eb_b7ee_0050b6bf42a3row9_col13 {\n",
       "            background-color:  #fff7fb;\n",
       "            color:  #000000;\n",
       "        }    #T_94313201_0a41_11eb_b7ee_0050b6bf42a3row9_col14 {\n",
       "            background-color:  #fff7fb;\n",
       "            color:  #000000;\n",
       "        }    #T_94313201_0a41_11eb_b7ee_0050b6bf42a3row9_col15 {\n",
       "            background-color:  #fff7fb;\n",
       "            color:  #000000;\n",
       "        }    #T_94313201_0a41_11eb_b7ee_0050b6bf42a3row9_col16 {\n",
       "            background-color:  #fff7fb;\n",
       "            color:  #000000;\n",
       "        }    #T_94313201_0a41_11eb_b7ee_0050b6bf42a3row9_col17 {\n",
       "            background-color:  #fff7fb;\n",
       "            color:  #000000;\n",
       "        }    #T_94313201_0a41_11eb_b7ee_0050b6bf42a3row9_col18 {\n",
       "            background-color:  #fff7fb;\n",
       "            color:  #000000;\n",
       "        }    #T_94313201_0a41_11eb_b7ee_0050b6bf42a3row9_col19 {\n",
       "            background-color:  #fdf5fa;\n",
       "            color:  #000000;\n",
       "        }    #T_94313201_0a41_11eb_b7ee_0050b6bf42a3row9_col20 {\n",
       "            background-color:  #023858;\n",
       "            color:  #f1f1f1;\n",
       "        }    #T_94313201_0a41_11eb_b7ee_0050b6bf42a3row9_col21 {\n",
       "            background-color:  #045f95;\n",
       "            color:  #f1f1f1;\n",
       "        }    #T_94313201_0a41_11eb_b7ee_0050b6bf42a3row9_col22 {\n",
       "            background-color:  #023858;\n",
       "            color:  #f1f1f1;\n",
       "        }    #T_94313201_0a41_11eb_b7ee_0050b6bf42a3row9_col23 {\n",
       "            background-color:  #fdf5fa;\n",
       "            color:  #000000;\n",
       "        }    #T_94313201_0a41_11eb_b7ee_0050b6bf42a3row9_col24 {\n",
       "            background-color:  #fef6fb;\n",
       "            color:  #000000;\n",
       "        }    #T_94313201_0a41_11eb_b7ee_0050b6bf42a3row9_col25 {\n",
       "            background-color:  #fbf3f9;\n",
       "            color:  #000000;\n",
       "        }    #T_94313201_0a41_11eb_b7ee_0050b6bf42a3row9_col26 {\n",
       "            background-color:  #fff7fb;\n",
       "            color:  #000000;\n",
       "        }    #T_94313201_0a41_11eb_b7ee_0050b6bf42a3row9_col27 {\n",
       "            background-color:  #2c89bd;\n",
       "            color:  #000000;\n",
       "        }    #T_94313201_0a41_11eb_b7ee_0050b6bf42a3row10_col0 {\n",
       "            background-color:  #fff7fb;\n",
       "            color:  #000000;\n",
       "        }    #T_94313201_0a41_11eb_b7ee_0050b6bf42a3row10_col1 {\n",
       "            background-color:  #3790c0;\n",
       "            color:  #000000;\n",
       "        }    #T_94313201_0a41_11eb_b7ee_0050b6bf42a3row10_col2 {\n",
       "            background-color:  #fff7fb;\n",
       "            color:  #000000;\n",
       "        }    #T_94313201_0a41_11eb_b7ee_0050b6bf42a3row10_col3 {\n",
       "            background-color:  #fff7fb;\n",
       "            color:  #000000;\n",
       "        }    #T_94313201_0a41_11eb_b7ee_0050b6bf42a3row10_col4 {\n",
       "            background-color:  #023858;\n",
       "            color:  #f1f1f1;\n",
       "        }    #T_94313201_0a41_11eb_b7ee_0050b6bf42a3row10_col5 {\n",
       "            background-color:  #fff7fb;\n",
       "            color:  #000000;\n",
       "        }    #T_94313201_0a41_11eb_b7ee_0050b6bf42a3row10_col6 {\n",
       "            background-color:  #fff7fb;\n",
       "            color:  #000000;\n",
       "        }    #T_94313201_0a41_11eb_b7ee_0050b6bf42a3row10_col7 {\n",
       "            background-color:  #fff7fb;\n",
       "            color:  #000000;\n",
       "        }    #T_94313201_0a41_11eb_b7ee_0050b6bf42a3row10_col8 {\n",
       "            background-color:  #fff7fb;\n",
       "            color:  #000000;\n",
       "        }    #T_94313201_0a41_11eb_b7ee_0050b6bf42a3row10_col9 {\n",
       "            background-color:  #fff7fb;\n",
       "            color:  #000000;\n",
       "        }    #T_94313201_0a41_11eb_b7ee_0050b6bf42a3row10_col10 {\n",
       "            background-color:  #fff7fb;\n",
       "            color:  #000000;\n",
       "        }    #T_94313201_0a41_11eb_b7ee_0050b6bf42a3row10_col11 {\n",
       "            background-color:  #faf3f9;\n",
       "            color:  #000000;\n",
       "        }    #T_94313201_0a41_11eb_b7ee_0050b6bf42a3row10_col12 {\n",
       "            background-color:  #fff7fb;\n",
       "            color:  #000000;\n",
       "        }    #T_94313201_0a41_11eb_b7ee_0050b6bf42a3row10_col13 {\n",
       "            background-color:  #fff7fb;\n",
       "            color:  #000000;\n",
       "        }    #T_94313201_0a41_11eb_b7ee_0050b6bf42a3row10_col14 {\n",
       "            background-color:  #fff7fb;\n",
       "            color:  #000000;\n",
       "        }    #T_94313201_0a41_11eb_b7ee_0050b6bf42a3row10_col15 {\n",
       "            background-color:  #fff7fb;\n",
       "            color:  #000000;\n",
       "        }    #T_94313201_0a41_11eb_b7ee_0050b6bf42a3row10_col16 {\n",
       "            background-color:  #fff7fb;\n",
       "            color:  #000000;\n",
       "        }    #T_94313201_0a41_11eb_b7ee_0050b6bf42a3row10_col17 {\n",
       "            background-color:  #fff7fb;\n",
       "            color:  #000000;\n",
       "        }    #T_94313201_0a41_11eb_b7ee_0050b6bf42a3row10_col18 {\n",
       "            background-color:  #fff7fb;\n",
       "            color:  #000000;\n",
       "        }    #T_94313201_0a41_11eb_b7ee_0050b6bf42a3row10_col19 {\n",
       "            background-color:  #fef6fb;\n",
       "            color:  #000000;\n",
       "        }    #T_94313201_0a41_11eb_b7ee_0050b6bf42a3row10_col20 {\n",
       "            background-color:  #3790c0;\n",
       "            color:  #000000;\n",
       "        }    #T_94313201_0a41_11eb_b7ee_0050b6bf42a3row10_col21 {\n",
       "            background-color:  #023858;\n",
       "            color:  #f1f1f1;\n",
       "        }    #T_94313201_0a41_11eb_b7ee_0050b6bf42a3row10_col22 {\n",
       "            background-color:  #023858;\n",
       "            color:  #f1f1f1;\n",
       "        }    #T_94313201_0a41_11eb_b7ee_0050b6bf42a3row10_col23 {\n",
       "            background-color:  #fef6fb;\n",
       "            color:  #000000;\n",
       "        }    #T_94313201_0a41_11eb_b7ee_0050b6bf42a3row10_col24 {\n",
       "            background-color:  #fff7fb;\n",
       "            color:  #000000;\n",
       "        }    #T_94313201_0a41_11eb_b7ee_0050b6bf42a3row10_col25 {\n",
       "            background-color:  #fcf4fa;\n",
       "            color:  #000000;\n",
       "        }    #T_94313201_0a41_11eb_b7ee_0050b6bf42a3row10_col26 {\n",
       "            background-color:  #023858;\n",
       "            color:  #f1f1f1;\n",
       "        }    #T_94313201_0a41_11eb_b7ee_0050b6bf42a3row10_col27 {\n",
       "            background-color:  #4697c4;\n",
       "            color:  #000000;\n",
       "        }</style><table id=\"T_94313201_0a41_11eb_b7ee_0050b6bf42a3\" ><thead>    <tr>        <th class=\"blank level0\" ></th>        <th class=\"col_heading level0 col0\" >revenue</th>        <th class=\"col_heading level0 col1\" >pb</th>        <th class=\"col_heading level0 col2\" >debt</th>        <th class=\"col_heading level0 col3\" >assets</th>        <th class=\"col_heading level0 col4\" >netmargin</th>        <th class=\"col_heading level0 col5\" >ncfo</th>        <th class=\"col_heading level0 col6\" >shareswa</th>        <th class=\"col_heading level0 col7\" >sps</th>        <th class=\"col_heading level0 col8\" >opinc</th>        <th class=\"col_heading level0 col9\" >assetsc</th>        <th class=\"col_heading level0 col10\" >liabilitiesc</th>        <th class=\"col_heading level0 col11\" >price</th>        <th class=\"col_heading level0 col12\" >sharesbas</th>        <th class=\"col_heading level0 col13\" >equity</th>        <th class=\"col_heading level0 col14\" >receivables</th>        <th class=\"col_heading level0 col15\" >investmentsc</th>        <th class=\"col_heading level0 col16\" >cashneq</th>        <th class=\"col_heading level0 col17\" >assetsavg</th>        <th class=\"col_heading level0 col18\" >netinccmn</th>        <th class=\"col_heading level0 col19\" >fcfps</th>        <th class=\"col_heading level0 col20\" >PX_TO_BOOK_RATIO</th>        <th class=\"col_heading level0 col21\" >RETURN_ON_ASSET</th>        <th class=\"col_heading level0 col22\" >OPER_MARGIN</th>        <th class=\"col_heading level0 col23\" >CASH_FLOW_PER_SHARE</th>        <th class=\"col_heading level0 col24\" >REVENUE_PER_SHARE</th>        <th class=\"col_heading level0 col25\" >PX_FREE_CASH_FLOW</th>        <th class=\"col_heading level0 col26\" >quick_ratio</th>        <th class=\"col_heading level0 col27\" >TOT_DEBT_TO_TOTAL_ASSET</th>    </tr>    <tr>        <th class=\"index_name level0\" >label</th>        <th class=\"blank\" ></th>        <th class=\"blank\" ></th>        <th class=\"blank\" ></th>        <th class=\"blank\" ></th>        <th class=\"blank\" ></th>        <th class=\"blank\" ></th>        <th class=\"blank\" ></th>        <th class=\"blank\" ></th>        <th class=\"blank\" ></th>        <th class=\"blank\" ></th>        <th class=\"blank\" ></th>        <th class=\"blank\" ></th>        <th class=\"blank\" ></th>        <th class=\"blank\" ></th>        <th class=\"blank\" ></th>        <th class=\"blank\" ></th>        <th class=\"blank\" ></th>        <th class=\"blank\" ></th>        <th class=\"blank\" ></th>        <th class=\"blank\" ></th>        <th class=\"blank\" ></th>        <th class=\"blank\" ></th>        <th class=\"blank\" ></th>        <th class=\"blank\" ></th>        <th class=\"blank\" ></th>        <th class=\"blank\" ></th>        <th class=\"blank\" ></th>        <th class=\"blank\" ></th>    </tr></thead><tbody>\n",
       "                <tr>\n",
       "                        <th id=\"T_94313201_0a41_11eb_b7ee_0050b6bf42a3level0_row0\" class=\"row_heading level0 row0\" >0</th>\n",
       "                        <td id=\"T_94313201_0a41_11eb_b7ee_0050b6bf42a3row0_col0\" class=\"data row0 col0\" >168243290.289062</td>\n",
       "                        <td id=\"T_94313201_0a41_11eb_b7ee_0050b6bf42a3row0_col1\" class=\"data row0 col1\" >8.268469</td>\n",
       "                        <td id=\"T_94313201_0a41_11eb_b7ee_0050b6bf42a3row0_col2\" class=\"data row0 col2\" >276931015.695312</td>\n",
       "                        <td id=\"T_94313201_0a41_11eb_b7ee_0050b6bf42a3row0_col3\" class=\"data row0 col3\" >1375836673.937500</td>\n",
       "                        <td id=\"T_94313201_0a41_11eb_b7ee_0050b6bf42a3row0_col4\" class=\"data row0 col4\" >-12.812664</td>\n",
       "                        <td id=\"T_94313201_0a41_11eb_b7ee_0050b6bf42a3row0_col5\" class=\"data row0 col5\" >-37447410.351562</td>\n",
       "                        <td id=\"T_94313201_0a41_11eb_b7ee_0050b6bf42a3row0_col6\" class=\"data row0 col6\" >127704721.804688</td>\n",
       "                        <td id=\"T_94313201_0a41_11eb_b7ee_0050b6bf42a3row0_col7\" class=\"data row0 col7\" >1.129648</td>\n",
       "                        <td id=\"T_94313201_0a41_11eb_b7ee_0050b6bf42a3row0_col8\" class=\"data row0 col8\" >-76241488.171875</td>\n",
       "                        <td id=\"T_94313201_0a41_11eb_b7ee_0050b6bf42a3row0_col9\" class=\"data row0 col9\" >753129996.375000</td>\n",
       "                        <td id=\"T_94313201_0a41_11eb_b7ee_0050b6bf42a3row0_col10\" class=\"data row0 col10\" >262541081.804688</td>\n",
       "                        <td id=\"T_94313201_0a41_11eb_b7ee_0050b6bf42a3row0_col11\" class=\"data row0 col11\" >36.355664</td>\n",
       "                        <td id=\"T_94313201_0a41_11eb_b7ee_0050b6bf42a3row0_col12\" class=\"data row0 col12\" >138877147.289062</td>\n",
       "                        <td id=\"T_94313201_0a41_11eb_b7ee_0050b6bf42a3row0_col13\" class=\"data row0 col13\" >727031524.421875</td>\n",
       "                        <td id=\"T_94313201_0a41_11eb_b7ee_0050b6bf42a3row0_col14\" class=\"data row0 col14\" >94793335.203125</td>\n",
       "                        <td id=\"T_94313201_0a41_11eb_b7ee_0050b6bf42a3row0_col15\" class=\"data row0 col15\" >224045614.062500</td>\n",
       "                        <td id=\"T_94313201_0a41_11eb_b7ee_0050b6bf42a3row0_col16\" class=\"data row0 col16\" >345693609.359375</td>\n",
       "                        <td id=\"T_94313201_0a41_11eb_b7ee_0050b6bf42a3row0_col17\" class=\"data row0 col17\" >1348608262.328125</td>\n",
       "                        <td id=\"T_94313201_0a41_11eb_b7ee_0050b6bf42a3row0_col18\" class=\"data row0 col18\" >-417072659.734375</td>\n",
       "                        <td id=\"T_94313201_0a41_11eb_b7ee_0050b6bf42a3row0_col19\" class=\"data row0 col19\" >-1.940750</td>\n",
       "                        <td id=\"T_94313201_0a41_11eb_b7ee_0050b6bf42a3row0_col20\" class=\"data row0 col20\" >8.268469</td>\n",
       "                        <td id=\"T_94313201_0a41_11eb_b7ee_0050b6bf42a3row0_col21\" class=\"data row0 col21\" >-0.336152</td>\n",
       "                        <td id=\"T_94313201_0a41_11eb_b7ee_0050b6bf42a3row0_col22\" class=\"data row0 col22\" >-12.543143</td>\n",
       "                        <td id=\"T_94313201_0a41_11eb_b7ee_0050b6bf42a3row0_col23\" class=\"data row0 col23\" >-0.408690</td>\n",
       "                        <td id=\"T_94313201_0a41_11eb_b7ee_0050b6bf42a3row0_col24\" class=\"data row0 col24\" >1.036654</td>\n",
       "                        <td id=\"T_94313201_0a41_11eb_b7ee_0050b6bf42a3row0_col25\" class=\"data row0 col25\" >-121.343902</td>\n",
       "                        <td id=\"T_94313201_0a41_11eb_b7ee_0050b6bf42a3row0_col26\" class=\"data row0 col26\" >4.891588</td>\n",
       "                        <td id=\"T_94313201_0a41_11eb_b7ee_0050b6bf42a3row0_col27\" class=\"data row0 col27\" >0.182376</td>\n",
       "            </tr>\n",
       "            <tr>\n",
       "                        <th id=\"T_94313201_0a41_11eb_b7ee_0050b6bf42a3level0_row1\" class=\"row_heading level0 row1\" >1</th>\n",
       "                        <td id=\"T_94313201_0a41_11eb_b7ee_0050b6bf42a3row1_col0\" class=\"data row1 col0\" >1981948060.045455</td>\n",
       "                        <td id=\"T_94313201_0a41_11eb_b7ee_0050b6bf42a3row1_col1\" class=\"data row1 col1\" >-4.953558</td>\n",
       "                        <td id=\"T_94313201_0a41_11eb_b7ee_0050b6bf42a3row1_col2\" class=\"data row1 col2\" >7973072795.772727</td>\n",
       "                        <td id=\"T_94313201_0a41_11eb_b7ee_0050b6bf42a3row1_col3\" class=\"data row1 col3\" >11453846069.435064</td>\n",
       "                        <td id=\"T_94313201_0a41_11eb_b7ee_0050b6bf42a3row1_col4\" class=\"data row1 col4\" >0.044221</td>\n",
       "                        <td id=\"T_94313201_0a41_11eb_b7ee_0050b6bf42a3row1_col5\" class=\"data row1 col5\" >283383143.766234</td>\n",
       "                        <td id=\"T_94313201_0a41_11eb_b7ee_0050b6bf42a3row1_col6\" class=\"data row1 col6\" >239182674.590909</td>\n",
       "                        <td id=\"T_94313201_0a41_11eb_b7ee_0050b6bf42a3row1_col7\" class=\"data row1 col7\" >13.663435</td>\n",
       "                        <td id=\"T_94313201_0a41_11eb_b7ee_0050b6bf42a3row1_col8\" class=\"data row1 col8\" >176016157.649351</td>\n",
       "                        <td id=\"T_94313201_0a41_11eb_b7ee_0050b6bf42a3row1_col9\" class=\"data row1 col9\" >2923296894.961039</td>\n",
       "                        <td id=\"T_94313201_0a41_11eb_b7ee_0050b6bf42a3row1_col10\" class=\"data row1 col10\" >2428582189.519481</td>\n",
       "                        <td id=\"T_94313201_0a41_11eb_b7ee_0050b6bf42a3row1_col11\" class=\"data row1 col11\" >72.711429</td>\n",
       "                        <td id=\"T_94313201_0a41_11eb_b7ee_0050b6bf42a3row1_col12\" class=\"data row1 col12\" >242760432.000000</td>\n",
       "                        <td id=\"T_94313201_0a41_11eb_b7ee_0050b6bf42a3row1_col13\" class=\"data row1 col13\" >421903680.551948</td>\n",
       "                        <td id=\"T_94313201_0a41_11eb_b7ee_0050b6bf42a3row1_col14\" class=\"data row1 col14\" >1417899118.376623</td>\n",
       "                        <td id=\"T_94313201_0a41_11eb_b7ee_0050b6bf42a3row1_col15\" class=\"data row1 col15\" >185042077.922078</td>\n",
       "                        <td id=\"T_94313201_0a41_11eb_b7ee_0050b6bf42a3row1_col16\" class=\"data row1 col16\" >889067442.428571</td>\n",
       "                        <td id=\"T_94313201_0a41_11eb_b7ee_0050b6bf42a3row1_col17\" class=\"data row1 col17\" >11078663517.233767</td>\n",
       "                        <td id=\"T_94313201_0a41_11eb_b7ee_0050b6bf42a3row1_col18\" class=\"data row1 col18\" >504306766.915584</td>\n",
       "                        <td id=\"T_94313201_0a41_11eb_b7ee_0050b6bf42a3row1_col19\" class=\"data row1 col19\" >3.490221</td>\n",
       "                        <td id=\"T_94313201_0a41_11eb_b7ee_0050b6bf42a3row1_col20\" class=\"data row1 col20\" >-4.953558</td>\n",
       "                        <td id=\"T_94313201_0a41_11eb_b7ee_0050b6bf42a3row1_col21\" class=\"data row1 col21\" >0.049987</td>\n",
       "                        <td id=\"T_94313201_0a41_11eb_b7ee_0050b6bf42a3row1_col22\" class=\"data row1 col22\" >0.109239</td>\n",
       "                        <td id=\"T_94313201_0a41_11eb_b7ee_0050b6bf42a3row1_col23\" class=\"data row1 col23\" >1.515893</td>\n",
       "                        <td id=\"T_94313201_0a41_11eb_b7ee_0050b6bf42a3row1_col24\" class=\"data row1 col24\" >13.474921</td>\n",
       "                        <td id=\"T_94313201_0a41_11eb_b7ee_0050b6bf42a3row1_col25\" class=\"data row1 col25\" >21.306911</td>\n",
       "                        <td id=\"T_94313201_0a41_11eb_b7ee_0050b6bf42a3row1_col26\" class=\"data row1 col26\" >1.308990</td>\n",
       "                        <td id=\"T_94313201_0a41_11eb_b7ee_0050b6bf42a3row1_col27\" class=\"data row1 col27\" >0.778309</td>\n",
       "            </tr>\n",
       "            <tr>\n",
       "                        <th id=\"T_94313201_0a41_11eb_b7ee_0050b6bf42a3level0_row2\" class=\"row_heading level0 row2\" >10</th>\n",
       "                        <td id=\"T_94313201_0a41_11eb_b7ee_0050b6bf42a3row2_col0\" class=\"data row2 col0\" >62537.666667</td>\n",
       "                        <td id=\"T_94313201_0a41_11eb_b7ee_0050b6bf42a3row2_col1\" class=\"data row2 col1\" >13.863000</td>\n",
       "                        <td id=\"T_94313201_0a41_11eb_b7ee_0050b6bf42a3row2_col2\" class=\"data row2 col2\" >30556873.666667</td>\n",
       "                        <td id=\"T_94313201_0a41_11eb_b7ee_0050b6bf42a3row2_col3\" class=\"data row2 col3\" >251495825.333333</td>\n",
       "                        <td id=\"T_94313201_0a41_11eb_b7ee_0050b6bf42a3row2_col4\" class=\"data row2 col4\" >-740.063000</td>\n",
       "                        <td id=\"T_94313201_0a41_11eb_b7ee_0050b6bf42a3row2_col5\" class=\"data row2 col5\" >-32985638.666667</td>\n",
       "                        <td id=\"T_94313201_0a41_11eb_b7ee_0050b6bf42a3row2_col6\" class=\"data row2 col6\" >65555757.000000</td>\n",
       "                        <td id=\"T_94313201_0a41_11eb_b7ee_0050b6bf42a3row2_col7\" class=\"data row2 col7\" >0.001000</td>\n",
       "                        <td id=\"T_94313201_0a41_11eb_b7ee_0050b6bf42a3row2_col8\" class=\"data row2 col8\" >-41966553.000000</td>\n",
       "                        <td id=\"T_94313201_0a41_11eb_b7ee_0050b6bf42a3row2_col9\" class=\"data row2 col9\" >225358989.666667</td>\n",
       "                        <td id=\"T_94313201_0a41_11eb_b7ee_0050b6bf42a3row2_col10\" class=\"data row2 col10\" >53884006.333333</td>\n",
       "                        <td id=\"T_94313201_0a41_11eb_b7ee_0050b6bf42a3row2_col11\" class=\"data row2 col11\" >20.546667</td>\n",
       "                        <td id=\"T_94313201_0a41_11eb_b7ee_0050b6bf42a3row2_col12\" class=\"data row2 col12\" >66643607.000000</td>\n",
       "                        <td id=\"T_94313201_0a41_11eb_b7ee_0050b6bf42a3row2_col13\" class=\"data row2 col13\" >153037423.666667</td>\n",
       "                        <td id=\"T_94313201_0a41_11eb_b7ee_0050b6bf42a3row2_col14\" class=\"data row2 col14\" >0.000000</td>\n",
       "                        <td id=\"T_94313201_0a41_11eb_b7ee_0050b6bf42a3row2_col15\" class=\"data row2 col15\" >87708778.333333</td>\n",
       "                        <td id=\"T_94313201_0a41_11eb_b7ee_0050b6bf42a3row2_col16\" class=\"data row2 col16\" >131138283.000000</td>\n",
       "                        <td id=\"T_94313201_0a41_11eb_b7ee_0050b6bf42a3row2_col17\" class=\"data row2 col17\" >240956244.666667</td>\n",
       "                        <td id=\"T_94313201_0a41_11eb_b7ee_0050b6bf42a3row2_col18\" class=\"data row2 col18\" >-160007392.666667</td>\n",
       "                        <td id=\"T_94313201_0a41_11eb_b7ee_0050b6bf42a3row2_col19\" class=\"data row2 col19\" >-2.117667</td>\n",
       "                        <td id=\"T_94313201_0a41_11eb_b7ee_0050b6bf42a3row2_col20\" class=\"data row2 col20\" >13.863000</td>\n",
       "                        <td id=\"T_94313201_0a41_11eb_b7ee_0050b6bf42a3row2_col21\" class=\"data row2 col21\" >-0.819331</td>\n",
       "                        <td id=\"T_94313201_0a41_11eb_b7ee_0050b6bf42a3row2_col22\" class=\"data row2 col22\" >-735.613900</td>\n",
       "                        <td id=\"T_94313201_0a41_11eb_b7ee_0050b6bf42a3row2_col23\" class=\"data row2 col23\" >-0.560824</td>\n",
       "                        <td id=\"T_94313201_0a41_11eb_b7ee_0050b6bf42a3row2_col24\" class=\"data row2 col24\" >0.001151</td>\n",
       "                        <td id=\"T_94313201_0a41_11eb_b7ee_0050b6bf42a3row2_col25\" class=\"data row2 col25\" >-9.513722</td>\n",
       "                        <td id=\"T_94313201_0a41_11eb_b7ee_0050b6bf42a3row2_col26\" class=\"data row2 col26\" >4.986403</td>\n",
       "                        <td id=\"T_94313201_0a41_11eb_b7ee_0050b6bf42a3row2_col27\" class=\"data row2 col27\" >0.139584</td>\n",
       "            </tr>\n",
       "            <tr>\n",
       "                        <th id=\"T_94313201_0a41_11eb_b7ee_0050b6bf42a3level0_row3\" class=\"row_heading level0 row3\" >2</th>\n",
       "                        <td id=\"T_94313201_0a41_11eb_b7ee_0050b6bf42a3row3_col0\" class=\"data row3 col0\" >3364558375.956236</td>\n",
       "                        <td id=\"T_94313201_0a41_11eb_b7ee_0050b6bf42a3row3_col1\" class=\"data row3 col1\" >5.183481</td>\n",
       "                        <td id=\"T_94313201_0a41_11eb_b7ee_0050b6bf42a3row3_col2\" class=\"data row3 col2\" >2215459599.345733</td>\n",
       "                        <td id=\"T_94313201_0a41_11eb_b7ee_0050b6bf42a3row3_col3\" class=\"data row3 col3\" >16213267779.702408</td>\n",
       "                        <td id=\"T_94313201_0a41_11eb_b7ee_0050b6bf42a3row3_col4\" class=\"data row3 col4\" >0.074495</td>\n",
       "                        <td id=\"T_94313201_0a41_11eb_b7ee_0050b6bf42a3row3_col5\" class=\"data row3 col5\" >669053533.708972</td>\n",
       "                        <td id=\"T_94313201_0a41_11eb_b7ee_0050b6bf42a3row3_col6\" class=\"data row3 col6\" >308653734.969365</td>\n",
       "                        <td id=\"T_94313201_0a41_11eb_b7ee_0050b6bf42a3row3_col7\" class=\"data row3 col7\" >13.234993</td>\n",
       "                        <td id=\"T_94313201_0a41_11eb_b7ee_0050b6bf42a3row3_col8\" class=\"data row3 col8\" >375471829.752735</td>\n",
       "                        <td id=\"T_94313201_0a41_11eb_b7ee_0050b6bf42a3row3_col9\" class=\"data row3 col9\" >6540864456.590810</td>\n",
       "                        <td id=\"T_94313201_0a41_11eb_b7ee_0050b6bf42a3row3_col10\" class=\"data row3 col10\" >4230217259.866521</td>\n",
       "                        <td id=\"T_94313201_0a41_11eb_b7ee_0050b6bf42a3row3_col11\" class=\"data row3 col11\" >95.297805</td>\n",
       "                        <td id=\"T_94313201_0a41_11eb_b7ee_0050b6bf42a3row3_col12\" class=\"data row3 col12\" >309895904.350109</td>\n",
       "                        <td id=\"T_94313201_0a41_11eb_b7ee_0050b6bf42a3row3_col13\" class=\"data row3 col13\" >7976218827.665208</td>\n",
       "                        <td id=\"T_94313201_0a41_11eb_b7ee_0050b6bf42a3row3_col14\" class=\"data row3 col14\" >1350846689.409190</td>\n",
       "                        <td id=\"T_94313201_0a41_11eb_b7ee_0050b6bf42a3row3_col15\" class=\"data row3 col15\" >1026987348.323851</td>\n",
       "                        <td id=\"T_94313201_0a41_11eb_b7ee_0050b6bf42a3row3_col16\" class=\"data row3 col16\" >2350398816.991247</td>\n",
       "                        <td id=\"T_94313201_0a41_11eb_b7ee_0050b6bf42a3row3_col17\" class=\"data row3 col17\" >15277623356.466084</td>\n",
       "                        <td id=\"T_94313201_0a41_11eb_b7ee_0050b6bf42a3row3_col18\" class=\"data row3 col18\" >1446553491.365427</td>\n",
       "                        <td id=\"T_94313201_0a41_11eb_b7ee_0050b6bf42a3row3_col19\" class=\"data row3 col19\" >3.996652</td>\n",
       "                        <td id=\"T_94313201_0a41_11eb_b7ee_0050b6bf42a3row3_col20\" class=\"data row3 col20\" >5.183481</td>\n",
       "                        <td id=\"T_94313201_0a41_11eb_b7ee_0050b6bf42a3row3_col21\" class=\"data row3 col21\" >0.080462</td>\n",
       "                        <td id=\"T_94313201_0a41_11eb_b7ee_0050b6bf42a3row3_col22\" class=\"data row3 col22\" >-0.050721</td>\n",
       "                        <td id=\"T_94313201_0a41_11eb_b7ee_0050b6bf42a3row3_col23\" class=\"data row3 col23\" >1.711933</td>\n",
       "                        <td id=\"T_94313201_0a41_11eb_b7ee_0050b6bf42a3row3_col24\" class=\"data row3 col24\" >13.619430</td>\n",
       "                        <td id=\"T_94313201_0a41_11eb_b7ee_0050b6bf42a3row3_col25\" class=\"data row3 col25\" >15.858796</td>\n",
       "                        <td id=\"T_94313201_0a41_11eb_b7ee_0050b6bf42a3row3_col26\" class=\"data row3 col26\" >2.245269</td>\n",
       "                        <td id=\"T_94313201_0a41_11eb_b7ee_0050b6bf42a3row3_col27\" class=\"data row3 col27\" >0.128991</td>\n",
       "            </tr>\n",
       "            <tr>\n",
       "                        <th id=\"T_94313201_0a41_11eb_b7ee_0050b6bf42a3level0_row4\" class=\"row_heading level0 row4\" >3</th>\n",
       "                        <td id=\"T_94313201_0a41_11eb_b7ee_0050b6bf42a3row4_col0\" class=\"data row4 col0\" >19000.000000</td>\n",
       "                        <td id=\"T_94313201_0a41_11eb_b7ee_0050b6bf42a3row4_col1\" class=\"data row4 col1\" >4.711000</td>\n",
       "                        <td id=\"T_94313201_0a41_11eb_b7ee_0050b6bf42a3row4_col2\" class=\"data row4 col2\" >5442500.000000</td>\n",
       "                        <td id=\"T_94313201_0a41_11eb_b7ee_0050b6bf42a3row4_col3\" class=\"data row4 col3\" >234903000.000000</td>\n",
       "                        <td id=\"T_94313201_0a41_11eb_b7ee_0050b6bf42a3row4_col4\" class=\"data row4 col4\" >-2187.565000</td>\n",
       "                        <td id=\"T_94313201_0a41_11eb_b7ee_0050b6bf42a3row4_col5\" class=\"data row4 col5\" >-20082000.000000</td>\n",
       "                        <td id=\"T_94313201_0a41_11eb_b7ee_0050b6bf42a3row4_col6\" class=\"data row4 col6\" >91982822.000000</td>\n",
       "                        <td id=\"T_94313201_0a41_11eb_b7ee_0050b6bf42a3row4_col7\" class=\"data row4 col7\" >0.000000</td>\n",
       "                        <td id=\"T_94313201_0a41_11eb_b7ee_0050b6bf42a3row4_col8\" class=\"data row4 col8\" >-22641000.000000</td>\n",
       "                        <td id=\"T_94313201_0a41_11eb_b7ee_0050b6bf42a3row4_col9\" class=\"data row4 col9\" >185447000.000000</td>\n",
       "                        <td id=\"T_94313201_0a41_11eb_b7ee_0050b6bf42a3row4_col10\" class=\"data row4 col10\" >11427000.000000</td>\n",
       "                        <td id=\"T_94313201_0a41_11eb_b7ee_0050b6bf42a3row4_col11\" class=\"data row4 col11\" >12.025000</td>\n",
       "                        <td id=\"T_94313201_0a41_11eb_b7ee_0050b6bf42a3row4_col12\" class=\"data row4 col12\" >91933706.000000</td>\n",
       "                        <td id=\"T_94313201_0a41_11eb_b7ee_0050b6bf42a3row4_col13\" class=\"data row4 col13\" >197097500.000000</td>\n",
       "                        <td id=\"T_94313201_0a41_11eb_b7ee_0050b6bf42a3row4_col14\" class=\"data row4 col14\" >184000.000000</td>\n",
       "                        <td id=\"T_94313201_0a41_11eb_b7ee_0050b6bf42a3row4_col15\" class=\"data row4 col15\" >18072000.000000</td>\n",
       "                        <td id=\"T_94313201_0a41_11eb_b7ee_0050b6bf42a3row4_col16\" class=\"data row4 col16\" >160763500.000000</td>\n",
       "                        <td id=\"T_94313201_0a41_11eb_b7ee_0050b6bf42a3row4_col17\" class=\"data row4 col17\" >185069000.000000</td>\n",
       "                        <td id=\"T_94313201_0a41_11eb_b7ee_0050b6bf42a3row4_col18\" class=\"data row4 col18\" >-94817500.000000</td>\n",
       "                        <td id=\"T_94313201_0a41_11eb_b7ee_0050b6bf42a3row4_col19\" class=\"data row4 col19\" >-0.719500</td>\n",
       "                        <td id=\"T_94313201_0a41_11eb_b7ee_0050b6bf42a3row4_col20\" class=\"data row4 col20\" >4.711000</td>\n",
       "                        <td id=\"T_94313201_0a41_11eb_b7ee_0050b6bf42a3row4_col21\" class=\"data row4 col21\" >-0.503689</td>\n",
       "                        <td id=\"T_94313201_0a41_11eb_b7ee_0050b6bf42a3row4_col22\" class=\"data row4 col22\" >-1398.003831</td>\n",
       "                        <td id=\"T_94313201_0a41_11eb_b7ee_0050b6bf42a3row4_col23\" class=\"data row4 col23\" >-0.223490</td>\n",
       "                        <td id=\"T_94313201_0a41_11eb_b7ee_0050b6bf42a3row4_col24\" class=\"data row4 col24\" >0.000215</td>\n",
       "                        <td id=\"T_94313201_0a41_11eb_b7ee_0050b6bf42a3row4_col25\" class=\"data row4 col25\" >-16.356618</td>\n",
       "                        <td id=\"T_94313201_0a41_11eb_b7ee_0050b6bf42a3row4_col26\" class=\"data row4 col26\" >15.797225</td>\n",
       "                        <td id=\"T_94313201_0a41_11eb_b7ee_0050b6bf42a3row4_col27\" class=\"data row4 col27\" >0.038027</td>\n",
       "            </tr>\n",
       "            <tr>\n",
       "                        <th id=\"T_94313201_0a41_11eb_b7ee_0050b6bf42a3level0_row5\" class=\"row_heading level0 row5\" >4</th>\n",
       "                        <td id=\"T_94313201_0a41_11eb_b7ee_0050b6bf42a3row5_col0\" class=\"data row5 col0\" >3764657333333.333496</td>\n",
       "                        <td id=\"T_94313201_0a41_11eb_b7ee_0050b6bf42a3row5_col1\" class=\"data row5 col1\" >1.095000</td>\n",
       "                        <td id=\"T_94313201_0a41_11eb_b7ee_0050b6bf42a3row5_col2\" class=\"data row5 col2\" >9567710333333.333984</td>\n",
       "                        <td id=\"T_94313201_0a41_11eb_b7ee_0050b6bf42a3row5_col3\" class=\"data row5 col3\" >24765361666666.667969</td>\n",
       "                        <td id=\"T_94313201_0a41_11eb_b7ee_0050b6bf42a3row5_col4\" class=\"data row5 col4\" >0.075333</td>\n",
       "                        <td id=\"T_94313201_0a41_11eb_b7ee_0050b6bf42a3row5_col5\" class=\"data row5 col5\" >338955000000.000000</td>\n",
       "                        <td id=\"T_94313201_0a41_11eb_b7ee_0050b6bf42a3row5_col6\" class=\"data row5 col6\" >1690274563.333333</td>\n",
       "                        <td id=\"T_94313201_0a41_11eb_b7ee_0050b6bf42a3row5_col7\" class=\"data row5 col7\" >539.011000</td>\n",
       "                        <td id=\"T_94313201_0a41_11eb_b7ee_0050b6bf42a3row5_col8\" class=\"data row5 col8\" >273729000000.000000</td>\n",
       "                        <td id=\"T_94313201_0a41_11eb_b7ee_0050b6bf42a3row5_col9\" class=\"data row5 col9\" >8801303333333.333984</td>\n",
       "                        <td id=\"T_94313201_0a41_11eb_b7ee_0050b6bf42a3row5_col10\" class=\"data row5 col10\" >7881993000000.000000</td>\n",
       "                        <td id=\"T_94313201_0a41_11eb_b7ee_0050b6bf42a3row5_col11\" class=\"data row5 col11\" >1473.133333</td>\n",
       "                        <td id=\"T_94313201_0a41_11eb_b7ee_0050b6bf42a3row5_col12\" class=\"data row5 col12\" >1690274575.000000</td>\n",
       "                        <td id=\"T_94313201_0a41_11eb_b7ee_0050b6bf42a3row5_col13\" class=\"data row5 col13\" >9590091333333.333984</td>\n",
       "                        <td id=\"T_94313201_0a41_11eb_b7ee_0050b6bf42a3row5_col14\" class=\"data row5 col14\" >7010239666666.666992</td>\n",
       "                        <td id=\"T_94313201_0a41_11eb_b7ee_0050b6bf42a3row5_col15\" class=\"data row5 col15\" >979362666666.666626</td>\n",
       "                        <td id=\"T_94313201_0a41_11eb_b7ee_0050b6bf42a3row5_col16\" class=\"data row5 col16\" >2563238333333.333496</td>\n",
       "                        <td id=\"T_94313201_0a41_11eb_b7ee_0050b6bf42a3row5_col17\" class=\"data row5 col17\" >24304609000000.000000</td>\n",
       "                        <td id=\"T_94313201_0a41_11eb_b7ee_0050b6bf42a3row5_col18\" class=\"data row5 col18\" >981709333333.333374</td>\n",
       "                        <td id=\"T_94313201_0a41_11eb_b7ee_0050b6bf42a3row5_col19\" class=\"data row5 col19\" >368.098667</td>\n",
       "                        <td id=\"T_94313201_0a41_11eb_b7ee_0050b6bf42a3row5_col20\" class=\"data row5 col20\" >1.095000</td>\n",
       "                        <td id=\"T_94313201_0a41_11eb_b7ee_0050b6bf42a3row5_col21\" class=\"data row5 col21\" >0.039066</td>\n",
       "                        <td id=\"T_94313201_0a41_11eb_b7ee_0050b6bf42a3row5_col22\" class=\"data row5 col22\" >0.060478</td>\n",
       "                        <td id=\"T_94313201_0a41_11eb_b7ee_0050b6bf42a3row5_col23\" class=\"data row5 col23\" >148.636229</td>\n",
       "                        <td id=\"T_94313201_0a41_11eb_b7ee_0050b6bf42a3row5_col24\" class=\"data row5 col24\" >1988.223868</td>\n",
       "                        <td id=\"T_94313201_0a41_11eb_b7ee_0050b6bf42a3row5_col25\" class=\"data row5 col25\" >-9.199263</td>\n",
       "                        <td id=\"T_94313201_0a41_11eb_b7ee_0050b6bf42a3row5_col26\" class=\"data row5 col26\" >1.419745</td>\n",
       "                        <td id=\"T_94313201_0a41_11eb_b7ee_0050b6bf42a3row5_col27\" class=\"data row5 col27\" >0.337029</td>\n",
       "            </tr>\n",
       "            <tr>\n",
       "                        <th id=\"T_94313201_0a41_11eb_b7ee_0050b6bf42a3level0_row6\" class=\"row_heading level0 row6\" >5</th>\n",
       "                        <td id=\"T_94313201_0a41_11eb_b7ee_0050b6bf42a3row6_col0\" class=\"data row6 col0\" >236504750.000000</td>\n",
       "                        <td id=\"T_94313201_0a41_11eb_b7ee_0050b6bf42a3row6_col1\" class=\"data row6 col1\" >10.646750</td>\n",
       "                        <td id=\"T_94313201_0a41_11eb_b7ee_0050b6bf42a3row6_col2\" class=\"data row6 col2\" >183979500.000000</td>\n",
       "                        <td id=\"T_94313201_0a41_11eb_b7ee_0050b6bf42a3row6_col3\" class=\"data row6 col3\" >1627288500.000000</td>\n",
       "                        <td id=\"T_94313201_0a41_11eb_b7ee_0050b6bf42a3row6_col4\" class=\"data row6 col4\" >0.010750</td>\n",
       "                        <td id=\"T_94313201_0a41_11eb_b7ee_0050b6bf42a3row6_col5\" class=\"data row6 col5\" >25331750.000000</td>\n",
       "                        <td id=\"T_94313201_0a41_11eb_b7ee_0050b6bf42a3row6_col6\" class=\"data row6 col6\" >84330554.000000</td>\n",
       "                        <td id=\"T_94313201_0a41_11eb_b7ee_0050b6bf42a3row6_col7\" class=\"data row6 col7\" >3.120750</td>\n",
       "                        <td id=\"T_94313201_0a41_11eb_b7ee_0050b6bf42a3row6_col8\" class=\"data row6 col8\" >-8624750.000000</td>\n",
       "                        <td id=\"T_94313201_0a41_11eb_b7ee_0050b6bf42a3row6_col9\" class=\"data row6 col9\" >1074734500.000000</td>\n",
       "                        <td id=\"T_94313201_0a41_11eb_b7ee_0050b6bf42a3row6_col10\" class=\"data row6 col10\" >194169500.000000</td>\n",
       "                        <td id=\"T_94313201_0a41_11eb_b7ee_0050b6bf42a3row6_col11\" class=\"data row6 col11\" >132.360000</td>\n",
       "                        <td id=\"T_94313201_0a41_11eb_b7ee_0050b6bf42a3row6_col12\" class=\"data row6 col12\" >123023564.000000</td>\n",
       "                        <td id=\"T_94313201_0a41_11eb_b7ee_0050b6bf42a3row6_col13\" class=\"data row6 col13\" >1222821500.000000</td>\n",
       "                        <td id=\"T_94313201_0a41_11eb_b7ee_0050b6bf42a3row6_col14\" class=\"data row6 col14\" >110916000.000000</td>\n",
       "                        <td id=\"T_94313201_0a41_11eb_b7ee_0050b6bf42a3row6_col15\" class=\"data row6 col15\" >495488000.000000</td>\n",
       "                        <td id=\"T_94313201_0a41_11eb_b7ee_0050b6bf42a3row6_col16\" class=\"data row6 col16\" >349894000.000000</td>\n",
       "                        <td id=\"T_94313201_0a41_11eb_b7ee_0050b6bf42a3row6_col17\" class=\"data row6 col17\" >1352294750.000000</td>\n",
       "                        <td id=\"T_94313201_0a41_11eb_b7ee_0050b6bf42a3row6_col18\" class=\"data row6 col18\" >-38311250.000000</td>\n",
       "                        <td id=\"T_94313201_0a41_11eb_b7ee_0050b6bf42a3row6_col19\" class=\"data row6 col19\" >0.026750</td>\n",
       "                        <td id=\"T_94313201_0a41_11eb_b7ee_0050b6bf42a3row6_col20\" class=\"data row6 col20\" >10.646750</td>\n",
       "                        <td id=\"T_94313201_0a41_11eb_b7ee_0050b6bf42a3row6_col21\" class=\"data row6 col21\" >-0.041115</td>\n",
       "                        <td id=\"T_94313201_0a41_11eb_b7ee_0050b6bf42a3row6_col22\" class=\"data row6 col22\" >-0.018645</td>\n",
       "                        <td id=\"T_94313201_0a41_11eb_b7ee_0050b6bf42a3row6_col23\" class=\"data row6 col23\" >0.291077</td>\n",
       "                        <td id=\"T_94313201_0a41_11eb_b7ee_0050b6bf42a3row6_col24\" class=\"data row6 col24\" >3.032631</td>\n",
       "                        <td id=\"T_94313201_0a41_11eb_b7ee_0050b6bf42a3row6_col25\" class=\"data row6 col25\" >4589.297565</td>\n",
       "                        <td id=\"T_94313201_0a41_11eb_b7ee_0050b6bf42a3row6_col26\" class=\"data row6 col26\" >4.004340</td>\n",
       "                        <td id=\"T_94313201_0a41_11eb_b7ee_0050b6bf42a3row6_col27\" class=\"data row6 col27\" >0.099972</td>\n",
       "            </tr>\n",
       "            <tr>\n",
       "                        <th id=\"T_94313201_0a41_11eb_b7ee_0050b6bf42a3level0_row7\" class=\"row_heading level0 row7\" >6</th>\n",
       "                        <td id=\"T_94313201_0a41_11eb_b7ee_0050b6bf42a3row7_col0\" class=\"data row7 col0\" >3795000000.000000</td>\n",
       "                        <td id=\"T_94313201_0a41_11eb_b7ee_0050b6bf42a3row7_col1\" class=\"data row7 col1\" >-1270.068000</td>\n",
       "                        <td id=\"T_94313201_0a41_11eb_b7ee_0050b6bf42a3row7_col2\" class=\"data row7 col2\" >19502000000.000000</td>\n",
       "                        <td id=\"T_94313201_0a41_11eb_b7ee_0050b6bf42a3row7_col3\" class=\"data row7 col3\" >25387500000.000000</td>\n",
       "                        <td id=\"T_94313201_0a41_11eb_b7ee_0050b6bf42a3row7_col4\" class=\"data row7 col4\" >0.215500</td>\n",
       "                        <td id=\"T_94313201_0a41_11eb_b7ee_0050b6bf42a3row7_col5\" class=\"data row7 col5\" >832500000.000000</td>\n",
       "                        <td id=\"T_94313201_0a41_11eb_b7ee_0050b6bf42a3row7_col6\" class=\"data row7 col6\" >298602799.500000</td>\n",
       "                        <td id=\"T_94313201_0a41_11eb_b7ee_0050b6bf42a3row7_col7\" class=\"data row7 col7\" >12.594500</td>\n",
       "                        <td id=\"T_94313201_0a41_11eb_b7ee_0050b6bf42a3row7_col8\" class=\"data row7 col8\" >883500000.000000</td>\n",
       "                        <td id=\"T_94313201_0a41_11eb_b7ee_0050b6bf42a3row7_col9\" class=\"data row7 col9\" >4634500000.000000</td>\n",
       "                        <td id=\"T_94313201_0a41_11eb_b7ee_0050b6bf42a3row7_col10\" class=\"data row7 col10\" >4396500000.000000</td>\n",
       "                        <td id=\"T_94313201_0a41_11eb_b7ee_0050b6bf42a3row7_col11\" class=\"data row7 col11\" >99.310000</td>\n",
       "                        <td id=\"T_94313201_0a41_11eb_b7ee_0050b6bf42a3row7_col12\" class=\"data row7 col12\" >298778297.500000</td>\n",
       "                        <td id=\"T_94313201_0a41_11eb_b7ee_0050b6bf42a3row7_col13\" class=\"data row7 col13\" >-23500000.000000</td>\n",
       "                        <td id=\"T_94313201_0a41_11eb_b7ee_0050b6bf42a3row7_col14\" class=\"data row7 col14\" >1377000000.000000</td>\n",
       "                        <td id=\"T_94313201_0a41_11eb_b7ee_0050b6bf42a3row7_col15\" class=\"data row7 col15\" >161500000.000000</td>\n",
       "                        <td id=\"T_94313201_0a41_11eb_b7ee_0050b6bf42a3row7_col16\" class=\"data row7 col16\" >1718000000.000000</td>\n",
       "                        <td id=\"T_94313201_0a41_11eb_b7ee_0050b6bf42a3row7_col17\" class=\"data row7 col17\" >24815125000.000000</td>\n",
       "                        <td id=\"T_94313201_0a41_11eb_b7ee_0050b6bf42a3row7_col18\" class=\"data row7 col18\" >1402500000.000000</td>\n",
       "                        <td id=\"T_94313201_0a41_11eb_b7ee_0050b6bf42a3row7_col19\" class=\"data row7 col19\" >0.193000</td>\n",
       "                        <td id=\"T_94313201_0a41_11eb_b7ee_0050b6bf42a3row7_col20\" class=\"data row7 col20\" >-1270.068000</td>\n",
       "                        <td id=\"T_94313201_0a41_11eb_b7ee_0050b6bf42a3row7_col21\" class=\"data row7 col21\" >0.080291</td>\n",
       "                        <td id=\"T_94313201_0a41_11eb_b7ee_0050b6bf42a3row7_col22\" class=\"data row7 col22\" >0.250872</td>\n",
       "                        <td id=\"T_94313201_0a41_11eb_b7ee_0050b6bf42a3row7_col23\" class=\"data row7 col23\" >2.802064</td>\n",
       "                        <td id=\"T_94313201_0a41_11eb_b7ee_0050b6bf42a3row7_col24\" class=\"data row7 col24\" >12.586388</td>\n",
       "                        <td id=\"T_94313201_0a41_11eb_b7ee_0050b6bf42a3row7_col25\" class=\"data row7 col25\" >6.932384</td>\n",
       "                        <td id=\"T_94313201_0a41_11eb_b7ee_0050b6bf42a3row7_col26\" class=\"data row7 col26\" >1.211485</td>\n",
       "                        <td id=\"T_94313201_0a41_11eb_b7ee_0050b6bf42a3row7_col27\" class=\"data row7 col27\" >0.693790</td>\n",
       "            </tr>\n",
       "            <tr>\n",
       "                        <th id=\"T_94313201_0a41_11eb_b7ee_0050b6bf42a3level0_row8\" class=\"row_heading level0 row8\" >7</th>\n",
       "                        <td id=\"T_94313201_0a41_11eb_b7ee_0050b6bf42a3row8_col0\" class=\"data row8 col0\" >3065098792.887075</td>\n",
       "                        <td id=\"T_94313201_0a41_11eb_b7ee_0050b6bf42a3row8_col1\" class=\"data row8 col1\" >5.709865</td>\n",
       "                        <td id=\"T_94313201_0a41_11eb_b7ee_0050b6bf42a3row8_col2\" class=\"data row8 col2\" >7230855007.359183</td>\n",
       "                        <td id=\"T_94313201_0a41_11eb_b7ee_0050b6bf42a3row8_col3\" class=\"data row8 col3\" >19021909102.839455</td>\n",
       "                        <td id=\"T_94313201_0a41_11eb_b7ee_0050b6bf42a3row8_col4\" class=\"data row8 col4\" >0.047159</td>\n",
       "                        <td id=\"T_94313201_0a41_11eb_b7ee_0050b6bf42a3row8_col5\" class=\"data row8 col5\" >533784665.055782</td>\n",
       "                        <td id=\"T_94313201_0a41_11eb_b7ee_0050b6bf42a3row8_col6\" class=\"data row8 col6\" >291351637.533333</td>\n",
       "                        <td id=\"T_94313201_0a41_11eb_b7ee_0050b6bf42a3row8_col7\" class=\"data row8 col7\" >12.694686</td>\n",
       "                        <td id=\"T_94313201_0a41_11eb_b7ee_0050b6bf42a3row8_col8\" class=\"data row8 col8\" >287740448.364626</td>\n",
       "                        <td id=\"T_94313201_0a41_11eb_b7ee_0050b6bf42a3row8_col9\" class=\"data row8 col9\" >4105696792.880272</td>\n",
       "                        <td id=\"T_94313201_0a41_11eb_b7ee_0050b6bf42a3row8_col10\" class=\"data row8 col10\" >3677069984.646258</td>\n",
       "                        <td id=\"T_94313201_0a41_11eb_b7ee_0050b6bf42a3row8_col11\" class=\"data row8 col11\" >86.739886</td>\n",
       "                        <td id=\"T_94313201_0a41_11eb_b7ee_0050b6bf42a3row8_col12\" class=\"data row8 col12\" >292758366.175510</td>\n",
       "                        <td id=\"T_94313201_0a41_11eb_b7ee_0050b6bf42a3row8_col13\" class=\"data row8 col13\" >5949264374.858503</td>\n",
       "                        <td id=\"T_94313201_0a41_11eb_b7ee_0050b6bf42a3row8_col14\" class=\"data row8 col14\" >1479170466.448980</td>\n",
       "                        <td id=\"T_94313201_0a41_11eb_b7ee_0050b6bf42a3row8_col15\" class=\"data row8 col15\" >370630364.625850</td>\n",
       "                        <td id=\"T_94313201_0a41_11eb_b7ee_0050b6bf42a3row8_col16\" class=\"data row8 col16\" >991439149.219048</td>\n",
       "                        <td id=\"T_94313201_0a41_11eb_b7ee_0050b6bf42a3row8_col17\" class=\"data row8 col17\" >18513944412.821770</td>\n",
       "                        <td id=\"T_94313201_0a41_11eb_b7ee_0050b6bf42a3row8_col18\" class=\"data row8 col18\" >795137195.019048</td>\n",
       "                        <td id=\"T_94313201_0a41_11eb_b7ee_0050b6bf42a3row8_col19\" class=\"data row8 col19\" >3.299195</td>\n",
       "                        <td id=\"T_94313201_0a41_11eb_b7ee_0050b6bf42a3row8_col20\" class=\"data row8 col20\" >5.709865</td>\n",
       "                        <td id=\"T_94313201_0a41_11eb_b7ee_0050b6bf42a3row8_col21\" class=\"data row8 col21\" >0.036533</td>\n",
       "                        <td id=\"T_94313201_0a41_11eb_b7ee_0050b6bf42a3row8_col22\" class=\"data row8 col22\" >0.082008</td>\n",
       "                        <td id=\"T_94313201_0a41_11eb_b7ee_0050b6bf42a3row8_col23\" class=\"data row8 col23\" >2.044087</td>\n",
       "                        <td id=\"T_94313201_0a41_11eb_b7ee_0050b6bf42a3row8_col24\" class=\"data row8 col24\" >12.765777</td>\n",
       "                        <td id=\"T_94313201_0a41_11eb_b7ee_0050b6bf42a3row8_col25\" class=\"data row8 col25\" >23.013458</td>\n",
       "                        <td id=\"T_94313201_0a41_11eb_b7ee_0050b6bf42a3row8_col26\" class=\"data row8 col26\" >1.060433</td>\n",
       "                        <td id=\"T_94313201_0a41_11eb_b7ee_0050b6bf42a3row8_col27\" class=\"data row8 col27\" >0.393133</td>\n",
       "            </tr>\n",
       "            <tr>\n",
       "                        <th id=\"T_94313201_0a41_11eb_b7ee_0050b6bf42a3level0_row9\" class=\"row_heading level0 row9\" >8</th>\n",
       "                        <td id=\"T_94313201_0a41_11eb_b7ee_0050b6bf42a3row9_col0\" class=\"data row9 col0\" >2023432666.666667</td>\n",
       "                        <td id=\"T_94313201_0a41_11eb_b7ee_0050b6bf42a3row9_col1\" class=\"data row9 col1\" >771.125000</td>\n",
       "                        <td id=\"T_94313201_0a41_11eb_b7ee_0050b6bf42a3row9_col2\" class=\"data row9 col2\" >3438412333.333333</td>\n",
       "                        <td id=\"T_94313201_0a41_11eb_b7ee_0050b6bf42a3row9_col3\" class=\"data row9 col3\" >6368018333.333333</td>\n",
       "                        <td id=\"T_94313201_0a41_11eb_b7ee_0050b6bf42a3row9_col4\" class=\"data row9 col4\" >0.077667</td>\n",
       "                        <td id=\"T_94313201_0a41_11eb_b7ee_0050b6bf42a3row9_col5\" class=\"data row9 col5\" >396800666.666667</td>\n",
       "                        <td id=\"T_94313201_0a41_11eb_b7ee_0050b6bf42a3row9_col6\" class=\"data row9 col6\" >337722367.333333</td>\n",
       "                        <td id=\"T_94313201_0a41_11eb_b7ee_0050b6bf42a3row9_col7\" class=\"data row9 col7\" >13.335000</td>\n",
       "                        <td id=\"T_94313201_0a41_11eb_b7ee_0050b6bf42a3row9_col8\" class=\"data row9 col8\" >351035333.333333</td>\n",
       "                        <td id=\"T_94313201_0a41_11eb_b7ee_0050b6bf42a3row9_col9\" class=\"data row9 col9\" >2114262333.333333</td>\n",
       "                        <td id=\"T_94313201_0a41_11eb_b7ee_0050b6bf42a3row9_col10\" class=\"data row9 col10\" >1833883333.333333</td>\n",
       "                        <td id=\"T_94313201_0a41_11eb_b7ee_0050b6bf42a3row9_col11\" class=\"data row9 col11\" >57.710000</td>\n",
       "                        <td id=\"T_94313201_0a41_11eb_b7ee_0050b6bf42a3row9_col12\" class=\"data row9 col12\" >337789491.333333</td>\n",
       "                        <td id=\"T_94313201_0a41_11eb_b7ee_0050b6bf42a3row9_col13\" class=\"data row9 col13\" >41092666.666667</td>\n",
       "                        <td id=\"T_94313201_0a41_11eb_b7ee_0050b6bf42a3row9_col14\" class=\"data row9 col14\" >666812000.000000</td>\n",
       "                        <td id=\"T_94313201_0a41_11eb_b7ee_0050b6bf42a3row9_col15\" class=\"data row9 col15\" >11576000.000000</td>\n",
       "                        <td id=\"T_94313201_0a41_11eb_b7ee_0050b6bf42a3row9_col16\" class=\"data row9 col16\" >455633000.000000</td>\n",
       "                        <td id=\"T_94313201_0a41_11eb_b7ee_0050b6bf42a3row9_col17\" class=\"data row9 col17\" >5865623416.666667</td>\n",
       "                        <td id=\"T_94313201_0a41_11eb_b7ee_0050b6bf42a3row9_col18\" class=\"data row9 col18\" >925150333.333333</td>\n",
       "                        <td id=\"T_94313201_0a41_11eb_b7ee_0050b6bf42a3row9_col19\" class=\"data row9 col19\" >2.968667</td>\n",
       "                        <td id=\"T_94313201_0a41_11eb_b7ee_0050b6bf42a3row9_col20\" class=\"data row9 col20\" >771.125000</td>\n",
       "                        <td id=\"T_94313201_0a41_11eb_b7ee_0050b6bf42a3row9_col21\" class=\"data row9 col21\" >0.132097</td>\n",
       "                        <td id=\"T_94313201_0a41_11eb_b7ee_0050b6bf42a3row9_col22\" class=\"data row9 col22\" >0.117985</td>\n",
       "                        <td id=\"T_94313201_0a41_11eb_b7ee_0050b6bf42a3row9_col23\" class=\"data row9 col23\" >1.873236</td>\n",
       "                        <td id=\"T_94313201_0a41_11eb_b7ee_0050b6bf42a3row9_col24\" class=\"data row9 col24\" >13.329913</td>\n",
       "                        <td id=\"T_94313201_0a41_11eb_b7ee_0050b6bf42a3row9_col25\" class=\"data row9 col25\" >17.903664</td>\n",
       "                        <td id=\"T_94313201_0a41_11eb_b7ee_0050b6bf42a3row9_col26\" class=\"data row9 col26\" >0.634315</td>\n",
       "                        <td id=\"T_94313201_0a41_11eb_b7ee_0050b6bf42a3row9_col27\" class=\"data row9 col27\" >0.519079</td>\n",
       "            </tr>\n",
       "            <tr>\n",
       "                        <th id=\"T_94313201_0a41_11eb_b7ee_0050b6bf42a3level0_row10\" class=\"row_heading level0 row10\" >9</th>\n",
       "                        <td id=\"T_94313201_0a41_11eb_b7ee_0050b6bf42a3row10_col0\" class=\"data row10 col0\" >51487000.000000</td>\n",
       "                        <td id=\"T_94313201_0a41_11eb_b7ee_0050b6bf42a3row10_col1\" class=\"data row10 col1\" >3.481000</td>\n",
       "                        <td id=\"T_94313201_0a41_11eb_b7ee_0050b6bf42a3row10_col2\" class=\"data row10 col2\" >513024500.000000</td>\n",
       "                        <td id=\"T_94313201_0a41_11eb_b7ee_0050b6bf42a3row10_col3\" class=\"data row10 col3\" >1109870500.000000</td>\n",
       "                        <td id=\"T_94313201_0a41_11eb_b7ee_0050b6bf42a3row10_col4\" class=\"data row10 col4\" >0.166000</td>\n",
       "                        <td id=\"T_94313201_0a41_11eb_b7ee_0050b6bf42a3row10_col5\" class=\"data row10 col5\" >29783000.000000</td>\n",
       "                        <td id=\"T_94313201_0a41_11eb_b7ee_0050b6bf42a3row10_col6\" class=\"data row10 col6\" >59210000.000000</td>\n",
       "                        <td id=\"T_94313201_0a41_11eb_b7ee_0050b6bf42a3row10_col7\" class=\"data row10 col7\" >1.159500</td>\n",
       "                        <td id=\"T_94313201_0a41_11eb_b7ee_0050b6bf42a3row10_col8\" class=\"data row10 col8\" >31730000.000000</td>\n",
       "                        <td id=\"T_94313201_0a41_11eb_b7ee_0050b6bf42a3row10_col9\" class=\"data row10 col9\" >777439500.000000</td>\n",
       "                        <td id=\"T_94313201_0a41_11eb_b7ee_0050b6bf42a3row10_col10\" class=\"data row10 col10\" >11186500.000000</td>\n",
       "                        <td id=\"T_94313201_0a41_11eb_b7ee_0050b6bf42a3row10_col11\" class=\"data row10 col11\" >59.225000</td>\n",
       "                        <td id=\"T_94313201_0a41_11eb_b7ee_0050b6bf42a3row10_col12\" class=\"data row10 col12\" >59421229.000000</td>\n",
       "                        <td id=\"T_94313201_0a41_11eb_b7ee_0050b6bf42a3row10_col13\" class=\"data row10 col13\" >540363500.000000</td>\n",
       "                        <td id=\"T_94313201_0a41_11eb_b7ee_0050b6bf42a3row10_col14\" class=\"data row10 col14\" >54907000.000000</td>\n",
       "                        <td id=\"T_94313201_0a41_11eb_b7ee_0050b6bf42a3row10_col15\" class=\"data row10 col15\" >535536500.000000</td>\n",
       "                        <td id=\"T_94313201_0a41_11eb_b7ee_0050b6bf42a3row10_col16\" class=\"data row10 col16\" >174819500.000000</td>\n",
       "                        <td id=\"T_94313201_0a41_11eb_b7ee_0050b6bf42a3row10_col17\" class=\"data row10 col17\" >1173926875.000000</td>\n",
       "                        <td id=\"T_94313201_0a41_11eb_b7ee_0050b6bf42a3row10_col18\" class=\"data row10 col18\" >393295000.000000</td>\n",
       "                        <td id=\"T_94313201_0a41_11eb_b7ee_0050b6bf42a3row10_col19\" class=\"data row10 col19\" >0.433000</td>\n",
       "                        <td id=\"T_94313201_0a41_11eb_b7ee_0050b6bf42a3row10_col20\" class=\"data row10 col20\" >3.481000</td>\n",
       "                        <td id=\"T_94313201_0a41_11eb_b7ee_0050b6bf42a3row10_col21\" class=\"data row10 col21\" >0.305698</td>\n",
       "                        <td id=\"T_94313201_0a41_11eb_b7ee_0050b6bf42a3row10_col22\" class=\"data row10 col22\" >0.296173</td>\n",
       "                        <td id=\"T_94313201_0a41_11eb_b7ee_0050b6bf42a3row10_col23\" class=\"data row10 col23\" >0.121371</td>\n",
       "                        <td id=\"T_94313201_0a41_11eb_b7ee_0050b6bf42a3row10_col24\" class=\"data row10 col24\" >1.143788</td>\n",
       "                        <td id=\"T_94313201_0a41_11eb_b7ee_0050b6bf42a3row10_col25\" class=\"data row10 col25\" >-28.275252</td>\n",
       "                        <td id=\"T_94313201_0a41_11eb_b7ee_0050b6bf42a3row10_col26\" class=\"data row10 col26\" >72.411716</td>\n",
       "                        <td id=\"T_94313201_0a41_11eb_b7ee_0050b6bf42a3row10_col27\" class=\"data row10 col27\" >0.477191</td>\n",
       "            </tr>\n",
       "    </tbody></table>"
      ],
      "text/plain": [
       "<pandas.io.formats.style.Styler at 0x18165688>"
      ]
     },
     "execution_count": 71,
     "metadata": {},
     "output_type": "execute_result"
    }
   ],
   "source": [
    "centroids.style.background_gradient() "
   ]
  },
  {
   "cell_type": "code",
   "execution_count": 72,
   "metadata": {
    "scrolled": true
   },
   "outputs": [
    {
     "data": {
      "text/plain": [
       "0.5855042262910504"
      ]
     },
     "execution_count": 72,
     "metadata": {},
     "output_type": "execute_result"
    }
   ],
   "source": [
    "scipy.stats.entropy([0.731826, 0.267606, 5.687710e-04])\n"
   ]
  },
  {
   "cell_type": "code",
   "execution_count": 73,
   "metadata": {},
   "outputs": [],
   "source": [
    "prob_df['entropy'] = prob_df.apply(scipy.stats.entropy, axis=1)"
   ]
  },
  {
   "cell_type": "code",
   "execution_count": 74,
   "metadata": {
    "scrolled": true
   },
   "outputs": [
    {
     "data": {
      "text/html": [
       "<div>\n",
       "<style scoped>\n",
       "    .dataframe tbody tr th:only-of-type {\n",
       "        vertical-align: middle;\n",
       "    }\n",
       "\n",
       "    .dataframe tbody tr th {\n",
       "        vertical-align: top;\n",
       "    }\n",
       "\n",
       "    .dataframe thead th {\n",
       "        text-align: right;\n",
       "    }\n",
       "</style>\n",
       "<table border=\"1\" class=\"dataframe\">\n",
       "  <thead>\n",
       "    <tr style=\"text-align: right;\">\n",
       "      <th></th>\n",
       "      <th>0</th>\n",
       "      <th>1</th>\n",
       "      <th>2</th>\n",
       "      <th>3</th>\n",
       "      <th>4</th>\n",
       "      <th>entropy</th>\n",
       "    </tr>\n",
       "  </thead>\n",
       "  <tbody>\n",
       "    <tr>\n",
       "      <th>0</th>\n",
       "      <td>1.000000e+00</td>\n",
       "      <td>0.000000</td>\n",
       "      <td>0.000000</td>\n",
       "      <td>0.0</td>\n",
       "      <td>0.0</td>\n",
       "      <td>0.000000</td>\n",
       "    </tr>\n",
       "    <tr>\n",
       "      <th>269</th>\n",
       "      <td>1.000000e+00</td>\n",
       "      <td>0.000000</td>\n",
       "      <td>0.000000</td>\n",
       "      <td>0.0</td>\n",
       "      <td>0.0</td>\n",
       "      <td>0.000000</td>\n",
       "    </tr>\n",
       "    <tr>\n",
       "      <th>1173</th>\n",
       "      <td>1.000000e+00</td>\n",
       "      <td>0.000000</td>\n",
       "      <td>0.000000</td>\n",
       "      <td>0.0</td>\n",
       "      <td>0.0</td>\n",
       "      <td>0.000000</td>\n",
       "    </tr>\n",
       "    <tr>\n",
       "      <th>310</th>\n",
       "      <td>0.000000e+00</td>\n",
       "      <td>0.000000</td>\n",
       "      <td>1.000000</td>\n",
       "      <td>0.0</td>\n",
       "      <td>0.0</td>\n",
       "      <td>0.000000</td>\n",
       "    </tr>\n",
       "    <tr>\n",
       "      <th>333</th>\n",
       "      <td>1.000000e+00</td>\n",
       "      <td>0.000000</td>\n",
       "      <td>0.000000</td>\n",
       "      <td>0.0</td>\n",
       "      <td>0.0</td>\n",
       "      <td>0.000000</td>\n",
       "    </tr>\n",
       "    <tr>\n",
       "      <th>...</th>\n",
       "      <td>...</td>\n",
       "      <td>...</td>\n",
       "      <td>...</td>\n",
       "      <td>...</td>\n",
       "      <td>...</td>\n",
       "      <td>...</td>\n",
       "    </tr>\n",
       "    <tr>\n",
       "      <th>684</th>\n",
       "      <td>3.478403e-07</td>\n",
       "      <td>0.511969</td>\n",
       "      <td>0.488030</td>\n",
       "      <td>0.0</td>\n",
       "      <td>0.0</td>\n",
       "      <td>0.692866</td>\n",
       "    </tr>\n",
       "    <tr>\n",
       "      <th>465</th>\n",
       "      <td>3.600353e-08</td>\n",
       "      <td>0.505162</td>\n",
       "      <td>0.494838</td>\n",
       "      <td>0.0</td>\n",
       "      <td>0.0</td>\n",
       "      <td>0.693095</td>\n",
       "    </tr>\n",
       "    <tr>\n",
       "      <th>256</th>\n",
       "      <td>2.445573e-07</td>\n",
       "      <td>0.496174</td>\n",
       "      <td>0.503825</td>\n",
       "      <td>0.0</td>\n",
       "      <td>0.0</td>\n",
       "      <td>0.693122</td>\n",
       "    </tr>\n",
       "    <tr>\n",
       "      <th>172</th>\n",
       "      <td>2.452799e-07</td>\n",
       "      <td>0.502777</td>\n",
       "      <td>0.497223</td>\n",
       "      <td>0.0</td>\n",
       "      <td>0.0</td>\n",
       "      <td>0.693136</td>\n",
       "    </tr>\n",
       "    <tr>\n",
       "      <th>1215</th>\n",
       "      <td>3.476612e-07</td>\n",
       "      <td>0.501364</td>\n",
       "      <td>0.498636</td>\n",
       "      <td>0.0</td>\n",
       "      <td>0.0</td>\n",
       "      <td>0.693149</td>\n",
       "    </tr>\n",
       "  </tbody>\n",
       "</table>\n",
       "<p>1493 rows × 6 columns</p>\n",
       "</div>"
      ],
      "text/plain": [
       "                 0         1         2    3    4   entropy\n",
       "0     1.000000e+00  0.000000  0.000000  0.0  0.0  0.000000\n",
       "269   1.000000e+00  0.000000  0.000000  0.0  0.0  0.000000\n",
       "1173  1.000000e+00  0.000000  0.000000  0.0  0.0  0.000000\n",
       "310   0.000000e+00  0.000000  1.000000  0.0  0.0  0.000000\n",
       "333   1.000000e+00  0.000000  0.000000  0.0  0.0  0.000000\n",
       "...            ...       ...       ...  ...  ...       ...\n",
       "684   3.478403e-07  0.511969  0.488030  0.0  0.0  0.692866\n",
       "465   3.600353e-08  0.505162  0.494838  0.0  0.0  0.693095\n",
       "256   2.445573e-07  0.496174  0.503825  0.0  0.0  0.693122\n",
       "172   2.452799e-07  0.502777  0.497223  0.0  0.0  0.693136\n",
       "1215  3.476612e-07  0.501364  0.498636  0.0  0.0  0.693149\n",
       "\n",
       "[1493 rows x 6 columns]"
      ]
     },
     "execution_count": 74,
     "metadata": {},
     "output_type": "execute_result"
    }
   ],
   "source": [
    "prob_df.sort_values('entropy')"
   ]
  },
  {
   "cell_type": "code",
   "execution_count": 75,
   "metadata": {},
   "outputs": [
    {
     "data": {
      "text/html": [
       "<div>\n",
       "<style scoped>\n",
       "    .dataframe tbody tr th:only-of-type {\n",
       "        vertical-align: middle;\n",
       "    }\n",
       "\n",
       "    .dataframe tbody tr th {\n",
       "        vertical-align: top;\n",
       "    }\n",
       "\n",
       "    .dataframe thead th {\n",
       "        text-align: right;\n",
       "    }\n",
       "</style>\n",
       "<table border=\"1\" class=\"dataframe\">\n",
       "  <thead>\n",
       "    <tr style=\"text-align: right;\">\n",
       "      <th></th>\n",
       "      <th>TOT_DEBT_TO_TOTAL_ASSET</th>\n",
       "      <th>PX_FREE_CASH_FLOW</th>\n",
       "      <th>CASH_FLOW_PER_SHARE</th>\n",
       "      <th>OPER_MARGIN</th>\n",
       "      <th>RETURN_ON_ASSET</th>\n",
       "      <th>PX_TO_BOOK_RATIO</th>\n",
       "      <th>quick_ratio</th>\n",
       "      <th>netmargin</th>\n",
       "    </tr>\n",
       "  </thead>\n",
       "  <tbody>\n",
       "    <tr>\n",
       "      <th>1</th>\n",
       "      <td>0.018688</td>\n",
       "      <td>-19.603277</td>\n",
       "      <td>-0.922987</td>\n",
       "      <td>-39.292488</td>\n",
       "      <td>-0.409374</td>\n",
       "      <td>7.288</td>\n",
       "      <td>3.647265</td>\n",
       "      <td>-38.489</td>\n",
       "    </tr>\n",
       "    <tr>\n",
       "      <th>16</th>\n",
       "      <td>0.195382</td>\n",
       "      <td>-65.555556</td>\n",
       "      <td>0.035415</td>\n",
       "      <td>-0.347321</td>\n",
       "      <td>-0.243414</td>\n",
       "      <td>10.140</td>\n",
       "      <td>1.454003</td>\n",
       "      <td>-0.337</td>\n",
       "    </tr>\n",
       "    <tr>\n",
       "      <th>30</th>\n",
       "      <td>0.572629</td>\n",
       "      <td>47.403295</td>\n",
       "      <td>1.221921</td>\n",
       "      <td>0.294504</td>\n",
       "      <td>0.134270</td>\n",
       "      <td>23.279</td>\n",
       "      <td>1.672204</td>\n",
       "      <td>0.229</td>\n",
       "    </tr>\n",
       "    <tr>\n",
       "      <th>51</th>\n",
       "      <td>0.050918</td>\n",
       "      <td>366.601307</td>\n",
       "      <td>0.042444</td>\n",
       "      <td>-0.299009</td>\n",
       "      <td>-0.103884</td>\n",
       "      <td>22.487</td>\n",
       "      <td>1.579705</td>\n",
       "      <td>-0.288</td>\n",
       "    </tr>\n",
       "    <tr>\n",
       "      <th>65</th>\n",
       "      <td>0.195735</td>\n",
       "      <td>7.010309</td>\n",
       "      <td>0.099426</td>\n",
       "      <td>0.010710</td>\n",
       "      <td>0.012826</td>\n",
       "      <td>2.931</td>\n",
       "      <td>1.933891</td>\n",
       "      <td>-0.009</td>\n",
       "    </tr>\n",
       "    <tr>\n",
       "      <th>...</th>\n",
       "      <td>...</td>\n",
       "      <td>...</td>\n",
       "      <td>...</td>\n",
       "      <td>...</td>\n",
       "      <td>...</td>\n",
       "      <td>...</td>\n",
       "      <td>...</td>\n",
       "      <td>...</td>\n",
       "    </tr>\n",
       "    <tr>\n",
       "      <th>40154</th>\n",
       "      <td>0.245764</td>\n",
       "      <td>18.533474</td>\n",
       "      <td>2.286520</td>\n",
       "      <td>0.059708</td>\n",
       "      <td>0.043565</td>\n",
       "      <td>3.090</td>\n",
       "      <td>0.247478</td>\n",
       "      <td>0.045</td>\n",
       "    </tr>\n",
       "    <tr>\n",
       "      <th>40175</th>\n",
       "      <td>0.000000</td>\n",
       "      <td>42.303082</td>\n",
       "      <td>0.524823</td>\n",
       "      <td>0.174833</td>\n",
       "      <td>0.155083</td>\n",
       "      <td>8.872</td>\n",
       "      <td>1.995449</td>\n",
       "      <td>0.131</td>\n",
       "    </tr>\n",
       "    <tr>\n",
       "      <th>40217</th>\n",
       "      <td>0.557446</td>\n",
       "      <td>-31.481888</td>\n",
       "      <td>1.369682</td>\n",
       "      <td>0.064439</td>\n",
       "      <td>0.027648</td>\n",
       "      <td>-106.470</td>\n",
       "      <td>0.313145</td>\n",
       "      <td>0.037</td>\n",
       "    </tr>\n",
       "    <tr>\n",
       "      <th>40238</th>\n",
       "      <td>0.123026</td>\n",
       "      <td>13.004837</td>\n",
       "      <td>1.411844</td>\n",
       "      <td>-0.044335</td>\n",
       "      <td>-0.074250</td>\n",
       "      <td>0.971</td>\n",
       "      <td>0.600468</td>\n",
       "      <td>-0.124</td>\n",
       "    </tr>\n",
       "    <tr>\n",
       "      <th>40257</th>\n",
       "      <td>0.259131</td>\n",
       "      <td>42.732919</td>\n",
       "      <td>-0.190210</td>\n",
       "      <td>0.158438</td>\n",
       "      <td>0.083497</td>\n",
       "      <td>5.282</td>\n",
       "      <td>1.158562</td>\n",
       "      <td>0.145</td>\n",
       "    </tr>\n",
       "  </tbody>\n",
       "</table>\n",
       "<p>1493 rows × 8 columns</p>\n",
       "</div>"
      ],
      "text/plain": [
       "       TOT_DEBT_TO_TOTAL_ASSET  PX_FREE_CASH_FLOW  CASH_FLOW_PER_SHARE  \\\n",
       "1                     0.018688         -19.603277            -0.922987   \n",
       "16                    0.195382         -65.555556             0.035415   \n",
       "30                    0.572629          47.403295             1.221921   \n",
       "51                    0.050918         366.601307             0.042444   \n",
       "65                    0.195735           7.010309             0.099426   \n",
       "...                        ...                ...                  ...   \n",
       "40154                 0.245764          18.533474             2.286520   \n",
       "40175                 0.000000          42.303082             0.524823   \n",
       "40217                 0.557446         -31.481888             1.369682   \n",
       "40238                 0.123026          13.004837             1.411844   \n",
       "40257                 0.259131          42.732919            -0.190210   \n",
       "\n",
       "       OPER_MARGIN  RETURN_ON_ASSET  PX_TO_BOOK_RATIO  quick_ratio  netmargin  \n",
       "1       -39.292488        -0.409374             7.288     3.647265    -38.489  \n",
       "16       -0.347321        -0.243414            10.140     1.454003     -0.337  \n",
       "30        0.294504         0.134270            23.279     1.672204      0.229  \n",
       "51       -0.299009        -0.103884            22.487     1.579705     -0.288  \n",
       "65        0.010710         0.012826             2.931     1.933891     -0.009  \n",
       "...            ...              ...               ...          ...        ...  \n",
       "40154     0.059708         0.043565             3.090     0.247478      0.045  \n",
       "40175     0.174833         0.155083             8.872     1.995449      0.131  \n",
       "40217     0.064439         0.027648          -106.470     0.313145      0.037  \n",
       "40238    -0.044335        -0.074250             0.971     0.600468     -0.124  \n",
       "40257     0.158438         0.083497             5.282     1.158562      0.145  \n",
       "\n",
       "[1493 rows x 8 columns]"
      ]
     },
     "execution_count": 75,
     "metadata": {},
     "output_type": "execute_result"
    }
   ],
   "source": [
    "df"
   ]
  },
  {
   "cell_type": "code",
   "execution_count": 76,
   "metadata": {
    "scrolled": false
   },
   "outputs": [
    {
     "data": {
      "application/vnd.plotly.v1+json": {
       "config": {
        "plotlyServerURL": "https://plot.ly"
       },
       "data": [
        {
         "customdata": [
          [
           "ZYME",
           1877000,
           -0.922986953
          ],
          [
           "ZUO",
           70393000,
           0.035415194
          ],
          [
           "ZGNX",
           1949000,
           -0.782650255
          ],
          [
           "YEXT",
           81378000,
           0.101609034
          ],
          [
           "XLRN",
           39338000,
           -0.306149958
          ],
          [
           "WORK",
           181903000,
           0.019104974
          ],
          [
           "VRNS",
           72560000,
           -0.000229625
          ],
          [
           "VNE",
           456000000,
           -0.933580379
          ],
          [
           "VIR",
           980000,
           -0.354535172
          ],
          [
           "VIE",
           30000000,
           -0.7034056320000001
          ],
          [
           "VCYT",
           29730000,
           0.036650066
          ],
          [
           "UBER",
           4069000000,
           -1.054627803
          ],
          [
           "TXG",
           75289000,
           0.069668329
          ],
          [
           "TWST",
           17164000,
           -1.054227272
          ],
          [
           "TWOU",
           163178000,
           0.5306969770000001
          ],
          [
           "TWLO",
           331224000,
           0.08766868300000001
          ],
          [
           "TLRY",
           46936000,
           -0.9035132790000001
          ],
          [
           "TENB",
           97049000,
           -0.031287044
          ],
          [
           "TELL",
           9137000,
           -0.10869604599999999
          ],
          [
           "TBIO",
           3890000,
           -0.337575845
          ],
          [
           "SWAV",
           14312000,
           -0.44416835600000004
          ],
          [
           "SRPT",
           100113000,
           -2.197318725
          ],
          [
           "SPCE",
           3781000,
           -2.446666721
          ],
          [
           "SNDX",
           379000,
           -0.46893047299999996
          ],
          [
           "SNAP",
           560888000,
           -0.047745311
          ],
          [
           "SMAR",
           78519000,
           -0.000357514
          ],
          [
           "SILK",
           18633000,
           -0.17044891399999998
          ],
          [
           "SE",
           777224000,
           -0.081138646
          ],
          [
           "SDC",
           196714000,
           -0.36930087
          ],
          [
           "SAGE",
           1960000,
           -2.2526353969999997
          ],
          [
           "RMBS",
           59947000,
           0.31760610699999997
          ],
          [
           "RGNX",
           11768000,
           -0.691701604
          ],
          [
           "RETA",
           2671000,
           -4.9344433389999995
          ],
          [
           "REAL",
           97321000,
           0.042300357999999996
          ],
          [
           "RARE",
           35593000,
           -1.246976788
          ],
          [
           "RAMP",
           102217000,
           0.233457127
          ],
          [
           "QURE",
           2625000,
           -0.596218343
          ],
          [
           "PTLA",
           29248000,
           -0.942415772
          ],
          [
           "PTCT",
           96459000,
           -0.16559853800000002
          ],
          [
           "PSNL",
           18154000,
           0.076999525
          ],
          [
           "PRO",
           66175000,
           0.305443402
          ],
          [
           "PLAN",
           98242000,
           -0.011757988999999998
          ],
          [
           "PINS",
           399898000,
           0.017122088
          ],
          [
           "PHR",
           32816000,
           0.035502216
          ],
          [
           "PBYI",
           62922000,
           0.040194045
          ],
          [
           "NXTC",
           2005000,
           -0.439088405
          ],
          [
           "NVTA",
           66285000,
           -0.48969109899999996
          ],
          [
           "NVRO",
           114374000,
           -0.434584937
          ],
          [
           "NTRA",
           83240000,
           -0.194172974
          ],
          [
           "NTNX",
           346767000,
           -0.273036137
          ],
          [
           "NTLA",
           10936000,
           -0.586347589
          ],
          [
           "NSTG",
           36931000,
           -0.546643666
          ],
          [
           "NOV",
           2281000000,
           1.225921785
          ],
          [
           "NKTR",
           33862000,
           -0.7118089459999999
          ],
          [
           "NET",
           83930000,
           -0.028561884
          ],
          [
           "MTSI",
           119097000,
           0.569186898
          ],
          [
           "MRTX",
           526000,
           -1.0625208659999998
          ],
          [
           "MRSN",
           42000,
           -0.262637322
          ],
          [
           "MRNA",
           14055000,
           -0.287390749
          ],
          [
           "MOR",
           11077686,
           -1.2160058870000001
          ],
          [
           "MNTA",
           8182000,
           -0.383846136
          ],
          [
           "MDLA",
           110100000,
           0.15169972199999998
          ],
          [
           "MD",
           905375000,
           1.513918864
          ],
          [
           "LYFT",
           1017070000,
           -0.155161425
          ],
          [
           "LVGO",
           50593000,
           -0.040886095
          ],
          [
           "KPTI",
           18096000,
           -0.628905446
          ],
          [
           "KALA",
           1180000,
           -0.52721535
          ],
          [
           "IRTC",
           59104000,
           -0.182538996
          ],
          [
           "INST",
           69195000,
           -0.33847352399999997
          ],
          [
           "INSP",
           26906000,
           -0.252507097
          ],
          [
           "INSM",
           45708000,
           -0.497001927
          ],
          [
           "INFN",
           384567000,
           -0.056359810999999996
          ],
          [
           "IMMU",
           295000,
           -0.47924520600000003
          ],
          [
           "IMGN",
           44864000,
           -0.21748842300000001
          ],
          [
           "ICPT",
           71500000,
           -1.847773624
          ],
          [
           "HRTX",
           35083000,
           -0.299573149
          ],
          [
           "HL",
           224945000,
           0.11554454300000001
          ],
          [
           "HCAT",
           43501000,
           -0.357199185
          ],
          [
           "GH",
           62897000,
           -0.32311060199999997
          ],
          [
           "GBT",
           2108000,
           -1.034957806
          ],
          [
           "FTCH",
           382232000,
           0.04134971
          ],
          [
           "FSLY",
           58936000,
           -0.032673257000000004
          ],
          [
           "FSCT",
           91331000,
           0.215461006
          ],
          [
           "FREQ",
           4709000,
           -0.966154355
          ],
          [
           "FOLD",
           55293000,
           -0.226961291
          ],
          [
           "FIT",
           502142000,
           0.108715616
          ],
          [
           "FATE",
           2802000,
           -0.33779699399999996
          ],
          [
           "ESTC",
           113181000,
           -0.288101058
          ],
          [
           "ESPR",
           982000,
           -1.8294453019999999
          ],
          [
           "EPZM",
           4294000,
           -0.389617482
          ],
          [
           "EPAC",
           146674000,
           -0.37872754700000005
          ],
          [
           "ENTA",
           52570000,
           0.626752015
          ],
          [
           "EGHT",
           118567000,
           -0.18279704
          ],
          [
           "EDIT",
           12284000,
           0.7996431390000001
          ],
          [
           "DVAX",
           10570000,
           -0.27439298100000004
          ],
          [
           "DTIL",
           6522000,
           -0.40474672100000003
          ],
          [
           "DT",
           143298000,
           0.039680666
          ],
          [
           "DRNA",
           7080000,
           -0.21808814
          ],
          [
           "DNLI",
           4672000,
           -0.496119892
          ],
          [
           "CVET",
           1008000000,
           0.624316552
          ],
          [
           "CTMX",
           8279000,
           -0.64882893
          ],
          [
           "CREE",
           239900000,
           0.076130547
          ],
          [
           "CNDT",
           1099000000,
           1.646190984
          ],
          [
           "CLVS",
           39307000,
           -1.279699745
          ],
          [
           "CHWY",
           1354525000,
           0.186487707
          ],
          [
           "CGIX",
           1889000,
           -1.486339818
          ],
          [
           "CGC",
           123764000,
           -0.548475787
          ],
          [
           "CDNA",
           35821000,
           -0.025520769
          ],
          [
           "CDE",
           195040000,
           0.16337295400000001
          ],
          [
           "CCXI",
           10047000,
           -0.34718547299999997
          ],
          [
           "BPMC",
           51533000,
           -0.912460645
          ],
          [
           "BLUE",
           9997000,
           -2.873181399
          ],
          [
           "BGNE",
           56892000,
           -0.33891565
          ],
          [
           "BBIO",
           13819000,
           -0.6166540189999999
          ],
          [
           "AXNX",
           9946000,
           -0.9836810890000001
          ],
          [
           "AVCO",
           479198,
           -0.023250382000000003
          ],
          [
           "ATNX",
           34361000,
           -0.301138423
          ],
          [
           "ARVN",
           4893273,
           -0.47937810399999997
          ],
          [
           "APPN",
           64475000,
           -0.088841708
          ],
          [
           "AMBA",
           57212000,
           0.12311892599999999
          ],
          [
           "ALNY",
           71681000,
           -1.75782985
          ],
          [
           "ALEC",
           6001000,
           -0.418244921
          ],
          [
           "AKBA",
           69555000,
           -0.7746146270000001
          ],
          [
           "AGIO",
           35440000,
           -1.589778545
          ],
          [
           "ADRO",
           3633000,
           -0.27409983600000004
          ],
          [
           "ADPT",
           24209000,
           -0.215467291
          ],
          [
           "ACB",
           56027000,
           -1.571195875
          ],
          [
           "ACAD",
           98326000,
           -0.19287070899999997
          ]
         ],
         "hovertemplate": "label=0<br>TOT_DEBT_TO_TOTAL_ASSET=%{x}<br>PX_TO_BOOK_RATIO=%{y}<br>ticker=%{customdata[0]}<br>revenue=%{customdata[1]}<br>CASH_FLOW_PER_SHARE=%{customdata[2]}<extra></extra>",
         "legendgroup": "0",
         "marker": {
          "color": "#636efa",
          "symbol": "circle"
         },
         "mode": "markers",
         "name": "0",
         "showlegend": true,
         "type": "scattergl",
         "x": [
          0.018687959,
          0.19538221,
          0.029146651000000003,
          0.219699443,
          0.052255271,
          0.157343453,
          0.179195255,
          0.100255195,
          0,
          0,
          0.049441885,
          0.23380875899999998,
          0.049047485999999994,
          0.22317801899999998,
          0.270395929,
          0.12430133199999999,
          0.479968315,
          0.082117821,
          0.357418616,
          0.037519222000000005,
          0.09461149099999999,
          0.400269472,
          0,
          0.014120425,
          0.308364017,
          0.081560559,
          0.326625522,
          0.303923744,
          0.235450999,
          0.034212978,
          0.14565798300000002,
          0.022684914,
          0.22715776199999999,
          0,
          0.026206168999999998,
          0,
          0.16285134699999998,
          0.6084483039999999,
          0.193288877,
          0,
          0.273263369,
          0.063549639,
          0.072448405,
          0.150316834,
          0.511819672,
          0.014038318999999999,
          0.40791401200000005,
          0.384854518,
          0.257572221,
          0.341002814,
          0.054968888,
          0.43535422,
          0.211194768,
          0.206405422,
          0.012645277,
          0.612116866,
          0,
          0.07219572099999999,
          0.08327807200000001,
          0.08574865400000001,
          0,
          0,
          0.43916798799999995,
          0.083683702,
          0,
          0.42278184,
          0.65566377,
          0.419954149,
          0.131556463,
          0.135291554,
          0.534876108,
          0.25913231800000003,
          0.025413787,
          0.11411532699999999,
          0.7048455,
          0.038597299,
          0.202391985,
          0.174163249,
          0.034550432,
          0.18329127399999998,
          0.053919894,
          0.092314211,
          0.111028357,
          0,
          0.24726331399999998,
          0.066818168,
          0.089081429,
          0.048966838,
          0.6253619779999999,
          0.10708708900000001,
          0.31506023,
          0.017846308999999998,
          0.51600207,
          0.057146507,
          0.775603079,
          0,
          0.271706532,
          0.033713921,
          0.131102559,
          0.3531687,
          0.07287521799999999,
          0.172667817,
          0.38613203399999996,
          1.067236755,
          0.21498925800000002,
          0.111044015,
          0.069320916,
          0.015619233,
          0.21434011600000002,
          0.094632275,
          0.135579784,
          0.110561738,
          0.17201754800000002,
          0.14531273,
          0.115493445,
          0.304083604,
          0.206096821,
          0.014547097,
          0.140177935,
          0.01926126,
          0.126850105,
          0.113852856,
          0.13398971199999998,
          0.127603871,
          0.11478718800000001,
          0.040125967,
          0.128881494,
          0.008121984
         ],
         "xaxis": "x",
         "y": [
          7.287999999999999,
          10.14,
          9.414,
          8.525,
          6.2620000000000005,
          16.097,
          25.328000000000003,
          1.006,
          3.253,
          3.903,
          5.695,
          3.575,
          17.456,
          6.747000000000001,
          2.141,
          3.15,
          6.035,
          23.785999999999998,
          10.604000000000001,
          3.182,
          6.452000000000001,
          11.757,
          2.037,
          7.541,
          10.116,
          11.079,
          17.337,
          11.854000000000001,
          10.03,
          3.96,
          1.5819999999999999,
          3.3560000000000003,
          24.093000000000004,
          4.771,
          3.7739999999999996,
          2.8480000000000003,
          9.676,
          14.314,
          4.981,
          3.1910000000000003,
          15.280999999999999,
          26.38,
          5.142,
          10.921,
          19.522000000000002,
          3.987,
          4.101,
          16.845,
          9.372,
          -94.435,
          2.657,
          9.546,
          1.2429999999999999,
          2.702,
          7.056,
          5.879,
          13.293,
          3.503,
          5.547999999999999,
          11.51,
          4.294,
          9.104,
          1.5630000000000002,
          4.487,
          4.667,
          24.183000000000003,
          4.293,
          13.388,
          12.446,
          12.77,
          8.152999999999999,
          3.639,
          15.251,
          -10.039,
          78.678,
          5.24,
          0.993,
          6.324,
          9.191,
          8.273,
          2.658,
          7.295,
          15.862,
          3.225,
          5.209,
          3.5069999999999997,
          6.044,
          12.5,
          81.681,
          6.766,
          4.209,
          2.5269999999999997,
          8.356,
          5.787999999999999,
          57.86600000000001,
          5.1,
          7.893,
          9.905,
          4.236000000000001,
          1.178,
          7.3870000000000005,
          2.537,
          1.008,
          -3.279,
          -26.156999999999996,
          1.695,
          1.81,
          9.246,
          2.9139999999999997,
          34.917,
          8.488,
          3.778,
          10.444,
          10.604000000000001,
          4.331,
          32.751999999999995,
          6.287999999999999,
          6.117000000000001,
          12.502,
          4.428,
          8.925,
          6.098,
          1.9040000000000001,
          4.39,
          1.4480000000000002,
          6.515,
          0.757,
          9.425
         ],
         "yaxis": "y"
        },
        {
         "customdata": [
          [
           "ZTS",
           1674000000,
           1.221920883
          ],
          [
           "ZEN",
           229871000,
           0.28714886
          ],
          [
           "ZBRA",
           1192000000,
           4.914553715
          ],
          [
           "ZBH",
           2125700000,
           2.0580076959999998
          ],
          [
           "Z",
           943947000,
           0.2801014
          ],
          [
           "YETI",
           297602000,
           0.703007598
          ],
          [
           "XYL",
           1371000000,
           2.154611465
          ],
          [
           "XRX",
           2371000000,
           2.026011949
          ],
          [
           "XPO",
           4136000000,
           3.781138515
          ],
          [
           "XEL",
           2798000000,
           1.346331096
          ],
          [
           "XEC",
           657244000,
           3.534117525
          ],
          [
           "X",
           2824000000,
           1.681977425
          ],
          [
           "WY",
           1548000000,
           0.391871405
          ],
          [
           "WWW",
           607400000,
           2.554536258
          ],
          [
           "WWE",
           322802000,
           1.520149565
          ],
          [
           "WWD",
           720355000,
           0.442908047
          ],
          [
           "WSM",
           1843590000,
           6.678217248999999
          ],
          [
           "WRK",
           4423700000,
           1.67200149
          ],
          [
           "WPX",
           443000000,
           0.8422499309999999
          ],
          [
           "WOR",
           827637000,
           1.862533644
          ],
          [
           "WMT",
           141671000000,
           3.7769965689999996
          ],
          [
           "WMS",
           393424000,
           1.8251405580000002
          ],
          [
           "WMGI",
           248605000,
           0.18382811699999999
          ],
          [
           "WMB",
           2107000000,
           0.817623821
          ],
          [
           "WM",
           3846000000,
           2.409006952
          ],
          [
           "WLK",
           1883000000,
           2.594669396
          ],
          [
           "WK",
           80265000,
           0.042767398
          ],
          [
           "WIX",
           204588000,
           0.810758422
          ],
          [
           "WHR",
           5382000000,
           28.41782224
          ],
          [
           "WH",
           492000000,
           0.956209212
          ],
          [
           "WGO",
           588458000,
           2.498605396
          ],
          [
           "WEX",
           440045000,
           10.578426499999999
          ],
          [
           "WEC",
           1947500000,
           1.600326685
          ],
          [
           "WDFC",
           98556000,
           1.109630485
          ],
          [
           "WDC",
           4234000000,
           0.864142842
          ],
          [
           "WDAY",
           976299000,
           1.2918
          ],
          [
           "WCN",
           1361960000,
           1.346788759
          ],
          [
           "WBA",
           34339000000,
           1.188740715
          ],
          [
           "WAB",
           2368400000,
           2.336155059
          ],
          [
           "VZ",
           34775000000,
           2.175645427
          ],
          [
           "VVI",
           321334000,
           0.344379655
          ],
          [
           "VST",
           2860000000,
           1.873226759
          ],
          [
           "VSLR",
           77064000,
           -0.8866154740000001
          ],
          [
           "VSAT",
           588224000,
           1.7940571669999998
          ],
          [
           "VRTU",
           335107000,
           1.6971772109999999
          ],
          [
           "VRSK",
           676800000,
           1.07646416
          ],
          [
           "VRNT",
           339203000,
           1.5179278040000002
          ],
          [
           "VMI",
           683626000,
           3.176870687
          ],
          [
           "VMC",
           1186152000,
           2.553692786
          ],
          [
           "VIAV",
           313700000,
           0.165368028
          ],
          [
           "VIAC",
           16541000000,
           2.372389996
          ],
          [
           "VG",
           309687000,
           0.13632464800000002
          ],
          [
           "VFC",
           3384746000,
           3.02249299
          ],
          [
           "VC",
           744000000,
           2.324306062
          ],
          [
           "VAL",
           512100000,
           0.7610781520000001
          ],
          [
           "USM",
           1052000000,
           0.42950090799999996
          ],
          [
           "USFD",
           6934000000,
           0.916045326
          ],
          [
           "USAC",
           178188000,
           0.949118178
          ],
          [
           "URBN",
           1169578000,
           1.5564222109999999
          ],
          [
           "UPS",
           17160000000,
           3.43427616
          ],
          [
           "UNVR",
           2155000000,
           1.955323741
          ],
          [
           "UNP",
           5212000000,
           3.377989612
          ],
          [
           "ULTA",
           2305918000,
           9.513195124
          ],
          [
           "UIS",
           741500000,
           2.014592961
          ],
          [
           "UHS",
           2896247000,
           4.443353711
          ],
          [
           "UGI",
           2006600000,
           0.5664772570000001
          ],
          [
           "UCTT",
           286369000,
           0.802068743
          ],
          [
           "UAL",
           10888000000,
           4.6671789630000005
          ],
          [
           "UAA",
           1441225000,
           0.90034143
          ],
          [
           "TXT",
           4035000000,
           3.2199734589999998
          ],
          [
           "TXRH",
           725238000,
           1.906099286
          ],
          [
           "TWNK",
           216666000,
           0.28083868
          ],
          [
           "TU",
           3858000000,
           0.692363429
          ],
          [
           "TTMI",
           719253000,
           1.233703266
          ],
          [
           "TTEC",
           461326000,
           1.152844653
          ],
          [
           "TTC",
           767483000,
           -0.21808759100000003
          ],
          [
           "TSN",
           10815000000,
           2.4480099909999997
          ],
          [
           "TSLA",
           7384000000,
           7.905912079
          ],
          [
           "TSE",
           888800000,
           1.205736855
          ],
          [
           "TSCO",
           2191785000,
           3.356716515
          ],
          [
           "TRU",
           685600000,
           1.042485396
          ],
          [
           "TRP",
           3263000000,
           1.9888978130000001
          ],
          [
           "TROX",
           693000000,
           1.233359644
          ],
          [
           "TRMB",
           824000000,
           0.490499676
          ],
          [
           "TRHC",
           73223000,
           0.044854736
          ],
          [
           "TRGP",
           2473900000,
           2.0224541119999997
          ],
          [
           "TREE",
           255187000,
           3.4890737489999997
          ],
          [
           "TPX",
           871300000,
           -0.005546284
          ],
          [
           "TPR",
           1816000000,
           2.014962583
          ],
          [
           "TNC",
           294800000,
           1.406916412
          ],
          [
           "TMUS",
           11878000000,
           1.7964531019999999
          ],
          [
           "TMO",
           6829000000,
           4.770677938
          ],
          [
           "TLND",
           66807000,
           0.061591787
          ],
          [
           "TKR",
           896200000,
           2.592792602
          ],
          [
           "TJX",
           12206462000,
           1.822674289
          ],
          [
           "TIVO",
           175198000,
           0.566955931
          ],
          [
           "TIF",
           1357900000,
           3.394944517
          ],
          [
           "THS",
           1139500000,
           4.660845318
          ],
          [
           "THO",
           2003133000,
           1.0379762909999999
          ],
          [
           "TGT",
           23399000000,
           5.837346185
          ],
          [
           "TGI",
           704666000,
           0.995918175
          ],
          [
           "TGE",
           232963000,
           0.571554926
          ],
          [
           "TFX",
           680952000,
           3.190497477
          ],
          [
           "TEX",
           885000000,
           1.332398317
          ],
          [
           "TEVA",
           3991000000,
           0.49263365200000003
          ],
          [
           "TEAM",
           408725000,
           0.898963627
          ],
          [
           "TDS",
           1336000000,
           1.238014364
          ],
          [
           "TDC",
           494000000,
           0.48
          ],
          [
           "TAP",
           2486200000,
           3.063734937
          ],
          [
           "T",
           46821000000,
           1.634907598
          ],
          [
           "SYY",
           15025042000,
           1.142413463
          ],
          [
           "SYNH",
           1212954000,
           1.546757521
          ],
          [
           "SYNA",
           388300000,
           2.172472308
          ],
          [
           "SYK",
           4131000000,
           1.963315249
          ],
          [
           "SXT",
           318585000,
           1.172087082
          ],
          [
           "SWX",
           848137000,
           2.231272004
          ],
          [
           "SWM",
           238500000,
           1.339950618
          ],
          [
           "SWI",
           247495000,
           0.26692192
          ],
          [
           "SWCH",
           126133000,
           0.149727275
          ],
          [
           "SVMK",
           84324000,
           0.069967677
          ],
          [
           "SUPN",
           100446000,
           0.8347035709999999
          ],
          [
           "SUM",
           556528000,
           1.543836098
          ],
          [
           "STZ",
           1999400000,
           3.427851731
          ],
          [
           "STX",
           2696000000,
           1.827101979
          ],
          [
           "STLD",
           2350196000,
           1.898620942
          ],
          [
           "ST",
           846691000,
           1.171109781
          ],
          [
           "SSP",
           444401000,
           -0.475303615
          ],
          [
           "SSNC",
           1203500000,
           2.268597738
          ],
          [
           "SRE",
           2943000000,
           3.440986109
          ],
          [
           "SRCL",
           799900000,
           0.513564963
          ],
          [
           "SR",
           566900000,
           1.265274958
          ],
          [
           "SPWR",
           603761000,
           -0.029808109
          ],
          [
           "SPR",
           1959300000,
           1.971648239
          ],
          [
           "SPLK",
           791182000,
           -0.37719574
          ],
          [
           "SPGI",
           1735000000,
           4.10801964
          ],
          [
           "SPB",
           871500000,
           -4.0287459519999995
          ],
          [
           "SON",
           1308850000,
           1.868491532
          ],
          [
           "SO",
           4914000000,
           0.858177583
          ],
          [
           "SNX",
           6581293000,
           6.802635314
          ],
          [
           "SMPL",
           152153000,
           -0.08319471099999999
          ],
          [
           "SLGN",
           1048292000,
           4.6020925880000005
          ],
          [
           "SLB",
           8228000000,
           1.6267100980000002
          ],
          [
           "SKYW",
           743591000,
           2.748081151
          ],
          [
           "SJW",
           125838000,
           1.360954917
          ],
          [
           "SJM",
           1972300000,
           4.5731765189999996
          ],
          [
           "SJI",
           463191000,
           -0.003939698
          ],
          [
           "SITE",
           535000000,
           1.604711976
          ],
          [
           "SIG",
           2153300000,
           8.447535047999999
          ],
          [
           "SHW",
           4114429000,
           7.148720973
          ],
          [
           "SHAK",
           151435000,
           0.44811824100000003
          ],
          [
           "SERV",
           507000000,
           0.23595554300000002
          ],
          [
           "SCS",
           955200000,
           1.5028406419999998
          ],
          [
           "SCCO",
           1854600000,
           0.700334763
          ],
          [
           "SAVE",
           969816000,
           2.818530557
          ],
          [
           "SATS",
           499006000,
           1.263102309
          ],
          [
           "SAIL",
           88999000,
           0.11699217099999999
          ],
          [
           "SAIC",
           1630000000,
           2.010350079
          ],
          [
           "SABR",
           941422000,
           0.572847509
          ],
          [
           "S",
           8080000000,
           0.47603325
          ],
          [
           "RYN",
           178792000,
           0.38712130200000006
          ],
          [
           "RXN",
           491700000,
           0.834305345
          ],
          [
           "RUSHA",
           1317704000,
           5.52362927
          ],
          [
           "RUN",
           243937000,
           -0.833313449
          ],
          [
           "RSG",
           2576700000,
           1.770983385
          ],
          [
           "RPM",
           1401292000,
           1.195431736
          ],
          [
           "RPD",
           91648000,
           0.1584296
          ],
          [
           "RP",
           254767000,
           1.3792470469999998
          ],
          [
           "ROST",
           4413445000,
           2.11940213
          ],
          [
           "ROP",
           1394800000,
           4.480196408
          ],
          [
           "ROL",
           505985000,
           0.240867286
          ],
          [
           "ROKU",
           411230000,
           -0.09003074
          ],
          [
           "ROK",
           1684500000,
           2.000052931
          ],
          [
           "RNG",
           252865000,
           -0.07341716200000001
          ],
          [
           "RMD",
           736157000,
           0.48636126
          ],
          [
           "RMAX",
           68193000,
           1.3337281220000001
          ],
          [
           "RLGY",
           1120000000,
           1.233158369
          ],
          [
           "RL",
           1750700000,
           7.289281077
          ],
          [
           "RIG",
           792000000,
           0.240250398
          ],
          [
           "REZI",
           1304000000,
           0.7572170229999999
          ],
          [
           "RDFN",
           233191000,
           0.271272819
          ],
          [
           "RCM",
           314000000,
           0.625526193
          ],
          [
           "RCL",
           2517413000,
           2.9065239
          ],
          [
           "RBC",
           738200000,
           3.353509345
          ],
          [
           "RBA",
           332194000,
           0.21884660399999997
          ],
          [
           "R",
           2276549000,
           10.34587808
          ],
          [
           "QTWO",
           86840000,
           0.039351496
          ],
          [
           "QRTEA",
           4173000000,
           0.8994013590000001
          ],
          [
           "QGEN",
           413472000,
           0.485257179
          ],
          [
           "QCOM",
           5077000000,
           0.979117248
          ],
          [
           "PTEN",
           492297000,
           0.577573052
          ],
          [
           "PTC",
           356110000,
           0.065043052
          ],
          [
           "PSXP",
           432000000,
           1.1380908859999999
          ],
          [
           "PSTG",
           492004000,
           0.268297181
          ],
          [
           "PS",
           88811000,
           -0.056297135
          ],
          [
           "PRSP",
           1126000000,
           0.7417757420000001
          ],
          [
           "PRIM",
           789778000,
           3.1010296989999997
          ],
          [
           "PRGS",
           117038000,
           0.81724955
          ],
          [
           "PRGO",
           1322800000,
           0.657558354
          ],
          [
           "PRAH",
           800240000,
           2.965643801
          ],
          [
           "PQG",
           352375000,
           0.629195166
          ],
          [
           "PPL",
           1954000000,
           0.7454707709999999
          ],
          [
           "PPG",
           3672000000,
           3.421251012
          ],
          [
           "PPC",
           3063489000,
           0.524970064
          ],
          [
           "POST",
           1456800000,
           1.533086402
          ],
          [
           "POR",
           548000000,
           0.492323529
          ],
          [
           "POOL",
           582234000,
           1.3867667240000001
          ],
          [
           "POL",
           658600000,
           1.328737807
          ],
          [
           "PNW",
           670391000,
           1.0849933809999999
          ],
          [
           "PNM",
           344145000,
           1.9070946480000002
          ],
          [
           "PLOW",
           160298000,
           4.319509557
          ],
          [
           "PLCE",
           513020000,
           5.133562163
          ],
          [
           "PKI",
           805496000,
           1.937078569
          ],
          [
           "PKG",
           1720000000,
           3.4777861530000003
          ],
          [
           "PII",
           1735866000,
           3.5784595130000003
          ],
          [
           "PH",
           3497974000,
           2.933389255
          ],
          [
           "PGTI",
           174826000,
           0.461332467
          ],
          [
           "PG",
           18240000000,
           1.7499313969999999
          ],
          [
           "PFPT",
           243429000,
           1.353326714
          ],
          [
           "PFGC",
           6068600000,
           0.697688091
          ],
          [
           "PFE",
           12688000000,
           0.681047464
          ],
          [
           "PEP",
           20640000000,
           3.288786418
          ],
          [
           "PEGI",
           147000000,
           0.49877790299999997
          ],
          [
           "PEG",
           2478000000,
           1.3248268509999999
          ],
          [
           "PE",
           522451000,
           1.089433152
          ],
          [
           "PDCE",
           265022000,
           2.961875595
          ],
          [
           "PCRX",
           122424000,
           0.620740452
          ],
          [
           "PCH",
           203499000,
           0.500453087
          ],
          [
           "PCAR",
           6117200000,
           2.728453258
          ],
          [
           "PBH",
           241552000,
           1.154589818
          ],
          [
           "PBF",
           6301500000,
           4.182942426
          ],
          [
           "PATK",
           549460000,
           2.9614393060000004
          ],
          [
           "PANW",
           816700000,
           3.1329934269999997
          ],
          [
           "PAHC",
           214012000,
           0.793279057
          ],
          [
           "PAGP",
           9154000000,
           3.98887929
          ],
          [
           "PAA",
           9154000000,
           0.997213604
          ],
          [
           "OXY",
           6796000000,
           2.248920532
          ],
          [
           "OXM",
           297596000,
           2.7417833939999996
          ],
          [
           "OVV",
           1565000000,
           2.80961098
          ],
          [
           "OTTR",
           215676000,
           2.00930334
          ],
          [
           "OTEX",
           771557000,
           0.7664148479999999
          ],
          [
           "OSIS",
           305342000,
           1.895087573
          ],
          [
           "ORLY",
           2482975000,
           2.8919665589999997
          ],
          [
           "ORCL",
           9614000000,
           0.15600624
          ],
          [
           "ORA",
           192442000,
           0.6871611470000001
          ],
          [
           "OPCH",
           720779000,
           0.12975573099999999
          ],
          [
           "ON",
           1401800000,
           0.223265298
          ],
          [
           "OMC",
           4141200000,
           9.589310089
          ],
          [
           "OLN",
           1387100000,
           1.2569569859999998
          ],
          [
           "OKTA",
           167327000,
           0.204901988
          ],
          [
           "OKE",
           2663606000,
           1.50074325
          ],
          [
           "OII",
           560810000,
           0.45893286299999997
          ],
          [
           "OI",
           1628000000,
           4.189409985
          ],
          [
           "OGS",
           452607000,
           0.41340623200000004
          ],
          [
           "OGE",
           472500000,
           1.316340206
          ],
          [
           "ODP",
           2508000000,
           0.278141591
          ],
          [
           "OCFT",
           772923000,
           -0.318179186
          ],
          [
           "OC",
           1692000000,
           4.053775865
          ],
          [
           "NXPI",
           2301000000,
           2.9120613810000004
          ],
          [
           "NWN",
           247264000,
           1.014766437
          ],
          [
           "NWL",
           2976400000,
           1.464100142
          ],
          [
           "NWE",
           328135000,
           0.849587491
          ],
          [
           "NVST",
           720500000,
           1.178686326
          ],
          [
           "NVCR",
           99234000,
           0.070345591
          ],
          [
           "NUVA",
           310354000,
           1.434602418
          ],
          [
           "NUAN",
           418233000,
           0.18947738
          ],
          [
           "NSC",
           2690000000,
           3.432450447
          ],
          [
           "NS",
           399694000,
           1.4296529669999998
          ],
          [
           "NPO",
           85400000,
           2.737684545
          ],
          [
           "NP",
           213600000,
           1.379737309
          ],
          [
           "NOVT",
           159702000,
           1.009442083
          ],
          [
           "NOVA",
           33614000,
           -1.139830808
          ],
          [
           "NOC",
           8721000000,
           14.62030281
          ],
          [
           "NMRK",
           632364000,
           3.297811965
          ],
          [
           "NJR",
           615036000,
           -0.477614266
          ],
          [
           "NI",
           1397200000,
           0.94099025
          ],
          [
           "NGL",
           2226529000,
           2.6395258619999997
          ],
          [
           "NFLX",
           5467434000,
           -3.33592858
          ],
          [
           "NFH",
           639740000,
           0.19081865899999997
          ],
          [
           "NFG",
           444188000,
           1.943231425
          ],
          [
           "NFE",
           69752000,
           -0.47335610100000003
          ],
          [
           "NEX",
           528216000,
           0.379991442
          ],
          [
           "NEWR",
           153028000,
           -0.23539026100000002
          ],
          [
           "NEU",
           534445000,
           9.291530725
          ],
          [
           "NEP",
           206000000,
           1.545448585
          ],
          [
           "NEE",
           4588000000,
           3.91181314
          ],
          [
           "NDSN",
           494916000,
           2.014871807
          ],
          [
           "NDAQ",
           1065000000,
           2.068144255
          ],
          [
           "NCR",
           1886000000,
           3.150470219
          ],
          [
           "NCLH",
           1480618000,
           1.6067633419999998
          ],
          [
           "NBLX",
           228257000,
           2.9974808439999996
          ],
          [
           "NBL",
           1174000000,
           0.9805602240000001
          ],
          [
           "NBIX",
           244010000,
           1.113574537
          ],
          [
           "MYL",
           3191800000,
           1.330472259
          ],
          [
           "MXL",
           70018000,
           0.392742638
          ],
          [
           "MWA",
           212600000,
           -0.078670127
          ],
          [
           "MUSA",
           3460200000,
           2.0058745140000003
          ],
          [
           "MUR",
           637480000,
           2.132544219
          ],
          [
           "MTZ",
           1709223000,
           1.426449164
          ],
          [
           "MTX",
           440200000,
           2.289485403
          ],
          [
           "MTOR",
           901000000,
           -0.243205146
          ],
          [
           "MTN",
           924638000,
           8.1562381
          ],
          [
           "MTDR",
           288675000,
           1.7053593
          ],
          [
           "MTD",
           843968000,
           8.282308256
          ],
          [
           "MSI",
           2376000000,
           4.640004899
          ],
          [
           "MSEX",
           32739000,
           0.762168602
          ],
          [
           "MRO",
           1215000000,
           0.875078165
          ],
          [
           "MRK",
           11868000000,
           1.882965381
          ],
          [
           "MPLX",
           2316000000,
           1.031789604
          ],
          [
           "MPC",
           31308000000,
           3.710025349
          ],
          [
           "MOS",
           2076300000,
           0.732912813
          ],
          [
           "MORN",
           332400000,
           1.927125819
          ],
          [
           "MODN",
           38388000,
           -0.151265027
          ],
          [
           "MO",
           6007000000,
           1.371962759
          ],
          [
           "MNRO",
           329281000,
           1.374569744
          ],
          [
           "MMP",
           740682000,
           1.7450788869999998
          ],
          [
           "MMM",
           8111000000,
           4.065728783
          ],
          [
           "MMC",
           4264000000,
           2.120204759
          ],
          [
           "MLM",
           1100432000,
           5.060788842
          ],
          [
           "MLI",
           543839000,
           1.2048198479999999
          ],
          [
           "MLAB",
           31655000,
           2.524134256
          ],
          [
           "MKSI",
           499651000,
           1.417106896
          ],
          [
           "MKC",
           1484800000,
           3.4022543639999996
          ],
          [
           "MIME",
           110158000,
           0.311059502
          ],
          [
           "MIDD",
           787626000,
           2.630544378
          ],
          [
           "MIC",
           424000000,
           0.705509188
          ],
          [
           "MGM",
           3185136000,
           0.8821491220000001
          ],
          [
           "MGEE",
           140941000,
           0.54150224
          ],
          [
           "MDU",
           1378213000,
           1.6926362469999998
          ],
          [
           "MDT",
           7717000000,
           1.7957627459999999
          ],
          [
           "MDRX",
           450984000,
           0.075816274
          ],
          [
           "MDP",
           810500000,
           1.8900520930000002
          ],
          [
           "MDLZ",
           6913000000,
           1.446704224
          ],
          [
           "MCS",
           206862000,
           1.7953918759999998
          ],
          [
           "MCRI",
           62080000,
           0.844867047
          ],
          [
           "MCO",
           1232800000,
           2.539724576
          ],
          [
           "MCHP",
           1287400000,
           1.6549665759999999
          ],
          [
           "MATX",
           540700000,
           1.595639518
          ],
          [
           "MATW",
           364944000,
           0.170933337
          ],
          [
           "MAT",
           1473705000,
           2.003481298
          ],
          [
           "MAR",
           5371000000,
           1.5140521519999999
          ],
          [
           "MANU",
           168455000,
           -0.084054045
          ],
          [
           "M",
           8337000000,
           4.64777117
          ],
          [
           "LYV",
           2889448000,
           2.044123756
          ],
          [
           "LYB",
           8179000000,
           3.725134011
          ],
          [
           "LVS",
           3509000000,
           1.617110571
          ],
          [
           "LSCC",
           100237000,
           0.294404035
          ],
          [
           "LRCX",
           2583501000,
           2.122486629
          ],
          [
           "LPSN",
           79073000,
           -0.282696034
          ],
          [
           "LNT",
           880100000,
           0.6291010429999999
          ],
          [
           "LMT",
           15878000000,
           5.28235016
          ],
          [
           "LM",
           753914000,
           3.8634345619999997
          ],
          [
           "LLY",
           6114000000,
           2.045242231
          ],
          [
           "LKQ",
           3009860000,
           0.322591814
          ],
          [
           "LITE",
           457800000,
           2.102331606
          ],
          [
           "LH",
           2953400000,
           5.868177137000001
          ],
          [
           "LEG",
           1144900000,
           1.910293789
          ],
          [
           "LECO",
           736307000,
           2.003625329
          ],
          [
           "LDOS",
           2954000000,
           1.193807802
          ],
          [
           "LCII",
           564021000,
           2.396682212
          ],
          [
           "LAUR",
           883152000,
           0.12579469999999998
          ],
          [
           "KWR",
           391294000,
           2.644776682
          ],
          [
           "KTOS",
           185100000,
           -0.009410028
          ],
          [
           "KSU",
           729500000,
           2.4768055980000003
          ],
          [
           "KSS",
           6832000000,
           3.9088471910000004
          ],
          [
           "KR",
           27974000000,
           0.9618006729999999
          ],
          [
           "KOS",
           460215000,
           0.5675339070000001
          ],
          [
           "KO",
           9068000000,
           0.630179819
          ],
          [
           "KNL",
           371500000,
           0.80563182
          ],
          [
           "KMT",
           505080000,
           0.718733072
          ],
          [
           "KMI",
           3352000000,
           0.7183332570000001
          ],
          [
           "KLAC",
           1509453000,
           2.45718965
          ],
          [
           "KHC",
           6536000000,
           1.279110988
          ],
          [
           "KEX",
           655927000,
           2.072063656
          ],
          [
           "KEN",
           89473000,
           -0.040091591
          ],
          [
           "KDP",
           2934000000,
           0.47697330299999996
          ],
          [
           "KBR",
           1452000000,
           0.402218184
          ],
          [
           "KAR",
           671300000,
           0.7315171359999999
          ],
          [
           "KALU",
           368700000,
           4.937457092
          ],
          [
           "KAI",
           182659000,
           3.4816663169999997
          ],
          [
           "K",
           3223000000,
           0.735867148
          ],
          [
           "JWN",
           4537000000,
           4.296208656
          ],
          [
           "JELD",
           1068561000,
           1.370076315
          ],
          [
           "JCOM",
           405588000,
           2.118428597
          ],
          [
           "JBT",
           545500000,
           2.3779001180000003
          ],
          [
           "JBLU",
           2031000000,
           0.8694325479999999
          ],
          [
           "ITW",
           3469000000,
           2.408168388
          ],
          [
           "ITRI",
           628383000,
           1.130700942
          ],
          [
           "ITGR",
           325637000,
           1.633515262
          ],
          [
           "IT",
           1203493000,
           0.926017366
          ],
          [
           "IRDM",
           138874000,
           0.424823626
          ],
          [
           "IR",
           605800000,
           0.483793336
          ],
          [
           "IQV",
           2895000000,
           3.0045727589999998
          ],
          [
           "IPHI",
           102896000,
           0.48071029299999996
          ],
          [
           "IPG",
           2901800000,
           2.851453362
          ],
          [
           "IP",
           5498000000,
           2.36664375
          ],
          [
           "INOV",
           173489000,
           0.220853145
          ],
          [
           "INGR",
           1898000000,
           2.84584545
          ],
          [
           "INFO",
           1120400000,
           0.562859672
          ],
          [
           "IIVI",
           666331000,
           0.9012187629999999
          ],
          [
           "IFF",
           1283769000,
           2.958804817
          ],
          [
           "IDXX",
           605446000,
           1.8117083269999998
          ],
          [
           "IDA",
           292848000,
           1.579645734
          ],
          [
           "IBP",
           401231000,
           0.5513588429999999
          ],
          [
           "IBM",
           21777000000,
           3.8966283369999997
          ],
          [
           "IART",
           395127000,
           1.038645608
          ],
          [
           "IAC",
           1217680000,
           2.945655271
          ],
          [
           "HZNP",
           363545000,
           1.0217710759999998
          ],
          [
           "HXL",
           564300000,
           2.533832411
          ],
          [
           "HURN",
           255199000,
           3.512168885
          ],
          [
           "HUN",
           1657000000,
           1.020123909
          ],
          [
           "HUBS",
           186186000,
           1.118388777
          ],
          [
           "HUBB",
           1103300000,
           3.79696096
          ],
          [
           "HSY",
           2068125000,
           3.687923197
          ],
          [
           "HSC",
           399787000,
           -0.638506745
          ],
          [
           "HRC",
           685000000,
           1.15334924
          ],
          [
           "HQY",
           201200000,
           0.43651692299999995
          ],
          [
           "HPE",
           6949000000,
           -0.061101723
          ],
          [
           "HON",
           9496000000,
           3.65833093
          ],
          [
           "HOLX",
           850500000,
           0.424769529
          ],
          [
           "HLIO",
           125927000,
           1.235259768
          ],
          [
           "HI",
           566900000,
           0.283688273
          ],
          [
           "HHR",
           2066358000,
           30.5294
          ],
          [
           "HESM",
           305900000,
           1.437071912
          ],
          [
           "HES",
           1699000000,
           0.938608952
          ],
          [
           "HDS",
           1385000000,
           1.109992253
          ],
          [
           "HBI",
           1751005000,
           1.544751004
          ],
          [
           "HAS",
           1428007000,
           2.087021327
          ],
          [
           "HAL",
           5191000000,
           1.329453354
          ],
          [
           "HAE",
           258970000,
           1.564283062
          ],
          [
           "HA",
           708137000,
           0.606223374
          ],
          [
           "GWW",
           2847000000,
           5.049543634
          ],
          [
           "GTN",
           579000000,
           1.293339753
          ],
          [
           "GTLS",
           342400000,
           2.195593344
          ],
          [
           "GTES",
           725700000,
           0.702127797
          ],
          [
           "GT",
           3713000000,
           5.78766637
          ],
          [
           "GRUB",
           341270000,
           0.291068142
          ],
          [
           "GRA",
           504500000,
           1.8535793669999998
          ],
          [
           "GPS",
           4674000000,
           2.365393639
          ],
          [
           "GPK",
           1519800000,
           1.257894541
          ],
          [
           "GPC",
           4706189000,
           1.01035758
          ],
          [
           "GOOS",
           452100000,
           2.385772752
          ],
          [
           "GO",
           655517000,
           0.318867858
          ],
          [
           "GNRC",
           590932000,
           2.799484077
          ],
          [
           "GMS",
           761352000,
           1.551842606
          ],
          [
           "GM",
           30826000000,
           2.430738211
          ],
          [
           "GLW",
           2817000000,
           1.32360819
          ],
          [
           "GIS",
           4420800000,
           1.463449899
          ],
          [
           "GILD",
           5879000000,
           2.039290952
          ],
          [
           "GIII",
           754617000,
           8.974102002999999
          ],
          [
           "GES",
           842254000,
           3.441821025
          ],
          [
           "GEL",
           604329000,
           0.412451644
          ],
          [
           "GEF",
           1112400000,
           0.403988774
          ],
          [
           "GDDY",
           780400000,
           0.9415331259999999
          ],
          [
           "GD",
           10773000000,
           8.274972197
          ],
          [
           "GCP",
           258300000,
           0.423742735
          ],
          [
           "G",
           940739000,
           0.455731314
          ],
          [
           "FWONA",
           2619000000,
           1.717224106
          ],
          [
           "FUL",
           739106000,
           2.136637716
          ],
          [
           "FTV",
           2002400000,
           1.41570601
          ],
          [
           "FTS",
           2326000000,
           1.446497833
          ],
          [
           "FTI",
           3726800000,
           1.250601795
          ],
          [
           "FRPT",
           65751772,
           0.35549780700000005
          ],
          [
           "FOXA",
           3778000000,
           -0.7378947809999999
          ],
          [
           "FOE",
           -128812000,
           1.03637383
          ],
          [
           "FND",
           527002000,
           -0.048843254
          ],
          [
           "FMC",
           1197300000,
           3.540476597
          ],
          [
           "FLT",
           698881000,
           4.274382748
          ],
          [
           "FLS",
           1068171000,
           1.289544621
          ],
          [
           "FLOW",
           364300000,
           1.743139103
          ],
          [
           "FLO",
           917759000,
           0.420076071
          ],
          [
           "FLEX",
           6461387000,
           -0.10012429699999999
          ],
          [
           "FL",
           2221000000,
           2.859456298
          ],
          [
           "FIVN",
           92263000,
           0.254852058
          ],
          [
           "FIVE",
           687130000,
           3.326098711
          ],
          [
           "FISV",
           4045000000,
           1.732620476
          ],
          [
           "FIS",
           3342000000,
           1.0885123140000001
          ],
          [
           "FEYE",
           235086000,
           0.182312845
          ],
          [
           "FE",
           2673000000,
           1.351071966
          ],
          [
           "FDX",
           17324000000,
           5.783596692000001
          ],
          [
           "FDS",
           366658000,
           2.524488987
          ],
          [
           "FCX",
           3911000000,
           0.11716754800000001
          ],
          [
           "FCFS",
           498362000,
           1.587929561
          ],
          [
           "FBHS",
           1470500000,
           2.036633386
          ],
          [
           "FANG",
           1104000000,
           5.497224312999999
          ],
          [
           "EYE",
           401763000,
           -0.07402869299999999
          ],
          [
           "EXPE",
           2747000000,
           2.3535701159999998
          ],
          [
           "EXP",
           350249000,
           3.2649078960000004
          ],
          [
           "EXLS",
           256872000,
           1.83210643
          ],
          [
           "EXC",
           8342000000,
           1.296151126
          ],
          [
           "EXAS",
           295575000,
           -0.220931514
          ],
          [
           "EVTC",
           127186000,
           0.60871028
          ],
          [
           "EVRG",
           1131600000,
           1.323807698
          ],
          [
           "EVOP",
           129380000,
           -0.011407713
          ],
          [
           "EVBG",
           57111000,
           0.043296254000000006
          ],
          [
           "ETSY",
           269998000,
           0.663194065
          ],
          [
           "ETRN",
           425859000,
           1.123000027
          ],
          [
           "ETR",
           2462306000,
           3.509154648
          ],
          [
           "ETN",
           5238000000,
           2.266569908
          ],
          [
           "ET",
           13720000000,
           0.77541028
          ],
          [
           "ESI",
           454700000,
           0.283553032
          ],
          [
           "ES",
           2050386000,
           1.5898344
          ],
          [
           "EQT",
           1011483000,
           0.85216335
          ],
          [
           "EQM",
           425859000,
           1.4681552080000002
          ],
          [
           "EQIX",
           1417135000,
           6.211035258
          ],
          [
           "EPD",
           8005300000,
           0.773946457
          ],
          [
           "EPC",
           454000000,
           -0.8652024220000001
          ],
          [
           "ENV",
           239936000,
           0.893427434
          ],
          [
           "ENTG",
           426998000,
           0.95380601
          ],
          [
           "ENSG",
           311152000,
           1.02393099
          ],
          [
           "ENS",
           763698000,
           1.6736204959999998
          ],
          [
           "ENLC",
           1155700000,
           0.43969305399999997
          ],
          [
           "ENBL",
           731000000,
           0.576809266
          ],
          [
           "ENB",
           12352000000,
           0.984720412
          ],
          [
           "EMR",
           4151000000,
           0.696047493
          ],
          [
           "EMN",
           2205000000,
           4.934577685
          ],
          [
           "ELY",
           311941000,
           0.24118412399999997
          ],
          [
           "ELAN",
           787000000,
           0.33860226600000004
          ],
          [
           "EL",
           4624000000,
           3.9603844489999998
          ],
          [
           "EIX",
           2970000000,
           1.422192933
          ],
          [
           "EHC",
           1184400000,
           2.186611778
          ],
          [
           "EFX",
           905800000,
           1.9052985830000002
          ],
          [
           "EEFT",
           693747000,
           2.593276486
          ],
          [
           "EE",
           190103000,
           2.065537436
          ],
          [
           "ED",
           2951000000,
           3.531566222
          ],
          [
           "ECOL",
           231268000,
           0.706710774
          ],
          [
           "ECL",
           3823600000,
           2.8482775719999998
          ],
          [
           "EBS",
           360300000,
           2.365197496
          ],
          [
           "EBIX",
           146183000,
           -0.598381838
          ],
          [
           "EBAY",
           2821000000,
           0.996896157
          ],
          [
           "DY",
           737603000,
           6.082772683
          ],
          [
           "DXCM",
           462800000,
           1.5700012769999998
          ],
          [
           "DXC",
           5021000000,
           1.86329925
          ],
          [
           "DUK",
           6103000000,
           3.52796165
          ],
          [
           "DTE",
           3148000000,
           4.078594516
          ],
          [
           "DRI",
           2056400000,
           1.552998488
          ],
          [
           "DOW",
           10204000000,
           2.629818974
          ],
          [
           "DOV",
           1775589000,
           2.486521555
          ],
          [
           "DOOR",
           531237000,
           3.3472016719999997
          ],
          [
           "DOCU",
           274895000,
           0.253573155
          ],
          [
           "DLX",
           522070000,
           1.867589654
          ],
          [
           "DLTR",
           6315300000,
           3.6140102510000003
          ],
          [
           "DLPH",
           1056000000,
           1.6497884790000001
          ],
          [
           "DKS",
           2608650000,
           7.02478382
          ],
          [
           "DK",
           2283700000,
           1.708084344
          ],
          [
           "DISH",
           3240865000,
           1.285389088
          ],
          [
           "DISCA",
           2874000000,
           2.345253341
          ],
          [
           "DIS",
           20858000000,
           0.893809104
          ],
          [
           "DHR",
           2837300000,
           1.547026485
          ],
          [
           "DGX",
           1926000000,
           2.5835748219999997
          ],
          [
           "DG",
           7157642000,
           2.265858954
          ],
          [
           "DELL",
           24032000000,
           4.8072196719999996
          ],
          [
           "DD",
           5204000000,
           0.780230506
          ],
          [
           "DCP",
           1929000000,
           1.548874008
          ],
          [
           "DCI",
           662000000,
           0.71665172
          ],
          [
           "DBX",
           446000000,
           0.449770424
          ],
          [
           "DBI",
           817710000,
           1.095966858
          ],
          [
           "DAR",
           859428000,
           0.610459903
          ],
          [
           "DAN",
           1987000000,
           2.4248922459999998
          ],
          [
           "DAL",
           11439000000,
           1.479722573
          ],
          [
           "D",
           4475000000,
           1.816318822
          ],
          [
           "CXW",
           497809000,
           0.422450713
          ],
          [
           "CWT",
           176878000,
           0.8401910890000001
          ],
          [
           "CWK",
           2607500000,
           1.687728167
          ],
          [
           "CVS",
           66889000000,
           2.024652478
          ],
          [
           "CVI",
           1570000000,
           0.9350386940000001
          ],
          [
           "CUB",
           328839000,
           -1.5222204019999999
          ],
          [
           "CTLT",
           721400000,
           0.824967274
          ],
          [
           "CTL",
           5570000000,
           1.751008114
          ],
          [
           "CTAS",
           1843749000,
           2.844937129
          ],
          [
           "CSX",
           2885000000,
           1.422661393
          ],
          [
           "CSOD",
           149594000,
           1.03090634
          ],
          [
           "CSL",
           1144300000,
           3.7689688439999998
          ],
          [
           "CSGS",
           254747000,
           1.321807635
          ],
          [
           "CROX",
           262979000,
           0.244419606
          ],
          [
           "CRL",
           691138000,
           3.699446702
          ],
          [
           "CRK",
           289248000,
           0.8863973890000001
          ],
          [
           "CRI",
           1100522000,
           7.109370758
          ],
          [
           "CPRI",
           1571000000,
           3.356734078
          ],
          [
           "CPK",
           131974000,
           -0.05943753400000001
          ],
          [
           "CPE",
           196095000,
           0.602392177
          ],
          [
           "CPB",
           2162000000,
           1.5945349709999999
          ],
          [
           "CP",
           2069000000,
           7.529428147000001
          ],
          [
           "COUP",
           111452000,
           0.34920813700000003
          ],
          [
           "COTY",
           2345000000,
           0.556939544
          ],
          [
           "CORE",
           4154800000,
           4.406671332
          ],
          [
           "COO",
           646200000,
           2.643574746
          ],
          [
           "COKE",
           1178949000,
           9.151893134
          ],
          [
           "CNXM",
           81501000,
           0.649265661
          ],
          [
           "CNX",
           508989000,
           0.613484073
          ],
          [
           "CNP",
           3230000000,
           1.099072368
          ],
          [
           "CNMD",
           264865000,
           1.4403586480000001
          ],
          [
           "CNK",
           788803000,
           1.40658707
          ],
          [
           "CNC",
           18863000000,
           -1.5732387140000001
          ],
          [
           "CMS",
           1795000000,
           1.391616938
          ],
          [
           "CMP",
           500300000,
           2.012730016
          ],
          [
           "CMG",
           1440224000,
           6.712992644
          ],
          [
           "CME",
           1138400000,
           2.0083053769999997
          ],
          [
           "CMD",
           288498000,
           0.812693558
          ],
          [
           "CMCSA",
           28398000000,
           1.37055551
          ],
          [
           "CMC",
           1384708000,
           1.2415184890000002
          ],
          [
           "CLX",
           1449000000,
           1.808714959
          ],
          [
           "CLR",
           1195133000,
           2.164155869
          ],
          [
           "CLH",
           871005000,
           2.302798643
          ],
          [
           "CLGX",
           426032000,
           1.472914441
          ],
          [
           "CLB",
           156778000,
           0.48004667100000004
          ],
          [
           "CIGI",
           928288000,
           4.783397074
          ],
          [
           "CI",
           38245000000,
           7.479406106
          ],
          [
           "CHTR",
           11761000000,
           15.63459419
          ],
          [
           "CHRW",
           3793326000,
           1.564216931
          ],
          [
           "CHRS",
           123856000,
           0.25253339
          ],
          [
           "CHEF",
           426507000,
           0.70753721
          ],
          [
           "CHDN",
           280600000,
           0.73810254
          ],
          [
           "CHD",
           1144200000,
           1.006511867
          ],
          [
           "CFX",
           888373000,
           0.553675361
          ],
          [
           "CF",
           1049000000,
           1.3889411980000002
          ],
          [
           "CETV",
           225795000,
           0.046051563
          ],
          [
           "CEQP",
           839700000,
           1.9777545890000001
          ],
          [
           "CENT",
           482828000,
           -0.322195665
          ],
          [
           "CE",
           1432000000,
           2.697021227
          ],
          [
           "CDW",
           4536900000,
           2.400462364
          ],
          [
           "CCMP",
           283143000,
           1.6535076219999998
          ],
          [
           "CCL",
           4782000000,
           1.489032255
          ],
          [
           "CCK",
           2791000000,
           7.098201297999999
          ],
          [
           "CBT",
           727000000,
           1.84281976
          ],
          [
           "CBRL",
           846143000,
           5.803344964
          ],
          [
           "CATM",
           338807000,
           -0.606068446
          ],
          [
           "CAT",
           13144000000,
           4.404167307
          ],
          [
           "CASY",
           2248198000,
           2.3999468580000003
          ],
          [
           "CAKE",
           694030000,
           2.2976763190000002
          ],
          [
           "CAH",
           39735000000,
           2.383000863
          ],
          [
           "CAG",
           2820800000,
           0.453093842
          ],
          [
           "CACI",
           1395469000,
           5.343866793
          ],
          [
           "CABO",
           318751000,
           27.41203534
          ],
          [
           "BWXT",
           501235000,
           1.977599385
          ],
          [
           "BV",
           570700000,
           0.06972309900000001
          ],
          [
           "BSX",
           2904000000,
           0.49647602799999996
          ],
          [
           "BRKR",
           599900000,
           0.884463575
          ],
          [
           "BR",
           968700000,
           0.853932015
          ],
          [
           "BOX",
           183585000,
           0.10034297
          ],
          [
           "BMY",
           7945000000,
           1.250855592
          ],
          [
           "BMCH",
           890564000,
           0.7106552840000001
          ],
          [
           "BLL",
           2719000000,
           2.72674867
          ],
          [
           "BLKB",
           237839000,
           1.2270242740000001
          ],
          [
           "BLDR",
           1763573000,
           1.241782632
          ],
          [
           "BLD",
           662350000,
           2.621619206
          ],
          [
           "BL",
           80258000,
           0.147809243
          ],
          [
           "BKNG",
           3339000000,
           25.73126241
          ],
          [
           "BKI",
           300100000,
           1.049068147
          ],
          [
           "BKH",
           477654000,
           1.943532756
          ],
          [
           "BKE",
           271003000,
           1.336690438
          ],
          [
           "BIG",
           1606982000,
           6.618946858999999
          ],
          [
           "BG",
           10783000000,
           3.564811409
          ],
          [
           "BFAM",
           520615000,
           0.995551326
          ],
          [
           "BECN",
           1675112000,
           -1.8270076419999999
          ],
          [
           "BEAT",
           112034000,
           0.43976208200000005
          ],
          [
           "BDX",
           4225000000,
           2.636250406
          ],
          [
           "BDC",
           286255000,
           4.12199872
          ],
          [
           "BCOR",
           149421000,
           -0.070346842
          ],
          [
           "BCO",
           935800000,
           4.3338398410000005
          ],
          [
           "BCC",
           1101713000,
           1.3058605140000001
          ],
          [
           "BC",
           917600000,
           2.6712055180000003
          ],
          [
           "BBY",
           15196000000,
           6.291120107
          ],
          [
           "BBBY",
           2759322000,
           0.009670841
          ],
          [
           "BAX",
           3039000000,
           1.623720439
          ],
          [
           "BAH",
           1849441000,
           0.7107836959999999
          ],
          [
           "B",
           370171000,
           1.714558775
          ],
          [
           "AZPN",
           124732000,
           0.6882913629999999
          ],
          [
           "AZN",
           6664000000,
           3.7478773060000004
          ],
          [
           "AYX",
           156450000,
           0.318181187
          ],
          [
           "AXTA",
           1098400000,
           1.2073282140000001
          ],
          [
           "AXE",
           2252300000,
           0.635569934
          ],
          [
           "AWR",
           112993000,
           0.883838703
          ],
          [
           "AWK",
           902000000,
           2.422885729
          ],
          [
           "AWI",
           246900000,
           1.263970951
          ],
          [
           "AVYA",
           715000000,
           0.107941855
          ],
          [
           "AVY",
           1772900000,
           3.34718938
          ],
          [
           "AVTR",
           1524000000,
           0.152168462
          ],
          [
           "AVGO",
           5776000000,
           6.249515136
          ],
          [
           "AVA",
           364559000,
           0.865253299
          ],
          [
           "ATSG",
           403351000,
           1.5125024409999999
          ],
          [
           "ATO",
           875563000,
           1.444946185
          ],
          [
           "ATI",
           1018600000,
           1.904265672
          ],
          [
           "ATGE",
           266172000,
           -1.132364108
          ],
          [
           "ASGN",
           1025200000,
           1.5416666669999999
          ],
          [
           "ARMK",
           4253597000,
           -1.240759497
          ],
          [
           "AQUA",
           346105000,
           0.041363599
          ],
          [
           "APTV",
           3596000000,
           2.753751718
          ],
          [
           "APPF",
           67362000,
           0.454286477
          ],
          [
           "APH",
           2151000000,
           1.4303941390000001
          ],
          [
           "APA",
           1625000000,
           2.0689492659999997
          ],
          [
           "AON",
           2885000000,
           2.8701095039999998
          ],
          [
           "ANTM",
           27407000000,
           5.233399007
          ],
          [
           "ANF",
           1184551000,
           5.331221354
          ],
          [
           "AN",
           5548900000,
           1.162394726
          ],
          [
           "AMZN",
           87436000000,
           39.65129131
          ],
          [
           "AMWD",
           395755000,
           1.535084233
          ],
          [
           "AMRC",
           306612000,
           -1.6066977830000002
          ],
          [
           "AMN",
           586892000,
           1.6839018430000001
          ],
          [
           "AMKR",
           1178464000,
           1.169882403
          ],
          [
           "AMGN",
           6197000000,
           4.231015884
          ],
          [
           "AME",
           1304821000,
           1.4970195569999998
          ],
          [
           "AM",
           239067000,
           0.38241434799999996
          ],
          [
           "ALV",
           2191200000,
           3.580012717
          ],
          [
           "ALTR",
           123877000,
           0.019338524
          ],
          [
           "ALSN",
           617000000,
           1.694183548
          ],
          [
           "ALLE",
           719500000,
           2.247177589
          ],
          [
           "ALK",
           2228000000,
           2.768454293
          ],
          [
           "ALGT",
           461073000,
           7.415255277999999
          ],
          [
           "ALG",
           300189000,
           3.77157177
          ],
          [
           "ALE",
           304600000,
           1.4148009119999998
          ],
          [
           "ALB",
           992564000,
           3.524712907
          ],
          [
           "AKAM",
           772123000,
           1.745902769
          ],
          [
           "AJRD",
           523000000,
           2.094243259
          ],
          [
           "AJG",
           1721400000,
           1.876980319
          ],
          [
           "AIT",
           833375000,
           1.419741519
          ],
          [
           "AIN",
           257678000,
           2.2835603719999997
          ],
          [
           "AIMC",
           441900000,
           1.169251673
          ],
          [
           "AGR",
           1609000000,
           1.129430568
          ],
          [
           "AGN",
           4351000000,
           5.088075894
          ],
          [
           "AEP",
           3616000000,
           1.862934759
          ],
          [
           "AEO",
           1314631000,
           1.4205931509999998
          ],
          [
           "AEIS",
           338268000,
           0.50133532
          ],
          [
           "AEE",
           1316000000,
           2.040403302
          ],
          [
           "ADSW",
           400500000,
           0.570440154
          ],
          [
           "ADSK",
           899300000,
           3.1731603610000003
          ],
          [
           "ADS",
           1461000000,
           -6.785187941
          ],
          [
           "ADNT",
           3936000000,
           2.5528538480000003
          ],
          [
           "ADI",
           1303565000,
           0.9493503959999999
          ],
          [
           "ACM",
           3235610000,
           -1.31730227
          ],
          [
           "ACIW",
           399920000,
           0.421380372
          ],
          [
           "ACHC",
           780232000,
           1.347810282
          ],
          [
           "ABT",
           8314000000,
           1.366163706
          ],
          [
           "ABM",
           1612900000,
           -0.515098104
          ],
          [
           "AAPL",
           91819000000,
           6.867922575
          ],
          [
           "AAP",
           2112614000,
           2.286520085
          ]
         ],
         "hovertemplate": "label=7<br>TOT_DEBT_TO_TOTAL_ASSET=%{x}<br>PX_TO_BOOK_RATIO=%{y}<br>ticker=%{customdata[0]}<br>revenue=%{customdata[1]}<br>CASH_FLOW_PER_SHARE=%{customdata[2]}<extra></extra>",
         "legendgroup": "7",
         "marker": {
          "color": "#EF553B",
          "symbol": "circle"
         },
         "mode": "markers",
         "name": "7",
         "showlegend": true,
         "type": "scattergl",
         "x": [
          0.572628844,
          0.388716675,
          0.29229463,
          0.333678319,
          0.409823559,
          0.55098731,
          0.300389105,
          0.284574998,
          0.531568516,
          0.409530606,
          0.315561744,
          0.334079945,
          0.388699256,
          0.39504032299999997,
          0.583476865,
          0.277987277,
          0.400173457,
          0.330169895,
          0.261737787,
          0.307215019,
          0.30627708800000003,
          0.475391199,
          0.451736901,
          0.484100782,
          0.486537145,
          0.286554558,
          0.48945538,
          0.402964716,
          0.30565118399999996,
          0.468122656,
          0.316409891,
          0.35368717299999997,
          0.364358917,
          0.306540973,
          0.38023975299999996,
          0.23030720899999998,
          0.331945279,
          0.451892475,
          0.23380770899999997,
          0.456395877,
          0.337852461,
          0.422076946,
          0.538823815,
          0.412512484,
          0.375354776,
          0.481871527,
          0.306084963,
          0.31108935,
          0.297910007,
          0.317147927,
          0.416567378,
          0.40694438299999997,
          0.29812667800000003,
          0.24394539899999998,
          0.357228076,
          0.30377266,
          0.439227498,
          0.501206169,
          0.409903026,
          0.486838239,
          0.417949744,
          0.43245828799999997,
          0.39851932799999995,
          0.253753994,
          0.36943372,
          0.481950482,
          0.327872069,
          0.38870198200000006,
          0.268238605,
          0.253695565,
          0.280289781,
          0.318716364,
          0.489111257,
          0.418808778,
          0.336008884,
          0.311820193,
          0.346603176,
          0.39112186299999996,
          0.451573148,
          0.512200554,
          0.514114604,
          0.502613846,
          0.5861807139999999,
          0.29474302399999996,
          0.511353782,
          0.41575117899999997,
          0.358019091,
          0.570056829,
          0.440109884,
          0.34725750299999997,
          0.46131544700000005,
          0.30407153,
          0.396160597,
          0.37648922799999995,
          0.47481766700000005,
          0.439500674,
          0.33681176,
          0.440810211,
          0.356832941,
          0.321980411,
          0.536564147,
          0.5537457960000001,
          0.318601006,
          0.367912129,
          0.47576126700000004,
          0.330346994,
          0.312865226,
          0.32425862899999996,
          0.313158788,
          0.335257192,
          0.493089316,
          0.391694298,
          0.327614603,
          0.367620247,
          0.35578004399999996,
          0.327414723,
          0.36875722,
          0.38045211,
          0.4735438,
          0.381176959,
          0.323723026,
          0.465342579,
          0.456046978,
          0.46361397200000004,
          0.330403775,
          0.47634851799999994,
          0.57247035,
          0.448160515,
          0.393147034,
          0.483952152,
          0.382941841,
          0.50392901,
          0.405377334,
          0.35853872600000003,
          0.402537892,
          0.480617081,
          0.37753646,
          0.410160067,
          0.25792839100000003,
          0.319099968,
          0.455160038,
          0.271593976,
          0.502793021,
          0.454299004,
          0.33470985,
          0.532052491,
          0.542298898,
          0.379006525,
          0.508752842,
          0.34589184,
          0.32995114600000003,
          0.290435058,
          0.48680473399999996,
          0.505150203,
          0.347498664,
          0.35056429899999997,
          0.411914894,
          0.587602859,
          0.514027295,
          0.368797789,
          0.35215845,
          0.52065797,
          0.45069760799999997,
          0.383026653,
          0.495850025,
          0.398056588,
          0.42513191899999997,
          0.373102596,
          0.291309798,
          0.28277619,
          0.272951108,
          0.356687629,
          0.28633869300000003,
          0.32131571,
          0.528700917,
          0.534800477,
          0.35179091799999995,
          0.38419415100000004,
          0.23010920399999998,
          0.363526122,
          0.483801528,
          0.38698493100000003,
          0.273117115,
          0.291637773,
          0.547468404,
          0.465610431,
          0.428315516,
          0.325912366,
          0.48126000399999996,
          0.21994587399999999,
          0.411487557,
          0.505099842,
          0.252621178,
          0.47206316600000003,
          0.435288415,
          0.285460798,
          0.334424939,
          0.298122357,
          0.413028611,
          0.45414751,
          0.504465849,
          0.33002033,
          0.35731807,
          0.547502826,
          0.327376698,
          0.465015715,
          0.395044756,
          0.314505131,
          0.45588437200000004,
          0.387654723,
          0.5117534579999999,
          0.339587408,
          0.377912601,
          0.407696648,
          0.463103169,
          0.43101742299999996,
          0.251855034,
          0.344830463,
          0.496751812,
          0.31136373100000003,
          0.408265115,
          0.474139133,
          0.33989105399999997,
          0.234831042,
          0.264623664,
          0.42345424200000004,
          0.338455942,
          0.395707501,
          0.50221494,
          0.261541325,
          0.523126215,
          0.252599491,
          0.473249374,
          0.336280824,
          0.351431461,
          0.36596542600000004,
          0.33103760600000004,
          0.37366779899999997,
          0.315840332,
          0.399998294,
          0.27203005399999997,
          0.546962535,
          0.524862103,
          0.390405889,
          0.5271690379999999,
          0.42875793700000003,
          0.239667107,
          0.40526567799999996,
          0.558565405,
          0.583290318,
          0.34936947700000004,
          0.578459938,
          0.315779479,
          0.299991836,
          0.35891123,
          0.324212947,
          0.31221267199999997,
          0.367955635,
          0.30209388800000003,
          0.40046029899999996,
          0.38120615799999996,
          0.249679295,
          0.341150657,
          0.372366055,
          0.461897644,
          0.32159903,
          0.549197445,
          0.309223134,
          0.26057018600000004,
          0.298384797,
          0.580556535,
          0.34262211299999995,
          0.32074098,
          0.399745366,
          0.425546563,
          0.449141083,
          0.434406202,
          0.287581295,
          0.33928913,
          0.550853611,
          0.243651447,
          0.423325819,
          0.37332611200000004,
          0.338120104,
          0.36182036,
          0.35707758100000003,
          0.267020971,
          0.437075776,
          0.407662959,
          0.511154165,
          0.362134935,
          0.37940275700000003,
          0.40704516,
          0.306385318,
          0.34102368200000005,
          0.386312891,
          0.291589353,
          0.33391454800000003,
          0.298014522,
          0.372582873,
          0.41244043700000005,
          0.38978459200000004,
          0.46291481,
          0.5286600260000001,
          0.289804787,
          0.271721413,
          0.312167494,
          0.49646302299999995,
          0.317758432,
          0.239101485,
          0.290016449,
          0.292081771,
          0.569138033,
          0.42872820100000003,
          0.577918419,
          0.47396941299999995,
          0.45361482299999994,
          0.321785305,
          0.301903803,
          0.328164887,
          0.277844452,
          0.41730923299999995,
          0.337220188,
          0.374467503,
          0.438128553,
          0.45958673899999997,
          0.284157859,
          0.30697577600000003,
          0.27553812699999997,
          0.322474163,
          0.46123981299999994,
          0.291700878,
          0.356949674,
          0.321186882,
          0.599610326,
          0.5446994079999999,
          0.429816546,
          0.423240781,
          0.585440693,
          0.47191728899999996,
          0.36608933,
          0.334309465,
          0.437833142,
          0.436274027,
          0.538471486,
          0.282133147,
          0.370850575,
          0.38711747399999996,
          0.390857868,
          0.266243057,
          0.290520265,
          0.389888536,
          0.422605524,
          0.362038992,
          0.393851405,
          0.47307117299999996,
          0.315142925,
          0.35358172299999996,
          0.393177261,
          0.347327226,
          0.33401279,
          0.288870152,
          0.34042792299999997,
          0.420748884,
          0.457471416,
          0.465127424,
          0.495050995,
          0.407761985,
          0.246177993,
          0.46377280600000004,
          0.36752566299999995,
          0.288260227,
          0.25275925,
          0.42108753299999996,
          0.29768972899999996,
          0.266964952,
          0.34163982299999995,
          0.339274014,
          0.320448335,
          0.48217945799999995,
          0.492451474,
          0.49725906799999997,
          0.450521215,
          0.365136561,
          0.264473905,
          0.514865941,
          0.36981528799999996,
          0.365218459,
          0.421761292,
          0.490228248,
          0.34815487,
          0.517870199,
          0.487884296,
          0.28296126,
          0.489199606,
          0.506284075,
          0.325827815,
          0.31860734,
          0.4646605,
          0.329815643,
          0.5758043079999999,
          0.27655525,
          0.564615604,
          0.447859856,
          0.441329725,
          0.37626159200000003,
          0.304966328,
          0.338841654,
          0.258591415,
          0.338341346,
          0.38769222299999995,
          0.32049765399999997,
          0.5241127729999999,
          0.35114702799999997,
          0.441786354,
          0.50725366,
          0.265523314,
          0.272704034,
          0.48990003,
          0.29399824399999996,
          0.452824213,
          0.41564708100000003,
          0.534978796,
          0.364153889,
          0.5384941679999999,
          0.529835113,
          0.456992999,
          0.447649446,
          0.30030644300000003,
          0.33008919600000003,
          0.368859284,
          0.537578887,
          0.326992827,
          0.414852995,
          0.37998254299999995,
          0.25829334,
          0.503585414,
          0.561225236,
          0.392364779,
          0.290302724,
          0.32395484199999997,
          0.573769097,
          0.389881865,
          0.531097499,
          0.45310190899999997,
          0.267838605,
          0.454328723,
          0.399062099,
          0.276660857,
          0.492295886,
          0.519767141,
          0.548772175,
          0.410731289,
          0.244261993,
          0.290991475,
          0.404803439,
          0.350222906,
          0.496549945,
          0.37515339200000003,
          0.433300876,
          0.230972669,
          0.27129804,
          0.33022004899999996,
          0.448070201,
          0.456680674,
          0.337749552,
          0.411215099,
          0.318088186,
          0.29314023100000003,
          0.39996872,
          0.23557762699999998,
          0.50356655,
          0.462962809,
          0.484051605,
          0.282425618,
          0.240937403,
          0.38037859399999996,
          0.496394884,
          0.47484061,
          0.47704558799999996,
          0.24078022,
          0.33822188700000005,
          0.369414906,
          0.22939951600000003,
          0.469024585,
          0.255416511,
          0.466210846,
          0.282766793,
          0.30244765,
          0.27241591600000004,
          0.549236119,
          0.383039664,
          0.459332022,
          0.513894728,
          0.5491690610000001,
          0.525713003,
          0.383195726,
          0.263770767,
          0.525547372,
          0.351725095,
          0.37862774,
          0.298027931,
          0.48768427700000005,
          0.554432548,
          0.44749178700000003,
          0.337581739,
          0.370553265,
          0.372198725,
          0.570244662,
          0.33667641200000004,
          0.5103258420000001,
          0.356676993,
          0.397889373,
          0.284441496,
          0.361194403,
          0.387274374,
          0.26208017100000003,
          0.438813625,
          0.255939508,
          0.550397158,
          0.42768997299999995,
          0.31482678199999997,
          0.39330509799999996,
          0.38807486399999996,
          0.370408615,
          0.3248487,
          0.34860138399999996,
          0.47955258100000003,
          0.45295477100000003,
          0.422562636,
          0.47837160799999995,
          0.35443765,
          0.394697742,
          0.420467026,
          0.537263798,
          0.316502544,
          0.354163925,
          0.46550059299999996,
          0.342905171,
          0.471918802,
          0.512449807,
          0.398985855,
          0.46773597899999997,
          0.320952639,
          0.428046638,
          0.457062398,
          0.239240998,
          0.35000869799999995,
          0.41485634200000004,
          0.512439779,
          0.437956941,
          0.251412185,
          0.425568061,
          0.33440898199999997,
          0.37296235899999997,
          0.496245137,
          0.332753629,
          0.35346260399999996,
          0.267386723,
          0.365015459,
          0.516762312,
          0.316176348,
          0.451643075,
          0.400100697,
          0.30473751600000004,
          0.303766245,
          0.467612545,
          0.563034815,
          0.369356223,
          0.4244452,
          0.38050266,
          0.28959243100000004,
          0.35712337200000005,
          0.532934399,
          0.427136735,
          0.537594033,
          0.515514597,
          0.5132732729999999,
          0.41668676200000004,
          0.453944203,
          0.499485155,
          0.391514284,
          0.491455536,
          0.459958873,
          0.326011378,
          0.312957166,
          0.368448758,
          0.571772928,
          0.341997941,
          0.450477075,
          0.43310752399999997,
          0.579142786,
          0.334829487,
          0.49360956899999997,
          0.57956778,
          0.5586159079999999,
          0.542695436,
          0.512175696,
          0.40765866700000003,
          0.31330095399999996,
          0.574830555,
          0.339246792,
          0.419491426,
          0.425559742,
          0.49283246,
          0.314754241,
          0.24013635100000003,
          0.533632953,
          0.35213679600000003,
          0.46130972,
          0.517769432,
          0.577773422,
          0.309895755,
          0.331430984,
          0.348340453,
          0.419314134,
          0.435290599,
          0.376103022,
          0.431194597,
          0.43108233100000004,
          0.403890435,
          0.255270984,
          0.526410835,
          0.35099968299999995,
          0.454094592,
          0.45863110100000004,
          0.47999439200000005,
          0.349018902,
          0.566061382,
          0.193314166,
          0.465495318,
          0.348058225,
          0.552328472,
          0.431739424,
          0.40650842,
          0.327433339,
          0.310409526,
          0.42165762,
          0.442234354,
          0.359639537,
          0.265225715,
          0.45028801799999996,
          0.282355468,
          0.48926877799999996,
          0.301938622,
          0.39415131,
          0.424726661,
          0.389673968,
          0.46244081299999995,
          0.435022872,
          0.47878659799999995,
          0.31386144,
          0.542824028,
          0.48692282299999995,
          0.284883043,
          0.37351786299999995,
          0.43887342799999995,
          0.353297198,
          0.49471279,
          0.30825977600000004,
          0.330883178,
          0.260983901,
          0.46155848,
          0.32210190699999997,
          0.521743168,
          0.30484765399999997,
          0.364452805,
          0.29696792,
          0.542164492,
          0.562349663,
          0.279003514,
          0.304586948,
          0.420906446,
          0.409026987,
          0.428850719,
          0.353355925,
          0.523518157,
          0.48594669100000004,
          0.35069961899999996,
          0.5416590729999999,
          0.30054889,
          0.24826962,
          0.271117414,
          0.385462705,
          0.531907618,
          0.551370987,
          0.34868861,
          0.310212916,
          0.333475105,
          0.47307671100000004,
          0.281686788,
          0.259318554,
          0.497913465,
          0.228495822,
          0.280601826,
          0.43732032299999996,
          0.270050574,
          0.37393549299999995,
          0.328251145,
          0.500829049,
          0.281245813,
          0.46033824,
          0.332496456,
          0.279868666,
          0.565842697,
          0.48116069,
          0.246825214,
          0.472250426,
          0.36609048899999996,
          0.294338659,
          0.311675966,
          0.38125852200000004,
          0.249686092,
          0.25198117600000003,
          0.391978163,
          0.287600518,
          0.378177744,
          0.23486169199999998,
          0.24519240399999997,
          0.402313542,
          0.48094033700000005,
          0.292270456,
          0.338609892,
          0.527218851,
          0.411794216,
          0.39434908,
          0.362215361,
          0.256996139,
          0.276757938,
          0.43588831299999997,
          0.535021809,
          0.267194014,
          0.27152920399999997,
          0.317928001,
          0.24576368899999998
         ],
         "xaxis": "x",
         "y": [
          23.279,
          18.769000000000002,
          7.49,
          2.485,
          2.7739999999999996,
          24.607,
          4.798,
          1.4269999999999998,
          2.682,
          2.515,
          1.494,
          0.474,
          2.752,
          3.5589999999999997,
          18.509,
          4.08,
          4.393,
          0.9359999999999999,
          1.268,
          2.562,
          4.35,
          4.99,
          4.351,
          2.151,
          6.84,
          1.536,
          29.899,
          29.962,
          2.918,
          4.9319999999999995,
          1.9140000000000001,
          4.706,
          2.877,
          18.125999999999998,
          2.049,
          17.078,
          3.4530000000000003,
          2.248,
          1.4980000000000002,
          4.136,
          2.935,
          1.4080000000000001,
          4.6530000000000005,
          2.238,
          3.3539999999999996,
          10.825,
          3.153,
          2.8289999999999997,
          3.39,
          4.546,
          1.1909999999999998,
          3.17,
          8.74,
          5.045,
          0.139,
          0.7440000000000001,
          2.471,
          1.485,
          1.723,
          30.737,
          2.359,
          6.922999999999999,
          8.051,
          -0.585,
          2.283,
          2.362,
          2.133,
          1.933,
          4.5360000000000005,
          1.851,
          4.268,
          1.3630000000000002,
          2.88,
          1.227,
          4.401,
          9.373,
          2.315,
          11.392999999999999,
          2.1959999999999997,
          6.973,
          7.178999999999999,
          2.084,
          2.166,
          3.3160000000000003,
          5.8260000000000005,
          1.932,
          9.804,
          13.065999999999999,
          2.2319999999999998,
          3.955,
          2.331,
          4.39,
          33.505,
          2.27,
          11.942,
          1,
          4.838,
          1.489,
          2.104,
          4.742,
          -2.375,
          3.4539999999999997,
          5.85,
          2.278,
          0.7659999999999999,
          32.661,
          0.627,
          11.495,
          0.799,
          1.55,
          17.308,
          2.0380000000000003,
          3.1839999999999997,
          6.1370000000000005,
          3.1719999999999997,
          1.656,
          2.171,
          2.1790000000000003,
          17.28,
          7.966,
          2.09,
          1.875,
          3.045,
          8.457,
          1.7990000000000002,
          3.325,
          1.416,
          3.033,
          2.1430000000000002,
          2.495,
          1.642,
          111.839,
          4.283,
          12.110999999999999,
          139.31799999999998,
          2.123,
          3.427,
          2.103,
          1.656,
          2.224,
          3.364,
          2.342,
          1.4980000000000002,
          2.272,
          1.446,
          2.14,
          9.519,
          1.041,
          13.064,
          7.528,
          2.258,
          2.254,
          4.822,
          1.22,
          1.1520000000000001,
          4.85,
          3.483,
          6.545,
          0.831,
          2.9419999999999997,
          2.531,
          1.45,
          1.69,
          3.5239999999999996,
          6.8260000000000005,
          33.264,
          4.3469999999999995,
          11.985999999999999,
          3.883,
          13.31,
          22.53,
          32.661,
          18.984,
          9.868,
          1.379,
          0.529,
          2.8110000000000004,
          0.355,
          0.915,
          5.885,
          80.939,
          2.301,
          1.4880000000000002,
          5.155,
          1.169,
          10.290999999999999,
          0.7240000000000001,
          3.005,
          22.467,
          0.721,
          7.013999999999999,
          4.95,
          5.582999999999999,
          13.225999999999999,
          1.939,
          1.804,
          5.696000000000001,
          1.212,
          6.45,
          1.318,
          1.9969999999999999,
          5.974,
          3.258,
          2.2969999999999997,
          1.9240000000000002,
          20.73,
          2.69,
          1.861,
          2.406,
          4.003,
          3.822,
          3.832,
          3.452,
          5.615,
          4.177,
          2.003,
          6.785,
          10.936,
          3.9139999999999997,
          3.4339999999999997,
          12.970999999999998,
          3.1439999999999997,
          1.979,
          1.04,
          0.69,
          5.3260000000000005,
          2.371,
          2.819,
          1.7590000000000001,
          1.237,
          2.505,
          14.298,
          4.62,
          1.6,
          1.025,
          1.075,
          2.237,
          0.614,
          2.609,
          2.9810000000000003,
          3.3160000000000003,
          83.45100000000001,
          11.862,
          2.7289999999999996,
          2.903,
          3.033,
          6.181,
          1.139,
          38.289,
          5.021,
          1.379,
          3.292,
          2.3169999999999997,
          2.15,
          0.6609999999999999,
          5.792999999999999,
          1.53,
          3.7680000000000002,
          2.591,
          1.64,
          1.7730000000000001,
          1.328,
          38.294000000000004,
          4.401,
          4.062,
          3.3339999999999996,
          1.569,
          1.567,
          2.915,
          7.436,
          1.4509999999999998,
          6.5729999999999995,
          4.037,
          2.199,
          1.7369999999999999,
          0.7340000000000001,
          18.702,
          0.34700000000000003,
          1.841,
          31.033,
          1.588,
          10.342,
          7.968999999999999,
          1.4669999999999999,
          3.199,
          5.962999999999999,
          3.113,
          4.064,
          1.9069999999999998,
          1.296,
          1.413,
          15.543,
          0.873,
          3.66,
          3.174,
          4.482,
          0.7709999999999999,
          2.74,
          1.432,
          5.813,
          6.622999999999999,
          1.143,
          45.913999999999994,
          -39.442,
          3.273,
          0.894,
          8.937999999999999,
          1.6469999999999998,
          1.161,
          0.892,
          5.978,
          19.500999999999998,
          14.985,
          3.517,
          5.289,
          10.082,
          7.215,
          3.266,
          2.81,
          4.649,
          2.964,
          6.531000000000001,
          11.970999999999998,
          3.1639999999999997,
          1.3219999999999998,
          2.217,
          4.288,
          2.0909999999999997,
          3.085,
          1.24,
          1.581,
          2.908,
          1.6219999999999999,
          2.573,
          73.24,
          4.456,
          2.171,
          1.6740000000000002,
          9.554,
          70.42399999999999,
          5.407,
          0.773,
          13.33,
          3.9160000000000004,
          10.222999999999999,
          7.837999999999999,
          9.73,
          16.49,
          2.5269999999999997,
          35.124,
          0.8190000000000001,
          48.406000000000006,
          2.184,
          3.627,
          2.171,
          5.099,
          7.229,
          4.126,
          3.3489999999999998,
          1.367,
          2.351,
          3.2889999999999997,
          3.4330000000000003,
          1.228,
          2.43,
          2.719,
          12.494000000000002,
          2.94,
          2.34,
          1.421,
          10.530999999999999,
          0.748,
          1.5930000000000002,
          1.818,
          1.751,
          2.345,
          1.7,
          2.399,
          2.801,
          8.588,
          5.845,
          2.9,
          3.483,
          6.263999999999999,
          1.126,
          19.079,
          4.2780000000000005,
          2.281,
          14.687000000000001,
          2.214,
          4.013999999999999,
          4.994,
          9.754,
          3.227,
          2.3409999999999997,
          4.238,
          2.282,
          3.4619999999999997,
          1.4809999999999999,
          2.2159999999999997,
          126.219,
          2.184,
          8.267999999999999,
          5.696000000000001,
          3.532,
          7.197,
          3.102,
          4.2780000000000005,
          2.6889999999999996,
          2.0269999999999997,
          10.443,
          4.129,
          17.656,
          2.439,
          4.6819999999999995,
          4.545,
          1.048,
          6.8389999999999995,
          6.2379999999999995,
          2.524,
          1.854,
          19.82,
          9.45,
          2.331,
          4.886,
          4.338,
          4.457,
          2.681,
          10.227,
          1.261,
          9.83,
          1.472,
          1.9680000000000002,
          1.5,
          0.831,
          2.978,
          11.78,
          1.96,
          3.0780000000000003,
          4.2,
          10.63,
          3.992,
          6.093999999999999,
          1.5930000000000002,
          1.251,
          1.735,
          4.129,
          3.65,
          1.008,
          2.185,
          1.75,
          1.676,
          15.155999999999999,
          3.758,
          3.0639999999999996,
          4.742,
          0.85,
          2.08,
          3.4730000000000003,
          1.286,
          1.251,
          16.246,
          2.227,
          3.373,
          6.65,
          5.109,
          6.727,
          3.638,
          2.412,
          3.64,
          2.213,
          1.605,
          20.389,
          8.296,
          2.384,
          1.729,
          5.106,
          3.765,
          2.238,
          14.24,
          2.0469999999999997,
          2.549,
          3.747,
          1.125,
          3.373,
          3.95,
          4.206,
          3.535,
          1.375,
          5.247999999999999,
          9.163,
          1.7309999999999999,
          -3.677,
          11.975999999999999,
          12.909,
          5.058,
          2.333,
          2.435,
          1.538,
          1.321,
          2.181,
          0.284,
          1.193,
          5.631,
          2.489,
          1.245,
          4.204,
          5.795,
          3.7,
          2.3369999999999997,
          1.4069999999999998,
          0.5920000000000001,
          1.597,
          5.516,
          1.8090000000000002,
          2.6,
          1.98,
          16.247,
          1.735,
          5.051,
          6.58,
          5.39,
          2.273,
          1.669,
          1.265,
          6.405,
          2.559,
          1.8519999999999999,
          10.236,
          1.615,
          22.684,
          1.1,
          1.42,
          2.041,
          6.183,
          2.997,
          5.521,
          2.861,
          25.789,
          3.682,
          3.2939999999999996,
          3.5060000000000002,
          2.245,
          1.494,
          1.5119999999999998,
          1.739,
          2.927,
          3.642,
          2.55,
          5.827000000000001,
          -22.611,
          1.16,
          0.531,
          6.978,
          9.201,
          1.4169999999999998,
          1.787,
          1.399,
          2.463,
          2.131,
          1.5030000000000001,
          3.1830000000000003,
          3.443,
          1.5130000000000001,
          2.918,
          2.089,
          4.8,
          1.069,
          8.568999999999999,
          4.772,
          22.432,
          3.471,
          4.301,
          21.788,
          4.539,
          1.368,
          5.521,
          2.181,
          2.799,
          0.342,
          5.901,
          6.482,
          23.07,
          1.9069999999999998,
          2.093,
          4.562,
          7.934,
          2.7060000000000004,
          0.397,
          1.6380000000000001,
          4.467,
          2.762,
          2.073,
          3.555,
          3.9,
          13.825,
          2.753,
          3.83,
          2.4730000000000003,
          1.4809999999999999,
          34.72,
          1.89,
          3.7689999999999997,
          3.654,
          9.398,
          5.961,
          1.6840000000000002,
          3.313,
          6.331,
          12.001,
          3.429,
          10.751,
          6.47,
          1.245,
          3.583,
          3.362,
          1.6769999999999998,
          1.805,
          5.936,
          21.372,
          4.078,
          1.266,
          5.739,
          2.636,
          5.822,
          5.235,
          5.579,
          3.7260000000000004,
          3.034,
          14.809000000000001,
          1.837,
          2.496,
          10.101,
          14.633,
          1.3769999999999998,
          4.542,
          8.656,
          12.585,
          100.59,
          2.0269999999999997,
          1.9509999999999998,
          7.1739999999999995,
          9.868,
          3.5660000000000003,
          3.035,
          7.197,
          14.489,
          5.08,
          2.043,
          3.088,
          1.25,
          1.379,
          9.003,
          1.192,
          4.289,
          3.469,
          2.605,
          1.9880000000000002,
          23.651,
          2.03,
          3.761,
          6.2989999999999995,
          0.998,
          5.416,
          10.912,
          2.4730000000000003,
          21.031999999999996,
          9.853,
          15.325999999999999,
          5.268,
          1.7530000000000001,
          5.306,
          3.628,
          12.489,
          1.348,
          9.128,
          4.215,
          4.717,
          1.6540000000000001,
          3.0260000000000002,
          2.1790000000000003,
          1.246,
          1.4580000000000002,
          2.7230000000000003,
          3.1439999999999997,
          5.25,
          6.348,
          28.383000000000003,
          7.082999999999999,
          2.9560000000000004,
          14.45,
          2.414,
          0.97,
          1.3719999999999999,
          14.762,
          2.6919999999999997,
          1.919,
          3.951,
          1.587,
          14.808,
          4.457,
          1.216,
          3.491,
          7.266,
          7.377000000000001,
          15.277999999999999,
          1.9269999999999998,
          3.208,
          2.6060000000000003,
          1.879,
          1.97,
          3.8160000000000003,
          6.23,
          3.445,
          2.679,
          3.51,
          1.216,
          1.038,
          1.079,
          2.378,
          1.9269999999999998,
          4.033,
          2.345,
          3.1830000000000003,
          -311.384,
          3.253,
          1.141,
          3.458,
          1.845,
          3.8760000000000003,
          1.1740000000000002,
          4.907,
          1.6280000000000001,
          14.382,
          3.09
         ],
         "yaxis": "y"
        },
        {
         "customdata": [
          [
           "ZS",
           101268000,
           0.042443796
          ],
          [
           "ZNGA",
           404463000,
           0.099425695
          ],
          [
           "ZM",
           188251000,
           0.132249493
          ],
          [
           "YUMC",
           2029000000,
           0.37243096600000003
          ],
          [
           "YNDX",
           51696000000,
           26.25682717
          ],
          [
           "YELP",
           268823000,
           0.79077865
          ],
          [
           "XRAY",
           1111500000,
           1.345690595
          ],
          [
           "XOM",
           67173000000,
           1.501262294
          ],
          [
           "XNCR",
           3516000,
           -0.34514449
          ],
          [
           "XLNX",
           723499000,
           1.286747349
          ],
          [
           "WTS",
           400300000,
           2.924913314
          ],
          [
           "WTRG",
           226042000,
           0.511923665
          ],
          [
           "WST",
           470600000,
           1.4380190480000001
          ],
          [
           "WSO",
           1072315000,
           3.6282371330000003
          ],
          [
           "WMK",
           902392000,
           1.176648031
          ],
          [
           "WLTW",
           2690000000,
           3.5855199310000003
          ],
          [
           "WIRE",
           302252000,
           1.8450098240000001
          ],
          [
           "WHD",
           140238000,
           0.8179395509999999
          ],
          [
           "WERN",
           621787000,
           1.3649214509999998
          ],
          [
           "WDR",
           270071000,
           1.162517689
          ],
          [
           "WCC",
           2099452000,
           2.576845949
          ],
          [
           "WBC",
           777400000,
           2.583178443
          ],
          [
           "VSH",
           609577000,
           0.584461576
          ],
          [
           "VRTX",
           1413265000,
           1.734430156
          ],
          [
           "VNOM",
           92711000,
           0.472491736
          ],
          [
           "VMW",
           3650000000,
           2.65911997
          ],
          [
           "VLO",
           27879000000,
           4.159232039
          ],
          [
           "VICR",
           63125000,
           0.140307689
          ],
          [
           "VEEV",
           311508000,
           0.26320662100000003
          ],
          [
           "VAR",
           828900000,
           1.238757178
          ],
          [
           "V",
           6054000000,
           1.967680506
          ],
          [
           "UVV",
           505049000,
           4.310575252
          ],
          [
           "UTHR",
           311100000,
           2.335844271
          ],
          [
           "USPH",
           122114000,
           1.251276307
          ],
          [
           "USNA",
           271298000,
           2.575422
          ],
          [
           "UPWK",
           78596000,
           -0.008418079
          ],
          [
           "UNH",
           60901000000,
           6.549400701000001
          ],
          [
           "UNF",
           465398000,
           2.7687989510000004
          ],
          [
           "UFS",
           1244000000,
           2.79363232
          ],
          [
           "UFPI",
           998040000,
           2.463112363
          ],
          [
           "TYL",
           288837000,
           1.954348133
          ],
          [
           "TXN",
           3350000000,
           1.876386481
          ],
          [
           "TWTR",
           1007341000,
           0.357025328
          ],
          [
           "TTWO",
           930129000,
           2.60983662
          ],
          [
           "TTEK",
           797623000,
           -0.330183552
          ],
          [
           "TTD",
           215944000,
           -0.621876534
          ],
          [
           "TRUP",
           105483000,
           0.12968055
          ],
          [
           "TRS",
           26040000,
           0.255260355
          ],
          [
           "TRIP",
           335000000,
           0.43044090100000004
          ],
          [
           "TRI",
           1583000000,
           0.707885988
          ],
          [
           "TREX",
           164772000,
           0.983363676
          ],
          [
           "TR",
           135460000,
           0.9519414420000001
          ],
          [
           "TNET",
           1018000000,
           9.765204814
          ],
          [
           "TNDM",
           108398000,
           0.32900759399999996
          ],
          [
           "THRM",
           230381000,
           1.065875229
          ],
          [
           "TER",
           654650000,
           1.290911858
          ],
          [
           "TEL",
           3168000000,
           1.228792741
          ],
          [
           "TECH",
           184934000,
           1.84765061
          ],
          [
           "TECD",
           10380809000,
           5.095221732
          ],
          [
           "TDY",
           834200000,
           4.603764239
          ],
          [
           "TDOC",
           156489000,
           0.250364927
          ],
          [
           "TCMD",
           57063000,
           0.004677207
          ],
          [
           "SYKE",
           425284000,
           0.08922695
          ],
          [
           "SWKS",
           896100000,
           2.338366793
          ],
          [
           "SWK",
           3714200000,
           8.178970102000001
          ],
          [
           "STRA",
           263772000,
           2.765325237
          ],
          [
           "STNE",
           782854000,
           -2.392106459
          ],
          [
           "STMP",
           160902000,
           2.139493776
          ],
          [
           "STE",
           774261000,
           1.5489640830000002
          ],
          [
           "STAA",
           38883000,
           0.219527787
          ],
          [
           "SSYS",
           160157000,
           -0.06362197900000001
          ],
          [
           "SSTK",
           166371000,
           0.722742815
          ],
          [
           "SSD",
           262510000,
           1.272965066
          ],
          [
           "SQ",
           1313429000,
           0.142235594
          ],
          [
           "SPXC",
           444600000,
           1.78501946
          ],
          [
           "SPSC",
           72733000,
           0.598003259
          ],
          [
           "SPOT",
           1855000000,
           1.12243945
          ],
          [
           "SONO",
           562083000,
           1.09612345
          ],
          [
           "SNPS",
           834381000,
           0.065234052
          ],
          [
           "SNDR",
           1156300000,
           0.9372308020000001
          ],
          [
           "SNA",
           1039100000,
           3.5863827510000004
          ],
          [
           "SMTC",
           138001000,
           0.683131048
          ],
          [
           "SMP",
           241252000,
           1.506203091
          ],
          [
           "SMCI",
           870943000,
           1.629081374
          ],
          [
           "SLAB",
           219438000,
           0.730196287
          ],
          [
           "SKY",
           342239000,
           0.369167023
          ],
          [
           "SKX",
           1330732000,
           0.493053678
          ],
          [
           "SHOO",
           433935000,
           1.7910559430000002
          ],
          [
           "SHO",
           272952000,
           0.35707844899999996
          ],
          [
           "SGEN",
           289804000,
           -0.06914814400000001
          ],
          [
           "SFIX",
           451784000,
           0.105360755
          ],
          [
           "SEIC",
           423225000,
           1.08872019
          ],
          [
           "SEDG",
           418223000,
           1.708804604
          ],
          [
           "SCWX",
           141986000,
           0.529207503
          ],
          [
           "SCPL",
           112900000,
           0.258974986
          ],
          [
           "SCL",
           444990000,
           3.8115416410000003
          ],
          [
           "SCI",
           850760000,
           0.8565245640000001
          ],
          [
           "SCHL",
           597200000,
           3.2239956089999997
          ],
          [
           "SANM",
           1840171000,
           0.302542623
          ],
          [
           "SAM",
           301300000,
           2.9550428139999996
          ],
          [
           "SAIA",
           443065000,
           2.5284534880000002
          ],
          [
           "SAFM",
           823078000,
           -2.962732442
          ],
          [
           "RVLV",
           147556000,
           0.20652687399999997
          ],
          [
           "RTN",
           7842000000,
           10.02229971
          ],
          [
           "RTLR",
           125308000,
           0.35857139899999996
          ],
          [
           "RS",
           2447800000,
           5.211766573
          ],
          [
           "ROLL",
           177019000,
           1.8615915459999999
          ],
          [
           "ROG",
           193768000,
           2.45799505
          ],
          [
           "ROCK",
           258131000,
           1.779878918
          ],
          [
           "RMR",
           159892000,
           1.339197861
          ],
          [
           "RHI",
           1537385000,
           0.6944475370000001
          ],
          [
           "RGLD",
           123643000,
           1.193089263
          ],
          [
           "RGEN",
           69474000,
           0.33950039200000004
          ],
          [
           "REGN",
           2169500000,
           7.171497072
          ],
          [
           "REGI",
           1018169000,
           0.78125409
          ],
          [
           "RAVN",
           85761000,
           0.217950113
          ],
          [
           "QRVO",
           869073000,
           2.588536686
          ],
          [
           "QLYS",
           84664000,
           0.868318375
          ],
          [
           "QDEL",
           152178000,
           1.145775518
          ],
          [
           "PYPL",
           4961000000,
           1.076484524
          ],
          [
           "PXD",
           2643000000,
           4.998595594
          ],
          [
           "PWR",
           3112800000,
           4.404963254
          ],
          [
           "PUMP",
           434793000,
           1.4704370759999998
          ],
          [
           "PSX",
           29612000000,
           3.812245119
          ],
          [
           "PSN",
           1037388000,
           0.902779497
          ],
          [
           "PSMT",
           811941000,
           0.5273660370000001
          ],
          [
           "PRLB",
           111889000,
           1.2060418609999999
          ],
          [
           "PRFT",
           145159000,
           1.23509385
          ],
          [
           "PRDO",
           158451000,
           -0.174857493
          ],
          [
           "POWI",
           114457000,
           6.191180951000001
          ],
          [
           "PNR",
           755200000,
           0.525304451
          ],
          [
           "PLXS",
           852409000,
           2.560493949
          ],
          [
           "PLUS",
           428991000,
           -1.5039808430000001
          ],
          [
           "PING",
           68235000,
           -0.033642042999999996
          ],
          [
           "PINC",
           319606000,
           0.98160228
          ],
          [
           "PGNY",
           65122000,
           -0.065309184
          ],
          [
           "PEN",
           145263000,
           0.136534345
          ],
          [
           "PEGA",
           276542000,
           -0.361805583
          ],
          [
           "PDD",
           10792726000,
           2.06434231
          ],
          [
           "PDCO",
           1456155000,
           -1.612024655
          ],
          [
           "PD",
           45926000,
           0.02333288
          ],
          [
           "PCTY",
           132374000,
           0.519743731
          ],
          [
           "PAYX",
           990700000,
           0.753748792
          ],
          [
           "PAYC",
           193409000,
           0.819260478
          ],
          [
           "PAAS",
           404379000,
           0.617685652
          ],
          [
           "OSK",
           1695100000,
           -2.202561807
          ],
          [
           "OPK",
           224343000,
           -0.069166085
          ],
          [
           "ONTO",
           98051000,
           0.38514212299999995
          ],
          [
           "OMCL",
           248292000,
           0.8302713009999999
          ],
          [
           "OLLI",
           422431000,
           1.430553187
          ],
          [
           "OLED",
           101729000,
           1.1922148540000002
          ],
          [
           "ODFL",
           1009206000,
           1.9741298980000002
          ],
          [
           "NYT",
           508363000,
           0.41133803399999996
          ],
          [
           "NWSA",
           2479000000,
           0.280522789
          ],
          [
           "NVT",
           566700000,
           1.057047356
          ],
          [
           "NVO",
           32417000000,
           2.108163265
          ],
          [
           "NVDA",
           3105000000,
           2.39379085
          ],
          [
           "NUS",
           583359000,
           0.898388891
          ],
          [
           "NUE",
           5131746000,
           2.272969322
          ],
          [
           "NTUS",
           131416000,
           0.356318209
          ],
          [
           "NTES",
           15734804000,
           1.7226212230000002
          ],
          [
           "NTCT",
           260024000,
           0.9264538929999999
          ],
          [
           "NTAP",
           1404000000,
           1.840279464
          ],
          [
           "NSIT",
           2297156000,
           -1.154951005
          ],
          [
           "NRC",
           32623000,
           0.47925265
          ],
          [
           "NOW",
           951774000,
           2.23335631
          ],
          [
           "NLOK",
           618000000,
           0.640444578
          ],
          [
           "NKE",
           10326000000,
           0.584221285
          ],
          [
           "NHC",
           253880000,
           1.646268104
          ],
          [
           "NEOG",
           107803000,
           0.31957382300000003
          ],
          [
           "NEO",
           106868000,
           0.032171988
          ],
          [
           "NEM",
           2967000000,
           1.469801352
          ],
          [
           "NATI",
           367468000,
           0.572718733
          ],
          [
           "MYGN",
           195100000,
           -0.025541402
          ],
          [
           "MXIM",
           551070000,
           0.877519743
          ],
          [
           "MU",
           5144000000,
           1.816538101
          ],
          [
           "MTRN",
           280161000,
           1.9451083999999998
          ],
          [
           "MSTR",
           133531000,
           0.83217437
          ],
          [
           "MSM",
           823601000,
           1.5408204730000001
          ],
          [
           "MSFT",
           36906000000,
           1.399957023
          ],
          [
           "MSA",
           375255000,
           1.9802833359999998
          ],
          [
           "MRVL",
           717671000,
           0.08325331700000001
          ],
          [
           "MRTN",
           217185000,
           0.613838722
          ],
          [
           "MRCY",
           193913000,
           0.577381417
          ],
          [
           "MPWR",
           166738000,
           1.403945763
          ],
          [
           "MOMO",
           4687898000,
           4.0473017460000005
          ],
          [
           "MOH",
           4274000000,
           0.462519936
          ],
          [
           "MNST",
           1017206000,
           0.544361113
          ],
          [
           "MMS",
           818229000,
           1.36398384
          ],
          [
           "MMI",
           237908000,
           0.8008742459999999
          ],
          [
           "MLNX",
           379784000,
           2.6624731219999997
          ],
          [
           "MLHR",
           674200000,
           1.4849734490000002
          ],
          [
           "MHK",
           2424512000,
           6.152768061000001
          ],
          [
           "MGY",
           229710000,
           0.6137630279999999
          ],
          [
           "MGLN",
           1802657000,
           -1.167886231
          ],
          [
           "MELI",
           674271000,
           1.5746141790000001
          ],
          [
           "MEI",
           285900000,
           0.399013391
          ],
          [
           "MEDP",
           229886000,
           1.5803322519999998
          ],
          [
           "MED",
           170632000,
           1.648849615
          ],
          [
           "MCK",
           59172000000,
           -0.6715212290000001
          ],
          [
           "MBUU",
           180112000,
           1.211625822
          ],
          [
           "MASI",
           247510000,
           1.309878334
          ],
          [
           "MANT",
           604413000,
           -0.288091634
          ],
          [
           "MANH",
           152929000,
           0.540869395
          ],
          [
           "MAN",
           5196600000,
           5.410308741000001
          ],
          [
           "MA",
           4414000000,
           2.953818262
          ],
          [
           "LZB",
           475856000,
           1.4241668809999999
          ],
          [
           "LUV",
           5730000000,
           1.565717993
          ],
          [
           "LULU",
           1397491000,
           4.65570913
          ],
          [
           "LTHM",
           78400000,
           -0.046581446
          ],
          [
           "LSTR",
           994879000,
           1.194184676
          ],
          [
           "LPX",
           537000000,
           0.859915324
          ],
          [
           "LOPE",
           213247000,
           2.3060619719999997
          ],
          [
           "LOGM",
           322680000,
           1.525785636
          ],
          [
           "LOGI",
           902687000,
           1.084803153
          ],
          [
           "LNN",
           109393000,
           0.142865897
          ],
          [
           "LMNX",
           90501000,
           0.117841849
          ],
          [
           "LIVN",
           287590000,
           0.059214302999999996
          ],
          [
           "LIN",
           7080000000,
           4.047090885
          ],
          [
           "LHX",
           4832000000,
           3.881217571
          ],
          [
           "LHCG",
           531315000,
           0.814701077
          ],
          [
           "LFUS",
           338523000,
           3.467648948
          ],
          [
           "LEVI",
           1568608000,
           0.526209526
          ],
          [
           "LEA",
           4817600000,
           8.020508423999999
          ],
          [
           "LBRDA",
           3941000,
           -0.05690412
          ],
          [
           "LANC",
           355117000,
           2.375259232
          ],
          [
           "KRO",
           372700000,
           0.315602781
          ],
          [
           "KNX",
           1196810000,
           1.331309465
          ],
          [
           "KN",
           233900000,
           0.800696215
          ],
          [
           "KLIC",
           144297000,
           0.39709311
          ],
          [
           "KFY",
           527979000,
           2.919309249
          ],
          [
           "KEYS",
           1095000000,
           1.045383627
          ],
          [
           "KEM",
           294741000,
           0.672454255
          ],
          [
           "KAMN",
           237792000,
           -0.42334527200000005
          ],
          [
           "JNPR",
           1208100000,
           0.28592167399999996
          ],
          [
           "JNJ",
           20747000000,
           2.430968919
          ],
          [
           "JLL",
           5400500000,
           14.26800755
          ],
          [
           "JKHY",
           419119000,
           1.195278146
          ],
          [
           "JJSF",
           282897000,
           1.776275815
          ],
          [
           "JHG",
           601200000,
           1.104078828
          ],
          [
           "JD",
           170684000000,
           0.001272886
          ],
          [
           "JCI",
           5576000000,
           0.410930619
          ],
          [
           "JBL",
           7505698000,
           0.137196961
          ],
          [
           "JBHT",
           2450324000,
           1.508305164
          ],
          [
           "JAZZ",
           581740000,
           1.5519493930000001
          ],
          [
           "J",
           3360049000,
           -1.032602233
          ],
          [
           "ITT",
           719100000,
           1.550741163
          ],
          [
           "ISRG",
           1277700000,
           4.7822379360000005
          ],
          [
           "IRBT",
           426778000,
           5.71729359
          ],
          [
           "IPGP",
           306627000,
           2.448443419
          ],
          [
           "IPAR",
           177802000,
           2.216747422
          ],
          [
           "IOSP",
           390700000,
           2.3840731180000003
          ],
          [
           "IONS",
           493681000,
           1.975867841
          ],
          [
           "INTU",
           1696000000,
           1.217824
          ],
          [
           "INTC",
           20209000000,
           2.273103448
          ],
          [
           "INT",
           9358100000,
           0.919068608
          ],
          [
           "INCY",
           579389000,
           0.611047613
          ],
          [
           "IMO",
           8122000000,
           1.359987812
          ],
          [
           "ILMN",
           952000000,
           3.013605442
          ],
          [
           "IEX",
           605997000,
           1.987381861
          ],
          [
           "IDCC",
           102161000,
           0.560724357
          ],
          [
           "ICUI",
           315523000,
           2.363624675
          ],
          [
           "ICFI",
           396636000,
           4.522651987
          ],
          [
           "ICE",
           1667000000,
           1.3953500630000002
          ],
          [
           "HUM",
           16295000000,
           3.866308927
          ],
          [
           "HUBG",
           900681000,
           3.6960570460000004
          ],
          [
           "HTLD",
           167226000,
           0.45102163799999995
          ],
          [
           "HSIC",
           2668941000,
           1.993728383
          ],
          [
           "HRL",
           2384434000,
           0.352356561
          ],
          [
           "HPQ",
           14618000000,
           0.884263052
          ],
          [
           "HP",
           614657000,
           1.030747006
          ],
          [
           "HNI",
           616079000,
           2.422921937
          ],
          [
           "HMSY",
           163445000,
           0.230573805
          ],
          [
           "HLX",
           170749000,
           0.536202445
          ],
          [
           "HII",
           2412000000,
           13.83851002
          ],
          [
           "HFC",
           4381888000,
           0.8501594720000001
          ],
          [
           "HELE",
           474737000,
           2.511803274
          ],
          [
           "HEI",
           506275000,
           0.603229401
          ],
          [
           "HCSG",
           446960000,
           0.18023718600000002
          ],
          [
           "HAIN",
           506784000,
           0.221098663
          ],
          [
           "H",
           1275000000,
           1.187391556
          ],
          [
           "GWRE",
           173458000,
           0.23582071899999998
          ],
          [
           "GWPH",
           109076000,
           -0.042988679
          ],
          [
           "GRMN",
           1102232000,
           1.147576393
          ],
          [
           "GPN",
           1987760000,
           0.139375399
          ],
          [
           "GOOGL",
           46075000000,
           20.91817101
          ],
          [
           "GOLF",
           368271000,
           0.523540818
          ],
          [
           "GNTX",
           443835638,
           0.48237134299999995
          ],
          [
           "GMED",
           211667000,
           0.546317353
          ],
          [
           "GLUU",
           112879000,
           0.17104528800000002
          ],
          [
           "GLIBA",
           232387000,
           0.06143808
          ],
          [
           "GKOS",
           65849000,
           -0.11349168300000001
          ],
          [
           "GHC",
           763478000,
           17.47708955
          ],
          [
           "GGG",
           412292000,
           0.715031778
          ],
          [
           "GDOT",
           249307000,
           -0.286368915
          ],
          [
           "FWRD",
           381504000,
           1.465562927
          ],
          [
           "FTNT",
           614400000,
           1.113230667
          ],
          [
           "FSS",
           314400000,
           0.735436381
          ],
          [
           "FSLR",
           1399377000,
           7.41596044
          ],
          [
           "FOXF",
           185881000,
           1.139695711
          ],
          [
           "FORM",
           178629000,
           0.497622554
          ],
          [
           "FN",
           426217000,
           1.3502547169999999
          ],
          [
           "FLWS",
           605642000,
           4.256577158
          ],
          [
           "FLIR",
           489044000,
           0.6973153879999999
          ],
          [
           "FIZZ",
           222814000,
           0.81730868
          ],
          [
           "FIX",
           719584000,
           1.153699537
          ],
          [
           "FHI",
           358025000,
           1.212179865
          ],
          [
           "FGEN",
           7974000,
           -0.5163319989999999
          ],
          [
           "FFIV",
           569305000,
           2.368856865
          ],
          [
           "FELE",
           320107000,
           1.886258999
          ],
          [
           "FDP",
           1025200000,
           0.8111089140000001
          ],
          [
           "FCN",
           602218000,
           3.747459895
          ],
          [
           "FCAU",
           29643000000,
           2.229072595
          ],
          [
           "FB",
           21082000000,
           3.1850656789999996
          ],
          [
           "FAST",
           1276900000,
           0.440083765
          ],
          [
           "FARO",
           104141000,
           0.517234831
          ],
          [
           "EXPO",
           110114000,
           1.075963348
          ],
          [
           "EXPD",
           2044941000,
           0.970315866
          ],
          [
           "EXEL",
           240310000,
           0.5200688529999999
          ],
          [
           "EW",
           1174100000,
           0.638314831
          ],
          [
           "EVR",
           660127000,
           10.58542755
          ],
          [
           "EVER",
           73799000,
           0.151351034
          ],
          [
           "ESE",
           171728000,
           0.104190269
          ],
          [
           "ERIE",
           596740000,
           2.742078053
          ],
          [
           "EPAY",
           111691000,
           0.5453350220000001
          ],
          [
           "EPAM",
           632775000,
           2.2658469340000003
          ],
          [
           "EOG",
           4320246000,
           3.1064206530000003
          ],
          [
           "ENPH",
           210032000,
           0.8356445020000001
          ],
          [
           "EME",
           2403940000,
           3.183776504
          ],
          [
           "EHTH",
           301748000,
           -2.458113832
          ],
          [
           "EGOV",
           87073000,
           0.199329228
          ],
          [
           "EB",
           82665000,
           -0.851066028
          ],
          [
           "EA",
           1593000000,
           3.781094972
          ],
          [
           "DRQ",
           108453000,
           0.22260546
          ],
          [
           "DORM",
           239567000,
           1.087783911
          ],
          [
           "DNOW",
           639000000,
           0.68014844
          ],
          [
           "DLB",
           291877000,
           0.31096454100000004
          ],
          [
           "DIOD",
           301157000,
           1.020082121
          ],
          [
           "DECK",
           938735000,
           16.259633400000002
          ],
          [
           "DDS",
           1962772000,
           13.84928846
          ],
          [
           "DDD",
           164570000,
           0.181530582
          ],
          [
           "DAVA",
           85900000,
           0.114669251
          ],
          [
           "CYBR",
           129664000,
           1.44177876
          ],
          [
           "CY",
           559568000,
           0.632092856
          ],
          [
           "CXO",
           1246000000,
           3.825324539
          ],
          [
           "CW",
           655771000,
           6.1464884379999996
          ],
          [
           "CVX",
           36350000000,
           2.9917410789999996
          ],
          [
           "CVLT",
           176351000,
           0.019448108999999998
          ],
          [
           "CVGW",
           273348000,
           -0.370624636
          ],
          [
           "CVE",
           4838000000,
           0.6022185179999999
          ],
          [
           "CVCO",
           273722000,
           2.70722234
          ],
          [
           "CTXS",
           809823000,
           1.582331823
          ],
          [
           "CTVA",
           2983000000,
           4.506943387
          ],
          [
           "CTSH",
           4284000000,
           1.713036063
          ],
          [
           "CTB",
           750211000,
           6.07775653
          ],
          [
           "CSWI",
           83716000,
           1.515361844
          ],
          [
           "CSII",
           68334000,
           0.11193111900000001
          ],
          [
           "CSGP",
           374726000,
           2.94153325
          ],
          [
           "CSCO",
           12005000000,
           0.895748421
          ],
          [
           "CRWD",
           152109000,
           0.321618339
          ],
          [
           "CRVL",
           148092000,
           1.086321771
          ],
          [
           "CRUS",
           374668000,
           2.226876755
          ],
          [
           "CRSP",
           77016000,
           0.061154720999999995
          ],
          [
           "CRS",
           573000000,
           0.458926065
          ],
          [
           "CRON",
           6932739,
           -0.149079881
          ],
          [
           "CRM",
           4851000000,
           1.839909808
          ],
          [
           "CR",
           837500000,
           3.7163077689999997
          ],
          [
           "CPRT",
           575140000,
           0.621464341
          ],
          [
           "COST",
           37040000000,
           4.7810002780000005
          ],
          [
           "CORT",
           87895000,
           0.423991073
          ],
          [
           "COP",
           8140000000,
           2.717657115
          ],
          [
           "COLM",
           954867000,
           7.161849087999999
          ],
          [
           "COHR",
           320771000,
           2.485982526
          ],
          [
           "COG",
           461368000,
           0.6446778470000001
          ],
          [
           "CODI",
           386999000,
           0.884440735
          ],
          [
           "CNXN",
           716627000,
           -0.129919662
          ],
          [
           "CNNE",
           240000000,
           -0.6259711139999999
          ],
          [
           "CMI",
           5578000000,
           5.46984532
          ],
          [
           "CLDR",
           211720000,
           -0.032791053
          ],
          [
           "CIEN",
           832912000,
           0.258117163
          ],
          [
           "CHE",
           522324000,
           3.972951151
          ],
          [
           "CGNX",
           169769000,
           0.397379025
          ],
          [
           "CERN",
           1442232000,
           1.393118778
          ],
          [
           "CDNS",
           599555000,
           0.567711953
          ],
          [
           "CDAY",
           221800000,
           0.180704372
          ],
          [
           "CBZ",
           203138000,
           0.88821935
          ],
          [
           "CBRE",
           7119407000,
           3.238457061
          ],
          [
           "CBPO",
           102157856,
           1.852442339
          ],
          [
           "CBOE",
           598600000,
           2.144121207
          ],
          [
           "CARG",
           158153000,
           0.183699327
          ],
          [
           "CALM",
           311522000,
           -0.279177034
          ],
          [
           "BYND",
           98479000,
           -0.465785264
          ],
          [
           "BWA",
           2559000000,
           0.891071122
          ],
          [
           "BSM",
           103028000,
           0.482211055
          ],
          [
           "BRO",
           578989000,
           0.820099562
          ],
          [
           "BRKS",
           210500000,
           0.356890772
          ],
          [
           "BRC",
           276665000,
           0.267498584
          ],
          [
           "BMRN",
           454443000,
           0.31923676100000004
          ],
          [
           "BMI",
           107556000,
           0.672418562
          ],
          [
           "BKR",
           6348000000,
           1.320942674
          ],
          [
           "BIO",
           624428000,
           5.338327825
          ],
          [
           "BIIB",
           3671300000,
           10.86333185
          ],
          [
           "BHE",
           508444000,
           0.970330562
          ],
          [
           "BEP",
           726000000,
           1.1575808429999999
          ],
          [
           "BCPC",
           166527000,
           1.024811683
          ],
          [
           "BB",
           267000000,
           0.071124274
          ],
          [
           "BAND",
           62003000,
           0.09479892699999999
          ],
          [
           "BABA",
           161456000000,
           4.631511698
          ],
          [
           "BA",
           17911000000,
           -3.944624347
          ],
          [
           "AZZ",
           291139000,
           1.293172376
          ],
          [
           "AYI",
           834700000,
           3.248195522
          ],
          [
           "AVX",
           344441000,
           0.33201303
          ],
          [
           "AVT",
           4534806000,
           1.471480561
          ],
          [
           "AVNS",
           189800000,
           -0.060506327
          ],
          [
           "AVLR",
           107627000,
           0.22036208899999998
          ],
          [
           "AVEO",
           764000,
           -0.45855384899999996
          ],
          [
           "AVAV",
           61891000,
           0.297908149
          ],
          [
           "ATVI",
           1986000000,
           1.194907865
          ],
          [
           "ATRI",
           34466000,
           3.3965395189999996
          ],
          [
           "ATRC",
           61321000,
           -0.089227802
          ],
          [
           "ATR",
           671333000,
           2.097327175
          ],
          [
           "ASTE",
           283224000,
           1.253373717
          ],
          [
           "ASML",
           4036400000,
           8.521299813999999
          ],
          [
           "ASH",
           533000000,
           -0.8474047659999999
          ],
          [
           "ARWR",
           29454579,
           -0.245856682
          ],
          [
           "ARW",
           7338190000,
           6.0750211
          ],
          [
           "ARNA",
           3002000,
           -1.225932948
          ],
          [
           "APD",
           2254700000,
           3.025850036
          ],
          [
           "AOS",
           750900000,
           1.080239557
          ],
          [
           "ANSS",
           486228000,
           1.65638972
          ],
          [
           "ANGI",
           321508000,
           0.06379672900000001
          ],
          [
           "ANET",
           552546000,
           4.282265178
          ],
          [
           "AMRN",
           143277000,
           -0.024897823
          ],
          [
           "AMK",
           111008000,
           0.311008287
          ],
          [
           "AMED",
           500678000,
           2.332022963
          ],
          [
           "AMD",
           2127000000,
           0.39690110799999995
          ],
          [
           "AMAT",
           4162000000,
           1.0783301440000002
          ],
          [
           "ALXN",
           1384300000,
           2.336745381
          ],
          [
           "ALRM",
           140488000,
           0.478975941
          ],
          [
           "ALKS",
           412730000,
           0.267073387
          ],
          [
           "ALGN",
           649787000,
           2.768288433
          ],
          [
           "AKCA",
           277479000,
           2.2229076219999997
          ],
          [
           "AIR",
           560900000,
           0.414637374
          ],
          [
           "AGCO",
           2513600000,
           10.27642933
          ],
          [
           "ADP",
           3669500000,
           1.61336511
          ],
          [
           "ADM",
           16329000000,
           -3.256771275
          ],
          [
           "ADBE",
           2991945000,
           2.843337785
          ],
          [
           "ACN",
           11358958000,
           1.200098233
          ],
          [
           "ACIA",
           128673000,
           0.30374391100000003
          ],
          [
           "ACA",
           446900000,
           2.88901627
          ],
          [
           "ABMD",
           221584000,
           1.980728293
          ],
          [
           "ABC",
           47864742000,
           0.693514394
          ],
          [
           "ABB",
           7068000000,
           0.896357269
          ],
          [
           "AAXN",
           171851000,
           0.771962505
          ],
          [
           "AAON",
           122574000,
           0.524822832
          ],
          [
           "AA",
           2436000000,
           1.411843949
          ],
          [
           "A",
           1357000000,
           -0.19021004100000002
          ]
         ],
         "hovertemplate": "label=2<br>TOT_DEBT_TO_TOTAL_ASSET=%{x}<br>PX_TO_BOOK_RATIO=%{y}<br>ticker=%{customdata[0]}<br>revenue=%{customdata[1]}<br>CASH_FLOW_PER_SHARE=%{customdata[2]}<extra></extra>",
         "legendgroup": "2",
         "marker": {
          "color": "#00cc96",
          "symbol": "circle"
         },
         "mode": "markers",
         "name": "2",
         "showlegend": true,
         "type": "scattergl",
         "x": [
          0.050917692,
          0.195734923,
          0.050232392,
          0.263165468,
          0.037238172,
          0.21692631,
          0.180741378,
          0.12939985699999998,
          0.01601492,
          0.251655046,
          0.179444025,
          0.33077290800000003,
          0.140642351,
          0.14920852,
          0.130563954,
          0.190396884,
          0,
          0.045109729,
          0.13993425,
          0.07496162099999999,
          0.044749369000000004,
          0.22355155899999998,
          0.191635411,
          0.06474463700000001,
          0.210643496,
          0.246976497,
          0.179563345,
          0.011859908,
          0.024134411,
          0.142831465,
          0.22315828899999998,
          0.229294947,
          0.217202433,
          0.24575952399999998,
          0,
          0.08842018,
          0.23393084100000003,
          0.021488191,
          0.213134815,
          0.129056877,
          0.010589912,
          0.322066822,
          0.25886635399999997,
          0.035967459,
          0.245741966,
          0.109587155,
          0.10142301699999999,
          0.270721892,
          0,
          0.213298641,
          0.057817874000000005,
          0.010049455,
          0.165938865,
          0.06250345,
          0.126426684,
          0.165055504,
          0.19888866600000002,
          0.232205523,
          0.109357205,
          0.21177780699999998,
          0.290364462,
          0.10930992699999999,
          0.205350053,
          0.029635885,
          0.170746628,
          0.059148612,
          0.154817222,
          0.07644466,
          0.23619114800000002,
          0.046112199000000006,
          0.01573413,
          0.075039016,
          0.025498327,
          0.23618458899999997,
          0.184352307,
          0.053343465,
          0.12143693900000001,
          0.104379189,
          0.119190554,
          0.09871315,
          0.20853605,
          0.185040758,
          0.093588465,
          0.012866352,
          0.21987422199999998,
          0.09897471,
          0.261263211,
          0.134357645,
          0.26443758,
          0.030648734,
          0.18681351699999998,
          0.022128225,
          0.030816446,
          0.023538426,
          0.013520541,
          0.159403736,
          0.26199008100000004,
          0.047054190999999995,
          0.099553886,
          0.056076664000000005,
          0.170721336,
          0.11541623300000001,
          0,
          0.158132269,
          0.259361901,
          0.220203908,
          0.041293751000000004,
          0.096608416,
          0.019979683999999998,
          0.048880348,
          0.118467185,
          0.050836597000000004,
          0.18806982,
          0.048219544,
          0.126784175,
          0.000557957,
          0.241407359,
          0.07649110099999999,
          0.12328913,
          0.096721407,
          0.13609901900000002,
          0.198766588,
          0.093260201,
          0.20032356899999998,
          0.145773147,
          0.17376424699999998,
          0.017671936,
          0.225315851,
          0.10711078800000001,
          0,
          0.248604904,
          0.14048501900000002,
          0.00235039,
          0.058364297,
          0.042736268,
          0,
          0.12358744,
          0.053421364000000006,
          0.08743084300000001,
          0.218415723,
          0,
          0.033110072000000004,
          0.108944229,
          0.013121869,
          0.09134519,
          0.14743889699999999,
          0.112819105,
          0,
          0.08113168,
          0.221829078,
          0,
          0.011262478999999999,
          0,
          0.156246161,
          0.229424822,
          0.035689265,
          0.147386659,
          0.26436428100000003,
          0.238925527,
          0.116600565,
          0.154289641,
          0.169123015,
          0.24575704899999998,
          0.205679077,
          0.308741022,
          0.187776363,
          0.247587211,
          0.260206,
          0.18034303100000001,
          0,
          0.187278191,
          0.170961125,
          0.032738882999999996,
          0.187923715,
          0.273876436,
          0.12409112,
          0.044147208,
          0.112837958,
          0.198941347,
          0.271505053,
          0.224767243,
          0.129254794,
          0.000814727,
          0.036530655,
          0,
          0.22887795800000002,
          0.21894798899999998,
          0,
          0.107676635,
          0.12338054300000001,
          0,
          0.251916933,
          0.216632205,
          0.11246086,
          0.22075608300000002,
          0.212774728,
          0.222178897,
          0.039553099,
          0.069873056,
          0.197049595,
          0.197674345,
          0,
          0.080029356,
          0.08707447900000001,
          0.152876255,
          0.291660966,
          0.045145230999999994,
          0.154315505,
          0.22550477600000002,
          0.2002094,
          0.116775734,
          0.209264305,
          0.085193715,
          0.079653589,
          0,
          0.26828976600000004,
          0.031600301000000004,
          0.159114967,
          0.161132407,
          0.201768573,
          0.16411616199999998,
          0.27201240000000004,
          0.23966583600000002,
          0.18350722,
          0.046746737000000003,
          0.020030436000000002,
          0.237918405,
          0.132225602,
          0.11555663,
          0.08818584,
          0.23425884100000002,
          0.285338401,
          0.22075404399999998,
          0.13921982800000002,
          0.208425269,
          0.175593427,
          0.19878443,
          0,
          0.064868726,
          0.041486807,
          0.072263046,
          0.171288782,
          0.20266690899999998,
          0.236844193,
          0.31747891300000003,
          0.132357788,
          0.021058012999999997,
          0,
          0.059655520999999996,
          0.015275216000000001,
          0.06400694,
          0.063044662,
          0.24358141600000002,
          0.10401432599999999,
          0.21242418899999999,
          0.104932915,
          0.014848472,
          0.12302368,
          0.250956807,
          0.22267215399999998,
          0.275890432,
          0,
          0.22636339800000002,
          0.085720635,
          0.202620898,
          0.162473501,
          0,
          0.139607593,
          0.038266204,
          0.15336745,
          0.082060118,
          0.178832257,
          0.204842816,
          0.235474911,
          0.206229555,
          0.24040388199999999,
          0.159683299,
          0.18365314100000002,
          0.029960199,
          0.176361794,
          0.243317096,
          0.191646073,
          0.030856368,
          0.007984369,
          0.21557336100000002,
          0.053524894,
          0.221416153,
          0,
          0,
          0.09778518800000001,
          0.281873759,
          0.08874633400000001,
          0.18251625800000001,
          0.115946602,
          0.027875022000000003,
          0.227888802,
          0,
          0.207722008,
          0.062761644,
          0.11160054900000001,
          0.112068124,
          0.049892474000000006,
          0.205746653,
          0.215730408,
          0.080577285,
          0.198557885,
          0.11760776199999999,
          0.059601327999999995,
          0.08832805199999999,
          0.10450615699999999,
          0.215618377,
          0.162401703,
          0.13482722,
          0.07740523,
          0.15542514300000002,
          0.01370876,
          0.042778717,
          0.10610138300000001,
          0.025460977000000003,
          0.10462230900000001,
          0.25076030899999996,
          0,
          0.115962975,
          0.048516545999999994,
          0.174100738,
          0.11739731800000001,
          0.149356675,
          0.147980365,
          0.118070959,
          0.052672882000000004,
          0.03076783,
          0.031282835,
          0.089149718,
          0.004239307,
          0.028557102999999997,
          0.021370207000000002,
          0.02543442,
          0.06761564099999999,
          0.146772502,
          0.179275197,
          0.114815586,
          0.15827557,
          0.34523963700000004,
          0.204274385,
          0.16444282699999999,
          0.240621732,
          0.11360496699999999,
          0.019654103,
          0.216021281,
          0.241228684,
          0.030202855,
          0.216979735,
          0.002877562,
          0.10398667,
          0.138127521,
          0.028994415,
          0.09323704699999999,
          0.042395068,
          0.176862849,
          0,
          0.20751279399999997,
          0.08974349599999999,
          0.049251372,
          0.19670349,
          0.003399759,
          0.106447049,
          0.224111038,
          0.170333972,
          0.179833175,
          0.008394129,
          0.211234648,
          0.148563016,
          0.18736439800000002,
          0.271887316,
          0.208492345,
          0.011020606,
          0.17603479600000002,
          0.119927041,
          0.09196709300000001,
          0.198320128,
          0.101930353,
          0.009530021,
          0.150607531,
          0.10306696800000001,
          0.11765285800000001,
          0.189453117,
          0.24517756,
          0,
          0.178787227,
          0.176816395,
          0.0026725940000000004,
          0.069056012,
          0.20202020199999998,
          0.254981854,
          0.226057781,
          0.045717075,
          0.083501536,
          0.180834317,
          0.010618806000000001,
          0.124079522,
          0.08130171900000001,
          0.23380443,
          0.12252865800000001,
          0.058838363,
          0.22140259999999998,
          0.188090979,
          0.072474635,
          0.09275290900000001,
          0.204318054,
          0.223054015,
          0.12779862,
          0,
          0.23260890899999997,
          0.18081796,
          0.083066693,
          0.311581028,
          0.017240824,
          0.134794659,
          0,
          0.13301068300000002,
          0.046467565999999995,
          0.002534672,
          0.137355499,
          0.252252252,
          0.025253335,
          0.181183889,
          0.042096952,
          0.17002177899999998,
          0.105526488,
          0.121990656,
          0.127859385,
          0.019836618,
          0.067527083,
          0.102351635,
          0.258231076,
          0.113636364,
          0.268831892,
          0.151944188,
          0.19340658600000002,
          0.161152939,
          0.01738032,
          0.023776387000000003,
          0.15961023400000002,
          0.192507442,
          0.048202790999999995,
          0.20185467199999998,
          0.199306425,
          0.10195955400000001,
          0.021798826,
          0.04660152,
          0,
          0.10417148400000001,
          0.218638848,
          0,
          0,
          0.123026451,
          0.25913061800000003
         ],
         "xaxis": "x",
         "y": [
          22.487,
          2.931,
          25.289,
          5.865,
          4.544,
          3.239,
          2.472,
          1.541,
          3.2880000000000003,
          9.371,
          3.4560000000000004,
          2.611,
          7.07,
          4.782,
          1.0190000000000001,
          2.533,
          1.544,
          7.872999999999999,
          2.267,
          1.454,
          1.0959999999999999,
          5.182,
          2.0709999999999997,
          9.252,
          4.062,
          8.658999999999999,
          1.764,
          9.183,
          13.079,
          7.131,
          10.492,
          1.081,
          1.39,
          6.08,
          4.923,
          4.607,
          4.834,
          2.33,
          0.922,
          2.405,
          7.233,
          13.464,
          2.859,
          5.777,
          4.595,
          19.142,
          9.572000000000001,
          2.029,
          3.647,
          3.7560000000000002,
          11.673,
          2.935,
          8.323,
          18.066,
          3.0669999999999997,
          7.72,
          3.0260000000000002,
          6.322,
          1.635,
          4.673,
          5.976,
          11.409,
          1.7530000000000001,
          4.883,
          2.76,
          2.386,
          7.41,
          2.142,
          3.82,
          9.592,
          0.9420000000000001,
          4.633,
          3.987,
          15.674000000000001,
          4.471,
          5.441,
          11.817,
          4.431,
          5.352,
          1.7280000000000002,
          2.722,
          5.14,
          2.37,
          1.2009999999999998,
          4.532,
          3.7969999999999997,
          2.925,
          4.3660000000000005,
          1.216,
          10.437000000000001,
          5.308,
          5.6579999999999995,
          5.695,
          1.916,
          28.684,
          2.585,
          4.614,
          1.023,
          1.4240000000000002,
          6.196000000000001,
          2.963,
          2.235,
          9.67,
          5.006,
          3.645,
          1.5330000000000001,
          3.6860000000000004,
          2.481,
          2.415,
          4.8839999999999995,
          6.41,
          3.6180000000000003,
          4.544,
          3.718,
          0.9279999999999999,
          3.5639999999999996,
          3.128,
          8.355,
          5.582000000000001,
          7.522,
          2.069,
          1.43,
          1.165,
          1.9869999999999999,
          2.5140000000000002,
          2.7939999999999996,
          4.638999999999999,
          3.943,
          3.0010000000000003,
          4.0169999999999995,
          3.946,
          2.4459999999999997,
          2.411,
          2.7239999999999998,
          -10.677,
          20.189,
          11.804,
          11.722999999999999,
          12.485,
          1.521,
          5.849,
          19.5,
          11.997,
          29.36,
          2.016,
          2.403,
          0.606,
          1.4469999999999998,
          4.055,
          3.1889999999999996,
          11.964,
          4.917,
          4.541,
          0.9279999999999999,
          1.669,
          16.497,
          12.561,
          2.6010000000000004,
          1.6480000000000001,
          2.7030000000000003,
          4.468999999999999,
          0.9179999999999999,
          48.405,
          2.136,
          49.958,
          25.022,
          1.855,
          15.607000000000001,
          1.7009999999999998,
          5.051,
          6.019,
          1.663,
          4.717,
          1.88,
          9.646,
          1.4609999999999999,
          1.986,
          2.8789999999999996,
          2.6839999999999997,
          10.925999999999998,
          6.744,
          1.858,
          1.9669999999999999,
          2.964,
          9.998,
          3.537,
          4.341,
          8.192,
          3.6639999999999997,
          2.945,
          3.928,
          3.341,
          1.203,
          1.835,
          1.37,
          14.337,
          1.5719999999999998,
          4.17,
          12.140999999999998,
          4.037,
          3.718,
          7.321000000000001,
          2.149,
          35.818000000000005,
          2.0869999999999997,
          51.118,
          2.115,
          2.889,
          15.124,
          2.294,
          6.191,
          3.516,
          3.2,
          1.527,
          6.068,
          3.565,
          2.245,
          2.638,
          2.33,
          2.06,
          3.071,
          3.127,
          4.2669999999999995,
          1.9069999999999998,
          2.12,
          5.694,
          1.899,
          1.079,
          1.5030000000000001,
          2.199,
          1.775,
          5.604,
          2.286,
          2.231,
          1.788,
          6.45,
          1.7530000000000001,
          7.537999999999999,
          4.186,
          0.938,
          4.38,
          1.625,
          3.23,
          5.49,
          2.715,
          1.9809999999999999,
          3.1239999999999997,
          8.267999999999999,
          2.263,
          3.202,
          4.888,
          2.759,
          5.776,
          19.582,
          3.372,
          1.5019999999999998,
          7.2379999999999995,
          1.0759999999999998,
          10.589,
          5.78,
          2.228,
          2.8089999999999997,
          2.412,
          2.987,
          4.032,
          1.624,
          2.522,
          3.259,
          4.146,
          -18.961,
          1.239,
          2.74,
          3.05,
          0.843,
          6.462000000000001,
          1.369,
          3.497,
          9.258,
          3.9160000000000004,
          1.78,
          2.326,
          5.832999999999999,
          4.452,
          4.198,
          1.97,
          4.586,
          2.66,
          3.783,
          4.1739999999999995,
          4.343,
          1.207,
          2.988,
          1.023,
          8.491,
          1.294,
          3.4139999999999997,
          13.812999999999999,
          3.0410000000000004,
          1.157,
          6.367000000000001,
          3.075,
          2.574,
          2.305,
          3.733,
          5.051,
          3.1239999999999997,
          3.165,
          7.25,
          4.4,
          3.3360000000000003,
          0.982,
          2.7960000000000003,
          0.898,
          5.792000000000001,
          7.95,
          2.64,
          10.425999999999998,
          6.053,
          3.175,
          11.729000000000001,
          3.36,
          17.343,
          2.625,
          6.766,
          5.952000000000001,
          7.309,
          2.252,
          11.748,
          2.356,
          4.21,
          6.086,
          3.998,
          4.338,
          1.556,
          3.1830000000000003,
          1.069,
          2.935,
          2.6,
          4.204,
          0.924,
          1.984,
          18.031,
          6.881,
          4.1339999999999995,
          0.99,
          3.39,
          1.58,
          4.886,
          4.696000000000001,
          0.851,
          2.977,
          17.24,
          0.91,
          3.0810000000000004,
          1.141,
          3.955,
          11.935,
          6.436,
          5.832000000000001,
          16.92,
          8.259,
          3.824,
          3.5789999999999997,
          1.482,
          1.507,
          4.772,
          3.516,
          11.1,
          8.297,
          3.725,
          2.04,
          3.658,
          3.0660000000000003,
          3.301,
          1.335,
          2.188,
          1.8,
          3.6519999999999997,
          2.0540000000000003,
          2.8560000000000003,
          9.677999999999999,
          7.064,
          5.331,
          9.379,
          5.189,
          2.246,
          3.292,
          2.701,
          3.965,
          15.333,
          2.27,
          12.109000000000002,
          1.903,
          3.516,
          3.32,
          2.612,
          3.28,
          4.864,
          5.709,
          1.2009999999999998,
          1.925,
          4.013,
          1.25,
          0.888,
          4.396,
          1.199,
          5.571000000000001,
          5.197,
          -21.276,
          1.524,
          2.6260000000000003,
          1.4069999999999998,
          1.085,
          1.2770000000000001,
          12.154000000000002,
          6.76,
          3.321,
          3.565,
          5.86,
          5.1979999999999995,
          4.702,
          1.5730000000000002,
          8.808,
          1.271,
          12.139000000000001,
          1.4340000000000002,
          2.124,
          4.482,
          4.662,
          6.275,
          3.24,
          5.367999999999999,
          12.651,
          2.4459999999999997,
          8.407,
          18.191,
          6.553,
          2.123,
          5.869,
          2.9610000000000003,
          16.337,
          2.929,
          1.696,
          2.044,
          13.753,
          1.3419999999999999,
          14.23,
          8.697000000000001,
          4.838,
          1.204,
          7.358,
          5.925,
          3.7969999999999997,
          8.001,
          8.872,
          0.971,
          5.282
         ],
         "yaxis": "y"
        },
        {
         "customdata": [
          [
           "ZAYO",
           653700000,
           1.082634452
          ],
          [
           "YUM",
           1694000000,
           1.428277781
          ],
          [
           "WYNN",
           1653459000,
           1.12882907
          ],
          [
           "WW",
           332583000,
           0.456049537
          ],
          [
           "WSC",
           270192000,
           0.629325742
          ],
          [
           "WING",
           53186000,
           0.33941782
          ],
          [
           "WES",
           723210000,
           0.656498806
          ],
          [
           "WEN",
           427191000,
           0.223575967
          ],
          [
           "WBT",
           381800000,
           0.35998049200000004
          ],
          [
           "WAT",
           716294000,
           2.978146277
          ],
          [
           "W",
           2533490000,
           -0.389721531
          ],
          [
           "VVV",
           607000000,
           0.31317068
          ],
          [
           "VRSN",
           310543000,
           1.648919448
          ],
          [
           "VRRM",
           112461000,
           0.240125585
          ],
          [
           "VGR",
           439565000,
           -0.48229224299999995
          ],
          [
           "URI",
           2456000000,
           5.881105417000001
          ],
          [
           "UPLD",
           66066000,
           0.277976887
          ],
          [
           "UI",
           308284000,
           1.907236111
          ],
          [
           "THC",
           4806000000,
           5.005044026
          ],
          [
           "TGNA",
           693955000,
           0.382142021
          ],
          [
           "TERP",
           206734000,
           0.265327341
          ],
          [
           "TDG",
           1465000000,
           8.086150331
          ],
          [
           "TCP",
           104000000,
           0.953631144
          ],
          [
           "TBPH",
           29499000,
           -1.133710087
          ],
          [
           "SUN",
           4098000000,
           1.421930265
          ],
          [
           "SPH",
           333878000,
           0.252887341
          ],
          [
           "SNBR",
           441166000,
           -0.023639498
          ],
          [
           "SMG",
           365800000,
           -5.700561779
          ],
          [
           "SIX",
           261000000,
           0.824708205
          ],
          [
           "SIRI",
           2062000000,
           0.12026077800000001
          ],
          [
           "SHLX",
           126000000,
           0.595826121
          ],
          [
           "SHEN",
           160997000,
           1.3174842629999999
          ],
          [
           "SGMS",
           863000000,
           1.533472729
          ],
          [
           "SFM",
           1364991000,
           0.270004275
          ],
          [
           "SEM",
           1374584000,
           1.329168226
          ],
          [
           "SEE",
           1298900000,
           1.6820292540000001
          ],
          [
           "SEAS",
           298011000,
           0.441203653
          ],
          [
           "SBUX",
           7097100000,
           1.554699407
          ],
          [
           "SBGI",
           1622000000,
           4.580877646999999
          ],
          [
           "SBAC",
           513658000,
           2.353984256
          ],
          [
           "SAH",
           2748404000,
           4.556922408
          ],
          [
           "RRR",
           460786000,
           0.853466263
          ],
          [
           "RH",
           664976000,
           6.747956652
          ],
          [
           "REV",
           699400000,
           1.857249643
          ],
          [
           "RDNT",
           300841000,
           0.432031228
          ],
          [
           "QSR",
           1479000000,
           1.895246664
          ],
          [
           "PZZA",
           417514000,
           0.367806311
          ],
          [
           "PODD",
           209394000,
           0.7591687340000001
          ],
          [
           "PM",
           19849000000,
           2.136418934
          ],
          [
           "PLUG",
           98202000,
           0.001068676
          ],
          [
           "PLNT",
           191511000,
           0.570796414
          ],
          [
           "PLAY",
           299352000,
           1.9817200680000002
          ],
          [
           "PENN",
           1341200000,
           1.593441598
          ],
          [
           "PCG",
           4743000000,
           1.4152649769999999
          ],
          [
           "PBFX",
           92240000,
           0.859173807
          ],
          [
           "PARR",
           1399134000,
           0.136727478
          ],
          [
           "PAG",
           5891600000,
           -1.756593025
          ],
          [
           "PAE",
           2763893000,
           2.23868502
          ],
          [
           "OUT",
           488100000,
           0.7998607520000001
          ],
          [
           "NXST",
           1100090000,
           2.199559438
          ],
          [
           "NRG",
           2195000000,
           2.194008457
          ],
          [
           "NLSN",
           1691000000,
           1.320928741
          ],
          [
           "NGVT",
           303400000,
           2.04426579
          ],
          [
           "NAV",
           1838000000,
           0.9976223740000001
          ],
          [
           "MTCH",
           547167000,
           0.662694254
          ],
          [
           "MSCI",
           406606000,
           2.876293853
          ],
          [
           "MDB",
           123523000,
           -0.151876196
          ],
          [
           "MCD",
           5349000000,
           2.5087196169999997
          ],
          [
           "MAXR",
           193000000,
           2.92912938
          ],
          [
           "MAS",
           920000000,
           0.27615296
          ],
          [
           "LW",
           1019200000,
           0.731192727
          ],
          [
           "LOW",
           16027000000,
           0.24136455399999998
          ],
          [
           "LII",
           885000000,
           7.048764552000001
          ],
          [
           "LBTYA",
           2982200000,
           2.362066607
          ],
          [
           "LB",
           4707000000,
           4.796099265
          ],
          [
           "LAMR",
           462659000,
           2.219374995
          ],
          [
           "LAD",
           3268900000,
           1.9789204530000002
          ],
          [
           "KTB",
           652611000,
           3.5017733730000002
          ],
          [
           "KMX",
           4790028000,
           0.04591618099999999
          ],
          [
           "JACK",
           307673000,
           0.959200433
          ],
          [
           "IRWD",
           126301000,
           0.175872526
          ],
          [
           "IRM",
           1079590000,
           1.109236686
          ],
          [
           "IAA",
           355900000,
           0.161781799
          ],
          [
           "HUD",
           475800000,
           1.384407694
          ],
          [
           "HRI",
           540100000,
           6.744783332000001
          ],
          [
           "HRB",
           519205000,
           -3.966662041
          ],
          [
           "HOG",
           1072271000,
           0.12718061
          ],
          [
           "HLT",
           2369000000,
           0.7158983309999999
          ],
          [
           "HLF",
           1220300000,
           1.06319002
          ],
          [
           "HEP",
           131634000,
           0.652919848
          ],
          [
           "HD",
           25782000000,
           2.804284022
          ],
          [
           "HCA",
           13523000000,
           7.385496065
          ],
          [
           "HALO",
           53665000,
           -0.181691514
          ],
          [
           "GSHD",
           13798000,
           0.130840381
          ],
          [
           "GPI",
           3111400000,
           3.227866077
          ],
          [
           "GEO",
           621710000,
           0.12521080099999998
          ],
          [
           "FUN",
           257246000,
           0.24534173199999998
          ],
          [
           "FTDR",
           300000000,
           0.5433288070000001
          ],
          [
           "FICO",
           298504000,
           2.084310777
          ],
          [
           "F",
           39715000000,
           0.731418749
          ],
          [
           "EVRI",
           145177000,
           -0.490665699
          ],
          [
           "EVA",
           200540000,
           0.310280618
          ],
          [
           "ERI",
           592124000,
           0.674338903
          ],
          [
           "ENR",
           736800000,
           1.7852407940000001
          ],
          [
           "ENDP",
           764800000,
           -0.093448976
          ],
          [
           "EAT",
           869300000,
           1.4904470369999998
          ],
          [
           "EAF",
           414612000,
           0.7617233809999999
          ],
          [
           "DVA",
           2898584000,
           5.246954551
          ],
          [
           "DPZ",
           1150352000,
           4.213987041
          ],
          [
           "DNKN",
           335917000,
           1.6894002280000002
          ],
          [
           "DIN",
           227511000,
           2.952680644
          ],
          [
           "DENN",
           113836000,
           0.1913519
          ],
          [
           "CZR",
           2169000000,
           0.20862254600000002
          ],
          [
           "CWST",
           193620000,
           0.948788009
          ],
          [
           "CWH",
           964931000,
           -0.808222566
          ],
          [
           "CWEN",
           235000000,
           0.532536053
          ],
          [
           "CVNA",
           1103587000,
           -2.127639878
          ],
          [
           "CVA",
           485000000,
           0.867362929
          ],
          [
           "CQP",
           1908000000,
           1.177652803
          ],
          [
           "COMM",
           2298700000,
           1.7298226369999998
          ],
          [
           "CNR",
           1244415000,
           1.288473576
          ],
          [
           "CMPR",
           820333000,
           7.247396291
          ],
          [
           "CLF",
           534100000,
           0.645729605
          ],
          [
           "CHH",
           268084000,
           1.4279201330000002
          ],
          [
           "CHGG",
           125504000,
           0.221752328
          ],
          [
           "CDK",
           499600000,
           0.8772783759999999
          ],
          [
           "CCOI",
           140291000,
           0.984303795
          ],
          [
           "CCO",
           745232000,
           0.31153316
          ],
          [
           "CCI",
           1345000000,
           1.940984134
          ],
          [
           "CC",
           1353000000,
           2.446466541
          ],
          [
           "CAR",
           2162000000,
           8.872288033
          ],
          [
           "BYD",
           833131000,
           1.201839284
          ],
          [
           "BURL",
           2208599000,
           6.261922557999999
          ],
          [
           "BPMP",
           35066000,
           0.44960411899999997
          ],
          [
           "BLMN",
           1022184000,
           1.5734383769999998
          ],
          [
           "BKD",
           986638000,
           0.474593573
          ],
          [
           "BJ",
           3472325000,
           0.9734421870000001
          ],
          [
           "BHC",
           2224000000,
           0.663959345
          ],
          [
           "BERY",
           2816000000,
           1.647770219
          ],
          [
           "BE",
           117217000,
           0.208350906
          ],
          [
           "AZO",
           2793038000,
           18.76412024
          ],
          [
           "ATUS",
           2474549000,
           1.13088307
          ],
          [
           "ATKR",
           447448000,
           1.1104488959999999
          ],
          [
           "AROC",
           245987000,
           0.437904279
          ],
          [
           "AMT",
           1923700000,
           2.24341677
          ],
          [
           "AMRX",
           397328000,
           -0.170140323
          ],
          [
           "AMCX",
           785204000,
           1.500246426
          ],
          [
           "AHCO",
           529644247,
           1.99012208
          ],
          [
           "AES",
           2431000000,
           1.040830914
          ],
          [
           "ADT",
           1298283000,
           0.556645952
          ],
          [
           "ACEL",
           424385000,
           0.92386885
          ],
          [
           "ABG",
           1894000000,
           0.108792907
          ],
          [
           "ABBV",
           8704000000,
           2.214601874
          ],
          [
           "AAL",
           11313000000,
           1.369681731
          ]
         ],
         "hovertemplate": "label=1<br>TOT_DEBT_TO_TOTAL_ASSET=%{x}<br>PX_TO_BOOK_RATIO=%{y}<br>ticker=%{customdata[0]}<br>revenue=%{customdata[1]}<br>CASH_FLOW_PER_SHARE=%{customdata[2]}<extra></extra>",
         "legendgroup": "1",
         "marker": {
          "color": "#ab63fa",
          "symbol": "circle"
         },
         "mode": "markers",
         "name": "1",
         "showlegend": true,
         "type": "scattergl",
         "x": [
          0.646177167,
          2.0191168040000003,
          0.761504363,
          1.159883709,
          0.614343214,
          1.871430893,
          0.644674061,
          0.7435485909999999,
          0.661986792,
          0.6942240190000001,
          0.771676248,
          0.681758816,
          0.9641619859999999,
          0.637045926,
          1.1838117209999999,
          0.6305218770000001,
          0.594839813,
          0.985763583,
          0.631328911,
          0.616215385,
          0.6470336529999999,
          1.0124476759999999,
          0.702067999,
          1.248765979,
          0.665869805,
          0.637793106,
          0.7302972670000001,
          0.5971354170000001,
          0.858181326,
          0.748587317,
          1.347201585,
          0.597979529,
          1.128569599,
          0.637261782,
          0.613866513,
          0.6775307009999999,
          0.7286876259999999,
          0.7439391590000001,
          0.73074266,
          1.317716982,
          0.646356516,
          0.7372759190000001,
          0.721703942,
          1.07240153,
          0.7171099209999999,
          0.591994633,
          0.7187845979999999,
          0.776883367,
          0.724081633,
          0.69652638,
          1.0819565690000001,
          0.79634773,
          0.798083765,
          0.637729471,
          0.8243600729999999,
          0.627732026,
          0.621687335,
          0.6681095810000001,
          0.7191163629999999,
          0.607058446,
          0.602505786,
          0.606117746,
          0.6091889620000001,
          0.744145843,
          0.661581492,
          0.769679379,
          0.694686832,
          0.7324271529999999,
          0.612371534,
          0.583847225,
          0.6489269639999999,
          0.6017075829999999,
          0.665831245,
          0.574610113,
          0.8965925929999999,
          0.7145310970000001,
          0.6206545139999999,
          0.662076939,
          0.75599244,
          1.3033804979999999,
          1.130935473,
          0.752218528,
          0.9449609520000001,
          0.664922018,
          0.6319622739999999,
          0.870922799,
          0.711366251,
          0.603730695,
          0.736541477,
          0.699943435,
          0.729506597,
          0.781681388,
          0.71144283,
          0.714256978,
          0.597967757,
          0.6643130079999999,
          0.8383810290000001,
          0.8,
          0.646380866,
          0.600714791,
          0.680126662,
          0.639804467,
          0.662728991,
          0.640547532,
          0.900270163,
          1.031353597,
          1.187829748,
          0.64558325,
          3.1477629560000002,
          0.880575221,
          0.902084448,
          0.924324536,
          0.7351745909999999,
          0.636557024,
          0.876262647,
          0.73185567,
          0.7856656890000001,
          0.6772543740000001,
          0.911679736,
          0.681310458,
          0.628776859,
          0.766687062,
          0.606284605,
          0.629480512,
          0.617931656,
          0.9408699209999999,
          1.125426445,
          1.099847684,
          0.622279429,
          0.606916506,
          0.719666177,
          0.6926489570000001,
          0.6488338370000001,
          0.64810968,
          0.647915499,
          0.81458372,
          0.719427756,
          0.7646989340000001,
          0.68949718,
          0.827141573,
          0.632001087,
          0.723855362,
          0.593879779,
          0.597639209,
          0.7256808159999999,
          0.754541735,
          0.597002405,
          0.7628016870000001,
          0.59967903,
          0.602616557,
          0.68659008,
          0.617250026,
          0.7487852770000001,
          0.557446454
         ],
         "xaxis": "x",
         "y": [
          5.561,
          -3.801,
          8.552999999999999,
          -3.694,
          3.3510000000000004,
          -12.124,
          2.7910000000000004,
          9.873,
          8.707,
          -69.609,
          -8.914,
          -20.579,
          -15.182,
          6.561,
          -2.887,
          3.273,
          4.238,
          -41.957,
          -9.475,
          2.276,
          1.744,
          -7.018,
          4.598,
          -6.565,
          4.003,
          3.17,
          -8.842,
          9.54,
          -5.324,
          -42.975,
          -6.084,
          4.391,
          -1.129,
          3.9610000000000003,
          4.067,
          -31.368000000000002,
          11.837,
          -15.397,
          2.045,
          -7.4,
          1.415,
          5.603,
          212.623,
          -0.93,
          6.728,
          7.635,
          -6.197,
          139.445,
          -11.436,
          6.126,
          -9.551,
          8.43,
          1.599,
          1.12,
          11.969000000000001,
          1.835,
          1.4569999999999999,
          -11.814,
          3.5189999999999997,
          2.6630000000000003,
          6.032,
          3.2910000000000004,
          6.885,
          -0.971,
          71.887,
          -285.08099999999996,
          112.25,
          -18.125999999999998,
          1.23,
          -58.42,
          60.218999999999994,
          45.18,
          -55.232,
          1.057,
          -4.272,
          7.595,
          2.3280000000000003,
          34.936,
          4.325,
          -2.275,
          -22.383000000000003,
          6.251,
          -45.13399999999999,
          2.445,
          2.189,
          -14.227,
          3.181,
          -64.92699999999999,
          -18.004,
          6.127999999999999,
          -79.852,
          -17.854,
          28.313000000000002,
          -170.826,
          1.483,
          2.021,
          -315.216,
          -22.429000000000002,
          45.034,
          1.111,
          17.985,
          4.446000000000001,
          4.151,
          5.912999999999999,
          -1.227,
          -2.762,
          -4.868,
          4.561,
          -3.5,
          -10.482999999999999,
          -5.801,
          -8.662,
          4.343999999999999,
          17.917,
          -39.833,
          2.086,
          142.19299999999998,
          5.187,
          26.949,
          3.2960000000000003,
          1.1420000000000001,
          -19.437,
          6.3389999999999995,
          -245.171,
          9.193999999999999,
          -10.382,
          -15.132,
          -0.604,
          5.635,
          4.293,
          3.628,
          2.6310000000000002,
          27.279,
          15.831,
          11.056,
          1.9380000000000002,
          -51.831,
          9.92,
          3.488,
          -2.512,
          -15.614,
          7.67,
          7.029,
          1.4040000000000001,
          20.136,
          6.2139999999999995,
          3.2960000000000003,
          -23.633000000000003,
          4.41,
          1.8519999999999999,
          7.747000000000001,
          3.339,
          -16.022000000000002,
          -106.47
         ],
         "yaxis": "y"
        },
        {
         "customdata": [
          [
           "TM",
           7544570000000,
           248.1244139
          ],
          [
           "SEB",
           1812000000,
           86.70659176
          ],
          [
           "HMC",
           3747590000000,
           111.07768200000001
          ]
         ],
         "hovertemplate": "label=4<br>TOT_DEBT_TO_TOTAL_ASSET=%{x}<br>PX_TO_BOOK_RATIO=%{y}<br>ticker=%{customdata[0]}<br>revenue=%{customdata[1]}<br>CASH_FLOW_PER_SHARE=%{customdata[2]}<extra></extra>",
         "legendgroup": "4",
         "marker": {
          "color": "#FFA15A",
          "symbol": "circle"
         },
         "mode": "markers",
         "name": "4",
         "showlegend": true,
         "type": "scattergl",
         "x": [
          0.388566364,
          0.242004773,
          0.380517345
         ],
         "xaxis": "x",
         "y": [
          1.247,
          1.3969999999999998,
          0.6409999999999999
         ],
         "yaxis": "y"
        },
        {
         "customdata": [
          [
           "TGTX",
           38000,
           -0.305268805
          ],
          [
           "RVNC",
           89000,
           -0.7428334790000001
          ],
          [
           "ITCI",
           60613,
           -0.634369607
          ]
         ],
         "hovertemplate": "label=10<br>TOT_DEBT_TO_TOTAL_ASSET=%{x}<br>PX_TO_BOOK_RATIO=%{y}<br>ticker=%{customdata[0]}<br>revenue=%{customdata[1]}<br>CASH_FLOW_PER_SHARE=%{customdata[2]}<extra></extra>",
         "legendgroup": "10",
         "marker": {
          "color": "#19d3f3",
          "symbol": "circle"
         },
         "mode": "markers",
         "name": "10",
         "showlegend": true,
         "type": "scattergl",
         "x": [
          0.24039653,
          0.086221337,
          0.092133229
         ],
         "xaxis": "x",
         "y": [
          28.619,
          3.247,
          9.722999999999999
         ],
         "yaxis": "y"
        },
        {
         "customdata": [
          [
           "SHOP",
           505160000,
           0.458526846
          ],
          [
           "MMSI",
           257922000,
           0.487403829
          ],
          [
           "DDOG",
           113644000,
           0.058918894000000006
          ],
          [
           "CDLX",
           69293000,
           0.159460398
          ]
         ],
         "hovertemplate": "label=5<br>TOT_DEBT_TO_TOTAL_ASSET=%{x}<br>PX_TO_BOOK_RATIO=%{y}<br>ticker=%{customdata[0]}<br>revenue=%{customdata[1]}<br>CASH_FLOW_PER_SHARE=%{customdata[2]}<extra></extra>",
         "legendgroup": "5",
         "marker": {
          "color": "#FF6692",
          "symbol": "circle"
         },
         "mode": "markers",
         "name": "5",
         "showlegend": true,
         "type": "scattergl",
         "x": [
          0.043475545,
          0.298037752,
          0.058211574,
          0.000164948
         ],
         "xaxis": "x",
         "y": [
          15.206,
          1.814,
          14.286,
          11.280999999999999
         ],
         "yaxis": "y"
        },
        {
         "customdata": [
          [
           "SBH",
           980208000,
           0.535777046
          ],
          [
           "NSP",
           1075090000,
           3.9521342660000003
          ],
          [
           "CL",
           4015000000,
           1.13179691
          ]
         ],
         "hovertemplate": "label=8<br>TOT_DEBT_TO_TOTAL_ASSET=%{x}<br>PX_TO_BOOK_RATIO=%{y}<br>ticker=%{customdata[0]}<br>revenue=%{customdata[1]}<br>CASH_FLOW_PER_SHARE=%{customdata[2]}<extra></extra>",
         "legendgroup": "8",
         "marker": {
          "color": "#B6E880",
          "symbol": "circle"
         },
         "mode": "markers",
         "name": "8",
         "showlegend": true,
         "type": "scattergl",
         "x": [
          0.7999726359999999,
          0.235314653,
          0.5219502460000001
         ],
         "xaxis": "x",
         "y": [
          965.419,
          843.692,
          504.264
         ],
         "yaxis": "y"
        },
        {
         "customdata": [
          [
           "NK",
           9000,
           -0.15132079
          ],
          [
           "AUPH",
           29000,
           -0.29566003
          ]
         ],
         "hovertemplate": "label=3<br>TOT_DEBT_TO_TOTAL_ASSET=%{x}<br>PX_TO_BOOK_RATIO=%{y}<br>ticker=%{customdata[0]}<br>revenue=%{customdata[1]}<br>CASH_FLOW_PER_SHARE=%{customdata[2]}<extra></extra>",
         "legendgroup": "3",
         "marker": {
          "color": "#FF97FF",
          "symbol": "circle"
         },
         "mode": "markers",
         "name": "3",
         "showlegend": true,
         "type": "scattergl",
         "x": [
          0.076053465,
          0
         ],
         "xaxis": "x",
         "y": [
          3.089,
          6.332999999999999
         ],
         "yaxis": "y"
        },
        {
         "customdata": [
          [
           "LNG",
           3007000000,
           2.9087226810000004
          ],
          [
           "KMB",
           4583000000,
           2.695405217
          ]
         ],
         "hovertemplate": "label=6<br>TOT_DEBT_TO_TOTAL_ASSET=%{x}<br>PX_TO_BOOK_RATIO=%{y}<br>ticker=%{customdata[0]}<br>revenue=%{customdata[1]}<br>CASH_FLOW_PER_SHARE=%{customdata[2]}<extra></extra>",
         "legendgroup": "6",
         "marker": {
          "color": "#FECB52",
          "symbol": "circle"
         },
         "mode": "markers",
         "name": "6",
         "showlegend": true,
         "type": "scattergl",
         "x": [
          0.880677336,
          0.506903095
         ],
         "xaxis": "x",
         "y": [
          -1111.26,
          -1428.876
         ],
         "yaxis": "y"
        },
        {
         "customdata": [
          [
           "LGND",
           27003000,
           -0.41785785200000003
          ],
          [
           "INVA",
           75971000,
           0.6606004639999999
          ]
         ],
         "hovertemplate": "label=9<br>TOT_DEBT_TO_TOTAL_ASSET=%{x}<br>PX_TO_BOOK_RATIO=%{y}<br>ticker=%{customdata[0]}<br>revenue=%{customdata[1]}<br>CASH_FLOW_PER_SHARE=%{customdata[2]}<extra></extra>",
         "legendgroup": "9",
         "marker": {
          "color": "#636efa",
          "symbol": "circle"
         },
         "mode": "markers",
         "name": "9",
         "showlegend": true,
         "type": "scattergl",
         "x": [
          0.43409090100000003,
          0.5202903870000001
         ],
         "xaxis": "x",
         "y": [
          2.387,
          4.575
         ],
         "yaxis": "y"
        }
       ],
       "layout": {
        "legend": {
         "title": {
          "text": "label"
         },
         "tracegroupgap": 0
        },
        "margin": {
         "t": 60
        },
        "template": {
         "data": {
          "bar": [
           {
            "error_x": {
             "color": "#2a3f5f"
            },
            "error_y": {
             "color": "#2a3f5f"
            },
            "marker": {
             "line": {
              "color": "#E5ECF6",
              "width": 0.5
             }
            },
            "type": "bar"
           }
          ],
          "barpolar": [
           {
            "marker": {
             "line": {
              "color": "#E5ECF6",
              "width": 0.5
             }
            },
            "type": "barpolar"
           }
          ],
          "carpet": [
           {
            "aaxis": {
             "endlinecolor": "#2a3f5f",
             "gridcolor": "white",
             "linecolor": "white",
             "minorgridcolor": "white",
             "startlinecolor": "#2a3f5f"
            },
            "baxis": {
             "endlinecolor": "#2a3f5f",
             "gridcolor": "white",
             "linecolor": "white",
             "minorgridcolor": "white",
             "startlinecolor": "#2a3f5f"
            },
            "type": "carpet"
           }
          ],
          "choropleth": [
           {
            "colorbar": {
             "outlinewidth": 0,
             "ticks": ""
            },
            "type": "choropleth"
           }
          ],
          "contour": [
           {
            "colorbar": {
             "outlinewidth": 0,
             "ticks": ""
            },
            "colorscale": [
             [
              0,
              "#0d0887"
             ],
             [
              0.1111111111111111,
              "#46039f"
             ],
             [
              0.2222222222222222,
              "#7201a8"
             ],
             [
              0.3333333333333333,
              "#9c179e"
             ],
             [
              0.4444444444444444,
              "#bd3786"
             ],
             [
              0.5555555555555556,
              "#d8576b"
             ],
             [
              0.6666666666666666,
              "#ed7953"
             ],
             [
              0.7777777777777778,
              "#fb9f3a"
             ],
             [
              0.8888888888888888,
              "#fdca26"
             ],
             [
              1,
              "#f0f921"
             ]
            ],
            "type": "contour"
           }
          ],
          "contourcarpet": [
           {
            "colorbar": {
             "outlinewidth": 0,
             "ticks": ""
            },
            "type": "contourcarpet"
           }
          ],
          "heatmap": [
           {
            "colorbar": {
             "outlinewidth": 0,
             "ticks": ""
            },
            "colorscale": [
             [
              0,
              "#0d0887"
             ],
             [
              0.1111111111111111,
              "#46039f"
             ],
             [
              0.2222222222222222,
              "#7201a8"
             ],
             [
              0.3333333333333333,
              "#9c179e"
             ],
             [
              0.4444444444444444,
              "#bd3786"
             ],
             [
              0.5555555555555556,
              "#d8576b"
             ],
             [
              0.6666666666666666,
              "#ed7953"
             ],
             [
              0.7777777777777778,
              "#fb9f3a"
             ],
             [
              0.8888888888888888,
              "#fdca26"
             ],
             [
              1,
              "#f0f921"
             ]
            ],
            "type": "heatmap"
           }
          ],
          "heatmapgl": [
           {
            "colorbar": {
             "outlinewidth": 0,
             "ticks": ""
            },
            "colorscale": [
             [
              0,
              "#0d0887"
             ],
             [
              0.1111111111111111,
              "#46039f"
             ],
             [
              0.2222222222222222,
              "#7201a8"
             ],
             [
              0.3333333333333333,
              "#9c179e"
             ],
             [
              0.4444444444444444,
              "#bd3786"
             ],
             [
              0.5555555555555556,
              "#d8576b"
             ],
             [
              0.6666666666666666,
              "#ed7953"
             ],
             [
              0.7777777777777778,
              "#fb9f3a"
             ],
             [
              0.8888888888888888,
              "#fdca26"
             ],
             [
              1,
              "#f0f921"
             ]
            ],
            "type": "heatmapgl"
           }
          ],
          "histogram": [
           {
            "marker": {
             "colorbar": {
              "outlinewidth": 0,
              "ticks": ""
             }
            },
            "type": "histogram"
           }
          ],
          "histogram2d": [
           {
            "colorbar": {
             "outlinewidth": 0,
             "ticks": ""
            },
            "colorscale": [
             [
              0,
              "#0d0887"
             ],
             [
              0.1111111111111111,
              "#46039f"
             ],
             [
              0.2222222222222222,
              "#7201a8"
             ],
             [
              0.3333333333333333,
              "#9c179e"
             ],
             [
              0.4444444444444444,
              "#bd3786"
             ],
             [
              0.5555555555555556,
              "#d8576b"
             ],
             [
              0.6666666666666666,
              "#ed7953"
             ],
             [
              0.7777777777777778,
              "#fb9f3a"
             ],
             [
              0.8888888888888888,
              "#fdca26"
             ],
             [
              1,
              "#f0f921"
             ]
            ],
            "type": "histogram2d"
           }
          ],
          "histogram2dcontour": [
           {
            "colorbar": {
             "outlinewidth": 0,
             "ticks": ""
            },
            "colorscale": [
             [
              0,
              "#0d0887"
             ],
             [
              0.1111111111111111,
              "#46039f"
             ],
             [
              0.2222222222222222,
              "#7201a8"
             ],
             [
              0.3333333333333333,
              "#9c179e"
             ],
             [
              0.4444444444444444,
              "#bd3786"
             ],
             [
              0.5555555555555556,
              "#d8576b"
             ],
             [
              0.6666666666666666,
              "#ed7953"
             ],
             [
              0.7777777777777778,
              "#fb9f3a"
             ],
             [
              0.8888888888888888,
              "#fdca26"
             ],
             [
              1,
              "#f0f921"
             ]
            ],
            "type": "histogram2dcontour"
           }
          ],
          "mesh3d": [
           {
            "colorbar": {
             "outlinewidth": 0,
             "ticks": ""
            },
            "type": "mesh3d"
           }
          ],
          "parcoords": [
           {
            "line": {
             "colorbar": {
              "outlinewidth": 0,
              "ticks": ""
             }
            },
            "type": "parcoords"
           }
          ],
          "pie": [
           {
            "automargin": true,
            "type": "pie"
           }
          ],
          "scatter": [
           {
            "marker": {
             "colorbar": {
              "outlinewidth": 0,
              "ticks": ""
             }
            },
            "type": "scatter"
           }
          ],
          "scatter3d": [
           {
            "line": {
             "colorbar": {
              "outlinewidth": 0,
              "ticks": ""
             }
            },
            "marker": {
             "colorbar": {
              "outlinewidth": 0,
              "ticks": ""
             }
            },
            "type": "scatter3d"
           }
          ],
          "scattercarpet": [
           {
            "marker": {
             "colorbar": {
              "outlinewidth": 0,
              "ticks": ""
             }
            },
            "type": "scattercarpet"
           }
          ],
          "scattergeo": [
           {
            "marker": {
             "colorbar": {
              "outlinewidth": 0,
              "ticks": ""
             }
            },
            "type": "scattergeo"
           }
          ],
          "scattergl": [
           {
            "marker": {
             "colorbar": {
              "outlinewidth": 0,
              "ticks": ""
             }
            },
            "type": "scattergl"
           }
          ],
          "scattermapbox": [
           {
            "marker": {
             "colorbar": {
              "outlinewidth": 0,
              "ticks": ""
             }
            },
            "type": "scattermapbox"
           }
          ],
          "scatterpolar": [
           {
            "marker": {
             "colorbar": {
              "outlinewidth": 0,
              "ticks": ""
             }
            },
            "type": "scatterpolar"
           }
          ],
          "scatterpolargl": [
           {
            "marker": {
             "colorbar": {
              "outlinewidth": 0,
              "ticks": ""
             }
            },
            "type": "scatterpolargl"
           }
          ],
          "scatterternary": [
           {
            "marker": {
             "colorbar": {
              "outlinewidth": 0,
              "ticks": ""
             }
            },
            "type": "scatterternary"
           }
          ],
          "surface": [
           {
            "colorbar": {
             "outlinewidth": 0,
             "ticks": ""
            },
            "colorscale": [
             [
              0,
              "#0d0887"
             ],
             [
              0.1111111111111111,
              "#46039f"
             ],
             [
              0.2222222222222222,
              "#7201a8"
             ],
             [
              0.3333333333333333,
              "#9c179e"
             ],
             [
              0.4444444444444444,
              "#bd3786"
             ],
             [
              0.5555555555555556,
              "#d8576b"
             ],
             [
              0.6666666666666666,
              "#ed7953"
             ],
             [
              0.7777777777777778,
              "#fb9f3a"
             ],
             [
              0.8888888888888888,
              "#fdca26"
             ],
             [
              1,
              "#f0f921"
             ]
            ],
            "type": "surface"
           }
          ],
          "table": [
           {
            "cells": {
             "fill": {
              "color": "#EBF0F8"
             },
             "line": {
              "color": "white"
             }
            },
            "header": {
             "fill": {
              "color": "#C8D4E3"
             },
             "line": {
              "color": "white"
             }
            },
            "type": "table"
           }
          ]
         },
         "layout": {
          "annotationdefaults": {
           "arrowcolor": "#2a3f5f",
           "arrowhead": 0,
           "arrowwidth": 1
          },
          "coloraxis": {
           "colorbar": {
            "outlinewidth": 0,
            "ticks": ""
           }
          },
          "colorscale": {
           "diverging": [
            [
             0,
             "#8e0152"
            ],
            [
             0.1,
             "#c51b7d"
            ],
            [
             0.2,
             "#de77ae"
            ],
            [
             0.3,
             "#f1b6da"
            ],
            [
             0.4,
             "#fde0ef"
            ],
            [
             0.5,
             "#f7f7f7"
            ],
            [
             0.6,
             "#e6f5d0"
            ],
            [
             0.7,
             "#b8e186"
            ],
            [
             0.8,
             "#7fbc41"
            ],
            [
             0.9,
             "#4d9221"
            ],
            [
             1,
             "#276419"
            ]
           ],
           "sequential": [
            [
             0,
             "#0d0887"
            ],
            [
             0.1111111111111111,
             "#46039f"
            ],
            [
             0.2222222222222222,
             "#7201a8"
            ],
            [
             0.3333333333333333,
             "#9c179e"
            ],
            [
             0.4444444444444444,
             "#bd3786"
            ],
            [
             0.5555555555555556,
             "#d8576b"
            ],
            [
             0.6666666666666666,
             "#ed7953"
            ],
            [
             0.7777777777777778,
             "#fb9f3a"
            ],
            [
             0.8888888888888888,
             "#fdca26"
            ],
            [
             1,
             "#f0f921"
            ]
           ],
           "sequentialminus": [
            [
             0,
             "#0d0887"
            ],
            [
             0.1111111111111111,
             "#46039f"
            ],
            [
             0.2222222222222222,
             "#7201a8"
            ],
            [
             0.3333333333333333,
             "#9c179e"
            ],
            [
             0.4444444444444444,
             "#bd3786"
            ],
            [
             0.5555555555555556,
             "#d8576b"
            ],
            [
             0.6666666666666666,
             "#ed7953"
            ],
            [
             0.7777777777777778,
             "#fb9f3a"
            ],
            [
             0.8888888888888888,
             "#fdca26"
            ],
            [
             1,
             "#f0f921"
            ]
           ]
          },
          "colorway": [
           "#636efa",
           "#EF553B",
           "#00cc96",
           "#ab63fa",
           "#FFA15A",
           "#19d3f3",
           "#FF6692",
           "#B6E880",
           "#FF97FF",
           "#FECB52"
          ],
          "font": {
           "color": "#2a3f5f"
          },
          "geo": {
           "bgcolor": "white",
           "lakecolor": "white",
           "landcolor": "#E5ECF6",
           "showlakes": true,
           "showland": true,
           "subunitcolor": "white"
          },
          "hoverlabel": {
           "align": "left"
          },
          "hovermode": "closest",
          "mapbox": {
           "style": "light"
          },
          "paper_bgcolor": "white",
          "plot_bgcolor": "#E5ECF6",
          "polar": {
           "angularaxis": {
            "gridcolor": "white",
            "linecolor": "white",
            "ticks": ""
           },
           "bgcolor": "#E5ECF6",
           "radialaxis": {
            "gridcolor": "white",
            "linecolor": "white",
            "ticks": ""
           }
          },
          "scene": {
           "xaxis": {
            "backgroundcolor": "#E5ECF6",
            "gridcolor": "white",
            "gridwidth": 2,
            "linecolor": "white",
            "showbackground": true,
            "ticks": "",
            "zerolinecolor": "white"
           },
           "yaxis": {
            "backgroundcolor": "#E5ECF6",
            "gridcolor": "white",
            "gridwidth": 2,
            "linecolor": "white",
            "showbackground": true,
            "ticks": "",
            "zerolinecolor": "white"
           },
           "zaxis": {
            "backgroundcolor": "#E5ECF6",
            "gridcolor": "white",
            "gridwidth": 2,
            "linecolor": "white",
            "showbackground": true,
            "ticks": "",
            "zerolinecolor": "white"
           }
          },
          "shapedefaults": {
           "line": {
            "color": "#2a3f5f"
           }
          },
          "ternary": {
           "aaxis": {
            "gridcolor": "white",
            "linecolor": "white",
            "ticks": ""
           },
           "baxis": {
            "gridcolor": "white",
            "linecolor": "white",
            "ticks": ""
           },
           "bgcolor": "#E5ECF6",
           "caxis": {
            "gridcolor": "white",
            "linecolor": "white",
            "ticks": ""
           }
          },
          "title": {
           "x": 0.05
          },
          "xaxis": {
           "automargin": true,
           "gridcolor": "white",
           "linecolor": "white",
           "ticks": "",
           "title": {
            "standoff": 15
           },
           "zerolinecolor": "white",
           "zerolinewidth": 2
          },
          "yaxis": {
           "automargin": true,
           "gridcolor": "white",
           "linecolor": "white",
           "ticks": "",
           "title": {
            "standoff": 15
           },
           "zerolinecolor": "white",
           "zerolinewidth": 2
          }
         }
        },
        "xaxis": {
         "anchor": "y",
         "domain": [
          0,
          1
         ],
         "title": {
          "text": "TOT_DEBT_TO_TOTAL_ASSET"
         }
        },
        "yaxis": {
         "anchor": "x",
         "domain": [
          0,
          1
         ],
         "title": {
          "text": "PX_TO_BOOK_RATIO"
         }
        }
       }
      },
      "text/html": [
       "<div>\n",
       "        \n",
       "        \n",
       "            <div id=\"36ccd848-891a-465c-bda3-7e7619c9aeda\" class=\"plotly-graph-div\" style=\"height:525px; width:100%;\"></div>\n",
       "            <script type=\"text/javascript\">\n",
       "                require([\"plotly\"], function(Plotly) {\n",
       "                    window.PLOTLYENV=window.PLOTLYENV || {};\n",
       "                    \n",
       "                if (document.getElementById(\"36ccd848-891a-465c-bda3-7e7619c9aeda\")) {\n",
       "                    Plotly.newPlot(\n",
       "                        '36ccd848-891a-465c-bda3-7e7619c9aeda',\n",
       "                        [{\"customdata\": [[\"ZYME\", 1877000.0, -0.922986953], [\"ZUO\", 70393000.0, 0.035415194], [\"ZGNX\", 1949000.0, -0.782650255], [\"YEXT\", 81378000.0, 0.101609034], [\"XLRN\", 39338000.0, -0.306149958], [\"WORK\", 181903000.0, 0.019104974], [\"VRNS\", 72560000.0, -0.000229625], [\"VNE\", 456000000.0, -0.933580379], [\"VIR\", 980000.0, -0.354535172], [\"VIE\", 30000000.0, -0.7034056320000001], [\"VCYT\", 29730000.0, 0.036650066], [\"UBER\", 4069000000.0, -1.054627803], [\"TXG\", 75289000.0, 0.069668329], [\"TWST\", 17164000.0, -1.054227272], [\"TWOU\", 163178000.0, 0.5306969770000001], [\"TWLO\", 331224000.0, 0.08766868300000001], [\"TLRY\", 46936000.0, -0.9035132790000001], [\"TENB\", 97049000.0, -0.031287044], [\"TELL\", 9137000.0, -0.10869604599999999], [\"TBIO\", 3890000.0, -0.337575845], [\"SWAV\", 14312000.0, -0.44416835600000004], [\"SRPT\", 100113000.0, -2.197318725], [\"SPCE\", 3781000.0, -2.446666721], [\"SNDX\", 379000.0, -0.46893047299999996], [\"SNAP\", 560888000.0, -0.047745311], [\"SMAR\", 78519000.0, -0.000357514], [\"SILK\", 18633000.0, -0.17044891399999998], [\"SE\", 777224000.0, -0.081138646], [\"SDC\", 196714000.0, -0.36930087], [\"SAGE\", 1960000.0, -2.2526353969999997], [\"RMBS\", 59947000.0, 0.31760610699999997], [\"RGNX\", 11768000.0, -0.691701604], [\"RETA\", 2671000.0, -4.9344433389999995], [\"REAL\", 97321000.0, 0.042300357999999996], [\"RARE\", 35593000.0, -1.246976788], [\"RAMP\", 102217000.0, 0.233457127], [\"QURE\", 2625000.0, -0.596218343], [\"PTLA\", 29248000.0, -0.942415772], [\"PTCT\", 96459000.0, -0.16559853800000002], [\"PSNL\", 18154000.0, 0.076999525], [\"PRO\", 66175000.0, 0.305443402], [\"PLAN\", 98242000.0, -0.011757988999999998], [\"PINS\", 399898000.0, 0.017122088], [\"PHR\", 32816000.0, 0.035502216], [\"PBYI\", 62922000.0, 0.040194045], [\"NXTC\", 2005000.0, -0.439088405], [\"NVTA\", 66285000.0, -0.48969109899999996], [\"NVRO\", 114374000.0, -0.434584937], [\"NTRA\", 83240000.0, -0.194172974], [\"NTNX\", 346767000.0, -0.273036137], [\"NTLA\", 10936000.0, -0.586347589], [\"NSTG\", 36931000.0, -0.546643666], [\"NOV\", 2281000000.0, 1.225921785], [\"NKTR\", 33862000.0, -0.7118089459999999], [\"NET\", 83930000.0, -0.028561884], [\"MTSI\", 119097000.0, 0.569186898], [\"MRTX\", 526000.0, -1.0625208659999998], [\"MRSN\", 42000.0, -0.262637322], [\"MRNA\", 14055000.0, -0.287390749], [\"MOR\", 11077686.0, -1.2160058870000001], [\"MNTA\", 8182000.0, -0.383846136], [\"MDLA\", 110100000.0, 0.15169972199999998], [\"MD\", 905375000.0, 1.513918864], [\"LYFT\", 1017070000.0, -0.155161425], [\"LVGO\", 50593000.0, -0.040886095], [\"KPTI\", 18096000.0, -0.628905446], [\"KALA\", 1180000.0, -0.52721535], [\"IRTC\", 59104000.0, -0.182538996], [\"INST\", 69195000.0, -0.33847352399999997], [\"INSP\", 26906000.0, -0.252507097], [\"INSM\", 45708000.0, -0.497001927], [\"INFN\", 384567000.0, -0.056359810999999996], [\"IMMU\", 295000.0, -0.47924520600000003], [\"IMGN\", 44864000.0, -0.21748842300000001], [\"ICPT\", 71500000.0, -1.847773624], [\"HRTX\", 35083000.0, -0.299573149], [\"HL\", 224945000.0, 0.11554454300000001], [\"HCAT\", 43501000.0, -0.357199185], [\"GH\", 62897000.0, -0.32311060199999997], [\"GBT\", 2108000.0, -1.034957806], [\"FTCH\", 382232000.0, 0.04134971], [\"FSLY\", 58936000.0, -0.032673257000000004], [\"FSCT\", 91331000.0, 0.215461006], [\"FREQ\", 4709000.0, -0.966154355], [\"FOLD\", 55293000.0, -0.226961291], [\"FIT\", 502142000.0, 0.108715616], [\"FATE\", 2802000.0, -0.33779699399999996], [\"ESTC\", 113181000.0, -0.288101058], [\"ESPR\", 982000.0, -1.8294453019999999], [\"EPZM\", 4294000.0, -0.389617482], [\"EPAC\", 146674000.0, -0.37872754700000005], [\"ENTA\", 52570000.0, 0.626752015], [\"EGHT\", 118567000.0, -0.18279704], [\"EDIT\", 12284000.0, 0.7996431390000001], [\"DVAX\", 10570000.0, -0.27439298100000004], [\"DTIL\", 6522000.0, -0.40474672100000003], [\"DT\", 143298000.0, 0.039680666], [\"DRNA\", 7080000.0, -0.21808814], [\"DNLI\", 4672000.0, -0.496119892], [\"CVET\", 1008000000.0, 0.624316552], [\"CTMX\", 8279000.0, -0.64882893], [\"CREE\", 239900000.0, 0.076130547], [\"CNDT\", 1099000000.0, 1.646190984], [\"CLVS\", 39307000.0, -1.279699745], [\"CHWY\", 1354525000.0, 0.186487707], [\"CGIX\", 1889000.0, -1.486339818], [\"CGC\", 123764000.0, -0.548475787], [\"CDNA\", 35821000.0, -0.025520769], [\"CDE\", 195040000.0, 0.16337295400000001], [\"CCXI\", 10047000.0, -0.34718547299999997], [\"BPMC\", 51533000.0, -0.912460645], [\"BLUE\", 9997000.0, -2.873181399], [\"BGNE\", 56892000.0, -0.33891565], [\"BBIO\", 13819000.0, -0.6166540189999999], [\"AXNX\", 9946000.0, -0.9836810890000001], [\"AVCO\", 479198.0, -0.023250382000000003], [\"ATNX\", 34361000.0, -0.301138423], [\"ARVN\", 4893273.0, -0.47937810399999997], [\"APPN\", 64475000.0, -0.088841708], [\"AMBA\", 57212000.0, 0.12311892599999999], [\"ALNY\", 71681000.0, -1.75782985], [\"ALEC\", 6001000.0, -0.418244921], [\"AKBA\", 69555000.0, -0.7746146270000001], [\"AGIO\", 35440000.0, -1.589778545], [\"ADRO\", 3633000.0, -0.27409983600000004], [\"ADPT\", 24209000.0, -0.215467291], [\"ACB\", 56027000.0, -1.571195875], [\"ACAD\", 98326000.0, -0.19287070899999997]], \"hovertemplate\": \"label=0<br>TOT_DEBT_TO_TOTAL_ASSET=%{x}<br>PX_TO_BOOK_RATIO=%{y}<br>ticker=%{customdata[0]}<br>revenue=%{customdata[1]}<br>CASH_FLOW_PER_SHARE=%{customdata[2]}<extra></extra>\", \"legendgroup\": \"0\", \"marker\": {\"color\": \"#636efa\", \"symbol\": \"circle\"}, \"mode\": \"markers\", \"name\": \"0\", \"showlegend\": true, \"type\": \"scattergl\", \"x\": [0.018687959, 0.19538221, 0.029146651000000003, 0.219699443, 0.052255271, 0.157343453, 0.179195255, 0.100255195, 0.0, 0.0, 0.049441885, 0.23380875899999998, 0.049047485999999994, 0.22317801899999998, 0.270395929, 0.12430133199999999, 0.479968315, 0.082117821, 0.357418616, 0.037519222000000005, 0.09461149099999999, 0.400269472, 0.0, 0.014120425, 0.308364017, 0.081560559, 0.326625522, 0.303923744, 0.235450999, 0.034212978, 0.14565798300000002, 0.022684914, 0.22715776199999999, 0.0, 0.026206168999999998, 0.0, 0.16285134699999998, 0.6084483039999999, 0.193288877, 0.0, 0.273263369, 0.063549639, 0.072448405, 0.150316834, 0.511819672, 0.014038318999999999, 0.40791401200000005, 0.384854518, 0.257572221, 0.341002814, 0.054968888, 0.43535422, 0.211194768, 0.206405422, 0.012645277, 0.612116866, 0.0, 0.07219572099999999, 0.08327807200000001, 0.08574865400000001, 0.0, 0.0, 0.43916798799999995, 0.083683702, 0.0, 0.42278184, 0.65566377, 0.419954149, 0.131556463, 0.135291554, 0.534876108, 0.25913231800000003, 0.025413787, 0.11411532699999999, 0.7048455, 0.038597299, 0.202391985, 0.174163249, 0.034550432, 0.18329127399999998, 0.053919894, 0.092314211, 0.111028357, 0.0, 0.24726331399999998, 0.066818168, 0.089081429, 0.048966838, 0.6253619779999999, 0.10708708900000001, 0.31506023, 0.017846308999999998, 0.51600207, 0.057146507, 0.775603079, 0.0, 0.271706532, 0.033713921, 0.131102559, 0.3531687, 0.07287521799999999, 0.172667817, 0.38613203399999996, 1.067236755, 0.21498925800000002, 0.111044015, 0.069320916, 0.015619233, 0.21434011600000002, 0.094632275, 0.135579784, 0.110561738, 0.17201754800000002, 0.14531273, 0.115493445, 0.304083604, 0.206096821, 0.014547097, 0.140177935, 0.01926126, 0.126850105, 0.113852856, 0.13398971199999998, 0.127603871, 0.11478718800000001, 0.040125967, 0.128881494, 0.008121984], \"xaxis\": \"x\", \"y\": [7.287999999999999, 10.14, 9.414, 8.525, 6.2620000000000005, 16.097, 25.328000000000003, 1.006, 3.253, 3.903, 5.695, 3.575, 17.456, 6.747000000000001, 2.141, 3.15, 6.035, 23.785999999999998, 10.604000000000001, 3.182, 6.452000000000001, 11.757, 2.037, 7.541, 10.116, 11.079, 17.337, 11.854000000000001, 10.03, 3.96, 1.5819999999999999, 3.3560000000000003, 24.093000000000004, 4.771, 3.7739999999999996, 2.8480000000000003, 9.676, 14.314, 4.981, 3.1910000000000003, 15.280999999999999, 26.38, 5.142, 10.921, 19.522000000000002, 3.987, 4.101, 16.845, 9.372, -94.435, 2.657, 9.546, 1.2429999999999999, 2.702, 7.056, 5.879, 13.293, 3.503, 5.547999999999999, 11.51, 4.294, 9.104, 1.5630000000000002, 4.487, 4.667, 24.183000000000003, 4.293, 13.388, 12.446, 12.77, 8.152999999999999, 3.639, 15.251, -10.039, 78.678, 5.24, 0.993, 6.324, 9.191, 8.273, 2.658, 7.295, 15.862, 3.225, 5.209, 3.5069999999999997, 6.044, 12.5, 81.681, 6.766, 4.209, 2.5269999999999997, 8.356, 5.787999999999999, 57.86600000000001, 5.1, 7.893, 9.905, 4.236000000000001, 1.178, 7.3870000000000005, 2.537, 1.008, -3.279, -26.156999999999996, 1.695, 1.81, 9.246, 2.9139999999999997, 34.917, 8.488, 3.778, 10.444, 10.604000000000001, 4.331, 32.751999999999995, 6.287999999999999, 6.117000000000001, 12.502, 4.428, 8.925, 6.098, 1.9040000000000001, 4.39, 1.4480000000000002, 6.515, 0.757, 9.425], \"yaxis\": \"y\"}, {\"customdata\": [[\"ZTS\", 1674000000.0, 1.221920883], [\"ZEN\", 229871000.0, 0.28714886], [\"ZBRA\", 1192000000.0, 4.914553715], [\"ZBH\", 2125700000.0, 2.0580076959999998], [\"Z\", 943947000.0, 0.2801014], [\"YETI\", 297602000.0, 0.703007598], [\"XYL\", 1371000000.0, 2.154611465], [\"XRX\", 2371000000.0, 2.026011949], [\"XPO\", 4136000000.0, 3.781138515], [\"XEL\", 2798000000.0, 1.346331096], [\"XEC\", 657244000.0, 3.534117525], [\"X\", 2824000000.0, 1.681977425], [\"WY\", 1548000000.0, 0.391871405], [\"WWW\", 607400000.0, 2.554536258], [\"WWE\", 322802000.0, 1.520149565], [\"WWD\", 720355000.0, 0.442908047], [\"WSM\", 1843590000.0, 6.678217248999999], [\"WRK\", 4423700000.0, 1.67200149], [\"WPX\", 443000000.0, 0.8422499309999999], [\"WOR\", 827637000.0, 1.862533644], [\"WMT\", 141671000000.0, 3.7769965689999996], [\"WMS\", 393424000.0, 1.8251405580000002], [\"WMGI\", 248605000.0, 0.18382811699999999], [\"WMB\", 2107000000.0, 0.817623821], [\"WM\", 3846000000.0, 2.409006952], [\"WLK\", 1883000000.0, 2.594669396], [\"WK\", 80265000.0, 0.042767398], [\"WIX\", 204588000.0, 0.810758422], [\"WHR\", 5382000000.0, 28.41782224], [\"WH\", 492000000.0, 0.956209212], [\"WGO\", 588458000.0, 2.498605396], [\"WEX\", 440045000.0, 10.578426499999999], [\"WEC\", 1947500000.0, 1.600326685], [\"WDFC\", 98556000.0, 1.109630485], [\"WDC\", 4234000000.0, 0.864142842], [\"WDAY\", 976299000.0, 1.2918], [\"WCN\", 1361960000.0, 1.346788759], [\"WBA\", 34339000000.0, 1.188740715], [\"WAB\", 2368400000.0, 2.336155059], [\"VZ\", 34775000000.0, 2.175645427], [\"VVI\", 321334000.0, 0.344379655], [\"VST\", 2860000000.0, 1.873226759], [\"VSLR\", 77064000.0, -0.8866154740000001], [\"VSAT\", 588224000.0, 1.7940571669999998], [\"VRTU\", 335107000.0, 1.6971772109999999], [\"VRSK\", 676800000.0, 1.07646416], [\"VRNT\", 339203000.0, 1.5179278040000002], [\"VMI\", 683626000.0, 3.176870687], [\"VMC\", 1186152000.0, 2.553692786], [\"VIAV\", 313700000.0, 0.165368028], [\"VIAC\", 16541000000.0, 2.372389996], [\"VG\", 309687000.0, 0.13632464800000002], [\"VFC\", 3384746000.0, 3.02249299], [\"VC\", 744000000.0, 2.324306062], [\"VAL\", 512100000.0, 0.7610781520000001], [\"USM\", 1052000000.0, 0.42950090799999996], [\"USFD\", 6934000000.0, 0.916045326], [\"USAC\", 178188000.0, 0.949118178], [\"URBN\", 1169578000.0, 1.5564222109999999], [\"UPS\", 17160000000.0, 3.43427616], [\"UNVR\", 2155000000.0, 1.955323741], [\"UNP\", 5212000000.0, 3.377989612], [\"ULTA\", 2305918000.0, 9.513195124], [\"UIS\", 741500000.0, 2.014592961], [\"UHS\", 2896247000.0, 4.443353711], [\"UGI\", 2006600000.0, 0.5664772570000001], [\"UCTT\", 286369000.0, 0.802068743], [\"UAL\", 10888000000.0, 4.6671789630000005], [\"UAA\", 1441225000.0, 0.90034143], [\"TXT\", 4035000000.0, 3.2199734589999998], [\"TXRH\", 725238000.0, 1.906099286], [\"TWNK\", 216666000.0, 0.28083868], [\"TU\", 3858000000.0, 0.692363429], [\"TTMI\", 719253000.0, 1.233703266], [\"TTEC\", 461326000.0, 1.152844653], [\"TTC\", 767483000.0, -0.21808759100000003], [\"TSN\", 10815000000.0, 2.4480099909999997], [\"TSLA\", 7384000000.0, 7.905912079], [\"TSE\", 888800000.0, 1.205736855], [\"TSCO\", 2191785000.0, 3.356716515], [\"TRU\", 685600000.0, 1.042485396], [\"TRP\", 3263000000.0, 1.9888978130000001], [\"TROX\", 693000000.0, 1.233359644], [\"TRMB\", 824000000.0, 0.490499676], [\"TRHC\", 73223000.0, 0.044854736], [\"TRGP\", 2473900000.0, 2.0224541119999997], [\"TREE\", 255187000.0, 3.4890737489999997], [\"TPX\", 871300000.0, -0.005546284], [\"TPR\", 1816000000.0, 2.014962583], [\"TNC\", 294800000.0, 1.406916412], [\"TMUS\", 11878000000.0, 1.7964531019999999], [\"TMO\", 6829000000.0, 4.770677938], [\"TLND\", 66807000.0, 0.061591787], [\"TKR\", 896200000.0, 2.592792602], [\"TJX\", 12206462000.0, 1.822674289], [\"TIVO\", 175198000.0, 0.566955931], [\"TIF\", 1357900000.0, 3.394944517], [\"THS\", 1139500000.0, 4.660845318], [\"THO\", 2003133000.0, 1.0379762909999999], [\"TGT\", 23399000000.0, 5.837346185], [\"TGI\", 704666000.0, 0.995918175], [\"TGE\", 232963000.0, 0.571554926], [\"TFX\", 680952000.0, 3.190497477], [\"TEX\", 885000000.0, 1.332398317], [\"TEVA\", 3991000000.0, 0.49263365200000003], [\"TEAM\", 408725000.0, 0.898963627], [\"TDS\", 1336000000.0, 1.238014364], [\"TDC\", 494000000.0, 0.48], [\"TAP\", 2486200000.0, 3.063734937], [\"T\", 46821000000.0, 1.634907598], [\"SYY\", 15025042000.0, 1.142413463], [\"SYNH\", 1212954000.0, 1.546757521], [\"SYNA\", 388300000.0, 2.172472308], [\"SYK\", 4131000000.0, 1.963315249], [\"SXT\", 318585000.0, 1.172087082], [\"SWX\", 848137000.0, 2.231272004], [\"SWM\", 238500000.0, 1.339950618], [\"SWI\", 247495000.0, 0.26692192], [\"SWCH\", 126133000.0, 0.149727275], [\"SVMK\", 84324000.0, 0.069967677], [\"SUPN\", 100446000.0, 0.8347035709999999], [\"SUM\", 556528000.0, 1.543836098], [\"STZ\", 1999400000.0, 3.427851731], [\"STX\", 2696000000.0, 1.827101979], [\"STLD\", 2350196000.0, 1.898620942], [\"ST\", 846691000.0, 1.171109781], [\"SSP\", 444401000.0, -0.475303615], [\"SSNC\", 1203500000.0, 2.268597738], [\"SRE\", 2943000000.0, 3.440986109], [\"SRCL\", 799900000.0, 0.513564963], [\"SR\", 566900000.0, 1.265274958], [\"SPWR\", 603761000.0, -0.029808109], [\"SPR\", 1959300000.0, 1.971648239], [\"SPLK\", 791182000.0, -0.37719574], [\"SPGI\", 1735000000.0, 4.10801964], [\"SPB\", 871500000.0, -4.0287459519999995], [\"SON\", 1308850000.0, 1.868491532], [\"SO\", 4914000000.0, 0.858177583], [\"SNX\", 6581293000.0, 6.802635314], [\"SMPL\", 152153000.0, -0.08319471099999999], [\"SLGN\", 1048292000.0, 4.6020925880000005], [\"SLB\", 8228000000.0, 1.6267100980000002], [\"SKYW\", 743591000.0, 2.748081151], [\"SJW\", 125838000.0, 1.360954917], [\"SJM\", 1972300000.0, 4.5731765189999996], [\"SJI\", 463191000.0, -0.003939698], [\"SITE\", 535000000.0, 1.604711976], [\"SIG\", 2153300000.0, 8.447535047999999], [\"SHW\", 4114429000.0, 7.148720973], [\"SHAK\", 151435000.0, 0.44811824100000003], [\"SERV\", 507000000.0, 0.23595554300000002], [\"SCS\", 955200000.0, 1.5028406419999998], [\"SCCO\", 1854600000.0, 0.700334763], [\"SAVE\", 969816000.0, 2.818530557], [\"SATS\", 499006000.0, 1.263102309], [\"SAIL\", 88999000.0, 0.11699217099999999], [\"SAIC\", 1630000000.0, 2.010350079], [\"SABR\", 941422000.0, 0.572847509], [\"S\", 8080000000.0, 0.47603325], [\"RYN\", 178792000.0, 0.38712130200000006], [\"RXN\", 491700000.0, 0.834305345], [\"RUSHA\", 1317704000.0, 5.52362927], [\"RUN\", 243937000.0, -0.833313449], [\"RSG\", 2576700000.0, 1.770983385], [\"RPM\", 1401292000.0, 1.195431736], [\"RPD\", 91648000.0, 0.1584296], [\"RP\", 254767000.0, 1.3792470469999998], [\"ROST\", 4413445000.0, 2.11940213], [\"ROP\", 1394800000.0, 4.480196408], [\"ROL\", 505985000.0, 0.240867286], [\"ROKU\", 411230000.0, -0.09003074], [\"ROK\", 1684500000.0, 2.000052931], [\"RNG\", 252865000.0, -0.07341716200000001], [\"RMD\", 736157000.0, 0.48636126], [\"RMAX\", 68193000.0, 1.3337281220000001], [\"RLGY\", 1120000000.0, 1.233158369], [\"RL\", 1750700000.0, 7.289281077], [\"RIG\", 792000000.0, 0.240250398], [\"REZI\", 1304000000.0, 0.7572170229999999], [\"RDFN\", 233191000.0, 0.271272819], [\"RCM\", 314000000.0, 0.625526193], [\"RCL\", 2517413000.0, 2.9065239], [\"RBC\", 738200000.0, 3.353509345], [\"RBA\", 332194000.0, 0.21884660399999997], [\"R\", 2276549000.0, 10.34587808], [\"QTWO\", 86840000.0, 0.039351496], [\"QRTEA\", 4173000000.0, 0.8994013590000001], [\"QGEN\", 413472000.0, 0.485257179], [\"QCOM\", 5077000000.0, 0.979117248], [\"PTEN\", 492297000.0, 0.577573052], [\"PTC\", 356110000.0, 0.065043052], [\"PSXP\", 432000000.0, 1.1380908859999999], [\"PSTG\", 492004000.0, 0.268297181], [\"PS\", 88811000.0, -0.056297135], [\"PRSP\", 1126000000.0, 0.7417757420000001], [\"PRIM\", 789778000.0, 3.1010296989999997], [\"PRGS\", 117038000.0, 0.81724955], [\"PRGO\", 1322800000.0, 0.657558354], [\"PRAH\", 800240000.0, 2.965643801], [\"PQG\", 352375000.0, 0.629195166], [\"PPL\", 1954000000.0, 0.7454707709999999], [\"PPG\", 3672000000.0, 3.421251012], [\"PPC\", 3063489000.0, 0.524970064], [\"POST\", 1456800000.0, 1.533086402], [\"POR\", 548000000.0, 0.492323529], [\"POOL\", 582234000.0, 1.3867667240000001], [\"POL\", 658600000.0, 1.328737807], [\"PNW\", 670391000.0, 1.0849933809999999], [\"PNM\", 344145000.0, 1.9070946480000002], [\"PLOW\", 160298000.0, 4.319509557], [\"PLCE\", 513020000.0, 5.133562163], [\"PKI\", 805496000.0, 1.937078569], [\"PKG\", 1720000000.0, 3.4777861530000003], [\"PII\", 1735866000.0, 3.5784595130000003], [\"PH\", 3497974000.0, 2.933389255], [\"PGTI\", 174826000.0, 0.461332467], [\"PG\", 18240000000.0, 1.7499313969999999], [\"PFPT\", 243429000.0, 1.353326714], [\"PFGC\", 6068600000.0, 0.697688091], [\"PFE\", 12688000000.0, 0.681047464], [\"PEP\", 20640000000.0, 3.288786418], [\"PEGI\", 147000000.0, 0.49877790299999997], [\"PEG\", 2478000000.0, 1.3248268509999999], [\"PE\", 522451000.0, 1.089433152], [\"PDCE\", 265022000.0, 2.961875595], [\"PCRX\", 122424000.0, 0.620740452], [\"PCH\", 203499000.0, 0.500453087], [\"PCAR\", 6117200000.0, 2.728453258], [\"PBH\", 241552000.0, 1.154589818], [\"PBF\", 6301500000.0, 4.182942426], [\"PATK\", 549460000.0, 2.9614393060000004], [\"PANW\", 816700000.0, 3.1329934269999997], [\"PAHC\", 214012000.0, 0.793279057], [\"PAGP\", 9154000000.0, 3.98887929], [\"PAA\", 9154000000.0, 0.997213604], [\"OXY\", 6796000000.0, 2.248920532], [\"OXM\", 297596000.0, 2.7417833939999996], [\"OVV\", 1565000000.0, 2.80961098], [\"OTTR\", 215676000.0, 2.00930334], [\"OTEX\", 771557000.0, 0.7664148479999999], [\"OSIS\", 305342000.0, 1.895087573], [\"ORLY\", 2482975000.0, 2.8919665589999997], [\"ORCL\", 9614000000.0, 0.15600624], [\"ORA\", 192442000.0, 0.6871611470000001], [\"OPCH\", 720779000.0, 0.12975573099999999], [\"ON\", 1401800000.0, 0.223265298], [\"OMC\", 4141200000.0, 9.589310089], [\"OLN\", 1387100000.0, 1.2569569859999998], [\"OKTA\", 167327000.0, 0.204901988], [\"OKE\", 2663606000.0, 1.50074325], [\"OII\", 560810000.0, 0.45893286299999997], [\"OI\", 1628000000.0, 4.189409985], [\"OGS\", 452607000.0, 0.41340623200000004], [\"OGE\", 472500000.0, 1.316340206], [\"ODP\", 2508000000.0, 0.278141591], [\"OCFT\", 772923000.0, -0.318179186], [\"OC\", 1692000000.0, 4.053775865], [\"NXPI\", 2301000000.0, 2.9120613810000004], [\"NWN\", 247264000.0, 1.014766437], [\"NWL\", 2976400000.0, 1.464100142], [\"NWE\", 328135000.0, 0.849587491], [\"NVST\", 720500000.0, 1.178686326], [\"NVCR\", 99234000.0, 0.070345591], [\"NUVA\", 310354000.0, 1.434602418], [\"NUAN\", 418233000.0, 0.18947738], [\"NSC\", 2690000000.0, 3.432450447], [\"NS\", 399694000.0, 1.4296529669999998], [\"NPO\", 85400000.0, 2.737684545], [\"NP\", 213600000.0, 1.379737309], [\"NOVT\", 159702000.0, 1.009442083], [\"NOVA\", 33614000.0, -1.139830808], [\"NOC\", 8721000000.0, 14.62030281], [\"NMRK\", 632364000.0, 3.297811965], [\"NJR\", 615036000.0, -0.477614266], [\"NI\", 1397200000.0, 0.94099025], [\"NGL\", 2226529000.0, 2.6395258619999997], [\"NFLX\", 5467434000.0, -3.33592858], [\"NFH\", 639740000.0, 0.19081865899999997], [\"NFG\", 444188000.0, 1.943231425], [\"NFE\", 69752000.0, -0.47335610100000003], [\"NEX\", 528216000.0, 0.379991442], [\"NEWR\", 153028000.0, -0.23539026100000002], [\"NEU\", 534445000.0, 9.291530725], [\"NEP\", 206000000.0, 1.545448585], [\"NEE\", 4588000000.0, 3.91181314], [\"NDSN\", 494916000.0, 2.014871807], [\"NDAQ\", 1065000000.0, 2.068144255], [\"NCR\", 1886000000.0, 3.150470219], [\"NCLH\", 1480618000.0, 1.6067633419999998], [\"NBLX\", 228257000.0, 2.9974808439999996], [\"NBL\", 1174000000.0, 0.9805602240000001], [\"NBIX\", 244010000.0, 1.113574537], [\"MYL\", 3191800000.0, 1.330472259], [\"MXL\", 70018000.0, 0.392742638], [\"MWA\", 212600000.0, -0.078670127], [\"MUSA\", 3460200000.0, 2.0058745140000003], [\"MUR\", 637480000.0, 2.132544219], [\"MTZ\", 1709223000.0, 1.426449164], [\"MTX\", 440200000.0, 2.289485403], [\"MTOR\", 901000000.0, -0.243205146], [\"MTN\", 924638000.0, 8.1562381], [\"MTDR\", 288675000.0, 1.7053593], [\"MTD\", 843968000.0, 8.282308256], [\"MSI\", 2376000000.0, 4.640004899], [\"MSEX\", 32739000.0, 0.762168602], [\"MRO\", 1215000000.0, 0.875078165], [\"MRK\", 11868000000.0, 1.882965381], [\"MPLX\", 2316000000.0, 1.031789604], [\"MPC\", 31308000000.0, 3.710025349], [\"MOS\", 2076300000.0, 0.732912813], [\"MORN\", 332400000.0, 1.927125819], [\"MODN\", 38388000.0, -0.151265027], [\"MO\", 6007000000.0, 1.371962759], [\"MNRO\", 329281000.0, 1.374569744], [\"MMP\", 740682000.0, 1.7450788869999998], [\"MMM\", 8111000000.0, 4.065728783], [\"MMC\", 4264000000.0, 2.120204759], [\"MLM\", 1100432000.0, 5.060788842], [\"MLI\", 543839000.0, 1.2048198479999999], [\"MLAB\", 31655000.0, 2.524134256], [\"MKSI\", 499651000.0, 1.417106896], [\"MKC\", 1484800000.0, 3.4022543639999996], [\"MIME\", 110158000.0, 0.311059502], [\"MIDD\", 787626000.0, 2.630544378], [\"MIC\", 424000000.0, 0.705509188], [\"MGM\", 3185136000.0, 0.8821491220000001], [\"MGEE\", 140941000.0, 0.54150224], [\"MDU\", 1378213000.0, 1.6926362469999998], [\"MDT\", 7717000000.0, 1.7957627459999999], [\"MDRX\", 450984000.0, 0.075816274], [\"MDP\", 810500000.0, 1.8900520930000002], [\"MDLZ\", 6913000000.0, 1.446704224], [\"MCS\", 206862000.0, 1.7953918759999998], [\"MCRI\", 62080000.0, 0.844867047], [\"MCO\", 1232800000.0, 2.539724576], [\"MCHP\", 1287400000.0, 1.6549665759999999], [\"MATX\", 540700000.0, 1.595639518], [\"MATW\", 364944000.0, 0.170933337], [\"MAT\", 1473705000.0, 2.003481298], [\"MAR\", 5371000000.0, 1.5140521519999999], [\"MANU\", 168455000.0, -0.084054045], [\"M\", 8337000000.0, 4.64777117], [\"LYV\", 2889448000.0, 2.044123756], [\"LYB\", 8179000000.0, 3.725134011], [\"LVS\", 3509000000.0, 1.617110571], [\"LSCC\", 100237000.0, 0.294404035], [\"LRCX\", 2583501000.0, 2.122486629], [\"LPSN\", 79073000.0, -0.282696034], [\"LNT\", 880100000.0, 0.6291010429999999], [\"LMT\", 15878000000.0, 5.28235016], [\"LM\", 753914000.0, 3.8634345619999997], [\"LLY\", 6114000000.0, 2.045242231], [\"LKQ\", 3009860000.0, 0.322591814], [\"LITE\", 457800000.0, 2.102331606], [\"LH\", 2953400000.0, 5.868177137000001], [\"LEG\", 1144900000.0, 1.910293789], [\"LECO\", 736307000.0, 2.003625329], [\"LDOS\", 2954000000.0, 1.193807802], [\"LCII\", 564021000.0, 2.396682212], [\"LAUR\", 883152000.0, 0.12579469999999998], [\"KWR\", 391294000.0, 2.644776682], [\"KTOS\", 185100000.0, -0.009410028], [\"KSU\", 729500000.0, 2.4768055980000003], [\"KSS\", 6832000000.0, 3.9088471910000004], [\"KR\", 27974000000.0, 0.9618006729999999], [\"KOS\", 460215000.0, 0.5675339070000001], [\"KO\", 9068000000.0, 0.630179819], [\"KNL\", 371500000.0, 0.80563182], [\"KMT\", 505080000.0, 0.718733072], [\"KMI\", 3352000000.0, 0.7183332570000001], [\"KLAC\", 1509453000.0, 2.45718965], [\"KHC\", 6536000000.0, 1.279110988], [\"KEX\", 655927000.0, 2.072063656], [\"KEN\", 89473000.0, -0.040091591], [\"KDP\", 2934000000.0, 0.47697330299999996], [\"KBR\", 1452000000.0, 0.402218184], [\"KAR\", 671300000.0, 0.7315171359999999], [\"KALU\", 368700000.0, 4.937457092], [\"KAI\", 182659000.0, 3.4816663169999997], [\"K\", 3223000000.0, 0.735867148], [\"JWN\", 4537000000.0, 4.296208656], [\"JELD\", 1068561000.0, 1.370076315], [\"JCOM\", 405588000.0, 2.118428597], [\"JBT\", 545500000.0, 2.3779001180000003], [\"JBLU\", 2031000000.0, 0.8694325479999999], [\"ITW\", 3469000000.0, 2.408168388], [\"ITRI\", 628383000.0, 1.130700942], [\"ITGR\", 325637000.0, 1.633515262], [\"IT\", 1203493000.0, 0.926017366], [\"IRDM\", 138874000.0, 0.424823626], [\"IR\", 605800000.0, 0.483793336], [\"IQV\", 2895000000.0, 3.0045727589999998], [\"IPHI\", 102896000.0, 0.48071029299999996], [\"IPG\", 2901800000.0, 2.851453362], [\"IP\", 5498000000.0, 2.36664375], [\"INOV\", 173489000.0, 0.220853145], [\"INGR\", 1898000000.0, 2.84584545], [\"INFO\", 1120400000.0, 0.562859672], [\"IIVI\", 666331000.0, 0.9012187629999999], [\"IFF\", 1283769000.0, 2.958804817], [\"IDXX\", 605446000.0, 1.8117083269999998], [\"IDA\", 292848000.0, 1.579645734], [\"IBP\", 401231000.0, 0.5513588429999999], [\"IBM\", 21777000000.0, 3.8966283369999997], [\"IART\", 395127000.0, 1.038645608], [\"IAC\", 1217680000.0, 2.945655271], [\"HZNP\", 363545000.0, 1.0217710759999998], [\"HXL\", 564300000.0, 2.533832411], [\"HURN\", 255199000.0, 3.512168885], [\"HUN\", 1657000000.0, 1.020123909], [\"HUBS\", 186186000.0, 1.118388777], [\"HUBB\", 1103300000.0, 3.79696096], [\"HSY\", 2068125000.0, 3.687923197], [\"HSC\", 399787000.0, -0.638506745], [\"HRC\", 685000000.0, 1.15334924], [\"HQY\", 201200000.0, 0.43651692299999995], [\"HPE\", 6949000000.0, -0.061101723], [\"HON\", 9496000000.0, 3.65833093], [\"HOLX\", 850500000.0, 0.424769529], [\"HLIO\", 125927000.0, 1.235259768], [\"HI\", 566900000.0, 0.283688273], [\"HHR\", 2066358000.0, 30.5294], [\"HESM\", 305900000.0, 1.437071912], [\"HES\", 1699000000.0, 0.938608952], [\"HDS\", 1385000000.0, 1.109992253], [\"HBI\", 1751005000.0, 1.544751004], [\"HAS\", 1428007000.0, 2.087021327], [\"HAL\", 5191000000.0, 1.329453354], [\"HAE\", 258970000.0, 1.564283062], [\"HA\", 708137000.0, 0.606223374], [\"GWW\", 2847000000.0, 5.049543634], [\"GTN\", 579000000.0, 1.293339753], [\"GTLS\", 342400000.0, 2.195593344], [\"GTES\", 725700000.0, 0.702127797], [\"GT\", 3713000000.0, 5.78766637], [\"GRUB\", 341270000.0, 0.291068142], [\"GRA\", 504500000.0, 1.8535793669999998], [\"GPS\", 4674000000.0, 2.365393639], [\"GPK\", 1519800000.0, 1.257894541], [\"GPC\", 4706189000.0, 1.01035758], [\"GOOS\", 452100000.0, 2.385772752], [\"GO\", 655517000.0, 0.318867858], [\"GNRC\", 590932000.0, 2.799484077], [\"GMS\", 761352000.0, 1.551842606], [\"GM\", 30826000000.0, 2.430738211], [\"GLW\", 2817000000.0, 1.32360819], [\"GIS\", 4420800000.0, 1.463449899], [\"GILD\", 5879000000.0, 2.039290952], [\"GIII\", 754617000.0, 8.974102002999999], [\"GES\", 842254000.0, 3.441821025], [\"GEL\", 604329000.0, 0.412451644], [\"GEF\", 1112400000.0, 0.403988774], [\"GDDY\", 780400000.0, 0.9415331259999999], [\"GD\", 10773000000.0, 8.274972197], [\"GCP\", 258300000.0, 0.423742735], [\"G\", 940739000.0, 0.455731314], [\"FWONA\", 2619000000.0, 1.717224106], [\"FUL\", 739106000.0, 2.136637716], [\"FTV\", 2002400000.0, 1.41570601], [\"FTS\", 2326000000.0, 1.446497833], [\"FTI\", 3726800000.0, 1.250601795], [\"FRPT\", 65751772.0, 0.35549780700000005], [\"FOXA\", 3778000000.0, -0.7378947809999999], [\"FOE\", -128812000.0, 1.03637383], [\"FND\", 527002000.0, -0.048843254], [\"FMC\", 1197300000.0, 3.540476597], [\"FLT\", 698881000.0, 4.274382748], [\"FLS\", 1068171000.0, 1.289544621], [\"FLOW\", 364300000.0, 1.743139103], [\"FLO\", 917759000.0, 0.420076071], [\"FLEX\", 6461387000.0, -0.10012429699999999], [\"FL\", 2221000000.0, 2.859456298], [\"FIVN\", 92263000.0, 0.254852058], [\"FIVE\", 687130000.0, 3.326098711], [\"FISV\", 4045000000.0, 1.732620476], [\"FIS\", 3342000000.0, 1.0885123140000001], [\"FEYE\", 235086000.0, 0.182312845], [\"FE\", 2673000000.0, 1.351071966], [\"FDX\", 17324000000.0, 5.783596692000001], [\"FDS\", 366658000.0, 2.524488987], [\"FCX\", 3911000000.0, 0.11716754800000001], [\"FCFS\", 498362000.0, 1.587929561], [\"FBHS\", 1470500000.0, 2.036633386], [\"FANG\", 1104000000.0, 5.497224312999999], [\"EYE\", 401763000.0, -0.07402869299999999], [\"EXPE\", 2747000000.0, 2.3535701159999998], [\"EXP\", 350249000.0, 3.2649078960000004], [\"EXLS\", 256872000.0, 1.83210643], [\"EXC\", 8342000000.0, 1.296151126], [\"EXAS\", 295575000.0, -0.220931514], [\"EVTC\", 127186000.0, 0.60871028], [\"EVRG\", 1131600000.0, 1.323807698], [\"EVOP\", 129380000.0, -0.011407713], [\"EVBG\", 57111000.0, 0.043296254000000006], [\"ETSY\", 269998000.0, 0.663194065], [\"ETRN\", 425859000.0, 1.123000027], [\"ETR\", 2462306000.0, 3.509154648], [\"ETN\", 5238000000.0, 2.266569908], [\"ET\", 13720000000.0, 0.77541028], [\"ESI\", 454700000.0, 0.283553032], [\"ES\", 2050386000.0, 1.5898344], [\"EQT\", 1011483000.0, 0.85216335], [\"EQM\", 425859000.0, 1.4681552080000002], [\"EQIX\", 1417135000.0, 6.211035258], [\"EPD\", 8005300000.0, 0.773946457], [\"EPC\", 454000000.0, -0.8652024220000001], [\"ENV\", 239936000.0, 0.893427434], [\"ENTG\", 426998000.0, 0.95380601], [\"ENSG\", 311152000.0, 1.02393099], [\"ENS\", 763698000.0, 1.6736204959999998], [\"ENLC\", 1155700000.0, 0.43969305399999997], [\"ENBL\", 731000000.0, 0.576809266], [\"ENB\", 12352000000.0, 0.984720412], [\"EMR\", 4151000000.0, 0.696047493], [\"EMN\", 2205000000.0, 4.934577685], [\"ELY\", 311941000.0, 0.24118412399999997], [\"ELAN\", 787000000.0, 0.33860226600000004], [\"EL\", 4624000000.0, 3.9603844489999998], [\"EIX\", 2970000000.0, 1.422192933], [\"EHC\", 1184400000.0, 2.186611778], [\"EFX\", 905800000.0, 1.9052985830000002], [\"EEFT\", 693747000.0, 2.593276486], [\"EE\", 190103000.0, 2.065537436], [\"ED\", 2951000000.0, 3.531566222], [\"ECOL\", 231268000.0, 0.706710774], [\"ECL\", 3823600000.0, 2.8482775719999998], [\"EBS\", 360300000.0, 2.365197496], [\"EBIX\", 146183000.0, -0.598381838], [\"EBAY\", 2821000000.0, 0.996896157], [\"DY\", 737603000.0, 6.082772683], [\"DXCM\", 462800000.0, 1.5700012769999998], [\"DXC\", 5021000000.0, 1.86329925], [\"DUK\", 6103000000.0, 3.52796165], [\"DTE\", 3148000000.0, 4.078594516], [\"DRI\", 2056400000.0, 1.552998488], [\"DOW\", 10204000000.0, 2.629818974], [\"DOV\", 1775589000.0, 2.486521555], [\"DOOR\", 531237000.0, 3.3472016719999997], [\"DOCU\", 274895000.0, 0.253573155], [\"DLX\", 522070000.0, 1.867589654], [\"DLTR\", 6315300000.0, 3.6140102510000003], [\"DLPH\", 1056000000.0, 1.6497884790000001], [\"DKS\", 2608650000.0, 7.02478382], [\"DK\", 2283700000.0, 1.708084344], [\"DISH\", 3240865000.0, 1.285389088], [\"DISCA\", 2874000000.0, 2.345253341], [\"DIS\", 20858000000.0, 0.893809104], [\"DHR\", 2837300000.0, 1.547026485], [\"DGX\", 1926000000.0, 2.5835748219999997], [\"DG\", 7157642000.0, 2.265858954], [\"DELL\", 24032000000.0, 4.8072196719999996], [\"DD\", 5204000000.0, 0.780230506], [\"DCP\", 1929000000.0, 1.548874008], [\"DCI\", 662000000.0, 0.71665172], [\"DBX\", 446000000.0, 0.449770424], [\"DBI\", 817710000.0, 1.095966858], [\"DAR\", 859428000.0, 0.610459903], [\"DAN\", 1987000000.0, 2.4248922459999998], [\"DAL\", 11439000000.0, 1.479722573], [\"D\", 4475000000.0, 1.816318822], [\"CXW\", 497809000.0, 0.422450713], [\"CWT\", 176878000.0, 0.8401910890000001], [\"CWK\", 2607500000.0, 1.687728167], [\"CVS\", 66889000000.0, 2.024652478], [\"CVI\", 1570000000.0, 0.9350386940000001], [\"CUB\", 328839000.0, -1.5222204019999999], [\"CTLT\", 721400000.0, 0.824967274], [\"CTL\", 5570000000.0, 1.751008114], [\"CTAS\", 1843749000.0, 2.844937129], [\"CSX\", 2885000000.0, 1.422661393], [\"CSOD\", 149594000.0, 1.03090634], [\"CSL\", 1144300000.0, 3.7689688439999998], [\"CSGS\", 254747000.0, 1.321807635], [\"CROX\", 262979000.0, 0.244419606], [\"CRL\", 691138000.0, 3.699446702], [\"CRK\", 289248000.0, 0.8863973890000001], [\"CRI\", 1100522000.0, 7.109370758], [\"CPRI\", 1571000000.0, 3.356734078], [\"CPK\", 131974000.0, -0.05943753400000001], [\"CPE\", 196095000.0, 0.602392177], [\"CPB\", 2162000000.0, 1.5945349709999999], [\"CP\", 2069000000.0, 7.529428147000001], [\"COUP\", 111452000.0, 0.34920813700000003], [\"COTY\", 2345000000.0, 0.556939544], [\"CORE\", 4154800000.0, 4.406671332], [\"COO\", 646200000.0, 2.643574746], [\"COKE\", 1178949000.0, 9.151893134], [\"CNXM\", 81501000.0, 0.649265661], [\"CNX\", 508989000.0, 0.613484073], [\"CNP\", 3230000000.0, 1.099072368], [\"CNMD\", 264865000.0, 1.4403586480000001], [\"CNK\", 788803000.0, 1.40658707], [\"CNC\", 18863000000.0, -1.5732387140000001], [\"CMS\", 1795000000.0, 1.391616938], [\"CMP\", 500300000.0, 2.012730016], [\"CMG\", 1440224000.0, 6.712992644], [\"CME\", 1138400000.0, 2.0083053769999997], [\"CMD\", 288498000.0, 0.812693558], [\"CMCSA\", 28398000000.0, 1.37055551], [\"CMC\", 1384708000.0, 1.2415184890000002], [\"CLX\", 1449000000.0, 1.808714959], [\"CLR\", 1195133000.0, 2.164155869], [\"CLH\", 871005000.0, 2.302798643], [\"CLGX\", 426032000.0, 1.472914441], [\"CLB\", 156778000.0, 0.48004667100000004], [\"CIGI\", 928288000.0, 4.783397074], [\"CI\", 38245000000.0, 7.479406106], [\"CHTR\", 11761000000.0, 15.63459419], [\"CHRW\", 3793326000.0, 1.564216931], [\"CHRS\", 123856000.0, 0.25253339], [\"CHEF\", 426507000.0, 0.70753721], [\"CHDN\", 280600000.0, 0.73810254], [\"CHD\", 1144200000.0, 1.006511867], [\"CFX\", 888373000.0, 0.553675361], [\"CF\", 1049000000.0, 1.3889411980000002], [\"CETV\", 225795000.0, 0.046051563], [\"CEQP\", 839700000.0, 1.9777545890000001], [\"CENT\", 482828000.0, -0.322195665], [\"CE\", 1432000000.0, 2.697021227], [\"CDW\", 4536900000.0, 2.400462364], [\"CCMP\", 283143000.0, 1.6535076219999998], [\"CCL\", 4782000000.0, 1.489032255], [\"CCK\", 2791000000.0, 7.098201297999999], [\"CBT\", 727000000.0, 1.84281976], [\"CBRL\", 846143000.0, 5.803344964], [\"CATM\", 338807000.0, -0.606068446], [\"CAT\", 13144000000.0, 4.404167307], [\"CASY\", 2248198000.0, 2.3999468580000003], [\"CAKE\", 694030000.0, 2.2976763190000002], [\"CAH\", 39735000000.0, 2.383000863], [\"CAG\", 2820800000.0, 0.453093842], [\"CACI\", 1395469000.0, 5.343866793], [\"CABO\", 318751000.0, 27.41203534], [\"BWXT\", 501235000.0, 1.977599385], [\"BV\", 570700000.0, 0.06972309900000001], [\"BSX\", 2904000000.0, 0.49647602799999996], [\"BRKR\", 599900000.0, 0.884463575], [\"BR\", 968700000.0, 0.853932015], [\"BOX\", 183585000.0, 0.10034297], [\"BMY\", 7945000000.0, 1.250855592], [\"BMCH\", 890564000.0, 0.7106552840000001], [\"BLL\", 2719000000.0, 2.72674867], [\"BLKB\", 237839000.0, 1.2270242740000001], [\"BLDR\", 1763573000.0, 1.241782632], [\"BLD\", 662350000.0, 2.621619206], [\"BL\", 80258000.0, 0.147809243], [\"BKNG\", 3339000000.0, 25.73126241], [\"BKI\", 300100000.0, 1.049068147], [\"BKH\", 477654000.0, 1.943532756], [\"BKE\", 271003000.0, 1.336690438], [\"BIG\", 1606982000.0, 6.618946858999999], [\"BG\", 10783000000.0, 3.564811409], [\"BFAM\", 520615000.0, 0.995551326], [\"BECN\", 1675112000.0, -1.8270076419999999], [\"BEAT\", 112034000.0, 0.43976208200000005], [\"BDX\", 4225000000.0, 2.636250406], [\"BDC\", 286255000.0, 4.12199872], [\"BCOR\", 149421000.0, -0.070346842], [\"BCO\", 935800000.0, 4.3338398410000005], [\"BCC\", 1101713000.0, 1.3058605140000001], [\"BC\", 917600000.0, 2.6712055180000003], [\"BBY\", 15196000000.0, 6.291120107], [\"BBBY\", 2759322000.0, 0.009670841], [\"BAX\", 3039000000.0, 1.623720439], [\"BAH\", 1849441000.0, 0.7107836959999999], [\"B\", 370171000.0, 1.714558775], [\"AZPN\", 124732000.0, 0.6882913629999999], [\"AZN\", 6664000000.0, 3.7478773060000004], [\"AYX\", 156450000.0, 0.318181187], [\"AXTA\", 1098400000.0, 1.2073282140000001], [\"AXE\", 2252300000.0, 0.635569934], [\"AWR\", 112993000.0, 0.883838703], [\"AWK\", 902000000.0, 2.422885729], [\"AWI\", 246900000.0, 1.263970951], [\"AVYA\", 715000000.0, 0.107941855], [\"AVY\", 1772900000.0, 3.34718938], [\"AVTR\", 1524000000.0, 0.152168462], [\"AVGO\", 5776000000.0, 6.249515136], [\"AVA\", 364559000.0, 0.865253299], [\"ATSG\", 403351000.0, 1.5125024409999999], [\"ATO\", 875563000.0, 1.444946185], [\"ATI\", 1018600000.0, 1.904265672], [\"ATGE\", 266172000.0, -1.132364108], [\"ASGN\", 1025200000.0, 1.5416666669999999], [\"ARMK\", 4253597000.0, -1.240759497], [\"AQUA\", 346105000.0, 0.041363599], [\"APTV\", 3596000000.0, 2.753751718], [\"APPF\", 67362000.0, 0.454286477], [\"APH\", 2151000000.0, 1.4303941390000001], [\"APA\", 1625000000.0, 2.0689492659999997], [\"AON\", 2885000000.0, 2.8701095039999998], [\"ANTM\", 27407000000.0, 5.233399007], [\"ANF\", 1184551000.0, 5.331221354], [\"AN\", 5548900000.0, 1.162394726], [\"AMZN\", 87436000000.0, 39.65129131], [\"AMWD\", 395755000.0, 1.535084233], [\"AMRC\", 306612000.0, -1.6066977830000002], [\"AMN\", 586892000.0, 1.6839018430000001], [\"AMKR\", 1178464000.0, 1.169882403], [\"AMGN\", 6197000000.0, 4.231015884], [\"AME\", 1304821000.0, 1.4970195569999998], [\"AM\", 239067000.0, 0.38241434799999996], [\"ALV\", 2191200000.0, 3.580012717], [\"ALTR\", 123877000.0, 0.019338524], [\"ALSN\", 617000000.0, 1.694183548], [\"ALLE\", 719500000.0, 2.247177589], [\"ALK\", 2228000000.0, 2.768454293], [\"ALGT\", 461073000.0, 7.415255277999999], [\"ALG\", 300189000.0, 3.77157177], [\"ALE\", 304600000.0, 1.4148009119999998], [\"ALB\", 992564000.0, 3.524712907], [\"AKAM\", 772123000.0, 1.745902769], [\"AJRD\", 523000000.0, 2.094243259], [\"AJG\", 1721400000.0, 1.876980319], [\"AIT\", 833375000.0, 1.419741519], [\"AIN\", 257678000.0, 2.2835603719999997], [\"AIMC\", 441900000.0, 1.169251673], [\"AGR\", 1609000000.0, 1.129430568], [\"AGN\", 4351000000.0, 5.088075894], [\"AEP\", 3616000000.0, 1.862934759], [\"AEO\", 1314631000.0, 1.4205931509999998], [\"AEIS\", 338268000.0, 0.50133532], [\"AEE\", 1316000000.0, 2.040403302], [\"ADSW\", 400500000.0, 0.570440154], [\"ADSK\", 899300000.0, 3.1731603610000003], [\"ADS\", 1461000000.0, -6.785187941], [\"ADNT\", 3936000000.0, 2.5528538480000003], [\"ADI\", 1303565000.0, 0.9493503959999999], [\"ACM\", 3235610000.0, -1.31730227], [\"ACIW\", 399920000.0, 0.421380372], [\"ACHC\", 780232000.0, 1.347810282], [\"ABT\", 8314000000.0, 1.366163706], [\"ABM\", 1612900000.0, -0.515098104], [\"AAPL\", 91819000000.0, 6.867922575], [\"AAP\", 2112614000.0, 2.286520085]], \"hovertemplate\": \"label=7<br>TOT_DEBT_TO_TOTAL_ASSET=%{x}<br>PX_TO_BOOK_RATIO=%{y}<br>ticker=%{customdata[0]}<br>revenue=%{customdata[1]}<br>CASH_FLOW_PER_SHARE=%{customdata[2]}<extra></extra>\", \"legendgroup\": \"7\", \"marker\": {\"color\": \"#EF553B\", \"symbol\": \"circle\"}, \"mode\": \"markers\", \"name\": \"7\", \"showlegend\": true, \"type\": \"scattergl\", \"x\": [0.572628844, 0.388716675, 0.29229463, 0.333678319, 0.409823559, 0.55098731, 0.300389105, 0.284574998, 0.531568516, 0.409530606, 0.315561744, 0.334079945, 0.388699256, 0.39504032299999997, 0.583476865, 0.277987277, 0.400173457, 0.330169895, 0.261737787, 0.307215019, 0.30627708800000003, 0.475391199, 0.451736901, 0.484100782, 0.486537145, 0.286554558, 0.48945538, 0.402964716, 0.30565118399999996, 0.468122656, 0.316409891, 0.35368717299999997, 0.364358917, 0.306540973, 0.38023975299999996, 0.23030720899999998, 0.331945279, 0.451892475, 0.23380770899999997, 0.456395877, 0.337852461, 0.422076946, 0.538823815, 0.412512484, 0.375354776, 0.481871527, 0.306084963, 0.31108935, 0.297910007, 0.317147927, 0.416567378, 0.40694438299999997, 0.29812667800000003, 0.24394539899999998, 0.357228076, 0.30377266, 0.439227498, 0.501206169, 0.409903026, 0.486838239, 0.417949744, 0.43245828799999997, 0.39851932799999995, 0.253753994, 0.36943372, 0.481950482, 0.327872069, 0.38870198200000006, 0.268238605, 0.253695565, 0.280289781, 0.318716364, 0.489111257, 0.418808778, 0.336008884, 0.311820193, 0.346603176, 0.39112186299999996, 0.451573148, 0.512200554, 0.514114604, 0.502613846, 0.5861807139999999, 0.29474302399999996, 0.511353782, 0.41575117899999997, 0.358019091, 0.570056829, 0.440109884, 0.34725750299999997, 0.46131544700000005, 0.30407153, 0.396160597, 0.37648922799999995, 0.47481766700000005, 0.439500674, 0.33681176, 0.440810211, 0.356832941, 0.321980411, 0.536564147, 0.5537457960000001, 0.318601006, 0.367912129, 0.47576126700000004, 0.330346994, 0.312865226, 0.32425862899999996, 0.313158788, 0.335257192, 0.493089316, 0.391694298, 0.327614603, 0.367620247, 0.35578004399999996, 0.327414723, 0.36875722, 0.38045211, 0.4735438, 0.381176959, 0.323723026, 0.465342579, 0.456046978, 0.46361397200000004, 0.330403775, 0.47634851799999994, 0.57247035, 0.448160515, 0.393147034, 0.483952152, 0.382941841, 0.50392901, 0.405377334, 0.35853872600000003, 0.402537892, 0.480617081, 0.37753646, 0.410160067, 0.25792839100000003, 0.319099968, 0.455160038, 0.271593976, 0.502793021, 0.454299004, 0.33470985, 0.532052491, 0.542298898, 0.379006525, 0.508752842, 0.34589184, 0.32995114600000003, 0.290435058, 0.48680473399999996, 0.505150203, 0.347498664, 0.35056429899999997, 0.411914894, 0.587602859, 0.514027295, 0.368797789, 0.35215845, 0.52065797, 0.45069760799999997, 0.383026653, 0.495850025, 0.398056588, 0.42513191899999997, 0.373102596, 0.291309798, 0.28277619, 0.272951108, 0.356687629, 0.28633869300000003, 0.32131571, 0.528700917, 0.534800477, 0.35179091799999995, 0.38419415100000004, 0.23010920399999998, 0.363526122, 0.483801528, 0.38698493100000003, 0.273117115, 0.291637773, 0.547468404, 0.465610431, 0.428315516, 0.325912366, 0.48126000399999996, 0.21994587399999999, 0.411487557, 0.505099842, 0.252621178, 0.47206316600000003, 0.435288415, 0.285460798, 0.334424939, 0.298122357, 0.413028611, 0.45414751, 0.504465849, 0.33002033, 0.35731807, 0.547502826, 0.327376698, 0.465015715, 0.395044756, 0.314505131, 0.45588437200000004, 0.387654723, 0.5117534579999999, 0.339587408, 0.377912601, 0.407696648, 0.463103169, 0.43101742299999996, 0.251855034, 0.344830463, 0.496751812, 0.31136373100000003, 0.408265115, 0.474139133, 0.33989105399999997, 0.234831042, 0.264623664, 0.42345424200000004, 0.338455942, 0.395707501, 0.50221494, 0.261541325, 0.523126215, 0.252599491, 0.473249374, 0.336280824, 0.351431461, 0.36596542600000004, 0.33103760600000004, 0.37366779899999997, 0.315840332, 0.399998294, 0.27203005399999997, 0.546962535, 0.524862103, 0.390405889, 0.5271690379999999, 0.42875793700000003, 0.239667107, 0.40526567799999996, 0.558565405, 0.583290318, 0.34936947700000004, 0.578459938, 0.315779479, 0.299991836, 0.35891123, 0.324212947, 0.31221267199999997, 0.367955635, 0.30209388800000003, 0.40046029899999996, 0.38120615799999996, 0.249679295, 0.341150657, 0.372366055, 0.461897644, 0.32159903, 0.549197445, 0.309223134, 0.26057018600000004, 0.298384797, 0.580556535, 0.34262211299999995, 0.32074098, 0.399745366, 0.425546563, 0.449141083, 0.434406202, 0.287581295, 0.33928913, 0.550853611, 0.243651447, 0.423325819, 0.37332611200000004, 0.338120104, 0.36182036, 0.35707758100000003, 0.267020971, 0.437075776, 0.407662959, 0.511154165, 0.362134935, 0.37940275700000003, 0.40704516, 0.306385318, 0.34102368200000005, 0.386312891, 0.291589353, 0.33391454800000003, 0.298014522, 0.372582873, 0.41244043700000005, 0.38978459200000004, 0.46291481, 0.5286600260000001, 0.289804787, 0.271721413, 0.312167494, 0.49646302299999995, 0.317758432, 0.239101485, 0.290016449, 0.292081771, 0.569138033, 0.42872820100000003, 0.577918419, 0.47396941299999995, 0.45361482299999994, 0.321785305, 0.301903803, 0.328164887, 0.277844452, 0.41730923299999995, 0.337220188, 0.374467503, 0.438128553, 0.45958673899999997, 0.284157859, 0.30697577600000003, 0.27553812699999997, 0.322474163, 0.46123981299999994, 0.291700878, 0.356949674, 0.321186882, 0.599610326, 0.5446994079999999, 0.429816546, 0.423240781, 0.585440693, 0.47191728899999996, 0.36608933, 0.334309465, 0.437833142, 0.436274027, 0.538471486, 0.282133147, 0.370850575, 0.38711747399999996, 0.390857868, 0.266243057, 0.290520265, 0.389888536, 0.422605524, 0.362038992, 0.393851405, 0.47307117299999996, 0.315142925, 0.35358172299999996, 0.393177261, 0.347327226, 0.33401279, 0.288870152, 0.34042792299999997, 0.420748884, 0.457471416, 0.465127424, 0.495050995, 0.407761985, 0.246177993, 0.46377280600000004, 0.36752566299999995, 0.288260227, 0.25275925, 0.42108753299999996, 0.29768972899999996, 0.266964952, 0.34163982299999995, 0.339274014, 0.320448335, 0.48217945799999995, 0.492451474, 0.49725906799999997, 0.450521215, 0.365136561, 0.264473905, 0.514865941, 0.36981528799999996, 0.365218459, 0.421761292, 0.490228248, 0.34815487, 0.517870199, 0.487884296, 0.28296126, 0.489199606, 0.506284075, 0.325827815, 0.31860734, 0.4646605, 0.329815643, 0.5758043079999999, 0.27655525, 0.564615604, 0.447859856, 0.441329725, 0.37626159200000003, 0.304966328, 0.338841654, 0.258591415, 0.338341346, 0.38769222299999995, 0.32049765399999997, 0.5241127729999999, 0.35114702799999997, 0.441786354, 0.50725366, 0.265523314, 0.272704034, 0.48990003, 0.29399824399999996, 0.452824213, 0.41564708100000003, 0.534978796, 0.364153889, 0.5384941679999999, 0.529835113, 0.456992999, 0.447649446, 0.30030644300000003, 0.33008919600000003, 0.368859284, 0.537578887, 0.326992827, 0.414852995, 0.37998254299999995, 0.25829334, 0.503585414, 0.561225236, 0.392364779, 0.290302724, 0.32395484199999997, 0.573769097, 0.389881865, 0.531097499, 0.45310190899999997, 0.267838605, 0.454328723, 0.399062099, 0.276660857, 0.492295886, 0.519767141, 0.548772175, 0.410731289, 0.244261993, 0.290991475, 0.404803439, 0.350222906, 0.496549945, 0.37515339200000003, 0.433300876, 0.230972669, 0.27129804, 0.33022004899999996, 0.448070201, 0.456680674, 0.337749552, 0.411215099, 0.318088186, 0.29314023100000003, 0.39996872, 0.23557762699999998, 0.50356655, 0.462962809, 0.484051605, 0.282425618, 0.240937403, 0.38037859399999996, 0.496394884, 0.47484061, 0.47704558799999996, 0.24078022, 0.33822188700000005, 0.369414906, 0.22939951600000003, 0.469024585, 0.255416511, 0.466210846, 0.282766793, 0.30244765, 0.27241591600000004, 0.549236119, 0.383039664, 0.459332022, 0.513894728, 0.5491690610000001, 0.525713003, 0.383195726, 0.263770767, 0.525547372, 0.351725095, 0.37862774, 0.298027931, 0.48768427700000005, 0.554432548, 0.44749178700000003, 0.337581739, 0.370553265, 0.372198725, 0.570244662, 0.33667641200000004, 0.5103258420000001, 0.356676993, 0.397889373, 0.284441496, 0.361194403, 0.387274374, 0.26208017100000003, 0.438813625, 0.255939508, 0.550397158, 0.42768997299999995, 0.31482678199999997, 0.39330509799999996, 0.38807486399999996, 0.370408615, 0.3248487, 0.34860138399999996, 0.47955258100000003, 0.45295477100000003, 0.422562636, 0.47837160799999995, 0.35443765, 0.394697742, 0.420467026, 0.537263798, 0.316502544, 0.354163925, 0.46550059299999996, 0.342905171, 0.471918802, 0.512449807, 0.398985855, 0.46773597899999997, 0.320952639, 0.428046638, 0.457062398, 0.239240998, 0.35000869799999995, 0.41485634200000004, 0.512439779, 0.437956941, 0.251412185, 0.425568061, 0.33440898199999997, 0.37296235899999997, 0.496245137, 0.332753629, 0.35346260399999996, 0.267386723, 0.365015459, 0.516762312, 0.316176348, 0.451643075, 0.400100697, 0.30473751600000004, 0.303766245, 0.467612545, 0.563034815, 0.369356223, 0.4244452, 0.38050266, 0.28959243100000004, 0.35712337200000005, 0.532934399, 0.427136735, 0.537594033, 0.515514597, 0.5132732729999999, 0.41668676200000004, 0.453944203, 0.499485155, 0.391514284, 0.491455536, 0.459958873, 0.326011378, 0.312957166, 0.368448758, 0.571772928, 0.341997941, 0.450477075, 0.43310752399999997, 0.579142786, 0.334829487, 0.49360956899999997, 0.57956778, 0.5586159079999999, 0.542695436, 0.512175696, 0.40765866700000003, 0.31330095399999996, 0.574830555, 0.339246792, 0.419491426, 0.425559742, 0.49283246, 0.314754241, 0.24013635100000003, 0.533632953, 0.35213679600000003, 0.46130972, 0.517769432, 0.577773422, 0.309895755, 0.331430984, 0.348340453, 0.419314134, 0.435290599, 0.376103022, 0.431194597, 0.43108233100000004, 0.403890435, 0.255270984, 0.526410835, 0.35099968299999995, 0.454094592, 0.45863110100000004, 0.47999439200000005, 0.349018902, 0.566061382, 0.193314166, 0.465495318, 0.348058225, 0.552328472, 0.431739424, 0.40650842, 0.327433339, 0.310409526, 0.42165762, 0.442234354, 0.359639537, 0.265225715, 0.45028801799999996, 0.282355468, 0.48926877799999996, 0.301938622, 0.39415131, 0.424726661, 0.389673968, 0.46244081299999995, 0.435022872, 0.47878659799999995, 0.31386144, 0.542824028, 0.48692282299999995, 0.284883043, 0.37351786299999995, 0.43887342799999995, 0.353297198, 0.49471279, 0.30825977600000004, 0.330883178, 0.260983901, 0.46155848, 0.32210190699999997, 0.521743168, 0.30484765399999997, 0.364452805, 0.29696792, 0.542164492, 0.562349663, 0.279003514, 0.304586948, 0.420906446, 0.409026987, 0.428850719, 0.353355925, 0.523518157, 0.48594669100000004, 0.35069961899999996, 0.5416590729999999, 0.30054889, 0.24826962, 0.271117414, 0.385462705, 0.531907618, 0.551370987, 0.34868861, 0.310212916, 0.333475105, 0.47307671100000004, 0.281686788, 0.259318554, 0.497913465, 0.228495822, 0.280601826, 0.43732032299999996, 0.270050574, 0.37393549299999995, 0.328251145, 0.500829049, 0.281245813, 0.46033824, 0.332496456, 0.279868666, 0.565842697, 0.48116069, 0.246825214, 0.472250426, 0.36609048899999996, 0.294338659, 0.311675966, 0.38125852200000004, 0.249686092, 0.25198117600000003, 0.391978163, 0.287600518, 0.378177744, 0.23486169199999998, 0.24519240399999997, 0.402313542, 0.48094033700000005, 0.292270456, 0.338609892, 0.527218851, 0.411794216, 0.39434908, 0.362215361, 0.256996139, 0.276757938, 0.43588831299999997, 0.535021809, 0.267194014, 0.27152920399999997, 0.317928001, 0.24576368899999998], \"xaxis\": \"x\", \"y\": [23.279, 18.769000000000002, 7.49, 2.485, 2.7739999999999996, 24.607, 4.798, 1.4269999999999998, 2.682, 2.515, 1.494, 0.474, 2.752, 3.5589999999999997, 18.509, 4.08, 4.393, 0.9359999999999999, 1.268, 2.562, 4.35, 4.99, 4.351, 2.151, 6.84, 1.536, 29.899, 29.962, 2.918, 4.9319999999999995, 1.9140000000000001, 4.706, 2.877, 18.125999999999998, 2.049, 17.078, 3.4530000000000003, 2.248, 1.4980000000000002, 4.136, 2.935, 1.4080000000000001, 4.6530000000000005, 2.238, 3.3539999999999996, 10.825, 3.153, 2.8289999999999997, 3.39, 4.546, 1.1909999999999998, 3.17, 8.74, 5.045, 0.139, 0.7440000000000001, 2.471, 1.485, 1.723, 30.737, 2.359, 6.922999999999999, 8.051, -0.585, 2.283, 2.362, 2.133, 1.933, 4.5360000000000005, 1.851, 4.268, 1.3630000000000002, 2.88, 1.227, 4.401, 9.373, 2.315, 11.392999999999999, 2.1959999999999997, 6.973, 7.178999999999999, 2.084, 2.166, 3.3160000000000003, 5.8260000000000005, 1.932, 9.804, 13.065999999999999, 2.2319999999999998, 3.955, 2.331, 4.39, 33.505, 2.27, 11.942, 1.0, 4.838, 1.489, 2.104, 4.742, -2.375, 3.4539999999999997, 5.85, 2.278, 0.7659999999999999, 32.661, 0.627, 11.495, 0.799, 1.55, 17.308, 2.0380000000000003, 3.1839999999999997, 6.1370000000000005, 3.1719999999999997, 1.656, 2.171, 2.1790000000000003, 17.28, 7.966, 2.09, 1.875, 3.045, 8.457, 1.7990000000000002, 3.325, 1.416, 3.033, 2.1430000000000002, 2.495, 1.642, 111.839, 4.283, 12.110999999999999, 139.31799999999998, 2.123, 3.427, 2.103, 1.656, 2.224, 3.364, 2.342, 1.4980000000000002, 2.272, 1.446, 2.14, 9.519, 1.041, 13.064, 7.528, 2.258, 2.254, 4.822, 1.22, 1.1520000000000001, 4.85, 3.483, 6.545, 0.831, 2.9419999999999997, 2.531, 1.45, 1.69, 3.5239999999999996, 6.8260000000000005, 33.264, 4.3469999999999995, 11.985999999999999, 3.883, 13.31, 22.53, 32.661, 18.984, 9.868, 1.379, 0.529, 2.8110000000000004, 0.355, 0.915, 5.885, 80.939, 2.301, 1.4880000000000002, 5.155, 1.169, 10.290999999999999, 0.7240000000000001, 3.005, 22.467, 0.721, 7.013999999999999, 4.95, 5.582999999999999, 13.225999999999999, 1.939, 1.804, 5.696000000000001, 1.212, 6.45, 1.318, 1.9969999999999999, 5.974, 3.258, 2.2969999999999997, 1.9240000000000002, 20.73, 2.69, 1.861, 2.406, 4.003, 3.822, 3.832, 3.452, 5.615, 4.177, 2.003, 6.785, 10.936, 3.9139999999999997, 3.4339999999999997, 12.970999999999998, 3.1439999999999997, 1.979, 1.04, 0.69, 5.3260000000000005, 2.371, 2.819, 1.7590000000000001, 1.237, 2.505, 14.298, 4.62, 1.6, 1.025, 1.075, 2.237, 0.614, 2.609, 2.9810000000000003, 3.3160000000000003, 83.45100000000001, 11.862, 2.7289999999999996, 2.903, 3.033, 6.181, 1.139, 38.289, 5.021, 1.379, 3.292, 2.3169999999999997, 2.15, 0.6609999999999999, 5.792999999999999, 1.53, 3.7680000000000002, 2.591, 1.64, 1.7730000000000001, 1.328, 38.294000000000004, 4.401, 4.062, 3.3339999999999996, 1.569, 1.567, 2.915, 7.436, 1.4509999999999998, 6.5729999999999995, 4.037, 2.199, 1.7369999999999999, 0.7340000000000001, 18.702, 0.34700000000000003, 1.841, 31.033, 1.588, 10.342, 7.968999999999999, 1.4669999999999999, 3.199, 5.962999999999999, 3.113, 4.064, 1.9069999999999998, 1.296, 1.413, 15.543, 0.873, 3.66, 3.174, 4.482, 0.7709999999999999, 2.74, 1.432, 5.813, 6.622999999999999, 1.143, 45.913999999999994, -39.442, 3.273, 0.894, 8.937999999999999, 1.6469999999999998, 1.161, 0.892, 5.978, 19.500999999999998, 14.985, 3.517, 5.289, 10.082, 7.215, 3.266, 2.81, 4.649, 2.964, 6.531000000000001, 11.970999999999998, 3.1639999999999997, 1.3219999999999998, 2.217, 4.288, 2.0909999999999997, 3.085, 1.24, 1.581, 2.908, 1.6219999999999999, 2.573, 73.24, 4.456, 2.171, 1.6740000000000002, 9.554, 70.42399999999999, 5.407, 0.773, 13.33, 3.9160000000000004, 10.222999999999999, 7.837999999999999, 9.73, 16.49, 2.5269999999999997, 35.124, 0.8190000000000001, 48.406000000000006, 2.184, 3.627, 2.171, 5.099, 7.229, 4.126, 3.3489999999999998, 1.367, 2.351, 3.2889999999999997, 3.4330000000000003, 1.228, 2.43, 2.719, 12.494000000000002, 2.94, 2.34, 1.421, 10.530999999999999, 0.748, 1.5930000000000002, 1.818, 1.751, 2.345, 1.7, 2.399, 2.801, 8.588, 5.845, 2.9, 3.483, 6.263999999999999, 1.126, 19.079, 4.2780000000000005, 2.281, 14.687000000000001, 2.214, 4.013999999999999, 4.994, 9.754, 3.227, 2.3409999999999997, 4.238, 2.282, 3.4619999999999997, 1.4809999999999999, 2.2159999999999997, 126.219, 2.184, 8.267999999999999, 5.696000000000001, 3.532, 7.197, 3.102, 4.2780000000000005, 2.6889999999999996, 2.0269999999999997, 10.443, 4.129, 17.656, 2.439, 4.6819999999999995, 4.545, 1.048, 6.8389999999999995, 6.2379999999999995, 2.524, 1.854, 19.82, 9.45, 2.331, 4.886, 4.338, 4.457, 2.681, 10.227, 1.261, 9.83, 1.472, 1.9680000000000002, 1.5, 0.831, 2.978, 11.78, 1.96, 3.0780000000000003, 4.2, 10.63, 3.992, 6.093999999999999, 1.5930000000000002, 1.251, 1.735, 4.129, 3.65, 1.008, 2.185, 1.75, 1.676, 15.155999999999999, 3.758, 3.0639999999999996, 4.742, 0.85, 2.08, 3.4730000000000003, 1.286, 1.251, 16.246, 2.227, 3.373, 6.65, 5.109, 6.727, 3.638, 2.412, 3.64, 2.213, 1.605, 20.389, 8.296, 2.384, 1.729, 5.106, 3.765, 2.238, 14.24, 2.0469999999999997, 2.549, 3.747, 1.125, 3.373, 3.95, 4.206, 3.535, 1.375, 5.247999999999999, 9.163, 1.7309999999999999, -3.677, 11.975999999999999, 12.909, 5.058, 2.333, 2.435, 1.538, 1.321, 2.181, 0.284, 1.193, 5.631, 2.489, 1.245, 4.204, 5.795, 3.7, 2.3369999999999997, 1.4069999999999998, 0.5920000000000001, 1.597, 5.516, 1.8090000000000002, 2.6, 1.98, 16.247, 1.735, 5.051, 6.58, 5.39, 2.273, 1.669, 1.265, 6.405, 2.559, 1.8519999999999999, 10.236, 1.615, 22.684, 1.1, 1.42, 2.041, 6.183, 2.997, 5.521, 2.861, 25.789, 3.682, 3.2939999999999996, 3.5060000000000002, 2.245, 1.494, 1.5119999999999998, 1.739, 2.927, 3.642, 2.55, 5.827000000000001, -22.611, 1.16, 0.531, 6.978, 9.201, 1.4169999999999998, 1.787, 1.399, 2.463, 2.131, 1.5030000000000001, 3.1830000000000003, 3.443, 1.5130000000000001, 2.918, 2.089, 4.8, 1.069, 8.568999999999999, 4.772, 22.432, 3.471, 4.301, 21.788, 4.539, 1.368, 5.521, 2.181, 2.799, 0.342, 5.901, 6.482, 23.07, 1.9069999999999998, 2.093, 4.562, 7.934, 2.7060000000000004, 0.397, 1.6380000000000001, 4.467, 2.762, 2.073, 3.555, 3.9, 13.825, 2.753, 3.83, 2.4730000000000003, 1.4809999999999999, 34.72, 1.89, 3.7689999999999997, 3.654, 9.398, 5.961, 1.6840000000000002, 3.313, 6.331, 12.001, 3.429, 10.751, 6.47, 1.245, 3.583, 3.362, 1.6769999999999998, 1.805, 5.936, 21.372, 4.078, 1.266, 5.739, 2.636, 5.822, 5.235, 5.579, 3.7260000000000004, 3.034, 14.809000000000001, 1.837, 2.496, 10.101, 14.633, 1.3769999999999998, 4.542, 8.656, 12.585, 100.59, 2.0269999999999997, 1.9509999999999998, 7.1739999999999995, 9.868, 3.5660000000000003, 3.035, 7.197, 14.489, 5.08, 2.043, 3.088, 1.25, 1.379, 9.003, 1.192, 4.289, 3.469, 2.605, 1.9880000000000002, 23.651, 2.03, 3.761, 6.2989999999999995, 0.998, 5.416, 10.912, 2.4730000000000003, 21.031999999999996, 9.853, 15.325999999999999, 5.268, 1.7530000000000001, 5.306, 3.628, 12.489, 1.348, 9.128, 4.215, 4.717, 1.6540000000000001, 3.0260000000000002, 2.1790000000000003, 1.246, 1.4580000000000002, 2.7230000000000003, 3.1439999999999997, 5.25, 6.348, 28.383000000000003, 7.082999999999999, 2.9560000000000004, 14.45, 2.414, 0.97, 1.3719999999999999, 14.762, 2.6919999999999997, 1.919, 3.951, 1.587, 14.808, 4.457, 1.216, 3.491, 7.266, 7.377000000000001, 15.277999999999999, 1.9269999999999998, 3.208, 2.6060000000000003, 1.879, 1.97, 3.8160000000000003, 6.23, 3.445, 2.679, 3.51, 1.216, 1.038, 1.079, 2.378, 1.9269999999999998, 4.033, 2.345, 3.1830000000000003, -311.384, 3.253, 1.141, 3.458, 1.845, 3.8760000000000003, 1.1740000000000002, 4.907, 1.6280000000000001, 14.382, 3.09], \"yaxis\": \"y\"}, {\"customdata\": [[\"ZS\", 101268000.0, 0.042443796], [\"ZNGA\", 404463000.0, 0.099425695], [\"ZM\", 188251000.0, 0.132249493], [\"YUMC\", 2029000000.0, 0.37243096600000003], [\"YNDX\", 51696000000.0, 26.25682717], [\"YELP\", 268823000.0, 0.79077865], [\"XRAY\", 1111500000.0, 1.345690595], [\"XOM\", 67173000000.0, 1.501262294], [\"XNCR\", 3516000.0, -0.34514449], [\"XLNX\", 723499000.0, 1.286747349], [\"WTS\", 400300000.0, 2.924913314], [\"WTRG\", 226042000.0, 0.511923665], [\"WST\", 470600000.0, 1.4380190480000001], [\"WSO\", 1072315000.0, 3.6282371330000003], [\"WMK\", 902392000.0, 1.176648031], [\"WLTW\", 2690000000.0, 3.5855199310000003], [\"WIRE\", 302252000.0, 1.8450098240000001], [\"WHD\", 140238000.0, 0.8179395509999999], [\"WERN\", 621787000.0, 1.3649214509999998], [\"WDR\", 270071000.0, 1.162517689], [\"WCC\", 2099452000.0, 2.576845949], [\"WBC\", 777400000.0, 2.583178443], [\"VSH\", 609577000.0, 0.584461576], [\"VRTX\", 1413265000.0, 1.734430156], [\"VNOM\", 92711000.0, 0.472491736], [\"VMW\", 3650000000.0, 2.65911997], [\"VLO\", 27879000000.0, 4.159232039], [\"VICR\", 63125000.0, 0.140307689], [\"VEEV\", 311508000.0, 0.26320662100000003], [\"VAR\", 828900000.0, 1.238757178], [\"V\", 6054000000.0, 1.967680506], [\"UVV\", 505049000.0, 4.310575252], [\"UTHR\", 311100000.0, 2.335844271], [\"USPH\", 122114000.0, 1.251276307], [\"USNA\", 271298000.0, 2.575422], [\"UPWK\", 78596000.0, -0.008418079], [\"UNH\", 60901000000.0, 6.549400701000001], [\"UNF\", 465398000.0, 2.7687989510000004], [\"UFS\", 1244000000.0, 2.79363232], [\"UFPI\", 998040000.0, 2.463112363], [\"TYL\", 288837000.0, 1.954348133], [\"TXN\", 3350000000.0, 1.876386481], [\"TWTR\", 1007341000.0, 0.357025328], [\"TTWO\", 930129000.0, 2.60983662], [\"TTEK\", 797623000.0, -0.330183552], [\"TTD\", 215944000.0, -0.621876534], [\"TRUP\", 105483000.0, 0.12968055], [\"TRS\", 26040000.0, 0.255260355], [\"TRIP\", 335000000.0, 0.43044090100000004], [\"TRI\", 1583000000.0, 0.707885988], [\"TREX\", 164772000.0, 0.983363676], [\"TR\", 135460000.0, 0.9519414420000001], [\"TNET\", 1018000000.0, 9.765204814], [\"TNDM\", 108398000.0, 0.32900759399999996], [\"THRM\", 230381000.0, 1.065875229], [\"TER\", 654650000.0, 1.290911858], [\"TEL\", 3168000000.0, 1.228792741], [\"TECH\", 184934000.0, 1.84765061], [\"TECD\", 10380809000.0, 5.095221732], [\"TDY\", 834200000.0, 4.603764239], [\"TDOC\", 156489000.0, 0.250364927], [\"TCMD\", 57063000.0, 0.004677207], [\"SYKE\", 425284000.0, 0.08922695], [\"SWKS\", 896100000.0, 2.338366793], [\"SWK\", 3714200000.0, 8.178970102000001], [\"STRA\", 263772000.0, 2.765325237], [\"STNE\", 782854000.0, -2.392106459], [\"STMP\", 160902000.0, 2.139493776], [\"STE\", 774261000.0, 1.5489640830000002], [\"STAA\", 38883000.0, 0.219527787], [\"SSYS\", 160157000.0, -0.06362197900000001], [\"SSTK\", 166371000.0, 0.722742815], [\"SSD\", 262510000.0, 1.272965066], [\"SQ\", 1313429000.0, 0.142235594], [\"SPXC\", 444600000.0, 1.78501946], [\"SPSC\", 72733000.0, 0.598003259], [\"SPOT\", 1855000000.0, 1.12243945], [\"SONO\", 562083000.0, 1.09612345], [\"SNPS\", 834381000.0, 0.065234052], [\"SNDR\", 1156300000.0, 0.9372308020000001], [\"SNA\", 1039100000.0, 3.5863827510000004], [\"SMTC\", 138001000.0, 0.683131048], [\"SMP\", 241252000.0, 1.506203091], [\"SMCI\", 870943000.0, 1.629081374], [\"SLAB\", 219438000.0, 0.730196287], [\"SKY\", 342239000.0, 0.369167023], [\"SKX\", 1330732000.0, 0.493053678], [\"SHOO\", 433935000.0, 1.7910559430000002], [\"SHO\", 272952000.0, 0.35707844899999996], [\"SGEN\", 289804000.0, -0.06914814400000001], [\"SFIX\", 451784000.0, 0.105360755], [\"SEIC\", 423225000.0, 1.08872019], [\"SEDG\", 418223000.0, 1.708804604], [\"SCWX\", 141986000.0, 0.529207503], [\"SCPL\", 112900000.0, 0.258974986], [\"SCL\", 444990000.0, 3.8115416410000003], [\"SCI\", 850760000.0, 0.8565245640000001], [\"SCHL\", 597200000.0, 3.2239956089999997], [\"SANM\", 1840171000.0, 0.302542623], [\"SAM\", 301300000.0, 2.9550428139999996], [\"SAIA\", 443065000.0, 2.5284534880000002], [\"SAFM\", 823078000.0, -2.962732442], [\"RVLV\", 147556000.0, 0.20652687399999997], [\"RTN\", 7842000000.0, 10.02229971], [\"RTLR\", 125308000.0, 0.35857139899999996], [\"RS\", 2447800000.0, 5.211766573], [\"ROLL\", 177019000.0, 1.8615915459999999], [\"ROG\", 193768000.0, 2.45799505], [\"ROCK\", 258131000.0, 1.779878918], [\"RMR\", 159892000.0, 1.339197861], [\"RHI\", 1537385000.0, 0.6944475370000001], [\"RGLD\", 123643000.0, 1.193089263], [\"RGEN\", 69474000.0, 0.33950039200000004], [\"REGN\", 2169500000.0, 7.171497072], [\"REGI\", 1018169000.0, 0.78125409], [\"RAVN\", 85761000.0, 0.217950113], [\"QRVO\", 869073000.0, 2.588536686], [\"QLYS\", 84664000.0, 0.868318375], [\"QDEL\", 152178000.0, 1.145775518], [\"PYPL\", 4961000000.0, 1.076484524], [\"PXD\", 2643000000.0, 4.998595594], [\"PWR\", 3112800000.0, 4.404963254], [\"PUMP\", 434793000.0, 1.4704370759999998], [\"PSX\", 29612000000.0, 3.812245119], [\"PSN\", 1037388000.0, 0.902779497], [\"PSMT\", 811941000.0, 0.5273660370000001], [\"PRLB\", 111889000.0, 1.2060418609999999], [\"PRFT\", 145159000.0, 1.23509385], [\"PRDO\", 158451000.0, -0.174857493], [\"POWI\", 114457000.0, 6.191180951000001], [\"PNR\", 755200000.0, 0.525304451], [\"PLXS\", 852409000.0, 2.560493949], [\"PLUS\", 428991000.0, -1.5039808430000001], [\"PING\", 68235000.0, -0.033642042999999996], [\"PINC\", 319606000.0, 0.98160228], [\"PGNY\", 65122000.0, -0.065309184], [\"PEN\", 145263000.0, 0.136534345], [\"PEGA\", 276542000.0, -0.361805583], [\"PDD\", 10792726000.0, 2.06434231], [\"PDCO\", 1456155000.0, -1.612024655], [\"PD\", 45926000.0, 0.02333288], [\"PCTY\", 132374000.0, 0.519743731], [\"PAYX\", 990700000.0, 0.753748792], [\"PAYC\", 193409000.0, 0.819260478], [\"PAAS\", 404379000.0, 0.617685652], [\"OSK\", 1695100000.0, -2.202561807], [\"OPK\", 224343000.0, -0.069166085], [\"ONTO\", 98051000.0, 0.38514212299999995], [\"OMCL\", 248292000.0, 0.8302713009999999], [\"OLLI\", 422431000.0, 1.430553187], [\"OLED\", 101729000.0, 1.1922148540000002], [\"ODFL\", 1009206000.0, 1.9741298980000002], [\"NYT\", 508363000.0, 0.41133803399999996], [\"NWSA\", 2479000000.0, 0.280522789], [\"NVT\", 566700000.0, 1.057047356], [\"NVO\", 32417000000.0, 2.108163265], [\"NVDA\", 3105000000.0, 2.39379085], [\"NUS\", 583359000.0, 0.898388891], [\"NUE\", 5131746000.0, 2.272969322], [\"NTUS\", 131416000.0, 0.356318209], [\"NTES\", 15734804000.0, 1.7226212230000002], [\"NTCT\", 260024000.0, 0.9264538929999999], [\"NTAP\", 1404000000.0, 1.840279464], [\"NSIT\", 2297156000.0, -1.154951005], [\"NRC\", 32623000.0, 0.47925265], [\"NOW\", 951774000.0, 2.23335631], [\"NLOK\", 618000000.0, 0.640444578], [\"NKE\", 10326000000.0, 0.584221285], [\"NHC\", 253880000.0, 1.646268104], [\"NEOG\", 107803000.0, 0.31957382300000003], [\"NEO\", 106868000.0, 0.032171988], [\"NEM\", 2967000000.0, 1.469801352], [\"NATI\", 367468000.0, 0.572718733], [\"MYGN\", 195100000.0, -0.025541402], [\"MXIM\", 551070000.0, 0.877519743], [\"MU\", 5144000000.0, 1.816538101], [\"MTRN\", 280161000.0, 1.9451083999999998], [\"MSTR\", 133531000.0, 0.83217437], [\"MSM\", 823601000.0, 1.5408204730000001], [\"MSFT\", 36906000000.0, 1.399957023], [\"MSA\", 375255000.0, 1.9802833359999998], [\"MRVL\", 717671000.0, 0.08325331700000001], [\"MRTN\", 217185000.0, 0.613838722], [\"MRCY\", 193913000.0, 0.577381417], [\"MPWR\", 166738000.0, 1.403945763], [\"MOMO\", 4687898000.0, 4.0473017460000005], [\"MOH\", 4274000000.0, 0.462519936], [\"MNST\", 1017206000.0, 0.544361113], [\"MMS\", 818229000.0, 1.36398384], [\"MMI\", 237908000.0, 0.8008742459999999], [\"MLNX\", 379784000.0, 2.6624731219999997], [\"MLHR\", 674200000.0, 1.4849734490000002], [\"MHK\", 2424512000.0, 6.152768061000001], [\"MGY\", 229710000.0, 0.6137630279999999], [\"MGLN\", 1802657000.0, -1.167886231], [\"MELI\", 674271000.0, 1.5746141790000001], [\"MEI\", 285900000.0, 0.399013391], [\"MEDP\", 229886000.0, 1.5803322519999998], [\"MED\", 170632000.0, 1.648849615], [\"MCK\", 59172000000.0, -0.6715212290000001], [\"MBUU\", 180112000.0, 1.211625822], [\"MASI\", 247510000.0, 1.309878334], [\"MANT\", 604413000.0, -0.288091634], [\"MANH\", 152929000.0, 0.540869395], [\"MAN\", 5196600000.0, 5.410308741000001], [\"MA\", 4414000000.0, 2.953818262], [\"LZB\", 475856000.0, 1.4241668809999999], [\"LUV\", 5730000000.0, 1.565717993], [\"LULU\", 1397491000.0, 4.65570913], [\"LTHM\", 78400000.0, -0.046581446], [\"LSTR\", 994879000.0, 1.194184676], [\"LPX\", 537000000.0, 0.859915324], [\"LOPE\", 213247000.0, 2.3060619719999997], [\"LOGM\", 322680000.0, 1.525785636], [\"LOGI\", 902687000.0, 1.084803153], [\"LNN\", 109393000.0, 0.142865897], [\"LMNX\", 90501000.0, 0.117841849], [\"LIVN\", 287590000.0, 0.059214302999999996], [\"LIN\", 7080000000.0, 4.047090885], [\"LHX\", 4832000000.0, 3.881217571], [\"LHCG\", 531315000.0, 0.814701077], [\"LFUS\", 338523000.0, 3.467648948], [\"LEVI\", 1568608000.0, 0.526209526], [\"LEA\", 4817600000.0, 8.020508423999999], [\"LBRDA\", 3941000.0, -0.05690412], [\"LANC\", 355117000.0, 2.375259232], [\"KRO\", 372700000.0, 0.315602781], [\"KNX\", 1196810000.0, 1.331309465], [\"KN\", 233900000.0, 0.800696215], [\"KLIC\", 144297000.0, 0.39709311], [\"KFY\", 527979000.0, 2.919309249], [\"KEYS\", 1095000000.0, 1.045383627], [\"KEM\", 294741000.0, 0.672454255], [\"KAMN\", 237792000.0, -0.42334527200000005], [\"JNPR\", 1208100000.0, 0.28592167399999996], [\"JNJ\", 20747000000.0, 2.430968919], [\"JLL\", 5400500000.0, 14.26800755], [\"JKHY\", 419119000.0, 1.195278146], [\"JJSF\", 282897000.0, 1.776275815], [\"JHG\", 601200000.0, 1.104078828], [\"JD\", 170684000000.0, 0.001272886], [\"JCI\", 5576000000.0, 0.410930619], [\"JBL\", 7505698000.0, 0.137196961], [\"JBHT\", 2450324000.0, 1.508305164], [\"JAZZ\", 581740000.0, 1.5519493930000001], [\"J\", 3360049000.0, -1.032602233], [\"ITT\", 719100000.0, 1.550741163], [\"ISRG\", 1277700000.0, 4.7822379360000005], [\"IRBT\", 426778000.0, 5.71729359], [\"IPGP\", 306627000.0, 2.448443419], [\"IPAR\", 177802000.0, 2.216747422], [\"IOSP\", 390700000.0, 2.3840731180000003], [\"IONS\", 493681000.0, 1.975867841], [\"INTU\", 1696000000.0, 1.217824], [\"INTC\", 20209000000.0, 2.273103448], [\"INT\", 9358100000.0, 0.919068608], [\"INCY\", 579389000.0, 0.611047613], [\"IMO\", 8122000000.0, 1.359987812], [\"ILMN\", 952000000.0, 3.013605442], [\"IEX\", 605997000.0, 1.987381861], [\"IDCC\", 102161000.0, 0.560724357], [\"ICUI\", 315523000.0, 2.363624675], [\"ICFI\", 396636000.0, 4.522651987], [\"ICE\", 1667000000.0, 1.3953500630000002], [\"HUM\", 16295000000.0, 3.866308927], [\"HUBG\", 900681000.0, 3.6960570460000004], [\"HTLD\", 167226000.0, 0.45102163799999995], [\"HSIC\", 2668941000.0, 1.993728383], [\"HRL\", 2384434000.0, 0.352356561], [\"HPQ\", 14618000000.0, 0.884263052], [\"HP\", 614657000.0, 1.030747006], [\"HNI\", 616079000.0, 2.422921937], [\"HMSY\", 163445000.0, 0.230573805], [\"HLX\", 170749000.0, 0.536202445], [\"HII\", 2412000000.0, 13.83851002], [\"HFC\", 4381888000.0, 0.8501594720000001], [\"HELE\", 474737000.0, 2.511803274], [\"HEI\", 506275000.0, 0.603229401], [\"HCSG\", 446960000.0, 0.18023718600000002], [\"HAIN\", 506784000.0, 0.221098663], [\"H\", 1275000000.0, 1.187391556], [\"GWRE\", 173458000.0, 0.23582071899999998], [\"GWPH\", 109076000.0, -0.042988679], [\"GRMN\", 1102232000.0, 1.147576393], [\"GPN\", 1987760000.0, 0.139375399], [\"GOOGL\", 46075000000.0, 20.91817101], [\"GOLF\", 368271000.0, 0.523540818], [\"GNTX\", 443835638.0, 0.48237134299999995], [\"GMED\", 211667000.0, 0.546317353], [\"GLUU\", 112879000.0, 0.17104528800000002], [\"GLIBA\", 232387000.0, 0.06143808], [\"GKOS\", 65849000.0, -0.11349168300000001], [\"GHC\", 763478000.0, 17.47708955], [\"GGG\", 412292000.0, 0.715031778], [\"GDOT\", 249307000.0, -0.286368915], [\"FWRD\", 381504000.0, 1.465562927], [\"FTNT\", 614400000.0, 1.113230667], [\"FSS\", 314400000.0, 0.735436381], [\"FSLR\", 1399377000.0, 7.41596044], [\"FOXF\", 185881000.0, 1.139695711], [\"FORM\", 178629000.0, 0.497622554], [\"FN\", 426217000.0, 1.3502547169999999], [\"FLWS\", 605642000.0, 4.256577158], [\"FLIR\", 489044000.0, 0.6973153879999999], [\"FIZZ\", 222814000.0, 0.81730868], [\"FIX\", 719584000.0, 1.153699537], [\"FHI\", 358025000.0, 1.212179865], [\"FGEN\", 7974000.0, -0.5163319989999999], [\"FFIV\", 569305000.0, 2.368856865], [\"FELE\", 320107000.0, 1.886258999], [\"FDP\", 1025200000.0, 0.8111089140000001], [\"FCN\", 602218000.0, 3.747459895], [\"FCAU\", 29643000000.0, 2.229072595], [\"FB\", 21082000000.0, 3.1850656789999996], [\"FAST\", 1276900000.0, 0.440083765], [\"FARO\", 104141000.0, 0.517234831], [\"EXPO\", 110114000.0, 1.075963348], [\"EXPD\", 2044941000.0, 0.970315866], [\"EXEL\", 240310000.0, 0.5200688529999999], [\"EW\", 1174100000.0, 0.638314831], [\"EVR\", 660127000.0, 10.58542755], [\"EVER\", 73799000.0, 0.151351034], [\"ESE\", 171728000.0, 0.104190269], [\"ERIE\", 596740000.0, 2.742078053], [\"EPAY\", 111691000.0, 0.5453350220000001], [\"EPAM\", 632775000.0, 2.2658469340000003], [\"EOG\", 4320246000.0, 3.1064206530000003], [\"ENPH\", 210032000.0, 0.8356445020000001], [\"EME\", 2403940000.0, 3.183776504], [\"EHTH\", 301748000.0, -2.458113832], [\"EGOV\", 87073000.0, 0.199329228], [\"EB\", 82665000.0, -0.851066028], [\"EA\", 1593000000.0, 3.781094972], [\"DRQ\", 108453000.0, 0.22260546], [\"DORM\", 239567000.0, 1.087783911], [\"DNOW\", 639000000.0, 0.68014844], [\"DLB\", 291877000.0, 0.31096454100000004], [\"DIOD\", 301157000.0, 1.020082121], [\"DECK\", 938735000.0, 16.259633400000002], [\"DDS\", 1962772000.0, 13.84928846], [\"DDD\", 164570000.0, 0.181530582], [\"DAVA\", 85900000.0, 0.114669251], [\"CYBR\", 129664000.0, 1.44177876], [\"CY\", 559568000.0, 0.632092856], [\"CXO\", 1246000000.0, 3.825324539], [\"CW\", 655771000.0, 6.1464884379999996], [\"CVX\", 36350000000.0, 2.9917410789999996], [\"CVLT\", 176351000.0, 0.019448108999999998], [\"CVGW\", 273348000.0, -0.370624636], [\"CVE\", 4838000000.0, 0.6022185179999999], [\"CVCO\", 273722000.0, 2.70722234], [\"CTXS\", 809823000.0, 1.582331823], [\"CTVA\", 2983000000.0, 4.506943387], [\"CTSH\", 4284000000.0, 1.713036063], [\"CTB\", 750211000.0, 6.07775653], [\"CSWI\", 83716000.0, 1.515361844], [\"CSII\", 68334000.0, 0.11193111900000001], [\"CSGP\", 374726000.0, 2.94153325], [\"CSCO\", 12005000000.0, 0.895748421], [\"CRWD\", 152109000.0, 0.321618339], [\"CRVL\", 148092000.0, 1.086321771], [\"CRUS\", 374668000.0, 2.226876755], [\"CRSP\", 77016000.0, 0.061154720999999995], [\"CRS\", 573000000.0, 0.458926065], [\"CRON\", 6932739.0, -0.149079881], [\"CRM\", 4851000000.0, 1.839909808], [\"CR\", 837500000.0, 3.7163077689999997], [\"CPRT\", 575140000.0, 0.621464341], [\"COST\", 37040000000.0, 4.7810002780000005], [\"CORT\", 87895000.0, 0.423991073], [\"COP\", 8140000000.0, 2.717657115], [\"COLM\", 954867000.0, 7.161849087999999], [\"COHR\", 320771000.0, 2.485982526], [\"COG\", 461368000.0, 0.6446778470000001], [\"CODI\", 386999000.0, 0.884440735], [\"CNXN\", 716627000.0, -0.129919662], [\"CNNE\", 240000000.0, -0.6259711139999999], [\"CMI\", 5578000000.0, 5.46984532], [\"CLDR\", 211720000.0, -0.032791053], [\"CIEN\", 832912000.0, 0.258117163], [\"CHE\", 522324000.0, 3.972951151], [\"CGNX\", 169769000.0, 0.397379025], [\"CERN\", 1442232000.0, 1.393118778], [\"CDNS\", 599555000.0, 0.567711953], [\"CDAY\", 221800000.0, 0.180704372], [\"CBZ\", 203138000.0, 0.88821935], [\"CBRE\", 7119407000.0, 3.238457061], [\"CBPO\", 102157856.0, 1.852442339], [\"CBOE\", 598600000.0, 2.144121207], [\"CARG\", 158153000.0, 0.183699327], [\"CALM\", 311522000.0, -0.279177034], [\"BYND\", 98479000.0, -0.465785264], [\"BWA\", 2559000000.0, 0.891071122], [\"BSM\", 103028000.0, 0.482211055], [\"BRO\", 578989000.0, 0.820099562], [\"BRKS\", 210500000.0, 0.356890772], [\"BRC\", 276665000.0, 0.267498584], [\"BMRN\", 454443000.0, 0.31923676100000004], [\"BMI\", 107556000.0, 0.672418562], [\"BKR\", 6348000000.0, 1.320942674], [\"BIO\", 624428000.0, 5.338327825], [\"BIIB\", 3671300000.0, 10.86333185], [\"BHE\", 508444000.0, 0.970330562], [\"BEP\", 726000000.0, 1.1575808429999999], [\"BCPC\", 166527000.0, 1.024811683], [\"BB\", 267000000.0, 0.071124274], [\"BAND\", 62003000.0, 0.09479892699999999], [\"BABA\", 161456000000.0, 4.631511698], [\"BA\", 17911000000.0, -3.944624347], [\"AZZ\", 291139000.0, 1.293172376], [\"AYI\", 834700000.0, 3.248195522], [\"AVX\", 344441000.0, 0.33201303], [\"AVT\", 4534806000.0, 1.471480561], [\"AVNS\", 189800000.0, -0.060506327], [\"AVLR\", 107627000.0, 0.22036208899999998], [\"AVEO\", 764000.0, -0.45855384899999996], [\"AVAV\", 61891000.0, 0.297908149], [\"ATVI\", 1986000000.0, 1.194907865], [\"ATRI\", 34466000.0, 3.3965395189999996], [\"ATRC\", 61321000.0, -0.089227802], [\"ATR\", 671333000.0, 2.097327175], [\"ASTE\", 283224000.0, 1.253373717], [\"ASML\", 4036400000.0, 8.521299813999999], [\"ASH\", 533000000.0, -0.8474047659999999], [\"ARWR\", 29454579.0, -0.245856682], [\"ARW\", 7338190000.0, 6.0750211], [\"ARNA\", 3002000.0, -1.225932948], [\"APD\", 2254700000.0, 3.025850036], [\"AOS\", 750900000.0, 1.080239557], [\"ANSS\", 486228000.0, 1.65638972], [\"ANGI\", 321508000.0, 0.06379672900000001], [\"ANET\", 552546000.0, 4.282265178], [\"AMRN\", 143277000.0, -0.024897823], [\"AMK\", 111008000.0, 0.311008287], [\"AMED\", 500678000.0, 2.332022963], [\"AMD\", 2127000000.0, 0.39690110799999995], [\"AMAT\", 4162000000.0, 1.0783301440000002], [\"ALXN\", 1384300000.0, 2.336745381], [\"ALRM\", 140488000.0, 0.478975941], [\"ALKS\", 412730000.0, 0.267073387], [\"ALGN\", 649787000.0, 2.768288433], [\"AKCA\", 277479000.0, 2.2229076219999997], [\"AIR\", 560900000.0, 0.414637374], [\"AGCO\", 2513600000.0, 10.27642933], [\"ADP\", 3669500000.0, 1.61336511], [\"ADM\", 16329000000.0, -3.256771275], [\"ADBE\", 2991945000.0, 2.843337785], [\"ACN\", 11358958000.0, 1.200098233], [\"ACIA\", 128673000.0, 0.30374391100000003], [\"ACA\", 446900000.0, 2.88901627], [\"ABMD\", 221584000.0, 1.980728293], [\"ABC\", 47864742000.0, 0.693514394], [\"ABB\", 7068000000.0, 0.896357269], [\"AAXN\", 171851000.0, 0.771962505], [\"AAON\", 122574000.0, 0.524822832], [\"AA\", 2436000000.0, 1.411843949], [\"A\", 1357000000.0, -0.19021004100000002]], \"hovertemplate\": \"label=2<br>TOT_DEBT_TO_TOTAL_ASSET=%{x}<br>PX_TO_BOOK_RATIO=%{y}<br>ticker=%{customdata[0]}<br>revenue=%{customdata[1]}<br>CASH_FLOW_PER_SHARE=%{customdata[2]}<extra></extra>\", \"legendgroup\": \"2\", \"marker\": {\"color\": \"#00cc96\", \"symbol\": \"circle\"}, \"mode\": \"markers\", \"name\": \"2\", \"showlegend\": true, \"type\": \"scattergl\", \"x\": [0.050917692, 0.195734923, 0.050232392, 0.263165468, 0.037238172, 0.21692631, 0.180741378, 0.12939985699999998, 0.01601492, 0.251655046, 0.179444025, 0.33077290800000003, 0.140642351, 0.14920852, 0.130563954, 0.190396884, 0.0, 0.045109729, 0.13993425, 0.07496162099999999, 0.044749369000000004, 0.22355155899999998, 0.191635411, 0.06474463700000001, 0.210643496, 0.246976497, 0.179563345, 0.011859908, 0.024134411, 0.142831465, 0.22315828899999998, 0.229294947, 0.217202433, 0.24575952399999998, 0.0, 0.08842018, 0.23393084100000003, 0.021488191, 0.213134815, 0.129056877, 0.010589912, 0.322066822, 0.25886635399999997, 0.035967459, 0.245741966, 0.109587155, 0.10142301699999999, 0.270721892, 0.0, 0.213298641, 0.057817874000000005, 0.010049455, 0.165938865, 0.06250345, 0.126426684, 0.165055504, 0.19888866600000002, 0.232205523, 0.109357205, 0.21177780699999998, 0.290364462, 0.10930992699999999, 0.205350053, 0.029635885, 0.170746628, 0.059148612, 0.154817222, 0.07644466, 0.23619114800000002, 0.046112199000000006, 0.01573413, 0.075039016, 0.025498327, 0.23618458899999997, 0.184352307, 0.053343465, 0.12143693900000001, 0.104379189, 0.119190554, 0.09871315, 0.20853605, 0.185040758, 0.093588465, 0.012866352, 0.21987422199999998, 0.09897471, 0.261263211, 0.134357645, 0.26443758, 0.030648734, 0.18681351699999998, 0.022128225, 0.030816446, 0.023538426, 0.013520541, 0.159403736, 0.26199008100000004, 0.047054190999999995, 0.099553886, 0.056076664000000005, 0.170721336, 0.11541623300000001, 0.0, 0.158132269, 0.259361901, 0.220203908, 0.041293751000000004, 0.096608416, 0.019979683999999998, 0.048880348, 0.118467185, 0.050836597000000004, 0.18806982, 0.048219544, 0.126784175, 0.000557957, 0.241407359, 0.07649110099999999, 0.12328913, 0.096721407, 0.13609901900000002, 0.198766588, 0.093260201, 0.20032356899999998, 0.145773147, 0.17376424699999998, 0.017671936, 0.225315851, 0.10711078800000001, 0.0, 0.248604904, 0.14048501900000002, 0.00235039, 0.058364297, 0.042736268, 0.0, 0.12358744, 0.053421364000000006, 0.08743084300000001, 0.218415723, 0.0, 0.033110072000000004, 0.108944229, 0.013121869, 0.09134519, 0.14743889699999999, 0.112819105, 0.0, 0.08113168, 0.221829078, 0.0, 0.011262478999999999, 0.0, 0.156246161, 0.229424822, 0.035689265, 0.147386659, 0.26436428100000003, 0.238925527, 0.116600565, 0.154289641, 0.169123015, 0.24575704899999998, 0.205679077, 0.308741022, 0.187776363, 0.247587211, 0.260206, 0.18034303100000001, 0.0, 0.187278191, 0.170961125, 0.032738882999999996, 0.187923715, 0.273876436, 0.12409112, 0.044147208, 0.112837958, 0.198941347, 0.271505053, 0.224767243, 0.129254794, 0.000814727, 0.036530655, 0.0, 0.22887795800000002, 0.21894798899999998, 0.0, 0.107676635, 0.12338054300000001, 0.0, 0.251916933, 0.216632205, 0.11246086, 0.22075608300000002, 0.212774728, 0.222178897, 0.039553099, 0.069873056, 0.197049595, 0.197674345, 0.0, 0.080029356, 0.08707447900000001, 0.152876255, 0.291660966, 0.045145230999999994, 0.154315505, 0.22550477600000002, 0.2002094, 0.116775734, 0.209264305, 0.085193715, 0.079653589, 0.0, 0.26828976600000004, 0.031600301000000004, 0.159114967, 0.161132407, 0.201768573, 0.16411616199999998, 0.27201240000000004, 0.23966583600000002, 0.18350722, 0.046746737000000003, 0.020030436000000002, 0.237918405, 0.132225602, 0.11555663, 0.08818584, 0.23425884100000002, 0.285338401, 0.22075404399999998, 0.13921982800000002, 0.208425269, 0.175593427, 0.19878443, 0.0, 0.064868726, 0.041486807, 0.072263046, 0.171288782, 0.20266690899999998, 0.236844193, 0.31747891300000003, 0.132357788, 0.021058012999999997, 0.0, 0.059655520999999996, 0.015275216000000001, 0.06400694, 0.063044662, 0.24358141600000002, 0.10401432599999999, 0.21242418899999999, 0.104932915, 0.014848472, 0.12302368, 0.250956807, 0.22267215399999998, 0.275890432, 0.0, 0.22636339800000002, 0.085720635, 0.202620898, 0.162473501, 0.0, 0.139607593, 0.038266204, 0.15336745, 0.082060118, 0.178832257, 0.204842816, 0.235474911, 0.206229555, 0.24040388199999999, 0.159683299, 0.18365314100000002, 0.029960199, 0.176361794, 0.243317096, 0.191646073, 0.030856368, 0.007984369, 0.21557336100000002, 0.053524894, 0.221416153, 0.0, 0.0, 0.09778518800000001, 0.281873759, 0.08874633400000001, 0.18251625800000001, 0.115946602, 0.027875022000000003, 0.227888802, 0.0, 0.207722008, 0.062761644, 0.11160054900000001, 0.112068124, 0.049892474000000006, 0.205746653, 0.215730408, 0.080577285, 0.198557885, 0.11760776199999999, 0.059601327999999995, 0.08832805199999999, 0.10450615699999999, 0.215618377, 0.162401703, 0.13482722, 0.07740523, 0.15542514300000002, 0.01370876, 0.042778717, 0.10610138300000001, 0.025460977000000003, 0.10462230900000001, 0.25076030899999996, 0.0, 0.115962975, 0.048516545999999994, 0.174100738, 0.11739731800000001, 0.149356675, 0.147980365, 0.118070959, 0.052672882000000004, 0.03076783, 0.031282835, 0.089149718, 0.004239307, 0.028557102999999997, 0.021370207000000002, 0.02543442, 0.06761564099999999, 0.146772502, 0.179275197, 0.114815586, 0.15827557, 0.34523963700000004, 0.204274385, 0.16444282699999999, 0.240621732, 0.11360496699999999, 0.019654103, 0.216021281, 0.241228684, 0.030202855, 0.216979735, 0.002877562, 0.10398667, 0.138127521, 0.028994415, 0.09323704699999999, 0.042395068, 0.176862849, 0.0, 0.20751279399999997, 0.08974349599999999, 0.049251372, 0.19670349, 0.003399759, 0.106447049, 0.224111038, 0.170333972, 0.179833175, 0.008394129, 0.211234648, 0.148563016, 0.18736439800000002, 0.271887316, 0.208492345, 0.011020606, 0.17603479600000002, 0.119927041, 0.09196709300000001, 0.198320128, 0.101930353, 0.009530021, 0.150607531, 0.10306696800000001, 0.11765285800000001, 0.189453117, 0.24517756, 0.0, 0.178787227, 0.176816395, 0.0026725940000000004, 0.069056012, 0.20202020199999998, 0.254981854, 0.226057781, 0.045717075, 0.083501536, 0.180834317, 0.010618806000000001, 0.124079522, 0.08130171900000001, 0.23380443, 0.12252865800000001, 0.058838363, 0.22140259999999998, 0.188090979, 0.072474635, 0.09275290900000001, 0.204318054, 0.223054015, 0.12779862, 0.0, 0.23260890899999997, 0.18081796, 0.083066693, 0.311581028, 0.017240824, 0.134794659, 0.0, 0.13301068300000002, 0.046467565999999995, 0.002534672, 0.137355499, 0.252252252, 0.025253335, 0.181183889, 0.042096952, 0.17002177899999998, 0.105526488, 0.121990656, 0.127859385, 0.019836618, 0.067527083, 0.102351635, 0.258231076, 0.113636364, 0.268831892, 0.151944188, 0.19340658600000002, 0.161152939, 0.01738032, 0.023776387000000003, 0.15961023400000002, 0.192507442, 0.048202790999999995, 0.20185467199999998, 0.199306425, 0.10195955400000001, 0.021798826, 0.04660152, 0.0, 0.10417148400000001, 0.218638848, 0.0, 0.0, 0.123026451, 0.25913061800000003], \"xaxis\": \"x\", \"y\": [22.487, 2.931, 25.289, 5.865, 4.544, 3.239, 2.472, 1.541, 3.2880000000000003, 9.371, 3.4560000000000004, 2.611, 7.07, 4.782, 1.0190000000000001, 2.533, 1.544, 7.872999999999999, 2.267, 1.454, 1.0959999999999999, 5.182, 2.0709999999999997, 9.252, 4.062, 8.658999999999999, 1.764, 9.183, 13.079, 7.131, 10.492, 1.081, 1.39, 6.08, 4.923, 4.607, 4.834, 2.33, 0.922, 2.405, 7.233, 13.464, 2.859, 5.777, 4.595, 19.142, 9.572000000000001, 2.029, 3.647, 3.7560000000000002, 11.673, 2.935, 8.323, 18.066, 3.0669999999999997, 7.72, 3.0260000000000002, 6.322, 1.635, 4.673, 5.976, 11.409, 1.7530000000000001, 4.883, 2.76, 2.386, 7.41, 2.142, 3.82, 9.592, 0.9420000000000001, 4.633, 3.987, 15.674000000000001, 4.471, 5.441, 11.817, 4.431, 5.352, 1.7280000000000002, 2.722, 5.14, 2.37, 1.2009999999999998, 4.532, 3.7969999999999997, 2.925, 4.3660000000000005, 1.216, 10.437000000000001, 5.308, 5.6579999999999995, 5.695, 1.916, 28.684, 2.585, 4.614, 1.023, 1.4240000000000002, 6.196000000000001, 2.963, 2.235, 9.67, 5.006, 3.645, 1.5330000000000001, 3.6860000000000004, 2.481, 2.415, 4.8839999999999995, 6.41, 3.6180000000000003, 4.544, 3.718, 0.9279999999999999, 3.5639999999999996, 3.128, 8.355, 5.582000000000001, 7.522, 2.069, 1.43, 1.165, 1.9869999999999999, 2.5140000000000002, 2.7939999999999996, 4.638999999999999, 3.943, 3.0010000000000003, 4.0169999999999995, 3.946, 2.4459999999999997, 2.411, 2.7239999999999998, -10.677, 20.189, 11.804, 11.722999999999999, 12.485, 1.521, 5.849, 19.5, 11.997, 29.36, 2.016, 2.403, 0.606, 1.4469999999999998, 4.055, 3.1889999999999996, 11.964, 4.917, 4.541, 0.9279999999999999, 1.669, 16.497, 12.561, 2.6010000000000004, 1.6480000000000001, 2.7030000000000003, 4.468999999999999, 0.9179999999999999, 48.405, 2.136, 49.958, 25.022, 1.855, 15.607000000000001, 1.7009999999999998, 5.051, 6.019, 1.663, 4.717, 1.88, 9.646, 1.4609999999999999, 1.986, 2.8789999999999996, 2.6839999999999997, 10.925999999999998, 6.744, 1.858, 1.9669999999999999, 2.964, 9.998, 3.537, 4.341, 8.192, 3.6639999999999997, 2.945, 3.928, 3.341, 1.203, 1.835, 1.37, 14.337, 1.5719999999999998, 4.17, 12.140999999999998, 4.037, 3.718, 7.321000000000001, 2.149, 35.818000000000005, 2.0869999999999997, 51.118, 2.115, 2.889, 15.124, 2.294, 6.191, 3.516, 3.2, 1.527, 6.068, 3.565, 2.245, 2.638, 2.33, 2.06, 3.071, 3.127, 4.2669999999999995, 1.9069999999999998, 2.12, 5.694, 1.899, 1.079, 1.5030000000000001, 2.199, 1.775, 5.604, 2.286, 2.231, 1.788, 6.45, 1.7530000000000001, 7.537999999999999, 4.186, 0.938, 4.38, 1.625, 3.23, 5.49, 2.715, 1.9809999999999999, 3.1239999999999997, 8.267999999999999, 2.263, 3.202, 4.888, 2.759, 5.776, 19.582, 3.372, 1.5019999999999998, 7.2379999999999995, 1.0759999999999998, 10.589, 5.78, 2.228, 2.8089999999999997, 2.412, 2.987, 4.032, 1.624, 2.522, 3.259, 4.146, -18.961, 1.239, 2.74, 3.05, 0.843, 6.462000000000001, 1.369, 3.497, 9.258, 3.9160000000000004, 1.78, 2.326, 5.832999999999999, 4.452, 4.198, 1.97, 4.586, 2.66, 3.783, 4.1739999999999995, 4.343, 1.207, 2.988, 1.023, 8.491, 1.294, 3.4139999999999997, 13.812999999999999, 3.0410000000000004, 1.157, 6.367000000000001, 3.075, 2.574, 2.305, 3.733, 5.051, 3.1239999999999997, 3.165, 7.25, 4.4, 3.3360000000000003, 0.982, 2.7960000000000003, 0.898, 5.792000000000001, 7.95, 2.64, 10.425999999999998, 6.053, 3.175, 11.729000000000001, 3.36, 17.343, 2.625, 6.766, 5.952000000000001, 7.309, 2.252, 11.748, 2.356, 4.21, 6.086, 3.998, 4.338, 1.556, 3.1830000000000003, 1.069, 2.935, 2.6, 4.204, 0.924, 1.984, 18.031, 6.881, 4.1339999999999995, 0.99, 3.39, 1.58, 4.886, 4.696000000000001, 0.851, 2.977, 17.24, 0.91, 3.0810000000000004, 1.141, 3.955, 11.935, 6.436, 5.832000000000001, 16.92, 8.259, 3.824, 3.5789999999999997, 1.482, 1.507, 4.772, 3.516, 11.1, 8.297, 3.725, 2.04, 3.658, 3.0660000000000003, 3.301, 1.335, 2.188, 1.8, 3.6519999999999997, 2.0540000000000003, 2.8560000000000003, 9.677999999999999, 7.064, 5.331, 9.379, 5.189, 2.246, 3.292, 2.701, 3.965, 15.333, 2.27, 12.109000000000002, 1.903, 3.516, 3.32, 2.612, 3.28, 4.864, 5.709, 1.2009999999999998, 1.925, 4.013, 1.25, 0.888, 4.396, 1.199, 5.571000000000001, 5.197, -21.276, 1.524, 2.6260000000000003, 1.4069999999999998, 1.085, 1.2770000000000001, 12.154000000000002, 6.76, 3.321, 3.565, 5.86, 5.1979999999999995, 4.702, 1.5730000000000002, 8.808, 1.271, 12.139000000000001, 1.4340000000000002, 2.124, 4.482, 4.662, 6.275, 3.24, 5.367999999999999, 12.651, 2.4459999999999997, 8.407, 18.191, 6.553, 2.123, 5.869, 2.9610000000000003, 16.337, 2.929, 1.696, 2.044, 13.753, 1.3419999999999999, 14.23, 8.697000000000001, 4.838, 1.204, 7.358, 5.925, 3.7969999999999997, 8.001, 8.872, 0.971, 5.282], \"yaxis\": \"y\"}, {\"customdata\": [[\"ZAYO\", 653700000.0, 1.082634452], [\"YUM\", 1694000000.0, 1.428277781], [\"WYNN\", 1653459000.0, 1.12882907], [\"WW\", 332583000.0, 0.456049537], [\"WSC\", 270192000.0, 0.629325742], [\"WING\", 53186000.0, 0.33941782], [\"WES\", 723210000.0, 0.656498806], [\"WEN\", 427191000.0, 0.223575967], [\"WBT\", 381800000.0, 0.35998049200000004], [\"WAT\", 716294000.0, 2.978146277], [\"W\", 2533490000.0, -0.389721531], [\"VVV\", 607000000.0, 0.31317068], [\"VRSN\", 310543000.0, 1.648919448], [\"VRRM\", 112461000.0, 0.240125585], [\"VGR\", 439565000.0, -0.48229224299999995], [\"URI\", 2456000000.0, 5.881105417000001], [\"UPLD\", 66066000.0, 0.277976887], [\"UI\", 308284000.0, 1.907236111], [\"THC\", 4806000000.0, 5.005044026], [\"TGNA\", 693955000.0, 0.382142021], [\"TERP\", 206734000.0, 0.265327341], [\"TDG\", 1465000000.0, 8.086150331], [\"TCP\", 104000000.0, 0.953631144], [\"TBPH\", 29499000.0, -1.133710087], [\"SUN\", 4098000000.0, 1.421930265], [\"SPH\", 333878000.0, 0.252887341], [\"SNBR\", 441166000.0, -0.023639498], [\"SMG\", 365800000.0, -5.700561779], [\"SIX\", 261000000.0, 0.824708205], [\"SIRI\", 2062000000.0, 0.12026077800000001], [\"SHLX\", 126000000.0, 0.595826121], [\"SHEN\", 160997000.0, 1.3174842629999999], [\"SGMS\", 863000000.0, 1.533472729], [\"SFM\", 1364991000.0, 0.270004275], [\"SEM\", 1374584000.0, 1.329168226], [\"SEE\", 1298900000.0, 1.6820292540000001], [\"SEAS\", 298011000.0, 0.441203653], [\"SBUX\", 7097100000.0, 1.554699407], [\"SBGI\", 1622000000.0, 4.580877646999999], [\"SBAC\", 513658000.0, 2.353984256], [\"SAH\", 2748404000.0, 4.556922408], [\"RRR\", 460786000.0, 0.853466263], [\"RH\", 664976000.0, 6.747956652], [\"REV\", 699400000.0, 1.857249643], [\"RDNT\", 300841000.0, 0.432031228], [\"QSR\", 1479000000.0, 1.895246664], [\"PZZA\", 417514000.0, 0.367806311], [\"PODD\", 209394000.0, 0.7591687340000001], [\"PM\", 19849000000.0, 2.136418934], [\"PLUG\", 98202000.0, 0.001068676], [\"PLNT\", 191511000.0, 0.570796414], [\"PLAY\", 299352000.0, 1.9817200680000002], [\"PENN\", 1341200000.0, 1.593441598], [\"PCG\", 4743000000.0, 1.4152649769999999], [\"PBFX\", 92240000.0, 0.859173807], [\"PARR\", 1399134000.0, 0.136727478], [\"PAG\", 5891600000.0, -1.756593025], [\"PAE\", 2763893000.0, 2.23868502], [\"OUT\", 488100000.0, 0.7998607520000001], [\"NXST\", 1100090000.0, 2.199559438], [\"NRG\", 2195000000.0, 2.194008457], [\"NLSN\", 1691000000.0, 1.320928741], [\"NGVT\", 303400000.0, 2.04426579], [\"NAV\", 1838000000.0, 0.9976223740000001], [\"MTCH\", 547167000.0, 0.662694254], [\"MSCI\", 406606000.0, 2.876293853], [\"MDB\", 123523000.0, -0.151876196], [\"MCD\", 5349000000.0, 2.5087196169999997], [\"MAXR\", 193000000.0, 2.92912938], [\"MAS\", 920000000.0, 0.27615296], [\"LW\", 1019200000.0, 0.731192727], [\"LOW\", 16027000000.0, 0.24136455399999998], [\"LII\", 885000000.0, 7.048764552000001], [\"LBTYA\", 2982200000.0, 2.362066607], [\"LB\", 4707000000.0, 4.796099265], [\"LAMR\", 462659000.0, 2.219374995], [\"LAD\", 3268900000.0, 1.9789204530000002], [\"KTB\", 652611000.0, 3.5017733730000002], [\"KMX\", 4790028000.0, 0.04591618099999999], [\"JACK\", 307673000.0, 0.959200433], [\"IRWD\", 126301000.0, 0.175872526], [\"IRM\", 1079590000.0, 1.109236686], [\"IAA\", 355900000.0, 0.161781799], [\"HUD\", 475800000.0, 1.384407694], [\"HRI\", 540100000.0, 6.744783332000001], [\"HRB\", 519205000.0, -3.966662041], [\"HOG\", 1072271000.0, 0.12718061], [\"HLT\", 2369000000.0, 0.7158983309999999], [\"HLF\", 1220300000.0, 1.06319002], [\"HEP\", 131634000.0, 0.652919848], [\"HD\", 25782000000.0, 2.804284022], [\"HCA\", 13523000000.0, 7.385496065], [\"HALO\", 53665000.0, -0.181691514], [\"GSHD\", 13798000.0, 0.130840381], [\"GPI\", 3111400000.0, 3.227866077], [\"GEO\", 621710000.0, 0.12521080099999998], [\"FUN\", 257246000.0, 0.24534173199999998], [\"FTDR\", 300000000.0, 0.5433288070000001], [\"FICO\", 298504000.0, 2.084310777], [\"F\", 39715000000.0, 0.731418749], [\"EVRI\", 145177000.0, -0.490665699], [\"EVA\", 200540000.0, 0.310280618], [\"ERI\", 592124000.0, 0.674338903], [\"ENR\", 736800000.0, 1.7852407940000001], [\"ENDP\", 764800000.0, -0.093448976], [\"EAT\", 869300000.0, 1.4904470369999998], [\"EAF\", 414612000.0, 0.7617233809999999], [\"DVA\", 2898584000.0, 5.246954551], [\"DPZ\", 1150352000.0, 4.213987041], [\"DNKN\", 335917000.0, 1.6894002280000002], [\"DIN\", 227511000.0, 2.952680644], [\"DENN\", 113836000.0, 0.1913519], [\"CZR\", 2169000000.0, 0.20862254600000002], [\"CWST\", 193620000.0, 0.948788009], [\"CWH\", 964931000.0, -0.808222566], [\"CWEN\", 235000000.0, 0.532536053], [\"CVNA\", 1103587000.0, -2.127639878], [\"CVA\", 485000000.0, 0.867362929], [\"CQP\", 1908000000.0, 1.177652803], [\"COMM\", 2298700000.0, 1.7298226369999998], [\"CNR\", 1244415000.0, 1.288473576], [\"CMPR\", 820333000.0, 7.247396291], [\"CLF\", 534100000.0, 0.645729605], [\"CHH\", 268084000.0, 1.4279201330000002], [\"CHGG\", 125504000.0, 0.221752328], [\"CDK\", 499600000.0, 0.8772783759999999], [\"CCOI\", 140291000.0, 0.984303795], [\"CCO\", 745232000.0, 0.31153316], [\"CCI\", 1345000000.0, 1.940984134], [\"CC\", 1353000000.0, 2.446466541], [\"CAR\", 2162000000.0, 8.872288033], [\"BYD\", 833131000.0, 1.201839284], [\"BURL\", 2208599000.0, 6.261922557999999], [\"BPMP\", 35066000.0, 0.44960411899999997], [\"BLMN\", 1022184000.0, 1.5734383769999998], [\"BKD\", 986638000.0, 0.474593573], [\"BJ\", 3472325000.0, 0.9734421870000001], [\"BHC\", 2224000000.0, 0.663959345], [\"BERY\", 2816000000.0, 1.647770219], [\"BE\", 117217000.0, 0.208350906], [\"AZO\", 2793038000.0, 18.76412024], [\"ATUS\", 2474549000.0, 1.13088307], [\"ATKR\", 447448000.0, 1.1104488959999999], [\"AROC\", 245987000.0, 0.437904279], [\"AMT\", 1923700000.0, 2.24341677], [\"AMRX\", 397328000.0, -0.170140323], [\"AMCX\", 785204000.0, 1.500246426], [\"AHCO\", 529644247.0, 1.99012208], [\"AES\", 2431000000.0, 1.040830914], [\"ADT\", 1298283000.0, 0.556645952], [\"ACEL\", 424385000.0, 0.92386885], [\"ABG\", 1894000000.0, 0.108792907], [\"ABBV\", 8704000000.0, 2.214601874], [\"AAL\", 11313000000.0, 1.369681731]], \"hovertemplate\": \"label=1<br>TOT_DEBT_TO_TOTAL_ASSET=%{x}<br>PX_TO_BOOK_RATIO=%{y}<br>ticker=%{customdata[0]}<br>revenue=%{customdata[1]}<br>CASH_FLOW_PER_SHARE=%{customdata[2]}<extra></extra>\", \"legendgroup\": \"1\", \"marker\": {\"color\": \"#ab63fa\", \"symbol\": \"circle\"}, \"mode\": \"markers\", \"name\": \"1\", \"showlegend\": true, \"type\": \"scattergl\", \"x\": [0.646177167, 2.0191168040000003, 0.761504363, 1.159883709, 0.614343214, 1.871430893, 0.644674061, 0.7435485909999999, 0.661986792, 0.6942240190000001, 0.771676248, 0.681758816, 0.9641619859999999, 0.637045926, 1.1838117209999999, 0.6305218770000001, 0.594839813, 0.985763583, 0.631328911, 0.616215385, 0.6470336529999999, 1.0124476759999999, 0.702067999, 1.248765979, 0.665869805, 0.637793106, 0.7302972670000001, 0.5971354170000001, 0.858181326, 0.748587317, 1.347201585, 0.597979529, 1.128569599, 0.637261782, 0.613866513, 0.6775307009999999, 0.7286876259999999, 0.7439391590000001, 0.73074266, 1.317716982, 0.646356516, 0.7372759190000001, 0.721703942, 1.07240153, 0.7171099209999999, 0.591994633, 0.7187845979999999, 0.776883367, 0.724081633, 0.69652638, 1.0819565690000001, 0.79634773, 0.798083765, 0.637729471, 0.8243600729999999, 0.627732026, 0.621687335, 0.6681095810000001, 0.7191163629999999, 0.607058446, 0.602505786, 0.606117746, 0.6091889620000001, 0.744145843, 0.661581492, 0.769679379, 0.694686832, 0.7324271529999999, 0.612371534, 0.583847225, 0.6489269639999999, 0.6017075829999999, 0.665831245, 0.574610113, 0.8965925929999999, 0.7145310970000001, 0.6206545139999999, 0.662076939, 0.75599244, 1.3033804979999999, 1.130935473, 0.752218528, 0.9449609520000001, 0.664922018, 0.6319622739999999, 0.870922799, 0.711366251, 0.603730695, 0.736541477, 0.699943435, 0.729506597, 0.781681388, 0.71144283, 0.714256978, 0.597967757, 0.6643130079999999, 0.8383810290000001, 0.8, 0.646380866, 0.600714791, 0.680126662, 0.639804467, 0.662728991, 0.640547532, 0.900270163, 1.031353597, 1.187829748, 0.64558325, 3.1477629560000002, 0.880575221, 0.902084448, 0.924324536, 0.7351745909999999, 0.636557024, 0.876262647, 0.73185567, 0.7856656890000001, 0.6772543740000001, 0.911679736, 0.681310458, 0.628776859, 0.766687062, 0.606284605, 0.629480512, 0.617931656, 0.9408699209999999, 1.125426445, 1.099847684, 0.622279429, 0.606916506, 0.719666177, 0.6926489570000001, 0.6488338370000001, 0.64810968, 0.647915499, 0.81458372, 0.719427756, 0.7646989340000001, 0.68949718, 0.827141573, 0.632001087, 0.723855362, 0.593879779, 0.597639209, 0.7256808159999999, 0.754541735, 0.597002405, 0.7628016870000001, 0.59967903, 0.602616557, 0.68659008, 0.617250026, 0.7487852770000001, 0.557446454], \"xaxis\": \"x\", \"y\": [5.561, -3.801, 8.552999999999999, -3.694, 3.3510000000000004, -12.124, 2.7910000000000004, 9.873, 8.707, -69.609, -8.914, -20.579, -15.182, 6.561, -2.887, 3.273, 4.238, -41.957, -9.475, 2.276, 1.744, -7.018, 4.598, -6.565, 4.003, 3.17, -8.842, 9.54, -5.324, -42.975, -6.084, 4.391, -1.129, 3.9610000000000003, 4.067, -31.368000000000002, 11.837, -15.397, 2.045, -7.4, 1.415, 5.603, 212.623, -0.93, 6.728, 7.635, -6.197, 139.445, -11.436, 6.126, -9.551, 8.43, 1.599, 1.12, 11.969000000000001, 1.835, 1.4569999999999999, -11.814, 3.5189999999999997, 2.6630000000000003, 6.032, 3.2910000000000004, 6.885, -0.971, 71.887, -285.08099999999996, 112.25, -18.125999999999998, 1.23, -58.42, 60.218999999999994, 45.18, -55.232, 1.057, -4.272, 7.595, 2.3280000000000003, 34.936, 4.325, -2.275, -22.383000000000003, 6.251, -45.13399999999999, 2.445, 2.189, -14.227, 3.181, -64.92699999999999, -18.004, 6.127999999999999, -79.852, -17.854, 28.313000000000002, -170.826, 1.483, 2.021, -315.216, -22.429000000000002, 45.034, 1.111, 17.985, 4.446000000000001, 4.151, 5.912999999999999, -1.227, -2.762, -4.868, 4.561, -3.5, -10.482999999999999, -5.801, -8.662, 4.343999999999999, 17.917, -39.833, 2.086, 142.19299999999998, 5.187, 26.949, 3.2960000000000003, 1.1420000000000001, -19.437, 6.3389999999999995, -245.171, 9.193999999999999, -10.382, -15.132, -0.604, 5.635, 4.293, 3.628, 2.6310000000000002, 27.279, 15.831, 11.056, 1.9380000000000002, -51.831, 9.92, 3.488, -2.512, -15.614, 7.67, 7.029, 1.4040000000000001, 20.136, 6.2139999999999995, 3.2960000000000003, -23.633000000000003, 4.41, 1.8519999999999999, 7.747000000000001, 3.339, -16.022000000000002, -106.47], \"yaxis\": \"y\"}, {\"customdata\": [[\"TM\", 7544570000000.0, 248.1244139], [\"SEB\", 1812000000.0, 86.70659176], [\"HMC\", 3747590000000.0, 111.07768200000001]], \"hovertemplate\": \"label=4<br>TOT_DEBT_TO_TOTAL_ASSET=%{x}<br>PX_TO_BOOK_RATIO=%{y}<br>ticker=%{customdata[0]}<br>revenue=%{customdata[1]}<br>CASH_FLOW_PER_SHARE=%{customdata[2]}<extra></extra>\", \"legendgroup\": \"4\", \"marker\": {\"color\": \"#FFA15A\", \"symbol\": \"circle\"}, \"mode\": \"markers\", \"name\": \"4\", \"showlegend\": true, \"type\": \"scattergl\", \"x\": [0.388566364, 0.242004773, 0.380517345], \"xaxis\": \"x\", \"y\": [1.247, 1.3969999999999998, 0.6409999999999999], \"yaxis\": \"y\"}, {\"customdata\": [[\"TGTX\", 38000.0, -0.305268805], [\"RVNC\", 89000.0, -0.7428334790000001], [\"ITCI\", 60613.0, -0.634369607]], \"hovertemplate\": \"label=10<br>TOT_DEBT_TO_TOTAL_ASSET=%{x}<br>PX_TO_BOOK_RATIO=%{y}<br>ticker=%{customdata[0]}<br>revenue=%{customdata[1]}<br>CASH_FLOW_PER_SHARE=%{customdata[2]}<extra></extra>\", \"legendgroup\": \"10\", \"marker\": {\"color\": \"#19d3f3\", \"symbol\": \"circle\"}, \"mode\": \"markers\", \"name\": \"10\", \"showlegend\": true, \"type\": \"scattergl\", \"x\": [0.24039653, 0.086221337, 0.092133229], \"xaxis\": \"x\", \"y\": [28.619, 3.247, 9.722999999999999], \"yaxis\": \"y\"}, {\"customdata\": [[\"SHOP\", 505160000.0, 0.458526846], [\"MMSI\", 257922000.0, 0.487403829], [\"DDOG\", 113644000.0, 0.058918894000000006], [\"CDLX\", 69293000.0, 0.159460398]], \"hovertemplate\": \"label=5<br>TOT_DEBT_TO_TOTAL_ASSET=%{x}<br>PX_TO_BOOK_RATIO=%{y}<br>ticker=%{customdata[0]}<br>revenue=%{customdata[1]}<br>CASH_FLOW_PER_SHARE=%{customdata[2]}<extra></extra>\", \"legendgroup\": \"5\", \"marker\": {\"color\": \"#FF6692\", \"symbol\": \"circle\"}, \"mode\": \"markers\", \"name\": \"5\", \"showlegend\": true, \"type\": \"scattergl\", \"x\": [0.043475545, 0.298037752, 0.058211574, 0.000164948], \"xaxis\": \"x\", \"y\": [15.206, 1.814, 14.286, 11.280999999999999], \"yaxis\": \"y\"}, {\"customdata\": [[\"SBH\", 980208000.0, 0.535777046], [\"NSP\", 1075090000.0, 3.9521342660000003], [\"CL\", 4015000000.0, 1.13179691]], \"hovertemplate\": \"label=8<br>TOT_DEBT_TO_TOTAL_ASSET=%{x}<br>PX_TO_BOOK_RATIO=%{y}<br>ticker=%{customdata[0]}<br>revenue=%{customdata[1]}<br>CASH_FLOW_PER_SHARE=%{customdata[2]}<extra></extra>\", \"legendgroup\": \"8\", \"marker\": {\"color\": \"#B6E880\", \"symbol\": \"circle\"}, \"mode\": \"markers\", \"name\": \"8\", \"showlegend\": true, \"type\": \"scattergl\", \"x\": [0.7999726359999999, 0.235314653, 0.5219502460000001], \"xaxis\": \"x\", \"y\": [965.419, 843.692, 504.264], \"yaxis\": \"y\"}, {\"customdata\": [[\"NK\", 9000.0, -0.15132079], [\"AUPH\", 29000.0, -0.29566003]], \"hovertemplate\": \"label=3<br>TOT_DEBT_TO_TOTAL_ASSET=%{x}<br>PX_TO_BOOK_RATIO=%{y}<br>ticker=%{customdata[0]}<br>revenue=%{customdata[1]}<br>CASH_FLOW_PER_SHARE=%{customdata[2]}<extra></extra>\", \"legendgroup\": \"3\", \"marker\": {\"color\": \"#FF97FF\", \"symbol\": \"circle\"}, \"mode\": \"markers\", \"name\": \"3\", \"showlegend\": true, \"type\": \"scattergl\", \"x\": [0.076053465, 0.0], \"xaxis\": \"x\", \"y\": [3.089, 6.332999999999999], \"yaxis\": \"y\"}, {\"customdata\": [[\"LNG\", 3007000000.0, 2.9087226810000004], [\"KMB\", 4583000000.0, 2.695405217]], \"hovertemplate\": \"label=6<br>TOT_DEBT_TO_TOTAL_ASSET=%{x}<br>PX_TO_BOOK_RATIO=%{y}<br>ticker=%{customdata[0]}<br>revenue=%{customdata[1]}<br>CASH_FLOW_PER_SHARE=%{customdata[2]}<extra></extra>\", \"legendgroup\": \"6\", \"marker\": {\"color\": \"#FECB52\", \"symbol\": \"circle\"}, \"mode\": \"markers\", \"name\": \"6\", \"showlegend\": true, \"type\": \"scattergl\", \"x\": [0.880677336, 0.506903095], \"xaxis\": \"x\", \"y\": [-1111.26, -1428.876], \"yaxis\": \"y\"}, {\"customdata\": [[\"LGND\", 27003000.0, -0.41785785200000003], [\"INVA\", 75971000.0, 0.6606004639999999]], \"hovertemplate\": \"label=9<br>TOT_DEBT_TO_TOTAL_ASSET=%{x}<br>PX_TO_BOOK_RATIO=%{y}<br>ticker=%{customdata[0]}<br>revenue=%{customdata[1]}<br>CASH_FLOW_PER_SHARE=%{customdata[2]}<extra></extra>\", \"legendgroup\": \"9\", \"marker\": {\"color\": \"#636efa\", \"symbol\": \"circle\"}, \"mode\": \"markers\", \"name\": \"9\", \"showlegend\": true, \"type\": \"scattergl\", \"x\": [0.43409090100000003, 0.5202903870000001], \"xaxis\": \"x\", \"y\": [2.387, 4.575], \"yaxis\": \"y\"}],\n",
       "                        {\"legend\": {\"title\": {\"text\": \"label\"}, \"tracegroupgap\": 0}, \"margin\": {\"t\": 60}, \"template\": {\"data\": {\"bar\": [{\"error_x\": {\"color\": \"#2a3f5f\"}, \"error_y\": {\"color\": \"#2a3f5f\"}, \"marker\": {\"line\": {\"color\": \"#E5ECF6\", \"width\": 0.5}}, \"type\": \"bar\"}], \"barpolar\": [{\"marker\": {\"line\": {\"color\": \"#E5ECF6\", \"width\": 0.5}}, \"type\": \"barpolar\"}], \"carpet\": [{\"aaxis\": {\"endlinecolor\": \"#2a3f5f\", \"gridcolor\": \"white\", \"linecolor\": \"white\", \"minorgridcolor\": \"white\", \"startlinecolor\": \"#2a3f5f\"}, \"baxis\": {\"endlinecolor\": \"#2a3f5f\", \"gridcolor\": \"white\", \"linecolor\": \"white\", \"minorgridcolor\": \"white\", \"startlinecolor\": \"#2a3f5f\"}, \"type\": \"carpet\"}], \"choropleth\": [{\"colorbar\": {\"outlinewidth\": 0, \"ticks\": \"\"}, \"type\": \"choropleth\"}], \"contour\": [{\"colorbar\": {\"outlinewidth\": 0, \"ticks\": \"\"}, \"colorscale\": [[0.0, \"#0d0887\"], [0.1111111111111111, \"#46039f\"], [0.2222222222222222, \"#7201a8\"], [0.3333333333333333, \"#9c179e\"], [0.4444444444444444, \"#bd3786\"], [0.5555555555555556, \"#d8576b\"], [0.6666666666666666, \"#ed7953\"], [0.7777777777777778, \"#fb9f3a\"], [0.8888888888888888, \"#fdca26\"], [1.0, \"#f0f921\"]], \"type\": \"contour\"}], \"contourcarpet\": [{\"colorbar\": {\"outlinewidth\": 0, \"ticks\": \"\"}, \"type\": \"contourcarpet\"}], \"heatmap\": [{\"colorbar\": {\"outlinewidth\": 0, \"ticks\": \"\"}, \"colorscale\": [[0.0, \"#0d0887\"], [0.1111111111111111, \"#46039f\"], [0.2222222222222222, \"#7201a8\"], [0.3333333333333333, \"#9c179e\"], [0.4444444444444444, \"#bd3786\"], [0.5555555555555556, \"#d8576b\"], [0.6666666666666666, \"#ed7953\"], [0.7777777777777778, \"#fb9f3a\"], [0.8888888888888888, \"#fdca26\"], [1.0, \"#f0f921\"]], \"type\": \"heatmap\"}], \"heatmapgl\": [{\"colorbar\": {\"outlinewidth\": 0, \"ticks\": \"\"}, \"colorscale\": [[0.0, \"#0d0887\"], [0.1111111111111111, \"#46039f\"], [0.2222222222222222, \"#7201a8\"], [0.3333333333333333, \"#9c179e\"], [0.4444444444444444, \"#bd3786\"], [0.5555555555555556, \"#d8576b\"], [0.6666666666666666, \"#ed7953\"], [0.7777777777777778, \"#fb9f3a\"], [0.8888888888888888, \"#fdca26\"], [1.0, \"#f0f921\"]], \"type\": \"heatmapgl\"}], \"histogram\": [{\"marker\": {\"colorbar\": {\"outlinewidth\": 0, \"ticks\": \"\"}}, \"type\": \"histogram\"}], \"histogram2d\": [{\"colorbar\": {\"outlinewidth\": 0, \"ticks\": \"\"}, \"colorscale\": [[0.0, \"#0d0887\"], [0.1111111111111111, \"#46039f\"], [0.2222222222222222, \"#7201a8\"], [0.3333333333333333, \"#9c179e\"], [0.4444444444444444, \"#bd3786\"], [0.5555555555555556, \"#d8576b\"], [0.6666666666666666, \"#ed7953\"], [0.7777777777777778, \"#fb9f3a\"], [0.8888888888888888, \"#fdca26\"], [1.0, \"#f0f921\"]], \"type\": \"histogram2d\"}], \"histogram2dcontour\": [{\"colorbar\": {\"outlinewidth\": 0, \"ticks\": \"\"}, \"colorscale\": [[0.0, \"#0d0887\"], [0.1111111111111111, \"#46039f\"], [0.2222222222222222, \"#7201a8\"], [0.3333333333333333, \"#9c179e\"], [0.4444444444444444, \"#bd3786\"], [0.5555555555555556, \"#d8576b\"], [0.6666666666666666, \"#ed7953\"], [0.7777777777777778, \"#fb9f3a\"], [0.8888888888888888, \"#fdca26\"], [1.0, \"#f0f921\"]], \"type\": \"histogram2dcontour\"}], \"mesh3d\": [{\"colorbar\": {\"outlinewidth\": 0, \"ticks\": \"\"}, \"type\": \"mesh3d\"}], \"parcoords\": [{\"line\": {\"colorbar\": {\"outlinewidth\": 0, \"ticks\": \"\"}}, \"type\": \"parcoords\"}], \"pie\": [{\"automargin\": true, \"type\": \"pie\"}], \"scatter\": [{\"marker\": {\"colorbar\": {\"outlinewidth\": 0, \"ticks\": \"\"}}, \"type\": \"scatter\"}], \"scatter3d\": [{\"line\": {\"colorbar\": {\"outlinewidth\": 0, \"ticks\": \"\"}}, \"marker\": {\"colorbar\": {\"outlinewidth\": 0, \"ticks\": \"\"}}, \"type\": \"scatter3d\"}], \"scattercarpet\": [{\"marker\": {\"colorbar\": {\"outlinewidth\": 0, \"ticks\": \"\"}}, \"type\": \"scattercarpet\"}], \"scattergeo\": [{\"marker\": {\"colorbar\": {\"outlinewidth\": 0, \"ticks\": \"\"}}, \"type\": \"scattergeo\"}], \"scattergl\": [{\"marker\": {\"colorbar\": {\"outlinewidth\": 0, \"ticks\": \"\"}}, \"type\": \"scattergl\"}], \"scattermapbox\": [{\"marker\": {\"colorbar\": {\"outlinewidth\": 0, \"ticks\": \"\"}}, \"type\": \"scattermapbox\"}], \"scatterpolar\": [{\"marker\": {\"colorbar\": {\"outlinewidth\": 0, \"ticks\": \"\"}}, \"type\": \"scatterpolar\"}], \"scatterpolargl\": [{\"marker\": {\"colorbar\": {\"outlinewidth\": 0, \"ticks\": \"\"}}, \"type\": \"scatterpolargl\"}], \"scatterternary\": [{\"marker\": {\"colorbar\": {\"outlinewidth\": 0, \"ticks\": \"\"}}, \"type\": \"scatterternary\"}], \"surface\": [{\"colorbar\": {\"outlinewidth\": 0, \"ticks\": \"\"}, \"colorscale\": [[0.0, \"#0d0887\"], [0.1111111111111111, \"#46039f\"], [0.2222222222222222, \"#7201a8\"], [0.3333333333333333, \"#9c179e\"], [0.4444444444444444, \"#bd3786\"], [0.5555555555555556, \"#d8576b\"], [0.6666666666666666, \"#ed7953\"], [0.7777777777777778, \"#fb9f3a\"], [0.8888888888888888, \"#fdca26\"], [1.0, \"#f0f921\"]], \"type\": \"surface\"}], \"table\": [{\"cells\": {\"fill\": {\"color\": \"#EBF0F8\"}, \"line\": {\"color\": \"white\"}}, \"header\": {\"fill\": {\"color\": \"#C8D4E3\"}, \"line\": {\"color\": \"white\"}}, \"type\": \"table\"}]}, \"layout\": {\"annotationdefaults\": {\"arrowcolor\": \"#2a3f5f\", \"arrowhead\": 0, \"arrowwidth\": 1}, \"coloraxis\": {\"colorbar\": {\"outlinewidth\": 0, \"ticks\": \"\"}}, \"colorscale\": {\"diverging\": [[0, \"#8e0152\"], [0.1, \"#c51b7d\"], [0.2, \"#de77ae\"], [0.3, \"#f1b6da\"], [0.4, \"#fde0ef\"], [0.5, \"#f7f7f7\"], [0.6, \"#e6f5d0\"], [0.7, \"#b8e186\"], [0.8, \"#7fbc41\"], [0.9, \"#4d9221\"], [1, \"#276419\"]], \"sequential\": [[0.0, \"#0d0887\"], [0.1111111111111111, \"#46039f\"], [0.2222222222222222, \"#7201a8\"], [0.3333333333333333, \"#9c179e\"], [0.4444444444444444, \"#bd3786\"], [0.5555555555555556, \"#d8576b\"], [0.6666666666666666, \"#ed7953\"], [0.7777777777777778, \"#fb9f3a\"], [0.8888888888888888, \"#fdca26\"], [1.0, \"#f0f921\"]], \"sequentialminus\": [[0.0, \"#0d0887\"], [0.1111111111111111, \"#46039f\"], [0.2222222222222222, \"#7201a8\"], [0.3333333333333333, \"#9c179e\"], [0.4444444444444444, \"#bd3786\"], [0.5555555555555556, \"#d8576b\"], [0.6666666666666666, \"#ed7953\"], [0.7777777777777778, \"#fb9f3a\"], [0.8888888888888888, \"#fdca26\"], [1.0, \"#f0f921\"]]}, \"colorway\": [\"#636efa\", \"#EF553B\", \"#00cc96\", \"#ab63fa\", \"#FFA15A\", \"#19d3f3\", \"#FF6692\", \"#B6E880\", \"#FF97FF\", \"#FECB52\"], \"font\": {\"color\": \"#2a3f5f\"}, \"geo\": {\"bgcolor\": \"white\", \"lakecolor\": \"white\", \"landcolor\": \"#E5ECF6\", \"showlakes\": true, \"showland\": true, \"subunitcolor\": \"white\"}, \"hoverlabel\": {\"align\": \"left\"}, \"hovermode\": \"closest\", \"mapbox\": {\"style\": \"light\"}, \"paper_bgcolor\": \"white\", \"plot_bgcolor\": \"#E5ECF6\", \"polar\": {\"angularaxis\": {\"gridcolor\": \"white\", \"linecolor\": \"white\", \"ticks\": \"\"}, \"bgcolor\": \"#E5ECF6\", \"radialaxis\": {\"gridcolor\": \"white\", \"linecolor\": \"white\", \"ticks\": \"\"}}, \"scene\": {\"xaxis\": {\"backgroundcolor\": \"#E5ECF6\", \"gridcolor\": \"white\", \"gridwidth\": 2, \"linecolor\": \"white\", \"showbackground\": true, \"ticks\": \"\", \"zerolinecolor\": \"white\"}, \"yaxis\": {\"backgroundcolor\": \"#E5ECF6\", \"gridcolor\": \"white\", \"gridwidth\": 2, \"linecolor\": \"white\", \"showbackground\": true, \"ticks\": \"\", \"zerolinecolor\": \"white\"}, \"zaxis\": {\"backgroundcolor\": \"#E5ECF6\", \"gridcolor\": \"white\", \"gridwidth\": 2, \"linecolor\": \"white\", \"showbackground\": true, \"ticks\": \"\", \"zerolinecolor\": \"white\"}}, \"shapedefaults\": {\"line\": {\"color\": \"#2a3f5f\"}}, \"ternary\": {\"aaxis\": {\"gridcolor\": \"white\", \"linecolor\": \"white\", \"ticks\": \"\"}, \"baxis\": {\"gridcolor\": \"white\", \"linecolor\": \"white\", \"ticks\": \"\"}, \"bgcolor\": \"#E5ECF6\", \"caxis\": {\"gridcolor\": \"white\", \"linecolor\": \"white\", \"ticks\": \"\"}}, \"title\": {\"x\": 0.05}, \"xaxis\": {\"automargin\": true, \"gridcolor\": \"white\", \"linecolor\": \"white\", \"ticks\": \"\", \"title\": {\"standoff\": 15}, \"zerolinecolor\": \"white\", \"zerolinewidth\": 2}, \"yaxis\": {\"automargin\": true, \"gridcolor\": \"white\", \"linecolor\": \"white\", \"ticks\": \"\", \"title\": {\"standoff\": 15}, \"zerolinecolor\": \"white\", \"zerolinewidth\": 2}}}, \"xaxis\": {\"anchor\": \"y\", \"domain\": [0.0, 1.0], \"title\": {\"text\": \"TOT_DEBT_TO_TOTAL_ASSET\"}}, \"yaxis\": {\"anchor\": \"x\", \"domain\": [0.0, 1.0], \"title\": {\"text\": \"PX_TO_BOOK_RATIO\"}}},\n",
       "                        {\"responsive\": true}\n",
       "                    ).then(function(){\n",
       "                            \n",
       "var gd = document.getElementById('36ccd848-891a-465c-bda3-7e7619c9aeda');\n",
       "var x = new MutationObserver(function (mutations, observer) {{\n",
       "        var display = window.getComputedStyle(gd).display;\n",
       "        if (!display || display === 'none') {{\n",
       "            console.log([gd, 'removed!']);\n",
       "            Plotly.purge(gd);\n",
       "            observer.disconnect();\n",
       "        }}\n",
       "}});\n",
       "\n",
       "// Listen for the removal of the full notebook cells\n",
       "var notebookContainer = gd.closest('#notebook-container');\n",
       "if (notebookContainer) {{\n",
       "    x.observe(notebookContainer, {childList: true});\n",
       "}}\n",
       "\n",
       "// Listen for the clearing of the current output cell\n",
       "var outputEl = gd.closest('.output');\n",
       "if (outputEl) {{\n",
       "    x.observe(outputEl, {childList: true});\n",
       "}}\n",
       "\n",
       "                        })\n",
       "                };\n",
       "                });\n",
       "            </script>\n",
       "        </div>"
      ]
     },
     "metadata": {},
     "output_type": "display_data"
    }
   ],
   "source": [
    "\n",
    "px.scatter(data_frame=df_copy, x='TOT_DEBT_TO_TOTAL_ASSET', y='PX_TO_BOOK_RATIO', color = 'label', hover_data=['ticker', 'revenue', 'CASH_FLOW_PER_SHARE'])"
   ]
  },
  {
   "cell_type": "code",
   "execution_count": 79,
   "metadata": {},
   "outputs": [],
   "source": [
    "from ipywidgets import interact"
   ]
  },
  {
   "cell_type": "code",
   "execution_count": 81,
   "metadata": {
    "scrolled": false
   },
   "outputs": [
    {
     "data": {
      "application/vnd.jupyter.widget-view+json": {
       "model_id": "b4c1990d599a4bcfa1f7107354d7855f",
       "version_major": 2,
       "version_minor": 0
      },
      "text/plain": [
       "interactive(children=(Dropdown(description='x', options=('ticker', 'revenue', 'pb', 'debt', 'assets', 'netmarg…"
      ]
     },
     "metadata": {},
     "output_type": "display_data"
    }
   ],
   "source": [
    "\n",
    "\n",
    "@interact\n",
    "def plotting(x=df_copy.columns, y = df_copy.columns):\n",
    "    fig = px.scatter(data_frame=df_copy, x= x, y= y, color = 'label', hover_data=['ticker', 'revenue', 'CASH_FLOW_PER_SHARE'])\n",
    "    fig.show()"
   ]
  },
  {
   "cell_type": "code",
   "execution_count": null,
   "metadata": {},
   "outputs": [],
   "source": [
    "#choose two dimensions pairplot with two variable and see the cluster = label\n",
    "#show the differences on clusters."
   ]
  },
  {
   "cell_type": "markdown",
   "metadata": {},
   "source": [
    "find a plot where i can see distinct clusters."
   ]
  },
  {
   "cell_type": "code",
   "execution_count": null,
   "metadata": {},
   "outputs": [],
   "source": [
    "set(y_pred) #no repeated list = set"
   ]
  },
  {
   "cell_type": "code",
   "execution_count": null,
   "metadata": {
    "scrolled": false
   },
   "outputs": [],
   "source": [
    "df.info()"
   ]
  },
  {
   "cell_type": "code",
   "execution_count": null,
   "metadata": {
    "scrolled": true
   },
   "outputs": [],
   "source": [
    "df['OPER_MARGIN'].unique()"
   ]
  },
  {
   "cell_type": "code",
   "execution_count": null,
   "metadata": {
    "scrolled": true
   },
   "outputs": [],
   "source": [
    "#df['OPER_MARGIN'] = df['OPER_MARGIN'].str.replace('\\', '').astype(int)"
   ]
  },
  {
   "cell_type": "code",
   "execution_count": null,
   "metadata": {
    "scrolled": true
   },
   "outputs": [],
   "source": [
    "#df['OPER_MARGIN'] = float('OPER_MARGIN')"
   ]
  },
  {
   "cell_type": "code",
   "execution_count": null,
   "metadata": {},
   "outputs": [],
   "source": [
    "#float(\"OPER_MARGIN\")"
   ]
  },
  {
   "cell_type": "code",
   "execution_count": null,
   "metadata": {},
   "outputs": [],
   "source": [
    "df.['OPER_MARGIN']['6']"
   ]
  },
  {
   "cell_type": "markdown",
   "metadata": {},
   "source": [
    "Keep the following considerations in mind: How do clustering and modeling compare? (Kmeans,Gaussian) two different results and whats best and worst. \n",
    "What are the advantages of each? Why would you want to use one over the other?\n",
    "\n",
    " Jupyter's built-in slide deck capabilities.\n",
    " \n",
    " \n",
    "The visuals that you chose and what they represent for your research\n",
    "Next steps that you'd take to expand on your work - visuals and next i tell what to do with this, groups of similar stocks: long, short, quick, data trade clusters. Make names for clusters on their similarities. \n",
    "\n",
    "A specified research question that your model addresses - can we group stocks? think of it.\n",
    "\n",
    "How you chose your model specification and what alternatives you compared it to"
   ]
  },
  {
   "cell_type": "code",
   "execution_count": null,
   "metadata": {
    "scrolled": true
   },
   "outputs": [],
   "source": [
    "scaler = StandardScaler()\n",
    "scaled = scaler.fit_transform(df)\n",
    "\n",
    "df_scaled = pd.DataFrame(scaled, columns=df.columns, index = df.index)\n",
    "df_scaled.head()"
   ]
  },
  {
   "cell_type": "code",
   "execution_count": null,
   "metadata": {},
   "outputs": [],
   "source": [
    "#opinc = operating income\n"
   ]
  },
  {
   "cell_type": "code",
   "execution_count": null,
   "metadata": {},
   "outputs": [],
   "source": [
    "#scaler = StandardScaler() #to make the mean 0 and std = 1\n",
    "scaler = MinMaxScaler() #max - 1 min = 0\n",
    "scaled = scaler.fit_transform(df)\n",
    "\n"
   ]
  },
  {
   "cell_type": "code",
   "execution_count": null,
   "metadata": {},
   "outputs": [],
   "source": [
    "scaled_df = pd.DataFrame(scaled, columns=df.columns)\n",
    "scaled_df.head()"
   ]
  },
  {
   "cell_type": "code",
   "execution_count": null,
   "metadata": {},
   "outputs": [],
   "source": [
    "#standardscale"
   ]
  },
  {
   "cell_type": "markdown",
   "metadata": {},
   "source": [
    "# Standarizing the features\n",
    "from sklearn.preprocessing import StandardScaler\n",
    "\n",
    "scaler = StandardScaler()\n",
    "X_std = scaler.fit_transform(X)"
   ]
  },
  {
   "cell_type": "code",
   "execution_count": null,
   "metadata": {},
   "outputs": [],
   "source": [
    "#scaled_df = scale(df)"
   ]
  },
  {
   "cell_type": "code",
   "execution_count": null,
   "metadata": {},
   "outputs": [],
   "source": [
    "#take one quarter of the data = 2000 samples, ticker can drop when doing cluster, \n",
    "clean, no corr\n",
    "standard scaler\n",
    "cluster"
   ]
  },
  {
   "cell_type": "code",
   "execution_count": null,
   "metadata": {},
   "outputs": [],
   "source": [
    "Oper_MARGIN check is it has nAS, upper case cols\n",
    "work with row numbers, drop the upper case. \n"
   ]
  },
  {
   "cell_type": "code",
   "execution_count": null,
   "metadata": {},
   "outputs": [],
   "source": [
    "#try 100 samples first then all"
   ]
  },
  {
   "cell_type": "code",
   "execution_count": null,
   "metadata": {},
   "outputs": [],
   "source": [
    "scaler = StandardScaler()\n",
    "df = scaler.fit_transform(all_data)"
   ]
  },
  {
   "cell_type": "code",
   "execution_count": null,
   "metadata": {},
   "outputs": [],
   "source": [
    "pred_2 = KMeans(n_clusters=2, random_state=123).fit_predict(X_std)\n"
   ]
  }
 ],
 "metadata": {
  "kernelspec": {
   "display_name": "Python 3",
   "language": "python",
   "name": "python3"
  },
  "language_info": {
   "codemirror_mode": {
    "name": "ipython",
    "version": 3
   },
   "file_extension": ".py",
   "mimetype": "text/x-python",
   "name": "python",
   "nbconvert_exporter": "python",
   "pygments_lexer": "ipython3",
   "version": "3.8.3"
  }
 },
 "nbformat": 4,
 "nbformat_minor": 4
}
