{
  "nbformat": 4,
  "nbformat_minor": 0,
  "metadata": {
    "kernelspec": {
      "display_name": "Python 3",
      "language": "python",
      "name": "python3"
    },
    "language_info": {
      "codemirror_mode": {
        "name": "ipython",
        "version": 3
      },
      "file_extension": ".py",
      "mimetype": "text/x-python",
      "name": "python",
      "nbconvert_exporter": "python",
      "pygments_lexer": "ipython3",
      "version": "3.7.2"
    },
    "colab": {
      "name": "Chatbot.Assignment.ipynb",
      "provenance": [],
      "collapsed_sections": [],
      "include_colab_link": true
    }
  },
  "cells": [
    {
      "cell_type": "markdown",
      "metadata": {
        "id": "view-in-github",
        "colab_type": "text"
      },
      "source": [
        "<a href=\"https://colab.research.google.com/github/Gaukhar-ai/for_my_Thinkful_work/blob/master/Chatbot_Assignment.ipynb\" target=\"_parent\"><img src=\"https://colab.research.google.com/assets/colab-badge.svg\" alt=\"Open In Colab\"/></a>"
      ]
    },
    {
      "cell_type": "markdown",
      "metadata": {
        "id": "2qtIy1rhPrpb"
      },
      "source": [
        "# Natural Language Processing: Chatbots Assignment"
      ]
    },
    {
      "cell_type": "code",
      "metadata": {
        "id": "O-18zFBdPrpd",
        "outputId": "38487a14-61b2-4cc9-bcd3-2eabc28c5c11",
        "colab": {
          "base_uri": "https://localhost:8080/"
        }
      },
      "source": [
        "!pip install chatterbot --quiet\n",
        "!pip install chatterbot_corpus --quiet\n",
        "\n",
        "import re\n",
        "import requests\n",
        "from bs4 import BeautifulSoup\n",
        "from chatterbot import ChatBot\n",
        "from chatterbot.trainers import ListTrainer"
      ],
      "execution_count": 2,
      "outputs": [
        {
          "output_type": "stream",
          "text": [
            "\u001b[K     |████████████████████████████████| 71kB 4.5MB/s \n",
            "\u001b[K     |████████████████████████████████| 122kB 7.6MB/s \n",
            "\u001b[?25h"
          ],
          "name": "stdout"
        }
      ]
    },
    {
      "cell_type": "markdown",
      "metadata": {
        "id": "J43HRfFdPrpg"
      },
      "source": [
        "### Scrape the HTML from the URL below which contains questions and answers about databases."
      ]
    },
    {
      "cell_type": "code",
      "metadata": {
        "id": "bjVXKhvSXl6E"
      },
      "source": [
        "from chatterbot import ChatBot\n",
        "from chatterbot.trainers import ListTrainer"
      ],
      "execution_count": 3,
      "outputs": []
    },
    {
      "cell_type": "code",
      "metadata": {
        "id": "OkxH23z3Prph"
      },
      "source": [
        "url = 'https://www.wisdomjobs.com/e-university/database-interview-questions.html'\n",
        "response = requests.get(url)\n",
        "content = response.text"
      ],
      "execution_count": 25,
      "outputs": []
    },
    {
      "cell_type": "code",
      "metadata": {
        "id": "E07zMFL-etCe"
      },
      "source": [
        "#html_text_list = []\n",
        "#for p in soup.find(\"div\", class_=\"interview_questions_list\").find_all(\n",
        " #   [\"li\"], class_=\"quesans mb-20\"\n",
        "#):\n",
        " #   html_text_list.append(p.text)\n",
        "#print(html_text_list('div', class_='interview_questions_list').text)"
      ],
      "execution_count": 21,
      "outputs": []
    },
    {
      "cell_type": "code",
      "metadata": {
        "id": "kHVu9wxDcQjB",
        "outputId": "294073ff-5ef8-414a-addf-324d7550dac1",
        "colab": {
          "base_uri": "https://localhost:8080/"
        }
      },
      "source": [
        "soup = BeautifulSoup(content, 'lxml')\n",
        "for ques in soup.find_all('li', {'class': 'quesans mb-20'}):\n",
        "  print(ques.text)"
      ],
      "execution_count": 32,
      "outputs": [
        {
          "output_type": "stream",
          "text": [
            "\n",
            "Question 1. Explain What Is Sqlite Transactions?\n",
            "Answer :The transaction is referred as a unit of work that is performed against a database. It is the propagation of one or more changes to the database. Properties of transactions are determined by ACID.\n",
            "\n",
            "Atomicity: It ensures that all work unit are successfully completed.\n",
            "Consistency: It ensures that the database changes states upon a successfully committed transaction.\n",
            "Isolation: It enables transactions to operate independently of and transparent to each other.\n",
            "Durability: It ensures that the result or effect of a committed transaction persists in case of a system failure.\n",
            "\n",
            "\n",
            "\n",
            "Question 2. What Does Sql Stand For, And What Is It Used For?\n",
            "Answer :SQL stands for structured query language, used with relational databases. It is used to query, update, and retrieve the contents of databases.\n",
            "\n",
            "\n",
            "Question 3. List Out The Areas Where Sql Lite Works Well?\n",
            "Answer :SQL lite works well with :\n",
            "\n",
            "Embedded devices and the internet of things.\n",
            "Application file format.\n",
            "Data Analysis.\n",
            "Websites.\n",
            "Cache for enterprise data.\n",
            "Server side database.\n",
            "File archives.\n",
            "Internal or temporary databases.\n",
            "Replacement for ad hoc disk files.\n",
            "Experimental SQL language extensions.\n",
            "Stand-in for an enterprise database during demos or testing.\n",
            "\n",
            "\n",
            "\n",
            "Question 4. What Are Attributes?\n",
            "Answer :An attribute is a column in a table.\n",
            "\n",
            "\n",
            "Question 5. Differentiate Between A Having Clause And A Where Clause.\n",
            "Answer :HAVING CLAUSE :\n",
            "\n",
            "HAVING CLAUSE is used only with the SELECT statement.\n",
            "It is generally used in a GROUP BY clause in a query.\n",
            "If GROUP BY is not used, HAVING works like a WHERE clause.\n",
            "\n",
            "WHERE Clause :\n",
            "\n",
            "It is applied to each row before they become a part of the GROUP BY function in a query.\n",
            "\n",
            "\n",
            "\n",
            "Question 6. What Is Data Mining And How Can It Be Used?\n",
            "Answer :Data mining refers to any procedure for collecting, analyzing, and summarizing the contents of a database. It can be used to judge the success of a business, marketing campaigns, and to forecast future trends.\n",
            "\n",
            "\n",
            "Question 7. Mention What Are The Sql Lite Storage Classes?\n",
            "Answer :SQL lite storage classes include :\n",
            "\n",
            "Null: The value is a NULL value.\n",
            "Integer: The value is a signed integer (1,2,3, etc.).\n",
            "Real: The value is a floating point value, stored as an 8 byte IEEE floating point number.\n",
            "Text: The value is a text string, stored using the database encoding ( UTF-8, UTF-16BE).\n",
            "BLOB (Binary Large Object): The value is a blob of data, exactly stored as it was input.\n",
            "\n",
            "\n",
            "\n",
            "Question 8. What Is Database Normalization And Why Is It Done?\n",
            "Answer :This is the process of organizing data in a database efficiently, and it is done to make sure that connections and dependencies between data make sense, and to get rid of redundant data.\n",
            "\n",
            "\n",
            "Question 9. What Do Constraints Do? What Are The Types Of Constraints?\n",
            "Answer :Constraints are used to prevent the database from losing internal and external integrity. The types are: check, not null, unique, primary key, and foreign key.\n",
            "\n",
            "\n",
            "Question 10. What Are Fact Tables?\n",
            "Answer :Tables which track the progress of a certain process or activity, the primary tables of databases.\n",
            "\n",
            "\n",
            "Question 11. Describe The Three Levels Of Data Abstraction?\n",
            "Answer :\n",
            "Physical level: The lowest level of abstraction describes how data are stored.\n",
            "Logical level: The next higher level of abstraction, describes what data are stored in database and what relationship among those data.\n",
            "View level: The highest level of abstraction describes only part of entire database.\n",
            "\n",
            "\n",
            "\n",
            "Question 12. Explain What Is The Use Of Sqlite Group By Clause?\n",
            "Answer :The SQLITE group by clause is used in collaboration with the SELECT statement to arrange identical data into groups.\n",
            "\n",
            "\n",
            "Question 13. When Is The Update_statistics Command Used?\n",
            "Answer :\n",
            "When the processing of large data is done, this command is used.\n",
            "Whenever large number of deletions, modification or copy takes place into the tables, the indexes need to be updated to take care of these changes. UPDATE_STATISTICS performs this job.\n",
            "\n",
            "\n",
            "\n",
            "Question 14. Explain How Boolean Values In Sql Lite Are Stored?\n",
            "Answer :Boolean values in SQL lite are stored as integers 0 (false) and 1 (true). SQL Lite does not have a separate Boolean storage class.\n",
            "\n",
            "\n",
            "Question 15. Explain What Is Sql Lite?\n",
            "Answer :SQL LITE is a mostly ACID compliant relational database management system contained in a relatively small C programming library.\n",
            "\n",
            "\n",
            "Question 16. Give A Comment On Transaction?\n",
            "Answer :\n",
            "Using transactions we can group all SQL commands into a single unit.\n",
            "The transaction begins with some task and finishes only when all tasks within it are over.\n",
            "The transaction gets over successfully only when all commands in it are successfully over. Even if one command fails, the whole transaction fails.\n",
            "The BEGIN TRANSACTION, ROLLBACK TRANSACTION, and COMMIT TRANSACTION statements are used to work with transactions.\n",
            "A group of tasks starts with the begin statement.\n",
            "In case of any problem, the rollback command is executed to abort the transaction.\n",
            "If all the tasks run successfully, all commands are executed through commit statement.\n",
            "\n",
            "\n",
            "\n",
            "Question 17. List Out The Standard Sql Lite Commands?\n",
            "Answer :The standard SQL Lite commands interact with relational databases are similar to SQL. They are\n",
            "\n",
            "SELECT\n",
            "CREATE\n",
            "INSERT\n",
            "UPDATE\n",
            "DROP\n",
            "DELETE\n",
            "\n",
            "Based on their operational nature these commands can be classified.\n",
            "\n",
            "\n",
            "Question 18. Define The \"integrity Rules\"?\n",
            "Answer :There are two Integrity rules.Entity Integrity: States that \"Primary key cannot have NULL value\".\n",
            "Referential Integrity: States that \"Foreign Key can be either a NULL value or should be Primary Key value of other relation.\n",
            "\n",
            "\n",
            "Question 19. What Is Database?\n",
            "Answer :A database is a logically coherent collection of data with some inherent meaning, representing some aspect of real world and which is designed, built and populated with data for a specific purpose.\n",
            "\n",
            "\n",
            "Question 20. Segregate Database Technology’s Development?\n",
            "Answer :The development of database technology is divided into:\n",
            "\n",
            "Structure or data model\n",
            "Navigational model\n",
            "SQL/ relational model\n",
            "\n",
            "\n",
            "\n",
            "Question 21. What Are The Features Of Database Language?\n",
            "Answer :A database language may also incorporate features like:\n",
            "\n",
            "DBMS-specific Configuration and management of storage engine. \n",
            "Computations to modification of query results by computations, like summing, counting, averaging, grouping, sorting and cross-referencing Constraint enforcement Application Programming Interface.\n",
            "\n",
            "\n",
            "\n",
            "Question 22. What Do Database Languages Do?\n",
            "Answer :As special-purpose languages, they have:\n",
            "\n",
            "Data definition language\n",
            "Data manipulation language\n",
            "Query language\n",
            "\n",
            "\n",
            "\n",
            "Question 23. Define Database Model?\n",
            "Answer :A data model determining fundamentally how data can be stored, manipulated and organised and the structure of the database logically is called database model.\n",
            "\n",
            "\n",
            "Question 24. Enlist The Various Relationships Of Database?\n",
            "Answer :The various relationships of database are:\n",
            "\n",
            "One-to-one: Single table having drawn relationship with another table having similar kind of columns.\n",
            "One-to-many: Two tables having primary and foreign key relation.\n",
            "Many-to-many: Junction table having many tables related to many tables.\n",
            "\n",
            "\n",
            "\n",
            "Question 25. Define Normalization?\n",
            "Answer :Organized data void of inconsistent dependency and redundancy within a database is called normalization.\n",
            "\n",
            "\n",
            "Question 26. Enlist The Advantages Of Normalizing Database?\n",
            "Answer :Advantages of normalizing database are:\n",
            "\n",
            "No duplicate entries\n",
            "Saves storage space\n",
            "Boasts the query performances.\n",
            "\n",
            "\n",
            "\n",
            "Question 27. Define De Normalization?\n",
            "Answer :Boosting up database performance, adding of redundant data which in turn helps rid of complex data is called denormalization.\n",
            "\n",
            "\n",
            "Question 28. Define Ddl And Dml?\n",
            "Answer :Managing properties and attributes of database is called Data Definition Language(DDL).Manipulating data in a database such as inserting, updating, deleting is defined as Data Manipulation Language. (DML)\n",
            "\n",
            "\n",
            "Question 29. Enlist Some Commands Of Ddl?\n",
            "Answer :CREATE:  Create is used in the CREATE TABLE statement. Syntax is:     CREATE TABLE [column name] ( [column definitions] ) [ table parameters]ALTER:  It helps in modification of an existing object of database. Syntax is: ALTER objecttype objectname parameters.DROP: It destroys an existing database, index, table or view. Syntax is: DROP objecttype objectname.\n",
            "\n",
            "\n",
            "Question 30. Define Union All Operator And Union?\n",
            "Answer :Full recordings of two tables is Union All operator.A distinct recording of two tables is Union.\n",
            "\n",
            "\n",
            "Question 31. Define Cursor?\n",
            "Answer :A database object which helps in manipulating data row by row representing a result set is called cursor.\n",
            "\n",
            "\n",
            "Question 32. Enlist The Cursor Types?\n",
            "Answer :They are:Dynamic: it reflects changes while scrolling.Static: doesn’t reflect changes while scrolling and works on recording of snapshot.Keyset: data modification without reflection of new data is seen.\n",
            "\n",
            "\n",
            "Question 33. Define Sub-query?\n",
            "Answer :A query contained by a query is called Sub-query.\n",
            "\n",
            "\n",
            "Question 34. Why Is Group-clause Used?\n",
            "Answer :Group-clause uses aggregate values to be derived by collecting similar data.\n",
            "\n",
            "\n",
            "Question 35. Compare Non-clustered And Clustered Index?\n",
            "Answer :Both having B-tree structure, non-clustered index has data pointers enabling one table many non-clustered indexes while clustered index is distinct for every table.\n",
            "\n",
            "\n",
            "Question 36. Define Aggregate Functions?\n",
            "Answer :Functions which operate against a collection of values and returning single value is called aggregate functions.\n",
            "\n",
            "\n",
            "Question 37. Define Scalar Functions?\n",
            "Answer :Scalar function is depended on the argument given and returns sole value.\n",
            "\n",
            "\n",
            "Question 38. What Restrictions Can You Apply When You Are Creating Views?\n",
            "Answer :Restrictions that are applied are:\n",
            "\n",
            "Only the current database can have views.\n",
            "You are not liable to change any computed value in any particular view.\n",
            "Integrity constants decide the functionality of INSERT and DELETE.\n",
            "Full-text index definitions cannot be applied.\n",
            "Temporary views cannot be created.\n",
            "Temporary tables cannot contain views.\n",
            "No association with DEFAULT definitions.\n",
            "Triggers such as INSTEAD OF is associated with views.\n",
            "\n",
            "\n",
            "\n",
            "Question 39. Define “correlated Sub Queries”?\n",
            "Answer :A ‘correlated subquery’ is a sort of sub query but correlated subquery is reliant on another query for a value that is returned. In case of execution, the sub query is executed first and then the correlated query.\n",
            "\n",
            "\n",
            "Question 40. Define Data Warehousing?\n",
            "Answer :Storage and access of data from the central location in order to take some strategic decision is called Data Warehousing. Enterprise management is used for managing the information whose framework is known as Data Warehousing.\n",
            "\n",
            "\n",
            "Question 41. Define Join And Enlist Its Types?\n",
            "Answer :Joins help in explaining the relation between different tables. They also enable you to select data with relation to data in another table.\n",
            "The various types are:INNER JOINs: Blank rows are left in the middle while more than equal to two tables are joined.OUTER JOINs: Divided into Left Outer Join and Right Outer Join. Blank rows are left at the specified side by joining tables in other side.Other joins are CROSS JOINs, NATURAL JOINs, EQUI JOIN and NON-EQUI JOIN.\n",
            "\n",
            "\n",
            "Question 42. What Do You Mean By Index Hunting?\n",
            "Answer :Indexes help in improving the speed as well as the query performance of database. The procedure of boosting the collection of indexes is named as Index hunting.\n",
            "\n",
            "\n",
            "Question 43. How Does Index Hunting Help In Improving Query Performance?\n",
            "Answer :Index hunting helps in improving the speed as well as the query performance of database. The followed measures are achieved to do that:\n",
            "\n",
            "The query optimizer is used to coordinate the study of queries with the workload and the best use of queries suggested based on this.\n",
            "Index, query distribution along with their performance is observed to check the effect.\n",
            "Tuning databases to a small collection of problem queries is also recommended.\n",
            "\n",
            "\n",
            "\n",
            "Question 44. Enlist The Disadvantages Of Query?\n",
            "Answer :The disadvantages of query are:\n",
            "\n",
            "No indexes\n",
            "Stored procedures are excessively compiled.\n",
            "Triggers and procedures are without SET NOCOUNT ON.\n",
            "Complicated joins making up inadequately written query.\n",
            "Cursors and temporary tables showcase a bad presentation.\n",
            "\n",
            "\n",
            "\n",
            "Question 45. Enlist Ways To Efficiently Code Transactions?\n",
            "Answer :Ways to efficiently code transactions:\n",
            "\n",
            "User input should not be allowed while transactions.\n",
            "While browsing, transactions must not be opened of data.\n",
            "Transactions must be kept as small as possible.\n",
            "Lower transaction segregation levels.\n",
            "Least information of data must be accessed while transacting.\n",
            "\n",
            "\n",
            "\n",
            "Question 46. What Is Executive Plan?\n",
            "Answer :Executive plan can be defined as:\n",
            "\n",
            "SQL Server caches collected procedure or the plan of query execution and used thereafter by subsequent calls.\n",
            "An important feature in relation to performance enhancement.\n",
            "Data execution plan can be viewed textually or graphically.\n",
            "\n",
            "\n",
            "\n",
            "Question 47. Define B-trees?\n",
            "Answer :A data structure in the form of tree which stores sorted data and searches, insertions, sequential access and deletions are allowed in logarithmic time.\n",
            "\n",
            "\n",
            "Question 48. Differentiate Table Scan From Index Scan?\n",
            "Answer :Iterating over all the table rows is called Table Scan while iterating over all the index items is defined as Index Scan.\n",
            "\n",
            "\n",
            "Question 49. What Do You Mean By Fill Factor Concept With Respect To Indexes?\n",
            "Answer :Fill Factor can be defined as being that value which defines the percentage of left space on every leaf-level page that is to be packed with data. 100 is the default value of Fill Factor.\n",
            "\n",
            "\n",
            "Question 50. Define Fragmentation?\n",
            "Answer :Fragmentation can be defined as a database feature of server that promotes control on data which is stored at table level by the user.\n",
            "\n",
            "\n",
            "Question 51. What Do You Mean By Query Evaluation Engine?\n",
            "Answer :Query Evaluation Engine executes the low-level instructions that are generated by the compiler.\n",
            "\n",
            "\n",
            "Question 52. Define Ddl Interpreter?\n",
            "Answer :DDL statements are interpreted and recorded in tables called metadata.\n",
            "\n",
            "\n",
            "Question 53. Define Database System?\n",
            "Answer :DBMS along with database is called Database system.\n",
            "\n",
            "\n",
            "Question 54. Explain The Importance Of Partitioning?\n",
            "Answer :Splitting of one table which is large into smaller database entities logically is called database partitioning. Its benefits are:\n",
            "\n",
            "To improve query performance in situations dramatically when mostly rows which are heavily accessed are in one partition.\n",
            "Accessing large parts of a single partition.\n",
            "Slower and cheaper storage media can be used for data which is seldom used.\n",
            "\n",
            "\n",
            "\n",
            "Question 55. What Is Database Partitioning?\n",
            "Answer :Division of logical database into independent complete units for improving its management, availability and performance is called Database partitioning.\n",
            "\n",
            "\n",
            "Question 56. Define Atomicity And Aggregation?\n",
            "Answer :Atomicity: It’s an all or none concept which enables the user to be assured of incomplete transactions to be taken care of. The actions involving incomplete transactions are left undone in DBMS.Aggregation: The collected entities and their relationship are aggregated in this model. It is mainly used in expressing relationships within relationships.\n",
            "\n",
            "\n",
            "Question 57. Enlist The Various Transaction Phases?\n",
            "Answer :The various transaction phases are:\n",
            "\n",
            "Analysis Phase.\n",
            "Redo Phase.\n",
            "Undo Phase.\n",
            "\n",
            "\n",
            "\n",
            "Question 58. Define Object-oriented Model?\n",
            "Answer :Compilations of objects make up this model in which values are stored within instance variables which is inside the object. The object itself comprises bodies of object for its operation which are called methods. Objects containing same kind of variables and methods are called classes.\n",
            "\n",
            "\n",
            "Question 59. Define Entity?\n",
            "Answer :It can be defined as being a ‘thing’ with an independent existence in the real world.\n",
            "\n",
            "\n",
            "Question 60. Define Entity Set ?\n",
            "Answer :Compilation of all entries of any particular type of entry in the database is called Entity Set.\n",
            "\n"
          ],
          "name": "stdout"
        }
      ]
    },
    {
      "cell_type": "code",
      "metadata": {
        "id": "65iWQwk8mg_k"
      },
      "source": [
        "#text_list = [tag.get_text() for tag in soup.find_all(tags)]\n",
        "#text = ' '.join(text_list)"
      ],
      "execution_count": null,
      "outputs": []
    },
    {
      "cell_type": "markdown",
      "metadata": {
        "id": "xR9bp45DPrpk"
      },
      "source": [
        "### Clean the acquired HTML, extracting just the text."
      ]
    },
    {
      "cell_type": "code",
      "metadata": {
        "id": "2WDwwPBZPrpl",
        "outputId": "a79db217-4560-41f9-ad52-9e6d2a66b6b5",
        "colab": {
          "base_uri": "https://localhost:8080/",
          "height": 103
        }
      },
      "source": [
        "text.replace('\\n', '')"
      ],
      "execution_count": 39,
      "outputs": [
        {
          "output_type": "execute_result",
          "data": {
            "application/vnd.google.colaboratory.intrinsic+json": {
              "type": "string"
            },
            "text/plain": [
              "'Home Database Tutorial Database Interview Questions  Prev Next    Sql Database Tutorial    Database Practice Test    Database Pragnya Meter Exam  Database Jobs  All Interview Questions Question 1. Explain What Is Sqlite Transactions?Answer :The transaction is referred as a unit of work that is performed against a database. It is the propagation of one or more changes to the database. Properties of transactions are determined by ACID.Atomicity: It ensures that all work unit are successfully completed.Consistency: It ensures that the database changes states upon a successfully committed transaction.Isolation: It enables transactions to operate independently of and transparent to each other.Durability: It ensures that the result or effect of a committed transaction persists in case of a system failure. Atomicity: It ensures that all work unit are successfully completed. Consistency: It ensures that the database changes states upon a successfully committed transaction. Isolation: It enables transactions to operate independently of and transparent to each other. Durability: It ensures that the result or effect of a committed transaction persists in case of a system failure. Question 2. What Does Sql Stand For, And What Is It Used For?Answer :SQL stands for structured query language, used with relational databases. It is used to query, update, and retrieve the contents of databases. Question 3. List Out The Areas Where Sql Lite Works Well?Answer :SQL lite works well with :Embedded devices and the internet of things.Application file format.Data Analysis.Websites.Cache for enterprise data.Server side database.File archives.Internal or temporary databases.Replacement for ad hoc disk files.Experimental SQL language extensions.Stand-in for an enterprise database during demos or testing. Embedded devices and the internet of things. Application file format. Data Analysis. Websites. Cache for enterprise data. Server side database. File archives. Internal or temporary databases. Replacement for ad hoc disk files. Experimental SQL language extensions. Stand-in for an enterprise database during demos or testing. Question 4. What Are Attributes?Answer :An attribute is a column in a table. Question 5. Differentiate Between A Having Clause And A Where Clause.Answer :HAVING CLAUSE :HAVING CLAUSE is used only with the SELECT statement.It is generally used in a GROUP BY clause in a query.If GROUP BY is not used, HAVING works like a WHERE clause.WHERE Clause :It is applied to each row before they become a part of the GROUP BY function in a query. HAVING CLAUSE is used only with the SELECT statement. It is generally used in a GROUP BY clause in a query. If GROUP BY is not used, HAVING works like a WHERE clause. It is applied to each row before they become a part of the GROUP BY function in a query. Question 6. What Is Data Mining And How Can It Be Used?Answer :Data mining refers to any procedure for collecting, analyzing, and summarizing the contents of a database. It can be used to judge the success of a business, marketing campaigns, and to forecast future trends. Question 7. Mention What Are The Sql Lite Storage Classes?Answer :SQL lite storage classes include :Null: The value is a NULL value.Integer: The value is a signed integer (1,2,3, etc.).Real: The value is a floating point value, stored as an 8 byte IEEE floating point number.Text: The value is a text string, stored using the database encoding ( UTF-8, UTF-16BE).BLOB (Binary Large Object): The value is a blob of data, exactly stored as it was input. Null: The value is a NULL value. Integer: The value is a signed integer (1,2,3, etc.). Real: The value is a floating point value, stored as an 8 byte IEEE floating point number. Text: The value is a text string, stored using the database encoding ( UTF-8, UTF-16BE). BLOB (Binary Large Object): The value is a blob of data, exactly stored as it was input. Question 8. What Is Database Normalization And Why Is It Done?Answer :This is the process of organizing data in a database efficiently, and it is done to make sure that connections and dependencies between data make sense, and to get rid of redundant data. Question 9. What Do Constraints Do? What Are The Types Of Constraints?Answer :Constraints are used to prevent the database from losing internal and external integrity. The types are: check, not null, unique, primary key, and foreign key. Question 10. What Are Fact Tables?Answer :Tables which track the progress of a certain process or activity, the primary tables of databases. Question 11. Describe The Three Levels Of Data Abstraction?Answer :Physical level: The lowest level of abstraction describes how data are stored.Logical level: The next higher level of abstraction, describes what data are stored in database and what relationship among those data.View level: The highest level of abstraction describes only part of entire database. Physical level: The lowest level of abstraction describes how data are stored. Logical level: The next higher level of abstraction, describes what data are stored in database and what relationship among those data. View level: The highest level of abstraction describes only part of entire database. Question 12. Explain What Is The Use Of Sqlite Group By Clause?Answer :The SQLITE group by clause is used in collaboration with the SELECT statement to arrange identical data into groups. Question 13. When Is The Update_statistics Command Used?Answer :When the processing of large data is done, this command is used.Whenever large number of deletions, modification or copy takes place into the tables, the indexes need to be updated to take care of these changes.\\xa0UPDATE_STATISTICS performs this job. When the processing of large data is done, this command is used. Whenever large number of deletions, modification or copy takes place into the tables, the indexes need to be updated to take care of these changes.\\xa0UPDATE_STATISTICS performs this job. Question 14. Explain How Boolean Values In Sql Lite Are Stored?Answer :Boolean values in SQL lite are stored as integers 0 (false) and 1 (true). SQL Lite does not have a separate Boolean storage class. Question 15. Explain What Is Sql Lite?Answer :SQL LITE is a mostly ACID compliant relational database management system contained in a relatively small C programming library. Question 16. Give A Comment On Transaction?Answer :Using transactions we can group all SQL commands into a single unit.The transaction begins with some task and finishes only when all tasks within it are over.The transaction gets over successfully only when all commands in it are successfully over. Even if one command fails, the whole transaction fails.The BEGIN TRANSACTION, ROLLBACK TRANSACTION, and COMMIT TRANSACTION statements are used to work with transactions.A group of tasks starts with the begin statement.In case of any problem, the rollback command is executed to abort the transaction.If all the tasks run successfully, all commands are executed through commit statement. Using transactions we can group all SQL commands into a single unit. The transaction begins with some task and finishes only when all tasks within it are over. The transaction gets over successfully only when all commands in it are successfully over. Even if one command fails, the whole transaction fails. The BEGIN TRANSACTION, ROLLBACK TRANSACTION, and COMMIT TRANSACTION statements are used to work with transactions. A group of tasks starts with the begin statement. In case of any problem, the rollback command is executed to abort the transaction. If all the tasks run successfully, all commands are executed through commit statement. Question 17. List Out The Standard Sql Lite Commands?Answer :The standard SQL Lite commands interact with relational databases are similar to SQL. They areSELECTCREATEINSERTUPDATEDROPDELETEBased on their operational nature these commands can be classified. SELECT CREATE INSERT UPDATE DROP DELETE Question 18. Define The \"integrity Rules\"?Answer :There are two Integrity rules.Entity Integrity: States that \"Primary key cannot have NULL value\".Referential Integrity: States that \"Foreign Key can be either a NULL value or should be Primary Key value of other relation. Question 19. What Is Database?Answer :A database is a logically coherent collection of data with some inherent meaning, representing some aspect of real world and which is designed, built and populated with data for a specific purpose. Question 20. Segregate Database Technology’s Development?Answer :The development of database technology is divided into:Structure or data modelNavigational modelSQL/ relational model Structure or data model Navigational model SQL/ relational model Question 21. What Are The Features Of Database Language?Answer :A database language may also incorporate features like:DBMS-specific Configuration and management of storage engine.\\xa0Computations to modification of query results by computations, like summing, counting, averaging, grouping, sorting and cross-referencing Constraint enforcement Application Programming Interface. DBMS-specific Configuration and management of storage engine.\\xa0 Computations to modification of query results by computations, like summing, counting, averaging, grouping, sorting and cross-referencing Constraint enforcement Application Programming Interface. Question 22. What Do Database Languages Do?Answer :As special-purpose languages, they have:Data definition languageData manipulation languageQuery language Data definition language Data manipulation language Query language Question 23. Define Database Model?Answer :A data model determining fundamentally how data can be stored, manipulated and organised and the structure of the database logically is called database model. Question 24. Enlist The Various Relationships Of Database?Answer :The various relationships of database are:One-to-one: Single table having drawn relationship with another table having similar kind of columns.One-to-many: Two tables having primary and foreign key relation.Many-to-many: Junction table having many tables related to many tables. One-to-one: Single table having drawn relationship with another table having similar kind of columns. One-to-many: Two tables having primary and foreign key relation. Many-to-many: Junction table having many tables related to many tables. Question 25. Define Normalization?Answer :Organized data void of inconsistent dependency and redundancy within a database is called normalization. Question 26. Enlist The Advantages Of Normalizing Database?Answer :Advantages of normalizing database are:No duplicate entriesSaves storage spaceBoasts the query performances. No duplicate entries Saves storage space Boasts the query performances. Question 27. Define De Normalization?Answer :Boosting up database performance, adding of redundant data which in turn helps rid of complex data is called denormalization. Question 28. Define Ddl And Dml?Answer :Managing properties and attributes of database is called Data Definition Language(DDL).Manipulating data in a database such as inserting, updating, deleting is defined as Data Manipulation Language. (DML) Question 29. Enlist Some Commands Of Ddl?Answer :CREATE: \\xa0Create is used in the CREATE TABLE statement. Syntax is:\\xa0\\xa0 \\xa0 CREATE TABLE [column name] ( [column definitions] ) [ table parameters]ALTER: \\xa0It helps in modification of an existing object of database. Syntax is:\\xa0ALTER objecttype objectname parameters.DROP:\\xa0It destroys an existing database, index, table or view. Syntax is:\\xa0DROP objecttype objectname. Question 30. Define Union All Operator And Union?Answer :Full recordings of two tables is Union All operator.A distinct recording of two tables is Union. Question 31. Define Cursor?Answer :A database object which helps in manipulating data row by row representing a result set is called cursor. Question 32. Enlist The Cursor Types?Answer :They are:Dynamic: it reflects changes while scrolling.Static: doesn’t reflect changes while scrolling and works on recording of snapshot.Keyset: data modification without reflection of new data is seen. Question 33. Define Sub-query?Answer :A query contained by a query is called Sub-query. Question 34. Why Is Group-clause Used?Answer :Group-clause uses aggregate values to be derived by collecting similar data. Question 35. Compare Non-clustered And Clustered Index?Answer :Both having B-tree structure, non-clustered index has data pointers enabling one table many non-clustered indexes while clustered index is distinct for every table. Question 36. Define Aggregate Functions?Answer :Functions which operate against a collection of values and returning single value is called aggregate functions. Question 37. Define Scalar Functions?Answer :Scalar function is depended on the argument given and returns sole value. Question 38. What Restrictions Can You Apply When You Are Creating Views?Answer :Restrictions that are applied are:Only the current database can have views.You are not liable to change any computed value in any particular view.Integrity constants decide the functionality of INSERT and DELETE.Full-text index definitions cannot be applied.Temporary views cannot be created.Temporary tables cannot contain views.No association with DEFAULT definitions.Triggers such as INSTEAD OF is associated with views. Only the current database can have views. You are not liable to change any computed value in any particular view. Integrity constants decide the functionality of INSERT and DELETE. Full-text index definitions cannot be applied. Temporary views cannot be created. Temporary tables cannot contain views. No association with DEFAULT definitions. Triggers such as INSTEAD OF is associated with views. Question 39. Define “correlated Sub Queries”?Answer :A ‘correlated subquery’ is a sort of sub query but correlated subquery is reliant on another query for a value that is returned. In case of execution, the sub query is executed first and then the correlated query. Question 40. Define Data Warehousing?Answer :Storage and access of data from the central location in order to take some strategic decision is called Data Warehousing. Enterprise management is used for managing the information whose framework is known as Data Warehousing. Question 41. Define Join And Enlist Its Types?Answer :Joins help in explaining the relation between different tables. They also enable you to select data with relation to data in another table.The various types are:INNER JOINs: Blank rows are left in the middle while more than equal to two tables are joined.OUTER JOINs: Divided into Left Outer Join and Right Outer Join. Blank rows are left at the specified side by joining tables in other side.Other joins are CROSS JOINs, NATURAL JOINs, EQUI JOIN and NON-EQUI JOIN. Question 42. What Do You Mean By Index Hunting?Answer :Indexes help in improving the speed as well as the query performance of database. The procedure of boosting the collection of indexes is named as Index hunting. Question 43. How Does Index Hunting Help In Improving Query Performance?Answer :Index hunting helps in improving the speed as well as the query performance of database. The followed measures are achieved to do that:The query optimizer is used to coordinate the study of queries with the workload and the best use of queries suggested based on this.Index, query distribution along with their performance is observed to check the effect.Tuning databases to a small collection of problem queries is also recommended. The query optimizer is used to coordinate the study of queries with the workload and the best use of queries suggested based on this. Index, query distribution along with their performance is observed to check the effect. Tuning databases to a small collection of problem queries is also recommended. Question 44. Enlist The Disadvantages Of Query?Answer :The disadvantages of query are:No indexesStored procedures are excessively compiled.Triggers and procedures are without SET NOCOUNT ON.Complicated joins making up inadequately written query.Cursors and temporary tables showcase a bad presentation. No indexes Stored procedures are excessively compiled. Triggers and procedures are without SET NOCOUNT ON. Complicated joins making up inadequately written query. Cursors and temporary tables showcase a bad presentation. Question 45. Enlist Ways To Efficiently Code Transactions?Answer :Ways to efficiently code transactions:User input should not be allowed while transactions.While browsing, transactions must not be opened of data.Transactions must be kept as small as possible.Lower transaction segregation levels.Least information of data must be accessed while transacting. User input should not be allowed while transactions. While browsing, transactions must not be opened of data. Transactions must be kept as small as possible. Lower transaction segregation levels. Least information of data must be accessed while transacting. Question 46. What Is Executive Plan?Answer :Executive plan can be defined as:SQL Server caches collected procedure or the plan of query execution and used thereafter by subsequent calls.An important feature in relation to performance enhancement.Data execution plan can be viewed textually or graphically. SQL Server caches collected procedure or the plan of query execution and used thereafter by subsequent calls. An important feature in relation to performance enhancement. Data execution plan can be viewed textually or graphically. Question 47. Define B-trees?Answer :A data structure in the form of tree which stores sorted data and searches, insertions, sequential access and deletions are allowed in logarithmic time. Question 48. Differentiate Table Scan From Index Scan?Answer :Iterating over all the table rows is called Table Scan while iterating over all the index items is defined as Index Scan. Question 49. What Do You Mean By Fill Factor Concept With Respect To Indexes?Answer :Fill Factor can be defined as being that value which defines the percentage of left space on every leaf-level page that is to be packed with data. 100 is the default value of Fill Factor. Question 50. Define Fragmentation?Answer :Fragmentation can be defined as a database feature of server that promotes control on data which is stored at table level by the user. Question 51. What Do You Mean By Query Evaluation Engine?Answer :Query Evaluation Engine executes the low-level instructions that are generated by the compiler. Question 52. Define Ddl Interpreter?Answer :DDL statements are interpreted and recorded in tables called metadata. Question 53. Define Database System?Answer :DBMS along with database is called Database system. Question 54. Explain The Importance Of Partitioning?Answer :Splitting of one table which is large into smaller database entities logically is called database partitioning. Its benefits are:To improve query performance in situations dramatically when mostly rows which are heavily accessed are in one partition.Accessing large parts of a single partition.Slower and cheaper storage media can be used for data which is seldom used. To improve query performance in situations dramatically when mostly rows which are heavily accessed are in one partition. Accessing large parts of a single partition. Slower and cheaper storage media can be used for data which is seldom used. Question 55. What Is Database Partitioning?Answer :Division of logical database into independent complete units for improving its management, availability and performance is called Database partitioning. Question 56. Define Atomicity And Aggregation?Answer :Atomicity: It’s an all or none concept which enables the user to be assured of incomplete transactions to be taken care of. The actions involving incomplete transactions are left undone in DBMS.Aggregation: The collected entities and their relationship are aggregated in this model. It is mainly used in expressing relationships within relationships. Question 57. Enlist The Various Transaction Phases?Answer :The various transaction phases are:Analysis Phase.Redo Phase.Undo Phase. Analysis Phase. Redo Phase. Undo Phase. Question 58. Define Object-oriented Model?Answer :Compilations of objects make up this model in which values are stored within instance variables which is inside the object. The object itself comprises bodies of object for its operation which are called methods. Objects containing same kind of variables and methods are called classes. Question 59. Define Entity?Answer :It can be defined as being a ‘thing’ with an independent existence in the real world. Question 60. Define Entity Set ?Answer :Compilation of all entries of any particular type of entry in the database is called Entity Set. AJAX Interview questions Angular 4 Interview Questions  Android Interview Questions Azure B2C Interview questions AWS Interview Questions  Banking Interview questions Bioinformatics Interview questions Blockchain Interview questions Blue Prism Interview Questions  Bootstrap 4 Interview questions Business administration Interview questions Business Analyst Interview questions Business Finance Interview questions Chartered accountant Interview questions Data analyst Interview questions Data science Interview questions Database Interview questions EMC Interview questions DevOps Interview Questions  Ethernet Interview questions Ethical Hacking Interview questions ERP Tools Interview questions ETL Testing Interview Questions  Finance Interview questions GitHub Interview questions Hadoop Interview Questions Housekeeping Interview questions HTML 5 Interview questions IBM Cognos Interview questions Interior Designing Interview questions Insurance Interview questions Inventory planning Interview questions Java Interview Questions Jenkins Interview Questions JMeter Interview Questions Joomla Interview Questions  Legal Interview questions Linux Interview questions Marketing Interview questions Maven Interview Questions MongoDB Interview Questions MSBI Interview Questions Pharmacology Interview questions PHP+MySQL Interview Questions PL/SQL Interview Questions Project Management Interview questions Python Interview Questions Quality Analyst Interview questions ReactJS Interview questions RF Engineer Interview questions Ruby Interview questions Sailing Interview questions Sales Interview questions SAP FICO Interview questions Sap Hybris Interview Questions Services Marketing Interview questions Soap UI Interview Questions Solaris Interview questions Solid Works Interview questions Staffing Interview questions Tally Interview questions Tele Sales Interview questions Telemarketing Interview questions Ui Path Interview questions VLSI Interview questions VMware Interview questions XPath Interview questions Developers Best Practices Tutorial  YAML Tutorial  Salesforce Tutorial  Adobe Robohelp Tutorial Sublime Text Tutorial GItlab Tutorial Adobe InDesign CC Tutorial SaltStack Tutorial Summary  Career Planning in best practice  Managing Managers  Stress Management  Eager to Learn Handy Tools & Techniques Keep the Assets Safely Testing is the Religion Ravendb Interview Questions  Cobertura Interview Questions  Java Quartz Interview Questions  Cheque Truncation System Interview Questions  ECS Interview Questions  RTGS Interview Questions Private Equity Interview Questions Excel Formulas Interview Questions  Job Recommendation(Latest) Home Jobs Skills by LocationAjax Jobs In PuneAndroid Jobs In MumbaiAngularjs Jobs In BangaloreAnalytics Jobs In HyderabadAnimation Jobs In BangaloreAWS Jobs In ChennaiBlue Prism Jobs In PuneBootstrap Jobs In BangaloreC Jobs In HyderabadCloud Jobs In ChennaiCodeigniter Jobs In PuneDb2 Jobs In MumbaiDesigner Jobs In GurgaonDevops Jobs In HyderabadDocker Jobs In BangaloreDreamweaver Jobs In ChennaiEMC Storage Jobs In MumbaiEtl Testing Jobs In PuneFirmware Jobs In MumbaiFlash Jobs In HyderabadGoogle Cloud Jobs In BangaloreGoogle Maps Jobs In HyderabadHTML Jobs In CoimbatoreHadoop Jobs In HyderabadInformatica Jobs In ChennaiIOS Developer Jobs In MumbaiJava Developer Jobs In PuneJavascript Jobs In HyderabadJboss Jobs In ChennaiJenkins Jobs In MumbaiJoomla Jobs In PuneJquery Jobs In HyderabadKpo Jobs In KolkataLinux Jobs In ChennaiMaven Jobs In HyderabadMS SQL Server Jobs In DelhiNetworking Jobs In NoidaOracle DBA Jobs In KolkataPHP Jobs In ChennaiPhotoshop Jobs In HyderabadPuppet Jobs In BangalorePython Jobs In PuneQlikview Jobs In HyderabadQtp Jobs In PuneDBMS Jobs In HyderabadRed Hat Cloud Jobs In BangaloreRPA Jobs In BangaloreSalesforce CRM Jobs In DelhiSAP ABAP Jobs In GurgaonSAP Hybris Jobs In BangaloreSelenium Jobs In KarnatakaTableau Jobs In BangaloreUI Developer Jobs In BangaloreUI Path Jobs In NoidaUi/Ux Jobs In HyderabadVLSI Design Jobs In ChennaiWeb Services Jobs In DelhiWordpress Jobs In BangaloreAccountant Jobs In HyderabadAdmin Executive Jobs In KolkataAirport Jobs In HyderabadArchitecture Jobs In DelhiAutoCAD Jobs In ChennaiBackend Jobs In MumbaiBack Office Jobs In BangaloreBPO Jobs In ChennaiBank Jobs In BangaloreCall Center Jobs In ChennaiCivil Engineering Jobs In ChennaiDigital Marketing Jobs In DelhiDriver Jobs In DelhiData Entry Jobs In BangaloreElectrical Jobs In ChennaiFinance Jobs In MumbaiFreelancer Jobs In HyderabadFront Desk Jobs In KolkataFaculty Jobs In MumbaiHotel Jobs In BangaloreHR Jobs In NoidaLogistics Jobs In ChennaiMarketing Jobs In MysoreMBA Jobs In HyderabadSales Jobs In MumbaiSupervisor Jobs In DelhiTally Jobs In HyderabadNaukri JobsShine JobsMonster India JobsTimes JobsIndeed JobsAll JobsAdvanced SearchFreshers worldFree job alertSarkari ResultFind all JobsBrowse all JobsJobs By SkillsJobs By DesignationsJobs By CategoryInterview Questions Ajax Jobs In Pune Android Jobs In Mumbai Angularjs Jobs In Bangalore Analytics Jobs In Hyderabad Animation Jobs In Bangalore AWS Jobs In Chennai Blue Prism Jobs In Pune Bootstrap Jobs In Bangalore C Jobs In Hyderabad Cloud Jobs In Chennai Codeigniter Jobs In Pune Db2 Jobs In Mumbai Designer Jobs In Gurgaon Devops Jobs In Hyderabad Docker Jobs In Bangalore Dreamweaver Jobs In Chennai EMC Storage Jobs In Mumbai Etl Testing Jobs In Pune Firmware Jobs In Mumbai Flash Jobs In Hyderabad Google Cloud Jobs In Bangalore Google Maps Jobs In Hyderabad HTML Jobs In Coimbatore Hadoop Jobs In Hyderabad Informatica Jobs In Chennai IOS Developer Jobs In Mumbai Java Developer Jobs In Pune Javascript Jobs In Hyderabad Jboss Jobs In Chennai Jenkins Jobs In Mumbai Joomla Jobs In Pune Jquery Jobs In Hyderabad Kpo Jobs In Kolkata Linux Jobs In Chennai Maven Jobs In Hyderabad MS SQL Server Jobs In Delhi Networking Jobs In Noida Oracle DBA Jobs In Kolkata PHP Jobs In Chennai Photoshop Jobs In Hyderabad Puppet Jobs In Bangalore Python Jobs In Pune Qlikview Jobs In Hyderabad Qtp Jobs In Pune DBMS Jobs In Hyderabad Red Hat Cloud Jobs In Bangalore RPA Jobs In Bangalore Salesforce CRM Jobs In Delhi SAP ABAP Jobs In Gurgaon SAP Hybris Jobs In Bangalore Selenium Jobs In Karnataka Tableau Jobs In Bangalore UI Developer Jobs In Bangalore UI Path Jobs In Noida Ui/Ux Jobs In Hyderabad VLSI Design Jobs In Chennai Web Services Jobs In Delhi Wordpress Jobs In Bangalore Accountant Jobs In Hyderabad Admin Executive Jobs In Kolkata Airport Jobs In Hyderabad Architecture Jobs In Delhi AutoCAD Jobs In Chennai Backend Jobs In Mumbai Back Office Jobs In Bangalore BPO Jobs In Chennai Bank Jobs In Bangalore Call Center Jobs In Chennai Civil Engineering Jobs In Chennai Digital Marketing Jobs In Delhi Driver Jobs In Delhi Data Entry Jobs In Bangalore Electrical Jobs In Chennai Finance Jobs In Mumbai Freelancer Jobs In Hyderabad Front Desk Jobs In Kolkata Faculty Jobs In Mumbai Hotel Jobs In Bangalore HR Jobs In Noida Logistics Jobs In Chennai Marketing Jobs In Mysore MBA Jobs In Hyderabad Sales Jobs In Mumbai Supervisor Jobs In Delhi Tally Jobs In Hyderabad Naukri Jobs Shine Jobs Monster India Jobs Times Jobs Indeed Jobs All Jobs Advanced Search Freshers world Free job alert Sarkari Result Find all Jobs Browse all Jobs Jobs By Skills Jobs By Designations Jobs By Category Interview Questions Jobs By Companies  Jobs By CompaniesAdani Port CareersAdani Power Limited CareersAditi Technologies CareersAEGIS CareersAmazon CareersAndhra Bank CareersAPL Logistics CareersApollo Tyres CareersApple CareersArvind CareersAshok Leyland CareersAsian Paints CareersAurobindo Pharma CareersAxis Bank CareersBajaj Finserv CareersBharti Airtel CareersBharat Petroleum CareersBhushan Steel CareersBiocon CareersBirla CareersBlue Star CareersBosch CareersBrigade Group CareersCanara Bank CareersCapgemini CareersCESC CareersCipla CareersCTS CareersConvergys CareersCummins CareersCyient CareersDell CareersDewan Housing Finance CareersDLF Group CareersEBay Inc. CareersEMC CareersExide CareersFederal Bank CareersFuture Retail CareersGETIT Infoservices CareersGitanjali Gems CareersGodrej CareersHCL CareersHDFC Bank CareersHero Motors CareersHewlett Packard CareersHexaware CareersHinduja Global Solutions CareersHindustan Construction CareersHSBC CareersICICI Bank CareersIBM CareersIdea Cellular CareersIGATE Global Solutions CareersIndian Oil CareersIndian Overseas Bank CareersIndusind Bank CareersInfosys CareersIngram Micro CareersIntel CareersITC CareersJet Airways CareersJindal CareersJindal Stainless CareersJSW Steel CareersKotak Mahindra Bank CareersLarsen & Toubro CareersLupin CareersMPhasis CareersNestle CareersNTPC CareersOracle CareersQualcomm CareersQuest Global CareersRamco Systems CareersReliance Capital CareersRolta CareersSitel CareersSonata Software CareersTCS CareersTata Motors CareersTech Mahindra CareersThirdware CareersTitan Industries CareersTvs Motor CareersXerox CareersZensar Technologies CareersView All CompaniesAll JobsAdvanced SearchFreshers worldFree job alertSarkari ResultFind all JobsBrowse all JobsJobs By SkillsJobs By DesignationsJobs By CategoryInterview Questions Adani Port Careers Adani Power Limited Careers Aditi Technologies Careers AEGIS Careers Amazon Careers Andhra Bank Careers APL Logistics Careers Apollo Tyres Careers Apple Careers Arvind Careers Ashok Leyland Careers Asian Paints Careers Aurobindo Pharma Careers Axis Bank Careers Bajaj Finserv Careers Bharti Airtel Careers Bharat Petroleum Careers Bhushan Steel Careers Biocon Careers Birla Careers Blue Star Careers Bosch Careers Brigade Group Careers Canara Bank Careers Capgemini Careers CESC Careers Cipla Careers CTS Careers Convergys Careers Cummins Careers Cyient Careers Dell Careers Dewan Housing Finance Careers DLF Group Careers EBay Inc. Careers EMC Careers Exide Careers Federal Bank Careers Future Retail Careers GETIT Infoservices Careers Gitanjali Gems Careers Godrej Careers HCL Careers HDFC Bank Careers Hero Motors Careers Hewlett Packard Careers Hexaware Careers Hinduja Global Solutions Careers Hindustan Construction Careers HSBC Careers ICICI Bank Careers IBM Careers Idea Cellular Careers IGATE Global Solutions Careers Indian Oil Careers Indian Overseas Bank Careers Indusind Bank Careers Infosys Careers Ingram Micro Careers Intel Careers ITC Careers Jet Airways Careers Jindal Careers Jindal Stainless Careers JSW Steel Careers Kotak Mahindra Bank Careers Larsen & Toubro Careers Lupin Careers MPhasis Careers Nestle Careers NTPC Careers Oracle Careers Qualcomm Careers Quest Global Careers Ramco Systems Careers Reliance Capital Careers Rolta Careers Sitel Careers Sonata Software Careers TCS Careers Tata Motors Careers Tech Mahindra Careers Thirdware Careers Titan Industries Careers Tvs Motor Careers Xerox Careers Zensar Technologies Careers View All Companies All Jobs Advanced Search Freshers world Free job alert Sarkari Result Find all Jobs Browse all Jobs Jobs By Skills Jobs By Designations Jobs By Category Interview Questions Jobs By Locations  Jobs in DelhiJobs in BangaloreJobs in ChennaiJobs in MumbaiJobs in PuneJobs in HyderabadJobs in KolkataJobs in ChandigarhJobs in GurgaonJobs in NoidaJobs in AhmedabadJobs in VijayawadaJobs in Andhra PradeshJobs in VisakhapatnamJobs in TirupatiJobs in GunturJobs in RajahmundryJobs in AssamJobs in DibrugarhJobs in GuwahatiJobs in SilcharJobs in TezpurJobs in ChhattisgarhJobs in RaipurJobs in RaigarhJobs in KorbaJobs in BilaspurJobs in GujaratJobs in RajkotJobs in GandhinagarJobs in SuratJobs in VadodaraJobs in HaryanaJobs in AmbalaJobs in FaridabadJobs in DharuheraJobs in HisarJobs in JharkhandJobs in BokaroJobs in DhanbadJobs in JamshedpurJobs in RanchiJobs in KeralaJobs in TrivandrumJobs in KottayamJobs in ErnakulamJobs in KollamJobs in KarnatakaJobs in BidarJobs in MysoreJobs in GulbargaJobs in Mangalore Jobs in UttarakhandJobs in DehradunJobs in HaridwarJobs in KashipurJobs in PantnagarJobs in Madhya PradeshJobs in BhopalJobs in IndoreJobs in JabalpurJobs in UjjainJobs in OdishaJobs in BhubaneshwarJobs in CuttackJobs in PuriJobs in JharsugudaJobs in RajasthanJobs in JodhpurJobs in JaipurJobs in Mount AbuJobs in UdaipurJobs in PunjabJobs in AmritsarJobs in PatialaJobs in RajpuraJobs in MohaliJobs in Tamil NaduJobs in KanchipuramJobs in MaduraiJobs in OotyJobs in CoimbatoreJobs in TelanganaJobs in NizamabadJobs in KhammamJobs in KarimnagarJobs in WarangalJobs in Uttar PradeshJobs in LucknowJobs in AllahabadJobs in KanpurJobs in VaranasiJobs in West BengalJobs in KharagpurJobs in BurdwanJobs in HaldiaJobs in SiliguriJobs in MaharashtraJobs in NasikJobs in SolapurJobs in Navi MumbaiJobs in NagpurJobs in Himachal PradeshJobs in ShimlaJobs in ChambaJobs in DalhousieJobs in DharmasalaJobs in Jammu KashmirJobs in JammuJobs in SrinagarJobs in MeghalayaJobs in ShillongJobs in GoaJobs in PanjimJobs in Vasco Da GamaJobs in NagalandJobs in DimapurJobs in KohimaView All LocationsAll JobsAdvanced SearchFreshers worldFree job alertSarkari ResultFind all JobsBrowse all JobsJobs By SkillsJobs By DesignationsJobs By CategoryInterview Questions Jobs in Delhi Jobs in Bangalore Jobs in Chennai Jobs in Mumbai Jobs in Pune Jobs in Hyderabad Jobs in Kolkata Jobs in Chandigarh Jobs in Gurgaon Jobs in Noida Jobs in Ahmedabad Jobs in Vijayawada Jobs in Visakhapatnam Jobs in Tirupati Jobs in Guntur Jobs in Rajahmundry Jobs in Dibrugarh Jobs in Guwahati Jobs in Silchar Jobs in Tezpur Jobs in Raipur Jobs in Raigarh Jobs in Korba Jobs in Bilaspur Jobs in Rajkot Jobs in Gandhinagar Jobs in Surat Jobs in Vadodara Jobs in Ambala Jobs in Faridabad Jobs in Dharuhera Jobs in Hisar Jobs in Bokaro Jobs in Dhanbad Jobs in Jamshedpur Jobs in Ranchi Jobs in Trivandrum Jobs in Kottayam Jobs in Ernakulam Jobs in Kollam Jobs in Bidar Jobs in Mysore Jobs in Gulbarga Jobs in Mangalore Jobs in Dehradun Jobs in Haridwar Jobs in Kashipur Jobs in Pantnagar Jobs in Bhopal Jobs in Indore Jobs in Jabalpur Jobs in Ujjain Jobs in Bhubaneshwar Jobs in Cuttack Jobs in Puri Jobs in Jharsuguda Jobs in Jodhpur Jobs in Jaipur Jobs in Mount Abu Jobs in Udaipur Jobs in Amritsar Jobs in Patiala Jobs in Rajpura Jobs in Mohali Jobs in Kanchipuram Jobs in Madurai Jobs in Ooty Jobs in Coimbatore Jobs in Nizamabad Jobs in Khammam Jobs in Karimnagar Jobs in Warangal Jobs in Lucknow Jobs in Allahabad Jobs in Kanpur Jobs in Varanasi Jobs in Kharagpur Jobs in Burdwan Jobs in Haldia Jobs in Siliguri Jobs in Nasik Jobs in Solapur Jobs in Navi Mumbai Jobs in Nagpur Jobs in Shimla Jobs in Chamba Jobs in Dalhousie Jobs in Dharmasala Jobs in Jammu Jobs in Srinagar Jobs in Shillong Jobs in Panjim Jobs in Vasco Da Gama Jobs in Dimapur Jobs in Kohima View All Locations All Jobs Advanced Search Freshers world Free job alert Sarkari Result Find all Jobs Browse all Jobs Jobs By Skills Jobs By Designations Jobs By Category Interview Questions Govt JobsState Govt JobsAP Government JobsBihar Government JobsDelhi Government JobsGujarat Government JobsJharkhand Government JobsKarnataka Government JobsKerala Government JobsMaharashtra Government JobsOrissa Government JobsPunjab Government JobsRajasthan Government JobsTamilnadu Government JobsTelangana Government Jobs UP Government JobsWest Bengal Government Jobs View All Government JobsBank JobsAllahabad bank JobsAxis Bank JobsBank of Baroda JobsBank Of India JobsBank Of Maharashtra JobsCanara Bank JobsCorporation Bank JobsCosmos Bank JobsFederal Bank JobsHDFC Bank JobsICICI Bank JobsIDBI Bank JobsKarur Vysya Bank JobsReserve Bank of India JobsState Bank of India JobsView All Banks JobsDefence JobsBSF JobsIndian Army JobsIndian Air Force JobsIndian Navy JobsPolice JobsAIATSL Recruitment JobsBihar Police Recruitment JobsBSF Constable Recruitment JobsCRPF JobsCISF Recruitment JobsDRDO JobsHAL Recruitment JobsManipur Police Recruitment JobsMTS Air Force JobsUP Police Recruitment JobsView All Defence JobsPSCAPPSC JobsBPSC JobsCGPSC JobsGPSC JobsHPPSC JobsJKPSC JobsJPSC JobsMPPSC JobsOPSC JobsRPSC JobsTNPSC JobsTSPSC JobsUPSC JobsUPPSC JobsWBPSC JobsView All PSCSSC JobsBihar SSC Recruitment Jobs SSC Central JobsState Wise SSC Posts JobsOSSC Recruitment JobsHPSSC Recruitment JobsHSSC Recruitment JobsSSC Allahabad Recruitment JobsSSC Assistant Grade JobsSSC Constable Recruitment JobsSSC ER Recruitment JobsSSC Karnataka Recruitment JobsSSC Kerala Recruitment JobsSSC NWR Recrutment JobsSSC WR Recruitment JobsSSCMPR Recruitment JobsView All SSC JobsRailway JobsRRC jobsCentral Railway Recruitment JobsCLW Recruitment JobsCRWC Recruitment JobsDLW Recruitment JobsEastern Railway Recruitment JobsGujarat Metro Rail Recruitment JobsICRON Recruitment JobsIRSDC Recruitment JobsKochi Metro Rail Recruitment JobsMumbai Metro Rail Recruitment jobsRRB Ahmedabad Recruitment jobsRRB Secunderabad Recruitment jobsRRC Central Railway Recruitment jobsRVNL Recruitment Jobs View All Railway JobsAll JobsAdvanced SearchFreshers worldFree job alertSarkari ResultFind all JobsBrowse all JobsJobs By SkillsJobs By DesignationsJobs By CategoryInterview Questions AP Government Jobs Bihar Government Jobs Delhi Government Jobs Gujarat Government Jobs Jharkhand Government Jobs Karnataka Government Jobs Kerala Government Jobs Maharashtra Government Jobs Orissa Government Jobs Punjab Government Jobs Rajasthan Government Jobs Tamilnadu Government Jobs Telangana Government Jobs  UP Government Jobs West Bengal Government Jobs  View All Government Jobs Allahabad bank Jobs Axis Bank Jobs Bank of Baroda Jobs Bank Of India Jobs Bank Of Maharashtra Jobs Canara Bank Jobs Corporation Bank Jobs Cosmos Bank Jobs Federal Bank Jobs HDFC Bank Jobs ICICI Bank Jobs IDBI Bank Jobs Karur Vysya Bank Jobs Reserve Bank of India Jobs State Bank of India Jobs View All Banks Jobs BSF Jobs Indian Army Jobs Indian Air Force Jobs Indian Navy Jobs Police Jobs AIATSL Recruitment Jobs Bihar Police Recruitment Jobs BSF Constable Recruitment Jobs CRPF Jobs CISF Recruitment Jobs DRDO Jobs HAL Recruitment Jobs Manipur Police Recruitment Jobs MTS Air Force Jobs UP Police Recruitment Jobs View All Defence Jobs APPSC Jobs BPSC Jobs CGPSC Jobs GPSC Jobs HPPSC Jobs JKPSC Jobs JPSC Jobs MPPSC Jobs OPSC Jobs RPSC Jobs TNPSC Jobs TSPSC Jobs UPSC Jobs UPPSC Jobs WBPSC Jobs View All PSC Bihar SSC Recruitment Jobs  SSC Central Jobs State Wise SSC Posts Jobs OSSC Recruitment Jobs HPSSC Recruitment Jobs HSSC Recruitment Jobs SSC Allahabad Recruitment Jobs SSC Assistant Grade Jobs SSC Constable Recruitment Jobs SSC ER Recruitment Jobs SSC Karnataka Recruitment Jobs SSC Kerala Recruitment Jobs SSC NWR Recrutment Jobs SSC WR Recruitment Jobs SSCMPR Recruitment Jobs View All SSC Jobs RRC jobs Central Railway Recruitment Jobs CLW Recruitment Jobs CRWC Recruitment Jobs DLW Recruitment Jobs Eastern Railway Recruitment Jobs Gujarat Metro Rail Recruitment Jobs ICRON Recruitment Jobs IRSDC Recruitment Jobs Kochi Metro Rail Recruitment Jobs Mumbai Metro Rail Recruitment jobs RRB Ahmedabad Recruitment jobs RRB Secunderabad Recruitment jobs RRC Central Railway Recruitment jobs RVNL Recruitment Jobs  View All Railway Jobs All Jobs Advanced Search Freshers world Free job alert Sarkari Result Find all Jobs Browse all Jobs Jobs By Skills Jobs By Designations Jobs By Category Interview Questions Walkin JobsLatest walkinsToday walkinsTomorrow walkinsLatest WalkinsFresher WalkinsWalkins by SkillBpo Walkins In BangaloreBpo Walkins In ChennaiBpo Walkins In GurgaonBpo Walkins In HyderabadBpo Walkins In MumbaiBpo Walkins In PuneDot Net Walkins In BangaloreDot Net Walkins In ChennaiDot Net Walkins In GurgaonDot Net Walkins In HyderabadDot Net Walkins In PuneJava Walkins In BangaloreJava Walkins In ChennaiJava Walkins In GurgaonJava Walkins In HyderabadJava Walkins In KolkataJava Walkins In MumbaiJava Walkins In PunePhp Walkins In BangalorePhp Walkins In ChennaiPhp Walkins In GurgaonPhp Walkins In HyderabadPhp Walkins In MumbaiPhp Walkins In PuneWalkins by locationWalkins In AhmedabadWalkins In BangaloreWalkins In ChandigarhWalkins In ChennaiWalkins In DelhiWalkins In GurgaonWalkins In GuwahatiWalkins In HyderabadWalkins In JaipurWalkins In KanpurWalkins In KolkataWalkins In MumbaiWalkins In NoidaWalkins In PatnaWalkins In PuneWalkins In SuratToday Walkins In AhmedabadToday Walkins In BangaloreToday Walkins In ChandigarhToday Walkins In ChennaiToday Walkins In DelhiToday Walkins In GurgaonToday Walkins In GuwahatiToday Walkins In HyderabadToday Walkins In JaipurToday Walkins In KanpurToday Walkins In KolkataToday Walkins In MumbaiToday Walkins In NoidaToday Walkins In PatnaToday Walkins In PuneToday Walkins In SuratWalkins by CompanyAmazon Walkins In DelhiGoogle Walkins In NoidaGoogle Walkins In MumbaiHSBC Walkins In ChennaiHSBC Walkins In MumbaiHSBC Walkins In HyderabadHSBC Walkins In BangaloreHCL Walkins In MumbaiHCL Walkins In HyderabadHCL Walkins In BangaloreIBM Walkins In BangaloreIBM Walkins In ChennaiIBM Walkins In HyderabadInfosys Walkins In BangaloreInfosys Walkins In ChennaiInfosys Walkins In MumbaiTCS Walkins In BangaloreTCS Walkins In HyderabadTCS Walkins In MumbaiTech Mahindra Walkins In ChandigarhTech Mahindra Walkins In ChennaiTech Mahindra Walkins In DelhiTech Mahindra Walkins In GurgaonTech Mahindra Walkins In HyderabadTech Mahindra Walkins In NoidaTech Mahindra Walkins In Pune View All WalkinsAll JobsAdvanced SearchFreshers worldFree job alertSarkari ResultFind all JobsBrowse all JobsJobs By SkillsJobs By DesignationsJobs By CategoryInterview Questions Today walkins Tomorrow walkins Latest Walkins Fresher Walkins Bpo Walkins In Bangalore Bpo Walkins In Chennai Bpo Walkins In Gurgaon Bpo Walkins In Hyderabad Bpo Walkins In Mumbai Bpo Walkins In Pune Dot Net Walkins In Bangalore Dot Net Walkins In Chennai Dot Net Walkins In Gurgaon Dot Net Walkins In Hyderabad Dot Net Walkins In Pune Java Walkins In Bangalore Java Walkins In Chennai Java Walkins In Gurgaon Java Walkins In Hyderabad Java Walkins In Kolkata Java Walkins In Mumbai Java Walkins In Pune Php Walkins In Bangalore Php Walkins In Chennai Php Walkins In Gurgaon Php Walkins In Hyderabad Php Walkins In Mumbai Php Walkins In Pune Walkins In Ahmedabad Walkins In Bangalore Walkins In Chandigarh Walkins In Chennai Walkins In Delhi Walkins In Gurgaon Walkins In Guwahati Walkins In Hyderabad Walkins In Jaipur Walkins In Kanpur Walkins In Kolkata Walkins In Mumbai Walkins In Noida Walkins In Patna Walkins In Pune Walkins In Surat Today Walkins In Ahmedabad Today Walkins In Bangalore Today Walkins In Chandigarh Today Walkins In Chennai Today Walkins In Delhi Today Walkins In Gurgaon Today Walkins In Guwahati Today Walkins In Hyderabad Today Walkins In Jaipur Today Walkins In Kanpur Today Walkins In Kolkata Today Walkins In Mumbai Today Walkins In Noida Today Walkins In Patna Today Walkins In Pune Today Walkins In Surat Amazon Walkins In Delhi Google Walkins In Noida Google Walkins In Mumbai HSBC Walkins In Chennai HSBC Walkins In Mumbai HSBC Walkins In Hyderabad HSBC Walkins In Bangalore HCL Walkins In Mumbai HCL Walkins In Hyderabad HCL Walkins In Bangalore IBM Walkins In Bangalore IBM Walkins In Chennai IBM Walkins In Hyderabad Infosys Walkins In Bangalore Infosys Walkins In Chennai Infosys Walkins In Mumbai TCS Walkins In Bangalore TCS Walkins In Hyderabad TCS Walkins In Mumbai Tech Mahindra Walkins In Chandigarh Tech Mahindra Walkins In Chennai Tech Mahindra Walkins In Delhi Tech Mahindra Walkins In Gurgaon Tech Mahindra Walkins In Hyderabad Tech Mahindra Walkins In Noida Tech Mahindra Walkins In Pune  View All Walkins All Jobs Advanced Search Freshers world Free job alert Sarkari Result Find all Jobs Browse all Jobs Jobs By Skills Jobs By Designations Jobs By Category Interview Questions Assessments  TutorialsPOPULAR COURSESIT SkillsAdobe Flex Tutorial Adv Java Tutorial Agile Testing Tutorial Ajax TutorialAndroid TutorialAsp.net TutorialBlackberry TutorialBootstrap TutorialC TutorialC++Tutorial CakePHP Tutorial COBOL Tutorial Core Java Tutorial Css3 TutorialDrupal Tutorial Hadoop TutorialHtml TutorialIBM Cognos Tutorial IOS TutorialJ Query Tutorial Java TutorialJava Script Tutorial JMeter Tutorial Joomla TutorialLinux TutorialLoadRunner Tutorial Maven TutorialMS Azure TutorialMysql TutorialNetworking TutorialNode.js Tutorial Oracle TutorialPHP TutorialPython TutorialQlik View TutorialQTP Tutorial Sap BI TutorialSap Hr TutorialSelenium TutorialT-SQL TutorialTesting Tools TutorialVSAM Tutorial Management SkillsAdvertising Management TutorialArtificial Intelligence Tutorial Business Analyst TutorialBusiness Environment Tutorial Consumer Behaviour Tutorial Critical Thinking Tutorial E-commerce Concepts TutorialFood Resources Manual TutorialForex Management Tutorial Global Money Markets TutorialStatistics Tutorial Management Hotel TutorialManagerial Economics Tutorial Marketing Management TutorialMarketing Research Tutorial Organisational Behaviour Tutorial Payroll Management TutorialPatent Law TutorialPrinciples Of Management TutorialPrinciples Of Service Marketing Management Tutorial Project Management TutorialProduction And Operations Management Tutorial Quantitative Techniques TutorialQuality Management TutorialResearch Methodology Tutorial Sales Management TutorialStrategic Management TutorialWorking Capital Management Tutorial Communication SkillsBusiness Communications TutorialPrinciples Of Communication TutorialBusiness SkillsBusiness Ethics TutorialChange Management TutorialMarketing Strategy TutorialSales Forecasting TutorialDigital Marketing SkillsDigital Marketing TutorialMobile Marketing TutorialPay Per Click (ppc) TutorialSocial Media Marketing TutorialHuman Resources SkillsHr Management TutorialTraining And Development TutorialHealth Care SkillsMedical Terminology(adaptive*) TutorialPharmacology TutorialFinance SkillsAccounts And Finance For Managers TutorialBusiness Management For Financial Advisers Tutorial Financial Management TutorialModern Banking TutorialTally TutorialAll CoursesAll Practice TestsAll JobsAdvanced SearchFreshers worldFree job alertSarkari ResultFind all JobsBrowse all JobsJobs By SkillsJobs By DesignationsJobs By CategoryInterview Questions Adobe Flex Tutorial  Adv Java Tutorial  Agile Testing Tutorial  Ajax Tutorial Android Tutorial Asp.net Tutorial Blackberry Tutorial Bootstrap Tutorial C Tutorial C++Tutorial  CakePHP Tutorial  COBOL Tutorial  Core Java Tutorial  Css3 Tutorial Drupal Tutorial  Hadoop Tutorial Html Tutorial IBM Cognos Tutorial  IOS Tutorial J Query Tutorial  Java Tutorial Java Script Tutorial  JMeter Tutorial  Joomla Tutorial Linux Tutorial LoadRunner Tutorial  Maven Tutorial MS Azure Tutorial Mysql Tutorial Networking Tutorial Node.js Tutorial  Oracle Tutorial PHP Tutorial Python Tutorial Qlik View Tutorial QTP Tutorial  Sap BI Tutorial Sap Hr Tutorial Selenium Tutorial T-SQL Tutorial Testing Tools Tutorial VSAM Tutorial  Advertising Management Tutorial Artificial Intelligence Tutorial  Business Analyst Tutorial Business Environment Tutorial  Consumer Behaviour Tutorial  Critical Thinking Tutorial  E-commerce Concepts Tutorial Food Resources Manual Tutorial Forex Management Tutorial  Global Money Markets Tutorial Statistics Tutorial  Management Hotel Tutorial Managerial Economics Tutorial  Marketing Management Tutorial Marketing Research Tutorial  Organisational Behaviour Tutorial  Payroll Management Tutorial Patent Law Tutorial Principles Of Management Tutorial Principles Of Service Marketing Management Tutorial  Project Management Tutorial Production And Operations Management Tutorial  Quantitative Techniques Tutorial Quality Management Tutorial Research Methodology Tutorial  Sales Management Tutorial Strategic Management Tutorial Working Capital Management Tutorial  Business Communications Tutorial Principles Of Communication Tutorial Business Ethics Tutorial Change Management Tutorial Marketing Strategy Tutorial Sales Forecasting Tutorial Digital Marketing Tutorial Mobile Marketing Tutorial Pay Per Click (ppc) Tutorial Social Media Marketing Tutorial Hr Management Tutorial Training And Development Tutorial Medical Terminology(adaptive*) Tutorial Pharmacology Tutorial Accounts And Finance For Managers Tutorial Business Management For Financial Advisers Tutorial  Financial Management Tutorial Modern Banking Tutorial Tally Tutorial All Jobs Advanced Search Freshers world Free job alert Sarkari Result Find all Jobs Browse all Jobs Jobs By Skills Jobs By Designations Jobs By Category Interview Questions  Services  Career EdgeResume Writing TipsTips to revamp your tech resume7 Step guide to post your resume onlineChallenge of Resume Preparation for FreshersTips for formatting your resume Have a Short and Attention Grabbing ResumeDo you have employment gaps in your resume?Making a great Resume: Get the basics rightResume Tips, Resume AdviceHow to get right job with right resume?How to design your resume?Have you ever lie on your resume? Read ThisTips for writing resume in slowdownWhat do employers look for in a resume?21 Resume tips for a killer resumeResume tips for techiesInterview Tips5 ways to be authentic in an interviewTips to help you face your job interviewTop 10 commonly asked BPO Interview questions5 things you should never talk in any job interview2018 Best job interview tips for job seekers7 Tips to recruit the right candidates in 20185 Important interview questions techies fumble mostWhat are avoidable questions in an Interview?Top 4 tips to help you get hired as a receptionist8 things ever to say in a job interview5 Tips to Overcome Fumble During an InterviewHow to Overcome Pre-interview JittersWhat Not to Do in a Job Interview?8 Mock Interview Questions for FreshersHow to face Telephone Interview?Career TipsThe impact of GST on job creationHow Can Freshers Keep Their Job Search Going?How to Convert Your Internship into a Full Time Job?5 Top Career Tips to Get Ready for a Virtual Job FairSmart tips to succeed in virtual job fairsWhy Email Marketing?Top 10 facts why you need a cover letter?6 things to remember for Eid celebrations9 ways to get succeed in job search5 ways to turn your internship in a job7 job search tips during RamadanTop 5 GCC jobs of the futureMost popular women in Tech HistoryBlind Hiring: 2018 Recruitment trend3 Golden rules to optimize your job searchNewsUnion Budget 2018 HighlightsOnline hiring saw 14% rise in November: ReportHiring Activities Saw Growth in March: ReportAttrition rate dips in corporate India: Survey2016 Most Productive year for Staffing: StudyThe impact of Demonetization across sectorsMost important skills required to get hiredHow startups are innovating with interview formatsDoes chemistry workout in job interviews?15 signs your job interview is going horriblyOverview of IT/ITes sectorTime to Expand NBFCs: Rise in Demand for TalentHere\\'s how to train middle managersThis is how banks are wooing startupsNokia to cut thousands of jobsAll JobsAdvanced SearchFreshers worldFree job alertSarkari ResultFind all JobsBrowse all JobsJobs By SkillsJobs By DesignationsJobs By CategoryInterview Questions Tips to revamp your tech resume 7 Step guide to post your resume online Challenge of Resume Preparation for Freshers Tips for formatting your resume  Have a Short and Attention Grabbing Resume Do you have employment gaps in your resume? Making a great Resume: Get the basics right Resume Tips, Resume Advice How to get right job with right resume? How to design your resume? Have you ever lie on your resume? Read This Tips for writing resume in slowdown What do employers look for in a resume? 21 Resume tips for a killer resume Resume tips for techies 5 ways to be authentic in an interview Tips to help you face your job interview Top 10 commonly asked BPO Interview questions 5 things you should never talk in any job interview 2018 Best job interview tips for job seekers 7 Tips to recruit the right candidates in 2018 5 Important interview questions techies fumble most What are avoidable questions in an Interview? Top 4 tips to help you get hired as a receptionist 8 things ever to say in a job interview 5 Tips to Overcome Fumble During an Interview How to Overcome Pre-interview Jitters What Not to Do in a Job Interview? 8 Mock Interview Questions for Freshers How to face Telephone Interview? The impact of GST on job creation How Can Freshers Keep Their Job Search Going? How to Convert Your Internship into a Full Time Job? 5 Top Career Tips to Get Ready for a Virtual Job Fair Smart tips to succeed in virtual job fairs Why Email Marketing? Top 10 facts why you need a cover letter? 6 things to remember for Eid celebrations 9 ways to get succeed in job search 5 ways to turn your internship in a job 7 job search tips during Ramadan Top 5 GCC jobs of the future Most popular women in Tech History Blind Hiring: 2018 Recruitment trend 3 Golden rules to optimize your job search Union Budget 2018 Highlights Online hiring saw 14% rise in November: Report Hiring Activities Saw Growth in March: Report Attrition rate dips in corporate India: Survey 2016 Most Productive year for Staffing: Study The impact of Demonetization across sectors Most important skills required to get hired How startups are innovating with interview formats Does chemistry workout in job interviews? 15 signs your job interview is going horribly Overview of IT/ITes sector Time to Expand NBFCs: Rise in Demand for Talent Here\\'s how to train middle managers This is how banks are wooing startups Nokia to cut thousands of jobs All Jobs Advanced Search Freshers world Free job alert Sarkari Result Find all Jobs Browse all Jobs Jobs By Skills Jobs By Designations Jobs By Category Interview Questions ABOUT US About Wisdom Jobs Contact US Privacy Policy Terms of Use Disclaimer Report a problem Help Press Corner Html site Map TOP COMPANY JOBS HDFC Careers Infosys Careers Mphasis Careers Axis Bank Careers Ashok Leyland Careers AEGIS Careers Convergys Careers Adobe Careers ICICI Bank Careers Indigo Careers Spicejet Careers HSBC Careers TOP CATEGORY JOBS Govt Jobs Freshers world Today walkins Sarkari Result Agriculture Jobs Defence Jobs NGO Jobs Real Estate Jobs Shipping Jobs Java Jobs Education Jobs Journalism Jobs SAP Jobs IT Software Jobs JOBS IN TOP LOCATIONS Jobs in Delhi Jobs in Bangalore Jobs in Mumbai Jobs in Pune Jobs in Chennai Jobs in Hyderabad Jobs in Kolkata Jobs in Chandigarh Jobs in Gurgaon Jobs in Noida Jobs in Ahmedabad Browse All Jobs ASSESSMENTS Pragnya Meter TUTORIALS E-University Skill Sets Practice Tests SERVICES Resume Writing Profile Enhancement Recruiter Reach JOB SEEKER Register Now RECRUITERS Post an alert Resume Search RESOURCES Career Edge Job Posting Guide Free Job Alerts Our Portals : Gulf Jobs Canada Jobs USA Jobs Italy Jobs UK Jobs South Africa Jobs Malaysia Jobs Singapore Jobs Australia Jobs New Zealand Jobs  3,24,69,003Resumes Uploaded  16,70,393Jobs Available  1,32,30,521 Assessments taken'"
            ]
          },
          "metadata": {
            "tags": []
          },
          "execution_count": 39
        }
      ]
    },
    {
      "cell_type": "markdown",
      "metadata": {
        "id": "yuxEDAXIPrpn"
      },
      "source": [
        "### Organize the text into a list of questions and answers.\n",
        "\n",
        "The best way to do this is to use a regular expression to split the text wherever a question or an answer appears (they are labeled)."
      ]
    },
    {
      "cell_type": "code",
      "metadata": {
        "id": "t7bBDIVPPrpn"
      },
      "source": [
        "dialog = re.compile('Question [0-9]+. | Answer :   ').split(text)\n",
        "dialog = dialog[1:-2]"
      ],
      "execution_count": 38,
      "outputs": []
    },
    {
      "cell_type": "markdown",
      "metadata": {
        "id": "1UHdgjt1Prpp"
      },
      "source": [
        "### Train a Chatterbot chatbot on the list of questions and answers."
      ]
    },
    {
      "cell_type": "code",
      "metadata": {
        "id": "q9ELJw67Prpp",
        "outputId": "aadba6e3-11da-4333-e16a-43f65a32ea69",
        "colab": {
          "base_uri": "https://localhost:8080/"
        }
      },
      "source": [
        "chatbot = ChatBot('DataBaseChatbot')\n",
        "chatbot.storage.drop()\n",
        "trainer = ListTrainer(chatbot)\n",
        "trainer.train(dialog)"
      ],
      "execution_count": 41,
      "outputs": [
        {
          "output_type": "stream",
          "text": [
            "List Trainer: [####################] 100%\n"
          ],
          "name": "stdout"
        }
      ]
    },
    {
      "cell_type": "markdown",
      "metadata": {
        "id": "IFwtqnM5Prpr"
      },
      "source": [
        "### Write the user interface logic that allows a user to ask the chatbot questions about databases and have the chatbot return an answer. \n",
        "\n",
        "Include logic that checks to see if the answer returned is going to be a question and if so, return the next element in the list after that question."
      ]
    },
    {
      "cell_type": "code",
      "metadata": {
        "id": "DuujcjQjPrps",
        "outputId": "dbaf2210-afab-43d8-b91b-a672191c6750",
        "colab": {
          "base_uri": "https://localhost:8080/"
        }
      },
      "source": [
        "print('Hi, my name is Josh. I am a chatbot')\n",
        "print('(by the way, if you want to..')\n",
        "\n",
        "while True:\n",
        "  user_input = input('User: ')\n",
        "\n",
        "\n",
        "  if user_input.lower() =='exit':\n",
        "    print('Bye. It was a pleasure chatting with you')\n",
        "    break\n",
        "    \n",
        "  else:\n",
        "    answer = chatbot.get_response(user_input).text\n",
        "    print(answer)\n",
        "\n"
      ],
      "execution_count": null,
      "outputs": [
        {
          "output_type": "stream",
          "text": [
            "Hi, my name is Josh. I am a chatbot\n",
            "(by the way, if you want to..\n",
            "What Is Data Mining And How Can It Be Used? Answer :Data mining refers to any procedure for collecting, analyzing, and summarizing the contents of a database. It can be used to judge the success of a business, marketing campaigns, and to forecast future trends.\n"
          ],
          "name": "stdout"
        }
      ]
    },
    {
      "cell_type": "code",
      "metadata": {
        "id": "noH2k8WzwdL1"
      },
      "source": [
        ""
      ],
      "execution_count": null,
      "outputs": []
    }
  ]
}