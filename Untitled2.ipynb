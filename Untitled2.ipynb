{
 "cells": [
  {
   "cell_type": "code",
   "execution_count": 48,
   "metadata": {},
   "outputs": [],
   "source": [
    "import pandas as pd\n",
    "import numpy as np\n",
    "import matplotlib.pyplot as plt\n",
    "from numpy import mean\n",
    "import seaborn as sns\n",
    "\n",
    "%matplotlib inline"
   ]
  },
  {
   "cell_type": "code",
   "execution_count": 49,
   "metadata": {},
   "outputs": [],
   "source": [
    "def reverse(a):\n",
    "    str = \"\"\n",
    "    for i in a:\n",
    "        str = i + str\n",
    "    return str"
   ]
  },
  {
   "cell_type": "code",
   "execution_count": 50,
   "metadata": {},
   "outputs": [],
   "source": [
    "a = 'IloveTraveling'"
   ]
  },
  {
   "cell_type": "code",
   "execution_count": 51,
   "metadata": {},
   "outputs": [
    {
     "name": "stdout",
     "output_type": "stream",
     "text": [
      "the original string is: IloveTraveling\n"
     ]
    }
   ],
   "source": [
    "print(\"the original string is: \",end=\"\")\n",
    "print(a)"
   ]
  },
  {
   "cell_type": "code",
   "execution_count": 52,
   "metadata": {},
   "outputs": [
    {
     "name": "stdout",
     "output_type": "stream",
     "text": [
      "The reversed string(using loops) is: gnilevarTevolI\n"
     ]
    }
   ],
   "source": [
    "print(\"The reversed string(using loops) is: \",end=\"\")\n",
    "print(reverse(a))"
   ]
  },
  {
   "cell_type": "markdown",
   "metadata": {},
   "source": []
  },
  {
   "cell_type": "markdown",
   "metadata": {},
   "source": [
    "Complete the function below that can be used to calculate and return the posterior probability of an event A, given the known outcome of Event B using Bayes Theorem:\n",
    "def bayes(a, b_given_a, b_given_not_a):\n",
    "\n",
    "    \"\"\"\n",
    "    Calculates P(A | B) using bayes theorem.\n",
    "\n",
    "    Args:\n",
    "        a: P(A)\n",
    "        b_given_a: P(B | A)\n",
    "        b_given_not_a: P(B | ~A)\n",
    "\n",
    "    Returns:\n",
    "        P(A | B)\n",
    "    \"\"\""
   ]
  },
  {
   "cell_type": "code",
   "execution_count": 53,
   "metadata": {},
   "outputs": [
    {
     "name": "stdout",
     "output_type": "stream",
     "text": [
      "0.8181818181818182\n"
     ]
    }
   ],
   "source": [
    "#bayes theorem: P(A|B) = P(B|A)*P(A)) / P(B)\n",
    "    # calculating prob of not A n_a = 1 - a \n",
    "    # calculating prob of b prob_b = b_given_a * a + b_given_not_a * n_a\n",
    "    # calculating prob of a given b prob_a_giv_b =(b_given_a*a,)/prob_b return prob_a_giv_b\n",
    "\n",
    "def bayes(a, b_given_a, b_given_not_a):\n",
    "    post_prob = (b_given_a * a) / ((b_given_a * a) + b_given_not_a * (1 - a))\n",
    "    return post_prob\n",
    "\n",
    "print(bayes(0.9, 3.5, 7))"
   ]
  },
  {
   "cell_type": "markdown",
   "metadata": {},
   "source": []
  },
  {
   "cell_type": "markdown",
   "metadata": {},
   "source": []
  },
  {
   "cell_type": "markdown",
   "metadata": {},
   "source": [
    "Analyze the teams dataset from the Lahman baseball records. This dataset contains season statistics for each Major League Baseball team.\n",
    "\n",
    "a. For all records since 1995, plot histograms for the following variables. Which distribution do they appear to follow? Consider what each variable is measuring along with the histogram's shape.\n",
    "\n",
    " - Stolen bases per game\n",
    " - Wins\n",
    " - Earned run average\n",
    "b. Conduct some further exploratory data analysis on this dataset. Consider qualities like distributions, correlations and trends over time. Try to find something interesting to say about the data, and use visualizations to support your argument.\n",
    "\n",
    "Choose any two of the variables from 3. Draw 1,000 samples, taking the mean of 100 observations each time. Plot the frequencies of the sample means. What distribution does this appear to follow?"
   ]
  },
  {
   "cell_type": "code",
   "execution_count": 64,
   "metadata": {},
   "outputs": [],
   "source": [
    "url = 'https://tf-assets-prod.s3.amazonaws.com/tf-curric/data-science/lahman-teams.csv'\n",
    "baseball_team = pd.read_csv(url)"
   ]
  },
  {
   "cell_type": "code",
   "execution_count": 65,
   "metadata": {
    "scrolled": false
   },
   "outputs": [
    {
     "data": {
      "text/html": [
       "<div>\n",
       "<style scoped>\n",
       "    .dataframe tbody tr th:only-of-type {\n",
       "        vertical-align: middle;\n",
       "    }\n",
       "\n",
       "    .dataframe tbody tr th {\n",
       "        vertical-align: top;\n",
       "    }\n",
       "\n",
       "    .dataframe thead th {\n",
       "        text-align: right;\n",
       "    }\n",
       "</style>\n",
       "<table border=\"1\" class=\"dataframe\">\n",
       "  <thead>\n",
       "    <tr style=\"text-align: right;\">\n",
       "      <th></th>\n",
       "      <th>yearID</th>\n",
       "      <th>lgID</th>\n",
       "      <th>teamID</th>\n",
       "      <th>franchID</th>\n",
       "      <th>divID</th>\n",
       "      <th>Rank</th>\n",
       "      <th>G</th>\n",
       "      <th>Ghome</th>\n",
       "      <th>W</th>\n",
       "      <th>L</th>\n",
       "      <th>...</th>\n",
       "      <th>DP</th>\n",
       "      <th>FP</th>\n",
       "      <th>name</th>\n",
       "      <th>park</th>\n",
       "      <th>attendance</th>\n",
       "      <th>BPF</th>\n",
       "      <th>PPF</th>\n",
       "      <th>teamIDBR</th>\n",
       "      <th>teamIDlahman45</th>\n",
       "      <th>teamIDretro</th>\n",
       "    </tr>\n",
       "  </thead>\n",
       "  <tbody>\n",
       "    <tr>\n",
       "      <th>0</th>\n",
       "      <td>1871</td>\n",
       "      <td>NaN</td>\n",
       "      <td>BS1</td>\n",
       "      <td>BNA</td>\n",
       "      <td>NaN</td>\n",
       "      <td>3</td>\n",
       "      <td>31</td>\n",
       "      <td>NaN</td>\n",
       "      <td>20</td>\n",
       "      <td>10</td>\n",
       "      <td>...</td>\n",
       "      <td>NaN</td>\n",
       "      <td>0.83</td>\n",
       "      <td>Boston Red Stockings</td>\n",
       "      <td>South End Grounds I</td>\n",
       "      <td>NaN</td>\n",
       "      <td>103</td>\n",
       "      <td>98</td>\n",
       "      <td>BOS</td>\n",
       "      <td>BS1</td>\n",
       "      <td>BS1</td>\n",
       "    </tr>\n",
       "    <tr>\n",
       "      <th>1</th>\n",
       "      <td>1871</td>\n",
       "      <td>NaN</td>\n",
       "      <td>CH1</td>\n",
       "      <td>CNA</td>\n",
       "      <td>NaN</td>\n",
       "      <td>2</td>\n",
       "      <td>28</td>\n",
       "      <td>NaN</td>\n",
       "      <td>19</td>\n",
       "      <td>9</td>\n",
       "      <td>...</td>\n",
       "      <td>NaN</td>\n",
       "      <td>0.82</td>\n",
       "      <td>Chicago White Stockings</td>\n",
       "      <td>Union Base-Ball Grounds</td>\n",
       "      <td>NaN</td>\n",
       "      <td>104</td>\n",
       "      <td>102</td>\n",
       "      <td>CHI</td>\n",
       "      <td>CH1</td>\n",
       "      <td>CH1</td>\n",
       "    </tr>\n",
       "  </tbody>\n",
       "</table>\n",
       "<p>2 rows × 48 columns</p>\n",
       "</div>"
      ],
      "text/plain": [
       "   yearID lgID teamID franchID divID  Rank   G  Ghome   W   L  ...  DP    FP  \\\n",
       "0    1871  NaN    BS1      BNA   NaN     3  31    NaN  20  10  ... NaN  0.83   \n",
       "1    1871  NaN    CH1      CNA   NaN     2  28    NaN  19   9  ... NaN  0.82   \n",
       "\n",
       "                      name                     park  attendance  BPF  PPF  \\\n",
       "0     Boston Red Stockings      South End Grounds I         NaN  103   98   \n",
       "1  Chicago White Stockings  Union Base-Ball Grounds         NaN  104  102   \n",
       "\n",
       "   teamIDBR  teamIDlahman45  teamIDretro  \n",
       "0       BOS             BS1          BS1  \n",
       "1       CHI             CH1          CH1  \n",
       "\n",
       "[2 rows x 48 columns]"
      ]
     },
     "execution_count": 65,
     "metadata": {},
     "output_type": "execute_result"
    }
   ],
   "source": [
    "baseball_team.head(2)"
   ]
  },
  {
   "cell_type": "code",
   "execution_count": 75,
   "metadata": {},
   "outputs": [],
   "source": [
    "#baseball_team.info()"
   ]
  },
  {
   "cell_type": "code",
   "execution_count": null,
   "metadata": {},
   "outputs": [],
   "source": []
  },
  {
   "cell_type": "code",
   "execution_count": null,
   "metadata": {},
   "outputs": [],
   "source": []
  },
  {
   "cell_type": "code",
   "execution_count": 76,
   "metadata": {},
   "outputs": [
    {
     "data": {
      "text/html": [
       "<div>\n",
       "<style scoped>\n",
       "    .dataframe tbody tr th:only-of-type {\n",
       "        vertical-align: middle;\n",
       "    }\n",
       "\n",
       "    .dataframe tbody tr th {\n",
       "        vertical-align: top;\n",
       "    }\n",
       "\n",
       "    .dataframe thead th {\n",
       "        text-align: right;\n",
       "    }\n",
       "</style>\n",
       "<table border=\"1\" class=\"dataframe\">\n",
       "  <thead>\n",
       "    <tr style=\"text-align: right;\">\n",
       "      <th></th>\n",
       "      <th>yearID</th>\n",
       "      <th>lgID</th>\n",
       "      <th>teamID</th>\n",
       "      <th>franchID</th>\n",
       "      <th>divID</th>\n",
       "      <th>Rank</th>\n",
       "      <th>G</th>\n",
       "      <th>Ghome</th>\n",
       "      <th>W</th>\n",
       "      <th>L</th>\n",
       "      <th>...</th>\n",
       "      <th>DP</th>\n",
       "      <th>FP</th>\n",
       "      <th>name</th>\n",
       "      <th>park</th>\n",
       "      <th>attendance</th>\n",
       "      <th>BPF</th>\n",
       "      <th>PPF</th>\n",
       "      <th>teamIDBR</th>\n",
       "      <th>teamIDlahman45</th>\n",
       "      <th>teamIDretro</th>\n",
       "    </tr>\n",
       "  </thead>\n",
       "  <tbody>\n",
       "    <tr>\n",
       "      <th>2181</th>\n",
       "      <td>1995</td>\n",
       "      <td>NL</td>\n",
       "      <td>ATL</td>\n",
       "      <td>ATL</td>\n",
       "      <td>E</td>\n",
       "      <td>1</td>\n",
       "      <td>144</td>\n",
       "      <td>72.0</td>\n",
       "      <td>90</td>\n",
       "      <td>54</td>\n",
       "      <td>...</td>\n",
       "      <td>113.0</td>\n",
       "      <td>0.98</td>\n",
       "      <td>Atlanta Braves</td>\n",
       "      <td>Atlanta-Fulton County Stadium</td>\n",
       "      <td>2561831.0</td>\n",
       "      <td>103</td>\n",
       "      <td>102</td>\n",
       "      <td>ATL</td>\n",
       "      <td>ATL</td>\n",
       "      <td>ATL</td>\n",
       "    </tr>\n",
       "    <tr>\n",
       "      <th>2182</th>\n",
       "      <td>1995</td>\n",
       "      <td>AL</td>\n",
       "      <td>BAL</td>\n",
       "      <td>BAL</td>\n",
       "      <td>E</td>\n",
       "      <td>3</td>\n",
       "      <td>144</td>\n",
       "      <td>72.0</td>\n",
       "      <td>71</td>\n",
       "      <td>73</td>\n",
       "      <td>...</td>\n",
       "      <td>141.0</td>\n",
       "      <td>0.98</td>\n",
       "      <td>Baltimore Orioles</td>\n",
       "      <td>Oriole Park at Camden Yards</td>\n",
       "      <td>3098475.0</td>\n",
       "      <td>102</td>\n",
       "      <td>101</td>\n",
       "      <td>BAL</td>\n",
       "      <td>BAL</td>\n",
       "      <td>BAL</td>\n",
       "    </tr>\n",
       "  </tbody>\n",
       "</table>\n",
       "<p>2 rows × 48 columns</p>\n",
       "</div>"
      ],
      "text/plain": [
       "      yearID lgID teamID franchID divID  Rank    G  Ghome   W   L  ...     DP  \\\n",
       "2181    1995   NL    ATL      ATL     E     1  144   72.0  90  54  ...  113.0   \n",
       "2182    1995   AL    BAL      BAL     E     3  144   72.0  71  73  ...  141.0   \n",
       "\n",
       "        FP               name                           park  attendance  BPF  \\\n",
       "2181  0.98     Atlanta Braves  Atlanta-Fulton County Stadium   2561831.0  103   \n",
       "2182  0.98  Baltimore Orioles    Oriole Park at Camden Yards   3098475.0  102   \n",
       "\n",
       "      PPF  teamIDBR  teamIDlahman45  teamIDretro  \n",
       "2181  102       ATL             ATL          ATL  \n",
       "2182  101       BAL             BAL          BAL  \n",
       "\n",
       "[2 rows x 48 columns]"
      ]
     },
     "execution_count": 76,
     "metadata": {},
     "output_type": "execute_result"
    }
   ],
   "source": [
    "baseball_team_95 = baseball_team.loc[baseball_team[\"yearID\"] >= 1995]\n",
    "baseball_team_95.head(2)"
   ]
  },
  {
   "cell_type": "code",
   "execution_count": 80,
   "metadata": {
    "scrolled": true
   },
   "outputs": [
    {
     "name": "stderr",
     "output_type": "stream",
     "text": [
      "<ipython-input-80-7cf1c7ad8dcb>:1: SettingWithCopyWarning: \n",
      "A value is trying to be set on a copy of a slice from a DataFrame.\n",
      "Try using .loc[row_indexer,col_indexer] = value instead\n",
      "\n",
      "See the caveats in the documentation: https://pandas.pydata.org/pandas-docs/stable/user_guide/indexing.html#returning-a-view-versus-a-copy\n",
      "  baseball_team_95['SB_per_game'] = baseball_team_95['SB'] / baseball_team_95['G']\n"
     ]
    }
   ],
   "source": [
    "baseball_team_95['SB_per_game'] = baseball_team_95['SB'] / baseball_team_95['G']"
   ]
  },
  {
   "cell_type": "code",
   "execution_count": 82,
   "metadata": {},
   "outputs": [
    {
     "data": {
      "text/plain": [
       "(array([ 19.,  87., 127., 145., 102.,  74.,  43.,  18.,   4.,   5.]),\n",
       " array([0.19135802, 0.30416667, 0.41697531, 0.52978395, 0.64259259,\n",
       "        0.75540123, 0.86820988, 0.98101852, 1.09382716, 1.2066358 ,\n",
       "        1.31944444]),\n",
       " <BarContainer object of 10 artists>)"
      ]
     },
     "execution_count": 82,
     "metadata": {},
     "output_type": "execute_result"
    },
    {
     "data": {
      "image/png": "[encoded data removed]",
      "text/plain": [
       "<Figure size 432x288 with 1 Axes>"
      ]
     },
     "metadata": {
      "needs_background": "light"
     },
     "output_type": "display_data"
    }
   ],
   "source": [
    "plt.hist(baseball_team_95['SB_per_game'])"
   ]
  },
  {
   "cell_type": "code",
   "execution_count": 104,
   "metadata": {},
   "outputs": [],
   "source": [
    "#bases stolen\n",
    "#baseball_team_95.SB.hist()\n",
    "#plt.xlabel(\"Frequency\")\n",
    "#plt.ylabel(\"Bases Stolen\")\n",
    "#plt.title(\"Bases stolen by team per year since 1995\")\n",
    "#plt.show()\n",
    "\n",
    "\n"
   ]
  },
  {
   "cell_type": "code",
   "execution_count": 102,
   "metadata": {
    "scrolled": true
   },
   "outputs": [],
   "source": [
    "#wins\n",
    "#baseball_team_95.W.hist()\n",
    "#plt.xlabel(\"Wins\")\n",
    "#plt.ylabel(\"Wins by team per year since 1995\")\n",
    "#plt.title(\"Frequency\")\n",
    "#plt.show()"
   ]
  },
  {
   "cell_type": "code",
   "execution_count": 103,
   "metadata": {},
   "outputs": [
    {
     "data": {
      "text/plain": [
       "(array([  1.,  13.,  32., 120., 131., 118., 127.,  71.,   9.,   2.]),\n",
       " array([ 43. ,  50.3,  57.6,  64.9,  72.2,  79.5,  86.8,  94.1, 101.4,\n",
       "        108.7, 116. ]),\n",
       " <BarContainer object of 10 artists>)"
      ]
     },
     "execution_count": 103,
     "metadata": {},
     "output_type": "execute_result"
    },
    {
     "data": {
      "image/png": "[encoded data removed]",
      "text/plain": [
       "<Figure size 432x288 with 1 Axes>"
      ]
     },
     "metadata": {
      "needs_background": "light"
     },
     "output_type": "display_data"
    }
   ],
   "source": [
    "plt.hist(baseball_team_95['W'])"
   ]
  },
  {
   "cell_type": "code",
   "execution_count": 105,
   "metadata": {
    "scrolled": true
   },
   "outputs": [],
   "source": [
    "# Earnings\n",
    "#baseball_team_95.ERA.hist()\n",
    "#plt.xlabel(\"ERA\")\n",
    "#plt.ylabel(\"Frequency\")\n",
    "#plt.title(\"Earned Run Average (ERA) stolen by each team per year since 1995\")\n",
    "#plt.show()"
   ]
  },
  {
   "cell_type": "code",
   "execution_count": 106,
   "metadata": {},
   "outputs": [
    {
     "data": {
      "text/plain": [
       "(array([ 16.,  56., 103., 156., 126., 100.,  47.,  16.,   3.,   1.]),\n",
       " array([2.94 , 3.284, 3.628, 3.972, 4.316, 4.66 , 5.004, 5.348, 5.692,\n",
       "        6.036, 6.38 ]),\n",
       " <BarContainer object of 10 artists>)"
      ]
     },
     "execution_count": 106,
     "metadata": {},
     "output_type": "execute_result"
    },
    {
     "data": {
      "image/png": "[encoded data removed]",
      "text/plain": [
       "<Figure size 432x288 with 1 Axes>"
      ]
     },
     "metadata": {
      "needs_background": "light"
     },
     "output_type": "display_data"
    }
   ],
   "source": [
    "plt.hist(baseball_team_95['ERA'])"
   ]
  },
  {
   "cell_type": "code",
   "execution_count": 85,
   "metadata": {},
   "outputs": [],
   "source": [
    "#baseball.corr()"
   ]
  },
  {
   "cell_type": "code",
   "execution_count": 107,
   "metadata": {
    "scrolled": true
   },
   "outputs": [
    {
     "name": "stdout",
     "output_type": "stream",
     "text": [
      "0.1603229006363417\n"
     ]
    }
   ],
   "source": [
    "y_ID_attend = baseball_team_95 ['yearID'].corr(baseball_team_95['attendance'])\n",
    "print (y_ID_attend)"
   ]
  },
  {
   "cell_type": "code",
   "execution_count": 108,
   "metadata": {},
   "outputs": [
    {
     "data": {
      "text/plain": [
       "1344345.530482977"
      ]
     },
     "execution_count": 108,
     "metadata": {},
     "output_type": "execute_result"
    }
   ],
   "source": [
    "avg = baseball_team['attendance'].mean()\n",
    "avg"
   ]
  },
  {
   "cell_type": "code",
   "execution_count": 109,
   "metadata": {},
   "outputs": [
    {
     "data": {
      "text/plain": [
       "1140347.5"
      ]
     },
     "execution_count": 109,
     "metadata": {},
     "output_type": "execute_result"
    }
   ],
   "source": [
    "med = baseball_team['attendance'].median()\n",
    "med"
   ]
  },
  {
   "cell_type": "code",
   "execution_count": 110,
   "metadata": {},
   "outputs": [
    {
     "data": {
      "image/png": "[encoded data removed]",
      "text/plain": [
       "<Figure size 432x288 with 1 Axes>"
      ]
     },
     "metadata": {
      "needs_background": "light"
     },
     "output_type": "display_data"
    }
   ],
   "source": [
    "plt.hist(baseball_team['attendance'])\n",
    "plt.show()"
   ]
  },
  {
   "cell_type": "code",
   "execution_count": 111,
   "metadata": {},
   "outputs": [
    {
     "data": {
      "image/png": "[encoded data removed]",
      "text/plain": [
       "<Figure size 432x288 with 1 Axes>"
      ]
     },
     "metadata": {
      "needs_background": "light"
     },
     "output_type": "display_data"
    }
   ],
   "source": [
    "sns.distplot(baseball_team[\"attendance\"])\n",
    "plt.show()"
   ]
  },
  {
   "cell_type": "markdown",
   "metadata": {},
   "source": [
    "#4"
   ]
  },
  {
   "cell_type": "code",
   "execution_count": 112,
   "metadata": {},
   "outputs": [],
   "source": [
    "choice = []\n",
    "for i in range(1,1000):\n",
    "    wins_baseball_team = baseball_team['W'].sample(n=100)\n",
    "    wins_aver = wins_baseball_team.mean()\n",
    "    choice.append(wins_aver)\n",
    "    \n",
    "    "
   ]
  },
  {
   "cell_type": "code",
   "execution_count": 113,
   "metadata": {},
   "outputs": [
    {
     "data": {
      "text/plain": [
       "<AxesSubplot:>"
      ]
     },
     "execution_count": 113,
     "metadata": {},
     "output_type": "execute_result"
    },
    {
     "data": {
      "image/png": "[encoded data removed]",
      "text/plain": [
       "<Figure size 432x288 with 1 Axes>"
      ]
     },
     "metadata": {
      "needs_background": "light"
     },
     "output_type": "display_data"
    }
   ],
   "source": [
    "chart = pd.DataFrame({'wins_baseball_team' : choice})\n",
    "chart.plot()"
   ]
  },
  {
   "cell_type": "code",
   "execution_count": 114,
   "metadata": {},
   "outputs": [],
   "source": [
    "choices = []\n",
    "for i in range(1,1000):\n",
    "    ERA_baseball_team = baseball_team['ERA'].sample(n=100)\n",
    "    ERA_aver = ERA_baseball_team.mean()\n",
    "    choices.append(ERA_aver)"
   ]
  },
  {
   "cell_type": "code",
   "execution_count": 115,
   "metadata": {},
   "outputs": [
    {
     "data": {
      "text/plain": [
       "<AxesSubplot:>"
      ]
     },
     "execution_count": 115,
     "metadata": {},
     "output_type": "execute_result"
    },
    {
     "data": {
      "image/png": "[encoded data removed]",
      "text/plain": [
       "<Figure size 432x288 with 1 Axes>"
      ]
     },
     "metadata": {
      "needs_background": "light"
     },
     "output_type": "display_data"
    }
   ],
   "source": [
    "charts = pd.DataFrame({'ERA' : choice})\n",
    "charts.plot()"
   ]
  },
  {
   "cell_type": "code",
   "execution_count": null,
   "metadata": {},
   "outputs": [],
   "source": []
  },
  {
   "cell_type": "code",
   "execution_count": null,
   "metadata": {},
   "outputs": [],
   "source": []
  },
  {
   "cell_type": "code",
   "execution_count": null,
   "metadata": {},
   "outputs": [],
   "source": []
  }
 ],
 "metadata": {
  "kernelspec": {
   "display_name": "Python 3",
   "language": "python",
   "name": "python3"
  },
  "language_info": {
   "codemirror_mode": {
    "name": "ipython",
    "version": 3
   },
   "file_extension": ".py",
   "mimetype": "text/x-python",
   "name": "python",
   "nbconvert_exporter": "python",
   "pygments_lexer": "ipython3",
   "version": "3.8.3"
  }
 },
 "nbformat": 4,
 "nbformat_minor": 4
}
