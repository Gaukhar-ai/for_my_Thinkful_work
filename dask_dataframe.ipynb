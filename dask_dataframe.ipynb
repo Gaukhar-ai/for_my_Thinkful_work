{
  "nbformat": 4,
  "nbformat_minor": 0,
  "metadata": {
    "kernelspec": {
      "display_name": "Python 3",
      "language": "python",
      "name": "python3"
    },
    "language_info": {
      "codemirror_mode": {
        "name": "ipython",
        "version": 3
      },
      "file_extension": ".py",
      "mimetype": "text/x-python",
      "name": "python",
      "nbconvert_exporter": "python",
      "pygments_lexer": "ipython3",
      "version": "3.7.1"
    },
    "latex_envs": {
      "LaTeX_envs_menu_present": true,
      "autoclose": false,
      "autocomplete": true,
      "bibliofile": "biblio.bib",
      "cite_by": "apalike",
      "current_citInitial": 1,
      "eqLabelWithNumbers": true,
      "eqNumInitial": 1,
      "hotkeys": {
        "equation": "Ctrl-E",
        "itemize": "Ctrl-I"
      },
      "labels_anchors": false,
      "latex_user_defs": false,
      "report_style_numbering": false,
      "user_envs_cfg": false
    },
    "varInspector": {
      "cols": {
        "lenName": 16,
        "lenType": 16,
        "lenVar": 40
      },
      "kernels_config": {
        "python": {
          "delete_cmd_postfix": "",
          "delete_cmd_prefix": "del ",
          "library": "var_list.py",
          "varRefreshCmd": "print(var_dic_list())"
        },
        "r": {
          "delete_cmd_postfix": ") ",
          "delete_cmd_prefix": "rm(",
          "library": "var_list.r",
          "varRefreshCmd": "cat(var_dic_list()) "
        }
      },
      "types_to_exclude": [
        "module",
        "function",
        "builtin_function_or_method",
        "instance",
        "_Feature"
      ],
      "window_display": false
    },
    "colab": {
      "name": "dask_dataframe.ipynb",
      "provenance": [],
      "include_colab_link": true
    }
  },
  "cells": [
    {
      "cell_type": "markdown",
      "metadata": {
        "id": "view-in-github",
        "colab_type": "text"
      },
      "source": [
        "<a href=\"https://colab.research.google.com/github/Gaukhar-ai/for_my_Thinkful_work/blob/master/dask_dataframe.ipynb\" target=\"_parent\"><img src=\"https://colab.research.google.com/assets/colab-badge.svg\" alt=\"Open In Colab\"/></a>"
      ]
    },
    {
      "cell_type": "markdown",
      "metadata": {
        "id": "zlHttPF_JpzI"
      },
      "source": [
        "# Solutions to checkpoint 3"
      ]
    },
    {
      "cell_type": "markdown",
      "metadata": {
        "id": "LUUfw5clJpzJ"
      },
      "source": [
        "In this assignment, you'll continue working with the [Credit Card Fraud Detection](https://www.kaggle.com/mlg-ulb/creditcardfraud/download) dataset from Kaggle. So, you should load the dataset before working on the following tasks.\n",
        "\n",
        "Please submit your solutions to the following tasks as a link to your jupyter notebook on Github."
      ]
    },
    {
      "cell_type": "code",
      "metadata": {
        "id": "hU3Tb4CDKI6A"
      },
      "source": [
        "#!pip install dask[dataframe] --upgrade"
      ],
      "execution_count": 1,
      "outputs": []
    },
    {
      "cell_type": "code",
      "metadata": {
        "id": "ebsvBNVuJ3YB",
        "outputId": "4e5ed2b1-7ab7-47a8-ad7d-f219968ffd6b",
        "colab": {
          "base_uri": "https://localhost:8080/"
        }
      },
      "source": [
        "#!pip install dask --upgrade\n",
        "#!pip install requests\n",
        "#!pip install argopy\n",
        "#! pip install aiohttp\n"
      ],
      "execution_count": 2,
      "outputs": [
        {
          "output_type": "stream",
          "text": [
            "Requirement already satisfied: aiohttp in /usr/local/lib/python3.6/dist-packages (3.7.2)\n",
            "Requirement already satisfied: typing-extensions>=3.6.5 in /usr/local/lib/python3.6/dist-packages (from aiohttp) (3.7.4.3)\n",
            "Requirement already satisfied: idna-ssl>=1.0; python_version < \"3.7\" in /usr/local/lib/python3.6/dist-packages (from aiohttp) (1.1.0)\n",
            "Requirement already satisfied: multidict<7.0,>=4.5 in /usr/local/lib/python3.6/dist-packages (from aiohttp) (5.0.0)\n",
            "Requirement already satisfied: async-timeout<4.0,>=3.0 in /usr/local/lib/python3.6/dist-packages (from aiohttp) (3.0.1)\n",
            "Requirement already satisfied: attrs>=17.3.0 in /usr/local/lib/python3.6/dist-packages (from aiohttp) (20.2.0)\n",
            "Requirement already satisfied: yarl<2.0,>=1.0 in /usr/local/lib/python3.6/dist-packages (from aiohttp) (1.6.2)\n",
            "Requirement already satisfied: chardet<4.0,>=2.0 in /usr/local/lib/python3.6/dist-packages (from aiohttp) (3.0.4)\n",
            "Requirement already satisfied: idna>=2.0 in /usr/local/lib/python3.6/dist-packages (from idna-ssl>=1.0; python_version < \"3.7\"->aiohttp) (2.10)\n"
          ],
          "name": "stdout"
        }
      ]
    },
    {
      "cell_type": "code",
      "metadata": {
        "id": "UCuCugImJpzJ"
      },
      "source": [
        "# Dataframes implement the Pandas API\n",
        "import dask.dataframe as dd\n",
        "import requests\n",
        "import argopy\n",
        "import re\n",
        "import pandas as pd\n",
        "\n",
        "df = pd.read_csv('https://www.kaggle.com/mlg-ulb/creditcardfraud/download')"
      ],
      "execution_count": null,
      "outputs": []
    },
    {
      "cell_type": "markdown",
      "metadata": {
        "id": "luzsdXs0JpzO"
      },
      "source": [
        "## 1. How many transactions do we have in total?"
      ]
    },
    {
      "cell_type": "code",
      "metadata": {
        "scrolled": true,
        "id": "VPg4tSeoJpzO"
      },
      "source": [
        "len(df)"
      ],
      "execution_count": null,
      "outputs": []
    },
    {
      "cell_type": "markdown",
      "metadata": {
        "id": "6SCgoT8GJpzS"
      },
      "source": [
        "We have 284807 number of transactions."
      ]
    },
    {
      "cell_type": "markdown",
      "metadata": {
        "id": "TvINYV6LJpzT"
      },
      "source": [
        "## 2. How many transactions are fraud and how many are not?"
      ]
    },
    {
      "cell_type": "code",
      "metadata": {
        "id": "4yfAf-yDJpzT"
      },
      "source": [
        "df.groupby(\"Class\")[\"Time\"].count().compute()"
      ],
      "execution_count": null,
      "outputs": []
    },
    {
      "cell_type": "markdown",
      "metadata": {
        "id": "pepWN2ooJpzW"
      },
      "source": [
        "We have only 492 fraud transactions. The rest is non-fraud."
      ]
    },
    {
      "cell_type": "markdown",
      "metadata": {
        "id": "l1QTQvx_JpzX"
      },
      "source": [
        "## 3. What is the maximum amount in fraud transactions?"
      ]
    },
    {
      "cell_type": "code",
      "metadata": {
        "id": "bufzGRVOJpzX"
      },
      "source": [
        "df[df.Class == 1][\"Amount\"].max().compute()"
      ],
      "execution_count": null,
      "outputs": []
    },
    {
      "cell_type": "markdown",
      "metadata": {
        "id": "-SaM9b94Jpza"
      },
      "source": [
        "The maximum fraud transaction amount is 2125.87 US dollars."
      ]
    }
  ]
}